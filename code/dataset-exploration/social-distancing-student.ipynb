{
 "cells": [
  {
   "cell_type": "code",
   "execution_count": 10,
   "metadata": {},
   "outputs": [],
   "source": [
    "from pyspark.sql import SparkSession\n",
    "import pyspark.sql.functions as F\n",
    "import pyspark.sql.types as T"
   ]
  },
  {
   "cell_type": "code",
   "execution_count": 11,
   "metadata": {
    "pycharm": {
     "name": "#%%\n"
    }
   },
   "outputs": [],
   "source": [
    "spark = (SparkSession.builder\n",
    "         .appName(\"social-distancing-student\")\n",
    "         .config('spark.jars.packages', 'org.neo4j:neo4j-connector-apache-spark_2.12:4.1.0_for_spark_3')\n",
    "         .config('spark.sql.legacy.timeParserPolicy', 'LEGACY')\n",
    "         .config(\"neo4j.url\", \"bolt://localhost:7687\")\n",
    "         .config(\"neo4j.authentication.type\", \"basic\")\n",
    "         .config(\"neo4j.authentication.basic.username\", \"neo4j\")\n",
    "         .config(\"neo4j.authentication.basic.password\", \"test\")\n",
    "         .getOrCreate())"
   ]
  },
  {
   "cell_type": "code",
   "execution_count": 22,
   "outputs": [],
   "source": [
    "def parse_entity(entity):\n",
    "    entity, keys = entity.split('.')\n",
    "    key, df_key = keys.split(':')\n",
    "    return entity, key, df_key\n",
    "\n",
    "def write_relations(df, relation, from_entity, to_entity):\n",
    "    from_entity, from_key, from_df_key = parse_entity(from_entity)\n",
    "    to_entity, to_key, to_df_key = parse_entity(to_entity)\n",
    "\n",
    "    return (\n",
    "        df.write.format(\"org.neo4j.spark.DataSource\")\n",
    "            .mode('overwrite')\n",
    "            .option(\"batch.size\", \"20\")\n",
    "            .option(\"transaction.retries\", \"16\")\n",
    "            .option(\"transaction.retry.timeout\", \"100\")\n",
    "            .option(\"relationship\", relation)\n",
    "            .option(\"relationship.save.strategy\", \"keys\")\n",
    "            .option(\"relationship.source.labels\", from_entity)\n",
    "            .option(\"relationship.source.save.mode\", \"match\")\n",
    "            .option(\"relationship.source.node.keys\", f\"{from_df_key}:{from_key}\")\n",
    "            .option(\"relationship.target.labels\", to_entity)\n",
    "            .option(\"relationship.target.save.mode\", \"match\")\n",
    "            .option(\"relationship.target.node.keys\", f\"{to_df_key}:{to_key}\")\n",
    "            .save()\n",
    "    )\n",
    "\n",
    "def write_nodes(df, label, key):\n",
    "    return (\n",
    "        df.write.format(\"org.neo4j.spark.DataSource\")\n",
    "            .mode('overwrite')\n",
    "            .option(\"labels\", label)\n",
    "            .option(\"node.keys\", key)\n",
    "            .option(\"schema.optimization.type\", \"NODE_CONSTRAINTS\")\n",
    "            .save()\n",
    "    )"
   ],
   "metadata": {
    "collapsed": false,
    "pycharm": {
     "name": "#%%\n"
    }
   }
  },
  {
   "cell_type": "code",
   "execution_count": 13,
   "metadata": {
    "pycharm": {
     "name": "#%%\n"
    }
   },
   "outputs": [
    {
     "name": "stderr",
     "output_type": "stream",
     "text": [
      "                                                                                \r"
     ]
    },
    {
     "data": {
      "text/plain": "[Row(created_at=datetime.datetime(2020, 9, 30, 22, 1, 2), entities=Row(hashtags=[], media=None, symbols=[], urls=[Row(display_url='twitter.com/i/web/status/1…', expanded_url='https://twitter.com/i/web/status/1311425852169744385', indices=[117, 140], url='https://t.co/EA6OO7cWR5')], user_mentions=[Row(id=2493701, id_str='2493701', indices=[0, 5], name='NU.nl', screen_name='NUnl')]), full_text='@NUnl Waarom niet de dove mens het mondkapje op en degene die spreekt geen monkapje. Als één van twee het maar op heeft en wel afstand houden. ik ben SH en heb erg last van mensen die te snel praten en te zacht. Wat doe ik hier aan. Gewoon maar vragen denk ik?', id_str='1311425852169744385', in_reply_to_status_id_str='1311352289928581120', in_reply_to_user_id_str='2493701', label_social_distancing='SUPPORTS', probabilities_social_distancing=\"{'SUPPORTS': 0.98213124, 'IRRELEVANT': 0.014853371, 'REJECTS': 0.0030453138}\", quoted_status_id_str='', sentiment=-0.6, text='@NUnl Waarom niet de dove mens het mondkapje op en degene die spreekt geen monkapje. Als één van twee het maar op h… https://t.co/EA6OO7cWR5', user=Row(followers_count=153, id_str='206319409', name='Mariët Grasso', screen_name='filakimou', verified=False))]"
     },
     "execution_count": 13,
     "metadata": {},
     "output_type": "execute_result"
    }
   ],
   "source": [
    "DATE_FORMAT = \"EEE MMM dd HH:mm:ss '+0000' yyyy\"\n",
    "\n",
    "df = (\n",
    "    spark.read.format('org.apache.spark.sql.json')\n",
    "        .load(\"data/social-distancing-student/social-distancing-student.json\")\n",
    "        .withColumn('created_at', F.to_timestamp(F.col('created_at'), 'EEE MMM dd HH:mm:ss \\'+0000\\' yyyy'))\n",
    ")\n",
    "df.head(1)"
   ]
  },
  {
   "cell_type": "code",
   "execution_count": 14,
   "metadata": {
    "pycharm": {
     "name": "#%%\n"
    }
   },
   "outputs": [],
   "source": [
    "users_tweet_df = df.select('user.name', 'user.screen_name', 'user.id_str')\n",
    "user_mentions_df = (df\n",
    "                    .select(F.explode('entities.user_mentions').alias('user'))\n",
    "                    .select('user.name', 'user.screen_name', 'user.id_str'))\n",
    "\n",
    "users_df = users_tweet_df.union(user_mentions_df).dropDuplicates(['id_str'])"
   ]
  },
  {
   "cell_type": "code",
   "execution_count": 15,
   "metadata": {
    "pycharm": {
     "name": "#%%\n"
    }
   },
   "outputs": [
    {
     "name": "stderr",
     "output_type": "stream",
     "text": [
      "                                                                                \r"
     ]
    },
    {
     "data": {
      "text/plain": "[Row(name='☾fey⁷ JIMIN DAAY', screen_name='cherrykissjoon', id_str='1001361715907514368'),\n Row(name='Jarno ▪︎ Merom', screen_name='RommeJarno', id_str='1006144373984251904'),\n Row(name='Jeroen Pepers 🇪🇺', screen_name='JeroenPepers', id_str='101008330'),\n Row(name='Test1', screen_name='Test137352311', id_str='1012078301299531777'),\n Row(name='A complicated mess 🙃', screen_name='TheJakNene', id_str='1030617542')]"
     },
     "execution_count": 15,
     "metadata": {},
     "output_type": "execute_result"
    }
   ],
   "source": [
    "write_nodes(users_df, \":Twitter:User\", \"id_str\")\n",
    "users_df.head(5)"
   ]
  },
  {
   "cell_type": "code",
   "execution_count": 16,
   "outputs": [],
   "source": [
    "hashtags_df = (df\n",
    "    .select(F.explode('entities.hashtags').alias('hashtag'))\n",
    "    .select(\n",
    "        F.col('hashtag.text').alias('id_str'),\n",
    "        F.col('hashtag.text').alias('name')\n",
    "    )\n",
    "   .dropDuplicates(['id_str'])\n",
    ")"
   ],
   "metadata": {
    "collapsed": false,
    "pycharm": {
     "name": "#%%\n"
    }
   }
  },
  {
   "cell_type": "code",
   "execution_count": 17,
   "outputs": [
    {
     "name": "stderr",
     "output_type": "stream",
     "text": [
      "                                                                                \r"
     ]
    },
    {
     "data": {
      "text/plain": "[Row(id_str='Triviant', name='Triviant'),\n Row(id_str='Twente', name='Twente'),\n Row(id_str='creativity', name='creativity'),\n Row(id_str='herfstvakantie', name='herfstvakantie'),\n Row(id_str='input', name='input')]"
     },
     "execution_count": 17,
     "metadata": {},
     "output_type": "execute_result"
    }
   ],
   "source": [
    "write_nodes(hashtags_df, \":Twitter:Hashtag\", \"id_str\")\n",
    "hashtags_df.head(5)"
   ],
   "metadata": {
    "collapsed": false,
    "pycharm": {
     "name": "#%%\n"
    }
   }
  },
  {
   "cell_type": "code",
   "execution_count": 18,
   "metadata": {
    "pycharm": {
     "name": "#%%\n"
    }
   },
   "outputs": [],
   "source": [
    "tweets_df = df.select(\n",
    "    'id_str',\n",
    "    'text',\n",
    "    'label_social_distancing',\n",
    "    'created_at'\n",
    ")"
   ]
  },
  {
   "cell_type": "code",
   "execution_count": 19,
   "metadata": {
    "pycharm": {
     "name": "#%%\n"
    }
   },
   "outputs": [
    {
     "name": "stderr",
     "output_type": "stream",
     "text": [
      "                                                                                \r"
     ]
    },
    {
     "data": {
      "text/plain": "[Row(id_str='1311425852169744385', text='@NUnl Waarom niet de dove mens het mondkapje op en degene die spreekt geen monkapje. Als één van twee het maar op h… https://t.co/EA6OO7cWR5', label_social_distancing='SUPPORTS', created_at=datetime.datetime(2020, 9, 30, 22, 1, 2)),\n Row(id_str='1311426330488180736', text='hoe meer werklozen er komen. Hoe meer bedrijven kapot gaan, en zo kan ik nog uren doorgaan. \\n\\nBuiten dit om, ik sna… https://t.co/8LGwaSPock', label_social_distancing='SUPPORTS', created_at=datetime.datetime(2020, 9, 30, 22, 2, 56)),\n Row(id_str='1311426383906844672', text='RT @Rijksoverheid: Dringend advies: draag vanaf vandaag een niet-medisch mondkapje in publieke binnenruimtes zoals winkels, musea en benzin…', label_social_distancing='SUPPORTS', created_at=datetime.datetime(2020, 9, 30, 22, 3, 9)),\n Row(id_str='1311426584893624322', text='RT @natassavass: George Soros in de bocht! Pompt even nog een keer 1,5M in de race voor een nieuwe OvJ in Los Angeles. Uiteraard voor een D…', label_social_distancing='SUPPORTS', created_at=datetime.datetime(2020, 9, 30, 22, 3, 57)),\n Row(id_str='1311426630020202498', text='RT @Zuidplas: Dringend advies: draag vanaf vandaag een niet-medisch mondkapje in publieke binnenruimtes zoals winkels, musea en benzinestat…', label_social_distancing='SUPPORTS', created_at=datetime.datetime(2020, 9, 30, 22, 4, 8))]"
     },
     "execution_count": 19,
     "metadata": {},
     "output_type": "execute_result"
    }
   ],
   "source": [
    "write_nodes(tweets_df, \":Twitter:Tweet\", \"id_str\")\n",
    "tweets_df.head(5)"
   ]
  },
  {
   "cell_type": "code",
   "execution_count": 20,
   "metadata": {
    "pycharm": {
     "name": "#%%\n"
    }
   },
   "outputs": [],
   "source": [
    "tweeted_ref_df = df.select(\n",
    "    F.col('user.id_str').alias('user_id'),\n",
    "    F.col('id_str').alias('tweet_id'),\n",
    "    F.col('created_at').alias('created_at'),\n",
    ").filter(\n",
    "    F.col('user_id').isNotNull() &\n",
    "    F.col('tweet_id').isNotNull()\n",
    ")"
   ]
  },
  {
   "cell_type": "code",
   "execution_count": 23,
   "metadata": {
    "pycharm": {
     "name": "#%%\n"
    }
   },
   "outputs": [
    {
     "name": "stderr",
     "output_type": "stream",
     "text": [
      "                                                                                \r"
     ]
    },
    {
     "data": {
      "text/plain": "[Row(user_id='206319409', tweet_id='1311425852169744385', created_at=datetime.datetime(2020, 9, 30, 22, 1, 2)),\n Row(user_id='2898332572', tweet_id='1311426330488180736', created_at=datetime.datetime(2020, 9, 30, 22, 2, 56)),\n Row(user_id='1353842360', tweet_id='1311426383906844672', created_at=datetime.datetime(2020, 9, 30, 22, 3, 9)),\n Row(user_id='1092080469599023105', tweet_id='1311426584893624322', created_at=datetime.datetime(2020, 9, 30, 22, 3, 57)),\n Row(user_id='369453053', tweet_id='1311426630020202498', created_at=datetime.datetime(2020, 9, 30, 22, 4, 8))]"
     },
     "execution_count": 23,
     "metadata": {},
     "output_type": "execute_result"
    }
   ],
   "source": [
    "write_relations(tweeted_ref_df, \"TWEETED\", \":Twitter:User.id_str:user_id\", \":Twitter:Tweet.id_str:tweet_id\")\n",
    "tweeted_ref_df.head(5)"
   ]
  },
  {
   "cell_type": "code",
   "execution_count": 24,
   "metadata": {
    "pycharm": {
     "name": "#%%\n"
    }
   },
   "outputs": [],
   "source": [
    "reply_ref_df = df.select(\n",
    "    F.col('in_reply_to_user_id_str').alias('user_id'),\n",
    "    F.col('id_str').alias('tweet_id'),\n",
    "    F.col('created_at').alias('created_at'),\n",
    ").filter(\n",
    "    F.col('user_id').isNotNull() &\n",
    "    F.col('tweet_id').isNotNull()\n",
    ")"
   ]
  },
  {
   "cell_type": "code",
   "execution_count": 26,
   "metadata": {
    "pycharm": {
     "name": "#%%\n"
    }
   },
   "outputs": [
    {
     "name": "stderr",
     "output_type": "stream",
     "text": [
      "                                                                                \r"
     ]
    },
    {
     "data": {
      "text/plain": "[Row(user_id='2493701', tweet_id='1311425852169744385', created_at=datetime.datetime(2020, 9, 30, 22, 1, 2)),\n Row(user_id='2898332572', tweet_id='1311426330488180736', created_at=datetime.datetime(2020, 9, 30, 22, 2, 56)),\n Row(user_id='15200788', tweet_id='1311427312328609797', created_at=datetime.datetime(2020, 9, 30, 22, 6, 51)),\n Row(user_id='1180949770598322176', tweet_id='1311428477023903744', created_at=datetime.datetime(2020, 9, 30, 22, 11, 28)),\n Row(user_id='236157669', tweet_id='1311428764589584384', created_at=datetime.datetime(2020, 9, 30, 22, 12, 37))]"
     },
     "execution_count": 26,
     "metadata": {},
     "output_type": "execute_result"
    }
   ],
   "source": [
    "write_relations(reply_ref_df, \"REPLY_TO\", \":Twitter:Tweet.id_str:tweet_id\", \":Twitter:User.id_str:user_id\")\n",
    "reply_ref_df.head(5)"
   ]
  },
  {
   "cell_type": "code",
   "execution_count": 27,
   "outputs": [],
   "source": [
    "reply_tweet_df = df.select(\n",
    "    F.col('in_reply_to_status_id_str').alias('original_tweet_id'),\n",
    "    F.col('id_str').alias('tweet_id'),\n",
    "    F.col('created_at').alias('created_at'),\n",
    ").filter(\n",
    "    F.col('original_tweet_id').isNotNull() &\n",
    "    F.col('tweet_id').isNotNull()\n",
    ")"
   ],
   "metadata": {
    "collapsed": false,
    "pycharm": {
     "name": "#%%\n"
    }
   }
  },
  {
   "cell_type": "code",
   "execution_count": 28,
   "outputs": [
    {
     "name": "stderr",
     "output_type": "stream",
     "text": [
      "                                                                                \r"
     ]
    },
    {
     "data": {
      "text/plain": "[Row(user_id='2493701', tweet_id='1311425852169744385', created_at=datetime.datetime(2020, 9, 30, 22, 1, 2)),\n Row(user_id='2898332572', tweet_id='1311426330488180736', created_at=datetime.datetime(2020, 9, 30, 22, 2, 56)),\n Row(user_id='15200788', tweet_id='1311427312328609797', created_at=datetime.datetime(2020, 9, 30, 22, 6, 51)),\n Row(user_id='1180949770598322176', tweet_id='1311428477023903744', created_at=datetime.datetime(2020, 9, 30, 22, 11, 28)),\n Row(user_id='236157669', tweet_id='1311428764589584384', created_at=datetime.datetime(2020, 9, 30, 22, 12, 37))]"
     },
     "execution_count": 28,
     "metadata": {},
     "output_type": "execute_result"
    }
   ],
   "source": [
    "write_relations(reply_tweet_df, \"REPLY_TO\", \":Twitter:Tweet.id_str:tweet_id\", \":Twitter:Tweet.id_str:original_tweet_id\")\n",
    "reply_ref_df.head(5)"
   ],
   "metadata": {
    "collapsed": false,
    "pycharm": {
     "name": "#%%\n"
    }
   }
  },
  {
   "cell_type": "code",
   "execution_count": 29,
   "outputs": [],
   "source": [
    "quote_tweet_df = df.select(\n",
    "    F.col('quoted_status_id_str').alias('quoted_tweet_id'),\n",
    "    F.col('id_str').alias('tweet_id'),\n",
    "    F.col('created_at').alias('created_at'),\n",
    ").filter(\n",
    "    F.col('quoted_tweet_id').isNotNull() &\n",
    "    F.col('tweet_id').isNotNull()\n",
    ")"
   ],
   "metadata": {
    "collapsed": false,
    "pycharm": {
     "name": "#%%\n"
    }
   }
  },
  {
   "cell_type": "code",
   "execution_count": 30,
   "outputs": [
    {
     "name": "stderr",
     "output_type": "stream",
     "text": [
      "                                                                                \r"
     ]
    },
    {
     "data": {
      "text/plain": "[Row(quoted_tweet_id='', tweet_id='1311425852169744385', created_at=datetime.datetime(2020, 9, 30, 22, 1, 2)),\n Row(quoted_tweet_id='', tweet_id='1311426330488180736', created_at=datetime.datetime(2020, 9, 30, 22, 2, 56)),\n Row(quoted_tweet_id='', tweet_id='1311426383906844672', created_at=datetime.datetime(2020, 9, 30, 22, 3, 9)),\n Row(quoted_tweet_id='', tweet_id='1311426584893624322', created_at=datetime.datetime(2020, 9, 30, 22, 3, 57)),\n Row(quoted_tweet_id='', tweet_id='1311426630020202498', created_at=datetime.datetime(2020, 9, 30, 22, 4, 8))]"
     },
     "execution_count": 30,
     "metadata": {},
     "output_type": "execute_result"
    }
   ],
   "source": [
    "write_relations(quote_tweet_df, \"QUOTED\", \":Twitter:Tweet.id_str:tweet_id\", \":Twitter:Tweet.id_str:quoted_tweet_id\")\n",
    "quote_tweet_df.head(5)"
   ],
   "metadata": {
    "collapsed": false,
    "pycharm": {
     "name": "#%%\n"
    }
   }
  },
  {
   "cell_type": "code",
   "execution_count": 31,
   "metadata": {
    "pycharm": {
     "name": "#%%\n"
    }
   },
   "outputs": [],
   "source": [
    "mention_user_ref_df = (df.select(\n",
    "    F.col('id_str').alias('tweet_id'),\n",
    "    F.explode('entities.user_mentions.id_str').alias('user_id'),\n",
    "    F.col('created_at').alias('created_at'),\n",
    "))"
   ]
  },
  {
   "cell_type": "code",
   "execution_count": 32,
   "metadata": {
    "pycharm": {
     "name": "#%%\n"
    }
   },
   "outputs": [
    {
     "name": "stderr",
     "output_type": "stream",
     "text": [
      "                                                                                \r"
     ]
    },
    {
     "data": {
      "text/plain": "[Row(tweet_id='1311425852169744385', user_id='2493701', created_at=datetime.datetime(2020, 9, 30, 22, 1, 2)),\n Row(tweet_id='1311426383906844672', user_id='15595333', created_at=datetime.datetime(2020, 9, 30, 22, 3, 9)),\n Row(tweet_id='1311426584893624322', user_id='1160220112789676032', created_at=datetime.datetime(2020, 9, 30, 22, 3, 57)),\n Row(tweet_id='1311426630020202498', user_id='87552781', created_at=datetime.datetime(2020, 9, 30, 22, 4, 8)),\n Row(tweet_id='1311426978390716417', user_id='223792086', created_at=datetime.datetime(2020, 9, 30, 22, 5, 31))]"
     },
     "execution_count": 32,
     "metadata": {},
     "output_type": "execute_result"
    }
   ],
   "source": [
    "write_relations(mention_user_ref_df, \"MENTIONED\", \":Twitter:Tweet.id_str:tweet_id\", \":Twitter:User.id_str:user_id\")\n",
    "mention_user_ref_df.head(5)"
   ]
  },
  {
   "cell_type": "code",
   "execution_count": 33,
   "outputs": [],
   "source": [
    "hashtag_mention_df = (df.select(\n",
    "    F.col('id_str').alias('tweet_id'),\n",
    "    F.explode('entities.hashtags.text').alias('hashtag_id'),\n",
    "    F.col('created_at').alias('created_at'),\n",
    "))"
   ],
   "metadata": {
    "collapsed": false,
    "pycharm": {
     "name": "#%%\n"
    }
   }
  },
  {
   "cell_type": "code",
   "execution_count": 34,
   "outputs": [
    {
     "name": "stderr",
     "output_type": "stream",
     "text": [
      "                                                                                \r"
     ]
    },
    {
     "data": {
      "text/plain": "[Row(tweet_id='1311433312867622913', hashtag_id='inclusiefsporten', created_at=datetime.datetime(2020, 9, 30, 22, 30, 41)),\n Row(tweet_id='1311433495038889984', hashtag_id='inclusiefsporten', created_at=datetime.datetime(2020, 9, 30, 22, 31, 25)),\n Row(tweet_id='1311434772665847809', hashtag_id='mondkapjes', created_at=datetime.datetime(2020, 9, 30, 22, 36, 29)),\n Row(tweet_id='1311434772665847809', hashtag_id='schimmel', created_at=datetime.datetime(2020, 9, 30, 22, 36, 29)),\n Row(tweet_id='1311434772665847809', hashtag_id='infectie', created_at=datetime.datetime(2020, 9, 30, 22, 36, 29))]"
     },
     "execution_count": 34,
     "metadata": {},
     "output_type": "execute_result"
    }
   ],
   "source": [
    "write_relations(hashtag_mention_df, \"MENTIONED\", \":Twitter:Tweet.id_str:tweet_id\", \":Twitter:Hashtag.id_str:hashtag_id\")\n",
    "hashtag_mention_df.head(5)"
   ],
   "metadata": {
    "collapsed": false,
    "pycharm": {
     "name": "#%%\n"
    }
   }
  },
  {
   "cell_type": "code",
   "execution_count": 35,
   "metadata": {
    "pycharm": {
     "name": "#%%\n"
    }
   },
   "outputs": [],
   "source": [
    "df_user_ids = users_df.select('id_str')\n",
    "\n",
    "df_followers = (\n",
    "    spark.read.text(\"data/social-distancing-student/followers\", wholetext=False, pathGlobFilter='*.txt')\n",
    "        .select(\n",
    "            F.regexp_extract(F.input_file_name(), r'([0-9]+)%20([A-z0-9%]+).txt$', 1).alias('user_id'),\n",
    "            F.col('value').alias('follower_id'),\n",
    "        )\n",
    ")\n",
    "\n",
    "df_followers = df_followers\\\n",
    "    .join(df_user_ids.alias('a'), F.col('follower_id') == F.col('a.id_str'), 'inner') \\\n",
    "    .join(df_user_ids.alias('b'), F.col('user_id') == F.col('b.id_str'), 'inner') \\\n",
    "    .select('user_id', 'follower_id')"
   ]
  },
  {
   "cell_type": "code",
   "execution_count": 36,
   "outputs": [
    {
     "name": "stderr",
     "output_type": "stream",
     "text": [
      "                                                                                \r"
     ]
    },
    {
     "data": {
      "text/plain": "[Row(user_id='56377143', follower_id='3055340368'),\n Row(user_id='56377143', follower_id='62783041'),\n Row(user_id='56377143', follower_id='409104261'),\n Row(user_id='56377143', follower_id='374513273'),\n Row(user_id='56377143', follower_id='146872603')]"
     },
     "execution_count": 36,
     "metadata": {},
     "output_type": "execute_result"
    }
   ],
   "source": [
    "write_relations(df_followers, \"FOLLOWS\", \":Twitter:User.id_str:follower_id\", \":Twitter:User.id_str:user_id\")\n",
    "df_followers.head(5)"
   ],
   "metadata": {
    "collapsed": false,
    "pycharm": {
     "name": "#%%\n"
    }
   }
  },
  {
   "cell_type": "code",
   "execution_count": null,
   "metadata": {
    "pycharm": {
     "name": "#%%\n"
    }
   },
   "outputs": [],
   "source": []
  }
 ],
 "metadata": {
  "kernelspec": {
   "display_name": "Python 3 (ipykernel)",
   "language": "python",
   "name": "python3"
  },
  "language_info": {
   "codemirror_mode": {
    "name": "ipython",
    "version": 3
   },
   "file_extension": ".py",
   "mimetype": "text/x-python",
   "name": "python",
   "nbconvert_exporter": "python",
   "pygments_lexer": "ipython3",
   "version": "3.9.7"
  }
 },
 "nbformat": 4,
 "nbformat_minor": 1
}