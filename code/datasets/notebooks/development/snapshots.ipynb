{
 "cells": [
  {
   "cell_type": "code",
   "execution_count": 1,
   "metadata": {
    "collapsed": true
   },
   "outputs": [],
   "source": [
    "%load_ext autoreload\n",
    "%autoreload 2"
   ]
  },
  {
   "cell_type": "code",
   "execution_count": 2,
   "outputs": [],
   "source": [
    "import pandas as pd\n",
    "import matplotlib.pyplot as plt\n",
    "import seaborn as sns\n",
    "import numpy as np\n",
    "import networkx as nx"
   ],
   "metadata": {
    "collapsed": false,
    "pycharm": {
     "name": "#%%\n"
    }
   }
  },
  {
   "cell_type": "code",
   "execution_count": 3,
   "outputs": [],
   "source": [
    "from shared.constants import DatasetPath\n",
    "from datasets.schema import DatasetSchema\n",
    "from datasets.loading import load_igraph, igraph_to_nx\n",
    "\n",
    "from datasets.visualization import plot_explore_dual_histogram, show_top_k_nodes, show_top_k_stacked_nodes"
   ],
   "metadata": {
    "collapsed": false,
    "pycharm": {
     "name": "#%%\n"
    }
   }
  },
  {
   "cell_type": "code",
   "execution_count": 111,
   "outputs": [],
   "source": [
    "DATASET = DatasetPath('star-wars')\n",
    "schema = DatasetSchema.load_schema(DATASET.name)\n",
    "G = load_igraph(schema, unix_timestamp=True)"
   ],
   "metadata": {
    "collapsed": false,
    "pycharm": {
     "name": "#%%\n"
    }
   }
  },
  {
   "cell_type": "code",
   "execution_count": 112,
   "outputs": [],
   "source": [
    "G.vs['gid'] = range(G.vcount())\n",
    "G.es['gid'] = range(G.ecount())"
   ],
   "metadata": {
    "collapsed": false,
    "pycharm": {
     "name": "#%%\n"
    }
   }
  },
  {
   "cell_type": "code",
   "execution_count": 113,
   "outputs": [],
   "source": [
    "if schema.is_node_temporal():\n",
    "    timestamps = pd.Series(G.vs['timestamp'])\n",
    "    G.vs['tstart'] = timestamps.fillna(np.NINF).values\n",
    "    G.vs['tend'] = timestamps.fillna(np.PINF).values\n",
    "\n",
    "if schema.is_edge_temporal():\n",
    "    timestamps = pd.Series(G.es['timestamp'])\n",
    "    G.es['tstart'] = timestamps.fillna(np.NINF)\n",
    "    G.es['tend'] = timestamps.fillna(np.PINF)"
   ],
   "metadata": {
    "collapsed": false,
    "pycharm": {
     "name": "#%%\n"
    }
   }
  },
  {
   "cell_type": "code",
   "execution_count": 114,
   "outputs": [],
   "source": [
    "timestamp_counts = None\n",
    "if schema.is_node_temporal():\n",
    "    counts = pd.Series(G.vs['tstart']).value_counts().add(pd.Series(G.vs['tend']).value_counts())\n",
    "    timestamp_counts = counts if timestamp_counts is None else timestamp_counts.add(counts)\n",
    "elif schema.is_edge_temporal():\n",
    "    counts = pd.Series(G.es['tstart']).value_counts().add(pd.Series(G.es['tend']).value_counts())\n",
    "    timestamp_counts = counts if timestamp_counts is None else timestamp_counts.add(counts)\n",
    "\n",
    "if np.NINF in timestamp_counts.index:\n",
    "    timestamp_counts.drop(np.NINF, inplace=True)\n",
    "if np.PINF in timestamp_counts.index:\n",
    "    timestamp_counts.drop(np.PINF, inplace=True)"
   ],
   "metadata": {
    "collapsed": false,
    "pycharm": {
     "name": "#%%\n"
    }
   }
  },
  {
   "cell_type": "code",
   "execution_count": 115,
   "outputs": [
    {
     "data": {
      "text/plain": "<AxesSubplot:>"
     },
     "execution_count": 115,
     "metadata": {},
     "output_type": "execute_result"
    },
    {
     "data": {
      "text/plain": "<Figure size 432x288 with 1 Axes>",
      "image/png": "[encoded data removed]"
     },
     "metadata": {
      "needs_background": "light"
     },
     "output_type": "display_data"
    }
   ],
   "source": [
    "timestamp_counts.plot.bar()"
   ],
   "metadata": {
    "collapsed": false,
    "pycharm": {
     "name": "#%%\n"
    }
   }
  },
  {
   "cell_type": "code",
   "execution_count": 116,
   "outputs": [],
   "source": [
    "N_SNAPSHOTS = 7"
   ],
   "metadata": {
    "collapsed": false,
    "pycharm": {
     "name": "#%%\n"
    }
   }
  },
  {
   "cell_type": "code",
   "execution_count": 117,
   "outputs": [],
   "source": [
    "timestamp_min = timestamp_counts.index.min()\n",
    "timestamp_max = timestamp_counts.index.max()"
   ],
   "metadata": {
    "collapsed": false,
    "pycharm": {
     "name": "#%%\n"
    }
   }
  },
  {
   "cell_type": "code",
   "execution_count": 118,
   "outputs": [
    {
     "data": {
      "text/plain": "[(1.0, 1.8571428571428572),\n (1.8571428571428572, 2.7142857142857144),\n (2.7142857142857144, 3.571428571428571),\n (3.571428571428571, 4.428571428571429),\n (4.428571428571429, 5.285714285714286),\n (5.285714285714286, 6.142857142857142),\n (6.142857142857142, 7.0)]"
     },
     "execution_count": 118,
     "metadata": {},
     "output_type": "execute_result"
    }
   ],
   "source": [
    "snapshot_ranges = list(zip(\n",
    "    np.linspace(timestamp_min, timestamp_max, N_SNAPSHOTS + 1)[:-1],\n",
    "    np.linspace(timestamp_min, timestamp_max, N_SNAPSHOTS + 1)[1:]\n",
    "))\n",
    "snapshot_ranges"
   ],
   "metadata": {
    "collapsed": false,
    "pycharm": {
     "name": "#%%\n"
    }
   }
  },
  {
   "cell_type": "code",
   "execution_count": 122,
   "outputs": [],
   "source": [
    "snapshot_i = 0\n",
    "snapshot_start, snapshot_end = snapshot_ranges[snapshot_i]"
   ],
   "metadata": {
    "collapsed": false,
    "pycharm": {
     "name": "#%%\n"
    }
   }
  },
  {
   "cell_type": "code",
   "execution_count": 123,
   "outputs": [],
   "source": [
    "nodes = G.vs.select(tstart_le=snapshot_end, tend_ge=snapshot_start) if schema.is_node_temporal() else G.vs\n",
    "edges = G.es.select(tstart_le=snapshot_end, tend_ge=snapshot_start) if schema.is_edge_temporal() else G.es"
   ],
   "metadata": {
    "collapsed": false,
    "pycharm": {
     "name": "#%%\n"
    }
   }
  },
  {
   "cell_type": "code",
   "execution_count": 126,
   "outputs": [],
   "source": [
    "G_snapshot = G.induced_subgraph(nodes).subgraph_edges(edges)"
   ],
   "metadata": {
    "collapsed": false,
    "pycharm": {
     "name": "#%%\n"
    }
   }
  },
  {
   "cell_type": "code",
   "execution_count": 130,
   "outputs": [
    {
     "data": {
      "text/plain": "[(1, 27),\n (12, 36),\n (12, 26),\n (10, 27),\n (6, 25),\n (12, 23),\n (7, 16),\n (3, 7),\n (3, 13),\n (7, 21),\n (3, 18),\n (5, 33),\n (3, 15),\n (10, 29),\n (10, 16),\n (9, 17),\n (9, 10),\n (6, 21),\n (12, 19),\n (3, 6),\n (2, 9),\n (6, 8),\n (5, 29),\n (3, 17),\n (10, 12),\n (12, 13),\n (18, 24),\n (9, 29),\n (12, 29),\n (17, 26),\n (22, 23),\n (5, 12),\n (8, 11),\n (10, 26),\n (5, 21),\n (28, 35),\n (2, 21),\n (1, 19),\n (10, 34),\n (3, 21),\n (3, 31),\n (1, 9),\n (9, 24),\n (9, 34),\n (9, 31),\n (18, 25),\n (9, 26),\n (21, 31),\n (10, 13),\n (12, 14),\n (16, 21),\n (15, 21),\n (12, 17),\n (12, 15),\n (15, 16),\n (8, 18),\n (5, 36),\n (12, 27),\n (2, 10),\n (2, 3),\n (12, 21),\n (2, 12),\n (10, 33),\n (10, 36),\n (1, 34),\n (3, 29),\n (6, 35),\n (10, 35),\n (10, 18),\n (17, 21),\n (22, 26),\n (9, 19),\n (0, 5),\n (0, 3),\n (10, 19),\n (1, 10),\n (10, 14),\n (21, 25),\n (11, 18),\n (6, 17),\n (9, 12),\n (5, 10),\n (9, 21),\n (10, 21),\n (4, 18),\n (6, 31),\n (10, 17),\n (6, 11),\n (21, 33),\n (0, 36),\n (10, 24),\n (14, 33),\n (12, 33),\n (1, 12),\n (19, 27),\n (17, 31),\n (19, 34),\n (21, 29),\n (10, 31),\n (0, 12),\n (0, 10),\n (2, 17),\n (3, 10),\n (20, 24),\n (3, 9),\n (6, 18),\n (23, 26),\n (27, 34),\n (12, 16),\n (8, 25),\n (6, 10),\n (3, 12),\n (18, 31),\n (10, 15),\n (3, 16),\n (4, 37),\n (12, 34),\n (21, 26),\n (15, 29),\n (18, 37),\n (3, 36),\n (4, 24),\n (11, 37),\n (21, 35),\n (6, 28),\n (21, 32),\n (3, 5),\n (12, 22),\n (16, 29),\n (1, 27),\n (12, 36),\n (12, 26),\n (10, 27),\n (6, 25),\n (12, 23),\n (7, 16),\n (3, 7),\n (3, 13),\n (7, 21),\n (3, 18),\n (5, 33),\n (3, 15),\n (10, 29),\n (10, 16),\n (9, 17),\n (9, 10),\n (6, 21),\n (12, 19),\n (3, 6),\n (2, 9),\n (6, 8),\n (5, 29),\n (3, 17),\n (10, 12),\n (12, 13),\n (18, 24),\n (9, 29),\n (12, 29),\n (17, 26),\n (22, 23),\n (5, 12),\n (8, 11),\n (10, 26),\n (5, 21),\n (28, 35),\n (2, 21),\n (1, 19),\n (10, 34),\n (3, 21),\n (3, 31),\n (1, 9),\n (9, 24),\n (9, 34),\n (9, 31),\n (18, 25),\n (9, 26),\n (21, 31),\n (10, 13),\n (12, 14),\n (16, 21),\n (15, 21),\n (12, 17),\n (12, 15),\n (15, 16),\n (8, 18),\n (5, 36),\n (12, 27),\n (2, 10),\n (2, 3),\n (12, 21),\n (2, 12),\n (10, 33),\n (10, 36),\n (1, 34),\n (3, 29),\n (6, 35),\n (10, 35),\n (10, 18),\n (17, 21),\n (22, 26),\n (9, 19),\n (0, 5),\n (0, 3),\n (10, 19),\n (1, 10),\n (10, 14),\n (21, 25),\n (11, 18),\n (6, 17),\n (9, 12),\n (5, 10),\n (9, 21),\n (10, 21),\n (4, 18),\n (6, 31),\n (10, 17),\n (6, 11),\n (21, 33),\n (0, 36),\n (10, 24),\n (14, 33),\n (12, 33),\n (1, 12),\n (19, 27),\n (17, 31),\n (19, 34),\n (21, 29),\n (10, 31),\n (0, 12),\n (0, 10),\n (2, 17),\n (3, 10),\n (20, 24),\n (3, 9),\n (6, 18),\n (23, 26),\n (27, 34),\n (12, 16),\n (8, 25),\n (6, 10),\n (3, 12),\n (18, 31),\n (10, 15),\n (3, 16),\n (4, 37),\n (12, 34),\n (21, 26),\n (15, 29),\n (18, 37),\n (3, 36),\n (4, 24),\n (11, 37),\n (21, 35),\n (6, 28),\n (21, 32),\n (3, 5),\n (12, 22),\n (16, 29),\n (5, 10),\n (5, 12),\n (5, 9),\n (12, 14),\n (21, 28),\n (12, 34),\n (6, 8),\n (18, 31),\n (4, 18),\n (0, 30),\n (27, 34),\n (10, 27),\n (4, 37),\n (1, 9),\n (17, 27),\n (30, 31),\n (4, 24),\n (2, 21),\n (11, 34),\n (14, 21),\n (1, 34),\n (6, 27),\n (5, 7),\n (12, 31),\n (3, 35),\n (8, 36),\n (27, 35),\n (6, 21),\n (6, 12),\n (3, 31),\n (0, 12),\n (21, 26),\n (6, 19),\n (9, 12),\n (9, 29),\n (9, 30),\n (8, 30),\n (10, 21),\n (10, 33),\n (7, 12),\n (21, 25),\n (2, 31),\n (18, 21),\n (8, 11),\n (26, 27),\n (18, 27),\n (3, 7),\n (7, 15),\n (6, 36),\n (21, 31),\n (12, 13),\n (9, 26),\n (12, 33),\n (12, 26),\n (25, 30),\n (10, 12),\n (12, 16),\n (2, 3),\n (3, 12),\n (9, 34),\n (1, 3),\n (3, 26),\n (3, 16),\n (12, 29),\n (12, 17),\n (12, 25),\n (10, 16),\n (1, 10),\n (15, 16),\n (2, 9),\n (0, 3),\n (6, 30),\n (0, 29),\n (3, 27),\n (1, 2),\n (27, 30),\n (23, 26),\n (8, 10),\n (29, 34),\n (10, 31),\n (6, 11),\n (6, 18),\n (2, 17),\n (3, 18),\n (17, 30),\n (16, 30),\n (17, 26),\n (6, 25),\n (15, 21),\n (5, 36),\n (8, 12),\n (27, 31),\n (27, 28),\n (16, 29),\n (7, 30),\n (15, 36),\n (31, 34),\n (26, 30),\n (8, 18),\n (11, 17),\n (21, 34),\n (3, 19),\n (0, 5),\n (9, 19),\n (9, 11),\n (29, 36),\n (3, 36),\n (10, 19),\n (20, 24),\n (21, 33),\n (7, 36),\n (2, 6),\n (9, 18),\n (7, 10),\n (3, 30),\n (10, 24),\n (22, 26),\n (2, 25),\n (21, 30),\n (21, 32),\n (12, 22),\n (5, 16),\n (24, 34),\n (17, 34),\n (2, 10),\n (12, 15),\n (8, 21),\n (3, 11),\n (7, 29),\n (10, 14),\n (13, 36),\n (8, 25),\n (29, 30),\n (6, 31),\n (17, 21),\n (30, 36),\n (6, 9),\n (26, 31),\n (9, 21),\n (0, 10),\n (19, 34),\n (5, 33),\n (3, 5),\n (22, 23),\n (12, 27),\n (0, 15),\n (9, 27),\n (18, 24),\n (12, 21),\n (23, 30),\n (10, 17),\n (3, 9),\n (1, 12),\n (5, 30),\n (2, 27),\n (1, 27),\n (3, 6),\n (9, 15),\n (17, 28),\n (21, 35),\n (10, 34),\n (11, 31),\n (8, 9),\n (1, 21),\n (6, 10),\n (11, 27),\n (25, 31),\n (1, 6),\n (19, 27),\n (3, 17),\n (12, 35),\n (10, 35),\n (7, 9),\n (10, 13),\n (10, 18),\n (10, 36),\n (14, 33),\n (3, 8),\n (15, 29),\n (12, 36),\n (5, 14),\n (3, 29),\n (15, 30),\n (17, 35),\n (17, 18),\n (9, 17),\n (3, 10),\n (28, 35),\n (5, 15),\n (11, 18),\n (21, 36),\n (7, 21),\n (9, 35),\n (9, 31),\n (1, 17),\n (17, 31),\n (3, 34),\n (10, 15),\n (3, 33),\n (18, 37),\n (2, 12),\n (9, 10),\n (10, 25),\n (1, 19),\n (11, 37),\n (22, 30),\n (5, 21),\n (0, 21),\n (9, 25),\n (11, 21),\n (3, 13),\n (10, 30),\n (30, 33),\n (11, 25),\n (1, 31),\n (6, 28),\n (12, 23),\n (9, 36),\n (6, 17),\n (12, 19),\n (10, 26),\n (26, 36),\n (3, 14),\n (2, 34),\n (0, 36),\n (2, 30),\n (21, 27),\n (3, 21),\n (6, 34),\n (9, 24),\n (6, 35),\n (16, 21),\n (10, 29),\n (10, 11),\n (18, 25),\n (18, 34),\n (27, 37),\n (8, 17),\n (7, 16),\n (3, 15),\n (5, 29),\n (21, 29),\n (14, 30),\n (12, 30)]"
     },
     "execution_count": 130,
     "metadata": {},
     "output_type": "execute_result"
    }
   ],
   "source": [
    "G_snapshot.get_edgelist()"
   ],
   "metadata": {
    "collapsed": false,
    "pycharm": {
     "name": "#%%\n"
    }
   }
  },
  {
   "cell_type": "code",
   "execution_count": null,
   "outputs": [],
   "source": [],
   "metadata": {
    "collapsed": false,
    "pycharm": {
     "name": "#%%\n"
    }
   }
  }
 ],
 "metadata": {
  "kernelspec": {
   "display_name": "Python 3",
   "language": "python",
   "name": "python3"
  },
  "language_info": {
   "codemirror_mode": {
    "name": "ipython",
    "version": 2
   },
   "file_extension": ".py",
   "mimetype": "text/x-python",
   "name": "python",
   "nbconvert_exporter": "python",
   "pygments_lexer": "ipython2",
   "version": "2.7.6"
  }
 },
 "nbformat": 4,
 "nbformat_minor": 0
}