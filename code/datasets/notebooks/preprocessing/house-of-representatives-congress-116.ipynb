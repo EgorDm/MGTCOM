{
 "cells": [
  {
   "cell_type": "code",
   "execution_count": 141,
   "metadata": {
    "collapsed": true
   },
   "outputs": [
    {
     "name": "stderr",
     "output_type": "stream",
     "text": [
      "UsageError: Line magic function `%` not found.\n"
     ]
    }
   ],
   "source": [
    "% load_ext autoreload\n",
    "% autoreload 2"
   ]
  },
  {
   "cell_type": "code",
   "execution_count": 142,
   "outputs": [],
   "source": [
    "import pyspark.sql.functions as F\n",
    "import pyspark.sql.types as T\n",
    "from pyspark.sql import SparkSession"
   ],
   "metadata": {
    "collapsed": false,
    "pycharm": {
     "name": "#%%\n"
    }
   }
  },
  {
   "cell_type": "code",
   "execution_count": 143,
   "outputs": [],
   "source": [
    "from shared.paths import DatasetPath\n",
    "\n",
    "DS = DatasetPath('house-of-representatives-congress-116')"
   ],
   "metadata": {
    "collapsed": false,
    "pycharm": {
     "name": "#%%\n"
    }
   }
  },
  {
   "cell_type": "code",
   "execution_count": 144,
   "outputs": [],
   "source": [
    "spark = (SparkSession.builder\n",
    "         .appName(f'{DS}')\n",
    "         .config('spark.sql.legacy.timeParserPolicy', 'LEGACY')\n",
    "         .config(\"spark.executor.memory\", \"8g\")\n",
    "         .config(\"spark.driver.memory\", \"8g\")\n",
    "         .config(\"spark.memory.offHeap.enabled\", True)\n",
    "         .config(\"spark.memory.offHeap.size\", \"16g\")\n",
    "         .getOrCreate())"
   ],
   "metadata": {
    "collapsed": false,
    "pycharm": {
     "name": "#%%\n"
    }
   }
  },
  {
   "cell_type": "code",
   "execution_count": 145,
   "outputs": [],
   "source": [
    "udf_eval_array = F.udf(lambda x: eval(x), T.ArrayType(T.StringType()))"
   ],
   "metadata": {
    "collapsed": false,
    "pycharm": {
     "name": "#%%\n"
    }
   }
  },
  {
   "cell_type": "code",
   "execution_count": 146,
   "outputs": [
    {
     "data": {
      "text/plain": "[Row(bill_id='H.R.1', title=\"To expand Americans' access to the ballot box, reduce the influence of big money in politics, and strengthen ethics rules for public servants, and for other purposes.\", sponsor='S001168', cosponsors=['P000197', 'A000370', 'A000376', 'B001300', 'B001281', 'B001292', 'B000490', 'B000574', 'B001278', 'B001296', 'B001304', 'B001285', 'B001286', 'B001251', 'C001112', 'C001097', 'C001090', 'C001055', 'C001117', 'C001066', 'C001080', 'C001084', 'C001123', 'C001101', 'C001067', 'C001049', 'C000537', 'C001068', 'C001078', 'C000754', 'C001110', 'C001069', 'C001124', 'C001119', 'C001111', 'C001121', 'C000984', 'D000629', 'D000096', 'D000598', 'D000631', 'D000191', 'D000197', 'D000216', 'D000617', 'D000630', 'D000627', 'D000623', 'D000610', 'D000624', 'D000482', 'E000179', 'E000299', 'E000215', 'E000297', 'E000296', 'F000468', 'F000462', 'G000571', 'G000574', 'G000559', 'G000587', 'G000586', 'G000592', 'G000585', 'G000553', 'G000551', 'H001080', 'H001090', 'H000324', 'H001081', 'H001064', 'H001038', 'H001087', 'H001047', 'H001066', 'H001085', 'H000874', 'H001068', 'J000032', 'J000298', 'J000294', 'J000288', 'K000009', 'K000375', 'K000385', 'K000379', 'K000389', 'K000380', 'K000381', 'K000394', 'K000188', 'K000368', 'K000391', 'K000382', 'L000588', 'L000559', 'L000560', 'L000557', 'L000581', 'L000586', 'L000551', 'L000590', 'L000592', 'L000593', 'L000287', 'L000582', 'L000565', 'L000397', 'L000579', 'L000480', 'L000570', 'L000562', 'M001203', 'M000087', 'M001185', 'M001163', 'M001143', 'M001200', 'M000312', 'M001166', 'M001137', 'M001188', 'M001206', 'M001196', 'M001207', 'N000002', 'N000179', 'N000015', 'N000191', 'N000188', 'N000147', 'O000172', 'O000173', 'P000034', 'P000613', 'P000614', 'P000096', 'P000604', 'P000608', 'P000616', 'P000597', 'P000607', 'P000618', 'P000617', 'P000523', 'Q000023', 'R000606', 'R000602', 'R000613', 'R000616', 'R000486', 'R000576', 'R000515', 'R000577', 'S001156', 'S001205', 'S001145', 'S001150', 'S001190', 'S001216', 'S000185', 'S000248', 'S001185', 'S001206', 'S000344', 'S001165', 'S000510', 'S001200', 'S001209', 'S001175', 'S001211', 'S001201', 'S001193', 'T000472', 'T000193', 'T000460', 'T000468', 'T000481', 'T000469', 'T000474', 'T000482', 'T000483', 'U000040', 'V000130', 'V000131', 'V000132', 'V000081', 'W000797', 'W000822', 'W000187', 'W000800', 'W000826', 'W000808', 'Y000062', 'C001091', 'C001072', 'B001287', 'S001208', 'F000455', 'J000126', 'P000593', 'S001157', 'R000599', 'M001160', 'F000454', 'C001061', 'M001208', 'B001303', 'A000371', 'B001270', 'O000171', 'G000583', 'C001122', 'C001059', 'L000563', 'W000825', 'H001083', 'D000399', 'F000467', 'A000378', 'V000108', 'L000591', 'V000133', 'P000258', 'S001207', 'S001215', 'M001202', 'B001308', 'S001180', 'G000581', 'M001209', 'T000484', 'S001177', 'C001063', 'R000588'], related_bills=['H.R.44', 'H.R.93', 'H.R.137', 'H.R.138', 'H.R.196', 'H.R.209', 'H1320', 'H.R.273', 'H.R.294', 'H.R.391', 'H.R.599', 'H.R.650', 'H.R.736', 'H.R.745', 'H.R.746', 'H.R.783', 'H.R.812', 'H.R.842', 'H.R.868', 'H.R.936', 'H.R.964', 'H.R.1057', 'H.R.1176', 'H.R.1272', 'H.R.1275', 'H.R.1382', 'H2733', 'H.R.1438', 'H.R.1451', 'H.R.1462', 'H.R.1463', 'H.R.1467', 'H.R.1474', 'H.R.1481', 'H.R.1504', 'H.R.1535', 'H.R.1546', 'H.R.1573', 'H.R.1613', 'H.R.1623', 'H.R.1624', 'H.R.1626', 'H.R.2341', 'H.R.2592', 'H.R.2652', 'H.R.2722', 'H.R.2977', 'H.R.3201', 'H.R.3281', 'H.R.3572', 'H.R.4053', 'H.R.4054', 'H.R.4055', 'H.R.4612', 'H.Res.157', 'H.Res.172', 'S.195', 'S.232', 'S.338', 'S.393', 'S.484', 'S.547', 'S.549', 'S.621', 'S.624', 'S.625', 'S.949', 'S.958', 'S.1147', 'S.1356', 'S.1540', 'S.1834', 'S.1917', 'S.2053', 'S.2226'], policy_area='Government Operations and Politics', subjects=['Administrative law and regulatory procedures', 'Appropriations', 'Assault and harassment offenses', 'Broadcasting, cable, digital technologies', 'Business ethics', 'Business records', 'Census and government statistics', 'Civil actions and liability', 'Commemorative events and holidays', 'Computer security and identity theft', 'Computers and information technology', 'Congressional agencies', 'Congressional districts and representation', 'Congressional elections', 'Congressional officers and employees', 'Congressional operations and organization', 'Congressional oversight', 'Constitution and constitutional amendments', 'Corporate finance and management', 'Department of Commerce', 'Department of the Treasury', 'Digital media', 'Diplomacy, foreign officials, Americans abroad', 'Disability and paralysis', 'Election Assistance Commission', 'Elections, voting, political campaign regulation', 'Employment discrimination and employee rights', 'Executive Office of the President', 'Executive agency funding and structure', 'Federal Election Commission (FEC)', 'Federal appellate courts', 'Federal district courts', 'Federal officials', 'Foreign and international corporations', 'Fraud offenses and financial crimes', 'Government Publishing Office (GPO)', 'Government employee pay, benefits, personnel management', 'Government ethics and transparency, public corruption', 'Government information and archives', 'Government studies and investigations', 'Higher education', 'House of Representatives', 'Intelligence activities, surveillance, classified information', 'Internal Revenue Service (IRS)', 'Internet and video services', 'Judges', 'Judicial review and appeals', 'Juvenile crime and gang violence', 'Legislative rules and procedure', 'Library of Congress', 'Members of Congress', 'Military personnel and dependents', 'News media and reporting', 'Northern Mariana Islands', 'Office of Government Ethics', 'Political advertising', 'Presidents and presidential powers, Vice Presidents', 'Public contracts and procurement', 'Public participation and lobbying', 'Russia', 'Securities and Exchange Commission (SEC)', 'State and local government operations', 'Subversive activities', 'Supreme Court', 'Tax administration and collection, taxpayers', 'Tax-exempt organizations', 'Technology assessment', 'Television and film', 'U.S. and foreign investments', 'U.S. territories and protectorates', 'Voting rights', 'Wages and earnings'], committees=['House Administration', 'House Intelligence (Permanent Select)', 'House Judiciary', 'House Oversight and Reform', 'House Science, Space, and Technology', 'House Education and Labor', 'House Ways and Means', 'House Financial Services', 'House Ethics', 'House Homeland Security'], bill_progress='Passed House', summary='This bill addresses voter access, election integrity, election security, political spending, and ethics for the three branches of government.  Specifically, the bill expands voter registration and voting access, makes Election Day a federal holiday, and limits removing voters from voter rolls. The bill provides for states to establish independent, nonpartisan redistricting commissions. The bill also sets forth provisions related to election security, including sharing intelligence information with state election officials, protecting the security of the voter rolls, supporting states in securing their election systems, developing a national strategy to protect the security and integrity of U.S. democratic institutions, establishing in the legislative branch the National Commission to Protect United States Democratic Institutions, and other provisions to improve the cybersecurity of election systems. This bill addresses campaign spending, including by expanding the ban on foreign nationals contributing to or spending on elections; expanding disclosure rules pertaining to organizations spending money during elections, campaign advertisements, and online platforms; and revising disclaimer requirements for political advertising.  This bill establishes an alternative campaign funding system for certain federal offices. The system involves federal matching of small contributions for qualified candidates.  This bill sets forth provisions related to ethics in all three branches of government. Specifically, the bill requires a code of ethics for federal judges and justices, prohibits Members of the House from serving on the board of a for-profit entity, expands enforcement of regulations governing foreign agents, and establishes additional conflict-of-interest and ethics provisions for federal employees and the White House.  The bill also requires candidates for President and Vice President to submit 10 years of tax returns. This bill addresses voter access, election integrity, election security, political spending, and ethics for the three branches of government.  Specifically, the bill expands voter registration and voting access, makes Election Day a federal holiday, and limits removing voters from voter rolls. The bill provides for states to establish independent, nonpartisan redistricting commissions. The bill also sets forth provisions related to election security, including sharing intelligence information with state election officials, protecting the security of the voter rolls, supporting states in securing their election systems, developing a national strategy to protect the security and integrity of U.S. democratic institutions, establishing in the legislative branch the National Commission to Protect United States Democratic Institutions, and other provisions to improve the cybersecurity of election systems. This bill addresses campaign spending, including by expanding the ban on foreign nationals contributing to or spending on elections; expanding disclosure rules pertaining to organizations spending money during elections, campaign advertisements, and online platforms; and revising disclaimer requirements for political advertising.  This bill establishes an alternative campaign funding system for certain federal offices. The system involves federal matching of small contributions for qualified candidates.  This bill sets forth provisions related to ethics in all three branches of government. Specifically, the bill requires a code of ethics for federal judges and justices, prohibits Members of the House from serving on the board of a for-profit entity, expands enforcement of regulations governing foreign agents, and establishes additional conflict-of-interest and ethics provisions for federal employees and the White House.  The bill also requires candidates for President and Vice President to submit 10 years of tax returns. This bill addresses voter access, election integrity, election security, political spending, and ethics for the three branches of government.  Specifically, the bill expands voter registration and voting access, makes Election Day a federal holiday, and limits removing voters from voter rolls. The bill provides for states to establish independent, nonpartisan redistricting commissions. The bill also sets forth provisions related to election security, including sharing intelligence information with state election officials, protecting the security of the voter rolls, supporting states in securing their election systems, developing a national strategy to protect the security and integrity of U.S. democratic institutions, establishing in the legislative branch the National Commission to Protect United States Democratic Institutions, and other provisions to improve the cybersecurity of election systems. This bill addresses campaign spending, including by expanding the ban on foreign nationals contributing to or spending on elections; expanding disclosure rules pertaining to organizations spending money during elections, campaign advertisements, and online platforms; and revising disclaimer requirements for political advertising.  This bill establishes an alternative campaign funding system for certain federal offices. The system involves federal matching of small contributions for qualified candidates.  This bill sets forth provisions related to ethics in all three branches of government. Specifically, the bill requires a code of ethics for federal judges and justices, prohibits Members of the House from serving on the board of a for-profit entity, expands enforcement of regulations governing foreign agents, and establishes additional conflict-of-interest and ethics provisions for federal employees and the White House.  The bill also requires candidates for President and Vice President to submit 10 years of tax returns.', date_introduced=datetime.datetime(2019, 1, 3, 0, 0), number=1, bill_type='H.R.'),\n Row(bill_id='H.R.3', title='To establish a fair price negotiation program, protect the Medicare program from excessive price increases, and establish an out-of-pocket maximum for Medicare part D enrollees, and for other purposes.', sponsor='P000034', cosponsors=['N000015', 'S000185', 'L000557', 'K000382', 'D000197', 'R000515', 'S001206', 'R000577', 'M001206', 'S001177', 'C001055', 'E000179', 'C001066', 'F000462', 'E000296', 'C001069', 'N000188', 'M001160', 'K000380', 'N000147', 'M000312', 'V000108', 'C001112', 'P000614', 'B001278', 'H001087', 'H001081', 'C001090', 'M001166', 'B001303', 'K000394', 'T000483', 'A000376', 'R000613', 'T000460', 'M001188', 'C001068', 'S001201', 'W000826', 'E000215', 'S001200', 'H001066', 'V000132', 'B001281', 'W000797', 'K000375', 'G000592', 'S001150', 'C001119', 'W000800', 'D000482', 'G000587', 'D000096', 'R000599', 'M001163', 'S001208', 'W000808', 'L000565', 'C001111', 'B001286', 'M001207', 'C001117', 'S001216', 'C001063', 'W000825', 'C001061', 'S001145', 'S001168', 'M001185', 'L000586', 'P000616', 'S001190', 'M001137', 'E000297', 'L000562', 'H001038', 'L000559', 'C001080', 'S001215', 'P000593', 'D000629', 'A000378', 'H000324', 'B001292', 'L000480'], related_bills=['H.R.4619', 'H.R.4649', 'H8607', 'H.R.4663'], policy_area='Health', subjects=[], committees=['House Energy and Commerce', 'House Ways and Means', 'House Education and Labor'], bill_progress='Introduced', summary=\"This bill establishes several programs and requirements relating to the prices of prescription drugs.  In particular, the bill requires the Centers for Medicare & Medicaid Services (CMS) to negotiate prices for certain drugs (current law prohibits the CMS from doing so). Specifically, the CMS must negotiate maximum prices for (1) insulin products; and (2) at least 25 single source, brand name drugs that do not have generic competition and that are among the 125 drugs that account for the greatest national spending or the 125 drugs that account for the greatest spending under the Medicare prescription drug benefit and Medicare Advantage (MA). The negotiated prices must be offered under Medicare and MA, and may also be offered under private health insurance unless the insurer opts out. The negotiated maximum price may not exceed (1) 120% of the average price in Australia, Canada, France, Germany, Japan, and the United Kingdom; or (2) if such information is not available, 85% of the U.S. average manufacturer price. Drug manufacturers that fail to comply with the bill's negotiation requirements are subject to civil and tax penalties. The bill also makes a series of additional changes to Medicare prescription drug coverage and pricing. Among other things, the bill (1) requires drug manufacturers to issue rebates to the CMS for covered drugs that cost $100 or more and for which the average manufacturer price increases faster than inflation; and (2) reduces the annual out-of-pocket spending threshold, and eliminates beneficiary cost-sharing above this threshold, under the Medicare prescription drug benefit. This bill establishes several programs and requirements relating to the prices of prescription drugs.  In particular, the bill requires the Centers for Medicare & Medicaid Services (CMS) to negotiate prices for certain drugs (current law prohibits the CMS from doing so). Specifically, the CMS must negotiate maximum prices for (1) insulin products; and (2) at least 25 single source, brand name drugs that do not have generic competition and that are among the 125 drugs that account for the greatest national spending or the 125 drugs that account for the greatest spending under the Medicare prescription drug benefit and Medicare Advantage (MA). The negotiated prices must be offered under Medicare and MA, and may also be offered under private health insurance unless the insurer opts out. The negotiated maximum price may not exceed (1) 120% of the average price in Australia, Canada, France, Germany, Japan, and the United Kingdom; or (2) if such information is not available, 85% of the U.S. average manufacturer price. Drug manufacturers that fail to comply with the bill's negotiation requirements are subject to civil and tax penalties. The bill also makes a series of additional changes to Medicare prescription drug coverage and pricing. Among other things, the bill (1) requires drug manufacturers to issue rebates to the CMS for covered drugs that cost $100 or more and for which the average manufacturer price increases faster than inflation; and (2) reduces the annual out-of-pocket spending threshold, and eliminates beneficiary cost-sharing above this threshold, under the Medicare prescription drug benefit.\", date_introduced=datetime.datetime(2019, 9, 19, 0, 0), number=3, bill_type='H.R.'),\n Row(bill_id='H.R.4', title='To amend the Voting Rights Act of 1965 to revise the criteria for determining which States and political subdivisions are subject to section 4 of the Act, and for other purposes.', sponsor='S001185', cosponsors=['L000287', 'P000197', 'H000874', 'C000537', 'L000570', 'C001080', 'C001091', 'J000294', 'A000370', 'A000371', 'A000376', 'B001270', 'B001281', 'B001287', 'B001292', 'B000490', 'B000574', 'B001303', 'B001278', 'B001296', 'B001304', 'B001285', 'B001286', 'B001251', 'C001097', 'C001072', 'C001090', 'C001084', 'C001123', 'C001101', 'C001067', 'C001049', 'C001061', 'C001078', 'C000754', 'C001059', 'C001124', 'C001119', 'C001111', 'C000984', 'D000096', 'D000631', 'D000197', 'D000216', 'D000617', 'D000630', 'D000627', 'D000610', 'D000624', 'D000399', 'D000482', 'E000179', 'E000299', 'E000215', 'E000297', 'G000574', 'G000559', 'G000585', 'G000583', 'G000553', 'H001080', 'H000324', 'H001064', 'H001038', 'H001087', 'H001047', 'H001066', 'H001068', 'J000032', 'J000298', 'J000126', 'J000288', 'K000375', 'K000385', 'K000389', 'K000381', 'K000368', 'K000391', 'K000382', 'L000588', 'L000560', 'L000557', 'L000581', 'L000586', 'L000551', 'L000582', 'L000579', 'L000480', 'L000562', 'M000087', 'M001185', 'M001163', 'M001208', 'M001143', 'M001200', 'M000312', 'M001137', 'M001188', 'M001160', 'M001206', 'M001196', 'M001207', 'M001202', 'N000179', 'N000188', 'N000147', 'O000172', 'O000173', 'P000034', 'P000613', 'P000614', 'P000096', 'P000593', 'P000608', 'P000610', 'P000607', 'P000617', 'P000523', 'Q000023', 'R000606', 'R000602', 'R000616', 'R000486', 'R000576', 'R000515', 'R000577', 'S001156', 'S001205', 'S001145', 'S001150', 'S001190', 'S001216', 'S000185', 'S001157', 'S000248', 'S001206', 'S000344', 'S001207', 'S001165', 'S000510', 'S001200', 'S001209', 'S001175', 'S001201', 'S001193', 'T000472', 'T000193', 'T000468', 'T000481', 'T000469', 'T000474', 'T000482', 'V000132', 'W000797', 'W000822', 'W000800', 'W000826', 'W000808', 'C001055', 'C001117', 'C001066', 'C001068', 'D000629', 'D000623', 'F000467', 'F000468', 'F000454', 'C001063', 'C001121', 'F000455', 'K000380', 'K000188', 'L000592', 'L000593', 'L000565', 'L000397', 'N000191', 'M001166', 'P000616', 'P000597', 'R000599', 'S001168', 'S001208', 'S001211', 'S001215', 'T000460', 'U000040', 'V000131', 'V000081', 'W000187', 'W000825', 'P000618', 'V000130', 'G000586', 'G000581', 'T000483', 'C001069', 'H001083', 'B001300', 'D000598', 'E000296', 'F000462', 'G000551', 'H001081', 'N000002', 'K000379', 'H001085', 'Y000062', 'L000590', 'K000394', 'G000587', 'C001112', 'D000191', 'O000171', 'R000613', 'P000604', 'L000591', 'A000378', 'N000015', 'M001203', 'L000559', 'G000571', 'K000009', 'V000108', 'C001110'], related_bills=['H.R.1799', 'S.561'], policy_area='Government Operations and Politics', subjects=['Civil actions and liability', 'Elections, voting, political campaign regulation', 'Federal-Indian relations', 'Jurisdiction and venue', 'Racial and ethnic relations', 'State and local government operations', 'Voting rights'], committees=['House Judiciary'], bill_progress='Introduced', summary=None, date_introduced=datetime.datetime(2019, 2, 26, 0, 0), number=4, bill_type='H.R.'),\n Row(bill_id='H.R.5', title='To prohibit discrimination on the basis of sex, gender identity, and sexual orientation, and for other purposes.', sponsor='C001084', cosponsors=['F000466', 'C001119', 'D000629', 'H001087', 'M001185', 'P000614', 'P000607', 'T000472', 'A000370', 'A000371', 'A000376', 'A000378', 'B001300', 'B001270', 'B001281', 'B001287', 'B001292', 'B000490', 'B000574', 'B001303', 'B001278', 'B001296', 'B001308', 'B001304', 'B001285', 'B001286', 'B001251', 'C001112', 'C001097', 'C001072', 'C001090', 'C001055', 'C001117', 'C001066', 'C001091', 'C001080', 'C001123', 'C001101', 'C001067', 'C001049', 'C001061', 'C000537', 'C001068', 'C001078', 'C000754', 'C001110', 'C001059', 'C001069', 'C001124', 'C001111', 'C001121', 'C001063', 'C000984', 'C001122', 'D000598', 'D000096', 'D000631', 'D000191', 'D000197', 'D000216', 'D000617', 'D000630', 'D000627', 'D000623', 'D000610', 'D000624', 'D000399', 'D000482', 'E000179', 'E000299', 'E000215', 'E000297', 'E000296', 'F000467', 'F000468', 'F000454', 'F000462', 'F000455', 'G000571', 'G000574', 'G000559', 'G000587', 'G000586', 'G000592', 'G000585', 'G000581', 'G000583', 'G000553', 'G000551', 'H001080', 'H001090', 'H000324', 'H001081', 'H001064', 'H001038', 'H001047', 'H001083', 'H001066', 'H001085', 'H000874', 'H001068', 'J000032', 'J000298', 'J000294', 'J000288', 'J000126', 'K000009', 'K000386', 'K000375', 'K000385', 'K000379', 'K000389', 'K000380', 'K000381', 'K000394', 'K000188', 'K000368', 'K000391', 'K000382', 'L000588', 'L000559', 'L000560', 'L000557', 'L000581', 'L000586', 'L000551', 'L000590', 'L000593', 'L000592', 'L000287', 'L000582', 'L000565', 'L000397', 'L000579', 'L000480', 'L000570', 'L000591', 'L000562', 'M001203', 'M000087', 'M001163', 'M001209', 'M001208', 'M001143', 'M001200', 'M000312', 'M001166', 'M001137', 'M001188', 'M001160', 'M001206', 'M001196', 'M001207', 'M001202', 'N000002', 'N000179', 'N000015', 'N000191', 'N000188', 'N000147', 'O000172', 'O000171', 'O000173', 'P000034', 'P000613', 'P000096', 'P000604', 'P000197', 'P000593', 'P000608', 'P000258', 'P000616', 'P000597', 'P000610', 'P000618', 'P000617', 'P000523', 'Q000023', 'R000606', 'R000602', 'R000588', 'R000613', 'R000616', 'R000486', 'R000599', 'R000576', 'R000515', 'R000577', 'S001177', 'S001204', 'S001156', 'S001168', 'S001205', 'S001145', 'S001150', 'S001190', 'S001180', 'S001216', 'S000185', 'S001157', 'S000248', 'S001185', 'S001206', 'S000344', 'S001207', 'S001165', 'S001208', 'S000510', 'S001200', 'S001209', 'S001175', 'S001211', 'S001215', 'S001201', 'S001193', 'T000193', 'T000460', 'T000468', 'T000481', 'T000469', 'T000474', 'T000484', 'T000482', 'T000483', 'U000040', 'V000133', 'V000130', 'V000131', 'V000132', 'V000081', 'V000108', 'W000797', 'W000187', 'W000822', 'W000800', 'W000825', 'W000826', 'W000808', 'Y000062', 'G000582'], related_bills=['H.Res.377', 'S.788'], policy_area='Civil Rights and Liberties, Minority Issues', subjects=['Civil actions and liability', 'Consumer credit', 'Due process and equal protection', 'Elementary and secondary education', 'Employment discrimination and employee rights', 'Government employee pay, benefits, personnel management', 'Higher education', 'Housing discrimination', 'Judicial procedure and administration', 'Museums, exhibitions, cultural centers', 'Religion', 'Retail and wholesale trades', 'Sex, gender, sexual orientation discrimination', 'Sports and recreation facilities'], committees=['House Judiciary', 'House Education and Labor', 'House Financial Services', 'House Oversight and Reform', 'House Administration', 'Senate Judiciary'], bill_progress='Passed House', summary=\"This bill prohibits discrimination based on sex, sexual orientation, and gender identity in a wide variety of areas including public accommodations and facilities, education, federal funding, employment, housing, credit, and the jury system. Specifically, the bill defines and includes sex, sexual orientation, and gender identity among the prohibited categories of discrimination or segregation.  The bill expands the definition of public accommodations to include places or establishments that provide (1) exhibitions, recreation, exercise, amusement, gatherings, or displays; (2) goods, services, or programs; and (3) transportation services. The bill allows the Department of Justice to intervene in equal protection actions in federal court on account of sexual orientation or gender identity. Protections against discrimination based on race, color, religion, sex, sexual orientation, gender identity, or national origin shall include protections against discrimination based on (1) an association with another person who is a member of such a protected class; or (2) a perception or belief, even if inaccurate, that an individual is a member of such a protected class. The bill prohibits the Religious Freedom Restoration Act of 1993 from providing a claim, defense, or basis for challenging such protections.  The bill prohibits an individual from being denied access to a shared facility, including a restroom, a locker room, and a dressing room, that is in accordance with the individual's gender identity. This bill prohibits discrimination based on sex, sexual orientation, and gender identity in a wide variety of areas including public accommodations and facilities, education, federal funding, employment, housing, credit, and the jury system. Specifically, the bill defines and includes sex, sexual orientation, and gender identity among the prohibited categories of discrimination or segregation.  The bill expands the definition of public accommodations to include places or establishments that provide (1) exhibitions, recreation, exercise, amusement, gatherings, or displays; (2) goods, services, or programs; and (3) transportation services. The bill allows the Department of Justice to intervene in equal protection actions in federal court on account of sexual orientation or gender identity. Protections against discrimination based on race, color, religion, sex, sexual orientation, gender identity, or national origin shall include protections against discrimination based on (1) an association with another person who is a member of such a protected class; or (2) a perception or belief, even if inaccurate, that an individual is a member of such a protected class. The bill prohibits the Religious Freedom Restoration Act of 1993 from providing a claim, defense, or basis for challenging such protections.  The bill prohibits an individual from being denied access to a shared facility, including a restroom, a locker room, and a dressing room, that is in accordance with the individual's gender identity. This bill prohibits discrimination based on sex, sexual orientation, and gender identity in a wide variety of areas including public accommodations and facilities, education, federal funding, employment, housing, credit, and the jury system. Specifically, the bill defines and includes sex, sexual orientation, and gender identity among the prohibited categories of discrimination or segregation.  The bill expands the definition of public accommodations to include places or establishments that provide (1) exhibitions, recreation, exercise, amusement, gatherings, or displays; (2) goods, services, or programs; and (3) transportation services. The bill allows the Department of Justice to intervene in equal protection actions in federal court on account of sexual orientation or gender identity. Protections against discrimination based on race, color, religion, sex, sexual orientation, gender identity, or national origin shall include protections against discrimination based on (1) an association with another person who is a member of such a protected class; or (2) a perception or belief, even if inaccurate, that an individual is a member of such a protected class. The bill prohibits the Religious Freedom Restoration Act of 1993 from providing a claim, defense, or basis for challenging such protections.  The bill prohibits an individual from being denied access to a shared facility, including a restroom, a locker room, and a dressing room, that is in accordance with the individual's gender identity. This bill prohibits discrimination based on sex, sexual orientation, and gender identity in areas including public accommodations and facilities, education, federal funding, employment, housing, credit, and the jury system. Specifically, the bill defines and includes sex, sexual orientation, and gender identity among the prohibited categories of discrimination or segregation.  The bill expands the definition of public accommodations to include places or establishments that provide (1) exhibitions, recreation, exercise, amusement, gatherings, or displays; (2) goods, services, or programs; and (3) transportation services. The bill allows the Department of Justice to intervene in equal protection actions in federal court on account of sexual orientation or gender identity. The bill prohibits an individual from being denied access to a shared facility, including a restroom, a locker room, and a dressing room, that is in accordance with the individual's gender identity.\", date_introduced=datetime.datetime(2019, 3, 13, 0, 0), number=5, bill_type='H.R.'),\n Row(bill_id='H.R.6', title='To authorize the cancellation of removal and adjustment of status of certain aliens, and for other purposes.', sponsor='R000486', cosponsors=['V000081', 'C001067', 'A000371', 'B001300', 'C001112', 'C001097', 'C001091', 'C001123', 'C001110', 'C001059', 'E000299', 'E000297', 'G000574', 'G000586', 'G000587', 'G000585', 'G000581', 'G000551', 'L000593', 'L000570', 'M001207', 'N000179', 'O000172', 'R000599', 'S001177', 'S001204', 'S001156', 'S000248', 'S001165', 'S001200', 'T000484', 'T000474', 'T000482', 'V000130', 'V000132', 'A000370', 'A000376', 'B001270', 'B001287', 'B001292', 'B000574', 'B001303', 'B001278', 'B001296', 'B001304', 'B001285', 'B001286', 'B001251', 'C001072', 'C001117', 'C001066', 'C001080', 'C001084', 'C001101', 'C001049', 'C001061', 'C000537', 'C001068', 'C001078', 'C000754', 'C001069', 'C001124', 'C001111', 'C001121', 'C000984', 'D000096', 'D000598', 'D000631', 'D000191', 'D000197', 'D000216', 'D000617', 'D000630', 'D000627', 'D000623', 'D000610', 'D000624', 'D000399', 'D000482', 'E000179', 'E000215', 'E000296', 'F000468', 'F000462', 'F000455', 'G000571', 'G000559', 'G000553', 'H001080', 'H001090', 'H000324', 'H001081', 'H001064', 'H001038', 'H001087', 'H001047', 'H001066', 'H001085', 'H000874', 'H001068', 'J000032', 'J000298', 'J000294', 'J000126', 'J000288', 'K000375', 'K000385', 'K000379', 'K000389', 'K000380', 'K000381', 'K000394', 'K000188', 'K000368', 'K000391', 'K000382', 'L000559', 'L000560', 'L000557', 'L000581', 'L000586', 'L000551', 'L000590', 'L000592', 'L000287', 'L000582', 'L000563', 'L000397', 'L000579', 'L000480', 'L000591', 'M001203', 'M000087', 'M001185', 'M001163', 'M001143', 'M001200', 'M000312', 'M001166', 'M001137', 'M001188', 'M001160', 'M001196', 'N000002', 'N000015', 'N000191', 'N000188', 'N000147', 'O000171', 'O000173', 'P000034', 'P000613', 'P000614', 'P000096', 'P000604', 'P000197', 'P000593', 'P000608', 'P000597', 'P000610', 'P000607', 'P000617', 'P000523', 'Q000023', 'R000606', 'R000602', 'R000588', 'R000616', 'R000576', 'R000515', 'S001168', 'S001205', 'S001145', 'S001150', 'S001190', 'S001180', 'S001216', 'S000185', 'S001185', 'S001206', 'S000344', 'S000510', 'S001211', 'S001201', 'S001193', 'T000472', 'T000193', 'T000460', 'T000468', 'T000481', 'T000469', 'T000483', 'U000040', 'V000131', 'W000797', 'W000187', 'W000822', 'W000800', 'W000825', 'W000826', 'W000808', 'Y000062', 'C001063', 'B000490', 'P000616', 'S001157', 'R000577', 'C001119', 'L000562', 'M001206', 'R000613', 'V000108', 'M001202', 'L000588', 'G000583', 'C001090', 'V000133', 'S001215', 'B001281', 'S001175', 'M001208', 'S001208', 'S001207', 'S001209', 'L000565', 'F000454', 'K000009', 'F000467', 'D000629', 'A000378', 'M001209', 'C001055'], related_bills=['H.R.2820', 'H.R.2821', 'H.Res.415', 'S.874'], policy_area='Immigration', subjects=['Administrative law and regulatory procedures', 'Administrative remedies', 'Adoption and foster care', 'Africa', 'Citizenship and naturalization', 'Congressional oversight', 'Crime victims', 'Department of Homeland Security', 'Disability and paralysis', 'Domestic violence and child abuse', 'Elementary and secondary education', 'Foreign labor', 'Foreign language and bilingual programs', 'Government information and archives', 'Higher education', 'Homelessness and emergency shelter', 'Human trafficking', 'Immigration status and procedures', 'Judicial review and appeals', 'Liberia', 'Licensing and registrations', 'Military personnel and dependents', 'Personnel records', 'Religion', 'Student aid and college costs', 'Student records', 'User charges and fees', 'Visas and passports', 'Vocational and technical education'], committees=['House Judiciary', 'House Education and Labor'], bill_progress='Passed House', summary='This bill cancels and prohibits removal proceedings against certain aliens and provides such aliens with a path toward permanent resident status. The Department of Homeland Security (DHS) or the Department of Justice (DOJ) shall cancel removal proceedings against certain aliens who entered the United States as minors and grant such aliens conditional permanent residence status for 10 years. The bill imposes various qualification requirements, such as the alien being continuously physically present in the United States and being enrolled in or having completed certain educational programs. DHS shall establish streamlined procedures to apply for conditional permanent residence for aliens who received Deferred Action for Childhood Arrivals (DACA) status and were not disqualified for renewal.  DHS shall remove the conditional permanent resident status granted to such aliens, if the alien applies and meets certain requirements, such as completing certain programs at an educational institution or serving at least two years in the Uniformed Services and being discharged honorably. DHS or DOJ shall cancel removal proceedings against certain aliens who qualified for temporary protected status or deferred enforced departure status on certain past dates (both statuses temporarily protect covered aliens from removal). For such aliens who apply and pass the required background checks, DHS shall grant permanent residence status.  DHS may not use information from applications to adjust status under this bill for immigration enforcement purposes. DHS shall establish a grant program for nonprofit organizations that assist individuals with certain immigration-related issues. This bill cancels and prohibits removal proceedings against certain aliens and provides such aliens with a path toward permanent resident status. The Department of Homeland Security (DHS) or the Department of Justice (DOJ) shall cancel removal proceedings against certain aliens who entered the United States as minors and grant such aliens conditional permanent residence status for 10 years. The bill imposes various qualification requirements, such as the alien being continuously physically present in the United States and being enrolled in or having completed certain educational programs. DHS shall establish streamlined procedures to apply for conditional permanent residence for aliens who received Deferred Action for Childhood Arrivals (DACA) status and were not disqualified for renewal.  DHS shall remove the conditional permanent resident status granted to such aliens, if the alien applies and meets certain requirements, such as completing certain programs at an educational institution or serving at least two years in the Uniformed Services and being discharged honorably. DHS or DOJ shall cancel removal proceedings against certain aliens who qualified for temporary protected status or deferred enforced departure status on certain past dates (both statuses temporarily protect covered aliens from removal). For such aliens who apply and pass the required background checks, DHS shall grant permanent residence status.  DHS may not use information from applications to adjust status under this bill for immigration enforcement purposes. DHS shall establish a grant program for nonprofit organizations that assist individuals with certain immigration-related issues. This bill cancels and prohibits removal proceedings against certain aliens and provides such aliens with a path toward permanent resident status. The Department of Homeland Security (DHS) or the Department of Justice (DOJ) shall cancel removal proceedings against certain aliens who entered the United States as minors and grant such aliens conditional permanent residence status for 10 years. The bill imposes various qualification requirements, such as the alien being continuously physically present in the United States and being enrolled in or having completed certain educational programs. Aliens who were eligible for Deferred Action for Childhood Arrivals (DACA) status and not disqualified for renewal also qualify. DHS shall remove the conditional permanent resident status granted to such aliens, if the alien applies and meets certain requirements, such as completing certain programs at an educational institution or serving at least two years in the Uniformed Services and being discharged honorably. This bill also repeals a restriction that bars states from providing higher education benefits to undocumented aliens unless those benefits are available to all U.S. citizens.  DHS or DOJ shall cancel removal proceedings against certain aliens who qualified for temporary protected status or Deferred Enforced Departure status on certain past dates (both statuses temporarily protect covered aliens from removal). For such aliens who apply, DHS shall grant permanent residence status.  When DHS eliminates temporary protected status for nationals of a foreign country, it shall report to Congress its reasons for doing so.', date_introduced=datetime.datetime(2019, 3, 12, 0, 0), number=6, bill_type='H.R.')]"
     },
     "execution_count": 146,
     "metadata": {},
     "output_type": "execute_result"
    }
   ],
   "source": [
    "df_legislation = (\n",
    "    spark.read.csv(DS.raw_str('house_legislation_116.csv'), header=True, inferSchema=True, quote='\"', escape='\"')\n",
    "        .withColumn('date_introduced', F.to_timestamp(F.col('date_introduced'), 'yyyy-MM-dd'))\n",
    "        .withColumn('cosponsors', udf_eval_array(F.col('cosponsors')))\n",
    "        .withColumn('related_bills', udf_eval_array(F.col('related_bills')))\n",
    "        .withColumn('subjects', udf_eval_array(F.col('subjects')))\n",
    "        .withColumn('committees', udf_eval_array(F.col('committees')))\n",
    ")\n",
    "df_legislation.head(5)"
   ],
   "metadata": {
    "collapsed": false,
    "pycharm": {
     "name": "#%%\n"
    }
   }
  },
  {
   "cell_type": "code",
   "execution_count": 147,
   "outputs": [
    {
     "data": {
      "text/plain": "[Row(name_id='A000374', name='ralph-abraham', state='Louisiana', url='https://www.congress.gov/member/ralph-abraham/A000374', chamber='House', current_party='Republican', committee_assignments=['Agriculture', 'Armed Services']),\n Row(name_id='A000370', name='alma-adams', state='North Carolina', url='https://www.congress.gov/member/alma-adams/A000370', chamber='House', current_party='Democratic', committee_assignments=['Agriculture', 'Education and Labor', 'Financial Services']),\n Row(name_id='A000055', name='robert-aderholt', state='Alabama', url='https://www.congress.gov/member/robert-aderholt/A000055', chamber='House', current_party='Republican', committee_assignments=['Appropriations']),\n Row(name_id='A000371', name='pete-aguilar', state='California', url='https://www.congress.gov/member/pete-aguilar/A000371', chamber='House', current_party='Democratic', committee_assignments=['Appropriations', 'House Administration']),\n Row(name_id='A000372', name='rick-allen', state='Georgia', url='https://www.congress.gov/member/rick-allen/A000372', chamber='House', current_party='Republican', committee_assignments=['Agriculture', 'Education and Labor'])]"
     },
     "execution_count": 147,
     "metadata": {},
     "output_type": "execute_result"
    }
   ],
   "source": [
    "df_members = (\n",
    "    spark.read.csv(DS.raw_str('house_members_116.csv'), header=True, inferSchema=True, quote='\"', escape='\"')\n",
    "        .withColumn('committee_assignments', udf_eval_array(F.col('committee_assignments')))\n",
    ")\n",
    "df_members.head(5)"
   ],
   "metadata": {
    "collapsed": false,
    "pycharm": {
     "name": "#%%\n"
    }
   }
  },
  {
   "cell_type": "code",
   "execution_count": 148,
   "outputs": [
    {
     "data": {
      "text/plain": "[Row(rollcall_id='2019:001', roll_num=1, date=datetime.datetime(2019, 1, 3, 0, 0), bill_id='QUORUM', question='Call by States', result='P', description=None, congress=116, session=1),\n Row(rollcall_id='2019:002', roll_num=2, date=datetime.datetime(2019, 1, 3, 0, 0), bill_id=None, question='Election of the Speaker', result='P', description='\\xa0', congress=116, session=1),\n Row(rollcall_id='2019:003', roll_num=3, date=datetime.datetime(2019, 1, 3, 0, 0), bill_id='H.RES.5', question='On Motion to Table the Motion to Refer', result='P', description='Providing for consideration of H.Res. 6, adopting the Rules of the House of Representatives for the 116th Congress; providing for consideration of H.R. 21, making appropriations for the FY ending September 30, 2019, and for other purposes', congress=116, session=1),\n Row(rollcall_id='2019:004', roll_num=4, date=datetime.datetime(2019, 1, 3, 0, 0), bill_id='H.RES.5', question='On Ordering the Previous Question', result='P', description='Providing for consideration of H.Res. 6, adopting the Rules of the House of Representatives for the 116th Congress; H.R. 21, making appropriations for the FY ending September 30, 2019; H.J.Res. 1, making further continuing appropriations for the Department of Homeland Security for FY 2019, and for other purposes', congress=116, session=1),\n Row(rollcall_id='2019:005', roll_num=5, date=datetime.datetime(2019, 1, 3, 0, 0), bill_id='H.RES.5', question='On Motion to Commit with Instructions', result='F', description='Providing for consideration of H.Res. 6, adopting the Rules of the House of Representatives for the 116th Congress; H.R. 21, making appropriations for the FY ending September 30, 2019; H.J.Res. 1, making further continuing appropriations for the Department of Homeland Security for FY 2019, and for other purposes', congress=116, session=1)]"
     },
     "execution_count": 148,
     "metadata": {},
     "output_type": "execute_result"
    }
   ],
   "source": [
    "df_rollcall_info = (\n",
    "    spark.read.csv(DS.raw_str('house_rollcall_info_116.csv'), header=True, inferSchema=True)\n",
    "        .withColumn('date', F.concat(F.col('date'), F.lit(' '), F.col('year')))\n",
    "        .withColumn('date', F.to_timestamp(F.col('date'), 'd-MMM yyyy'))\n",
    "        .drop('year')\n",
    ")\n",
    "df_rollcall_info.head(5)"
   ],
   "metadata": {
    "collapsed": false,
    "pycharm": {
     "name": "#%%\n"
    }
   }
  },
  {
   "cell_type": "code",
   "execution_count": 149,
   "outputs": [],
   "source": [
    "def to_explode(df, by):\n",
    "    # Filter dtypes and split into column names and type description\n",
    "    cols, dtypes = zip(*((c, t) for (c, t) in df.dtypes if c not in by))\n",
    "    # Spark SQL supports only homogeneous columns\n",
    "    assert len(set(dtypes)) == 1, \"All columns have to be of the same type\"\n",
    "\n",
    "    # Create and explode an array of (column_name, column_value) structs\n",
    "    kvs = F.explode(F.array([\n",
    "        F.struct(F.lit(c).alias(\"rollcall_id\"), F.col(c).alias(\"vote\")) for c in cols\n",
    "    ])).alias(\"kvs\")\n",
    "\n",
    "    return df.select(by + [kvs]).select(by + [\"kvs.rollcall_id\", \"kvs.vote\"])"
   ],
   "metadata": {
    "collapsed": false,
    "pycharm": {
     "name": "#%%\n"
    }
   }
  },
  {
   "cell_type": "code",
   "execution_count": 150,
   "outputs": [],
   "source": [
    "udf_vote_val = F.udf(lambda x: (1 if x in [\"Aye\", \"Yea\"] else -1 if x in [\"No\", \"Nay\"] else 0), T.IntegerType())"
   ],
   "metadata": {
    "collapsed": false,
    "pycharm": {
     "name": "#%%\n"
    }
   }
  },
  {
   "cell_type": "code",
   "execution_count": 151,
   "outputs": [
    {
     "name": "stderr",
     "output_type": "stream",
     "text": [
      "22/04/06 20:57:41 WARN CacheManager: Asked to cache already cached data.\n"
     ]
    },
    {
     "data": {
      "text/plain": "[Row(name_id='A000374', rollcall_id='2019:641', vote=-1),\n Row(name_id='A000374', rollcall_id='2019:639', vote=1),\n Row(name_id='A000374', rollcall_id='2019:640', vote=-1),\n Row(name_id='A000374', rollcall_id='2019:635', vote=1),\n Row(name_id='A000374', rollcall_id='2019:636', vote=1)]"
     },
     "execution_count": 151,
     "metadata": {},
     "output_type": "execute_result"
    }
   ],
   "source": [
    "df_rollcall_votes = to_explode(\n",
    "    spark.read.csv(DS.raw_str('house_rollcall_votes_116.csv'), header=True, inferSchema=True),\n",
    "    ['name_id'],\n",
    ").cache().withColumn('vote', udf_vote_val(F.col('vote')))\n",
    "df_rollcall_votes.head(5)"
   ],
   "metadata": {
    "collapsed": false,
    "pycharm": {
     "name": "#%%\n"
    }
   }
  },
  {
   "cell_type": "markdown",
   "source": [
    "# Construct Graph Entities"
   ],
   "metadata": {
    "collapsed": false,
    "pycharm": {
     "name": "#%% md\n"
    }
   }
  },
  {
   "cell_type": "code",
   "execution_count": 152,
   "outputs": [
    {
     "name": "stdout",
     "output_type": "stream",
     "text": [
      "443\n",
      "+-------+---------------+--------------+--------------------+-------+-------------+---------------------+---+\n",
      "|    mid|           name|         state|                 url|chamber|current_party|committee_assignments| id|\n",
      "+-------+---------------+--------------+--------------------+-------+-------------+---------------------+---+\n",
      "|A000055|robert-aderholt|       Alabama|https://www.congr...|  House|   Republican|     [Appropriations]|  0|\n",
      "|A000367|   justin-amash|      Michigan|https://www.congr...|  House|  Independent|                   []|  1|\n",
      "|A000369|    mark-amodei|        Nevada|https://www.congr...|  House|   Republican|     [Appropriations]|  2|\n",
      "|A000370|     alma-adams|North Carolina|https://www.congr...|  House|   Democratic| [Agriculture, Edu...|  3|\n",
      "|A000371|   pete-aguilar|    California|https://www.congr...|  House|   Democratic| [Appropriations, ...|  4|\n",
      "+-------+---------------+--------------+--------------------+-------+-------------+---------------------+---+\n",
      "only showing top 5 rows\n",
      "\n"
     ]
    }
   ],
   "source": [
    "df_raw_nodes_members = (\n",
    "    df_members\n",
    "        .withColumnRenamed('name_id', 'id')\n",
    "        .dropDuplicates(['id'])\n",
    "        .withColumnRenamed('id', 'mid')\n",
    "        .coalesce(1)\n",
    "        .withColumn('id', F.monotonically_increasing_id())\n",
    ")\n",
    "print(df_raw_nodes_members.count())\n",
    "df_raw_nodes_members.show(5)"
   ],
   "metadata": {
    "collapsed": false,
    "pycharm": {
     "name": "#%%\n"
    }
   }
  },
  {
   "cell_type": "code",
   "execution_count": 153,
   "outputs": [
    {
     "name": "stdout",
     "output_type": "stream",
     "text": [
      "2\n",
      "['Republican', 'Democratic']\n",
      "24\n",
      "['Alabama', 'Michigan', 'North Carolina', 'California', 'Georgia', 'Texas', 'Florida', 'Indiana', 'Ohio', 'Illinois', 'Virginia', 'Pennsylvania', 'Colorado', 'Arizona', 'Maryland', 'New York', 'Tennessee', 'South Carolina', 'Missouri', 'Massachusetts', 'Minnesota', 'Wisconsin', 'Washington', 'New Jersey']\n"
     ]
    }
   ],
   "source": [
    "parties_list = df_raw_nodes_members.groupby('current_party').count().filter(F.col('count') > 5).select(\n",
    "    'current_party').rdd.flatMap(lambda x: x).collect()\n",
    "print(len(parties_list))\n",
    "print(parties_list)\n",
    "\n",
    "state_list = df_raw_nodes_members.groupby('state').count().filter(F.col('count') > 6).select('state').rdd.flatMap(\n",
    "    lambda x: x).collect()\n",
    "print(len(state_list))\n",
    "print(state_list)"
   ],
   "metadata": {
    "collapsed": false,
    "pycharm": {
     "name": "#%%\n"
    }
   }
  },
  {
   "cell_type": "code",
   "execution_count": 154,
   "outputs": [
    {
     "data": {
      "text/plain": "[Row(mid='A000055', name='robert-aderholt', state='Alabama', url='https://www.congress.gov/member/robert-aderholt/A000055', chamber='House', current_party='Republican', committee_assignments=['Appropriations'], id=0, feat_Republican=True, feat_Democratic=False, feat_Alabama=True, feat_Michigan=False, feat_NorthCarolina=False, feat_California=False, feat_Georgia=False, feat_Texas=False, feat_Florida=False, feat_Indiana=False, feat_Ohio=False, feat_Illinois=False, feat_Virginia=False, feat_Pennsylvania=False, feat_Colorado=False, feat_Arizona=False, feat_Maryland=False, feat_NewYork=False, feat_Tennessee=False, feat_SouthCarolina=False, feat_Missouri=False, feat_Massachusetts=False, feat_Minnesota=False, feat_Wisconsin=False, feat_Washington=False, feat_NewJersey=False, feat_StateOther=False, feat_PartyOther=False),\n Row(mid='A000367', name='justin-amash', state='Michigan', url='https://www.congress.gov/member/justin-amash/A000367', chamber='House', current_party='Independent', committee_assignments=[], id=1, feat_Republican=False, feat_Democratic=False, feat_Alabama=False, feat_Michigan=True, feat_NorthCarolina=False, feat_California=False, feat_Georgia=False, feat_Texas=False, feat_Florida=False, feat_Indiana=False, feat_Ohio=False, feat_Illinois=False, feat_Virginia=False, feat_Pennsylvania=False, feat_Colorado=False, feat_Arizona=False, feat_Maryland=False, feat_NewYork=False, feat_Tennessee=False, feat_SouthCarolina=False, feat_Missouri=False, feat_Massachusetts=False, feat_Minnesota=False, feat_Wisconsin=False, feat_Washington=False, feat_NewJersey=False, feat_StateOther=False, feat_PartyOther=True),\n Row(mid='A000369', name='mark-amodei', state='Nevada', url='https://www.congress.gov/member/mark-amodei/A000369', chamber='House', current_party='Republican', committee_assignments=['Appropriations'], id=2, feat_Republican=True, feat_Democratic=False, feat_Alabama=False, feat_Michigan=False, feat_NorthCarolina=False, feat_California=False, feat_Georgia=False, feat_Texas=False, feat_Florida=False, feat_Indiana=False, feat_Ohio=False, feat_Illinois=False, feat_Virginia=False, feat_Pennsylvania=False, feat_Colorado=False, feat_Arizona=False, feat_Maryland=False, feat_NewYork=False, feat_Tennessee=False, feat_SouthCarolina=False, feat_Missouri=False, feat_Massachusetts=False, feat_Minnesota=False, feat_Wisconsin=False, feat_Washington=False, feat_NewJersey=False, feat_StateOther=True, feat_PartyOther=False),\n Row(mid='A000370', name='alma-adams', state='North Carolina', url='https://www.congress.gov/member/alma-adams/A000370', chamber='House', current_party='Democratic', committee_assignments=['Agriculture', 'Education and Labor', 'Financial Services'], id=3, feat_Republican=False, feat_Democratic=True, feat_Alabama=False, feat_Michigan=False, feat_NorthCarolina=True, feat_California=False, feat_Georgia=False, feat_Texas=False, feat_Florida=False, feat_Indiana=False, feat_Ohio=False, feat_Illinois=False, feat_Virginia=False, feat_Pennsylvania=False, feat_Colorado=False, feat_Arizona=False, feat_Maryland=False, feat_NewYork=False, feat_Tennessee=False, feat_SouthCarolina=False, feat_Missouri=False, feat_Massachusetts=False, feat_Minnesota=False, feat_Wisconsin=False, feat_Washington=False, feat_NewJersey=False, feat_StateOther=False, feat_PartyOther=False),\n Row(mid='A000371', name='pete-aguilar', state='California', url='https://www.congress.gov/member/pete-aguilar/A000371', chamber='House', current_party='Democratic', committee_assignments=['Appropriations', 'House Administration'], id=4, feat_Republican=False, feat_Democratic=True, feat_Alabama=False, feat_Michigan=False, feat_NorthCarolina=False, feat_California=True, feat_Georgia=False, feat_Texas=False, feat_Florida=False, feat_Indiana=False, feat_Ohio=False, feat_Illinois=False, feat_Virginia=False, feat_Pennsylvania=False, feat_Colorado=False, feat_Arizona=False, feat_Maryland=False, feat_NewYork=False, feat_Tennessee=False, feat_SouthCarolina=False, feat_Missouri=False, feat_Massachusetts=False, feat_Minnesota=False, feat_Wisconsin=False, feat_Washington=False, feat_NewJersey=False, feat_StateOther=False, feat_PartyOther=False)]"
     },
     "execution_count": 154,
     "metadata": {},
     "output_type": "execute_result"
    }
   ],
   "source": [
    "df_nodes_members = (\n",
    "    df_raw_nodes_members.select(\n",
    "        ['*'] + [\n",
    "            (F.col('current_party') == party).alias(f'feat_{party}')\n",
    "            for party in parties_list\n",
    "        ] + [\n",
    "            (F.col('state') == state).alias(f'feat_' + state.replace(' ', ''))\n",
    "            for state in state_list\n",
    "        ] + [\n",
    "            (~F.col('state').isin(state_list)).alias(f'feat_' + 'StateOther'),\n",
    "            (~F.col('current_party').isin(parties_list)).alias(f'feat_' + 'PartyOther'),\n",
    "        ]\n",
    "    )\n",
    ")\n",
    "df_nodes_members.head(5)"
   ],
   "metadata": {
    "collapsed": false,
    "pycharm": {
     "name": "#%%\n"
    }
   }
  },
  {
   "cell_type": "code",
   "execution_count": 155,
   "outputs": [
    {
     "name": "stdout",
     "output_type": "stream",
     "text": [
      "95\n"
     ]
    },
    {
     "data": {
      "text/plain": "[Row(name='Education and Labor', id=0),\n Row(name='Foreign Affairs', id=1),\n Row(name='Armed Services, Chair', id=2),\n Row(name='Select Committee on the Modernization of Congress', id=3),\n Row(name='Financial Services', id=4)]"
     },
     "execution_count": 155,
     "metadata": {},
     "output_type": "execute_result"
    }
   ],
   "source": [
    "df_nodes_commitee = (\n",
    "    df_nodes_members.select(F.explode('committee_assignments').alias('id'))\n",
    "        .union(df_legislation.select(F.explode('committees').alias('id')))\n",
    "        .dropDuplicates(['id'])\n",
    "        .withColumnRenamed('id', 'name')\n",
    "        .coalesce(1)\n",
    "        .withColumn('id', F.monotonically_increasing_id())\n",
    ")\n",
    "print(df_nodes_commitee.count())\n",
    "df_nodes_commitee.head(5)"
   ],
   "metadata": {
    "collapsed": false,
    "pycharm": {
     "name": "#%%\n"
    }
   }
  },
  {
   "cell_type": "code",
   "execution_count": 156,
   "outputs": [
    {
     "name": "stdout",
     "output_type": "stream",
     "text": [
      "5806\n",
      "+------------+--------------------+-------+--------------------+------------------+--------------------+--------------------+--------------------+-------------------+--------------------+-------------------+------+----------+--------------+---+\n",
      "|         bid|                name|sponsor|          cosponsors|     related_bills|         policy_area|            subjects|          committees|      bill_progress|             summary|    date_introduced|number| bill_type|timestamp_from| id|\n",
      "+------------+--------------------+-------+--------------------+------------------+--------------------+--------------------+--------------------+-------------------+--------------------+-------------------+------+----------+--------------+---+\n",
      "|H.Con.Res.10|Authorizing the u...|M001205|[M001195, M001187...|[H.R.2500, S.1790]|            Congress|[Conflicts and wa...|[House Administra...|         Introduced|This concurrent r...|2019-01-30 00:00:00|    10|H.Con.Res.|    1548802800|  0|\n",
      "|H.Con.Res.17|Expressing the se...|R000599|[C001091, R000486...|                []|         Immigration|[Border security ...|[House Judiciary,...|         Introduced|This concurrent r...|2019-02-11 00:00:00|    17|H.Con.Res.|    1549839600|  1|\n",
      "|H.Con.Res.19|Authorizing the u...|H000874|[N000147, B001304...|                []|            Congress|[Games and hobbie...|[House Transporta...|Agreed to in Senate|This concurrent r...|2019-02-14 00:00:00|    19|H.Con.Res.|    1550098800|  2|\n",
      "| H.Con.Res.2|Establishing the ...|G000568|  [A000367, C001118]|                []|            Congress|[Advisory bodies,...|[House Rules, Hou...|         Introduced|This concurrent r...|2019-01-03 00:00:00|     2|H.Con.Res.|    1546470000|  3|\n",
      "|H.Con.Res.20|Supporting the Lo...|C001066|[C001062, B001251...|     [S.Con.Res.5]|Science, Technolo...|[Broadcasting, ca...|   [House Judiciary]|         Introduced|This concurrent r...|2019-02-19 00:00:00|    20|H.Con.Res.|    1550530800|  4|\n",
      "+------------+--------------------+-------+--------------------+------------------+--------------------+--------------------+--------------------+-------------------+--------------------+-------------------+------+----------+--------------+---+\n",
      "only showing top 5 rows\n",
      "\n"
     ]
    }
   ],
   "source": [
    "df_nodes_bills = (\n",
    "    df_legislation\n",
    "        .withColumnRenamed('bill_id', 'id')\n",
    "        .dropDuplicates(['id'])\n",
    "        .withColumnRenamed('id', 'bid')\n",
    "        .withColumnRenamed('title', 'name')\n",
    "        .withColumn('timestamp_from', F.unix_timestamp(F.col('date_introduced')))\n",
    "        .coalesce(1)\n",
    "        .withColumn('id', F.monotonically_increasing_id())\n",
    ")\n",
    "print(df_nodes_bills.count())\n",
    "df_nodes_bills.show(5)"
   ],
   "metadata": {
    "collapsed": false,
    "pycharm": {
     "name": "#%%\n"
    }
   }
  },
  {
   "cell_type": "code",
   "execution_count": 157,
   "outputs": [
    {
     "name": "stdout",
     "output_type": "stream",
     "text": [
      "32\n",
      "['Congress', 'Government Operations and Politics', 'Armed Forces and National Security', 'Arts, Culture, Religion', 'International Affairs', 'Immigration', 'Science, Technology, Communications', 'Public Lands and Natural Resources', 'Crime and Law Enforcement', 'Taxation', 'Commerce', 'Sports and Recreation', 'Labor and Employment', 'Education', 'Environmental Protection', 'Transportation and Public Works', 'Emergency Management', 'Health', 'Foreign Trade and International Finance', 'Economics and Public Finance', 'Civil Rights and Liberties, Minority Issues', 'Families', 'Law', 'Animals', 'Energy', 'Water Resources Development', 'Finance and Financial Sector', 'Native Americans', 'Agriculture and Food', 'Housing and Community Development', 'Social Welfare', None]\n"
     ]
    }
   ],
   "source": [
    "area_list = df_nodes_bills.groupby('policy_area').count().filter(F.col('count') > 6).select('policy_area').rdd.flatMap(\n",
    "    lambda x: x).collect()\n",
    "print(len(area_list))\n",
    "print(area_list)"
   ],
   "metadata": {
    "collapsed": false,
    "pycharm": {
     "name": "#%%\n"
    }
   }
  },
  {
   "cell_type": "code",
   "execution_count": 158,
   "outputs": [
    {
     "name": "stdout",
     "output_type": "stream",
     "text": [
      "+------------+--------------------+-------+--------------------+------------------+--------------------+--------------------+--------------------+-------------------+--------------------+-------------------+------+----------+--------------+---+-------------+------------------------------------+-----------------------------------+------------------------+-------------------------+----------------+------------------------------------+-----------------------------------+---------------------------+-------------+-------------+------------------------+-----------------------+--------------+----------------------------+---------------------------------+------------------------+-----------+----------------------------------------+------------------------------+------------------------------------------+-------------+--------+------------+-----------+------------------------------+------------------------------+--------------------+-----------------------+-----------------------------------+------------------+---------+\n",
      "|         bid|                name|sponsor|          cosponsors|     related_bills|         policy_area|            subjects|          committees|      bill_progress|             summary|    date_introduced|number| bill_type|timestamp_from| id|feat_Congress|feat_GovernmentOperationsandPolitics|feat_ArmedForcesandNationalSecurity|feat_ArtsCultureReligion|feat_InternationalAffairs|feat_Immigration|feat_ScienceTechnologyCommunications|feat_PublicLandsandNaturalResources|feat_CrimeandLawEnforcement|feat_Taxation|feat_Commerce|feat_SportsandRecreation|feat_LaborandEmployment|feat_Education|feat_EnvironmentalProtection|feat_TransportationandPublicWorks|feat_EmergencyManagement|feat_Health|feat_ForeignTradeandInternationalFinance|feat_EconomicsandPublicFinance|feat_CivilRightsandLibertiesMinorityIssues|feat_Families|feat_Law|feat_Animals|feat_Energy|feat_WaterResourcesDevelopment|feat_FinanceandFinancialSector|feat_NativeAmericans|feat_AgricultureandFood|feat_HousingandCommunityDevelopment|feat_SocialWelfare|feat_None|\n",
      "+------------+--------------------+-------+--------------------+------------------+--------------------+--------------------+--------------------+-------------------+--------------------+-------------------+------+----------+--------------+---+-------------+------------------------------------+-----------------------------------+------------------------+-------------------------+----------------+------------------------------------+-----------------------------------+---------------------------+-------------+-------------+------------------------+-----------------------+--------------+----------------------------+---------------------------------+------------------------+-----------+----------------------------------------+------------------------------+------------------------------------------+-------------+--------+------------+-----------+------------------------------+------------------------------+--------------------+-----------------------+-----------------------------------+------------------+---------+\n",
      "|H.Con.Res.10|Authorizing the u...|M001205|[M001195, M001187...|[H.R.2500, S.1790]|            Congress|[Conflicts and wa...|[House Administra...|         Introduced|This concurrent r...|2019-01-30 00:00:00|    10|H.Con.Res.|    1548802800|  0|         true|                               false|                              false|                   false|                    false|           false|                               false|                              false|                      false|        false|        false|                   false|                  false|         false|                       false|                            false|                   false|      false|                                   false|                         false|                                     false|        false|   false|       false|      false|                         false|                         false|               false|                  false|                              false|             false|     null|\n",
      "|H.Con.Res.17|Expressing the se...|R000599|[C001091, R000486...|                []|         Immigration|[Border security ...|[House Judiciary,...|         Introduced|This concurrent r...|2019-02-11 00:00:00|    17|H.Con.Res.|    1549839600|  1|        false|                               false|                              false|                   false|                    false|            true|                               false|                              false|                      false|        false|        false|                   false|                  false|         false|                       false|                            false|                   false|      false|                                   false|                         false|                                     false|        false|   false|       false|      false|                         false|                         false|               false|                  false|                              false|             false|     null|\n",
      "|H.Con.Res.19|Authorizing the u...|H000874|[N000147, B001304...|                []|            Congress|[Games and hobbie...|[House Transporta...|Agreed to in Senate|This concurrent r...|2019-02-14 00:00:00|    19|H.Con.Res.|    1550098800|  2|         true|                               false|                              false|                   false|                    false|           false|                               false|                              false|                      false|        false|        false|                   false|                  false|         false|                       false|                            false|                   false|      false|                                   false|                         false|                                     false|        false|   false|       false|      false|                         false|                         false|               false|                  false|                              false|             false|     null|\n",
      "| H.Con.Res.2|Establishing the ...|G000568|  [A000367, C001118]|                []|            Congress|[Advisory bodies,...|[House Rules, Hou...|         Introduced|This concurrent r...|2019-01-03 00:00:00|     2|H.Con.Res.|    1546470000|  3|         true|                               false|                              false|                   false|                    false|           false|                               false|                              false|                      false|        false|        false|                   false|                  false|         false|                       false|                            false|                   false|      false|                                   false|                         false|                                     false|        false|   false|       false|      false|                         false|                         false|               false|                  false|                              false|             false|     null|\n",
      "|H.Con.Res.20|Supporting the Lo...|C001066|[C001062, B001251...|     [S.Con.Res.5]|Science, Technolo...|[Broadcasting, ca...|   [House Judiciary]|         Introduced|This concurrent r...|2019-02-19 00:00:00|    20|H.Con.Res.|    1550530800|  4|        false|                               false|                              false|                   false|                    false|           false|                                true|                              false|                      false|        false|        false|                   false|                  false|         false|                       false|                            false|                   false|      false|                                   false|                         false|                                     false|        false|   false|       false|      false|                         false|                         false|               false|                  false|                              false|             false|     null|\n",
      "+------------+--------------------+-------+--------------------+------------------+--------------------+--------------------+--------------------+-------------------+--------------------+-------------------+------+----------+--------------+---+-------------+------------------------------------+-----------------------------------+------------------------+-------------------------+----------------+------------------------------------+-----------------------------------+---------------------------+-------------+-------------+------------------------+-----------------------+--------------+----------------------------+---------------------------------+------------------------+-----------+----------------------------------------+------------------------------+------------------------------------------+-------------+--------+------------+-----------+------------------------------+------------------------------+--------------------+-----------------------+-----------------------------------+------------------+---------+\n",
      "only showing top 5 rows\n",
      "\n"
     ]
    }
   ],
   "source": [
    "df_nodes_bills = (\n",
    "    df_nodes_bills.select(\n",
    "        ['*'] + [\n",
    "            (F.col('policy_area') == area).alias(f'feat_{area}'.replace(' ', '').replace(',', ''))\n",
    "            for area in area_list\n",
    "        ]\n",
    "    )\n",
    ")\n",
    "df_nodes_bills.show(5)"
   ],
   "metadata": {
    "collapsed": false,
    "pycharm": {
     "name": "#%%\n"
    }
   }
  },
  {
   "cell_type": "code",
   "execution_count": 159,
   "outputs": [
    {
     "name": "stdout",
     "output_type": "stream",
     "text": [
      "642\n"
     ]
    },
    {
     "data": {
      "text/plain": "[Row(rid='2019:001', roll_num=1, date=datetime.datetime(2019, 1, 3, 0, 0), bill_id='QUORUM', name='Call by States', result='P', description=None, id=0, feat_ResultP=True, feat_ResultF=False, feat_ResultA=False),\n Row(rid='2019:002', roll_num=2, date=datetime.datetime(2019, 1, 3, 0, 0), bill_id=None, name='Election of the Speaker', result='P', description='\\xa0', id=1, feat_ResultP=True, feat_ResultF=False, feat_ResultA=False),\n Row(rid='2019:003', roll_num=3, date=datetime.datetime(2019, 1, 3, 0, 0), bill_id='H.RES.5', name='On Motion to Table the Motion to Refer', result='P', description='Providing for consideration of H.Res. 6, adopting the Rules of the House of Representatives for the 116th Congress; providing for consideration of H.R. 21, making appropriations for the FY ending September 30, 2019, and for other purposes', id=2, feat_ResultP=True, feat_ResultF=False, feat_ResultA=False),\n Row(rid='2019:004', roll_num=4, date=datetime.datetime(2019, 1, 3, 0, 0), bill_id='H.RES.5', name='On Ordering the Previous Question', result='P', description='Providing for consideration of H.Res. 6, adopting the Rules of the House of Representatives for the 116th Congress; H.R. 21, making appropriations for the FY ending September 30, 2019; H.J.Res. 1, making further continuing appropriations for the Department of Homeland Security for FY 2019, and for other purposes', id=3, feat_ResultP=True, feat_ResultF=False, feat_ResultA=False),\n Row(rid='2019:005', roll_num=5, date=datetime.datetime(2019, 1, 3, 0, 0), bill_id='H.RES.5', name='On Motion to Commit with Instructions', result='F', description='Providing for consideration of H.Res. 6, adopting the Rules of the House of Representatives for the 116th Congress; H.R. 21, making appropriations for the FY ending September 30, 2019; H.J.Res. 1, making further continuing appropriations for the Department of Homeland Security for FY 2019, and for other purposes', id=4, feat_ResultP=False, feat_ResultF=True, feat_ResultA=False)]"
     },
     "execution_count": 159,
     "metadata": {},
     "output_type": "execute_result"
    }
   ],
   "source": [
    "df_nodes_rolecalls = (\n",
    "    df_rollcall_info\n",
    "        .withColumnRenamed('rollcall_id', 'id')\n",
    "        .drop('congress', 'session')\n",
    "        .dropDuplicates(['id'])\n",
    "        .withColumnRenamed('question', 'name')\n",
    "        .withColumnRenamed('id', 'rid')\n",
    "        .coalesce(1)\n",
    "        .withColumn('id', F.monotonically_increasing_id())\n",
    "        .withColumn('feat_ResultP', F.col('result') == 'P')\n",
    "        .withColumn('feat_ResultF', F.col('result') == 'F')\n",
    "        .withColumn('feat_ResultA', F.col('result') == 'A')\n",
    ")\n",
    "print(df_nodes_rolecalls.count())\n",
    "df_nodes_rolecalls.head(5)"
   ],
   "metadata": {
    "collapsed": false,
    "pycharm": {
     "name": "#%%\n"
    }
   }
  },
  {
   "cell_type": "code",
   "execution_count": 160,
   "outputs": [
    {
     "name": "stdout",
     "output_type": "stream",
     "text": [
      "6249\n"
     ]
    }
   ],
   "source": [
    "df_node_ids = (\n",
    "    df_nodes_members.select('mid')\n",
    "        .union(df_nodes_commitee.select('id'))\n",
    "        .union(df_nodes_bills.select('id'))\n",
    "        .union(df_nodes_rolecalls.select('id'))\n",
    "        .distinct()\n",
    ")\n",
    "print(df_node_ids.count())\n",
    "\n",
    "\n",
    "def filter_node_ids(df):\n",
    "    return df.join(\n",
    "        df_node_ids,\n",
    "        F.col('src') == F.col('id'),\n",
    "        'inner'\n",
    "    ).drop(\n",
    "        'id'\n",
    "    ).join(\n",
    "        df_node_ids,\n",
    "        F.col('dst') == F.col('id'),\n",
    "        'inner'\n",
    "    ).drop('id')"
   ],
   "metadata": {
    "collapsed": false,
    "pycharm": {
     "name": "#%%\n"
    }
   }
  },
  {
   "cell_type": "code",
   "execution_count": 161,
   "outputs": [],
   "source": [
    "def renumber_edge(df, a, a_id, b, b_id):\n",
    "    return (\n",
    "        df.alias('main')\n",
    "            .join(a.alias('a'), F.col('src') == F.col(f'a.{a_id}'), 'inner')\n",
    "            .join(b.alias('b'), F.col('dst') == F.col(f'b.{b_id}'), 'inner')\n",
    "            .select('main.*', 'a.id', 'b.id')\n",
    "            .withColumn('src', F.col('a.id'))\n",
    "            .withColumn('dst', F.col('b.id'))\n",
    "            .drop('id')\n",
    "    )"
   ],
   "metadata": {
    "collapsed": false,
    "pycharm": {
     "name": "#%%\n"
    }
   }
  },
  {
   "cell_type": "code",
   "execution_count": 162,
   "outputs": [
    {
     "name": "stdout",
     "output_type": "stream",
     "text": [
      "5806\n",
      "+---+----+--------------+\n",
      "|src| dst|timestamp_from|\n",
      "+---+----+--------------+\n",
      "|219| 410|    1546470000|\n",
      "|376|2648|    1546988400|\n",
      "| 49| 833|    1547679600|\n",
      "|248|1744|    1548284400|\n",
      "| 18|1960|    1549407600|\n",
      "+---+----+--------------+\n",
      "only showing top 5 rows\n",
      "\n"
     ]
    }
   ],
   "source": [
    "df_edges_sponsor = renumber_edge(\n",
    "    df_legislation.select(\n",
    "        F.col('sponsor').alias('src'),\n",
    "        F.col('bill_id').alias('dst'),\n",
    "        F.unix_timestamp(F.col('date_introduced')).alias('timestamp_from')\n",
    "    )\n",
    "        .dropDuplicates(['src', 'dst']),\n",
    "    df_nodes_members, 'mid',\n",
    "    df_nodes_bills, 'bid'\n",
    ")\n",
    "print(df_edges_sponsor.count())\n",
    "df_edges_sponsor.show(5)"
   ],
   "metadata": {
    "collapsed": false,
    "pycharm": {
     "name": "#%%\n"
    }
   }
  },
  {
   "cell_type": "code",
   "execution_count": 163,
   "outputs": [
    {
     "name": "stdout",
     "output_type": "stream",
     "text": [
      "102964\n",
      "+---+----+--------------+\n",
      "|src| dst|timestamp_from|\n",
      "+---+----+--------------+\n",
      "|247| 388|    1546470000|\n",
      "|293|1020|    1552345200|\n",
      "| 24|1540|    1548802800|\n",
      "| 56|2123|    1546902000|\n",
      "|166|2123|    1546902000|\n",
      "+---+----+--------------+\n",
      "only showing top 5 rows\n",
      "\n"
     ]
    }
   ],
   "source": [
    "df_edges_cosponsor = renumber_edge(\n",
    "    df_legislation.select(\n",
    "        F.explode('cosponsors').alias('cosponsor').alias('src'),\n",
    "        F.col('bill_id').alias('dst'),\n",
    "        F.unix_timestamp(F.col('date_introduced')).alias('timestamp_from')\n",
    "    )\n",
    "        .dropDuplicates(['src', 'dst']),\n",
    "    df_nodes_members, 'mid',\n",
    "    df_nodes_bills, 'bid'\n",
    ")\n",
    "print(df_edges_cosponsor.count())\n",
    "df_edges_cosponsor.show(5)"
   ],
   "metadata": {
    "collapsed": false,
    "pycharm": {
     "name": "#%%\n"
    }
   }
  },
  {
   "cell_type": "code",
   "execution_count": 164,
   "outputs": [
    {
     "name": "stdout",
     "output_type": "stream",
     "text": [
      "8145\n",
      "+---+----+--------------+\n",
      "|src| dst|timestamp_from|\n",
      "+---+----+--------------+\n",
      "| 79|1548|    1546470000|\n",
      "| 83| 328|    1547420400|\n",
      "| 89|2467|    1547506800|\n",
      "| 69|1749|    1550790000|\n",
      "| 71|2289|    1551049200|\n",
      "+---+----+--------------+\n",
      "only showing top 5 rows\n",
      "\n"
     ]
    }
   ],
   "source": [
    "df_edges_commitee_bill = renumber_edge(\n",
    "    df_legislation.select(\n",
    "        F.explode('committees').alias('src'),\n",
    "        F.col('bill_id').alias('dst'),\n",
    "        F.unix_timestamp(F.col('date_introduced')).alias('timestamp_from')\n",
    "    )\n",
    "        .dropDuplicates(['src', 'dst']),\n",
    "    df_nodes_commitee, 'name',\n",
    "    df_nodes_bills, 'bid'\n",
    ")\n",
    "print(df_edges_commitee_bill.count())\n",
    "df_edges_commitee_bill.show(5)"
   ],
   "metadata": {
    "collapsed": false,
    "pycharm": {
     "name": "#%%\n"
    }
   }
  },
  {
   "cell_type": "code",
   "execution_count": 165,
   "outputs": [
    {
     "name": "stdout",
     "output_type": "stream",
     "text": [
      "851\n",
      "+---+---+\n",
      "|src|dst|\n",
      "+---+---+\n",
      "|190| 31|\n",
      "|342| 31|\n",
      "|208| 30|\n",
      "|208|  0|\n",
      "|208|  4|\n",
      "+---+---+\n",
      "only showing top 5 rows\n",
      "\n"
     ]
    }
   ],
   "source": [
    "df_edges_commitee_member = renumber_edge(\n",
    "    df_nodes_members.select(\n",
    "        F.col('mid').alias('src'),\n",
    "        F.explode('committee_assignments').alias('dst'),\n",
    "    )\n",
    "        .dropDuplicates(['src', 'dst']),\n",
    "    df_nodes_members, 'mid',\n",
    "    df_nodes_commitee, 'name',\n",
    ")\n",
    "print(df_edges_commitee_member.count())\n",
    "df_edges_commitee_member.show(5)"
   ],
   "metadata": {
    "collapsed": false,
    "pycharm": {
     "name": "#%%\n"
    }
   }
  },
  {
   "cell_type": "code",
   "execution_count": 166,
   "outputs": [
    {
     "name": "stdout",
     "output_type": "stream",
     "text": [
      "1885\n",
      "+----+----+--------------+\n",
      "| src| dst|timestamp_from|\n",
      "+----+----+--------------+\n",
      "|1916| 388|    1546470000|\n",
      "|2608| 388|    1546470000|\n",
      "|4376|1741|    1547074800|\n",
      "|5765|1822|    1548716400|\n",
      "| 885|1028|    1549580400|\n",
      "+----+----+--------------+\n",
      "only showing top 5 rows\n",
      "\n"
     ]
    }
   ],
   "source": [
    "df_edges_related_bill = renumber_edge(\n",
    "    df_legislation.select(\n",
    "        F.explode('related_bills').alias('src'),\n",
    "        F.col('bill_id').alias('dst'),\n",
    "        F.unix_timestamp(F.col('date_introduced')).alias('timestamp_from')\n",
    "    )\n",
    "        .dropDuplicates(['src', 'dst']),\n",
    "    df_nodes_bills, 'bid',\n",
    "    df_nodes_bills, 'bid'\n",
    ")\n",
    "print(df_edges_related_bill.count())\n",
    "df_edges_related_bill.show(5)"
   ],
   "metadata": {
    "collapsed": false,
    "pycharm": {
     "name": "#%%\n"
    }
   }
  },
  {
   "cell_type": "code",
   "execution_count": 167,
   "outputs": [
    {
     "name": "stdout",
     "output_type": "stream",
     "text": [
      "471\n",
      "+---+----+--------------+\n",
      "|src| dst|timestamp_from|\n",
      "+---+----+--------------+\n",
      "|185| 475|    1546470000|\n",
      "|547|1585|    1560290400|\n",
      "|133|1891|    1563141600|\n",
      "|622|1583|    1571695200|\n",
      "|459|1585|    1560376800|\n",
      "+---+----+--------------+\n",
      "only showing top 5 rows\n",
      "\n"
     ]
    }
   ],
   "source": [
    "df_edges_rollcall_bill = renumber_edge(\n",
    "    df_rollcall_info.select(\n",
    "        F.col('rollcall_id').alias('src'),\n",
    "        F.col('bill_id').alias('dst'),\n",
    "        F.unix_timestamp(F.col('date')).alias('timestamp_from')\n",
    "    )\n",
    "        .dropDuplicates(['src', 'dst']),\n",
    "    df_nodes_rolecalls, 'rid',\n",
    "    df_nodes_bills, 'bid'\n",
    ")\n",
    "print(df_edges_rollcall_bill.count())\n",
    "df_edges_rollcall_bill.show(5)"
   ],
   "metadata": {
    "collapsed": false,
    "pycharm": {
     "name": "#%%\n"
    }
   }
  },
  {
   "cell_type": "code",
   "execution_count": 168,
   "outputs": [
    {
     "data": {
      "text/plain": "[Row(name_id='A000374', rollcall_id='2019:641', vote=-1),\n Row(name_id='A000374', rollcall_id='2019:639', vote=1),\n Row(name_id='A000374', rollcall_id='2019:640', vote=-1),\n Row(name_id='A000374', rollcall_id='2019:635', vote=1),\n Row(name_id='A000374', rollcall_id='2019:636', vote=1)]"
     },
     "execution_count": 168,
     "metadata": {},
     "output_type": "execute_result"
    }
   ],
   "source": [
    "df_rollcall_votes.head(5)"
   ],
   "metadata": {
    "collapsed": false,
    "pycharm": {
     "name": "#%%\n"
    }
   }
  },
  {
   "cell_type": "code",
   "execution_count": 169,
   "outputs": [
    {
     "name": "stdout",
     "output_type": "stream",
     "text": [
      "284406\n"
     ]
    },
    {
     "name": "stderr",
     "output_type": "stream",
     "text": [
      "[Stage 1321:>                                                       (0 + 1) / 1]\r"
     ]
    },
    {
     "name": "stdout",
     "output_type": "stream",
     "text": [
      "+---+---+----+\n",
      "|src|dst|vote|\n",
      "+---+---+----+\n",
      "|189|101|   1|\n",
      "|189|248|   0|\n",
      "|189|171|  -1|\n",
      "|208|519|   1|\n",
      "|208|541|   1|\n",
      "+---+---+----+\n",
      "only showing top 5 rows\n",
      "\n"
     ]
    },
    {
     "name": "stderr",
     "output_type": "stream",
     "text": [
      "                                                                                \r"
     ]
    }
   ],
   "source": [
    "df_edges_rollcall_vote = renumber_edge(\n",
    "    df_rollcall_votes.select(\n",
    "        F.col('name_id').alias('src'),\n",
    "        F.col('rollcall_id').alias('dst'),\n",
    "        'vote'\n",
    "    )\n",
    "        .dropDuplicates(['src', 'dst']),\n",
    "    df_nodes_members, 'mid',\n",
    "    df_nodes_rolecalls, 'rid',\n",
    ")\n",
    "print(df_edges_rollcall_vote.count())\n",
    "df_edges_rollcall_vote.show(5)"
   ],
   "metadata": {
    "collapsed": false,
    "pycharm": {
     "name": "#%%\n"
    }
   }
  },
  {
   "cell_type": "code",
   "execution_count": 170,
   "outputs": [
    {
     "name": "stderr",
     "output_type": "stream",
     "text": [
      "                                                                                \r"
     ]
    }
   ],
   "source": [
    "df_nodes_members.write.parquet(DS.processed_str('node__Member'), mode='overwrite')\n",
    "df_nodes_commitee.write.parquet(DS.processed_str('node__Commitee'), mode='overwrite')\n",
    "df_nodes_bills.write.parquet(DS.processed_str('node__Bill'), mode='overwrite')\n",
    "df_nodes_rolecalls.write.parquet(DS.processed_str('node__Rollcall'), mode='overwrite')\n",
    "\n",
    "df_edges_sponsor.write.parquet(DS.processed_str('edge__Member_SPONSORS_Bill'), mode='overwrite')\n",
    "df_edges_cosponsor.write.parquet(DS.processed_str('edge__Member_COSPONSORS_Bill'), mode='overwrite')\n",
    "df_edges_commitee_bill.write.parquet(DS.processed_str('edge__Commitee_COMMITEES_Bill'), mode='overwrite')\n",
    "df_edges_commitee_member.write.parquet(DS.processed_str('edge__Member_ISIN_Commitee'), mode='overwrite')\n",
    "df_edges_related_bill.write.parquet(DS.processed_str('edge__Bill_RELATEDTO_Bill'), mode='overwrite')\n",
    "df_edges_rollcall_bill.write.parquet(DS.processed_str('edge__Rollcall_ROLLCALLFOR_Bill'), mode='overwrite')\n",
    "df_edges_rollcall_vote.write.parquet(DS.processed_str('edge__Member_VOTEDFOR_Rollcall'), mode='overwrite')"
   ],
   "metadata": {
    "collapsed": false,
    "pycharm": {
     "name": "#%%\n"
    }
   }
  },
  {
   "cell_type": "code",
   "execution_count": 170,
   "outputs": [],
   "source": [],
   "metadata": {
    "collapsed": false,
    "pycharm": {
     "name": "#%%\n"
    }
   }
  }
 ],
 "metadata": {
  "kernelspec": {
   "display_name": "Python 3",
   "language": "python",
   "name": "python3"
  },
  "language_info": {
   "codemirror_mode": {
    "name": "ipython",
    "version": 2
   },
   "file_extension": ".py",
   "mimetype": "text/x-python",
   "name": "python",
   "nbconvert_exporter": "python",
   "pygments_lexer": "ipython2",
   "version": "2.7.6"
  }
 },
 "nbformat": 4,
 "nbformat_minor": 0
}