{
 "cells": [
  {
   "cell_type": "code",
   "execution_count": 2,
   "metadata": {
    "collapsed": true
   },
   "outputs": [],
   "source": [
    "% load_ext autoreload\n",
    "% autoreload 2"
   ]
  },
  {
   "cell_type": "code",
   "execution_count": 20,
   "outputs": [],
   "source": [
    "import pyspark.sql.functions as F\n",
    "import pyspark.sql.types as T\n",
    "from pyspark.sql import SparkSession"
   ],
   "metadata": {
    "collapsed": false,
    "pycharm": {
     "name": "#%%\n"
    }
   }
  },
  {
   "cell_type": "code",
   "execution_count": 4,
   "outputs": [],
   "source": [
    "from shared.schema import DatasetSchema\n",
    "\n",
    "DATASET = DatasetSchema.load_schema('house-of-representatives-congress-116')\n",
    "DATASET.save_schema()"
   ],
   "metadata": {
    "collapsed": false,
    "pycharm": {
     "name": "#%%\n"
    }
   }
  },
  {
   "cell_type": "code",
   "execution_count": 5,
   "outputs": [
    {
     "name": "stderr",
     "output_type": "stream",
     "text": [
      "22/01/25 19:05:49 WARN Utils: Your hostname, megatron resolves to a loopback address: 127.0.1.1; using 192.168.1.89 instead (on interface enp7s0)\n",
      "22/01/25 19:05:49 WARN Utils: Set SPARK_LOCAL_IP if you need to bind to another address\n",
      "Using Spark's default log4j profile: org/apache/spark/log4j-defaults.properties\n",
      "Setting default log level to \"WARN\".\n",
      "To adjust logging level use sc.setLogLevel(newLevel). For SparkR, use setLogLevel(newLevel).\n",
      "22/01/25 19:05:49 WARN NativeCodeLoader: Unable to load native-hadoop library for your platform... using builtin-java classes where applicable\n"
     ]
    }
   ],
   "source": [
    "spark = (SparkSession.builder\n",
    "         .appName(f'{DATASET}')\n",
    "         .config('spark.sql.legacy.timeParserPolicy', 'LEGACY')\n",
    "         .config(\"spark.executor.memory\", \"8g\")\n",
    "         .config(\"spark.driver.memory\", \"8g\")\n",
    "         .config(\"spark.memory.offHeap.enabled\", True)\n",
    "         .config(\"spark.memory.offHeap.size\", \"16g\")\n",
    "         .getOrCreate())"
   ],
   "metadata": {
    "collapsed": false,
    "pycharm": {
     "name": "#%%\n"
    }
   }
  },
  {
   "cell_type": "code",
   "execution_count": 30,
   "outputs": [],
   "source": [
    "udf_eval_array = F.udf(lambda x: eval(x), T.ArrayType(T.StringType()))"
   ],
   "metadata": {
    "collapsed": false,
    "pycharm": {
     "name": "#%%\n"
    }
   }
  },
  {
   "cell_type": "code",
   "execution_count": 34,
   "outputs": [
    {
     "data": {
      "text/plain": "[Row(bill_id='H.R.1', title=\"To expand Americans' access to the ballot box, reduce the influence of big money in politics, and strengthen ethics rules for public servants, and for other purposes.\", sponsor='S001168', cosponsors=['P000197', 'A000370', 'A000376', 'B001300', 'B001281', 'B001292', 'B000490', 'B000574', 'B001278', 'B001296', 'B001304', 'B001285', 'B001286', 'B001251', 'C001112', 'C001097', 'C001090', 'C001055', 'C001117', 'C001066', 'C001080', 'C001084', 'C001123', 'C001101', 'C001067', 'C001049', 'C000537', 'C001068', 'C001078', 'C000754', 'C001110', 'C001069', 'C001124', 'C001119', 'C001111', 'C001121', 'C000984', 'D000629', 'D000096', 'D000598', 'D000631', 'D000191', 'D000197', 'D000216', 'D000617', 'D000630', 'D000627', 'D000623', 'D000610', 'D000624', 'D000482', 'E000179', 'E000299', 'E000215', 'E000297', 'E000296', 'F000468', 'F000462', 'G000571', 'G000574', 'G000559', 'G000587', 'G000586', 'G000592', 'G000585', 'G000553', 'G000551', 'H001080', 'H001090', 'H000324', 'H001081', 'H001064', 'H001038', 'H001087', 'H001047', 'H001066', 'H001085', 'H000874', 'H001068', 'J000032', 'J000298', 'J000294', 'J000288', 'K000009', 'K000375', 'K000385', 'K000379', 'K000389', 'K000380', 'K000381', 'K000394', 'K000188', 'K000368', 'K000391', 'K000382', 'L000588', 'L000559', 'L000560', 'L000557', 'L000581', 'L000586', 'L000551', 'L000590', 'L000592', 'L000593', 'L000287', 'L000582', 'L000565', 'L000397', 'L000579', 'L000480', 'L000570', 'L000562', 'M001203', 'M000087', 'M001185', 'M001163', 'M001143', 'M001200', 'M000312', 'M001166', 'M001137', 'M001188', 'M001206', 'M001196', 'M001207', 'N000002', 'N000179', 'N000015', 'N000191', 'N000188', 'N000147', 'O000172', 'O000173', 'P000034', 'P000613', 'P000614', 'P000096', 'P000604', 'P000608', 'P000616', 'P000597', 'P000607', 'P000618', 'P000617', 'P000523', 'Q000023', 'R000606', 'R000602', 'R000613', 'R000616', 'R000486', 'R000576', 'R000515', 'R000577', 'S001156', 'S001205', 'S001145', 'S001150', 'S001190', 'S001216', 'S000185', 'S000248', 'S001185', 'S001206', 'S000344', 'S001165', 'S000510', 'S001200', 'S001209', 'S001175', 'S001211', 'S001201', 'S001193', 'T000472', 'T000193', 'T000460', 'T000468', 'T000481', 'T000469', 'T000474', 'T000482', 'T000483', 'U000040', 'V000130', 'V000131', 'V000132', 'V000081', 'W000797', 'W000822', 'W000187', 'W000800', 'W000826', 'W000808', 'Y000062', 'C001091', 'C001072', 'B001287', 'S001208', 'F000455', 'J000126', 'P000593', 'S001157', 'R000599', 'M001160', 'F000454', 'C001061', 'M001208', 'B001303', 'A000371', 'B001270', 'O000171', 'G000583', 'C001122', 'C001059', 'L000563', 'W000825', 'H001083', 'D000399', 'F000467', 'A000378', 'V000108', 'L000591', 'V000133', 'P000258', 'S001207', 'S001215', 'M001202', 'B001308', 'S001180', 'G000581', 'M001209', 'T000484', 'S001177', 'C001063', 'R000588'], related_bills=['H.R.44', 'H.R.93', 'H.R.137', 'H.R.138', 'H.R.196', 'H.R.209', 'H1320', 'H.R.273', 'H.R.294', 'H.R.391', 'H.R.599', 'H.R.650', 'H.R.736', 'H.R.745', 'H.R.746', 'H.R.783', 'H.R.812', 'H.R.842', 'H.R.868', 'H.R.936', 'H.R.964', 'H.R.1057', 'H.R.1176', 'H.R.1272', 'H.R.1275', 'H.R.1382', 'H2733', 'H.R.1438', 'H.R.1451', 'H.R.1462', 'H.R.1463', 'H.R.1467', 'H.R.1474', 'H.R.1481', 'H.R.1504', 'H.R.1535', 'H.R.1546', 'H.R.1573', 'H.R.1613', 'H.R.1623', 'H.R.1624', 'H.R.1626', 'H.R.2341', 'H.R.2592', 'H.R.2652', 'H.R.2722', 'H.R.2977', 'H.R.3201', 'H.R.3281', 'H.R.3572', 'H.R.4053', 'H.R.4054', 'H.R.4055', 'H.R.4612', 'H.Res.157', 'H.Res.172', 'S.195', 'S.232', 'S.338', 'S.393', 'S.484', 'S.547', 'S.549', 'S.621', 'S.624', 'S.625', 'S.949', 'S.958', 'S.1147', 'S.1356', 'S.1540', 'S.1834', 'S.1917', 'S.2053', 'S.2226'], policy_area='Government Operations and Politics', subjects=['Administrative law and regulatory procedures', 'Appropriations', 'Assault and harassment offenses', 'Broadcasting, cable, digital technologies', 'Business ethics', 'Business records', 'Census and government statistics', 'Civil actions and liability', 'Commemorative events and holidays', 'Computer security and identity theft', 'Computers and information technology', 'Congressional agencies', 'Congressional districts and representation', 'Congressional elections', 'Congressional officers and employees', 'Congressional operations and organization', 'Congressional oversight', 'Constitution and constitutional amendments', 'Corporate finance and management', 'Department of Commerce', 'Department of the Treasury', 'Digital media', 'Diplomacy, foreign officials, Americans abroad', 'Disability and paralysis', 'Election Assistance Commission', 'Elections, voting, political campaign regulation', 'Employment discrimination and employee rights', 'Executive Office of the President', 'Executive agency funding and structure', 'Federal Election Commission (FEC)', 'Federal appellate courts', 'Federal district courts', 'Federal officials', 'Foreign and international corporations', 'Fraud offenses and financial crimes', 'Government Publishing Office (GPO)', 'Government employee pay, benefits, personnel management', 'Government ethics and transparency, public corruption', 'Government information and archives', 'Government studies and investigations', 'Higher education', 'House of Representatives', 'Intelligence activities, surveillance, classified information', 'Internal Revenue Service (IRS)', 'Internet and video services', 'Judges', 'Judicial review and appeals', 'Juvenile crime and gang violence', 'Legislative rules and procedure', 'Library of Congress', 'Members of Congress', 'Military personnel and dependents', 'News media and reporting', 'Northern Mariana Islands', 'Office of Government Ethics', 'Political advertising', 'Presidents and presidential powers, Vice Presidents', 'Public contracts and procurement', 'Public participation and lobbying', 'Russia', 'Securities and Exchange Commission (SEC)', 'State and local government operations', 'Subversive activities', 'Supreme Court', 'Tax administration and collection, taxpayers', 'Tax-exempt organizations', 'Technology assessment', 'Television and film', 'U.S. and foreign investments', 'U.S. territories and protectorates', 'Voting rights', 'Wages and earnings'], committees=['House Administration', 'House Intelligence (Permanent Select)', 'House Judiciary', 'House Oversight and Reform', 'House Science, Space, and Technology', 'House Education and Labor', 'House Ways and Means', 'House Financial Services', 'House Ethics', 'House Homeland Security'], bill_progress='Passed House', summary='This bill addresses voter access, election integrity, election security, political spending, and ethics for the three branches of government.  Specifically, the bill expands voter registration and voting access, makes Election Day a federal holiday, and limits removing voters from voter rolls. The bill provides for states to establish independent, nonpartisan redistricting commissions. The bill also sets forth provisions related to election security, including sharing intelligence information with state election officials, protecting the security of the voter rolls, supporting states in securing their election systems, developing a national strategy to protect the security and integrity of U.S. democratic institutions, establishing in the legislative branch the National Commission to Protect United States Democratic Institutions, and other provisions to improve the cybersecurity of election systems. This bill addresses campaign spending, including by expanding the ban on foreign nationals contributing to or spending on elections; expanding disclosure rules pertaining to organizations spending money during elections, campaign advertisements, and online platforms; and revising disclaimer requirements for political advertising.  This bill establishes an alternative campaign funding system for certain federal offices. The system involves federal matching of small contributions for qualified candidates.  This bill sets forth provisions related to ethics in all three branches of government. Specifically, the bill requires a code of ethics for federal judges and justices, prohibits Members of the House from serving on the board of a for-profit entity, expands enforcement of regulations governing foreign agents, and establishes additional conflict-of-interest and ethics provisions for federal employees and the White House.  The bill also requires candidates for President and Vice President to submit 10 years of tax returns. This bill addresses voter access, election integrity, election security, political spending, and ethics for the three branches of government.  Specifically, the bill expands voter registration and voting access, makes Election Day a federal holiday, and limits removing voters from voter rolls. The bill provides for states to establish independent, nonpartisan redistricting commissions. The bill also sets forth provisions related to election security, including sharing intelligence information with state election officials, protecting the security of the voter rolls, supporting states in securing their election systems, developing a national strategy to protect the security and integrity of U.S. democratic institutions, establishing in the legislative branch the National Commission to Protect United States Democratic Institutions, and other provisions to improve the cybersecurity of election systems. This bill addresses campaign spending, including by expanding the ban on foreign nationals contributing to or spending on elections; expanding disclosure rules pertaining to organizations spending money during elections, campaign advertisements, and online platforms; and revising disclaimer requirements for political advertising.  This bill establishes an alternative campaign funding system for certain federal offices. The system involves federal matching of small contributions for qualified candidates.  This bill sets forth provisions related to ethics in all three branches of government. Specifically, the bill requires a code of ethics for federal judges and justices, prohibits Members of the House from serving on the board of a for-profit entity, expands enforcement of regulations governing foreign agents, and establishes additional conflict-of-interest and ethics provisions for federal employees and the White House.  The bill also requires candidates for President and Vice President to submit 10 years of tax returns. This bill addresses voter access, election integrity, election security, political spending, and ethics for the three branches of government.  Specifically, the bill expands voter registration and voting access, makes Election Day a federal holiday, and limits removing voters from voter rolls. The bill provides for states to establish independent, nonpartisan redistricting commissions. The bill also sets forth provisions related to election security, including sharing intelligence information with state election officials, protecting the security of the voter rolls, supporting states in securing their election systems, developing a national strategy to protect the security and integrity of U.S. democratic institutions, establishing in the legislative branch the National Commission to Protect United States Democratic Institutions, and other provisions to improve the cybersecurity of election systems. This bill addresses campaign spending, including by expanding the ban on foreign nationals contributing to or spending on elections; expanding disclosure rules pertaining to organizations spending money during elections, campaign advertisements, and online platforms; and revising disclaimer requirements for political advertising.  This bill establishes an alternative campaign funding system for certain federal offices. The system involves federal matching of small contributions for qualified candidates.  This bill sets forth provisions related to ethics in all three branches of government. Specifically, the bill requires a code of ethics for federal judges and justices, prohibits Members of the House from serving on the board of a for-profit entity, expands enforcement of regulations governing foreign agents, and establishes additional conflict-of-interest and ethics provisions for federal employees and the White House.  The bill also requires candidates for President and Vice President to submit 10 years of tax returns.', date_introduced=datetime.datetime(2019, 1, 3, 0, 0), number=1, bill_type='H.R.'),\n Row(bill_id='H.R.3', title='To establish a fair price negotiation program, protect the Medicare program from excessive price increases, and establish an out-of-pocket maximum for Medicare part D enrollees, and for other purposes.', sponsor='P000034', cosponsors=['N000015', 'S000185', 'L000557', 'K000382', 'D000197', 'R000515', 'S001206', 'R000577', 'M001206', 'S001177', 'C001055', 'E000179', 'C001066', 'F000462', 'E000296', 'C001069', 'N000188', 'M001160', 'K000380', 'N000147', 'M000312', 'V000108', 'C001112', 'P000614', 'B001278', 'H001087', 'H001081', 'C001090', 'M001166', 'B001303', 'K000394', 'T000483', 'A000376', 'R000613', 'T000460', 'M001188', 'C001068', 'S001201', 'W000826', 'E000215', 'S001200', 'H001066', 'V000132', 'B001281', 'W000797', 'K000375', 'G000592', 'S001150', 'C001119', 'W000800', 'D000482', 'G000587', 'D000096', 'R000599', 'M001163', 'S001208', 'W000808', 'L000565', 'C001111', 'B001286', 'M001207', 'C001117', 'S001216', 'C001063', 'W000825', 'C001061', 'S001145', 'S001168', 'M001185', 'L000586', 'P000616', 'S001190', 'M001137', 'E000297', 'L000562', 'H001038', 'L000559', 'C001080', 'S001215', 'P000593', 'D000629', 'A000378', 'H000324', 'B001292', 'L000480'], related_bills=['H.R.4619', 'H.R.4649', 'H8607', 'H.R.4663'], policy_area='Health', subjects=[], committees=['House Energy and Commerce', 'House Ways and Means', 'House Education and Labor'], bill_progress='Introduced', summary=\"This bill establishes several programs and requirements relating to the prices of prescription drugs.  In particular, the bill requires the Centers for Medicare & Medicaid Services (CMS) to negotiate prices for certain drugs (current law prohibits the CMS from doing so). Specifically, the CMS must negotiate maximum prices for (1) insulin products; and (2) at least 25 single source, brand name drugs that do not have generic competition and that are among the 125 drugs that account for the greatest national spending or the 125 drugs that account for the greatest spending under the Medicare prescription drug benefit and Medicare Advantage (MA). The negotiated prices must be offered under Medicare and MA, and may also be offered under private health insurance unless the insurer opts out. The negotiated maximum price may not exceed (1) 120% of the average price in Australia, Canada, France, Germany, Japan, and the United Kingdom; or (2) if such information is not available, 85% of the U.S. average manufacturer price. Drug manufacturers that fail to comply with the bill's negotiation requirements are subject to civil and tax penalties. The bill also makes a series of additional changes to Medicare prescription drug coverage and pricing. Among other things, the bill (1) requires drug manufacturers to issue rebates to the CMS for covered drugs that cost $100 or more and for which the average manufacturer price increases faster than inflation; and (2) reduces the annual out-of-pocket spending threshold, and eliminates beneficiary cost-sharing above this threshold, under the Medicare prescription drug benefit. This bill establishes several programs and requirements relating to the prices of prescription drugs.  In particular, the bill requires the Centers for Medicare & Medicaid Services (CMS) to negotiate prices for certain drugs (current law prohibits the CMS from doing so). Specifically, the CMS must negotiate maximum prices for (1) insulin products; and (2) at least 25 single source, brand name drugs that do not have generic competition and that are among the 125 drugs that account for the greatest national spending or the 125 drugs that account for the greatest spending under the Medicare prescription drug benefit and Medicare Advantage (MA). The negotiated prices must be offered under Medicare and MA, and may also be offered under private health insurance unless the insurer opts out. The negotiated maximum price may not exceed (1) 120% of the average price in Australia, Canada, France, Germany, Japan, and the United Kingdom; or (2) if such information is not available, 85% of the U.S. average manufacturer price. Drug manufacturers that fail to comply with the bill's negotiation requirements are subject to civil and tax penalties. The bill also makes a series of additional changes to Medicare prescription drug coverage and pricing. Among other things, the bill (1) requires drug manufacturers to issue rebates to the CMS for covered drugs that cost $100 or more and for which the average manufacturer price increases faster than inflation; and (2) reduces the annual out-of-pocket spending threshold, and eliminates beneficiary cost-sharing above this threshold, under the Medicare prescription drug benefit.\", date_introduced=datetime.datetime(2019, 9, 19, 0, 0), number=3, bill_type='H.R.'),\n Row(bill_id='H.R.4', title='To amend the Voting Rights Act of 1965 to revise the criteria for determining which States and political subdivisions are subject to section 4 of the Act, and for other purposes.', sponsor='S001185', cosponsors=['L000287', 'P000197', 'H000874', 'C000537', 'L000570', 'C001080', 'C001091', 'J000294', 'A000370', 'A000371', 'A000376', 'B001270', 'B001281', 'B001287', 'B001292', 'B000490', 'B000574', 'B001303', 'B001278', 'B001296', 'B001304', 'B001285', 'B001286', 'B001251', 'C001097', 'C001072', 'C001090', 'C001084', 'C001123', 'C001101', 'C001067', 'C001049', 'C001061', 'C001078', 'C000754', 'C001059', 'C001124', 'C001119', 'C001111', 'C000984', 'D000096', 'D000631', 'D000197', 'D000216', 'D000617', 'D000630', 'D000627', 'D000610', 'D000624', 'D000399', 'D000482', 'E000179', 'E000299', 'E000215', 'E000297', 'G000574', 'G000559', 'G000585', 'G000583', 'G000553', 'H001080', 'H000324', 'H001064', 'H001038', 'H001087', 'H001047', 'H001066', 'H001068', 'J000032', 'J000298', 'J000126', 'J000288', 'K000375', 'K000385', 'K000389', 'K000381', 'K000368', 'K000391', 'K000382', 'L000588', 'L000560', 'L000557', 'L000581', 'L000586', 'L000551', 'L000582', 'L000579', 'L000480', 'L000562', 'M000087', 'M001185', 'M001163', 'M001208', 'M001143', 'M001200', 'M000312', 'M001137', 'M001188', 'M001160', 'M001206', 'M001196', 'M001207', 'M001202', 'N000179', 'N000188', 'N000147', 'O000172', 'O000173', 'P000034', 'P000613', 'P000614', 'P000096', 'P000593', 'P000608', 'P000610', 'P000607', 'P000617', 'P000523', 'Q000023', 'R000606', 'R000602', 'R000616', 'R000486', 'R000576', 'R000515', 'R000577', 'S001156', 'S001205', 'S001145', 'S001150', 'S001190', 'S001216', 'S000185', 'S001157', 'S000248', 'S001206', 'S000344', 'S001207', 'S001165', 'S000510', 'S001200', 'S001209', 'S001175', 'S001201', 'S001193', 'T000472', 'T000193', 'T000468', 'T000481', 'T000469', 'T000474', 'T000482', 'V000132', 'W000797', 'W000822', 'W000800', 'W000826', 'W000808', 'C001055', 'C001117', 'C001066', 'C001068', 'D000629', 'D000623', 'F000467', 'F000468', 'F000454', 'C001063', 'C001121', 'F000455', 'K000380', 'K000188', 'L000592', 'L000593', 'L000565', 'L000397', 'N000191', 'M001166', 'P000616', 'P000597', 'R000599', 'S001168', 'S001208', 'S001211', 'S001215', 'T000460', 'U000040', 'V000131', 'V000081', 'W000187', 'W000825', 'P000618', 'V000130', 'G000586', 'G000581', 'T000483', 'C001069', 'H001083', 'B001300', 'D000598', 'E000296', 'F000462', 'G000551', 'H001081', 'N000002', 'K000379', 'H001085', 'Y000062', 'L000590', 'K000394', 'G000587', 'C001112', 'D000191', 'O000171', 'R000613', 'P000604', 'L000591', 'A000378', 'N000015', 'M001203', 'L000559', 'G000571', 'K000009', 'V000108', 'C001110'], related_bills=['H.R.1799', 'S.561'], policy_area='Government Operations and Politics', subjects=['Civil actions and liability', 'Elections, voting, political campaign regulation', 'Federal-Indian relations', 'Jurisdiction and venue', 'Racial and ethnic relations', 'State and local government operations', 'Voting rights'], committees=['House Judiciary'], bill_progress='Introduced', summary=None, date_introduced=datetime.datetime(2019, 2, 26, 0, 0), number=4, bill_type='H.R.'),\n Row(bill_id='H.R.5', title='To prohibit discrimination on the basis of sex, gender identity, and sexual orientation, and for other purposes.', sponsor='C001084', cosponsors=['F000466', 'C001119', 'D000629', 'H001087', 'M001185', 'P000614', 'P000607', 'T000472', 'A000370', 'A000371', 'A000376', 'A000378', 'B001300', 'B001270', 'B001281', 'B001287', 'B001292', 'B000490', 'B000574', 'B001303', 'B001278', 'B001296', 'B001308', 'B001304', 'B001285', 'B001286', 'B001251', 'C001112', 'C001097', 'C001072', 'C001090', 'C001055', 'C001117', 'C001066', 'C001091', 'C001080', 'C001123', 'C001101', 'C001067', 'C001049', 'C001061', 'C000537', 'C001068', 'C001078', 'C000754', 'C001110', 'C001059', 'C001069', 'C001124', 'C001111', 'C001121', 'C001063', 'C000984', 'C001122', 'D000598', 'D000096', 'D000631', 'D000191', 'D000197', 'D000216', 'D000617', 'D000630', 'D000627', 'D000623', 'D000610', 'D000624', 'D000399', 'D000482', 'E000179', 'E000299', 'E000215', 'E000297', 'E000296', 'F000467', 'F000468', 'F000454', 'F000462', 'F000455', 'G000571', 'G000574', 'G000559', 'G000587', 'G000586', 'G000592', 'G000585', 'G000581', 'G000583', 'G000553', 'G000551', 'H001080', 'H001090', 'H000324', 'H001081', 'H001064', 'H001038', 'H001047', 'H001083', 'H001066', 'H001085', 'H000874', 'H001068', 'J000032', 'J000298', 'J000294', 'J000288', 'J000126', 'K000009', 'K000386', 'K000375', 'K000385', 'K000379', 'K000389', 'K000380', 'K000381', 'K000394', 'K000188', 'K000368', 'K000391', 'K000382', 'L000588', 'L000559', 'L000560', 'L000557', 'L000581', 'L000586', 'L000551', 'L000590', 'L000593', 'L000592', 'L000287', 'L000582', 'L000565', 'L000397', 'L000579', 'L000480', 'L000570', 'L000591', 'L000562', 'M001203', 'M000087', 'M001163', 'M001209', 'M001208', 'M001143', 'M001200', 'M000312', 'M001166', 'M001137', 'M001188', 'M001160', 'M001206', 'M001196', 'M001207', 'M001202', 'N000002', 'N000179', 'N000015', 'N000191', 'N000188', 'N000147', 'O000172', 'O000171', 'O000173', 'P000034', 'P000613', 'P000096', 'P000604', 'P000197', 'P000593', 'P000608', 'P000258', 'P000616', 'P000597', 'P000610', 'P000618', 'P000617', 'P000523', 'Q000023', 'R000606', 'R000602', 'R000588', 'R000613', 'R000616', 'R000486', 'R000599', 'R000576', 'R000515', 'R000577', 'S001177', 'S001204', 'S001156', 'S001168', 'S001205', 'S001145', 'S001150', 'S001190', 'S001180', 'S001216', 'S000185', 'S001157', 'S000248', 'S001185', 'S001206', 'S000344', 'S001207', 'S001165', 'S001208', 'S000510', 'S001200', 'S001209', 'S001175', 'S001211', 'S001215', 'S001201', 'S001193', 'T000193', 'T000460', 'T000468', 'T000481', 'T000469', 'T000474', 'T000484', 'T000482', 'T000483', 'U000040', 'V000133', 'V000130', 'V000131', 'V000132', 'V000081', 'V000108', 'W000797', 'W000187', 'W000822', 'W000800', 'W000825', 'W000826', 'W000808', 'Y000062', 'G000582'], related_bills=['H.Res.377', 'S.788'], policy_area='Civil Rights and Liberties, Minority Issues', subjects=['Civil actions and liability', 'Consumer credit', 'Due process and equal protection', 'Elementary and secondary education', 'Employment discrimination and employee rights', 'Government employee pay, benefits, personnel management', 'Higher education', 'Housing discrimination', 'Judicial procedure and administration', 'Museums, exhibitions, cultural centers', 'Religion', 'Retail and wholesale trades', 'Sex, gender, sexual orientation discrimination', 'Sports and recreation facilities'], committees=['House Judiciary', 'House Education and Labor', 'House Financial Services', 'House Oversight and Reform', 'House Administration', 'Senate Judiciary'], bill_progress='Passed House', summary=\"This bill prohibits discrimination based on sex, sexual orientation, and gender identity in a wide variety of areas including public accommodations and facilities, education, federal funding, employment, housing, credit, and the jury system. Specifically, the bill defines and includes sex, sexual orientation, and gender identity among the prohibited categories of discrimination or segregation.  The bill expands the definition of public accommodations to include places or establishments that provide (1) exhibitions, recreation, exercise, amusement, gatherings, or displays; (2) goods, services, or programs; and (3) transportation services. The bill allows the Department of Justice to intervene in equal protection actions in federal court on account of sexual orientation or gender identity. Protections against discrimination based on race, color, religion, sex, sexual orientation, gender identity, or national origin shall include protections against discrimination based on (1) an association with another person who is a member of such a protected class; or (2) a perception or belief, even if inaccurate, that an individual is a member of such a protected class. The bill prohibits the Religious Freedom Restoration Act of 1993 from providing a claim, defense, or basis for challenging such protections.  The bill prohibits an individual from being denied access to a shared facility, including a restroom, a locker room, and a dressing room, that is in accordance with the individual's gender identity. This bill prohibits discrimination based on sex, sexual orientation, and gender identity in a wide variety of areas including public accommodations and facilities, education, federal funding, employment, housing, credit, and the jury system. Specifically, the bill defines and includes sex, sexual orientation, and gender identity among the prohibited categories of discrimination or segregation.  The bill expands the definition of public accommodations to include places or establishments that provide (1) exhibitions, recreation, exercise, amusement, gatherings, or displays; (2) goods, services, or programs; and (3) transportation services. The bill allows the Department of Justice to intervene in equal protection actions in federal court on account of sexual orientation or gender identity. Protections against discrimination based on race, color, religion, sex, sexual orientation, gender identity, or national origin shall include protections against discrimination based on (1) an association with another person who is a member of such a protected class; or (2) a perception or belief, even if inaccurate, that an individual is a member of such a protected class. The bill prohibits the Religious Freedom Restoration Act of 1993 from providing a claim, defense, or basis for challenging such protections.  The bill prohibits an individual from being denied access to a shared facility, including a restroom, a locker room, and a dressing room, that is in accordance with the individual's gender identity. This bill prohibits discrimination based on sex, sexual orientation, and gender identity in a wide variety of areas including public accommodations and facilities, education, federal funding, employment, housing, credit, and the jury system. Specifically, the bill defines and includes sex, sexual orientation, and gender identity among the prohibited categories of discrimination or segregation.  The bill expands the definition of public accommodations to include places or establishments that provide (1) exhibitions, recreation, exercise, amusement, gatherings, or displays; (2) goods, services, or programs; and (3) transportation services. The bill allows the Department of Justice to intervene in equal protection actions in federal court on account of sexual orientation or gender identity. Protections against discrimination based on race, color, religion, sex, sexual orientation, gender identity, or national origin shall include protections against discrimination based on (1) an association with another person who is a member of such a protected class; or (2) a perception or belief, even if inaccurate, that an individual is a member of such a protected class. The bill prohibits the Religious Freedom Restoration Act of 1993 from providing a claim, defense, or basis for challenging such protections.  The bill prohibits an individual from being denied access to a shared facility, including a restroom, a locker room, and a dressing room, that is in accordance with the individual's gender identity. This bill prohibits discrimination based on sex, sexual orientation, and gender identity in areas including public accommodations and facilities, education, federal funding, employment, housing, credit, and the jury system. Specifically, the bill defines and includes sex, sexual orientation, and gender identity among the prohibited categories of discrimination or segregation.  The bill expands the definition of public accommodations to include places or establishments that provide (1) exhibitions, recreation, exercise, amusement, gatherings, or displays; (2) goods, services, or programs; and (3) transportation services. The bill allows the Department of Justice to intervene in equal protection actions in federal court on account of sexual orientation or gender identity. The bill prohibits an individual from being denied access to a shared facility, including a restroom, a locker room, and a dressing room, that is in accordance with the individual's gender identity.\", date_introduced=datetime.datetime(2019, 3, 13, 0, 0), number=5, bill_type='H.R.'),\n Row(bill_id='H.R.6', title='To authorize the cancellation of removal and adjustment of status of certain aliens, and for other purposes.', sponsor='R000486', cosponsors=['V000081', 'C001067', 'A000371', 'B001300', 'C001112', 'C001097', 'C001091', 'C001123', 'C001110', 'C001059', 'E000299', 'E000297', 'G000574', 'G000586', 'G000587', 'G000585', 'G000581', 'G000551', 'L000593', 'L000570', 'M001207', 'N000179', 'O000172', 'R000599', 'S001177', 'S001204', 'S001156', 'S000248', 'S001165', 'S001200', 'T000484', 'T000474', 'T000482', 'V000130', 'V000132', 'A000370', 'A000376', 'B001270', 'B001287', 'B001292', 'B000574', 'B001303', 'B001278', 'B001296', 'B001304', 'B001285', 'B001286', 'B001251', 'C001072', 'C001117', 'C001066', 'C001080', 'C001084', 'C001101', 'C001049', 'C001061', 'C000537', 'C001068', 'C001078', 'C000754', 'C001069', 'C001124', 'C001111', 'C001121', 'C000984', 'D000096', 'D000598', 'D000631', 'D000191', 'D000197', 'D000216', 'D000617', 'D000630', 'D000627', 'D000623', 'D000610', 'D000624', 'D000399', 'D000482', 'E000179', 'E000215', 'E000296', 'F000468', 'F000462', 'F000455', 'G000571', 'G000559', 'G000553', 'H001080', 'H001090', 'H000324', 'H001081', 'H001064', 'H001038', 'H001087', 'H001047', 'H001066', 'H001085', 'H000874', 'H001068', 'J000032', 'J000298', 'J000294', 'J000126', 'J000288', 'K000375', 'K000385', 'K000379', 'K000389', 'K000380', 'K000381', 'K000394', 'K000188', 'K000368', 'K000391', 'K000382', 'L000559', 'L000560', 'L000557', 'L000581', 'L000586', 'L000551', 'L000590', 'L000592', 'L000287', 'L000582', 'L000563', 'L000397', 'L000579', 'L000480', 'L000591', 'M001203', 'M000087', 'M001185', 'M001163', 'M001143', 'M001200', 'M000312', 'M001166', 'M001137', 'M001188', 'M001160', 'M001196', 'N000002', 'N000015', 'N000191', 'N000188', 'N000147', 'O000171', 'O000173', 'P000034', 'P000613', 'P000614', 'P000096', 'P000604', 'P000197', 'P000593', 'P000608', 'P000597', 'P000610', 'P000607', 'P000617', 'P000523', 'Q000023', 'R000606', 'R000602', 'R000588', 'R000616', 'R000576', 'R000515', 'S001168', 'S001205', 'S001145', 'S001150', 'S001190', 'S001180', 'S001216', 'S000185', 'S001185', 'S001206', 'S000344', 'S000510', 'S001211', 'S001201', 'S001193', 'T000472', 'T000193', 'T000460', 'T000468', 'T000481', 'T000469', 'T000483', 'U000040', 'V000131', 'W000797', 'W000187', 'W000822', 'W000800', 'W000825', 'W000826', 'W000808', 'Y000062', 'C001063', 'B000490', 'P000616', 'S001157', 'R000577', 'C001119', 'L000562', 'M001206', 'R000613', 'V000108', 'M001202', 'L000588', 'G000583', 'C001090', 'V000133', 'S001215', 'B001281', 'S001175', 'M001208', 'S001208', 'S001207', 'S001209', 'L000565', 'F000454', 'K000009', 'F000467', 'D000629', 'A000378', 'M001209', 'C001055'], related_bills=['H.R.2820', 'H.R.2821', 'H.Res.415', 'S.874'], policy_area='Immigration', subjects=['Administrative law and regulatory procedures', 'Administrative remedies', 'Adoption and foster care', 'Africa', 'Citizenship and naturalization', 'Congressional oversight', 'Crime victims', 'Department of Homeland Security', 'Disability and paralysis', 'Domestic violence and child abuse', 'Elementary and secondary education', 'Foreign labor', 'Foreign language and bilingual programs', 'Government information and archives', 'Higher education', 'Homelessness and emergency shelter', 'Human trafficking', 'Immigration status and procedures', 'Judicial review and appeals', 'Liberia', 'Licensing and registrations', 'Military personnel and dependents', 'Personnel records', 'Religion', 'Student aid and college costs', 'Student records', 'User charges and fees', 'Visas and passports', 'Vocational and technical education'], committees=['House Judiciary', 'House Education and Labor'], bill_progress='Passed House', summary='This bill cancels and prohibits removal proceedings against certain aliens and provides such aliens with a path toward permanent resident status. The Department of Homeland Security (DHS) or the Department of Justice (DOJ) shall cancel removal proceedings against certain aliens who entered the United States as minors and grant such aliens conditional permanent residence status for 10 years. The bill imposes various qualification requirements, such as the alien being continuously physically present in the United States and being enrolled in or having completed certain educational programs. DHS shall establish streamlined procedures to apply for conditional permanent residence for aliens who received Deferred Action for Childhood Arrivals (DACA) status and were not disqualified for renewal.  DHS shall remove the conditional permanent resident status granted to such aliens, if the alien applies and meets certain requirements, such as completing certain programs at an educational institution or serving at least two years in the Uniformed Services and being discharged honorably. DHS or DOJ shall cancel removal proceedings against certain aliens who qualified for temporary protected status or deferred enforced departure status on certain past dates (both statuses temporarily protect covered aliens from removal). For such aliens who apply and pass the required background checks, DHS shall grant permanent residence status.  DHS may not use information from applications to adjust status under this bill for immigration enforcement purposes. DHS shall establish a grant program for nonprofit organizations that assist individuals with certain immigration-related issues. This bill cancels and prohibits removal proceedings against certain aliens and provides such aliens with a path toward permanent resident status. The Department of Homeland Security (DHS) or the Department of Justice (DOJ) shall cancel removal proceedings against certain aliens who entered the United States as minors and grant such aliens conditional permanent residence status for 10 years. The bill imposes various qualification requirements, such as the alien being continuously physically present in the United States and being enrolled in or having completed certain educational programs. DHS shall establish streamlined procedures to apply for conditional permanent residence for aliens who received Deferred Action for Childhood Arrivals (DACA) status and were not disqualified for renewal.  DHS shall remove the conditional permanent resident status granted to such aliens, if the alien applies and meets certain requirements, such as completing certain programs at an educational institution or serving at least two years in the Uniformed Services and being discharged honorably. DHS or DOJ shall cancel removal proceedings against certain aliens who qualified for temporary protected status or deferred enforced departure status on certain past dates (both statuses temporarily protect covered aliens from removal). For such aliens who apply and pass the required background checks, DHS shall grant permanent residence status.  DHS may not use information from applications to adjust status under this bill for immigration enforcement purposes. DHS shall establish a grant program for nonprofit organizations that assist individuals with certain immigration-related issues. This bill cancels and prohibits removal proceedings against certain aliens and provides such aliens with a path toward permanent resident status. The Department of Homeland Security (DHS) or the Department of Justice (DOJ) shall cancel removal proceedings against certain aliens who entered the United States as minors and grant such aliens conditional permanent residence status for 10 years. The bill imposes various qualification requirements, such as the alien being continuously physically present in the United States and being enrolled in or having completed certain educational programs. Aliens who were eligible for Deferred Action for Childhood Arrivals (DACA) status and not disqualified for renewal also qualify. DHS shall remove the conditional permanent resident status granted to such aliens, if the alien applies and meets certain requirements, such as completing certain programs at an educational institution or serving at least two years in the Uniformed Services and being discharged honorably. This bill also repeals a restriction that bars states from providing higher education benefits to undocumented aliens unless those benefits are available to all U.S. citizens.  DHS or DOJ shall cancel removal proceedings against certain aliens who qualified for temporary protected status or Deferred Enforced Departure status on certain past dates (both statuses temporarily protect covered aliens from removal). For such aliens who apply, DHS shall grant permanent residence status.  When DHS eliminates temporary protected status for nationals of a foreign country, it shall report to Congress its reasons for doing so.', date_introduced=datetime.datetime(2019, 3, 12, 0, 0), number=6, bill_type='H.R.')]"
     },
     "execution_count": 34,
     "metadata": {},
     "output_type": "execute_result"
    }
   ],
   "source": [
    "df_legislation = (\n",
    "    spark.read.csv(DATASET.raw_str('house_legislation_116.csv'), header=True, inferSchema=True, quote='\"', escape='\"')\n",
    "        .withColumn('date_introduced', F.to_timestamp(F.col('date_introduced'), 'yyyy-MM-dd'))\n",
    "        .withColumn('cosponsors', udf_eval_array(F.col('cosponsors')))\n",
    "        .withColumn('related_bills', udf_eval_array(F.col('related_bills')))\n",
    "        .withColumn('subjects', udf_eval_array(F.col('subjects')))\n",
    "        .withColumn('committees', udf_eval_array(F.col('committees')))\n",
    ")\n",
    "df_legislation.head(5)"
   ],
   "metadata": {
    "collapsed": false,
    "pycharm": {
     "name": "#%%\n"
    }
   }
  },
  {
   "cell_type": "code",
   "execution_count": 37,
   "outputs": [
    {
     "data": {
      "text/plain": "[Row(name_id='A000374', name='ralph-abraham', state='Louisiana', url='https://www.congress.gov/member/ralph-abraham/A000374', chamber='House', current_party='Republican', committee_assignments=['Agriculture', 'Armed Services']),\n Row(name_id='A000370', name='alma-adams', state='North Carolina', url='https://www.congress.gov/member/alma-adams/A000370', chamber='House', current_party='Democratic', committee_assignments=['Agriculture', 'Education and Labor', 'Financial Services']),\n Row(name_id='A000055', name='robert-aderholt', state='Alabama', url='https://www.congress.gov/member/robert-aderholt/A000055', chamber='House', current_party='Republican', committee_assignments=['Appropriations']),\n Row(name_id='A000371', name='pete-aguilar', state='California', url='https://www.congress.gov/member/pete-aguilar/A000371', chamber='House', current_party='Democratic', committee_assignments=['Appropriations', 'House Administration']),\n Row(name_id='A000372', name='rick-allen', state='Georgia', url='https://www.congress.gov/member/rick-allen/A000372', chamber='House', current_party='Republican', committee_assignments=['Agriculture', 'Education and Labor'])]"
     },
     "execution_count": 37,
     "metadata": {},
     "output_type": "execute_result"
    }
   ],
   "source": [
    "df_members = (\n",
    "    spark.read.csv(DATASET.raw_str('house_members_116.csv'), header=True, inferSchema=True, quote='\"', escape='\"')\n",
    "        .withColumn('committee_assignments', udf_eval_array(F.col('committee_assignments')))\n",
    ")\n",
    "df_members.head(5)"
   ],
   "metadata": {
    "collapsed": false,
    "pycharm": {
     "name": "#%%\n"
    }
   }
  },
  {
   "cell_type": "code",
   "execution_count": 38,
   "outputs": [
    {
     "data": {
      "text/plain": "[Row(rollcall_id='2019:001', roll_num=1, date=datetime.datetime(2019, 1, 3, 0, 0), bill_id='QUORUM', question='Call by States', result='P', description=None, congress=116, session=1),\n Row(rollcall_id='2019:002', roll_num=2, date=datetime.datetime(2019, 1, 3, 0, 0), bill_id=None, question='Election of the Speaker', result='P', description='\\xa0', congress=116, session=1),\n Row(rollcall_id='2019:003', roll_num=3, date=datetime.datetime(2019, 1, 3, 0, 0), bill_id='H.RES.5', question='On Motion to Table the Motion to Refer', result='P', description='Providing for consideration of H.Res. 6, adopting the Rules of the House of Representatives for the 116th Congress; providing for consideration of H.R. 21, making appropriations for the FY ending September 30, 2019, and for other purposes', congress=116, session=1),\n Row(rollcall_id='2019:004', roll_num=4, date=datetime.datetime(2019, 1, 3, 0, 0), bill_id='H.RES.5', question='On Ordering the Previous Question', result='P', description='Providing for consideration of H.Res. 6, adopting the Rules of the House of Representatives for the 116th Congress; H.R. 21, making appropriations for the FY ending September 30, 2019; H.J.Res. 1, making further continuing appropriations for the Department of Homeland Security for FY 2019, and for other purposes', congress=116, session=1),\n Row(rollcall_id='2019:005', roll_num=5, date=datetime.datetime(2019, 1, 3, 0, 0), bill_id='H.RES.5', question='On Motion to Commit with Instructions', result='F', description='Providing for consideration of H.Res. 6, adopting the Rules of the House of Representatives for the 116th Congress; H.R. 21, making appropriations for the FY ending September 30, 2019; H.J.Res. 1, making further continuing appropriations for the Department of Homeland Security for FY 2019, and for other purposes', congress=116, session=1)]"
     },
     "execution_count": 38,
     "metadata": {},
     "output_type": "execute_result"
    }
   ],
   "source": [
    "df_rollcall_info = (\n",
    "    spark.read.csv(DATASET.raw_str('house_rollcall_info_116.csv'), header=True, inferSchema=True)\n",
    "        .withColumn('date', F.concat(F.col('date'), F.lit(' '), F.col('year')))\n",
    "        .withColumn('date', F.to_timestamp(F.col('date'), 'd-MMM yyyy'))\n",
    "        .drop('year')\n",
    ")\n",
    "df_rollcall_info.head(5)"
   ],
   "metadata": {
    "collapsed": false,
    "pycharm": {
     "name": "#%%\n"
    }
   }
  },
  {
   "cell_type": "code",
   "execution_count": 39,
   "outputs": [],
   "source": [
    "def to_explode(df, by):\n",
    "    # Filter dtypes and split into column names and type description\n",
    "    cols, dtypes = zip(*((c, t) for (c, t) in df.dtypes if c not in by))\n",
    "    # Spark SQL supports only homogeneous columns\n",
    "    assert len(set(dtypes)) == 1, \"All columns have to be of the same type\"\n",
    "\n",
    "    # Create and explode an array of (column_name, column_value) structs\n",
    "    kvs = F.explode(F.array([\n",
    "        F.struct(F.lit(c).alias(\"rollcall_id\"), F.col(c).alias(\"vote\")) for c in cols\n",
    "    ])).alias(\"kvs\")\n",
    "\n",
    "    return df.select(by + [kvs]).select(by + [\"kvs.rollcall_id\", \"kvs.vote\"])"
   ],
   "metadata": {
    "collapsed": false,
    "pycharm": {
     "name": "#%%\n"
    }
   }
  },
  {
   "cell_type": "code",
   "execution_count": 63,
   "outputs": [],
   "source": [
    "udf_vote_val = F.udf(lambda x: (1 if x in [\"Aye\", \"Yea\"] else -1 if x in [\"No\", \"Nay\"] else 0), T.IntegerType())"
   ],
   "metadata": {
    "collapsed": false,
    "pycharm": {
     "name": "#%%\n"
    }
   }
  },
  {
   "cell_type": "code",
   "execution_count": 64,
   "outputs": [
    {
     "name": "stderr",
     "output_type": "stream",
     "text": [
      "22/01/25 21:00:22 WARN CacheManager: Asked to cache already cached data.\n"
     ]
    },
    {
     "data": {
      "text/plain": "[Row(name_id='A000374', rollcall_id='2019:641', vote=-1),\n Row(name_id='A000374', rollcall_id='2019:639', vote=1),\n Row(name_id='A000374', rollcall_id='2019:640', vote=-1),\n Row(name_id='A000374', rollcall_id='2019:635', vote=1),\n Row(name_id='A000374', rollcall_id='2019:636', vote=1)]"
     },
     "execution_count": 64,
     "metadata": {},
     "output_type": "execute_result"
    }
   ],
   "source": [
    "df_rollcall_votes = to_explode(\n",
    "    spark.read.csv(DATASET.raw_str('house_rollcall_votes_116.csv'), header=True, inferSchema=True),\n",
    "    ['name_id'],\n",
    ").cache().withColumn('vote', udf_vote_val(F.col('vote')))\n",
    "df_rollcall_votes.head(5)"
   ],
   "metadata": {
    "collapsed": false,
    "pycharm": {
     "name": "#%%\n"
    }
   }
  },
  {
   "cell_type": "code",
   "execution_count": 44,
   "outputs": [
    {
     "name": "stdout",
     "output_type": "stream",
     "text": [
      "443\n"
     ]
    },
    {
     "data": {
      "text/plain": "[Row(id='A000055', name='robert-aderholt', state='Alabama', url='https://www.congress.gov/member/robert-aderholt/A000055', chamber='House', current_party='Republican', committee_assignments=['Appropriations']),\n Row(id='A000367', name='justin-amash', state='Michigan', url='https://www.congress.gov/member/justin-amash/A000367', chamber='House', current_party='Independent', committee_assignments=[]),\n Row(id='A000369', name='mark-amodei', state='Nevada', url='https://www.congress.gov/member/mark-amodei/A000369', chamber='House', current_party='Republican', committee_assignments=['Appropriations']),\n Row(id='A000370', name='alma-adams', state='North Carolina', url='https://www.congress.gov/member/alma-adams/A000370', chamber='House', current_party='Democratic', committee_assignments=['Agriculture', 'Education and Labor', 'Financial Services']),\n Row(id='A000371', name='pete-aguilar', state='California', url='https://www.congress.gov/member/pete-aguilar/A000371', chamber='House', current_party='Democratic', committee_assignments=['Appropriations', 'House Administration'])]"
     },
     "execution_count": 44,
     "metadata": {},
     "output_type": "execute_result"
    }
   ],
   "source": [
    "df_nodes_members = (\n",
    "    df_members\n",
    "        .withColumnRenamed('name_id', 'id')\n",
    "        .dropDuplicates(['id'])\n",
    ")\n",
    "print(df_nodes_members.count())\n",
    "df_nodes_members.head(5)"
   ],
   "metadata": {
    "collapsed": false,
    "pycharm": {
     "name": "#%%\n"
    }
   }
  },
  {
   "cell_type": "code",
   "execution_count": 43,
   "outputs": [
    {
     "name": "stderr",
     "output_type": "stream",
     "text": [
      "                                                                                \r"
     ]
    },
    {
     "name": "stdout",
     "output_type": "stream",
     "text": [
      "95\n"
     ]
    },
    {
     "name": "stderr",
     "output_type": "stream",
     "text": [
      "                                                                                \r"
     ]
    },
    {
     "data": {
      "text/plain": "[Row(id='Energy and Commerce'),\n Row(id='Oversight and Reform'),\n Row(id='Science, Space, and Technology'),\n Row(id='Transportation and Infrastructure'),\n Row(id='Homeland Security')]"
     },
     "execution_count": 43,
     "metadata": {},
     "output_type": "execute_result"
    }
   ],
   "source": [
    "df_nodes_commitee = (\n",
    "    df_nodes_members.select(F.explode('committee_assignments').alias('id'))\n",
    "        .union(df_legislation.select(F.explode('committees').alias('id')))\n",
    "        .dropDuplicates(['id'])\n",
    ")\n",
    "print(df_nodes_commitee.count())\n",
    "df_nodes_commitee.head(5)"
   ],
   "metadata": {
    "collapsed": false,
    "pycharm": {
     "name": "#%%\n"
    }
   }
  },
  {
   "cell_type": "code",
   "execution_count": 67,
   "outputs": [
    {
     "name": "stdout",
     "output_type": "stream",
     "text": [
      "5806\n"
     ]
    },
    {
     "data": {
      "text/plain": "[Row(id='H.Con.Res.10', title='Authorizing the use of the rotunda of the Capitol to honor the last surviving Medal of Honor recipient of the Second World War upon death.', sponsor='M001205', cosponsors=['M001195', 'M001187', 'G000578', 'M001180', 'W000806', 'R000611', 'C001114', 'B001305', 'C001118', 'H001053', 'R000582', 'H001088', 'B001298', 'C001092', 'B001306', 'P000258', 'F000459', 'L000578', 'A000378', 'M001184', 'B000490', 'S001165', 'B001248', 'B001302', 'H001082', 'S001214'], related_bills=['H.R.2500', 'S.1790'], policy_area='Congress', subjects=['Conflicts and wars', 'Congressional tributes', 'Military history'], committees=['House Administration'], bill_progress='Introduced', summary='This concurrent resolution authorizes the use of the rotunda of the Capitol to honor, upon death, the last surviving Medal of Honor recipient for acts performed during World War II, at the election of the individual or their next of kin. This concurrent resolution authorizes the use of the rotunda of the Capitol to honor, upon death, the last surviving Medal of Honor recipient for acts performed during World War II, at the election of the individual or their next of kin.', date_introduced=datetime.datetime(2019, 1, 30, 0, 0), number=10, bill_type='H.Con.Res.'),\n Row(id='H.Con.Res.17', title='Expressing the sense of Congress regarding the provision of a basic standard of humanitarian care to all individuals in U.S. Customs and Border Protection custody.', sponsor='R000599', cosponsors=['C001091', 'R000486', 'L000397', 'N000002', 'L000570', 'C001112', 'C001123', 'V000130', 'G000587', 'V000081', 'M001207', 'S001165', 'N000179', 'B001300', 'S001204', 'S001177', 'E000299', 'S001200', 'G000581', 'E000297', 'C001097', 'C001110', 'T000474', 'G000574'], related_bills=[], policy_area='Immigration', subjects=['Border security and unlawful immigration', 'Child safety and welfare', 'Department of Homeland Security', 'Detention of persons', 'Emergency medical services and trauma care', 'Government employee pay, benefits, personnel management', 'Health care coverage and access', 'Immigrant health and welfare', 'Immigration status and procedures'], committees=['House Judiciary', 'House Homeland Security'], bill_progress='Introduced', summary='This concurrent resolution expresses the sense of Congress that the United States must provide a basic standard of humanitarian care to all individuals in its custody. In particular, the resolution urges U.S. Customs and Border Protection to provide adequate care, including health care, living accommodations, and sanitation to those in its custody. This concurrent resolution expresses the sense of Congress that the United States must provide a basic standard of humanitarian care to all individuals in its custody. In particular, the resolution urges U.S. Customs and Border Protection to provide adequate care, including health care, living accommodations, and sanitation to those in its custody.', date_introduced=datetime.datetime(2019, 2, 11, 0, 0), number=17, bill_type='H.Con.Res.'),\n Row(id='H.Con.Res.19', title='Authorizing the use of the Capitol Grounds for the Greater Washington Soap Box Derby.', sponsor='H000874', cosponsors=['N000147', 'B001304', 'R000606', 'S001168', 'T000483', 'B001292', 'C001078', 'W000825'], related_bills=[], policy_area='Congress', subjects=['Games and hobbies', 'Outdoor recreation', 'U.S. Capitol'], committees=['House Transportation and Infrastructure'], bill_progress='Agreed to in Senate', summary='This concurrent resolution permits the Greater Washington Soap Box Derby Association to sponsor soap box derby races as a free public event on the Capitol grounds on June 15, 2019. This concurrent resolution permits the Greater Washington Soap Box Derby Association to sponsor soap box derby races as a free public event on the Capitol grounds on June 15, 2019. This concurrent resolution permits the Greater Washington Soap Box Derby Association to sponsor soap box derby races as a free public event on the Capitol grounds on June 15, 2019. This concurrent resolution permits the Greater Washington Soap Box Derby Association to sponsor soap box derby races as a free public event on the Capitol grounds on June 15, 2019. This concurrent resolution permits the Greater Washington Soap Box Derby Association to sponsor soap box derby races as a free public event on the Capitol grounds on June 15, 2019.', date_introduced=datetime.datetime(2019, 2, 14, 0, 0), number=19, bill_type='H.Con.Res.'),\n Row(id='H.Con.Res.2', title='Establishing the Joint Ad Hoc Committee on Trade Responsibilities to develop a plan under which the functions and responsibilities of the Office of the United States Trade Representative shall be moved to the legislative branch in accordance with article I, section 8 of the Constitution of the United States, and for other purposes.', sponsor='G000568', cosponsors=['A000367', 'C001118'], related_bills=[], policy_area='Congress', subjects=['Advisory bodies', 'Congressional agencies', 'Congressional committees', 'Congressional operations and organization', 'Executive agency funding and structure', 'Office of the U.S. Trade Representative', 'Trade agreements and negotiations'], committees=['House Rules', 'House Ways and Means'], bill_progress='Introduced', summary='This concurrent resolution establishes (1) a Joint Ad Hoc Committee on Trade Responsibilities to develop a plan under which the functions and responsibilities of the Office of the United States Trade Representative (USTR) shall be moved to the legislative branch, and (2) a Congressional Advisory Board on Trade Responsibilities to advise the committee in its development of the plan. The USTR and the other heads of executive branch offices must make available to the committee and the board such information and assistance as the entities may reasonably require to carry out their activities. This concurrent resolution establishes (1) a Joint Ad Hoc Committee on Trade Responsibilities to develop a plan under which the functions and responsibilities of the Office of the United States Trade Representative (USTR) shall be moved to the legislative branch, and (2) a Congressional Advisory Board on Trade Responsibilities to advise the committee in its development of the plan. The USTR and the other heads of executive branch offices must make available to the committee and the board such information and assistance as the entities may reasonably require to carry out their activities.', date_introduced=datetime.datetime(2019, 1, 3, 0, 0), number=2, bill_type='H.Con.Res.'),\n Row(id='H.Con.Res.20', title='Supporting the Local Radio Freedom Act.', sponsor='C001066', cosponsors=['C001062', 'B001251', 'J000292', 'G000584', 'M001200', 'L000578', 'R000395', 'G000565', 'W000814', 'G000560', 'D000624', 'M001196', 'B001291', 'Y000033', 'C001108', 'J000289', 'B001295', 'K000376', 'C001053', 'K000375', 'F000461', 'H001088', 'C001087', 'P000601', 'O000171', 'M001143', 'R000577', 'K000378', 'C001092', 'S001196', 'T000463', 'O000168', 'A000372', 'C000266', 'M001184', 'H001072', 'W000821', 'U000031', 'D000615', 'W000819', 'D000619', 'R000515', 'K000381', 'W000798', 'G000581', 'K000188', 'L000562', 'L000585', 'G000576', 'W000795', 'L000566', 'W000816', 'B001305', 'K000382', 'L000576', 'B001257', 'A000375', 'H001071', 'S000364', 'Z000017', 'M001187', 'M001190', 'E000294', 'L000586', 'P000034', 'C001049', 'P000599', 'N000189', 'W000809', 'W000791', 'H000324', 'S001157', 'H001052', 'M001180', 'R000603', 'N000181', 'L000564', 'C000059', 'R000575', 'M001156', 'M001198', 'B001260', 'D000626', 'D000191', 'M001195', 'L000565', 'C001103', 'C001063', 'D000614', 'B001284', 'F000450', 'K000368', 'B001304', 'G000563', 'W000815', 'B001296', 'M001159', 'S001148', 'D000628', 'C001094', 'M001201', 'S001187', 'G000582', 'B001281', 'E000296', 'B001274', 'F000449', 'P000604', 'L000569', 'Y000062', 'C001069', 'R000600', 'B001286', 'B001299', 'G000579', 'S001172', 'K000388', 'W000812', 'F000466', 'V000133', 'W000813', 'J000295', 'R000585', 'M001137', 'B001282', 'B001289', 'C001109', 'H001082', 'H001074', 'W000824', 'A000369', 'H001067', 'G000558', 'S001212', 'S001192', 'S001185', 'H001056', 'G000591', 'K000009', 'G000546', 'B001298', 'S001213', 'C001072', 'L000491', 'D000631', 'P000615', 'K000386', 'H001090', 'C001059', 'N000190', 'B000490', 'G000377', 'A000370', 'F000465', 'A000374', 'H001058', 'G000583', 'L000590', 'M001158', 'T000467', 'V000132', 'R000576', 'S001165', 'L000583', 'H001053', 'S000522', 'B001306', 'R000611', 'J000299', 'M001204', 'W000804', 'T000238', 'G000588', 'T000480', 'B001307', 'L000570', 'P000614', 'B001275', 'J000301', 'C001114', 'V000131', 'H001080', 'C001120', 'T000479', 'K000394', 'J000302', 'P000610', 'P000605', 'S001210', 'T000484', 'M001205', 'S001177', 'W000827', 'C000984', 'G000592', 'V000108', 'H001083', 'M001210', 'K000395', 'H001085'], related_bills=['S.Con.Res.5'], policy_area='Science, Technology, Communications', subjects=['Broadcasting, cable, digital technologies', 'Music', 'Sound recording', 'Tax administration and collection, taxpayers', 'Telecommunication rates and fees', 'User charges and fees'], committees=['House Judiciary'], bill_progress='Introduced', summary='This concurrent resolution declares that Congress should not impose any new performance fee, tax, royalty, or other charge relating to the public performance of sound recordings on a local radio station for broadcasting sound recordings over the air, or on any business for such public performance of sound recordings. This concurrent resolution declares that Congress should not impose any new performance fee, tax, royalty, or other charge relating to the public performance of sound recordings on a local radio station for broadcasting sound recordings over the air, or on any business for such public performance of sound recordings.', date_introduced=datetime.datetime(2019, 2, 19, 0, 0), number=20, bill_type='H.Con.Res.')]"
     },
     "execution_count": 67,
     "metadata": {},
     "output_type": "execute_result"
    }
   ],
   "source": [
    "df_nodes_bills = (\n",
    "    df_legislation\n",
    "        .withColumnRenamed('bill_id', 'id')\n",
    "        .dropDuplicates(['id'])\n",
    ")\n",
    "print(df_nodes_bills.count())\n",
    "df_nodes_bills.head(5)"
   ],
   "metadata": {
    "collapsed": false,
    "pycharm": {
     "name": "#%%\n"
    }
   }
  },
  {
   "cell_type": "code",
   "execution_count": 49,
   "outputs": [
    {
     "name": "stdout",
     "output_type": "stream",
     "text": [
      "642\n"
     ]
    },
    {
     "data": {
      "text/plain": "[Row(id='2019:001', roll_num=1, date=datetime.datetime(2019, 1, 3, 0, 0), bill_id='QUORUM', question='Call by States', result='P', description=None),\n Row(id='2019:002', roll_num=2, date=datetime.datetime(2019, 1, 3, 0, 0), bill_id=None, question='Election of the Speaker', result='P', description='\\xa0'),\n Row(id='2019:003', roll_num=3, date=datetime.datetime(2019, 1, 3, 0, 0), bill_id='H.RES.5', question='On Motion to Table the Motion to Refer', result='P', description='Providing for consideration of H.Res. 6, adopting the Rules of the House of Representatives for the 116th Congress; providing for consideration of H.R. 21, making appropriations for the FY ending September 30, 2019, and for other purposes'),\n Row(id='2019:004', roll_num=4, date=datetime.datetime(2019, 1, 3, 0, 0), bill_id='H.RES.5', question='On Ordering the Previous Question', result='P', description='Providing for consideration of H.Res. 6, adopting the Rules of the House of Representatives for the 116th Congress; H.R. 21, making appropriations for the FY ending September 30, 2019; H.J.Res. 1, making further continuing appropriations for the Department of Homeland Security for FY 2019, and for other purposes'),\n Row(id='2019:005', roll_num=5, date=datetime.datetime(2019, 1, 3, 0, 0), bill_id='H.RES.5', question='On Motion to Commit with Instructions', result='F', description='Providing for consideration of H.Res. 6, adopting the Rules of the House of Representatives for the 116th Congress; H.R. 21, making appropriations for the FY ending September 30, 2019; H.J.Res. 1, making further continuing appropriations for the Department of Homeland Security for FY 2019, and for other purposes')]"
     },
     "execution_count": 49,
     "metadata": {},
     "output_type": "execute_result"
    }
   ],
   "source": [
    "df_nodes_rolecalls = (\n",
    "    df_rollcall_info\n",
    "        .withColumnRenamed('rollcall_id', 'id')\n",
    "        .drop('congress', 'session')\n",
    "        .dropDuplicates(['id'])\n",
    ")\n",
    "print(df_nodes_rolecalls.count())\n",
    "df_nodes_rolecalls.head(5)"
   ],
   "metadata": {
    "collapsed": false,
    "pycharm": {
     "name": "#%%\n"
    }
   }
  },
  {
   "cell_type": "code",
   "execution_count": 72,
   "outputs": [
    {
     "name": "stderr",
     "output_type": "stream",
     "text": [
      "[Stage 298:====================================================>(801 + 1) / 802]\r"
     ]
    },
    {
     "name": "stdout",
     "output_type": "stream",
     "text": [
      "6986\n"
     ]
    },
    {
     "name": "stderr",
     "output_type": "stream",
     "text": [
      "                                                                                \r"
     ]
    }
   ],
   "source": [
    "df_node_ids = (\n",
    "    df_nodes_members.select('id')\n",
    "        .union(df_nodes_commitee.select('id'))\n",
    "        .union(df_nodes_bills.select('id'))\n",
    "        .union(df_nodes_rolecalls.select('id'))\n",
    "        .distinct()\n",
    ")\n",
    "print(df_node_ids.count())\n",
    "\n",
    "def filter_node_ids(df):\n",
    "    return df.join(\n",
    "        df_node_ids,\n",
    "        F.col('src') == F.col('id'),\n",
    "        'inner'\n",
    "    ).drop(\n",
    "        'id'\n",
    "    ).join(\n",
    "        df_node_ids,\n",
    "        F.col('dst') == F.col('id'),\n",
    "        'inner'\n",
    "    ).drop('id')"
   ],
   "metadata": {
    "collapsed": false,
    "pycharm": {
     "name": "#%%\n"
    }
   }
  },
  {
   "cell_type": "code",
   "execution_count": 73,
   "outputs": [
    {
     "name": "stderr",
     "output_type": "stream",
     "text": [
      "                                                                                \r"
     ]
    },
    {
     "name": "stdout",
     "output_type": "stream",
     "text": [
      "5806\n"
     ]
    },
    {
     "name": "stderr",
     "output_type": "stream",
     "text": [
      "                                                                                \r"
     ]
    },
    {
     "data": {
      "text/plain": "[Row(dst='H.J.Res.56', title='Directing the President to terminate the use of the United States Armed Forces with respect to the military intervention led by Saudi Arabia in the Republic of Yemen.', src='A000367', cosponsors=[], related_bills=[], policy_area='International Affairs', subjects=['Conflicts and wars', 'Congressional oversight', 'Middle East', 'Military operations and strategy', 'Saudi Arabia', 'War and emergency powers', 'Yemen'], committees=['House Foreign Affairs'], bill_progress='Introduced', summary=None, date_introduced=datetime.datetime(2019, 4, 10, 0, 0), number=56, bill_type='H.J.Res.'),\n Row(dst='H.R.1910', title='To abolish the Export-Import Bank of the United States, and for other purposes.', src='A000367', cosponsors=['J000289', 'M001184', 'D000616', 'M001177', 'B001297', 'R000614', 'G000590'], related_bills=[], policy_area='Foreign Trade and International Finance', subjects=['Competitiveness, trade promotion, trade deficits', 'Department of the Treasury', 'Executive agency funding and structure', 'Export-Import Bank of the United States', 'Government corporations and government-sponsored enterprises', 'Government lending and loan guarantees'], committees=['House Financial Services'], bill_progress='Introduced', summary=None, date_introduced=datetime.datetime(2019, 3, 27, 0, 0), number=1910, bill_type='H.R.'),\n Row(dst='H.R.61', title='To require the Secretary of the Treasury to mint coins in commemoration of the Carson City Mint 150th anniversary, and for other purposes.', src='A000369', cosponsors=['G000583', 'P000597', 'L000590'], related_bills=[], policy_area='Finance and Financial Sector', subjects=['Commemorative events and holidays', 'Currency', 'Nevada'], committees=['House Financial Services'], bill_progress='Introduced', summary='This bill directs the Department of the Treasury to mint and issue $5 gold coins and $1 silver coins in commemoration of the 150th anniversary of the Carson City Mint in Carson City, Nevada.  All surcharges from sales of such coins shall be paid to the Nevada State Museum Dedicated Trust Fund.  This bill directs the Department of the Treasury to mint and issue $5 gold coins and $1 silver coins in commemoration of the 150th anniversary of the Carson City Mint in Carson City, Nevada.  All surcharges from sales of such coins shall be paid to the Nevada State Museum Dedicated Trust Fund. ', date_introduced=datetime.datetime(2019, 1, 3, 0, 0), number=61, bill_type='H.R.'),\n Row(dst='H.Res.78', title='Expressing the sense of the House of Representatives that the United States postal facility network is an asset of significant value and the United States Postal Service should take appropriate measures to maintain, modernize and fully utilize the existing post office network for economic growth.', src='A000369', cosponsors=['R000616', 'L000397'], related_bills=[], policy_area='Government Operations and Politics', subjects=['Postal service', 'U.S. Postal Service'], committees=['House Oversight and Reform'], bill_progress='Introduced', summary='This resolution expresses the sense of the House of Representatives that the U.S. Postal Service should modernize and maintain a post office network. This resolution expresses the sense of the House of Representatives that the U.S. Postal Service should modernize and maintain a post office network.', date_introduced=datetime.datetime(2019, 1, 25, 0, 0), number=78, bill_type='H.Res.'),\n Row(dst='H.R.1179', title='To amend title 54, United States Code, to establish within the National Park Service the African-American Burial Grounds Network, and for other purposes.', src='A000370', cosponsors=['M001200', 'B001305', 'G000568', 'P000614', 'M001188', 'S000185', 'C001049', 'F000466', 'D000630', 'B001250', 'N000147', 'C001068', 'M001203', 'L000551', 'B000490', 'H001068', 'P000605', 'P000604', 'T000481', 'T000463', 'S001145', 'G000574', 'S001205', 'C001053', 'C001078', 'L000591', 'J000288', 'B001251', 'B001281', 'C001122', 'P000523', 'S001193', 'R000611', 'C001118', 'B001306', 'E000296', 'D000619', 'M001160', 'H000324', 'F000455', 'W000822', 'L000586', 'S001157'], related_bills=[], policy_area='Public Lands and Natural Resources', subjects=['Cemeteries and funerals', 'Department of the Interior', 'Executive agency funding and structure', 'Government information and archives', 'Government studies and investigations', 'Historic sites and heritage areas', 'Museums, exhibitions, cultural centers', 'Public-private cooperation', 'Racial and ethnic relations', 'Research administration and funding', 'U.S. history'], committees=['House Natural Resources'], bill_progress='Introduced', summary=None, date_introduced=datetime.datetime(2019, 2, 13, 0, 0), number=1179, bill_type='H.R.')]"
     },
     "execution_count": 73,
     "metadata": {},
     "output_type": "execute_result"
    }
   ],
   "source": [
    "df_edges_sponsor = filter_node_ids(\n",
    "    df_legislation\n",
    "        .withColumnRenamed('sponsor', 'src')\n",
    "        .withColumnRenamed('bill_id', 'dst')\n",
    "        .dropDuplicates(['src', 'dst'])\n",
    ")\n",
    "print(df_edges_sponsor.count())\n",
    "df_edges_sponsor.head(5)"
   ],
   "metadata": {
    "collapsed": false,
    "pycharm": {
     "name": "#%%\n"
    }
   }
  },
  {
   "cell_type": "code",
   "execution_count": 74,
   "outputs": [
    {
     "name": "stderr",
     "output_type": "stream",
     "text": [
      "                                                                                \r"
     ]
    },
    {
     "name": "stdout",
     "output_type": "stream",
     "text": [
      "102964\n"
     ]
    },
    {
     "name": "stderr",
     "output_type": "stream",
     "text": [
      "                                                                                \r"
     ]
    },
    {
     "data": {
      "text/plain": "[Row(src='R000613', dst='H.R.1'),\n Row(src='H001064', dst='H.R.6'),\n Row(src='P000197', dst='H.R.7'),\n Row(src='P000613', dst='H.R.8'),\n Row(src='L000397', dst='H.R.8')]"
     },
     "execution_count": 74,
     "metadata": {},
     "output_type": "execute_result"
    }
   ],
   "source": [
    "df_edges_cosponsor = filter_node_ids(\n",
    "    df_legislation\n",
    "        .select(F.explode('cosponsors').alias('cosponsor'), 'bill_id')\n",
    "        .withColumnRenamed('cosponsor', 'src')\n",
    "        .withColumnRenamed('bill_id', 'dst')\n",
    "        .dropDuplicates(['src', 'dst'])\n",
    ")\n",
    "print(df_edges_cosponsor.count())\n",
    "df_edges_cosponsor.head(5)"
   ],
   "metadata": {
    "collapsed": false,
    "pycharm": {
     "name": "#%%\n"
    }
   }
  },
  {
   "cell_type": "code",
   "execution_count": 75,
   "outputs": [
    {
     "name": "stderr",
     "output_type": "stream",
     "text": [
      "                                                                                \r"
     ]
    },
    {
     "name": "stdout",
     "output_type": "stream",
     "text": [
      "8145\n"
     ]
    },
    {
     "name": "stderr",
     "output_type": "stream",
     "text": [
      "                                                                                \r"
     ]
    },
    {
     "data": {
      "text/plain": "[Row(src='House Energy and Commerce', dst='H.R.148'),\n Row(src='House Small Business', dst='H.R.539'),\n Row(src='Senate Banking, Housing, and Urban Affairs', dst='H.R.550'),\n Row(src='House Judiciary', dst='H.R.1324'),\n Row(src='House Rules', dst='H.R.1332')]"
     },
     "execution_count": 75,
     "metadata": {},
     "output_type": "execute_result"
    }
   ],
   "source": [
    "df_edges_commitee_bill = filter_node_ids(\n",
    "    df_legislation\n",
    "        .select(F.explode('committees').alias('commitee'), 'bill_id')\n",
    "        .withColumnRenamed('commitee', 'src')\n",
    "        .withColumnRenamed('bill_id', 'dst')\n",
    "        .dropDuplicates(['src', 'dst'])\n",
    ")\n",
    "print(df_edges_commitee_bill.count())\n",
    "df_edges_commitee_bill.head(5)"
   ],
   "metadata": {
    "collapsed": false,
    "pycharm": {
     "name": "#%%\n"
    }
   }
  },
  {
   "cell_type": "code",
   "execution_count": 76,
   "outputs": [
    {
     "name": "stderr",
     "output_type": "stream",
     "text": [
      "                                                                                \r"
     ]
    },
    {
     "name": "stdout",
     "output_type": "stream",
     "text": [
      "851\n"
     ]
    },
    {
     "name": "stderr",
     "output_type": "stream",
     "text": [
      "                                                                                \r"
     ]
    },
    {
     "data": {
      "text/plain": "[Row(dst='Oversight and Reform', src='C001115'),\n Row(dst='Science, Space, and Technology', src='C001115'),\n Row(dst='Energy and Commerce', src='M001163'),\n Row(dst='Homeland Security', src='P000604'),\n Row(dst='Transportation and Infrastructure', src='P000604')]"
     },
     "execution_count": 76,
     "metadata": {},
     "output_type": "execute_result"
    }
   ],
   "source": [
    "df_edges_commitee_member = filter_node_ids(\n",
    "    df_members\n",
    "        .select(F.explode('committee_assignments').alias('commitee'), 'name_id')\n",
    "        .withColumnRenamed('name_id', 'src')\n",
    "        .withColumnRenamed('commitee', 'dst')\n",
    "        .dropDuplicates(['src', 'dst'])\n",
    ")\n",
    "print(df_edges_commitee_member.count())\n",
    "df_edges_commitee_member.head(5)"
   ],
   "metadata": {
    "collapsed": false,
    "pycharm": {
     "name": "#%%\n"
    }
   }
  },
  {
   "cell_type": "code",
   "execution_count": 77,
   "outputs": [
    {
     "name": "stderr",
     "output_type": "stream",
     "text": [
      "                                                                                \r"
     ]
    },
    {
     "name": "stdout",
     "output_type": "stream",
     "text": [
      "1885\n"
     ]
    },
    {
     "name": "stderr",
     "output_type": "stream",
     "text": [
      "                                                                                \r"
     ]
    },
    {
     "data": {
      "text/plain": "[Row(src='H.R.289', dst='H.R.1401'),\n Row(src='H.R.1373', dst='H.Res.656'),\n Row(src='H.R.1849', dst='H.R.731'),\n Row(src='H.R.3456', dst='H.R.1411'),\n Row(src='H.R.4108', dst='H.R.4674')]"
     },
     "execution_count": 77,
     "metadata": {},
     "output_type": "execute_result"
    }
   ],
   "source": [
    "df_edges_related_bill = filter_node_ids(\n",
    "    df_legislation\n",
    "        .select(F.explode('related_bills').alias('related_bill'), 'bill_id')\n",
    "        .withColumnRenamed('related_bill', 'src')\n",
    "        .withColumnRenamed('bill_id', 'dst')\n",
    "        .dropDuplicates(['src', 'dst'])\n",
    ")\n",
    "print(df_edges_related_bill.count())\n",
    "df_edges_related_bill.head(5)"
   ],
   "metadata": {
    "collapsed": false,
    "pycharm": {
     "name": "#%%\n"
    }
   }
  },
  {
   "cell_type": "code",
   "execution_count": 78,
   "outputs": [
    {
     "name": "stderr",
     "output_type": "stream",
     "text": [
      "                                                                                \r"
     ]
    },
    {
     "name": "stdout",
     "output_type": "stream",
     "text": [
      "471\n"
     ]
    },
    {
     "name": "stderr",
     "output_type": "stream",
     "text": [
      "                                                                                \r"
     ]
    },
    {
     "data": {
      "text/plain": "[Row(src='2019:399', dst='H.R.3055'),\n Row(src='2019:496', dst='H.R.582'),\n Row(src='2019:585', dst='H.R.2440'),\n Row(src='2019:431', dst='H.R.2515'),\n Row(src='2019:502', dst='H.R.3375')]"
     },
     "execution_count": 78,
     "metadata": {},
     "output_type": "execute_result"
    }
   ],
   "source": [
    "df_edges_rollcall_bill = filter_node_ids(\n",
    "    df_rollcall_info\n",
    "        .withColumnRenamed('rollcall_id', 'src')\n",
    "        .withColumnRenamed('bill_id', 'dst')\n",
    "        .select([F.col('src'), F.col('dst')])\n",
    "        .dropDuplicates(['src', 'dst'])\n",
    ")\n",
    "print(df_edges_rollcall_bill.count())\n",
    "df_edges_rollcall_bill.head(5)"
   ],
   "metadata": {
    "collapsed": false,
    "pycharm": {
     "name": "#%%\n"
    }
   }
  },
  {
   "cell_type": "code",
   "execution_count": 79,
   "outputs": [
    {
     "name": "stderr",
     "output_type": "stream",
     "text": [
      "                                                                                \r"
     ]
    },
    {
     "name": "stdout",
     "output_type": "stream",
     "text": [
      "284406\n"
     ]
    },
    {
     "name": "stderr",
     "output_type": "stream",
     "text": [
      "                                                                                \r"
     ]
    },
    {
     "data": {
      "text/plain": "[Row(src='A000374', dst='2019:151', vote=1),\n Row(src='A000374', dst='2019:221', vote=0),\n Row(src='A000374', dst='2019:580', vote=-1),\n Row(src='A000370', dst='2019:317', vote=1),\n Row(src='A000370', dst='2019:219', vote=1)]"
     },
     "execution_count": 79,
     "metadata": {},
     "output_type": "execute_result"
    }
   ],
   "source": [
    "df_edges_rollcall_vote = filter_node_ids(\n",
    "    df_rollcall_votes\n",
    "        .withColumnRenamed('name_id', 'src')\n",
    "        .withColumnRenamed('rollcall_id', 'dst')\n",
    "        .withColumnRenamed('vote', 'vote')\n",
    "        .select(['src', 'dst', 'vote'])\n",
    "        .dropDuplicates(['src', 'dst'])\n",
    ")\n",
    "print(df_edges_rollcall_vote.count())\n",
    "df_edges_rollcall_vote.head(5)"
   ],
   "metadata": {
    "collapsed": false,
    "pycharm": {
     "name": "#%%\n"
    }
   }
  },
  {
   "cell_type": "code",
   "execution_count": 80,
   "outputs": [
    {
     "name": "stderr",
     "output_type": "stream",
     "text": [
      "                                                                                \r"
     ]
    }
   ],
   "source": [
    "df_nodes_members.write.parquet(DATASET.processed_str('nodes_Member'), mode='overwrite')\n",
    "df_nodes_commitee.write.parquet(DATASET.processed_str('nodes_Commitee'), mode='overwrite')\n",
    "df_nodes_bills.write.parquet(DATASET.processed_str('nodes_Bill'), mode='overwrite')\n",
    "df_nodes_rolecalls.write.parquet(DATASET.processed_str('nodes_Rollcall'), mode='overwrite')\n",
    "\n",
    "df_edges_sponsor.write.parquet(DATASET.processed_str('edges_SPONSORS'), mode='overwrite')\n",
    "df_edges_cosponsor.write.parquet(DATASET.processed_str('edges_COSPONSORS'), mode='overwrite')\n",
    "df_edges_commitee_bill.write.parquet(DATASET.processed_str('edges_COMMITEES_BILL'), mode='overwrite')\n",
    "df_edges_commitee_member.write.parquet(DATASET.processed_str('edges_MEMBER_OF_COMMITEE'), mode='overwrite')\n",
    "df_edges_related_bill.write.parquet(DATASET.processed_str('edges_RELATED_TO'), mode='overwrite')\n",
    "df_edges_rollcall_bill.write.parquet(DATASET.processed_str('edges_ROLLCALL_FOR'), mode='overwrite')\n",
    "df_edges_rollcall_vote.write.parquet(DATASET.processed_str('edges_VOTED_FOR'), mode='overwrite')"
   ],
   "metadata": {
    "collapsed": false,
    "pycharm": {
     "name": "#%%\n"
    }
   }
  },
  {
   "cell_type": "code",
   "execution_count": 81,
   "outputs": [
    {
     "data": {
      "text/plain": "GraphSchema(_path=PosixPath('/dd_volume/Development/Python/Thesis/code/storage/datasets/processed/house-of-representatives-congress-116'), nodes={'Member': NodeSchema(_type='Member', _schema=..., label='name', properties={'id': GraphProperty(_name='id', dtype=DType(atomic=<DTypeAtomic.STRING: 'string'>, array=False)), 'name': GraphProperty(_name='name', dtype=DType(atomic=<DTypeAtomic.STRING: 'string'>, array=False)), 'state': GraphProperty(_name='state', dtype=DType(atomic=<DTypeAtomic.STRING: 'string'>, array=False)), 'url': GraphProperty(_name='url', dtype=DType(atomic=<DTypeAtomic.STRING: 'string'>, array=False)), 'chamber': GraphProperty(_name='chamber', dtype=DType(atomic=<DTypeAtomic.STRING: 'string'>, array=False)), 'current_party': GraphProperty(_name='current_party', dtype=DType(atomic=<DTypeAtomic.STRING: 'string'>, array=False)), 'committee_assignments': GraphProperty(_name='committee_assignments', dtype=DType(atomic=<DTypeAtomic.STRING: 'string'>, array=True))}, dynamic=None), 'Commitee': NodeSchema(_type='Commitee', _schema=..., label='id', properties={'id': GraphProperty(_name='id', dtype=DType(atomic=<DTypeAtomic.STRING: 'string'>, array=False))}, dynamic=None), 'Bill': NodeSchema(_type='Bill', _schema=..., label='title', properties={'id': GraphProperty(_name='id', dtype=DType(atomic=<DTypeAtomic.STRING: 'string'>, array=False)), 'title': GraphProperty(_name='title', dtype=DType(atomic=<DTypeAtomic.STRING: 'string'>, array=False)), 'sponsor': GraphProperty(_name='sponsor', dtype=DType(atomic=<DTypeAtomic.STRING: 'string'>, array=False)), 'cosponsors': GraphProperty(_name='cosponsors', dtype=DType(atomic=<DTypeAtomic.STRING: 'string'>, array=True)), 'related_bills': GraphProperty(_name='related_bills', dtype=DType(atomic=<DTypeAtomic.STRING: 'string'>, array=True)), 'policy_area': GraphProperty(_name='policy_area', dtype=DType(atomic=<DTypeAtomic.STRING: 'string'>, array=False)), 'subjects': GraphProperty(_name='subjects', dtype=DType(atomic=<DTypeAtomic.STRING: 'string'>, array=True)), 'committees': GraphProperty(_name='committees', dtype=DType(atomic=<DTypeAtomic.STRING: 'string'>, array=True)), 'bill_progress': GraphProperty(_name='bill_progress', dtype=DType(atomic=<DTypeAtomic.STRING: 'string'>, array=False)), 'summary': GraphProperty(_name='summary', dtype=DType(atomic=<DTypeAtomic.STRING: 'string'>, array=False)), 'date_introduced': GraphProperty(_name='date_introduced', dtype=DType(atomic=<DTypeAtomic.DATETIME: 'datetime'>, array=False)), 'number': GraphProperty(_name='number', dtype=DType(atomic=<DTypeAtomic.INT: 'int'>, array=False)), 'bill_type': GraphProperty(_name='bill_type', dtype=DType(atomic=<DTypeAtomic.STRING: 'string'>, array=False))}, dynamic=DynamicConfig(timestamp='date_introduced', interaction=False)), 'Rollcall': NodeSchema(_type='Rollcall', _schema=..., label='question', properties={'id': GraphProperty(_name='id', dtype=DType(atomic=<DTypeAtomic.STRING: 'string'>, array=False)), 'roll_num': GraphProperty(_name='roll_num', dtype=DType(atomic=<DTypeAtomic.INT: 'int'>, array=False)), 'date': GraphProperty(_name='date', dtype=DType(atomic=<DTypeAtomic.DATETIME: 'datetime'>, array=False)), 'bill_id': GraphProperty(_name='bill_id', dtype=DType(atomic=<DTypeAtomic.STRING: 'string'>, array=False)), 'question': GraphProperty(_name='question', dtype=DType(atomic=<DTypeAtomic.STRING: 'string'>, array=False)), 'result': GraphProperty(_name='result', dtype=DType(atomic=<DTypeAtomic.STRING: 'string'>, array=False)), 'description': GraphProperty(_name='description', dtype=DType(atomic=<DTypeAtomic.STRING: 'string'>, array=False))}, dynamic=DynamicConfig(timestamp='date', interaction=True))}, edges={'SPONSORS': EdgeSchema(_type='SPONSORS', _schema=..., label=None, properties={'dst': GraphProperty(_name='dst', dtype=DType(atomic=<DTypeAtomic.STRING: 'string'>, array=False)), 'title': GraphProperty(_name='title', dtype=DType(atomic=<DTypeAtomic.STRING: 'string'>, array=False)), 'src': GraphProperty(_name='src', dtype=DType(atomic=<DTypeAtomic.STRING: 'string'>, array=False)), 'cosponsors': GraphProperty(_name='cosponsors', dtype=DType(atomic=<DTypeAtomic.STRING: 'string'>, array=True)), 'related_bills': GraphProperty(_name='related_bills', dtype=DType(atomic=<DTypeAtomic.STRING: 'string'>, array=True)), 'policy_area': GraphProperty(_name='policy_area', dtype=DType(atomic=<DTypeAtomic.STRING: 'string'>, array=False)), 'subjects': GraphProperty(_name='subjects', dtype=DType(atomic=<DTypeAtomic.STRING: 'string'>, array=True)), 'committees': GraphProperty(_name='committees', dtype=DType(atomic=<DTypeAtomic.STRING: 'string'>, array=True)), 'bill_progress': GraphProperty(_name='bill_progress', dtype=DType(atomic=<DTypeAtomic.STRING: 'string'>, array=False)), 'summary': GraphProperty(_name='summary', dtype=DType(atomic=<DTypeAtomic.STRING: 'string'>, array=False)), 'date_introduced': GraphProperty(_name='date_introduced', dtype=DType(atomic=<DTypeAtomic.DATETIME: 'datetime'>, array=False)), 'number': GraphProperty(_name='number', dtype=DType(atomic=<DTypeAtomic.INT: 'int'>, array=False)), 'bill_type': GraphProperty(_name='bill_type', dtype=DType(atomic=<DTypeAtomic.STRING: 'string'>, array=False))}, dynamic=None, source_type='Member', target_type='Bill', directed=True), 'COSPONSORS': EdgeSchema(_type='COSPONSORS', _schema=..., label=None, properties={'src': GraphProperty(_name='src', dtype=DType(atomic=<DTypeAtomic.STRING: 'string'>, array=False)), 'dst': GraphProperty(_name='dst', dtype=DType(atomic=<DTypeAtomic.STRING: 'string'>, array=False))}, dynamic=None, source_type='Member', target_type='Bill', directed=True), 'COMMITEES_BILL': EdgeSchema(_type='COMMITEES_BILL', _schema=..., label=None, properties={'src': GraphProperty(_name='src', dtype=DType(atomic=<DTypeAtomic.STRING: 'string'>, array=False)), 'dst': GraphProperty(_name='dst', dtype=DType(atomic=<DTypeAtomic.STRING: 'string'>, array=False))}, dynamic=None, source_type='Commitee', target_type='Bill', directed=True), 'MEMBER_OF_COMMITEE': EdgeSchema(_type='MEMBER_OF_COMMITEE', _schema=..., label=None, properties={'dst': GraphProperty(_name='dst', dtype=DType(atomic=<DTypeAtomic.STRING: 'string'>, array=False)), 'src': GraphProperty(_name='src', dtype=DType(atomic=<DTypeAtomic.STRING: 'string'>, array=False))}, dynamic=None, source_type='Member', target_type='Commitee', directed=True), 'RELATED_TO': EdgeSchema(_type='RELATED_TO', _schema=..., label=None, properties={'src': GraphProperty(_name='src', dtype=DType(atomic=<DTypeAtomic.STRING: 'string'>, array=False)), 'dst': GraphProperty(_name='dst', dtype=DType(atomic=<DTypeAtomic.STRING: 'string'>, array=False))}, dynamic=None, source_type='Bill', target_type='Bill', directed=True), 'ROLLCALL_FOR': EdgeSchema(_type='ROLLCALL_FOR', _schema=..., label=None, properties={'src': GraphProperty(_name='src', dtype=DType(atomic=<DTypeAtomic.STRING: 'string'>, array=False)), 'dst': GraphProperty(_name='dst', dtype=DType(atomic=<DTypeAtomic.STRING: 'string'>, array=False))}, dynamic=None, source_type='Rollcall', target_type='Bill', directed=True), 'VOTED_FOR': EdgeSchema(_type='VOTED_FOR', _schema=..., label=None, properties={'src': GraphProperty(_name='src', dtype=DType(atomic=<DTypeAtomic.STRING: 'string'>, array=False)), 'dst': GraphProperty(_name='dst', dtype=DType(atomic=<DTypeAtomic.STRING: 'string'>, array=False)), 'vote': GraphProperty(_name='vote', dtype=DType(atomic=<DTypeAtomic.INT: 'int'>, array=False))}, dynamic=None, source_type='Member', target_type='Rollcall', directed=True)})"
     },
     "execution_count": 81,
     "metadata": {},
     "output_type": "execute_result"
    }
   ],
   "source": [
    "from shared.schema.graph import GraphSchema, NodeSchema, EdgeSchema\n",
    "\n",
    "(\n",
    "    GraphSchema()\n",
    "        .add_node_schema('Member', NodeSchema.from_spark(df_nodes_members.schema, label='name'))\n",
    "        .add_node_schema('Commitee', NodeSchema.from_spark(df_nodes_commitee.schema, label='id'))\n",
    "        .add_node_schema('Bill', NodeSchema.from_spark(df_nodes_bills.schema, label='title', timestamp='date_introduced', interaction=False))\n",
    "        .add_node_schema('Rollcall', NodeSchema.from_spark(df_nodes_rolecalls.schema, label='question', timestamp='date', interaction=True))\n",
    "\n",
    "        .add_edge_schema('SPONSORS', EdgeSchema.from_spark(df_edges_sponsor.schema, source_type='Member', target_type='Bill', directed=True))\n",
    "        .add_edge_schema('COSPONSORS', EdgeSchema.from_spark(df_edges_cosponsor.schema, source_type='Member', target_type='Bill', directed=True))\n",
    "        .add_edge_schema('COMMITEES_BILL', EdgeSchema.from_spark(df_edges_commitee_bill.schema, source_type='Commitee', target_type='Bill', directed=True))\n",
    "        .add_edge_schema('MEMBER_OF_COMMITEE', EdgeSchema.from_spark(df_edges_commitee_member.schema, source_type='Member', target_type='Commitee', directed=True))\n",
    "        .add_edge_schema('RELATED_TO', EdgeSchema.from_spark(df_edges_related_bill.schema, source_type='Bill', target_type='Bill', directed=True))\n",
    "        .add_edge_schema('ROLLCALL_FOR', EdgeSchema.from_spark(df_edges_rollcall_bill.schema, source_type='Rollcall', target_type='Bill', directed=True))\n",
    "        .add_edge_schema('VOTED_FOR', EdgeSchema.from_spark(df_edges_rollcall_vote.schema, source_type='Member', target_type='Rollcall', directed=True))\n",
    "        .save_schema(DATASET.processed())\n",
    ")"
   ],
   "metadata": {
    "collapsed": false,
    "pycharm": {
     "name": "#%%\n"
    }
   }
  },
  {
   "cell_type": "code",
   "execution_count": null,
   "outputs": [],
   "source": [],
   "metadata": {
    "collapsed": false,
    "pycharm": {
     "name": "#%%\n"
    }
   }
  }
 ],
 "metadata": {
  "kernelspec": {
   "display_name": "Python 3",
   "language": "python",
   "name": "python3"
  },
  "language_info": {
   "codemirror_mode": {
    "name": "ipython",
    "version": 2
   },
   "file_extension": ".py",
   "mimetype": "text/x-python",
   "name": "python",
   "nbconvert_exporter": "python",
   "pygments_lexer": "ipython2",
   "version": "2.7.6"
  }
 },
 "nbformat": 4,
 "nbformat_minor": 0
}