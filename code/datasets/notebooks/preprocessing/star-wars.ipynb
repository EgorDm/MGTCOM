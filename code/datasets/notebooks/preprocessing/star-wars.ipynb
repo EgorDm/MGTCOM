{
 "cells": [
  {
   "cell_type": "code",
   "execution_count": 1,
   "metadata": {
    "collapsed": true
   },
   "outputs": [],
   "source": [
    "# %load_ext autoreload\n",
    "# %autoreload 2"
   ]
  },
  {
   "cell_type": "code",
   "execution_count": 2,
   "outputs": [],
   "source": [
    "import pyspark.sql.functions as F\n",
    "import pyspark.sql.types as T\n",
    "from pyspark.sql import SparkSession\n"
   ],
   "metadata": {
    "collapsed": false,
    "pycharm": {
     "name": "#%%\n"
    }
   }
  },
  {
   "cell_type": "code",
   "execution_count": 3,
   "outputs": [],
   "source": [
    "from shared.schema import DatasetSchema\n",
    "\n",
    "DATASET = DatasetSchema.load_schema('star-wars')\n",
    "DATASET.save_schema()"
   ],
   "metadata": {
    "collapsed": false,
    "pycharm": {
     "name": "#%%\n"
    }
   }
  },
  {
   "cell_type": "code",
   "execution_count": 4,
   "outputs": [
    {
     "name": "stderr",
     "output_type": "stream",
     "text": [
      "22/01/22 22:51:09 WARN Utils: Your hostname, megatron resolves to a loopback address: 127.0.1.1; using 192.168.1.89 instead (on interface enp7s0)\n",
      "22/01/22 22:51:09 WARN Utils: Set SPARK_LOCAL_IP if you need to bind to another address\n",
      "Using Spark's default log4j profile: org/apache/spark/log4j-defaults.properties\n",
      "Setting default log level to \"WARN\".\n",
      "To adjust logging level use sc.setLogLevel(newLevel). For SparkR, use setLogLevel(newLevel).\n",
      "22/01/22 22:51:10 WARN NativeCodeLoader: Unable to load native-hadoop library for your platform... using builtin-java classes where applicable\n",
      "22/01/22 22:51:10 WARN Utils: Service 'SparkUI' could not bind on port 4040. Attempting port 4041.\n",
      "22/01/22 22:51:10 WARN Utils: Service 'SparkUI' could not bind on port 4041. Attempting port 4042.\n"
     ]
    }
   ],
   "source": [
    "spark = (SparkSession.builder\n",
    "         .appName(f'{DATASET}')\n",
    "         .config('spark.sql.legacy.timeParserPolicy', 'LEGACY')\n",
    "         .config(\"spark.executor.memory\", \"8g\")\n",
    "         .config(\"spark.driver.memory\", \"8g\")\n",
    "         .config(\"spark.memory.offHeap.enabled\", True)\n",
    "         .config(\"spark.memory.offHeap.size\", \"16g\")\n",
    "         .getOrCreate())"
   ],
   "metadata": {
    "collapsed": false,
    "pycharm": {
     "name": "#%%\n"
    }
   }
  },
  {
   "cell_type": "code",
   "execution_count": 5,
   "outputs": [],
   "source": [
    "import json\n",
    "\n",
    "all_edges = []\n",
    "for file in DATASET.raw().glob('starwars-episode-*ns.json'):\n",
    "    _, _, episode, link_type = file.stem.split('-')\n",
    "    with file.open('r') as f:\n",
    "        data = json.load(f)\n",
    "\n",
    "    nodes = list(data['nodes'])\n",
    "    edges = data['links']\n",
    "    for e in edges:\n",
    "        all_edges.append({\n",
    "            'source': nodes[e['source']]['name'],\n",
    "            'target': nodes[e['target']]['name'],\n",
    "            'time': int(episode),\n",
    "            'weight': e['value'],\n",
    "            'type': link_type\n",
    "        })"
   ],
   "metadata": {
    "collapsed": false,
    "pycharm": {
     "name": "#%%\n"
    }
   }
  },
  {
   "cell_type": "code",
   "execution_count": 6,
   "outputs": [
    {
     "name": "stderr",
     "output_type": "stream",
     "text": [
      "                                                                                \r"
     ]
    },
    {
     "data": {
      "text/plain": "[Row(source='NUTE GUNRAY', target='QUI-GON', time=1, type='interactions', weight=1),\n Row(source='PK-4', target='TC-14', time=1, type='interactions', weight=1),\n Row(source='OBI-WAN', target='TC-14', time=1, type='interactions', weight=1),\n Row(source='QUI-GON', target='TC-14', time=1, type='interactions', weight=1),\n Row(source='OBI-WAN', target='QUI-GON', time=1, type='interactions', weight=26)]"
     },
     "execution_count": 6,
     "metadata": {},
     "output_type": "execute_result"
    }
   ],
   "source": [
    "df = spark.createDataFrame(all_edges)\n",
    "df.head(5)"
   ],
   "metadata": {
    "collapsed": false,
    "pycharm": {
     "name": "#%%\n"
    }
   }
  },
  {
   "cell_type": "code",
   "execution_count": 7,
   "outputs": [
    {
     "name": "stdout",
     "output_type": "stream",
     "text": [
      "113\n"
     ]
    },
    {
     "data": {
      "text/plain": "[Row(name='C-3PO', id=0),\n Row(name='MACE WINDU', id=1),\n Row(name='BOSS NASS', id=2),\n Row(name='PADME', id=3),\n Row(name='DOFINE', id=4)]"
     },
     "execution_count": 7,
     "metadata": {},
     "output_type": "execute_result"
    }
   ],
   "source": [
    "df_nodes = (\n",
    "    df\n",
    "        .select(F.col('source').alias('name'))\n",
    "        .union(df.select(F.col('target').alias('name')))\n",
    "        .distinct()\n",
    "        .withColumn('id', F.monotonically_increasing_id())\n",
    ")\n",
    "print(df_nodes.count())\n",
    "df_nodes.head(5)"
   ],
   "metadata": {
    "collapsed": false,
    "pycharm": {
     "name": "#%%\n"
    }
   }
  },
  {
   "cell_type": "code",
   "execution_count": 8,
   "outputs": [
    {
     "name": "stdout",
     "output_type": "stream",
     "text": [
      "1599\n"
     ]
    },
    {
     "data": {
      "text/plain": "[Row(time=1, type='mentions', src=21, dst=5, weight=7),\n Row(time=3, type='mentions', src=56, dst=9, weight=1),\n Row(time=3, type='mentions', src=18, dst=9, weight=1),\n Row(time=4, type='mentions', src=60, dst=59, weight=1),\n Row(time=5, type='interactions', src=61, dst=9, weight=1)]"
     },
     "execution_count": 8,
     "metadata": {},
     "output_type": "execute_result"
    }
   ],
   "source": [
    "df_all_edges = (\n",
    "    df.join(df_nodes.alias('s'), df.source == F.col('s.name'), 'left')\n",
    "        .join(df_nodes.alias('t'), df.target ==  F.col('t.name'), 'left')\n",
    "        .withColumn('src', F.col('s.id'))\n",
    "        .withColumn('dst', F.col('t.id'))\n",
    "        .select('time', 'type', 'src', 'dst', 'weight')\n",
    "        .dropDuplicates(['time', 'src', 'dst', 'type'])\n",
    ")\n",
    "print(df_all_edges.count())\n",
    "df_all_edges.head(5)"
   ],
   "metadata": {
    "collapsed": false,
    "pycharm": {
     "name": "#%%\n"
    }
   }
  },
  {
   "cell_type": "code",
   "execution_count": 9,
   "outputs": [
    {
     "name": "stdout",
     "output_type": "stream",
     "text": [
      "479\n"
     ]
    },
    {
     "data": {
      "text/plain": "[Row(time=5, src=61, dst=9, weight=1),\n Row(time=7, src=61, dst=88, weight=17),\n Row(time=2, src=9, dst=94, weight=5),\n Row(time=4, src=56, dst=62, weight=3),\n Row(time=7, src=90, dst=112, weight=2)]"
     },
     "execution_count": 9,
     "metadata": {},
     "output_type": "execute_result"
    }
   ],
   "source": [
    "df_edges_interactions = (\n",
    "    df_all_edges.filter(F.col('type') == 'interactions')\n",
    "        .drop('type')\n",
    ")\n",
    "print(df_edges_interactions.count())\n",
    "df_edges_interactions.head(5)"
   ],
   "metadata": {
    "collapsed": false,
    "pycharm": {
     "name": "#%%\n"
    }
   }
  },
  {
   "cell_type": "code",
   "execution_count": 10,
   "outputs": [
    {
     "name": "stdout",
     "output_type": "stream",
     "text": [
      "1120\n"
     ]
    },
    {
     "data": {
      "text/plain": "[Row(time=6, src=12, dst=44, weight=1),\n Row(time=6, src=75, dst=58, weight=1),\n Row(time=4, src=53, dst=64, weight=1),\n Row(time=1, src=5, dst=10, weight=9),\n Row(time=3, src=28, dst=94, weight=12)]"
     },
     "execution_count": 10,
     "metadata": {},
     "output_type": "execute_result"
    }
   ],
   "source": [
    "df_edges_mentions = (\n",
    "    df_all_edges.filter(F.col('type') == 'mentions')\n",
    "        .drop('type')\n",
    "        .distinct()\n",
    ")\n",
    "print(df_edges_mentions.count())\n",
    "df_edges_mentions.head(5)"
   ],
   "metadata": {
    "collapsed": false,
    "pycharm": {
     "name": "#%%\n"
    }
   }
  },
  {
   "cell_type": "code",
   "execution_count": 11,
   "outputs": [
    {
     "name": "stderr",
     "output_type": "stream",
     "text": [
      "                                                                                \r"
     ]
    }
   ],
   "source": [
    "df_nodes.write.parquet(DATASET.processed_str('nodes_Character'), mode='overwrite')\n",
    "\n",
    "df_edges_interactions.write.parquet(DATASET.processed_str('edges_INTERACTIONS'), mode='overwrite')\n",
    "df_edges_mentions.write.parquet(DATASET.processed_str('edges_MENTIONS'), mode='overwrite')"
   ],
   "metadata": {
    "collapsed": false,
    "pycharm": {
     "name": "#%%\n"
    }
   }
  },
  {
   "cell_type": "code",
   "execution_count": 12,
   "outputs": [
    {
     "data": {
      "text/plain": "GraphSchema(_path=PosixPath('/dd_volume/Development/Python/Thesis/code/datasets/data/processed/star-wars'), nodes={'Character': NodeSchema(_type='Character', _schema=..., label='name', properties={'name': GraphProperty(_name='name', dtype=DType(atomic=<DTypeAtomic.STRING: 'string'>, array=False)), 'id': GraphProperty(_name='id', dtype=DType(atomic=<DTypeAtomic.INT: 'int'>, array=False))}, dynamic=None)}, edges={'INTERACTIONS': EdgeSchema(_type='INTERACTIONS', _schema=..., label=None, properties={'time': GraphProperty(_name='time', dtype=DType(atomic=<DTypeAtomic.INT: 'int'>, array=False)), 'src': GraphProperty(_name='src', dtype=DType(atomic=<DTypeAtomic.INT: 'int'>, array=False)), 'dst': GraphProperty(_name='dst', dtype=DType(atomic=<DTypeAtomic.INT: 'int'>, array=False)), 'weight': GraphProperty(_name='weight', dtype=DType(atomic=<DTypeAtomic.INT: 'int'>, array=False))}, dynamic=DynamicConfig(timestamp='time', interaction=True), source_type='Character', target_type='Character', directed=False), 'MENTIONS': EdgeSchema(_type='MENTIONS', _schema=..., label=None, properties={'time': GraphProperty(_name='time', dtype=DType(atomic=<DTypeAtomic.INT: 'int'>, array=False)), 'src': GraphProperty(_name='src', dtype=DType(atomic=<DTypeAtomic.INT: 'int'>, array=False)), 'dst': GraphProperty(_name='dst', dtype=DType(atomic=<DTypeAtomic.INT: 'int'>, array=False)), 'weight': GraphProperty(_name='weight', dtype=DType(atomic=<DTypeAtomic.INT: 'int'>, array=False))}, dynamic=DynamicConfig(timestamp='time', interaction=True), source_type='Character', target_type='Character', directed=True)})"
     },
     "execution_count": 12,
     "metadata": {},
     "output_type": "execute_result"
    }
   ],
   "source": [
    "from shared.schema.graph import GraphSchema, NodeSchema, EdgeSchema\n",
    "\n",
    "(\n",
    "    GraphSchema()\n",
    "        .add_node_schema('Character', NodeSchema.from_spark(df_nodes.schema, label='name'))\n",
    "        .add_edge_schema('INTERACTIONS', EdgeSchema.from_spark(df_edges_interactions.schema, source_type='Character', target_type='Character', directed=False, timestamp='time', interaction=True))\n",
    "        .add_edge_schema('MENTIONS', EdgeSchema.from_spark(df_edges_mentions.schema, source_type='Character', target_type='Character', directed=True, timestamp='time', interaction=True))\n",
    "        .save_schema(DATASET.processed())\n",
    ")"
   ],
   "metadata": {
    "collapsed": false,
    "pycharm": {
     "name": "#%%\n"
    }
   }
  },
  {
   "cell_type": "code",
   "execution_count": 12,
   "outputs": [],
   "source": [],
   "metadata": {
    "collapsed": false,
    "pycharm": {
     "name": "#%%\n"
    }
   }
  }
 ],
 "metadata": {
  "kernelspec": {
   "display_name": "Python 3",
   "language": "python",
   "name": "python3"
  },
  "language_info": {
   "codemirror_mode": {
    "name": "ipython",
    "version": 2
   },
   "file_extension": ".py",
   "mimetype": "text/x-python",
   "name": "python",
   "nbconvert_exporter": "python",
   "pygments_lexer": "ipython2",
   "version": "2.7.6"
  }
 },
 "nbformat": 4,
 "nbformat_minor": 0
}