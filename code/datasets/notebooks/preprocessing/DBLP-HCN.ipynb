{
 "cells": [
  {
   "cell_type": "code",
   "execution_count": 1,
   "metadata": {
    "collapsed": true
   },
   "outputs": [],
   "source": [
    "%load_ext autoreload\n",
    "%autoreload 2"
   ]
  },
  {
   "cell_type": "code",
   "execution_count": 2,
   "outputs": [],
   "source": [
    "import pyspark.sql.functions as F\n",
    "import pyspark.sql.types as T\n",
    "from pyspark.sql.window import Window as W\n",
    "from pyspark.sql import SparkSession\n",
    "from pyspark.ml.feature import Tokenizer, StopWordsRemover\n",
    "from nltk.stem.snowball import SnowballStemmer"
   ],
   "metadata": {
    "collapsed": false,
    "pycharm": {
     "name": "#%%\n"
    }
   }
  },
  {
   "cell_type": "code",
   "execution_count": 3,
   "outputs": [],
   "source": [
    "from shared.schema import DatasetSchema\n",
    "\n",
    "DATASET = DatasetSchema.load_schema('DBLP-HCN')\n",
    "DATASET.save_schema()"
   ],
   "metadata": {
    "collapsed": false,
    "pycharm": {
     "name": "#%%\n"
    }
   }
  },
  {
   "cell_type": "code",
   "execution_count": 4,
   "outputs": [
    {
     "name": "stderr",
     "output_type": "stream",
     "text": [
      "WARNING: An illegal reflective access operation has occurred\n",
      "WARNING: Illegal reflective access by org.apache.spark.unsafe.Platform (file:/data/pella/projects/University/Thesis/Thesis/code/env/lib/python3.9/site-packages/pyspark/jars/spark-unsafe_2.12-3.2.0.jar) to constructor java.nio.DirectByteBuffer(long,int)\n",
      "WARNING: Please consider reporting this to the maintainers of org.apache.spark.unsafe.Platform\n",
      "WARNING: Use --illegal-access=warn to enable warnings of further illegal reflective access operations\n",
      "WARNING: All illegal access operations will be denied in a future release\n",
      "Using Spark's default log4j profile: org/apache/spark/log4j-defaults.properties\n",
      "Setting default log level to \"WARN\".\n",
      "To adjust logging level use sc.setLogLevel(newLevel). For SparkR, use setLogLevel(newLevel).\n",
      "22/03/12 13:06:20 WARN NativeCodeLoader: Unable to load native-hadoop library for your platform... using builtin-java classes where applicable\n",
      "22/03/12 13:06:21 WARN Utils: Service 'SparkUI' could not bind on port 4040. Attempting port 4041.\n"
     ]
    }
   ],
   "source": [
    "spark = (SparkSession.builder\n",
    "         .appName(f'{DATASET}')\n",
    "         .config('spark.sql.legacy.timeParserPolicy', 'LEGACY')\n",
    "         .config(\"spark.executor.memory\", \"8g\")\n",
    "         .config(\"spark.driver.memory\", \"8g\")\n",
    "         .config(\"spark.memory.offHeap.enabled\", True)\n",
    "         .config(\"spark.memory.offHeap.size\", \"16g\")\n",
    "         .getOrCreate())"
   ],
   "metadata": {
    "collapsed": false,
    "pycharm": {
     "name": "#%%\n"
    }
   }
  },
  {
   "cell_type": "code",
   "execution_count": 5,
   "outputs": [
    {
     "name": "stderr",
     "output_type": "stream",
     "text": [
      "                                                                                \r"
     ]
    },
    {
     "data": {
      "text/plain": "[Row(id='104', title='SWORD: workload-aware data placement and replica selection for cloud data management systems.', venue='vldb', year=2014, authors=['K. Ashwin Kumar', 'Abdul Quamar'], abstract='Cloud computing is increasingly being seen as a way to reduce infrastructure costs and add elasticity, and is being used by a wide range of organizations. Cloud data management systems today need to serve a range of different workloads, from analytical read-heavy workloads to transactional (OLTP) workloads. For both the service providers and the users, it is critical to minimize the consumption of resources like CPU, memory, communication bandwidth, and energy, without compromising on service-level agreements if any. In this article, we develop a workload-aware data placement and replication approach, called SWORD, for minimizing resource consumption in such an environment. Specifically, we monitor and model the expected workload as a hypergraph and develop partitioning techniques that minimize the average query span, i.e., the average number of machines involved in the execution of a query or a transaction. We empirically justify the use of query span as the metric to optimize, for both analytical and transactional workloads, and develop a series of replication and data placement algorithms by drawing connections to several well-studied graph theoretic concepts. We introduce a suite of novel techniques to achieve high scalability by reducing the overhead of partitioning and query routing. To deal with workload changes, we propose an incremental repartitioning technique that modifies data placement in small steps without resorting to complete repartitioning. We propose the use of fine-grained quorums defined at the level of groups of data items to control the cost of distributed updates, improve throughput, and adapt to different workloads. We empirically illustrate the benefits of our approach through a comprehensive experimental evaluation for two classes of workloads. For analytical read-only workloads, we show that our techniques result in significant reduction in total resource consumption. For OLTP workloads, we show that our approach improves transaction latencies and overall throughput by minimizing the number of distributed transactions.'),\n Row(id='106', title='A survey of large-scale analytical query processing in MapReduce.', venue='vldb', year=2014, authors=['Christos Doulkeridis', 'Kjetil N&oslash'], abstract='Enterprises today acquire vast volumes of data from different sources and leverage this information by means of data analysis to support effective decision-making and provide new functionality and services. The key requirement of data analytics is scalability, simply due to the immense volume of data that need to be extracted, processed, and analyzed in a timely fashion. Arguably the most popular framework for contemporary large-scale data analytics is MapReduce, mainly due to its salient features that include scalability, fault-tolerance, ease of programming, and flexibility. However, despite its merits, MapReduce has evident performance limitations in miscellaneous analytical tasks, and this has given rise to a significant body of research that aim at improving its efficiency, while maintaining its desirable properties. This survey aims to review the state of the art in improving the performance of parallel query processing using MapReduce. A set of the most significant weaknesses and limitations of MapReduce is discussed at a high level, along with solving techniques. A taxonomy is presented for categorizing existing research on MapReduce improvements according to the specific problem they target. Based on the proposed taxonomy, a classification of existing research is provided focusing on the optimization objective. Concluding, we outline interesting directions for future parallel data processing systems.'),\n Row(id='107', title='Taking the Big Picture: representative skylines based on significance and diversity.', venue='vldb', year=2014, authors=['Matteo Magnani', 'Ira Assent'], abstract='The skyline is a popular operator to extract records from a database when a record scoring function is not available. However, the result of a skyline query can be very large. The problem addressed in this paper is the automatic selection of a small number \\\\((k)\\\\) of representative skyline records. Existing approaches have only focused on partial aspects of this problem. Some try to identify sets of diverse records giving an overall approximation of the skyline. These techniques, however, are sensitive to the scaling of attributes or to the insertion of non-skyline records into the database. Others exploit some knowledge of the record scoring function to identify the most significant record, but not sets of records representative of the whole skyline. In this paper, we introduce a novel approach taking both the significance of all the records and their diversity into account, adapting to available knowledge of the scoring function, but also working under complete ignorance. We show the intractability of the problem and present approximate algorithms. We experimentally show that our approach is efficient, scalable and that it improves existing works in terms of the significance and diversity of the results.'),\n Row(id='108', title='Calibrating trajectory data for spatio-temporal similarity analysis.', venue='vldb', year=2015, authors=['Han Su', 'Kai Zheng'], abstract='Due to the prevalence of GPS-enabled devices and wireless communications technologies, spatial trajectories that describe the movement history of moving objects are being generated and accumulated at an unprecedented pace. Trajectory data in a database are intrinsically heterogeneous, as they represent discrete approximations of original continuous paths derived using different sampling strategies and different sampling rates. Such heterogeneity can have a negative impact on the effectiveness of trajectory similarity measures, which are the basis of many crucial trajectory processing tasks. In this paper, we pioneer a systematic approach to trajectory calibration that is a process to transform a heterogeneous trajectory dataset to one with (almost) unified sampling strategies. Specifically, we propose an anchor-based calibration system that aligns trajectories to a set of anchor points, which are fixed locations independent of trajectory data. After examining four different types of anchor points for the purpose of building a stable reference system, we propose a spatial-only geometry-based calibration approach that considers the spatial relationship between anchor points and trajectories. Then a more advanced spatial-only model-based calibration method is presented, which exploits the power of machine learning techniques to train inference models from historical trajectory data to improve calibration effectiveness. Afterward, since trajectory has temporal information, we extend these two spatial-only trajectory calibration algorithms to incorporate the temporal information, which can infer a proper time stamp to each anchor point of a calibrated trajectory. At last, we provide a solution to reduce cost, i.e., the number of trajectories that is necessary to be re-calibrated, of the updating of the reference system. Finally, we conduct extensive experiments using real trajectory datasets to demonstrate the effectiveness and efficiency of the proposed calibration system.'),\n Row(id='111', title='Windowed pq-grams for approximate joins of data-centric XML.', venue='vldb', year=2012, authors=['Nikolaus Augsten', 'Michael H. B&ouml'], abstract='In data integration applications, a join matches elements that are common to two data sources. Since elements are represented slightly different in each source, an approximate join must be used to do the matching. For XML data, most existing approximate join strategies are based on some ordered tree matching technique, such as the tree edit distance. In data-centric XML, however, the sibling order is irrelevant, and two elements should match even if their subelement order varies. Thus, approximate joins for data-centric XML must leverage unordered tree matching techniques. This is computationally hard since the algorithms cannot rely on a predefined sibling order. In this paper, we give a solution for approximate joins based on unordered tree matching. The core of our solution are windowed pq-grams which are small subtrees of a specific shape. We develop an efficient technique to generate windowed pq-grams in a three-step process: sort the tree, extend the sorted tree with dummy nodes, and decompose the extended tree into windowed pq-grams. The windowed pq-grams distance between two trees is the number of pq-grams that are in one tree decomposition only. We show that our distance is a pseudo-metric and empirically demonstrate that it effectively approximates the unordered tree edit distance. The approximate join using windowed pq-grams can be efficiently implemented as an equality join on strings, which avoids the costly computation of the distance between every pair of input trees. Experiments with synthetic and real world data confirm the analytic results and show the effectiveness and efficiency of our technique.'),\n Row(id='112', title='Sorting networks on FPGAs.', venue='vldb', year=2012, authors=['Ren&eacute', 'M&uuml'], abstract='Computer architectures are quickly changing toward heterogeneous many-core systems. Such a trend opens up interesting opportunities but also raises immense challenges since the efficient use of heterogeneous many-core systems is not a trivial problem. Software-configurable microprocessors and FPGAs add further diversity but also increase complexity. In this paper, we explore the use of sorting networks on field-programmable gate arrays (FPGAs). FPGAs are very versatile in terms of how they can be used and can also be added as additional processing units in standard CPU sockets. Our results indicate that efficient usage of FPGAs involves non-trivial aspects such as having the right computation model (a sorting network in this case); a careful implementation that balances all the design constraints in an FPGA; and the proper integration strategy to link the FPGA to the rest of the system. Once these issues are properly addressed, our experiments show that FPGAs exhibit performance figures competitive with those of modern general-purpose CPUs while offering significant advantages in terms of power consumption and parallel stream evaluation.'),\n Row(id='115', title='Query reverse engineering.', venue='vldb', year=2014, authors=['Quoc Trung Tran', 'Chee Yong Chan'], abstract=\"In this paper, we introduce a new problem termed query reverse engineering (QRE). Given a database \\\\(D\\\\) and a result table \\\\(T\\\\)—the output of some known or unknown query \\\\(Q\\\\) on \\\\(D\\\\)—the goal of QRE is to reverse-engineer a query \\\\(Q'\\\\) such that the output of query \\\\(Q'\\\\) on database \\\\(D\\\\) (denoted by \\\\(Q'(D)\\\\)) is equal to \\\\(T\\\\) (i.e., \\\\(Q(D)\\\\)). The QRE problem has useful applications in database usability, data analysis, and data security. In this work, we propose a data-driven approach, TALOS for Tree-based classifier with At Least One Semantics, that is based on a novel dynamic data classification formulation and extend the approach to efficiently support the three key dimensions of the QRE problem: whether the input query is known/unknown, supporting different query fragments, and supporting multiple database versions.\"),\n Row(id='116', title='Outsourcing shortest distance computing with privacy protection.', venue='vldb', year=2013, authors=['Jun Gao', 'Jeffrey Xu Yu'], abstract='With the advent of cloud computing, it becomes desirable to outsource graphs into cloud servers to efficiently perform complex operations without compromising their sensitive information. In this paper, we take the shortest distance computation as a case to investigate the technique issues in outsourcing graph operations. We first propose a parameter-free, edge-based 2-HOP delegation security model (shorten as 2-HOP delegation model), which can greatly reduce the chances of the structural pattern attack and the graph reconstruction attack. We then transform the original graph into a link graph \\\\(G_l\\\\) kept locally and a set of outsourced graphs \\\\(\\\\mathcal G _o\\\\). Our objectives include (i) ensuring each outsourced graph meeting the requirement of 2-HOP delegation model, (ii) making shortest distance queries be answered using \\\\(G_l\\\\) and \\\\(\\\\mathcal G _o\\\\), (iii) minimizing the space cost of \\\\(G_l\\\\). We devise a greedy method to produce \\\\(G_l\\\\) and \\\\(\\\\mathcal G _o\\\\), which can exactly answer shortest distance queries. We also develop an efficient transformation method to support approximate shortest distance answering under a given average additive error bound. The experimental results illustrate the effectiveness and efficiency of our method.'),\n Row(id='118', title='High efficiency and quality: large graphs matching.', venue='vldb', year=2013, authors=['Yuanyuan Zhu', 'Lu Qin'], abstract='Graph matching plays an essential role in many real applications. In this paper, we study how to match two large graphs by maximizing the number of matched edges, which is known as maximum common subgraph matching and is NP-hard. To find exact matching, it cannot a graph with more than 30 nodes. To find an approximate matching, the quality can be very poor. We propose a novel two-step approach that can efficiently match two large graphs over thousands of nodes with high matching quality. In the first step, we propose an anchor-selection/expansion approach to compute a good initial matching. In the second step, we propose a new approach to refine the initial matching. We give the optimality of our refinement and discuss how to randomly refine the matching with different combinations. We further show how to extend our solution to handle labeled graphs. We conducted extensive testing using real and synthetic datasets and report our findings in this paper.'),\n Row(id='120', title='Efficient processing of $$k$$ k -hop reachability queries.', venue='vldb', year=2014, authors=['James Cheng', 'Zechao Shang'], abstract='We study the problem of answering k-hop reachability queries in a directed graph, i.e., whether there exists a directed path of length \\\\(k\\\\), from a source query vertex to a target query vertex in the input graph. The problem of \\\\(k\\\\)-hop reachability is a general problem of the classic reachability (where \\\\(k=\\\\infty \\\\)). Existing indexes for processing classic reachability queries, as well as for processing shortest path distance queries, are not applicable or not efficient for processing \\\\(k\\\\)-hop reachability queries. We propose an efficient index for processing \\\\(k\\\\)-hop reachability queries. Our experimental results on a wide range of real datasets show that our method is efficient and scalable in terms of both index construction and query processing.')]"
     },
     "execution_count": 5,
     "metadata": {},
     "output_type": "execute_result"
    }
   ],
   "source": [
    "schema = T.StructType([\n",
    "    T.StructField('id', T.StringType(), True),\n",
    "    T.StructField('title', T.StringType(), True),\n",
    "    T.StructField('venue', T.StringType(), True),\n",
    "    T.StructField('year', T.IntegerType(), True),\n",
    "    T.StructField('authors', T.StringType(), True),\n",
    "    T.StructField('abstract', T.StringType(), True),\n",
    "])\n",
    "\n",
    "df = (\n",
    "    spark.read.csv(DATASET.raw_str('author.txt'), schema=schema, sep='\\t\\t\\t')\n",
    "        .withColumn('authors', F.transform(F.split(F.col('authors'), ';'), F.trim))\n",
    ")\n",
    "\n",
    "df.head(10)"
   ],
   "metadata": {
    "collapsed": false,
    "pycharm": {
     "name": "#%%\n"
    }
   }
  },
  {
   "cell_type": "markdown",
   "source": [
    "## Data Extraction"
   ],
   "metadata": {
    "collapsed": false,
    "pycharm": {
     "name": "#%% md\n"
    }
   }
  },
  {
   "cell_type": "code",
   "execution_count": 6,
   "outputs": [
    {
     "name": "stderr",
     "output_type": "stream",
     "text": [
      "                                                                                \r"
     ]
    },
    {
     "name": "stdout",
     "output_type": "stream",
     "text": [
      "5162\n"
     ]
    },
    {
     "data": {
      "text/plain": "[Row(name='&Aacute', id=0),\n Row(name='&Agrave', id=1),\n Row(name='&Eacute', id=2),\n Row(name='&atilde', id=3),\n Row(name='&ntilde', id=4)]"
     },
     "execution_count": 6,
     "metadata": {},
     "output_type": "execute_result"
    }
   ],
   "source": [
    "df_nodes_authors = (\n",
    "    df.select(\n",
    "        F.explode(F.col('authors')).alias('name'),\n",
    "    )\n",
    "        .distinct()\n",
    "        .sort('name')\n",
    "        .coalesce(1)\n",
    "        .withColumn('id', F.monotonically_increasing_id())\n",
    ")\n",
    "print(df_nodes_authors.count())\n",
    "df_nodes_authors.head(5)"
   ],
   "metadata": {
    "collapsed": false,
    "pycharm": {
     "name": "#%%\n"
    }
   }
  },
  {
   "cell_type": "code",
   "execution_count": 7,
   "outputs": [
    {
     "name": "stdout",
     "output_type": "stream",
     "text": [
      "14\n"
     ]
    },
    {
     "data": {
      "text/plain": "[Row(name='aaai', id=0),\n Row(name='cvpr', id=1),\n Row(name='dasfaa', id=2),\n Row(name='ecir', id=3),\n Row(name='icde', id=4)]"
     },
     "execution_count": 7,
     "metadata": {},
     "output_type": "execute_result"
    }
   ],
   "source": [
    "df_nodes_venues = (\n",
    "    df.select(\n",
    "        F.col('venue').alias('name'),\n",
    "    )\n",
    "        .filter(\"name != ''\")\n",
    "        .distinct()\n",
    "        .sort('name')\n",
    "        .coalesce(1)\n",
    "        .withColumn('id', F.monotonically_increasing_id())\n",
    ")\n",
    "print(df_nodes_venues.count())\n",
    "df_nodes_venues.head(5)"
   ],
   "metadata": {
    "collapsed": false,
    "pycharm": {
     "name": "#%%\n"
    }
   }
  },
  {
   "cell_type": "code",
   "execution_count": 8,
   "outputs": [
    {
     "name": "stdout",
     "output_type": "stream",
     "text": [
      "+----+-----+\n",
      "|year|count|\n",
      "+----+-----+\n",
      "|2012|  844|\n",
      "|2013| 1370|\n",
      "|2014| 1336|\n",
      "|2015| 1562|\n",
      "|2016|  404|\n",
      "+----+-----+\n",
      "\n"
     ]
    }
   ],
   "source": [
    "df.groupby('year').count().orderBy('year').show()"
   ],
   "metadata": {
    "collapsed": false,
    "pycharm": {
     "name": "#%%\n"
    }
   }
  },
  {
   "cell_type": "code",
   "execution_count": 9,
   "outputs": [
    {
     "name": "stdout",
     "output_type": "stream",
     "text": [
      "5511\n"
     ]
    },
    {
     "data": {
      "text/plain": "[Row(pub_id='10002', title='Distributed Submodular Maximization: Identifying Representative Elements in Massive Data.', authors=['Baharan Mirzasoleiman', 'Amin Karbasi'], venue='nips', year=2013, abstract='Many large-scale machine learning problems (such as clustering, non-parametric learning, kernel machines, etc.) require selecting, out of a massive data set, a manageable, representative subset. Such problems can often be reduced to maximizing a submodular set function subject to cardinality constraints. Classical approaches require centralized access to the full data set; but for truly large-scale problems, rendering the data centrally is often impractical. In this paper, we consider the problem of submodular function maximization in a distributed fashion. We develop a simple, two-stage protocol GreeDI, that is easily implemented using MapReduce style computations. We theoretically analyze our approach, and show, that under certain natural conditions, performance close to the (impractical) centralized approach can be achieved. In our extensive experiments, we demonstrate the effectiveness of our approach on several applications, including sparse Gaussian process inference on tens of millions of examples using Hadoop.', timestamp=2013, id=0),\n Row(pub_id='10004', title='EDML for Learning Parameters in Directed and Undirected Graphical Models.', authors=['Khaled S. Refaat', 'Arthur Choi'], venue='nips', year=2013, abstract='EDML is a recently proposed algorithm for learning parameters in Bayesian networks. It was originally derived in terms of approximate inference on a meta-network, which underlies the Bayesian approach to parameter estimation. While this initial derivation helped discover EDML in the first place and provided a concrete context for identifying some of its properties (e.g., in contrast to EM), the formal setting was somewhat tedious in the number of concepts it drew on. In this paper, we propose a greatly simplified perspective on EDML, which casts it as a general approach to continuous optimization. The new perspective has several advantages. First, it makes immediate some results that were non-trivial to prove initially. Second, it facilitates the design of EDML algorithms for new graphical models, leading to a new algorithm for learning parameters in Markov networks. We derive this algorithm in this paper, and show, empirically, that it can sometimes learn better estimates from complete data, several times faster than commonly used optimization methods, such as conjugate gradient and L-BFGS.', timestamp=2013, id=1),\n Row(pub_id='10009', title='Bayesian inference for low rank spatiotemporal neural receptive fields.', authors=['Mijung Park', 'Jonathan W. Pillow'], venue='nips', year=2013, abstract='The receptive field (RF) of a sensory neuron describes how the neuron integrates sensory stimuli over time and space. In typical experiments with naturalistic or flickering spatiotemporal stimuli, RFs are very high-dimensional, due to the large number of coefficients needed to specify an integration profile across time and space. Estimating these coefficients from small amounts of data poses a variety of challenging statistical and computational problems. Here we address these challenges by developing Bayesian reduced rank regression methods for RF estimation. This corresponds to modeling the RF as a sum of several space-time separable (i.e., rank-1) filters, which proves accurate even for neurons with strongly oriented space-time RFs. This approach substantially reduces the number of parameters needed to specify the RF, from 1K-100K down to mere 100s in the examples we consider, and confers substantial benefits in statistical power and computational efficiency. In particular, we introduce a novel prior over low-rank RFs using the restriction of a matrix normal prior to the manifold of low-rank matrices. We then use a localized\\'\\' prior over row and column covariances to obtain sparse, smooth, localized estimates of the spatial and temporal RF components. We develop two methods for inference in the resulting hierarchical model: (1) a fully Bayesian method using blocked-Gibbs sampling; and (2) a fast, approximate method that employs alternating coordinate ascent of the conditional marginal likelihood. We develop these methods under Gaussian and Poisson noise models, and show that low-rank estimates substantially outperform full rank estimates in accuracy and speed using neural data from retina and V1.\"', timestamp=2013, id=2),\n Row(pub_id='1001', title='On crowdsensed data acquisition using multi-dimensional point processes.', authors=['Saket Sathe', 'Timos K. Sellis'], venue='icde', year=2015, abstract='Crowdsensing applications are increasing at a tremendous rate. In crowdsensing, mobile sensors (humans, vehicle-mounted sensors, etc.) generate streams of information that is used for inferring high-level phenomena of interest (e.g., traffic jams, air pollution). Unlike traditional sensor network data, crowdsensed data has a highly skewed spatio-temporal distribution caused largely due to the mobility of sensors [1]. Thus, designing systems that can mitigate this effect by acquiring crowdsensed at a fixed spatio-temporal rate are needed. In this paper we propose using multi-dimensional point processes (MDPPs), a mathematical modeling tool that can be effectively used for performing this data acquisition task.', timestamp=2015, id=3),\n Row(pub_id='10011', title='Fast and Memory Optimal Low-Rank Matrix Approximation.', authors=['Se-Young Yun', 'Marc Lelarge'], venue='nips', year=2015, abstract='In this paper, we revisit the problem of constructing a near-optimal rank $k$ approximation of a matrix $M\\\\in [0,1]^{m\\\\times n}$ under the streaming data model where the columns of $M$ are revealed sequentially. We present SLA (Streaming Low-rank Approximation), an algorithm that is asymptotically accurate, when $k s_{k+1} (M) = o(\\\\sqrt{mn})$ where $s_{k+1}(M)$ is the $(k+1)$-th largest singular value of $M$. This means that its average mean-square error converges to 0 as $m$ and $n$ grow large (i.e., $\\\\|\\\\hat{M}^{(k)}-M^{(k)} \\\\|_F^2 = o(mn)$ with high probability, where $\\\\hat{M}^{(k)}$ and $M^{(k)}$ denote the output of SLA and the optimal rank $k$ approximation of $M$, respectively). Our algorithm makes one pass on the data if the columns of $M$ are revealed in a random order, and two passes if the columns of $M$ arrive in an arbitrary order. To reduce its memory footprint and complexity, SLA uses random sparsification, and samples each entry of $M$ with a small probability $\\\\delta$. In turn, SLA is memory optimal as its required memory space scales as $k(m+n)$, the dimension of its output. Furthermore, SLA is computationally efficient as it runs in $O(\\\\delta kmn)$ time (a constant number of operations is made for each observed entry of $M$), which can be as small as $O(k\\\\log(m)^4 n)$ for an appropriate choice of $\\\\delta$ and if $n\\\\ge m$.', timestamp=2015, id=4)]"
     },
     "execution_count": 9,
     "metadata": {},
     "output_type": "execute_result"
    }
   ],
   "source": [
    "df_nodes_papers = (\n",
    "    df.filter('year > 1900').select(\n",
    "        F.col('id').alias('pub_id'),\n",
    "        'title',\n",
    "        'authors',\n",
    "        'venue',\n",
    "        'year',\n",
    "        'abstract',\n",
    "        F.col('year').alias('timestamp')\n",
    "    )\n",
    "        .distinct()\n",
    "        .sort('pub_id')\n",
    "        .coalesce(1)\n",
    "        .withColumn('id', F.monotonically_increasing_id())\n",
    ")\n",
    "print(df_nodes_papers.count())\n",
    "df_nodes_papers.head(5)"
   ],
   "metadata": {
    "collapsed": false,
    "pycharm": {
     "name": "#%%\n"
    }
   }
  },
  {
   "cell_type": "code",
   "execution_count": 10,
   "outputs": [],
   "source": [
    "df_node_ids = (\n",
    "    df_nodes_authors.select('id')\n",
    "        .union(df_nodes_venues.select('id'))\n",
    "        .union(df_nodes_papers.select('id'))\n",
    "        .distinct()\n",
    ")\n",
    "\n",
    "\n",
    "def filter_node_ids(df, src_col='id', dst_col='id'):\n",
    "    return df.join(\n",
    "        df_node_ids,\n",
    "        F.col('src') == F.col(src_col),\n",
    "        'inner'\n",
    "    ).drop(\n",
    "        'id'\n",
    "    ).join(\n",
    "        df_node_ids,\n",
    "        F.col('dst') == F.col(dst_col),\n",
    "        'inner'\n",
    "    ).drop('id')"
   ],
   "metadata": {
    "collapsed": false,
    "pycharm": {
     "name": "#%%\n"
    }
   }
  },
  {
   "cell_type": "code",
   "execution_count": 11,
   "outputs": [
    {
     "name": "stdout",
     "output_type": "stream",
     "text": [
      "11022\n"
     ]
    },
    {
     "data": {
      "text/plain": "[Row(src=2826, dst=3457, timestamp=2015),\n Row(src=3211, dst=5262, timestamp=2013),\n Row(src=3615, dst=5456, timestamp=2014),\n Row(src=2367, dst=1548, timestamp=2012),\n Row(src=2835, dst=3562, timestamp=2013)]"
     },
     "execution_count": 11,
     "metadata": {},
     "output_type": "execute_result"
    }
   ],
   "source": [
    "df_edges_authored = (\n",
    "    df.select(\n",
    "        F.explode(F.col('authors')).alias('author_name'),\n",
    "        F.col('id').alias('dst_pub_id'),\n",
    "        F.col('year').alias('timestamp'),\n",
    "    )\n",
    "    .join(\n",
    "        df_nodes_authors.select('id', 'name'),\n",
    "        F.col('author_name') == F.col('name'),\n",
    "        'inner'\n",
    "    )\n",
    "    .withColumnRenamed('id', 'src')\n",
    "    .join(\n",
    "        df_nodes_papers.select('id', 'pub_id'),\n",
    "        F.col('dst_pub_id') == F.col('pub_id'),\n",
    "        'inner'\n",
    "    )\n",
    "    .withColumnRenamed('id', 'dst')\n",
    "    .select(\n",
    "            F.col('src'),\n",
    "            F.col('dst'),\n",
    "            F.col('timestamp'),\n",
    "    )\n",
    "    .distinct()\n",
    ")\n",
    "print(df_edges_authored.count())\n",
    "df_edges_authored.head(5)"
   ],
   "metadata": {
    "collapsed": false,
    "pycharm": {
     "name": "#%%\n"
    }
   }
  },
  {
   "cell_type": "code",
   "execution_count": 12,
   "outputs": [
    {
     "name": "stdout",
     "output_type": "stream",
     "text": [
      "5511\n"
     ]
    },
    {
     "data": {
      "text/plain": "[Row(src=0, dst=8, timestamp=2013),\n Row(src=1, dst=8, timestamp=2013),\n Row(src=2, dst=8, timestamp=2013),\n Row(src=3, dst=4, timestamp=2015),\n Row(src=4, dst=8, timestamp=2015)]"
     },
     "execution_count": 12,
     "metadata": {},
     "output_type": "execute_result"
    }
   ],
   "source": [
    "df_edges_published_in = (\n",
    "    df.select(\n",
    "        F.col('id').alias('src_pub_id'),\n",
    "        F.col('venue').alias('dst_venue'),\n",
    "        F.col('year').alias('timestamp'),\n",
    "    )\n",
    "        .join(\n",
    "            df_nodes_papers.select('id', 'pub_id'),\n",
    "            F.col('src_pub_id') == F.col('pub_id'),\n",
    "            'inner'\n",
    "        )\n",
    "        .withColumnRenamed('id', 'src')\n",
    "        .join(\n",
    "            df_nodes_venues.select('id', 'name'),\n",
    "            F.col('dst_venue') == F.col('name'),\n",
    "            'inner'\n",
    "        )\n",
    "        .withColumnRenamed('id', 'dst')\n",
    "        .select(\n",
    "            F.col('src'),\n",
    "            F.col('dst'),\n",
    "            F.col('timestamp'),\n",
    "        )\n",
    "        .distinct()\n",
    ")\n",
    "print(df_edges_published_in.count())\n",
    "df_edges_published_in.head(5)"
   ],
   "metadata": {
    "collapsed": false,
    "pycharm": {
     "name": "#%%\n"
    }
   }
  },
  {
   "cell_type": "markdown",
   "source": [
    "## Feature Engineering (keyword extraction)"
   ],
   "metadata": {
    "collapsed": false,
    "pycharm": {
     "name": "#%% md\n"
    }
   }
  },
  {
   "cell_type": "code",
   "execution_count": 13,
   "outputs": [
    {
     "name": "stderr",
     "output_type": "stream",
     "text": [
      "                                                                                \r"
     ]
    },
    {
     "data": {
      "text/plain": "[Row(id='104', keywords=['sword', 'workloadawar', 'data', 'placement', 'replica', 'select', 'cloud', 'data', 'manag', 'system']),\n Row(id='106', keywords=['survey', 'largescal', 'analyt', 'queri', 'process', 'mapreduc']),\n Row(id='107', keywords=['take', 'big', 'pictur', 'repres', 'skylin', 'base', 'signific', 'divers']),\n Row(id='108', keywords=['calibr', 'trajectori', 'data', 'spatiotempor', 'similar', 'analysi']),\n Row(id='111', keywords=['window', 'pqgram', 'approxim', 'join', 'datacentr', 'xml']),\n Row(id='112', keywords=['sort', 'network', 'fpgas']),\n Row(id='115', keywords=['queri', 'revers', 'engin']),\n Row(id='116', keywords=['outsourc', 'shortest', 'distanc', 'comput', 'privaci', 'protect']),\n Row(id='118', keywords=['high', 'effici', 'qualiti', 'larg', 'graph', 'match']),\n Row(id='120', keywords=['effici', 'process', 'hop', 'reachabl', 'queri'])]"
     },
     "execution_count": 13,
     "metadata": {},
     "output_type": "execute_result"
    }
   ],
   "source": [
    "df_kw_clean = df.select('id', (F.lower(F.regexp_replace('title', \"[^a-zA-Z\\\\s]\", \"\")).alias('text')))\n",
    "\n",
    "tokenizer = Tokenizer(inputCol='text', outputCol='words_token')\n",
    "df_kw_tokens = tokenizer.transform(df_kw_clean).select('id', 'words_token')\n",
    "\n",
    "remover = StopWordsRemover(inputCol='words_token', outputCol='words_clean')\n",
    "df_kw_nostopw = remover.transform(df_kw_tokens).select('id', 'words_clean')\n",
    "\n",
    "# Stem text\n",
    "stemmer = SnowballStemmer(language='english')\n",
    "stemmer_udf = F.udf(lambda tokens: [stemmer.stem(token) for token in tokens], T.ArrayType(T.StringType()))\n",
    "df_kw_stemmed = df_kw_nostopw.withColumn(\"words_stemmed\", stemmer_udf(\"words_clean\")).select('id', 'words_stemmed')\n",
    "\n",
    "filter_length_udf = F.udf(lambda row: [x for x in row if len(x) >= 3], T.ArrayType(T.StringType()))\n",
    "df_kw_doc = df_kw_stemmed.select('id', filter_length_udf(F.col('words_stemmed')).alias('keywords'))\n",
    "\n",
    "df_kw_doc.head(10)"
   ],
   "metadata": {
    "collapsed": false,
    "pycharm": {
     "name": "#%%\n"
    }
   }
  },
  {
   "cell_type": "code",
   "execution_count": 14,
   "outputs": [
    {
     "name": "stderr",
     "output_type": "stream",
     "text": [
      "[Stage 113:>                                                        (0 + 2) / 2]\r"
     ]
    },
    {
     "name": "stdout",
     "output_type": "stream",
     "text": [
      "+-------+-----+\n",
      "|keyword|count|\n",
      "+-------+-----+\n",
      "|  learn|  901|\n",
      "|  model|  579|\n",
      "|   data|  408|\n",
      "|network|  368|\n",
      "|    use|  356|\n",
      "| detect|  287|\n",
      "|   imag|  247|\n",
      "|  optim|  241|\n",
      "|    via|  241|\n",
      "| social|  237|\n",
      "+-------+-----+\n",
      "only showing top 10 rows\n",
      "\n"
     ]
    },
    {
     "name": "stderr",
     "output_type": "stream",
     "text": [
      "                                                                                \r"
     ]
    }
   ],
   "source": [
    "df_kw = df_kw_doc\\\n",
    "    .select(F.explode('keywords').alias('keyword'))\\\n",
    "    .groupBy('keyword')\\\n",
    "    .count()\\\n",
    "    .orderBy('count', ascending=False)\n",
    "\n",
    "df_kw.show(10)"
   ],
   "metadata": {
    "collapsed": false,
    "pycharm": {
     "name": "#%%\n"
    }
   }
  },
  {
   "cell_type": "code",
   "execution_count": 15,
   "outputs": [
    {
     "name": "stdout",
     "output_type": "stream",
     "text": [
      "['learn', 'model', 'data', 'network', 'use', 'detect', 'imag', 'optim', 'via', 'social', 'graph', 'effici', 'cluster', 'classif', 'predict', 'search', 'base', 'analysi', 'queri', 'algorithm', 'featur', 'approach', 'estim', 'structur', 'mine', 'spars', 'onlin', 'inform', 'object', 'select', 'multipl', 'recommend', 'process', 'infer', 'system', 'deep', 'represent', 'pattern', 'robust', 'recognit', 'fast', 'local', 'activ', 'adapt', 'bayesian', 'rank', 'applic', 'distribut', 'kernel', 'dynam', 'factor', 'label', 'topic', 'probabilist', 'matrix', 'framework', 'match', 'approxim', 'method', 'semant', 'stream', 'user', 'visual', 'general', 'retriev', 'neural', 'video', 'segment', 'stochast', 'plan', 'linear', 'time', 'sampl', 'regular', 'problem', 'scalabl', 'comput', 'relat', 'hierarch', 'regress', 'larg', 'track', 'random', 'largescal', 'knowledg', 'evalu', 'transfer', 'generat', 'tempor', 'constraint', 'discrimin', 'filter', 'similar', 'embed', 'game', 'discoveri', 'action', 'event', 'multilabel', 'interact', 'function', 'minim', 'hash', 'complex', 'domain', 'human', 'extract', 'effect', 'improv', 'logic', 'web', 'toward', 'heterogen', 'explor', 'machin', 'supervis', 'media', 'latent', 'unsupervis', 'person', 'joint', 'metric', 'space', 'program', 'tree', 'attribut', 'code', 'semisupervis', 'databas', 'subspac', 'markov', 'bandit', 'prefer', 'bound', 'collabor', 'gradient', 'set', 'group', 'communiti', 'scene', 'face', 'text', 'spectral', 'nonparametr', 'document', 'multitask', 'answer', 'exploit', 'spatial', 'classifi', 'rule', 'topk', 'map', 'gaussian', 'find', 'manifold', 'weight', 'complet', 'statist', 'measur', 'correl', 'reinforc', 'convex', 'parallel', 'maxim', 'point', 'tensor', 'influenc', 'seri', 'variat', 'high', 'convolut', 'integr', 'multiview', 'decis', 'microblog', 'entiti', 'trajectori', 'sequenti', 'decomposit', 'rate', 'consist', 'shape', 'collect', 'class', 'propag', 'polici', 'sentiment', 'partial', 'mobil', 'field', 'pose', 'binari', 'uncertainti', 'behavior', 'continu', 'new', 'automat', 'spatiotempor', 'crowdsourc']\n"
     ]
    },
    {
     "name": "stderr",
     "output_type": "stream",
     "text": [
      "                                                                                \r"
     ]
    }
   ],
   "source": [
    "k = 200\n",
    "top_keywords = [x.keyword for x in df_kw.limit(k).select('keyword').collect()]\n",
    "print(top_keywords)"
   ],
   "metadata": {
    "collapsed": false,
    "pycharm": {
     "name": "#%%\n"
    }
   }
  },
  {
   "cell_type": "code",
   "execution_count": 16,
   "outputs": [
    {
     "data": {
      "text/plain": "[Row(author_id=0, keywords=['cluster', 'order', 'sequenc', 'base', 'typic', 'index', 'find', 'clinic', 'pathway', 'candid']),\n Row(author_id=1, keywords=['valu', 'ignor', 'number', 'player']),\n Row(author_id=2, keywords=['price', 'war', 'continu', 'competit', 'multiitem', 'onlin', 'multitask', 'learn', 'via', 'spars', 'dictionari', 'optim', 'queri', 'inconsist', 'descript', 'logic', 'knowledg', 'base', 'prefer', 'repair', 'semant']),\n Row(author_id=3, keywords=['dcbtree', 'spaceeffici', 'delta', 'code', 'cach', 'conscious', 'btree']),\n Row(author_id=4, keywords=['autonom', 'agent', 'futur', 'energi', 'market', 'power', 'trade', 'competit'])]"
     },
     "execution_count": 16,
     "metadata": {},
     "output_type": "execute_result"
    }
   ],
   "source": [
    "df_node_author_keywords = (\n",
    "    df_edges_authored.select(\n",
    "        F.col('src').alias('author_id'),\n",
    "        F.col('dst').alias('paper_id'),\n",
    "    ).join(\n",
    "        df_kw_doc,\n",
    "        F.col('paper_id') == F.col('id'),\n",
    "        'left'\n",
    "    ).groupby('author_id').agg(\n",
    "        F.collect_list('keywords').alias('keywords')\n",
    "    ).withColumn('keywords', F.array_distinct(F.flatten('keywords')))\n",
    ")\n",
    "df_node_author_keywords.head(5)"
   ],
   "metadata": {
    "collapsed": false,
    "pycharm": {
     "name": "#%%\n"
    }
   }
  },
  {
   "cell_type": "code",
   "execution_count": 17,
   "outputs": [
    {
     "name": "stderr",
     "output_type": "stream",
     "text": [
      "22/03/12 13:06:42 WARN package: Truncated the string representation of a plan since it was too large. This behavior can be adjusted by setting 'spark.sql.debug.maxToStringFields'.\n"
     ]
    },
    {
     "data": {
      "text/plain": "[Row(author_id=0, feat_learn=False, feat_model=False, feat_data=False, feat_network=False, feat_use=False, feat_detect=False, feat_imag=False, feat_optim=False, feat_via=False, feat_social=False, feat_graph=False, feat_effici=False, feat_cluster=True, feat_classif=False, feat_predict=False, feat_search=False, feat_base=True, feat_analysi=False, feat_queri=False, feat_algorithm=False, feat_featur=False, feat_approach=False, feat_estim=False, feat_structur=False, feat_mine=False, feat_spars=False, feat_onlin=False, feat_inform=False, feat_object=False, feat_select=False, feat_multipl=False, feat_recommend=False, feat_process=False, feat_infer=False, feat_system=False, feat_deep=False, feat_represent=False, feat_pattern=False, feat_robust=False, feat_recognit=False, feat_fast=False, feat_local=False, feat_activ=False, feat_adapt=False, feat_bayesian=False, feat_rank=False, feat_applic=False, feat_distribut=False, feat_kernel=False, feat_dynam=False, feat_factor=False, feat_label=False, feat_topic=False, feat_probabilist=False, feat_matrix=False, feat_framework=False, feat_match=False, feat_approxim=False, feat_method=False, feat_semant=False, feat_stream=False, feat_user=False, feat_visual=False, feat_general=False, feat_retriev=False, feat_neural=False, feat_video=False, feat_segment=False, feat_stochast=False, feat_plan=False, feat_linear=False, feat_time=False, feat_sampl=False, feat_regular=False, feat_problem=False, feat_scalabl=False, feat_comput=False, feat_relat=False, feat_hierarch=False, feat_regress=False, feat_larg=False, feat_track=False, feat_random=False, feat_largescal=False, feat_knowledg=False, feat_evalu=False, feat_transfer=False, feat_generat=False, feat_tempor=False, feat_constraint=False, feat_discrimin=False, feat_filter=False, feat_similar=False, feat_embed=False, feat_game=False, feat_discoveri=False, feat_action=False, feat_event=False, feat_multilabel=False, feat_interact=False, feat_function=False, feat_minim=False, feat_hash=False, feat_complex=False, feat_domain=False, feat_human=False, feat_extract=False, feat_effect=False, feat_improv=False, feat_logic=False, feat_web=False, feat_toward=False, feat_heterogen=False, feat_explor=False, feat_machin=False, feat_supervis=False, feat_media=False, feat_latent=False, feat_unsupervis=False, feat_person=False, feat_joint=False, feat_metric=False, feat_space=False, feat_program=False, feat_tree=False, feat_attribut=False, feat_code=False, feat_semisupervis=False, feat_databas=False, feat_subspac=False, feat_markov=False, feat_bandit=False, feat_prefer=False, feat_bound=False, feat_collabor=False, feat_gradient=False, feat_set=False, feat_group=False, feat_communiti=False, feat_scene=False, feat_face=False, feat_text=False, feat_spectral=False, feat_nonparametr=False, feat_document=False, feat_multitask=False, feat_answer=False, feat_exploit=False, feat_spatial=False, feat_classifi=False, feat_rule=False, feat_topk=False, feat_map=False, feat_gaussian=False, feat_find=True, feat_manifold=False, feat_weight=False, feat_complet=False, feat_statist=False, feat_measur=False, feat_correl=False, feat_reinforc=False, feat_convex=False, feat_parallel=False, feat_maxim=False, feat_point=False, feat_tensor=False, feat_influenc=False, feat_seri=False, feat_variat=False, feat_high=False, feat_convolut=False, feat_integr=False, feat_multiview=False, feat_decis=False, feat_microblog=False, feat_entiti=False, feat_trajectori=False, feat_sequenti=False, feat_decomposit=False, feat_rate=False, feat_consist=False, feat_shape=False, feat_collect=False, feat_class=False, feat_propag=False, feat_polici=False, feat_sentiment=False, feat_partial=False, feat_mobil=False, feat_field=False, feat_pose=False, feat_binari=False, feat_uncertainti=False, feat_behavior=False, feat_continu=False, feat_new=False, feat_automat=False, feat_spatiotempor=False, feat_crowdsourc=False),\n Row(author_id=1, feat_learn=False, feat_model=False, feat_data=False, feat_network=False, feat_use=False, feat_detect=False, feat_imag=False, feat_optim=False, feat_via=False, feat_social=False, feat_graph=False, feat_effici=False, feat_cluster=False, feat_classif=False, feat_predict=False, feat_search=False, feat_base=False, feat_analysi=False, feat_queri=False, feat_algorithm=False, feat_featur=False, feat_approach=False, feat_estim=False, feat_structur=False, feat_mine=False, feat_spars=False, feat_onlin=False, feat_inform=False, feat_object=False, feat_select=False, feat_multipl=False, feat_recommend=False, feat_process=False, feat_infer=False, feat_system=False, feat_deep=False, feat_represent=False, feat_pattern=False, feat_robust=False, feat_recognit=False, feat_fast=False, feat_local=False, feat_activ=False, feat_adapt=False, feat_bayesian=False, feat_rank=False, feat_applic=False, feat_distribut=False, feat_kernel=False, feat_dynam=False, feat_factor=False, feat_label=False, feat_topic=False, feat_probabilist=False, feat_matrix=False, feat_framework=False, feat_match=False, feat_approxim=False, feat_method=False, feat_semant=False, feat_stream=False, feat_user=False, feat_visual=False, feat_general=False, feat_retriev=False, feat_neural=False, feat_video=False, feat_segment=False, feat_stochast=False, feat_plan=False, feat_linear=False, feat_time=False, feat_sampl=False, feat_regular=False, feat_problem=False, feat_scalabl=False, feat_comput=False, feat_relat=False, feat_hierarch=False, feat_regress=False, feat_larg=False, feat_track=False, feat_random=False, feat_largescal=False, feat_knowledg=False, feat_evalu=False, feat_transfer=False, feat_generat=False, feat_tempor=False, feat_constraint=False, feat_discrimin=False, feat_filter=False, feat_similar=False, feat_embed=False, feat_game=False, feat_discoveri=False, feat_action=False, feat_event=False, feat_multilabel=False, feat_interact=False, feat_function=False, feat_minim=False, feat_hash=False, feat_complex=False, feat_domain=False, feat_human=False, feat_extract=False, feat_effect=False, feat_improv=False, feat_logic=False, feat_web=False, feat_toward=False, feat_heterogen=False, feat_explor=False, feat_machin=False, feat_supervis=False, feat_media=False, feat_latent=False, feat_unsupervis=False, feat_person=False, feat_joint=False, feat_metric=False, feat_space=False, feat_program=False, feat_tree=False, feat_attribut=False, feat_code=False, feat_semisupervis=False, feat_databas=False, feat_subspac=False, feat_markov=False, feat_bandit=False, feat_prefer=False, feat_bound=False, feat_collabor=False, feat_gradient=False, feat_set=False, feat_group=False, feat_communiti=False, feat_scene=False, feat_face=False, feat_text=False, feat_spectral=False, feat_nonparametr=False, feat_document=False, feat_multitask=False, feat_answer=False, feat_exploit=False, feat_spatial=False, feat_classifi=False, feat_rule=False, feat_topk=False, feat_map=False, feat_gaussian=False, feat_find=False, feat_manifold=False, feat_weight=False, feat_complet=False, feat_statist=False, feat_measur=False, feat_correl=False, feat_reinforc=False, feat_convex=False, feat_parallel=False, feat_maxim=False, feat_point=False, feat_tensor=False, feat_influenc=False, feat_seri=False, feat_variat=False, feat_high=False, feat_convolut=False, feat_integr=False, feat_multiview=False, feat_decis=False, feat_microblog=False, feat_entiti=False, feat_trajectori=False, feat_sequenti=False, feat_decomposit=False, feat_rate=False, feat_consist=False, feat_shape=False, feat_collect=False, feat_class=False, feat_propag=False, feat_polici=False, feat_sentiment=False, feat_partial=False, feat_mobil=False, feat_field=False, feat_pose=False, feat_binari=False, feat_uncertainti=False, feat_behavior=False, feat_continu=False, feat_new=False, feat_automat=False, feat_spatiotempor=False, feat_crowdsourc=False),\n Row(author_id=2, feat_learn=True, feat_model=False, feat_data=False, feat_network=False, feat_use=False, feat_detect=False, feat_imag=False, feat_optim=True, feat_via=True, feat_social=False, feat_graph=False, feat_effici=False, feat_cluster=False, feat_classif=False, feat_predict=False, feat_search=False, feat_base=True, feat_analysi=False, feat_queri=True, feat_algorithm=False, feat_featur=False, feat_approach=False, feat_estim=False, feat_structur=False, feat_mine=False, feat_spars=True, feat_onlin=True, feat_inform=False, feat_object=False, feat_select=False, feat_multipl=False, feat_recommend=False, feat_process=False, feat_infer=False, feat_system=False, feat_deep=False, feat_represent=False, feat_pattern=False, feat_robust=False, feat_recognit=False, feat_fast=False, feat_local=False, feat_activ=False, feat_adapt=False, feat_bayesian=False, feat_rank=False, feat_applic=False, feat_distribut=False, feat_kernel=False, feat_dynam=False, feat_factor=False, feat_label=False, feat_topic=False, feat_probabilist=False, feat_matrix=False, feat_framework=False, feat_match=False, feat_approxim=False, feat_method=False, feat_semant=True, feat_stream=False, feat_user=False, feat_visual=False, feat_general=False, feat_retriev=False, feat_neural=False, feat_video=False, feat_segment=False, feat_stochast=False, feat_plan=False, feat_linear=False, feat_time=False, feat_sampl=False, feat_regular=False, feat_problem=False, feat_scalabl=False, feat_comput=False, feat_relat=False, feat_hierarch=False, feat_regress=False, feat_larg=False, feat_track=False, feat_random=False, feat_largescal=False, feat_knowledg=True, feat_evalu=False, feat_transfer=False, feat_generat=False, feat_tempor=False, feat_constraint=False, feat_discrimin=False, feat_filter=False, feat_similar=False, feat_embed=False, feat_game=False, feat_discoveri=False, feat_action=False, feat_event=False, feat_multilabel=False, feat_interact=False, feat_function=False, feat_minim=False, feat_hash=False, feat_complex=False, feat_domain=False, feat_human=False, feat_extract=False, feat_effect=False, feat_improv=False, feat_logic=True, feat_web=False, feat_toward=False, feat_heterogen=False, feat_explor=False, feat_machin=False, feat_supervis=False, feat_media=False, feat_latent=False, feat_unsupervis=False, feat_person=False, feat_joint=False, feat_metric=False, feat_space=False, feat_program=False, feat_tree=False, feat_attribut=False, feat_code=False, feat_semisupervis=False, feat_databas=False, feat_subspac=False, feat_markov=False, feat_bandit=False, feat_prefer=True, feat_bound=False, feat_collabor=False, feat_gradient=False, feat_set=False, feat_group=False, feat_communiti=False, feat_scene=False, feat_face=False, feat_text=False, feat_spectral=False, feat_nonparametr=False, feat_document=False, feat_multitask=True, feat_answer=False, feat_exploit=False, feat_spatial=False, feat_classifi=False, feat_rule=False, feat_topk=False, feat_map=False, feat_gaussian=False, feat_find=False, feat_manifold=False, feat_weight=False, feat_complet=False, feat_statist=False, feat_measur=False, feat_correl=False, feat_reinforc=False, feat_convex=False, feat_parallel=False, feat_maxim=False, feat_point=False, feat_tensor=False, feat_influenc=False, feat_seri=False, feat_variat=False, feat_high=False, feat_convolut=False, feat_integr=False, feat_multiview=False, feat_decis=False, feat_microblog=False, feat_entiti=False, feat_trajectori=False, feat_sequenti=False, feat_decomposit=False, feat_rate=False, feat_consist=False, feat_shape=False, feat_collect=False, feat_class=False, feat_propag=False, feat_polici=False, feat_sentiment=False, feat_partial=False, feat_mobil=False, feat_field=False, feat_pose=False, feat_binari=False, feat_uncertainti=False, feat_behavior=False, feat_continu=True, feat_new=False, feat_automat=False, feat_spatiotempor=False, feat_crowdsourc=False),\n Row(author_id=3, feat_learn=False, feat_model=False, feat_data=False, feat_network=False, feat_use=False, feat_detect=False, feat_imag=False, feat_optim=False, feat_via=False, feat_social=False, feat_graph=False, feat_effici=False, feat_cluster=False, feat_classif=False, feat_predict=False, feat_search=False, feat_base=False, feat_analysi=False, feat_queri=False, feat_algorithm=False, feat_featur=False, feat_approach=False, feat_estim=False, feat_structur=False, feat_mine=False, feat_spars=False, feat_onlin=False, feat_inform=False, feat_object=False, feat_select=False, feat_multipl=False, feat_recommend=False, feat_process=False, feat_infer=False, feat_system=False, feat_deep=False, feat_represent=False, feat_pattern=False, feat_robust=False, feat_recognit=False, feat_fast=False, feat_local=False, feat_activ=False, feat_adapt=False, feat_bayesian=False, feat_rank=False, feat_applic=False, feat_distribut=False, feat_kernel=False, feat_dynam=False, feat_factor=False, feat_label=False, feat_topic=False, feat_probabilist=False, feat_matrix=False, feat_framework=False, feat_match=False, feat_approxim=False, feat_method=False, feat_semant=False, feat_stream=False, feat_user=False, feat_visual=False, feat_general=False, feat_retriev=False, feat_neural=False, feat_video=False, feat_segment=False, feat_stochast=False, feat_plan=False, feat_linear=False, feat_time=False, feat_sampl=False, feat_regular=False, feat_problem=False, feat_scalabl=False, feat_comput=False, feat_relat=False, feat_hierarch=False, feat_regress=False, feat_larg=False, feat_track=False, feat_random=False, feat_largescal=False, feat_knowledg=False, feat_evalu=False, feat_transfer=False, feat_generat=False, feat_tempor=False, feat_constraint=False, feat_discrimin=False, feat_filter=False, feat_similar=False, feat_embed=False, feat_game=False, feat_discoveri=False, feat_action=False, feat_event=False, feat_multilabel=False, feat_interact=False, feat_function=False, feat_minim=False, feat_hash=False, feat_complex=False, feat_domain=False, feat_human=False, feat_extract=False, feat_effect=False, feat_improv=False, feat_logic=False, feat_web=False, feat_toward=False, feat_heterogen=False, feat_explor=False, feat_machin=False, feat_supervis=False, feat_media=False, feat_latent=False, feat_unsupervis=False, feat_person=False, feat_joint=False, feat_metric=False, feat_space=False, feat_program=False, feat_tree=False, feat_attribut=False, feat_code=True, feat_semisupervis=False, feat_databas=False, feat_subspac=False, feat_markov=False, feat_bandit=False, feat_prefer=False, feat_bound=False, feat_collabor=False, feat_gradient=False, feat_set=False, feat_group=False, feat_communiti=False, feat_scene=False, feat_face=False, feat_text=False, feat_spectral=False, feat_nonparametr=False, feat_document=False, feat_multitask=False, feat_answer=False, feat_exploit=False, feat_spatial=False, feat_classifi=False, feat_rule=False, feat_topk=False, feat_map=False, feat_gaussian=False, feat_find=False, feat_manifold=False, feat_weight=False, feat_complet=False, feat_statist=False, feat_measur=False, feat_correl=False, feat_reinforc=False, feat_convex=False, feat_parallel=False, feat_maxim=False, feat_point=False, feat_tensor=False, feat_influenc=False, feat_seri=False, feat_variat=False, feat_high=False, feat_convolut=False, feat_integr=False, feat_multiview=False, feat_decis=False, feat_microblog=False, feat_entiti=False, feat_trajectori=False, feat_sequenti=False, feat_decomposit=False, feat_rate=False, feat_consist=False, feat_shape=False, feat_collect=False, feat_class=False, feat_propag=False, feat_polici=False, feat_sentiment=False, feat_partial=False, feat_mobil=False, feat_field=False, feat_pose=False, feat_binari=False, feat_uncertainti=False, feat_behavior=False, feat_continu=False, feat_new=False, feat_automat=False, feat_spatiotempor=False, feat_crowdsourc=False),\n Row(author_id=4, feat_learn=False, feat_model=False, feat_data=False, feat_network=False, feat_use=False, feat_detect=False, feat_imag=False, feat_optim=False, feat_via=False, feat_social=False, feat_graph=False, feat_effici=False, feat_cluster=False, feat_classif=False, feat_predict=False, feat_search=False, feat_base=False, feat_analysi=False, feat_queri=False, feat_algorithm=False, feat_featur=False, feat_approach=False, feat_estim=False, feat_structur=False, feat_mine=False, feat_spars=False, feat_onlin=False, feat_inform=False, feat_object=False, feat_select=False, feat_multipl=False, feat_recommend=False, feat_process=False, feat_infer=False, feat_system=False, feat_deep=False, feat_represent=False, feat_pattern=False, feat_robust=False, feat_recognit=False, feat_fast=False, feat_local=False, feat_activ=False, feat_adapt=False, feat_bayesian=False, feat_rank=False, feat_applic=False, feat_distribut=False, feat_kernel=False, feat_dynam=False, feat_factor=False, feat_label=False, feat_topic=False, feat_probabilist=False, feat_matrix=False, feat_framework=False, feat_match=False, feat_approxim=False, feat_method=False, feat_semant=False, feat_stream=False, feat_user=False, feat_visual=False, feat_general=False, feat_retriev=False, feat_neural=False, feat_video=False, feat_segment=False, feat_stochast=False, feat_plan=False, feat_linear=False, feat_time=False, feat_sampl=False, feat_regular=False, feat_problem=False, feat_scalabl=False, feat_comput=False, feat_relat=False, feat_hierarch=False, feat_regress=False, feat_larg=False, feat_track=False, feat_random=False, feat_largescal=False, feat_knowledg=False, feat_evalu=False, feat_transfer=False, feat_generat=False, feat_tempor=False, feat_constraint=False, feat_discrimin=False, feat_filter=False, feat_similar=False, feat_embed=False, feat_game=False, feat_discoveri=False, feat_action=False, feat_event=False, feat_multilabel=False, feat_interact=False, feat_function=False, feat_minim=False, feat_hash=False, feat_complex=False, feat_domain=False, feat_human=False, feat_extract=False, feat_effect=False, feat_improv=False, feat_logic=False, feat_web=False, feat_toward=False, feat_heterogen=False, feat_explor=False, feat_machin=False, feat_supervis=False, feat_media=False, feat_latent=False, feat_unsupervis=False, feat_person=False, feat_joint=False, feat_metric=False, feat_space=False, feat_program=False, feat_tree=False, feat_attribut=False, feat_code=False, feat_semisupervis=False, feat_databas=False, feat_subspac=False, feat_markov=False, feat_bandit=False, feat_prefer=False, feat_bound=False, feat_collabor=False, feat_gradient=False, feat_set=False, feat_group=False, feat_communiti=False, feat_scene=False, feat_face=False, feat_text=False, feat_spectral=False, feat_nonparametr=False, feat_document=False, feat_multitask=False, feat_answer=False, feat_exploit=False, feat_spatial=False, feat_classifi=False, feat_rule=False, feat_topk=False, feat_map=False, feat_gaussian=False, feat_find=False, feat_manifold=False, feat_weight=False, feat_complet=False, feat_statist=False, feat_measur=False, feat_correl=False, feat_reinforc=False, feat_convex=False, feat_parallel=False, feat_maxim=False, feat_point=False, feat_tensor=False, feat_influenc=False, feat_seri=False, feat_variat=False, feat_high=False, feat_convolut=False, feat_integr=False, feat_multiview=False, feat_decis=False, feat_microblog=False, feat_entiti=False, feat_trajectori=False, feat_sequenti=False, feat_decomposit=False, feat_rate=False, feat_consist=False, feat_shape=False, feat_collect=False, feat_class=False, feat_propag=False, feat_polici=False, feat_sentiment=False, feat_partial=False, feat_mobil=False, feat_field=False, feat_pose=False, feat_binari=False, feat_uncertainti=False, feat_behavior=False, feat_continu=False, feat_new=False, feat_automat=False, feat_spatiotempor=False, feat_crowdsourc=False)]"
     },
     "execution_count": 17,
     "metadata": {},
     "output_type": "execute_result"
    }
   ],
   "source": [
    "df_node_author_feats = (\n",
    "    df_node_author_keywords.select(['author_id'] + [\n",
    "        F.array_contains('keywords', F.lit(k)).alias('feat_' + str(k))\n",
    "        for k in top_keywords\n",
    "    ])\n",
    ")\n",
    "df_node_author_feats.head(5)"
   ],
   "metadata": {
    "collapsed": false,
    "pycharm": {
     "name": "#%%\n"
    }
   }
  },
  {
   "cell_type": "code",
   "execution_count": 18,
   "outputs": [
    {
     "data": {
      "text/plain": "[Row(name='&Aacute', id=0, feat_learn=False, feat_model=False, feat_data=False, feat_network=False, feat_use=False, feat_detect=False, feat_imag=False, feat_optim=False, feat_via=False, feat_social=False, feat_graph=False, feat_effici=False, feat_cluster=True, feat_classif=False, feat_predict=False, feat_search=False, feat_base=True, feat_analysi=False, feat_queri=False, feat_algorithm=False, feat_featur=False, feat_approach=False, feat_estim=False, feat_structur=False, feat_mine=False, feat_spars=False, feat_onlin=False, feat_inform=False, feat_object=False, feat_select=False, feat_multipl=False, feat_recommend=False, feat_process=False, feat_infer=False, feat_system=False, feat_deep=False, feat_represent=False, feat_pattern=False, feat_robust=False, feat_recognit=False, feat_fast=False, feat_local=False, feat_activ=False, feat_adapt=False, feat_bayesian=False, feat_rank=False, feat_applic=False, feat_distribut=False, feat_kernel=False, feat_dynam=False, feat_factor=False, feat_label=False, feat_topic=False, feat_probabilist=False, feat_matrix=False, feat_framework=False, feat_match=False, feat_approxim=False, feat_method=False, feat_semant=False, feat_stream=False, feat_user=False, feat_visual=False, feat_general=False, feat_retriev=False, feat_neural=False, feat_video=False, feat_segment=False, feat_stochast=False, feat_plan=False, feat_linear=False, feat_time=False, feat_sampl=False, feat_regular=False, feat_problem=False, feat_scalabl=False, feat_comput=False, feat_relat=False, feat_hierarch=False, feat_regress=False, feat_larg=False, feat_track=False, feat_random=False, feat_largescal=False, feat_knowledg=False, feat_evalu=False, feat_transfer=False, feat_generat=False, feat_tempor=False, feat_constraint=False, feat_discrimin=False, feat_filter=False, feat_similar=False, feat_embed=False, feat_game=False, feat_discoveri=False, feat_action=False, feat_event=False, feat_multilabel=False, feat_interact=False, feat_function=False, feat_minim=False, feat_hash=False, feat_complex=False, feat_domain=False, feat_human=False, feat_extract=False, feat_effect=False, feat_improv=False, feat_logic=False, feat_web=False, feat_toward=False, feat_heterogen=False, feat_explor=False, feat_machin=False, feat_supervis=False, feat_media=False, feat_latent=False, feat_unsupervis=False, feat_person=False, feat_joint=False, feat_metric=False, feat_space=False, feat_program=False, feat_tree=False, feat_attribut=False, feat_code=False, feat_semisupervis=False, feat_databas=False, feat_subspac=False, feat_markov=False, feat_bandit=False, feat_prefer=False, feat_bound=False, feat_collabor=False, feat_gradient=False, feat_set=False, feat_group=False, feat_communiti=False, feat_scene=False, feat_face=False, feat_text=False, feat_spectral=False, feat_nonparametr=False, feat_document=False, feat_multitask=False, feat_answer=False, feat_exploit=False, feat_spatial=False, feat_classifi=False, feat_rule=False, feat_topk=False, feat_map=False, feat_gaussian=False, feat_find=True, feat_manifold=False, feat_weight=False, feat_complet=False, feat_statist=False, feat_measur=False, feat_correl=False, feat_reinforc=False, feat_convex=False, feat_parallel=False, feat_maxim=False, feat_point=False, feat_tensor=False, feat_influenc=False, feat_seri=False, feat_variat=False, feat_high=False, feat_convolut=False, feat_integr=False, feat_multiview=False, feat_decis=False, feat_microblog=False, feat_entiti=False, feat_trajectori=False, feat_sequenti=False, feat_decomposit=False, feat_rate=False, feat_consist=False, feat_shape=False, feat_collect=False, feat_class=False, feat_propag=False, feat_polici=False, feat_sentiment=False, feat_partial=False, feat_mobil=False, feat_field=False, feat_pose=False, feat_binari=False, feat_uncertainti=False, feat_behavior=False, feat_continu=False, feat_new=False, feat_automat=False, feat_spatiotempor=False, feat_crowdsourc=False),\n Row(name='&Agrave', id=1, feat_learn=False, feat_model=False, feat_data=False, feat_network=False, feat_use=False, feat_detect=False, feat_imag=False, feat_optim=False, feat_via=False, feat_social=False, feat_graph=False, feat_effici=False, feat_cluster=False, feat_classif=False, feat_predict=False, feat_search=False, feat_base=False, feat_analysi=False, feat_queri=False, feat_algorithm=False, feat_featur=False, feat_approach=False, feat_estim=False, feat_structur=False, feat_mine=False, feat_spars=False, feat_onlin=False, feat_inform=False, feat_object=False, feat_select=False, feat_multipl=False, feat_recommend=False, feat_process=False, feat_infer=False, feat_system=False, feat_deep=False, feat_represent=False, feat_pattern=False, feat_robust=False, feat_recognit=False, feat_fast=False, feat_local=False, feat_activ=False, feat_adapt=False, feat_bayesian=False, feat_rank=False, feat_applic=False, feat_distribut=False, feat_kernel=False, feat_dynam=False, feat_factor=False, feat_label=False, feat_topic=False, feat_probabilist=False, feat_matrix=False, feat_framework=False, feat_match=False, feat_approxim=False, feat_method=False, feat_semant=False, feat_stream=False, feat_user=False, feat_visual=False, feat_general=False, feat_retriev=False, feat_neural=False, feat_video=False, feat_segment=False, feat_stochast=False, feat_plan=False, feat_linear=False, feat_time=False, feat_sampl=False, feat_regular=False, feat_problem=False, feat_scalabl=False, feat_comput=False, feat_relat=False, feat_hierarch=False, feat_regress=False, feat_larg=False, feat_track=False, feat_random=False, feat_largescal=False, feat_knowledg=False, feat_evalu=False, feat_transfer=False, feat_generat=False, feat_tempor=False, feat_constraint=False, feat_discrimin=False, feat_filter=False, feat_similar=False, feat_embed=False, feat_game=False, feat_discoveri=False, feat_action=False, feat_event=False, feat_multilabel=False, feat_interact=False, feat_function=False, feat_minim=False, feat_hash=False, feat_complex=False, feat_domain=False, feat_human=False, feat_extract=False, feat_effect=False, feat_improv=False, feat_logic=False, feat_web=False, feat_toward=False, feat_heterogen=False, feat_explor=False, feat_machin=False, feat_supervis=False, feat_media=False, feat_latent=False, feat_unsupervis=False, feat_person=False, feat_joint=False, feat_metric=False, feat_space=False, feat_program=False, feat_tree=False, feat_attribut=False, feat_code=False, feat_semisupervis=False, feat_databas=False, feat_subspac=False, feat_markov=False, feat_bandit=False, feat_prefer=False, feat_bound=False, feat_collabor=False, feat_gradient=False, feat_set=False, feat_group=False, feat_communiti=False, feat_scene=False, feat_face=False, feat_text=False, feat_spectral=False, feat_nonparametr=False, feat_document=False, feat_multitask=False, feat_answer=False, feat_exploit=False, feat_spatial=False, feat_classifi=False, feat_rule=False, feat_topk=False, feat_map=False, feat_gaussian=False, feat_find=False, feat_manifold=False, feat_weight=False, feat_complet=False, feat_statist=False, feat_measur=False, feat_correl=False, feat_reinforc=False, feat_convex=False, feat_parallel=False, feat_maxim=False, feat_point=False, feat_tensor=False, feat_influenc=False, feat_seri=False, feat_variat=False, feat_high=False, feat_convolut=False, feat_integr=False, feat_multiview=False, feat_decis=False, feat_microblog=False, feat_entiti=False, feat_trajectori=False, feat_sequenti=False, feat_decomposit=False, feat_rate=False, feat_consist=False, feat_shape=False, feat_collect=False, feat_class=False, feat_propag=False, feat_polici=False, feat_sentiment=False, feat_partial=False, feat_mobil=False, feat_field=False, feat_pose=False, feat_binari=False, feat_uncertainti=False, feat_behavior=False, feat_continu=False, feat_new=False, feat_automat=False, feat_spatiotempor=False, feat_crowdsourc=False),\n Row(name='&Eacute', id=2, feat_learn=True, feat_model=False, feat_data=False, feat_network=False, feat_use=False, feat_detect=False, feat_imag=False, feat_optim=True, feat_via=True, feat_social=False, feat_graph=False, feat_effici=False, feat_cluster=False, feat_classif=False, feat_predict=False, feat_search=False, feat_base=True, feat_analysi=False, feat_queri=True, feat_algorithm=False, feat_featur=False, feat_approach=False, feat_estim=False, feat_structur=False, feat_mine=False, feat_spars=True, feat_onlin=True, feat_inform=False, feat_object=False, feat_select=False, feat_multipl=False, feat_recommend=False, feat_process=False, feat_infer=False, feat_system=False, feat_deep=False, feat_represent=False, feat_pattern=False, feat_robust=False, feat_recognit=False, feat_fast=False, feat_local=False, feat_activ=False, feat_adapt=False, feat_bayesian=False, feat_rank=False, feat_applic=False, feat_distribut=False, feat_kernel=False, feat_dynam=False, feat_factor=False, feat_label=False, feat_topic=False, feat_probabilist=False, feat_matrix=False, feat_framework=False, feat_match=False, feat_approxim=False, feat_method=False, feat_semant=True, feat_stream=False, feat_user=False, feat_visual=False, feat_general=False, feat_retriev=False, feat_neural=False, feat_video=False, feat_segment=False, feat_stochast=False, feat_plan=False, feat_linear=False, feat_time=False, feat_sampl=False, feat_regular=False, feat_problem=False, feat_scalabl=False, feat_comput=False, feat_relat=False, feat_hierarch=False, feat_regress=False, feat_larg=False, feat_track=False, feat_random=False, feat_largescal=False, feat_knowledg=True, feat_evalu=False, feat_transfer=False, feat_generat=False, feat_tempor=False, feat_constraint=False, feat_discrimin=False, feat_filter=False, feat_similar=False, feat_embed=False, feat_game=False, feat_discoveri=False, feat_action=False, feat_event=False, feat_multilabel=False, feat_interact=False, feat_function=False, feat_minim=False, feat_hash=False, feat_complex=False, feat_domain=False, feat_human=False, feat_extract=False, feat_effect=False, feat_improv=False, feat_logic=True, feat_web=False, feat_toward=False, feat_heterogen=False, feat_explor=False, feat_machin=False, feat_supervis=False, feat_media=False, feat_latent=False, feat_unsupervis=False, feat_person=False, feat_joint=False, feat_metric=False, feat_space=False, feat_program=False, feat_tree=False, feat_attribut=False, feat_code=False, feat_semisupervis=False, feat_databas=False, feat_subspac=False, feat_markov=False, feat_bandit=False, feat_prefer=True, feat_bound=False, feat_collabor=False, feat_gradient=False, feat_set=False, feat_group=False, feat_communiti=False, feat_scene=False, feat_face=False, feat_text=False, feat_spectral=False, feat_nonparametr=False, feat_document=False, feat_multitask=True, feat_answer=False, feat_exploit=False, feat_spatial=False, feat_classifi=False, feat_rule=False, feat_topk=False, feat_map=False, feat_gaussian=False, feat_find=False, feat_manifold=False, feat_weight=False, feat_complet=False, feat_statist=False, feat_measur=False, feat_correl=False, feat_reinforc=False, feat_convex=False, feat_parallel=False, feat_maxim=False, feat_point=False, feat_tensor=False, feat_influenc=False, feat_seri=False, feat_variat=False, feat_high=False, feat_convolut=False, feat_integr=False, feat_multiview=False, feat_decis=False, feat_microblog=False, feat_entiti=False, feat_trajectori=False, feat_sequenti=False, feat_decomposit=False, feat_rate=False, feat_consist=False, feat_shape=False, feat_collect=False, feat_class=False, feat_propag=False, feat_polici=False, feat_sentiment=False, feat_partial=False, feat_mobil=False, feat_field=False, feat_pose=False, feat_binari=False, feat_uncertainti=False, feat_behavior=False, feat_continu=True, feat_new=False, feat_automat=False, feat_spatiotempor=False, feat_crowdsourc=False),\n Row(name='&atilde', id=3, feat_learn=False, feat_model=False, feat_data=False, feat_network=False, feat_use=False, feat_detect=False, feat_imag=False, feat_optim=False, feat_via=False, feat_social=False, feat_graph=False, feat_effici=False, feat_cluster=False, feat_classif=False, feat_predict=False, feat_search=False, feat_base=False, feat_analysi=False, feat_queri=False, feat_algorithm=False, feat_featur=False, feat_approach=False, feat_estim=False, feat_structur=False, feat_mine=False, feat_spars=False, feat_onlin=False, feat_inform=False, feat_object=False, feat_select=False, feat_multipl=False, feat_recommend=False, feat_process=False, feat_infer=False, feat_system=False, feat_deep=False, feat_represent=False, feat_pattern=False, feat_robust=False, feat_recognit=False, feat_fast=False, feat_local=False, feat_activ=False, feat_adapt=False, feat_bayesian=False, feat_rank=False, feat_applic=False, feat_distribut=False, feat_kernel=False, feat_dynam=False, feat_factor=False, feat_label=False, feat_topic=False, feat_probabilist=False, feat_matrix=False, feat_framework=False, feat_match=False, feat_approxim=False, feat_method=False, feat_semant=False, feat_stream=False, feat_user=False, feat_visual=False, feat_general=False, feat_retriev=False, feat_neural=False, feat_video=False, feat_segment=False, feat_stochast=False, feat_plan=False, feat_linear=False, feat_time=False, feat_sampl=False, feat_regular=False, feat_problem=False, feat_scalabl=False, feat_comput=False, feat_relat=False, feat_hierarch=False, feat_regress=False, feat_larg=False, feat_track=False, feat_random=False, feat_largescal=False, feat_knowledg=False, feat_evalu=False, feat_transfer=False, feat_generat=False, feat_tempor=False, feat_constraint=False, feat_discrimin=False, feat_filter=False, feat_similar=False, feat_embed=False, feat_game=False, feat_discoveri=False, feat_action=False, feat_event=False, feat_multilabel=False, feat_interact=False, feat_function=False, feat_minim=False, feat_hash=False, feat_complex=False, feat_domain=False, feat_human=False, feat_extract=False, feat_effect=False, feat_improv=False, feat_logic=False, feat_web=False, feat_toward=False, feat_heterogen=False, feat_explor=False, feat_machin=False, feat_supervis=False, feat_media=False, feat_latent=False, feat_unsupervis=False, feat_person=False, feat_joint=False, feat_metric=False, feat_space=False, feat_program=False, feat_tree=False, feat_attribut=False, feat_code=True, feat_semisupervis=False, feat_databas=False, feat_subspac=False, feat_markov=False, feat_bandit=False, feat_prefer=False, feat_bound=False, feat_collabor=False, feat_gradient=False, feat_set=False, feat_group=False, feat_communiti=False, feat_scene=False, feat_face=False, feat_text=False, feat_spectral=False, feat_nonparametr=False, feat_document=False, feat_multitask=False, feat_answer=False, feat_exploit=False, feat_spatial=False, feat_classifi=False, feat_rule=False, feat_topk=False, feat_map=False, feat_gaussian=False, feat_find=False, feat_manifold=False, feat_weight=False, feat_complet=False, feat_statist=False, feat_measur=False, feat_correl=False, feat_reinforc=False, feat_convex=False, feat_parallel=False, feat_maxim=False, feat_point=False, feat_tensor=False, feat_influenc=False, feat_seri=False, feat_variat=False, feat_high=False, feat_convolut=False, feat_integr=False, feat_multiview=False, feat_decis=False, feat_microblog=False, feat_entiti=False, feat_trajectori=False, feat_sequenti=False, feat_decomposit=False, feat_rate=False, feat_consist=False, feat_shape=False, feat_collect=False, feat_class=False, feat_propag=False, feat_polici=False, feat_sentiment=False, feat_partial=False, feat_mobil=False, feat_field=False, feat_pose=False, feat_binari=False, feat_uncertainti=False, feat_behavior=False, feat_continu=False, feat_new=False, feat_automat=False, feat_spatiotempor=False, feat_crowdsourc=False),\n Row(name='&ntilde', id=4, feat_learn=False, feat_model=False, feat_data=False, feat_network=False, feat_use=False, feat_detect=False, feat_imag=False, feat_optim=False, feat_via=False, feat_social=False, feat_graph=False, feat_effici=False, feat_cluster=False, feat_classif=False, feat_predict=False, feat_search=False, feat_base=False, feat_analysi=False, feat_queri=False, feat_algorithm=False, feat_featur=False, feat_approach=False, feat_estim=False, feat_structur=False, feat_mine=False, feat_spars=False, feat_onlin=False, feat_inform=False, feat_object=False, feat_select=False, feat_multipl=False, feat_recommend=False, feat_process=False, feat_infer=False, feat_system=False, feat_deep=False, feat_represent=False, feat_pattern=False, feat_robust=False, feat_recognit=False, feat_fast=False, feat_local=False, feat_activ=False, feat_adapt=False, feat_bayesian=False, feat_rank=False, feat_applic=False, feat_distribut=False, feat_kernel=False, feat_dynam=False, feat_factor=False, feat_label=False, feat_topic=False, feat_probabilist=False, feat_matrix=False, feat_framework=False, feat_match=False, feat_approxim=False, feat_method=False, feat_semant=False, feat_stream=False, feat_user=False, feat_visual=False, feat_general=False, feat_retriev=False, feat_neural=False, feat_video=False, feat_segment=False, feat_stochast=False, feat_plan=False, feat_linear=False, feat_time=False, feat_sampl=False, feat_regular=False, feat_problem=False, feat_scalabl=False, feat_comput=False, feat_relat=False, feat_hierarch=False, feat_regress=False, feat_larg=False, feat_track=False, feat_random=False, feat_largescal=False, feat_knowledg=False, feat_evalu=False, feat_transfer=False, feat_generat=False, feat_tempor=False, feat_constraint=False, feat_discrimin=False, feat_filter=False, feat_similar=False, feat_embed=False, feat_game=False, feat_discoveri=False, feat_action=False, feat_event=False, feat_multilabel=False, feat_interact=False, feat_function=False, feat_minim=False, feat_hash=False, feat_complex=False, feat_domain=False, feat_human=False, feat_extract=False, feat_effect=False, feat_improv=False, feat_logic=False, feat_web=False, feat_toward=False, feat_heterogen=False, feat_explor=False, feat_machin=False, feat_supervis=False, feat_media=False, feat_latent=False, feat_unsupervis=False, feat_person=False, feat_joint=False, feat_metric=False, feat_space=False, feat_program=False, feat_tree=False, feat_attribut=False, feat_code=False, feat_semisupervis=False, feat_databas=False, feat_subspac=False, feat_markov=False, feat_bandit=False, feat_prefer=False, feat_bound=False, feat_collabor=False, feat_gradient=False, feat_set=False, feat_group=False, feat_communiti=False, feat_scene=False, feat_face=False, feat_text=False, feat_spectral=False, feat_nonparametr=False, feat_document=False, feat_multitask=False, feat_answer=False, feat_exploit=False, feat_spatial=False, feat_classifi=False, feat_rule=False, feat_topk=False, feat_map=False, feat_gaussian=False, feat_find=False, feat_manifold=False, feat_weight=False, feat_complet=False, feat_statist=False, feat_measur=False, feat_correl=False, feat_reinforc=False, feat_convex=False, feat_parallel=False, feat_maxim=False, feat_point=False, feat_tensor=False, feat_influenc=False, feat_seri=False, feat_variat=False, feat_high=False, feat_convolut=False, feat_integr=False, feat_multiview=False, feat_decis=False, feat_microblog=False, feat_entiti=False, feat_trajectori=False, feat_sequenti=False, feat_decomposit=False, feat_rate=False, feat_consist=False, feat_shape=False, feat_collect=False, feat_class=False, feat_propag=False, feat_polici=False, feat_sentiment=False, feat_partial=False, feat_mobil=False, feat_field=False, feat_pose=False, feat_binari=False, feat_uncertainti=False, feat_behavior=False, feat_continu=False, feat_new=False, feat_automat=False, feat_spatiotempor=False, feat_crowdsourc=False)]"
     },
     "execution_count": 18,
     "metadata": {},
     "output_type": "execute_result"
    }
   ],
   "source": [
    "df_nodes_authors_new = df_nodes_authors.join(\n",
    "    df_node_author_feats,\n",
    "    F.col('id') == F.col('author_id'),\n",
    "    'left'\n",
    ").drop('author_id').sort('id')\n",
    "\n",
    "df_nodes_authors_new.head(5)"
   ],
   "metadata": {
    "collapsed": false,
    "pycharm": {
     "name": "#%%\n"
    }
   }
  },
  {
   "cell_type": "code",
   "execution_count": 19,
   "outputs": [
    {
     "data": {
      "text/plain": "[Row(venue_id=8, keywords=['sword', 'workloadawar', 'data', 'placement', 'replica', 'select', 'cloud', 'manag', 'system', 'survey', 'largescal', 'analyt', 'queri', 'process', 'mapreduc', 'take', 'big', 'pictur', 'repres', 'skylin', 'base', 'signific', 'divers', 'calibr', 'trajectori', 'spatiotempor', 'similar', 'analysi', 'window', 'pqgram', 'approxim', 'join', 'datacentr', 'xml', 'sort', 'network', 'fpgas', 'revers', 'engin', 'outsourc', 'shortest', 'distanc', 'comput', 'privaci', 'protect', 'high', 'effici', 'qualiti', 'larg', 'graph', 'match', 'hop', 'reachabl', 'hybrid', 'entiti', 'cluster', 'use', 'crowd', 'topk', 'web', 'applic', 'acm', 'scalabl', 'parallel', 'extract', 'frequent', 'pattern', 'long', 'sequenc', 'extrem', 'movingobject', 'updat', 'workload', 'main', 'memori', 'scope', 'databas', 'meet', 'snapshot', 'continu', 'nearest', 'neighbor', 'haloop', 'approach', 'iter', 'andes', 'evalu', 'nottwig', 'relat', 'increment', 'resolut', 'rule', 'conformityawar', 'influenc', 'maxim', 'onlin', 'social', 'uncertainti', 'schema', 'person', 'spatial', 'sparql', 'distribut', 'rdf', 'elimin', 'unscal', 'communic', 'transact', 'joint', 'multipl', 'dataset', 'schedul', 'pagerank', 'utilitybas', 'hub', 'optim', 'algorithm', 'intersect', 'move', 'object', 'conceptu', 'transform', 'event', 'detect', 'twitter', 'media', 'stream', 'avoid', 'class', 'warfar', 'differenti', 'servic', 'matrix', 'mechan', 'linear', 'count', 'writeahead', 'log', 'multicor', 'multisocket', 'hardwar', 'solv', 'sparsiti', 'problem', 'destin', 'predict', 'exact', 'flexibl', 'aggreg', 'search', 'hardtocompress', 'bitvector', 'mapmerg', 'correl', 'independ', 'map', 'sourc', 'discoveri', 'dynam', 'ensembl', 'type', 'infer', 'check', 'execut', 'trace', 'toward', 'zerooverhead', 'static', 'adapt', 'index', 'hadoop', 'kpath', 'cover', 'measur', 'structur', 'semistructur', 'informationtheoret', 'evolv', 'isol', 'condit', 'heavi', 'hitter', 'interest', 'order', 'depend', 'diversifi', 'cliqu', 'gbase', 'platform', 'profil', 'languagebas', 'invers', 'semant', 'closur', 'properti', 'instancelevel', 'worstcas', 'bound', 'rtree', 'sketch', 'slidingwindow', 'sampl', 'repair', 'function', 'violat', 'consist', 'anomali', 'multiti', 'architectur', 'automat', 'prevent', 'subsequ', 'video', 'kclosest', 'pair', 'general', 'metric', 'space', 'compress', 'mine', 'fast', 'domain', 'ontolog', 'knowledg', 'ami', 'multidimension', 'subspac', 'grow', 'tripl', 'tree', 'xmlrdf', 'model', 'annot', 'document', 'reason', 'effect', 'answer', 'keyword', 'recommend', 'physic', 'design', 'uvdiagram', 'voronoi', 'diagram', 'uncertain', 'idlist', 'weight', 'constraint', 'techniqu', 'mappingequival', 'oidequival', 'singlefunct', 'objectcr', 'conjunct', 'claro', 'cloudia', 'deploy', 'advisor', 'public', 'quantifi', 'eventu', 'pbs', 'costeffect', 'storag', 'provis', 'dbmss', 'framework', 'resolv', 'mismatch', 'bitwis', 'dimension', 'coclust', 'unifi', 'dictionarybas', 'euclidean', 'oxpath', 'languag', 'autom', 'crawl', 'deep', 'topic', 'format', 'develop', 'coregroup', 'novel', 'twobox', 'paradigm', 'disambigu', 'noisi', 'nonmalici', 'user', 'dbir', 'integr', 'tightcoupl', 'odysseus', 'dbms', 'navig', 'inform', 'likemind', 'communiti', 'bring', 'familiar', 'togeth', 'widget', 'identif', 'highlevel', 'access', 'tag', 'explor', 'capabl', 'feedback', 'learn', 'rank', 'youtub', 'suggest', 'hidden', 'multiverifi', 'method', 'fact', 'statement', 'verif', 'activ', 'label', 'multimedia', 'find', 'seed', 'bootstrap', 'focus', 'crawler', 'busi', 'repositori', 'current', 'issu', 'entropybas', 'wrapper', 'generat', 'weblog', 'tweet', 'opinion', 'retriev', 'domin', 'environ', 'neighborhood', 'random', 'link', 'quick', 'neardupl', 'cut', 'signatur', 'mindist', 'locat', 'facil', 'replac', 'represent', 'flickr', 'gindex', 'generic', 'scheme', 'spatialkeyword', 'configur', 'bitmap', 'materi', 'view', 'rout', 'plan', 'smallest', 'kcompact', 'set', 'sophist', 'bank', 'fraud', 'imbalanc', 'evolut', 'microblog', 'awar', 'baromet', 'real', 'world', 'exploit', 'circl', 'broad', 'influenti', 'spreader', 'rfid', 'sensor', 'secur', 'exactmatch', 'assist', 'word', 'modif', 'transit', 'node', 'sign', 'subgraph', 'connect', 'facet', 'interact', 'improv', 'perform', 'pipelin', 'skip', 'comparison', 'documentwis', 'partit', 'foundat', 'small', 'elearn', 'contextawar', 'trust', 'enhanc', 'provid', 'guidelin', 'lesson', 'time', 'seri', 'segment', 'error', 'guarante', 'preserv', 'scientif', 'likelihoodbas', 'discuss', 'thread', 'abnorm', 'period', 'medic', 'contrast', 'sequenti', 'taxpay', 'behavior', 'graphbas', 'implicit', 'outlier', 'content', 'advertis', 'rasim', 'rankawar', 'separ', 'massiv', 'disk', 'resid', 'evolutionari', 'taxonomi', 'construct', 'overlap', 'polyrel', 'geospati', 'cognit', 'locationbas', 'site', 'wordemoticon', 'mutual', 'reinforc', 'build', 'sentiment', 'lexicon', 'collect', 'asymmetr', 'structurepreserv', 'slice', 'reviv', 'regionsbas', 'prune', 'distinguish', 'reshar', 'recreat', 'diffus', 'classif', 'unlabel', 'common', 'subexpress', 'trendspedia', 'internet', 'observatori', 'analyz', 'visual', 'clean', 'benchmark', 'travers', 'oper', 'live', 'enabl', 'support', 'dataspac', 'shahe', 'mapreducebas', 'satellit', 'short', 'text', 'understand', 'lexicalsemant', 'character', 'shop', 'case', 'studi', 'smart', 'tool', 'reconcil', 'achiev', 'account', 'glog', 'level', 'decis', 'sumproductmax', 'featurecost', 'sensit', 'submodular', 'classifi', 'crossdomain', 'neural', 'sketchbas', 'shape', 'stochast', 'factor', 'precipit', 'great', 'lake', 'region', 'axiomat', 'runoff', 'vote', 'selfpac', 'fortun', 'teller', 'career', 'path', 'discrimin', 'multitask', 'featur', 'marketbas', 'coordin', 'resourc', 'multivari', 'multiview', 'oracl', 'blind', 'spot', 'combin', 'heterogen', 'geograph', 'delaytoler', 'convex', 'adaptivegradi', 'supervis', 'parametr', 'infect', 'hawk', 'drosophila', 'gene', 'express', 'via', 'multiinst', 'biolog', 'relev', 'negoti', 'grid', 'agent', 'partial', 'observ', 'spammer', 'intent', 'semisupervis', 'categori', 'number', 'complex', 'pomdp', 'emerg', 'concept', 'alon', 'pairwis', 'relationship', 'zeroshot', 'recognit', 'bayesian', 'affect', 'control', 'theori', 'self', 'nonlinear', 'longterm', 'signal', 'bender', 'decomposit', 'prescript', 'evacu', 'dictionari', 'spars', 'harm', 'pretend', 'honest', 'decentr', 'multiag', 'partiallyobserv', 'robust', 'spectral', 'bipartit', 'group', 'stabl', 'brain', 'smri', 'wordnet', 'tractabl', 'practic', 'abox', 'abduct', 'inconsist', 'descript', 'logic', 'xpath', 'proxim', 'reweight', 'split', 'nonconvex', 'chines', 'overt', 'pronoun', 'bilingu', 'shift', 'briberi', 'committe', 'elect', 'ridg', 'speedup', 'determinant', 'point', 'symbol', 'epistem', 'strategi', 'multidomain', 'scale', 'episod', 'increas', 'nogood', 'restartbas', 'reputationawar', 'doubl', 'auction', 'emot', 'probabilist', 'sens', 'identifi', 'atrisk', 'student', 'open', 'cours', 'eye', 'movement', 'read', 'credibl', 'strateg', 'fair', 'divis', 'conquer', 'adversari', 'game', 'close', 'form', 'solut', 'lowrank', 'regress', 'predicateargu', 'gradient', 'auc', 'theoret', 'reexpand', 'bestfirst', 'offlin', 'estim', 'exercis', 'mental', 'health', 'margin', 'multilabel', 'complet', 'variant', 'fault', 'environment', 'uncharacteris', 'simul', 'human', 'mobil', 'follow', 'disast', 'transfer', 'alternatingtim', 'tempor', 'incomplet', 'synchron', 'perfect', 'recal', 'filter', 'spearphish', 'attack', 'revis', 'contract', 'program', 'acquir', 'compar', 'commonsens', 'strong', 'nash', 'equilibrium', 'two', 'fuse', 'volunteer', 'tendenc', 'hiv', 'spread', 'homeless', 'popul', 'psinet', 'captur', 'rdfs', 'extern', 'modular', 'team', 'evid', 'english', 'premier', 'leagu', 'landscap', 'paramet', 'ilp', 'compos', 'orient', 'profess', 'context', 'lab', 'classroom', 'beyond', 'extend', 'gamebas', 'research', 'teach', 'audienc', 'action', 'mdps', 'anytim', 'versus', 'uct', 'trade', 'indivis', 'good', 'indiffer', 'quantize', 'imag', 'pac', 'markov', 'nestedhierarch', 'dirichlet', 'satur', 'pathconstrain', 'mdp', 'determinist', 'modelcheck', 'share', 'ride', 'friend', 'coalit', 'rideshar', 'sumproduct', 'valu', 'ignor', 'player', 'local', 'satisfi', 'highconfid', 'offpolici', 'compact', 'reduct', 'mergeandshrink', 'heurist', 'score', 'multiscal', 'decisionmak', 'custom', 'new', 'kind', 'leverag', 'foci', 'seek', 'lass', 'simpl', 'assign', 'laplacian', 'smooth', 'treewidth', 'guid', 'soft', 'latent', 'global', 'globalloc', 'grammar', 'induct', 'combinatori', 'averagereward', 'dcop', 'burst', 'cascad', 'robot', 'task', 'logicbas', 'prior', 'chang', 'strategybas', 'warm', 'start', 'regret', 'minim', 'unsupervis', 'align', 'natur', 'instruct', 'step', 'size', 'train']),\n Row(venue_id=4, keywords=['nscale', 'neighborhoodcentr', 'largescal', 'graph', 'analyt', 'cloud', 'maximum', 'errorbound', 'piecewis', 'linear', 'represent', 'onlin', 'stream', 'approxim', 'toward', 'certain', 'fix', 'edit', 'rule', 'master', 'data', 'differenti', 'privat', 'histogram', 'public', 'decor', 'enabl', 'annot', 'manag', 'mapreduc', 'task', 'assign', 'optim', 'knowledgeintens', 'crowdsourc', 'find', 'topiki', 'relev', 'group', 'spatial', 'web', 'object', 'rdf', 'survey', 'audit', 'databas', 'retent', 'polici', 'cross', 'lingual', 'opinion', 'holder', 'extract', 'base', 'multikernel', 'svms', 'transfer', 'learn', 'kcorebas', 'attack', 'internet', 'malici', 'degreebas', 'index', 'match', 'trajectori', 'inconsist', 'sampl', 'rate', 'effici', 'accur', 'queri', 'evalu', 'uncertain', 'via', 'recurs', 'stratifi', 'increment', 'cluster', 'evolut', 'track', 'high', 'dynam', 'network', 'bottleneckawar', 'arrang', 'eventbas', 'social', 'secur', 'similar', 'comput', 'encrypt', 'meaning', 'keyword', 'search', 'relat', 'larg', 'complex', 'schema', 'bwtree', 'btree', 'new', 'hardwar', 'platform', 'wareh', 'multidimension', 'analysi', 'atyp', 'event', 'cyberphys', 'lsii', 'structur', 'exact', 'realtim', 'microblog', 'haten', 'billionscal', 'tensor', 'decomposit', 'rank', 'item', 'featur', 'mine', 'useritem', 'interact', 'giceberg', 'iceberg', 'diversifi', 'gaussian', 'process', 'latent', 'variabl', 'model', 'video', 'repair', 'refin', 'subgam', 'imperfect', 'inform', 'game', 'lineartim', 'distribut', 'kernel', 'embed', 'scalabl', 'sequenti', 'spectral', 'activ', 'manifold', 'gershgorin', 'circl', 'guid', 'select', 'uncorrel', 'lasso', 'multilevel', 'multitask', 'achiev', 'stabl', 'fair', 'profit', 'alloc', 'minimum', 'subsidi', 'collabor', 'logist', 'stochast', 'human', 'cognit', 'bias', 'automat', 'topic', 'discoveri', 'multiobject', 'rsvm', 'randomis', 'nonlinear', 'approach', 'anomali', 'detect', 'blind', 'greedi', 'random', 'algorithm', 'use', 'ordin', 'market', 'paramet', 'aggreg', 'demand', 'contextsensit', 'twitter', 'sentiment', 'classif', 'neural', 'closedform', 'gibb', 'graphic', 'algebra', 'constraint', 'investig', 'conting', 'awar', 'atari', 'taxonomi', 'abnorm', 'imag', 'suit', 'supervis', 'queue', 'method', 'handl', 'delay', 'heurist', 'prior', 'bandit', 'infer', 'user', 'properti', 'text', 'publish', 'media', 'writeright', 'academ', 'write', 'assist', 'system', 'bag', 'design', 'suboptim', 'finegrain', 'photovolta', 'output', 'predict', 'bayesian', 'ensembl', 'diagnos', 'chang', 'ontolog', 'reason', 'acquir', 'commonsens', 'knowledg', 'reduc', 'relift', 'bootstrap', 'lift', 'likelihood', 'maxim', 'map', 'deep', 'reinforc', 'doubl', 'qlearn', 'strong', 'bound', 'consist', 'applic', 'abstract', 'view', 'modular', 'incent', 'subject', 'belief', 'liber', 'safeti', 'answer', 'set', 'program', 'extern', 'sourc', 'probabilist', 'robust', 'spars', 'nois', 'multivari', 'condit', 'outlier', 'clinic', 'smart', 'bregman', 'bbookx', 'build', 'open', 'book', 'person', 'face', 'behind', 'makeup', 'crossmod', 'pair', 'prefer', 'soml', 'metric', 'retriev', 'sequenceform', 'evolutionari', 'realize', 'equival', 'agent', 'form', 'logit', 'simplifi', 'lattic', 'protein', 'good', 'timeconsist', 'problem', 'combin', 'cpnet', 'power', 'ltl', 'finit', 'trace', 'insensit', 'infinit', 'width', 'nondeterminist', 'conform', 'plan', 'margin', 'denois', 'link', 'multilabel', 'smile', 'shuffl', 'multipleinst', 'coreclust', 'degeneraci', 'framework', 'rockit', 'exploit', 'parallel', 'symmetri', 'statist', 'improv', 'topicenrich', 'multiprototyp', 'word', 'empir', 'auction', 'quibid', 'penni', 'blockmodel', 'autonom', 'electr', 'trade', 'timeofus', 'tariff', 'competit', 'agentbas', 'studi', 'acquisit', 'languag', 'logic', 'construct', 'multiinst', 'class', 'assess', 'bird', 'biodivers', 'timelin', 'tempor', 'uncertainti', 'contract', 'revis', 'dllite', 'tbox', 'strateg', 'advic', 'provis', 'repeat', 'humanag', 'tailor', 'local', 'partial', 'maxsat', 'intract', 'multirobot', 'path', 'crosslanguag', 'categor', 'correspond', 'span', 'understand', 'question', 'support', 'transport', 'causal', 'effect', 'complet', 'result', 'asymmetr', 'multiorgan', 'exchang', 'whole', 'greater', 'sum', 'part', 'joint', 'entiti', 'expans', 'attribut', 'spite', 'bidder', 'multiag', 'develop', 'made', 'easi', 'adapt', 'multipl', 'instanc', 'reduct', 'techniqu', 'graphbas', 'convex', 'project', 'code', 'relish', 'reliabl', 'label', 'smooth', 'hypothesi', 'timecrit', 'influenc', 'timedelay', 'diffus', 'prego', 'action', 'beliefbas', 'robot', 'continu', 'domain', 'omniprop', 'seamless', 'node', 'arbitrari', 'correl', 'compress', 'distil', 'neuron', 'explor', 'mixedin', 'situat', 'instruct', 'landscap', 'conserv', 'synthet', 'realworld', 'dataset', 'topk', 'shortestpath', 'distanc', 'prune', 'landmark', 'block', 'coordin', 'descent', 'saddl', 'point', 'pacoptim', 'concurr', 'state', 'mdps', 'updat', 'nucleolus', 'cover', 'cliqu', 'perform', 'machin', 'procedur', 'crossclass', 'extensiveform', 'solv', 'reus', 'scale', 'verif', 'translat', 'free', 'incompat', 'strategyproof', 'choic', 'captur', 'semant', 'recommend', 'tag', 'cruis', 'batterypow', 'vehicl', 'get', 'strand', 'multinomi', 'dimens', 'deploy', 'paw', 'combat', 'poach', 'gametheoret', 'patrol', 'area', 'terrain', 'demonstr', 'graphwithoutcut', 'ideal', 'segment', 'recov', 'general', 'play', 'incompleteinform', 'chines', 'novel', 'cooper', 'solut', 'concept', 'stabil', 'multicomposit', 'pattern', 'crime', 'seri', 'finder', 'interest', 'photo', 'collect', 'contrast', 'estim', 'hard', 'nonparametr', 'behavior', 'laplacianbas', 'hub', 'unifi', 'variat', 'hierarch', 'graphcoupl', 'hmm', 'influenza', 'infect', 'choos', 'seller', 'emarketplac', 'pomdp', 'integr', 'codebook', 'intellig', 'urban', 'emerg', 'disast', 'nest', 'mont', 'carlo', 'twoplay', 'sketch', 'recognit', 'nameethn', 'ethnicitysensit', 'name', 'subselect', 'quantize', 'unsupervis', 'univers', 'leverag', 'preemptiv', 'strategi', 'overcom', 'forget', 'goal', 'experiment', 'mss', 'comss', 'partit', 'lowrank', 'structuredspars', 'streamlin', 'combinatori', 'storag', 'charg', 'share', 'singl', 'team', 'decis']),\n Row(venue_id=12, keywords=['emerg', 'event', 'detect', 'social', 'network', 'locat', 'sensit', 'advertis', 'click', 'predict', 'use', 'multipl', 'criteria', 'mathemat', 'program', 'holist', 'data', 'clean', 'put', 'violat', 'context', 'susi', 'search', 'servic', 'inform', 'extract', 'reduc', 'uncertainti', 'lowsamplingr', 'trajectori', 'generic', 'databas', 'benchmark', 'cloud', 'placement', 'via', 'subgraph', 'match', 'complex', 'pattern', 'structur', 'xseq', 'approach', 'tutori', 'stream', 'mine', 'applic', 'coldstart', 'expert', 'find', 'communiti', 'question', 'answer', 'graph', 'regular', 'machin', 'learn', 'metagenom', 'spot', 'fake', 'review', 'collect', 'positiveunlabel', 'semanticbas', 'recommend', 'across', 'heterogen', 'domain', 'cluster', 'incomplet', 'dataset', 'kernel', 'snoc', 'node', 'classif', 'hdminer', 'effici', 'high', 'dimension', 'frequent', 'close', 'dens', 'model', 'adopt', 'stage', 'diffus', 'innov', 'crossdomain', 'tag', 'matrix', 'transfer', 'heal', 'truncat', 'bias', 'selfweight', 'framework', 'dual', 'averag', 'infer', 'root', 'caus', 'road', 'traffic', 'anomali', 'geosoci', 'graphbas', 'etm', 'entiti', 'topic', 'document', 'associ', 'mli', 'api', 'distribut', 'discoveri', 'system', 'highvalu', 'home', 'toward', 'collus', 'fraud', 'onlin', 'classifi', 'without', 'discrimin', 'analysi', 'crime', 'suspect', 'enhanc', 'binari', 'multilevel', 'approxim', 'spectral', 'collabor', 'multidomain', 'sentiment', 'adapt', 'ensembl', 'test', 'instanc', 'freedom', 'activ', 'recognit', 'dictionarybas', 'spars', 'represent', 'rfid', 'sens', 'multisourc', 'trustworthi', 'featur', 'select', 'integr', 'relev', 'redund', 'optim', 'group', 'fuse', 'lasso', 'compon', 'identifi', 'groupspecif', 'dna', 'copi', 'number', 'variat', 'leverag', 'supervis', 'label', 'depend', 'propag', 'multilabel', 'progress', 'transit', 'dynam', 'autonom', 'control', 'coclusterd', 'coclust', 'sequenti', 'updat', 'discret', 'numer', 'attribut', 'decis', 'tree', 'big', 'nonlinear', 'causal', 'trace', 'method', 'algorithm', 'constrain', 'nonneg', 'factor']),\n Row(venue_id=11, keywords=['dbtouch', 'action', 'databas', 'kernel', 'touchbas', 'data', 'explor', 'effici', 'topk', 'keyword', 'search', 'graph', 'polynomi', 'delay', 'smas', 'smart', 'meter', 'analyt', 'system', 'adapt', 'radix', 'tree', 'art', 'index', 'mainmemori', 'profil', 'mine', 'rdf', 'prolod', 'fast', 'estim', 'result', 'accuraci', 'big', 'earl', 'toward', 'preferenceawar', 'relat', 'datadriven', 'crowdsourc', 'manag', 'applic', 'coupl', 'cluster', 'ensembl', 'incorpor', 'relationship', 'base', 'object', 'dynam', 'physiolog', 'partit', 'sharednoth', 'process', 'notifi', 'rang', 'subscript', 'map', 'clean', 'stop', 'underutil', 'love', 'multicor', 'diversifi', 'cliqu', 'differenti', 'privat', 'histogram', 'public', 'similar', 'encrypt', 'parametr', 'plan', 'cach', 'use', 'densitybas', 'acceler', 'queri', 'brain', 'simul', 'interact', 'spatial', 'learn', 'rank', 'distant', 'supervis', 'exploit', 'noisi', 'redund', 'entiti', 'affin', 'statist', 'measur', 'timeseri', 'high', 'perform', 'tempor', 'modern', 'hardwar', 'real', 'time', 'person', 'social', 'network', 'controvol', 'framework', 'control', 'schema', 'evolut', 'nosql', 'develop', 'grow', 'charg', 'station', 'electr', 'vehicl', 'trajectori', 'monitor', 'pair', 'slide', 'window', 'massjoin', 'mapreducebas', 'method', 'scalabl', 'string', 'join', 'guarante', 'authent', 'integr', 'untrust', 'server', 'automat', 'design', 'coclust', 'tabl', 'wast', 'coprocess', 'generat', 'read', 'order', 'document', 'collect', 'finegrain', 'controversi', 'detect', 'wikipedia', 'privaci', 'riski', 'futur', 'scientif', 'probabilist', 'edg', 'decay', 'parameterfre', 'determin', 'distanc', 'threshold', 'metric', 'constraint', 'synthet', 'evalu', 'interv', 'revers', 'nearest', 'neighbor', 'uncertain', 'markov', 'correl', 'safest', 'path', 'via', 'safe', 'zone', 'decomposit', 'pagrol', 'parallel', 'olap', 'largescal', 'attribut', 'build', 'larg', 'xml', 'store', 'amazon', 'cloud', 'discoveri', 'gather', 'pattern', 'svdbase', 'multimod', 'event', 'configur', 'hardwarebas', 'stream', 'architectur', 'onlin', 'programmableblock', 'curracurrong', 'algorithm', 'mapreduc', 'ontologybas', 'subgraph', 'visual', 'support', 'enjoy', 'frdm', 'play', 'schemaflex', 'rdbms', 'head', 'modifi', 'short', 'text', 'ask', 'right', 'question', 'crowd', 'sourc', 'extract', 'structur', 'web', 'domain', 'knowledg', 'relev', 'matter', 'capit', 'less', 'match', 'publishsubscrib', 'score', 'approach', 'practic', 'locat', 'break', 'mismatch', 'trap', 'slca', 'elca', 'comput', 'set', 'intersect', 'infer', 'currenc', 'consist', 'conflict', 'resolut', 'motif', 'gpu', 'unifi', 'model', 'stabl', 'topic', 'media', 'icoda', 'exploratori', 'complet', 'analysi', 'octopus', 'execut', 'mesh', 'dataset', 'hope', 'iter', 'oltp', 'workload', 'stratif', 'driven', 'placement', 'complex', 'distribut', 'applicationmanag', 'replic', 'virtual', 'environ', 'dbms', 'storag', 'multiconstrain', 'contextu', 'travel', 'petra', 'rome', 'case', 'keyvalu', 'hierarch', 'egocentr', 'census', 'find', 'interest', 'condit', 'heavi', 'hitter', 'demonstr', 'taghre', 'analyz', 'geotag', 'microblog', 'transact', 'across', 'heterogen', 'payasyougo', 'reconcili', 'predict', 'road', 'multiway', 'discount', 'hit', 'spatiotempor', 'term', 'schemaless']),\n Row(venue_id=2, keywords=['make', 'pattern', 'queri', 'bound', 'big', 'graph', 'scalabl', 'serializ', 'snapshot', 'isol', 'multicor', 'system', 'pie', 'approxim', 'interleav', 'event', 'match', 'sequenc', 'warp', 'workloadawar', 'replic', 'partit', 'rdf', 'discrimin', 'featur', 'identifi', 'interpret', 'outlier', 'effect', 'data', 'densiti', 'estim', 'ringbas', 'network', 'enumer', 'subgraph', 'instanc', 'use', 'mapreduc', 'text', 'cluster', 'side', 'inform', 'graphbas', 'tripl', 'store', 'exploit', 'group', 'recommend', 'function', 'flexibl', 'prefer', 'materi', 'view', 'eventu', 'consist', 'record', 'era', 'spatial', 'pop', 'passengerori', 'partner', 'memoryeffici', 'algorithm', 'physic', 'independ', 'stream', 'merg', 'effici', 'distanceawar', 'evalu', 'indoor', 'move', 'object', 'hierarch', 'innetwork', 'attribut', 'compress', 'via', 'import', 'sampl', 'evolv', 'architectur', 'sql', 'server', 'modern', 'hardwar', 'trend', 'person', 'user', 'valu', 'model', 'applic', 'appearanceorderbas', 'schema', 'composit', 'contextawar', 'multirol', 'affili', 'general', 'profil', 'challeng', 'dataset', 'search', 'studi', 'space', 'reclam', 'flashbas', 'appendon', 'storag', 'manag', 'sparql', 'automat', 'correl', 'uncertain', 'cach', 'result', 'probabilist', 'approach', 'identif', 'social', 'media', 'rss', 'feed', 'tof', 'throughput', 'orient', 'framework', 'process', 'environ', 'context', 'sensit', 'tag', 'expans', 'infer', 'passeng', 'assign', 'transport', 'integr', 'opinion', 'leader', 'dynam', 'label', 'propag', 'kconsist', 'influenc', 'aggreg', 'heterogen', 'maxim', 'weight', 'cascad', 'assist', 'restaur', 'interestingnessdriven', 'diffus', 'summar', 'inhomogen', 'parsimoni', 'markov', 'crossdomain', 'analog', 'hyperparamet', 'prune', 'new', 'compon', 'sequenti', 'modelbas', 'optim', 'combin', 'subject', 'probabl', 'train', 'logic', 'nonneg', 'matrix', 'factor', 'blockwis', 'updat', 'ageingbas', 'multinomi', 'naiv', 'bay', 'classifi', 'pitfal', 'benchmark', 'classif', 'avoid', 'plan', 'discret', 'continu', 'decis', 'program', 'learn', 'detect', 'crime', 'semisupervis', 'unsupervis', 'atlas', 'extens', 'rocchio', 'method', 'multimod', 'categor', 'document', 'generat', 'bayesian', 'item', 'rate', 'trust', 'relationship', 'toward', 'devicelevel', 'energi', 'consumpt', 'real', 'time', 'track', 'rank', 'base', 'fuzzi', 'order', 'relat', 'neighborhood', 'metric', 'hypothesi', 'test', 'machin'])]"
     },
     "execution_count": 19,
     "metadata": {},
     "output_type": "execute_result"
    }
   ],
   "source": [
    "df_node_venue_keywords = (\n",
    "    df_edges_published_in.select(\n",
    "        F.col('src').alias('paper_id'),\n",
    "        F.col('dst').alias('venue_id'),\n",
    "    ).join(\n",
    "        df_kw_doc,\n",
    "        F.col('paper_id') == F.col('id'),\n",
    "        'left'\n",
    "    ).groupby('venue_id').agg(\n",
    "        F.collect_list('keywords').alias('keywords')\n",
    "    ).withColumn('keywords', F.array_distinct(F.flatten('keywords')))\n",
    ")\n",
    "df_node_venue_keywords.head(5)"
   ],
   "metadata": {
    "collapsed": false,
    "pycharm": {
     "name": "#%%\n"
    }
   }
  },
  {
   "cell_type": "code",
   "execution_count": 20,
   "outputs": [
    {
     "data": {
      "text/plain": "[Row(venue_id=8, feat_learn=True, feat_model=True, feat_data=True, feat_network=True, feat_use=True, feat_detect=True, feat_imag=True, feat_optim=True, feat_via=True, feat_social=True, feat_graph=True, feat_effici=True, feat_cluster=True, feat_classif=True, feat_predict=True, feat_search=True, feat_base=True, feat_analysi=True, feat_queri=True, feat_algorithm=True, feat_featur=True, feat_approach=True, feat_estim=True, feat_structur=True, feat_mine=True, feat_spars=True, feat_onlin=True, feat_inform=True, feat_object=True, feat_select=True, feat_multipl=True, feat_recommend=True, feat_process=True, feat_infer=True, feat_system=True, feat_deep=True, feat_represent=True, feat_pattern=True, feat_robust=True, feat_recognit=True, feat_fast=True, feat_local=True, feat_activ=True, feat_adapt=True, feat_bayesian=True, feat_rank=True, feat_applic=True, feat_distribut=True, feat_kernel=False, feat_dynam=True, feat_factor=True, feat_label=True, feat_topic=True, feat_probabilist=True, feat_matrix=True, feat_framework=True, feat_match=True, feat_approxim=True, feat_method=True, feat_semant=True, feat_stream=True, feat_user=True, feat_visual=True, feat_general=True, feat_retriev=True, feat_neural=True, feat_video=True, feat_segment=True, feat_stochast=True, feat_plan=True, feat_linear=True, feat_time=True, feat_sampl=True, feat_regular=False, feat_problem=True, feat_scalabl=True, feat_comput=True, feat_relat=True, feat_hierarch=False, feat_regress=True, feat_larg=True, feat_track=False, feat_random=True, feat_largescal=True, feat_knowledg=True, feat_evalu=True, feat_transfer=True, feat_generat=True, feat_tempor=True, feat_constraint=True, feat_discrimin=True, feat_filter=True, feat_similar=True, feat_embed=False, feat_game=True, feat_discoveri=True, feat_action=True, feat_event=True, feat_multilabel=True, feat_interact=True, feat_function=True, feat_minim=True, feat_hash=False, feat_complex=True, feat_domain=True, feat_human=True, feat_extract=True, feat_effect=True, feat_improv=True, feat_logic=True, feat_web=True, feat_toward=True, feat_heterogen=True, feat_explor=True, feat_machin=False, feat_supervis=True, feat_media=True, feat_latent=True, feat_unsupervis=True, feat_person=True, feat_joint=True, feat_metric=True, feat_space=True, feat_program=True, feat_tree=True, feat_attribut=False, feat_code=False, feat_semisupervis=True, feat_databas=True, feat_subspac=True, feat_markov=True, feat_bandit=False, feat_prefer=False, feat_bound=True, feat_collabor=False, feat_gradient=True, feat_set=True, feat_group=True, feat_communiti=True, feat_scene=False, feat_face=False, feat_text=True, feat_spectral=True, feat_nonparametr=False, feat_document=True, feat_multitask=True, feat_answer=True, feat_exploit=True, feat_spatial=True, feat_classifi=True, feat_rule=True, feat_topk=True, feat_map=True, feat_gaussian=False, feat_find=True, feat_manifold=False, feat_weight=True, feat_complet=True, feat_statist=False, feat_measur=True, feat_correl=True, feat_reinforc=True, feat_convex=True, feat_parallel=True, feat_maxim=True, feat_point=True, feat_tensor=False, feat_influenc=True, feat_seri=True, feat_variat=False, feat_high=True, feat_convolut=False, feat_integr=True, feat_multiview=True, feat_decis=True, feat_microblog=True, feat_entiti=True, feat_trajectori=True, feat_sequenti=True, feat_decomposit=True, feat_rate=False, feat_consist=True, feat_shape=True, feat_collect=True, feat_class=True, feat_propag=False, feat_polici=False, feat_sentiment=True, feat_partial=True, feat_mobil=True, feat_field=False, feat_pose=False, feat_binari=False, feat_uncertainti=True, feat_behavior=True, feat_continu=True, feat_new=True, feat_automat=True, feat_spatiotempor=True, feat_crowdsourc=False),\n Row(venue_id=4, feat_learn=True, feat_model=True, feat_data=True, feat_network=True, feat_use=True, feat_detect=True, feat_imag=True, feat_optim=True, feat_via=True, feat_social=True, feat_graph=True, feat_effici=True, feat_cluster=True, feat_classif=True, feat_predict=True, feat_search=True, feat_base=True, feat_analysi=True, feat_queri=True, feat_algorithm=True, feat_featur=True, feat_approach=True, feat_estim=True, feat_structur=True, feat_mine=True, feat_spars=True, feat_onlin=True, feat_inform=True, feat_object=True, feat_select=True, feat_multipl=True, feat_recommend=True, feat_process=True, feat_infer=True, feat_system=True, feat_deep=True, feat_represent=True, feat_pattern=True, feat_robust=True, feat_recognit=True, feat_fast=False, feat_local=True, feat_activ=True, feat_adapt=True, feat_bayesian=True, feat_rank=True, feat_applic=True, feat_distribut=True, feat_kernel=True, feat_dynam=True, feat_factor=False, feat_label=True, feat_topic=True, feat_probabilist=True, feat_matrix=False, feat_framework=True, feat_match=True, feat_approxim=True, feat_method=True, feat_semant=True, feat_stream=True, feat_user=True, feat_visual=False, feat_general=True, feat_retriev=True, feat_neural=True, feat_video=True, feat_segment=True, feat_stochast=True, feat_plan=True, feat_linear=True, feat_time=False, feat_sampl=True, feat_regular=False, feat_problem=True, feat_scalabl=True, feat_comput=True, feat_relat=True, feat_hierarch=True, feat_regress=False, feat_larg=True, feat_track=True, feat_random=True, feat_largescal=True, feat_knowledg=True, feat_evalu=True, feat_transfer=True, feat_generat=False, feat_tempor=True, feat_constraint=True, feat_discrimin=False, feat_filter=False, feat_similar=True, feat_embed=True, feat_game=True, feat_discoveri=True, feat_action=True, feat_event=True, feat_multilabel=True, feat_interact=True, feat_function=False, feat_minim=False, feat_hash=False, feat_complex=True, feat_domain=True, feat_human=True, feat_extract=True, feat_effect=True, feat_improv=True, feat_logic=True, feat_web=True, feat_toward=True, feat_heterogen=False, feat_explor=True, feat_machin=True, feat_supervis=True, feat_media=True, feat_latent=True, feat_unsupervis=True, feat_person=True, feat_joint=True, feat_metric=True, feat_space=False, feat_program=True, feat_tree=False, feat_attribut=True, feat_code=True, feat_semisupervis=False, feat_databas=True, feat_subspac=False, feat_markov=False, feat_bandit=True, feat_prefer=True, feat_bound=True, feat_collabor=True, feat_gradient=False, feat_set=True, feat_group=True, feat_communiti=False, feat_scene=False, feat_face=True, feat_text=True, feat_spectral=True, feat_nonparametr=True, feat_document=False, feat_multitask=True, feat_answer=True, feat_exploit=True, feat_spatial=True, feat_classifi=False, feat_rule=True, feat_topk=True, feat_map=True, feat_gaussian=True, feat_find=True, feat_manifold=True, feat_weight=False, feat_complet=True, feat_statist=True, feat_measur=False, feat_correl=True, feat_reinforc=True, feat_convex=True, feat_parallel=True, feat_maxim=True, feat_point=True, feat_tensor=True, feat_influenc=True, feat_seri=True, feat_variat=True, feat_high=True, feat_convolut=False, feat_integr=True, feat_multiview=False, feat_decis=True, feat_microblog=True, feat_entiti=True, feat_trajectori=True, feat_sequenti=True, feat_decomposit=True, feat_rate=True, feat_consist=True, feat_shape=False, feat_collect=True, feat_class=True, feat_propag=False, feat_polici=True, feat_sentiment=True, feat_partial=True, feat_mobil=False, feat_field=False, feat_pose=False, feat_binari=False, feat_uncertainti=True, feat_behavior=True, feat_continu=True, feat_new=True, feat_automat=True, feat_spatiotempor=False, feat_crowdsourc=True),\n Row(venue_id=12, feat_learn=True, feat_model=True, feat_data=True, feat_network=True, feat_use=True, feat_detect=True, feat_imag=False, feat_optim=True, feat_via=True, feat_social=True, feat_graph=True, feat_effici=True, feat_cluster=True, feat_classif=True, feat_predict=True, feat_search=True, feat_base=False, feat_analysi=True, feat_queri=False, feat_algorithm=True, feat_featur=True, feat_approach=True, feat_estim=False, feat_structur=True, feat_mine=True, feat_spars=True, feat_onlin=True, feat_inform=True, feat_object=False, feat_select=True, feat_multipl=True, feat_recommend=True, feat_process=False, feat_infer=True, feat_system=True, feat_deep=False, feat_represent=True, feat_pattern=True, feat_robust=False, feat_recognit=True, feat_fast=False, feat_local=False, feat_activ=True, feat_adapt=True, feat_bayesian=False, feat_rank=False, feat_applic=True, feat_distribut=True, feat_kernel=True, feat_dynam=True, feat_factor=True, feat_label=True, feat_topic=True, feat_probabilist=False, feat_matrix=True, feat_framework=True, feat_match=True, feat_approxim=True, feat_method=True, feat_semant=False, feat_stream=True, feat_user=False, feat_visual=False, feat_general=False, feat_retriev=False, feat_neural=False, feat_video=False, feat_segment=False, feat_stochast=False, feat_plan=False, feat_linear=False, feat_time=False, feat_sampl=False, feat_regular=True, feat_problem=False, feat_scalabl=False, feat_comput=False, feat_relat=False, feat_hierarch=False, feat_regress=False, feat_larg=False, feat_track=False, feat_random=False, feat_largescal=False, feat_knowledg=False, feat_evalu=False, feat_transfer=True, feat_generat=False, feat_tempor=False, feat_constraint=False, feat_discrimin=True, feat_filter=False, feat_similar=False, feat_embed=False, feat_game=False, feat_discoveri=True, feat_action=False, feat_event=True, feat_multilabel=True, feat_interact=False, feat_function=False, feat_minim=False, feat_hash=False, feat_complex=True, feat_domain=True, feat_human=False, feat_extract=True, feat_effect=False, feat_improv=False, feat_logic=False, feat_web=False, feat_toward=True, feat_heterogen=True, feat_explor=False, feat_machin=True, feat_supervis=True, feat_media=False, feat_latent=False, feat_unsupervis=False, feat_person=False, feat_joint=False, feat_metric=False, feat_space=False, feat_program=True, feat_tree=True, feat_attribut=True, feat_code=False, feat_semisupervis=False, feat_databas=True, feat_subspac=False, feat_markov=False, feat_bandit=False, feat_prefer=False, feat_bound=False, feat_collabor=True, feat_gradient=False, feat_set=False, feat_group=True, feat_communiti=True, feat_scene=False, feat_face=False, feat_text=False, feat_spectral=True, feat_nonparametr=False, feat_document=True, feat_multitask=False, feat_answer=True, feat_exploit=False, feat_spatial=False, feat_classifi=True, feat_rule=False, feat_topk=False, feat_map=False, feat_gaussian=False, feat_find=True, feat_manifold=False, feat_weight=False, feat_complet=False, feat_statist=False, feat_measur=False, feat_correl=False, feat_reinforc=False, feat_convex=False, feat_parallel=False, feat_maxim=False, feat_point=False, feat_tensor=False, feat_influenc=False, feat_seri=False, feat_variat=True, feat_high=True, feat_convolut=False, feat_integr=True, feat_multiview=False, feat_decis=True, feat_microblog=False, feat_entiti=True, feat_trajectori=True, feat_sequenti=True, feat_decomposit=False, feat_rate=False, feat_consist=False, feat_shape=False, feat_collect=True, feat_class=False, feat_propag=True, feat_polici=False, feat_sentiment=True, feat_partial=False, feat_mobil=False, feat_field=False, feat_pose=False, feat_binari=True, feat_uncertainti=True, feat_behavior=False, feat_continu=False, feat_new=False, feat_automat=False, feat_spatiotempor=False, feat_crowdsourc=False),\n Row(venue_id=11, feat_learn=True, feat_model=True, feat_data=True, feat_network=True, feat_use=True, feat_detect=True, feat_imag=False, feat_optim=False, feat_via=True, feat_social=True, feat_graph=True, feat_effici=True, feat_cluster=True, feat_classif=False, feat_predict=True, feat_search=True, feat_base=True, feat_analysi=True, feat_queri=True, feat_algorithm=True, feat_featur=False, feat_approach=True, feat_estim=True, feat_structur=True, feat_mine=True, feat_spars=False, feat_onlin=True, feat_inform=False, feat_object=True, feat_select=False, feat_multipl=False, feat_recommend=False, feat_process=True, feat_infer=True, feat_system=True, feat_deep=False, feat_represent=False, feat_pattern=True, feat_robust=False, feat_recognit=False, feat_fast=True, feat_local=False, feat_activ=False, feat_adapt=True, feat_bayesian=False, feat_rank=True, feat_applic=True, feat_distribut=True, feat_kernel=True, feat_dynam=True, feat_factor=False, feat_label=False, feat_topic=True, feat_probabilist=True, feat_matrix=False, feat_framework=True, feat_match=True, feat_approxim=False, feat_method=True, feat_semant=False, feat_stream=True, feat_user=False, feat_visual=True, feat_general=False, feat_retriev=False, feat_neural=False, feat_video=False, feat_segment=False, feat_stochast=False, feat_plan=True, feat_linear=False, feat_time=True, feat_sampl=False, feat_regular=False, feat_problem=False, feat_scalabl=True, feat_comput=True, feat_relat=True, feat_hierarch=True, feat_regress=False, feat_larg=True, feat_track=False, feat_random=False, feat_largescal=True, feat_knowledg=True, feat_evalu=True, feat_transfer=False, feat_generat=True, feat_tempor=True, feat_constraint=True, feat_discrimin=False, feat_filter=False, feat_similar=True, feat_embed=False, feat_game=False, feat_discoveri=True, feat_action=True, feat_event=True, feat_multilabel=False, feat_interact=True, feat_function=False, feat_minim=False, feat_hash=False, feat_complex=True, feat_domain=True, feat_human=False, feat_extract=True, feat_effect=False, feat_improv=False, feat_logic=False, feat_web=True, feat_toward=True, feat_heterogen=True, feat_explor=True, feat_machin=False, feat_supervis=True, feat_media=True, feat_latent=False, feat_unsupervis=False, feat_person=True, feat_joint=False, feat_metric=True, feat_space=False, feat_program=False, feat_tree=True, feat_attribut=True, feat_code=False, feat_semisupervis=False, feat_databas=True, feat_subspac=False, feat_markov=True, feat_bandit=False, feat_prefer=False, feat_bound=False, feat_collabor=False, feat_gradient=False, feat_set=True, feat_group=False, feat_communiti=False, feat_scene=False, feat_face=False, feat_text=True, feat_spectral=False, feat_nonparametr=False, feat_document=True, feat_multitask=False, feat_answer=False, feat_exploit=True, feat_spatial=True, feat_classifi=False, feat_rule=False, feat_topk=True, feat_map=True, feat_gaussian=False, feat_find=True, feat_manifold=False, feat_weight=False, feat_complet=True, feat_statist=True, feat_measur=True, feat_correl=True, feat_reinforc=False, feat_convex=False, feat_parallel=True, feat_maxim=False, feat_point=False, feat_tensor=False, feat_influenc=False, feat_seri=False, feat_variat=False, feat_high=True, feat_convolut=False, feat_integr=True, feat_multiview=False, feat_decis=False, feat_microblog=True, feat_entiti=True, feat_trajectori=True, feat_sequenti=False, feat_decomposit=True, feat_rate=False, feat_consist=True, feat_shape=False, feat_collect=True, feat_class=False, feat_propag=False, feat_polici=False, feat_sentiment=False, feat_partial=False, feat_mobil=False, feat_field=False, feat_pose=False, feat_binari=False, feat_uncertainti=False, feat_behavior=False, feat_continu=False, feat_new=False, feat_automat=True, feat_spatiotempor=True, feat_crowdsourc=True),\n Row(venue_id=2, feat_learn=True, feat_model=True, feat_data=True, feat_network=True, feat_use=True, feat_detect=True, feat_imag=False, feat_optim=True, feat_via=True, feat_social=True, feat_graph=True, feat_effici=True, feat_cluster=True, feat_classif=True, feat_predict=False, feat_search=True, feat_base=True, feat_analysi=False, feat_queri=True, feat_algorithm=True, feat_featur=True, feat_approach=True, feat_estim=True, feat_structur=False, feat_mine=False, feat_spars=False, feat_onlin=False, feat_inform=True, feat_object=True, feat_select=False, feat_multipl=False, feat_recommend=True, feat_process=True, feat_infer=True, feat_system=True, feat_deep=False, feat_represent=False, feat_pattern=True, feat_robust=False, feat_recognit=False, feat_fast=False, feat_local=False, feat_activ=False, feat_adapt=False, feat_bayesian=True, feat_rank=True, feat_applic=True, feat_distribut=False, feat_kernel=False, feat_dynam=True, feat_factor=True, feat_label=True, feat_topic=False, feat_probabilist=True, feat_matrix=True, feat_framework=True, feat_match=True, feat_approxim=True, feat_method=True, feat_semant=False, feat_stream=True, feat_user=True, feat_visual=False, feat_general=True, feat_retriev=False, feat_neural=False, feat_video=False, feat_segment=False, feat_stochast=False, feat_plan=True, feat_linear=False, feat_time=True, feat_sampl=True, feat_regular=False, feat_problem=False, feat_scalabl=True, feat_comput=False, feat_relat=True, feat_hierarch=True, feat_regress=False, feat_larg=False, feat_track=True, feat_random=False, feat_largescal=False, feat_knowledg=False, feat_evalu=True, feat_transfer=False, feat_generat=True, feat_tempor=False, feat_constraint=False, feat_discrimin=True, feat_filter=False, feat_similar=False, feat_embed=False, feat_game=False, feat_discoveri=False, feat_action=False, feat_event=True, feat_multilabel=False, feat_interact=False, feat_function=True, feat_minim=False, feat_hash=False, feat_complex=False, feat_domain=False, feat_human=False, feat_extract=False, feat_effect=True, feat_improv=False, feat_logic=True, feat_web=False, feat_toward=True, feat_heterogen=True, feat_explor=False, feat_machin=True, feat_supervis=False, feat_media=True, feat_latent=False, feat_unsupervis=True, feat_person=True, feat_joint=False, feat_metric=True, feat_space=True, feat_program=True, feat_tree=False, feat_attribut=True, feat_code=False, feat_semisupervis=True, feat_databas=False, feat_subspac=False, feat_markov=True, feat_bandit=False, feat_prefer=True, feat_bound=True, feat_collabor=False, feat_gradient=False, feat_set=False, feat_group=True, feat_communiti=False, feat_scene=False, feat_face=False, feat_text=True, feat_spectral=False, feat_nonparametr=False, feat_document=True, feat_multitask=False, feat_answer=False, feat_exploit=True, feat_spatial=True, feat_classifi=True, feat_rule=False, feat_topk=False, feat_map=False, feat_gaussian=False, feat_find=False, feat_manifold=False, feat_weight=True, feat_complet=False, feat_statist=False, feat_measur=False, feat_correl=True, feat_reinforc=False, feat_convex=False, feat_parallel=False, feat_maxim=True, feat_point=False, feat_tensor=False, feat_influenc=True, feat_seri=False, feat_variat=False, feat_high=False, feat_convolut=False, feat_integr=True, feat_multiview=False, feat_decis=True, feat_microblog=False, feat_entiti=False, feat_trajectori=False, feat_sequenti=True, feat_decomposit=False, feat_rate=True, feat_consist=True, feat_shape=False, feat_collect=False, feat_class=False, feat_propag=True, feat_polici=False, feat_sentiment=False, feat_partial=False, feat_mobil=False, feat_field=False, feat_pose=False, feat_binari=False, feat_uncertainti=False, feat_behavior=False, feat_continu=True, feat_new=True, feat_automat=True, feat_spatiotempor=False, feat_crowdsourc=False)]"
     },
     "execution_count": 20,
     "metadata": {},
     "output_type": "execute_result"
    }
   ],
   "source": [
    "df_node_venue_feats = (\n",
    "    df_node_venue_keywords.select(['venue_id'] + [\n",
    "        F.array_contains('keywords', F.lit(k)).alias('feat_' + str(k))\n",
    "        for k in top_keywords\n",
    "    ])\n",
    ")\n",
    "df_node_venue_feats.head(5)"
   ],
   "metadata": {
    "collapsed": false,
    "pycharm": {
     "name": "#%%\n"
    }
   }
  },
  {
   "cell_type": "code",
   "execution_count": 21,
   "outputs": [
    {
     "data": {
      "text/plain": "[Row(name='aaai', id=0, feat_learn=True, feat_model=True, feat_data=True, feat_network=True, feat_use=True, feat_detect=True, feat_imag=True, feat_optim=True, feat_via=True, feat_social=True, feat_graph=True, feat_effici=True, feat_cluster=True, feat_classif=True, feat_predict=True, feat_search=True, feat_base=True, feat_analysi=True, feat_queri=True, feat_algorithm=True, feat_featur=True, feat_approach=True, feat_estim=True, feat_structur=True, feat_mine=True, feat_spars=True, feat_onlin=True, feat_inform=True, feat_object=True, feat_select=True, feat_multipl=True, feat_recommend=True, feat_process=True, feat_infer=True, feat_system=True, feat_deep=True, feat_represent=True, feat_pattern=True, feat_robust=True, feat_recognit=True, feat_fast=True, feat_local=True, feat_activ=True, feat_adapt=True, feat_bayesian=True, feat_rank=True, feat_applic=True, feat_distribut=True, feat_kernel=True, feat_dynam=True, feat_factor=True, feat_label=True, feat_topic=True, feat_probabilist=True, feat_matrix=True, feat_framework=True, feat_match=True, feat_approxim=True, feat_method=True, feat_semant=True, feat_stream=True, feat_user=True, feat_visual=True, feat_general=True, feat_retriev=True, feat_neural=True, feat_video=True, feat_segment=True, feat_stochast=True, feat_plan=True, feat_linear=True, feat_time=True, feat_sampl=True, feat_regular=True, feat_problem=True, feat_scalabl=True, feat_comput=True, feat_relat=True, feat_hierarch=True, feat_regress=True, feat_larg=True, feat_track=True, feat_random=True, feat_largescal=True, feat_knowledg=True, feat_evalu=True, feat_transfer=True, feat_generat=True, feat_tempor=True, feat_constraint=True, feat_discrimin=True, feat_filter=True, feat_similar=True, feat_embed=True, feat_game=True, feat_discoveri=True, feat_action=True, feat_event=True, feat_multilabel=True, feat_interact=True, feat_function=True, feat_minim=True, feat_hash=True, feat_complex=True, feat_domain=True, feat_human=True, feat_extract=True, feat_effect=True, feat_improv=True, feat_logic=True, feat_web=True, feat_toward=True, feat_heterogen=True, feat_explor=True, feat_machin=True, feat_supervis=True, feat_media=True, feat_latent=True, feat_unsupervis=True, feat_person=True, feat_joint=True, feat_metric=True, feat_space=True, feat_program=True, feat_tree=True, feat_attribut=True, feat_code=True, feat_semisupervis=True, feat_databas=False, feat_subspac=True, feat_markov=True, feat_bandit=True, feat_prefer=True, feat_bound=True, feat_collabor=True, feat_gradient=True, feat_set=True, feat_group=True, feat_communiti=True, feat_scene=False, feat_face=False, feat_text=True, feat_spectral=True, feat_nonparametr=True, feat_document=True, feat_multitask=True, feat_answer=True, feat_exploit=True, feat_spatial=True, feat_classifi=False, feat_rule=True, feat_topk=False, feat_map=True, feat_gaussian=True, feat_find=True, feat_manifold=True, feat_weight=True, feat_complet=True, feat_statist=True, feat_measur=True, feat_correl=True, feat_reinforc=True, feat_convex=True, feat_parallel=True, feat_maxim=True, feat_point=True, feat_tensor=True, feat_influenc=True, feat_seri=True, feat_variat=True, feat_high=True, feat_convolut=True, feat_integr=True, feat_multiview=True, feat_decis=True, feat_microblog=True, feat_entiti=True, feat_trajectori=False, feat_sequenti=True, feat_decomposit=True, feat_rate=True, feat_consist=True, feat_shape=True, feat_collect=True, feat_class=True, feat_propag=True, feat_polici=True, feat_sentiment=True, feat_partial=True, feat_mobil=True, feat_field=False, feat_pose=True, feat_binari=True, feat_uncertainti=True, feat_behavior=True, feat_continu=True, feat_new=True, feat_automat=True, feat_spatiotempor=True, feat_crowdsourc=True),\n Row(name='cvpr', id=1, feat_learn=True, feat_model=True, feat_data=True, feat_network=True, feat_use=True, feat_detect=True, feat_imag=True, feat_optim=True, feat_via=True, feat_social=True, feat_graph=True, feat_effici=True, feat_cluster=True, feat_classif=True, feat_predict=True, feat_search=True, feat_base=True, feat_analysi=True, feat_queri=True, feat_algorithm=True, feat_featur=True, feat_approach=True, feat_estim=True, feat_structur=True, feat_mine=True, feat_spars=True, feat_onlin=True, feat_inform=True, feat_object=True, feat_select=True, feat_multipl=True, feat_recommend=True, feat_process=True, feat_infer=True, feat_system=True, feat_deep=True, feat_represent=True, feat_pattern=True, feat_robust=True, feat_recognit=True, feat_fast=True, feat_local=True, feat_activ=True, feat_adapt=True, feat_bayesian=True, feat_rank=True, feat_applic=True, feat_distribut=True, feat_kernel=True, feat_dynam=True, feat_factor=True, feat_label=True, feat_topic=True, feat_probabilist=True, feat_matrix=True, feat_framework=True, feat_match=True, feat_approxim=True, feat_method=True, feat_semant=True, feat_stream=True, feat_user=True, feat_visual=True, feat_general=True, feat_retriev=True, feat_neural=True, feat_video=False, feat_segment=True, feat_stochast=True, feat_plan=True, feat_linear=True, feat_time=True, feat_sampl=True, feat_regular=True, feat_problem=True, feat_scalabl=True, feat_comput=True, feat_relat=True, feat_hierarch=True, feat_regress=True, feat_larg=True, feat_track=False, feat_random=True, feat_largescal=True, feat_knowledg=True, feat_evalu=True, feat_transfer=True, feat_generat=True, feat_tempor=True, feat_constraint=True, feat_discrimin=True, feat_filter=True, feat_similar=True, feat_embed=True, feat_game=False, feat_discoveri=True, feat_action=False, feat_event=True, feat_multilabel=True, feat_interact=True, feat_function=True, feat_minim=True, feat_hash=True, feat_complex=True, feat_domain=True, feat_human=False, feat_extract=True, feat_effect=True, feat_improv=True, feat_logic=False, feat_web=False, feat_toward=False, feat_heterogen=True, feat_explor=True, feat_machin=True, feat_supervis=True, feat_media=True, feat_latent=True, feat_unsupervis=True, feat_person=False, feat_joint=True, feat_metric=True, feat_space=True, feat_program=True, feat_tree=True, feat_attribut=True, feat_code=True, feat_semisupervis=True, feat_databas=True, feat_subspac=True, feat_markov=False, feat_bandit=True, feat_prefer=True, feat_bound=True, feat_collabor=False, feat_gradient=True, feat_set=True, feat_group=True, feat_communiti=True, feat_scene=False, feat_face=False, feat_text=True, feat_spectral=True, feat_nonparametr=True, feat_document=True, feat_multitask=True, feat_answer=True, feat_exploit=True, feat_spatial=True, feat_classifi=True, feat_rule=True, feat_topk=True, feat_map=True, feat_gaussian=True, feat_find=True, feat_manifold=True, feat_weight=True, feat_complet=False, feat_statist=True, feat_measur=True, feat_correl=True, feat_reinforc=True, feat_convex=True, feat_parallel=True, feat_maxim=True, feat_point=True, feat_tensor=True, feat_influenc=True, feat_seri=True, feat_variat=False, feat_high=False, feat_convolut=False, feat_integr=True, feat_multiview=False, feat_decis=True, feat_microblog=True, feat_entiti=True, feat_trajectori=True, feat_sequenti=True, feat_decomposit=True, feat_rate=False, feat_consist=True, feat_shape=False, feat_collect=True, feat_class=True, feat_propag=False, feat_polici=True, feat_sentiment=True, feat_partial=True, feat_mobil=True, feat_field=False, feat_pose=False, feat_binari=True, feat_uncertainti=False, feat_behavior=False, feat_continu=True, feat_new=True, feat_automat=True, feat_spatiotempor=True, feat_crowdsourc=False),\n Row(name='dasfaa', id=2, feat_learn=True, feat_model=True, feat_data=True, feat_network=True, feat_use=True, feat_detect=True, feat_imag=False, feat_optim=True, feat_via=True, feat_social=True, feat_graph=True, feat_effici=True, feat_cluster=True, feat_classif=True, feat_predict=False, feat_search=True, feat_base=True, feat_analysi=False, feat_queri=True, feat_algorithm=True, feat_featur=True, feat_approach=True, feat_estim=True, feat_structur=False, feat_mine=False, feat_spars=False, feat_onlin=False, feat_inform=True, feat_object=True, feat_select=False, feat_multipl=False, feat_recommend=True, feat_process=True, feat_infer=True, feat_system=True, feat_deep=False, feat_represent=False, feat_pattern=True, feat_robust=False, feat_recognit=False, feat_fast=False, feat_local=False, feat_activ=False, feat_adapt=False, feat_bayesian=True, feat_rank=True, feat_applic=True, feat_distribut=False, feat_kernel=False, feat_dynam=True, feat_factor=True, feat_label=True, feat_topic=False, feat_probabilist=True, feat_matrix=True, feat_framework=True, feat_match=True, feat_approxim=True, feat_method=True, feat_semant=False, feat_stream=True, feat_user=True, feat_visual=False, feat_general=True, feat_retriev=False, feat_neural=False, feat_video=False, feat_segment=False, feat_stochast=False, feat_plan=True, feat_linear=False, feat_time=True, feat_sampl=True, feat_regular=False, feat_problem=False, feat_scalabl=True, feat_comput=False, feat_relat=True, feat_hierarch=True, feat_regress=False, feat_larg=False, feat_track=True, feat_random=False, feat_largescal=False, feat_knowledg=False, feat_evalu=True, feat_transfer=False, feat_generat=True, feat_tempor=False, feat_constraint=False, feat_discrimin=True, feat_filter=False, feat_similar=False, feat_embed=False, feat_game=False, feat_discoveri=False, feat_action=False, feat_event=True, feat_multilabel=False, feat_interact=False, feat_function=True, feat_minim=False, feat_hash=False, feat_complex=False, feat_domain=False, feat_human=False, feat_extract=False, feat_effect=True, feat_improv=False, feat_logic=True, feat_web=False, feat_toward=True, feat_heterogen=True, feat_explor=False, feat_machin=True, feat_supervis=False, feat_media=True, feat_latent=False, feat_unsupervis=True, feat_person=True, feat_joint=False, feat_metric=True, feat_space=True, feat_program=True, feat_tree=False, feat_attribut=True, feat_code=False, feat_semisupervis=True, feat_databas=False, feat_subspac=False, feat_markov=True, feat_bandit=False, feat_prefer=True, feat_bound=True, feat_collabor=False, feat_gradient=False, feat_set=False, feat_group=True, feat_communiti=False, feat_scene=False, feat_face=False, feat_text=True, feat_spectral=False, feat_nonparametr=False, feat_document=True, feat_multitask=False, feat_answer=False, feat_exploit=True, feat_spatial=True, feat_classifi=True, feat_rule=False, feat_topk=False, feat_map=False, feat_gaussian=False, feat_find=False, feat_manifold=False, feat_weight=True, feat_complet=False, feat_statist=False, feat_measur=False, feat_correl=True, feat_reinforc=False, feat_convex=False, feat_parallel=False, feat_maxim=True, feat_point=False, feat_tensor=False, feat_influenc=True, feat_seri=False, feat_variat=False, feat_high=False, feat_convolut=False, feat_integr=True, feat_multiview=False, feat_decis=True, feat_microblog=False, feat_entiti=False, feat_trajectori=False, feat_sequenti=True, feat_decomposit=False, feat_rate=True, feat_consist=True, feat_shape=False, feat_collect=False, feat_class=False, feat_propag=True, feat_polici=False, feat_sentiment=False, feat_partial=False, feat_mobil=False, feat_field=False, feat_pose=False, feat_binari=False, feat_uncertainti=False, feat_behavior=False, feat_continu=True, feat_new=True, feat_automat=True, feat_spatiotempor=False, feat_crowdsourc=False),\n Row(name='ecir', id=3, feat_learn=False, feat_model=False, feat_data=False, feat_network=False, feat_use=False, feat_detect=False, feat_imag=False, feat_optim=False, feat_via=False, feat_social=False, feat_graph=False, feat_effici=False, feat_cluster=False, feat_classif=False, feat_predict=False, feat_search=False, feat_base=False, feat_analysi=False, feat_queri=False, feat_algorithm=False, feat_featur=False, feat_approach=False, feat_estim=False, feat_structur=False, feat_mine=False, feat_spars=False, feat_onlin=False, feat_inform=False, feat_object=False, feat_select=False, feat_multipl=False, feat_recommend=False, feat_process=False, feat_infer=False, feat_system=False, feat_deep=False, feat_represent=False, feat_pattern=False, feat_robust=False, feat_recognit=False, feat_fast=False, feat_local=False, feat_activ=False, feat_adapt=False, feat_bayesian=False, feat_rank=False, feat_applic=False, feat_distribut=False, feat_kernel=False, feat_dynam=False, feat_factor=False, feat_label=False, feat_topic=False, feat_probabilist=False, feat_matrix=False, feat_framework=False, feat_match=False, feat_approxim=False, feat_method=False, feat_semant=False, feat_stream=False, feat_user=False, feat_visual=False, feat_general=False, feat_retriev=False, feat_neural=False, feat_video=False, feat_segment=False, feat_stochast=False, feat_plan=False, feat_linear=False, feat_time=False, feat_sampl=False, feat_regular=False, feat_problem=False, feat_scalabl=False, feat_comput=False, feat_relat=False, feat_hierarch=False, feat_regress=False, feat_larg=False, feat_track=False, feat_random=False, feat_largescal=False, feat_knowledg=False, feat_evalu=False, feat_transfer=False, feat_generat=False, feat_tempor=False, feat_constraint=False, feat_discrimin=False, feat_filter=False, feat_similar=False, feat_embed=False, feat_game=False, feat_discoveri=False, feat_action=False, feat_event=False, feat_multilabel=False, feat_interact=False, feat_function=False, feat_minim=False, feat_hash=False, feat_complex=False, feat_domain=False, feat_human=False, feat_extract=False, feat_effect=False, feat_improv=False, feat_logic=False, feat_web=False, feat_toward=False, feat_heterogen=False, feat_explor=False, feat_machin=False, feat_supervis=False, feat_media=False, feat_latent=False, feat_unsupervis=False, feat_person=False, feat_joint=False, feat_metric=False, feat_space=False, feat_program=False, feat_tree=False, feat_attribut=False, feat_code=False, feat_semisupervis=False, feat_databas=False, feat_subspac=False, feat_markov=False, feat_bandit=False, feat_prefer=False, feat_bound=False, feat_collabor=False, feat_gradient=False, feat_set=False, feat_group=False, feat_communiti=False, feat_scene=False, feat_face=False, feat_text=False, feat_spectral=False, feat_nonparametr=False, feat_document=False, feat_multitask=False, feat_answer=False, feat_exploit=False, feat_spatial=False, feat_classifi=False, feat_rule=False, feat_topk=False, feat_map=False, feat_gaussian=False, feat_find=False, feat_manifold=False, feat_weight=False, feat_complet=False, feat_statist=False, feat_measur=False, feat_correl=False, feat_reinforc=False, feat_convex=False, feat_parallel=False, feat_maxim=False, feat_point=False, feat_tensor=False, feat_influenc=False, feat_seri=False, feat_variat=False, feat_high=False, feat_convolut=False, feat_integr=False, feat_multiview=False, feat_decis=False, feat_microblog=False, feat_entiti=False, feat_trajectori=False, feat_sequenti=False, feat_decomposit=False, feat_rate=False, feat_consist=False, feat_shape=False, feat_collect=False, feat_class=False, feat_propag=False, feat_polici=False, feat_sentiment=False, feat_partial=False, feat_mobil=False, feat_field=False, feat_pose=False, feat_binari=False, feat_uncertainti=False, feat_behavior=False, feat_continu=False, feat_new=False, feat_automat=False, feat_spatiotempor=False, feat_crowdsourc=False),\n Row(name='icde', id=4, feat_learn=True, feat_model=True, feat_data=True, feat_network=True, feat_use=True, feat_detect=True, feat_imag=True, feat_optim=True, feat_via=True, feat_social=True, feat_graph=True, feat_effici=True, feat_cluster=True, feat_classif=True, feat_predict=True, feat_search=True, feat_base=True, feat_analysi=True, feat_queri=True, feat_algorithm=True, feat_featur=True, feat_approach=True, feat_estim=True, feat_structur=True, feat_mine=True, feat_spars=True, feat_onlin=True, feat_inform=True, feat_object=True, feat_select=True, feat_multipl=True, feat_recommend=True, feat_process=True, feat_infer=True, feat_system=True, feat_deep=True, feat_represent=True, feat_pattern=True, feat_robust=True, feat_recognit=True, feat_fast=False, feat_local=True, feat_activ=True, feat_adapt=True, feat_bayesian=True, feat_rank=True, feat_applic=True, feat_distribut=True, feat_kernel=True, feat_dynam=True, feat_factor=False, feat_label=True, feat_topic=True, feat_probabilist=True, feat_matrix=False, feat_framework=True, feat_match=True, feat_approxim=True, feat_method=True, feat_semant=True, feat_stream=True, feat_user=True, feat_visual=False, feat_general=True, feat_retriev=True, feat_neural=True, feat_video=True, feat_segment=True, feat_stochast=True, feat_plan=True, feat_linear=True, feat_time=False, feat_sampl=True, feat_regular=False, feat_problem=True, feat_scalabl=True, feat_comput=True, feat_relat=True, feat_hierarch=True, feat_regress=False, feat_larg=True, feat_track=True, feat_random=True, feat_largescal=True, feat_knowledg=True, feat_evalu=True, feat_transfer=True, feat_generat=False, feat_tempor=True, feat_constraint=True, feat_discrimin=False, feat_filter=False, feat_similar=True, feat_embed=True, feat_game=True, feat_discoveri=True, feat_action=True, feat_event=True, feat_multilabel=True, feat_interact=True, feat_function=False, feat_minim=False, feat_hash=False, feat_complex=True, feat_domain=True, feat_human=True, feat_extract=True, feat_effect=True, feat_improv=True, feat_logic=True, feat_web=True, feat_toward=True, feat_heterogen=False, feat_explor=True, feat_machin=True, feat_supervis=True, feat_media=True, feat_latent=True, feat_unsupervis=True, feat_person=True, feat_joint=True, feat_metric=True, feat_space=False, feat_program=True, feat_tree=False, feat_attribut=True, feat_code=True, feat_semisupervis=False, feat_databas=True, feat_subspac=False, feat_markov=False, feat_bandit=True, feat_prefer=True, feat_bound=True, feat_collabor=True, feat_gradient=False, feat_set=True, feat_group=True, feat_communiti=False, feat_scene=False, feat_face=True, feat_text=True, feat_spectral=True, feat_nonparametr=True, feat_document=False, feat_multitask=True, feat_answer=True, feat_exploit=True, feat_spatial=True, feat_classifi=False, feat_rule=True, feat_topk=True, feat_map=True, feat_gaussian=True, feat_find=True, feat_manifold=True, feat_weight=False, feat_complet=True, feat_statist=True, feat_measur=False, feat_correl=True, feat_reinforc=True, feat_convex=True, feat_parallel=True, feat_maxim=True, feat_point=True, feat_tensor=True, feat_influenc=True, feat_seri=True, feat_variat=True, feat_high=True, feat_convolut=False, feat_integr=True, feat_multiview=False, feat_decis=True, feat_microblog=True, feat_entiti=True, feat_trajectori=True, feat_sequenti=True, feat_decomposit=True, feat_rate=True, feat_consist=True, feat_shape=False, feat_collect=True, feat_class=True, feat_propag=False, feat_polici=True, feat_sentiment=True, feat_partial=True, feat_mobil=False, feat_field=False, feat_pose=False, feat_binari=False, feat_uncertainti=True, feat_behavior=True, feat_continu=True, feat_new=True, feat_automat=True, feat_spatiotempor=False, feat_crowdsourc=True)]"
     },
     "execution_count": 21,
     "metadata": {},
     "output_type": "execute_result"
    }
   ],
   "source": [
    "df_nodes_venues_new = df_nodes_venues.join(\n",
    "    df_node_venue_feats,\n",
    "    F.col('id') == F.col('venue_id'),\n",
    "    'left'\n",
    ").drop('venue_id').sort('id')\n",
    "\n",
    "df_nodes_venues_new.head(5)"
   ],
   "metadata": {
    "collapsed": false,
    "pycharm": {
     "name": "#%%\n"
    }
   }
  },
  {
   "cell_type": "markdown",
   "source": [
    "## Save data"
   ],
   "metadata": {
    "collapsed": false,
    "pycharm": {
     "name": "#%% md\n"
    }
   }
  },
  {
   "cell_type": "code",
   "execution_count": 22,
   "outputs": [
    {
     "name": "stderr",
     "output_type": "stream",
     "text": [
      "                                                                                \r"
     ]
    }
   ],
   "source": [
    "df_nodes_authors_new.write.parquet(DATASET.processed_str('nodes_Author'), mode='overwrite')\n",
    "df_nodes_venues_new.write.parquet(DATASET.processed_str('nodes_Venue'), mode='overwrite')\n",
    "df_nodes_papers.write.parquet(DATASET.processed_str('nodes_Paper'), mode='overwrite')\n",
    "\n",
    "df_edges_authored.write.parquet(DATASET.processed_str('edges_AUTHORED'), mode='overwrite')\n",
    "df_edges_published_in.write.parquet(DATASET.processed_str('edges_PUBLISHED_IN'), mode='overwrite')"
   ],
   "metadata": {
    "collapsed": false,
    "pycharm": {
     "name": "#%%\n"
    }
   }
  },
  {
   "cell_type": "code",
   "execution_count": 23,
   "outputs": [
    {
     "data": {
      "text/plain": "GraphSchema(_path=PosixPath('/data/pella/projects/University/Thesis/Thesis/code/storage/datasets/processed/DBLP-HCN'), nodes={'Author': NodeSchema(_type='Author', _schema=..., label='name', properties={'name': GraphProperty(_name='name', dtype=DType(atomic=<DTypeAtomic.STRING: 'string'>, array=False)), 'id': GraphProperty(_name='id', dtype=DType(atomic=<DTypeAtomic.INT: 'int'>, array=False)), 'feat_learn': GraphProperty(_name='feat_learn', dtype=DType(atomic=<DTypeAtomic.BOOL: 'boolean'>, array=False)), 'feat_model': GraphProperty(_name='feat_model', dtype=DType(atomic=<DTypeAtomic.BOOL: 'boolean'>, array=False)), 'feat_data': GraphProperty(_name='feat_data', dtype=DType(atomic=<DTypeAtomic.BOOL: 'boolean'>, array=False)), 'feat_network': GraphProperty(_name='feat_network', dtype=DType(atomic=<DTypeAtomic.BOOL: 'boolean'>, array=False)), 'feat_use': GraphProperty(_name='feat_use', dtype=DType(atomic=<DTypeAtomic.BOOL: 'boolean'>, array=False)), 'feat_detect': GraphProperty(_name='feat_detect', dtype=DType(atomic=<DTypeAtomic.BOOL: 'boolean'>, array=False)), 'feat_imag': GraphProperty(_name='feat_imag', dtype=DType(atomic=<DTypeAtomic.BOOL: 'boolean'>, array=False)), 'feat_optim': GraphProperty(_name='feat_optim', dtype=DType(atomic=<DTypeAtomic.BOOL: 'boolean'>, array=False)), 'feat_via': GraphProperty(_name='feat_via', dtype=DType(atomic=<DTypeAtomic.BOOL: 'boolean'>, array=False)), 'feat_social': GraphProperty(_name='feat_social', dtype=DType(atomic=<DTypeAtomic.BOOL: 'boolean'>, array=False)), 'feat_graph': GraphProperty(_name='feat_graph', dtype=DType(atomic=<DTypeAtomic.BOOL: 'boolean'>, array=False)), 'feat_effici': GraphProperty(_name='feat_effici', dtype=DType(atomic=<DTypeAtomic.BOOL: 'boolean'>, array=False)), 'feat_cluster': GraphProperty(_name='feat_cluster', dtype=DType(atomic=<DTypeAtomic.BOOL: 'boolean'>, array=False)), 'feat_classif': GraphProperty(_name='feat_classif', dtype=DType(atomic=<DTypeAtomic.BOOL: 'boolean'>, array=False)), 'feat_predict': GraphProperty(_name='feat_predict', dtype=DType(atomic=<DTypeAtomic.BOOL: 'boolean'>, array=False)), 'feat_search': GraphProperty(_name='feat_search', dtype=DType(atomic=<DTypeAtomic.BOOL: 'boolean'>, array=False)), 'feat_base': GraphProperty(_name='feat_base', dtype=DType(atomic=<DTypeAtomic.BOOL: 'boolean'>, array=False)), 'feat_analysi': GraphProperty(_name='feat_analysi', dtype=DType(atomic=<DTypeAtomic.BOOL: 'boolean'>, array=False)), 'feat_queri': GraphProperty(_name='feat_queri', dtype=DType(atomic=<DTypeAtomic.BOOL: 'boolean'>, array=False)), 'feat_algorithm': GraphProperty(_name='feat_algorithm', dtype=DType(atomic=<DTypeAtomic.BOOL: 'boolean'>, array=False)), 'feat_featur': GraphProperty(_name='feat_featur', dtype=DType(atomic=<DTypeAtomic.BOOL: 'boolean'>, array=False)), 'feat_approach': GraphProperty(_name='feat_approach', dtype=DType(atomic=<DTypeAtomic.BOOL: 'boolean'>, array=False)), 'feat_estim': GraphProperty(_name='feat_estim', dtype=DType(atomic=<DTypeAtomic.BOOL: 'boolean'>, array=False)), 'feat_structur': GraphProperty(_name='feat_structur', dtype=DType(atomic=<DTypeAtomic.BOOL: 'boolean'>, array=False)), 'feat_mine': GraphProperty(_name='feat_mine', dtype=DType(atomic=<DTypeAtomic.BOOL: 'boolean'>, array=False)), 'feat_spars': GraphProperty(_name='feat_spars', dtype=DType(atomic=<DTypeAtomic.BOOL: 'boolean'>, array=False)), 'feat_onlin': GraphProperty(_name='feat_onlin', dtype=DType(atomic=<DTypeAtomic.BOOL: 'boolean'>, array=False)), 'feat_inform': GraphProperty(_name='feat_inform', dtype=DType(atomic=<DTypeAtomic.BOOL: 'boolean'>, array=False)), 'feat_object': GraphProperty(_name='feat_object', dtype=DType(atomic=<DTypeAtomic.BOOL: 'boolean'>, array=False)), 'feat_select': GraphProperty(_name='feat_select', dtype=DType(atomic=<DTypeAtomic.BOOL: 'boolean'>, array=False)), 'feat_multipl': GraphProperty(_name='feat_multipl', dtype=DType(atomic=<DTypeAtomic.BOOL: 'boolean'>, array=False)), 'feat_recommend': GraphProperty(_name='feat_recommend', dtype=DType(atomic=<DTypeAtomic.BOOL: 'boolean'>, array=False)), 'feat_process': GraphProperty(_name='feat_process', dtype=DType(atomic=<DTypeAtomic.BOOL: 'boolean'>, array=False)), 'feat_infer': GraphProperty(_name='feat_infer', dtype=DType(atomic=<DTypeAtomic.BOOL: 'boolean'>, array=False)), 'feat_system': GraphProperty(_name='feat_system', dtype=DType(atomic=<DTypeAtomic.BOOL: 'boolean'>, array=False)), 'feat_deep': GraphProperty(_name='feat_deep', dtype=DType(atomic=<DTypeAtomic.BOOL: 'boolean'>, array=False)), 'feat_represent': GraphProperty(_name='feat_represent', dtype=DType(atomic=<DTypeAtomic.BOOL: 'boolean'>, array=False)), 'feat_pattern': GraphProperty(_name='feat_pattern', dtype=DType(atomic=<DTypeAtomic.BOOL: 'boolean'>, array=False)), 'feat_robust': GraphProperty(_name='feat_robust', dtype=DType(atomic=<DTypeAtomic.BOOL: 'boolean'>, array=False)), 'feat_recognit': GraphProperty(_name='feat_recognit', dtype=DType(atomic=<DTypeAtomic.BOOL: 'boolean'>, array=False)), 'feat_fast': GraphProperty(_name='feat_fast', dtype=DType(atomic=<DTypeAtomic.BOOL: 'boolean'>, array=False)), 'feat_local': GraphProperty(_name='feat_local', dtype=DType(atomic=<DTypeAtomic.BOOL: 'boolean'>, array=False)), 'feat_activ': GraphProperty(_name='feat_activ', dtype=DType(atomic=<DTypeAtomic.BOOL: 'boolean'>, array=False)), 'feat_adapt': GraphProperty(_name='feat_adapt', dtype=DType(atomic=<DTypeAtomic.BOOL: 'boolean'>, array=False)), 'feat_bayesian': GraphProperty(_name='feat_bayesian', dtype=DType(atomic=<DTypeAtomic.BOOL: 'boolean'>, array=False)), 'feat_rank': GraphProperty(_name='feat_rank', dtype=DType(atomic=<DTypeAtomic.BOOL: 'boolean'>, array=False)), 'feat_applic': GraphProperty(_name='feat_applic', dtype=DType(atomic=<DTypeAtomic.BOOL: 'boolean'>, array=False)), 'feat_distribut': GraphProperty(_name='feat_distribut', dtype=DType(atomic=<DTypeAtomic.BOOL: 'boolean'>, array=False)), 'feat_kernel': GraphProperty(_name='feat_kernel', dtype=DType(atomic=<DTypeAtomic.BOOL: 'boolean'>, array=False)), 'feat_dynam': GraphProperty(_name='feat_dynam', dtype=DType(atomic=<DTypeAtomic.BOOL: 'boolean'>, array=False)), 'feat_factor': GraphProperty(_name='feat_factor', dtype=DType(atomic=<DTypeAtomic.BOOL: 'boolean'>, array=False)), 'feat_label': GraphProperty(_name='feat_label', dtype=DType(atomic=<DTypeAtomic.BOOL: 'boolean'>, array=False)), 'feat_topic': GraphProperty(_name='feat_topic', dtype=DType(atomic=<DTypeAtomic.BOOL: 'boolean'>, array=False)), 'feat_probabilist': GraphProperty(_name='feat_probabilist', dtype=DType(atomic=<DTypeAtomic.BOOL: 'boolean'>, array=False)), 'feat_matrix': GraphProperty(_name='feat_matrix', dtype=DType(atomic=<DTypeAtomic.BOOL: 'boolean'>, array=False)), 'feat_framework': GraphProperty(_name='feat_framework', dtype=DType(atomic=<DTypeAtomic.BOOL: 'boolean'>, array=False)), 'feat_match': GraphProperty(_name='feat_match', dtype=DType(atomic=<DTypeAtomic.BOOL: 'boolean'>, array=False)), 'feat_approxim': GraphProperty(_name='feat_approxim', dtype=DType(atomic=<DTypeAtomic.BOOL: 'boolean'>, array=False)), 'feat_method': GraphProperty(_name='feat_method', dtype=DType(atomic=<DTypeAtomic.BOOL: 'boolean'>, array=False)), 'feat_semant': GraphProperty(_name='feat_semant', dtype=DType(atomic=<DTypeAtomic.BOOL: 'boolean'>, array=False)), 'feat_stream': GraphProperty(_name='feat_stream', dtype=DType(atomic=<DTypeAtomic.BOOL: 'boolean'>, array=False)), 'feat_user': GraphProperty(_name='feat_user', dtype=DType(atomic=<DTypeAtomic.BOOL: 'boolean'>, array=False)), 'feat_visual': GraphProperty(_name='feat_visual', dtype=DType(atomic=<DTypeAtomic.BOOL: 'boolean'>, array=False)), 'feat_general': GraphProperty(_name='feat_general', dtype=DType(atomic=<DTypeAtomic.BOOL: 'boolean'>, array=False)), 'feat_retriev': GraphProperty(_name='feat_retriev', dtype=DType(atomic=<DTypeAtomic.BOOL: 'boolean'>, array=False)), 'feat_neural': GraphProperty(_name='feat_neural', dtype=DType(atomic=<DTypeAtomic.BOOL: 'boolean'>, array=False)), 'feat_video': GraphProperty(_name='feat_video', dtype=DType(atomic=<DTypeAtomic.BOOL: 'boolean'>, array=False)), 'feat_segment': GraphProperty(_name='feat_segment', dtype=DType(atomic=<DTypeAtomic.BOOL: 'boolean'>, array=False)), 'feat_stochast': GraphProperty(_name='feat_stochast', dtype=DType(atomic=<DTypeAtomic.BOOL: 'boolean'>, array=False)), 'feat_plan': GraphProperty(_name='feat_plan', dtype=DType(atomic=<DTypeAtomic.BOOL: 'boolean'>, array=False)), 'feat_linear': GraphProperty(_name='feat_linear', dtype=DType(atomic=<DTypeAtomic.BOOL: 'boolean'>, array=False)), 'feat_time': GraphProperty(_name='feat_time', dtype=DType(atomic=<DTypeAtomic.BOOL: 'boolean'>, array=False)), 'feat_sampl': GraphProperty(_name='feat_sampl', dtype=DType(atomic=<DTypeAtomic.BOOL: 'boolean'>, array=False)), 'feat_regular': GraphProperty(_name='feat_regular', dtype=DType(atomic=<DTypeAtomic.BOOL: 'boolean'>, array=False)), 'feat_problem': GraphProperty(_name='feat_problem', dtype=DType(atomic=<DTypeAtomic.BOOL: 'boolean'>, array=False)), 'feat_scalabl': GraphProperty(_name='feat_scalabl', dtype=DType(atomic=<DTypeAtomic.BOOL: 'boolean'>, array=False)), 'feat_comput': GraphProperty(_name='feat_comput', dtype=DType(atomic=<DTypeAtomic.BOOL: 'boolean'>, array=False)), 'feat_relat': GraphProperty(_name='feat_relat', dtype=DType(atomic=<DTypeAtomic.BOOL: 'boolean'>, array=False)), 'feat_hierarch': GraphProperty(_name='feat_hierarch', dtype=DType(atomic=<DTypeAtomic.BOOL: 'boolean'>, array=False)), 'feat_regress': GraphProperty(_name='feat_regress', dtype=DType(atomic=<DTypeAtomic.BOOL: 'boolean'>, array=False)), 'feat_larg': GraphProperty(_name='feat_larg', dtype=DType(atomic=<DTypeAtomic.BOOL: 'boolean'>, array=False)), 'feat_track': GraphProperty(_name='feat_track', dtype=DType(atomic=<DTypeAtomic.BOOL: 'boolean'>, array=False)), 'feat_random': GraphProperty(_name='feat_random', dtype=DType(atomic=<DTypeAtomic.BOOL: 'boolean'>, array=False)), 'feat_largescal': GraphProperty(_name='feat_largescal', dtype=DType(atomic=<DTypeAtomic.BOOL: 'boolean'>, array=False)), 'feat_knowledg': GraphProperty(_name='feat_knowledg', dtype=DType(atomic=<DTypeAtomic.BOOL: 'boolean'>, array=False)), 'feat_evalu': GraphProperty(_name='feat_evalu', dtype=DType(atomic=<DTypeAtomic.BOOL: 'boolean'>, array=False)), 'feat_transfer': GraphProperty(_name='feat_transfer', dtype=DType(atomic=<DTypeAtomic.BOOL: 'boolean'>, array=False)), 'feat_generat': GraphProperty(_name='feat_generat', dtype=DType(atomic=<DTypeAtomic.BOOL: 'boolean'>, array=False)), 'feat_tempor': GraphProperty(_name='feat_tempor', dtype=DType(atomic=<DTypeAtomic.BOOL: 'boolean'>, array=False)), 'feat_constraint': GraphProperty(_name='feat_constraint', dtype=DType(atomic=<DTypeAtomic.BOOL: 'boolean'>, array=False)), 'feat_discrimin': GraphProperty(_name='feat_discrimin', dtype=DType(atomic=<DTypeAtomic.BOOL: 'boolean'>, array=False)), 'feat_filter': GraphProperty(_name='feat_filter', dtype=DType(atomic=<DTypeAtomic.BOOL: 'boolean'>, array=False)), 'feat_similar': GraphProperty(_name='feat_similar', dtype=DType(atomic=<DTypeAtomic.BOOL: 'boolean'>, array=False)), 'feat_embed': GraphProperty(_name='feat_embed', dtype=DType(atomic=<DTypeAtomic.BOOL: 'boolean'>, array=False)), 'feat_game': GraphProperty(_name='feat_game', dtype=DType(atomic=<DTypeAtomic.BOOL: 'boolean'>, array=False)), 'feat_discoveri': GraphProperty(_name='feat_discoveri', dtype=DType(atomic=<DTypeAtomic.BOOL: 'boolean'>, array=False)), 'feat_action': GraphProperty(_name='feat_action', dtype=DType(atomic=<DTypeAtomic.BOOL: 'boolean'>, array=False)), 'feat_event': GraphProperty(_name='feat_event', dtype=DType(atomic=<DTypeAtomic.BOOL: 'boolean'>, array=False)), 'feat_multilabel': GraphProperty(_name='feat_multilabel', dtype=DType(atomic=<DTypeAtomic.BOOL: 'boolean'>, array=False)), 'feat_interact': GraphProperty(_name='feat_interact', dtype=DType(atomic=<DTypeAtomic.BOOL: 'boolean'>, array=False)), 'feat_function': GraphProperty(_name='feat_function', dtype=DType(atomic=<DTypeAtomic.BOOL: 'boolean'>, array=False)), 'feat_minim': GraphProperty(_name='feat_minim', dtype=DType(atomic=<DTypeAtomic.BOOL: 'boolean'>, array=False)), 'feat_hash': GraphProperty(_name='feat_hash', dtype=DType(atomic=<DTypeAtomic.BOOL: 'boolean'>, array=False)), 'feat_complex': GraphProperty(_name='feat_complex', dtype=DType(atomic=<DTypeAtomic.BOOL: 'boolean'>, array=False)), 'feat_domain': GraphProperty(_name='feat_domain', dtype=DType(atomic=<DTypeAtomic.BOOL: 'boolean'>, array=False)), 'feat_human': GraphProperty(_name='feat_human', dtype=DType(atomic=<DTypeAtomic.BOOL: 'boolean'>, array=False)), 'feat_extract': GraphProperty(_name='feat_extract', dtype=DType(atomic=<DTypeAtomic.BOOL: 'boolean'>, array=False)), 'feat_effect': GraphProperty(_name='feat_effect', dtype=DType(atomic=<DTypeAtomic.BOOL: 'boolean'>, array=False)), 'feat_improv': GraphProperty(_name='feat_improv', dtype=DType(atomic=<DTypeAtomic.BOOL: 'boolean'>, array=False)), 'feat_logic': GraphProperty(_name='feat_logic', dtype=DType(atomic=<DTypeAtomic.BOOL: 'boolean'>, array=False)), 'feat_web': GraphProperty(_name='feat_web', dtype=DType(atomic=<DTypeAtomic.BOOL: 'boolean'>, array=False)), 'feat_toward': GraphProperty(_name='feat_toward', dtype=DType(atomic=<DTypeAtomic.BOOL: 'boolean'>, array=False)), 'feat_heterogen': GraphProperty(_name='feat_heterogen', dtype=DType(atomic=<DTypeAtomic.BOOL: 'boolean'>, array=False)), 'feat_explor': GraphProperty(_name='feat_explor', dtype=DType(atomic=<DTypeAtomic.BOOL: 'boolean'>, array=False)), 'feat_machin': GraphProperty(_name='feat_machin', dtype=DType(atomic=<DTypeAtomic.BOOL: 'boolean'>, array=False)), 'feat_supervis': GraphProperty(_name='feat_supervis', dtype=DType(atomic=<DTypeAtomic.BOOL: 'boolean'>, array=False)), 'feat_media': GraphProperty(_name='feat_media', dtype=DType(atomic=<DTypeAtomic.BOOL: 'boolean'>, array=False)), 'feat_latent': GraphProperty(_name='feat_latent', dtype=DType(atomic=<DTypeAtomic.BOOL: 'boolean'>, array=False)), 'feat_unsupervis': GraphProperty(_name='feat_unsupervis', dtype=DType(atomic=<DTypeAtomic.BOOL: 'boolean'>, array=False)), 'feat_person': GraphProperty(_name='feat_person', dtype=DType(atomic=<DTypeAtomic.BOOL: 'boolean'>, array=False)), 'feat_joint': GraphProperty(_name='feat_joint', dtype=DType(atomic=<DTypeAtomic.BOOL: 'boolean'>, array=False)), 'feat_metric': GraphProperty(_name='feat_metric', dtype=DType(atomic=<DTypeAtomic.BOOL: 'boolean'>, array=False)), 'feat_space': GraphProperty(_name='feat_space', dtype=DType(atomic=<DTypeAtomic.BOOL: 'boolean'>, array=False)), 'feat_program': GraphProperty(_name='feat_program', dtype=DType(atomic=<DTypeAtomic.BOOL: 'boolean'>, array=False)), 'feat_tree': GraphProperty(_name='feat_tree', dtype=DType(atomic=<DTypeAtomic.BOOL: 'boolean'>, array=False)), 'feat_attribut': GraphProperty(_name='feat_attribut', dtype=DType(atomic=<DTypeAtomic.BOOL: 'boolean'>, array=False)), 'feat_code': GraphProperty(_name='feat_code', dtype=DType(atomic=<DTypeAtomic.BOOL: 'boolean'>, array=False)), 'feat_semisupervis': GraphProperty(_name='feat_semisupervis', dtype=DType(atomic=<DTypeAtomic.BOOL: 'boolean'>, array=False)), 'feat_databas': GraphProperty(_name='feat_databas', dtype=DType(atomic=<DTypeAtomic.BOOL: 'boolean'>, array=False)), 'feat_subspac': GraphProperty(_name='feat_subspac', dtype=DType(atomic=<DTypeAtomic.BOOL: 'boolean'>, array=False)), 'feat_markov': GraphProperty(_name='feat_markov', dtype=DType(atomic=<DTypeAtomic.BOOL: 'boolean'>, array=False)), 'feat_bandit': GraphProperty(_name='feat_bandit', dtype=DType(atomic=<DTypeAtomic.BOOL: 'boolean'>, array=False)), 'feat_prefer': GraphProperty(_name='feat_prefer', dtype=DType(atomic=<DTypeAtomic.BOOL: 'boolean'>, array=False)), 'feat_bound': GraphProperty(_name='feat_bound', dtype=DType(atomic=<DTypeAtomic.BOOL: 'boolean'>, array=False)), 'feat_collabor': GraphProperty(_name='feat_collabor', dtype=DType(atomic=<DTypeAtomic.BOOL: 'boolean'>, array=False)), 'feat_gradient': GraphProperty(_name='feat_gradient', dtype=DType(atomic=<DTypeAtomic.BOOL: 'boolean'>, array=False)), 'feat_set': GraphProperty(_name='feat_set', dtype=DType(atomic=<DTypeAtomic.BOOL: 'boolean'>, array=False)), 'feat_group': GraphProperty(_name='feat_group', dtype=DType(atomic=<DTypeAtomic.BOOL: 'boolean'>, array=False)), 'feat_communiti': GraphProperty(_name='feat_communiti', dtype=DType(atomic=<DTypeAtomic.BOOL: 'boolean'>, array=False)), 'feat_scene': GraphProperty(_name='feat_scene', dtype=DType(atomic=<DTypeAtomic.BOOL: 'boolean'>, array=False)), 'feat_face': GraphProperty(_name='feat_face', dtype=DType(atomic=<DTypeAtomic.BOOL: 'boolean'>, array=False)), 'feat_text': GraphProperty(_name='feat_text', dtype=DType(atomic=<DTypeAtomic.BOOL: 'boolean'>, array=False)), 'feat_spectral': GraphProperty(_name='feat_spectral', dtype=DType(atomic=<DTypeAtomic.BOOL: 'boolean'>, array=False)), 'feat_nonparametr': GraphProperty(_name='feat_nonparametr', dtype=DType(atomic=<DTypeAtomic.BOOL: 'boolean'>, array=False)), 'feat_document': GraphProperty(_name='feat_document', dtype=DType(atomic=<DTypeAtomic.BOOL: 'boolean'>, array=False)), 'feat_multitask': GraphProperty(_name='feat_multitask', dtype=DType(atomic=<DTypeAtomic.BOOL: 'boolean'>, array=False)), 'feat_answer': GraphProperty(_name='feat_answer', dtype=DType(atomic=<DTypeAtomic.BOOL: 'boolean'>, array=False)), 'feat_exploit': GraphProperty(_name='feat_exploit', dtype=DType(atomic=<DTypeAtomic.BOOL: 'boolean'>, array=False)), 'feat_spatial': GraphProperty(_name='feat_spatial', dtype=DType(atomic=<DTypeAtomic.BOOL: 'boolean'>, array=False)), 'feat_classifi': GraphProperty(_name='feat_classifi', dtype=DType(atomic=<DTypeAtomic.BOOL: 'boolean'>, array=False)), 'feat_rule': GraphProperty(_name='feat_rule', dtype=DType(atomic=<DTypeAtomic.BOOL: 'boolean'>, array=False)), 'feat_topk': GraphProperty(_name='feat_topk', dtype=DType(atomic=<DTypeAtomic.BOOL: 'boolean'>, array=False)), 'feat_map': GraphProperty(_name='feat_map', dtype=DType(atomic=<DTypeAtomic.BOOL: 'boolean'>, array=False)), 'feat_gaussian': GraphProperty(_name='feat_gaussian', dtype=DType(atomic=<DTypeAtomic.BOOL: 'boolean'>, array=False)), 'feat_find': GraphProperty(_name='feat_find', dtype=DType(atomic=<DTypeAtomic.BOOL: 'boolean'>, array=False)), 'feat_manifold': GraphProperty(_name='feat_manifold', dtype=DType(atomic=<DTypeAtomic.BOOL: 'boolean'>, array=False)), 'feat_weight': GraphProperty(_name='feat_weight', dtype=DType(atomic=<DTypeAtomic.BOOL: 'boolean'>, array=False)), 'feat_complet': GraphProperty(_name='feat_complet', dtype=DType(atomic=<DTypeAtomic.BOOL: 'boolean'>, array=False)), 'feat_statist': GraphProperty(_name='feat_statist', dtype=DType(atomic=<DTypeAtomic.BOOL: 'boolean'>, array=False)), 'feat_measur': GraphProperty(_name='feat_measur', dtype=DType(atomic=<DTypeAtomic.BOOL: 'boolean'>, array=False)), 'feat_correl': GraphProperty(_name='feat_correl', dtype=DType(atomic=<DTypeAtomic.BOOL: 'boolean'>, array=False)), 'feat_reinforc': GraphProperty(_name='feat_reinforc', dtype=DType(atomic=<DTypeAtomic.BOOL: 'boolean'>, array=False)), 'feat_convex': GraphProperty(_name='feat_convex', dtype=DType(atomic=<DTypeAtomic.BOOL: 'boolean'>, array=False)), 'feat_parallel': GraphProperty(_name='feat_parallel', dtype=DType(atomic=<DTypeAtomic.BOOL: 'boolean'>, array=False)), 'feat_maxim': GraphProperty(_name='feat_maxim', dtype=DType(atomic=<DTypeAtomic.BOOL: 'boolean'>, array=False)), 'feat_point': GraphProperty(_name='feat_point', dtype=DType(atomic=<DTypeAtomic.BOOL: 'boolean'>, array=False)), 'feat_tensor': GraphProperty(_name='feat_tensor', dtype=DType(atomic=<DTypeAtomic.BOOL: 'boolean'>, array=False)), 'feat_influenc': GraphProperty(_name='feat_influenc', dtype=DType(atomic=<DTypeAtomic.BOOL: 'boolean'>, array=False)), 'feat_seri': GraphProperty(_name='feat_seri', dtype=DType(atomic=<DTypeAtomic.BOOL: 'boolean'>, array=False)), 'feat_variat': GraphProperty(_name='feat_variat', dtype=DType(atomic=<DTypeAtomic.BOOL: 'boolean'>, array=False)), 'feat_high': GraphProperty(_name='feat_high', dtype=DType(atomic=<DTypeAtomic.BOOL: 'boolean'>, array=False)), 'feat_convolut': GraphProperty(_name='feat_convolut', dtype=DType(atomic=<DTypeAtomic.BOOL: 'boolean'>, array=False)), 'feat_integr': GraphProperty(_name='feat_integr', dtype=DType(atomic=<DTypeAtomic.BOOL: 'boolean'>, array=False)), 'feat_multiview': GraphProperty(_name='feat_multiview', dtype=DType(atomic=<DTypeAtomic.BOOL: 'boolean'>, array=False)), 'feat_decis': GraphProperty(_name='feat_decis', dtype=DType(atomic=<DTypeAtomic.BOOL: 'boolean'>, array=False)), 'feat_microblog': GraphProperty(_name='feat_microblog', dtype=DType(atomic=<DTypeAtomic.BOOL: 'boolean'>, array=False)), 'feat_entiti': GraphProperty(_name='feat_entiti', dtype=DType(atomic=<DTypeAtomic.BOOL: 'boolean'>, array=False)), 'feat_trajectori': GraphProperty(_name='feat_trajectori', dtype=DType(atomic=<DTypeAtomic.BOOL: 'boolean'>, array=False)), 'feat_sequenti': GraphProperty(_name='feat_sequenti', dtype=DType(atomic=<DTypeAtomic.BOOL: 'boolean'>, array=False)), 'feat_decomposit': GraphProperty(_name='feat_decomposit', dtype=DType(atomic=<DTypeAtomic.BOOL: 'boolean'>, array=False)), 'feat_rate': GraphProperty(_name='feat_rate', dtype=DType(atomic=<DTypeAtomic.BOOL: 'boolean'>, array=False)), 'feat_consist': GraphProperty(_name='feat_consist', dtype=DType(atomic=<DTypeAtomic.BOOL: 'boolean'>, array=False)), 'feat_shape': GraphProperty(_name='feat_shape', dtype=DType(atomic=<DTypeAtomic.BOOL: 'boolean'>, array=False)), 'feat_collect': GraphProperty(_name='feat_collect', dtype=DType(atomic=<DTypeAtomic.BOOL: 'boolean'>, array=False)), 'feat_class': GraphProperty(_name='feat_class', dtype=DType(atomic=<DTypeAtomic.BOOL: 'boolean'>, array=False)), 'feat_propag': GraphProperty(_name='feat_propag', dtype=DType(atomic=<DTypeAtomic.BOOL: 'boolean'>, array=False)), 'feat_polici': GraphProperty(_name='feat_polici', dtype=DType(atomic=<DTypeAtomic.BOOL: 'boolean'>, array=False)), 'feat_sentiment': GraphProperty(_name='feat_sentiment', dtype=DType(atomic=<DTypeAtomic.BOOL: 'boolean'>, array=False)), 'feat_partial': GraphProperty(_name='feat_partial', dtype=DType(atomic=<DTypeAtomic.BOOL: 'boolean'>, array=False)), 'feat_mobil': GraphProperty(_name='feat_mobil', dtype=DType(atomic=<DTypeAtomic.BOOL: 'boolean'>, array=False)), 'feat_field': GraphProperty(_name='feat_field', dtype=DType(atomic=<DTypeAtomic.BOOL: 'boolean'>, array=False)), 'feat_pose': GraphProperty(_name='feat_pose', dtype=DType(atomic=<DTypeAtomic.BOOL: 'boolean'>, array=False)), 'feat_binari': GraphProperty(_name='feat_binari', dtype=DType(atomic=<DTypeAtomic.BOOL: 'boolean'>, array=False)), 'feat_uncertainti': GraphProperty(_name='feat_uncertainti', dtype=DType(atomic=<DTypeAtomic.BOOL: 'boolean'>, array=False)), 'feat_behavior': GraphProperty(_name='feat_behavior', dtype=DType(atomic=<DTypeAtomic.BOOL: 'boolean'>, array=False)), 'feat_continu': GraphProperty(_name='feat_continu', dtype=DType(atomic=<DTypeAtomic.BOOL: 'boolean'>, array=False)), 'feat_new': GraphProperty(_name='feat_new', dtype=DType(atomic=<DTypeAtomic.BOOL: 'boolean'>, array=False)), 'feat_automat': GraphProperty(_name='feat_automat', dtype=DType(atomic=<DTypeAtomic.BOOL: 'boolean'>, array=False)), 'feat_spatiotempor': GraphProperty(_name='feat_spatiotempor', dtype=DType(atomic=<DTypeAtomic.BOOL: 'boolean'>, array=False)), 'feat_crowdsourc': GraphProperty(_name='feat_crowdsourc', dtype=DType(atomic=<DTypeAtomic.BOOL: 'boolean'>, array=False))}, dynamic=None), 'Venue': NodeSchema(_type='Venue', _schema=..., label='name', properties={'name': GraphProperty(_name='name', dtype=DType(atomic=<DTypeAtomic.STRING: 'string'>, array=False)), 'id': GraphProperty(_name='id', dtype=DType(atomic=<DTypeAtomic.INT: 'int'>, array=False)), 'feat_learn': GraphProperty(_name='feat_learn', dtype=DType(atomic=<DTypeAtomic.BOOL: 'boolean'>, array=False)), 'feat_model': GraphProperty(_name='feat_model', dtype=DType(atomic=<DTypeAtomic.BOOL: 'boolean'>, array=False)), 'feat_data': GraphProperty(_name='feat_data', dtype=DType(atomic=<DTypeAtomic.BOOL: 'boolean'>, array=False)), 'feat_network': GraphProperty(_name='feat_network', dtype=DType(atomic=<DTypeAtomic.BOOL: 'boolean'>, array=False)), 'feat_use': GraphProperty(_name='feat_use', dtype=DType(atomic=<DTypeAtomic.BOOL: 'boolean'>, array=False)), 'feat_detect': GraphProperty(_name='feat_detect', dtype=DType(atomic=<DTypeAtomic.BOOL: 'boolean'>, array=False)), 'feat_imag': GraphProperty(_name='feat_imag', dtype=DType(atomic=<DTypeAtomic.BOOL: 'boolean'>, array=False)), 'feat_optim': GraphProperty(_name='feat_optim', dtype=DType(atomic=<DTypeAtomic.BOOL: 'boolean'>, array=False)), 'feat_via': GraphProperty(_name='feat_via', dtype=DType(atomic=<DTypeAtomic.BOOL: 'boolean'>, array=False)), 'feat_social': GraphProperty(_name='feat_social', dtype=DType(atomic=<DTypeAtomic.BOOL: 'boolean'>, array=False)), 'feat_graph': GraphProperty(_name='feat_graph', dtype=DType(atomic=<DTypeAtomic.BOOL: 'boolean'>, array=False)), 'feat_effici': GraphProperty(_name='feat_effici', dtype=DType(atomic=<DTypeAtomic.BOOL: 'boolean'>, array=False)), 'feat_cluster': GraphProperty(_name='feat_cluster', dtype=DType(atomic=<DTypeAtomic.BOOL: 'boolean'>, array=False)), 'feat_classif': GraphProperty(_name='feat_classif', dtype=DType(atomic=<DTypeAtomic.BOOL: 'boolean'>, array=False)), 'feat_predict': GraphProperty(_name='feat_predict', dtype=DType(atomic=<DTypeAtomic.BOOL: 'boolean'>, array=False)), 'feat_search': GraphProperty(_name='feat_search', dtype=DType(atomic=<DTypeAtomic.BOOL: 'boolean'>, array=False)), 'feat_base': GraphProperty(_name='feat_base', dtype=DType(atomic=<DTypeAtomic.BOOL: 'boolean'>, array=False)), 'feat_analysi': GraphProperty(_name='feat_analysi', dtype=DType(atomic=<DTypeAtomic.BOOL: 'boolean'>, array=False)), 'feat_queri': GraphProperty(_name='feat_queri', dtype=DType(atomic=<DTypeAtomic.BOOL: 'boolean'>, array=False)), 'feat_algorithm': GraphProperty(_name='feat_algorithm', dtype=DType(atomic=<DTypeAtomic.BOOL: 'boolean'>, array=False)), 'feat_featur': GraphProperty(_name='feat_featur', dtype=DType(atomic=<DTypeAtomic.BOOL: 'boolean'>, array=False)), 'feat_approach': GraphProperty(_name='feat_approach', dtype=DType(atomic=<DTypeAtomic.BOOL: 'boolean'>, array=False)), 'feat_estim': GraphProperty(_name='feat_estim', dtype=DType(atomic=<DTypeAtomic.BOOL: 'boolean'>, array=False)), 'feat_structur': GraphProperty(_name='feat_structur', dtype=DType(atomic=<DTypeAtomic.BOOL: 'boolean'>, array=False)), 'feat_mine': GraphProperty(_name='feat_mine', dtype=DType(atomic=<DTypeAtomic.BOOL: 'boolean'>, array=False)), 'feat_spars': GraphProperty(_name='feat_spars', dtype=DType(atomic=<DTypeAtomic.BOOL: 'boolean'>, array=False)), 'feat_onlin': GraphProperty(_name='feat_onlin', dtype=DType(atomic=<DTypeAtomic.BOOL: 'boolean'>, array=False)), 'feat_inform': GraphProperty(_name='feat_inform', dtype=DType(atomic=<DTypeAtomic.BOOL: 'boolean'>, array=False)), 'feat_object': GraphProperty(_name='feat_object', dtype=DType(atomic=<DTypeAtomic.BOOL: 'boolean'>, array=False)), 'feat_select': GraphProperty(_name='feat_select', dtype=DType(atomic=<DTypeAtomic.BOOL: 'boolean'>, array=False)), 'feat_multipl': GraphProperty(_name='feat_multipl', dtype=DType(atomic=<DTypeAtomic.BOOL: 'boolean'>, array=False)), 'feat_recommend': GraphProperty(_name='feat_recommend', dtype=DType(atomic=<DTypeAtomic.BOOL: 'boolean'>, array=False)), 'feat_process': GraphProperty(_name='feat_process', dtype=DType(atomic=<DTypeAtomic.BOOL: 'boolean'>, array=False)), 'feat_infer': GraphProperty(_name='feat_infer', dtype=DType(atomic=<DTypeAtomic.BOOL: 'boolean'>, array=False)), 'feat_system': GraphProperty(_name='feat_system', dtype=DType(atomic=<DTypeAtomic.BOOL: 'boolean'>, array=False)), 'feat_deep': GraphProperty(_name='feat_deep', dtype=DType(atomic=<DTypeAtomic.BOOL: 'boolean'>, array=False)), 'feat_represent': GraphProperty(_name='feat_represent', dtype=DType(atomic=<DTypeAtomic.BOOL: 'boolean'>, array=False)), 'feat_pattern': GraphProperty(_name='feat_pattern', dtype=DType(atomic=<DTypeAtomic.BOOL: 'boolean'>, array=False)), 'feat_robust': GraphProperty(_name='feat_robust', dtype=DType(atomic=<DTypeAtomic.BOOL: 'boolean'>, array=False)), 'feat_recognit': GraphProperty(_name='feat_recognit', dtype=DType(atomic=<DTypeAtomic.BOOL: 'boolean'>, array=False)), 'feat_fast': GraphProperty(_name='feat_fast', dtype=DType(atomic=<DTypeAtomic.BOOL: 'boolean'>, array=False)), 'feat_local': GraphProperty(_name='feat_local', dtype=DType(atomic=<DTypeAtomic.BOOL: 'boolean'>, array=False)), 'feat_activ': GraphProperty(_name='feat_activ', dtype=DType(atomic=<DTypeAtomic.BOOL: 'boolean'>, array=False)), 'feat_adapt': GraphProperty(_name='feat_adapt', dtype=DType(atomic=<DTypeAtomic.BOOL: 'boolean'>, array=False)), 'feat_bayesian': GraphProperty(_name='feat_bayesian', dtype=DType(atomic=<DTypeAtomic.BOOL: 'boolean'>, array=False)), 'feat_rank': GraphProperty(_name='feat_rank', dtype=DType(atomic=<DTypeAtomic.BOOL: 'boolean'>, array=False)), 'feat_applic': GraphProperty(_name='feat_applic', dtype=DType(atomic=<DTypeAtomic.BOOL: 'boolean'>, array=False)), 'feat_distribut': GraphProperty(_name='feat_distribut', dtype=DType(atomic=<DTypeAtomic.BOOL: 'boolean'>, array=False)), 'feat_kernel': GraphProperty(_name='feat_kernel', dtype=DType(atomic=<DTypeAtomic.BOOL: 'boolean'>, array=False)), 'feat_dynam': GraphProperty(_name='feat_dynam', dtype=DType(atomic=<DTypeAtomic.BOOL: 'boolean'>, array=False)), 'feat_factor': GraphProperty(_name='feat_factor', dtype=DType(atomic=<DTypeAtomic.BOOL: 'boolean'>, array=False)), 'feat_label': GraphProperty(_name='feat_label', dtype=DType(atomic=<DTypeAtomic.BOOL: 'boolean'>, array=False)), 'feat_topic': GraphProperty(_name='feat_topic', dtype=DType(atomic=<DTypeAtomic.BOOL: 'boolean'>, array=False)), 'feat_probabilist': GraphProperty(_name='feat_probabilist', dtype=DType(atomic=<DTypeAtomic.BOOL: 'boolean'>, array=False)), 'feat_matrix': GraphProperty(_name='feat_matrix', dtype=DType(atomic=<DTypeAtomic.BOOL: 'boolean'>, array=False)), 'feat_framework': GraphProperty(_name='feat_framework', dtype=DType(atomic=<DTypeAtomic.BOOL: 'boolean'>, array=False)), 'feat_match': GraphProperty(_name='feat_match', dtype=DType(atomic=<DTypeAtomic.BOOL: 'boolean'>, array=False)), 'feat_approxim': GraphProperty(_name='feat_approxim', dtype=DType(atomic=<DTypeAtomic.BOOL: 'boolean'>, array=False)), 'feat_method': GraphProperty(_name='feat_method', dtype=DType(atomic=<DTypeAtomic.BOOL: 'boolean'>, array=False)), 'feat_semant': GraphProperty(_name='feat_semant', dtype=DType(atomic=<DTypeAtomic.BOOL: 'boolean'>, array=False)), 'feat_stream': GraphProperty(_name='feat_stream', dtype=DType(atomic=<DTypeAtomic.BOOL: 'boolean'>, array=False)), 'feat_user': GraphProperty(_name='feat_user', dtype=DType(atomic=<DTypeAtomic.BOOL: 'boolean'>, array=False)), 'feat_visual': GraphProperty(_name='feat_visual', dtype=DType(atomic=<DTypeAtomic.BOOL: 'boolean'>, array=False)), 'feat_general': GraphProperty(_name='feat_general', dtype=DType(atomic=<DTypeAtomic.BOOL: 'boolean'>, array=False)), 'feat_retriev': GraphProperty(_name='feat_retriev', dtype=DType(atomic=<DTypeAtomic.BOOL: 'boolean'>, array=False)), 'feat_neural': GraphProperty(_name='feat_neural', dtype=DType(atomic=<DTypeAtomic.BOOL: 'boolean'>, array=False)), 'feat_video': GraphProperty(_name='feat_video', dtype=DType(atomic=<DTypeAtomic.BOOL: 'boolean'>, array=False)), 'feat_segment': GraphProperty(_name='feat_segment', dtype=DType(atomic=<DTypeAtomic.BOOL: 'boolean'>, array=False)), 'feat_stochast': GraphProperty(_name='feat_stochast', dtype=DType(atomic=<DTypeAtomic.BOOL: 'boolean'>, array=False)), 'feat_plan': GraphProperty(_name='feat_plan', dtype=DType(atomic=<DTypeAtomic.BOOL: 'boolean'>, array=False)), 'feat_linear': GraphProperty(_name='feat_linear', dtype=DType(atomic=<DTypeAtomic.BOOL: 'boolean'>, array=False)), 'feat_time': GraphProperty(_name='feat_time', dtype=DType(atomic=<DTypeAtomic.BOOL: 'boolean'>, array=False)), 'feat_sampl': GraphProperty(_name='feat_sampl', dtype=DType(atomic=<DTypeAtomic.BOOL: 'boolean'>, array=False)), 'feat_regular': GraphProperty(_name='feat_regular', dtype=DType(atomic=<DTypeAtomic.BOOL: 'boolean'>, array=False)), 'feat_problem': GraphProperty(_name='feat_problem', dtype=DType(atomic=<DTypeAtomic.BOOL: 'boolean'>, array=False)), 'feat_scalabl': GraphProperty(_name='feat_scalabl', dtype=DType(atomic=<DTypeAtomic.BOOL: 'boolean'>, array=False)), 'feat_comput': GraphProperty(_name='feat_comput', dtype=DType(atomic=<DTypeAtomic.BOOL: 'boolean'>, array=False)), 'feat_relat': GraphProperty(_name='feat_relat', dtype=DType(atomic=<DTypeAtomic.BOOL: 'boolean'>, array=False)), 'feat_hierarch': GraphProperty(_name='feat_hierarch', dtype=DType(atomic=<DTypeAtomic.BOOL: 'boolean'>, array=False)), 'feat_regress': GraphProperty(_name='feat_regress', dtype=DType(atomic=<DTypeAtomic.BOOL: 'boolean'>, array=False)), 'feat_larg': GraphProperty(_name='feat_larg', dtype=DType(atomic=<DTypeAtomic.BOOL: 'boolean'>, array=False)), 'feat_track': GraphProperty(_name='feat_track', dtype=DType(atomic=<DTypeAtomic.BOOL: 'boolean'>, array=False)), 'feat_random': GraphProperty(_name='feat_random', dtype=DType(atomic=<DTypeAtomic.BOOL: 'boolean'>, array=False)), 'feat_largescal': GraphProperty(_name='feat_largescal', dtype=DType(atomic=<DTypeAtomic.BOOL: 'boolean'>, array=False)), 'feat_knowledg': GraphProperty(_name='feat_knowledg', dtype=DType(atomic=<DTypeAtomic.BOOL: 'boolean'>, array=False)), 'feat_evalu': GraphProperty(_name='feat_evalu', dtype=DType(atomic=<DTypeAtomic.BOOL: 'boolean'>, array=False)), 'feat_transfer': GraphProperty(_name='feat_transfer', dtype=DType(atomic=<DTypeAtomic.BOOL: 'boolean'>, array=False)), 'feat_generat': GraphProperty(_name='feat_generat', dtype=DType(atomic=<DTypeAtomic.BOOL: 'boolean'>, array=False)), 'feat_tempor': GraphProperty(_name='feat_tempor', dtype=DType(atomic=<DTypeAtomic.BOOL: 'boolean'>, array=False)), 'feat_constraint': GraphProperty(_name='feat_constraint', dtype=DType(atomic=<DTypeAtomic.BOOL: 'boolean'>, array=False)), 'feat_discrimin': GraphProperty(_name='feat_discrimin', dtype=DType(atomic=<DTypeAtomic.BOOL: 'boolean'>, array=False)), 'feat_filter': GraphProperty(_name='feat_filter', dtype=DType(atomic=<DTypeAtomic.BOOL: 'boolean'>, array=False)), 'feat_similar': GraphProperty(_name='feat_similar', dtype=DType(atomic=<DTypeAtomic.BOOL: 'boolean'>, array=False)), 'feat_embed': GraphProperty(_name='feat_embed', dtype=DType(atomic=<DTypeAtomic.BOOL: 'boolean'>, array=False)), 'feat_game': GraphProperty(_name='feat_game', dtype=DType(atomic=<DTypeAtomic.BOOL: 'boolean'>, array=False)), 'feat_discoveri': GraphProperty(_name='feat_discoveri', dtype=DType(atomic=<DTypeAtomic.BOOL: 'boolean'>, array=False)), 'feat_action': GraphProperty(_name='feat_action', dtype=DType(atomic=<DTypeAtomic.BOOL: 'boolean'>, array=False)), 'feat_event': GraphProperty(_name='feat_event', dtype=DType(atomic=<DTypeAtomic.BOOL: 'boolean'>, array=False)), 'feat_multilabel': GraphProperty(_name='feat_multilabel', dtype=DType(atomic=<DTypeAtomic.BOOL: 'boolean'>, array=False)), 'feat_interact': GraphProperty(_name='feat_interact', dtype=DType(atomic=<DTypeAtomic.BOOL: 'boolean'>, array=False)), 'feat_function': GraphProperty(_name='feat_function', dtype=DType(atomic=<DTypeAtomic.BOOL: 'boolean'>, array=False)), 'feat_minim': GraphProperty(_name='feat_minim', dtype=DType(atomic=<DTypeAtomic.BOOL: 'boolean'>, array=False)), 'feat_hash': GraphProperty(_name='feat_hash', dtype=DType(atomic=<DTypeAtomic.BOOL: 'boolean'>, array=False)), 'feat_complex': GraphProperty(_name='feat_complex', dtype=DType(atomic=<DTypeAtomic.BOOL: 'boolean'>, array=False)), 'feat_domain': GraphProperty(_name='feat_domain', dtype=DType(atomic=<DTypeAtomic.BOOL: 'boolean'>, array=False)), 'feat_human': GraphProperty(_name='feat_human', dtype=DType(atomic=<DTypeAtomic.BOOL: 'boolean'>, array=False)), 'feat_extract': GraphProperty(_name='feat_extract', dtype=DType(atomic=<DTypeAtomic.BOOL: 'boolean'>, array=False)), 'feat_effect': GraphProperty(_name='feat_effect', dtype=DType(atomic=<DTypeAtomic.BOOL: 'boolean'>, array=False)), 'feat_improv': GraphProperty(_name='feat_improv', dtype=DType(atomic=<DTypeAtomic.BOOL: 'boolean'>, array=False)), 'feat_logic': GraphProperty(_name='feat_logic', dtype=DType(atomic=<DTypeAtomic.BOOL: 'boolean'>, array=False)), 'feat_web': GraphProperty(_name='feat_web', dtype=DType(atomic=<DTypeAtomic.BOOL: 'boolean'>, array=False)), 'feat_toward': GraphProperty(_name='feat_toward', dtype=DType(atomic=<DTypeAtomic.BOOL: 'boolean'>, array=False)), 'feat_heterogen': GraphProperty(_name='feat_heterogen', dtype=DType(atomic=<DTypeAtomic.BOOL: 'boolean'>, array=False)), 'feat_explor': GraphProperty(_name='feat_explor', dtype=DType(atomic=<DTypeAtomic.BOOL: 'boolean'>, array=False)), 'feat_machin': GraphProperty(_name='feat_machin', dtype=DType(atomic=<DTypeAtomic.BOOL: 'boolean'>, array=False)), 'feat_supervis': GraphProperty(_name='feat_supervis', dtype=DType(atomic=<DTypeAtomic.BOOL: 'boolean'>, array=False)), 'feat_media': GraphProperty(_name='feat_media', dtype=DType(atomic=<DTypeAtomic.BOOL: 'boolean'>, array=False)), 'feat_latent': GraphProperty(_name='feat_latent', dtype=DType(atomic=<DTypeAtomic.BOOL: 'boolean'>, array=False)), 'feat_unsupervis': GraphProperty(_name='feat_unsupervis', dtype=DType(atomic=<DTypeAtomic.BOOL: 'boolean'>, array=False)), 'feat_person': GraphProperty(_name='feat_person', dtype=DType(atomic=<DTypeAtomic.BOOL: 'boolean'>, array=False)), 'feat_joint': GraphProperty(_name='feat_joint', dtype=DType(atomic=<DTypeAtomic.BOOL: 'boolean'>, array=False)), 'feat_metric': GraphProperty(_name='feat_metric', dtype=DType(atomic=<DTypeAtomic.BOOL: 'boolean'>, array=False)), 'feat_space': GraphProperty(_name='feat_space', dtype=DType(atomic=<DTypeAtomic.BOOL: 'boolean'>, array=False)), 'feat_program': GraphProperty(_name='feat_program', dtype=DType(atomic=<DTypeAtomic.BOOL: 'boolean'>, array=False)), 'feat_tree': GraphProperty(_name='feat_tree', dtype=DType(atomic=<DTypeAtomic.BOOL: 'boolean'>, array=False)), 'feat_attribut': GraphProperty(_name='feat_attribut', dtype=DType(atomic=<DTypeAtomic.BOOL: 'boolean'>, array=False)), 'feat_code': GraphProperty(_name='feat_code', dtype=DType(atomic=<DTypeAtomic.BOOL: 'boolean'>, array=False)), 'feat_semisupervis': GraphProperty(_name='feat_semisupervis', dtype=DType(atomic=<DTypeAtomic.BOOL: 'boolean'>, array=False)), 'feat_databas': GraphProperty(_name='feat_databas', dtype=DType(atomic=<DTypeAtomic.BOOL: 'boolean'>, array=False)), 'feat_subspac': GraphProperty(_name='feat_subspac', dtype=DType(atomic=<DTypeAtomic.BOOL: 'boolean'>, array=False)), 'feat_markov': GraphProperty(_name='feat_markov', dtype=DType(atomic=<DTypeAtomic.BOOL: 'boolean'>, array=False)), 'feat_bandit': GraphProperty(_name='feat_bandit', dtype=DType(atomic=<DTypeAtomic.BOOL: 'boolean'>, array=False)), 'feat_prefer': GraphProperty(_name='feat_prefer', dtype=DType(atomic=<DTypeAtomic.BOOL: 'boolean'>, array=False)), 'feat_bound': GraphProperty(_name='feat_bound', dtype=DType(atomic=<DTypeAtomic.BOOL: 'boolean'>, array=False)), 'feat_collabor': GraphProperty(_name='feat_collabor', dtype=DType(atomic=<DTypeAtomic.BOOL: 'boolean'>, array=False)), 'feat_gradient': GraphProperty(_name='feat_gradient', dtype=DType(atomic=<DTypeAtomic.BOOL: 'boolean'>, array=False)), 'feat_set': GraphProperty(_name='feat_set', dtype=DType(atomic=<DTypeAtomic.BOOL: 'boolean'>, array=False)), 'feat_group': GraphProperty(_name='feat_group', dtype=DType(atomic=<DTypeAtomic.BOOL: 'boolean'>, array=False)), 'feat_communiti': GraphProperty(_name='feat_communiti', dtype=DType(atomic=<DTypeAtomic.BOOL: 'boolean'>, array=False)), 'feat_scene': GraphProperty(_name='feat_scene', dtype=DType(atomic=<DTypeAtomic.BOOL: 'boolean'>, array=False)), 'feat_face': GraphProperty(_name='feat_face', dtype=DType(atomic=<DTypeAtomic.BOOL: 'boolean'>, array=False)), 'feat_text': GraphProperty(_name='feat_text', dtype=DType(atomic=<DTypeAtomic.BOOL: 'boolean'>, array=False)), 'feat_spectral': GraphProperty(_name='feat_spectral', dtype=DType(atomic=<DTypeAtomic.BOOL: 'boolean'>, array=False)), 'feat_nonparametr': GraphProperty(_name='feat_nonparametr', dtype=DType(atomic=<DTypeAtomic.BOOL: 'boolean'>, array=False)), 'feat_document': GraphProperty(_name='feat_document', dtype=DType(atomic=<DTypeAtomic.BOOL: 'boolean'>, array=False)), 'feat_multitask': GraphProperty(_name='feat_multitask', dtype=DType(atomic=<DTypeAtomic.BOOL: 'boolean'>, array=False)), 'feat_answer': GraphProperty(_name='feat_answer', dtype=DType(atomic=<DTypeAtomic.BOOL: 'boolean'>, array=False)), 'feat_exploit': GraphProperty(_name='feat_exploit', dtype=DType(atomic=<DTypeAtomic.BOOL: 'boolean'>, array=False)), 'feat_spatial': GraphProperty(_name='feat_spatial', dtype=DType(atomic=<DTypeAtomic.BOOL: 'boolean'>, array=False)), 'feat_classifi': GraphProperty(_name='feat_classifi', dtype=DType(atomic=<DTypeAtomic.BOOL: 'boolean'>, array=False)), 'feat_rule': GraphProperty(_name='feat_rule', dtype=DType(atomic=<DTypeAtomic.BOOL: 'boolean'>, array=False)), 'feat_topk': GraphProperty(_name='feat_topk', dtype=DType(atomic=<DTypeAtomic.BOOL: 'boolean'>, array=False)), 'feat_map': GraphProperty(_name='feat_map', dtype=DType(atomic=<DTypeAtomic.BOOL: 'boolean'>, array=False)), 'feat_gaussian': GraphProperty(_name='feat_gaussian', dtype=DType(atomic=<DTypeAtomic.BOOL: 'boolean'>, array=False)), 'feat_find': GraphProperty(_name='feat_find', dtype=DType(atomic=<DTypeAtomic.BOOL: 'boolean'>, array=False)), 'feat_manifold': GraphProperty(_name='feat_manifold', dtype=DType(atomic=<DTypeAtomic.BOOL: 'boolean'>, array=False)), 'feat_weight': GraphProperty(_name='feat_weight', dtype=DType(atomic=<DTypeAtomic.BOOL: 'boolean'>, array=False)), 'feat_complet': GraphProperty(_name='feat_complet', dtype=DType(atomic=<DTypeAtomic.BOOL: 'boolean'>, array=False)), 'feat_statist': GraphProperty(_name='feat_statist', dtype=DType(atomic=<DTypeAtomic.BOOL: 'boolean'>, array=False)), 'feat_measur': GraphProperty(_name='feat_measur', dtype=DType(atomic=<DTypeAtomic.BOOL: 'boolean'>, array=False)), 'feat_correl': GraphProperty(_name='feat_correl', dtype=DType(atomic=<DTypeAtomic.BOOL: 'boolean'>, array=False)), 'feat_reinforc': GraphProperty(_name='feat_reinforc', dtype=DType(atomic=<DTypeAtomic.BOOL: 'boolean'>, array=False)), 'feat_convex': GraphProperty(_name='feat_convex', dtype=DType(atomic=<DTypeAtomic.BOOL: 'boolean'>, array=False)), 'feat_parallel': GraphProperty(_name='feat_parallel', dtype=DType(atomic=<DTypeAtomic.BOOL: 'boolean'>, array=False)), 'feat_maxim': GraphProperty(_name='feat_maxim', dtype=DType(atomic=<DTypeAtomic.BOOL: 'boolean'>, array=False)), 'feat_point': GraphProperty(_name='feat_point', dtype=DType(atomic=<DTypeAtomic.BOOL: 'boolean'>, array=False)), 'feat_tensor': GraphProperty(_name='feat_tensor', dtype=DType(atomic=<DTypeAtomic.BOOL: 'boolean'>, array=False)), 'feat_influenc': GraphProperty(_name='feat_influenc', dtype=DType(atomic=<DTypeAtomic.BOOL: 'boolean'>, array=False)), 'feat_seri': GraphProperty(_name='feat_seri', dtype=DType(atomic=<DTypeAtomic.BOOL: 'boolean'>, array=False)), 'feat_variat': GraphProperty(_name='feat_variat', dtype=DType(atomic=<DTypeAtomic.BOOL: 'boolean'>, array=False)), 'feat_high': GraphProperty(_name='feat_high', dtype=DType(atomic=<DTypeAtomic.BOOL: 'boolean'>, array=False)), 'feat_convolut': GraphProperty(_name='feat_convolut', dtype=DType(atomic=<DTypeAtomic.BOOL: 'boolean'>, array=False)), 'feat_integr': GraphProperty(_name='feat_integr', dtype=DType(atomic=<DTypeAtomic.BOOL: 'boolean'>, array=False)), 'feat_multiview': GraphProperty(_name='feat_multiview', dtype=DType(atomic=<DTypeAtomic.BOOL: 'boolean'>, array=False)), 'feat_decis': GraphProperty(_name='feat_decis', dtype=DType(atomic=<DTypeAtomic.BOOL: 'boolean'>, array=False)), 'feat_microblog': GraphProperty(_name='feat_microblog', dtype=DType(atomic=<DTypeAtomic.BOOL: 'boolean'>, array=False)), 'feat_entiti': GraphProperty(_name='feat_entiti', dtype=DType(atomic=<DTypeAtomic.BOOL: 'boolean'>, array=False)), 'feat_trajectori': GraphProperty(_name='feat_trajectori', dtype=DType(atomic=<DTypeAtomic.BOOL: 'boolean'>, array=False)), 'feat_sequenti': GraphProperty(_name='feat_sequenti', dtype=DType(atomic=<DTypeAtomic.BOOL: 'boolean'>, array=False)), 'feat_decomposit': GraphProperty(_name='feat_decomposit', dtype=DType(atomic=<DTypeAtomic.BOOL: 'boolean'>, array=False)), 'feat_rate': GraphProperty(_name='feat_rate', dtype=DType(atomic=<DTypeAtomic.BOOL: 'boolean'>, array=False)), 'feat_consist': GraphProperty(_name='feat_consist', dtype=DType(atomic=<DTypeAtomic.BOOL: 'boolean'>, array=False)), 'feat_shape': GraphProperty(_name='feat_shape', dtype=DType(atomic=<DTypeAtomic.BOOL: 'boolean'>, array=False)), 'feat_collect': GraphProperty(_name='feat_collect', dtype=DType(atomic=<DTypeAtomic.BOOL: 'boolean'>, array=False)), 'feat_class': GraphProperty(_name='feat_class', dtype=DType(atomic=<DTypeAtomic.BOOL: 'boolean'>, array=False)), 'feat_propag': GraphProperty(_name='feat_propag', dtype=DType(atomic=<DTypeAtomic.BOOL: 'boolean'>, array=False)), 'feat_polici': GraphProperty(_name='feat_polici', dtype=DType(atomic=<DTypeAtomic.BOOL: 'boolean'>, array=False)), 'feat_sentiment': GraphProperty(_name='feat_sentiment', dtype=DType(atomic=<DTypeAtomic.BOOL: 'boolean'>, array=False)), 'feat_partial': GraphProperty(_name='feat_partial', dtype=DType(atomic=<DTypeAtomic.BOOL: 'boolean'>, array=False)), 'feat_mobil': GraphProperty(_name='feat_mobil', dtype=DType(atomic=<DTypeAtomic.BOOL: 'boolean'>, array=False)), 'feat_field': GraphProperty(_name='feat_field', dtype=DType(atomic=<DTypeAtomic.BOOL: 'boolean'>, array=False)), 'feat_pose': GraphProperty(_name='feat_pose', dtype=DType(atomic=<DTypeAtomic.BOOL: 'boolean'>, array=False)), 'feat_binari': GraphProperty(_name='feat_binari', dtype=DType(atomic=<DTypeAtomic.BOOL: 'boolean'>, array=False)), 'feat_uncertainti': GraphProperty(_name='feat_uncertainti', dtype=DType(atomic=<DTypeAtomic.BOOL: 'boolean'>, array=False)), 'feat_behavior': GraphProperty(_name='feat_behavior', dtype=DType(atomic=<DTypeAtomic.BOOL: 'boolean'>, array=False)), 'feat_continu': GraphProperty(_name='feat_continu', dtype=DType(atomic=<DTypeAtomic.BOOL: 'boolean'>, array=False)), 'feat_new': GraphProperty(_name='feat_new', dtype=DType(atomic=<DTypeAtomic.BOOL: 'boolean'>, array=False)), 'feat_automat': GraphProperty(_name='feat_automat', dtype=DType(atomic=<DTypeAtomic.BOOL: 'boolean'>, array=False)), 'feat_spatiotempor': GraphProperty(_name='feat_spatiotempor', dtype=DType(atomic=<DTypeAtomic.BOOL: 'boolean'>, array=False)), 'feat_crowdsourc': GraphProperty(_name='feat_crowdsourc', dtype=DType(atomic=<DTypeAtomic.BOOL: 'boolean'>, array=False))}, dynamic=None), 'Paper': NodeSchema(_type='Paper', _schema=..., label='title', properties={'pub_id': GraphProperty(_name='pub_id', dtype=DType(atomic=<DTypeAtomic.STRING: 'string'>, array=False)), 'title': GraphProperty(_name='title', dtype=DType(atomic=<DTypeAtomic.STRING: 'string'>, array=False)), 'authors': GraphProperty(_name='authors', dtype=DType(atomic=<DTypeAtomic.STRING: 'string'>, array=True)), 'venue': GraphProperty(_name='venue', dtype=DType(atomic=<DTypeAtomic.STRING: 'string'>, array=False)), 'year': GraphProperty(_name='year', dtype=DType(atomic=<DTypeAtomic.INT: 'int'>, array=False)), 'abstract': GraphProperty(_name='abstract', dtype=DType(atomic=<DTypeAtomic.STRING: 'string'>, array=False)), 'timestamp': GraphProperty(_name='timestamp', dtype=DType(atomic=<DTypeAtomic.INT: 'int'>, array=False)), 'id': GraphProperty(_name='id', dtype=DType(atomic=<DTypeAtomic.INT: 'int'>, array=False))}, dynamic=DynamicConfig(timestamp='timestamp', interaction=False))}, edges={'AUTHORED': EdgeSchema(_type='AUTHORED', _schema=..., label=None, properties={'src': GraphProperty(_name='src', dtype=DType(atomic=<DTypeAtomic.INT: 'int'>, array=False)), 'dst': GraphProperty(_name='dst', dtype=DType(atomic=<DTypeAtomic.INT: 'int'>, array=False)), 'timestamp': GraphProperty(_name='timestamp', dtype=DType(atomic=<DTypeAtomic.INT: 'int'>, array=False))}, dynamic=DynamicConfig(timestamp='timestamp', interaction=False), source_type='Author', target_type='Paper', directed=True), 'PUBLISHED_IN': EdgeSchema(_type='PUBLISHED_IN', _schema=..., label=None, properties={'src': GraphProperty(_name='src', dtype=DType(atomic=<DTypeAtomic.INT: 'int'>, array=False)), 'dst': GraphProperty(_name='dst', dtype=DType(atomic=<DTypeAtomic.INT: 'int'>, array=False)), 'timestamp': GraphProperty(_name='timestamp', dtype=DType(atomic=<DTypeAtomic.INT: 'int'>, array=False))}, dynamic=DynamicConfig(timestamp='timestamp', interaction=False), source_type='Paper', target_type='Venue', directed=True)})"
     },
     "execution_count": 23,
     "metadata": {},
     "output_type": "execute_result"
    }
   ],
   "source": [
    "from shared.schema.graph import GraphSchema, NodeSchema, EdgeSchema\n",
    "\n",
    "(\n",
    "    GraphSchema()\n",
    "        .add_node_schema('Author', NodeSchema.from_spark(df_nodes_authors_new.schema, label='name'))\n",
    "        .add_node_schema('Venue', NodeSchema.from_spark(df_nodes_venues_new.schema, label='name'))\n",
    "        .add_node_schema('Paper', NodeSchema.from_spark(df_nodes_papers.schema, label='title', timestamp='timestamp', interaction=False))\n",
    "        .add_edge_schema('AUTHORED', EdgeSchema.from_spark(df_edges_authored.schema, source_type='Author', target_type='Paper', directed=True, timestamp='timestamp', interaction=False))\n",
    "        .add_edge_schema('PUBLISHED_IN', EdgeSchema.from_spark(df_edges_published_in.schema, source_type='Paper', target_type='Venue', directed=True, timestamp='timestamp', interaction=False))\n",
    "        .save_schema(DATASET.processed())\n",
    ")"
   ],
   "metadata": {
    "collapsed": false,
    "pycharm": {
     "name": "#%%\n"
    }
   }
  },
  {
   "cell_type": "markdown",
   "source": [
    "# Ground truth communities\n",
    "Using same methodology as in:\n",
    "\n",
    "J. Yang and J. Leskovec, “Defining and evaluating network communities based on ground-truth,” in Proceedings of the ACM SIGKDD Workshop on Mining Data Semantics, New York, NY, USA, Aug. 2012, pp. 1–8. doi: 10.1145/2350190.2350193.\n"
   ],
   "metadata": {
    "collapsed": false,
    "pycharm": {
     "name": "#%% md\n"
    }
   }
  },
  {
   "cell_type": "code",
   "execution_count": 24,
   "outputs": [
    {
     "name": "stdout",
     "output_type": "stream",
     "text": [
      "[Row(venue='www', count=64), Row(venue='icde', count=299), Row(venue='dasfaa', count=189), Row(venue='pkdd', count=240), Row(venue='icdm', count=474), Row(venue='aaai', count=1041), Row(venue='vldb', count=94), Row(venue='nips', count=689), Row(venue='icml', count=462), Row(venue='sdm', count=192), Row(venue='cvpr', count=898), Row(venue='ijcai', count=461), Row(venue='pakdd', count=210), Row(venue='ecir', count=198)]\n",
      "[]\n"
     ]
    }
   ],
   "source": [
    "print(df_nodes_papers.groupby('venue').count().head(100))\n",
    "print(df_nodes_papers.filter(F.col('venue').isNull()).head(5))"
   ],
   "metadata": {
    "collapsed": false,
    "pycharm": {
     "name": "#%%\n"
    }
   }
  },
  {
   "cell_type": "code",
   "execution_count": 25,
   "outputs": [
    {
     "data": {
      "text/plain": "[Row(id=0, cid=0),\n Row(id=1, cid=1),\n Row(id=2, cid=2),\n Row(id=3, cid=3),\n Row(id=4, cid=4)]"
     },
     "execution_count": 25,
     "metadata": {},
     "output_type": "execute_result"
    }
   ],
   "source": [
    "df_nodes_venues_comm = (\n",
    "    df_nodes_venues\n",
    "        .select(\n",
    "        F.col('id').alias('id'),\n",
    "        F.col('id').alias('cid'),\n",
    "    )\n",
    "        .distinct()\n",
    ")\n",
    "df_nodes_venues_comm.head(5)"
   ],
   "metadata": {
    "collapsed": false,
    "pycharm": {
     "name": "#%%\n"
    }
   }
  },
  {
   "cell_type": "code",
   "execution_count": 26,
   "outputs": [
    {
     "data": {
      "text/plain": "[Row(id=0, cid='nips'),\n Row(id=1, cid='nips'),\n Row(id=2, cid='nips'),\n Row(id=3, cid='icde'),\n Row(id=4, cid='nips')]"
     },
     "execution_count": 26,
     "metadata": {},
     "output_type": "execute_result"
    }
   ],
   "source": [
    "df_nodes_papers_comm = (\n",
    "    df_nodes_papers\n",
    "        .select(\n",
    "        F.col('id').alias('id'),\n",
    "        F.col('venue').alias('cid'),\n",
    "    )\n",
    "        .distinct()\n",
    ")\n",
    "df_nodes_papers_comm.head(5)"
   ],
   "metadata": {
    "collapsed": false,
    "pycharm": {
     "name": "#%%\n"
    }
   }
  },
  {
   "cell_type": "code",
   "execution_count": 27,
   "outputs": [
    {
     "data": {
      "text/plain": "[Row(id=26, cid=1),\n Row(id=29, cid=0),\n Row(id=474, cid=7),\n Row(id=474, cid=5),\n Row(id=964, cid=1)]"
     },
     "execution_count": 27,
     "metadata": {},
     "output_type": "execute_result"
    }
   ],
   "source": [
    "df_nodes_authors_comm = (\n",
    "    df_nodes_authors\n",
    "        .join(df_edges_authored, F.col('id') == F.col('src'), 'left')\n",
    "        .drop('src')\n",
    "        .withColumnRenamed('dst', 'paper_id')\n",
    "        .join(df_edges_published_in, F.col('paper_id') == F.col('src'), 'left')\n",
    "        .drop('src')\n",
    "        .withColumnRenamed('dst', 'cid')\n",
    "        .select(\n",
    "        F.col('id').alias('id'),\n",
    "        F.col('cid').alias('cid'),\n",
    "    )\n",
    "        .distinct()\n",
    ")\n",
    "df_nodes_authors_comm.head(5)"
   ],
   "metadata": {
    "collapsed": false,
    "pycharm": {
     "name": "#%%\n"
    }
   }
  },
  {
   "cell_type": "code",
   "execution_count": 28,
   "outputs": [
    {
     "name": "stderr",
     "output_type": "stream",
     "text": [
      "                                                                                \r"
     ]
    },
    {
     "data": {
      "text/plain": "[Row(id=4590, cid='1'),\n Row(id=1950, cid='11'),\n Row(id=2040, cid='1'),\n Row(id=2453, cid='0'),\n Row(id=3091, cid='8')]"
     },
     "execution_count": 28,
     "metadata": {},
     "output_type": "execute_result"
    }
   ],
   "source": [
    "df_nodes_comm = (\n",
    "    df_nodes_authors_comm\n",
    "        .union(df_nodes_papers_comm)\n",
    "        .union(df_nodes_venues_comm)\n",
    "        .distinct()\n",
    ")\n",
    "df_nodes_comm.head(5)"
   ],
   "metadata": {
    "collapsed": false,
    "pycharm": {
     "name": "#%%\n"
    }
   }
  },
  {
   "cell_type": "code",
   "execution_count": 29,
   "outputs": [
    {
     "name": "stderr",
     "output_type": "stream",
     "text": [
      "                                                                                \r"
     ]
    }
   ],
   "source": [
    "df_nodes_comm.coalesce(1).write.csv(\n",
    "    DATASET.processed_str('ground_truth.comlist.tmp'),\n",
    "    sep='\\t',\n",
    "    mode='overwrite',\n",
    "    header=None,\n",
    "    quoteAll=True\n",
    ")"
   ],
   "metadata": {
    "collapsed": false,
    "pycharm": {
     "name": "#%%\n"
    }
   }
  },
  {
   "cell_type": "code",
   "execution_count": 30,
   "outputs": [],
   "source": [
    "import shutil\n",
    "\n",
    "shutil.move(\n",
    "    str(next(DATASET.processed('ground_truth.comlist.tmp').glob('*.csv'))),\n",
    "    DATASET.processed_str('ground_truth.ncomlist')\n",
    ")\n",
    "\n",
    "shutil.rmtree(DATASET.processed_str('ground_truth.comlist.tmp'), ignore_errors=True)"
   ],
   "metadata": {
    "collapsed": false,
    "pycharm": {
     "name": "#%%\n"
    }
   }
  },
  {
   "cell_type": "code",
   "execution_count": 30,
   "outputs": [],
   "source": [],
   "metadata": {
    "collapsed": false,
    "pycharm": {
     "name": "#%%\n"
    }
   }
  }
 ],
 "metadata": {
  "kernelspec": {
   "display_name": "Python 3",
   "language": "python",
   "name": "python3"
  },
  "language_info": {
   "codemirror_mode": {
    "name": "ipython",
    "version": 2
   },
   "file_extension": ".py",
   "mimetype": "text/x-python",
   "name": "python",
   "nbconvert_exporter": "python",
   "pygments_lexer": "ipython2",
   "version": "2.7.6"
  }
 },
 "nbformat": 4,
 "nbformat_minor": 0
}