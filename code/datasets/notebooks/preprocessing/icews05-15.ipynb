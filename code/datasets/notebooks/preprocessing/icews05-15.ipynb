{
 "cells": [
  {
   "cell_type": "code",
   "execution_count": 1,
   "metadata": {
    "collapsed": true
   },
   "outputs": [],
   "source": [
    "%load_ext autoreload\n",
    "%autoreload 2"
   ]
  },
  {
   "cell_type": "code",
   "execution_count": 2,
   "outputs": [],
   "source": [
    "import pyspark.sql.functions as F\n",
    "import pyspark.sql.types as T\n",
    "from pyspark.sql import SparkSession"
   ],
   "metadata": {
    "collapsed": false,
    "pycharm": {
     "name": "#%%\n"
    }
   }
  },
  {
   "cell_type": "code",
   "execution_count": 3,
   "outputs": [],
   "source": [
    "from shared.paths import DatasetPath\n",
    "\n",
    "DS = DatasetPath('icews05-15')"
   ],
   "metadata": {
    "collapsed": false,
    "pycharm": {
     "name": "#%%\n"
    }
   }
  },
  {
   "cell_type": "code",
   "execution_count": 4,
   "outputs": [
    {
     "name": "stderr",
     "output_type": "stream",
     "text": [
      "WARNING: An illegal reflective access operation has occurred\n",
      "WARNING: Illegal reflective access by org.apache.spark.unsafe.Platform (file:/data/pella/projects/University/Thesis/Thesis/source/env/lib/python3.9/site-packages/pyspark/jars/spark-unsafe_2.12-3.2.0.jar) to constructor java.nio.DirectByteBuffer(long,int)\n",
      "WARNING: Please consider reporting this to the maintainers of org.apache.spark.unsafe.Platform\n",
      "WARNING: Use --illegal-access=warn to enable warnings of further illegal reflective access operations\n",
      "WARNING: All illegal access operations will be denied in a future release\n",
      "Using Spark's default log4j profile: org/apache/spark/log4j-defaults.properties\n",
      "Setting default log level to \"WARN\".\n",
      "To adjust logging level use sc.setLogLevel(newLevel). For SparkR, use setLogLevel(newLevel).\n",
      "22/04/06 11:22:45 WARN NativeCodeLoader: Unable to load native-hadoop library for your platform... using builtin-java classes where applicable\n"
     ]
    }
   ],
   "source": [
    "spark = (SparkSession.builder\n",
    "         .appName(str(DS))\n",
    "         .config('spark.sql.legacy.timeParserPolicy', 'LEGACY')\n",
    "         .config(\"spark.executor.memory\", \"8g\")\n",
    "         .config(\"spark.driver.memory\", \"8g\")\n",
    "         .config(\"spark.memory.offHeap.enabled\", True)\n",
    "         .config(\"spark.memory.offHeap.size\", \"16g\")\n",
    "         .getOrCreate())"
   ],
   "metadata": {
    "collapsed": false,
    "pycharm": {
     "name": "#%%\n"
    }
   }
  },
  {
   "cell_type": "code",
   "execution_count": 5,
   "outputs": [
    {
     "name": "stderr",
     "output_type": "stream",
     "text": [
      "                                                                                \r"
     ]
    },
    {
     "data": {
      "text/plain": "[Row(sub='Media Personnel (Pakistan)', pred='Make statement', obj='Chaudhry Nisar Ali Khan', time='2013-11-06'),\n Row(sub='William Ruto', pred='Make a visit', obj='The Hague', time='2013-02-13'),\n Row(sub='Catherine Ashton', pred='Express intent to meet or negotiate', obj='Grigol Vashadze', time='2010-07-14'),\n Row(sub='Ronnie Shikapwasha', pred='Make statement', obj='Michael Sata', time='2009-03-16'),\n Row(sub='Nuri al-Maliki', pred='Criticize or denounce', obj='Iraq', time='2011-11-16')]"
     },
     "execution_count": 5,
     "metadata": {},
     "output_type": "execute_result"
    }
   ],
   "source": [
    "schema = T.StructType([\n",
    "    T.StructField('sub', T.StringType(), False),\n",
    "    T.StructField('pred', T.StringType(), False),\n",
    "    T.StructField('obj', T.StringType(), False),\n",
    "    T.StructField('time', T.StringType(), True),\n",
    "])\n",
    "\n",
    "df = (\n",
    "    spark.read.csv([\n",
    "        DS.raw_str('icews_2005-2015_train.txt'),\n",
    "        DS.raw_str('icews_2005-2015_test.txt'),\n",
    "        DS.raw_str('icews_2005-2015_valid.txt'),\n",
    "    ], sep='\\t', header=False, schema=schema)\n",
    ")\n",
    "df.head(5)"
   ],
   "metadata": {
    "collapsed": false,
    "pycharm": {
     "name": "#%%\n"
    }
   }
  },
  {
   "cell_type": "code",
   "execution_count": 6,
   "outputs": [
    {
     "name": "stderr",
     "output_type": "stream",
     "text": [
      "                                                                                \r"
     ]
    },
    {
     "name": "stdout",
     "output_type": "stream",
     "text": [
      "Total Amount of predicates:251\n",
      "Selected Amount of predicates:123\n",
      "+--------------------+-----+\n",
      "|                pred|count|\n",
      "+--------------------+-----+\n",
      "|      Make statement|76184|\n",
      "|             Consult|49306|\n",
      "|Express intent to...|30576|\n",
      "|Make an appeal or...|26661|\n",
      "|        Make a visit|24422|\n",
      "+--------------------+-----+\n",
      "only showing top 5 rows\n",
      "\n"
     ]
    }
   ],
   "source": [
    "print('Total Amount of predicates:' + str(df.groupby('pred').count().count()))\n",
    "preds = df.groupby('pred').count().filter(F.col('count') > 100)\n",
    "print('Selected Amount of predicates:' + str(preds.count()))\n",
    "preds.sort('count', ascending=False).show(5)"
   ],
   "metadata": {
    "collapsed": false,
    "pycharm": {
     "name": "#%%\n"
    }
   }
  },
  {
   "cell_type": "code",
   "execution_count": 7,
   "outputs": [
    {
     "name": "stdout",
     "output_type": "stream",
     "text": [
      "Sanity Check Pred count: 123\n"
     ]
    },
    {
     "name": "stderr",
     "output_type": "stream",
     "text": [
      "                                                                                \r"
     ]
    },
    {
     "data": {
      "text/plain": "[Row(sub='Member of Parliament (India)', pred='Make statement', obj='Planning Commission (India)', time=datetime.datetime(2014, 8, 17, 0, 0), train=True, test=False, valid=False),\n Row(sub='Cabinet / Council of Ministers / Advisors (United States)', pred='Praise or endorse', obj='China', time=datetime.datetime(2009, 9, 17, 0, 0), train=True, test=False, valid=False),\n Row(sub='Citizen (Nigeria)', pred='Appeal for diplomatic cooperation (such as policy support)', obj='Media (Nigeria)', time=datetime.datetime(2015, 8, 17, 0, 0), train=True, test=False, valid=False),\n Row(sub='Citizen (Australia)', pred='Demonstrate or rally', obj='Police (Australia)', time=datetime.datetime(2014, 9, 18, 0, 0), train=True, test=False, valid=False),\n Row(sub='China', pred='Make statement', obj='Vietnam', time=datetime.datetime(2014, 6, 19, 0, 0), train=True, test=False, valid=False)]"
     },
     "execution_count": 7,
     "metadata": {},
     "output_type": "execute_result"
    }
   ],
   "source": [
    "df_raw_triples = (\n",
    "    df.select(\n",
    "        F.col('sub'),\n",
    "        F.col('pred'),\n",
    "        F.col('obj'),\n",
    "        F.col('time').cast(T.TimestampType()),\n",
    "        F.input_file_name().contains('train').alias('train'),\n",
    "        F.input_file_name().contains('test').alias('test'),\n",
    "        F.input_file_name().contains('valid').alias('valid'),\n",
    "    )\n",
    "        .join(preds.select(F.col('pred').alias('other__pred')), F.col('pred') == F.col('other__pred'), 'inner')\n",
    "        .drop('other__pred')\n",
    "        .sort('train', 'valid', 'test', ascending=False)\n",
    ")\n",
    "print('Sanity Check Pred count: ' + str(df_raw_triples.groupby('pred').count().count()))\n",
    "df_raw_triples.head(5)"
   ],
   "metadata": {
    "collapsed": false,
    "pycharm": {
     "name": "#%%\n"
    }
   }
  },
  {
   "cell_type": "code",
   "execution_count": 8,
   "outputs": [
    {
     "name": "stdout",
     "output_type": "stream",
     "text": [
      "Entity Count: 10463\n",
      "+--------------------+---+\n",
      "|                name| id|\n",
      "+--------------------+---+\n",
      "|Media Personnel (...|  0|\n",
      "|Emmanuel Eweta Ud...|  1|\n",
      "|      Moeletsi Mbeki|  2|\n",
      "|Insurgent (Afghan...|  3|\n",
      "|Christian (Indone...|  4|\n",
      "+--------------------+---+\n",
      "only showing top 5 rows\n",
      "\n"
     ]
    }
   ],
   "source": [
    "df_node_entities = (\n",
    "    df_raw_triples.select(F.col('sub').alias('name'))\n",
    "        .union(df_raw_triples.select(F.col('obj').alias('name')))\n",
    "        .distinct()\n",
    "        .coalesce(1)\n",
    "        .withColumn('id', F.monotonically_increasing_id())\n",
    ")\n",
    "print('Entity Count: ' + str(df_node_entities.count()))\n",
    "df_node_entities.show(5)"
   ],
   "metadata": {
    "collapsed": false,
    "pycharm": {
     "name": "#%%\n"
    }
   }
  },
  {
   "cell_type": "code",
   "execution_count": 9,
   "outputs": [],
   "source": [
    "import re\n",
    "\n",
    "@F.udf(T.StringType(), returnType=T.StringType())\n",
    "def string_to_identifier(s):\n",
    "    # Remove invalid characters\n",
    "    s = re.sub('[^0-9a-zA-Z_\\s]', '', s)\n",
    "\n",
    "    # Remove leading characters until we find a letter or underscore\n",
    "    s = re.sub('^[^a-zA-Z_]+', '', s)\n",
    "\n",
    "    return s.title().replace(' ', '')"
   ],
   "metadata": {
    "collapsed": false,
    "pycharm": {
     "name": "#%%\n"
    }
   }
  },
  {
   "cell_type": "code",
   "execution_count": 10,
   "outputs": [
    {
     "name": "stderr",
     "output_type": "stream",
     "text": [
      "                                                                                \r"
     ]
    },
    {
     "name": "stdout",
     "output_type": "stream",
     "text": [
      "Edge Count: 457514\n"
     ]
    },
    {
     "name": "stderr",
     "output_type": "stream",
     "text": [
      "[Stage 80:=====================>                                    (3 + 5) / 8]\r"
     ]
    },
    {
     "name": "stdout",
     "output_type": "stream",
     "text": [
      "+---------------+--------------+------------+-----+-----+-----+---+----+\n",
      "|           type|timestamp_from|timestamp_to|train| test|valid|src| dst|\n",
      "+---------------+--------------+------------+-----+-----+-----+---+----+\n",
      "|  MakeStatement|    1383433200|  1383433200| true|false|false|  0|7871|\n",
      "|PraiseOrEndorse|    1377986400|  1377986400| true|false|false|  1|4342|\n",
      "|  MakeStatement|    1348783200|  1348783200| true|false|false|  1| 785|\n",
      "|        Consult|    1214604000|  1214604000| true|false|false|  2| 393|\n",
      "|          Yield|    1267398000|  1267398000| true|false|false|  1|5324|\n",
      "+---------------+--------------+------------+-----+-----+-----+---+----+\n",
      "only showing top 5 rows\n",
      "\n"
     ]
    },
    {
     "name": "stderr",
     "output_type": "stream",
     "text": [
      "                                                                                \r"
     ]
    }
   ],
   "source": [
    "df_all_edges = (\n",
    "    df_raw_triples\n",
    "        .select(\n",
    "            F.col('sub'),\n",
    "            F.col('obj'),\n",
    "            string_to_identifier(F.col('pred')).alias('type'),\n",
    "            F.unix_timestamp('time').alias('timestamp_from'),\n",
    "            F.unix_timestamp('time').alias('timestamp_to'),\n",
    "            F.col('train').alias('train'),\n",
    "            F.col('test').alias('test'),\n",
    "            F.col('valid').alias('valid'),\n",
    "        )\n",
    "        .join(df_node_entities.withColumnRenamed('id', 'src'), F.col('sub') == F.col('name'))\n",
    "        .drop('name')\n",
    "        .join(df_node_entities.withColumnRenamed('id', 'dst'), F.col('obj') == F.col('name'))\n",
    "        .drop('name')\n",
    "    .drop('sub', 'obj')\n",
    "\n",
    ")\n",
    "print('Edge Count: ' + str(df_all_edges.count()))\n",
    "df_all_edges.show(5)"
   ],
   "metadata": {
    "collapsed": false,
    "pycharm": {
     "name": "#%%\n"
    }
   }
  },
  {
   "cell_type": "code",
   "execution_count": 11,
   "outputs": [
    {
     "name": "stderr",
     "output_type": "stream",
     "text": [
      "                                                                                \r"
     ]
    }
   ],
   "source": [
    "df_node_entities.write.parquet(DS.processed_str('node__Entity'), mode='overwrite')\n",
    "\n",
    "df_all_edges.write.parquet(DS.processed_str('edge__Entity_Rel_Entity'), mode='overwrite')"
   ],
   "metadata": {
    "collapsed": false,
    "pycharm": {
     "name": "#%%\n"
    }
   }
  },
  {
   "cell_type": "code",
   "execution_count": 11,
   "outputs": [],
   "source": [],
   "metadata": {
    "collapsed": false,
    "pycharm": {
     "name": "#%%\n"
    }
   }
  }
 ],
 "metadata": {
  "kernelspec": {
   "display_name": "Python 3",
   "language": "python",
   "name": "python3"
  },
  "language_info": {
   "codemirror_mode": {
    "name": "ipython",
    "version": 2
   },
   "file_extension": ".py",
   "mimetype": "text/x-python",
   "name": "python",
   "nbconvert_exporter": "python",
   "pygments_lexer": "ipython2",
   "version": "2.7.6"
  }
 },
 "nbformat": 4,
 "nbformat_minor": 0
}