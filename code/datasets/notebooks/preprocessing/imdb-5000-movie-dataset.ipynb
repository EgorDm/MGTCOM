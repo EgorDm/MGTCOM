{
 "cells": [
  {
   "cell_type": "code",
   "execution_count": 49,
   "metadata": {
    "collapsed": true
   },
   "outputs": [
    {
     "name": "stdout",
     "output_type": "stream",
     "text": [
      "The autoreload extension is already loaded. To reload it, use:\n",
      "  %reload_ext autoreload\n"
     ]
    }
   ],
   "source": [
    "%load_ext autoreload\n",
    "%autoreload 2"
   ]
  },
  {
   "cell_type": "code",
   "execution_count": 50,
   "outputs": [],
   "source": [
    "import pyspark.sql.functions as F\n",
    "from pyspark.sql import SparkSession\n",
    "\n",
    "from shared.constants import DatasetPath"
   ],
   "metadata": {
    "collapsed": false,
    "pycharm": {
     "name": "#%%\n"
    }
   }
  },
  {
   "cell_type": "code",
   "execution_count": 51,
   "outputs": [],
   "source": [
    "DATASET = DatasetPath('imdb-5000-movie-dataset')"
   ],
   "metadata": {
    "collapsed": false,
    "pycharm": {
     "name": "#%%\n"
    }
   }
  },
  {
   "cell_type": "code",
   "execution_count": 52,
   "outputs": [],
   "source": [
    "spark = (SparkSession.builder\n",
    "         .appName(f'{DATASET}')\n",
    "         .config('spark.sql.legacy.timeParserPolicy', 'LEGACY')\n",
    "         .config(\"spark.executor.memory\", \"8g\")\n",
    "         .config(\"spark.driver.memory\", \"8g\")\n",
    "         .config(\"spark.memory.offHeap.enabled\", True)\n",
    "         .config(\"spark.memory.offHeap.size\", \"16g\")\n",
    "         .getOrCreate())"
   ],
   "metadata": {
    "collapsed": false,
    "pycharm": {
     "name": "#%%\n"
    }
   }
  },
  {
   "cell_type": "code",
   "execution_count": 53,
   "outputs": [
    {
     "data": {
      "text/plain": "[Row(color='Color', director_name='James Cameron', num_critic_for_reviews=723, duration=178, director_facebook_likes=0, actor_3_facebook_likes=855, actor_2_name='Joel David Moore', actor_1_facebook_likes=1000, gross=760505847, genres=['Action', 'Adventure', 'Fantasy', 'Sci-Fi'], actor_1_name='CCH Pounder', movie_title='Avatar\\xa0', num_voted_users=886204, cast_total_facebook_likes=4834, actor_3_name='Wes Studi', facenumber_in_poster=0, plot_keywords=['avatar', 'future', 'marine', 'native', 'paraplegic'], movie_imdb_link='http://www.imdb.com/title/tt0499549/?ref_=fn_tt_tt_1', num_user_for_reviews=3054, language='English', country='USA', content_rating='PG-13', budget=237000000, title_year=2009, actor_2_facebook_likes=936, imdb_score=7.9, aspect_ratio=1.78, movie_facebook_likes=33000, id='tt0499549'),\n Row(color='Color', director_name='Gore Verbinski', num_critic_for_reviews=302, duration=169, director_facebook_likes=563, actor_3_facebook_likes=1000, actor_2_name='Orlando Bloom', actor_1_facebook_likes=40000, gross=309404152, genres=['Action', 'Adventure', 'Fantasy'], actor_1_name='Johnny Depp', movie_title=\"Pirates of the Caribbean: At World's End\\xa0\", num_voted_users=471220, cast_total_facebook_likes=48350, actor_3_name='Jack Davenport', facenumber_in_poster=0, plot_keywords=['goddess', 'marriage ceremony', 'marriage proposal', 'pirate', 'singapore'], movie_imdb_link='http://www.imdb.com/title/tt0449088/?ref_=fn_tt_tt_1', num_user_for_reviews=1238, language='English', country='USA', content_rating='PG-13', budget=300000000, title_year=2007, actor_2_facebook_likes=5000, imdb_score=7.1, aspect_ratio=2.35, movie_facebook_likes=0, id='tt0449088'),\n Row(color='Color', director_name='Sam Mendes', num_critic_for_reviews=602, duration=148, director_facebook_likes=0, actor_3_facebook_likes=161, actor_2_name='Rory Kinnear', actor_1_facebook_likes=11000, gross=200074175, genres=['Action', 'Adventure', 'Thriller'], actor_1_name='Christoph Waltz', movie_title='Spectre\\xa0', num_voted_users=275868, cast_total_facebook_likes=11700, actor_3_name='Stephanie Sigman', facenumber_in_poster=1, plot_keywords=['bomb', 'espionage', 'sequel', 'spy', 'terrorist'], movie_imdb_link='http://www.imdb.com/title/tt2379713/?ref_=fn_tt_tt_1', num_user_for_reviews=994, language='English', country='UK', content_rating='PG-13', budget=245000000, title_year=2015, actor_2_facebook_likes=393, imdb_score=6.8, aspect_ratio=2.35, movie_facebook_likes=85000, id='tt2379713'),\n Row(color='Color', director_name='Christopher Nolan', num_critic_for_reviews=813, duration=164, director_facebook_likes=22000, actor_3_facebook_likes=23000, actor_2_name='Christian Bale', actor_1_facebook_likes=27000, gross=448130642, genres=['Action', 'Thriller'], actor_1_name='Tom Hardy', movie_title='The Dark Knight Rises\\xa0', num_voted_users=1144337, cast_total_facebook_likes=106759, actor_3_name='Joseph Gordon-Levitt', facenumber_in_poster=0, plot_keywords=['deception', 'imprisonment', 'lawlessness', 'police officer', 'terrorist plot'], movie_imdb_link='http://www.imdb.com/title/tt1345836/?ref_=fn_tt_tt_1', num_user_for_reviews=2701, language='English', country='USA', content_rating='PG-13', budget=250000000, title_year=2012, actor_2_facebook_likes=23000, imdb_score=8.5, aspect_ratio=2.35, movie_facebook_likes=164000, id='tt1345836'),\n Row(color=None, director_name='Doug Walker', num_critic_for_reviews=None, duration=None, director_facebook_likes=131, actor_3_facebook_likes=None, actor_2_name='Rob Walker', actor_1_facebook_likes=131, gross=None, genres=['Documentary'], actor_1_name='Doug Walker', movie_title='Star Wars: Episode VII - The Force Awakens\\xa0            ', num_voted_users=8, cast_total_facebook_likes=143, actor_3_name=None, facenumber_in_poster=0, plot_keywords=None, movie_imdb_link='http://www.imdb.com/title/tt5289954/?ref_=fn_tt_tt_1', num_user_for_reviews=None, language=None, country=None, content_rating=None, budget=None, title_year=None, actor_2_facebook_likes=12, imdb_score=7.1, aspect_ratio=None, movie_facebook_likes=0, id='tt5289954')]"
     },
     "execution_count": 53,
     "metadata": {},
     "output_type": "execute_result"
    }
   ],
   "source": [
    "df = (\n",
    "    spark.read.csv(DATASET.raw_str('movie_metadata.csv'), header=True, inferSchema=True)\n",
    "        .withColumn('id', F.regexp_extract('movie_imdb_link', 'http:\\/\\/www.imdb.com\\/title\\/([A-z0-9]+)\\/(.*)', 1))\n",
    "        .withColumn('plot_keywords', F.split('plot_keywords', '\\|'))\n",
    "        .withColumn('genres', F.split('genres', '\\|'))\n",
    ")\n",
    "df.head(5)"
   ],
   "metadata": {
    "collapsed": false,
    "pycharm": {
     "name": "#%%\n"
    }
   }
  },
  {
   "cell_type": "code",
   "execution_count": 54,
   "outputs": [
    {
     "name": "stdout",
     "output_type": "stream",
     "text": [
      "8491\n"
     ]
    },
    {
     "data": {
      "text/plain": "[Row(name='Doug Walker', facebook_likes=131, id='Doug Walker'),\n Row(name='Oliver Platt', facebook_likes=1000, id='Oliver Platt'),\n Row(name='Snoop Dogg', facebook_likes=881, id='Snoop Dogg'),\n Row(name='Stephen Root', facebook_likes=939, id='Stephen Root'),\n Row(name='Laurence Olivier', facebook_likes=1000, id='Laurence Olivier')]"
     },
     "execution_count": 54,
     "metadata": {},
     "output_type": "execute_result"
    }
   ],
   "source": [
    "df_nodes_persons = (\n",
    "    df.select(F.col('actor_1_name').alias('name'), F.col('actor_1_facebook_likes').alias('facebook_likes'))\n",
    "        .union(df.select(F.col('actor_2_name').alias('name'), F.col('actor_2_facebook_likes').alias('facebook_likes')))\n",
    "        .union(df.select(F.col('actor_3_name').alias('name'), F.col('actor_3_facebook_likes').alias('facebook_likes')))\n",
    "        .union(df.select(F.col('director_name').alias('name'), F.col('director_facebook_likes').alias('facebook_likes')))\n",
    "        .dropDuplicates(['name'])\n",
    "        .filter(F.col('name').isNotNull())\n",
    "        .withColumn('id', F.col('name'))\n",
    ")\n",
    "print(df_nodes_persons.count())\n",
    "df_nodes_persons.head(5)"
   ],
   "metadata": {
    "collapsed": false,
    "pycharm": {
     "name": "#%%\n"
    }
   }
  },
  {
   "cell_type": "code",
   "execution_count": 55,
   "outputs": [
    {
     "name": "stdout",
     "output_type": "stream",
     "text": [
      "26\n"
     ]
    },
    {
     "data": {
      "text/plain": "[Row(name='Crime', id='Crime'),\n Row(name='Romance', id='Romance'),\n Row(name='Thriller', id='Thriller'),\n Row(name='Adventure', id='Adventure'),\n Row(name='Drama', id='Drama')]"
     },
     "execution_count": 55,
     "metadata": {},
     "output_type": "execute_result"
    }
   ],
   "source": [
    "df_nodes_genres = (\n",
    "    df.select(F.explode('genres').alias('name'))\n",
    "        .dropDuplicates(['name'])\n",
    "        .withColumn('id', F.col('name'))\n",
    "        .filter(F.col('id').isNotNull())\n",
    ")\n",
    "print(df_nodes_genres.count())\n",
    "df_nodes_genres.head(5)"
   ],
   "metadata": {
    "collapsed": false,
    "pycharm": {
     "name": "#%%\n"
    }
   }
  },
  {
   "cell_type": "code",
   "execution_count": 56,
   "outputs": [
    {
     "name": "stdout",
     "output_type": "stream",
     "text": [
      "3178\n"
     ]
    },
    {
     "data": {
      "text/plain": "[Row(name='ingratitude', count=2, id='ingratitude'),\n Row(name='title appears in writing', count=3, id='title appears in writing'),\n Row(name='space colony', count=2, id='space colony'),\n Row(name='travel', count=17, id='travel'),\n Row(name='ransom', count=9, id='ransom')]"
     },
     "execution_count": 56,
     "metadata": {},
     "output_type": "execute_result"
    }
   ],
   "source": [
    "df_nodes_keywords = (\n",
    "    df.select(F.explode('plot_keywords').alias('name'))\n",
    "        .groupby('name')\n",
    "        .count().filter('count > 1')\n",
    "        .withColumn('id', F.col('name'))\n",
    "        .filter(F.col('id').isNotNull())\n",
    ")\n",
    "print(df_nodes_keywords.count())\n",
    "df_nodes_keywords.head(5)"
   ],
   "metadata": {
    "collapsed": false,
    "pycharm": {
     "name": "#%%\n"
    }
   }
  },
  {
   "cell_type": "code",
   "execution_count": 57,
   "outputs": [
    {
     "name": "stdout",
     "output_type": "stream",
     "text": [
      "4919\n"
     ]
    },
    {
     "data": {
      "text/plain": "[Row(color=' Black and White', num_critic_for_reviews=69, duration=123, gross=None, num_voted_users=10718, cast_total_facebook_likes=481, facenumber_in_poster=1, plot_keywords=['huguenot', 'intolerance', 'medicis', 'protestant', 'wedding'], num_user_for_reviews=88, language=None, country='USA', content_rating='Not Rated', budget=385907, title_year=1916, imdb_score=8.0, aspect_ratio=1.33, movie_facebook_likes=691, id='tt0006864', name=\"Intolerance: Love's Struggle Throughout the Ages\\xa0\", timestamp=datetime.datetime(1916, 1, 1, 0, 0)),\n Row(color=' Black and White', num_critic_for_reviews=1, duration=110, gross=3000000, num_voted_users=5, cast_total_facebook_likes=4, facenumber_in_poster=1, plot_keywords=['family relationships', 'gang', 'idler', 'poorhouse', 'thief'], num_user_for_reviews=1, language=None, country='USA', content_rating=None, budget=100000, title_year=1920, imdb_score=4.8, aspect_ratio=1.33, movie_facebook_likes=0, id='tt0011549', name='Over the Hill to the Poorhouse\\xa0', timestamp=datetime.datetime(1920, 1, 1, 0, 0)),\n Row(color=' Black and White', num_critic_for_reviews=48, duration=151, gross=None, num_voted_users=4849, cast_total_facebook_likes=108, facenumber_in_poster=0, plot_keywords=['chewing gum', 'climbing a tree', 'france', 'translation problems', 'world war one'], num_user_for_reviews=45, language=None, country='USA', content_rating='Not Rated', budget=245000, title_year=1925, imdb_score=8.3, aspect_ratio=1.33, movie_facebook_likes=226, id='tt0015624', name='The Big Parade\\xa0', timestamp=datetime.datetime(1925, 1, 1, 0, 0)),\n Row(color=' Black and White', num_critic_for_reviews=260, duration=145, gross=26435, num_voted_users=111841, cast_total_facebook_likes=203, facenumber_in_poster=1, plot_keywords=['art deco', 'bible quote', 'dance', 'silent film', 'worker'], num_user_for_reviews=413, language='German', country='Germany', content_rating='Not Rated', budget=6000000, title_year=1927, imdb_score=8.3, aspect_ratio=1.33, movie_facebook_likes=12000, id='tt0017136', name='Metropolis\\xa0', timestamp=datetime.datetime(1927, 1, 1, 0, 0)),\n Row(color=' Black and White', num_critic_for_reviews=71, duration=110, gross=9950, num_voted_users=7431, cast_total_facebook_likes=455, facenumber_in_poster=1, plot_keywords=['escape', 'femme fatale', 'german expressionism', 'lust', 'violence'], num_user_for_reviews=84, language='German', country='Germany', content_rating='Not Rated', budget=None, title_year=1929, imdb_score=8.0, aspect_ratio=1.33, movie_facebook_likes=926, id='tt0018737', name=\"Pandora's Box\\xa0\", timestamp=datetime.datetime(1929, 1, 1, 0, 0))]"
     },
     "execution_count": 57,
     "metadata": {},
     "output_type": "execute_result"
    }
   ],
   "source": [
    "df_nodes_movies = (\n",
    "    df\n",
    "        .withColumn('name', F.col('movie_title'))\n",
    "        .drop(\n",
    "        'genres', 'movie_title',\n",
    "        'actor_1_name', 'actor_1_facebook_likes',\n",
    "        'actor_2_name', 'actor_2_facebook_likes',\n",
    "        'actor_3_name', 'actor_3_facebook_likes',\n",
    "        'director_name', 'director_facebook_likes',\n",
    "        'movie_imdb_link'\n",
    "    ).withColumn('timestamp', F.to_timestamp(F.col('title_year').cast('string'), 'yyyy'))\n",
    "    .filter(F.col('id').isNotNull())\n",
    "    .dropDuplicates(['id'])\n",
    ")\n",
    "print(df_nodes_movies.count())\n",
    "df_nodes_movies.head(5)"
   ],
   "metadata": {
    "collapsed": false,
    "pycharm": {
     "name": "#%%\n"
    }
   }
  },
  {
   "cell_type": "code",
   "execution_count": 58,
   "outputs": [
    {
     "data": {
      "text/plain": "[Row(src='Nicolas Cage', dst='tt0187078'),\n Row(src='Channing Tatum', dst='tt1578275'),\n Row(src='Jada Pinkett Smith', dst='tt0117218'),\n Row(src='Matt Damon', dst='tt1385826'),\n Row(src='Kevin Spacey', dst='tt0120623')]"
     },
     "execution_count": 58,
     "metadata": {},
     "output_type": "execute_result"
    }
   ],
   "source": [
    "df_edges_acted_in = (\n",
    "    df.select(F.col('id').alias('movie_id'), F.col('actor_1_name').alias('actor_name'))\n",
    "        .union(df.select(F.col('id').alias('movie_id'), F.col('actor_2_name').alias('actor_name')))\n",
    "        .union(df.select(F.col('id').alias('movie_id'), F.col('actor_3_name').alias('actor_name')))\n",
    "        .dropDuplicates(['movie_id', 'actor_name'])\n",
    "        .select(F.col('actor_name').alias('src'), F.col('movie_id').alias('dst'))\n",
    "        .filter(F.col('src').isNotNull())\n",
    "        .filter(F.col('dst').isNotNull())\n",
    ")\n",
    "df_edges_acted_in.head(5)"
   ],
   "metadata": {
    "collapsed": false,
    "pycharm": {
     "name": "#%%\n"
    }
   }
  },
  {
   "cell_type": "code",
   "execution_count": 59,
   "outputs": [
    {
     "data": {
      "text/plain": "[Row(src='Judd Apatow', dst='tt1201167'),\n Row(src='Tony Bill', dst='tt0454824'),\n Row(src='Rod Lurie', dst='tt0272020'),\n Row(src='Tim Miller', dst='tt1431045'),\n Row(src='Anthony Hemingway', dst='tt0485985')]"
     },
     "execution_count": 59,
     "metadata": {},
     "output_type": "execute_result"
    }
   ],
   "source": [
    "df_edges_directed = (\n",
    "    df.select(F.col('id').alias('movie_id'), F.col('director_name').alias('director_name'))\n",
    "        .dropDuplicates(['movie_id', 'director_name'])\n",
    "        .select(F.col('director_name').alias('src'), F.col('movie_id').alias('dst'))\n",
    "        .filter(F.col('src').isNotNull())\n",
    "        .filter(F.col('dst').isNotNull())\n",
    ")\n",
    "df_edges_directed.head(5)"
   ],
   "metadata": {
    "collapsed": false,
    "pycharm": {
     "name": "#%%\n"
    }
   }
  },
  {
   "cell_type": "code",
   "execution_count": 60,
   "outputs": [
    {
     "data": {
      "text/plain": "[Row(src='tt1375666', dst='Adventure'),\n Row(src='tt0413267', dst='Adventure'),\n Row(src='tt0436339', dst='Animation'),\n Row(src='tt1680310', dst='Action'),\n Row(src='tt1320261', dst='Family')]"
     },
     "execution_count": 60,
     "metadata": {},
     "output_type": "execute_result"
    }
   ],
   "source": [
    "df_edges_has_genre = (\n",
    "    df.select(F.col('id').alias('movie_id'), F.explode('genres').alias('genre'))\n",
    "        .dropDuplicates(['movie_id', 'genre'])\n",
    "        .select(F.col('movie_id').alias('src'), F.col('genre').alias('dst'))\n",
    "        .filter(F.col('src').isNotNull())\n",
    "        .filter(F.col('dst').isNotNull())\n",
    ")\n",
    "df_edges_has_genre.head(5)"
   ],
   "metadata": {
    "collapsed": false,
    "pycharm": {
     "name": "#%%\n"
    }
   }
  },
  {
   "cell_type": "code",
   "execution_count": 61,
   "outputs": [
    {
     "data": {
      "text/plain": "[Row(src='tt0371746', dst='billionaire'),\n Row(src='tt0938283', dst='kingdom'),\n Row(src='tt1229238', dst='race against time'),\n Row(src='tt0122151', dst='lapd'),\n Row(src='tt0177971', dst='storm')]"
     },
     "execution_count": 61,
     "metadata": {},
     "output_type": "execute_result"
    }
   ],
   "source": [
    "df_edges_has_keyword = (\n",
    "    df.select(F.col('id').alias('movie_id'), F.explode('plot_keywords').alias('plot_keywords'))\n",
    "        .dropDuplicates(['movie_id', 'plot_keywords'])\n",
    "        .select(F.col('movie_id').alias('src'), F.col('plot_keywords').alias('dst'))\n",
    "        .filter(F.col('src').isNotNull())\n",
    "        .filter(F.col('dst').isNotNull())\n",
    "        .join(df_nodes_keywords.select('id'), F.col('id') ==  F.col('dst'), 'inner')\n",
    "        .drop('id')\n",
    ")\n",
    "df_edges_has_keyword.head(5)"
   ],
   "metadata": {
    "collapsed": false,
    "pycharm": {
     "name": "#%%\n"
    }
   }
  },
  {
   "cell_type": "code",
   "execution_count": 62,
   "outputs": [],
   "source": [
    "df_nodes_persons.write.parquet(DATASET.processed_str('nodes_Persons'), mode='overwrite')\n",
    "df_nodes_genres.write.parquet(DATASET.processed_str('nodes_Genres'), mode='overwrite')\n",
    "df_nodes_keywords.write.parquet(DATASET.processed_str('nodes_Keywords'), mode='overwrite')\n",
    "df_nodes_movies.write.parquet(DATASET.processed_str('nodes_Movies'), mode='overwrite')\n",
    "\n",
    "df_edges_acted_in.write.parquet(DATASET.processed_str('edges_ACTED_IN'), mode='overwrite')\n",
    "df_edges_directed.write.parquet(DATASET.processed_str('edges_DIRECTED'), mode='overwrite')\n",
    "df_edges_has_genre.write.parquet(DATASET.processed_str('edges_HAS_GENRE'), mode='overwrite')\n",
    "df_edges_has_keyword.write.parquet(DATASET.processed_str('edges_HAS_KEYWORD'), mode='overwrite')"
   ],
   "metadata": {
    "collapsed": false,
    "pycharm": {
     "name": "#%%\n"
    }
   }
  },
  {
   "cell_type": "code",
   "execution_count": 63,
   "outputs": [
    {
     "name": "stdout",
     "output_type": "stream",
     "text": [
      "[2022-01-19 16:48:13,709][/dd_volume/Development/Python/Thesis/code/datasets/datasets/build_schema.py][DEBUG] Merging old schema for imdb-5000-movie-dataset\n"
     ]
    },
    {
     "data": {
      "text/plain": "DatasetSchema(name='imdb-5000-movie-dataset', prefix='Imdb_5000MovieDataset', database='imdb-5000-movie-dataset', description='None', nodes=[NodeSchema(path='data/processed/imdb-5000-movie-dataset/nodes_Persons', properties=[Property(name='name', type='string', ignore=False, label=True, timestamp=False), Property(name='facebook_likes', type='int', ignore=False, label=False, timestamp=False), Property(name='id', type='string', ignore=False, label=False, timestamp=False)], label='Person'), NodeSchema(path='data/processed/imdb-5000-movie-dataset/nodes_Genres', properties=[Property(name='name', type='string', ignore=False, label=True, timestamp=False), Property(name='id', type='string', ignore=False, label=False, timestamp=False)], label='Genre'), NodeSchema(path='data/processed/imdb-5000-movie-dataset/nodes_Keywords', properties=[Property(name='name', type='string', ignore=False, label=True, timestamp=False), Property(name='count', type='long', ignore=True, label=False, timestamp=False), Property(name='id', type='string', ignore=False, label=False, timestamp=False)], label='Keyword'), NodeSchema(path='data/processed/imdb-5000-movie-dataset/nodes_Movies', properties=[Property(name='color', type='string', ignore=False, label=False, timestamp=False), Property(name='num_critic_for_reviews', type='int', ignore=False, label=False, timestamp=False), Property(name='duration', type='int', ignore=False, label=False, timestamp=False), Property(name='gross', type='int', ignore=False, label=False, timestamp=False), Property(name='num_voted_users', type='int', ignore=False, label=False, timestamp=False), Property(name='cast_total_facebook_likes', type='int', ignore=False, label=False, timestamp=False), Property(name='facenumber_in_poster', type='int', ignore=False, label=False, timestamp=False), Property(name='plot_keywords', type='string[]', ignore=False, label=False, timestamp=False), Property(name='num_user_for_reviews', type='int', ignore=False, label=False, timestamp=False), Property(name='language', type='string', ignore=False, label=False, timestamp=False), Property(name='country', type='string', ignore=False, label=False, timestamp=False), Property(name='content_rating', type='string', ignore=False, label=False, timestamp=False), Property(name='budget', type='long', ignore=False, label=False, timestamp=False), Property(name='title_year', type='int', ignore=False, label=False, timestamp=False), Property(name='imdb_score', type='double', ignore=False, label=False, timestamp=False), Property(name='aspect_ratio', type='double', ignore=False, label=False, timestamp=False), Property(name='movie_facebook_likes', type='int', ignore=False, label=False, timestamp=False), Property(name='id', type='string', ignore=False, label=False, timestamp=False), Property(name='name', type='string', ignore=False, label=True, timestamp=False), Property(name='timestamp', type='datetime', ignore=False, label=False, timestamp=True)], label='Movie')], edges=[EdgeSchema(path='data/processed/imdb-5000-movie-dataset/edges_ACTED_IN', properties=[Property(name='src', type='string', ignore=False, label=False, timestamp=False), Property(name='dst', type='string', ignore=False, label=False, timestamp=False)], type='ACTED_IN', source='Person', target='Movie', directed=True), EdgeSchema(path='data/processed/imdb-5000-movie-dataset/edges_DIRECTED', properties=[Property(name='src', type='string', ignore=False, label=False, timestamp=False), Property(name='dst', type='string', ignore=False, label=False, timestamp=False)], type='DIRECTED', source='Person', target='Movie', directed=True), EdgeSchema(path='data/processed/imdb-5000-movie-dataset/edges_HAS_GENRE', properties=[Property(name='src', type='string', ignore=False, label=False, timestamp=False), Property(name='dst', type='string', ignore=False, label=False, timestamp=False)], type='HAS_GENRE', source='Movie', target='Genre', directed=True), EdgeSchema(path='data/processed/imdb-5000-movie-dataset/edges_HAS_KEYWORD', properties=[Property(name='src', type='string', ignore=False, label=False, timestamp=False), Property(name='dst', type='string', ignore=False, label=False, timestamp=False)], type='HAS_KEYWORD', source='Movie', target='Keyword', directed=True)])"
     },
     "execution_count": 63,
     "metadata": {},
     "output_type": "execute_result"
    }
   ],
   "source": [
    "from datasets.build_schema import build_schema\n",
    "\n",
    "build_schema(\n",
    "    spark,\n",
    "    name=str(DATASET),\n",
    "    nodes=[\n",
    "        ('Person', DATASET.processed_str('nodes_Persons')),\n",
    "        ('Genre', DATASET.processed_str('nodes_Genres')),\n",
    "        ('Keyword', DATASET.processed_str('nodes_Keywords')),\n",
    "        ('Movie', DATASET.processed_str('nodes_Movies')),\n",
    "    ],\n",
    "    edges=[\n",
    "        ('ActedIn', 'Person', 'Movie', DATASET.processed_str('edges_ACTED_IN')),\n",
    "        ('Directed', 'Person', 'Movie', DATASET.processed_str('edges_DIRECTED')),\n",
    "        ('HasGenre', 'Movie', 'Genre', DATASET.processed_str('edges_HAS_GENRE')),\n",
    "        ('HasKeyword', 'Movie', 'Keyword', DATASET.processed_str('edges_HAS_KEYWORD')),\n",
    "    ]\n",
    ")"
   ],
   "metadata": {
    "collapsed": false,
    "pycharm": {
     "name": "#%%\n"
    }
   }
  },
  {
   "cell_type": "code",
   "execution_count": 63,
   "outputs": [],
   "source": [],
   "metadata": {
    "collapsed": false,
    "pycharm": {
     "name": "#%%\n"
    }
   }
  }
 ],
 "metadata": {
  "kernelspec": {
   "display_name": "Python 3",
   "language": "python",
   "name": "python3"
  },
  "language_info": {
   "codemirror_mode": {
    "name": "ipython",
    "version": 2
   },
   "file_extension": ".py",
   "mimetype": "text/x-python",
   "name": "python",
   "nbconvert_exporter": "python",
   "pygments_lexer": "ipython2",
   "version": "2.7.6"
  }
 },
 "nbformat": 4,
 "nbformat_minor": 0
}