{
 "cells": [
  {
   "cell_type": "code",
   "execution_count": 5,
   "metadata": {},
   "outputs": [],
   "source": [
    "%load_ext autoreload\n",
    "%autoreload 2"
   ]
  },
  {
   "cell_type": "code",
   "execution_count": 6,
   "metadata": {
    "pycharm": {
     "name": "#%%\n"
    }
   },
   "outputs": [],
   "source": [
    "import pyspark.sql.functions as F\n",
    "from pyspark.sql import SparkSession"
   ]
  },
  {
   "cell_type": "code",
   "execution_count": 7,
   "metadata": {
    "pycharm": {
     "name": "#%%\n"
    }
   },
   "outputs": [],
   "source": [
    "from shared.schema import DatasetSchema\n",
    "\n",
    "DATASET = DatasetSchema.load_schema('imdb-5000-movie-dataset')\n",
    "DATASET.save_schema()"
   ]
  },
  {
   "cell_type": "code",
   "execution_count": 8,
   "metadata": {
    "pycharm": {
     "name": "#%%\n"
    }
   },
   "outputs": [
    {
     "name": "stderr",
     "output_type": "stream",
     "text": [
      "WARNING: An illegal reflective access operation has occurred\n",
      "WARNING: Illegal reflective access by org.apache.spark.unsafe.Platform (file:/data/pella/projects/University/Thesis/Thesis/code/env/lib/python3.9/site-packages/pyspark/jars/spark-unsafe_2.12-3.2.0.jar) to constructor java.nio.DirectByteBuffer(long,int)\n",
      "WARNING: Please consider reporting this to the maintainers of org.apache.spark.unsafe.Platform\n",
      "WARNING: Use --illegal-access=warn to enable warnings of further illegal reflective access operations\n",
      "WARNING: All illegal access operations will be denied in a future release\n",
      "Using Spark's default log4j profile: org/apache/spark/log4j-defaults.properties\n",
      "Setting default log level to \"WARN\".\n",
      "To adjust logging level use sc.setLogLevel(newLevel). For SparkR, use setLogLevel(newLevel).\n",
      "22/03/12 11:44:42 WARN NativeCodeLoader: Unable to load native-hadoop library for your platform... using builtin-java classes where applicable\n"
     ]
    }
   ],
   "source": [
    "spark = (SparkSession.builder\n",
    "         .appName(f'{DATASET}')\n",
    "         .config('spark.sql.legacy.timeParserPolicy', 'LEGACY')\n",
    "         .config(\"spark.executor.memory\", \"8g\")\n",
    "         .config(\"spark.driver.memory\", \"8g\")\n",
    "         .config(\"spark.memory.offHeap.enabled\", True)\n",
    "         .config(\"spark.memory.offHeap.size\", \"16g\")\n",
    "         .getOrCreate())"
   ]
  },
  {
   "cell_type": "code",
   "execution_count": 9,
   "metadata": {
    "pycharm": {
     "name": "#%%\n"
    }
   },
   "outputs": [
    {
     "name": "stderr",
     "output_type": "stream",
     "text": [
      "22/03/12 11:44:50 WARN package: Truncated the string representation of a plan since it was too large. This behavior can be adjusted by setting 'spark.sql.debug.maxToStringFields'.\n"
     ]
    },
    {
     "data": {
      "text/plain": "[Row(color='Color', director_name='James Cameron', num_critic_for_reviews=723, duration=178, director_facebook_likes=0, actor_3_facebook_likes=855, actor_2_name='Joel David Moore', actor_1_facebook_likes=1000, gross=760505847, genres=['Action', 'Adventure', 'Fantasy', 'Sci-Fi'], actor_1_name='CCH Pounder', movie_title='Avatar\\xa0', num_voted_users=886204, cast_total_facebook_likes=4834, actor_3_name='Wes Studi', facenumber_in_poster=0, plot_keywords=['avatar', 'future', 'marine', 'native', 'paraplegic'], movie_imdb_link='http://www.imdb.com/title/tt0499549/?ref_=fn_tt_tt_1', num_user_for_reviews=3054, language='English', country='USA', content_rating='PG-13', budget=237000000, title_year=2009, actor_2_facebook_likes=936, imdb_score=7.9, aspect_ratio=1.78, movie_facebook_likes=33000, imdb_id='tt0499549', id=0),\n Row(color='Color', director_name='Gore Verbinski', num_critic_for_reviews=302, duration=169, director_facebook_likes=563, actor_3_facebook_likes=1000, actor_2_name='Orlando Bloom', actor_1_facebook_likes=40000, gross=309404152, genres=['Action', 'Adventure', 'Fantasy'], actor_1_name='Johnny Depp', movie_title=\"Pirates of the Caribbean: At World's End\\xa0\", num_voted_users=471220, cast_total_facebook_likes=48350, actor_3_name='Jack Davenport', facenumber_in_poster=0, plot_keywords=['goddess', 'marriage ceremony', 'marriage proposal', 'pirate', 'singapore'], movie_imdb_link='http://www.imdb.com/title/tt0449088/?ref_=fn_tt_tt_1', num_user_for_reviews=1238, language='English', country='USA', content_rating='PG-13', budget=300000000, title_year=2007, actor_2_facebook_likes=5000, imdb_score=7.1, aspect_ratio=2.35, movie_facebook_likes=0, imdb_id='tt0449088', id=1),\n Row(color='Color', director_name='Sam Mendes', num_critic_for_reviews=602, duration=148, director_facebook_likes=0, actor_3_facebook_likes=161, actor_2_name='Rory Kinnear', actor_1_facebook_likes=11000, gross=200074175, genres=['Action', 'Adventure', 'Thriller'], actor_1_name='Christoph Waltz', movie_title='Spectre\\xa0', num_voted_users=275868, cast_total_facebook_likes=11700, actor_3_name='Stephanie Sigman', facenumber_in_poster=1, plot_keywords=['bomb', 'espionage', 'sequel', 'spy', 'terrorist'], movie_imdb_link='http://www.imdb.com/title/tt2379713/?ref_=fn_tt_tt_1', num_user_for_reviews=994, language='English', country='UK', content_rating='PG-13', budget=245000000, title_year=2015, actor_2_facebook_likes=393, imdb_score=6.8, aspect_ratio=2.35, movie_facebook_likes=85000, imdb_id='tt2379713', id=2),\n Row(color='Color', director_name='Christopher Nolan', num_critic_for_reviews=813, duration=164, director_facebook_likes=22000, actor_3_facebook_likes=23000, actor_2_name='Christian Bale', actor_1_facebook_likes=27000, gross=448130642, genres=['Action', 'Thriller'], actor_1_name='Tom Hardy', movie_title='The Dark Knight Rises\\xa0', num_voted_users=1144337, cast_total_facebook_likes=106759, actor_3_name='Joseph Gordon-Levitt', facenumber_in_poster=0, plot_keywords=['deception', 'imprisonment', 'lawlessness', 'police officer', 'terrorist plot'], movie_imdb_link='http://www.imdb.com/title/tt1345836/?ref_=fn_tt_tt_1', num_user_for_reviews=2701, language='English', country='USA', content_rating='PG-13', budget=250000000, title_year=2012, actor_2_facebook_likes=23000, imdb_score=8.5, aspect_ratio=2.35, movie_facebook_likes=164000, imdb_id='tt1345836', id=3),\n Row(color=None, director_name='Doug Walker', num_critic_for_reviews=None, duration=None, director_facebook_likes=131, actor_3_facebook_likes=None, actor_2_name='Rob Walker', actor_1_facebook_likes=131, gross=None, genres=['Documentary'], actor_1_name='Doug Walker', movie_title='Star Wars: Episode VII - The Force Awakens\\xa0            ', num_voted_users=8, cast_total_facebook_likes=143, actor_3_name=None, facenumber_in_poster=0, plot_keywords=None, movie_imdb_link='http://www.imdb.com/title/tt5289954/?ref_=fn_tt_tt_1', num_user_for_reviews=None, language=None, country=None, content_rating=None, budget=None, title_year=None, actor_2_facebook_likes=12, imdb_score=7.1, aspect_ratio=None, movie_facebook_likes=0, imdb_id='tt5289954', id=4)]"
     },
     "execution_count": 9,
     "metadata": {},
     "output_type": "execute_result"
    }
   ],
   "source": [
    "df = (\n",
    "    spark.read.csv(DATASET.raw_str('movie_metadata.csv'), header=True, inferSchema=True)\n",
    "        .withColumn('imdb_id',\n",
    "                    F.regexp_extract('movie_imdb_link', 'http:\\/\\/www.imdb.com\\/title\\/([A-z0-9]+)\\/(.*)', 1))\n",
    "        .withColumn('plot_keywords', F.split('plot_keywords', '\\|'))\n",
    "        .withColumn('genres', F.split('genres', '\\|'))\n",
    "        .coalesce(1)\n",
    "        .withColumn('id', F.monotonically_increasing_id())\n",
    ")\n",
    "df.head(5)"
   ]
  },
  {
   "cell_type": "code",
   "execution_count": 10,
   "metadata": {
    "pycharm": {
     "name": "#%%\n"
    }
   },
   "outputs": [
    {
     "name": "stderr",
     "output_type": "stream",
     "text": [
      "                                                                                \r"
     ]
    },
    {
     "name": "stdout",
     "output_type": "stream",
     "text": [
      "8491\n"
     ]
    },
    {
     "data": {
      "text/plain": "[Row(name='Doug Walker', facebook_likes=131, id=0),\n Row(name='Oliver Platt', facebook_likes=1000, id=1),\n Row(name='Snoop Dogg', facebook_likes=881, id=2),\n Row(name='Stephen Root', facebook_likes=939, id=3),\n Row(name='Laurence Olivier', facebook_likes=1000, id=4)]"
     },
     "execution_count": 10,
     "metadata": {},
     "output_type": "execute_result"
    }
   ],
   "source": [
    "df_nodes_persons = (\n",
    "    df.select(F.col('actor_1_name').alias('name'), F.col('actor_1_facebook_likes').alias('facebook_likes'))\n",
    "        .union(df.select(F.col('actor_2_name').alias('name'), F.col('actor_2_facebook_likes').alias('facebook_likes')))\n",
    "        .union(df.select(F.col('actor_3_name').alias('name'), F.col('actor_3_facebook_likes').alias('facebook_likes')))\n",
    "        .union(\n",
    "        df.select(F.col('director_name').alias('name'), F.col('director_facebook_likes').alias('facebook_likes')))\n",
    "        .dropDuplicates(['name'])\n",
    "        .filter(F.col('name').isNotNull())\n",
    "        .coalesce(1)\n",
    "        .withColumn('id', F.monotonically_increasing_id())\n",
    ")\n",
    "print(df_nodes_persons.count())\n",
    "df_nodes_persons.head(5)"
   ]
  },
  {
   "cell_type": "code",
   "execution_count": 11,
   "metadata": {
    "pycharm": {
     "name": "#%%\n"
    }
   },
   "outputs": [
    {
     "name": "stdout",
     "output_type": "stream",
     "text": [
      "26\n"
     ]
    },
    {
     "data": {
      "text/plain": "[Row(name='Action', id=0),\n Row(name='Adventure', id=1),\n Row(name='Fantasy', id=2),\n Row(name='Sci-Fi', id=3),\n Row(name='Thriller', id=4)]"
     },
     "execution_count": 11,
     "metadata": {},
     "output_type": "execute_result"
    }
   ],
   "source": [
    "df_nodes_genres = (\n",
    "    df.select(F.explode('genres').alias('name'))\n",
    "        .dropDuplicates(['name'])\n",
    "        .filter(F.col('name').isNotNull())\n",
    "        .coalesce(1)\n",
    "        .withColumn('id', F.monotonically_increasing_id())\n",
    ")\n",
    "print(df_nodes_genres.count())\n",
    "df_nodes_genres.head(5)"
   ]
  },
  {
   "cell_type": "code",
   "execution_count": 12,
   "metadata": {
    "pycharm": {
     "name": "#%%\n"
    }
   },
   "outputs": [
    {
     "name": "stdout",
     "output_type": "stream",
     "text": [
      "5043\n"
     ]
    },
    {
     "data": {
      "text/plain": "[Row(color='Color', num_critic_for_reviews=723, duration=178, gross=760505847, num_voted_users=886204, cast_total_facebook_likes=4834, facenumber_in_poster=0, plot_keywords=['avatar', 'future', 'marine', 'native', 'paraplegic'], num_user_for_reviews=3054, language='English', country='USA', content_rating='PG-13', budget=237000000, title_year=2009, imdb_score=7.9, aspect_ratio=1.78, movie_facebook_likes=33000, imdb_id='tt0499549', id=0, name='Avatar\\xa0', timestamp=2009),\n Row(color='Color', num_critic_for_reviews=302, duration=169, gross=309404152, num_voted_users=471220, cast_total_facebook_likes=48350, facenumber_in_poster=0, plot_keywords=['goddess', 'marriage ceremony', 'marriage proposal', 'pirate', 'singapore'], num_user_for_reviews=1238, language='English', country='USA', content_rating='PG-13', budget=300000000, title_year=2007, imdb_score=7.1, aspect_ratio=2.35, movie_facebook_likes=0, imdb_id='tt0449088', id=1, name=\"Pirates of the Caribbean: At World's End\\xa0\", timestamp=2007),\n Row(color='Color', num_critic_for_reviews=602, duration=148, gross=200074175, num_voted_users=275868, cast_total_facebook_likes=11700, facenumber_in_poster=1, plot_keywords=['bomb', 'espionage', 'sequel', 'spy', 'terrorist'], num_user_for_reviews=994, language='English', country='UK', content_rating='PG-13', budget=245000000, title_year=2015, imdb_score=6.8, aspect_ratio=2.35, movie_facebook_likes=85000, imdb_id='tt2379713', id=2, name='Spectre\\xa0', timestamp=2015),\n Row(color='Color', num_critic_for_reviews=813, duration=164, gross=448130642, num_voted_users=1144337, cast_total_facebook_likes=106759, facenumber_in_poster=0, plot_keywords=['deception', 'imprisonment', 'lawlessness', 'police officer', 'terrorist plot'], num_user_for_reviews=2701, language='English', country='USA', content_rating='PG-13', budget=250000000, title_year=2012, imdb_score=8.5, aspect_ratio=2.35, movie_facebook_likes=164000, imdb_id='tt1345836', id=3, name='The Dark Knight Rises\\xa0', timestamp=2012),\n Row(color=None, num_critic_for_reviews=None, duration=None, gross=None, num_voted_users=8, cast_total_facebook_likes=143, facenumber_in_poster=0, plot_keywords=None, num_user_for_reviews=None, language=None, country=None, content_rating=None, budget=None, title_year=None, imdb_score=7.1, aspect_ratio=None, movie_facebook_likes=0, imdb_id='tt5289954', id=4, name='Star Wars: Episode VII - The Force Awakens\\xa0            ', timestamp=None)]"
     },
     "execution_count": 12,
     "metadata": {},
     "output_type": "execute_result"
    }
   ],
   "source": [
    "df_nodes_movies = (\n",
    "    df.withColumn('name', F.col('movie_title'))\n",
    "        .drop(\n",
    "        'genres', 'movie_title',\n",
    "        'actor_1_name', 'actor_1_facebook_likes',\n",
    "        'actor_2_name', 'actor_2_facebook_likes',\n",
    "        'actor_3_name', 'actor_3_facebook_likes',\n",
    "        'director_name', 'director_facebook_likes',\n",
    "        'movie_imdb_link'\n",
    "    ).withColumn('timestamp', F.col('title_year'))\n",
    "        .filter(F.col('imdb_id').isNotNull())\n",
    "        .coalesce(1)\n",
    "        .withColumn('id', F.monotonically_increasing_id())\n",
    ")\n",
    "print(df_nodes_movies.count())\n",
    "df_nodes_movies.head(5)"
   ]
  },
  {
   "cell_type": "code",
   "execution_count": 13,
   "metadata": {
    "pycharm": {
     "name": "#%%\n"
    }
   },
   "outputs": [
    {
     "data": {
      "text/plain": "[Row(src=1716, dst=80, timestamp=2010),\n Row(src=717, dst=244, timestamp=2016),\n Row(src=1421, dst=447, timestamp=2005),\n Row(src=1672, dst=700, timestamp=2015),\n Row(src=731, dst=708, timestamp=2011)]"
     },
     "execution_count": 13,
     "metadata": {},
     "output_type": "execute_result"
    }
   ],
   "source": [
    "df_edges_acted_in = (\n",
    "    df\n",
    "        .select(\n",
    "        F.col('id').alias('movie_id'),\n",
    "        F.col('actor_1_name').alias('actor_name'),\n",
    "        F.col('title_year').alias('timestamp')\n",
    "    )\n",
    "        .union(df.select(\n",
    "        F.col('id').alias('movie_id'),\n",
    "        F.col('actor_2_name').alias('actor_name'),\n",
    "        F.col('title_year').alias('timestamp')\n",
    "    ))\n",
    "        .union(df.select(\n",
    "        F.col('id').alias('movie_id'),\n",
    "        F.col('actor_3_name').alias('actor_name'),\n",
    "        F.col('title_year').alias('timestamp')\n",
    "    ))\n",
    "        .dropDuplicates(['movie_id', 'actor_name', 'timestamp'])\n",
    "        .join(\n",
    "        df_nodes_persons.select([F.col('id').alias('actor_id'), 'name']),\n",
    "        F.col('actor_name') == F.col('name'),\n",
    "        'inner'\n",
    "    )\n",
    "        .select(\n",
    "        F.col('actor_id').alias('src'),\n",
    "        F.col('movie_id').alias('dst'),\n",
    "        'timestamp'\n",
    "    )\n",
    "        .filter(F.col('src').isNotNull())\n",
    "        .filter(F.col('dst').isNotNull())\n",
    ")\n",
    "df_edges_acted_in.head(5)"
   ]
  },
  {
   "cell_type": "code",
   "execution_count": 14,
   "metadata": {
    "pycharm": {
     "name": "#%%\n"
    }
   },
   "outputs": [
    {
     "data": {
      "text/plain": "[Row(src=0, dst=4, timestamp=None),\n Row(src=49, dst=3416, timestamp=2005),\n Row(src=59, dst=2896, timestamp=2002),\n Row(src=59, dst=2652, timestamp=2007),\n Row(src=80, dst=2603, timestamp=1982)]"
     },
     "execution_count": 14,
     "metadata": {},
     "output_type": "execute_result"
    }
   ],
   "source": [
    "df_edges_directed = (\n",
    "    df.select(\n",
    "        F.col('id').alias('movie_id'),\n",
    "        F.col('director_name').alias('director_name'),\n",
    "        F.col('title_year').alias('timestamp')\n",
    "    )\n",
    "        .dropDuplicates(['movie_id', 'director_name'])\n",
    "        .join(\n",
    "        df_nodes_persons.select([F.col('id').alias('person_id'), 'name']),\n",
    "        F.col('director_name') == F.col('name'),\n",
    "        'inner'\n",
    "    )\n",
    "        .select(\n",
    "        F.col('person_id').alias('src'),\n",
    "        F.col('movie_id').alias('dst'),\n",
    "        'timestamp'\n",
    "    )\n",
    "        .filter(F.col('src').isNotNull())\n",
    "        .filter(F.col('dst').isNotNull())\n",
    ")\n",
    "df_edges_directed.head(5)"
   ]
  },
  {
   "cell_type": "code",
   "execution_count": 15,
   "metadata": {
    "pycharm": {
     "name": "#%%\n"
    }
   },
   "outputs": [
    {
     "data": {
      "text/plain": "[Row(src=0, dst=0, timestamp=2009),\n Row(src=0, dst=1, timestamp=2009),\n Row(src=0, dst=2, timestamp=2009),\n Row(src=0, dst=3, timestamp=2009),\n Row(src=1, dst=0, timestamp=2007)]"
     },
     "execution_count": 15,
     "metadata": {},
     "output_type": "execute_result"
    }
   ],
   "source": [
    "df_edges_has_genre = (\n",
    "    df.select(\n",
    "        F.col('id').alias('movie_id'),\n",
    "        F.explode('genres').alias('genre'),\n",
    "        F.col('title_year').alias('timestamp')\n",
    "    )\n",
    "        .dropDuplicates(['movie_id', 'genre'])\n",
    "        .join(\n",
    "        df_nodes_genres.select([F.col('id').alias('genre_id'), 'name']),\n",
    "        F.col('genre') == F.col('name'),\n",
    "        'inner'\n",
    "    )\n",
    "        .select(\n",
    "        F.col('movie_id').alias('src'),\n",
    "        F.col('genre_id').alias('dst'),\n",
    "        'timestamp'\n",
    "    )\n",
    "        .filter(F.col('src').isNotNull())\n",
    "        .filter(F.col('dst').isNotNull())\n",
    ")\n",
    "df_edges_has_genre.head(5)"
   ]
  },
  {
   "cell_type": "markdown",
   "source": [
    "## Feature Engineering"
   ],
   "metadata": {
    "collapsed": false,
    "pycharm": {
     "name": "#%% md\n"
    }
   }
  },
  {
   "cell_type": "code",
   "execution_count": 16,
   "outputs": [],
   "source": [
    "df_kw_doc = (\n",
    "    df.select(\n",
    "        F.col('id').alias('movie_id'),\n",
    "        F.explode('plot_keywords').alias('keyword')\n",
    "    )\n",
    "        .withColumn('keyword', F.lower(F.col('keyword')))\n",
    ")"
   ],
   "metadata": {
    "collapsed": false,
    "pycharm": {
     "name": "#%%\n"
    }
   }
  },
  {
   "cell_type": "code",
   "execution_count": 17,
   "outputs": [
    {
     "name": "stdout",
     "output_type": "stream",
     "text": [
      "8086\n"
     ]
    },
    {
     "data": {
      "text/plain": "[Row(keyword='love', count=198),\n Row(keyword='friend', count=166),\n Row(keyword='murder', count=161),\n Row(keyword='death', count=132),\n Row(keyword='police', count=126)]"
     },
     "execution_count": 17,
     "metadata": {},
     "output_type": "execute_result"
    }
   ],
   "source": [
    "df_kw = (\n",
    "    df_kw_doc\n",
    "        .groupby('keyword')\n",
    "        .count()\n",
    "        .sort(F.col('count').desc())\n",
    ")\n",
    "print(df_kw.count())\n",
    "df_kw.head(5)"
   ],
   "metadata": {
    "collapsed": false,
    "pycharm": {
     "name": "#%%\n"
    }
   }
  },
  {
   "cell_type": "code",
   "execution_count": 18,
   "outputs": [
    {
     "name": "stdout",
     "output_type": "stream",
     "text": [
      "['love', 'friend', 'murder', 'death', 'police', 'new york city', 'high school', 'alien', 'school', 'boy', 'fbi', 'revenge', 'friendship', 'drugs', 'prison', 'money', 'marriage', 'female protagonist', 'island', 'dog', 'party', 'escape', 'wedding', 'sex', 'serial killer', 'detective', 'box office flop', 'rescue', 'teenager', 'female nudity', 'battle', 'lawyer', 'vomiting', 'hospital', 'secret', 'christmas', 'best friend', 'scientist', 'cia', 'singer', 'train', 'college', 'hotel', 'fight', 'future', 'vampire', 'small town', 'writer', 'king', 'texas', 'terrorist', 'teacher', 'male nudity', 'girl', 'cult film', 'student', 'violence', 'spy', 'president', 'assassin', 'sequel', 'doctor', 'blood', 'actor', 'ghost', 'sheriff', 'new york', 'baby', 'desert', 'breasts', 'gangster', 'bar', 'critically bashed', 'monster', 'soldier', 'magic', 'neighbor', 'family relationships', 'one word title', 'coach']\n"
     ]
    }
   ],
   "source": [
    "k = 80\n",
    "top_keywords = [x.keyword for x in df_kw.limit(k).select('keyword').collect()]\n",
    "print(top_keywords)"
   ],
   "metadata": {
    "collapsed": false,
    "pycharm": {
     "name": "#%%\n"
    }
   }
  },
  {
   "cell_type": "code",
   "execution_count": 19,
   "outputs": [
    {
     "data": {
      "text/plain": "[Row(person_id=0, keywords=[]),\n Row(person_id=1, keywords=['friendship', 'vomiting', 'terrorist', 'doctor', 'dog', 'student', 'murder', 'cia', 'new york', 'sex', 'sheriff', 'new york city', 'boy', 'death', 'love', 'president', 'writer', 'christmas', 'neighbor']),\n Row(person_id=2, keywords=['family relationships', 'police', 'sex']),\n Row(person_id=3, keywords=['lawyer', 'desert', 'ghost', 'detective', 'sheriff', 'death', 'money', 'box office flop', 'baby', 'family relationships', 'texas', 'hotel', 'neighbor']),\n Row(person_id=4, keywords=['death', 'love', 'scientist'])]"
     },
     "execution_count": 19,
     "metadata": {},
     "output_type": "execute_result"
    }
   ],
   "source": [
    "df_nodes_person_kw = (\n",
    "    df_edges_directed.union(df_edges_acted_in).select(\n",
    "        F.col('src').alias('person_id'),\n",
    "        F.col('dst').alias('dst_movie_id'),\n",
    "    ).join(\n",
    "        df_kw_doc.filter(df_kw_doc.keyword.isin(top_keywords)),\n",
    "        F.col('dst_movie_id') == F.col('movie_id'),\n",
    "        'left'\n",
    "    ).groupby('person_id').agg(F.collect_set('keyword').alias('keywords'))\n",
    ")\n",
    "df_nodes_person_kw.head(5)"
   ],
   "metadata": {
    "collapsed": false,
    "pycharm": {
     "name": "#%%\n"
    }
   }
  },
  {
   "cell_type": "code",
   "execution_count": 20,
   "outputs": [
    {
     "data": {
      "text/plain": "[Row(person_id=0, feat_love=False, feat_friend=False, feat_murder=False, feat_death=False, feat_police=False, feat_new_york_city=False, feat_high_school=False, feat_alien=False, feat_school=False, feat_boy=False, feat_fbi=False, feat_revenge=False, feat_friendship=False, feat_drugs=False, feat_prison=False, feat_money=False, feat_marriage=False, feat_female_protagonist=False, feat_island=False, feat_dog=False, feat_party=False, feat_escape=False, feat_wedding=False, feat_sex=False, feat_serial_killer=False, feat_detective=False, feat_box_office_flop=False, feat_rescue=False, feat_teenager=False, feat_female_nudity=False, feat_battle=False, feat_lawyer=False, feat_vomiting=False, feat_hospital=False, feat_secret=False, feat_christmas=False, feat_best_friend=False, feat_scientist=False, feat_cia=False, feat_singer=False, feat_train=False, feat_college=False, feat_hotel=False, feat_fight=False, feat_future=False, feat_vampire=False, feat_small_town=False, feat_writer=False, feat_king=False, feat_texas=False, feat_terrorist=False, feat_teacher=False, feat_male_nudity=False, feat_girl=False, feat_cult_film=False, feat_student=False, feat_violence=False, feat_spy=False, feat_president=False, feat_assassin=False, feat_sequel=False, feat_doctor=False, feat_blood=False, feat_actor=False, feat_ghost=False, feat_sheriff=False, feat_new_york=False, feat_baby=False, feat_desert=False, feat_breasts=False, feat_gangster=False, feat_bar=False, feat_critically_bashed=False, feat_monster=False, feat_soldier=False, feat_magic=False, feat_neighbor=False, feat_family_relationships=False, feat_one_word_title=False, feat_coach=False),\n Row(person_id=1, feat_love=True, feat_friend=False, feat_murder=True, feat_death=True, feat_police=False, feat_new_york_city=True, feat_high_school=False, feat_alien=False, feat_school=False, feat_boy=True, feat_fbi=False, feat_revenge=False, feat_friendship=True, feat_drugs=False, feat_prison=False, feat_money=False, feat_marriage=False, feat_female_protagonist=False, feat_island=False, feat_dog=True, feat_party=False, feat_escape=False, feat_wedding=False, feat_sex=True, feat_serial_killer=False, feat_detective=False, feat_box_office_flop=False, feat_rescue=False, feat_teenager=False, feat_female_nudity=False, feat_battle=False, feat_lawyer=False, feat_vomiting=True, feat_hospital=False, feat_secret=False, feat_christmas=True, feat_best_friend=False, feat_scientist=False, feat_cia=True, feat_singer=False, feat_train=False, feat_college=False, feat_hotel=False, feat_fight=False, feat_future=False, feat_vampire=False, feat_small_town=False, feat_writer=True, feat_king=False, feat_texas=False, feat_terrorist=True, feat_teacher=False, feat_male_nudity=False, feat_girl=False, feat_cult_film=False, feat_student=True, feat_violence=False, feat_spy=False, feat_president=True, feat_assassin=False, feat_sequel=False, feat_doctor=True, feat_blood=False, feat_actor=False, feat_ghost=False, feat_sheriff=True, feat_new_york=True, feat_baby=False, feat_desert=False, feat_breasts=False, feat_gangster=False, feat_bar=False, feat_critically_bashed=False, feat_monster=False, feat_soldier=False, feat_magic=False, feat_neighbor=True, feat_family_relationships=False, feat_one_word_title=False, feat_coach=False),\n Row(person_id=2, feat_love=False, feat_friend=False, feat_murder=False, feat_death=False, feat_police=True, feat_new_york_city=False, feat_high_school=False, feat_alien=False, feat_school=False, feat_boy=False, feat_fbi=False, feat_revenge=False, feat_friendship=False, feat_drugs=False, feat_prison=False, feat_money=False, feat_marriage=False, feat_female_protagonist=False, feat_island=False, feat_dog=False, feat_party=False, feat_escape=False, feat_wedding=False, feat_sex=True, feat_serial_killer=False, feat_detective=False, feat_box_office_flop=False, feat_rescue=False, feat_teenager=False, feat_female_nudity=False, feat_battle=False, feat_lawyer=False, feat_vomiting=False, feat_hospital=False, feat_secret=False, feat_christmas=False, feat_best_friend=False, feat_scientist=False, feat_cia=False, feat_singer=False, feat_train=False, feat_college=False, feat_hotel=False, feat_fight=False, feat_future=False, feat_vampire=False, feat_small_town=False, feat_writer=False, feat_king=False, feat_texas=False, feat_terrorist=False, feat_teacher=False, feat_male_nudity=False, feat_girl=False, feat_cult_film=False, feat_student=False, feat_violence=False, feat_spy=False, feat_president=False, feat_assassin=False, feat_sequel=False, feat_doctor=False, feat_blood=False, feat_actor=False, feat_ghost=False, feat_sheriff=False, feat_new_york=False, feat_baby=False, feat_desert=False, feat_breasts=False, feat_gangster=False, feat_bar=False, feat_critically_bashed=False, feat_monster=False, feat_soldier=False, feat_magic=False, feat_neighbor=False, feat_family_relationships=True, feat_one_word_title=False, feat_coach=False),\n Row(person_id=3, feat_love=False, feat_friend=False, feat_murder=False, feat_death=True, feat_police=False, feat_new_york_city=False, feat_high_school=False, feat_alien=False, feat_school=False, feat_boy=False, feat_fbi=False, feat_revenge=False, feat_friendship=False, feat_drugs=False, feat_prison=False, feat_money=True, feat_marriage=False, feat_female_protagonist=False, feat_island=False, feat_dog=False, feat_party=False, feat_escape=False, feat_wedding=False, feat_sex=False, feat_serial_killer=False, feat_detective=True, feat_box_office_flop=True, feat_rescue=False, feat_teenager=False, feat_female_nudity=False, feat_battle=False, feat_lawyer=True, feat_vomiting=False, feat_hospital=False, feat_secret=False, feat_christmas=False, feat_best_friend=False, feat_scientist=False, feat_cia=False, feat_singer=False, feat_train=False, feat_college=False, feat_hotel=True, feat_fight=False, feat_future=False, feat_vampire=False, feat_small_town=False, feat_writer=False, feat_king=False, feat_texas=True, feat_terrorist=False, feat_teacher=False, feat_male_nudity=False, feat_girl=False, feat_cult_film=False, feat_student=False, feat_violence=False, feat_spy=False, feat_president=False, feat_assassin=False, feat_sequel=False, feat_doctor=False, feat_blood=False, feat_actor=False, feat_ghost=True, feat_sheriff=True, feat_new_york=False, feat_baby=True, feat_desert=True, feat_breasts=False, feat_gangster=False, feat_bar=False, feat_critically_bashed=False, feat_monster=False, feat_soldier=False, feat_magic=False, feat_neighbor=True, feat_family_relationships=True, feat_one_word_title=False, feat_coach=False),\n Row(person_id=4, feat_love=True, feat_friend=False, feat_murder=False, feat_death=True, feat_police=False, feat_new_york_city=False, feat_high_school=False, feat_alien=False, feat_school=False, feat_boy=False, feat_fbi=False, feat_revenge=False, feat_friendship=False, feat_drugs=False, feat_prison=False, feat_money=False, feat_marriage=False, feat_female_protagonist=False, feat_island=False, feat_dog=False, feat_party=False, feat_escape=False, feat_wedding=False, feat_sex=False, feat_serial_killer=False, feat_detective=False, feat_box_office_flop=False, feat_rescue=False, feat_teenager=False, feat_female_nudity=False, feat_battle=False, feat_lawyer=False, feat_vomiting=False, feat_hospital=False, feat_secret=False, feat_christmas=False, feat_best_friend=False, feat_scientist=True, feat_cia=False, feat_singer=False, feat_train=False, feat_college=False, feat_hotel=False, feat_fight=False, feat_future=False, feat_vampire=False, feat_small_town=False, feat_writer=False, feat_king=False, feat_texas=False, feat_terrorist=False, feat_teacher=False, feat_male_nudity=False, feat_girl=False, feat_cult_film=False, feat_student=False, feat_violence=False, feat_spy=False, feat_president=False, feat_assassin=False, feat_sequel=False, feat_doctor=False, feat_blood=False, feat_actor=False, feat_ghost=False, feat_sheriff=False, feat_new_york=False, feat_baby=False, feat_desert=False, feat_breasts=False, feat_gangster=False, feat_bar=False, feat_critically_bashed=False, feat_monster=False, feat_soldier=False, feat_magic=False, feat_neighbor=False, feat_family_relationships=False, feat_one_word_title=False, feat_coach=False)]"
     },
     "execution_count": 20,
     "metadata": {},
     "output_type": "execute_result"
    }
   ],
   "source": [
    "df_nodes_person_feats = (\n",
    "    df_nodes_person_kw.select(['person_id'] + [\n",
    "        F.array_contains('keywords', F.lit(k)).alias('feat_' + str(k).replace(' ', '_'))\n",
    "        for k in top_keywords\n",
    "    ])\n",
    ")\n",
    "df_nodes_person_feats.head(5)"
   ],
   "metadata": {
    "collapsed": false,
    "pycharm": {
     "name": "#%%\n"
    }
   }
  },
  {
   "cell_type": "code",
   "execution_count": 21,
   "outputs": [
    {
     "data": {
      "text/plain": "[Row(name='Doug Walker', facebook_likes=131, id=0, feat_love=False, feat_friend=False, feat_murder=False, feat_death=False, feat_police=False, feat_new_york_city=False, feat_high_school=False, feat_alien=False, feat_school=False, feat_boy=False, feat_fbi=False, feat_revenge=False, feat_friendship=False, feat_drugs=False, feat_prison=False, feat_money=False, feat_marriage=False, feat_female_protagonist=False, feat_island=False, feat_dog=False, feat_party=False, feat_escape=False, feat_wedding=False, feat_sex=False, feat_serial_killer=False, feat_detective=False, feat_box_office_flop=False, feat_rescue=False, feat_teenager=False, feat_female_nudity=False, feat_battle=False, feat_lawyer=False, feat_vomiting=False, feat_hospital=False, feat_secret=False, feat_christmas=False, feat_best_friend=False, feat_scientist=False, feat_cia=False, feat_singer=False, feat_train=False, feat_college=False, feat_hotel=False, feat_fight=False, feat_future=False, feat_vampire=False, feat_small_town=False, feat_writer=False, feat_king=False, feat_texas=False, feat_terrorist=False, feat_teacher=False, feat_male_nudity=False, feat_girl=False, feat_cult_film=False, feat_student=False, feat_violence=False, feat_spy=False, feat_president=False, feat_assassin=False, feat_sequel=False, feat_doctor=False, feat_blood=False, feat_actor=False, feat_ghost=False, feat_sheriff=False, feat_new_york=False, feat_baby=False, feat_desert=False, feat_breasts=False, feat_gangster=False, feat_bar=False, feat_critically_bashed=False, feat_monster=False, feat_soldier=False, feat_magic=False, feat_neighbor=False, feat_family_relationships=False, feat_one_word_title=False, feat_coach=False),\n Row(name='Oliver Platt', facebook_likes=1000, id=1, feat_love=True, feat_friend=False, feat_murder=True, feat_death=True, feat_police=False, feat_new_york_city=True, feat_high_school=False, feat_alien=False, feat_school=False, feat_boy=True, feat_fbi=False, feat_revenge=False, feat_friendship=True, feat_drugs=False, feat_prison=False, feat_money=False, feat_marriage=False, feat_female_protagonist=False, feat_island=False, feat_dog=True, feat_party=False, feat_escape=False, feat_wedding=False, feat_sex=True, feat_serial_killer=False, feat_detective=False, feat_box_office_flop=False, feat_rescue=False, feat_teenager=False, feat_female_nudity=False, feat_battle=False, feat_lawyer=False, feat_vomiting=True, feat_hospital=False, feat_secret=False, feat_christmas=True, feat_best_friend=False, feat_scientist=False, feat_cia=True, feat_singer=False, feat_train=False, feat_college=False, feat_hotel=False, feat_fight=False, feat_future=False, feat_vampire=False, feat_small_town=False, feat_writer=True, feat_king=False, feat_texas=False, feat_terrorist=True, feat_teacher=False, feat_male_nudity=False, feat_girl=False, feat_cult_film=False, feat_student=True, feat_violence=False, feat_spy=False, feat_president=True, feat_assassin=False, feat_sequel=False, feat_doctor=True, feat_blood=False, feat_actor=False, feat_ghost=False, feat_sheriff=True, feat_new_york=True, feat_baby=False, feat_desert=False, feat_breasts=False, feat_gangster=False, feat_bar=False, feat_critically_bashed=False, feat_monster=False, feat_soldier=False, feat_magic=False, feat_neighbor=True, feat_family_relationships=False, feat_one_word_title=False, feat_coach=False),\n Row(name='Snoop Dogg', facebook_likes=881, id=2, feat_love=False, feat_friend=False, feat_murder=False, feat_death=False, feat_police=True, feat_new_york_city=False, feat_high_school=False, feat_alien=False, feat_school=False, feat_boy=False, feat_fbi=False, feat_revenge=False, feat_friendship=False, feat_drugs=False, feat_prison=False, feat_money=False, feat_marriage=False, feat_female_protagonist=False, feat_island=False, feat_dog=False, feat_party=False, feat_escape=False, feat_wedding=False, feat_sex=True, feat_serial_killer=False, feat_detective=False, feat_box_office_flop=False, feat_rescue=False, feat_teenager=False, feat_female_nudity=False, feat_battle=False, feat_lawyer=False, feat_vomiting=False, feat_hospital=False, feat_secret=False, feat_christmas=False, feat_best_friend=False, feat_scientist=False, feat_cia=False, feat_singer=False, feat_train=False, feat_college=False, feat_hotel=False, feat_fight=False, feat_future=False, feat_vampire=False, feat_small_town=False, feat_writer=False, feat_king=False, feat_texas=False, feat_terrorist=False, feat_teacher=False, feat_male_nudity=False, feat_girl=False, feat_cult_film=False, feat_student=False, feat_violence=False, feat_spy=False, feat_president=False, feat_assassin=False, feat_sequel=False, feat_doctor=False, feat_blood=False, feat_actor=False, feat_ghost=False, feat_sheriff=False, feat_new_york=False, feat_baby=False, feat_desert=False, feat_breasts=False, feat_gangster=False, feat_bar=False, feat_critically_bashed=False, feat_monster=False, feat_soldier=False, feat_magic=False, feat_neighbor=False, feat_family_relationships=True, feat_one_word_title=False, feat_coach=False),\n Row(name='Stephen Root', facebook_likes=939, id=3, feat_love=False, feat_friend=False, feat_murder=False, feat_death=True, feat_police=False, feat_new_york_city=False, feat_high_school=False, feat_alien=False, feat_school=False, feat_boy=False, feat_fbi=False, feat_revenge=False, feat_friendship=False, feat_drugs=False, feat_prison=False, feat_money=True, feat_marriage=False, feat_female_protagonist=False, feat_island=False, feat_dog=False, feat_party=False, feat_escape=False, feat_wedding=False, feat_sex=False, feat_serial_killer=False, feat_detective=True, feat_box_office_flop=True, feat_rescue=False, feat_teenager=False, feat_female_nudity=False, feat_battle=False, feat_lawyer=True, feat_vomiting=False, feat_hospital=False, feat_secret=False, feat_christmas=False, feat_best_friend=False, feat_scientist=False, feat_cia=False, feat_singer=False, feat_train=False, feat_college=False, feat_hotel=True, feat_fight=False, feat_future=False, feat_vampire=False, feat_small_town=False, feat_writer=False, feat_king=False, feat_texas=True, feat_terrorist=False, feat_teacher=False, feat_male_nudity=False, feat_girl=False, feat_cult_film=False, feat_student=False, feat_violence=False, feat_spy=False, feat_president=False, feat_assassin=False, feat_sequel=False, feat_doctor=False, feat_blood=False, feat_actor=False, feat_ghost=True, feat_sheriff=True, feat_new_york=False, feat_baby=True, feat_desert=True, feat_breasts=False, feat_gangster=False, feat_bar=False, feat_critically_bashed=False, feat_monster=False, feat_soldier=False, feat_magic=False, feat_neighbor=True, feat_family_relationships=True, feat_one_word_title=False, feat_coach=False),\n Row(name='Laurence Olivier', facebook_likes=1000, id=4, feat_love=True, feat_friend=False, feat_murder=False, feat_death=True, feat_police=False, feat_new_york_city=False, feat_high_school=False, feat_alien=False, feat_school=False, feat_boy=False, feat_fbi=False, feat_revenge=False, feat_friendship=False, feat_drugs=False, feat_prison=False, feat_money=False, feat_marriage=False, feat_female_protagonist=False, feat_island=False, feat_dog=False, feat_party=False, feat_escape=False, feat_wedding=False, feat_sex=False, feat_serial_killer=False, feat_detective=False, feat_box_office_flop=False, feat_rescue=False, feat_teenager=False, feat_female_nudity=False, feat_battle=False, feat_lawyer=False, feat_vomiting=False, feat_hospital=False, feat_secret=False, feat_christmas=False, feat_best_friend=False, feat_scientist=True, feat_cia=False, feat_singer=False, feat_train=False, feat_college=False, feat_hotel=False, feat_fight=False, feat_future=False, feat_vampire=False, feat_small_town=False, feat_writer=False, feat_king=False, feat_texas=False, feat_terrorist=False, feat_teacher=False, feat_male_nudity=False, feat_girl=False, feat_cult_film=False, feat_student=False, feat_violence=False, feat_spy=False, feat_president=False, feat_assassin=False, feat_sequel=False, feat_doctor=False, feat_blood=False, feat_actor=False, feat_ghost=False, feat_sheriff=False, feat_new_york=False, feat_baby=False, feat_desert=False, feat_breasts=False, feat_gangster=False, feat_bar=False, feat_critically_bashed=False, feat_monster=False, feat_soldier=False, feat_magic=False, feat_neighbor=False, feat_family_relationships=False, feat_one_word_title=False, feat_coach=False)]"
     },
     "execution_count": 21,
     "metadata": {},
     "output_type": "execute_result"
    }
   ],
   "source": [
    "df_nodes_persons_new = df_nodes_persons.join(\n",
    "    df_nodes_person_feats,\n",
    "    F.col('id') == F.col('person_id'),\n",
    "    'left'\n",
    ").drop('person_id').sort('id')\n",
    "\n",
    "df_nodes_persons_new.head(5)"
   ],
   "metadata": {
    "collapsed": false,
    "pycharm": {
     "name": "#%%\n"
    }
   }
  },
  {
   "cell_type": "code",
   "execution_count": 22,
   "outputs": [
    {
     "data": {
      "text/plain": "[Row(movie_id=0, keywords=['future', 'marine', 'native', 'paraplegic', 'avatar']),\n Row(movie_id=1, keywords=['marriage ceremony', 'marriage proposal', 'goddess', 'pirate', 'singapore']),\n Row(movie_id=2, keywords=['terrorist', 'espionage', 'spy', 'sequel', 'bomb']),\n Row(movie_id=3, keywords=['imprisonment', 'terrorist plot', 'deception', 'lawlessness', 'police officer']),\n Row(movie_id=5, keywords=['american civil war', 'mars', 'princess', 'alien', 'male nipple'])]"
     },
     "execution_count": 22,
     "metadata": {},
     "output_type": "execute_result"
    }
   ],
   "source": [
    "df_nodes_movies_kw = (\n",
    "    df_kw_doc.groupby('movie_id').agg(F.collect_set('keyword').alias('keywords'))\n",
    ")\n",
    "df_nodes_movies_kw.head(5)"
   ],
   "metadata": {
    "collapsed": false,
    "pycharm": {
     "name": "#%%\n"
    }
   }
  },
  {
   "cell_type": "code",
   "execution_count": 23,
   "outputs": [
    {
     "data": {
      "text/plain": "[Row(movie_id=0, feat_love=False, feat_friend=False, feat_murder=False, feat_death=False, feat_police=False, feat_new_york_city=False, feat_high_school=False, feat_alien=False, feat_school=False, feat_boy=False, feat_fbi=False, feat_revenge=False, feat_friendship=False, feat_drugs=False, feat_prison=False, feat_money=False, feat_marriage=False, feat_female_protagonist=False, feat_island=False, feat_dog=False, feat_party=False, feat_escape=False, feat_wedding=False, feat_sex=False, feat_serial_killer=False, feat_detective=False, feat_box_office_flop=False, feat_rescue=False, feat_teenager=False, feat_female_nudity=False, feat_battle=False, feat_lawyer=False, feat_vomiting=False, feat_hospital=False, feat_secret=False, feat_christmas=False, feat_best_friend=False, feat_scientist=False, feat_cia=False, feat_singer=False, feat_train=False, feat_college=False, feat_hotel=False, feat_fight=False, feat_future=True, feat_vampire=False, feat_small_town=False, feat_writer=False, feat_king=False, feat_texas=False, feat_terrorist=False, feat_teacher=False, feat_male_nudity=False, feat_girl=False, feat_cult_film=False, feat_student=False, feat_violence=False, feat_spy=False, feat_president=False, feat_assassin=False, feat_sequel=False, feat_doctor=False, feat_blood=False, feat_actor=False, feat_ghost=False, feat_sheriff=False, feat_new_york=False, feat_baby=False, feat_desert=False, feat_breasts=False, feat_gangster=False, feat_bar=False, feat_critically_bashed=False, feat_monster=False, feat_soldier=False, feat_magic=False, feat_neighbor=False, feat_family_relationships=False, feat_one_word_title=False, feat_coach=False),\n Row(movie_id=1, feat_love=False, feat_friend=False, feat_murder=False, feat_death=False, feat_police=False, feat_new_york_city=False, feat_high_school=False, feat_alien=False, feat_school=False, feat_boy=False, feat_fbi=False, feat_revenge=False, feat_friendship=False, feat_drugs=False, feat_prison=False, feat_money=False, feat_marriage=False, feat_female_protagonist=False, feat_island=False, feat_dog=False, feat_party=False, feat_escape=False, feat_wedding=False, feat_sex=False, feat_serial_killer=False, feat_detective=False, feat_box_office_flop=False, feat_rescue=False, feat_teenager=False, feat_female_nudity=False, feat_battle=False, feat_lawyer=False, feat_vomiting=False, feat_hospital=False, feat_secret=False, feat_christmas=False, feat_best_friend=False, feat_scientist=False, feat_cia=False, feat_singer=False, feat_train=False, feat_college=False, feat_hotel=False, feat_fight=False, feat_future=False, feat_vampire=False, feat_small_town=False, feat_writer=False, feat_king=False, feat_texas=False, feat_terrorist=False, feat_teacher=False, feat_male_nudity=False, feat_girl=False, feat_cult_film=False, feat_student=False, feat_violence=False, feat_spy=False, feat_president=False, feat_assassin=False, feat_sequel=False, feat_doctor=False, feat_blood=False, feat_actor=False, feat_ghost=False, feat_sheriff=False, feat_new_york=False, feat_baby=False, feat_desert=False, feat_breasts=False, feat_gangster=False, feat_bar=False, feat_critically_bashed=False, feat_monster=False, feat_soldier=False, feat_magic=False, feat_neighbor=False, feat_family_relationships=False, feat_one_word_title=False, feat_coach=False),\n Row(movie_id=2, feat_love=False, feat_friend=False, feat_murder=False, feat_death=False, feat_police=False, feat_new_york_city=False, feat_high_school=False, feat_alien=False, feat_school=False, feat_boy=False, feat_fbi=False, feat_revenge=False, feat_friendship=False, feat_drugs=False, feat_prison=False, feat_money=False, feat_marriage=False, feat_female_protagonist=False, feat_island=False, feat_dog=False, feat_party=False, feat_escape=False, feat_wedding=False, feat_sex=False, feat_serial_killer=False, feat_detective=False, feat_box_office_flop=False, feat_rescue=False, feat_teenager=False, feat_female_nudity=False, feat_battle=False, feat_lawyer=False, feat_vomiting=False, feat_hospital=False, feat_secret=False, feat_christmas=False, feat_best_friend=False, feat_scientist=False, feat_cia=False, feat_singer=False, feat_train=False, feat_college=False, feat_hotel=False, feat_fight=False, feat_future=False, feat_vampire=False, feat_small_town=False, feat_writer=False, feat_king=False, feat_texas=False, feat_terrorist=True, feat_teacher=False, feat_male_nudity=False, feat_girl=False, feat_cult_film=False, feat_student=False, feat_violence=False, feat_spy=True, feat_president=False, feat_assassin=False, feat_sequel=True, feat_doctor=False, feat_blood=False, feat_actor=False, feat_ghost=False, feat_sheriff=False, feat_new_york=False, feat_baby=False, feat_desert=False, feat_breasts=False, feat_gangster=False, feat_bar=False, feat_critically_bashed=False, feat_monster=False, feat_soldier=False, feat_magic=False, feat_neighbor=False, feat_family_relationships=False, feat_one_word_title=False, feat_coach=False),\n Row(movie_id=3, feat_love=False, feat_friend=False, feat_murder=False, feat_death=False, feat_police=False, feat_new_york_city=False, feat_high_school=False, feat_alien=False, feat_school=False, feat_boy=False, feat_fbi=False, feat_revenge=False, feat_friendship=False, feat_drugs=False, feat_prison=False, feat_money=False, feat_marriage=False, feat_female_protagonist=False, feat_island=False, feat_dog=False, feat_party=False, feat_escape=False, feat_wedding=False, feat_sex=False, feat_serial_killer=False, feat_detective=False, feat_box_office_flop=False, feat_rescue=False, feat_teenager=False, feat_female_nudity=False, feat_battle=False, feat_lawyer=False, feat_vomiting=False, feat_hospital=False, feat_secret=False, feat_christmas=False, feat_best_friend=False, feat_scientist=False, feat_cia=False, feat_singer=False, feat_train=False, feat_college=False, feat_hotel=False, feat_fight=False, feat_future=False, feat_vampire=False, feat_small_town=False, feat_writer=False, feat_king=False, feat_texas=False, feat_terrorist=False, feat_teacher=False, feat_male_nudity=False, feat_girl=False, feat_cult_film=False, feat_student=False, feat_violence=False, feat_spy=False, feat_president=False, feat_assassin=False, feat_sequel=False, feat_doctor=False, feat_blood=False, feat_actor=False, feat_ghost=False, feat_sheriff=False, feat_new_york=False, feat_baby=False, feat_desert=False, feat_breasts=False, feat_gangster=False, feat_bar=False, feat_critically_bashed=False, feat_monster=False, feat_soldier=False, feat_magic=False, feat_neighbor=False, feat_family_relationships=False, feat_one_word_title=False, feat_coach=False),\n Row(movie_id=5, feat_love=False, feat_friend=False, feat_murder=False, feat_death=False, feat_police=False, feat_new_york_city=False, feat_high_school=False, feat_alien=True, feat_school=False, feat_boy=False, feat_fbi=False, feat_revenge=False, feat_friendship=False, feat_drugs=False, feat_prison=False, feat_money=False, feat_marriage=False, feat_female_protagonist=False, feat_island=False, feat_dog=False, feat_party=False, feat_escape=False, feat_wedding=False, feat_sex=False, feat_serial_killer=False, feat_detective=False, feat_box_office_flop=False, feat_rescue=False, feat_teenager=False, feat_female_nudity=False, feat_battle=False, feat_lawyer=False, feat_vomiting=False, feat_hospital=False, feat_secret=False, feat_christmas=False, feat_best_friend=False, feat_scientist=False, feat_cia=False, feat_singer=False, feat_train=False, feat_college=False, feat_hotel=False, feat_fight=False, feat_future=False, feat_vampire=False, feat_small_town=False, feat_writer=False, feat_king=False, feat_texas=False, feat_terrorist=False, feat_teacher=False, feat_male_nudity=False, feat_girl=False, feat_cult_film=False, feat_student=False, feat_violence=False, feat_spy=False, feat_president=False, feat_assassin=False, feat_sequel=False, feat_doctor=False, feat_blood=False, feat_actor=False, feat_ghost=False, feat_sheriff=False, feat_new_york=False, feat_baby=False, feat_desert=False, feat_breasts=False, feat_gangster=False, feat_bar=False, feat_critically_bashed=False, feat_monster=False, feat_soldier=False, feat_magic=False, feat_neighbor=False, feat_family_relationships=False, feat_one_word_title=False, feat_coach=False)]"
     },
     "execution_count": 23,
     "metadata": {},
     "output_type": "execute_result"
    }
   ],
   "source": [
    "df_nodes_movies_feats = (\n",
    "    df_nodes_movies_kw.select(['movie_id'] + [\n",
    "        F.array_contains('keywords', F.lit(k)).alias('feat_' + str(k).replace(' ', '_'))\n",
    "        for k in top_keywords\n",
    "    ])\n",
    ")\n",
    "df_nodes_movies_feats.head(5)"
   ],
   "metadata": {
    "collapsed": false,
    "pycharm": {
     "name": "#%%\n"
    }
   }
  },
  {
   "cell_type": "code",
   "execution_count": 24,
   "outputs": [
    {
     "data": {
      "text/plain": "[Row(color='Color', num_critic_for_reviews=723, duration=178, gross=760505847, num_voted_users=886204, cast_total_facebook_likes=4834, facenumber_in_poster=0, plot_keywords=['avatar', 'future', 'marine', 'native', 'paraplegic'], num_user_for_reviews=3054, language='English', country='USA', content_rating='PG-13', budget=237000000, title_year=2009, imdb_score=7.9, aspect_ratio=1.78, movie_facebook_likes=33000, imdb_id='tt0499549', id=0, name='Avatar\\xa0', timestamp=2009, feat_love=False, feat_friend=False, feat_murder=False, feat_death=False, feat_police=False, feat_new_york_city=False, feat_high_school=False, feat_alien=False, feat_school=False, feat_boy=False, feat_fbi=False, feat_revenge=False, feat_friendship=False, feat_drugs=False, feat_prison=False, feat_money=False, feat_marriage=False, feat_female_protagonist=False, feat_island=False, feat_dog=False, feat_party=False, feat_escape=False, feat_wedding=False, feat_sex=False, feat_serial_killer=False, feat_detective=False, feat_box_office_flop=False, feat_rescue=False, feat_teenager=False, feat_female_nudity=False, feat_battle=False, feat_lawyer=False, feat_vomiting=False, feat_hospital=False, feat_secret=False, feat_christmas=False, feat_best_friend=False, feat_scientist=False, feat_cia=False, feat_singer=False, feat_train=False, feat_college=False, feat_hotel=False, feat_fight=False, feat_future=True, feat_vampire=False, feat_small_town=False, feat_writer=False, feat_king=False, feat_texas=False, feat_terrorist=False, feat_teacher=False, feat_male_nudity=False, feat_girl=False, feat_cult_film=False, feat_student=False, feat_violence=False, feat_spy=False, feat_president=False, feat_assassin=False, feat_sequel=False, feat_doctor=False, feat_blood=False, feat_actor=False, feat_ghost=False, feat_sheriff=False, feat_new_york=False, feat_baby=False, feat_desert=False, feat_breasts=False, feat_gangster=False, feat_bar=False, feat_critically_bashed=False, feat_monster=False, feat_soldier=False, feat_magic=False, feat_neighbor=False, feat_family_relationships=False, feat_one_word_title=False, feat_coach=False),\n Row(color='Color', num_critic_for_reviews=302, duration=169, gross=309404152, num_voted_users=471220, cast_total_facebook_likes=48350, facenumber_in_poster=0, plot_keywords=['goddess', 'marriage ceremony', 'marriage proposal', 'pirate', 'singapore'], num_user_for_reviews=1238, language='English', country='USA', content_rating='PG-13', budget=300000000, title_year=2007, imdb_score=7.1, aspect_ratio=2.35, movie_facebook_likes=0, imdb_id='tt0449088', id=1, name=\"Pirates of the Caribbean: At World's End\\xa0\", timestamp=2007, feat_love=False, feat_friend=False, feat_murder=False, feat_death=False, feat_police=False, feat_new_york_city=False, feat_high_school=False, feat_alien=False, feat_school=False, feat_boy=False, feat_fbi=False, feat_revenge=False, feat_friendship=False, feat_drugs=False, feat_prison=False, feat_money=False, feat_marriage=False, feat_female_protagonist=False, feat_island=False, feat_dog=False, feat_party=False, feat_escape=False, feat_wedding=False, feat_sex=False, feat_serial_killer=False, feat_detective=False, feat_box_office_flop=False, feat_rescue=False, feat_teenager=False, feat_female_nudity=False, feat_battle=False, feat_lawyer=False, feat_vomiting=False, feat_hospital=False, feat_secret=False, feat_christmas=False, feat_best_friend=False, feat_scientist=False, feat_cia=False, feat_singer=False, feat_train=False, feat_college=False, feat_hotel=False, feat_fight=False, feat_future=False, feat_vampire=False, feat_small_town=False, feat_writer=False, feat_king=False, feat_texas=False, feat_terrorist=False, feat_teacher=False, feat_male_nudity=False, feat_girl=False, feat_cult_film=False, feat_student=False, feat_violence=False, feat_spy=False, feat_president=False, feat_assassin=False, feat_sequel=False, feat_doctor=False, feat_blood=False, feat_actor=False, feat_ghost=False, feat_sheriff=False, feat_new_york=False, feat_baby=False, feat_desert=False, feat_breasts=False, feat_gangster=False, feat_bar=False, feat_critically_bashed=False, feat_monster=False, feat_soldier=False, feat_magic=False, feat_neighbor=False, feat_family_relationships=False, feat_one_word_title=False, feat_coach=False),\n Row(color='Color', num_critic_for_reviews=602, duration=148, gross=200074175, num_voted_users=275868, cast_total_facebook_likes=11700, facenumber_in_poster=1, plot_keywords=['bomb', 'espionage', 'sequel', 'spy', 'terrorist'], num_user_for_reviews=994, language='English', country='UK', content_rating='PG-13', budget=245000000, title_year=2015, imdb_score=6.8, aspect_ratio=2.35, movie_facebook_likes=85000, imdb_id='tt2379713', id=2, name='Spectre\\xa0', timestamp=2015, feat_love=False, feat_friend=False, feat_murder=False, feat_death=False, feat_police=False, feat_new_york_city=False, feat_high_school=False, feat_alien=False, feat_school=False, feat_boy=False, feat_fbi=False, feat_revenge=False, feat_friendship=False, feat_drugs=False, feat_prison=False, feat_money=False, feat_marriage=False, feat_female_protagonist=False, feat_island=False, feat_dog=False, feat_party=False, feat_escape=False, feat_wedding=False, feat_sex=False, feat_serial_killer=False, feat_detective=False, feat_box_office_flop=False, feat_rescue=False, feat_teenager=False, feat_female_nudity=False, feat_battle=False, feat_lawyer=False, feat_vomiting=False, feat_hospital=False, feat_secret=False, feat_christmas=False, feat_best_friend=False, feat_scientist=False, feat_cia=False, feat_singer=False, feat_train=False, feat_college=False, feat_hotel=False, feat_fight=False, feat_future=False, feat_vampire=False, feat_small_town=False, feat_writer=False, feat_king=False, feat_texas=False, feat_terrorist=True, feat_teacher=False, feat_male_nudity=False, feat_girl=False, feat_cult_film=False, feat_student=False, feat_violence=False, feat_spy=True, feat_president=False, feat_assassin=False, feat_sequel=True, feat_doctor=False, feat_blood=False, feat_actor=False, feat_ghost=False, feat_sheriff=False, feat_new_york=False, feat_baby=False, feat_desert=False, feat_breasts=False, feat_gangster=False, feat_bar=False, feat_critically_bashed=False, feat_monster=False, feat_soldier=False, feat_magic=False, feat_neighbor=False, feat_family_relationships=False, feat_one_word_title=False, feat_coach=False),\n Row(color='Color', num_critic_for_reviews=813, duration=164, gross=448130642, num_voted_users=1144337, cast_total_facebook_likes=106759, facenumber_in_poster=0, plot_keywords=['deception', 'imprisonment', 'lawlessness', 'police officer', 'terrorist plot'], num_user_for_reviews=2701, language='English', country='USA', content_rating='PG-13', budget=250000000, title_year=2012, imdb_score=8.5, aspect_ratio=2.35, movie_facebook_likes=164000, imdb_id='tt1345836', id=3, name='The Dark Knight Rises\\xa0', timestamp=2012, feat_love=False, feat_friend=False, feat_murder=False, feat_death=False, feat_police=False, feat_new_york_city=False, feat_high_school=False, feat_alien=False, feat_school=False, feat_boy=False, feat_fbi=False, feat_revenge=False, feat_friendship=False, feat_drugs=False, feat_prison=False, feat_money=False, feat_marriage=False, feat_female_protagonist=False, feat_island=False, feat_dog=False, feat_party=False, feat_escape=False, feat_wedding=False, feat_sex=False, feat_serial_killer=False, feat_detective=False, feat_box_office_flop=False, feat_rescue=False, feat_teenager=False, feat_female_nudity=False, feat_battle=False, feat_lawyer=False, feat_vomiting=False, feat_hospital=False, feat_secret=False, feat_christmas=False, feat_best_friend=False, feat_scientist=False, feat_cia=False, feat_singer=False, feat_train=False, feat_college=False, feat_hotel=False, feat_fight=False, feat_future=False, feat_vampire=False, feat_small_town=False, feat_writer=False, feat_king=False, feat_texas=False, feat_terrorist=False, feat_teacher=False, feat_male_nudity=False, feat_girl=False, feat_cult_film=False, feat_student=False, feat_violence=False, feat_spy=False, feat_president=False, feat_assassin=False, feat_sequel=False, feat_doctor=False, feat_blood=False, feat_actor=False, feat_ghost=False, feat_sheriff=False, feat_new_york=False, feat_baby=False, feat_desert=False, feat_breasts=False, feat_gangster=False, feat_bar=False, feat_critically_bashed=False, feat_monster=False, feat_soldier=False, feat_magic=False, feat_neighbor=False, feat_family_relationships=False, feat_one_word_title=False, feat_coach=False),\n Row(color=None, num_critic_for_reviews=None, duration=None, gross=None, num_voted_users=8, cast_total_facebook_likes=143, facenumber_in_poster=0, plot_keywords=None, num_user_for_reviews=None, language=None, country=None, content_rating=None, budget=None, title_year=None, imdb_score=7.1, aspect_ratio=None, movie_facebook_likes=0, imdb_id='tt5289954', id=4, name='Star Wars: Episode VII - The Force Awakens\\xa0            ', timestamp=None, feat_love=None, feat_friend=None, feat_murder=None, feat_death=None, feat_police=None, feat_new_york_city=None, feat_high_school=None, feat_alien=None, feat_school=None, feat_boy=None, feat_fbi=None, feat_revenge=None, feat_friendship=None, feat_drugs=None, feat_prison=None, feat_money=None, feat_marriage=None, feat_female_protagonist=None, feat_island=None, feat_dog=None, feat_party=None, feat_escape=None, feat_wedding=None, feat_sex=None, feat_serial_killer=None, feat_detective=None, feat_box_office_flop=None, feat_rescue=None, feat_teenager=None, feat_female_nudity=None, feat_battle=None, feat_lawyer=None, feat_vomiting=None, feat_hospital=None, feat_secret=None, feat_christmas=None, feat_best_friend=None, feat_scientist=None, feat_cia=None, feat_singer=None, feat_train=None, feat_college=None, feat_hotel=None, feat_fight=None, feat_future=None, feat_vampire=None, feat_small_town=None, feat_writer=None, feat_king=None, feat_texas=None, feat_terrorist=None, feat_teacher=None, feat_male_nudity=None, feat_girl=None, feat_cult_film=None, feat_student=None, feat_violence=None, feat_spy=None, feat_president=None, feat_assassin=None, feat_sequel=None, feat_doctor=None, feat_blood=None, feat_actor=None, feat_ghost=None, feat_sheriff=None, feat_new_york=None, feat_baby=None, feat_desert=None, feat_breasts=None, feat_gangster=None, feat_bar=None, feat_critically_bashed=None, feat_monster=None, feat_soldier=None, feat_magic=None, feat_neighbor=None, feat_family_relationships=None, feat_one_word_title=None, feat_coach=None)]"
     },
     "execution_count": 24,
     "metadata": {},
     "output_type": "execute_result"
    }
   ],
   "source": [
    "df_nodes_movies_new = df_nodes_movies.join(\n",
    "    df_nodes_movies_feats,\n",
    "    F.col('id') == F.col('movie_id'),\n",
    "    'left'\n",
    ").drop('movie_id').sort('id')\n",
    "\n",
    "df_nodes_movies_new.head(5)"
   ],
   "metadata": {
    "collapsed": false,
    "pycharm": {
     "name": "#%%\n"
    }
   }
  },
  {
   "cell_type": "code",
   "execution_count": 25,
   "outputs": [
    {
     "data": {
      "text/plain": "[Row(genre_id=0, keywords=['friendship', 'doctor', 'girl', 'friend', 'female protagonist', 'fight', 'violence', 'female nudity', 'cia', 'critically bashed', 'revenge', 'breasts', 'sex', 'train', 'prison', 'box office flop', 'escape', 'college', 'writer', 'neighbor', 'desert', 'magic', 'male nudity', 'king', 'student', 'fbi', 'small town', 'soldier', 'murder', 'family relationships', 'teacher', 'future', 'secret', 'detective', 'new york city', 'death', 'spy', 'island', 'bar', 'battle', 'school', 'alien', 'christmas', 'hotel', 'vomiting', 'party', 'terrorist', 'ghost', 'blood', 'scientist', 'gangster', 'drugs', 'vampire', 'hospital', 'monster', 'police', 'wedding', 'singer', 'sheriff', 'cult film', 'rescue', 'president', 'serial killer', 'lawyer', 'dog', 'best friend', 'sequel', 'actor', 'teenager', 'new york', 'texas', 'assassin', 'boy', 'money', 'marriage', 'love', 'baby', 'high school', 'one word title']),\n Row(genre_id=1, keywords=['friendship', 'girl', 'doctor', 'coach', 'friend', 'female protagonist', 'fight', 'violence', 'female nudity', 'cia', 'critically bashed', 'revenge', 'breasts', 'sex', 'train', 'prison', 'box office flop', 'escape', 'college', 'writer', 'desert', 'magic', 'male nudity', 'king', 'student', 'fbi', 'small town', 'soldier', 'murder', 'family relationships', 'teacher', 'future', 'secret', 'detective', 'new york city', 'death', 'spy', 'island', 'bar', 'battle', 'school', 'alien', 'christmas', 'hotel', 'vomiting', 'terrorist', 'ghost', 'blood', 'scientist', 'gangster', 'drugs', 'vampire', 'hospital', 'monster', 'police', 'wedding', 'singer', 'sheriff', 'cult film', 'rescue', 'president', 'serial killer', 'lawyer', 'best friend', 'dog', 'sequel', 'actor', 'teenager', 'new york', 'texas', 'assassin', 'boy', 'money', 'marriage', 'love', 'baby', 'one word title', 'high school']),\n Row(genre_id=2, keywords=['friendship', 'girl', 'doctor', 'friend', 'female protagonist', 'violence', 'female nudity', 'critically bashed', 'revenge', 'breasts', 'sex', 'train', 'prison', 'box office flop', 'escape', 'college', 'writer', 'neighbor', 'desert', 'magic', 'king', 'student', 'fbi', 'small town', 'soldier', 'murder', 'family relationships', 'teacher', 'future', 'secret', 'detective', 'new york city', 'death', 'island', 'spy', 'bar', 'battle', 'school', 'alien', 'christmas', 'hotel', 'vomiting', 'party', 'terrorist', 'ghost', 'blood', 'scientist', 'gangster', 'drugs', 'vampire', 'hospital', 'monster', 'police', 'wedding', 'sheriff', 'cult film', 'rescue', 'serial killer', 'lawyer', 'dog', 'best friend', 'sequel', 'teenager', 'new york', 'texas', 'assassin', 'boy', 'money', 'marriage', 'love', 'baby', 'one word title', 'high school']),\n Row(genre_id=3, keywords=['doctor', 'girl', 'friend', 'female protagonist', 'fight', 'violence', 'female nudity', 'cia', 'critically bashed', 'revenge', 'breasts', 'sex', 'train', 'prison', 'box office flop', 'escape', 'college', 'writer', 'neighbor', 'desert', 'male nudity', 'magic', 'king', 'student', 'fbi', 'small town', 'soldier', 'murder', 'family relationships', 'teacher', 'future', 'secret', 'detective', 'new york city', 'death', 'island', 'spy', 'bar', 'battle', 'school', 'alien', 'hotel', 'vomiting', 'party', 'terrorist', 'ghost', 'blood', 'scientist', 'drugs', 'vampire', 'hospital', 'monster', 'police', 'wedding', 'singer', 'sheriff', 'cult film', 'rescue', 'president', 'serial killer', 'lawyer', 'dog', 'best friend', 'sequel', 'teenager', 'new york', 'texas', 'assassin', 'boy', 'money', 'marriage', 'love', 'baby', 'high school', 'one word title']),\n Row(genre_id=4, keywords=['friendship', 'girl', 'doctor', 'friend', 'female protagonist', 'fight', 'violence', 'female nudity', 'cia', 'critically bashed', 'revenge', 'breasts', 'sex', 'train', 'prison', 'box office flop', 'escape', 'college', 'writer', 'neighbor', 'desert', 'male nudity', 'magic', 'king', 'student', 'fbi', 'small town', 'murder', 'soldier', 'family relationships', 'teacher', 'future', 'secret', 'detective', 'new york city', 'death', 'spy', 'island', 'bar', 'battle', 'school', 'alien', 'christmas', 'hotel', 'vomiting', 'party', 'terrorist', 'ghost', 'blood', 'scientist', 'gangster', 'drugs', 'vampire', 'hospital', 'police', 'monster', 'wedding', 'singer', 'sheriff', 'cult film', 'rescue', 'president', 'serial killer', 'lawyer', 'dog', 'best friend', 'sequel', 'actor', 'teenager', 'new york', 'texas', 'assassin', 'boy', 'money', 'marriage', 'love', 'baby', 'one word title', 'high school'])]"
     },
     "execution_count": 25,
     "metadata": {},
     "output_type": "execute_result"
    }
   ],
   "source": [
    "df_nodes_genres_kw = (\n",
    "    df_edges_has_genre.select(\n",
    "        F.col('src').alias('src_movie_id'),\n",
    "        F.col('dst').alias('genre_id'),\n",
    "    ).join(\n",
    "        df_kw_doc.filter(df_kw_doc.keyword.isin(top_keywords)),\n",
    "        F.col('src_movie_id') == F.col('movie_id'),\n",
    "        'left'\n",
    "    ).groupby('genre_id').agg(F.collect_set('keyword').alias('keywords'))\n",
    ")\n",
    "df_nodes_genres_kw.head(5)"
   ],
   "metadata": {
    "collapsed": false,
    "pycharm": {
     "name": "#%%\n"
    }
   }
  },
  {
   "cell_type": "code",
   "execution_count": 26,
   "outputs": [
    {
     "data": {
      "text/plain": "[Row(genre_id=0, feat_love=True, feat_friend=True, feat_murder=True, feat_death=True, feat_police=True, feat_new_york_city=True, feat_high_school=True, feat_alien=True, feat_school=True, feat_boy=True, feat_fbi=True, feat_revenge=True, feat_friendship=True, feat_drugs=True, feat_prison=True, feat_money=True, feat_marriage=True, feat_female_protagonist=True, feat_island=True, feat_dog=True, feat_party=True, feat_escape=True, feat_wedding=True, feat_sex=True, feat_serial_killer=True, feat_detective=True, feat_box_office_flop=True, feat_rescue=True, feat_teenager=True, feat_female_nudity=True, feat_battle=True, feat_lawyer=True, feat_vomiting=True, feat_hospital=True, feat_secret=True, feat_christmas=True, feat_best_friend=True, feat_scientist=True, feat_cia=True, feat_singer=True, feat_train=True, feat_college=True, feat_hotel=True, feat_fight=True, feat_future=True, feat_vampire=True, feat_small_town=True, feat_writer=True, feat_king=True, feat_texas=True, feat_terrorist=True, feat_teacher=True, feat_male_nudity=True, feat_girl=True, feat_cult_film=True, feat_student=True, feat_violence=True, feat_spy=True, feat_president=True, feat_assassin=True, feat_sequel=True, feat_doctor=True, feat_blood=True, feat_actor=True, feat_ghost=True, feat_sheriff=True, feat_new_york=True, feat_baby=True, feat_desert=True, feat_breasts=True, feat_gangster=True, feat_bar=True, feat_critically_bashed=True, feat_monster=True, feat_soldier=True, feat_magic=True, feat_neighbor=True, feat_family_relationships=True, feat_one_word_title=True, feat_coach=False),\n Row(genre_id=1, feat_love=True, feat_friend=True, feat_murder=True, feat_death=True, feat_police=True, feat_new_york_city=True, feat_high_school=True, feat_alien=True, feat_school=True, feat_boy=True, feat_fbi=True, feat_revenge=True, feat_friendship=True, feat_drugs=True, feat_prison=True, feat_money=True, feat_marriage=True, feat_female_protagonist=True, feat_island=True, feat_dog=True, feat_party=False, feat_escape=True, feat_wedding=True, feat_sex=True, feat_serial_killer=True, feat_detective=True, feat_box_office_flop=True, feat_rescue=True, feat_teenager=True, feat_female_nudity=True, feat_battle=True, feat_lawyer=True, feat_vomiting=True, feat_hospital=True, feat_secret=True, feat_christmas=True, feat_best_friend=True, feat_scientist=True, feat_cia=True, feat_singer=True, feat_train=True, feat_college=True, feat_hotel=True, feat_fight=True, feat_future=True, feat_vampire=True, feat_small_town=True, feat_writer=True, feat_king=True, feat_texas=True, feat_terrorist=True, feat_teacher=True, feat_male_nudity=True, feat_girl=True, feat_cult_film=True, feat_student=True, feat_violence=True, feat_spy=True, feat_president=True, feat_assassin=True, feat_sequel=True, feat_doctor=True, feat_blood=True, feat_actor=True, feat_ghost=True, feat_sheriff=True, feat_new_york=True, feat_baby=True, feat_desert=True, feat_breasts=True, feat_gangster=True, feat_bar=True, feat_critically_bashed=True, feat_monster=True, feat_soldier=True, feat_magic=True, feat_neighbor=False, feat_family_relationships=True, feat_one_word_title=True, feat_coach=True),\n Row(genre_id=2, feat_love=True, feat_friend=True, feat_murder=True, feat_death=True, feat_police=True, feat_new_york_city=True, feat_high_school=True, feat_alien=True, feat_school=True, feat_boy=True, feat_fbi=True, feat_revenge=True, feat_friendship=True, feat_drugs=True, feat_prison=True, feat_money=True, feat_marriage=True, feat_female_protagonist=True, feat_island=True, feat_dog=True, feat_party=True, feat_escape=True, feat_wedding=True, feat_sex=True, feat_serial_killer=True, feat_detective=True, feat_box_office_flop=True, feat_rescue=True, feat_teenager=True, feat_female_nudity=True, feat_battle=True, feat_lawyer=True, feat_vomiting=True, feat_hospital=True, feat_secret=True, feat_christmas=True, feat_best_friend=True, feat_scientist=True, feat_cia=False, feat_singer=False, feat_train=True, feat_college=True, feat_hotel=True, feat_fight=False, feat_future=True, feat_vampire=True, feat_small_town=True, feat_writer=True, feat_king=True, feat_texas=True, feat_terrorist=True, feat_teacher=True, feat_male_nudity=False, feat_girl=True, feat_cult_film=True, feat_student=True, feat_violence=True, feat_spy=True, feat_president=False, feat_assassin=True, feat_sequel=True, feat_doctor=True, feat_blood=True, feat_actor=False, feat_ghost=True, feat_sheriff=True, feat_new_york=True, feat_baby=True, feat_desert=True, feat_breasts=True, feat_gangster=True, feat_bar=True, feat_critically_bashed=True, feat_monster=True, feat_soldier=True, feat_magic=True, feat_neighbor=True, feat_family_relationships=True, feat_one_word_title=True, feat_coach=False),\n Row(genre_id=3, feat_love=True, feat_friend=True, feat_murder=True, feat_death=True, feat_police=True, feat_new_york_city=True, feat_high_school=True, feat_alien=True, feat_school=True, feat_boy=True, feat_fbi=True, feat_revenge=True, feat_friendship=False, feat_drugs=True, feat_prison=True, feat_money=True, feat_marriage=True, feat_female_protagonist=True, feat_island=True, feat_dog=True, feat_party=True, feat_escape=True, feat_wedding=True, feat_sex=True, feat_serial_killer=True, feat_detective=True, feat_box_office_flop=True, feat_rescue=True, feat_teenager=True, feat_female_nudity=True, feat_battle=True, feat_lawyer=True, feat_vomiting=True, feat_hospital=True, feat_secret=True, feat_christmas=False, feat_best_friend=True, feat_scientist=True, feat_cia=True, feat_singer=True, feat_train=True, feat_college=True, feat_hotel=True, feat_fight=True, feat_future=True, feat_vampire=True, feat_small_town=True, feat_writer=True, feat_king=True, feat_texas=True, feat_terrorist=True, feat_teacher=True, feat_male_nudity=True, feat_girl=True, feat_cult_film=True, feat_student=True, feat_violence=True, feat_spy=True, feat_president=True, feat_assassin=True, feat_sequel=True, feat_doctor=True, feat_blood=True, feat_actor=False, feat_ghost=True, feat_sheriff=True, feat_new_york=True, feat_baby=True, feat_desert=True, feat_breasts=True, feat_gangster=False, feat_bar=True, feat_critically_bashed=True, feat_monster=True, feat_soldier=True, feat_magic=True, feat_neighbor=True, feat_family_relationships=True, feat_one_word_title=True, feat_coach=False),\n Row(genre_id=4, feat_love=True, feat_friend=True, feat_murder=True, feat_death=True, feat_police=True, feat_new_york_city=True, feat_high_school=True, feat_alien=True, feat_school=True, feat_boy=True, feat_fbi=True, feat_revenge=True, feat_friendship=True, feat_drugs=True, feat_prison=True, feat_money=True, feat_marriage=True, feat_female_protagonist=True, feat_island=True, feat_dog=True, feat_party=True, feat_escape=True, feat_wedding=True, feat_sex=True, feat_serial_killer=True, feat_detective=True, feat_box_office_flop=True, feat_rescue=True, feat_teenager=True, feat_female_nudity=True, feat_battle=True, feat_lawyer=True, feat_vomiting=True, feat_hospital=True, feat_secret=True, feat_christmas=True, feat_best_friend=True, feat_scientist=True, feat_cia=True, feat_singer=True, feat_train=True, feat_college=True, feat_hotel=True, feat_fight=True, feat_future=True, feat_vampire=True, feat_small_town=True, feat_writer=True, feat_king=True, feat_texas=True, feat_terrorist=True, feat_teacher=True, feat_male_nudity=True, feat_girl=True, feat_cult_film=True, feat_student=True, feat_violence=True, feat_spy=True, feat_president=True, feat_assassin=True, feat_sequel=True, feat_doctor=True, feat_blood=True, feat_actor=True, feat_ghost=True, feat_sheriff=True, feat_new_york=True, feat_baby=True, feat_desert=True, feat_breasts=True, feat_gangster=True, feat_bar=True, feat_critically_bashed=True, feat_monster=True, feat_soldier=True, feat_magic=True, feat_neighbor=True, feat_family_relationships=True, feat_one_word_title=True, feat_coach=False)]"
     },
     "execution_count": 26,
     "metadata": {},
     "output_type": "execute_result"
    }
   ],
   "source": [
    "df_nodes_genres_feats = (\n",
    "    df_nodes_genres_kw.select(['genre_id'] + [\n",
    "        F.array_contains('keywords', F.lit(k)).alias('feat_' + str(k).replace(' ', '_'))\n",
    "        for k in top_keywords\n",
    "    ])\n",
    ")\n",
    "df_nodes_genres_feats.head(5)"
   ],
   "metadata": {
    "collapsed": false,
    "pycharm": {
     "name": "#%%\n"
    }
   }
  },
  {
   "cell_type": "code",
   "execution_count": 27,
   "outputs": [
    {
     "data": {
      "text/plain": "[Row(name='Action', id=0, feat_love=True, feat_friend=True, feat_murder=True, feat_death=True, feat_police=True, feat_new_york_city=True, feat_high_school=True, feat_alien=True, feat_school=True, feat_boy=True, feat_fbi=True, feat_revenge=True, feat_friendship=True, feat_drugs=True, feat_prison=True, feat_money=True, feat_marriage=True, feat_female_protagonist=True, feat_island=True, feat_dog=True, feat_party=True, feat_escape=True, feat_wedding=True, feat_sex=True, feat_serial_killer=True, feat_detective=True, feat_box_office_flop=True, feat_rescue=True, feat_teenager=True, feat_female_nudity=True, feat_battle=True, feat_lawyer=True, feat_vomiting=True, feat_hospital=True, feat_secret=True, feat_christmas=True, feat_best_friend=True, feat_scientist=True, feat_cia=True, feat_singer=True, feat_train=True, feat_college=True, feat_hotel=True, feat_fight=True, feat_future=True, feat_vampire=True, feat_small_town=True, feat_writer=True, feat_king=True, feat_texas=True, feat_terrorist=True, feat_teacher=True, feat_male_nudity=True, feat_girl=True, feat_cult_film=True, feat_student=True, feat_violence=True, feat_spy=True, feat_president=True, feat_assassin=True, feat_sequel=True, feat_doctor=True, feat_blood=True, feat_actor=True, feat_ghost=True, feat_sheriff=True, feat_new_york=True, feat_baby=True, feat_desert=True, feat_breasts=True, feat_gangster=True, feat_bar=True, feat_critically_bashed=True, feat_monster=True, feat_soldier=True, feat_magic=True, feat_neighbor=True, feat_family_relationships=True, feat_one_word_title=True, feat_coach=False),\n Row(name='Adventure', id=1, feat_love=True, feat_friend=True, feat_murder=True, feat_death=True, feat_police=True, feat_new_york_city=True, feat_high_school=True, feat_alien=True, feat_school=True, feat_boy=True, feat_fbi=True, feat_revenge=True, feat_friendship=True, feat_drugs=True, feat_prison=True, feat_money=True, feat_marriage=True, feat_female_protagonist=True, feat_island=True, feat_dog=True, feat_party=False, feat_escape=True, feat_wedding=True, feat_sex=True, feat_serial_killer=True, feat_detective=True, feat_box_office_flop=True, feat_rescue=True, feat_teenager=True, feat_female_nudity=True, feat_battle=True, feat_lawyer=True, feat_vomiting=True, feat_hospital=True, feat_secret=True, feat_christmas=True, feat_best_friend=True, feat_scientist=True, feat_cia=True, feat_singer=True, feat_train=True, feat_college=True, feat_hotel=True, feat_fight=True, feat_future=True, feat_vampire=True, feat_small_town=True, feat_writer=True, feat_king=True, feat_texas=True, feat_terrorist=True, feat_teacher=True, feat_male_nudity=True, feat_girl=True, feat_cult_film=True, feat_student=True, feat_violence=True, feat_spy=True, feat_president=True, feat_assassin=True, feat_sequel=True, feat_doctor=True, feat_blood=True, feat_actor=True, feat_ghost=True, feat_sheriff=True, feat_new_york=True, feat_baby=True, feat_desert=True, feat_breasts=True, feat_gangster=True, feat_bar=True, feat_critically_bashed=True, feat_monster=True, feat_soldier=True, feat_magic=True, feat_neighbor=False, feat_family_relationships=True, feat_one_word_title=True, feat_coach=True),\n Row(name='Fantasy', id=2, feat_love=True, feat_friend=True, feat_murder=True, feat_death=True, feat_police=True, feat_new_york_city=True, feat_high_school=True, feat_alien=True, feat_school=True, feat_boy=True, feat_fbi=True, feat_revenge=True, feat_friendship=True, feat_drugs=True, feat_prison=True, feat_money=True, feat_marriage=True, feat_female_protagonist=True, feat_island=True, feat_dog=True, feat_party=True, feat_escape=True, feat_wedding=True, feat_sex=True, feat_serial_killer=True, feat_detective=True, feat_box_office_flop=True, feat_rescue=True, feat_teenager=True, feat_female_nudity=True, feat_battle=True, feat_lawyer=True, feat_vomiting=True, feat_hospital=True, feat_secret=True, feat_christmas=True, feat_best_friend=True, feat_scientist=True, feat_cia=False, feat_singer=False, feat_train=True, feat_college=True, feat_hotel=True, feat_fight=False, feat_future=True, feat_vampire=True, feat_small_town=True, feat_writer=True, feat_king=True, feat_texas=True, feat_terrorist=True, feat_teacher=True, feat_male_nudity=False, feat_girl=True, feat_cult_film=True, feat_student=True, feat_violence=True, feat_spy=True, feat_president=False, feat_assassin=True, feat_sequel=True, feat_doctor=True, feat_blood=True, feat_actor=False, feat_ghost=True, feat_sheriff=True, feat_new_york=True, feat_baby=True, feat_desert=True, feat_breasts=True, feat_gangster=True, feat_bar=True, feat_critically_bashed=True, feat_monster=True, feat_soldier=True, feat_magic=True, feat_neighbor=True, feat_family_relationships=True, feat_one_word_title=True, feat_coach=False),\n Row(name='Sci-Fi', id=3, feat_love=True, feat_friend=True, feat_murder=True, feat_death=True, feat_police=True, feat_new_york_city=True, feat_high_school=True, feat_alien=True, feat_school=True, feat_boy=True, feat_fbi=True, feat_revenge=True, feat_friendship=False, feat_drugs=True, feat_prison=True, feat_money=True, feat_marriage=True, feat_female_protagonist=True, feat_island=True, feat_dog=True, feat_party=True, feat_escape=True, feat_wedding=True, feat_sex=True, feat_serial_killer=True, feat_detective=True, feat_box_office_flop=True, feat_rescue=True, feat_teenager=True, feat_female_nudity=True, feat_battle=True, feat_lawyer=True, feat_vomiting=True, feat_hospital=True, feat_secret=True, feat_christmas=False, feat_best_friend=True, feat_scientist=True, feat_cia=True, feat_singer=True, feat_train=True, feat_college=True, feat_hotel=True, feat_fight=True, feat_future=True, feat_vampire=True, feat_small_town=True, feat_writer=True, feat_king=True, feat_texas=True, feat_terrorist=True, feat_teacher=True, feat_male_nudity=True, feat_girl=True, feat_cult_film=True, feat_student=True, feat_violence=True, feat_spy=True, feat_president=True, feat_assassin=True, feat_sequel=True, feat_doctor=True, feat_blood=True, feat_actor=False, feat_ghost=True, feat_sheriff=True, feat_new_york=True, feat_baby=True, feat_desert=True, feat_breasts=True, feat_gangster=False, feat_bar=True, feat_critically_bashed=True, feat_monster=True, feat_soldier=True, feat_magic=True, feat_neighbor=True, feat_family_relationships=True, feat_one_word_title=True, feat_coach=False),\n Row(name='Thriller', id=4, feat_love=True, feat_friend=True, feat_murder=True, feat_death=True, feat_police=True, feat_new_york_city=True, feat_high_school=True, feat_alien=True, feat_school=True, feat_boy=True, feat_fbi=True, feat_revenge=True, feat_friendship=True, feat_drugs=True, feat_prison=True, feat_money=True, feat_marriage=True, feat_female_protagonist=True, feat_island=True, feat_dog=True, feat_party=True, feat_escape=True, feat_wedding=True, feat_sex=True, feat_serial_killer=True, feat_detective=True, feat_box_office_flop=True, feat_rescue=True, feat_teenager=True, feat_female_nudity=True, feat_battle=True, feat_lawyer=True, feat_vomiting=True, feat_hospital=True, feat_secret=True, feat_christmas=True, feat_best_friend=True, feat_scientist=True, feat_cia=True, feat_singer=True, feat_train=True, feat_college=True, feat_hotel=True, feat_fight=True, feat_future=True, feat_vampire=True, feat_small_town=True, feat_writer=True, feat_king=True, feat_texas=True, feat_terrorist=True, feat_teacher=True, feat_male_nudity=True, feat_girl=True, feat_cult_film=True, feat_student=True, feat_violence=True, feat_spy=True, feat_president=True, feat_assassin=True, feat_sequel=True, feat_doctor=True, feat_blood=True, feat_actor=True, feat_ghost=True, feat_sheriff=True, feat_new_york=True, feat_baby=True, feat_desert=True, feat_breasts=True, feat_gangster=True, feat_bar=True, feat_critically_bashed=True, feat_monster=True, feat_soldier=True, feat_magic=True, feat_neighbor=True, feat_family_relationships=True, feat_one_word_title=True, feat_coach=False)]"
     },
     "execution_count": 27,
     "metadata": {},
     "output_type": "execute_result"
    }
   ],
   "source": [
    "df_nodes_genres_new = df_nodes_genres.join(\n",
    "    df_nodes_genres_feats,\n",
    "    F.col('id') == F.col('genre_id'),\n",
    "    'left'\n",
    ").drop('genre_id').sort('id')\n",
    "\n",
    "df_nodes_genres_new.head(5)"
   ],
   "metadata": {
    "collapsed": false,
    "pycharm": {
     "name": "#%%\n"
    }
   }
  },
  {
   "cell_type": "markdown",
   "source": [
    "## Saving the Data"
   ],
   "metadata": {
    "collapsed": false,
    "pycharm": {
     "name": "#%% md\n"
    }
   }
  },
  {
   "cell_type": "code",
   "execution_count": 28,
   "metadata": {
    "pycharm": {
     "name": "#%%\n"
    }
   },
   "outputs": [
    {
     "name": "stderr",
     "output_type": "stream",
     "text": [
      "                                                                                \r"
     ]
    }
   ],
   "source": [
    "df_nodes_persons_new.write.parquet(DATASET.processed_str('nodes_Person'), mode='overwrite')\n",
    "df_nodes_genres_new.write.parquet(DATASET.processed_str('nodes_Genre'), mode='overwrite')\n",
    "df_nodes_movies_new.write.parquet(DATASET.processed_str('nodes_Movie'), mode='overwrite')\n",
    "\n",
    "df_edges_acted_in.write.parquet(DATASET.processed_str('edges_ACTED_IN'), mode='overwrite')\n",
    "df_edges_directed.write.parquet(DATASET.processed_str('edges_DIRECTED'), mode='overwrite')\n",
    "df_edges_has_genre.write.parquet(DATASET.processed_str('edges_HAS_GENRE'), mode='overwrite')"
   ]
  },
  {
   "cell_type": "code",
   "execution_count": 29,
   "metadata": {
    "pycharm": {
     "name": "#%%\n"
    }
   },
   "outputs": [
    {
     "data": {
      "text/plain": "GraphSchema(_path=PosixPath('/data/pella/projects/University/Thesis/Thesis/code/storage/datasets/processed/imdb-5000-movie-dataset'), nodes={'Person': NodeSchema(_type='Person', _schema=..., label='name', properties={'name': GraphProperty(_name='name', dtype=DType(atomic=<DTypeAtomic.STRING: 'string'>, array=False)), 'facebook_likes': GraphProperty(_name='facebook_likes', dtype=DType(atomic=<DTypeAtomic.INT: 'int'>, array=False)), 'id': GraphProperty(_name='id', dtype=DType(atomic=<DTypeAtomic.INT: 'int'>, array=False)), 'feat_love': GraphProperty(_name='feat_love', dtype=DType(atomic=<DTypeAtomic.BOOL: 'boolean'>, array=False)), 'feat_friend': GraphProperty(_name='feat_friend', dtype=DType(atomic=<DTypeAtomic.BOOL: 'boolean'>, array=False)), 'feat_murder': GraphProperty(_name='feat_murder', dtype=DType(atomic=<DTypeAtomic.BOOL: 'boolean'>, array=False)), 'feat_death': GraphProperty(_name='feat_death', dtype=DType(atomic=<DTypeAtomic.BOOL: 'boolean'>, array=False)), 'feat_police': GraphProperty(_name='feat_police', dtype=DType(atomic=<DTypeAtomic.BOOL: 'boolean'>, array=False)), 'feat_new_york_city': GraphProperty(_name='feat_new_york_city', dtype=DType(atomic=<DTypeAtomic.BOOL: 'boolean'>, array=False)), 'feat_high_school': GraphProperty(_name='feat_high_school', dtype=DType(atomic=<DTypeAtomic.BOOL: 'boolean'>, array=False)), 'feat_alien': GraphProperty(_name='feat_alien', dtype=DType(atomic=<DTypeAtomic.BOOL: 'boolean'>, array=False)), 'feat_school': GraphProperty(_name='feat_school', dtype=DType(atomic=<DTypeAtomic.BOOL: 'boolean'>, array=False)), 'feat_boy': GraphProperty(_name='feat_boy', dtype=DType(atomic=<DTypeAtomic.BOOL: 'boolean'>, array=False)), 'feat_fbi': GraphProperty(_name='feat_fbi', dtype=DType(atomic=<DTypeAtomic.BOOL: 'boolean'>, array=False)), 'feat_revenge': GraphProperty(_name='feat_revenge', dtype=DType(atomic=<DTypeAtomic.BOOL: 'boolean'>, array=False)), 'feat_friendship': GraphProperty(_name='feat_friendship', dtype=DType(atomic=<DTypeAtomic.BOOL: 'boolean'>, array=False)), 'feat_drugs': GraphProperty(_name='feat_drugs', dtype=DType(atomic=<DTypeAtomic.BOOL: 'boolean'>, array=False)), 'feat_prison': GraphProperty(_name='feat_prison', dtype=DType(atomic=<DTypeAtomic.BOOL: 'boolean'>, array=False)), 'feat_money': GraphProperty(_name='feat_money', dtype=DType(atomic=<DTypeAtomic.BOOL: 'boolean'>, array=False)), 'feat_marriage': GraphProperty(_name='feat_marriage', dtype=DType(atomic=<DTypeAtomic.BOOL: 'boolean'>, array=False)), 'feat_female_protagonist': GraphProperty(_name='feat_female_protagonist', dtype=DType(atomic=<DTypeAtomic.BOOL: 'boolean'>, array=False)), 'feat_island': GraphProperty(_name='feat_island', dtype=DType(atomic=<DTypeAtomic.BOOL: 'boolean'>, array=False)), 'feat_dog': GraphProperty(_name='feat_dog', dtype=DType(atomic=<DTypeAtomic.BOOL: 'boolean'>, array=False)), 'feat_party': GraphProperty(_name='feat_party', dtype=DType(atomic=<DTypeAtomic.BOOL: 'boolean'>, array=False)), 'feat_escape': GraphProperty(_name='feat_escape', dtype=DType(atomic=<DTypeAtomic.BOOL: 'boolean'>, array=False)), 'feat_wedding': GraphProperty(_name='feat_wedding', dtype=DType(atomic=<DTypeAtomic.BOOL: 'boolean'>, array=False)), 'feat_sex': GraphProperty(_name='feat_sex', dtype=DType(atomic=<DTypeAtomic.BOOL: 'boolean'>, array=False)), 'feat_serial_killer': GraphProperty(_name='feat_serial_killer', dtype=DType(atomic=<DTypeAtomic.BOOL: 'boolean'>, array=False)), 'feat_detective': GraphProperty(_name='feat_detective', dtype=DType(atomic=<DTypeAtomic.BOOL: 'boolean'>, array=False)), 'feat_box_office_flop': GraphProperty(_name='feat_box_office_flop', dtype=DType(atomic=<DTypeAtomic.BOOL: 'boolean'>, array=False)), 'feat_rescue': GraphProperty(_name='feat_rescue', dtype=DType(atomic=<DTypeAtomic.BOOL: 'boolean'>, array=False)), 'feat_teenager': GraphProperty(_name='feat_teenager', dtype=DType(atomic=<DTypeAtomic.BOOL: 'boolean'>, array=False)), 'feat_female_nudity': GraphProperty(_name='feat_female_nudity', dtype=DType(atomic=<DTypeAtomic.BOOL: 'boolean'>, array=False)), 'feat_battle': GraphProperty(_name='feat_battle', dtype=DType(atomic=<DTypeAtomic.BOOL: 'boolean'>, array=False)), 'feat_lawyer': GraphProperty(_name='feat_lawyer', dtype=DType(atomic=<DTypeAtomic.BOOL: 'boolean'>, array=False)), 'feat_vomiting': GraphProperty(_name='feat_vomiting', dtype=DType(atomic=<DTypeAtomic.BOOL: 'boolean'>, array=False)), 'feat_hospital': GraphProperty(_name='feat_hospital', dtype=DType(atomic=<DTypeAtomic.BOOL: 'boolean'>, array=False)), 'feat_secret': GraphProperty(_name='feat_secret', dtype=DType(atomic=<DTypeAtomic.BOOL: 'boolean'>, array=False)), 'feat_christmas': GraphProperty(_name='feat_christmas', dtype=DType(atomic=<DTypeAtomic.BOOL: 'boolean'>, array=False)), 'feat_best_friend': GraphProperty(_name='feat_best_friend', dtype=DType(atomic=<DTypeAtomic.BOOL: 'boolean'>, array=False)), 'feat_scientist': GraphProperty(_name='feat_scientist', dtype=DType(atomic=<DTypeAtomic.BOOL: 'boolean'>, array=False)), 'feat_cia': GraphProperty(_name='feat_cia', dtype=DType(atomic=<DTypeAtomic.BOOL: 'boolean'>, array=False)), 'feat_singer': GraphProperty(_name='feat_singer', dtype=DType(atomic=<DTypeAtomic.BOOL: 'boolean'>, array=False)), 'feat_train': GraphProperty(_name='feat_train', dtype=DType(atomic=<DTypeAtomic.BOOL: 'boolean'>, array=False)), 'feat_college': GraphProperty(_name='feat_college', dtype=DType(atomic=<DTypeAtomic.BOOL: 'boolean'>, array=False)), 'feat_hotel': GraphProperty(_name='feat_hotel', dtype=DType(atomic=<DTypeAtomic.BOOL: 'boolean'>, array=False)), 'feat_fight': GraphProperty(_name='feat_fight', dtype=DType(atomic=<DTypeAtomic.BOOL: 'boolean'>, array=False)), 'feat_future': GraphProperty(_name='feat_future', dtype=DType(atomic=<DTypeAtomic.BOOL: 'boolean'>, array=False)), 'feat_vampire': GraphProperty(_name='feat_vampire', dtype=DType(atomic=<DTypeAtomic.BOOL: 'boolean'>, array=False)), 'feat_small_town': GraphProperty(_name='feat_small_town', dtype=DType(atomic=<DTypeAtomic.BOOL: 'boolean'>, array=False)), 'feat_writer': GraphProperty(_name='feat_writer', dtype=DType(atomic=<DTypeAtomic.BOOL: 'boolean'>, array=False)), 'feat_king': GraphProperty(_name='feat_king', dtype=DType(atomic=<DTypeAtomic.BOOL: 'boolean'>, array=False)), 'feat_texas': GraphProperty(_name='feat_texas', dtype=DType(atomic=<DTypeAtomic.BOOL: 'boolean'>, array=False)), 'feat_terrorist': GraphProperty(_name='feat_terrorist', dtype=DType(atomic=<DTypeAtomic.BOOL: 'boolean'>, array=False)), 'feat_teacher': GraphProperty(_name='feat_teacher', dtype=DType(atomic=<DTypeAtomic.BOOL: 'boolean'>, array=False)), 'feat_male_nudity': GraphProperty(_name='feat_male_nudity', dtype=DType(atomic=<DTypeAtomic.BOOL: 'boolean'>, array=False)), 'feat_girl': GraphProperty(_name='feat_girl', dtype=DType(atomic=<DTypeAtomic.BOOL: 'boolean'>, array=False)), 'feat_cult_film': GraphProperty(_name='feat_cult_film', dtype=DType(atomic=<DTypeAtomic.BOOL: 'boolean'>, array=False)), 'feat_student': GraphProperty(_name='feat_student', dtype=DType(atomic=<DTypeAtomic.BOOL: 'boolean'>, array=False)), 'feat_violence': GraphProperty(_name='feat_violence', dtype=DType(atomic=<DTypeAtomic.BOOL: 'boolean'>, array=False)), 'feat_spy': GraphProperty(_name='feat_spy', dtype=DType(atomic=<DTypeAtomic.BOOL: 'boolean'>, array=False)), 'feat_president': GraphProperty(_name='feat_president', dtype=DType(atomic=<DTypeAtomic.BOOL: 'boolean'>, array=False)), 'feat_assassin': GraphProperty(_name='feat_assassin', dtype=DType(atomic=<DTypeAtomic.BOOL: 'boolean'>, array=False)), 'feat_sequel': GraphProperty(_name='feat_sequel', dtype=DType(atomic=<DTypeAtomic.BOOL: 'boolean'>, array=False)), 'feat_doctor': GraphProperty(_name='feat_doctor', dtype=DType(atomic=<DTypeAtomic.BOOL: 'boolean'>, array=False)), 'feat_blood': GraphProperty(_name='feat_blood', dtype=DType(atomic=<DTypeAtomic.BOOL: 'boolean'>, array=False)), 'feat_actor': GraphProperty(_name='feat_actor', dtype=DType(atomic=<DTypeAtomic.BOOL: 'boolean'>, array=False)), 'feat_ghost': GraphProperty(_name='feat_ghost', dtype=DType(atomic=<DTypeAtomic.BOOL: 'boolean'>, array=False)), 'feat_sheriff': GraphProperty(_name='feat_sheriff', dtype=DType(atomic=<DTypeAtomic.BOOL: 'boolean'>, array=False)), 'feat_new_york': GraphProperty(_name='feat_new_york', dtype=DType(atomic=<DTypeAtomic.BOOL: 'boolean'>, array=False)), 'feat_baby': GraphProperty(_name='feat_baby', dtype=DType(atomic=<DTypeAtomic.BOOL: 'boolean'>, array=False)), 'feat_desert': GraphProperty(_name='feat_desert', dtype=DType(atomic=<DTypeAtomic.BOOL: 'boolean'>, array=False)), 'feat_breasts': GraphProperty(_name='feat_breasts', dtype=DType(atomic=<DTypeAtomic.BOOL: 'boolean'>, array=False)), 'feat_gangster': GraphProperty(_name='feat_gangster', dtype=DType(atomic=<DTypeAtomic.BOOL: 'boolean'>, array=False)), 'feat_bar': GraphProperty(_name='feat_bar', dtype=DType(atomic=<DTypeAtomic.BOOL: 'boolean'>, array=False)), 'feat_critically_bashed': GraphProperty(_name='feat_critically_bashed', dtype=DType(atomic=<DTypeAtomic.BOOL: 'boolean'>, array=False)), 'feat_monster': GraphProperty(_name='feat_monster', dtype=DType(atomic=<DTypeAtomic.BOOL: 'boolean'>, array=False)), 'feat_soldier': GraphProperty(_name='feat_soldier', dtype=DType(atomic=<DTypeAtomic.BOOL: 'boolean'>, array=False)), 'feat_magic': GraphProperty(_name='feat_magic', dtype=DType(atomic=<DTypeAtomic.BOOL: 'boolean'>, array=False)), 'feat_neighbor': GraphProperty(_name='feat_neighbor', dtype=DType(atomic=<DTypeAtomic.BOOL: 'boolean'>, array=False)), 'feat_family_relationships': GraphProperty(_name='feat_family_relationships', dtype=DType(atomic=<DTypeAtomic.BOOL: 'boolean'>, array=False)), 'feat_one_word_title': GraphProperty(_name='feat_one_word_title', dtype=DType(atomic=<DTypeAtomic.BOOL: 'boolean'>, array=False)), 'feat_coach': GraphProperty(_name='feat_coach', dtype=DType(atomic=<DTypeAtomic.BOOL: 'boolean'>, array=False))}, dynamic=None), 'Genre': NodeSchema(_type='Genre', _schema=..., label='name', properties={'name': GraphProperty(_name='name', dtype=DType(atomic=<DTypeAtomic.STRING: 'string'>, array=False)), 'id': GraphProperty(_name='id', dtype=DType(atomic=<DTypeAtomic.INT: 'int'>, array=False)), 'feat_love': GraphProperty(_name='feat_love', dtype=DType(atomic=<DTypeAtomic.BOOL: 'boolean'>, array=False)), 'feat_friend': GraphProperty(_name='feat_friend', dtype=DType(atomic=<DTypeAtomic.BOOL: 'boolean'>, array=False)), 'feat_murder': GraphProperty(_name='feat_murder', dtype=DType(atomic=<DTypeAtomic.BOOL: 'boolean'>, array=False)), 'feat_death': GraphProperty(_name='feat_death', dtype=DType(atomic=<DTypeAtomic.BOOL: 'boolean'>, array=False)), 'feat_police': GraphProperty(_name='feat_police', dtype=DType(atomic=<DTypeAtomic.BOOL: 'boolean'>, array=False)), 'feat_new_york_city': GraphProperty(_name='feat_new_york_city', dtype=DType(atomic=<DTypeAtomic.BOOL: 'boolean'>, array=False)), 'feat_high_school': GraphProperty(_name='feat_high_school', dtype=DType(atomic=<DTypeAtomic.BOOL: 'boolean'>, array=False)), 'feat_alien': GraphProperty(_name='feat_alien', dtype=DType(atomic=<DTypeAtomic.BOOL: 'boolean'>, array=False)), 'feat_school': GraphProperty(_name='feat_school', dtype=DType(atomic=<DTypeAtomic.BOOL: 'boolean'>, array=False)), 'feat_boy': GraphProperty(_name='feat_boy', dtype=DType(atomic=<DTypeAtomic.BOOL: 'boolean'>, array=False)), 'feat_fbi': GraphProperty(_name='feat_fbi', dtype=DType(atomic=<DTypeAtomic.BOOL: 'boolean'>, array=False)), 'feat_revenge': GraphProperty(_name='feat_revenge', dtype=DType(atomic=<DTypeAtomic.BOOL: 'boolean'>, array=False)), 'feat_friendship': GraphProperty(_name='feat_friendship', dtype=DType(atomic=<DTypeAtomic.BOOL: 'boolean'>, array=False)), 'feat_drugs': GraphProperty(_name='feat_drugs', dtype=DType(atomic=<DTypeAtomic.BOOL: 'boolean'>, array=False)), 'feat_prison': GraphProperty(_name='feat_prison', dtype=DType(atomic=<DTypeAtomic.BOOL: 'boolean'>, array=False)), 'feat_money': GraphProperty(_name='feat_money', dtype=DType(atomic=<DTypeAtomic.BOOL: 'boolean'>, array=False)), 'feat_marriage': GraphProperty(_name='feat_marriage', dtype=DType(atomic=<DTypeAtomic.BOOL: 'boolean'>, array=False)), 'feat_female_protagonist': GraphProperty(_name='feat_female_protagonist', dtype=DType(atomic=<DTypeAtomic.BOOL: 'boolean'>, array=False)), 'feat_island': GraphProperty(_name='feat_island', dtype=DType(atomic=<DTypeAtomic.BOOL: 'boolean'>, array=False)), 'feat_dog': GraphProperty(_name='feat_dog', dtype=DType(atomic=<DTypeAtomic.BOOL: 'boolean'>, array=False)), 'feat_party': GraphProperty(_name='feat_party', dtype=DType(atomic=<DTypeAtomic.BOOL: 'boolean'>, array=False)), 'feat_escape': GraphProperty(_name='feat_escape', dtype=DType(atomic=<DTypeAtomic.BOOL: 'boolean'>, array=False)), 'feat_wedding': GraphProperty(_name='feat_wedding', dtype=DType(atomic=<DTypeAtomic.BOOL: 'boolean'>, array=False)), 'feat_sex': GraphProperty(_name='feat_sex', dtype=DType(atomic=<DTypeAtomic.BOOL: 'boolean'>, array=False)), 'feat_serial_killer': GraphProperty(_name='feat_serial_killer', dtype=DType(atomic=<DTypeAtomic.BOOL: 'boolean'>, array=False)), 'feat_detective': GraphProperty(_name='feat_detective', dtype=DType(atomic=<DTypeAtomic.BOOL: 'boolean'>, array=False)), 'feat_box_office_flop': GraphProperty(_name='feat_box_office_flop', dtype=DType(atomic=<DTypeAtomic.BOOL: 'boolean'>, array=False)), 'feat_rescue': GraphProperty(_name='feat_rescue', dtype=DType(atomic=<DTypeAtomic.BOOL: 'boolean'>, array=False)), 'feat_teenager': GraphProperty(_name='feat_teenager', dtype=DType(atomic=<DTypeAtomic.BOOL: 'boolean'>, array=False)), 'feat_female_nudity': GraphProperty(_name='feat_female_nudity', dtype=DType(atomic=<DTypeAtomic.BOOL: 'boolean'>, array=False)), 'feat_battle': GraphProperty(_name='feat_battle', dtype=DType(atomic=<DTypeAtomic.BOOL: 'boolean'>, array=False)), 'feat_lawyer': GraphProperty(_name='feat_lawyer', dtype=DType(atomic=<DTypeAtomic.BOOL: 'boolean'>, array=False)), 'feat_vomiting': GraphProperty(_name='feat_vomiting', dtype=DType(atomic=<DTypeAtomic.BOOL: 'boolean'>, array=False)), 'feat_hospital': GraphProperty(_name='feat_hospital', dtype=DType(atomic=<DTypeAtomic.BOOL: 'boolean'>, array=False)), 'feat_secret': GraphProperty(_name='feat_secret', dtype=DType(atomic=<DTypeAtomic.BOOL: 'boolean'>, array=False)), 'feat_christmas': GraphProperty(_name='feat_christmas', dtype=DType(atomic=<DTypeAtomic.BOOL: 'boolean'>, array=False)), 'feat_best_friend': GraphProperty(_name='feat_best_friend', dtype=DType(atomic=<DTypeAtomic.BOOL: 'boolean'>, array=False)), 'feat_scientist': GraphProperty(_name='feat_scientist', dtype=DType(atomic=<DTypeAtomic.BOOL: 'boolean'>, array=False)), 'feat_cia': GraphProperty(_name='feat_cia', dtype=DType(atomic=<DTypeAtomic.BOOL: 'boolean'>, array=False)), 'feat_singer': GraphProperty(_name='feat_singer', dtype=DType(atomic=<DTypeAtomic.BOOL: 'boolean'>, array=False)), 'feat_train': GraphProperty(_name='feat_train', dtype=DType(atomic=<DTypeAtomic.BOOL: 'boolean'>, array=False)), 'feat_college': GraphProperty(_name='feat_college', dtype=DType(atomic=<DTypeAtomic.BOOL: 'boolean'>, array=False)), 'feat_hotel': GraphProperty(_name='feat_hotel', dtype=DType(atomic=<DTypeAtomic.BOOL: 'boolean'>, array=False)), 'feat_fight': GraphProperty(_name='feat_fight', dtype=DType(atomic=<DTypeAtomic.BOOL: 'boolean'>, array=False)), 'feat_future': GraphProperty(_name='feat_future', dtype=DType(atomic=<DTypeAtomic.BOOL: 'boolean'>, array=False)), 'feat_vampire': GraphProperty(_name='feat_vampire', dtype=DType(atomic=<DTypeAtomic.BOOL: 'boolean'>, array=False)), 'feat_small_town': GraphProperty(_name='feat_small_town', dtype=DType(atomic=<DTypeAtomic.BOOL: 'boolean'>, array=False)), 'feat_writer': GraphProperty(_name='feat_writer', dtype=DType(atomic=<DTypeAtomic.BOOL: 'boolean'>, array=False)), 'feat_king': GraphProperty(_name='feat_king', dtype=DType(atomic=<DTypeAtomic.BOOL: 'boolean'>, array=False)), 'feat_texas': GraphProperty(_name='feat_texas', dtype=DType(atomic=<DTypeAtomic.BOOL: 'boolean'>, array=False)), 'feat_terrorist': GraphProperty(_name='feat_terrorist', dtype=DType(atomic=<DTypeAtomic.BOOL: 'boolean'>, array=False)), 'feat_teacher': GraphProperty(_name='feat_teacher', dtype=DType(atomic=<DTypeAtomic.BOOL: 'boolean'>, array=False)), 'feat_male_nudity': GraphProperty(_name='feat_male_nudity', dtype=DType(atomic=<DTypeAtomic.BOOL: 'boolean'>, array=False)), 'feat_girl': GraphProperty(_name='feat_girl', dtype=DType(atomic=<DTypeAtomic.BOOL: 'boolean'>, array=False)), 'feat_cult_film': GraphProperty(_name='feat_cult_film', dtype=DType(atomic=<DTypeAtomic.BOOL: 'boolean'>, array=False)), 'feat_student': GraphProperty(_name='feat_student', dtype=DType(atomic=<DTypeAtomic.BOOL: 'boolean'>, array=False)), 'feat_violence': GraphProperty(_name='feat_violence', dtype=DType(atomic=<DTypeAtomic.BOOL: 'boolean'>, array=False)), 'feat_spy': GraphProperty(_name='feat_spy', dtype=DType(atomic=<DTypeAtomic.BOOL: 'boolean'>, array=False)), 'feat_president': GraphProperty(_name='feat_president', dtype=DType(atomic=<DTypeAtomic.BOOL: 'boolean'>, array=False)), 'feat_assassin': GraphProperty(_name='feat_assassin', dtype=DType(atomic=<DTypeAtomic.BOOL: 'boolean'>, array=False)), 'feat_sequel': GraphProperty(_name='feat_sequel', dtype=DType(atomic=<DTypeAtomic.BOOL: 'boolean'>, array=False)), 'feat_doctor': GraphProperty(_name='feat_doctor', dtype=DType(atomic=<DTypeAtomic.BOOL: 'boolean'>, array=False)), 'feat_blood': GraphProperty(_name='feat_blood', dtype=DType(atomic=<DTypeAtomic.BOOL: 'boolean'>, array=False)), 'feat_actor': GraphProperty(_name='feat_actor', dtype=DType(atomic=<DTypeAtomic.BOOL: 'boolean'>, array=False)), 'feat_ghost': GraphProperty(_name='feat_ghost', dtype=DType(atomic=<DTypeAtomic.BOOL: 'boolean'>, array=False)), 'feat_sheriff': GraphProperty(_name='feat_sheriff', dtype=DType(atomic=<DTypeAtomic.BOOL: 'boolean'>, array=False)), 'feat_new_york': GraphProperty(_name='feat_new_york', dtype=DType(atomic=<DTypeAtomic.BOOL: 'boolean'>, array=False)), 'feat_baby': GraphProperty(_name='feat_baby', dtype=DType(atomic=<DTypeAtomic.BOOL: 'boolean'>, array=False)), 'feat_desert': GraphProperty(_name='feat_desert', dtype=DType(atomic=<DTypeAtomic.BOOL: 'boolean'>, array=False)), 'feat_breasts': GraphProperty(_name='feat_breasts', dtype=DType(atomic=<DTypeAtomic.BOOL: 'boolean'>, array=False)), 'feat_gangster': GraphProperty(_name='feat_gangster', dtype=DType(atomic=<DTypeAtomic.BOOL: 'boolean'>, array=False)), 'feat_bar': GraphProperty(_name='feat_bar', dtype=DType(atomic=<DTypeAtomic.BOOL: 'boolean'>, array=False)), 'feat_critically_bashed': GraphProperty(_name='feat_critically_bashed', dtype=DType(atomic=<DTypeAtomic.BOOL: 'boolean'>, array=False)), 'feat_monster': GraphProperty(_name='feat_monster', dtype=DType(atomic=<DTypeAtomic.BOOL: 'boolean'>, array=False)), 'feat_soldier': GraphProperty(_name='feat_soldier', dtype=DType(atomic=<DTypeAtomic.BOOL: 'boolean'>, array=False)), 'feat_magic': GraphProperty(_name='feat_magic', dtype=DType(atomic=<DTypeAtomic.BOOL: 'boolean'>, array=False)), 'feat_neighbor': GraphProperty(_name='feat_neighbor', dtype=DType(atomic=<DTypeAtomic.BOOL: 'boolean'>, array=False)), 'feat_family_relationships': GraphProperty(_name='feat_family_relationships', dtype=DType(atomic=<DTypeAtomic.BOOL: 'boolean'>, array=False)), 'feat_one_word_title': GraphProperty(_name='feat_one_word_title', dtype=DType(atomic=<DTypeAtomic.BOOL: 'boolean'>, array=False)), 'feat_coach': GraphProperty(_name='feat_coach', dtype=DType(atomic=<DTypeAtomic.BOOL: 'boolean'>, array=False))}, dynamic=None), 'Movie': NodeSchema(_type='Movie', _schema=..., label='name', properties={'color': GraphProperty(_name='color', dtype=DType(atomic=<DTypeAtomic.STRING: 'string'>, array=False)), 'num_critic_for_reviews': GraphProperty(_name='num_critic_for_reviews', dtype=DType(atomic=<DTypeAtomic.INT: 'int'>, array=False)), 'duration': GraphProperty(_name='duration', dtype=DType(atomic=<DTypeAtomic.INT: 'int'>, array=False)), 'gross': GraphProperty(_name='gross', dtype=DType(atomic=<DTypeAtomic.INT: 'int'>, array=False)), 'num_voted_users': GraphProperty(_name='num_voted_users', dtype=DType(atomic=<DTypeAtomic.INT: 'int'>, array=False)), 'cast_total_facebook_likes': GraphProperty(_name='cast_total_facebook_likes', dtype=DType(atomic=<DTypeAtomic.INT: 'int'>, array=False)), 'facenumber_in_poster': GraphProperty(_name='facenumber_in_poster', dtype=DType(atomic=<DTypeAtomic.INT: 'int'>, array=False)), 'plot_keywords': GraphProperty(_name='plot_keywords', dtype=DType(atomic=<DTypeAtomic.STRING: 'string'>, array=True)), 'num_user_for_reviews': GraphProperty(_name='num_user_for_reviews', dtype=DType(atomic=<DTypeAtomic.INT: 'int'>, array=False)), 'language': GraphProperty(_name='language', dtype=DType(atomic=<DTypeAtomic.STRING: 'string'>, array=False)), 'country': GraphProperty(_name='country', dtype=DType(atomic=<DTypeAtomic.STRING: 'string'>, array=False)), 'content_rating': GraphProperty(_name='content_rating', dtype=DType(atomic=<DTypeAtomic.STRING: 'string'>, array=False)), 'budget': GraphProperty(_name='budget', dtype=DType(atomic=<DTypeAtomic.INT: 'int'>, array=False)), 'title_year': GraphProperty(_name='title_year', dtype=DType(atomic=<DTypeAtomic.INT: 'int'>, array=False)), 'imdb_score': GraphProperty(_name='imdb_score', dtype=DType(atomic=<DTypeAtomic.FLOAT: 'float'>, array=False)), 'aspect_ratio': GraphProperty(_name='aspect_ratio', dtype=DType(atomic=<DTypeAtomic.FLOAT: 'float'>, array=False)), 'movie_facebook_likes': GraphProperty(_name='movie_facebook_likes', dtype=DType(atomic=<DTypeAtomic.INT: 'int'>, array=False)), 'imdb_id': GraphProperty(_name='imdb_id', dtype=DType(atomic=<DTypeAtomic.STRING: 'string'>, array=False)), 'id': GraphProperty(_name='id', dtype=DType(atomic=<DTypeAtomic.INT: 'int'>, array=False)), 'name': GraphProperty(_name='name', dtype=DType(atomic=<DTypeAtomic.STRING: 'string'>, array=False)), 'timestamp': GraphProperty(_name='timestamp', dtype=DType(atomic=<DTypeAtomic.INT: 'int'>, array=False)), 'feat_love': GraphProperty(_name='feat_love', dtype=DType(atomic=<DTypeAtomic.BOOL: 'boolean'>, array=False)), 'feat_friend': GraphProperty(_name='feat_friend', dtype=DType(atomic=<DTypeAtomic.BOOL: 'boolean'>, array=False)), 'feat_murder': GraphProperty(_name='feat_murder', dtype=DType(atomic=<DTypeAtomic.BOOL: 'boolean'>, array=False)), 'feat_death': GraphProperty(_name='feat_death', dtype=DType(atomic=<DTypeAtomic.BOOL: 'boolean'>, array=False)), 'feat_police': GraphProperty(_name='feat_police', dtype=DType(atomic=<DTypeAtomic.BOOL: 'boolean'>, array=False)), 'feat_new_york_city': GraphProperty(_name='feat_new_york_city', dtype=DType(atomic=<DTypeAtomic.BOOL: 'boolean'>, array=False)), 'feat_high_school': GraphProperty(_name='feat_high_school', dtype=DType(atomic=<DTypeAtomic.BOOL: 'boolean'>, array=False)), 'feat_alien': GraphProperty(_name='feat_alien', dtype=DType(atomic=<DTypeAtomic.BOOL: 'boolean'>, array=False)), 'feat_school': GraphProperty(_name='feat_school', dtype=DType(atomic=<DTypeAtomic.BOOL: 'boolean'>, array=False)), 'feat_boy': GraphProperty(_name='feat_boy', dtype=DType(atomic=<DTypeAtomic.BOOL: 'boolean'>, array=False)), 'feat_fbi': GraphProperty(_name='feat_fbi', dtype=DType(atomic=<DTypeAtomic.BOOL: 'boolean'>, array=False)), 'feat_revenge': GraphProperty(_name='feat_revenge', dtype=DType(atomic=<DTypeAtomic.BOOL: 'boolean'>, array=False)), 'feat_friendship': GraphProperty(_name='feat_friendship', dtype=DType(atomic=<DTypeAtomic.BOOL: 'boolean'>, array=False)), 'feat_drugs': GraphProperty(_name='feat_drugs', dtype=DType(atomic=<DTypeAtomic.BOOL: 'boolean'>, array=False)), 'feat_prison': GraphProperty(_name='feat_prison', dtype=DType(atomic=<DTypeAtomic.BOOL: 'boolean'>, array=False)), 'feat_money': GraphProperty(_name='feat_money', dtype=DType(atomic=<DTypeAtomic.BOOL: 'boolean'>, array=False)), 'feat_marriage': GraphProperty(_name='feat_marriage', dtype=DType(atomic=<DTypeAtomic.BOOL: 'boolean'>, array=False)), 'feat_female_protagonist': GraphProperty(_name='feat_female_protagonist', dtype=DType(atomic=<DTypeAtomic.BOOL: 'boolean'>, array=False)), 'feat_island': GraphProperty(_name='feat_island', dtype=DType(atomic=<DTypeAtomic.BOOL: 'boolean'>, array=False)), 'feat_dog': GraphProperty(_name='feat_dog', dtype=DType(atomic=<DTypeAtomic.BOOL: 'boolean'>, array=False)), 'feat_party': GraphProperty(_name='feat_party', dtype=DType(atomic=<DTypeAtomic.BOOL: 'boolean'>, array=False)), 'feat_escape': GraphProperty(_name='feat_escape', dtype=DType(atomic=<DTypeAtomic.BOOL: 'boolean'>, array=False)), 'feat_wedding': GraphProperty(_name='feat_wedding', dtype=DType(atomic=<DTypeAtomic.BOOL: 'boolean'>, array=False)), 'feat_sex': GraphProperty(_name='feat_sex', dtype=DType(atomic=<DTypeAtomic.BOOL: 'boolean'>, array=False)), 'feat_serial_killer': GraphProperty(_name='feat_serial_killer', dtype=DType(atomic=<DTypeAtomic.BOOL: 'boolean'>, array=False)), 'feat_detective': GraphProperty(_name='feat_detective', dtype=DType(atomic=<DTypeAtomic.BOOL: 'boolean'>, array=False)), 'feat_box_office_flop': GraphProperty(_name='feat_box_office_flop', dtype=DType(atomic=<DTypeAtomic.BOOL: 'boolean'>, array=False)), 'feat_rescue': GraphProperty(_name='feat_rescue', dtype=DType(atomic=<DTypeAtomic.BOOL: 'boolean'>, array=False)), 'feat_teenager': GraphProperty(_name='feat_teenager', dtype=DType(atomic=<DTypeAtomic.BOOL: 'boolean'>, array=False)), 'feat_female_nudity': GraphProperty(_name='feat_female_nudity', dtype=DType(atomic=<DTypeAtomic.BOOL: 'boolean'>, array=False)), 'feat_battle': GraphProperty(_name='feat_battle', dtype=DType(atomic=<DTypeAtomic.BOOL: 'boolean'>, array=False)), 'feat_lawyer': GraphProperty(_name='feat_lawyer', dtype=DType(atomic=<DTypeAtomic.BOOL: 'boolean'>, array=False)), 'feat_vomiting': GraphProperty(_name='feat_vomiting', dtype=DType(atomic=<DTypeAtomic.BOOL: 'boolean'>, array=False)), 'feat_hospital': GraphProperty(_name='feat_hospital', dtype=DType(atomic=<DTypeAtomic.BOOL: 'boolean'>, array=False)), 'feat_secret': GraphProperty(_name='feat_secret', dtype=DType(atomic=<DTypeAtomic.BOOL: 'boolean'>, array=False)), 'feat_christmas': GraphProperty(_name='feat_christmas', dtype=DType(atomic=<DTypeAtomic.BOOL: 'boolean'>, array=False)), 'feat_best_friend': GraphProperty(_name='feat_best_friend', dtype=DType(atomic=<DTypeAtomic.BOOL: 'boolean'>, array=False)), 'feat_scientist': GraphProperty(_name='feat_scientist', dtype=DType(atomic=<DTypeAtomic.BOOL: 'boolean'>, array=False)), 'feat_cia': GraphProperty(_name='feat_cia', dtype=DType(atomic=<DTypeAtomic.BOOL: 'boolean'>, array=False)), 'feat_singer': GraphProperty(_name='feat_singer', dtype=DType(atomic=<DTypeAtomic.BOOL: 'boolean'>, array=False)), 'feat_train': GraphProperty(_name='feat_train', dtype=DType(atomic=<DTypeAtomic.BOOL: 'boolean'>, array=False)), 'feat_college': GraphProperty(_name='feat_college', dtype=DType(atomic=<DTypeAtomic.BOOL: 'boolean'>, array=False)), 'feat_hotel': GraphProperty(_name='feat_hotel', dtype=DType(atomic=<DTypeAtomic.BOOL: 'boolean'>, array=False)), 'feat_fight': GraphProperty(_name='feat_fight', dtype=DType(atomic=<DTypeAtomic.BOOL: 'boolean'>, array=False)), 'feat_future': GraphProperty(_name='feat_future', dtype=DType(atomic=<DTypeAtomic.BOOL: 'boolean'>, array=False)), 'feat_vampire': GraphProperty(_name='feat_vampire', dtype=DType(atomic=<DTypeAtomic.BOOL: 'boolean'>, array=False)), 'feat_small_town': GraphProperty(_name='feat_small_town', dtype=DType(atomic=<DTypeAtomic.BOOL: 'boolean'>, array=False)), 'feat_writer': GraphProperty(_name='feat_writer', dtype=DType(atomic=<DTypeAtomic.BOOL: 'boolean'>, array=False)), 'feat_king': GraphProperty(_name='feat_king', dtype=DType(atomic=<DTypeAtomic.BOOL: 'boolean'>, array=False)), 'feat_texas': GraphProperty(_name='feat_texas', dtype=DType(atomic=<DTypeAtomic.BOOL: 'boolean'>, array=False)), 'feat_terrorist': GraphProperty(_name='feat_terrorist', dtype=DType(atomic=<DTypeAtomic.BOOL: 'boolean'>, array=False)), 'feat_teacher': GraphProperty(_name='feat_teacher', dtype=DType(atomic=<DTypeAtomic.BOOL: 'boolean'>, array=False)), 'feat_male_nudity': GraphProperty(_name='feat_male_nudity', dtype=DType(atomic=<DTypeAtomic.BOOL: 'boolean'>, array=False)), 'feat_girl': GraphProperty(_name='feat_girl', dtype=DType(atomic=<DTypeAtomic.BOOL: 'boolean'>, array=False)), 'feat_cult_film': GraphProperty(_name='feat_cult_film', dtype=DType(atomic=<DTypeAtomic.BOOL: 'boolean'>, array=False)), 'feat_student': GraphProperty(_name='feat_student', dtype=DType(atomic=<DTypeAtomic.BOOL: 'boolean'>, array=False)), 'feat_violence': GraphProperty(_name='feat_violence', dtype=DType(atomic=<DTypeAtomic.BOOL: 'boolean'>, array=False)), 'feat_spy': GraphProperty(_name='feat_spy', dtype=DType(atomic=<DTypeAtomic.BOOL: 'boolean'>, array=False)), 'feat_president': GraphProperty(_name='feat_president', dtype=DType(atomic=<DTypeAtomic.BOOL: 'boolean'>, array=False)), 'feat_assassin': GraphProperty(_name='feat_assassin', dtype=DType(atomic=<DTypeAtomic.BOOL: 'boolean'>, array=False)), 'feat_sequel': GraphProperty(_name='feat_sequel', dtype=DType(atomic=<DTypeAtomic.BOOL: 'boolean'>, array=False)), 'feat_doctor': GraphProperty(_name='feat_doctor', dtype=DType(atomic=<DTypeAtomic.BOOL: 'boolean'>, array=False)), 'feat_blood': GraphProperty(_name='feat_blood', dtype=DType(atomic=<DTypeAtomic.BOOL: 'boolean'>, array=False)), 'feat_actor': GraphProperty(_name='feat_actor', dtype=DType(atomic=<DTypeAtomic.BOOL: 'boolean'>, array=False)), 'feat_ghost': GraphProperty(_name='feat_ghost', dtype=DType(atomic=<DTypeAtomic.BOOL: 'boolean'>, array=False)), 'feat_sheriff': GraphProperty(_name='feat_sheriff', dtype=DType(atomic=<DTypeAtomic.BOOL: 'boolean'>, array=False)), 'feat_new_york': GraphProperty(_name='feat_new_york', dtype=DType(atomic=<DTypeAtomic.BOOL: 'boolean'>, array=False)), 'feat_baby': GraphProperty(_name='feat_baby', dtype=DType(atomic=<DTypeAtomic.BOOL: 'boolean'>, array=False)), 'feat_desert': GraphProperty(_name='feat_desert', dtype=DType(atomic=<DTypeAtomic.BOOL: 'boolean'>, array=False)), 'feat_breasts': GraphProperty(_name='feat_breasts', dtype=DType(atomic=<DTypeAtomic.BOOL: 'boolean'>, array=False)), 'feat_gangster': GraphProperty(_name='feat_gangster', dtype=DType(atomic=<DTypeAtomic.BOOL: 'boolean'>, array=False)), 'feat_bar': GraphProperty(_name='feat_bar', dtype=DType(atomic=<DTypeAtomic.BOOL: 'boolean'>, array=False)), 'feat_critically_bashed': GraphProperty(_name='feat_critically_bashed', dtype=DType(atomic=<DTypeAtomic.BOOL: 'boolean'>, array=False)), 'feat_monster': GraphProperty(_name='feat_monster', dtype=DType(atomic=<DTypeAtomic.BOOL: 'boolean'>, array=False)), 'feat_soldier': GraphProperty(_name='feat_soldier', dtype=DType(atomic=<DTypeAtomic.BOOL: 'boolean'>, array=False)), 'feat_magic': GraphProperty(_name='feat_magic', dtype=DType(atomic=<DTypeAtomic.BOOL: 'boolean'>, array=False)), 'feat_neighbor': GraphProperty(_name='feat_neighbor', dtype=DType(atomic=<DTypeAtomic.BOOL: 'boolean'>, array=False)), 'feat_family_relationships': GraphProperty(_name='feat_family_relationships', dtype=DType(atomic=<DTypeAtomic.BOOL: 'boolean'>, array=False)), 'feat_one_word_title': GraphProperty(_name='feat_one_word_title', dtype=DType(atomic=<DTypeAtomic.BOOL: 'boolean'>, array=False)), 'feat_coach': GraphProperty(_name='feat_coach', dtype=DType(atomic=<DTypeAtomic.BOOL: 'boolean'>, array=False))}, dynamic=DynamicConfig(timestamp='timestamp', interaction=False))}, edges={'ACTED_IN': EdgeSchema(_type='ACTED_IN', _schema=..., label=None, properties={'src': GraphProperty(_name='src', dtype=DType(atomic=<DTypeAtomic.INT: 'int'>, array=False)), 'dst': GraphProperty(_name='dst', dtype=DType(atomic=<DTypeAtomic.INT: 'int'>, array=False)), 'timestamp': GraphProperty(_name='timestamp', dtype=DType(atomic=<DTypeAtomic.INT: 'int'>, array=False))}, dynamic=DynamicConfig(timestamp='timestamp', interaction=False), source_type='Person', target_type='Movie', directed=True), 'DIRECTED': EdgeSchema(_type='DIRECTED', _schema=..., label=None, properties={'src': GraphProperty(_name='src', dtype=DType(atomic=<DTypeAtomic.INT: 'int'>, array=False)), 'dst': GraphProperty(_name='dst', dtype=DType(atomic=<DTypeAtomic.INT: 'int'>, array=False)), 'timestamp': GraphProperty(_name='timestamp', dtype=DType(atomic=<DTypeAtomic.INT: 'int'>, array=False))}, dynamic=DynamicConfig(timestamp='timestamp', interaction=False), source_type='Person', target_type='Movie', directed=True), 'HAS_GENRE': EdgeSchema(_type='HAS_GENRE', _schema=..., label=None, properties={'src': GraphProperty(_name='src', dtype=DType(atomic=<DTypeAtomic.INT: 'int'>, array=False)), 'dst': GraphProperty(_name='dst', dtype=DType(atomic=<DTypeAtomic.INT: 'int'>, array=False)), 'timestamp': GraphProperty(_name='timestamp', dtype=DType(atomic=<DTypeAtomic.INT: 'int'>, array=False))}, dynamic=DynamicConfig(timestamp='timestamp', interaction=False), source_type='Movie', target_type='Genre', directed=True)})"
     },
     "execution_count": 29,
     "metadata": {},
     "output_type": "execute_result"
    }
   ],
   "source": [
    "from shared.schema.graph import GraphSchema, NodeSchema, EdgeSchema\n",
    "\n",
    "(\n",
    "    GraphSchema()\n",
    "        .add_node_schema('Person', NodeSchema.from_spark(df_nodes_persons_new.schema, label='name'))\n",
    "        .add_node_schema('Genre', NodeSchema.from_spark(df_nodes_genres_new.schema, label='name'))\n",
    "        .add_node_schema('Movie', NodeSchema.from_spark(df_nodes_movies_new.schema, label='name', timestamp='timestamp', interaction=False))\n",
    "        .add_edge_schema('ACTED_IN',\n",
    "                         EdgeSchema.from_spark(df_edges_acted_in.schema, source_type='Person', target_type='Movie',\n",
    "                                               directed=True, timestamp='timestamp', interaction=False))\n",
    "        .add_edge_schema('DIRECTED',\n",
    "                         EdgeSchema.from_spark(df_edges_directed.schema, source_type='Person', target_type='Movie',\n",
    "                                               directed=True, timestamp='timestamp', interaction=False))\n",
    "        .add_edge_schema('HAS_GENRE',\n",
    "                         EdgeSchema.from_spark(df_edges_has_genre.schema, source_type='Movie', target_type='Genre',\n",
    "                                               directed=True, timestamp='timestamp', interaction=False))\n",
    "        .save_schema(DATASET.processed())\n",
    ")"
   ]
  },
  {
   "cell_type": "code",
   "execution_count": 29,
   "metadata": {
    "pycharm": {
     "name": "#%%\n"
    }
   },
   "outputs": [],
   "source": []
  }
 ],
 "metadata": {
  "kernelspec": {
   "display_name": "Python 3 (ipykernel)",
   "language": "python",
   "name": "python3"
  },
  "language_info": {
   "codemirror_mode": {
    "name": "ipython",
    "version": 3
   },
   "file_extension": ".py",
   "mimetype": "text/x-python",
   "name": "python",
   "nbconvert_exporter": "python",
   "pygments_lexer": "ipython3",
   "version": "3.9.10"
  }
 },
 "nbformat": 4,
 "nbformat_minor": 1
}