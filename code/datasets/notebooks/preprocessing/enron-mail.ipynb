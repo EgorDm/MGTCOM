{
 "cells": [
  {
   "cell_type": "code",
   "execution_count": 1,
   "outputs": [],
   "source": [
    "%load_ext autoreload\n",
    "%autoreload 2"
   ],
   "metadata": {
    "collapsed": false,
    "pycharm": {
     "name": "#%%\n"
    }
   }
  },
  {
   "cell_type": "code",
   "execution_count": 2,
   "metadata": {
    "collapsed": true
   },
   "outputs": [],
   "source": [
    "import pyspark.sql.functions as F\n",
    "from pyspark.sql import SparkSession\n",
    "\n",
    "from shared.constants import DatasetPath"
   ]
  },
  {
   "cell_type": "code",
   "execution_count": 3,
   "outputs": [],
   "source": [
    "# DATASET = DatasetPath('test')\n",
    "DATASET = DatasetPath('enron-mail-20150507')"
   ],
   "metadata": {
    "collapsed": false,
    "pycharm": {
     "name": "#%%\n"
    }
   }
  },
  {
   "cell_type": "code",
   "execution_count": 17,
   "outputs": [
    {
     "ename": "IsADirectoryError",
     "evalue": "[Errno 21] Is a directory: '/dd_volume/Development/Python/Thesis/code/datasets/data/raw/test'",
     "output_type": "error",
     "traceback": [
      "\u001B[0;31m---------------------------------------------------------------------------\u001B[0m",
      "\u001B[0;31mIsADirectoryError\u001B[0m                         Traceback (most recent call last)",
      "\u001B[0;32m/tmp/ipykernel_112991/2765108486.py\u001B[0m in \u001B[0;36m<module>\u001B[0;34m\u001B[0m\n\u001B[1;32m      1\u001B[0m \u001B[0;32mimport\u001B[0m \u001B[0mpandas\u001B[0m \u001B[0;32mas\u001B[0m \u001B[0mpd\u001B[0m\u001B[0;34m\u001B[0m\u001B[0;34m\u001B[0m\u001B[0m\n\u001B[1;32m      2\u001B[0m \u001B[0;34m\u001B[0m\u001B[0m\n\u001B[0;32m----> 3\u001B[0;31m \u001B[0mdf\u001B[0m \u001B[0;34m=\u001B[0m \u001B[0mpd\u001B[0m\u001B[0;34m.\u001B[0m\u001B[0mread_csv\u001B[0m\u001B[0;34m(\u001B[0m\u001B[0mDATASET\u001B[0m\u001B[0;34m.\u001B[0m\u001B[0mraw\u001B[0m\u001B[0;34m(\u001B[0m\u001B[0;34m'emails.csv'\u001B[0m\u001B[0;34m)\u001B[0m\u001B[0;34m)\u001B[0m\u001B[0;34m\u001B[0m\u001B[0;34m\u001B[0m\u001B[0m\n\u001B[0m\u001B[1;32m      4\u001B[0m \u001B[0mdf\u001B[0m\u001B[0;34m.\u001B[0m\u001B[0mhead\u001B[0m\u001B[0;34m(\u001B[0m\u001B[0;36m5\u001B[0m\u001B[0;34m)\u001B[0m\u001B[0;34m\u001B[0m\u001B[0;34m\u001B[0m\u001B[0m\n",
      "\u001B[0;32m/dd_volume/Development/Python/Thesis/code/env/lib/python3.9/site-packages/pandas/util/_decorators.py\u001B[0m in \u001B[0;36mwrapper\u001B[0;34m(*args, **kwargs)\u001B[0m\n\u001B[1;32m    309\u001B[0m                     \u001B[0mstacklevel\u001B[0m\u001B[0;34m=\u001B[0m\u001B[0mstacklevel\u001B[0m\u001B[0;34m,\u001B[0m\u001B[0;34m\u001B[0m\u001B[0;34m\u001B[0m\u001B[0m\n\u001B[1;32m    310\u001B[0m                 )\n\u001B[0;32m--> 311\u001B[0;31m             \u001B[0;32mreturn\u001B[0m \u001B[0mfunc\u001B[0m\u001B[0;34m(\u001B[0m\u001B[0;34m*\u001B[0m\u001B[0margs\u001B[0m\u001B[0;34m,\u001B[0m \u001B[0;34m**\u001B[0m\u001B[0mkwargs\u001B[0m\u001B[0;34m)\u001B[0m\u001B[0;34m\u001B[0m\u001B[0;34m\u001B[0m\u001B[0m\n\u001B[0m\u001B[1;32m    312\u001B[0m \u001B[0;34m\u001B[0m\u001B[0m\n\u001B[1;32m    313\u001B[0m         \u001B[0;32mreturn\u001B[0m \u001B[0mwrapper\u001B[0m\u001B[0;34m\u001B[0m\u001B[0;34m\u001B[0m\u001B[0m\n",
      "\u001B[0;32m/dd_volume/Development/Python/Thesis/code/env/lib/python3.9/site-packages/pandas/io/parsers/readers.py\u001B[0m in \u001B[0;36mread_csv\u001B[0;34m(filepath_or_buffer, sep, delimiter, header, names, index_col, usecols, squeeze, prefix, mangle_dupe_cols, dtype, engine, converters, true_values, false_values, skipinitialspace, skiprows, skipfooter, nrows, na_values, keep_default_na, na_filter, verbose, skip_blank_lines, parse_dates, infer_datetime_format, keep_date_col, date_parser, dayfirst, cache_dates, iterator, chunksize, compression, thousands, decimal, lineterminator, quotechar, quoting, doublequote, escapechar, comment, encoding, encoding_errors, dialect, error_bad_lines, warn_bad_lines, on_bad_lines, delim_whitespace, low_memory, memory_map, float_precision, storage_options)\u001B[0m\n\u001B[1;32m    584\u001B[0m     \u001B[0mkwds\u001B[0m\u001B[0;34m.\u001B[0m\u001B[0mupdate\u001B[0m\u001B[0;34m(\u001B[0m\u001B[0mkwds_defaults\u001B[0m\u001B[0;34m)\u001B[0m\u001B[0;34m\u001B[0m\u001B[0;34m\u001B[0m\u001B[0m\n\u001B[1;32m    585\u001B[0m \u001B[0;34m\u001B[0m\u001B[0m\n\u001B[0;32m--> 586\u001B[0;31m     \u001B[0;32mreturn\u001B[0m \u001B[0m_read\u001B[0m\u001B[0;34m(\u001B[0m\u001B[0mfilepath_or_buffer\u001B[0m\u001B[0;34m,\u001B[0m \u001B[0mkwds\u001B[0m\u001B[0;34m)\u001B[0m\u001B[0;34m\u001B[0m\u001B[0;34m\u001B[0m\u001B[0m\n\u001B[0m\u001B[1;32m    587\u001B[0m \u001B[0;34m\u001B[0m\u001B[0m\n\u001B[1;32m    588\u001B[0m \u001B[0;34m\u001B[0m\u001B[0m\n",
      "\u001B[0;32m/dd_volume/Development/Python/Thesis/code/env/lib/python3.9/site-packages/pandas/io/parsers/readers.py\u001B[0m in \u001B[0;36m_read\u001B[0;34m(filepath_or_buffer, kwds)\u001B[0m\n\u001B[1;32m    480\u001B[0m \u001B[0;34m\u001B[0m\u001B[0m\n\u001B[1;32m    481\u001B[0m     \u001B[0;31m# Create the parser.\u001B[0m\u001B[0;34m\u001B[0m\u001B[0;34m\u001B[0m\u001B[0m\n\u001B[0;32m--> 482\u001B[0;31m     \u001B[0mparser\u001B[0m \u001B[0;34m=\u001B[0m \u001B[0mTextFileReader\u001B[0m\u001B[0;34m(\u001B[0m\u001B[0mfilepath_or_buffer\u001B[0m\u001B[0;34m,\u001B[0m \u001B[0;34m**\u001B[0m\u001B[0mkwds\u001B[0m\u001B[0;34m)\u001B[0m\u001B[0;34m\u001B[0m\u001B[0;34m\u001B[0m\u001B[0m\n\u001B[0m\u001B[1;32m    483\u001B[0m \u001B[0;34m\u001B[0m\u001B[0m\n\u001B[1;32m    484\u001B[0m     \u001B[0;32mif\u001B[0m \u001B[0mchunksize\u001B[0m \u001B[0;32mor\u001B[0m \u001B[0miterator\u001B[0m\u001B[0;34m:\u001B[0m\u001B[0;34m\u001B[0m\u001B[0;34m\u001B[0m\u001B[0m\n",
      "\u001B[0;32m/dd_volume/Development/Python/Thesis/code/env/lib/python3.9/site-packages/pandas/io/parsers/readers.py\u001B[0m in \u001B[0;36m__init__\u001B[0;34m(self, f, engine, **kwds)\u001B[0m\n\u001B[1;32m    809\u001B[0m             \u001B[0mself\u001B[0m\u001B[0;34m.\u001B[0m\u001B[0moptions\u001B[0m\u001B[0;34m[\u001B[0m\u001B[0;34m\"has_index_names\"\u001B[0m\u001B[0;34m]\u001B[0m \u001B[0;34m=\u001B[0m \u001B[0mkwds\u001B[0m\u001B[0;34m[\u001B[0m\u001B[0;34m\"has_index_names\"\u001B[0m\u001B[0;34m]\u001B[0m\u001B[0;34m\u001B[0m\u001B[0;34m\u001B[0m\u001B[0m\n\u001B[1;32m    810\u001B[0m \u001B[0;34m\u001B[0m\u001B[0m\n\u001B[0;32m--> 811\u001B[0;31m         \u001B[0mself\u001B[0m\u001B[0;34m.\u001B[0m\u001B[0m_engine\u001B[0m \u001B[0;34m=\u001B[0m \u001B[0mself\u001B[0m\u001B[0;34m.\u001B[0m\u001B[0m_make_engine\u001B[0m\u001B[0;34m(\u001B[0m\u001B[0mself\u001B[0m\u001B[0;34m.\u001B[0m\u001B[0mengine\u001B[0m\u001B[0;34m)\u001B[0m\u001B[0;34m\u001B[0m\u001B[0;34m\u001B[0m\u001B[0m\n\u001B[0m\u001B[1;32m    812\u001B[0m \u001B[0;34m\u001B[0m\u001B[0m\n\u001B[1;32m    813\u001B[0m     \u001B[0;32mdef\u001B[0m \u001B[0mclose\u001B[0m\u001B[0;34m(\u001B[0m\u001B[0mself\u001B[0m\u001B[0;34m)\u001B[0m\u001B[0;34m:\u001B[0m\u001B[0;34m\u001B[0m\u001B[0;34m\u001B[0m\u001B[0m\n",
      "\u001B[0;32m/dd_volume/Development/Python/Thesis/code/env/lib/python3.9/site-packages/pandas/io/parsers/readers.py\u001B[0m in \u001B[0;36m_make_engine\u001B[0;34m(self, engine)\u001B[0m\n\u001B[1;32m   1038\u001B[0m             )\n\u001B[1;32m   1039\u001B[0m         \u001B[0;31m# error: Too many arguments for \"ParserBase\"\u001B[0m\u001B[0;34m\u001B[0m\u001B[0;34m\u001B[0m\u001B[0m\n\u001B[0;32m-> 1040\u001B[0;31m         \u001B[0;32mreturn\u001B[0m \u001B[0mmapping\u001B[0m\u001B[0;34m[\u001B[0m\u001B[0mengine\u001B[0m\u001B[0;34m]\u001B[0m\u001B[0;34m(\u001B[0m\u001B[0mself\u001B[0m\u001B[0;34m.\u001B[0m\u001B[0mf\u001B[0m\u001B[0;34m,\u001B[0m \u001B[0;34m**\u001B[0m\u001B[0mself\u001B[0m\u001B[0;34m.\u001B[0m\u001B[0moptions\u001B[0m\u001B[0;34m)\u001B[0m  \u001B[0;31m# type: ignore[call-arg]\u001B[0m\u001B[0;34m\u001B[0m\u001B[0;34m\u001B[0m\u001B[0m\n\u001B[0m\u001B[1;32m   1041\u001B[0m \u001B[0;34m\u001B[0m\u001B[0m\n\u001B[1;32m   1042\u001B[0m     \u001B[0;32mdef\u001B[0m \u001B[0m_failover_to_python\u001B[0m\u001B[0;34m(\u001B[0m\u001B[0mself\u001B[0m\u001B[0;34m)\u001B[0m\u001B[0;34m:\u001B[0m\u001B[0;34m\u001B[0m\u001B[0;34m\u001B[0m\u001B[0m\n",
      "\u001B[0;32m/dd_volume/Development/Python/Thesis/code/env/lib/python3.9/site-packages/pandas/io/parsers/c_parser_wrapper.py\u001B[0m in \u001B[0;36m__init__\u001B[0;34m(self, src, **kwds)\u001B[0m\n\u001B[1;32m     49\u001B[0m \u001B[0;34m\u001B[0m\u001B[0m\n\u001B[1;32m     50\u001B[0m         \u001B[0;31m# open handles\u001B[0m\u001B[0;34m\u001B[0m\u001B[0;34m\u001B[0m\u001B[0m\n\u001B[0;32m---> 51\u001B[0;31m         \u001B[0mself\u001B[0m\u001B[0;34m.\u001B[0m\u001B[0m_open_handles\u001B[0m\u001B[0;34m(\u001B[0m\u001B[0msrc\u001B[0m\u001B[0;34m,\u001B[0m \u001B[0mkwds\u001B[0m\u001B[0;34m)\u001B[0m\u001B[0;34m\u001B[0m\u001B[0;34m\u001B[0m\u001B[0m\n\u001B[0m\u001B[1;32m     52\u001B[0m         \u001B[0;32massert\u001B[0m \u001B[0mself\u001B[0m\u001B[0;34m.\u001B[0m\u001B[0mhandles\u001B[0m \u001B[0;32mis\u001B[0m \u001B[0;32mnot\u001B[0m \u001B[0;32mNone\u001B[0m\u001B[0;34m\u001B[0m\u001B[0;34m\u001B[0m\u001B[0m\n\u001B[1;32m     53\u001B[0m \u001B[0;34m\u001B[0m\u001B[0m\n",
      "\u001B[0;32m/dd_volume/Development/Python/Thesis/code/env/lib/python3.9/site-packages/pandas/io/parsers/base_parser.py\u001B[0m in \u001B[0;36m_open_handles\u001B[0;34m(self, src, kwds)\u001B[0m\n\u001B[1;32m    220\u001B[0m         \u001B[0mLet\u001B[0m \u001B[0mthe\u001B[0m \u001B[0mreaders\u001B[0m \u001B[0mopen\u001B[0m \u001B[0mIOHandles\u001B[0m \u001B[0mafter\u001B[0m \u001B[0mthey\u001B[0m \u001B[0mare\u001B[0m \u001B[0mdone\u001B[0m \u001B[0;32mwith\u001B[0m \u001B[0mtheir\u001B[0m \u001B[0mpotential\u001B[0m \u001B[0mraises\u001B[0m\u001B[0;34m.\u001B[0m\u001B[0;34m\u001B[0m\u001B[0;34m\u001B[0m\u001B[0m\n\u001B[1;32m    221\u001B[0m         \"\"\"\n\u001B[0;32m--> 222\u001B[0;31m         self.handles = get_handle(\n\u001B[0m\u001B[1;32m    223\u001B[0m             \u001B[0msrc\u001B[0m\u001B[0;34m,\u001B[0m\u001B[0;34m\u001B[0m\u001B[0;34m\u001B[0m\u001B[0m\n\u001B[1;32m    224\u001B[0m             \u001B[0;34m\"r\"\u001B[0m\u001B[0;34m,\u001B[0m\u001B[0;34m\u001B[0m\u001B[0;34m\u001B[0m\u001B[0m\n",
      "\u001B[0;32m/dd_volume/Development/Python/Thesis/code/env/lib/python3.9/site-packages/pandas/io/common.py\u001B[0m in \u001B[0;36mget_handle\u001B[0;34m(path_or_buf, mode, encoding, compression, memory_map, is_text, errors, storage_options)\u001B[0m\n\u001B[1;32m    700\u001B[0m         \u001B[0;32mif\u001B[0m \u001B[0mioargs\u001B[0m\u001B[0;34m.\u001B[0m\u001B[0mencoding\u001B[0m \u001B[0;32mand\u001B[0m \u001B[0;34m\"b\"\u001B[0m \u001B[0;32mnot\u001B[0m \u001B[0;32min\u001B[0m \u001B[0mioargs\u001B[0m\u001B[0;34m.\u001B[0m\u001B[0mmode\u001B[0m\u001B[0;34m:\u001B[0m\u001B[0;34m\u001B[0m\u001B[0;34m\u001B[0m\u001B[0m\n\u001B[1;32m    701\u001B[0m             \u001B[0;31m# Encoding\u001B[0m\u001B[0;34m\u001B[0m\u001B[0;34m\u001B[0m\u001B[0m\n\u001B[0;32m--> 702\u001B[0;31m             handle = open(\n\u001B[0m\u001B[1;32m    703\u001B[0m                 \u001B[0mhandle\u001B[0m\u001B[0;34m,\u001B[0m\u001B[0;34m\u001B[0m\u001B[0;34m\u001B[0m\u001B[0m\n\u001B[1;32m    704\u001B[0m                 \u001B[0mioargs\u001B[0m\u001B[0;34m.\u001B[0m\u001B[0mmode\u001B[0m\u001B[0;34m,\u001B[0m\u001B[0;34m\u001B[0m\u001B[0;34m\u001B[0m\u001B[0m\n",
      "\u001B[0;31mIsADirectoryError\u001B[0m: [Errno 21] Is a directory: '/dd_volume/Development/Python/Thesis/code/datasets/data/raw/test'"
     ]
    }
   ],
   "source": [
    "import pandas as pd\n",
    "\n",
    "df = pd.read_csv(DATASET.raw('emails.csv'))\n",
    "df.head(5)"
   ],
   "metadata": {
    "collapsed": false,
    "pycharm": {
     "name": "#%%\n"
    }
   }
  },
  {
   "cell_type": "code",
   "execution_count": 18,
   "outputs": [
    {
     "name": "stderr",
     "output_type": "stream",
     "text": [
      "117it [00:00, 134.77it/s]\n"
     ]
    }
   ],
   "source": [
    "import pathlib\n",
    "import pandas as pd\n",
    "from tqdm import tqdm\n",
    "import os\n",
    "\n",
    "if str(DATASET) == 'test':\n",
    "    files = []\n",
    "    path = pathlib.Path(DATASET.raw())\n",
    "    for file in tqdm(path.glob('**/*')):\n",
    "        if not os.path.isfile(file):\n",
    "            continue\n",
    "\n",
    "        try:\n",
    "            with open(file, 'r') as f:\n",
    "                files.append({\n",
    "                    'file': str(file),\n",
    "                    'message': f.read()\n",
    "                })\n",
    "        except Exception as e:\n",
    "            print(e)\n",
    "\n",
    "    df = pd.DataFrame(files)"
   ],
   "metadata": {
    "collapsed": false,
    "pycharm": {
     "name": "#%%\n"
    }
   }
  },
  {
   "cell_type": "code",
   "execution_count": 19,
   "outputs": [],
   "source": [
    "# Convert to linux line endings\n",
    "\n",
    "WINDOWS_LINE_ENDING = '\\r\\n'\n",
    "UNIX_LINE_ENDING = '\\n'\n",
    "\n",
    "df['message'] = df.message.map(lambda x: x.replace(WINDOWS_LINE_ENDING, UNIX_LINE_ENDING))"
   ],
   "metadata": {
    "collapsed": false,
    "pycharm": {
     "name": "#%%\n"
    }
   }
  },
  {
   "cell_type": "markdown",
   "source": [
    "# Enron Dataset Preprocessing\n",
    "Credit: https://www.kaggle.com/oalvay/enron-emails-complete-preprocessing"
   ],
   "metadata": {
    "collapsed": false,
    "pycharm": {
     "name": "#%% md\n"
    }
   }
  },
  {
   "cell_type": "code",
   "execution_count": 20,
   "outputs": [],
   "source": [
    "import re\n",
    "import pandas as pd\n",
    "\n",
    "\n",
    "def info_part(i):\n",
    "    \"\"\"split infomation part out\"\"\"\n",
    "    return i.split('\\n\\n', 1)[0]\n",
    "\n",
    "\n",
    "def content_part(i):\n",
    "    \"\"\"split content part out\"\"\"\n",
    "    return i.split('\\n\\n', 1)[1]\n",
    "\n",
    "\n",
    "df['pre_info'] = df.message.map(info_part)\n",
    "df['content'] = df.message.map(content_part)\n",
    "df['test_true'] = True\n",
    "\n",
    "words2split = ['Message-ID: ', 'Date: ', 'From: ', 'To: ', 'Subject: ', 'Cc: ', 'Mime-Version: ', 'Content-Type: ',\n",
    "               'Content-Transfer-Encoding: ', 'Bcc: ', 'X-From: ', 'X-To: ', 'X-cc: ', 'X-bcc: ', 'X-Folder: ',\n",
    "               'X-Origin: ',\n",
    "               'X-FileName: ']\n",
    "features_naming = [i[:-2] for i in words2split]\n",
    "split_condition = '|'.join(words2split)\n",
    "\n",
    "\n",
    "# Some emails' subject confuse the string-spliting function, so I make a little change\n",
    "def duplicated_info(i):\n",
    "    return i.replace(' Date: ', ' Date- ').replace(' Subject: ', ' Subject2: ').replace(' To: ',\n",
    "                                                                                        ' To- ').replace(' (Subject: ',\n",
    "                                                                                                         ' (Subject- ')\n",
    "\n",
    "\n",
    "df['pre_info'] = df['pre_info'].map(duplicated_info)\n",
    "\n",
    "\n",
    "# let's check how many categories are there in these emails\n",
    "def num_part(i):\n",
    "    return len(re.split(split_condition, i))\n",
    "\n",
    "\n",
    "df['num_info'] = df['pre_info'].map(num_part)\n",
    "\n",
    "\n",
    "# around 20k emails do not have the 'To: ' category, so I add one\n",
    "def add_to(i):\n",
    "    return i.replace('\\nSubject: ', '\\nTo: \\nSubject: ')\n",
    "\n",
    "\n",
    "temp_condition = (df['num_info'] == 17) | (df['num_info'] == 15)\n",
    "df.loc[temp_condition, 'pre_info'] = df.loc[temp_condition, 'pre_info'].map(add_to)\n",
    "\n",
    "# similar way to deal with the \"Cc:\" and \"Bcc:\" categories\n",
    "temp_condition = (df['num_info'] == 16) | (df['num_info'] == 15)\n",
    "\n",
    "\n",
    "def add_bcc(i):\n",
    "    return i.replace('\\nX-From: ', '\\nBcc: \\nX-From: ')\n",
    "\n",
    "\n",
    "df.loc[temp_condition, 'pre_info'] = df.loc[temp_condition, 'pre_info'].map(add_bcc)\n",
    "\n",
    "\n",
    "def add_cc(i):\n",
    "    return i.replace('\\nMime-Version: ', '\\nCc: \\nMime-Version: ')\n",
    "\n",
    "\n",
    "df.loc[temp_condition, 'pre_info'] = df.loc[temp_condition, 'pre_info'].map(add_cc)\n",
    "\n",
    "df['num_info'] = df['pre_info'].map(num_part)\n",
    "df['num_info'].value_counts()\n",
    "\n",
    "df_remove = df.loc[df['num_info'] != 18].copy()\n",
    "df = df.loc[df['num_info'] == 18].copy()\n",
    "\n",
    "global feature_idx\n",
    "\n",
    "\n",
    "def info_split(i):\n",
    "    ## split the i th part out and remove \\n for the feature\n",
    "    return re.split(split_condition, i)[feature_idx + 1][:-1]\n",
    "\n",
    "\n",
    "def info_split_last(i):\n",
    "    ## no need to remove \\n for last category -- X-FileName\n",
    "    return re.split(split_condition, i)[feature_idx + 1]\n",
    "\n",
    "\n",
    "for feature_idx in range(len(words2split)):\n",
    "    if feature_idx != len(words2split) - 1:\n",
    "        df[features_naming[feature_idx]] = df['pre_info'].map(info_split)\n",
    "    else:\n",
    "        df[features_naming[feature_idx]] = df['pre_info'].map(info_split_last)\n",
    "\n",
    "df_remove2 = df.loc[df['Content-Transfer-Encoding'] == 'text/plain; charset=us-asci']\n",
    "df = df.loc[df['Content-Transfer-Encoding'] != 'text/plain; charset=us-asci']\n",
    "\n",
    "df.loc[df[\"content\"].str.contains(\"-------------\"), \"content\"]\n",
    "\n",
    "\n",
    "def split_other_content(i):\n",
    "    \"\"\"split other forms of contents out\"\"\"\n",
    "    return i.split('-------------', 1)[0]\n",
    "\n",
    "\n",
    "df[\"has_other_content\"] = df[\"content\"].str.contains(\"-------------\")\n",
    "df[\"if_forwarded\"] = df[\"content\"].str.contains(\"------------- Forwarded\")\n",
    "df['content'] = df.content.map(split_other_content)\n",
    "\n",
    "df = df.drop(['pre_info', 'test_true', 'num_info'], axis=1).set_index(\"file\")"
   ],
   "metadata": {
    "collapsed": false,
    "pycharm": {
     "name": "#%%\n"
    }
   }
  },
  {
   "cell_type": "markdown",
   "source": [
    "# Parse what we can from the emails"
   ],
   "metadata": {
    "collapsed": false,
    "pycharm": {
     "name": "#%% md\n"
    }
   }
  },
  {
   "cell_type": "code",
   "execution_count": 21,
   "outputs": [],
   "source": [
    "df['Date'] = pd.to_datetime(df['Date'])\n",
    "df['folder'] = df.index.map(lambda x: x.split('/')[-2])\n",
    "\n",
    "\n",
    "def clean_cc(x):\n",
    "    tokens = [i.strip() for i in x.split(',')]\n",
    "    return ','.join(tokens)\n",
    "\n",
    "\n",
    "df['From'] = df['From'].map(clean_cc).str.lower()\n",
    "df['To'] = df['To'].map(clean_cc).str.lower()\n",
    "df['Cc'] = df['Cc'].map(clean_cc).str.lower()\n",
    "df['Bcc'] = df['Bcc'].map(clean_cc).str.lower()\n",
    "\n",
    "df.drop(columns=['message'], inplace=True)"
   ],
   "metadata": {
    "collapsed": false,
    "pycharm": {
     "name": "#%%\n"
    }
   }
  },
  {
   "cell_type": "code",
   "execution_count": 22,
   "outputs": [
    {
     "data": {
      "text/plain": "                                                                                              content  \\\nfile                                                                                                    \n/dd_volume/Development/Python/Thesis/code/datas...  Phillip\\nMy interpretation of this is that we ...   \n/dd_volume/Development/Python/Thesis/code/datas...   \\nPlease let me know if you still need Curve ...   \n/dd_volume/Development/Python/Thesis/code/datas...  \\n\\n_____________________DAVID COURSEY________...   \n/dd_volume/Development/Python/Thesis/code/datas...  Dear phillip,\\n\\n\\nThis e-mail is automated no...   \n/dd_volume/Development/Python/Thesis/code/datas...  \\n[IMAGE] [IMAGE]   [IMAGE]   [IMAGE] $ 2,500 ...   \n...                                                                                               ...   \n/dd_volume/Development/Python/Thesis/code/datas...  Due to some problems with my email yesterday, ...   \n/dd_volume/Development/Python/Thesis/code/datas...  Attached is davis.doc, a quick & dirty report ...   \n/dd_volume/Development/Python/Thesis/code/datas...  ----- Forwarded by Sarah Novosel/Corp/Enron on...   \n/dd_volume/Development/Python/Thesis/code/datas...  Transwestern Pipeline Co. posted new notice(s)...   \n/dd_volume/Development/Python/Thesis/code/datas...                                             FYI.\\n   \n\n                                                                                       Message-ID  \\\nfile                                                                                                \n/dd_volume/Development/Python/Thesis/code/datas...  <10326858.1075855377484.JavaMail.evans@thyme>   \n/dd_volume/Development/Python/Thesis/code/datas...  <16159836.1075855377439.JavaMail.evans@thyme>   \n/dd_volume/Development/Python/Thesis/code/datas...  <14955894.1075855377681.JavaMail.evans@thyme>   \n/dd_volume/Development/Python/Thesis/code/datas...   <7462038.1075855377703.JavaMail.evans@thyme>   \n/dd_volume/Development/Python/Thesis/code/datas...  <21572157.1075855377726.JavaMail.evans@thyme>   \n...                                                                                           ...   \n/dd_volume/Development/Python/Thesis/code/datas...  <18640335.1075855713056.JavaMail.evans@thyme>   \n/dd_volume/Development/Python/Thesis/code/datas...   <8522013.1075855678733.JavaMail.evans@thyme>   \n/dd_volume/Development/Python/Thesis/code/datas...  <19166235.1075855678756.JavaMail.evans@thyme>   \n/dd_volume/Development/Python/Thesis/code/datas...   <4375099.1075855678796.JavaMail.evans@thyme>   \n/dd_volume/Development/Python/Thesis/code/datas...  <14534717.1075855678819.JavaMail.evans@thyme>   \n\n                                                                         Date  \\\nfile                                                                            \n/dd_volume/Development/Python/Thesis/code/datas...  2001-12-10 15:31:51-08:00   \n/dd_volume/Development/Python/Thesis/code/datas...  2001-12-07 10:06:42-08:00   \n/dd_volume/Development/Python/Thesis/code/datas...  2001-12-30 22:49:42-08:00   \n/dd_volume/Development/Python/Thesis/code/datas...  2001-12-30 23:42:30-08:00   \n/dd_volume/Development/Python/Thesis/code/datas...  2001-12-31 02:24:51-08:00   \n...                                                                       ...   \n/dd_volume/Development/Python/Thesis/code/datas...  2001-05-10 06:05:00-07:00   \n/dd_volume/Development/Python/Thesis/code/datas...  2000-12-13 07:57:00-08:00   \n/dd_volume/Development/Python/Thesis/code/datas...  2000-12-13 08:39:00-08:00   \n/dd_volume/Development/Python/Thesis/code/datas...  2000-12-13 08:34:00-08:00   \n/dd_volume/Development/Python/Thesis/code/datas...  2000-12-13 08:22:00-08:00   \n\n                                                                                       From  \\\nfile                                                                                          \n/dd_volume/Development/Python/Thesis/code/datas...                     david.port@enron.com   \n/dd_volume/Development/Python/Thesis/code/datas...                 heather.dunton@enron.com   \n/dd_volume/Development/Python/Thesis/code/datas...  anchordesk_daily@anchordesk.zdlists.com   \n/dd_volume/Development/Python/Thesis/code/datas...      subscriptions@intelligencepress.com   \n/dd_volume/Development/Python/Thesis/code/datas...           prizemachine@feedback.iwon.com   \n...                                                                                     ...   \n/dd_volume/Development/Python/Thesis/code/datas...                  lisa.jacobson@enron.com   \n/dd_volume/Development/Python/Thesis/code/datas...                         aod@newsdata.com   \n/dd_volume/Development/Python/Thesis/code/datas...                  sarah.novosel@enron.com   \n/dd_volume/Development/Python/Thesis/code/datas...                critical.notice@enron.com   \n/dd_volume/Development/Python/Thesis/code/datas...               rebecca.cantrell@enron.com   \n\n                                                                                                   To  \\\nfile                                                                                                    \n/dd_volume/Development/Python/Thesis/code/datas...                                 k..allen@enron.com   \n/dd_volume/Development/Python/Thesis/code/datas...                                 k..allen@enron.com   \n/dd_volume/Development/Python/Thesis/code/datas...                                   pallen@enron.com   \n/dd_volume/Development/Python/Thesis/code/datas...                                   pallen@enron.com   \n/dd_volume/Development/Python/Thesis/code/datas...                                   pallen@enron.com   \n...                                                                                               ...   \n/dd_volume/Development/Python/Thesis/code/datas...  lisa.jacobson@enron.com,kevin.mcgowan@enron.co...   \n/dd_volume/Development/Python/Thesis/code/datas...       western.price.survey.contacts@ren-3.cais.net   \n/dd_volume/Development/Python/Thesis/code/datas...  steven.kean@enron.com,richard.shapiro@enron.co...   \n/dd_volume/Development/Python/Thesis/code/datas...  ywang@enron.com,patti.sullivan@enron.com,phill...   \n/dd_volume/Development/Python/Thesis/code/datas...  stephanie.miller@enron.com,ruth.concannon@enro...   \n\n                                                                                              Subject  \\\nfile                                                                                                    \n/dd_volume/Development/Python/Thesis/code/datas...                                 FW: Gas P&L by day   \n/dd_volume/Development/Python/Thesis/code/datas...                                  RE: West Position   \n/dd_volume/Development/Python/Thesis/code/datas...  ANCHORDESK: Hope ahead: What I learned from 20...   \n/dd_volume/Development/Python/Thesis/code/datas...      NGI Publications - Monday, December 31st 2001   \n/dd_volume/Development/Python/Thesis/code/datas...         Click. Spin. Chances to Win up to $10,000!   \n...                                                                                               ...   \n/dd_volume/Development/Python/Thesis/code/datas...    RSVP REQUESTED - Emissions Strategy Meeting....   \n/dd_volume/Development/Python/Thesis/code/datas...                          Report on News Conference   \n/dd_volume/Development/Python/Thesis/code/datas...                                Final FIled Version   \n/dd_volume/Development/Python/Thesis/code/datas...          New Notice from Transwestern Pipeline Co.   \n/dd_volume/Development/Python/Thesis/code/datas...              Final Filed Version -- SDG&E Comments   \n\n                                                                 Cc  \\\nfile                                                                  \n/dd_volume/Development/Python/Thesis/code/datas...                    \n/dd_volume/Development/Python/Thesis/code/datas...                    \n/dd_volume/Development/Python/Thesis/code/datas...                    \n/dd_volume/Development/Python/Thesis/code/datas...                    \n/dd_volume/Development/Python/Thesis/code/datas...                    \n...                                                             ...   \n/dd_volume/Development/Python/Thesis/code/datas...                    \n/dd_volume/Development/Python/Thesis/code/datas...  alb@cpuc.ca.gov   \n/dd_volume/Development/Python/Thesis/code/datas...                    \n/dd_volume/Development/Python/Thesis/code/datas...                    \n/dd_volume/Development/Python/Thesis/code/datas...                    \n\n                                                   Mime-Version  \\\nfile                                                              \n/dd_volume/Development/Python/Thesis/code/datas...          1.0   \n/dd_volume/Development/Python/Thesis/code/datas...          1.0   \n/dd_volume/Development/Python/Thesis/code/datas...          1.0   \n/dd_volume/Development/Python/Thesis/code/datas...          1.0   \n/dd_volume/Development/Python/Thesis/code/datas...          1.0   \n...                                                         ...   \n/dd_volume/Development/Python/Thesis/code/datas...          1.0   \n/dd_volume/Development/Python/Thesis/code/datas...          1.0   \n/dd_volume/Development/Python/Thesis/code/datas...          1.0   \n/dd_volume/Development/Python/Thesis/code/datas...          1.0   \n/dd_volume/Development/Python/Thesis/code/datas...          1.0   \n\n                                                                          Content-Type  \\\nfile                                                                                     \n/dd_volume/Development/Python/Thesis/code/datas...        text/plain; charset=us-ascii   \n/dd_volume/Development/Python/Thesis/code/datas...        text/plain; charset=us-ascii   \n/dd_volume/Development/Python/Thesis/code/datas...  text/plain; charset=ANSI_X3.4-1968   \n/dd_volume/Development/Python/Thesis/code/datas...        text/plain; charset=us-ascii   \n/dd_volume/Development/Python/Thesis/code/datas...        text/plain; charset=us-ascii   \n...                                                                                ...   \n/dd_volume/Development/Python/Thesis/code/datas...        text/plain; charset=us-ascii   \n/dd_volume/Development/Python/Thesis/code/datas...        text/plain; charset=us-ascii   \n/dd_volume/Development/Python/Thesis/code/datas...        text/plain; charset=us-ascii   \n/dd_volume/Development/Python/Thesis/code/datas...        text/plain; charset=us-ascii   \n/dd_volume/Development/Python/Thesis/code/datas...        text/plain; charset=us-ascii   \n\n                                                   Content-Transfer-Encoding  \\\nfile                                                                           \n/dd_volume/Development/Python/Thesis/code/datas...                      7bit   \n/dd_volume/Development/Python/Thesis/code/datas...                      7bit   \n/dd_volume/Development/Python/Thesis/code/datas...                      7bit   \n/dd_volume/Development/Python/Thesis/code/datas...                      7bit   \n/dd_volume/Development/Python/Thesis/code/datas...                      7bit   \n...                                                                      ...   \n/dd_volume/Development/Python/Thesis/code/datas...                      7bit   \n/dd_volume/Development/Python/Thesis/code/datas...                      7bit   \n/dd_volume/Development/Python/Thesis/code/datas...                      7bit   \n/dd_volume/Development/Python/Thesis/code/datas...                      7bit   \n/dd_volume/Development/Python/Thesis/code/datas...                      7bit   \n\n                                                    ...  \\\nfile                                                ...   \n/dd_volume/Development/Python/Thesis/code/datas...  ...   \n/dd_volume/Development/Python/Thesis/code/datas...  ...   \n/dd_volume/Development/Python/Thesis/code/datas...  ...   \n/dd_volume/Development/Python/Thesis/code/datas...  ...   \n/dd_volume/Development/Python/Thesis/code/datas...  ...   \n...                                                 ...   \n/dd_volume/Development/Python/Thesis/code/datas...  ...   \n/dd_volume/Development/Python/Thesis/code/datas...  ...   \n/dd_volume/Development/Python/Thesis/code/datas...  ...   \n/dd_volume/Development/Python/Thesis/code/datas...  ...   \n/dd_volume/Development/Python/Thesis/code/datas...  ...   \n\n                                                                                               X-From  \\\nfile                                                                                                    \n/dd_volume/Development/Python/Thesis/code/datas...  Port, David </O=ENRON/OU=NA/CN=RECIPIENTS/CN=D...   \n/dd_volume/Development/Python/Thesis/code/datas...  Dunton, Heather </O=ENRON/OU=NA/CN=RECIPIENTS/...   \n/dd_volume/Development/Python/Thesis/code/datas...  \"AnchorDesk\" <AnchorDesk_Daily@anchordesk.zdli...   \n/dd_volume/Development/Python/Thesis/code/datas...          subscriptions@intelligencepress.com@ENRON   \n/dd_volume/Development/Python/Thesis/code/datas...  Prize Machine<PrizeMachine@feedback.iwon.com>@...   \n...                                                                                               ...   \n/dd_volume/Development/Python/Thesis/code/datas...                                      Lisa Jacobson   \n/dd_volume/Development/Python/Thesis/code/datas...              \"Arthur O'Donnell\" <aod@newsdata.com>   \n/dd_volume/Development/Python/Thesis/code/datas...                                      Sarah Novosel   \n/dd_volume/Development/Python/Thesis/code/datas...                          critical.notice@Enron.com   \n/dd_volume/Development/Python/Thesis/code/datas...                                 Rebecca W Cantrell   \n\n                                                                                                 X-To  \\\nfile                                                                                                    \n/dd_volume/Development/Python/Thesis/code/datas...  Allen, Phillip K. </O=ENRON/OU=NA/CN=RECIPIENT...   \n/dd_volume/Development/Python/Thesis/code/datas...  Allen, Phillip K. </O=ENRON/OU=NA/CN=RECIPIENT...   \n/dd_volume/Development/Python/Thesis/code/datas...                                   pallen@ENRON.COM   \n/dd_volume/Development/Python/Thesis/code/datas...                                   pallen@enron.com   \n/dd_volume/Development/Python/Thesis/code/datas...                                   pallen@enron.com   \n...                                                                                               ...   \n/dd_volume/Development/Python/Thesis/code/datas...  Lisa Jacobson, Kevin McGowan, Daniel Reck, Mat...   \n/dd_volume/Development/Python/Thesis/code/datas...       Western.Price.Survey.contacts@ren-3.cais.net   \n/dd_volume/Development/Python/Thesis/code/datas...  Steven J Kean, Richard Shapiro, James D Steffe...   \n/dd_volume/Development/Python/Thesis/code/datas...  ywang@Enron.com, Patti.Sullivan@Enron.com, Phi...   \n/dd_volume/Development/Python/Thesis/code/datas...  Stephanie Miller, Ruth Concannon, Jane M Tholt...   \n\n                                                                                     X-cc  \\\nfile                                                                                        \n/dd_volume/Development/Python/Thesis/code/datas...                                          \n/dd_volume/Development/Python/Thesis/code/datas...                                          \n/dd_volume/Development/Python/Thesis/code/datas...                                          \n/dd_volume/Development/Python/Thesis/code/datas...                                          \n/dd_volume/Development/Python/Thesis/code/datas...                                          \n...                                                                                   ...   \n/dd_volume/Development/Python/Thesis/code/datas...                                          \n/dd_volume/Development/Python/Thesis/code/datas...  \"'alb@cpuc.ca.gov'\" <alb@cpuc.ca.gov>   \n/dd_volume/Development/Python/Thesis/code/datas...                                          \n/dd_volume/Development/Python/Thesis/code/datas...                                          \n/dd_volume/Development/Python/Thesis/code/datas...                                          \n\n                                                   X-bcc  \\\nfile                                                       \n/dd_volume/Development/Python/Thesis/code/datas...         \n/dd_volume/Development/Python/Thesis/code/datas...         \n/dd_volume/Development/Python/Thesis/code/datas...         \n/dd_volume/Development/Python/Thesis/code/datas...         \n/dd_volume/Development/Python/Thesis/code/datas...         \n...                                                  ...   \n/dd_volume/Development/Python/Thesis/code/datas...         \n/dd_volume/Development/Python/Thesis/code/datas...         \n/dd_volume/Development/Python/Thesis/code/datas...         \n/dd_volume/Development/Python/Thesis/code/datas...         \n/dd_volume/Development/Python/Thesis/code/datas...         \n\n                                                                                             X-Folder  \\\nfile                                                                                                    \n/dd_volume/Development/Python/Thesis/code/datas...   \\Phillip_Allen_Jan2002_1\\Allen, Phillip K.\\Inbox   \n/dd_volume/Development/Python/Thesis/code/datas...   \\Phillip_Allen_Jan2002_1\\Allen, Phillip K.\\Inbox   \n/dd_volume/Development/Python/Thesis/code/datas...   \\Phillip_Allen_Jan2002_1\\Allen, Phillip K.\\Inbox   \n/dd_volume/Development/Python/Thesis/code/datas...   \\Phillip_Allen_Jan2002_1\\Allen, Phillip K.\\Inbox   \n/dd_volume/Development/Python/Thesis/code/datas...   \\Phillip_Allen_Jan2002_1\\Allen, Phillip K.\\Inbox   \n...                                                                                               ...   \n/dd_volume/Development/Python/Thesis/code/datas...  \\Phillip_Allen_June2001\\Notes Folders\\Notes inbox   \n/dd_volume/Development/Python/Thesis/code/datas...   \\Phillip_Allen_Dec2000\\Notes Folders\\Notes inbox   \n/dd_volume/Development/Python/Thesis/code/datas...   \\Phillip_Allen_Dec2000\\Notes Folders\\Notes inbox   \n/dd_volume/Development/Python/Thesis/code/datas...   \\Phillip_Allen_Dec2000\\Notes Folders\\Notes inbox   \n/dd_volume/Development/Python/Thesis/code/datas...   \\Phillip_Allen_Dec2000\\Notes Folders\\Notes inbox   \n\n                                                   X-Origin  \\\nfile                                                          \n/dd_volume/Development/Python/Thesis/code/datas...  Allen-P   \n/dd_volume/Development/Python/Thesis/code/datas...  Allen-P   \n/dd_volume/Development/Python/Thesis/code/datas...  Allen-P   \n/dd_volume/Development/Python/Thesis/code/datas...  Allen-P   \n/dd_volume/Development/Python/Thesis/code/datas...  Allen-P   \n...                                                     ...   \n/dd_volume/Development/Python/Thesis/code/datas...  Allen-P   \n/dd_volume/Development/Python/Thesis/code/datas...  Allen-P   \n/dd_volume/Development/Python/Thesis/code/datas...  Allen-P   \n/dd_volume/Development/Python/Thesis/code/datas...  Allen-P   \n/dd_volume/Development/Python/Thesis/code/datas...  Allen-P   \n\n                                                                     X-FileName  \\\nfile                                                                              \n/dd_volume/Development/Python/Thesis/code/datas...  pallen (Non-Privileged).pst   \n/dd_volume/Development/Python/Thesis/code/datas...  pallen (Non-Privileged).pst   \n/dd_volume/Development/Python/Thesis/code/datas...  pallen (Non-Privileged).pst   \n/dd_volume/Development/Python/Thesis/code/datas...  pallen (Non-Privileged).pst   \n/dd_volume/Development/Python/Thesis/code/datas...  pallen (Non-Privileged).pst   \n...                                                                         ...   \n/dd_volume/Development/Python/Thesis/code/datas...                   pallen.nsf   \n/dd_volume/Development/Python/Thesis/code/datas...                   pallen.nsf   \n/dd_volume/Development/Python/Thesis/code/datas...                   pallen.nsf   \n/dd_volume/Development/Python/Thesis/code/datas...                   pallen.nsf   \n/dd_volume/Development/Python/Thesis/code/datas...                   pallen.nsf   \n\n                                                   has_other_content  \\\nfile                                                                   \n/dd_volume/Development/Python/Thesis/code/datas...             False   \n/dd_volume/Development/Python/Thesis/code/datas...             False   \n/dd_volume/Development/Python/Thesis/code/datas...             False   \n/dd_volume/Development/Python/Thesis/code/datas...             False   \n/dd_volume/Development/Python/Thesis/code/datas...             False   \n...                                                              ...   \n/dd_volume/Development/Python/Thesis/code/datas...             False   \n/dd_volume/Development/Python/Thesis/code/datas...             False   \n/dd_volume/Development/Python/Thesis/code/datas...             False   \n/dd_volume/Development/Python/Thesis/code/datas...             False   \n/dd_volume/Development/Python/Thesis/code/datas...              True   \n\n                                                    if_forwarded       folder  \nfile                                                                           \n/dd_volume/Development/Python/Thesis/code/datas...         False        inbox  \n/dd_volume/Development/Python/Thesis/code/datas...         False        inbox  \n/dd_volume/Development/Python/Thesis/code/datas...         False        inbox  \n/dd_volume/Development/Python/Thesis/code/datas...         False        inbox  \n/dd_volume/Development/Python/Thesis/code/datas...         False        inbox  \n...                                                          ...          ...  \n/dd_volume/Development/Python/Thesis/code/datas...         False  notes_inbox  \n/dd_volume/Development/Python/Thesis/code/datas...         False  notes_inbox  \n/dd_volume/Development/Python/Thesis/code/datas...         False  notes_inbox  \n/dd_volume/Development/Python/Thesis/code/datas...         False  notes_inbox  \n/dd_volume/Development/Python/Thesis/code/datas...          True  notes_inbox  \n\n[114 rows x 21 columns]",
      "text/html": "<div>\n<style scoped>\n    .dataframe tbody tr th:only-of-type {\n        vertical-align: middle;\n    }\n\n    .dataframe tbody tr th {\n        vertical-align: top;\n    }\n\n    .dataframe thead th {\n        text-align: right;\n    }\n</style>\n<table border=\"1\" class=\"dataframe\">\n  <thead>\n    <tr style=\"text-align: right;\">\n      <th></th>\n      <th>content</th>\n      <th>Message-ID</th>\n      <th>Date</th>\n      <th>From</th>\n      <th>To</th>\n      <th>Subject</th>\n      <th>Cc</th>\n      <th>Mime-Version</th>\n      <th>Content-Type</th>\n      <th>Content-Transfer-Encoding</th>\n      <th>...</th>\n      <th>X-From</th>\n      <th>X-To</th>\n      <th>X-cc</th>\n      <th>X-bcc</th>\n      <th>X-Folder</th>\n      <th>X-Origin</th>\n      <th>X-FileName</th>\n      <th>has_other_content</th>\n      <th>if_forwarded</th>\n      <th>folder</th>\n    </tr>\n    <tr>\n      <th>file</th>\n      <th></th>\n      <th></th>\n      <th></th>\n      <th></th>\n      <th></th>\n      <th></th>\n      <th></th>\n      <th></th>\n      <th></th>\n      <th></th>\n      <th></th>\n      <th></th>\n      <th></th>\n      <th></th>\n      <th></th>\n      <th></th>\n      <th></th>\n      <th></th>\n      <th></th>\n      <th></th>\n      <th></th>\n    </tr>\n  </thead>\n  <tbody>\n    <tr>\n      <th>/dd_volume/Development/Python/Thesis/code/datasets/data/raw/test/allen-p/inbox/3.</th>\n      <td>Phillip\\nMy interpretation of this is that we ...</td>\n      <td>&lt;10326858.1075855377484.JavaMail.evans@thyme&gt;</td>\n      <td>2001-12-10 15:31:51-08:00</td>\n      <td>david.port@enron.com</td>\n      <td>k..allen@enron.com</td>\n      <td>FW: Gas P&amp;L by day</td>\n      <td></td>\n      <td>1.0</td>\n      <td>text/plain; charset=us-ascii</td>\n      <td>7bit</td>\n      <td>...</td>\n      <td>Port, David &lt;/O=ENRON/OU=NA/CN=RECIPIENTS/CN=D...</td>\n      <td>Allen, Phillip K. &lt;/O=ENRON/OU=NA/CN=RECIPIENT...</td>\n      <td></td>\n      <td></td>\n      <td>\\Phillip_Allen_Jan2002_1\\Allen, Phillip K.\\Inbox</td>\n      <td>Allen-P</td>\n      <td>pallen (Non-Privileged).pst</td>\n      <td>False</td>\n      <td>False</td>\n      <td>inbox</td>\n    </tr>\n    <tr>\n      <th>/dd_volume/Development/Python/Thesis/code/datasets/data/raw/test/allen-p/inbox/1.</th>\n      <td>\\nPlease let me know if you still need Curve ...</td>\n      <td>&lt;16159836.1075855377439.JavaMail.evans@thyme&gt;</td>\n      <td>2001-12-07 10:06:42-08:00</td>\n      <td>heather.dunton@enron.com</td>\n      <td>k..allen@enron.com</td>\n      <td>RE: West Position</td>\n      <td></td>\n      <td>1.0</td>\n      <td>text/plain; charset=us-ascii</td>\n      <td>7bit</td>\n      <td>...</td>\n      <td>Dunton, Heather &lt;/O=ENRON/OU=NA/CN=RECIPIENTS/...</td>\n      <td>Allen, Phillip K. &lt;/O=ENRON/OU=NA/CN=RECIPIENT...</td>\n      <td></td>\n      <td></td>\n      <td>\\Phillip_Allen_Jan2002_1\\Allen, Phillip K.\\Inbox</td>\n      <td>Allen-P</td>\n      <td>pallen (Non-Privileged).pst</td>\n      <td>False</td>\n      <td>False</td>\n      <td>inbox</td>\n    </tr>\n    <tr>\n      <th>/dd_volume/Development/Python/Thesis/code/datasets/data/raw/test/allen-p/inbox/10.</th>\n      <td>\\n\\n_____________________DAVID COURSEY________...</td>\n      <td>&lt;14955894.1075855377681.JavaMail.evans@thyme&gt;</td>\n      <td>2001-12-30 22:49:42-08:00</td>\n      <td>anchordesk_daily@anchordesk.zdlists.com</td>\n      <td>pallen@enron.com</td>\n      <td>ANCHORDESK: Hope ahead: What I learned from 20...</td>\n      <td></td>\n      <td>1.0</td>\n      <td>text/plain; charset=ANSI_X3.4-1968</td>\n      <td>7bit</td>\n      <td>...</td>\n      <td>\"AnchorDesk\" &lt;AnchorDesk_Daily@anchordesk.zdli...</td>\n      <td>pallen@ENRON.COM</td>\n      <td></td>\n      <td></td>\n      <td>\\Phillip_Allen_Jan2002_1\\Allen, Phillip K.\\Inbox</td>\n      <td>Allen-P</td>\n      <td>pallen (Non-Privileged).pst</td>\n      <td>False</td>\n      <td>False</td>\n      <td>inbox</td>\n    </tr>\n    <tr>\n      <th>/dd_volume/Development/Python/Thesis/code/datasets/data/raw/test/allen-p/inbox/11.</th>\n      <td>Dear phillip,\\n\\n\\nThis e-mail is automated no...</td>\n      <td>&lt;7462038.1075855377703.JavaMail.evans@thyme&gt;</td>\n      <td>2001-12-30 23:42:30-08:00</td>\n      <td>subscriptions@intelligencepress.com</td>\n      <td>pallen@enron.com</td>\n      <td>NGI Publications - Monday, December 31st 2001</td>\n      <td></td>\n      <td>1.0</td>\n      <td>text/plain; charset=us-ascii</td>\n      <td>7bit</td>\n      <td>...</td>\n      <td>subscriptions@intelligencepress.com@ENRON</td>\n      <td>pallen@enron.com</td>\n      <td></td>\n      <td></td>\n      <td>\\Phillip_Allen_Jan2002_1\\Allen, Phillip K.\\Inbox</td>\n      <td>Allen-P</td>\n      <td>pallen (Non-Privileged).pst</td>\n      <td>False</td>\n      <td>False</td>\n      <td>inbox</td>\n    </tr>\n    <tr>\n      <th>/dd_volume/Development/Python/Thesis/code/datasets/data/raw/test/allen-p/inbox/12.</th>\n      <td>\\n[IMAGE] [IMAGE]   [IMAGE]   [IMAGE] $ 2,500 ...</td>\n      <td>&lt;21572157.1075855377726.JavaMail.evans@thyme&gt;</td>\n      <td>2001-12-31 02:24:51-08:00</td>\n      <td>prizemachine@feedback.iwon.com</td>\n      <td>pallen@enron.com</td>\n      <td>Click. Spin. Chances to Win up to $10,000!</td>\n      <td></td>\n      <td>1.0</td>\n      <td>text/plain; charset=us-ascii</td>\n      <td>7bit</td>\n      <td>...</td>\n      <td>Prize Machine&lt;PrizeMachine@feedback.iwon.com&gt;@...</td>\n      <td>pallen@enron.com</td>\n      <td></td>\n      <td></td>\n      <td>\\Phillip_Allen_Jan2002_1\\Allen, Phillip K.\\Inbox</td>\n      <td>Allen-P</td>\n      <td>pallen (Non-Privileged).pst</td>\n      <td>False</td>\n      <td>False</td>\n      <td>inbox</td>\n    </tr>\n    <tr>\n      <th>...</th>\n      <td>...</td>\n      <td>...</td>\n      <td>...</td>\n      <td>...</td>\n      <td>...</td>\n      <td>...</td>\n      <td>...</td>\n      <td>...</td>\n      <td>...</td>\n      <td>...</td>\n      <td>...</td>\n      <td>...</td>\n      <td>...</td>\n      <td>...</td>\n      <td>...</td>\n      <td>...</td>\n      <td>...</td>\n      <td>...</td>\n      <td>...</td>\n      <td>...</td>\n      <td>...</td>\n    </tr>\n    <tr>\n      <th>/dd_volume/Development/Python/Thesis/code/datasets/data/raw/test/allen-p/notes_inbox/50.</th>\n      <td>Due to some problems with my email yesterday, ...</td>\n      <td>&lt;18640335.1075855713056.JavaMail.evans@thyme&gt;</td>\n      <td>2001-05-10 06:05:00-07:00</td>\n      <td>lisa.jacobson@enron.com</td>\n      <td>lisa.jacobson@enron.com,kevin.mcgowan@enron.co...</td>\n      <td>RSVP REQUESTED - Emissions Strategy Meeting....</td>\n      <td></td>\n      <td>1.0</td>\n      <td>text/plain; charset=us-ascii</td>\n      <td>7bit</td>\n      <td>...</td>\n      <td>Lisa Jacobson</td>\n      <td>Lisa Jacobson, Kevin McGowan, Daniel Reck, Mat...</td>\n      <td></td>\n      <td></td>\n      <td>\\Phillip_Allen_June2001\\Notes Folders\\Notes inbox</td>\n      <td>Allen-P</td>\n      <td>pallen.nsf</td>\n      <td>False</td>\n      <td>False</td>\n      <td>notes_inbox</td>\n    </tr>\n    <tr>\n      <th>/dd_volume/Development/Python/Thesis/code/datasets/data/raw/test/allen-p/notes_inbox/6.</th>\n      <td>Attached is davis.doc, a quick &amp; dirty report ...</td>\n      <td>&lt;8522013.1075855678733.JavaMail.evans@thyme&gt;</td>\n      <td>2000-12-13 07:57:00-08:00</td>\n      <td>aod@newsdata.com</td>\n      <td>western.price.survey.contacts@ren-3.cais.net</td>\n      <td>Report on News Conference</td>\n      <td>alb@cpuc.ca.gov</td>\n      <td>1.0</td>\n      <td>text/plain; charset=us-ascii</td>\n      <td>7bit</td>\n      <td>...</td>\n      <td>\"Arthur O'Donnell\" &lt;aod@newsdata.com&gt;</td>\n      <td>Western.Price.Survey.contacts@ren-3.cais.net</td>\n      <td>\"'alb@cpuc.ca.gov'\" &lt;alb@cpuc.ca.gov&gt;</td>\n      <td></td>\n      <td>\\Phillip_Allen_Dec2000\\Notes Folders\\Notes inbox</td>\n      <td>Allen-P</td>\n      <td>pallen.nsf</td>\n      <td>False</td>\n      <td>False</td>\n      <td>notes_inbox</td>\n    </tr>\n    <tr>\n      <th>/dd_volume/Development/Python/Thesis/code/datasets/data/raw/test/allen-p/notes_inbox/7.</th>\n      <td>----- Forwarded by Sarah Novosel/Corp/Enron on...</td>\n      <td>&lt;19166235.1075855678756.JavaMail.evans@thyme&gt;</td>\n      <td>2000-12-13 08:39:00-08:00</td>\n      <td>sarah.novosel@enron.com</td>\n      <td>steven.kean@enron.com,richard.shapiro@enron.co...</td>\n      <td>Final FIled Version</td>\n      <td></td>\n      <td>1.0</td>\n      <td>text/plain; charset=us-ascii</td>\n      <td>7bit</td>\n      <td>...</td>\n      <td>Sarah Novosel</td>\n      <td>Steven J Kean, Richard Shapiro, James D Steffe...</td>\n      <td></td>\n      <td></td>\n      <td>\\Phillip_Allen_Dec2000\\Notes Folders\\Notes inbox</td>\n      <td>Allen-P</td>\n      <td>pallen.nsf</td>\n      <td>False</td>\n      <td>False</td>\n      <td>notes_inbox</td>\n    </tr>\n    <tr>\n      <th>/dd_volume/Development/Python/Thesis/code/datasets/data/raw/test/allen-p/notes_inbox/8.</th>\n      <td>Transwestern Pipeline Co. posted new notice(s)...</td>\n      <td>&lt;4375099.1075855678796.JavaMail.evans@thyme&gt;</td>\n      <td>2000-12-13 08:34:00-08:00</td>\n      <td>critical.notice@enron.com</td>\n      <td>ywang@enron.com,patti.sullivan@enron.com,phill...</td>\n      <td>New Notice from Transwestern Pipeline Co.</td>\n      <td></td>\n      <td>1.0</td>\n      <td>text/plain; charset=us-ascii</td>\n      <td>7bit</td>\n      <td>...</td>\n      <td>critical.notice@Enron.com</td>\n      <td>ywang@Enron.com, Patti.Sullivan@Enron.com, Phi...</td>\n      <td></td>\n      <td></td>\n      <td>\\Phillip_Allen_Dec2000\\Notes Folders\\Notes inbox</td>\n      <td>Allen-P</td>\n      <td>pallen.nsf</td>\n      <td>False</td>\n      <td>False</td>\n      <td>notes_inbox</td>\n    </tr>\n    <tr>\n      <th>/dd_volume/Development/Python/Thesis/code/datasets/data/raw/test/allen-p/notes_inbox/9.</th>\n      <td>FYI.\\n</td>\n      <td>&lt;14534717.1075855678819.JavaMail.evans@thyme&gt;</td>\n      <td>2000-12-13 08:22:00-08:00</td>\n      <td>rebecca.cantrell@enron.com</td>\n      <td>stephanie.miller@enron.com,ruth.concannon@enro...</td>\n      <td>Final Filed Version -- SDG&amp;E Comments</td>\n      <td></td>\n      <td>1.0</td>\n      <td>text/plain; charset=us-ascii</td>\n      <td>7bit</td>\n      <td>...</td>\n      <td>Rebecca W Cantrell</td>\n      <td>Stephanie Miller, Ruth Concannon, Jane M Tholt...</td>\n      <td></td>\n      <td></td>\n      <td>\\Phillip_Allen_Dec2000\\Notes Folders\\Notes inbox</td>\n      <td>Allen-P</td>\n      <td>pallen.nsf</td>\n      <td>True</td>\n      <td>True</td>\n      <td>notes_inbox</td>\n    </tr>\n  </tbody>\n</table>\n<p>114 rows × 21 columns</p>\n</div>"
     },
     "execution_count": 22,
     "metadata": {},
     "output_type": "execute_result"
    }
   ],
   "source": [
    "df"
   ],
   "metadata": {
    "collapsed": false,
    "pycharm": {
     "name": "#%%\n"
    }
   }
  },
  {
   "cell_type": "code",
   "execution_count": 23,
   "outputs": [],
   "source": [
    "df.to_parquet('../data/tmp/emails.parquet')"
   ],
   "metadata": {
    "collapsed": false,
    "pycharm": {
     "name": "#%%\n"
    }
   }
  },
  {
   "cell_type": "markdown",
   "source": [
    "# Convert back to spark dataframe"
   ],
   "metadata": {
    "collapsed": false,
    "pycharm": {
     "name": "#%% md\n"
    }
   }
  },
  {
   "cell_type": "code",
   "execution_count": 4,
   "outputs": [
    {
     "name": "stderr",
     "output_type": "stream",
     "text": [
      "22/01/02 00:37:18 WARN Utils: Your hostname, megatron resolves to a loopback address: 127.0.1.1; using 192.168.1.89 instead (on interface enp7s0)\n",
      "22/01/02 00:37:18 WARN Utils: Set SPARK_LOCAL_IP if you need to bind to another address\n",
      "Using Spark's default log4j profile: org/apache/spark/log4j-defaults.properties\n",
      "Setting default log level to \"WARN\".\n",
      "To adjust logging level use sc.setLogLevel(newLevel). For SparkR, use setLogLevel(newLevel).\n",
      "22/01/02 00:37:18 WARN NativeCodeLoader: Unable to load native-hadoop library for your platform... using builtin-java classes where applicable\n",
      "22/01/02 00:37:19 WARN Utils: Service 'SparkUI' could not bind on port 4040. Attempting port 4041.\n"
     ]
    }
   ],
   "source": [
    "spark = (SparkSession.builder\n",
    "         .appName(f'{DATASET}_preprocess')\n",
    "         .config('spark.sql.legacy.timeParserPolicy', 'LEGACY')\n",
    "         .config(\"spark.executor.memory\", \"8g\")\n",
    "         .config(\"spark.driver.memory\", \"8g\")\n",
    "         .config(\"spark.memory.offHeap.enabled\", True)\n",
    "         .config(\"spark.memory.offHeap.size\", \"16g\")\n",
    "         .getOrCreate())"
   ],
   "metadata": {
    "collapsed": false,
    "pycharm": {
     "name": "#%%\n"
    }
   }
  },
  {
   "cell_type": "code",
   "execution_count": 5,
   "outputs": [
    {
     "name": "stderr",
     "output_type": "stream",
     "text": [
      "                                                                                \r"
     ]
    }
   ],
   "source": [
    "df = spark.read.parquet('../data/tmp/emails.parquet')"
   ],
   "metadata": {
    "collapsed": false,
    "pycharm": {
     "name": "#%%\n"
    }
   }
  },
  {
   "cell_type": "code",
   "execution_count": 6,
   "outputs": [],
   "source": [
    "df = (\n",
    "    df\n",
    "        .withColumn('To', F.regexp_replace(F.col('To'), '\"', ''))\n",
    "        .withColumn('From', F.regexp_replace(F.col('From'), '\"', ''))\n",
    "        .withColumn('Cc', F.regexp_replace(F.col('Cc'), '\"', ''))\n",
    "        .withColumn('Bcc', F.regexp_replace(F.col('Bcc'), '\"', ''))\n",
    ")"
   ],
   "metadata": {
    "collapsed": false,
    "pycharm": {
     "name": "#%%\n"
    }
   }
  },
  {
   "cell_type": "code",
   "execution_count": 7,
   "outputs": [
    {
     "name": "stderr",
     "output_type": "stream",
     "text": [
      "                                                                                \r"
     ]
    },
    {
     "data": {
      "text/plain": "[Row(content='Here is our forecast\\n\\n ', Message-ID='<18782981.1075855378110.JavaMail.evans@thyme>', Date=datetime.datetime(2001, 5, 15, 1, 39), From='phillip.allen@enron.com', To='tim.belden@enron.com', Subject='', Cc='', Mime-Version='1.0', Content-Type='text/plain; charset=us-ascii', Content-Transfer-Encoding='7bit', Bcc='', X-From='Phillip K Allen', X-To='Tim Belden <Tim Belden/Enron@EnronXGate>', X-cc='', X-bcc='', X-Folder=\"\\\\Phillip_Allen_Jan2002_1\\\\Allen, Phillip K.\\\\'Sent Mail\", X-Origin='Allen-P', X-FileName='pallen (Non-Privileged).pst', has_other_content=False, if_forwarded=False, folder='_sent_mail', file='allen-p/_sent_mail/1.'),\n Row(content=\"Traveling to have a business meeting takes the fun out of the trip.  Especially if you have to prepare a presentation.  I would suggest holding the business plan meetings here then take a trip without any formal business meetings.  I would even try and get some honest opinions on whether a trip is even desired or necessary.\\n\\nAs far as the business meetings, I think it would be more productive to try and stimulate discussions across the different groups about what is working and what is not.  Too often the presenter speaks and the others are quiet just waiting for their turn.   The meetings might be better if held in a round table discussion format.  \\n\\nMy suggestion for where to go is Austin.  Play golf and rent a ski boat and jet ski's.  Flying somewhere takes too much time.\\n\", Message-ID='<15464986.1075855378456.JavaMail.evans@thyme>', Date=datetime.datetime(2001, 5, 4, 22, 51), From='phillip.allen@enron.com', To='john.lavorato@enron.com', Subject='Re:', Cc='', Mime-Version='1.0', Content-Type='text/plain; charset=us-ascii', Content-Transfer-Encoding='7bit', Bcc='', X-From='Phillip K Allen', X-To='John J Lavorato <John J Lavorato/ENRON@enronXgate@ENRON>', X-cc='', X-bcc='', X-Folder=\"\\\\Phillip_Allen_Jan2002_1\\\\Allen, Phillip K.\\\\'Sent Mail\", X-Origin='Allen-P', X-FileName='pallen (Non-Privileged).pst', has_other_content=False, if_forwarded=False, folder='_sent_mail', file='allen-p/_sent_mail/10.'),\n Row(content='test successful.  way to go!!!', Message-ID='<24216240.1075855687451.JavaMail.evans@thyme>', Date=datetime.datetime(2000, 10, 18, 12, 0), From='phillip.allen@enron.com', To='leah.arsdall@enron.com', Subject='Re: test', Cc='', Mime-Version='1.0', Content-Type='text/plain; charset=us-ascii', Content-Transfer-Encoding='7bit', Bcc='', X-From='Phillip K Allen', X-To='Leah Van Arsdall', X-cc='', X-bcc='', X-Folder=\"\\\\Phillip_Allen_Dec2000\\\\Notes Folders\\\\'sent mail\", X-Origin='Allen-P', X-FileName='pallen.nsf', has_other_content=False, if_forwarded=False, folder='_sent_mail', file='allen-p/_sent_mail/100.'),\n Row(content='Randy,\\n\\n Can you send me a schedule of the salary and level of everyone in the \\nscheduling group.  Plus your thoughts on any changes that need to be made.  \\n(Patti S for example)\\n\\nPhillip', Message-ID='<13505866.1075863688222.JavaMail.evans@thyme>', Date=datetime.datetime(2000, 10, 23, 15, 13), From='phillip.allen@enron.com', To='randall.gay@enron.com', Subject='', Cc='', Mime-Version='1.0', Content-Type='text/plain; charset=us-ascii', Content-Transfer-Encoding='7bit', Bcc='', X-From='Phillip K Allen', X-To='Randall L Gay', X-cc='', X-bcc='', X-Folder=\"\\\\Phillip_Allen_Dec2000\\\\Notes Folders\\\\'sent mail\", X-Origin='Allen-P', X-FileName='pallen.nsf', has_other_content=False, if_forwarded=False, folder='_sent_mail', file='allen-p/_sent_mail/1000.'),\n Row(content=\"Let's shoot for Tuesday at 11:45.  \", Message-ID='<30922949.1075863688243.JavaMail.evans@thyme>', Date=datetime.datetime(2000, 8, 31, 14, 7), From='phillip.allen@enron.com', To='greg.piper@enron.com', Subject='Re: Hello', Cc='', Mime-Version='1.0', Content-Type='text/plain; charset=us-ascii', Content-Transfer-Encoding='7bit', Bcc='', X-From='Phillip K Allen', X-To='Greg Piper', X-cc='', X-bcc='', X-Folder=\"\\\\Phillip_Allen_Dec2000\\\\Notes Folders\\\\'sent mail\", X-Origin='Allen-P', X-FileName='pallen.nsf', has_other_content=False, if_forwarded=False, folder='_sent_mail', file='allen-p/_sent_mail/1001.')]"
     },
     "execution_count": 7,
     "metadata": {},
     "output_type": "execute_result"
    }
   ],
   "source": [
    "df.head(5)"
   ],
   "metadata": {
    "collapsed": false,
    "pycharm": {
     "name": "#%%\n"
    }
   }
  },
  {
   "cell_type": "code",
   "execution_count": 8,
   "outputs": [
    {
     "name": "stderr",
     "output_type": "stream",
     "text": [
      "                                                                                \r"
     ]
    },
    {
     "data": {
      "text/plain": "87678"
     },
     "execution_count": 8,
     "metadata": {},
     "output_type": "execute_result"
    }
   ],
   "source": [
    "df_nodes_users = (\n",
    "    df.select(\n",
    "        F.explode(F.concat(\n",
    "            (F.split(F.col('To'), ',')),\n",
    "            (F.split(F.col('From'), ',')),\n",
    "            (F.split(F.col('Cc'), ',')),\n",
    "            (F.split(F.col('Bcc'), ',')),\n",
    "        )).alias('email')\n",
    "    )\n",
    "        .distinct()\n",
    "        .filter(\"email != ''\")\n",
    "        .withColumn('is_internal', F.col('email').like('%enron%'))\n",
    "        .withColumn('id', F.col('email'))\n",
    "        .dropDuplicates(['id'])\n",
    ")\n",
    "df_nodes_users.count()"
   ],
   "metadata": {
    "collapsed": false,
    "pycharm": {
     "name": "#%%\n"
    }
   }
  },
  {
   "cell_type": "code",
   "execution_count": 9,
   "outputs": [
    {
     "name": "stderr",
     "output_type": "stream",
     "text": [
      "                                                                                \r"
     ]
    },
    {
     "data": {
      "text/plain": "[Row(email='#2.martin@enron.com', is_internal=True, id='#2.martin@enron.com'),\n Row(email='#23.training@enron.com', is_internal=True, id='#23.training@enron.com'),\n Row(email='#24.training@enron.com', is_internal=True, id='#24.training@enron.com'),\n Row(email='#25.training@enron.com', is_internal=True, id='#25.training@enron.com'),\n Row(email='#26.training@enron.com', is_internal=True, id='#26.training@enron.com'),\n Row(email='#28.training@enron.com', is_internal=True, id='#28.training@enron.com'),\n Row(email='#29.training@enron.com', is_internal=True, id='#29.training@enron.com'),\n Row(email='#30.training@enron.com', is_internal=True, id='#30.training@enron.com'),\n Row(email=\"''blanchard@enron.com\", is_internal=True, id=\"''blanchard@enron.com\"),\n Row(email=\"''collins@enron.com\", is_internal=True, id=\"''collins@enron.com\"),\n Row(email=\"''hunt@enron.com\", is_internal=True, id=\"''hunt@enron.com\"),\n Row(email=\"'.''ann@enron.com\", is_internal=True, id=\"'.''ann@enron.com\"),\n Row(email=\"'.''art@enron.com\", is_internal=True, id=\"'.''art@enron.com\"),\n Row(email=\"'.''barbara@enron.com\", is_internal=True, id=\"'.''barbara@enron.com\"),\n Row(email=\"'.''bill@enron.com\", is_internal=True, id=\"'.''bill@enron.com\"),\n Row(email=\"'.''derek@enron.com\", is_internal=True, id=\"'.''derek@enron.com\"),\n Row(email=\"'.''diana@enron.com\", is_internal=True, id=\"'.''diana@enron.com\"),\n Row(email=\"'.''dominic@enron.com\", is_internal=True, id=\"'.''dominic@enron.com\"),\n Row(email=\"'.''dorothy@enron.com\", is_internal=True, id=\"'.''dorothy@enron.com\"),\n Row(email=\"'.''evelyn@enron.com\", is_internal=True, id=\"'.''evelyn@enron.com\")]"
     },
     "execution_count": 9,
     "metadata": {},
     "output_type": "execute_result"
    }
   ],
   "source": [
    "df_nodes_users.head(20)"
   ],
   "metadata": {
    "collapsed": false,
    "pycharm": {
     "name": "#%%\n"
    }
   }
  },
  {
   "cell_type": "code",
   "execution_count": 10,
   "outputs": [
    {
     "data": {
      "text/plain": "517398"
     },
     "execution_count": 10,
     "metadata": {},
     "output_type": "execute_result"
    }
   ],
   "source": [
    "df_nodes_emails = (\n",
    "    df.select(\n",
    "        F.col('Message-ID').alias('id'),\n",
    "        F.col('content'),\n",
    "        F.col('From').like('%enron%').alias('is_internal'),\n",
    "        F.split(F.col('From'), ',').alias('From'),\n",
    "        F.split(F.col('To'), ',').alias('To'),\n",
    "        F.split(F.col('Cc'), ',').alias('Cc'),\n",
    "        F.split(F.col('Bcc'), ',').alias('Bcc'),\n",
    "        F.col('Date'),\n",
    "        F.col('Subject'),\n",
    "        F.col('folder'),\n",
    "        F.col('if_forwarded'),\n",
    "    ).distinct()\n",
    "    .dropDuplicates(['id'])\n",
    ")\n",
    "df_nodes_emails.count()"
   ],
   "metadata": {
    "collapsed": false,
    "pycharm": {
     "name": "#%%\n"
    }
   }
  },
  {
   "cell_type": "code",
   "execution_count": 11,
   "outputs": [
    {
     "name": "stderr",
     "output_type": "stream",
     "text": [
      "                                                                                \r"
     ]
    },
    {
     "name": "stdout",
     "output_type": "stream",
     "text": [
      "517398\n"
     ]
    },
    {
     "name": "stderr",
     "output_type": "stream",
     "text": [
      "                                                                                \r"
     ]
    },
    {
     "name": "stdout",
     "output_type": "stream",
     "text": [
      "3101175\n"
     ]
    },
    {
     "name": "stderr",
     "output_type": "stream",
     "text": [
      "[Stage 41:====================================================>   (16 + 1) / 17]\r"
     ]
    },
    {
     "name": "stdout",
     "output_type": "stream",
     "text": [
      "561305\n"
     ]
    },
    {
     "name": "stderr",
     "output_type": "stream",
     "text": [
      "                                                                                \r"
     ]
    }
   ],
   "source": [
    "df_edges_from = (\n",
    "    df_nodes_emails.select(\n",
    "        F.explode(F.col('From')).alias('src'),\n",
    "        F.col('id').alias('dst'),\n",
    "        F.lit(1).alias('weight'),\n",
    "    ).filter(\"src != ''\").distinct()\n",
    ")\n",
    "print(df_edges_from.count())\n",
    "\n",
    "df_edges_to = (\n",
    "    df_nodes_emails.select(\n",
    "        F.explode(F.col('To')).alias('src'),\n",
    "        F.col('id').alias('dst'),\n",
    "        F.lit(1).alias('weight'),\n",
    "    ).filter(\"src != ''\").distinct()\n",
    ")\n",
    "print(df_edges_to.count())\n",
    "\n",
    "df_edges_cc = (\n",
    "    df_nodes_emails.select(\n",
    "        F.explode(F.col('Cc')).alias('src'),\n",
    "        F.col('id').alias('dst'),\n",
    "        F.lit(1).alias('weight'),\n",
    "    ).filter(\"src != ''\").distinct()\n",
    ")\n",
    "print(df_edges_cc.count())\n",
    "\n",
    "# df_edges_bcc = (\n",
    "#     df_nodes_emails.select(\n",
    "#         F.explode(F.split(F.col('Bcc'), ',')).alias('src'),\n",
    "#         F.col('id').alias('dst'),\n",
    "#         F.lit(1).alias('weight'),\n",
    "#     ).filter(\"src != ''\").distinct()\n",
    "# )\n",
    "# print(df_edges_bcc.count())"
   ],
   "metadata": {
    "collapsed": false,
    "pycharm": {
     "name": "#%%\n"
    }
   }
  },
  {
   "cell_type": "code",
   "execution_count": 12,
   "outputs": [
    {
     "name": "stderr",
     "output_type": "stream",
     "text": [
      "                                                                                \r"
     ]
    }
   ],
   "source": [
    "df_nodes_users.write.parquet(DATASET.processed_str('nodes_User'), mode='overwrite')\n",
    "df_nodes_emails.write.parquet(DATASET.processed_str('nodes_Email'), mode='overwrite')\n",
    "\n",
    "df_edges_from.write.parquet(DATASET.processed_str('edges_SENT'), mode='overwrite')\n",
    "df_edges_to.write.parquet(DATASET.processed_str('edges_TO'), mode='overwrite')\n",
    "df_edges_cc.write.parquet(DATASET.processed_str('edges_CC'), mode='overwrite')"
   ],
   "metadata": {
    "collapsed": false,
    "pycharm": {
     "name": "#%%\n"
    }
   }
  },
  {
   "cell_type": "code",
   "execution_count": 13,
   "outputs": [
    {
     "data": {
      "text/plain": "DatasetSchema(name='enron-mail-20150507', prefix='EnronMail_20150507', database='enron-mail-20150507', description=None, nodes=[NodeSchema(label='User', id='id', path='data/processed/enron-mail-20150507/nodes_User', properties=[Property(name='email', type='string', ignore=False), Property(name='is_internal', type='boolean', ignore=False), Property(name='id', type='string', ignore=False)]), NodeSchema(label='Email', id='id', path='data/processed/enron-mail-20150507/nodes_Email', properties=[Property(name='id', type='string', ignore=False), Property(name='content', type='string', ignore=False), Property(name='is_internal', type='boolean', ignore=False), Property(name='From', type='string[]', ignore=False), Property(name='To', type='string[]', ignore=False), Property(name='Cc', type='string[]', ignore=False), Property(name='Bcc', type='string[]', ignore=False), Property(name='Date', type='datetime', ignore=False), Property(name='Subject', type='string', ignore=False), Property(name='folder', type='string', ignore=False), Property(name='if_forwarded', type='boolean', ignore=False)])], edges=[EdgeSchema(type='SENT', source='User', target='Email', path='data/processed/enron-mail-20150507/edges_SENT', properties=[Property(name='src', type='string', ignore=False), Property(name='dst', type='string', ignore=False), Property(name='weight', type='int', ignore=False)]), EdgeSchema(type='RECEIVED', source='Email', target='User', path='data/processed/enron-mail-20150507/edges_TO', properties=[Property(name='src', type='string', ignore=False), Property(name='dst', type='string', ignore=False), Property(name='weight', type='int', ignore=False)]), EdgeSchema(type='RECEIVED_CC', source='Email', target='User', path='data/processed/enron-mail-20150507/edges_CC', properties=[Property(name='src', type='string', ignore=False), Property(name='dst', type='string', ignore=False), Property(name='weight', type='int', ignore=False)])])"
     },
     "execution_count": 13,
     "metadata": {},
     "output_type": "execute_result"
    }
   ],
   "source": [
    "from datasets.build_schema import build_schema\n",
    "\n",
    "build_schema(\n",
    "    spark,\n",
    "    name=str(DATASET),\n",
    "    nodes=[\n",
    "        ('User', DATASET.processed_str('nodes_User')),\n",
    "        ('Email', DATASET.processed_str('nodes_Email')),\n",
    "    ],\n",
    "    edges=[\n",
    "        ('Sent', 'User', 'Email', DATASET.processed_str('edges_SENT')),\n",
    "        ('Received', 'Email', 'User', DATASET.processed_str('edges_TO')),\n",
    "        ('ReceivedCc', 'Email', 'User', DATASET.processed_str('edges_CC')),\n",
    "    ]\n",
    ")"
   ],
   "metadata": {
    "collapsed": false,
    "pycharm": {
     "name": "#%%\n"
    }
   }
  },
  {
   "cell_type": "code",
   "execution_count": null,
   "outputs": [],
   "source": [],
   "metadata": {
    "collapsed": false,
    "pycharm": {
     "name": "#%%\n"
    }
   }
  }
 ],
 "metadata": {
  "kernelspec": {
   "display_name": "Python 3",
   "language": "python",
   "name": "python3"
  },
  "language_info": {
   "codemirror_mode": {
    "name": "ipython",
    "version": 2
   },
   "file_extension": ".py",
   "mimetype": "text/x-python",
   "name": "python",
   "nbconvert_exporter": "python",
   "pygments_lexer": "ipython2",
   "version": "2.7.6"
  }
 },
 "nbformat": 4,
 "nbformat_minor": 0
}