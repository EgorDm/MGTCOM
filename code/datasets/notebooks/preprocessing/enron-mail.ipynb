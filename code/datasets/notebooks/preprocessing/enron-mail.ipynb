{
 "cells": [
  {
   "cell_type": "code",
   "execution_count": null,
   "outputs": [],
   "source": [
    "%load_ext autoreload\n",
    "%autoreload 2"
   ],
   "metadata": {
    "collapsed": false,
    "pycharm": {
     "name": "#%%\n",
     "is_executing": true
    }
   }
  },
  {
   "cell_type": "code",
   "execution_count": 4,
   "metadata": {
    "collapsed": true
   },
   "outputs": [],
   "source": [
    "import pyspark.sql.functions as F\n",
    "from pyspark.sql import SparkSession\n"
   ]
  },
  {
   "cell_type": "code",
   "execution_count": 5,
   "outputs": [],
   "source": [
    "from shared.schema import DatasetSchema\n",
    "\n",
    "DATASET = DatasetSchema.load_schema('enron-mail-20150507')\n",
    "DATASET.save_schema()"
   ],
   "metadata": {
    "collapsed": false,
    "pycharm": {
     "name": "#%%\n"
    }
   }
  },
  {
   "cell_type": "code",
   "execution_count": 6,
   "outputs": [
    {
     "data": {
      "text/plain": "                       file                                            message\n0     allen-p/_sent_mail/1.  Message-ID: <18782981.1075855378110.JavaMail.e...\n1    allen-p/_sent_mail/10.  Message-ID: <15464986.1075855378456.JavaMail.e...\n2   allen-p/_sent_mail/100.  Message-ID: <24216240.1075855687451.JavaMail.e...\n3  allen-p/_sent_mail/1000.  Message-ID: <13505866.1075863688222.JavaMail.e...\n4  allen-p/_sent_mail/1001.  Message-ID: <30922949.1075863688243.JavaMail.e...",
      "text/html": "<div>\n<style scoped>\n    .dataframe tbody tr th:only-of-type {\n        vertical-align: middle;\n    }\n\n    .dataframe tbody tr th {\n        vertical-align: top;\n    }\n\n    .dataframe thead th {\n        text-align: right;\n    }\n</style>\n<table border=\"1\" class=\"dataframe\">\n  <thead>\n    <tr style=\"text-align: right;\">\n      <th></th>\n      <th>file</th>\n      <th>message</th>\n    </tr>\n  </thead>\n  <tbody>\n    <tr>\n      <th>0</th>\n      <td>allen-p/_sent_mail/1.</td>\n      <td>Message-ID: &lt;18782981.1075855378110.JavaMail.e...</td>\n    </tr>\n    <tr>\n      <th>1</th>\n      <td>allen-p/_sent_mail/10.</td>\n      <td>Message-ID: &lt;15464986.1075855378456.JavaMail.e...</td>\n    </tr>\n    <tr>\n      <th>2</th>\n      <td>allen-p/_sent_mail/100.</td>\n      <td>Message-ID: &lt;24216240.1075855687451.JavaMail.e...</td>\n    </tr>\n    <tr>\n      <th>3</th>\n      <td>allen-p/_sent_mail/1000.</td>\n      <td>Message-ID: &lt;13505866.1075863688222.JavaMail.e...</td>\n    </tr>\n    <tr>\n      <th>4</th>\n      <td>allen-p/_sent_mail/1001.</td>\n      <td>Message-ID: &lt;30922949.1075863688243.JavaMail.e...</td>\n    </tr>\n  </tbody>\n</table>\n</div>"
     },
     "execution_count": 6,
     "metadata": {},
     "output_type": "execute_result"
    }
   ],
   "source": [
    "import pandas as pd\n",
    "\n",
    "df = pd.read_csv(DATASET.raw('emails.csv'))\n",
    "df.head(5)"
   ],
   "metadata": {
    "collapsed": false,
    "pycharm": {
     "name": "#%%\n"
    }
   }
  },
  {
   "cell_type": "code",
   "execution_count": 7,
   "outputs": [],
   "source": [
    "import pathlib\n",
    "import pandas as pd\n",
    "from tqdm import tqdm\n",
    "import os\n",
    "\n",
    "if str(DATASET) == 'test':\n",
    "    files = []\n",
    "    path = pathlib.Path(DATASET.raw())\n",
    "    for file in tqdm(path.glob('**/*')):\n",
    "        if not os.path.isfile(file):\n",
    "            continue\n",
    "\n",
    "        try:\n",
    "            with open(file, 'r') as f:\n",
    "                files.append({\n",
    "                    'file': str(file),\n",
    "                    'message': f.read()\n",
    "                })\n",
    "        except Exception as e:\n",
    "            print(e)\n",
    "\n",
    "    df = pd.DataFrame(files)"
   ],
   "metadata": {
    "collapsed": false,
    "pycharm": {
     "name": "#%%\n"
    }
   }
  },
  {
   "cell_type": "code",
   "execution_count": 8,
   "outputs": [],
   "source": [
    "# Convert to linux line endings\n",
    "\n",
    "WINDOWS_LINE_ENDING = '\\r\\n'\n",
    "UNIX_LINE_ENDING = '\\n'\n",
    "\n",
    "df['message'] = df.message.map(lambda x: x.replace(WINDOWS_LINE_ENDING, UNIX_LINE_ENDING))"
   ],
   "metadata": {
    "collapsed": false,
    "pycharm": {
     "name": "#%%\n"
    }
   }
  },
  {
   "cell_type": "markdown",
   "source": [
    "# Enron Dataset Preprocessing\n",
    "Credit: https://www.kaggle.com/oalvay/enron-emails-complete-preprocessing"
   ],
   "metadata": {
    "collapsed": false,
    "pycharm": {
     "name": "#%% md\n"
    }
   }
  },
  {
   "cell_type": "code",
   "execution_count": 9,
   "outputs": [],
   "source": [
    "import re\n",
    "import pandas as pd\n",
    "\n",
    "\n",
    "def info_part(i):\n",
    "    \"\"\"split infomation part out\"\"\"\n",
    "    return i.split('\\n\\n', 1)[0]\n",
    "\n",
    "\n",
    "def content_part(i):\n",
    "    \"\"\"split content part out\"\"\"\n",
    "    return i.split('\\n\\n', 1)[1]\n",
    "\n",
    "\n",
    "df['pre_info'] = df.message.map(info_part)\n",
    "df['content'] = df.message.map(content_part)\n",
    "df['test_true'] = True\n",
    "\n",
    "words2split = ['Message-ID: ', 'Date: ', 'From: ', 'To: ', 'Subject: ', 'Cc: ', 'Mime-Version: ', 'Content-Type: ',\n",
    "               'Content-Transfer-Encoding: ', 'Bcc: ', 'X-From: ', 'X-To: ', 'X-cc: ', 'X-bcc: ', 'X-Folder: ',\n",
    "               'X-Origin: ',\n",
    "               'X-FileName: ']\n",
    "features_naming = [i[:-2] for i in words2split]\n",
    "split_condition = '|'.join(words2split)\n",
    "\n",
    "\n",
    "# Some emails' subject confuse the string-spliting function, so I make a little change\n",
    "def duplicated_info(i):\n",
    "    return i.replace(' Date: ', ' Date- ').replace(' Subject: ', ' Subject2: ').replace(' To: ',\n",
    "                                                                                        ' To- ').replace(' (Subject: ',\n",
    "                                                                                                         ' (Subject- ')\n",
    "\n",
    "\n",
    "df['pre_info'] = df['pre_info'].map(duplicated_info)\n",
    "\n",
    "\n",
    "# let's check how many categories are there in these emails\n",
    "def num_part(i):\n",
    "    return len(re.split(split_condition, i))\n",
    "\n",
    "\n",
    "df['num_info'] = df['pre_info'].map(num_part)\n",
    "\n",
    "\n",
    "# around 20k emails do not have the 'To: ' category, so I add one\n",
    "def add_to(i):\n",
    "    return i.replace('\\nSubject: ', '\\nTo: \\nSubject: ')\n",
    "\n",
    "\n",
    "temp_condition = (df['num_info'] == 17) | (df['num_info'] == 15)\n",
    "df.loc[temp_condition, 'pre_info'] = df.loc[temp_condition, 'pre_info'].map(add_to)\n",
    "\n",
    "# similar way to deal with the \"Cc:\" and \"Bcc:\" categories\n",
    "temp_condition = (df['num_info'] == 16) | (df['num_info'] == 15)\n",
    "\n",
    "\n",
    "def add_bcc(i):\n",
    "    return i.replace('\\nX-From: ', '\\nBcc: \\nX-From: ')\n",
    "\n",
    "\n",
    "df.loc[temp_condition, 'pre_info'] = df.loc[temp_condition, 'pre_info'].map(add_bcc)\n",
    "\n",
    "\n",
    "def add_cc(i):\n",
    "    return i.replace('\\nMime-Version: ', '\\nCc: \\nMime-Version: ')\n",
    "\n",
    "\n",
    "df.loc[temp_condition, 'pre_info'] = df.loc[temp_condition, 'pre_info'].map(add_cc)\n",
    "\n",
    "df['num_info'] = df['pre_info'].map(num_part)\n",
    "df['num_info'].value_counts()\n",
    "\n",
    "df_remove = df.loc[df['num_info'] != 18].copy()\n",
    "df = df.loc[df['num_info'] == 18].copy()\n",
    "\n",
    "global feature_idx\n",
    "\n",
    "\n",
    "def info_split(i):\n",
    "    ## split the i th part out and remove \\n for the feature\n",
    "    return re.split(split_condition, i)[feature_idx + 1][:-1]\n",
    "\n",
    "\n",
    "def info_split_last(i):\n",
    "    ## no need to remove \\n for last category -- X-FileName\n",
    "    return re.split(split_condition, i)[feature_idx + 1]\n",
    "\n",
    "\n",
    "for feature_idx in range(len(words2split)):\n",
    "    if feature_idx != len(words2split) - 1:\n",
    "        df[features_naming[feature_idx]] = df['pre_info'].map(info_split)\n",
    "    else:\n",
    "        df[features_naming[feature_idx]] = df['pre_info'].map(info_split_last)\n",
    "\n",
    "df_remove2 = df.loc[df['Content-Transfer-Encoding'] == 'text/plain; charset=us-asci']\n",
    "df = df.loc[df['Content-Transfer-Encoding'] != 'text/plain; charset=us-asci']\n",
    "\n",
    "df.loc[df[\"content\"].str.contains(\"-------------\"), \"content\"]\n",
    "\n",
    "\n",
    "def split_other_content(i):\n",
    "    \"\"\"split other forms of contents out\"\"\"\n",
    "    return i.split('-------------', 1)[0]\n",
    "\n",
    "\n",
    "df[\"has_other_content\"] = df[\"content\"].str.contains(\"-------------\")\n",
    "df[\"if_forwarded\"] = df[\"content\"].str.contains(\"------------- Forwarded\")\n",
    "df['content'] = df.content.map(split_other_content)\n",
    "\n",
    "df = df.drop(['pre_info', 'test_true', 'num_info'], axis=1).set_index(\"file\")"
   ],
   "metadata": {
    "collapsed": false,
    "pycharm": {
     "name": "#%%\n"
    }
   }
  },
  {
   "cell_type": "markdown",
   "source": [
    "# Parse what we can from the emails"
   ],
   "metadata": {
    "collapsed": false,
    "pycharm": {
     "name": "#%% md\n"
    }
   }
  },
  {
   "cell_type": "code",
   "execution_count": 10,
   "outputs": [],
   "source": [
    "df['Date'] = pd.to_datetime(df['Date'])\n",
    "df['folder'] = df.index.map(lambda x: x.split('/')[-2])\n",
    "\n",
    "\n",
    "def clean_cc(x):\n",
    "    tokens = [i.strip() for i in x.split(',')]\n",
    "    return ','.join(tokens)\n",
    "\n",
    "\n",
    "df['From'] = df['From'].map(clean_cc).str.lower()\n",
    "df['To'] = df['To'].map(clean_cc).str.lower()\n",
    "df['Cc'] = df['Cc'].map(clean_cc).str.lower()\n",
    "df['Bcc'] = df['Bcc'].map(clean_cc).str.lower()\n",
    "\n",
    "df.drop(columns=['message'], inplace=True)"
   ],
   "metadata": {
    "collapsed": false,
    "pycharm": {
     "name": "#%%\n"
    }
   }
  },
  {
   "cell_type": "code",
   "execution_count": 11,
   "outputs": [
    {
     "data": {
      "text/plain": "                                                                     content  \\\nfile                                                                           \nallen-p/_sent_mail/1.                              Here is our forecast\\n\\n    \nallen-p/_sent_mail/10.     Traveling to have a business meeting takes the...   \nallen-p/_sent_mail/100.                       test successful.  way to go!!!   \nallen-p/_sent_mail/1000.   Randy,\\n\\n Can you send me a schedule of the s...   \nallen-p/_sent_mail/1001.                 Let's shoot for Tuesday at 11:45.     \n...                                                                      ...   \nzufferli-j/sent_items/95.  This is a trade with OIL-SPEC-HEDGE-NG (John L...   \nzufferli-j/sent_items/96.  Some of my position is with the Alberta Term b...   \nzufferli-j/sent_items/97.  2\\n\\n -----Original Message-----\\nFrom: \\tDouc...   \nzufferli-j/sent_items/98.  Analyst\\t\\t\\t\\t\\tRank\\n\\nStephane Brodeur\\t\\t\\...   \nzufferli-j/sent_items/99.  i think the YMCA has a class that is for peopl...   \n\n                                                              Message-ID  \\\nfile                                                                       \nallen-p/_sent_mail/1.      <18782981.1075855378110.JavaMail.evans@thyme>   \nallen-p/_sent_mail/10.     <15464986.1075855378456.JavaMail.evans@thyme>   \nallen-p/_sent_mail/100.    <24216240.1075855687451.JavaMail.evans@thyme>   \nallen-p/_sent_mail/1000.   <13505866.1075863688222.JavaMail.evans@thyme>   \nallen-p/_sent_mail/1001.   <30922949.1075863688243.JavaMail.evans@thyme>   \n...                                                                  ...   \nzufferli-j/sent_items/95.  <26807948.1075842029936.JavaMail.evans@thyme>   \nzufferli-j/sent_items/96.  <25835861.1075842029959.JavaMail.evans@thyme>   \nzufferli-j/sent_items/97.  <28979867.1075842029988.JavaMail.evans@thyme>   \nzufferli-j/sent_items/98.  <22052556.1075842030013.JavaMail.evans@thyme>   \nzufferli-j/sent_items/99.  <28618979.1075842030037.JavaMail.evans@thyme>   \n\n                                                Date                     From  \\\nfile                                                                            \nallen-p/_sent_mail/1.      2001-05-14 16:39:00-07:00  phillip.allen@enron.com   \nallen-p/_sent_mail/10.     2001-05-04 13:51:00-07:00  phillip.allen@enron.com   \nallen-p/_sent_mail/100.    2000-10-18 03:00:00-07:00  phillip.allen@enron.com   \nallen-p/_sent_mail/1000.   2000-10-23 06:13:00-07:00  phillip.allen@enron.com   \nallen-p/_sent_mail/1001.   2000-08-31 05:07:00-07:00  phillip.allen@enron.com   \n...                                              ...                      ...   \nzufferli-j/sent_items/95.  2001-11-28 13:30:11-08:00  john.zufferli@enron.com   \nzufferli-j/sent_items/96.  2001-11-28 12:47:48-08:00  john.zufferli@enron.com   \nzufferli-j/sent_items/97.  2001-11-28 07:20:00-08:00  john.zufferli@enron.com   \nzufferli-j/sent_items/98.  2001-11-27 11:52:45-08:00  john.zufferli@enron.com   \nzufferli-j/sent_items/99.  2001-11-26 10:48:43-08:00  john.zufferli@enron.com   \n\n                                                   To  \\\nfile                                                    \nallen-p/_sent_mail/1.            tim.belden@enron.com   \nallen-p/_sent_mail/10.        john.lavorato@enron.com   \nallen-p/_sent_mail/100.        leah.arsdall@enron.com   \nallen-p/_sent_mail/1000.        randall.gay@enron.com   \nallen-p/_sent_mail/1001.         greg.piper@enron.com   \n...                                               ...   \nzufferli-j/sent_items/95.        kori.loibl@enron.com   \nzufferli-j/sent_items/96.     john.lavorato@enron.com   \nzufferli-j/sent_items/97.       dawn.doucet@enron.com   \nzufferli-j/sent_items/98.      jeanie.slone@enron.com   \nzufferli-j/sent_items/99.  livia_zufferli@monitor.com   \n\n                                             Subject Cc Mime-Version  \\\nfile                                                                   \nallen-p/_sent_mail/1.                                            1.0   \nallen-p/_sent_mail/10.                           Re:             1.0   \nallen-p/_sent_mail/100.                     Re: test             1.0   \nallen-p/_sent_mail/1000.                                         1.0   \nallen-p/_sent_mail/1001.                   Re: Hello             1.0   \n...                                              ... ..          ...   \nzufferli-j/sent_items/95.   Trade with John Lavorato             1.0   \nzufferli-j/sent_items/96.                 Gas Hedges             1.0   \nzufferli-j/sent_items/97.           RE: CONFIDENTIAL             1.0   \nzufferli-j/sent_items/98.  Calgary Analyst/Associate             1.0   \nzufferli-j/sent_items/99.           RE: ali's essays             1.0   \n\n                                           Content-Type  \\\nfile                                                      \nallen-p/_sent_mail/1.      text/plain; charset=us-ascii   \nallen-p/_sent_mail/10.     text/plain; charset=us-ascii   \nallen-p/_sent_mail/100.    text/plain; charset=us-ascii   \nallen-p/_sent_mail/1000.   text/plain; charset=us-ascii   \nallen-p/_sent_mail/1001.   text/plain; charset=us-ascii   \n...                                                 ...   \nzufferli-j/sent_items/95.  text/plain; charset=us-ascii   \nzufferli-j/sent_items/96.  text/plain; charset=us-ascii   \nzufferli-j/sent_items/97.  text/plain; charset=us-ascii   \nzufferli-j/sent_items/98.  text/plain; charset=us-ascii   \nzufferli-j/sent_items/99.  text/plain; charset=us-ascii   \n\n                          Content-Transfer-Encoding  ...  \\\nfile                                                 ...   \nallen-p/_sent_mail/1.                          7bit  ...   \nallen-p/_sent_mail/10.                         7bit  ...   \nallen-p/_sent_mail/100.                        7bit  ...   \nallen-p/_sent_mail/1000.                       7bit  ...   \nallen-p/_sent_mail/1001.                       7bit  ...   \n...                                             ...  ...   \nzufferli-j/sent_items/95.                      7bit  ...   \nzufferli-j/sent_items/96.                      7bit  ...   \nzufferli-j/sent_items/97.                      7bit  ...   \nzufferli-j/sent_items/98.                      7bit  ...   \nzufferli-j/sent_items/99.                      7bit  ...   \n\n                                                                      X-From  \\\nfile                                                                           \nallen-p/_sent_mail/1.                                        Phillip K Allen   \nallen-p/_sent_mail/10.                                       Phillip K Allen   \nallen-p/_sent_mail/100.                                      Phillip K Allen   \nallen-p/_sent_mail/1000.                                     Phillip K Allen   \nallen-p/_sent_mail/1001.                                     Phillip K Allen   \n...                                                                      ...   \nzufferli-j/sent_items/95.  Zufferli, John </O=ENRON/OU=NA/CN=RECIPIENTS/C...   \nzufferli-j/sent_items/96.  Zufferli, John </O=ENRON/OU=NA/CN=RECIPIENTS/C...   \nzufferli-j/sent_items/97.  Zufferli, John </O=ENRON/OU=NA/CN=RECIPIENTS/C...   \nzufferli-j/sent_items/98.  Zufferli, John </O=ENRON/OU=NA/CN=RECIPIENTS/C...   \nzufferli-j/sent_items/99.  Zufferli, John </O=ENRON/OU=NA/CN=RECIPIENTS/C...   \n\n                                                                        X-To  \\\nfile                                                                           \nallen-p/_sent_mail/1.               Tim Belden <Tim Belden/Enron@EnronXGate>   \nallen-p/_sent_mail/10.     John J Lavorato <John J Lavorato/ENRON@enronXg...   \nallen-p/_sent_mail/100.                                     Leah Van Arsdall   \nallen-p/_sent_mail/1000.                                       Randall L Gay   \nallen-p/_sent_mail/1001.                                          Greg Piper   \n...                                                                      ...   \nzufferli-j/sent_items/95.  Loibl, Kori </O=ENRON/OU=NA/CN=RECIPIENTS/CN=K...   \nzufferli-j/sent_items/96.  Lavorato, John </O=ENRON/OU=NA/CN=RECIPIENTS/C...   \nzufferli-j/sent_items/97.  Doucet, Dawn </O=ENRON/OU=NA/CN=RECIPIENTS/CN=...   \nzufferli-j/sent_items/98.  Slone, Jeanie </O=ENRON/OU=NA/CN=RECIPIENTS/CN...   \nzufferli-j/sent_items/99.                 'Livia_Zufferli@Monitor.com@ENRON'   \n\n                          X-cc X-bcc  \\\nfile                                   \nallen-p/_sent_mail/1.                  \nallen-p/_sent_mail/10.                 \nallen-p/_sent_mail/100.                \nallen-p/_sent_mail/1000.               \nallen-p/_sent_mail/1001.               \n...                        ...   ...   \nzufferli-j/sent_items/95.              \nzufferli-j/sent_items/96.              \nzufferli-j/sent_items/97.              \nzufferli-j/sent_items/98.              \nzufferli-j/sent_items/99.              \n\n                                                                    X-Folder  \\\nfile                                                                           \nallen-p/_sent_mail/1.      \\Phillip_Allen_Jan2002_1\\Allen, Phillip K.\\'Se...   \nallen-p/_sent_mail/10.     \\Phillip_Allen_Jan2002_1\\Allen, Phillip K.\\'Se...   \nallen-p/_sent_mail/100.      \\Phillip_Allen_Dec2000\\Notes Folders\\'sent mail   \nallen-p/_sent_mail/1000.     \\Phillip_Allen_Dec2000\\Notes Folders\\'sent mail   \nallen-p/_sent_mail/1001.     \\Phillip_Allen_Dec2000\\Notes Folders\\'sent mail   \n...                                                                      ...   \nzufferli-j/sent_items/95.               \\ExMerge - Zufferli, John\\Sent Items   \nzufferli-j/sent_items/96.               \\ExMerge - Zufferli, John\\Sent Items   \nzufferli-j/sent_items/97.               \\ExMerge - Zufferli, John\\Sent Items   \nzufferli-j/sent_items/98.               \\ExMerge - Zufferli, John\\Sent Items   \nzufferli-j/sent_items/99.               \\ExMerge - Zufferli, John\\Sent Items   \n\n                             X-Origin                   X-FileName  \\\nfile                                                                 \nallen-p/_sent_mail/1.         Allen-P  pallen (Non-Privileged).pst   \nallen-p/_sent_mail/10.        Allen-P  pallen (Non-Privileged).pst   \nallen-p/_sent_mail/100.       Allen-P                   pallen.nsf   \nallen-p/_sent_mail/1000.      Allen-P                   pallen.nsf   \nallen-p/_sent_mail/1001.      Allen-P                   pallen.nsf   \n...                               ...                          ...   \nzufferli-j/sent_items/95.  ZUFFERLI-J    john zufferli 6-26-02.PST   \nzufferli-j/sent_items/96.  ZUFFERLI-J    john zufferli 6-26-02.PST   \nzufferli-j/sent_items/97.  ZUFFERLI-J    john zufferli 6-26-02.PST   \nzufferli-j/sent_items/98.  ZUFFERLI-J    john zufferli 6-26-02.PST   \nzufferli-j/sent_items/99.  ZUFFERLI-J    john zufferli 6-26-02.PST   \n\n                          has_other_content  if_forwarded      folder  \nfile                                                                   \nallen-p/_sent_mail/1.                 False         False  _sent_mail  \nallen-p/_sent_mail/10.                False         False  _sent_mail  \nallen-p/_sent_mail/100.               False         False  _sent_mail  \nallen-p/_sent_mail/1000.              False         False  _sent_mail  \nallen-p/_sent_mail/1001.              False         False  _sent_mail  \n...                                     ...           ...         ...  \nzufferli-j/sent_items/95.             False         False  sent_items  \nzufferli-j/sent_items/96.             False         False  sent_items  \nzufferli-j/sent_items/97.             False         False  sent_items  \nzufferli-j/sent_items/98.             False         False  sent_items  \nzufferli-j/sent_items/99.             False         False  sent_items  \n\n[517398 rows x 21 columns]",
      "text/html": "<div>\n<style scoped>\n    .dataframe tbody tr th:only-of-type {\n        vertical-align: middle;\n    }\n\n    .dataframe tbody tr th {\n        vertical-align: top;\n    }\n\n    .dataframe thead th {\n        text-align: right;\n    }\n</style>\n<table border=\"1\" class=\"dataframe\">\n  <thead>\n    <tr style=\"text-align: right;\">\n      <th></th>\n      <th>content</th>\n      <th>Message-ID</th>\n      <th>Date</th>\n      <th>From</th>\n      <th>To</th>\n      <th>Subject</th>\n      <th>Cc</th>\n      <th>Mime-Version</th>\n      <th>Content-Type</th>\n      <th>Content-Transfer-Encoding</th>\n      <th>...</th>\n      <th>X-From</th>\n      <th>X-To</th>\n      <th>X-cc</th>\n      <th>X-bcc</th>\n      <th>X-Folder</th>\n      <th>X-Origin</th>\n      <th>X-FileName</th>\n      <th>has_other_content</th>\n      <th>if_forwarded</th>\n      <th>folder</th>\n    </tr>\n    <tr>\n      <th>file</th>\n      <th></th>\n      <th></th>\n      <th></th>\n      <th></th>\n      <th></th>\n      <th></th>\n      <th></th>\n      <th></th>\n      <th></th>\n      <th></th>\n      <th></th>\n      <th></th>\n      <th></th>\n      <th></th>\n      <th></th>\n      <th></th>\n      <th></th>\n      <th></th>\n      <th></th>\n      <th></th>\n      <th></th>\n    </tr>\n  </thead>\n  <tbody>\n    <tr>\n      <th>allen-p/_sent_mail/1.</th>\n      <td>Here is our forecast\\n\\n</td>\n      <td>&lt;18782981.1075855378110.JavaMail.evans@thyme&gt;</td>\n      <td>2001-05-14 16:39:00-07:00</td>\n      <td>phillip.allen@enron.com</td>\n      <td>tim.belden@enron.com</td>\n      <td></td>\n      <td></td>\n      <td>1.0</td>\n      <td>text/plain; charset=us-ascii</td>\n      <td>7bit</td>\n      <td>...</td>\n      <td>Phillip K Allen</td>\n      <td>Tim Belden &lt;Tim Belden/Enron@EnronXGate&gt;</td>\n      <td></td>\n      <td></td>\n      <td>\\Phillip_Allen_Jan2002_1\\Allen, Phillip K.\\'Se...</td>\n      <td>Allen-P</td>\n      <td>pallen (Non-Privileged).pst</td>\n      <td>False</td>\n      <td>False</td>\n      <td>_sent_mail</td>\n    </tr>\n    <tr>\n      <th>allen-p/_sent_mail/10.</th>\n      <td>Traveling to have a business meeting takes the...</td>\n      <td>&lt;15464986.1075855378456.JavaMail.evans@thyme&gt;</td>\n      <td>2001-05-04 13:51:00-07:00</td>\n      <td>phillip.allen@enron.com</td>\n      <td>john.lavorato@enron.com</td>\n      <td>Re:</td>\n      <td></td>\n      <td>1.0</td>\n      <td>text/plain; charset=us-ascii</td>\n      <td>7bit</td>\n      <td>...</td>\n      <td>Phillip K Allen</td>\n      <td>John J Lavorato &lt;John J Lavorato/ENRON@enronXg...</td>\n      <td></td>\n      <td></td>\n      <td>\\Phillip_Allen_Jan2002_1\\Allen, Phillip K.\\'Se...</td>\n      <td>Allen-P</td>\n      <td>pallen (Non-Privileged).pst</td>\n      <td>False</td>\n      <td>False</td>\n      <td>_sent_mail</td>\n    </tr>\n    <tr>\n      <th>allen-p/_sent_mail/100.</th>\n      <td>test successful.  way to go!!!</td>\n      <td>&lt;24216240.1075855687451.JavaMail.evans@thyme&gt;</td>\n      <td>2000-10-18 03:00:00-07:00</td>\n      <td>phillip.allen@enron.com</td>\n      <td>leah.arsdall@enron.com</td>\n      <td>Re: test</td>\n      <td></td>\n      <td>1.0</td>\n      <td>text/plain; charset=us-ascii</td>\n      <td>7bit</td>\n      <td>...</td>\n      <td>Phillip K Allen</td>\n      <td>Leah Van Arsdall</td>\n      <td></td>\n      <td></td>\n      <td>\\Phillip_Allen_Dec2000\\Notes Folders\\'sent mail</td>\n      <td>Allen-P</td>\n      <td>pallen.nsf</td>\n      <td>False</td>\n      <td>False</td>\n      <td>_sent_mail</td>\n    </tr>\n    <tr>\n      <th>allen-p/_sent_mail/1000.</th>\n      <td>Randy,\\n\\n Can you send me a schedule of the s...</td>\n      <td>&lt;13505866.1075863688222.JavaMail.evans@thyme&gt;</td>\n      <td>2000-10-23 06:13:00-07:00</td>\n      <td>phillip.allen@enron.com</td>\n      <td>randall.gay@enron.com</td>\n      <td></td>\n      <td></td>\n      <td>1.0</td>\n      <td>text/plain; charset=us-ascii</td>\n      <td>7bit</td>\n      <td>...</td>\n      <td>Phillip K Allen</td>\n      <td>Randall L Gay</td>\n      <td></td>\n      <td></td>\n      <td>\\Phillip_Allen_Dec2000\\Notes Folders\\'sent mail</td>\n      <td>Allen-P</td>\n      <td>pallen.nsf</td>\n      <td>False</td>\n      <td>False</td>\n      <td>_sent_mail</td>\n    </tr>\n    <tr>\n      <th>allen-p/_sent_mail/1001.</th>\n      <td>Let's shoot for Tuesday at 11:45.</td>\n      <td>&lt;30922949.1075863688243.JavaMail.evans@thyme&gt;</td>\n      <td>2000-08-31 05:07:00-07:00</td>\n      <td>phillip.allen@enron.com</td>\n      <td>greg.piper@enron.com</td>\n      <td>Re: Hello</td>\n      <td></td>\n      <td>1.0</td>\n      <td>text/plain; charset=us-ascii</td>\n      <td>7bit</td>\n      <td>...</td>\n      <td>Phillip K Allen</td>\n      <td>Greg Piper</td>\n      <td></td>\n      <td></td>\n      <td>\\Phillip_Allen_Dec2000\\Notes Folders\\'sent mail</td>\n      <td>Allen-P</td>\n      <td>pallen.nsf</td>\n      <td>False</td>\n      <td>False</td>\n      <td>_sent_mail</td>\n    </tr>\n    <tr>\n      <th>...</th>\n      <td>...</td>\n      <td>...</td>\n      <td>...</td>\n      <td>...</td>\n      <td>...</td>\n      <td>...</td>\n      <td>...</td>\n      <td>...</td>\n      <td>...</td>\n      <td>...</td>\n      <td>...</td>\n      <td>...</td>\n      <td>...</td>\n      <td>...</td>\n      <td>...</td>\n      <td>...</td>\n      <td>...</td>\n      <td>...</td>\n      <td>...</td>\n      <td>...</td>\n      <td>...</td>\n    </tr>\n    <tr>\n      <th>zufferli-j/sent_items/95.</th>\n      <td>This is a trade with OIL-SPEC-HEDGE-NG (John L...</td>\n      <td>&lt;26807948.1075842029936.JavaMail.evans@thyme&gt;</td>\n      <td>2001-11-28 13:30:11-08:00</td>\n      <td>john.zufferli@enron.com</td>\n      <td>kori.loibl@enron.com</td>\n      <td>Trade with John Lavorato</td>\n      <td></td>\n      <td>1.0</td>\n      <td>text/plain; charset=us-ascii</td>\n      <td>7bit</td>\n      <td>...</td>\n      <td>Zufferli, John &lt;/O=ENRON/OU=NA/CN=RECIPIENTS/C...</td>\n      <td>Loibl, Kori &lt;/O=ENRON/OU=NA/CN=RECIPIENTS/CN=K...</td>\n      <td></td>\n      <td></td>\n      <td>\\ExMerge - Zufferli, John\\Sent Items</td>\n      <td>ZUFFERLI-J</td>\n      <td>john zufferli 6-26-02.PST</td>\n      <td>False</td>\n      <td>False</td>\n      <td>sent_items</td>\n    </tr>\n    <tr>\n      <th>zufferli-j/sent_items/96.</th>\n      <td>Some of my position is with the Alberta Term b...</td>\n      <td>&lt;25835861.1075842029959.JavaMail.evans@thyme&gt;</td>\n      <td>2001-11-28 12:47:48-08:00</td>\n      <td>john.zufferli@enron.com</td>\n      <td>john.lavorato@enron.com</td>\n      <td>Gas Hedges</td>\n      <td></td>\n      <td>1.0</td>\n      <td>text/plain; charset=us-ascii</td>\n      <td>7bit</td>\n      <td>...</td>\n      <td>Zufferli, John &lt;/O=ENRON/OU=NA/CN=RECIPIENTS/C...</td>\n      <td>Lavorato, John &lt;/O=ENRON/OU=NA/CN=RECIPIENTS/C...</td>\n      <td></td>\n      <td></td>\n      <td>\\ExMerge - Zufferli, John\\Sent Items</td>\n      <td>ZUFFERLI-J</td>\n      <td>john zufferli 6-26-02.PST</td>\n      <td>False</td>\n      <td>False</td>\n      <td>sent_items</td>\n    </tr>\n    <tr>\n      <th>zufferli-j/sent_items/97.</th>\n      <td>2\\n\\n -----Original Message-----\\nFrom: \\tDouc...</td>\n      <td>&lt;28979867.1075842029988.JavaMail.evans@thyme&gt;</td>\n      <td>2001-11-28 07:20:00-08:00</td>\n      <td>john.zufferli@enron.com</td>\n      <td>dawn.doucet@enron.com</td>\n      <td>RE: CONFIDENTIAL</td>\n      <td></td>\n      <td>1.0</td>\n      <td>text/plain; charset=us-ascii</td>\n      <td>7bit</td>\n      <td>...</td>\n      <td>Zufferli, John &lt;/O=ENRON/OU=NA/CN=RECIPIENTS/C...</td>\n      <td>Doucet, Dawn &lt;/O=ENRON/OU=NA/CN=RECIPIENTS/CN=...</td>\n      <td></td>\n      <td></td>\n      <td>\\ExMerge - Zufferli, John\\Sent Items</td>\n      <td>ZUFFERLI-J</td>\n      <td>john zufferli 6-26-02.PST</td>\n      <td>False</td>\n      <td>False</td>\n      <td>sent_items</td>\n    </tr>\n    <tr>\n      <th>zufferli-j/sent_items/98.</th>\n      <td>Analyst\\t\\t\\t\\t\\tRank\\n\\nStephane Brodeur\\t\\t\\...</td>\n      <td>&lt;22052556.1075842030013.JavaMail.evans@thyme&gt;</td>\n      <td>2001-11-27 11:52:45-08:00</td>\n      <td>john.zufferli@enron.com</td>\n      <td>jeanie.slone@enron.com</td>\n      <td>Calgary Analyst/Associate</td>\n      <td></td>\n      <td>1.0</td>\n      <td>text/plain; charset=us-ascii</td>\n      <td>7bit</td>\n      <td>...</td>\n      <td>Zufferli, John &lt;/O=ENRON/OU=NA/CN=RECIPIENTS/C...</td>\n      <td>Slone, Jeanie &lt;/O=ENRON/OU=NA/CN=RECIPIENTS/CN...</td>\n      <td></td>\n      <td></td>\n      <td>\\ExMerge - Zufferli, John\\Sent Items</td>\n      <td>ZUFFERLI-J</td>\n      <td>john zufferli 6-26-02.PST</td>\n      <td>False</td>\n      <td>False</td>\n      <td>sent_items</td>\n    </tr>\n    <tr>\n      <th>zufferli-j/sent_items/99.</th>\n      <td>i think the YMCA has a class that is for peopl...</td>\n      <td>&lt;28618979.1075842030037.JavaMail.evans@thyme&gt;</td>\n      <td>2001-11-26 10:48:43-08:00</td>\n      <td>john.zufferli@enron.com</td>\n      <td>livia_zufferli@monitor.com</td>\n      <td>RE: ali's essays</td>\n      <td></td>\n      <td>1.0</td>\n      <td>text/plain; charset=us-ascii</td>\n      <td>7bit</td>\n      <td>...</td>\n      <td>Zufferli, John &lt;/O=ENRON/OU=NA/CN=RECIPIENTS/C...</td>\n      <td>'Livia_Zufferli@Monitor.com@ENRON'</td>\n      <td></td>\n      <td></td>\n      <td>\\ExMerge - Zufferli, John\\Sent Items</td>\n      <td>ZUFFERLI-J</td>\n      <td>john zufferli 6-26-02.PST</td>\n      <td>False</td>\n      <td>False</td>\n      <td>sent_items</td>\n    </tr>\n  </tbody>\n</table>\n<p>517398 rows × 21 columns</p>\n</div>"
     },
     "execution_count": 11,
     "metadata": {},
     "output_type": "execute_result"
    }
   ],
   "source": [
    "df"
   ],
   "metadata": {
    "collapsed": false,
    "pycharm": {
     "name": "#%%\n"
    }
   }
  },
  {
   "cell_type": "code",
   "execution_count": 13,
   "outputs": [],
   "source": [
    "df.to_parquet('../../data/tmp/emails.parquet')"
   ],
   "metadata": {
    "collapsed": false,
    "pycharm": {
     "name": "#%%\n"
    }
   }
  },
  {
   "cell_type": "markdown",
   "source": [
    "# Convert back to spark dataframe"
   ],
   "metadata": {
    "collapsed": false,
    "pycharm": {
     "name": "#%% md\n"
    }
   }
  },
  {
   "cell_type": "code",
   "execution_count": 14,
   "outputs": [
    {
     "name": "stderr",
     "output_type": "stream",
     "text": [
      "22/01/22 22:24:23 WARN Utils: Your hostname, megatron resolves to a loopback address: 127.0.1.1; using 192.168.1.89 instead (on interface enp7s0)\n",
      "22/01/22 22:24:23 WARN Utils: Set SPARK_LOCAL_IP if you need to bind to another address\n",
      "Using Spark's default log4j profile: org/apache/spark/log4j-defaults.properties\n",
      "Setting default log level to \"WARN\".\n",
      "To adjust logging level use sc.setLogLevel(newLevel). For SparkR, use setLogLevel(newLevel).\n",
      "22/01/22 22:24:24 WARN NativeCodeLoader: Unable to load native-hadoop library for your platform... using builtin-java classes where applicable\n",
      "22/01/22 22:24:25 WARN Utils: Service 'SparkUI' could not bind on port 4040. Attempting port 4041.\n",
      "22/01/22 22:24:25 WARN Utils: Service 'SparkUI' could not bind on port 4041. Attempting port 4042.\n",
      "22/01/22 22:24:25 WARN Utils: Service 'SparkUI' could not bind on port 4042. Attempting port 4043.\n",
      "22/01/22 22:24:25 WARN Utils: Service 'SparkUI' could not bind on port 4043. Attempting port 4044.\n",
      "22/01/22 22:24:25 WARN Utils: Service 'SparkUI' could not bind on port 4044. Attempting port 4045.\n"
     ]
    }
   ],
   "source": [
    "spark = (SparkSession.builder\n",
    "         .appName(f'{DATASET}_preprocess')\n",
    "         .config('spark.sql.legacy.timeParserPolicy', 'LEGACY')\n",
    "         .config(\"spark.executor.memory\", \"8g\")\n",
    "         .config(\"spark.driver.memory\", \"8g\")\n",
    "         .config(\"spark.memory.offHeap.enabled\", True)\n",
    "         .config(\"spark.memory.offHeap.size\", \"16g\")\n",
    "         .getOrCreate())"
   ],
   "metadata": {
    "collapsed": false,
    "pycharm": {
     "name": "#%%\n"
    }
   }
  },
  {
   "cell_type": "code",
   "execution_count": 15,
   "outputs": [
    {
     "name": "stderr",
     "output_type": "stream",
     "text": [
      "                                                                                \r"
     ]
    }
   ],
   "source": [
    "df = spark.read.parquet('../../data/tmp/emails.parquet')"
   ],
   "metadata": {
    "collapsed": false,
    "pycharm": {
     "name": "#%%\n"
    }
   }
  },
  {
   "cell_type": "code",
   "execution_count": 16,
   "outputs": [],
   "source": [
    "df = (\n",
    "    df\n",
    "        .withColumn('To', F.regexp_replace(F.col('To'), '\"', ''))\n",
    "        .withColumn('From', F.regexp_replace(F.col('From'), '\"', ''))\n",
    "        .withColumn('Cc', F.regexp_replace(F.col('Cc'), '\"', ''))\n",
    "        .withColumn('Bcc', F.regexp_replace(F.col('Bcc'), '\"', ''))\n",
    ")"
   ],
   "metadata": {
    "collapsed": false,
    "pycharm": {
     "name": "#%%\n"
    }
   }
  },
  {
   "cell_type": "code",
   "execution_count": 17,
   "outputs": [
    {
     "name": "stderr",
     "output_type": "stream",
     "text": [
      "                                                                                \r"
     ]
    },
    {
     "data": {
      "text/plain": "[Row(content='Here is our forecast\\n\\n ', Message-ID='<18782981.1075855378110.JavaMail.evans@thyme>', Date=datetime.datetime(2001, 5, 15, 1, 39), From='phillip.allen@enron.com', To='tim.belden@enron.com', Subject='', Cc='', Mime-Version='1.0', Content-Type='text/plain; charset=us-ascii', Content-Transfer-Encoding='7bit', Bcc='', X-From='Phillip K Allen', X-To='Tim Belden <Tim Belden/Enron@EnronXGate>', X-cc='', X-bcc='', X-Folder=\"\\\\Phillip_Allen_Jan2002_1\\\\Allen, Phillip K.\\\\'Sent Mail\", X-Origin='Allen-P', X-FileName='pallen (Non-Privileged).pst', has_other_content=False, if_forwarded=False, folder='_sent_mail', file='allen-p/_sent_mail/1.'),\n Row(content=\"Traveling to have a business meeting takes the fun out of the trip.  Especially if you have to prepare a presentation.  I would suggest holding the business plan meetings here then take a trip without any formal business meetings.  I would even try and get some honest opinions on whether a trip is even desired or necessary.\\n\\nAs far as the business meetings, I think it would be more productive to try and stimulate discussions across the different groups about what is working and what is not.  Too often the presenter speaks and the others are quiet just waiting for their turn.   The meetings might be better if held in a round table discussion format.  \\n\\nMy suggestion for where to go is Austin.  Play golf and rent a ski boat and jet ski's.  Flying somewhere takes too much time.\\n\", Message-ID='<15464986.1075855378456.JavaMail.evans@thyme>', Date=datetime.datetime(2001, 5, 4, 22, 51), From='phillip.allen@enron.com', To='john.lavorato@enron.com', Subject='Re:', Cc='', Mime-Version='1.0', Content-Type='text/plain; charset=us-ascii', Content-Transfer-Encoding='7bit', Bcc='', X-From='Phillip K Allen', X-To='John J Lavorato <John J Lavorato/ENRON@enronXgate@ENRON>', X-cc='', X-bcc='', X-Folder=\"\\\\Phillip_Allen_Jan2002_1\\\\Allen, Phillip K.\\\\'Sent Mail\", X-Origin='Allen-P', X-FileName='pallen (Non-Privileged).pst', has_other_content=False, if_forwarded=False, folder='_sent_mail', file='allen-p/_sent_mail/10.'),\n Row(content='test successful.  way to go!!!', Message-ID='<24216240.1075855687451.JavaMail.evans@thyme>', Date=datetime.datetime(2000, 10, 18, 12, 0), From='phillip.allen@enron.com', To='leah.arsdall@enron.com', Subject='Re: test', Cc='', Mime-Version='1.0', Content-Type='text/plain; charset=us-ascii', Content-Transfer-Encoding='7bit', Bcc='', X-From='Phillip K Allen', X-To='Leah Van Arsdall', X-cc='', X-bcc='', X-Folder=\"\\\\Phillip_Allen_Dec2000\\\\Notes Folders\\\\'sent mail\", X-Origin='Allen-P', X-FileName='pallen.nsf', has_other_content=False, if_forwarded=False, folder='_sent_mail', file='allen-p/_sent_mail/100.'),\n Row(content='Randy,\\n\\n Can you send me a schedule of the salary and level of everyone in the \\nscheduling group.  Plus your thoughts on any changes that need to be made.  \\n(Patti S for example)\\n\\nPhillip', Message-ID='<13505866.1075863688222.JavaMail.evans@thyme>', Date=datetime.datetime(2000, 10, 23, 15, 13), From='phillip.allen@enron.com', To='randall.gay@enron.com', Subject='', Cc='', Mime-Version='1.0', Content-Type='text/plain; charset=us-ascii', Content-Transfer-Encoding='7bit', Bcc='', X-From='Phillip K Allen', X-To='Randall L Gay', X-cc='', X-bcc='', X-Folder=\"\\\\Phillip_Allen_Dec2000\\\\Notes Folders\\\\'sent mail\", X-Origin='Allen-P', X-FileName='pallen.nsf', has_other_content=False, if_forwarded=False, folder='_sent_mail', file='allen-p/_sent_mail/1000.'),\n Row(content=\"Let's shoot for Tuesday at 11:45.  \", Message-ID='<30922949.1075863688243.JavaMail.evans@thyme>', Date=datetime.datetime(2000, 8, 31, 14, 7), From='phillip.allen@enron.com', To='greg.piper@enron.com', Subject='Re: Hello', Cc='', Mime-Version='1.0', Content-Type='text/plain; charset=us-ascii', Content-Transfer-Encoding='7bit', Bcc='', X-From='Phillip K Allen', X-To='Greg Piper', X-cc='', X-bcc='', X-Folder=\"\\\\Phillip_Allen_Dec2000\\\\Notes Folders\\\\'sent mail\", X-Origin='Allen-P', X-FileName='pallen.nsf', has_other_content=False, if_forwarded=False, folder='_sent_mail', file='allen-p/_sent_mail/1001.')]"
     },
     "execution_count": 17,
     "metadata": {},
     "output_type": "execute_result"
    }
   ],
   "source": [
    "df.head(5)"
   ],
   "metadata": {
    "collapsed": false,
    "pycharm": {
     "name": "#%%\n"
    }
   }
  },
  {
   "cell_type": "code",
   "execution_count": 18,
   "outputs": [
    {
     "name": "stderr",
     "output_type": "stream",
     "text": [
      "                                                                                \r"
     ]
    },
    {
     "data": {
      "text/plain": "87678"
     },
     "execution_count": 18,
     "metadata": {},
     "output_type": "execute_result"
    }
   ],
   "source": [
    "df_nodes_users = (\n",
    "    df.select(\n",
    "        F.explode(F.concat(\n",
    "            (F.split(F.col('To'), ',')),\n",
    "            (F.split(F.col('From'), ',')),\n",
    "            (F.split(F.col('Cc'), ',')),\n",
    "            (F.split(F.col('Bcc'), ',')),\n",
    "        )).alias('email')\n",
    "    )\n",
    "        .distinct()\n",
    "        .filter(\"email != ''\")\n",
    "        .withColumn('is_internal', F.col('email').like('%enron%'))\n",
    "        .withColumn('id', F.col('email'))\n",
    "        .dropDuplicates(['id'])\n",
    ")\n",
    "df_nodes_users.count()"
   ],
   "metadata": {
    "collapsed": false,
    "pycharm": {
     "name": "#%%\n"
    }
   }
  },
  {
   "cell_type": "code",
   "execution_count": 19,
   "outputs": [
    {
     "name": "stderr",
     "output_type": "stream",
     "text": [
      "                                                                                \r"
     ]
    },
    {
     "data": {
      "text/plain": "[Row(email='#2.martin@enron.com', is_internal=True, id='#2.martin@enron.com'),\n Row(email='#23.training@enron.com', is_internal=True, id='#23.training@enron.com'),\n Row(email='#24.training@enron.com', is_internal=True, id='#24.training@enron.com'),\n Row(email='#25.training@enron.com', is_internal=True, id='#25.training@enron.com'),\n Row(email='#26.training@enron.com', is_internal=True, id='#26.training@enron.com'),\n Row(email='#28.training@enron.com', is_internal=True, id='#28.training@enron.com'),\n Row(email='#29.training@enron.com', is_internal=True, id='#29.training@enron.com'),\n Row(email='#30.training@enron.com', is_internal=True, id='#30.training@enron.com'),\n Row(email=\"''blanchard@enron.com\", is_internal=True, id=\"''blanchard@enron.com\"),\n Row(email=\"''collins@enron.com\", is_internal=True, id=\"''collins@enron.com\"),\n Row(email=\"''hunt@enron.com\", is_internal=True, id=\"''hunt@enron.com\"),\n Row(email=\"'.''ann@enron.com\", is_internal=True, id=\"'.''ann@enron.com\"),\n Row(email=\"'.''art@enron.com\", is_internal=True, id=\"'.''art@enron.com\"),\n Row(email=\"'.''barbara@enron.com\", is_internal=True, id=\"'.''barbara@enron.com\"),\n Row(email=\"'.''bill@enron.com\", is_internal=True, id=\"'.''bill@enron.com\"),\n Row(email=\"'.''derek@enron.com\", is_internal=True, id=\"'.''derek@enron.com\"),\n Row(email=\"'.''diana@enron.com\", is_internal=True, id=\"'.''diana@enron.com\"),\n Row(email=\"'.''dominic@enron.com\", is_internal=True, id=\"'.''dominic@enron.com\"),\n Row(email=\"'.''dorothy@enron.com\", is_internal=True, id=\"'.''dorothy@enron.com\"),\n Row(email=\"'.''evelyn@enron.com\", is_internal=True, id=\"'.''evelyn@enron.com\")]"
     },
     "execution_count": 19,
     "metadata": {},
     "output_type": "execute_result"
    }
   ],
   "source": [
    "df_nodes_users.head(20)"
   ],
   "metadata": {
    "collapsed": false,
    "pycharm": {
     "name": "#%%\n"
    }
   }
  },
  {
   "cell_type": "code",
   "execution_count": 20,
   "outputs": [
    {
     "name": "stderr",
     "output_type": "stream",
     "text": [
      "                                                                                \r"
     ]
    },
    {
     "data": {
      "text/plain": "517398"
     },
     "execution_count": 20,
     "metadata": {},
     "output_type": "execute_result"
    }
   ],
   "source": [
    "df_nodes_emails = (\n",
    "    df.select(\n",
    "        F.col('Message-ID').alias('id'),\n",
    "        F.col('content'),\n",
    "        F.col('From').like('%enron%').alias('is_internal'),\n",
    "        F.split(F.col('From'), ',').alias('From'),\n",
    "        F.split(F.col('To'), ',').alias('To'),\n",
    "        F.split(F.col('Cc'), ',').alias('Cc'),\n",
    "        F.split(F.col('Bcc'), ',').alias('Bcc'),\n",
    "        F.col('Date'),\n",
    "        F.col('Subject'),\n",
    "        F.col('folder'),\n",
    "        F.col('if_forwarded'),\n",
    "    ).distinct()\n",
    "    .dropDuplicates(['id'])\n",
    ")\n",
    "df_nodes_emails.count()"
   ],
   "metadata": {
    "collapsed": false,
    "pycharm": {
     "name": "#%%\n"
    }
   }
  },
  {
   "cell_type": "code",
   "execution_count": 21,
   "outputs": [
    {
     "name": "stderr",
     "output_type": "stream",
     "text": [
      "                                                                                \r"
     ]
    },
    {
     "name": "stdout",
     "output_type": "stream",
     "text": [
      "517398\n"
     ]
    },
    {
     "name": "stderr",
     "output_type": "stream",
     "text": [
      "                                                                                \r"
     ]
    },
    {
     "name": "stdout",
     "output_type": "stream",
     "text": [
      "3101175\n"
     ]
    },
    {
     "name": "stderr",
     "output_type": "stream",
     "text": [
      "[Stage 41:====================================================>   (16 + 1) / 17]\r"
     ]
    },
    {
     "name": "stdout",
     "output_type": "stream",
     "text": [
      "561305\n"
     ]
    },
    {
     "name": "stderr",
     "output_type": "stream",
     "text": [
      "                                                                                \r"
     ]
    }
   ],
   "source": [
    "df_edges_from = (\n",
    "    df_nodes_emails.select(\n",
    "        F.explode(F.col('From')).alias('src'),\n",
    "        F.col('id').alias('dst'),\n",
    "        F.lit(1).alias('weight'),\n",
    "    ).filter(\"src != ''\").distinct()\n",
    ")\n",
    "print(df_edges_from.count())\n",
    "\n",
    "df_edges_to = (\n",
    "    df_nodes_emails.select(\n",
    "        F.explode(F.col('To')).alias('src'),\n",
    "        F.col('id').alias('dst'),\n",
    "        F.lit(1).alias('weight'),\n",
    "    ).filter(\"src != ''\").distinct()\n",
    ")\n",
    "print(df_edges_to.count())\n",
    "\n",
    "df_edges_cc = (\n",
    "    df_nodes_emails.select(\n",
    "        F.explode(F.col('Cc')).alias('src'),\n",
    "        F.col('id').alias('dst'),\n",
    "        F.lit(1).alias('weight'),\n",
    "    ).filter(\"src != ''\").distinct()\n",
    ")\n",
    "print(df_edges_cc.count())\n",
    "\n",
    "# df_edges_bcc = (\n",
    "#     df_nodes_emails.select(\n",
    "#         F.explode(F.split(F.col('Bcc'), ',')).alias('src'),\n",
    "#         F.col('id').alias('dst'),\n",
    "#         F.lit(1).alias('weight'),\n",
    "#     ).filter(\"src != ''\").distinct()\n",
    "# )\n",
    "# print(df_edges_bcc.count())"
   ],
   "metadata": {
    "collapsed": false,
    "pycharm": {
     "name": "#%%\n"
    }
   }
  },
  {
   "cell_type": "code",
   "execution_count": 22,
   "outputs": [
    {
     "name": "stderr",
     "output_type": "stream",
     "text": [
      "                                                                                \r"
     ]
    }
   ],
   "source": [
    "df_nodes_users.write.parquet(DATASET.processed_str('nodes_User'), mode='overwrite')\n",
    "df_nodes_emails.write.parquet(DATASET.processed_str('nodes_Email'), mode='overwrite')\n",
    "\n",
    "df_edges_from.write.parquet(DATASET.processed_str('edges_SENT'), mode='overwrite')\n",
    "df_edges_to.write.parquet(DATASET.processed_str('edges_ADDRESSED_TO'), mode='overwrite')\n",
    "df_edges_cc.write.parquet(DATASET.processed_str('edges_ADDRESSED_CC'), mode='overwrite')"
   ],
   "metadata": {
    "collapsed": false,
    "pycharm": {
     "name": "#%%\n"
    }
   }
  },
  {
   "cell_type": "code",
   "execution_count": 26,
   "outputs": [
    {
     "data": {
      "text/plain": "GraphSchema(_path=PosixPath('/dd_volume/Development/Python/Thesis/code/datasets/data/processed/enron-mail-20150507'), nodes={'User': NodeSchema(_type='User', _schema=..., label='email', properties={'email': GraphProperty(_name='email', dtype=DType(atomic=<DTypeAtomic.STRING: 'string'>, array=False)), 'is_internal': GraphProperty(_name='is_internal', dtype=DType(atomic=<DTypeAtomic.BOOL: 'boolean'>, array=False)), 'id': GraphProperty(_name='id', dtype=DType(atomic=<DTypeAtomic.STRING: 'string'>, array=False))}, dynamic=None), 'Email': NodeSchema(_type='Email', _schema=..., label='Subject', properties={'id': GraphProperty(_name='id', dtype=DType(atomic=<DTypeAtomic.STRING: 'string'>, array=False)), 'content': GraphProperty(_name='content', dtype=DType(atomic=<DTypeAtomic.STRING: 'string'>, array=False)), 'is_internal': GraphProperty(_name='is_internal', dtype=DType(atomic=<DTypeAtomic.BOOL: 'boolean'>, array=False)), 'From': GraphProperty(_name='From', dtype=DType(atomic=<DTypeAtomic.STRING: 'string'>, array=True)), 'To': GraphProperty(_name='To', dtype=DType(atomic=<DTypeAtomic.STRING: 'string'>, array=True)), 'Cc': GraphProperty(_name='Cc', dtype=DType(atomic=<DTypeAtomic.STRING: 'string'>, array=True)), 'Bcc': GraphProperty(_name='Bcc', dtype=DType(atomic=<DTypeAtomic.STRING: 'string'>, array=True)), 'Date': GraphProperty(_name='Date', dtype=DType(atomic=<DTypeAtomic.DATETIME: 'datetime'>, array=False)), 'Subject': GraphProperty(_name='Subject', dtype=DType(atomic=<DTypeAtomic.STRING: 'string'>, array=False)), 'folder': GraphProperty(_name='folder', dtype=DType(atomic=<DTypeAtomic.STRING: 'string'>, array=False)), 'if_forwarded': GraphProperty(_name='if_forwarded', dtype=DType(atomic=<DTypeAtomic.BOOL: 'boolean'>, array=False))}, dynamic=DynamicConfig(timestamp='Date', interaction=True))}, edges={'SENT': EdgeSchema(_type='SENT', _schema=..., label=None, properties={'src': GraphProperty(_name='src', dtype=DType(atomic=<DTypeAtomic.STRING: 'string'>, array=False)), 'dst': GraphProperty(_name='dst', dtype=DType(atomic=<DTypeAtomic.STRING: 'string'>, array=False)), 'weight': GraphProperty(_name='weight', dtype=DType(atomic=<DTypeAtomic.INT: 'int'>, array=False))}, dynamic=None, source_type='User', target_type='Email', directed=True), 'ADDRESSED_TO': EdgeSchema(_type='ADDRESSED_TO', _schema=..., label=None, properties={'src': GraphProperty(_name='src', dtype=DType(atomic=<DTypeAtomic.STRING: 'string'>, array=False)), 'dst': GraphProperty(_name='dst', dtype=DType(atomic=<DTypeAtomic.STRING: 'string'>, array=False)), 'weight': GraphProperty(_name='weight', dtype=DType(atomic=<DTypeAtomic.INT: 'int'>, array=False))}, dynamic=None, source_type='Email', target_type='User', directed=True), 'ADDRESSED_CC': EdgeSchema(_type='ADDRESSED_CC', _schema=..., label=None, properties={'src': GraphProperty(_name='src', dtype=DType(atomic=<DTypeAtomic.STRING: 'string'>, array=False)), 'dst': GraphProperty(_name='dst', dtype=DType(atomic=<DTypeAtomic.STRING: 'string'>, array=False)), 'weight': GraphProperty(_name='weight', dtype=DType(atomic=<DTypeAtomic.INT: 'int'>, array=False))}, dynamic=None, source_type='Email', target_type='User', directed=True)})"
     },
     "execution_count": 26,
     "metadata": {},
     "output_type": "execute_result"
    }
   ],
   "source": [
    "from shared.schema.graph import GraphSchema, NodeSchema, EdgeSchema\n",
    "\n",
    "(\n",
    "    GraphSchema()\n",
    "        .add_node_schema('User', NodeSchema.from_spark(df_nodes_users.schema, label='email'))\n",
    "        .add_node_schema('Email', NodeSchema.from_spark(df_nodes_emails.schema, label='Subject', timestamp='Date', interaction=True))\n",
    "        .add_edge_schema('SENT', EdgeSchema.from_spark(df_edges_from.schema, source_type='User', target_type='Email', directed=True))\n",
    "        .add_edge_schema('ADDRESSED_TO', EdgeSchema.from_spark(df_edges_to.schema, source_type='Email', target_type='User', directed=True))\n",
    "        .add_edge_schema('ADDRESSED_CC', EdgeSchema.from_spark(df_edges_cc.schema, source_type='Email', target_type='User', directed=True))\n",
    "        .save_schema(DATASET.processed())\n",
    ")"
   ],
   "metadata": {
    "collapsed": false,
    "pycharm": {
     "name": "#%%\n"
    }
   }
  },
  {
   "cell_type": "code",
   "execution_count": null,
   "outputs": [],
   "source": [],
   "metadata": {
    "collapsed": false,
    "pycharm": {
     "name": "#%%\n"
    }
   }
  }
 ],
 "metadata": {
  "kernelspec": {
   "display_name": "Python 3",
   "language": "python",
   "name": "python3"
  },
  "language_info": {
   "codemirror_mode": {
    "name": "ipython",
    "version": 2
   },
   "file_extension": ".py",
   "mimetype": "text/x-python",
   "name": "python",
   "nbconvert_exporter": "python",
   "pygments_lexer": "ipython2",
   "version": "2.7.6"
  }
 },
 "nbformat": 4,
 "nbformat_minor": 0
}