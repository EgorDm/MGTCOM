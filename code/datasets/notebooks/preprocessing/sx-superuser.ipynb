{
 "cells": [
  {
   "cell_type": "code",
   "execution_count": 1,
   "metadata": {
    "collapsed": true
   },
   "outputs": [],
   "source": [
    "%load_ext autoreload\n",
    "%autoreload 2"
   ]
  },
  {
   "cell_type": "code",
   "execution_count": 2,
   "outputs": [],
   "source": [
    "import pyspark.sql.functions as F\n",
    "import pyspark.sql.types as T\n",
    "from pyspark.sql import SparkSession\n",
    "\n",
    "from shared.constants import DatasetPath"
   ],
   "metadata": {
    "collapsed": false,
    "pycharm": {
     "name": "#%%\n"
    }
   }
  },
  {
   "cell_type": "code",
   "execution_count": 3,
   "outputs": [],
   "source": [
    "DATASET = DatasetPath('sx-superuser')"
   ],
   "metadata": {
    "collapsed": false,
    "pycharm": {
     "name": "#%%\n"
    }
   }
  },
  {
   "cell_type": "code",
   "execution_count": 4,
   "outputs": [
    {
     "name": "stderr",
     "output_type": "stream",
     "text": [
      "22/01/03 00:46:46 WARN Utils: Your hostname, megatron resolves to a loopback address: 127.0.1.1; using 192.168.1.89 instead (on interface enp7s0)\n",
      "22/01/03 00:46:46 WARN Utils: Set SPARK_LOCAL_IP if you need to bind to another address\n",
      "Using Spark's default log4j profile: org/apache/spark/log4j-defaults.properties\n",
      "Setting default log level to \"WARN\".\n",
      "To adjust logging level use sc.setLogLevel(newLevel). For SparkR, use setLogLevel(newLevel).\n",
      "22/01/03 00:46:47 WARN NativeCodeLoader: Unable to load native-hadoop library for your platform... using builtin-java classes where applicable\n",
      "22/01/03 00:46:48 WARN Utils: Service 'SparkUI' could not bind on port 4040. Attempting port 4041.\n",
      "22/01/03 00:46:48 WARN Utils: Service 'SparkUI' could not bind on port 4041. Attempting port 4042.\n"
     ]
    }
   ],
   "source": [
    "spark = (SparkSession.builder\n",
    "         .appName(f'{DATASET}')\n",
    "         .config('spark.sql.legacy.timeParserPolicy', 'LEGACY')\n",
    "         .config(\"spark.executor.memory\", \"8g\")\n",
    "         .config(\"spark.driver.memory\", \"8g\")\n",
    "         .config(\"spark.memory.offHeap.enabled\", True)\n",
    "         .config(\"spark.memory.offHeap.size\", \"16g\")\n",
    "         .getOrCreate())"
   ],
   "metadata": {
    "collapsed": false,
    "pycharm": {
     "name": "#%%\n"
    }
   }
  },
  {
   "cell_type": "code",
   "execution_count": 5,
   "outputs": [],
   "source": [
    "schema = T.StructType([\n",
    "    T.StructField('src', T.IntegerType(), False),\n",
    "    T.StructField('dst', T.IntegerType(), False),\n",
    "    T.StructField('timestamp', T.LongType(), False),\n",
    "])"
   ],
   "metadata": {
    "collapsed": false,
    "pycharm": {
     "name": "#%%\n"
    }
   }
  },
  {
   "cell_type": "code",
   "execution_count": 6,
   "outputs": [
    {
     "name": "stderr",
     "output_type": "stream",
     "text": [
      "                                                                                \r"
     ]
    },
    {
     "data": {
      "text/plain": "[Row(src=55, dst=13, timestamp=datetime.datetime(2009, 7, 15, 16, 17, 21)),\n Row(src=8, dst=13, timestamp=datetime.datetime(2009, 7, 15, 16, 17, 32)),\n Row(src=24, dst=13, timestamp=datetime.datetime(2009, 7, 15, 16, 17, 41)),\n Row(src=27, dst=13, timestamp=datetime.datetime(2009, 7, 15, 16, 18, 23)),\n Row(src=46, dst=13, timestamp=datetime.datetime(2009, 7, 15, 16, 19, 14))]"
     },
     "execution_count": 6,
     "metadata": {},
     "output_type": "execute_result"
    }
   ],
   "source": [
    "df_a2q = (\n",
    "    spark.read.csv(DATASET.raw_str('sx-superuser-a2q.txt'), sep=' ', header=False, schema=schema,\n",
    "                   mode='DROPMALFORMED')\n",
    "        .withColumn('timestamp', F.to_timestamp(F.from_unixtime('timestamp'), 'yyyy-MM-dd HH:mm:ss'))\n",
    ")\n",
    "df_a2q.head(5)"
   ],
   "metadata": {
    "collapsed": false,
    "pycharm": {
     "name": "#%%\n"
    }
   }
  },
  {
   "cell_type": "code",
   "execution_count": 7,
   "outputs": [
    {
     "data": {
      "text/plain": "[Row(src=17, dst=45675, timestamp=datetime.datetime(2009, 7, 15, 16, 18, 49)),\n Row(src=55, dst=55, timestamp=datetime.datetime(2009, 7, 15, 16, 31, 43)),\n Row(src=63, dst=76, timestamp=datetime.datetime(2009, 7, 15, 16, 31, 55)),\n Row(src=63, dst=24, timestamp=datetime.datetime(2009, 7, 15, 16, 35, 4)),\n Row(src=63, dst=137, timestamp=datetime.datetime(2009, 7, 15, 16, 36, 11))]"
     },
     "execution_count": 7,
     "metadata": {},
     "output_type": "execute_result"
    }
   ],
   "source": [
    "df_c2a = (\n",
    "    spark.read.csv(DATASET.raw_str('sx-superuser-c2a.txt'), sep=' ', header=False, schema=schema,\n",
    "                   mode='DROPMALFORMED')\n",
    "        .withColumn('timestamp', F.to_timestamp(F.from_unixtime('timestamp'), 'yyyy-MM-dd HH:mm:ss'))\n",
    ")\n",
    "df_c2a.head(5)"
   ],
   "metadata": {
    "collapsed": false,
    "pycharm": {
     "name": "#%%\n"
    }
   }
  },
  {
   "cell_type": "code",
   "execution_count": 8,
   "outputs": [
    {
     "data": {
      "text/plain": "[Row(src=14, dst=26, timestamp=datetime.datetime(2009, 7, 15, 16, 20, 40)),\n Row(src=62, dst=49, timestamp=datetime.datetime(2009, 7, 15, 16, 37, 19)),\n Row(src=120, dst=38, timestamp=datetime.datetime(2009, 7, 15, 16, 38, 30)),\n Row(src=101, dst=49, timestamp=datetime.datetime(2009, 7, 15, 16, 39, 21)),\n Row(src=166, dst=172, timestamp=datetime.datetime(2009, 7, 15, 16, 44, 41))]"
     },
     "execution_count": 8,
     "metadata": {},
     "output_type": "execute_result"
    }
   ],
   "source": [
    "df_c2q = (\n",
    "    spark.read.csv(DATASET.raw_str('sx-superuser-c2q.txt'), sep=' ', header=False, schema=schema,\n",
    "                   mode='DROPMALFORMED')\n",
    "        .withColumn('timestamp', F.to_timestamp(F.from_unixtime('timestamp'), 'yyyy-MM-dd HH:mm:ss'))\n",
    ")\n",
    "df_c2q.head(5)"
   ],
   "metadata": {
    "collapsed": false,
    "pycharm": {
     "name": "#%%\n"
    }
   }
  },
  {
   "cell_type": "code",
   "execution_count": 9,
   "outputs": [
    {
     "name": "stderr",
     "output_type": "stream",
     "text": [
      "                                                                                \r"
     ]
    },
    {
     "data": {
      "text/plain": "194085"
     },
     "execution_count": 9,
     "metadata": {},
     "output_type": "execute_result"
    }
   ],
   "source": [
    "df_nodes = (\n",
    "    df_a2q.select(F.col('src').alias('id'))\n",
    "        .union(df_a2q.select(F.col('dst').alias('id')))\n",
    "        .union(df_c2a.select(F.col('src').alias('id')))\n",
    "        .union(df_c2a.select(F.col('dst').alias('id')))\n",
    "        .union(df_c2q.select(F.col('src').alias('id')))\n",
    "        .union(df_c2q.select(F.col('dst').alias('id')))\n",
    "        .distinct()\n",
    ")\n",
    "df_nodes.count()"
   ],
   "metadata": {
    "collapsed": false,
    "pycharm": {
     "name": "#%%\n"
    }
   }
  },
  {
   "cell_type": "code",
   "execution_count": 10,
   "outputs": [
    {
     "name": "stderr",
     "output_type": "stream",
     "text": [
      "                                                                                \r"
     ]
    }
   ],
   "source": [
    "df_nodes.write.parquet(DATASET.processed_str('nodes_User'), mode='overwrite')\n",
    "\n",
    "df_a2q.write.parquet(DATASET.processed_str('edges_ANSWERED_QUESTION'), mode='overwrite')\n",
    "df_c2q.write.parquet(DATASET.processed_str('edges_COMMENTED_ON_QUESTION'), mode='overwrite')\n",
    "df_c2a.write.parquet(DATASET.processed_str('edges_COMMENTED_ON_ANSWER'), mode='overwrite')"
   ],
   "metadata": {
    "collapsed": false,
    "pycharm": {
     "name": "#%%\n"
    }
   }
  },
  {
   "cell_type": "code",
   "execution_count": 11,
   "outputs": [
    {
     "data": {
      "text/plain": "DatasetSchema(name='sx-superuser', prefix='SxSuperuser', database='sx-superuser', description=None, nodes=[NodeSchema(label='User', path='data/processed/sx-superuser/nodes_User', properties=[Property(name='id', type='int', ignore=False, label=False)])], edges=[EdgeSchema(type='ANSWERED_QUESTION', source='User', target='User', path='data/processed/sx-superuser/edges_ANSWERED_QUESTION', properties=[Property(name='src', type='int', ignore=False, label=False), Property(name='dst', type='int', ignore=False, label=False), Property(name='timestamp', type='datetime', ignore=False, label=False)]), EdgeSchema(type='COMMENTED_ON_QUESTION', source='User', target='User', path='data/processed/sx-superuser/edges_COMMENTED_ON_QUESTION', properties=[Property(name='src', type='int', ignore=False, label=False), Property(name='dst', type='int', ignore=False, label=False), Property(name='timestamp', type='datetime', ignore=False, label=False)]), EdgeSchema(type='COMMENTED_ON_ANSWER', source='User', target='User', path='data/processed/sx-superuser/edges_COMMENTED_ON_ANSWER', properties=[Property(name='src', type='int', ignore=False, label=False), Property(name='dst', type='int', ignore=False, label=False), Property(name='timestamp', type='datetime', ignore=False, label=False)])])"
     },
     "execution_count": 11,
     "metadata": {},
     "output_type": "execute_result"
    }
   ],
   "source": [
    "from datasets.build_schema import build_schema\n",
    "\n",
    "build_schema(\n",
    "    spark,\n",
    "    name=str(DATASET),\n",
    "    nodes=[\n",
    "        ('User', DATASET.processed_str('nodes_User')),\n",
    "    ],\n",
    "    edges=[\n",
    "        ('AnsweredQuestion', 'User', 'User', DATASET.processed_str('edges_ANSWERED_QUESTION')),\n",
    "        ('CommentedOnQuestion', 'User', 'User', DATASET.processed_str('edges_COMMENTED_ON_QUESTION')),\n",
    "        ('CommentedOnAnswer', 'User', 'User', DATASET.processed_str('edges_COMMENTED_ON_ANSWER')),\n",
    "    ]\n",
    ")"
   ],
   "metadata": {
    "collapsed": false,
    "pycharm": {
     "name": "#%%\n"
    }
   }
  },
  {
   "cell_type": "code",
   "execution_count": null,
   "outputs": [],
   "source": [],
   "metadata": {
    "collapsed": false,
    "pycharm": {
     "name": "#%%\n"
    }
   }
  }
 ],
 "metadata": {
  "kernelspec": {
   "display_name": "Python 3",
   "language": "python",
   "name": "python3"
  },
  "language_info": {
   "codemirror_mode": {
    "name": "ipython",
    "version": 2
   },
   "file_extension": ".py",
   "mimetype": "text/x-python",
   "name": "python",
   "nbconvert_exporter": "python",
   "pygments_lexer": "ipython2",
   "version": "2.7.6"
  }
 },
 "nbformat": 4,
 "nbformat_minor": 0
}