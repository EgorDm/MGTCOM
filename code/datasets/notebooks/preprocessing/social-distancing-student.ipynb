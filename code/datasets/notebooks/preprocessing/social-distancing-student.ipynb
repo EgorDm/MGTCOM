{
 "cells": [
  {
   "cell_type": "code",
   "execution_count": 1,
   "outputs": [],
   "source": [
    "%load_ext autoreload\n",
    "%autoreload 2"
   ],
   "metadata": {
    "collapsed": false,
    "pycharm": {
     "name": "#%%\n"
    }
   }
  },
  {
   "cell_type": "code",
   "execution_count": 2,
   "metadata": {},
   "outputs": [],
   "source": [
    "import pyspark.sql.functions as F\n",
    "import pyspark.sql.types as T\n",
    "from pyspark.sql import SparkSession\n"
   ]
  },
  {
   "cell_type": "code",
   "execution_count": 3,
   "outputs": [],
   "source": [
    "from shared.schema import DatasetSchema\n",
    "\n",
    "DATASET = DatasetSchema.load_schema('social-distancing-student')\n",
    "DATASET.save_schema()"
   ],
   "metadata": {
    "collapsed": false,
    "pycharm": {
     "name": "#%%\n"
    }
   }
  },
  {
   "cell_type": "code",
   "execution_count": 4,
   "metadata": {
    "pycharm": {
     "name": "#%%\n"
    }
   },
   "outputs": [
    {
     "name": "stderr",
     "output_type": "stream",
     "text": [
      "22/01/22 22:35:04 WARN Utils: Your hostname, megatron resolves to a loopback address: 127.0.1.1; using 192.168.1.89 instead (on interface enp7s0)\n",
      "22/01/22 22:35:04 WARN Utils: Set SPARK_LOCAL_IP if you need to bind to another address\n",
      "Using Spark's default log4j profile: org/apache/spark/log4j-defaults.properties\n",
      "Setting default log level to \"WARN\".\n",
      "To adjust logging level use sc.setLogLevel(newLevel). For SparkR, use setLogLevel(newLevel).\n",
      "22/01/22 22:35:05 WARN NativeCodeLoader: Unable to load native-hadoop library for your platform... using builtin-java classes where applicable\n",
      "22/01/22 22:35:05 WARN Utils: Service 'SparkUI' could not bind on port 4040. Attempting port 4041.\n",
      "22/01/22 22:35:05 WARN Utils: Service 'SparkUI' could not bind on port 4041. Attempting port 4042.\n"
     ]
    }
   ],
   "source": [
    "spark = (SparkSession.builder\n",
    "         .appName(str(DATASET))\n",
    "         .config('spark.sql.legacy.timeParserPolicy', 'LEGACY')\n",
    "         .config(\"spark.executor.memory\", \"8g\")\n",
    "         .config(\"spark.driver.memory\", \"8g\")\n",
    "         .config(\"spark.memory.offHeap.enabled\", True)\n",
    "         .config(\"spark.memory.offHeap.size\", \"16g\")\n",
    "         .getOrCreate())"
   ]
  },
  {
   "cell_type": "code",
   "execution_count": 5,
   "metadata": {
    "pycharm": {
     "name": "#%%\n"
    }
   },
   "outputs": [
    {
     "name": "stderr",
     "output_type": "stream",
     "text": [
      "                                                                                \r"
     ]
    },
    {
     "data": {
      "text/plain": "[Row(created_at=datetime.datetime(2020, 9, 30, 22, 1, 2), entities=Row(hashtags=[], media=None, symbols=[], urls=[Row(display_url='twitter.com/i/web/status/1…', expanded_url='https://twitter.com/i/web/status/1311425852169744385', indices=[117, 140], url='https://t.co/EA6OO7cWR5')], user_mentions=[Row(id=2493701, id_str='2493701', indices=[0, 5], name='NU.nl', screen_name='NUnl')]), full_text='@NUnl Waarom niet de dove mens het mondkapje op en degene die spreekt geen monkapje. Als één van twee het maar op heeft en wel afstand houden. ik ben SH en heb erg last van mensen die te snel praten en te zacht. Wat doe ik hier aan. Gewoon maar vragen denk ik?', id_str='1311425852169744385', in_reply_to_status_id_str='1311352289928581120', in_reply_to_user_id_str='2493701', label_social_distancing='SUPPORTS', probabilities_social_distancing=Row(SUPPORTS=0.9821312427520752, IRRELEVANT=0.014853371307253838, REJECTS=0.003045313758775592), quoted_status_id_str='', sentiment=-0.6, text='@NUnl Waarom niet de dove mens het mondkapje op en degene die spreekt geen monkapje. Als één van twee het maar op h… https://t.co/EA6OO7cWR5', user=Row(followers_count=153, id_str='206319409', name='Mariët Grasso', screen_name='filakimou', verified=False))]"
     },
     "execution_count": 5,
     "metadata": {},
     "output_type": "execute_result"
    }
   ],
   "source": [
    "DATE_FORMAT = \"EEE MMM dd HH:mm:ss '+0000' yyyy\"\n",
    "probs_schema = T.StructType([\n",
    "    T.StructField('SUPPORTS', T.FloatType(), False),\n",
    "    T.StructField('IRRELEVANT', T.FloatType(), False),\n",
    "    T.StructField('REJECTS', T.FloatType(), False),\n",
    "])\n",
    "\n",
    "df = (\n",
    "    spark.read.format('org.apache.spark.sql.json')\n",
    "        .load(DATASET.raw_str('social-distancing-student.json'))\n",
    "        .withColumn('created_at', F.to_timestamp(F.col('created_at'), 'EEE MMM dd HH:mm:ss \\'+0000\\' yyyy'))\n",
    "        .withColumn('probabilities_social_distancing', F.from_json('probabilities_social_distancing', probs_schema))\n",
    ").cache()\n",
    "df.head(1)"
   ]
  },
  {
   "cell_type": "code",
   "execution_count": 6,
   "outputs": [
    {
     "name": "stderr",
     "output_type": "stream",
     "text": [
      "                                                                                \r"
     ]
    },
    {
     "data": {
      "text/plain": "[Row(name='DLRP-Magic.com', screen_name='DLRP_Magic', id='100002919'),\n Row(name='Russel⁷ ✜ +×', screen_name='HoldOnSoobin', id='1000331230565617666'),\n Row(name='abkuijer❌❌❌', screen_name='abkuijer', id='10003862'),\n Row(name='Koen', screen_name='koen0612', id='1000414316238172163'),\n Row(name='Wouter van Embden', screen_name='EmbdenWouter', id='1000464536082747393')]"
     },
     "execution_count": 6,
     "metadata": {},
     "output_type": "execute_result"
    }
   ],
   "source": [
    "users_tweet_df = df.select('user.name', 'user.screen_name', 'user.id_str')\n",
    "user_mentions_df = (\n",
    "    df.select(F.explode('entities.user_mentions').alias('user'))\n",
    "        .select('user.name', 'user.screen_name', 'user.id_str')\n",
    ")\n",
    "df_nodes_users = (\n",
    "    users_tweet_df\n",
    "        .union(user_mentions_df)\n",
    "        .select('name', 'screen_name', F.col('id_str').alias('id'))\n",
    "        .dropDuplicates(['id'])\n",
    ")\n",
    "df_nodes_users.head(5)"
   ],
   "metadata": {
    "collapsed": false,
    "pycharm": {
     "name": "#%%\n"
    }
   }
  },
  {
   "cell_type": "code",
   "execution_count": 7,
   "outputs": [
    {
     "data": {
      "text/plain": "[Row(id='040fungi', name='040fungi'),\n Row(id='11stedenMcDrive', name='11stedenMcDrive'),\n Row(id='140ktober', name='140ktober'),\n Row(id='150km', name='150km'),\n Row(id='1dagniet', name='1dagniet')]"
     },
     "execution_count": 7,
     "metadata": {},
     "output_type": "execute_result"
    }
   ],
   "source": [
    "df_nodes_hashtags = (\n",
    "    df\n",
    "        .select(F.explode('entities.hashtags').alias('hashtag'))\n",
    "        .select(\n",
    "        F.col('hashtag.text').alias('id'),\n",
    "        F.col('hashtag.text').alias('name')\n",
    "    )\n",
    "        .dropDuplicates(['id'])\n",
    ")\n",
    "df_nodes_hashtags.head(5)"
   ],
   "metadata": {
    "collapsed": false,
    "pycharm": {
     "name": "#%%\n"
    }
   }
  },
  {
   "cell_type": "code",
   "execution_count": 8,
   "outputs": [
    {
     "data": {
      "text/plain": "[Row(id='1311425852169744385', text='@NUnl Waarom niet de dove mens het mondkapje op en degene die spreekt geen monkapje. Als één van twee het maar op h… https://t.co/EA6OO7cWR5', label_social_distancing='SUPPORTS', prob_supports=0.9821312427520752, prob_irrelevant=0.014853371307253838, prob_rejects=0.003045313758775592, sentiment=-0.6, created_at=datetime.datetime(2020, 9, 30, 22, 1, 2)),\n Row(id='1311426330488180736', text='hoe meer werklozen er komen. Hoe meer bedrijven kapot gaan, en zo kan ik nog uren doorgaan. \\n\\nBuiten dit om, ik sna… https://t.co/8LGwaSPock', label_social_distancing='SUPPORTS', prob_supports=0.9024366736412048, prob_irrelevant=8.047425944823772e-05, prob_rejects=0.09751284122467041, sentiment=-0.6, created_at=datetime.datetime(2020, 9, 30, 22, 2, 56)),\n Row(id='1311426383906844672', text='RT @Rijksoverheid: Dringend advies: draag vanaf vandaag een niet-medisch mondkapje in publieke binnenruimtes zoals winkels, musea en benzin…', label_social_distancing='SUPPORTS', prob_supports=1.0000100135803223, prob_irrelevant=1.0000003385357559e-05, prob_rejects=1.0000012480304576e-05, sentiment=-0.6, created_at=datetime.datetime(2020, 9, 30, 22, 3, 9)),\n Row(id='1311426584893624322', text='RT @natassavass: George Soros in de bocht! Pompt even nog een keer 1,5M in de race voor een nieuwe OvJ in Los Angeles. Uiteraard voor een D…', label_social_distancing='SUPPORTS', prob_supports=0.997979462146759, prob_irrelevant=0.002040408318862319, prob_rejects=1.0134393960470334e-05, sentiment=-0.6, created_at=datetime.datetime(2020, 9, 30, 22, 3, 57)),\n Row(id='1311426630020202498', text='RT @Zuidplas: Dringend advies: draag vanaf vandaag een niet-medisch mondkapje in publieke binnenruimtes zoals winkels, musea en benzinestat…', label_social_distancing='SUPPORTS', prob_supports=1.0000100135803223, prob_irrelevant=1.0000003385357559e-05, prob_rejects=1.0000012480304576e-05, sentiment=-0.6, created_at=datetime.datetime(2020, 9, 30, 22, 4, 8))]"
     },
     "execution_count": 8,
     "metadata": {},
     "output_type": "execute_result"
    }
   ],
   "source": [
    "df_nodes_tweets = df.select(\n",
    "    F.col('id_str').alias('id'),\n",
    "    'text',\n",
    "    'label_social_distancing',\n",
    "    F.col('probabilities_social_distancing.SUPPORTS').alias('prob_supports'),\n",
    "    F.col('probabilities_social_distancing.IRRELEVANT').alias('prob_irrelevant'),\n",
    "    F.col('probabilities_social_distancing.REJECTS').alias('prob_rejects'),\n",
    "    'sentiment',\n",
    "    'created_at'\n",
    ")\n",
    "df_nodes_tweets.head(5)"
   ],
   "metadata": {
    "collapsed": false,
    "pycharm": {
     "name": "#%%\n"
    }
   }
  },
  {
   "cell_type": "code",
   "execution_count": 9,
   "outputs": [],
   "source": [
    "df_node_ids = (\n",
    "    df_nodes_users.select('id')\n",
    "        .union(df_nodes_hashtags.select('id'))\n",
    "        .union(df_nodes_tweets.select('id'))\n",
    "        .dropDuplicates(['id'])\n",
    ").cache()\n",
    "\n",
    "\n",
    "def filter_node_ids(df):\n",
    "    return df.join(\n",
    "        df_node_ids,\n",
    "        F.col('src') == F.col('id'),\n",
    "        'inner'\n",
    "    ).drop(\n",
    "        'id'\n",
    "    ).join(\n",
    "        df_node_ids,\n",
    "        F.col('dst') == F.col('id'),\n",
    "        'inner'\n",
    "    ).drop('id')"
   ],
   "metadata": {
    "collapsed": false,
    "pycharm": {
     "name": "#%%\n"
    }
   }
  },
  {
   "cell_type": "code",
   "execution_count": 10,
   "metadata": {
    "pycharm": {
     "name": "#%%\n"
    }
   },
   "outputs": [
    {
     "name": "stderr",
     "output_type": "stream",
     "text": [
      "                                                                                \r"
     ]
    },
    {
     "data": {
      "text/plain": "[Row(src='1893682442', dst='1311535089738801152'),\n Row(src='161960540', dst='1311556166057701377'),\n Row(src='54533650', dst='1311575637153533952'),\n Row(src='318940031', dst='1311578096525553664'),\n Row(src='3097256176', dst='1311602723868028928')]"
     },
     "execution_count": 10,
     "metadata": {},
     "output_type": "execute_result"
    }
   ],
   "source": [
    "df_edges_tweeted = filter_node_ids(df.select(\n",
    "    F.col('user.id_str').alias('src'),\n",
    "    F.col('id_str').alias('dst'),\n",
    ").filter(\n",
    "    F.col('src').isNotNull() &\n",
    "    F.col('src').isNotNull()\n",
    ").filter(\n",
    "    \"dst != '' AND src != ''\"\n",
    ").distinct())\n",
    "\n",
    "df_edges_tweeted.head(5)\n",
    "# write_relations(tweeted_ref_df, \"TWEETED\", \":Twitter:User.id_str:user_id\", \":Twitter:Tweet.id_str:tweet_id\")"
   ]
  },
  {
   "cell_type": "code",
   "execution_count": 11,
   "metadata": {
    "pycharm": {
     "name": "#%%\n"
    }
   },
   "outputs": [
    {
     "data": {
      "text/plain": "[Row(src='1311434188172791809', dst='2359279408'),\n Row(src='1311939840024473600', dst='1271166748264476673'),\n Row(src='1311681370356408320', dst='3243614116'),\n Row(src='1311751664207106052', dst='23929278'),\n Row(src='1311594362019753985', dst='105103709')]"
     },
     "execution_count": 11,
     "metadata": {},
     "output_type": "execute_result"
    }
   ],
   "source": [
    "df_edges_reply_to_user = filter_node_ids(df.select(\n",
    "    F.col('id_str').alias('src'),\n",
    "    F.col('in_reply_to_user_id_str').alias('dst'),\n",
    ").filter(\n",
    "    F.col('src').isNotNull() &\n",
    "    F.col('dst').isNotNull()\n",
    ").filter(\"dst != '' AND src != ''\").distinct())\n",
    "\n",
    "df_edges_reply_to_user.head(5)\n",
    "# write_relations(reply_ref_df, \"REPLY_TO\", \":Twitter:Tweet.id_str:tweet_id\", \":Twitter:User.id_str:user_id\")"
   ]
  },
  {
   "cell_type": "code",
   "execution_count": 12,
   "outputs": [
    {
     "data": {
      "text/plain": "[Row(src='1311601566256893953', dst='1311594779067797505'),\n Row(src='1311676116520837120', dst='1311662390761586688'),\n Row(src='1311638761516793859', dst='1311603550003232775'),\n Row(src='1311951655676645376', dst='1311951306593112065'),\n Row(src='1311616924879552512', dst='1311577791956168709')]"
     },
     "execution_count": 12,
     "metadata": {},
     "output_type": "execute_result"
    }
   ],
   "source": [
    "df_edges_reply_to_tweet = filter_node_ids(df.select(\n",
    "    F.col('id_str').alias('src'),\n",
    "    F.col('in_reply_to_status_id_str').alias('dst'),\n",
    ").filter(\n",
    "    F.col('src').isNotNull() &\n",
    "    F.col('dst').isNotNull()\n",
    ").filter(\"dst != '' AND src != ''\").distinct())\n",
    "\n",
    "df_edges_reply_to_tweet.head(5)\n",
    "# write_relations(reply_tweet_df, \"REPLY_TO\", \":Twitter:Tweet.id_str:tweet_id\", \":Twitter:Tweet.id_str:original_tweet_id\")"
   ],
   "metadata": {
    "collapsed": false,
    "pycharm": {
     "name": "#%%\n"
    }
   }
  },
  {
   "cell_type": "code",
   "execution_count": 13,
   "outputs": [
    {
     "data": {
      "text/plain": "[Row(src='1311826032094334976', dst='1311726735638114306'),\n Row(src='1311716018193080325', dst='1311629389654904833'),\n Row(src='1311643317596303368', dst='1311635271650340870'),\n Row(src='1311790813807022081', dst='1311786569234354179'),\n Row(src='1311901502609526784', dst='1311755749975089167')]"
     },
     "execution_count": 13,
     "metadata": {},
     "output_type": "execute_result"
    }
   ],
   "source": [
    "df_edges_quote_tweet = filter_node_ids(df.select(\n",
    "    F.col('id_str').alias('src'),\n",
    "    F.col('quoted_status_id_str').alias('dst'),\n",
    ").filter(\n",
    "    F.col('src').isNotNull() &\n",
    "    F.col('dst').isNotNull()\n",
    ").filter(\"dst != '' AND src != ''\").distinct())\n",
    "\n",
    "df_edges_quote_tweet.head(5)\n",
    "# write_relations(quote_tweet_df, \"QUOTED\", \":Twitter:Tweet.id_str:tweet_id\", \":Twitter:Tweet.id_str:quoted_tweet_id\")"
   ],
   "metadata": {
    "collapsed": false,
    "pycharm": {
     "name": "#%%\n"
    }
   }
  },
  {
   "cell_type": "code",
   "execution_count": 14,
   "metadata": {
    "pycharm": {
     "name": "#%%\n"
    }
   },
   "outputs": [
    {
     "data": {
      "text/plain": "[Row(src='1311432097303855104', dst='2647131516'),\n Row(src='1311434188172791809', dst='2359279408'),\n Row(src='1311563553091072001', dst='96970572'),\n Row(src='1311595010089943042', dst='39232421'),\n Row(src='1311619916013940738', dst='171084541')]"
     },
     "execution_count": 14,
     "metadata": {},
     "output_type": "execute_result"
    }
   ],
   "source": [
    "df_edges_mentioned_user = filter_node_ids(df.select(\n",
    "    F.col('id_str').alias('src'),\n",
    "    F.explode('entities.user_mentions.id_str').alias('dst'),\n",
    ").filter(\n",
    "    F.col('src').isNotNull() &\n",
    "    F.col('dst').isNotNull()\n",
    ").filter(\"dst != '' AND src != ''\").distinct())\n",
    "\n",
    "df_edges_mentioned_user.head(5)\n",
    "# write_relations(mention_user_ref_df, \"MENTIONED\", \":Twitter:Tweet.id_str:tweet_id\", \":Twitter:User.id_str:user_id\")"
   ]
  },
  {
   "cell_type": "code",
   "execution_count": 15,
   "metadata": {
    "pycharm": {
     "name": "#%%\n"
    }
   },
   "outputs": [
    {
     "data": {
      "text/plain": "[Row(src='1311578039311048705', dst='mondkapjes'),\n Row(src='1311701292864221184', dst='MONDKAPPENNOU'),\n Row(src='1311902401323044867', dst='leadbyexample'),\n Row(src='1311567232980398081', dst='Influenzavirus'),\n Row(src='1311633023931215874', dst='mondkapjes')]"
     },
     "execution_count": 15,
     "metadata": {},
     "output_type": "execute_result"
    }
   ],
   "source": [
    "df_edges_mentioned_hashtag = filter_node_ids(df.select(\n",
    "    F.col('id_str').alias('src'),\n",
    "    F.explode('entities.hashtags.text').alias('dst'),\n",
    ").filter(\n",
    "    F.col('src').isNotNull() &\n",
    "    F.col('dst').isNotNull()\n",
    ").filter(\"dst != '' AND src != ''\").distinct())\n",
    "\n",
    "df_edges_mentioned_hashtag.head(5)\n",
    "# write_relations(hashtag_mention_df, \"MENTIONED\", \":Twitter:Tweet.id_str:tweet_id\", \":Twitter:Hashtag.id_str:hashtag_id\")"
   ]
  },
  {
   "cell_type": "code",
   "execution_count": 16,
   "metadata": {
    "pycharm": {
     "name": "#%%\n"
    }
   },
   "outputs": [
    {
     "name": "stderr",
     "output_type": "stream",
     "text": [
      "                                                                                \r"
     ]
    },
    {
     "data": {
      "text/plain": "[Row(user_id='56377143', follower_id='2687493770'),\n Row(user_id='56377143', follower_id='1443138398928183298'),\n Row(user_id='56377143', follower_id='480680728'),\n Row(user_id='56377143', follower_id='801927938304315392'),\n Row(user_id='56377143', follower_id='279492619')]"
     },
     "execution_count": 16,
     "metadata": {},
     "output_type": "execute_result"
    }
   ],
   "source": [
    "df_user_ids = df_nodes_users.select('id')\n",
    "\n",
    "df_followers = (\n",
    "    spark.read.text(DATASET.raw_str('followers'), wholetext=False, pathGlobFilter='*.txt')\n",
    "        .select(\n",
    "        F.regexp_extract(F.input_file_name(), r'([0-9]+)%20([A-z0-9%]+).txt$', 1).alias('user_id'),\n",
    "        F.col('value').alias('follower_id'),\n",
    "    )\n",
    ").cache()\n",
    "\n",
    "df_followers.head(5)"
   ]
  },
  {
   "cell_type": "code",
   "execution_count": 17,
   "outputs": [
    {
     "name": "stderr",
     "output_type": "stream",
     "text": [
      "                                                                                \r"
     ]
    },
    {
     "data": {
      "text/plain": "[Row(src='1034004099950362625', dst='56377143'),\n Row(src='714542887040630784', dst='56377143'),\n Row(src='400296650', dst='56377143'),\n Row(src='2576050703', dst='56377143'),\n Row(src='138394987', dst='56377143')]"
     },
     "execution_count": 17,
     "metadata": {},
     "output_type": "execute_result"
    }
   ],
   "source": [
    "df_edges_follows = filter_node_ids(df_followers.join(\n",
    "    df_user_ids.alias('a'), F.col('follower_id') == F.col('a.id'), 'inner'\n",
    ").join(\n",
    "    df_user_ids.alias('b'), F.col('user_id') == F.col('b.id'), 'inner'\n",
    ").select(\n",
    "    F.col('follower_id').alias('src'),\n",
    "    F.col('user_id').alias('dst')\n",
    ").filter(\n",
    "    F.col('src').isNotNull() &\n",
    "    F.col('dst').isNotNull()\n",
    ").filter(\"dst != '' AND src != ''\").distinct())\n",
    "\n",
    "df_edges_follows.head(5)\n",
    "# write_relations(df_followers, \"FOLLOWS\", \":Twitter:User.id_str:follower_id\", \":Twitter:User.id_str:user_id\")"
   ],
   "metadata": {
    "collapsed": false,
    "pycharm": {
     "name": "#%%\n"
    }
   }
  },
  {
   "cell_type": "code",
   "execution_count": 18,
   "metadata": {
    "pycharm": {
     "name": "#%%\n"
    }
   },
   "outputs": [
    {
     "name": "stderr",
     "output_type": "stream",
     "text": [
      "                                                                                \r"
     ]
    }
   ],
   "source": [
    "df_nodes_users.write.parquet(DATASET.processed_str('nodes_User'), mode='overwrite')\n",
    "df_nodes_hashtags.write.parquet(DATASET.processed_str('nodes_Hashtag'), mode='overwrite')\n",
    "df_nodes_tweets.write.parquet(DATASET.processed_str('nodes_Tweet'), mode='overwrite')"
   ]
  },
  {
   "cell_type": "code",
   "execution_count": 19,
   "outputs": [
    {
     "name": "stderr",
     "output_type": "stream",
     "text": [
      "                                                                                \r"
     ]
    }
   ],
   "source": [
    "df_edges_tweeted.write.parquet(DATASET.processed_str('edges_TWEETED'), mode='overwrite')\n",
    "df_edges_reply_to_user.write.parquet(DATASET.processed_str('edges_REPLIES_TO_USER'), mode='overwrite')\n",
    "df_edges_reply_to_tweet.write.parquet(DATASET.processed_str('edges_REPLIES_TO_TWEET'), mode='overwrite')\n",
    "df_edges_quote_tweet.write.parquet(DATASET.processed_str('edges_QUOTES_TWEET'), mode='overwrite')\n",
    "df_edges_mentioned_user.write.parquet(DATASET.processed_str('edges_MENTIONS_USER'), mode='overwrite')\n",
    "df_edges_mentioned_hashtag.write.parquet(DATASET.processed_str('edges_MENTIONS_HASHTAG'), mode='overwrite')\n",
    "df_edges_follows.write.parquet(DATASET.processed_str('edges_FOLLOWS'), mode='overwrite')"
   ],
   "metadata": {
    "collapsed": false,
    "pycharm": {
     "name": "#%%\n"
    }
   }
  },
  {
   "cell_type": "code",
   "execution_count": 21,
   "outputs": [
    {
     "data": {
      "text/plain": "GraphSchema(_path=PosixPath('/dd_volume/Development/Python/Thesis/code/datasets/data/processed/social-distancing-student'), nodes={'User': NodeSchema(_type='User', _schema=..., label='name', properties={'name': GraphProperty(_name='name', dtype=DType(atomic=<DTypeAtomic.STRING: 'string'>, array=False)), 'screen_name': GraphProperty(_name='screen_name', dtype=DType(atomic=<DTypeAtomic.STRING: 'string'>, array=False)), 'id': GraphProperty(_name='id', dtype=DType(atomic=<DTypeAtomic.STRING: 'string'>, array=False))}, dynamic=None), 'Hashtag': NodeSchema(_type='Hashtag', _schema=..., label='name', properties={'id': GraphProperty(_name='id', dtype=DType(atomic=<DTypeAtomic.STRING: 'string'>, array=False)), 'name': GraphProperty(_name='name', dtype=DType(atomic=<DTypeAtomic.STRING: 'string'>, array=False))}, dynamic=None), 'Tweet': NodeSchema(_type='Tweet', _schema=..., label='text', properties={'id': GraphProperty(_name='id', dtype=DType(atomic=<DTypeAtomic.STRING: 'string'>, array=False)), 'text': GraphProperty(_name='text', dtype=DType(atomic=<DTypeAtomic.STRING: 'string'>, array=False)), 'label_social_distancing': GraphProperty(_name='label_social_distancing', dtype=DType(atomic=<DTypeAtomic.STRING: 'string'>, array=False)), 'prob_supports': GraphProperty(_name='prob_supports', dtype=DType(atomic=<DTypeAtomic.FLOAT: 'float'>, array=False)), 'prob_irrelevant': GraphProperty(_name='prob_irrelevant', dtype=DType(atomic=<DTypeAtomic.FLOAT: 'float'>, array=False)), 'prob_rejects': GraphProperty(_name='prob_rejects', dtype=DType(atomic=<DTypeAtomic.FLOAT: 'float'>, array=False)), 'sentiment': GraphProperty(_name='sentiment', dtype=DType(atomic=<DTypeAtomic.FLOAT: 'float'>, array=False)), 'created_at': GraphProperty(_name='created_at', dtype=DType(atomic=<DTypeAtomic.DATETIME: 'datetime'>, array=False))}, dynamic=DynamicConfig(timestamp='created_at', interaction=False))}, edges={'TWEETED': EdgeSchema(_type='TWEETED', _schema=..., label=None, properties={'src': GraphProperty(_name='src', dtype=DType(atomic=<DTypeAtomic.STRING: 'string'>, array=False)), 'dst': GraphProperty(_name='dst', dtype=DType(atomic=<DTypeAtomic.STRING: 'string'>, array=False))}, dynamic=None, source_type='User', target_type='Tweet', directed=True), 'REPLIES_TO_USER': EdgeSchema(_type='REPLIES_TO_USER', _schema=..., label=None, properties={'src': GraphProperty(_name='src', dtype=DType(atomic=<DTypeAtomic.STRING: 'string'>, array=False)), 'dst': GraphProperty(_name='dst', dtype=DType(atomic=<DTypeAtomic.STRING: 'string'>, array=False))}, dynamic=None, source_type='Tweet', target_type='User', directed=True), 'REPLIES_TO_TWEET': EdgeSchema(_type='REPLIES_TO_TWEET', _schema=..., label=None, properties={'src': GraphProperty(_name='src', dtype=DType(atomic=<DTypeAtomic.STRING: 'string'>, array=False)), 'dst': GraphProperty(_name='dst', dtype=DType(atomic=<DTypeAtomic.STRING: 'string'>, array=False))}, dynamic=None, source_type='Tweet', target_type='Tweet', directed=True), 'QUOTES_TWEET': EdgeSchema(_type='QUOTES_TWEET', _schema=..., label=None, properties={'src': GraphProperty(_name='src', dtype=DType(atomic=<DTypeAtomic.STRING: 'string'>, array=False)), 'dst': GraphProperty(_name='dst', dtype=DType(atomic=<DTypeAtomic.STRING: 'string'>, array=False))}, dynamic=None, source_type='Tweet', target_type='Tweet', directed=True), 'MENTIONS_USER': EdgeSchema(_type='MENTIONS_USER', _schema=..., label=None, properties={'src': GraphProperty(_name='src', dtype=DType(atomic=<DTypeAtomic.STRING: 'string'>, array=False)), 'dst': GraphProperty(_name='dst', dtype=DType(atomic=<DTypeAtomic.STRING: 'string'>, array=False))}, dynamic=None, source_type='Tweet', target_type='User', directed=True), 'MENTIONS_HASHTAG': EdgeSchema(_type='MENTIONS_HASHTAG', _schema=..., label=None, properties={'src': GraphProperty(_name='src', dtype=DType(atomic=<DTypeAtomic.STRING: 'string'>, array=False)), 'dst': GraphProperty(_name='dst', dtype=DType(atomic=<DTypeAtomic.STRING: 'string'>, array=False))}, dynamic=None, source_type='Tweet', target_type='Hashtag', directed=True), 'FOLLOWS': EdgeSchema(_type='FOLLOWS', _schema=..., label=None, properties={'src': GraphProperty(_name='src', dtype=DType(atomic=<DTypeAtomic.STRING: 'string'>, array=False)), 'dst': GraphProperty(_name='dst', dtype=DType(atomic=<DTypeAtomic.STRING: 'string'>, array=False))}, dynamic=None, source_type='User', target_type='User', directed=True)})"
     },
     "execution_count": 21,
     "metadata": {},
     "output_type": "execute_result"
    }
   ],
   "source": [
    "from shared.schema.graph import GraphSchema, NodeSchema, EdgeSchema\n",
    "\n",
    "(\n",
    "    GraphSchema()\n",
    "        .add_node_schema('User', NodeSchema.from_spark(df_nodes_users.schema, label='name'))\n",
    "        .add_node_schema('Hashtag', NodeSchema.from_spark(df_nodes_hashtags.schema, label='name'))\n",
    "        .add_node_schema('Tweet', NodeSchema.from_spark(df_nodes_tweets.schema, label='text', timestamp='created_at', interaction=False))\n",
    "        .add_edge_schema('TWEETED', EdgeSchema.from_spark(df_edges_tweeted.schema, source_type='User', target_type='Tweet', directed=True))\n",
    "        .add_edge_schema('REPLIES_TO_USER', EdgeSchema.from_spark(df_edges_reply_to_user.schema, source_type='Tweet', target_type='User', directed=True))\n",
    "        .add_edge_schema('REPLIES_TO_TWEET', EdgeSchema.from_spark(df_edges_reply_to_tweet.schema, source_type='Tweet', target_type='Tweet', directed=True))\n",
    "        .add_edge_schema('QUOTES_TWEET', EdgeSchema.from_spark(df_edges_quote_tweet.schema, source_type='Tweet', target_type='Tweet', directed=True))\n",
    "        .add_edge_schema('MENTIONS_USER', EdgeSchema.from_spark(df_edges_mentioned_user.schema, source_type='Tweet', target_type='User', directed=True))\n",
    "        .add_edge_schema('MENTIONS_HASHTAG', EdgeSchema.from_spark(df_edges_mentioned_hashtag.schema, source_type='Tweet', target_type='Hashtag', directed=True))\n",
    "        .add_edge_schema('FOLLOWS', EdgeSchema.from_spark(df_edges_follows.schema, source_type='User', target_type='User', directed=True))\n",
    "        .save_schema(DATASET.processed())\n",
    ")"
   ],
   "metadata": {
    "collapsed": false,
    "pycharm": {
     "name": "#%%\n"
    }
   }
  },
  {
   "cell_type": "code",
   "execution_count": null,
   "outputs": [],
   "source": [],
   "metadata": {
    "collapsed": false,
    "pycharm": {
     "name": "#%%\n"
    }
   }
  }
 ],
 "metadata": {
  "kernelspec": {
   "display_name": "Python 3 (ipykernel)",
   "language": "python",
   "name": "python3"
  },
  "language_info": {
   "codemirror_mode": {
    "name": "ipython",
    "version": 3
   },
   "file_extension": ".py",
   "mimetype": "text/x-python",
   "name": "python",
   "nbconvert_exporter": "python",
   "pygments_lexer": "ipython3",
   "version": "3.9.7"
  }
 },
 "nbformat": 4,
 "nbformat_minor": 1
}