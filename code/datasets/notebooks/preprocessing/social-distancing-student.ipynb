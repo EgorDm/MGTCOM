{
 "cells": [
  {
   "cell_type": "code",
   "execution_count": 26,
   "outputs": [
    {
     "name": "stdout",
     "output_type": "stream",
     "text": [
      "The autoreload extension is already loaded. To reload it, use:\n",
      "  %reload_ext autoreload\n"
     ]
    }
   ],
   "source": [
    "%load_ext autoreload\n",
    "%autoreload 2"
   ],
   "metadata": {
    "collapsed": false,
    "pycharm": {
     "name": "#%%\n"
    }
   }
  },
  {
   "cell_type": "code",
   "execution_count": 27,
   "metadata": {},
   "outputs": [],
   "source": [
    "import pyspark.sql.functions as F\n",
    "import pyspark.sql.types as T\n",
    "from pyspark.sql import SparkSession"
   ]
  },
  {
   "cell_type": "code",
   "execution_count": 28,
   "outputs": [],
   "source": [
    "from shared.schema import DatasetSchema\n",
    "\n",
    "DATASET = DatasetSchema.load_schema('social-distancing-student')\n",
    "DATASET.save_schema()"
   ],
   "metadata": {
    "collapsed": false,
    "pycharm": {
     "name": "#%%\n"
    }
   }
  },
  {
   "cell_type": "code",
   "execution_count": 29,
   "metadata": {
    "pycharm": {
     "name": "#%%\n"
    }
   },
   "outputs": [],
   "source": [
    "spark = (SparkSession.builder\n",
    "         .appName(str(DATASET))\n",
    "         .config('spark.sql.legacy.timeParserPolicy', 'LEGACY')\n",
    "         .config(\"spark.executor.memory\", \"8g\")\n",
    "         .config(\"spark.driver.memory\", \"8g\")\n",
    "         .config(\"spark.memory.offHeap.enabled\", True)\n",
    "         .config(\"spark.memory.offHeap.size\", \"16g\")\n",
    "         .getOrCreate())"
   ]
  },
  {
   "cell_type": "code",
   "execution_count": 30,
   "metadata": {
    "pycharm": {
     "name": "#%%\n"
    }
   },
   "outputs": [
    {
     "name": "stderr",
     "output_type": "stream",
     "text": [
      "22/03/23 00:08:55 WARN CacheManager: Asked to cache already cached data.        \n"
     ]
    },
    {
     "data": {
      "text/plain": "[Row(created_at=datetime.datetime(2020, 9, 30, 22, 1, 2), entities=Row(hashtags=[], media=None, symbols=[], urls=[Row(display_url='twitter.com/i/web/status/1…', expanded_url='https://twitter.com/i/web/status/1311425852169744385', indices=[117, 140], url='https://t.co/EA6OO7cWR5')], user_mentions=[Row(id=2493701, id_str='2493701', indices=[0, 5], name='NU.nl', screen_name='NUnl')]), full_text='@NUnl Waarom niet de dove mens het mondkapje op en degene die spreekt geen monkapje. Als één van twee het maar op heeft en wel afstand houden. ik ben SH en heb erg last van mensen die te snel praten en te zacht. Wat doe ik hier aan. Gewoon maar vragen denk ik?', id_str='1311425852169744385', in_reply_to_status_id_str='1311352289928581120', in_reply_to_user_id_str='2493701', label_social_distancing='SUPPORTS', probabilities_social_distancing=Row(SUPPORTS=0.9821312427520752, IRRELEVANT=0.014853371307253838, REJECTS=0.003045313758775592), quoted_status_id_str='', sentiment=-0.6, text='@NUnl Waarom niet de dove mens het mondkapje op en degene die spreekt geen monkapje. Als één van twee het maar op h… https://t.co/EA6OO7cWR5', user=Row(followers_count=153, id_str='206319409', name='Mariët Grasso', screen_name='filakimou', verified=False))]"
     },
     "execution_count": 30,
     "metadata": {},
     "output_type": "execute_result"
    }
   ],
   "source": [
    "DATE_FORMAT = \"EEE MMM dd HH:mm:ss '+0000' yyyy\"\n",
    "probs_schema = T.StructType([\n",
    "    T.StructField('SUPPORTS', T.FloatType(), False),\n",
    "    T.StructField('IRRELEVANT', T.FloatType(), False),\n",
    "    T.StructField('REJECTS', T.FloatType(), False),\n",
    "])\n",
    "\n",
    "df = (\n",
    "    spark.read.format('org.apache.spark.sql.json')\n",
    "        .load(DATASET.raw_str('social-distancing-student.json'))\n",
    "        .withColumn('created_at', F.to_timestamp(F.col('created_at'), 'EEE MMM dd HH:mm:ss \\'+0000\\' yyyy'))\n",
    "        .withColumn('probabilities_social_distancing', F.from_json('probabilities_social_distancing', probs_schema))\n",
    ").cache()\n",
    "df.head(1)"
   ]
  },
  {
   "cell_type": "code",
   "execution_count": 31,
   "outputs": [
    {
     "data": {
      "text/plain": "[Row(name='DLRP-Magic.com', screen_name='DLRP_Magic', id='100002919'),\n Row(name='Russel⁷ ✜ +×', screen_name='HoldOnSoobin', id='1000331230565617666'),\n Row(name='abkuijer❌❌❌', screen_name='abkuijer', id='10003862'),\n Row(name='Koen', screen_name='koen0612', id='1000414316238172163'),\n Row(name='Wouter van Embden', screen_name='EmbdenWouter', id='1000464536082747393')]"
     },
     "execution_count": 31,
     "metadata": {},
     "output_type": "execute_result"
    }
   ],
   "source": [
    "users_tweet_df = df.select(\n",
    "    'user.name', 'user.screen_name', 'user.id_str'\n",
    ")\n",
    "user_mentions_df = (\n",
    "    df.select(F.explode('entities.user_mentions').alias('user'))\n",
    "        .select(\n",
    "        'user.name',\n",
    "        'user.screen_name',\n",
    "        'user.id_str'\n",
    "    )\n",
    ")\n",
    "df_nodes_users_tmp = (\n",
    "    users_tweet_df\n",
    "        .union(user_mentions_df)\n",
    "        .select(\n",
    "            'name',\n",
    "            'screen_name',\n",
    "            F.col('id_str').alias('id'),\n",
    "        )\n",
    "        .dropDuplicates(['id'])\n",
    ")\n",
    "df_nodes_users_tmp.head(5)"
   ],
   "metadata": {
    "collapsed": false,
    "pycharm": {
     "name": "#%%\n"
    }
   }
  },
  {
   "cell_type": "code",
   "execution_count": 32,
   "outputs": [
    {
     "data": {
      "text/plain": "[Row(id='040fungi', name='040fungi'),\n Row(id='11stedenMcDrive', name='11stedenMcDrive'),\n Row(id='140ktober', name='140ktober'),\n Row(id='150km', name='150km'),\n Row(id='1dagniet', name='1dagniet')]"
     },
     "execution_count": 32,
     "metadata": {},
     "output_type": "execute_result"
    }
   ],
   "source": [
    "df_nodes_hashtags_tmp = (\n",
    "    df\n",
    "        .select(F.explode('entities.hashtags').alias('hashtag'))\n",
    "        .select(\n",
    "        F.col('hashtag.text').alias('id'),\n",
    "        F.col('hashtag.text').alias('name')\n",
    "    )\n",
    "        .dropDuplicates(['id'])\n",
    ")\n",
    "df_nodes_hashtags_tmp.head(5)"
   ],
   "metadata": {
    "collapsed": false,
    "pycharm": {
     "name": "#%%\n"
    }
   }
  },
  {
   "cell_type": "code",
   "execution_count": 33,
   "outputs": [
    {
     "data": {
      "text/plain": "[Row(id='1311425852169744385', text='@NUnl Waarom niet de dove mens het mondkapje op en degene die spreekt geen monkapje. Als één van twee het maar op h… https://t.co/EA6OO7cWR5', label_social_distancing='SUPPORTS', feat_supports=0.9821312427520752, feat_irrelevant=0.014853371307253838, feat_rejects=0.003045313758775592, feat_sentiment=-0.6, timestamp=datetime.datetime(2020, 9, 30, 22, 1, 2)),\n Row(id='1311426330488180736', text='hoe meer werklozen er komen. Hoe meer bedrijven kapot gaan, en zo kan ik nog uren doorgaan. \\n\\nBuiten dit om, ik sna… https://t.co/8LGwaSPock', label_social_distancing='SUPPORTS', feat_supports=0.9024366736412048, feat_irrelevant=8.047425944823772e-05, feat_rejects=0.09751284122467041, feat_sentiment=-0.6, timestamp=datetime.datetime(2020, 9, 30, 22, 2, 56)),\n Row(id='1311426383906844672', text='RT @Rijksoverheid: Dringend advies: draag vanaf vandaag een niet-medisch mondkapje in publieke binnenruimtes zoals winkels, musea en benzin…', label_social_distancing='SUPPORTS', feat_supports=1.0000100135803223, feat_irrelevant=1.0000003385357559e-05, feat_rejects=1.0000012480304576e-05, feat_sentiment=-0.6, timestamp=datetime.datetime(2020, 9, 30, 22, 3, 9)),\n Row(id='1311426584893624322', text='RT @natassavass: George Soros in de bocht! Pompt even nog een keer 1,5M in de race voor een nieuwe OvJ in Los Angeles. Uiteraard voor een D…', label_social_distancing='SUPPORTS', feat_supports=0.997979462146759, feat_irrelevant=0.002040408318862319, feat_rejects=1.0134393960470334e-05, feat_sentiment=-0.6, timestamp=datetime.datetime(2020, 9, 30, 22, 3, 57)),\n Row(id='1311426630020202498', text='RT @Zuidplas: Dringend advies: draag vanaf vandaag een niet-medisch mondkapje in publieke binnenruimtes zoals winkels, musea en benzinestat…', label_social_distancing='SUPPORTS', feat_supports=1.0000100135803223, feat_irrelevant=1.0000003385357559e-05, feat_rejects=1.0000012480304576e-05, feat_sentiment=-0.6, timestamp=datetime.datetime(2020, 9, 30, 22, 4, 8))]"
     },
     "execution_count": 33,
     "metadata": {},
     "output_type": "execute_result"
    }
   ],
   "source": [
    "df_nodes_tweets = df.select(\n",
    "    F.col('id_str').alias('id'),\n",
    "    'text',\n",
    "    'label_social_distancing',\n",
    "    F.col('probabilities_social_distancing.SUPPORTS').alias('feat_supports'),\n",
    "    F.col('probabilities_social_distancing.IRRELEVANT').alias('feat_irrelevant'),\n",
    "    F.col('probabilities_social_distancing.REJECTS').alias('feat_rejects'),\n",
    "    F.col('sentiment').alias('feat_sentiment'),\n",
    "    F.col('created_at').alias('timestamp')\n",
    ")\n",
    "df_nodes_tweets.head(5)"
   ],
   "metadata": {
    "collapsed": false,
    "pycharm": {
     "name": "#%%\n"
    }
   }
  },
  {
   "cell_type": "markdown",
   "source": [
    "# Edge Extraction"
   ],
   "metadata": {
    "collapsed": false,
    "pycharm": {
     "name": "#%% md\n"
    }
   }
  },
  {
   "cell_type": "code",
   "execution_count": 34,
   "outputs": [
    {
     "name": "stderr",
     "output_type": "stream",
     "text": [
      "22/03/23 00:08:56 WARN CacheManager: Asked to cache already cached data.\n"
     ]
    }
   ],
   "source": [
    "df_node_ids = (\n",
    "    df_nodes_users_tmp.select('id')\n",
    "        .union(df_nodes_hashtags_tmp.select('id'))\n",
    "        .union(df_nodes_tweets.select('id'))\n",
    "        .dropDuplicates(['id'])\n",
    ").cache()\n",
    "\n",
    "\n",
    "def filter_node_ids(df):\n",
    "    return df.join(\n",
    "        df_node_ids,\n",
    "        F.col('src') == F.col('id'),\n",
    "        'inner'\n",
    "    ).drop(\n",
    "        'id'\n",
    "    ).join(\n",
    "        df_node_ids,\n",
    "        F.col('dst') == F.col('id'),\n",
    "        'inner'\n",
    "    ).drop('id')"
   ],
   "metadata": {
    "collapsed": false,
    "pycharm": {
     "name": "#%%\n"
    }
   }
  },
  {
   "cell_type": "code",
   "execution_count": 35,
   "metadata": {
    "pycharm": {
     "name": "#%%\n"
    }
   },
   "outputs": [
    {
     "data": {
      "text/plain": "[Row(src='122328607', dst='1311428477023903744', timestamp=datetime.datetime(2020, 9, 30, 22, 11, 28)),\n Row(src='3534886816', dst='1311686424907976706', timestamp=datetime.datetime(2020, 10, 1, 15, 16, 28)),\n Row(src='431739163', dst='1311695956472213506', timestamp=datetime.datetime(2020, 10, 1, 15, 54, 20)),\n Row(src='324968756', dst='1311709328769011719', timestamp=datetime.datetime(2020, 10, 1, 16, 47, 29)),\n Row(src='783981240227594240', dst='1311717211363516421', timestamp=datetime.datetime(2020, 10, 1, 17, 18, 48))]"
     },
     "execution_count": 35,
     "metadata": {},
     "output_type": "execute_result"
    }
   ],
   "source": [
    "df_edges_tweeted = filter_node_ids(df.select(\n",
    "    F.col('user.id_str').alias('src'),\n",
    "    F.col('id_str').alias('dst'),\n",
    "    F.col('created_at').alias('timestamp')\n",
    ").filter(\n",
    "    F.col('src').isNotNull() &\n",
    "    F.col('dst').isNotNull()\n",
    ").filter(\n",
    "    \"dst != '' AND src != ''\"\n",
    ").distinct())\n",
    "\n",
    "df_edges_tweeted.head(5)\n",
    "# write_relations(tweeted_ref_df, \"TWEETED\", \":Twitter:User.id_str:user_id\", \":Twitter:Tweet.id_str:tweet_id\")"
   ]
  },
  {
   "cell_type": "code",
   "execution_count": 36,
   "metadata": {
    "pycharm": {
     "name": "#%%\n"
    }
   },
   "outputs": [
    {
     "data": {
      "text/plain": "[Row(src='1311566282228203521', dst='3133164023', timestamp=datetime.datetime(2020, 10, 1, 7, 19, 4)),\n Row(src='1311627809899642887', dst='58302457', timestamp=datetime.datetime(2020, 10, 1, 11, 23, 33)),\n Row(src='1311628351149420545', dst='2288448844', timestamp=datetime.datetime(2020, 10, 1, 11, 25, 42)),\n Row(src='1311764583615467522', dst='22187256', timestamp=datetime.datetime(2020, 10, 1, 20, 27, 2)),\n Row(src='1311779455883505665', dst='3103511', timestamp=datetime.datetime(2020, 10, 1, 21, 26, 8))]"
     },
     "execution_count": 36,
     "metadata": {},
     "output_type": "execute_result"
    }
   ],
   "source": [
    "df_edges_reply_to_user = filter_node_ids(df.select(\n",
    "    F.col('id_str').alias('src'),\n",
    "    F.col('in_reply_to_user_id_str').alias('dst'),\n",
    "    F.col('created_at').alias('timestamp'),\n",
    ").filter(\n",
    "    F.col('src').isNotNull() &\n",
    "    F.col('dst').isNotNull()\n",
    ").filter(\"dst != '' AND src != ''\").distinct())\n",
    "\n",
    "df_edges_reply_to_user.head(5)\n",
    "# write_relations(reply_ref_df, \"REPLY_TO\", \":Twitter:Tweet.id_str:tweet_id\", \":Twitter:User.id_str:user_id\")"
   ]
  },
  {
   "cell_type": "code",
   "execution_count": 37,
   "outputs": [
    {
     "data": {
      "text/plain": "[Row(src='1311643833587953665', dst='1311635271650340870', timestamp=datetime.datetime(2020, 10, 1, 12, 27, 13)),\n Row(src='1311764925304496139', dst='1311755749975089167', timestamp=datetime.datetime(2020, 10, 1, 20, 28, 24)),\n Row(src='1311826032094334976', dst='1311726735638114306', timestamp=datetime.datetime(2020, 10, 2, 0, 31, 13)),\n Row(src='1311646892829351937', dst='1311635271650340870', timestamp=datetime.datetime(2020, 10, 1, 12, 39, 23)),\n Row(src='1311953609991614464', dst='1311951954172575744', timestamp=datetime.datetime(2020, 10, 2, 8, 58, 10))]"
     },
     "execution_count": 37,
     "metadata": {},
     "output_type": "execute_result"
    }
   ],
   "source": [
    "df_edges_quote_tweet = filter_node_ids(df.select(\n",
    "    F.col('id_str').alias('src'),\n",
    "    F.col('quoted_status_id_str').alias('dst'),\n",
    "    F.col('created_at').alias('timestamp'),\n",
    ").filter(\n",
    "    F.col('src').isNotNull() &\n",
    "    F.col('dst').isNotNull()\n",
    ").filter(\"dst != '' AND src != ''\").distinct())\n",
    "\n",
    "df_edges_quote_tweet.head(5)\n",
    "# write_relations(quote_tweet_df, \"QUOTED\", \":Twitter:Tweet.id_str:tweet_id\", \":Twitter:Tweet.id_str:quoted_tweet_id\")"
   ],
   "metadata": {
    "collapsed": false,
    "pycharm": {
     "name": "#%%\n"
    }
   }
  },
  {
   "cell_type": "code",
   "execution_count": 38,
   "metadata": {
    "pycharm": {
     "name": "#%%\n"
    }
   },
   "outputs": [
    {
     "data": {
      "text/plain": "[Row(src='1311566282228203521', dst='3133164023', timestamp=datetime.datetime(2020, 10, 1, 7, 19, 4)),\n Row(src='1311579770908545024', dst='1233135510920495109', timestamp=datetime.datetime(2020, 10, 1, 8, 12, 40)),\n Row(src='1311585502215254017', dst='1103569408822267905', timestamp=datetime.datetime(2020, 10, 1, 8, 35, 26)),\n Row(src='1311591131424141312', dst='15200788', timestamp=datetime.datetime(2020, 10, 1, 8, 57, 48)),\n Row(src='1311596859748765701', dst='15595333', timestamp=datetime.datetime(2020, 10, 1, 9, 20, 34))]"
     },
     "execution_count": 38,
     "metadata": {},
     "output_type": "execute_result"
    }
   ],
   "source": [
    "df_edges_mentioned_user = filter_node_ids(df.select(\n",
    "    F.col('id_str').alias('src'),\n",
    "    F.explode('entities.user_mentions.id_str').alias('dst'),\n",
    "    F.col('created_at').alias('timestamp'),\n",
    ").filter(\n",
    "    F.col('src').isNotNull() &\n",
    "    F.col('dst').isNotNull()\n",
    ").filter(\"dst != '' AND src != ''\").distinct())\n",
    "\n",
    "df_edges_mentioned_user.head(5)\n",
    "# write_relations(mention_user_ref_df, \"MENTIONED\", \":Twitter:Tweet.id_str:tweet_id\", \":Twitter:User.id_str:user_id\")"
   ]
  },
  {
   "cell_type": "code",
   "execution_count": 39,
   "outputs": [
    {
     "data": {
      "text/plain": "[Row(src='1311601566256893953', dst='1311594779067797505', timestamp=datetime.datetime(2020, 10, 1, 9, 39, 16)),\n Row(src='1311639847627522050', dst='1311631160720719872', timestamp=datetime.datetime(2020, 10, 1, 12, 11, 23)),\n Row(src='1311943541124407303', dst='1311928390409228289', timestamp=datetime.datetime(2020, 10, 2, 8, 18, 9)),\n Row(src='1311943738189647872', dst='1311936390045855744', timestamp=datetime.datetime(2020, 10, 2, 8, 18, 56)),\n Row(src='1311685445370228744', dst='1311684421511254017', timestamp=datetime.datetime(2020, 10, 1, 15, 12, 34))]"
     },
     "execution_count": 39,
     "metadata": {},
     "output_type": "execute_result"
    }
   ],
   "source": [
    "df_edges_reply_to_tweet = filter_node_ids(df.select(\n",
    "    F.col('id_str').alias('src'),\n",
    "    F.col('in_reply_to_status_id_str').alias('dst'),\n",
    "    F.col('created_at').alias('timestamp'),\n",
    ").filter(\n",
    "    F.col('src').isNotNull() &\n",
    "    F.col('dst').isNotNull()\n",
    ").filter(\"dst != '' AND src != ''\").distinct())\n",
    "\n",
    "df_edges_reply_to_tweet.head(5)\n",
    "# write_relations(reply_tweet_df, \"REPLY_TO\", \":Twitter:Tweet.id_str:tweet_id\", \":Twitter:Tweet.id_str:original_tweet_id\")"
   ],
   "metadata": {
    "collapsed": false,
    "pycharm": {
     "name": "#%%\n"
    }
   }
  },
  {
   "cell_type": "code",
   "execution_count": 40,
   "metadata": {
    "pycharm": {
     "name": "#%%\n"
    }
   },
   "outputs": [
    {
     "data": {
      "text/plain": "[Row(src='1311578039311048705', dst='horecasluiten', timestamp=datetime.datetime(2020, 10, 1, 8, 5, 47)),\n Row(src='1311693208095797248', dst='mondkapjesadvies', timestamp=datetime.datetime(2020, 10, 1, 15, 43, 25)),\n Row(src='1311972926607052801', dst='coroNEE', timestamp=datetime.datetime(2020, 10, 2, 10, 14, 55)),\n Row(src='1311984202750009344', dst='Avondklok', timestamp=datetime.datetime(2020, 10, 2, 10, 59, 44)),\n Row(src='1311575723438682112', dst='coronavirus', timestamp=datetime.datetime(2020, 10, 1, 7, 56, 35))]"
     },
     "execution_count": 40,
     "metadata": {},
     "output_type": "execute_result"
    }
   ],
   "source": [
    "df_edges_mentioned_hashtag = filter_node_ids(df.select(\n",
    "    F.col('id_str').alias('src'),\n",
    "    F.explode('entities.hashtags.text').alias('dst'),\n",
    "    F.col('created_at').alias('timestamp'),\n",
    ").filter(\n",
    "    F.col('src').isNotNull() &\n",
    "    F.col('dst').isNotNull()\n",
    ").filter(\"dst != '' AND src != ''\").distinct())\n",
    "\n",
    "df_edges_mentioned_hashtag.head(5)\n",
    "# write_relations(hashtag_mention_df, \"MENTIONED\", \":Twitter:Tweet.id_str:tweet_id\", \":Twitter:Hashtag.id_str:hashtag_id\")"
   ]
  },
  {
   "cell_type": "code",
   "execution_count": 41,
   "metadata": {
    "pycharm": {
     "name": "#%%\n"
    }
   },
   "outputs": [
    {
     "name": "stderr",
     "output_type": "stream",
     "text": [
      "                                                                                \r"
     ]
    },
    {
     "data": {
      "text/plain": "[Row(user_id='56377143', follower_id='2687493770'),\n Row(user_id='56377143', follower_id='1443138398928183298'),\n Row(user_id='56377143', follower_id='480680728'),\n Row(user_id='56377143', follower_id='801927938304315392'),\n Row(user_id='56377143', follower_id='279492619')]"
     },
     "execution_count": 41,
     "metadata": {},
     "output_type": "execute_result"
    }
   ],
   "source": [
    "df_user_ids = df_nodes_users_tmp.select('id')\n",
    "\n",
    "df_followers = (\n",
    "    spark.read.text(DATASET.raw_str('followers'), wholetext=False, pathGlobFilter='*.txt')\n",
    "        .select(\n",
    "        F.regexp_extract(F.input_file_name(), r'([0-9]+)%20([A-z0-9%]+).txt$', 1).alias('user_id'),\n",
    "        F.col('value').alias('follower_id'),\n",
    "    )\n",
    ").cache()\n",
    "\n",
    "df_followers.head(5)"
   ]
  },
  {
   "cell_type": "code",
   "execution_count": 42,
   "outputs": [
    {
     "name": "stderr",
     "output_type": "stream",
     "text": [
      "                                                                                \r"
     ]
    },
    {
     "data": {
      "text/plain": "[Row(src='1034004099950362625', dst='56377143'),\n Row(src='714542887040630784', dst='56377143'),\n Row(src='400296650', dst='56377143'),\n Row(src='2576050703', dst='56377143'),\n Row(src='138394987', dst='56377143')]"
     },
     "execution_count": 42,
     "metadata": {},
     "output_type": "execute_result"
    }
   ],
   "source": [
    "df_edges_follows = filter_node_ids(df_followers.join(\n",
    "    df_user_ids.alias('a'), F.col('follower_id') == F.col('a.id'), 'inner'\n",
    ").join(\n",
    "    df_user_ids.alias('b'), F.col('user_id') == F.col('b.id'), 'inner'\n",
    ").select(\n",
    "    F.col('follower_id').alias('src'),\n",
    "    F.col('user_id').alias('dst')\n",
    ").filter(\n",
    "    F.col('src').isNotNull() &\n",
    "    F.col('dst').isNotNull()\n",
    ").filter(\"dst != '' AND src != ''\").distinct())\n",
    "\n",
    "df_edges_follows.head(5)\n",
    "# write_relations(df_followers, \"FOLLOWS\", \":Twitter:User.id_str:follower_id\", \":Twitter:User.id_str:user_id\")"
   ],
   "metadata": {
    "collapsed": false,
    "pycharm": {
     "name": "#%%\n"
    }
   }
  },
  {
   "cell_type": "markdown",
   "source": [
    "# Feature Engineering"
   ],
   "metadata": {
    "collapsed": false
   }
  },
  {
   "cell_type": "code",
   "execution_count": 43,
   "outputs": [
    {
     "name": "stderr",
     "output_type": "stream",
     "text": [
      "[nltk_data] Downloading package stopwords to /home/egordm/nltk_data...\n",
      "[nltk_data]   Package stopwords is already up-to-date!\n",
      "                                                                                \r"
     ]
    },
    {
     "data": {
      "text/plain": "[Row(id='1311425852169744385', keywords=['nunl', 'waarom', 'dov', 'men', 'mondkapj', 'deg', 'spreekt', 'monkapj', 'twee', 'httpstcoeaoocwr']),\n Row(id='1311426330488180736', keywords=['werkloz', 'kom', 'bedrijv', 'kapot', 'gan', 'uren', 'doorgan', 'buit', 'sna', 'httpstcolgwaspock']),\n Row(id='1311426383906844672', keywords=['rijksover', 'dringend', 'advies', 'drag', 'vanaf', 'vandag', 'nietmedisch', 'mondkapj', 'publiek', 'binnenruimtes', 'zoal', 'winkel', 'musea', 'benzin']),\n Row(id='1311426584893624322', keywords=['natassavas', 'georg', 'soros', 'bocht', 'pompt', 'even', 'ker', 'rac', 'nieuw', 'ovj', 'los', 'angeles', 'uiteraard']),\n Row(id='1311426630020202498', keywords=['zuidplas', 'dringend', 'advies', 'drag', 'vanaf', 'vandag', 'nietmedisch', 'mondkapj', 'publiek', 'binnenruimtes', 'zoal', 'winkel', 'musea', 'benzinestat']),\n Row(id='1311426978390716417', keywords=['vrgroning', 'dringend', 'advies', 'drag', 'vanaf', 'vandag', 'nietmedisch', 'mondkapj', 'publiek', 'binnenruimtes', 'zoal', 'winkel', 'musea', 'benzines']),\n Row(id='1311427296105029633', keywords=['dissel', 'thuis', 'blijv', 'klacht', 'afstand', 'houd', 'blijft', 'belangrijker', 'mondkapj', 'httpstcohqnpbpfpq']),\n Row(id='1311427312328609797', keywords=['mkeuleman', 'larsnos', 'denk', 'sted', 'minimal', 'verschil', 'mak', 'wet', 'zeker', 'vakantie', 'duitsland', 'httpstcoywljzahgk']),\n Row(id='1311428045161590786', keywords=['minvw', 'dringend', 'advies', 'drag', 'vanaf', 'vandag', 'nietmedisch', 'mondkapj', 'publiek', 'binnenruimtes', 'zoal', 'winkel', 'musea', 'benzinestatio']),\n Row(id='1311428230235271168', keywords=['minvw', 'dringend', 'advies', 'drag', 'vanaf', 'vandag', 'nietmedisch', 'mondkapj', 'publiek', 'binnenruimtes', 'zoal', 'winkel', 'musea', 'benzinestatio'])]"
     },
     "execution_count": 43,
     "metadata": {},
     "output_type": "execute_result"
    }
   ],
   "source": [
    "from pyspark.ml.feature import Tokenizer, StopWordsRemover\n",
    "from nltk.stem.snowball import SnowballStemmer\n",
    "import nltk\n",
    "\n",
    "nltk.download('stopwords')\n",
    "\n",
    "df_kw_clean = df_nodes_tweets.select('id', (F.lower(F.regexp_replace('text', \"[^a-zA-Z\\\\s]\", \"\")).alias('text')))\n",
    "\n",
    "tokenizer = Tokenizer(inputCol='text', outputCol='words_token')\n",
    "df_kw_tokens = tokenizer.transform(df_kw_clean).select('id', 'words_token')\n",
    "\n",
    "stopwordList = nltk.corpus.stopwords.words('dutch')\n",
    "remover = StopWordsRemover(inputCol='words_token', outputCol='words_clean', stopWords=stopwordList)\n",
    "df_kw_nostopw = remover.transform(df_kw_tokens).select('id', 'words_clean')\n",
    "\n",
    "# Stem text\n",
    "stemmer = SnowballStemmer(language='dutch')\n",
    "stemmer_udf = F.udf(lambda tokens: [stemmer.stem(token) for token in tokens], T.ArrayType(T.StringType()))\n",
    "df_kw_stemmed = df_kw_nostopw.withColumn(\"words_stemmed\", stemmer_udf(\"words_clean\")).select('id', 'words_stemmed')\n",
    "\n",
    "filter_length_udf = F.udf(lambda row: [x for x in row if len(x) >= 3], T.ArrayType(T.StringType()))\n",
    "df_kw_doc = df_kw_stemmed.select('id', F.array_distinct(filter_length_udf(F.col('words_stemmed'))).alias('keywords'))\n",
    "\n",
    "df_kw_doc.head(10)"
   ],
   "metadata": {
    "collapsed": false,
    "pycharm": {
     "name": "#%%\n"
    }
   }
  },
  {
   "cell_type": "code",
   "execution_count": 44,
   "outputs": [
    {
     "name": "stderr",
     "output_type": "stream",
     "text": [
      "[Stage 175:============================================>          (13 + 3) / 16]\r"
     ]
    },
    {
     "name": "stdout",
     "output_type": "stream",
     "text": [
      "+----------+-----+\n",
      "|   keyword|count|\n",
      "+----------+-----+\n",
      "|   afstand|17514|\n",
      "|     meter|12283|\n",
      "|      houd|12134|\n",
      "|  mondkapj| 5150|\n",
      "|      mens| 4960|\n",
      "|      drag| 3710|\n",
      "| anderhalv| 3465|\n",
      "|       wel| 3335|\n",
      "|      hand| 3198|\n",
      "|mondkapjes| 2970|\n",
      "+----------+-----+\n",
      "only showing top 10 rows\n",
      "\n"
     ]
    },
    {
     "name": "stderr",
     "output_type": "stream",
     "text": [
      "                                                                                \r"
     ]
    }
   ],
   "source": [
    "df_kw = df_kw_doc\\\n",
    "    .select(F.explode('keywords').alias('keyword'))\\\n",
    "    .groupBy('keyword')\\\n",
    "    .count()\\\n",
    "    .orderBy('count', ascending=False)\n",
    "\n",
    "df_kw.show(10)"
   ],
   "metadata": {
    "collapsed": false,
    "pycharm": {
     "name": "#%%\n"
    }
   }
  },
  {
   "cell_type": "code",
   "execution_count": 45,
   "outputs": [
    {
     "name": "stderr",
     "output_type": "stream",
     "text": [
      "[Stage 178:==================================>                    (10 + 6) / 16]\r"
     ]
    },
    {
     "name": "stdout",
     "output_type": "stream",
     "text": [
      "{'echt', 'wel', 'goed', 'drag', 'houdt', 'publiek', 'covid', 'gan', 'lockdown', 'hand', 'masker', 'jij', 'dringend', 'regel', 'mens', 'wek', 'mondmasker', 'houd', 'mondkapj', 'mogelijk', 'wij', 'advies', 'elkar', 'meter', 'stuk', 'binnenruimtes', 'iederen', 'hel', 'horeca', 'blijv', 'allen', 'hou', 'musea', 'binn', 'tuss', 'anderhalv', 'vanaf', 'wer', 'rivm', 'blijf', 'besmet', 'onz', 'gat', 'zorg', 'volgen', 'even', 'nos', 'schol', 'buit', 'ander', 'zit', 'wass', 'zoal', 'zie', 'afstand', 'thuis', 'werk', 'verspreid', 'sted', 'grot', 'mee', 'mag', 'all', 'wet', 'waarom', 'maatregel', 'corona', 'minpres', 'lat', 'mak', 'test', 'denk', 'moet', 'net', 'vandag', 'mondkapjes', 'winkel', 'kom', 'gewon', 'war'}\n"
     ]
    },
    {
     "name": "stderr",
     "output_type": "stream",
     "text": [
      "                                                                                \r"
     ]
    }
   ],
   "source": [
    "k = 80\n",
    "top_keywords = {x.keyword for x in df_kw.limit(k).select('keyword').collect()}\n",
    "print(top_keywords)"
   ],
   "metadata": {
    "collapsed": false,
    "pycharm": {
     "name": "#%%\n"
    }
   }
  },
  {
   "cell_type": "code",
   "execution_count": 46,
   "outputs": [
    {
     "data": {
      "text/plain": "[Row(id='1311425852169744385', keyword='waarom'),\n Row(id='1311425852169744385', keyword='mondkapj'),\n Row(id='1311426330488180736', keyword='kom'),\n Row(id='1311426330488180736', keyword='gan'),\n Row(id='1311426330488180736', keyword='buit')]"
     },
     "execution_count": 46,
     "metadata": {},
     "output_type": "execute_result"
    }
   ],
   "source": [
    "filter_freq_udf = F.udf(lambda row: [kw for kw in row if kw in top_keywords], T.ArrayType(T.StringType()))\n",
    "df_freq_kw_doc = df_kw_doc.select('id', F.explode(filter_freq_udf(F.col('keywords'))).alias('keyword')).cache()\n",
    "df_freq_kw_doc.head(5)"
   ],
   "metadata": {
    "collapsed": false,
    "pycharm": {
     "name": "#%%\n"
    }
   }
  },
  {
   "cell_type": "code",
   "execution_count": 47,
   "outputs": [
    {
     "name": "stderr",
     "output_type": "stream",
     "text": [
      "                                                                                \r"
     ]
    },
    {
     "data": {
      "text/plain": "[Row(hashtag_id='040fungi', feat_echt=False, feat_wel=False, feat_goed=False, feat_drag=False, feat_houdt=False, feat_publiek=False, feat_covid=False, feat_gan=False, feat_lockdown=False, feat_hand=False, feat_masker=False, feat_jij=False, feat_dringend=False, feat_regel=False, feat_mens=False, feat_wek=False, feat_mondmasker=False, feat_houd=False, feat_mondkapj=False, feat_mogelijk=False, feat_wij=False, feat_advies=False, feat_elkar=False, feat_meter=True, feat_stuk=False, feat_binnenruimtes=False, feat_iederen=False, feat_hel=False, feat_horeca=False, feat_blijv=False, feat_allen=False, feat_hou=False, feat_musea=False, feat_binn=False, feat_tuss=False, feat_anderhalv=False, feat_vanaf=False, feat_wer=False, feat_rivm=False, feat_blijf=False, feat_besmet=False, feat_onz=False, feat_gat=False, feat_zorg=False, feat_volgen=False, feat_even=False, feat_nos=False, feat_schol=False, feat_buit=False, feat_ander=False, feat_zit=False, feat_wass=False, feat_zoal=False, feat_zie=False, feat_afstand=False, feat_thuis=False, feat_werk=False, feat_verspreid=False, feat_sted=False, feat_grot=False, feat_mee=False, feat_mag=False, feat_all=False, feat_wet=False, feat_waarom=False, feat_maatregel=False, feat_corona=False, feat_minpres=False, feat_lat=False, feat_mak=False, feat_test=False, feat_denk=False, feat_moet=True, feat_net=False, feat_vandag=False, feat_mondkapjes=False, feat_winkel=False, feat_kom=False, feat_gewon=False, feat_war=False),\n Row(hashtag_id='11stedenMcDrive', feat_echt=False, feat_wel=False, feat_goed=False, feat_drag=False, feat_houdt=False, feat_publiek=False, feat_covid=False, feat_gan=False, feat_lockdown=False, feat_hand=False, feat_masker=False, feat_jij=False, feat_dringend=False, feat_regel=False, feat_mens=False, feat_wek=False, feat_mondmasker=False, feat_houd=True, feat_mondkapj=False, feat_mogelijk=True, feat_wij=False, feat_advies=False, feat_elkar=False, feat_meter=False, feat_stuk=False, feat_binnenruimtes=False, feat_iederen=False, feat_hel=False, feat_horeca=False, feat_blijv=False, feat_allen=False, feat_hou=False, feat_musea=False, feat_binn=False, feat_tuss=False, feat_anderhalv=False, feat_vanaf=False, feat_wer=False, feat_rivm=False, feat_blijf=False, feat_besmet=False, feat_onz=False, feat_gat=False, feat_zorg=False, feat_volgen=False, feat_even=False, feat_nos=False, feat_schol=False, feat_buit=False, feat_ander=False, feat_zit=False, feat_wass=False, feat_zoal=False, feat_zie=False, feat_afstand=True, feat_thuis=False, feat_werk=False, feat_verspreid=False, feat_sted=False, feat_grot=False, feat_mee=False, feat_mag=False, feat_all=False, feat_wet=False, feat_waarom=False, feat_maatregel=False, feat_corona=False, feat_minpres=False, feat_lat=False, feat_mak=False, feat_test=False, feat_denk=False, feat_moet=False, feat_net=False, feat_vandag=False, feat_mondkapjes=False, feat_winkel=False, feat_kom=False, feat_gewon=False, feat_war=False),\n Row(hashtag_id='140ktober', feat_echt=False, feat_wel=False, feat_goed=False, feat_drag=False, feat_houdt=False, feat_publiek=False, feat_covid=False, feat_gan=False, feat_lockdown=False, feat_hand=False, feat_masker=False, feat_jij=False, feat_dringend=False, feat_regel=False, feat_mens=False, feat_wek=False, feat_mondmasker=False, feat_houd=False, feat_mondkapj=False, feat_mogelijk=False, feat_wij=False, feat_advies=False, feat_elkar=False, feat_meter=False, feat_stuk=False, feat_binnenruimtes=False, feat_iederen=False, feat_hel=False, feat_horeca=False, feat_blijv=False, feat_allen=False, feat_hou=False, feat_musea=False, feat_binn=False, feat_tuss=False, feat_anderhalv=False, feat_vanaf=False, feat_wer=False, feat_rivm=False, feat_blijf=False, feat_besmet=True, feat_onz=False, feat_gat=False, feat_zorg=False, feat_volgen=False, feat_even=False, feat_nos=False, feat_schol=False, feat_buit=False, feat_ander=False, feat_zit=False, feat_wass=False, feat_zoal=False, feat_zie=False, feat_afstand=False, feat_thuis=False, feat_werk=False, feat_verspreid=False, feat_sted=False, feat_grot=False, feat_mee=False, feat_mag=False, feat_all=False, feat_wet=False, feat_waarom=False, feat_maatregel=False, feat_corona=False, feat_minpres=False, feat_lat=False, feat_mak=False, feat_test=False, feat_denk=False, feat_moet=False, feat_net=False, feat_vandag=False, feat_mondkapjes=False, feat_winkel=False, feat_kom=False, feat_gewon=False, feat_war=False),\n Row(hashtag_id='150km', feat_echt=False, feat_wel=False, feat_goed=True, feat_drag=False, feat_houdt=False, feat_publiek=False, feat_covid=False, feat_gan=False, feat_lockdown=False, feat_hand=False, feat_masker=False, feat_jij=False, feat_dringend=False, feat_regel=False, feat_mens=False, feat_wek=False, feat_mondmasker=False, feat_houd=False, feat_mondkapj=False, feat_mogelijk=False, feat_wij=False, feat_advies=False, feat_elkar=False, feat_meter=False, feat_stuk=False, feat_binnenruimtes=False, feat_iederen=False, feat_hel=False, feat_horeca=False, feat_blijv=False, feat_allen=False, feat_hou=False, feat_musea=False, feat_binn=False, feat_tuss=False, feat_anderhalv=False, feat_vanaf=False, feat_wer=False, feat_rivm=False, feat_blijf=False, feat_besmet=False, feat_onz=False, feat_gat=False, feat_zorg=False, feat_volgen=False, feat_even=False, feat_nos=False, feat_schol=False, feat_buit=False, feat_ander=False, feat_zit=False, feat_wass=False, feat_zoal=False, feat_zie=False, feat_afstand=False, feat_thuis=False, feat_werk=False, feat_verspreid=False, feat_sted=False, feat_grot=False, feat_mee=False, feat_mag=False, feat_all=False, feat_wet=False, feat_waarom=False, feat_maatregel=False, feat_corona=False, feat_minpres=False, feat_lat=False, feat_mak=False, feat_test=False, feat_denk=False, feat_moet=False, feat_net=False, feat_vandag=False, feat_mondkapjes=False, feat_winkel=False, feat_kom=False, feat_gewon=False, feat_war=False),\n Row(hashtag_id='1dagniet', feat_echt=False, feat_wel=False, feat_goed=False, feat_drag=False, feat_houdt=False, feat_publiek=False, feat_covid=False, feat_gan=False, feat_lockdown=False, feat_hand=False, feat_masker=False, feat_jij=False, feat_dringend=False, feat_regel=False, feat_mens=False, feat_wek=False, feat_mondmasker=False, feat_houd=False, feat_mondkapj=False, feat_mogelijk=False, feat_wij=False, feat_advies=False, feat_elkar=False, feat_meter=False, feat_stuk=False, feat_binnenruimtes=False, feat_iederen=False, feat_hel=False, feat_horeca=False, feat_blijv=False, feat_allen=False, feat_hou=True, feat_musea=False, feat_binn=False, feat_tuss=False, feat_anderhalv=False, feat_vanaf=False, feat_wer=False, feat_rivm=False, feat_blijf=False, feat_besmet=False, feat_onz=False, feat_gat=False, feat_zorg=False, feat_volgen=False, feat_even=False, feat_nos=False, feat_schol=False, feat_buit=False, feat_ander=False, feat_zit=False, feat_wass=False, feat_zoal=False, feat_zie=False, feat_afstand=True, feat_thuis=True, feat_werk=False, feat_verspreid=False, feat_sted=False, feat_grot=False, feat_mee=False, feat_mag=False, feat_all=False, feat_wet=False, feat_waarom=False, feat_maatregel=False, feat_corona=False, feat_minpres=False, feat_lat=False, feat_mak=False, feat_test=False, feat_denk=False, feat_moet=False, feat_net=False, feat_vandag=False, feat_mondkapjes=False, feat_winkel=False, feat_kom=False, feat_gewon=False, feat_war=False)]"
     },
     "execution_count": 47,
     "metadata": {},
     "output_type": "execute_result"
    }
   ],
   "source": [
    "df_hashtag_feats = df_edges_mentioned_hashtag.select('src', 'dst')\\\n",
    "    .join(df_freq_kw_doc.alias('a'), F.col('src') == F.col('a.id'), 'inner')\\\n",
    "    .groupby('dst')\\\n",
    "    .agg(F.collect_list('keyword').alias('keywords'))\\\n",
    "    .select([F.col('dst').alias('hashtag_id')] + [\n",
    "        F.array_contains('keywords', F.lit(k)).alias('feat_' + str(k))\n",
    "        for k in top_keywords\n",
    "    ])\n",
    "df_hashtag_feats.head(5)"
   ],
   "metadata": {
    "collapsed": false,
    "pycharm": {
     "name": "#%%\n"
    }
   }
  },
  {
   "cell_type": "code",
   "execution_count": 48,
   "outputs": [
    {
     "data": {
      "text/plain": "[Row(id='040fungi', name='040fungi', hashtag_id='040fungi', feat_echt=False, feat_wel=False, feat_goed=False, feat_drag=False, feat_houdt=False, feat_publiek=False, feat_covid=False, feat_gan=False, feat_lockdown=False, feat_hand=False, feat_masker=False, feat_jij=False, feat_dringend=False, feat_regel=False, feat_mens=False, feat_wek=False, feat_mondmasker=False, feat_houd=False, feat_mondkapj=False, feat_mogelijk=False, feat_wij=False, feat_advies=False, feat_elkar=False, feat_meter=True, feat_stuk=False, feat_binnenruimtes=False, feat_iederen=False, feat_hel=False, feat_horeca=False, feat_blijv=False, feat_allen=False, feat_hou=False, feat_musea=False, feat_binn=False, feat_tuss=False, feat_anderhalv=False, feat_vanaf=False, feat_wer=False, feat_rivm=False, feat_blijf=False, feat_besmet=False, feat_onz=False, feat_gat=False, feat_zorg=False, feat_volgen=False, feat_even=False, feat_nos=False, feat_schol=False, feat_buit=False, feat_ander=False, feat_zit=False, feat_wass=False, feat_zoal=False, feat_zie=False, feat_afstand=False, feat_thuis=False, feat_werk=False, feat_verspreid=False, feat_sted=False, feat_grot=False, feat_mee=False, feat_mag=False, feat_all=False, feat_wet=False, feat_waarom=False, feat_maatregel=False, feat_corona=False, feat_minpres=False, feat_lat=False, feat_mak=False, feat_test=False, feat_denk=False, feat_moet=True, feat_net=False, feat_vandag=False, feat_mondkapjes=False, feat_winkel=False, feat_kom=False, feat_gewon=False, feat_war=False),\n Row(id='11stedenMcDrive', name='11stedenMcDrive', hashtag_id='11stedenMcDrive', feat_echt=False, feat_wel=False, feat_goed=False, feat_drag=False, feat_houdt=False, feat_publiek=False, feat_covid=False, feat_gan=False, feat_lockdown=False, feat_hand=False, feat_masker=False, feat_jij=False, feat_dringend=False, feat_regel=False, feat_mens=False, feat_wek=False, feat_mondmasker=False, feat_houd=True, feat_mondkapj=False, feat_mogelijk=True, feat_wij=False, feat_advies=False, feat_elkar=False, feat_meter=False, feat_stuk=False, feat_binnenruimtes=False, feat_iederen=False, feat_hel=False, feat_horeca=False, feat_blijv=False, feat_allen=False, feat_hou=False, feat_musea=False, feat_binn=False, feat_tuss=False, feat_anderhalv=False, feat_vanaf=False, feat_wer=False, feat_rivm=False, feat_blijf=False, feat_besmet=False, feat_onz=False, feat_gat=False, feat_zorg=False, feat_volgen=False, feat_even=False, feat_nos=False, feat_schol=False, feat_buit=False, feat_ander=False, feat_zit=False, feat_wass=False, feat_zoal=False, feat_zie=False, feat_afstand=True, feat_thuis=False, feat_werk=False, feat_verspreid=False, feat_sted=False, feat_grot=False, feat_mee=False, feat_mag=False, feat_all=False, feat_wet=False, feat_waarom=False, feat_maatregel=False, feat_corona=False, feat_minpres=False, feat_lat=False, feat_mak=False, feat_test=False, feat_denk=False, feat_moet=False, feat_net=False, feat_vandag=False, feat_mondkapjes=False, feat_winkel=False, feat_kom=False, feat_gewon=False, feat_war=False),\n Row(id='140ktober', name='140ktober', hashtag_id='140ktober', feat_echt=False, feat_wel=False, feat_goed=False, feat_drag=False, feat_houdt=False, feat_publiek=False, feat_covid=False, feat_gan=False, feat_lockdown=False, feat_hand=False, feat_masker=False, feat_jij=False, feat_dringend=False, feat_regel=False, feat_mens=False, feat_wek=False, feat_mondmasker=False, feat_houd=False, feat_mondkapj=False, feat_mogelijk=False, feat_wij=False, feat_advies=False, feat_elkar=False, feat_meter=False, feat_stuk=False, feat_binnenruimtes=False, feat_iederen=False, feat_hel=False, feat_horeca=False, feat_blijv=False, feat_allen=False, feat_hou=False, feat_musea=False, feat_binn=False, feat_tuss=False, feat_anderhalv=False, feat_vanaf=False, feat_wer=False, feat_rivm=False, feat_blijf=False, feat_besmet=True, feat_onz=False, feat_gat=False, feat_zorg=False, feat_volgen=False, feat_even=False, feat_nos=False, feat_schol=False, feat_buit=False, feat_ander=False, feat_zit=False, feat_wass=False, feat_zoal=False, feat_zie=False, feat_afstand=False, feat_thuis=False, feat_werk=False, feat_verspreid=False, feat_sted=False, feat_grot=False, feat_mee=False, feat_mag=False, feat_all=False, feat_wet=False, feat_waarom=False, feat_maatregel=False, feat_corona=False, feat_minpres=False, feat_lat=False, feat_mak=False, feat_test=False, feat_denk=False, feat_moet=False, feat_net=False, feat_vandag=False, feat_mondkapjes=False, feat_winkel=False, feat_kom=False, feat_gewon=False, feat_war=False),\n Row(id='150km', name='150km', hashtag_id='150km', feat_echt=False, feat_wel=False, feat_goed=True, feat_drag=False, feat_houdt=False, feat_publiek=False, feat_covid=False, feat_gan=False, feat_lockdown=False, feat_hand=False, feat_masker=False, feat_jij=False, feat_dringend=False, feat_regel=False, feat_mens=False, feat_wek=False, feat_mondmasker=False, feat_houd=False, feat_mondkapj=False, feat_mogelijk=False, feat_wij=False, feat_advies=False, feat_elkar=False, feat_meter=False, feat_stuk=False, feat_binnenruimtes=False, feat_iederen=False, feat_hel=False, feat_horeca=False, feat_blijv=False, feat_allen=False, feat_hou=False, feat_musea=False, feat_binn=False, feat_tuss=False, feat_anderhalv=False, feat_vanaf=False, feat_wer=False, feat_rivm=False, feat_blijf=False, feat_besmet=False, feat_onz=False, feat_gat=False, feat_zorg=False, feat_volgen=False, feat_even=False, feat_nos=False, feat_schol=False, feat_buit=False, feat_ander=False, feat_zit=False, feat_wass=False, feat_zoal=False, feat_zie=False, feat_afstand=False, feat_thuis=False, feat_werk=False, feat_verspreid=False, feat_sted=False, feat_grot=False, feat_mee=False, feat_mag=False, feat_all=False, feat_wet=False, feat_waarom=False, feat_maatregel=False, feat_corona=False, feat_minpres=False, feat_lat=False, feat_mak=False, feat_test=False, feat_denk=False, feat_moet=False, feat_net=False, feat_vandag=False, feat_mondkapjes=False, feat_winkel=False, feat_kom=False, feat_gewon=False, feat_war=False),\n Row(id='1dagniet', name='1dagniet', hashtag_id='1dagniet', feat_echt=False, feat_wel=False, feat_goed=False, feat_drag=False, feat_houdt=False, feat_publiek=False, feat_covid=False, feat_gan=False, feat_lockdown=False, feat_hand=False, feat_masker=False, feat_jij=False, feat_dringend=False, feat_regel=False, feat_mens=False, feat_wek=False, feat_mondmasker=False, feat_houd=False, feat_mondkapj=False, feat_mogelijk=False, feat_wij=False, feat_advies=False, feat_elkar=False, feat_meter=False, feat_stuk=False, feat_binnenruimtes=False, feat_iederen=False, feat_hel=False, feat_horeca=False, feat_blijv=False, feat_allen=False, feat_hou=True, feat_musea=False, feat_binn=False, feat_tuss=False, feat_anderhalv=False, feat_vanaf=False, feat_wer=False, feat_rivm=False, feat_blijf=False, feat_besmet=False, feat_onz=False, feat_gat=False, feat_zorg=False, feat_volgen=False, feat_even=False, feat_nos=False, feat_schol=False, feat_buit=False, feat_ander=False, feat_zit=False, feat_wass=False, feat_zoal=False, feat_zie=False, feat_afstand=True, feat_thuis=True, feat_werk=False, feat_verspreid=False, feat_sted=False, feat_grot=False, feat_mee=False, feat_mag=False, feat_all=False, feat_wet=False, feat_waarom=False, feat_maatregel=False, feat_corona=False, feat_minpres=False, feat_lat=False, feat_mak=False, feat_test=False, feat_denk=False, feat_moet=False, feat_net=False, feat_vandag=False, feat_mondkapjes=False, feat_winkel=False, feat_kom=False, feat_gewon=False, feat_war=False)]"
     },
     "execution_count": 48,
     "metadata": {},
     "output_type": "execute_result"
    }
   ],
   "source": [
    "df_nodes_hashtags = df_nodes_hashtags_tmp\\\n",
    "    .join(df_hashtag_feats, F.col('id') == F.col('hashtag_id'), 'left')\n",
    "df_nodes_hashtags.head(5)"
   ],
   "metadata": {
    "collapsed": false,
    "pycharm": {
     "name": "#%%\n"
    }
   }
  },
  {
   "cell_type": "code",
   "execution_count": 49,
   "outputs": [
    {
     "data": {
      "text/plain": "[Row(user_id='100002919', feat_echt=False, feat_wel=False, feat_goed=False, feat_drag=False, feat_houdt=True, feat_publiek=False, feat_covid=False, feat_gan=False, feat_lockdown=False, feat_hand=False, feat_masker=False, feat_jij=False, feat_dringend=False, feat_regel=False, feat_mens=True, feat_wek=False, feat_mondmasker=False, feat_houd=False, feat_mondkapj=False, feat_mogelijk=False, feat_wij=False, feat_advies=False, feat_elkar=False, feat_meter=True, feat_stuk=False, feat_binnenruimtes=False, feat_iederen=False, feat_hel=False, feat_horeca=True, feat_blijv=False, feat_allen=True, feat_hou=False, feat_musea=False, feat_binn=False, feat_tuss=True, feat_anderhalv=False, feat_vanaf=False, feat_wer=False, feat_rivm=False, feat_blijf=False, feat_besmet=False, feat_onz=False, feat_gat=True, feat_zorg=False, feat_volgen=False, feat_even=False, feat_nos=False, feat_schol=False, feat_buit=False, feat_ander=False, feat_zit=False, feat_wass=False, feat_zoal=False, feat_zie=False, feat_afstand=False, feat_thuis=False, feat_werk=False, feat_verspreid=False, feat_sted=False, feat_grot=False, feat_mee=False, feat_mag=False, feat_all=False, feat_wet=False, feat_waarom=False, feat_maatregel=False, feat_corona=False, feat_minpres=False, feat_lat=False, feat_mak=False, feat_test=False, feat_denk=False, feat_moet=False, feat_net=False, feat_vandag=False, feat_mondkapjes=False, feat_winkel=False, feat_kom=False, feat_gewon=False, feat_war=True),\n Row(user_id='10003862', feat_echt=False, feat_wel=False, feat_goed=False, feat_drag=False, feat_houdt=False, feat_publiek=False, feat_covid=False, feat_gan=False, feat_lockdown=False, feat_hand=False, feat_masker=False, feat_jij=False, feat_dringend=False, feat_regel=False, feat_mens=False, feat_wek=False, feat_mondmasker=False, feat_houd=False, feat_mondkapj=False, feat_mogelijk=False, feat_wij=True, feat_advies=False, feat_elkar=False, feat_meter=True, feat_stuk=False, feat_binnenruimtes=False, feat_iederen=False, feat_hel=False, feat_horeca=False, feat_blijv=False, feat_allen=False, feat_hou=False, feat_musea=False, feat_binn=False, feat_tuss=False, feat_anderhalv=False, feat_vanaf=False, feat_wer=False, feat_rivm=False, feat_blijf=False, feat_besmet=False, feat_onz=False, feat_gat=False, feat_zorg=False, feat_volgen=False, feat_even=False, feat_nos=False, feat_schol=False, feat_buit=False, feat_ander=False, feat_zit=True, feat_wass=False, feat_zoal=False, feat_zie=False, feat_afstand=False, feat_thuis=False, feat_werk=False, feat_verspreid=False, feat_sted=False, feat_grot=True, feat_mee=False, feat_mag=False, feat_all=False, feat_wet=False, feat_waarom=False, feat_maatregel=False, feat_corona=False, feat_minpres=False, feat_lat=False, feat_mak=False, feat_test=False, feat_denk=False, feat_moet=False, feat_net=False, feat_vandag=False, feat_mondkapjes=False, feat_winkel=False, feat_kom=False, feat_gewon=False, feat_war=False),\n Row(user_id='1000414316238172163', feat_echt=False, feat_wel=True, feat_goed=False, feat_drag=False, feat_houdt=False, feat_publiek=False, feat_covid=False, feat_gan=False, feat_lockdown=False, feat_hand=False, feat_masker=False, feat_jij=False, feat_dringend=False, feat_regel=False, feat_mens=True, feat_wek=False, feat_mondmasker=False, feat_houd=True, feat_mondkapj=False, feat_mogelijk=False, feat_wij=False, feat_advies=False, feat_elkar=False, feat_meter=True, feat_stuk=False, feat_binnenruimtes=False, feat_iederen=False, feat_hel=False, feat_horeca=False, feat_blijv=False, feat_allen=False, feat_hou=False, feat_musea=False, feat_binn=False, feat_tuss=False, feat_anderhalv=False, feat_vanaf=False, feat_wer=False, feat_rivm=False, feat_blijf=False, feat_besmet=False, feat_onz=False, feat_gat=False, feat_zorg=False, feat_volgen=False, feat_even=False, feat_nos=False, feat_schol=False, feat_buit=False, feat_ander=False, feat_zit=False, feat_wass=False, feat_zoal=False, feat_zie=False, feat_afstand=False, feat_thuis=False, feat_werk=False, feat_verspreid=False, feat_sted=False, feat_grot=False, feat_mee=False, feat_mag=False, feat_all=False, feat_wet=False, feat_waarom=False, feat_maatregel=False, feat_corona=False, feat_minpres=False, feat_lat=False, feat_mak=False, feat_test=False, feat_denk=True, feat_moet=False, feat_net=False, feat_vandag=False, feat_mondkapjes=False, feat_winkel=False, feat_kom=False, feat_gewon=False, feat_war=False),\n Row(user_id='1000464536082747393', feat_echt=True, feat_wel=False, feat_goed=False, feat_drag=False, feat_houdt=False, feat_publiek=False, feat_covid=False, feat_gan=False, feat_lockdown=False, feat_hand=False, feat_masker=False, feat_jij=False, feat_dringend=False, feat_regel=False, feat_mens=False, feat_wek=False, feat_mondmasker=False, feat_houd=True, feat_mondkapj=False, feat_mogelijk=False, feat_wij=False, feat_advies=False, feat_elkar=False, feat_meter=False, feat_stuk=False, feat_binnenruimtes=False, feat_iederen=False, feat_hel=False, feat_horeca=False, feat_blijv=False, feat_allen=False, feat_hou=False, feat_musea=False, feat_binn=False, feat_tuss=False, feat_anderhalv=False, feat_vanaf=False, feat_wer=False, feat_rivm=False, feat_blijf=False, feat_besmet=False, feat_onz=False, feat_gat=False, feat_zorg=False, feat_volgen=False, feat_even=False, feat_nos=False, feat_schol=False, feat_buit=False, feat_ander=False, feat_zit=False, feat_wass=False, feat_zoal=False, feat_zie=False, feat_afstand=True, feat_thuis=False, feat_werk=False, feat_verspreid=False, feat_sted=False, feat_grot=False, feat_mee=False, feat_mag=False, feat_all=False, feat_wet=False, feat_waarom=True, feat_maatregel=False, feat_corona=False, feat_minpres=False, feat_lat=False, feat_mak=False, feat_test=False, feat_denk=False, feat_moet=False, feat_net=False, feat_vandag=False, feat_mondkapjes=False, feat_winkel=False, feat_kom=False, feat_gewon=False, feat_war=False),\n Row(user_id='1000657366310969344', feat_echt=False, feat_wel=False, feat_goed=False, feat_drag=False, feat_houdt=False, feat_publiek=False, feat_covid=False, feat_gan=False, feat_lockdown=False, feat_hand=False, feat_masker=False, feat_jij=False, feat_dringend=False, feat_regel=False, feat_mens=False, feat_wek=False, feat_mondmasker=False, feat_houd=True, feat_mondkapj=False, feat_mogelijk=False, feat_wij=False, feat_advies=False, feat_elkar=False, feat_meter=False, feat_stuk=False, feat_binnenruimtes=False, feat_iederen=False, feat_hel=False, feat_horeca=False, feat_blijv=False, feat_allen=False, feat_hou=False, feat_musea=False, feat_binn=False, feat_tuss=False, feat_anderhalv=False, feat_vanaf=False, feat_wer=False, feat_rivm=False, feat_blijf=False, feat_besmet=False, feat_onz=False, feat_gat=False, feat_zorg=False, feat_volgen=False, feat_even=False, feat_nos=False, feat_schol=False, feat_buit=False, feat_ander=False, feat_zit=False, feat_wass=False, feat_zoal=False, feat_zie=False, feat_afstand=True, feat_thuis=False, feat_werk=False, feat_verspreid=False, feat_sted=False, feat_grot=False, feat_mee=False, feat_mag=False, feat_all=False, feat_wet=False, feat_waarom=False, feat_maatregel=False, feat_corona=False, feat_minpres=False, feat_lat=False, feat_mak=False, feat_test=False, feat_denk=False, feat_moet=False, feat_net=False, feat_vandag=False, feat_mondkapjes=False, feat_winkel=False, feat_kom=False, feat_gewon=False, feat_war=False)]"
     },
     "execution_count": 49,
     "metadata": {},
     "output_type": "execute_result"
    }
   ],
   "source": [
    "df_user_feats = df_edges_tweeted.select('src', 'dst')\\\n",
    "    .join(df_freq_kw_doc.alias('a'), F.col('dst') == F.col('a.id'), 'inner')\\\n",
    "    .groupby('src')\\\n",
    "    .agg(F.collect_list('keyword').alias('keywords'))\\\n",
    "    .select([F.col('src').alias('user_id')] + [\n",
    "        F.array_contains('keywords', F.lit(k)).alias('feat_' + str(k))\n",
    "        for k in top_keywords\n",
    "    ])\n",
    "df_user_feats.head(5)"
   ],
   "metadata": {
    "collapsed": false,
    "pycharm": {
     "name": "#%%\n"
    }
   }
  },
  {
   "cell_type": "code",
   "execution_count": 50,
   "outputs": [
    {
     "name": "stderr",
     "output_type": "stream",
     "text": [
      "                                                                                \r"
     ]
    },
    {
     "data": {
      "text/plain": "[Row(name='Russel⁷ ✜ +×', screen_name='HoldOnSoobin', id='1000331230565617666', user_id=None, feat_echt=None, feat_wel=None, feat_goed=None, feat_drag=None, feat_houdt=None, feat_publiek=None, feat_covid=None, feat_gan=None, feat_lockdown=None, feat_hand=None, feat_masker=None, feat_jij=None, feat_dringend=None, feat_regel=None, feat_mens=None, feat_wek=None, feat_mondmasker=None, feat_houd=None, feat_mondkapj=None, feat_mogelijk=None, feat_wij=None, feat_advies=None, feat_elkar=None, feat_meter=None, feat_stuk=None, feat_binnenruimtes=None, feat_iederen=None, feat_hel=None, feat_horeca=None, feat_blijv=None, feat_allen=None, feat_hou=None, feat_musea=None, feat_binn=None, feat_tuss=None, feat_anderhalv=None, feat_vanaf=None, feat_wer=None, feat_rivm=None, feat_blijf=None, feat_besmet=None, feat_onz=None, feat_gat=None, feat_zorg=None, feat_volgen=None, feat_even=None, feat_nos=None, feat_schol=None, feat_buit=None, feat_ander=None, feat_zit=None, feat_wass=None, feat_zoal=None, feat_zie=None, feat_afstand=None, feat_thuis=None, feat_werk=None, feat_verspreid=None, feat_sted=None, feat_grot=None, feat_mee=None, feat_mag=None, feat_all=None, feat_wet=None, feat_waarom=None, feat_maatregel=None, feat_corona=None, feat_minpres=None, feat_lat=None, feat_mak=None, feat_test=None, feat_denk=None, feat_moet=None, feat_net=None, feat_vandag=None, feat_mondkapjes=None, feat_winkel=None, feat_kom=None, feat_gewon=None, feat_war=None),\n Row(name='abkuijer❌❌❌', screen_name='abkuijer', id='10003862', user_id='10003862', feat_echt=False, feat_wel=False, feat_goed=False, feat_drag=False, feat_houdt=False, feat_publiek=False, feat_covid=False, feat_gan=False, feat_lockdown=False, feat_hand=False, feat_masker=False, feat_jij=False, feat_dringend=False, feat_regel=False, feat_mens=False, feat_wek=False, feat_mondmasker=False, feat_houd=False, feat_mondkapj=False, feat_mogelijk=False, feat_wij=True, feat_advies=False, feat_elkar=False, feat_meter=True, feat_stuk=False, feat_binnenruimtes=False, feat_iederen=False, feat_hel=False, feat_horeca=False, feat_blijv=False, feat_allen=False, feat_hou=False, feat_musea=False, feat_binn=False, feat_tuss=False, feat_anderhalv=False, feat_vanaf=False, feat_wer=False, feat_rivm=False, feat_blijf=False, feat_besmet=False, feat_onz=False, feat_gat=False, feat_zorg=False, feat_volgen=False, feat_even=False, feat_nos=False, feat_schol=False, feat_buit=False, feat_ander=False, feat_zit=True, feat_wass=False, feat_zoal=False, feat_zie=False, feat_afstand=False, feat_thuis=False, feat_werk=False, feat_verspreid=False, feat_sted=False, feat_grot=True, feat_mee=False, feat_mag=False, feat_all=False, feat_wet=False, feat_waarom=False, feat_maatregel=False, feat_corona=False, feat_minpres=False, feat_lat=False, feat_mak=False, feat_test=False, feat_denk=False, feat_moet=False, feat_net=False, feat_vandag=False, feat_mondkapjes=False, feat_winkel=False, feat_kom=False, feat_gewon=False, feat_war=False),\n Row(name='Koen', screen_name='koen0612', id='1000414316238172163', user_id='1000414316238172163', feat_echt=False, feat_wel=True, feat_goed=False, feat_drag=False, feat_houdt=False, feat_publiek=False, feat_covid=False, feat_gan=False, feat_lockdown=False, feat_hand=False, feat_masker=False, feat_jij=False, feat_dringend=False, feat_regel=False, feat_mens=True, feat_wek=False, feat_mondmasker=False, feat_houd=True, feat_mondkapj=False, feat_mogelijk=False, feat_wij=False, feat_advies=False, feat_elkar=False, feat_meter=True, feat_stuk=False, feat_binnenruimtes=False, feat_iederen=False, feat_hel=False, feat_horeca=False, feat_blijv=False, feat_allen=False, feat_hou=False, feat_musea=False, feat_binn=False, feat_tuss=False, feat_anderhalv=False, feat_vanaf=False, feat_wer=False, feat_rivm=False, feat_blijf=False, feat_besmet=False, feat_onz=False, feat_gat=False, feat_zorg=False, feat_volgen=False, feat_even=False, feat_nos=False, feat_schol=False, feat_buit=False, feat_ander=False, feat_zit=False, feat_wass=False, feat_zoal=False, feat_zie=False, feat_afstand=False, feat_thuis=False, feat_werk=False, feat_verspreid=False, feat_sted=False, feat_grot=False, feat_mee=False, feat_mag=False, feat_all=False, feat_wet=False, feat_waarom=False, feat_maatregel=False, feat_corona=False, feat_minpres=False, feat_lat=False, feat_mak=False, feat_test=False, feat_denk=True, feat_moet=False, feat_net=False, feat_vandag=False, feat_mondkapjes=False, feat_winkel=False, feat_kom=False, feat_gewon=False, feat_war=False),\n Row(name='☾fey⁷ JIMIN DAAY', screen_name='cherrykissjoon', id='1001361715907514368', user_id=None, feat_echt=None, feat_wel=None, feat_goed=None, feat_drag=None, feat_houdt=None, feat_publiek=None, feat_covid=None, feat_gan=None, feat_lockdown=None, feat_hand=None, feat_masker=None, feat_jij=None, feat_dringend=None, feat_regel=None, feat_mens=None, feat_wek=None, feat_mondmasker=None, feat_houd=None, feat_mondkapj=None, feat_mogelijk=None, feat_wij=None, feat_advies=None, feat_elkar=None, feat_meter=None, feat_stuk=None, feat_binnenruimtes=None, feat_iederen=None, feat_hel=None, feat_horeca=None, feat_blijv=None, feat_allen=None, feat_hou=None, feat_musea=None, feat_binn=None, feat_tuss=None, feat_anderhalv=None, feat_vanaf=None, feat_wer=None, feat_rivm=None, feat_blijf=None, feat_besmet=None, feat_onz=None, feat_gat=None, feat_zorg=None, feat_volgen=None, feat_even=None, feat_nos=None, feat_schol=None, feat_buit=None, feat_ander=None, feat_zit=None, feat_wass=None, feat_zoal=None, feat_zie=None, feat_afstand=None, feat_thuis=None, feat_werk=None, feat_verspreid=None, feat_sted=None, feat_grot=None, feat_mee=None, feat_mag=None, feat_all=None, feat_wet=None, feat_waarom=None, feat_maatregel=None, feat_corona=None, feat_minpres=None, feat_lat=None, feat_mak=None, feat_test=None, feat_denk=None, feat_moet=None, feat_net=None, feat_vandag=None, feat_mondkapjes=None, feat_winkel=None, feat_kom=None, feat_gewon=None, feat_war=None),\n Row(name='Annet de Vries', screen_name='AnnetdeVries3', id='1001485855448621056', user_id='1001485855448621056', feat_echt=False, feat_wel=False, feat_goed=False, feat_drag=False, feat_houdt=False, feat_publiek=False, feat_covid=False, feat_gan=True, feat_lockdown=False, feat_hand=False, feat_masker=False, feat_jij=False, feat_dringend=False, feat_regel=False, feat_mens=False, feat_wek=False, feat_mondmasker=False, feat_houd=False, feat_mondkapj=False, feat_mogelijk=False, feat_wij=False, feat_advies=False, feat_elkar=False, feat_meter=False, feat_stuk=False, feat_binnenruimtes=False, feat_iederen=False, feat_hel=False, feat_horeca=False, feat_blijv=False, feat_allen=False, feat_hou=False, feat_musea=False, feat_binn=False, feat_tuss=False, feat_anderhalv=False, feat_vanaf=False, feat_wer=False, feat_rivm=False, feat_blijf=False, feat_besmet=False, feat_onz=False, feat_gat=False, feat_zorg=False, feat_volgen=False, feat_even=False, feat_nos=False, feat_schol=False, feat_buit=False, feat_ander=False, feat_zit=False, feat_wass=False, feat_zoal=False, feat_zie=False, feat_afstand=False, feat_thuis=False, feat_werk=False, feat_verspreid=False, feat_sted=False, feat_grot=False, feat_mee=False, feat_mag=False, feat_all=False, feat_wet=False, feat_waarom=False, feat_maatregel=False, feat_corona=False, feat_minpres=False, feat_lat=False, feat_mak=False, feat_test=False, feat_denk=False, feat_moet=False, feat_net=False, feat_vandag=False, feat_mondkapjes=False, feat_winkel=False, feat_kom=False, feat_gewon=False, feat_war=False)]"
     },
     "execution_count": 50,
     "metadata": {},
     "output_type": "execute_result"
    }
   ],
   "source": [
    "df_nodes_users = df_nodes_users_tmp\\\n",
    "    .join(df_user_feats, F.col('id') == F.col('user_id'), 'left')\n",
    "df_nodes_users.head(5)"
   ],
   "metadata": {
    "collapsed": false,
    "pycharm": {
     "name": "#%%\n"
    }
   }
  },
  {
   "cell_type": "markdown",
   "source": [
    "# Saving The Data"
   ],
   "metadata": {
    "collapsed": false,
    "pycharm": {
     "name": "#%% md\n"
    }
   }
  },
  {
   "cell_type": "code",
   "execution_count": 51,
   "metadata": {
    "pycharm": {
     "name": "#%%\n"
    }
   },
   "outputs": [
    {
     "name": "stderr",
     "output_type": "stream",
     "text": [
      "                                                                                \r"
     ]
    }
   ],
   "source": [
    "df_nodes_users.write.parquet(DATASET.processed_str('nodes_User'), mode='overwrite')\n",
    "df_nodes_hashtags.write.parquet(DATASET.processed_str('nodes_Hashtag'), mode='overwrite')\n",
    "df_nodes_tweets.write.parquet(DATASET.processed_str('nodes_Tweet'), mode='overwrite')"
   ]
  },
  {
   "cell_type": "code",
   "execution_count": 52,
   "outputs": [
    {
     "name": "stderr",
     "output_type": "stream",
     "text": [
      "                                                                                \r"
     ]
    }
   ],
   "source": [
    "df_edges_tweeted.write.parquet(DATASET.processed_str('edges_TWEETED'), mode='overwrite')\n",
    "df_edges_reply_to_user.write.parquet(DATASET.processed_str('edges_REPLIES_TO_USER'), mode='overwrite')\n",
    "df_edges_reply_to_tweet.write.parquet(DATASET.processed_str('edges_REPLIES_TO_TWEET'), mode='overwrite')\n",
    "df_edges_quote_tweet.write.parquet(DATASET.processed_str('edges_QUOTES_TWEET'), mode='overwrite')\n",
    "df_edges_mentioned_user.write.parquet(DATASET.processed_str('edges_MENTIONS_USER'), mode='overwrite')\n",
    "df_edges_mentioned_hashtag.write.parquet(DATASET.processed_str('edges_MENTIONS_HASHTAG'), mode='overwrite')\n",
    "df_edges_follows.write.parquet(DATASET.processed_str('edges_FOLLOWS'), mode='overwrite')"
   ],
   "metadata": {
    "collapsed": false,
    "pycharm": {
     "name": "#%%\n"
    }
   }
  },
  {
   "cell_type": "code",
   "execution_count": 53,
   "outputs": [
    {
     "data": {
      "text/plain": "GraphSchema(_path=PosixPath('/data/pella/projects/University/Thesis/Thesis/code/storage/datasets/processed/social-distancing-student'), nodes={'User': NodeSchema(_type='User', _schema=..., label='name', properties={'name': GraphProperty(_name='name', dtype=DType(atomic=<DTypeAtomic.STRING: 'string'>, array=False)), 'screen_name': GraphProperty(_name='screen_name', dtype=DType(atomic=<DTypeAtomic.STRING: 'string'>, array=False)), 'id': GraphProperty(_name='id', dtype=DType(atomic=<DTypeAtomic.STRING: 'string'>, array=False)), 'user_id': GraphProperty(_name='user_id', dtype=DType(atomic=<DTypeAtomic.STRING: 'string'>, array=False)), 'feat_echt': GraphProperty(_name='feat_echt', dtype=DType(atomic=<DTypeAtomic.BOOL: 'boolean'>, array=False)), 'feat_wel': GraphProperty(_name='feat_wel', dtype=DType(atomic=<DTypeAtomic.BOOL: 'boolean'>, array=False)), 'feat_goed': GraphProperty(_name='feat_goed', dtype=DType(atomic=<DTypeAtomic.BOOL: 'boolean'>, array=False)), 'feat_drag': GraphProperty(_name='feat_drag', dtype=DType(atomic=<DTypeAtomic.BOOL: 'boolean'>, array=False)), 'feat_houdt': GraphProperty(_name='feat_houdt', dtype=DType(atomic=<DTypeAtomic.BOOL: 'boolean'>, array=False)), 'feat_publiek': GraphProperty(_name='feat_publiek', dtype=DType(atomic=<DTypeAtomic.BOOL: 'boolean'>, array=False)), 'feat_covid': GraphProperty(_name='feat_covid', dtype=DType(atomic=<DTypeAtomic.BOOL: 'boolean'>, array=False)), 'feat_gan': GraphProperty(_name='feat_gan', dtype=DType(atomic=<DTypeAtomic.BOOL: 'boolean'>, array=False)), 'feat_lockdown': GraphProperty(_name='feat_lockdown', dtype=DType(atomic=<DTypeAtomic.BOOL: 'boolean'>, array=False)), 'feat_hand': GraphProperty(_name='feat_hand', dtype=DType(atomic=<DTypeAtomic.BOOL: 'boolean'>, array=False)), 'feat_masker': GraphProperty(_name='feat_masker', dtype=DType(atomic=<DTypeAtomic.BOOL: 'boolean'>, array=False)), 'feat_jij': GraphProperty(_name='feat_jij', dtype=DType(atomic=<DTypeAtomic.BOOL: 'boolean'>, array=False)), 'feat_dringend': GraphProperty(_name='feat_dringend', dtype=DType(atomic=<DTypeAtomic.BOOL: 'boolean'>, array=False)), 'feat_regel': GraphProperty(_name='feat_regel', dtype=DType(atomic=<DTypeAtomic.BOOL: 'boolean'>, array=False)), 'feat_mens': GraphProperty(_name='feat_mens', dtype=DType(atomic=<DTypeAtomic.BOOL: 'boolean'>, array=False)), 'feat_wek': GraphProperty(_name='feat_wek', dtype=DType(atomic=<DTypeAtomic.BOOL: 'boolean'>, array=False)), 'feat_mondmasker': GraphProperty(_name='feat_mondmasker', dtype=DType(atomic=<DTypeAtomic.BOOL: 'boolean'>, array=False)), 'feat_houd': GraphProperty(_name='feat_houd', dtype=DType(atomic=<DTypeAtomic.BOOL: 'boolean'>, array=False)), 'feat_mondkapj': GraphProperty(_name='feat_mondkapj', dtype=DType(atomic=<DTypeAtomic.BOOL: 'boolean'>, array=False)), 'feat_mogelijk': GraphProperty(_name='feat_mogelijk', dtype=DType(atomic=<DTypeAtomic.BOOL: 'boolean'>, array=False)), 'feat_wij': GraphProperty(_name='feat_wij', dtype=DType(atomic=<DTypeAtomic.BOOL: 'boolean'>, array=False)), 'feat_advies': GraphProperty(_name='feat_advies', dtype=DType(atomic=<DTypeAtomic.BOOL: 'boolean'>, array=False)), 'feat_elkar': GraphProperty(_name='feat_elkar', dtype=DType(atomic=<DTypeAtomic.BOOL: 'boolean'>, array=False)), 'feat_meter': GraphProperty(_name='feat_meter', dtype=DType(atomic=<DTypeAtomic.BOOL: 'boolean'>, array=False)), 'feat_stuk': GraphProperty(_name='feat_stuk', dtype=DType(atomic=<DTypeAtomic.BOOL: 'boolean'>, array=False)), 'feat_binnenruimtes': GraphProperty(_name='feat_binnenruimtes', dtype=DType(atomic=<DTypeAtomic.BOOL: 'boolean'>, array=False)), 'feat_iederen': GraphProperty(_name='feat_iederen', dtype=DType(atomic=<DTypeAtomic.BOOL: 'boolean'>, array=False)), 'feat_hel': GraphProperty(_name='feat_hel', dtype=DType(atomic=<DTypeAtomic.BOOL: 'boolean'>, array=False)), 'feat_horeca': GraphProperty(_name='feat_horeca', dtype=DType(atomic=<DTypeAtomic.BOOL: 'boolean'>, array=False)), 'feat_blijv': GraphProperty(_name='feat_blijv', dtype=DType(atomic=<DTypeAtomic.BOOL: 'boolean'>, array=False)), 'feat_allen': GraphProperty(_name='feat_allen', dtype=DType(atomic=<DTypeAtomic.BOOL: 'boolean'>, array=False)), 'feat_hou': GraphProperty(_name='feat_hou', dtype=DType(atomic=<DTypeAtomic.BOOL: 'boolean'>, array=False)), 'feat_musea': GraphProperty(_name='feat_musea', dtype=DType(atomic=<DTypeAtomic.BOOL: 'boolean'>, array=False)), 'feat_binn': GraphProperty(_name='feat_binn', dtype=DType(atomic=<DTypeAtomic.BOOL: 'boolean'>, array=False)), 'feat_tuss': GraphProperty(_name='feat_tuss', dtype=DType(atomic=<DTypeAtomic.BOOL: 'boolean'>, array=False)), 'feat_anderhalv': GraphProperty(_name='feat_anderhalv', dtype=DType(atomic=<DTypeAtomic.BOOL: 'boolean'>, array=False)), 'feat_vanaf': GraphProperty(_name='feat_vanaf', dtype=DType(atomic=<DTypeAtomic.BOOL: 'boolean'>, array=False)), 'feat_wer': GraphProperty(_name='feat_wer', dtype=DType(atomic=<DTypeAtomic.BOOL: 'boolean'>, array=False)), 'feat_rivm': GraphProperty(_name='feat_rivm', dtype=DType(atomic=<DTypeAtomic.BOOL: 'boolean'>, array=False)), 'feat_blijf': GraphProperty(_name='feat_blijf', dtype=DType(atomic=<DTypeAtomic.BOOL: 'boolean'>, array=False)), 'feat_besmet': GraphProperty(_name='feat_besmet', dtype=DType(atomic=<DTypeAtomic.BOOL: 'boolean'>, array=False)), 'feat_onz': GraphProperty(_name='feat_onz', dtype=DType(atomic=<DTypeAtomic.BOOL: 'boolean'>, array=False)), 'feat_gat': GraphProperty(_name='feat_gat', dtype=DType(atomic=<DTypeAtomic.BOOL: 'boolean'>, array=False)), 'feat_zorg': GraphProperty(_name='feat_zorg', dtype=DType(atomic=<DTypeAtomic.BOOL: 'boolean'>, array=False)), 'feat_volgen': GraphProperty(_name='feat_volgen', dtype=DType(atomic=<DTypeAtomic.BOOL: 'boolean'>, array=False)), 'feat_even': GraphProperty(_name='feat_even', dtype=DType(atomic=<DTypeAtomic.BOOL: 'boolean'>, array=False)), 'feat_nos': GraphProperty(_name='feat_nos', dtype=DType(atomic=<DTypeAtomic.BOOL: 'boolean'>, array=False)), 'feat_schol': GraphProperty(_name='feat_schol', dtype=DType(atomic=<DTypeAtomic.BOOL: 'boolean'>, array=False)), 'feat_buit': GraphProperty(_name='feat_buit', dtype=DType(atomic=<DTypeAtomic.BOOL: 'boolean'>, array=False)), 'feat_ander': GraphProperty(_name='feat_ander', dtype=DType(atomic=<DTypeAtomic.BOOL: 'boolean'>, array=False)), 'feat_zit': GraphProperty(_name='feat_zit', dtype=DType(atomic=<DTypeAtomic.BOOL: 'boolean'>, array=False)), 'feat_wass': GraphProperty(_name='feat_wass', dtype=DType(atomic=<DTypeAtomic.BOOL: 'boolean'>, array=False)), 'feat_zoal': GraphProperty(_name='feat_zoal', dtype=DType(atomic=<DTypeAtomic.BOOL: 'boolean'>, array=False)), 'feat_zie': GraphProperty(_name='feat_zie', dtype=DType(atomic=<DTypeAtomic.BOOL: 'boolean'>, array=False)), 'feat_afstand': GraphProperty(_name='feat_afstand', dtype=DType(atomic=<DTypeAtomic.BOOL: 'boolean'>, array=False)), 'feat_thuis': GraphProperty(_name='feat_thuis', dtype=DType(atomic=<DTypeAtomic.BOOL: 'boolean'>, array=False)), 'feat_werk': GraphProperty(_name='feat_werk', dtype=DType(atomic=<DTypeAtomic.BOOL: 'boolean'>, array=False)), 'feat_verspreid': GraphProperty(_name='feat_verspreid', dtype=DType(atomic=<DTypeAtomic.BOOL: 'boolean'>, array=False)), 'feat_sted': GraphProperty(_name='feat_sted', dtype=DType(atomic=<DTypeAtomic.BOOL: 'boolean'>, array=False)), 'feat_grot': GraphProperty(_name='feat_grot', dtype=DType(atomic=<DTypeAtomic.BOOL: 'boolean'>, array=False)), 'feat_mee': GraphProperty(_name='feat_mee', dtype=DType(atomic=<DTypeAtomic.BOOL: 'boolean'>, array=False)), 'feat_mag': GraphProperty(_name='feat_mag', dtype=DType(atomic=<DTypeAtomic.BOOL: 'boolean'>, array=False)), 'feat_all': GraphProperty(_name='feat_all', dtype=DType(atomic=<DTypeAtomic.BOOL: 'boolean'>, array=False)), 'feat_wet': GraphProperty(_name='feat_wet', dtype=DType(atomic=<DTypeAtomic.BOOL: 'boolean'>, array=False)), 'feat_waarom': GraphProperty(_name='feat_waarom', dtype=DType(atomic=<DTypeAtomic.BOOL: 'boolean'>, array=False)), 'feat_maatregel': GraphProperty(_name='feat_maatregel', dtype=DType(atomic=<DTypeAtomic.BOOL: 'boolean'>, array=False)), 'feat_corona': GraphProperty(_name='feat_corona', dtype=DType(atomic=<DTypeAtomic.BOOL: 'boolean'>, array=False)), 'feat_minpres': GraphProperty(_name='feat_minpres', dtype=DType(atomic=<DTypeAtomic.BOOL: 'boolean'>, array=False)), 'feat_lat': GraphProperty(_name='feat_lat', dtype=DType(atomic=<DTypeAtomic.BOOL: 'boolean'>, array=False)), 'feat_mak': GraphProperty(_name='feat_mak', dtype=DType(atomic=<DTypeAtomic.BOOL: 'boolean'>, array=False)), 'feat_test': GraphProperty(_name='feat_test', dtype=DType(atomic=<DTypeAtomic.BOOL: 'boolean'>, array=False)), 'feat_denk': GraphProperty(_name='feat_denk', dtype=DType(atomic=<DTypeAtomic.BOOL: 'boolean'>, array=False)), 'feat_moet': GraphProperty(_name='feat_moet', dtype=DType(atomic=<DTypeAtomic.BOOL: 'boolean'>, array=False)), 'feat_net': GraphProperty(_name='feat_net', dtype=DType(atomic=<DTypeAtomic.BOOL: 'boolean'>, array=False)), 'feat_vandag': GraphProperty(_name='feat_vandag', dtype=DType(atomic=<DTypeAtomic.BOOL: 'boolean'>, array=False)), 'feat_mondkapjes': GraphProperty(_name='feat_mondkapjes', dtype=DType(atomic=<DTypeAtomic.BOOL: 'boolean'>, array=False)), 'feat_winkel': GraphProperty(_name='feat_winkel', dtype=DType(atomic=<DTypeAtomic.BOOL: 'boolean'>, array=False)), 'feat_kom': GraphProperty(_name='feat_kom', dtype=DType(atomic=<DTypeAtomic.BOOL: 'boolean'>, array=False)), 'feat_gewon': GraphProperty(_name='feat_gewon', dtype=DType(atomic=<DTypeAtomic.BOOL: 'boolean'>, array=False)), 'feat_war': GraphProperty(_name='feat_war', dtype=DType(atomic=<DTypeAtomic.BOOL: 'boolean'>, array=False))}, dynamic=None), 'Hashtag': NodeSchema(_type='Hashtag', _schema=..., label='name', properties={'id': GraphProperty(_name='id', dtype=DType(atomic=<DTypeAtomic.STRING: 'string'>, array=False)), 'name': GraphProperty(_name='name', dtype=DType(atomic=<DTypeAtomic.STRING: 'string'>, array=False)), 'hashtag_id': GraphProperty(_name='hashtag_id', dtype=DType(atomic=<DTypeAtomic.STRING: 'string'>, array=False)), 'feat_echt': GraphProperty(_name='feat_echt', dtype=DType(atomic=<DTypeAtomic.BOOL: 'boolean'>, array=False)), 'feat_wel': GraphProperty(_name='feat_wel', dtype=DType(atomic=<DTypeAtomic.BOOL: 'boolean'>, array=False)), 'feat_goed': GraphProperty(_name='feat_goed', dtype=DType(atomic=<DTypeAtomic.BOOL: 'boolean'>, array=False)), 'feat_drag': GraphProperty(_name='feat_drag', dtype=DType(atomic=<DTypeAtomic.BOOL: 'boolean'>, array=False)), 'feat_houdt': GraphProperty(_name='feat_houdt', dtype=DType(atomic=<DTypeAtomic.BOOL: 'boolean'>, array=False)), 'feat_publiek': GraphProperty(_name='feat_publiek', dtype=DType(atomic=<DTypeAtomic.BOOL: 'boolean'>, array=False)), 'feat_covid': GraphProperty(_name='feat_covid', dtype=DType(atomic=<DTypeAtomic.BOOL: 'boolean'>, array=False)), 'feat_gan': GraphProperty(_name='feat_gan', dtype=DType(atomic=<DTypeAtomic.BOOL: 'boolean'>, array=False)), 'feat_lockdown': GraphProperty(_name='feat_lockdown', dtype=DType(atomic=<DTypeAtomic.BOOL: 'boolean'>, array=False)), 'feat_hand': GraphProperty(_name='feat_hand', dtype=DType(atomic=<DTypeAtomic.BOOL: 'boolean'>, array=False)), 'feat_masker': GraphProperty(_name='feat_masker', dtype=DType(atomic=<DTypeAtomic.BOOL: 'boolean'>, array=False)), 'feat_jij': GraphProperty(_name='feat_jij', dtype=DType(atomic=<DTypeAtomic.BOOL: 'boolean'>, array=False)), 'feat_dringend': GraphProperty(_name='feat_dringend', dtype=DType(atomic=<DTypeAtomic.BOOL: 'boolean'>, array=False)), 'feat_regel': GraphProperty(_name='feat_regel', dtype=DType(atomic=<DTypeAtomic.BOOL: 'boolean'>, array=False)), 'feat_mens': GraphProperty(_name='feat_mens', dtype=DType(atomic=<DTypeAtomic.BOOL: 'boolean'>, array=False)), 'feat_wek': GraphProperty(_name='feat_wek', dtype=DType(atomic=<DTypeAtomic.BOOL: 'boolean'>, array=False)), 'feat_mondmasker': GraphProperty(_name='feat_mondmasker', dtype=DType(atomic=<DTypeAtomic.BOOL: 'boolean'>, array=False)), 'feat_houd': GraphProperty(_name='feat_houd', dtype=DType(atomic=<DTypeAtomic.BOOL: 'boolean'>, array=False)), 'feat_mondkapj': GraphProperty(_name='feat_mondkapj', dtype=DType(atomic=<DTypeAtomic.BOOL: 'boolean'>, array=False)), 'feat_mogelijk': GraphProperty(_name='feat_mogelijk', dtype=DType(atomic=<DTypeAtomic.BOOL: 'boolean'>, array=False)), 'feat_wij': GraphProperty(_name='feat_wij', dtype=DType(atomic=<DTypeAtomic.BOOL: 'boolean'>, array=False)), 'feat_advies': GraphProperty(_name='feat_advies', dtype=DType(atomic=<DTypeAtomic.BOOL: 'boolean'>, array=False)), 'feat_elkar': GraphProperty(_name='feat_elkar', dtype=DType(atomic=<DTypeAtomic.BOOL: 'boolean'>, array=False)), 'feat_meter': GraphProperty(_name='feat_meter', dtype=DType(atomic=<DTypeAtomic.BOOL: 'boolean'>, array=False)), 'feat_stuk': GraphProperty(_name='feat_stuk', dtype=DType(atomic=<DTypeAtomic.BOOL: 'boolean'>, array=False)), 'feat_binnenruimtes': GraphProperty(_name='feat_binnenruimtes', dtype=DType(atomic=<DTypeAtomic.BOOL: 'boolean'>, array=False)), 'feat_iederen': GraphProperty(_name='feat_iederen', dtype=DType(atomic=<DTypeAtomic.BOOL: 'boolean'>, array=False)), 'feat_hel': GraphProperty(_name='feat_hel', dtype=DType(atomic=<DTypeAtomic.BOOL: 'boolean'>, array=False)), 'feat_horeca': GraphProperty(_name='feat_horeca', dtype=DType(atomic=<DTypeAtomic.BOOL: 'boolean'>, array=False)), 'feat_blijv': GraphProperty(_name='feat_blijv', dtype=DType(atomic=<DTypeAtomic.BOOL: 'boolean'>, array=False)), 'feat_allen': GraphProperty(_name='feat_allen', dtype=DType(atomic=<DTypeAtomic.BOOL: 'boolean'>, array=False)), 'feat_hou': GraphProperty(_name='feat_hou', dtype=DType(atomic=<DTypeAtomic.BOOL: 'boolean'>, array=False)), 'feat_musea': GraphProperty(_name='feat_musea', dtype=DType(atomic=<DTypeAtomic.BOOL: 'boolean'>, array=False)), 'feat_binn': GraphProperty(_name='feat_binn', dtype=DType(atomic=<DTypeAtomic.BOOL: 'boolean'>, array=False)), 'feat_tuss': GraphProperty(_name='feat_tuss', dtype=DType(atomic=<DTypeAtomic.BOOL: 'boolean'>, array=False)), 'feat_anderhalv': GraphProperty(_name='feat_anderhalv', dtype=DType(atomic=<DTypeAtomic.BOOL: 'boolean'>, array=False)), 'feat_vanaf': GraphProperty(_name='feat_vanaf', dtype=DType(atomic=<DTypeAtomic.BOOL: 'boolean'>, array=False)), 'feat_wer': GraphProperty(_name='feat_wer', dtype=DType(atomic=<DTypeAtomic.BOOL: 'boolean'>, array=False)), 'feat_rivm': GraphProperty(_name='feat_rivm', dtype=DType(atomic=<DTypeAtomic.BOOL: 'boolean'>, array=False)), 'feat_blijf': GraphProperty(_name='feat_blijf', dtype=DType(atomic=<DTypeAtomic.BOOL: 'boolean'>, array=False)), 'feat_besmet': GraphProperty(_name='feat_besmet', dtype=DType(atomic=<DTypeAtomic.BOOL: 'boolean'>, array=False)), 'feat_onz': GraphProperty(_name='feat_onz', dtype=DType(atomic=<DTypeAtomic.BOOL: 'boolean'>, array=False)), 'feat_gat': GraphProperty(_name='feat_gat', dtype=DType(atomic=<DTypeAtomic.BOOL: 'boolean'>, array=False)), 'feat_zorg': GraphProperty(_name='feat_zorg', dtype=DType(atomic=<DTypeAtomic.BOOL: 'boolean'>, array=False)), 'feat_volgen': GraphProperty(_name='feat_volgen', dtype=DType(atomic=<DTypeAtomic.BOOL: 'boolean'>, array=False)), 'feat_even': GraphProperty(_name='feat_even', dtype=DType(atomic=<DTypeAtomic.BOOL: 'boolean'>, array=False)), 'feat_nos': GraphProperty(_name='feat_nos', dtype=DType(atomic=<DTypeAtomic.BOOL: 'boolean'>, array=False)), 'feat_schol': GraphProperty(_name='feat_schol', dtype=DType(atomic=<DTypeAtomic.BOOL: 'boolean'>, array=False)), 'feat_buit': GraphProperty(_name='feat_buit', dtype=DType(atomic=<DTypeAtomic.BOOL: 'boolean'>, array=False)), 'feat_ander': GraphProperty(_name='feat_ander', dtype=DType(atomic=<DTypeAtomic.BOOL: 'boolean'>, array=False)), 'feat_zit': GraphProperty(_name='feat_zit', dtype=DType(atomic=<DTypeAtomic.BOOL: 'boolean'>, array=False)), 'feat_wass': GraphProperty(_name='feat_wass', dtype=DType(atomic=<DTypeAtomic.BOOL: 'boolean'>, array=False)), 'feat_zoal': GraphProperty(_name='feat_zoal', dtype=DType(atomic=<DTypeAtomic.BOOL: 'boolean'>, array=False)), 'feat_zie': GraphProperty(_name='feat_zie', dtype=DType(atomic=<DTypeAtomic.BOOL: 'boolean'>, array=False)), 'feat_afstand': GraphProperty(_name='feat_afstand', dtype=DType(atomic=<DTypeAtomic.BOOL: 'boolean'>, array=False)), 'feat_thuis': GraphProperty(_name='feat_thuis', dtype=DType(atomic=<DTypeAtomic.BOOL: 'boolean'>, array=False)), 'feat_werk': GraphProperty(_name='feat_werk', dtype=DType(atomic=<DTypeAtomic.BOOL: 'boolean'>, array=False)), 'feat_verspreid': GraphProperty(_name='feat_verspreid', dtype=DType(atomic=<DTypeAtomic.BOOL: 'boolean'>, array=False)), 'feat_sted': GraphProperty(_name='feat_sted', dtype=DType(atomic=<DTypeAtomic.BOOL: 'boolean'>, array=False)), 'feat_grot': GraphProperty(_name='feat_grot', dtype=DType(atomic=<DTypeAtomic.BOOL: 'boolean'>, array=False)), 'feat_mee': GraphProperty(_name='feat_mee', dtype=DType(atomic=<DTypeAtomic.BOOL: 'boolean'>, array=False)), 'feat_mag': GraphProperty(_name='feat_mag', dtype=DType(atomic=<DTypeAtomic.BOOL: 'boolean'>, array=False)), 'feat_all': GraphProperty(_name='feat_all', dtype=DType(atomic=<DTypeAtomic.BOOL: 'boolean'>, array=False)), 'feat_wet': GraphProperty(_name='feat_wet', dtype=DType(atomic=<DTypeAtomic.BOOL: 'boolean'>, array=False)), 'feat_waarom': GraphProperty(_name='feat_waarom', dtype=DType(atomic=<DTypeAtomic.BOOL: 'boolean'>, array=False)), 'feat_maatregel': GraphProperty(_name='feat_maatregel', dtype=DType(atomic=<DTypeAtomic.BOOL: 'boolean'>, array=False)), 'feat_corona': GraphProperty(_name='feat_corona', dtype=DType(atomic=<DTypeAtomic.BOOL: 'boolean'>, array=False)), 'feat_minpres': GraphProperty(_name='feat_minpres', dtype=DType(atomic=<DTypeAtomic.BOOL: 'boolean'>, array=False)), 'feat_lat': GraphProperty(_name='feat_lat', dtype=DType(atomic=<DTypeAtomic.BOOL: 'boolean'>, array=False)), 'feat_mak': GraphProperty(_name='feat_mak', dtype=DType(atomic=<DTypeAtomic.BOOL: 'boolean'>, array=False)), 'feat_test': GraphProperty(_name='feat_test', dtype=DType(atomic=<DTypeAtomic.BOOL: 'boolean'>, array=False)), 'feat_denk': GraphProperty(_name='feat_denk', dtype=DType(atomic=<DTypeAtomic.BOOL: 'boolean'>, array=False)), 'feat_moet': GraphProperty(_name='feat_moet', dtype=DType(atomic=<DTypeAtomic.BOOL: 'boolean'>, array=False)), 'feat_net': GraphProperty(_name='feat_net', dtype=DType(atomic=<DTypeAtomic.BOOL: 'boolean'>, array=False)), 'feat_vandag': GraphProperty(_name='feat_vandag', dtype=DType(atomic=<DTypeAtomic.BOOL: 'boolean'>, array=False)), 'feat_mondkapjes': GraphProperty(_name='feat_mondkapjes', dtype=DType(atomic=<DTypeAtomic.BOOL: 'boolean'>, array=False)), 'feat_winkel': GraphProperty(_name='feat_winkel', dtype=DType(atomic=<DTypeAtomic.BOOL: 'boolean'>, array=False)), 'feat_kom': GraphProperty(_name='feat_kom', dtype=DType(atomic=<DTypeAtomic.BOOL: 'boolean'>, array=False)), 'feat_gewon': GraphProperty(_name='feat_gewon', dtype=DType(atomic=<DTypeAtomic.BOOL: 'boolean'>, array=False)), 'feat_war': GraphProperty(_name='feat_war', dtype=DType(atomic=<DTypeAtomic.BOOL: 'boolean'>, array=False))}, dynamic=None), 'Tweet': NodeSchema(_type='Tweet', _schema=..., label='text', properties={'id': GraphProperty(_name='id', dtype=DType(atomic=<DTypeAtomic.STRING: 'string'>, array=False)), 'text': GraphProperty(_name='text', dtype=DType(atomic=<DTypeAtomic.STRING: 'string'>, array=False)), 'label_social_distancing': GraphProperty(_name='label_social_distancing', dtype=DType(atomic=<DTypeAtomic.STRING: 'string'>, array=False)), 'feat_supports': GraphProperty(_name='feat_supports', dtype=DType(atomic=<DTypeAtomic.FLOAT: 'float'>, array=False)), 'feat_irrelevant': GraphProperty(_name='feat_irrelevant', dtype=DType(atomic=<DTypeAtomic.FLOAT: 'float'>, array=False)), 'feat_rejects': GraphProperty(_name='feat_rejects', dtype=DType(atomic=<DTypeAtomic.FLOAT: 'float'>, array=False)), 'feat_sentiment': GraphProperty(_name='feat_sentiment', dtype=DType(atomic=<DTypeAtomic.FLOAT: 'float'>, array=False)), 'timestamp': GraphProperty(_name='timestamp', dtype=DType(atomic=<DTypeAtomic.DATETIME: 'datetime'>, array=False))}, dynamic=DynamicConfig(timestamp='timestamp', interaction=False))}, edges={'TWEETED': EdgeSchema(_type='TWEETED', _schema=..., label=None, properties={'src': GraphProperty(_name='src', dtype=DType(atomic=<DTypeAtomic.STRING: 'string'>, array=False)), 'dst': GraphProperty(_name='dst', dtype=DType(atomic=<DTypeAtomic.STRING: 'string'>, array=False)), 'timestamp': GraphProperty(_name='timestamp', dtype=DType(atomic=<DTypeAtomic.DATETIME: 'datetime'>, array=False))}, dynamic=DynamicConfig(timestamp='timestamp', interaction=False), source_type='User', target_type='Tweet', directed=True), 'REPLIES_TO_USER': EdgeSchema(_type='REPLIES_TO_USER', _schema=..., label=None, properties={'src': GraphProperty(_name='src', dtype=DType(atomic=<DTypeAtomic.STRING: 'string'>, array=False)), 'dst': GraphProperty(_name='dst', dtype=DType(atomic=<DTypeAtomic.STRING: 'string'>, array=False)), 'timestamp': GraphProperty(_name='timestamp', dtype=DType(atomic=<DTypeAtomic.DATETIME: 'datetime'>, array=False))}, dynamic=DynamicConfig(timestamp='timestamp', interaction=False), source_type='Tweet', target_type='User', directed=True), 'REPLIES_TO_TWEET': EdgeSchema(_type='REPLIES_TO_TWEET', _schema=..., label=None, properties={'src': GraphProperty(_name='src', dtype=DType(atomic=<DTypeAtomic.STRING: 'string'>, array=False)), 'dst': GraphProperty(_name='dst', dtype=DType(atomic=<DTypeAtomic.STRING: 'string'>, array=False)), 'timestamp': GraphProperty(_name='timestamp', dtype=DType(atomic=<DTypeAtomic.DATETIME: 'datetime'>, array=False))}, dynamic=DynamicConfig(timestamp='timestamp', interaction=False), source_type='Tweet', target_type='Tweet', directed=True), 'QUOTES_TWEET': EdgeSchema(_type='QUOTES_TWEET', _schema=..., label=None, properties={'src': GraphProperty(_name='src', dtype=DType(atomic=<DTypeAtomic.STRING: 'string'>, array=False)), 'dst': GraphProperty(_name='dst', dtype=DType(atomic=<DTypeAtomic.STRING: 'string'>, array=False)), 'timestamp': GraphProperty(_name='timestamp', dtype=DType(atomic=<DTypeAtomic.DATETIME: 'datetime'>, array=False))}, dynamic=DynamicConfig(timestamp='timestamp', interaction=False), source_type='Tweet', target_type='Tweet', directed=True), 'MENTIONS_USER': EdgeSchema(_type='MENTIONS_USER', _schema=..., label=None, properties={'src': GraphProperty(_name='src', dtype=DType(atomic=<DTypeAtomic.STRING: 'string'>, array=False)), 'dst': GraphProperty(_name='dst', dtype=DType(atomic=<DTypeAtomic.STRING: 'string'>, array=False)), 'timestamp': GraphProperty(_name='timestamp', dtype=DType(atomic=<DTypeAtomic.DATETIME: 'datetime'>, array=False))}, dynamic=DynamicConfig(timestamp='timestamp', interaction=False), source_type='Tweet', target_type='User', directed=True), 'MENTIONS_HASHTAG': EdgeSchema(_type='MENTIONS_HASHTAG', _schema=..., label=None, properties={'src': GraphProperty(_name='src', dtype=DType(atomic=<DTypeAtomic.STRING: 'string'>, array=False)), 'dst': GraphProperty(_name='dst', dtype=DType(atomic=<DTypeAtomic.STRING: 'string'>, array=False)), 'timestamp': GraphProperty(_name='timestamp', dtype=DType(atomic=<DTypeAtomic.DATETIME: 'datetime'>, array=False))}, dynamic=DynamicConfig(timestamp='timestamp', interaction=False), source_type='Tweet', target_type='Hashtag', directed=True), 'FOLLOWS': EdgeSchema(_type='FOLLOWS', _schema=..., label=None, properties={'src': GraphProperty(_name='src', dtype=DType(atomic=<DTypeAtomic.STRING: 'string'>, array=False)), 'dst': GraphProperty(_name='dst', dtype=DType(atomic=<DTypeAtomic.STRING: 'string'>, array=False))}, dynamic=None, source_type='User', target_type='User', directed=True)})"
     },
     "execution_count": 53,
     "metadata": {},
     "output_type": "execute_result"
    }
   ],
   "source": [
    "from shared.schema.graph import GraphSchema, NodeSchema, EdgeSchema\n",
    "\n",
    "(\n",
    "    GraphSchema()\n",
    "        .add_node_schema('User', NodeSchema.from_spark(df_nodes_users.schema, label='name'))\n",
    "        .add_node_schema('Hashtag', NodeSchema.from_spark(df_nodes_hashtags.schema, label='name'))\n",
    "        .add_node_schema('Tweet', NodeSchema.from_spark(df_nodes_tweets.schema, label='text', timestamp='timestamp', interaction=False))\n",
    "        .add_edge_schema('TWEETED', EdgeSchema.from_spark(df_edges_tweeted.schema, source_type='User', target_type='Tweet', directed=True, timestamp='timestamp', interaction=False))\n",
    "        .add_edge_schema('REPLIES_TO_USER', EdgeSchema.from_spark(df_edges_reply_to_user.schema, source_type='Tweet', target_type='User', directed=True, timestamp='timestamp', interaction=False))\n",
    "        .add_edge_schema('REPLIES_TO_TWEET', EdgeSchema.from_spark(df_edges_reply_to_tweet.schema, source_type='Tweet', target_type='Tweet', directed=True, timestamp='timestamp', interaction=False))\n",
    "        .add_edge_schema('QUOTES_TWEET', EdgeSchema.from_spark(df_edges_quote_tweet.schema, source_type='Tweet', target_type='Tweet', directed=True, timestamp='timestamp', interaction=False))\n",
    "        .add_edge_schema('MENTIONS_USER', EdgeSchema.from_spark(df_edges_mentioned_user.schema, source_type='Tweet', target_type='User', directed=True, timestamp='timestamp', interaction=False))\n",
    "        .add_edge_schema('MENTIONS_HASHTAG', EdgeSchema.from_spark(df_edges_mentioned_hashtag.schema, source_type='Tweet', target_type='Hashtag', directed=True, timestamp='timestamp', interaction=False))\n",
    "        .add_edge_schema('FOLLOWS', EdgeSchema.from_spark(df_edges_follows.schema, source_type='User', target_type='User', directed=True))\n",
    "        .save_schema(DATASET.processed())\n",
    ")"
   ],
   "metadata": {
    "collapsed": false,
    "pycharm": {
     "name": "#%%\n"
    }
   }
  },
  {
   "cell_type": "code",
   "execution_count": null,
   "outputs": [],
   "source": [],
   "metadata": {
    "collapsed": false,
    "pycharm": {
     "name": "#%%\n"
    }
   }
  }
 ],
 "metadata": {
  "kernelspec": {
   "display_name": "Python 3 (ipykernel)",
   "language": "python",
   "name": "python3"
  },
  "language_info": {
   "codemirror_mode": {
    "name": "ipython",
    "version": 3
   },
   "file_extension": ".py",
   "mimetype": "text/x-python",
   "name": "python",
   "nbconvert_exporter": "python",
   "pygments_lexer": "ipython3",
   "version": "3.9.7"
  }
 },
 "nbformat": 4,
 "nbformat_minor": 1
}