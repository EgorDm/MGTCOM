{
 "cells": [
  {
   "cell_type": "code",
   "execution_count": 29,
   "outputs": [
    {
     "name": "stdout",
     "output_type": "stream",
     "text": [
      "The autoreload extension is already loaded. To reload it, use:\n",
      "  %reload_ext autoreload\n"
     ]
    }
   ],
   "source": [
    "%load_ext autoreload\n",
    "%autoreload 2"
   ],
   "metadata": {
    "collapsed": false,
    "pycharm": {
     "name": "#%%\n"
    }
   }
  },
  {
   "cell_type": "code",
   "execution_count": 30,
   "metadata": {
    "collapsed": true
   },
   "outputs": [],
   "source": [
    "import pyspark.sql.functions as F\n",
    "import pyspark.sql.types as T\n",
    "from pyspark.sql import SparkSession\n",
    "\n",
    "from shared.constants import DatasetPath"
   ]
  },
  {
   "cell_type": "code",
   "execution_count": 31,
   "outputs": [],
   "source": [
    "DATASET = DatasetPath('ucidata-zachary')"
   ],
   "metadata": {
    "collapsed": false,
    "pycharm": {
     "name": "#%%\n"
    }
   }
  },
  {
   "cell_type": "code",
   "execution_count": 32,
   "outputs": [],
   "source": [
    "spark = (SparkSession.builder\n",
    "         .appName(f'{DATASET}_preprocess')\n",
    "         .config('spark.sql.legacy.timeParserPolicy', 'LEGACY')\n",
    "         .getOrCreate())"
   ],
   "metadata": {
    "collapsed": false,
    "pycharm": {
     "name": "#%%\n"
    }
   }
  },
  {
   "cell_type": "code",
   "execution_count": 33,
   "outputs": [
    {
     "data": {
      "text/plain": "[Row(src=0, dst=1),\n Row(src=0, dst=2),\n Row(src=0, dst=3),\n Row(src=0, dst=4),\n Row(src=0, dst=5)]"
     },
     "execution_count": 33,
     "metadata": {},
     "output_type": "execute_result"
    }
   ],
   "source": [
    "schema = T.StructType([\n",
    "    T.StructField('src', T.IntegerType(), False),\n",
    "    T.StructField('dst', T.IntegerType(), False),\n",
    "])\n",
    "\n",
    "df = (\n",
    "    spark.read.csv(DATASET.raw_str('karate_club.csv'), sep=' ', header=False, schema=schema)\n",
    "        .withColumnRenamed('_c0', 'src')\n",
    "        .withColumnRenamed('_c1', 'dst')\n",
    ")\n",
    "df.head(5)"
   ],
   "metadata": {
    "collapsed": false,
    "pycharm": {
     "name": "#%%\n"
    }
   }
  },
  {
   "cell_type": "code",
   "execution_count": 34,
   "outputs": [
    {
     "data": {
      "text/plain": "[Row(id=31), Row(id=28), Row(id=26), Row(id=27), Row(id=22)]"
     },
     "execution_count": 34,
     "metadata": {},
     "output_type": "execute_result"
    }
   ],
   "source": [
    "df_nodes = (\n",
    "    df.select(F.col('src').alias('id'))\n",
    "        .union(df.select(F.col('dst').alias('id')))\n",
    "        .distinct()\n",
    ")\n",
    "df_nodes.head(5)"
   ],
   "metadata": {
    "collapsed": false,
    "pycharm": {
     "name": "#%%\n"
    }
   }
  },
  {
   "cell_type": "code",
   "execution_count": 35,
   "outputs": [
    {
     "data": {
      "text/plain": "[Row(src=22, dst=33),\n Row(src=4, dst=10),\n Row(src=5, dst=16),\n Row(src=19, dst=33),\n Row(src=0, dst=13)]"
     },
     "execution_count": 35,
     "metadata": {},
     "output_type": "execute_result"
    }
   ],
   "source": [
    "df_edges = (\n",
    "    df.select(F.col('src'), F.col('dst'))\n",
    "        .distinct()\n",
    ")\n",
    "df_edges.head(5)"
   ],
   "metadata": {
    "collapsed": false,
    "pycharm": {
     "name": "#%%\n"
    }
   }
  },
  {
   "cell_type": "code",
   "execution_count": 39,
   "outputs": [],
   "source": [
    "df_nodes.write.parquet(DATASET.processed_str('nodes_Pupil'), mode='overwrite')\n",
    "df_edges.write.parquet(DATASET.processed_str('edges_INTERACTS'), mode='overwrite')"
   ],
   "metadata": {
    "collapsed": false,
    "pycharm": {
     "name": "#%%\n"
    }
   }
  },
  {
   "cell_type": "code",
   "execution_count": 40,
   "outputs": [],
   "source": [
    "from shared.graphs.schema import GraphSchema, NodeSchema, EdgeSchema\n",
    "\n",
    "schema = GraphSchema()\n",
    "schema.add_node_schema(\n",
    "    'Pupil', NodeSchema.from_spark(df_nodes.schema, label='id'),\n",
    ")\n",
    "schema.add_edge_schema(\n",
    "    'INTERACTS', EdgeSchema.from_spark(df_edges.schema, source_type='Pupil', target_type='Pupil', directed=False),\n",
    ")\n",
    "schema.save_schema(DATASET.processed())"
   ],
   "metadata": {
    "collapsed": false,
    "pycharm": {
     "name": "#%%\n"
    }
   }
  },
  {
   "cell_type": "code",
   "execution_count": null,
   "outputs": [],
   "source": [
    "from datasets.formats import coms_to_comlist, write_comlist\n",
    "import json\n",
    "\n",
    "with open(DATASET.raw_str('karate_club.json')) as f:\n",
    "    meta = json.load(f)\n",
    "\n",
    "coms = {\n",
    "    cid: nids\n",
    "    for cid, nids in enumerate(meta['communities'])\n",
    "}\n",
    "\n",
    "comlist = coms_to_comlist(coms)\n",
    "write_comlist(comlist, DATASET.processed_str('ground_truth.comlist'))"
   ],
   "metadata": {
    "collapsed": false,
    "pycharm": {
     "name": "#%%\n"
    }
   }
  },
  {
   "cell_type": "code",
   "execution_count": null,
   "outputs": [],
   "source": [],
   "metadata": {
    "collapsed": false,
    "pycharm": {
     "name": "#%%\n"
    }
   }
  },
  {
   "cell_type": "code",
   "execution_count": null,
   "outputs": [],
   "source": [
    "from datasets.build_schema import build_schema\n",
    "\n",
    "build_schema(\n",
    "    spark,\n",
    "    name=str(DATASET),\n",
    "    nodes=[\n",
    "        ('Pupil', DATASET.processed_str('nodes_Pupil')),\n",
    "    ],\n",
    "    edges=[\n",
    "        ('Trains', 'Pupil', 'Pupil', DATASET.processed_str('nodes_TRAINS')),\n",
    "    ],\n",
    "    ground_truth=str(DATASET.processed_str('ground_truth.ncomlist'))\n",
    ")"
   ],
   "metadata": {
    "collapsed": false,
    "pycharm": {
     "name": "#%%\n"
    }
   }
  },
  {
   "cell_type": "code",
   "execution_count": null,
   "outputs": [],
   "source": [],
   "metadata": {
    "collapsed": false,
    "pycharm": {
     "name": "#%%\n"
    }
   }
  }
 ],
 "metadata": {
  "kernelspec": {
   "display_name": "Python 3",
   "language": "python",
   "name": "python3"
  },
  "language_info": {
   "codemirror_mode": {
    "name": "ipython",
    "version": 2
   },
   "file_extension": ".py",
   "mimetype": "text/x-python",
   "name": "python",
   "nbconvert_exporter": "python",
   "pygments_lexer": "ipython2",
   "version": "2.7.6"
  }
 },
 "nbformat": 4,
 "nbformat_minor": 0
}