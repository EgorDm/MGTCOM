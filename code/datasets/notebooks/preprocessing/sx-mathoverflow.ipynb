{
 "cells": [
  {
   "cell_type": "code",
   "execution_count": 1,
   "metadata": {
    "collapsed": true
   },
   "outputs": [],
   "source": [
    "%load_ext autoreload\n",
    "%autoreload 2"
   ]
  },
  {
   "cell_type": "code",
   "execution_count": 2,
   "outputs": [],
   "source": [
    "import pyspark.sql.functions as F\n",
    "import pyspark.sql.types as T\n",
    "from pyspark.sql import SparkSession\n"
   ],
   "metadata": {
    "collapsed": false,
    "pycharm": {
     "name": "#%%\n"
    }
   }
  },
  {
   "cell_type": "code",
   "execution_count": 3,
   "outputs": [],
   "source": [
    "from shared.schema import DatasetSchema\n",
    "\n",
    "DATASET = DatasetSchema.load_schema('sx-mathoverflow')\n",
    "DATASET.save_schema()"
   ],
   "metadata": {
    "collapsed": false,
    "pycharm": {
     "name": "#%%\n"
    }
   }
  },
  {
   "cell_type": "code",
   "execution_count": 4,
   "outputs": [
    {
     "name": "stderr",
     "output_type": "stream",
     "text": [
      "22/01/22 22:42:11 WARN Utils: Your hostname, megatron resolves to a loopback address: 127.0.1.1; using 192.168.1.89 instead (on interface enp7s0)\n",
      "22/01/22 22:42:11 WARN Utils: Set SPARK_LOCAL_IP if you need to bind to another address\n",
      "Using Spark's default log4j profile: org/apache/spark/log4j-defaults.properties\n",
      "Setting default log level to \"WARN\".\n",
      "To adjust logging level use sc.setLogLevel(newLevel). For SparkR, use setLogLevel(newLevel).\n",
      "22/01/22 22:42:12 WARN NativeCodeLoader: Unable to load native-hadoop library for your platform... using builtin-java classes where applicable\n",
      "22/01/22 22:42:13 WARN Utils: Service 'SparkUI' could not bind on port 4040. Attempting port 4041.\n",
      "22/01/22 22:42:13 WARN Utils: Service 'SparkUI' could not bind on port 4041. Attempting port 4042.\n",
      "22/01/22 22:42:13 WARN Utils: Service 'SparkUI' could not bind on port 4042. Attempting port 4043.\n",
      "22/01/22 22:42:13 WARN Utils: Service 'SparkUI' could not bind on port 4043. Attempting port 4044.\n"
     ]
    }
   ],
   "source": [
    "spark = (SparkSession.builder\n",
    "         .appName(f'{DATASET}')\n",
    "         .config('spark.sql.legacy.timeParserPolicy', 'LEGACY')\n",
    "         .config(\"spark.executor.memory\", \"8g\")\n",
    "         .config(\"spark.driver.memory\", \"8g\")\n",
    "         .config(\"spark.memory.offHeap.enabled\", True)\n",
    "         .config(\"spark.memory.offHeap.size\", \"16g\")\n",
    "         .getOrCreate())"
   ],
   "metadata": {
    "collapsed": false,
    "pycharm": {
     "name": "#%%\n"
    }
   }
  },
  {
   "cell_type": "code",
   "execution_count": 5,
   "outputs": [],
   "source": [
    "schema = T.StructType([\n",
    "    T.StructField('src', T.IntegerType(), False),\n",
    "    T.StructField('dst', T.IntegerType(), False),\n",
    "    T.StructField('timestamp', T.LongType(), False),\n",
    "])"
   ],
   "metadata": {
    "collapsed": false,
    "pycharm": {
     "name": "#%%\n"
    }
   }
  },
  {
   "cell_type": "code",
   "execution_count": 6,
   "outputs": [
    {
     "name": "stderr",
     "output_type": "stream",
     "text": [
      "                                                                                \r"
     ]
    },
    {
     "data": {
      "text/plain": "[Row(src=1, dst=4, timestamp=datetime.datetime(2009, 9, 29, 4, 56, 28)),\n Row(src=3, dst=4, timestamp=datetime.datetime(2009, 9, 29, 5, 24, 16)),\n Row(src=1, dst=2, timestamp=datetime.datetime(2009, 9, 29, 7, 36, 52)),\n Row(src=25, dst=1, timestamp=datetime.datetime(2009, 9, 29, 16, 0, 4)),\n Row(src=14, dst=16, timestamp=datetime.datetime(2009, 9, 30, 0, 26, 6))]"
     },
     "execution_count": 6,
     "metadata": {},
     "output_type": "execute_result"
    }
   ],
   "source": [
    "df_a2q = (\n",
    "    spark.read.csv(DATASET.raw_str('sx-mathoverflow-a2q.txt'), sep=' ', header=False, schema=schema,\n",
    "                   mode='DROPMALFORMED')\n",
    "        .withColumn('timestamp', F.to_timestamp(F.from_unixtime('timestamp'), 'yyyy-MM-dd HH:mm:ss'))\n",
    ")\n",
    "df_a2q.head(5)"
   ],
   "metadata": {
    "collapsed": false,
    "pycharm": {
     "name": "#%%\n"
    }
   }
  },
  {
   "cell_type": "code",
   "execution_count": 7,
   "outputs": [
    {
     "data": {
      "text/plain": "[Row(src=3, dst=1, timestamp=datetime.datetime(2009, 9, 29, 8, 36, 36)),\n Row(src=1, dst=1, timestamp=datetime.datetime(2009, 9, 29, 9, 0, 2)),\n Row(src=2, dst=1, timestamp=datetime.datetime(2009, 9, 29, 20, 42, 37)),\n Row(src=1, dst=25, timestamp=datetime.datetime(2009, 9, 29, 23, 30, 18)),\n Row(src=1, dst=22, timestamp=datetime.datetime(2009, 9, 30, 3, 12, 32))]"
     },
     "execution_count": 7,
     "metadata": {},
     "output_type": "execute_result"
    }
   ],
   "source": [
    "df_c2a = (\n",
    "    spark.read.csv(DATASET.raw_str('sx-mathoverflow-c2a.txt'), sep=' ', header=False, schema=schema,\n",
    "                   mode='DROPMALFORMED')\n",
    "        .withColumn('timestamp', F.to_timestamp(F.from_unixtime('timestamp'), 'yyyy-MM-dd HH:mm:ss'))\n",
    ")\n",
    "df_c2a.head(5)"
   ],
   "metadata": {
    "collapsed": false,
    "pycharm": {
     "name": "#%%\n"
    }
   }
  },
  {
   "cell_type": "code",
   "execution_count": 8,
   "outputs": [
    {
     "data": {
      "text/plain": "[Row(src=1, dst=16, timestamp=datetime.datetime(2009, 9, 30, 2, 43, 41)),\n Row(src=1, dst=2, timestamp=datetime.datetime(2009, 9, 30, 2, 53, 46)),\n Row(src=2, dst=2, timestamp=datetime.datetime(2009, 9, 30, 3, 28, 48)),\n Row(src=1, dst=2, timestamp=datetime.datetime(2009, 9, 30, 4, 4, 30)),\n Row(src=1, dst=28, timestamp=datetime.datetime(2009, 9, 30, 4, 54, 20))]"
     },
     "execution_count": 8,
     "metadata": {},
     "output_type": "execute_result"
    }
   ],
   "source": [
    "df_c2q = (\n",
    "    spark.read.csv(DATASET.raw_str('sx-mathoverflow-c2q.txt'), sep=' ', header=False, schema=schema,\n",
    "                   mode='DROPMALFORMED')\n",
    "        .withColumn('timestamp', F.to_timestamp(F.from_unixtime('timestamp'), 'yyyy-MM-dd HH:mm:ss'))\n",
    ")\n",
    "df_c2q.head(5)"
   ],
   "metadata": {
    "collapsed": false,
    "pycharm": {
     "name": "#%%\n"
    }
   }
  },
  {
   "cell_type": "code",
   "execution_count": 9,
   "outputs": [
    {
     "name": "stderr",
     "output_type": "stream",
     "text": [
      "                                                                                \r"
     ]
    },
    {
     "data": {
      "text/plain": "24818"
     },
     "execution_count": 9,
     "metadata": {},
     "output_type": "execute_result"
    }
   ],
   "source": [
    "df_nodes = (\n",
    "    df_a2q.select(F.col('src').alias('id'))\n",
    "        .union(df_a2q.select(F.col('dst').alias('id')))\n",
    "        .union(df_c2a.select(F.col('src').alias('id')))\n",
    "        .union(df_c2a.select(F.col('dst').alias('id')))\n",
    "        .union(df_c2q.select(F.col('src').alias('id')))\n",
    "        .union(df_c2q.select(F.col('dst').alias('id')))\n",
    "        .distinct()\n",
    ")\n",
    "df_nodes.count()"
   ],
   "metadata": {
    "collapsed": false,
    "pycharm": {
     "name": "#%%\n"
    }
   }
  },
  {
   "cell_type": "code",
   "execution_count": 10,
   "outputs": [
    {
     "name": "stderr",
     "output_type": "stream",
     "text": [
      "                                                                                \r"
     ]
    }
   ],
   "source": [
    "df_nodes.write.parquet(DATASET.processed_str('nodes_User'), mode='overwrite')\n",
    "\n",
    "df_a2q.write.parquet(DATASET.processed_str('edges_ANSWERED_QUESTION'), mode='overwrite')\n",
    "df_c2q.write.parquet(DATASET.processed_str('edges_COMMENTED_ON_QUESTION'), mode='overwrite')\n",
    "df_c2a.write.parquet(DATASET.processed_str('edges_COMMENTED_ON_ANSWER'), mode='overwrite')"
   ],
   "metadata": {
    "collapsed": false,
    "pycharm": {
     "name": "#%%\n"
    }
   }
  },
  {
   "cell_type": "code",
   "execution_count": 11,
   "outputs": [
    {
     "data": {
      "text/plain": "GraphSchema(_path=PosixPath('/dd_volume/Development/Python/Thesis/code/datasets/data/processed/sx-mathoverflow'), nodes={'User': NodeSchema(_type='User', _schema=..., label='id', properties={'id': GraphProperty(_name='id', dtype=DType(atomic=<DTypeAtomic.INT: 'int'>, array=False))}, dynamic=None)}, edges={'ANSWERED_QUESTION': EdgeSchema(_type='ANSWERED_QUESTION', _schema=..., label=None, properties={'src': GraphProperty(_name='src', dtype=DType(atomic=<DTypeAtomic.INT: 'int'>, array=False)), 'dst': GraphProperty(_name='dst', dtype=DType(atomic=<DTypeAtomic.INT: 'int'>, array=False)), 'timestamp': GraphProperty(_name='timestamp', dtype=DType(atomic=<DTypeAtomic.DATETIME: 'datetime'>, array=False))}, dynamic=DynamicConfig(timestamp='timestamp', interaction=True), source_type='User', target_type='User', directed=True), 'COMMENTED_ON_QUESTION': EdgeSchema(_type='COMMENTED_ON_QUESTION', _schema=..., label=None, properties={'src': GraphProperty(_name='src', dtype=DType(atomic=<DTypeAtomic.INT: 'int'>, array=False)), 'dst': GraphProperty(_name='dst', dtype=DType(atomic=<DTypeAtomic.INT: 'int'>, array=False)), 'timestamp': GraphProperty(_name='timestamp', dtype=DType(atomic=<DTypeAtomic.DATETIME: 'datetime'>, array=False))}, dynamic=DynamicConfig(timestamp='timestamp', interaction=True), source_type='User', target_type='User', directed=True), 'COMMENTED_ON_ANSWER': EdgeSchema(_type='COMMENTED_ON_ANSWER', _schema=..., label=None, properties={'src': GraphProperty(_name='src', dtype=DType(atomic=<DTypeAtomic.INT: 'int'>, array=False)), 'dst': GraphProperty(_name='dst', dtype=DType(atomic=<DTypeAtomic.INT: 'int'>, array=False)), 'timestamp': GraphProperty(_name='timestamp', dtype=DType(atomic=<DTypeAtomic.DATETIME: 'datetime'>, array=False))}, dynamic=DynamicConfig(timestamp='timestamp', interaction=True), source_type='User', target_type='User', directed=True)})"
     },
     "execution_count": 11,
     "metadata": {},
     "output_type": "execute_result"
    }
   ],
   "source": [
    "from shared.schema.graph import GraphSchema, NodeSchema, EdgeSchema\n",
    "\n",
    "(\n",
    "    GraphSchema()\n",
    "        .add_node_schema('User', NodeSchema.from_spark(df_nodes.schema, label='id'))\n",
    "        .add_edge_schema('ANSWERED_QUESTION', EdgeSchema.from_spark(df_a2q.schema, source_type='User', target_type='User', directed=True, timestamp='timestamp', interaction=True))\n",
    "        .add_edge_schema('COMMENTED_ON_QUESTION', EdgeSchema.from_spark(df_c2q.schema, source_type='User', target_type='User', directed=True, timestamp='timestamp', interaction=True))\n",
    "        .add_edge_schema('COMMENTED_ON_ANSWER', EdgeSchema.from_spark(df_c2a.schema, source_type='User', target_type='User', directed=True, timestamp='timestamp', interaction=True))\n",
    "        .save_schema(DATASET.processed())\n",
    ")"
   ],
   "metadata": {
    "collapsed": false,
    "pycharm": {
     "name": "#%%\n"
    }
   }
  },
  {
   "cell_type": "code",
   "execution_count": 11,
   "outputs": [],
   "source": [],
   "metadata": {
    "collapsed": false,
    "pycharm": {
     "name": "#%%\n"
    }
   }
  }
 ],
 "metadata": {
  "kernelspec": {
   "display_name": "Python 3",
   "language": "python",
   "name": "python3"
  },
  "language_info": {
   "codemirror_mode": {
    "name": "ipython",
    "version": 2
   },
   "file_extension": ".py",
   "mimetype": "text/x-python",
   "name": "python",
   "nbconvert_exporter": "python",
   "pygments_lexer": "ipython2",
   "version": "2.7.6"
  }
 },
 "nbformat": 4,
 "nbformat_minor": 0
}