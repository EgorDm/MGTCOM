{
 "cells": [
  {
   "cell_type": "code",
   "execution_count": 86,
   "outputs": [
    {
     "name": "stdout",
     "output_type": "stream",
     "text": [
      "The autoreload extension is already loaded. To reload it, use:\n",
      "  %reload_ext autoreload\n"
     ]
    }
   ],
   "source": [
    "%load_ext autoreload\n",
    "%autoreload 2"
   ],
   "metadata": {
    "collapsed": false,
    "pycharm": {
     "name": "#%%\n"
    }
   }
  },
  {
   "cell_type": "code",
   "execution_count": 87,
   "outputs": [],
   "source": [
    "from typing import List, Dict, Tuple\n",
    "\n",
    "import pandas as pd\n",
    "import wandb\n",
    "import numpy as np\n",
    "\n",
    "from shared.constants import WANDB_PROJECT, WANDB_ENTITY, BENCHMARKS_RESULTS, REPORTS_PATH"
   ],
   "metadata": {
    "collapsed": false,
    "pycharm": {
     "name": "#%%\n"
    }
   }
  },
  {
   "cell_type": "code",
   "execution_count": 88,
   "outputs": [],
   "source": [
    "baseline_results_dir = REPORTS_PATH.joinpath('results')\n",
    "baseline_dataset_results_dir = baseline_results_dir.joinpath('dataset')\n",
    "baseline_dataset_results_dir.mkdir(exist_ok=True, parents=True)"
   ],
   "metadata": {
    "collapsed": false,
    "pycharm": {
     "name": "#%%\n"
    }
   }
  },
  {
   "cell_type": "markdown",
   "source": [
    "# W&B Run loading and cleaning"
   ],
   "metadata": {
    "collapsed": false,
    "pycharm": {
     "name": "#%% md\n"
    }
   }
  },
  {
   "cell_type": "code",
   "execution_count": 92,
   "outputs": [],
   "source": [
    "def load_runs():\n",
    "    if baseline_results_dir.joinpath('runs.csv').exists():\n",
    "        return pd.read_csv(str(baseline_results_dir.joinpath('runs.csv')))\n",
    "\n",
    "    api = wandb.Api()\n",
    "    runs = api.runs(f'{WANDB_ENTITY}/{WANDB_PROJECT}')\n",
    "\n",
    "    summary_list, config_list, name_list = [], [], []\n",
    "    for run in runs:\n",
    "        # .summary contains the output keys/values for metrics like accuracy.\n",
    "        #  We call ._json_dict to omit large files\n",
    "        summary_list.append(run.summary._json_dict)\n",
    "\n",
    "        # .config contains the hyperparameters.\n",
    "        #  We remove special values that start with _.\n",
    "        config_list.append(\n",
    "            {k: v for k, v in run.config.items()\n",
    "             if not k.startswith('_')})\n",
    "\n",
    "        # .name is the human-readable name of the run.\n",
    "        name_list.append(run.name)\n",
    "\n",
    "    runs_df = pd.DataFrame({\n",
    "        \"summary\": summary_list,\n",
    "        \"config\": config_list,\n",
    "        \"name\": name_list\n",
    "    })\n",
    "\n",
    "    runs_df.to_csv(str(baseline_results_dir.joinpath('runs.csv')), index=False)\n",
    "\n",
    "    return runs_df"
   ],
   "metadata": {
    "collapsed": false,
    "pycharm": {
     "name": "#%%\n"
    }
   }
  },
  {
   "cell_type": "code",
   "execution_count": 93,
   "outputs": [
    {
     "data": {
      "text/plain": "                                             summary  \\\n0  {'snapshots/z_modularity_table': {'sha256': 'd...   \n1  {'snapshots/nf1_table': {'sha256': 'c3ef948d9f...   \n2  {'snapshots/expansion_table': {'nrows': 1, 'sh...   \n3                        {'_wandb': {'runtime': 29}}   \n4  {'overlapping_nmi': 0.24750250874265023, 'modu...   \n\n                                              config  \\\n0  {'k': 20, 'ks': 5, 'lr': 0.11241108827476871, ...   \n1  {'k': 20, 'ks': 5, 'lr': 0.10637746652699272, ...   \n2  {'k': 40, 'ks': 5, 'lr': 0.0810058651013401, '...   \n3  {'k': 40, 'ks': 5, 'lr': 0.19141776079179584, ...   \n4  {'k': 20, 'ks': 5, 'lr': 0.06975103221413931, ...   \n\n                                              name  \n0  2022-02-02_20-09-50-ComE-ucidata-zachary:static  \n1  2022-02-02_20-06-14-ComE-ucidata-zachary:static  \n2  2022-02-02_20-01-12-ComE-ucidata-zachary:static  \n3  2022-02-02_20-00-35-ComE-ucidata-zachary:static  \n4  2022-02-02_19-59-33-ComE-ucidata-zachary:static  ",
      "text/html": "<div>\n<style scoped>\n    .dataframe tbody tr th:only-of-type {\n        vertical-align: middle;\n    }\n\n    .dataframe tbody tr th {\n        vertical-align: top;\n    }\n\n    .dataframe thead th {\n        text-align: right;\n    }\n</style>\n<table border=\"1\" class=\"dataframe\">\n  <thead>\n    <tr style=\"text-align: right;\">\n      <th></th>\n      <th>summary</th>\n      <th>config</th>\n      <th>name</th>\n    </tr>\n  </thead>\n  <tbody>\n    <tr>\n      <th>0</th>\n      <td>{'snapshots/z_modularity_table': {'sha256': 'd...</td>\n      <td>{'k': 20, 'ks': 5, 'lr': 0.11241108827476871, ...</td>\n      <td>2022-02-02_20-09-50-ComE-ucidata-zachary:static</td>\n    </tr>\n    <tr>\n      <th>1</th>\n      <td>{'snapshots/nf1_table': {'sha256': 'c3ef948d9f...</td>\n      <td>{'k': 20, 'ks': 5, 'lr': 0.10637746652699272, ...</td>\n      <td>2022-02-02_20-06-14-ComE-ucidata-zachary:static</td>\n    </tr>\n    <tr>\n      <th>2</th>\n      <td>{'snapshots/expansion_table': {'nrows': 1, 'sh...</td>\n      <td>{'k': 40, 'ks': 5, 'lr': 0.0810058651013401, '...</td>\n      <td>2022-02-02_20-01-12-ComE-ucidata-zachary:static</td>\n    </tr>\n    <tr>\n      <th>3</th>\n      <td>{'_wandb': {'runtime': 29}}</td>\n      <td>{'k': 40, 'ks': 5, 'lr': 0.19141776079179584, ...</td>\n      <td>2022-02-02_20-00-35-ComE-ucidata-zachary:static</td>\n    </tr>\n    <tr>\n      <th>4</th>\n      <td>{'overlapping_nmi': 0.24750250874265023, 'modu...</td>\n      <td>{'k': 20, 'ks': 5, 'lr': 0.06975103221413931, ...</td>\n      <td>2022-02-02_19-59-33-ComE-ucidata-zachary:static</td>\n    </tr>\n  </tbody>\n</table>\n</div>"
     },
     "execution_count": 93,
     "metadata": {},
     "output_type": "execute_result"
    }
   ],
   "source": [
    "runs_df = load_runs()\n",
    "runs_df.head()"
   ],
   "metadata": {
    "collapsed": false,
    "pycharm": {
     "name": "#%%\n"
    }
   }
  },
  {
   "cell_type": "markdown",
   "source": [
    "## Clean runs and group them per dataset version"
   ],
   "metadata": {
    "collapsed": false,
    "pycharm": {
     "name": "#%% md\n"
    }
   }
  },
  {
   "cell_type": "code",
   "execution_count": 94,
   "outputs": [],
   "source": [
    "runs_df['summary'] = runs_df['summary'].apply(eval)\n",
    "runs_df['config'] = runs_df['config'].apply(eval)\n",
    "runs_df = pd.concat([\n",
    "    runs_df,\n",
    "    pd.json_normalize(runs_df['summary'], max_level=0).add_prefix('summary.'),\n",
    "    pd.json_normalize(runs_df['config'], max_level=0).add_prefix('config.')\n",
    "], axis=1)\n",
    "runs_df.drop(['summary', 'config'], axis=1, inplace=True)\n",
    "\n",
    "runs_df = runs_df[runs_df['summary.error'].isna()]\n",
    "runs_df = runs_df[~runs_df['summary._runtime'].isna()]\n",
    "runs_dfs = dict(tuple(runs_df.groupby(['config.dataset', 'config.version'])))\n",
    "for dataset, df in runs_dfs.items():\n",
    "    df.dropna(axis=1, how='all', inplace=True)"
   ],
   "metadata": {
    "collapsed": false,
    "pycharm": {
     "name": "#%%\n"
    }
   }
  },
  {
   "cell_type": "code",
   "execution_count": 95,
   "outputs": [
    {
     "data": {
      "text/plain": "                                                  name  \\\n122  2022-02-01_18-55-26-GreeneDCD-louvain-DBLP-HCN...   \n123  2022-02-01_18-44-51-GreeneDCD-louvain-DBLP-HCN...   \n126  2022-02-01_18-33-45-GreeneDCD-louvain-DBLP-HCN...   \n127  2022-02-01_18-23-14-GreeneDCD-louvain-DBLP-HCN...   \n129  2022-02-01_18-05-40-GreeneDCD-louvain-DBLP-HCN...   \n\n                  summary.snapshots/z_modularity_table  \\\n122  {'artifact_path': 'wandb-client-artifact://dl8...   \n123  {'_type': 'table-file', 'ncols': 2, 'nrows': 5...   \n126  {'sha256': 'a0dec8d1a2d5484b06cd626de24a279402...   \n127  {'path': 'media/table/snapshots/z_modularity_t...   \n129  {'path': 'media/table/snapshots/z_modularity_t...   \n\n               summary.snapshots/overlapping_nmi_table  summary.nf1  \\\n122  {'_latest_artifact_path': 'wandb-client-artifa...     0.042822   \n123  {'nrows': 5, 'sha256': 'b04d7b625e383849e10497...     0.044074   \n126  {'size': 191, '_type': 'table-file', 'ncols': ...     0.049631   \n127  {'nrows': 5, 'sha256': 'aa43a0f27ace98ff2cf2f1...     0.046319   \n129  {'nrows': 5, 'sha256': 'e925ab355d3c4d7ef99f70...     0.046437   \n\n     summary._runtime  summary.modularity_overlap  \\\n122            1921.0                    0.129653   \n123             602.0                    0.123640   \n126             628.0                    0.119514   \n127             597.0                    0.121984   \n129            1017.0                    0.125689   \n\n     summary.internal_edge_density  \\\n122                       0.194037   \n123                       0.183350   \n126                       0.178336   \n127                       0.182381   \n129                       0.186543   \n\n                       summary.snapshots/avg_odf_table  \\\n122  {'nrows': 5, 'sha256': '1f5dd207530fffcc6f9c95...   \n123  {'path': 'media/table/snapshots/avg_odf_table_...   \n126  {'_latest_artifact_path': 'wandb-client-artifa...   \n127  {'ncols': 2, 'nrows': 5, 'sha256': '6aaeb2e602...   \n129  {'_latest_artifact_path': 'wandb-client-artifa...   \n\n                   summary.snapshots/conductance_table  summary.f1  ...  \\\n122  {'nrows': 5, 'sha256': '687c0889c197dc9833614f...    0.156426  ...   \n123  {'ncols': 2, 'nrows': 5, 'sha256': '06a5adc308...    0.159387  ...   \n126  {'_type': 'table-file', 'ncols': 2, 'nrows': 5...    0.171328  ...   \n127  {'sha256': '60137dbe14154dd21f1c629a4b6a564e86...    0.164162  ...   \n129  {'sha256': 'c4609d345642a963d1366087fd50366e63...    0.164365  ...   \n\n       config.baseline config.death  config.max_step  config.min_length  \\\n122  GreeneDCD-louvain          3.0             -1.0                2.0   \n123  GreeneDCD-louvain          4.0             -1.0                2.0   \n126  GreeneDCD-louvain          3.0             -1.0                2.0   \n127  GreeneDCD-louvain          4.0             -1.0                2.0   \n129  GreeneDCD-louvain          3.0             -1.0                2.0   \n\n     config.persist_threshold  config.matching_threshold  config.level  \\\n122                       1.0                   0.200061          -1.0   \n123                       1.0                   0.205309          -1.0   \n126                       1.0                   0.097753          -1.0   \n127                       1.0                   0.168891          -1.0   \n129                       1.0                   0.186049          -1.0   \n\n    config.epsilon config.weighted config.reuse_partition  \n122          0.001           False                  False  \n123          0.001           False                  False  \n126          0.001           False                  False  \n127          0.001           False                  False  \n129          0.001           False                  False  \n\n[5 rows x 42 columns]",
      "text/html": "<div>\n<style scoped>\n    .dataframe tbody tr th:only-of-type {\n        vertical-align: middle;\n    }\n\n    .dataframe tbody tr th {\n        vertical-align: top;\n    }\n\n    .dataframe thead th {\n        text-align: right;\n    }\n</style>\n<table border=\"1\" class=\"dataframe\">\n  <thead>\n    <tr style=\"text-align: right;\">\n      <th></th>\n      <th>name</th>\n      <th>summary.snapshots/z_modularity_table</th>\n      <th>summary.snapshots/overlapping_nmi_table</th>\n      <th>summary.nf1</th>\n      <th>summary._runtime</th>\n      <th>summary.modularity_overlap</th>\n      <th>summary.internal_edge_density</th>\n      <th>summary.snapshots/avg_odf_table</th>\n      <th>summary.snapshots/conductance_table</th>\n      <th>summary.f1</th>\n      <th>...</th>\n      <th>config.baseline</th>\n      <th>config.death</th>\n      <th>config.max_step</th>\n      <th>config.min_length</th>\n      <th>config.persist_threshold</th>\n      <th>config.matching_threshold</th>\n      <th>config.level</th>\n      <th>config.epsilon</th>\n      <th>config.weighted</th>\n      <th>config.reuse_partition</th>\n    </tr>\n  </thead>\n  <tbody>\n    <tr>\n      <th>122</th>\n      <td>2022-02-01_18-55-26-GreeneDCD-louvain-DBLP-HCN...</td>\n      <td>{'artifact_path': 'wandb-client-artifact://dl8...</td>\n      <td>{'_latest_artifact_path': 'wandb-client-artifa...</td>\n      <td>0.042822</td>\n      <td>1921.0</td>\n      <td>0.129653</td>\n      <td>0.194037</td>\n      <td>{'nrows': 5, 'sha256': '1f5dd207530fffcc6f9c95...</td>\n      <td>{'nrows': 5, 'sha256': '687c0889c197dc9833614f...</td>\n      <td>0.156426</td>\n      <td>...</td>\n      <td>GreeneDCD-louvain</td>\n      <td>3.0</td>\n      <td>-1.0</td>\n      <td>2.0</td>\n      <td>1.0</td>\n      <td>0.200061</td>\n      <td>-1.0</td>\n      <td>0.001</td>\n      <td>False</td>\n      <td>False</td>\n    </tr>\n    <tr>\n      <th>123</th>\n      <td>2022-02-01_18-44-51-GreeneDCD-louvain-DBLP-HCN...</td>\n      <td>{'_type': 'table-file', 'ncols': 2, 'nrows': 5...</td>\n      <td>{'nrows': 5, 'sha256': 'b04d7b625e383849e10497...</td>\n      <td>0.044074</td>\n      <td>602.0</td>\n      <td>0.123640</td>\n      <td>0.183350</td>\n      <td>{'path': 'media/table/snapshots/avg_odf_table_...</td>\n      <td>{'ncols': 2, 'nrows': 5, 'sha256': '06a5adc308...</td>\n      <td>0.159387</td>\n      <td>...</td>\n      <td>GreeneDCD-louvain</td>\n      <td>4.0</td>\n      <td>-1.0</td>\n      <td>2.0</td>\n      <td>1.0</td>\n      <td>0.205309</td>\n      <td>-1.0</td>\n      <td>0.001</td>\n      <td>False</td>\n      <td>False</td>\n    </tr>\n    <tr>\n      <th>126</th>\n      <td>2022-02-01_18-33-45-GreeneDCD-louvain-DBLP-HCN...</td>\n      <td>{'sha256': 'a0dec8d1a2d5484b06cd626de24a279402...</td>\n      <td>{'size': 191, '_type': 'table-file', 'ncols': ...</td>\n      <td>0.049631</td>\n      <td>628.0</td>\n      <td>0.119514</td>\n      <td>0.178336</td>\n      <td>{'_latest_artifact_path': 'wandb-client-artifa...</td>\n      <td>{'_type': 'table-file', 'ncols': 2, 'nrows': 5...</td>\n      <td>0.171328</td>\n      <td>...</td>\n      <td>GreeneDCD-louvain</td>\n      <td>3.0</td>\n      <td>-1.0</td>\n      <td>2.0</td>\n      <td>1.0</td>\n      <td>0.097753</td>\n      <td>-1.0</td>\n      <td>0.001</td>\n      <td>False</td>\n      <td>False</td>\n    </tr>\n    <tr>\n      <th>127</th>\n      <td>2022-02-01_18-23-14-GreeneDCD-louvain-DBLP-HCN...</td>\n      <td>{'path': 'media/table/snapshots/z_modularity_t...</td>\n      <td>{'nrows': 5, 'sha256': 'aa43a0f27ace98ff2cf2f1...</td>\n      <td>0.046319</td>\n      <td>597.0</td>\n      <td>0.121984</td>\n      <td>0.182381</td>\n      <td>{'ncols': 2, 'nrows': 5, 'sha256': '6aaeb2e602...</td>\n      <td>{'sha256': '60137dbe14154dd21f1c629a4b6a564e86...</td>\n      <td>0.164162</td>\n      <td>...</td>\n      <td>GreeneDCD-louvain</td>\n      <td>4.0</td>\n      <td>-1.0</td>\n      <td>2.0</td>\n      <td>1.0</td>\n      <td>0.168891</td>\n      <td>-1.0</td>\n      <td>0.001</td>\n      <td>False</td>\n      <td>False</td>\n    </tr>\n    <tr>\n      <th>129</th>\n      <td>2022-02-01_18-05-40-GreeneDCD-louvain-DBLP-HCN...</td>\n      <td>{'path': 'media/table/snapshots/z_modularity_t...</td>\n      <td>{'nrows': 5, 'sha256': 'e925ab355d3c4d7ef99f70...</td>\n      <td>0.046437</td>\n      <td>1017.0</td>\n      <td>0.125689</td>\n      <td>0.186543</td>\n      <td>{'_latest_artifact_path': 'wandb-client-artifa...</td>\n      <td>{'sha256': 'c4609d345642a963d1366087fd50366e63...</td>\n      <td>0.164365</td>\n      <td>...</td>\n      <td>GreeneDCD-louvain</td>\n      <td>3.0</td>\n      <td>-1.0</td>\n      <td>2.0</td>\n      <td>1.0</td>\n      <td>0.186049</td>\n      <td>-1.0</td>\n      <td>0.001</td>\n      <td>False</td>\n      <td>False</td>\n    </tr>\n  </tbody>\n</table>\n<p>5 rows × 42 columns</p>\n</div>"
     },
     "execution_count": 95,
     "metadata": {},
     "output_type": "execute_result"
    }
   ],
   "source": [
    "next(iter(runs_dfs.values())).head(5)"
   ],
   "metadata": {
    "collapsed": false,
    "pycharm": {
     "name": "#%%\n"
    }
   }
  },
  {
   "cell_type": "code",
   "execution_count": 96,
   "outputs": [],
   "source": [
    "from benchmarks.evaluation import ALL_METRICS\n",
    "\n",
    "\n",
    "def maximizing_metric(df: pd.DataFrame):\n",
    "    for metric_cls in ALL_METRICS:\n",
    "        if f'summary.{metric_cls.metric_name()}' in df.columns:\n",
    "            return metric_cls.metric_name(), metric_cls.metric_order() == 'maximize'\n",
    "\n",
    "def aggregate_metrics_by_baseline(df: pd.DataFrame):\n",
    "    metric, desc = maximizing_metric(df)\n",
    "    metrics = [metric_cls for metric_cls in ALL_METRICS if f'summary.{metric_cls.metric_name()}' in df.columns]\n",
    "\n",
    "    print(f'Aggregating baselines by {metric}')\n",
    "    if df[f'summary.{metric}'].isna().any():\n",
    "        print('Found NaN values in metric')\n",
    "        df[f'summary.{metric}'] = df[f'summary.{metric}'].fillna(np.NINF if desc else np.PINF)\n",
    "\n",
    "    grouped = df\\\n",
    "        .sort_values(f'summary.{metric}', ascending=not desc)\\\n",
    "        .groupby(['config.baseline'])\n",
    "    statistics = grouped.agg(\n",
    "        run_count=('config.version', 'count'),\n",
    "    )\n",
    "\n",
    "    best_df = grouped.head(1).set_index('config.baseline')\n",
    "    best_df.drop(columns=best_df.columns.difference([\n",
    "        *[f'summary.{metric_cls.metric_name()}' for metric_cls in metrics],\n",
    "        'name', 'summary._runtime'\n",
    "    ]), inplace=True)\n",
    "    for metric_cls in metrics:\n",
    "        desc = metric_cls.metric_order() == 'maximize'\n",
    "        df[f'summary.{metric_cls.metric_name()}'] = df[f'summary.{metric_cls.metric_name()}'].fillna(np.NINF if desc else np.PINF)\n",
    "        best_df[f'{metric_cls.metric_name()}_rank'] = best_df[f'summary.{metric_cls.metric_name()}'].rank(ascending=not desc)\n",
    "\n",
    "    best_df.rename(columns={\n",
    "        'summary._runtime': 'runtime'\n",
    "    }, inplace=True)\n",
    "    best_df.columns = map(lambda x: x.replace('summary.', ''), best_df.columns)\n",
    "    best_df = best_df[sorted(map(str, best_df.columns))]\n",
    "    best_df['total'] = sum(best_df[col] == 1 for col in best_df.columns if col.endswith('rank'))\n",
    "\n",
    "    df = best_df.join(statistics, how='inner')\n",
    "    df.index.name = 'baseline'\n",
    "    return df\n"
   ],
   "metadata": {
    "collapsed": false,
    "pycharm": {
     "name": "#%%\n"
    }
   }
  },
  {
   "cell_type": "code",
   "execution_count": 97,
   "outputs": [
    {
     "name": "stdout",
     "output_type": "stream",
     "text": [
      "Processing DBLP-HCN split_5\n",
      "Aggregating baselines by nf1\n",
      "Processing DBLP-HCN static\n",
      "Aggregating baselines by nf1\n",
      "Processing DBLP-V1 split_5_small\n",
      "Aggregating baselines by modularity\n",
      "Found NaN values in metric\n",
      "Processing email-Eu-core static\n",
      "Aggregating baselines by nmi\n",
      "Found NaN values in metric\n",
      "Processing enron-mail-20150507 split_10\n",
      "Aggregating baselines by modularity\n",
      "Processing enron-mail-20150507 split_10_small\n",
      "Aggregating baselines by modularity\n",
      "Processing enron-mail-20150507 split_20\n",
      "Aggregating baselines by modularity\n",
      "Processing enron-mail-20150507 split_5\n",
      "Aggregating baselines by modularity\n",
      "Processing house-of-representatives-congress-116 split_10\n",
      "Aggregating baselines by modularity\n",
      "Found NaN values in metric\n",
      "Processing house-of-representatives-congress-116 split_10_small\n",
      "Aggregating baselines by modularity\n",
      "Found NaN values in metric\n",
      "Processing house-of-representatives-congress-116 split_5\n",
      "Aggregating baselines by modularity\n",
      "Found NaN values in metric\n",
      "Processing house-of-representatives-congress-116 static_small\n",
      "Aggregating baselines by modularity\n",
      "Found NaN values in metric\n",
      "Processing imdb-5000-movie-dataset split_5\n",
      "Aggregating baselines by modularity\n",
      "Processing imdb-5000-movie-dataset static\n",
      "Aggregating baselines by modularity\n",
      "Processing misc-football static\n",
      "Aggregating baselines by modularity\n",
      "Found NaN values in metric\n",
      "Processing social-distancing-student split_5\n",
      "Aggregating baselines by modularity\n",
      "Processing social-distancing-student static\n",
      "Aggregating baselines by modularity\n",
      "Processing star-wars split_5\n",
      "Aggregating baselines by modularity\n",
      "Found NaN values in metric\n",
      "Processing star-wars split_7\n",
      "Aggregating baselines by modularity\n",
      "Found NaN values in metric\n",
      "Processing star-wars static\n",
      "Aggregating baselines by modularity\n",
      "Found NaN values in metric\n",
      "Processing sx-mathoverflow split_10\n",
      "Aggregating baselines by modularity\n",
      "Found NaN values in metric\n",
      "Processing sx-mathoverflow split_6\n",
      "Aggregating baselines by modularity\n",
      "Found NaN values in metric\n",
      "Processing sx-superuser split_10\n",
      "Aggregating baselines by modularity\n",
      "Found NaN values in metric\n",
      "Processing sx-superuser split_6\n",
      "Aggregating baselines by modularity\n",
      "Found NaN values in metric\n",
      "Processing ucidata-zachary static\n",
      "Aggregating baselines by nmi\n",
      "Found NaN values in metric\n"
     ]
    }
   ],
   "source": [
    "dataset_results_dfs = {}\n",
    "\n",
    "for (dataset, version), df in runs_dfs.items():\n",
    "    print(f'Processing {dataset} {version}')\n",
    "    df = aggregate_metrics_by_baseline(df)\n",
    "    df.to_csv(str(baseline_dataset_results_dir.joinpath(f'{dataset}_{version}.csv')), index=True)\n",
    "    dataset_results_dfs[(dataset, version)] = df"
   ],
   "metadata": {
    "collapsed": false,
    "pycharm": {
     "name": "#%%\n"
    }
   }
  },
  {
   "cell_type": "code",
   "execution_count": 98,
   "outputs": [],
   "source": [
    "static_dataset_results_dfs = {\n",
    "    (dataset, version): df\n",
    "    for (dataset, version), df in dataset_results_dfs.items()\n",
    "    if version == 'static' or version == 'static_small'\n",
    "}\n",
    "\n",
    "dynamic_dataset_results_dfs = {\n",
    "    (dataset, version): df\n",
    "    for (dataset, version), df in dataset_results_dfs.items()\n",
    "    if version != 'static' and version != 'static_small'\n",
    "}"
   ],
   "metadata": {
    "collapsed": false,
    "pycharm": {
     "name": "#%%\n"
    }
   }
  },
  {
   "cell_type": "code",
   "execution_count": 99,
   "outputs": [],
   "source": [
    "from collections import defaultdict\n",
    "\n",
    "\n",
    "def aggregate_metrics_by_type(dfs: Dict[Tuple[str, str], pd.DataFrame]):\n",
    "    baselines = defaultdict(dict)\n",
    "    for (dataset, version), df in dfs.items():\n",
    "        for baseline, rank in df['total'].rank(ascending=False).iteritems():\n",
    "            baselines[baseline][f'{dataset}:{version}'] = rank\n",
    "\n",
    "    result_df = pd.DataFrame(baselines).T\n",
    "    result_df.index.name = 'baseline'\n",
    "    result_df = result_df[~result_df.isna().all(axis=1)]\n",
    "    result_df['total'] = (result_df == 1).sum(axis=1)\n",
    "\n",
    "    return result_df"
   ],
   "metadata": {
    "collapsed": false,
    "pycharm": {
     "name": "#%%\n"
    }
   }
  },
  {
   "cell_type": "code",
   "execution_count": 100,
   "outputs": [
    {
     "data": {
      "text/plain": "          DBLP-HCN:static  email-Eu-core:static  \\\nbaseline                                          \nComE                  1.0                   4.0   \nLouvain               2.0                   1.0   \nGEMSEC                NaN                   3.0   \nANGEL                 NaN                   2.0   \n\n          house-of-representatives-congress-116:static_small  \\\nbaseline                                                       \nComE                                                    2.0    \nLouvain                                                 1.0    \nGEMSEC                                                  4.0    \nANGEL                                                   3.0    \n\n          imdb-5000-movie-dataset:static  misc-football:static  \\\nbaseline                                                         \nComE                                 2.0                   2.0   \nLouvain                              1.0                   1.0   \nGEMSEC                               NaN                   3.5   \nANGEL                                NaN                   3.5   \n\n          star-wars:static  ucidata-zachary:static  \\\nbaseline                                             \nComE                   3.5                     3.0   \nLouvain                1.5                     1.0   \nGEMSEC                 3.5                     3.0   \nANGEL                  1.5                     3.0   \n\n          social-distancing-student:static  total  \nbaseline                                           \nComE                                   NaN      1  \nLouvain                                1.0      6  \nGEMSEC                                 NaN      0  \nANGEL                                  NaN      0  ",
      "text/html": "<div>\n<style scoped>\n    .dataframe tbody tr th:only-of-type {\n        vertical-align: middle;\n    }\n\n    .dataframe tbody tr th {\n        vertical-align: top;\n    }\n\n    .dataframe thead th {\n        text-align: right;\n    }\n</style>\n<table border=\"1\" class=\"dataframe\">\n  <thead>\n    <tr style=\"text-align: right;\">\n      <th></th>\n      <th>DBLP-HCN:static</th>\n      <th>email-Eu-core:static</th>\n      <th>house-of-representatives-congress-116:static_small</th>\n      <th>imdb-5000-movie-dataset:static</th>\n      <th>misc-football:static</th>\n      <th>star-wars:static</th>\n      <th>ucidata-zachary:static</th>\n      <th>social-distancing-student:static</th>\n      <th>total</th>\n    </tr>\n    <tr>\n      <th>baseline</th>\n      <th></th>\n      <th></th>\n      <th></th>\n      <th></th>\n      <th></th>\n      <th></th>\n      <th></th>\n      <th></th>\n      <th></th>\n    </tr>\n  </thead>\n  <tbody>\n    <tr>\n      <th>ComE</th>\n      <td>1.0</td>\n      <td>4.0</td>\n      <td>2.0</td>\n      <td>2.0</td>\n      <td>2.0</td>\n      <td>3.5</td>\n      <td>3.0</td>\n      <td>NaN</td>\n      <td>1</td>\n    </tr>\n    <tr>\n      <th>Louvain</th>\n      <td>2.0</td>\n      <td>1.0</td>\n      <td>1.0</td>\n      <td>1.0</td>\n      <td>1.0</td>\n      <td>1.5</td>\n      <td>1.0</td>\n      <td>1.0</td>\n      <td>6</td>\n    </tr>\n    <tr>\n      <th>GEMSEC</th>\n      <td>NaN</td>\n      <td>3.0</td>\n      <td>4.0</td>\n      <td>NaN</td>\n      <td>3.5</td>\n      <td>3.5</td>\n      <td>3.0</td>\n      <td>NaN</td>\n      <td>0</td>\n    </tr>\n    <tr>\n      <th>ANGEL</th>\n      <td>NaN</td>\n      <td>2.0</td>\n      <td>3.0</td>\n      <td>NaN</td>\n      <td>3.5</td>\n      <td>1.5</td>\n      <td>3.0</td>\n      <td>NaN</td>\n      <td>0</td>\n    </tr>\n  </tbody>\n</table>\n</div>"
     },
     "execution_count": 100,
     "metadata": {},
     "output_type": "execute_result"
    }
   ],
   "source": [
    "static_results_df = aggregate_metrics_by_type(static_dataset_results_dfs)\n",
    "static_results_df.to_csv(str(baseline_results_dir.joinpath('static_results.csv')), index=True)\n",
    "static_results_df"
   ],
   "metadata": {
    "collapsed": false,
    "pycharm": {
     "name": "#%%\n"
    }
   }
  },
  {
   "cell_type": "code",
   "execution_count": 101,
   "outputs": [
    {
     "data": {
      "text/plain": "                   DBLP-HCN:split_5  enron-mail-20150507:split_10  \\\nbaseline                                                            \nGreeneDCD-louvain               1.0                           2.0   \nLouvain-Dynamic                 2.5                           1.0   \nDynamo                          2.5                           3.0   \nGreeneDCD-MOSES                 NaN                           NaN   \nESPRA                           NaN                           NaN   \nARCHANGEL                       NaN                           NaN   \n\n                   enron-mail-20150507:split_10_small  \\\nbaseline                                                \nGreeneDCD-louvain                                 3.0   \nLouvain-Dynamic                                   2.0   \nDynamo                                            1.0   \nGreeneDCD-MOSES                                   NaN   \nESPRA                                             NaN   \nARCHANGEL                                         NaN   \n\n                   enron-mail-20150507:split_20  enron-mail-20150507:split_5  \\\nbaseline                                                                       \nGreeneDCD-louvain                           2.5                          1.0   \nLouvain-Dynamic                             1.0                          2.0   \nDynamo                                      2.5                          3.0   \nGreeneDCD-MOSES                             NaN                          NaN   \nESPRA                                       NaN                          NaN   \nARCHANGEL                                   NaN                          NaN   \n\n                   house-of-representatives-congress-116:split_10  \\\nbaseline                                                            \nGreeneDCD-louvain                                             3.5   \nLouvain-Dynamic                                               1.0   \nDynamo                                                        3.5   \nGreeneDCD-MOSES                                               NaN   \nESPRA                                                         3.5   \nARCHANGEL                                                     3.5   \n\n                   house-of-representatives-congress-116:split_10_small  \\\nbaseline                                                                  \nGreeneDCD-louvain                                                2.0      \nLouvain-Dynamic                                                  1.0      \nDynamo                                                           5.0      \nGreeneDCD-MOSES                                                  5.0      \nESPRA                                                            5.0      \nARCHANGEL                                                        3.0      \n\n                   house-of-representatives-congress-116:split_5  \\\nbaseline                                                           \nGreeneDCD-louvain                                            5.0   \nLouvain-Dynamic                                              1.0   \nDynamo                                                       NaN   \nGreeneDCD-MOSES                                              2.0   \nESPRA                                                        3.5   \nARCHANGEL                                                    3.5   \n\n                   imdb-5000-movie-dataset:split_5  \\\nbaseline                                             \nGreeneDCD-louvain                              1.0   \nLouvain-Dynamic                                3.0   \nDynamo                                         2.0   \nGreeneDCD-MOSES                                NaN   \nESPRA                                          NaN   \nARCHANGEL                                      NaN   \n\n                   social-distancing-student:split_5  star-wars:split_5  \\\nbaseline                                                                  \nGreeneDCD-louvain                                1.0                3.5   \nLouvain-Dynamic                                  3.0                3.5   \nDynamo                                           2.0                6.0   \nGreeneDCD-MOSES                                  NaN                3.5   \nESPRA                                            NaN                3.5   \nARCHANGEL                                        NaN                1.0   \n\n                   star-wars:split_7  sx-mathoverflow:split_10  \\\nbaseline                                                         \nGreeneDCD-louvain                5.5                       1.0   \nLouvain-Dynamic                  2.0                       2.5   \nDynamo                           5.5                       NaN   \nGreeneDCD-MOSES                  3.5                       4.0   \nESPRA                            3.5                       NaN   \nARCHANGEL                        1.0                       2.5   \n\n                   sx-mathoverflow:split_6  sx-superuser:split_10  \\\nbaseline                                                            \nGreeneDCD-louvain                      1.5                    1.0   \nLouvain-Dynamic                        1.5                    3.0   \nDynamo                                 NaN                    NaN   \nGreeneDCD-MOSES                        4.0                    2.0   \nESPRA                                  NaN                    NaN   \nARCHANGEL                              3.0                    NaN   \n\n                   sx-superuser:split_6  DBLP-V1:split_5_small  total  \nbaseline                                                               \nGreeneDCD-louvain                   1.0                    NaN      7  \nLouvain-Dynamic                     4.5                    1.0      6  \nDynamo                              2.5                    2.0      1  \nGreeneDCD-MOSES                     4.5                    3.0      0  \nESPRA                               NaN                    NaN      0  \nARCHANGEL                           2.5                    NaN      2  ",
      "text/html": "<div>\n<style scoped>\n    .dataframe tbody tr th:only-of-type {\n        vertical-align: middle;\n    }\n\n    .dataframe tbody tr th {\n        vertical-align: top;\n    }\n\n    .dataframe thead th {\n        text-align: right;\n    }\n</style>\n<table border=\"1\" class=\"dataframe\">\n  <thead>\n    <tr style=\"text-align: right;\">\n      <th></th>\n      <th>DBLP-HCN:split_5</th>\n      <th>enron-mail-20150507:split_10</th>\n      <th>enron-mail-20150507:split_10_small</th>\n      <th>enron-mail-20150507:split_20</th>\n      <th>enron-mail-20150507:split_5</th>\n      <th>house-of-representatives-congress-116:split_10</th>\n      <th>house-of-representatives-congress-116:split_10_small</th>\n      <th>house-of-representatives-congress-116:split_5</th>\n      <th>imdb-5000-movie-dataset:split_5</th>\n      <th>social-distancing-student:split_5</th>\n      <th>star-wars:split_5</th>\n      <th>star-wars:split_7</th>\n      <th>sx-mathoverflow:split_10</th>\n      <th>sx-mathoverflow:split_6</th>\n      <th>sx-superuser:split_10</th>\n      <th>sx-superuser:split_6</th>\n      <th>DBLP-V1:split_5_small</th>\n      <th>total</th>\n    </tr>\n    <tr>\n      <th>baseline</th>\n      <th></th>\n      <th></th>\n      <th></th>\n      <th></th>\n      <th></th>\n      <th></th>\n      <th></th>\n      <th></th>\n      <th></th>\n      <th></th>\n      <th></th>\n      <th></th>\n      <th></th>\n      <th></th>\n      <th></th>\n      <th></th>\n      <th></th>\n      <th></th>\n    </tr>\n  </thead>\n  <tbody>\n    <tr>\n      <th>GreeneDCD-louvain</th>\n      <td>1.0</td>\n      <td>2.0</td>\n      <td>3.0</td>\n      <td>2.5</td>\n      <td>1.0</td>\n      <td>3.5</td>\n      <td>2.0</td>\n      <td>5.0</td>\n      <td>1.0</td>\n      <td>1.0</td>\n      <td>3.5</td>\n      <td>5.5</td>\n      <td>1.0</td>\n      <td>1.5</td>\n      <td>1.0</td>\n      <td>1.0</td>\n      <td>NaN</td>\n      <td>7</td>\n    </tr>\n    <tr>\n      <th>Louvain-Dynamic</th>\n      <td>2.5</td>\n      <td>1.0</td>\n      <td>2.0</td>\n      <td>1.0</td>\n      <td>2.0</td>\n      <td>1.0</td>\n      <td>1.0</td>\n      <td>1.0</td>\n      <td>3.0</td>\n      <td>3.0</td>\n      <td>3.5</td>\n      <td>2.0</td>\n      <td>2.5</td>\n      <td>1.5</td>\n      <td>3.0</td>\n      <td>4.5</td>\n      <td>1.0</td>\n      <td>6</td>\n    </tr>\n    <tr>\n      <th>Dynamo</th>\n      <td>2.5</td>\n      <td>3.0</td>\n      <td>1.0</td>\n      <td>2.5</td>\n      <td>3.0</td>\n      <td>3.5</td>\n      <td>5.0</td>\n      <td>NaN</td>\n      <td>2.0</td>\n      <td>2.0</td>\n      <td>6.0</td>\n      <td>5.5</td>\n      <td>NaN</td>\n      <td>NaN</td>\n      <td>NaN</td>\n      <td>2.5</td>\n      <td>2.0</td>\n      <td>1</td>\n    </tr>\n    <tr>\n      <th>GreeneDCD-MOSES</th>\n      <td>NaN</td>\n      <td>NaN</td>\n      <td>NaN</td>\n      <td>NaN</td>\n      <td>NaN</td>\n      <td>NaN</td>\n      <td>5.0</td>\n      <td>2.0</td>\n      <td>NaN</td>\n      <td>NaN</td>\n      <td>3.5</td>\n      <td>3.5</td>\n      <td>4.0</td>\n      <td>4.0</td>\n      <td>2.0</td>\n      <td>4.5</td>\n      <td>3.0</td>\n      <td>0</td>\n    </tr>\n    <tr>\n      <th>ESPRA</th>\n      <td>NaN</td>\n      <td>NaN</td>\n      <td>NaN</td>\n      <td>NaN</td>\n      <td>NaN</td>\n      <td>3.5</td>\n      <td>5.0</td>\n      <td>3.5</td>\n      <td>NaN</td>\n      <td>NaN</td>\n      <td>3.5</td>\n      <td>3.5</td>\n      <td>NaN</td>\n      <td>NaN</td>\n      <td>NaN</td>\n      <td>NaN</td>\n      <td>NaN</td>\n      <td>0</td>\n    </tr>\n    <tr>\n      <th>ARCHANGEL</th>\n      <td>NaN</td>\n      <td>NaN</td>\n      <td>NaN</td>\n      <td>NaN</td>\n      <td>NaN</td>\n      <td>3.5</td>\n      <td>3.0</td>\n      <td>3.5</td>\n      <td>NaN</td>\n      <td>NaN</td>\n      <td>1.0</td>\n      <td>1.0</td>\n      <td>2.5</td>\n      <td>3.0</td>\n      <td>NaN</td>\n      <td>2.5</td>\n      <td>NaN</td>\n      <td>2</td>\n    </tr>\n  </tbody>\n</table>\n</div>"
     },
     "execution_count": 101,
     "metadata": {},
     "output_type": "execute_result"
    }
   ],
   "source": [
    "dynamic_results_df = aggregate_metrics_by_type(dynamic_dataset_results_dfs)\n",
    "dynamic_results_df.to_csv(str(baseline_results_dir.joinpath('dynamic_results.csv')), index=True)\n",
    "dynamic_results_df"
   ],
   "metadata": {
    "collapsed": false,
    "pycharm": {
     "name": "#%%\n"
    }
   }
  },
  {
   "cell_type": "code",
   "execution_count": null,
   "outputs": [],
   "source": [],
   "metadata": {
    "collapsed": false,
    "pycharm": {
     "name": "#%%\n"
    }
   }
  }
 ],
 "metadata": {
  "kernelspec": {
   "display_name": "Python 3",
   "language": "python",
   "name": "python3"
  },
  "language_info": {
   "codemirror_mode": {
    "name": "ipython",
    "version": 2
   },
   "file_extension": ".py",
   "mimetype": "text/x-python",
   "name": "python",
   "nbconvert_exporter": "python",
   "pygments_lexer": "ipython2",
   "version": "2.7.6"
  }
 },
 "nbformat": 4,
 "nbformat_minor": 0
}