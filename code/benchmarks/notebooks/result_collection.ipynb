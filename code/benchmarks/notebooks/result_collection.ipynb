{
 "cells": [
  {
   "cell_type": "code",
   "execution_count": 1,
   "outputs": [],
   "source": [
    "%load_ext autoreload\n",
    "%autoreload 2"
   ],
   "metadata": {
    "collapsed": false,
    "pycharm": {
     "name": "#%%\n"
    }
   }
  },
  {
   "cell_type": "code",
   "execution_count": 44,
   "outputs": [],
   "source": [
    "from typing import List, Dict, Tuple\n",
    "\n",
    "import pandas as pd\n",
    "import wandb\n",
    "import numpy as np\n",
    "\n",
    "from shared.constants import WANDB_PROJECT, WANDB_ENTITY, BENCHMARKS_RESULTS, REPORTS_PATH"
   ],
   "metadata": {
    "collapsed": false,
    "pycharm": {
     "name": "#%%\n"
    }
   }
  },
  {
   "cell_type": "code",
   "execution_count": 22,
   "outputs": [],
   "source": [
    "baseline_results_dir = REPORTS_PATH.joinpath('results')\n",
    "baseline_dataset_results_dir = baseline_results_dir.joinpath('dataset')\n",
    "baseline_dataset_results_dir.mkdir(exist_ok=True, parents=True)"
   ],
   "metadata": {
    "collapsed": false,
    "pycharm": {
     "name": "#%%\n"
    }
   }
  },
  {
   "cell_type": "markdown",
   "source": [
    "# W&B Run loading and cleaning"
   ],
   "metadata": {
    "collapsed": false,
    "pycharm": {
     "name": "#%% md\n"
    }
   }
  },
  {
   "cell_type": "code",
   "execution_count": 3,
   "outputs": [],
   "source": [
    "def load_runs():\n",
    "    if baseline_results_dir.joinpath('runs.csv').exists():\n",
    "        return pd.read_csv(str(baseline_results_dir.joinpath('runs.csv')))\n",
    "\n",
    "    api = wandb.Api()\n",
    "    runs = api.runs(f'{WANDB_ENTITY}/{WANDB_PROJECT}')\n",
    "\n",
    "    summary_list, config_list, name_list = [], [], []\n",
    "    for run in runs:\n",
    "        # .summary contains the output keys/values for metrics like accuracy.\n",
    "        #  We call ._json_dict to omit large files\n",
    "        summary_list.append(run.summary._json_dict)\n",
    "\n",
    "        # .config contains the hyperparameters.\n",
    "        #  We remove special values that start with _.\n",
    "        config_list.append(\n",
    "            {k: v for k, v in run.config.items()\n",
    "             if not k.startswith('_')})\n",
    "\n",
    "        # .name is the human-readable name of the run.\n",
    "        name_list.append(run.name)\n",
    "\n",
    "    runs_df = pd.DataFrame({\n",
    "        \"summary\": summary_list,\n",
    "        \"config\": config_list,\n",
    "        \"name\": name_list\n",
    "    })\n",
    "\n",
    "    runs_df.to_csv(str(baseline_results_dir.joinpath('runs.csv')), index=False)\n",
    "\n",
    "    return runs_df"
   ],
   "metadata": {
    "collapsed": false,
    "pycharm": {
     "name": "#%%\n"
    }
   }
  },
  {
   "cell_type": "code",
   "execution_count": 4,
   "outputs": [
    {
     "data": {
      "text/plain": "                                             summary  \\\n0  {'_runtime': 11, 'conductance': 0.873266899737...   \n1  {'_runtime': 11, 'conductance': 0.904640563463...   \n2  {'snapshots/link_modularity_table': {'artifact...   \n3  {'internal_edge_density': 0.3005464829954626, ...   \n4  {'modularity': 0.03598548327922235, 'snapshots...   \n\n                                              config  \\\n0  {'beta': 0.713924306041298, 'alpha': 0.6991942...   \n1  {'beta': 0.7465033494641004, 'alpha': 0.779883...   \n2  {'beta': 0.5768659119056833, 'alpha': 0.895906...   \n3  {'beta': 0.6621678846739937, 'alpha': 0.696420...   \n4  {'beta': 0.5153812368860328, 'alpha': 0.626899...   \n\n                                          name  \n0  2022-02-02_10-31-13-ESPRA-star-wars:split_7  \n1  2022-02-02_10-30-26-ESPRA-star-wars:split_7  \n2  2022-02-02_10-29-39-ESPRA-star-wars:split_7  \n3  2022-02-02_10-28-50-ESPRA-star-wars:split_7  \n4  2022-02-02_10-27-58-ESPRA-star-wars:split_7  ",
      "text/html": "<div>\n<style scoped>\n    .dataframe tbody tr th:only-of-type {\n        vertical-align: middle;\n    }\n\n    .dataframe tbody tr th {\n        vertical-align: top;\n    }\n\n    .dataframe thead th {\n        text-align: right;\n    }\n</style>\n<table border=\"1\" class=\"dataframe\">\n  <thead>\n    <tr style=\"text-align: right;\">\n      <th></th>\n      <th>summary</th>\n      <th>config</th>\n      <th>name</th>\n    </tr>\n  </thead>\n  <tbody>\n    <tr>\n      <th>0</th>\n      <td>{'_runtime': 11, 'conductance': 0.873266899737...</td>\n      <td>{'beta': 0.713924306041298, 'alpha': 0.6991942...</td>\n      <td>2022-02-02_10-31-13-ESPRA-star-wars:split_7</td>\n    </tr>\n    <tr>\n      <th>1</th>\n      <td>{'_runtime': 11, 'conductance': 0.904640563463...</td>\n      <td>{'beta': 0.7465033494641004, 'alpha': 0.779883...</td>\n      <td>2022-02-02_10-30-26-ESPRA-star-wars:split_7</td>\n    </tr>\n    <tr>\n      <th>2</th>\n      <td>{'snapshots/link_modularity_table': {'artifact...</td>\n      <td>{'beta': 0.5768659119056833, 'alpha': 0.895906...</td>\n      <td>2022-02-02_10-29-39-ESPRA-star-wars:split_7</td>\n    </tr>\n    <tr>\n      <th>3</th>\n      <td>{'internal_edge_density': 0.3005464829954626, ...</td>\n      <td>{'beta': 0.6621678846739937, 'alpha': 0.696420...</td>\n      <td>2022-02-02_10-28-50-ESPRA-star-wars:split_7</td>\n    </tr>\n    <tr>\n      <th>4</th>\n      <td>{'modularity': 0.03598548327922235, 'snapshots...</td>\n      <td>{'beta': 0.5153812368860328, 'alpha': 0.626899...</td>\n      <td>2022-02-02_10-27-58-ESPRA-star-wars:split_7</td>\n    </tr>\n  </tbody>\n</table>\n</div>"
     },
     "execution_count": 4,
     "metadata": {},
     "output_type": "execute_result"
    }
   ],
   "source": [
    "runs_df = load_runs()\n",
    "runs_df.head()"
   ],
   "metadata": {
    "collapsed": false,
    "pycharm": {
     "name": "#%%\n"
    }
   }
  },
  {
   "cell_type": "markdown",
   "source": [
    "## Clean runs and group them per dataset version"
   ],
   "metadata": {
    "collapsed": false,
    "pycharm": {
     "name": "#%% md\n"
    }
   }
  },
  {
   "cell_type": "code",
   "execution_count": 5,
   "outputs": [],
   "source": [
    "runs_df['summary'] = runs_df['summary'].apply(eval)\n",
    "runs_df['config'] = runs_df['config'].apply(eval)\n",
    "runs_df = pd.concat([\n",
    "    runs_df,\n",
    "    pd.json_normalize(runs_df['summary'], max_level=0).add_prefix('summary.'),\n",
    "    pd.json_normalize(runs_df['config'], max_level=0).add_prefix('config.')\n",
    "], axis=1)\n",
    "runs_df.drop(['summary', 'config'], axis=1, inplace=True)\n",
    "\n",
    "runs_df = runs_df[runs_df['summary.error'].isna()]\n",
    "runs_df = runs_df[~runs_df['summary._runtime'].isna()]\n",
    "runs_dfs = dict(tuple(runs_df.groupby(['config.dataset', 'config.version'])))\n",
    "for dataset, df in runs_dfs.items():\n",
    "    df.dropna(axis=1, how='all', inplace=True)"
   ],
   "metadata": {
    "collapsed": false,
    "pycharm": {
     "name": "#%%\n"
    }
   }
  },
  {
   "cell_type": "code",
   "execution_count": 6,
   "outputs": [
    {
     "data": {
      "text/plain": "                                                  name  summary._runtime  \\\n104  2022-02-01_18-55-26-GreeneDCD-louvain-DBLP-HCN...            1921.0   \n105  2022-02-01_18-44-51-GreeneDCD-louvain-DBLP-HCN...             602.0   \n108  2022-02-01_18-33-45-GreeneDCD-louvain-DBLP-HCN...             628.0   \n109  2022-02-01_18-23-14-GreeneDCD-louvain-DBLP-HCN...             597.0   \n111  2022-02-01_18-05-40-GreeneDCD-louvain-DBLP-HCN...            1017.0   \n\n     summary.conductance               summary.snapshots/z_modularity_table  \\\n104             0.181434  {'size': 184, '_type': 'table-file', 'ncols': ...   \n105             0.179942  {'size': 185, '_type': 'table-file', 'ncols': ...   \n108             0.179480  {'path': 'media/table/snapshots/z_modularity_t...   \n109             0.180375  {'artifact_path': 'wandb-client-artifact://xlk...   \n111             0.179118  {'artifact_path': 'wandb-client-artifact://xwe...   \n\n               summary.snapshots/community_count_table  summary._step  \\\n104  {'nrows': 5, 'sha256': '570ade0c7300404aa3f3fd...            0.0   \n105  {'size': 109, '_type': 'table-file', 'ncols': ...            0.0   \n108  {'ncols': 2, 'nrows': 5, 'sha256': '8d264556b1...            0.0   \n109  {'sha256': '54c3c4933d7119fccdea160140782154bd...            0.0   \n111  {'_latest_artifact_path': 'wandb-client-artifa...            0.0   \n\n        summary._wandb summary.z_modularity  summary.community_count  \\\n104  {'runtime': 1926}             2.817597                     54.6   \n105   {'runtime': 608}             2.865793                     51.2   \n108   {'runtime': 631}             2.847568                     50.2   \n109   {'runtime': 602}             2.853356                     51.4   \n111  {'runtime': 1020}             2.838976                     49.6   \n\n     summary.link_modularity  ...    config.baseline config.death  \\\n104                 0.128548  ...  GreeneDCD-louvain          3.0   \n105                 0.128153  ...  GreeneDCD-louvain          4.0   \n108                 0.128279  ...  GreeneDCD-louvain          3.0   \n109                 0.128228  ...  GreeneDCD-louvain          4.0   \n111                 0.128354  ...  GreeneDCD-louvain          3.0   \n\n     config.max_step  config.min_length  config.persist_threshold  \\\n104             -1.0                2.0                       1.0   \n105             -1.0                2.0                       1.0   \n108             -1.0                2.0                       1.0   \n109             -1.0                2.0                       1.0   \n111             -1.0                2.0                       1.0   \n\n    config.matching_threshold config.level  config.epsilon config.weighted  \\\n104                  0.200061         -1.0           0.001           False   \n105                  0.205309         -1.0           0.001           False   \n108                  0.097753         -1.0           0.001           False   \n109                  0.168891         -1.0           0.001           False   \n111                  0.186049         -1.0           0.001           False   \n\n    config.reuse_partition  \n104                  False  \n105                  False  \n108                  False  \n109                  False  \n111                  False  \n\n[5 rows x 42 columns]",
      "text/html": "<div>\n<style scoped>\n    .dataframe tbody tr th:only-of-type {\n        vertical-align: middle;\n    }\n\n    .dataframe tbody tr th {\n        vertical-align: top;\n    }\n\n    .dataframe thead th {\n        text-align: right;\n    }\n</style>\n<table border=\"1\" class=\"dataframe\">\n  <thead>\n    <tr style=\"text-align: right;\">\n      <th></th>\n      <th>name</th>\n      <th>summary._runtime</th>\n      <th>summary.conductance</th>\n      <th>summary.snapshots/z_modularity_table</th>\n      <th>summary.snapshots/community_count_table</th>\n      <th>summary._step</th>\n      <th>summary._wandb</th>\n      <th>summary.z_modularity</th>\n      <th>summary.community_count</th>\n      <th>summary.link_modularity</th>\n      <th>...</th>\n      <th>config.baseline</th>\n      <th>config.death</th>\n      <th>config.max_step</th>\n      <th>config.min_length</th>\n      <th>config.persist_threshold</th>\n      <th>config.matching_threshold</th>\n      <th>config.level</th>\n      <th>config.epsilon</th>\n      <th>config.weighted</th>\n      <th>config.reuse_partition</th>\n    </tr>\n  </thead>\n  <tbody>\n    <tr>\n      <th>104</th>\n      <td>2022-02-01_18-55-26-GreeneDCD-louvain-DBLP-HCN...</td>\n      <td>1921.0</td>\n      <td>0.181434</td>\n      <td>{'size': 184, '_type': 'table-file', 'ncols': ...</td>\n      <td>{'nrows': 5, 'sha256': '570ade0c7300404aa3f3fd...</td>\n      <td>0.0</td>\n      <td>{'runtime': 1926}</td>\n      <td>2.817597</td>\n      <td>54.6</td>\n      <td>0.128548</td>\n      <td>...</td>\n      <td>GreeneDCD-louvain</td>\n      <td>3.0</td>\n      <td>-1.0</td>\n      <td>2.0</td>\n      <td>1.0</td>\n      <td>0.200061</td>\n      <td>-1.0</td>\n      <td>0.001</td>\n      <td>False</td>\n      <td>False</td>\n    </tr>\n    <tr>\n      <th>105</th>\n      <td>2022-02-01_18-44-51-GreeneDCD-louvain-DBLP-HCN...</td>\n      <td>602.0</td>\n      <td>0.179942</td>\n      <td>{'size': 185, '_type': 'table-file', 'ncols': ...</td>\n      <td>{'size': 109, '_type': 'table-file', 'ncols': ...</td>\n      <td>0.0</td>\n      <td>{'runtime': 608}</td>\n      <td>2.865793</td>\n      <td>51.2</td>\n      <td>0.128153</td>\n      <td>...</td>\n      <td>GreeneDCD-louvain</td>\n      <td>4.0</td>\n      <td>-1.0</td>\n      <td>2.0</td>\n      <td>1.0</td>\n      <td>0.205309</td>\n      <td>-1.0</td>\n      <td>0.001</td>\n      <td>False</td>\n      <td>False</td>\n    </tr>\n    <tr>\n      <th>108</th>\n      <td>2022-02-01_18-33-45-GreeneDCD-louvain-DBLP-HCN...</td>\n      <td>628.0</td>\n      <td>0.179480</td>\n      <td>{'path': 'media/table/snapshots/z_modularity_t...</td>\n      <td>{'ncols': 2, 'nrows': 5, 'sha256': '8d264556b1...</td>\n      <td>0.0</td>\n      <td>{'runtime': 631}</td>\n      <td>2.847568</td>\n      <td>50.2</td>\n      <td>0.128279</td>\n      <td>...</td>\n      <td>GreeneDCD-louvain</td>\n      <td>3.0</td>\n      <td>-1.0</td>\n      <td>2.0</td>\n      <td>1.0</td>\n      <td>0.097753</td>\n      <td>-1.0</td>\n      <td>0.001</td>\n      <td>False</td>\n      <td>False</td>\n    </tr>\n    <tr>\n      <th>109</th>\n      <td>2022-02-01_18-23-14-GreeneDCD-louvain-DBLP-HCN...</td>\n      <td>597.0</td>\n      <td>0.180375</td>\n      <td>{'artifact_path': 'wandb-client-artifact://xlk...</td>\n      <td>{'sha256': '54c3c4933d7119fccdea160140782154bd...</td>\n      <td>0.0</td>\n      <td>{'runtime': 602}</td>\n      <td>2.853356</td>\n      <td>51.4</td>\n      <td>0.128228</td>\n      <td>...</td>\n      <td>GreeneDCD-louvain</td>\n      <td>4.0</td>\n      <td>-1.0</td>\n      <td>2.0</td>\n      <td>1.0</td>\n      <td>0.168891</td>\n      <td>-1.0</td>\n      <td>0.001</td>\n      <td>False</td>\n      <td>False</td>\n    </tr>\n    <tr>\n      <th>111</th>\n      <td>2022-02-01_18-05-40-GreeneDCD-louvain-DBLP-HCN...</td>\n      <td>1017.0</td>\n      <td>0.179118</td>\n      <td>{'artifact_path': 'wandb-client-artifact://xwe...</td>\n      <td>{'_latest_artifact_path': 'wandb-client-artifa...</td>\n      <td>0.0</td>\n      <td>{'runtime': 1020}</td>\n      <td>2.838976</td>\n      <td>49.6</td>\n      <td>0.128354</td>\n      <td>...</td>\n      <td>GreeneDCD-louvain</td>\n      <td>3.0</td>\n      <td>-1.0</td>\n      <td>2.0</td>\n      <td>1.0</td>\n      <td>0.186049</td>\n      <td>-1.0</td>\n      <td>0.001</td>\n      <td>False</td>\n      <td>False</td>\n    </tr>\n  </tbody>\n</table>\n<p>5 rows × 42 columns</p>\n</div>"
     },
     "execution_count": 6,
     "metadata": {},
     "output_type": "execute_result"
    }
   ],
   "source": [
    "next(iter(runs_dfs.values())).head(5)"
   ],
   "metadata": {
    "collapsed": false,
    "pycharm": {
     "name": "#%%\n"
    }
   }
  },
  {
   "cell_type": "code",
   "execution_count": 36,
   "outputs": [],
   "source": [
    "from benchmarks.evaluation import ALL_METRICS\n",
    "\n",
    "\n",
    "def maximizing_metric(df: pd.DataFrame):\n",
    "    for metric_cls in ALL_METRICS:\n",
    "        if f'summary.{metric_cls.metric_name()}' in df.columns:\n",
    "            return metric_cls.metric_name(), metric_cls.metric_order() == 'maximize'\n",
    "\n",
    "def aggregate_metrics_by_baseline(df: pd.DataFrame):\n",
    "    metric, desc = maximizing_metric(df)\n",
    "    metrics = [metric_cls for metric_cls in ALL_METRICS if f'summary.{metric_cls.metric_name()}' in df.columns]\n",
    "\n",
    "    print(f'Aggregating baselines by {metric}')\n",
    "    if df[f'summary.{metric}'].isna().any():\n",
    "        print('Found NaN values in metric')\n",
    "        df[f'summary.{metric}'] = df[f'summary.{metric}'].fillna(np.NINF if desc else np.PINF)\n",
    "\n",
    "    grouped = df\\\n",
    "        .sort_values(f'summary.{metric}', ascending=not desc)\\\n",
    "        .groupby(['config.baseline'])\n",
    "    statistics = grouped.agg(\n",
    "        run_count=('config.version', 'count'),\n",
    "    )\n",
    "\n",
    "    best_df = grouped.head(1).set_index('config.baseline')\n",
    "    best_df.drop(columns=best_df.columns.difference([\n",
    "        *[f'summary.{metric_cls.metric_name()}' for metric_cls in metrics],\n",
    "        'name', 'summary._runtime'\n",
    "    ]), inplace=True)\n",
    "    for metric_cls in metrics:\n",
    "        desc = metric_cls.metric_order() == 'maximize'\n",
    "        df[f'summary.{metric_cls.metric_name()}'] = df[f'summary.{metric_cls.metric_name()}'].fillna(np.NINF if desc else np.PINF)\n",
    "        best_df[f'{metric_cls.metric_name()}_rank'] = best_df[f'summary.{metric_cls.metric_name()}'].rank(ascending=not desc)\n",
    "\n",
    "    best_df.rename(columns={\n",
    "        'summary._runtime': 'runtime'\n",
    "    }, inplace=True)\n",
    "    best_df.columns = map(lambda x: x.replace('summary.', ''), best_df.columns)\n",
    "    best_df = best_df[sorted(map(str, best_df.columns))]\n",
    "    best_df['total'] = sum(best_df[col] == 1 for col in best_df.columns if col.endswith('rank'))\n",
    "\n",
    "    df = best_df.join(statistics, how='inner')\n",
    "    df.index.name = 'baseline'\n",
    "    return df\n"
   ],
   "metadata": {
    "collapsed": false,
    "pycharm": {
     "name": "#%%\n"
    }
   }
  },
  {
   "cell_type": "code",
   "execution_count": 38,
   "outputs": [
    {
     "name": "stdout",
     "output_type": "stream",
     "text": [
      "Processing DBLP-HCN split_5\n",
      "Aggregating baselines by nf1\n",
      "Processing DBLP-HCN static\n",
      "Aggregating baselines by nf1\n",
      "Processing DBLP-V1 split_5_small\n",
      "Aggregating baselines by modularity\n",
      "Processing email-Eu-core static\n",
      "Aggregating baselines by nmi\n",
      "Processing enron-mail-20150507 split_10\n",
      "Aggregating baselines by modularity\n",
      "Processing enron-mail-20150507 split_10_small\n",
      "Aggregating baselines by modularity\n",
      "Processing enron-mail-20150507 split_20\n",
      "Aggregating baselines by modularity\n",
      "Processing enron-mail-20150507 split_5\n",
      "Aggregating baselines by modularity\n",
      "Processing house-of-representatives-congress-116 split_10\n",
      "Aggregating baselines by modularity\n",
      "Processing house-of-representatives-congress-116 split_10_small\n",
      "Aggregating baselines by modularity\n",
      "Processing house-of-representatives-congress-116 split_5\n",
      "Aggregating baselines by modularity\n",
      "Processing house-of-representatives-congress-116 static_small\n",
      "Aggregating baselines by modularity\n",
      "Processing imdb-5000-movie-dataset split_5\n",
      "Aggregating baselines by modularity\n",
      "Processing imdb-5000-movie-dataset static\n",
      "Aggregating baselines by modularity\n",
      "Processing misc-football static\n",
      "Aggregating baselines by modularity\n",
      "Processing social-distancing-student split_5\n",
      "Aggregating baselines by modularity\n",
      "Processing social-distancing-student static\n",
      "Aggregating baselines by modularity\n",
      "Processing star-wars split_5\n",
      "Aggregating baselines by modularity\n",
      "Processing star-wars split_7\n",
      "Aggregating baselines by modularity\n",
      "Processing star-wars static\n",
      "Aggregating baselines by modularity\n",
      "Processing sx-mathoverflow split_10\n",
      "Aggregating baselines by modularity\n",
      "Processing sx-mathoverflow split_6\n",
      "Aggregating baselines by modularity\n",
      "Processing sx-superuser split_10\n",
      "Aggregating baselines by modularity\n",
      "Processing sx-superuser split_6\n",
      "Aggregating baselines by modularity\n",
      "Processing ucidata-zachary static\n",
      "Aggregating baselines by nmi\n"
     ]
    }
   ],
   "source": [
    "dataset_results_dfs = {}\n",
    "\n",
    "for (dataset, version), df in runs_dfs.items():\n",
    "    print(f'Processing {dataset} {version}')\n",
    "    df = aggregate_metrics_by_baseline(df)\n",
    "    df.to_csv(str(baseline_dataset_results_dir.joinpath(f'{dataset}_{version}.csv')), index=True)\n",
    "    dataset_results_dfs[(dataset, version)] = df"
   ],
   "metadata": {
    "collapsed": false,
    "pycharm": {
     "name": "#%%\n"
    }
   }
  },
  {
   "cell_type": "code",
   "execution_count": 69,
   "outputs": [],
   "source": [
    "static_dataset_results_dfs = {\n",
    "    (dataset, version): df\n",
    "    for (dataset, version), df in dataset_results_dfs.items()\n",
    "    if version == 'static' or version == 'static_small'\n",
    "}\n",
    "\n",
    "dynamic_dataset_results_dfs = {\n",
    "    (dataset, version): df\n",
    "    for (dataset, version), df in dataset_results_dfs.items()\n",
    "    if version != 'static' and version != 'static_small'\n",
    "}"
   ],
   "metadata": {
    "collapsed": false,
    "pycharm": {
     "name": "#%%\n"
    }
   }
  },
  {
   "cell_type": "code",
   "execution_count": 70,
   "outputs": [],
   "source": [
    "from collections import defaultdict\n",
    "\n",
    "\n",
    "def aggregate_metrics_by_type(dfs: Dict[Tuple[str, str], pd.DataFrame]):\n",
    "    baselines = defaultdict(dict)\n",
    "    for (dataset, version), df in dfs.items():\n",
    "        for baseline, rank in df['total'].rank(ascending=False).iteritems():\n",
    "            baselines[baseline][f'{dataset}:{version}'] = rank\n",
    "\n",
    "    result_df = pd.DataFrame(baselines).T\n",
    "    result_df.index.name = 'baseline'\n",
    "    result_df = result_df[~result_df.isna().all(axis=1)]\n",
    "    result_df['total'] = (result_df == 1).sum(axis=1)\n",
    "\n",
    "    return result_df"
   ],
   "metadata": {
    "collapsed": false,
    "pycharm": {
     "name": "#%%\n"
    }
   }
  },
  {
   "cell_type": "code",
   "execution_count": 71,
   "outputs": [
    {
     "data": {
      "text/plain": "          DBLP-HCN:static  email-Eu-core:static  \\\nbaseline                                          \nComE                  1.0                   4.0   \nLouvain               2.0                   1.0   \nGEMSEC                NaN                   3.0   \nANGEL                 NaN                   2.0   \n\n          house-of-representatives-congress-116:static_small  \\\nbaseline                                                       \nComE                                                    2.0    \nLouvain                                                 1.0    \nGEMSEC                                                  4.0    \nANGEL                                                   3.0    \n\n          imdb-5000-movie-dataset:static  misc-football:static  \\\nbaseline                                                         \nComE                                 2.0                   NaN   \nLouvain                              1.0                   1.0   \nGEMSEC                               NaN                   3.0   \nANGEL                                NaN                   2.0   \n\n          social-distancing-student:static  star-wars:static  \\\nbaseline                                                       \nComE                                   NaN               NaN   \nLouvain                                1.0               1.0   \nGEMSEC                                 NaN               3.0   \nANGEL                                  NaN               2.0   \n\n          ucidata-zachary:static  total  \nbaseline                                 \nComE                         NaN      1  \nLouvain                      1.0      7  \nGEMSEC                       2.5      0  \nANGEL                        2.5      0  ",
      "text/html": "<div>\n<style scoped>\n    .dataframe tbody tr th:only-of-type {\n        vertical-align: middle;\n    }\n\n    .dataframe tbody tr th {\n        vertical-align: top;\n    }\n\n    .dataframe thead th {\n        text-align: right;\n    }\n</style>\n<table border=\"1\" class=\"dataframe\">\n  <thead>\n    <tr style=\"text-align: right;\">\n      <th></th>\n      <th>DBLP-HCN:static</th>\n      <th>email-Eu-core:static</th>\n      <th>house-of-representatives-congress-116:static_small</th>\n      <th>imdb-5000-movie-dataset:static</th>\n      <th>misc-football:static</th>\n      <th>social-distancing-student:static</th>\n      <th>star-wars:static</th>\n      <th>ucidata-zachary:static</th>\n      <th>total</th>\n    </tr>\n    <tr>\n      <th>baseline</th>\n      <th></th>\n      <th></th>\n      <th></th>\n      <th></th>\n      <th></th>\n      <th></th>\n      <th></th>\n      <th></th>\n      <th></th>\n    </tr>\n  </thead>\n  <tbody>\n    <tr>\n      <th>ComE</th>\n      <td>1.0</td>\n      <td>4.0</td>\n      <td>2.0</td>\n      <td>2.0</td>\n      <td>NaN</td>\n      <td>NaN</td>\n      <td>NaN</td>\n      <td>NaN</td>\n      <td>1</td>\n    </tr>\n    <tr>\n      <th>Louvain</th>\n      <td>2.0</td>\n      <td>1.0</td>\n      <td>1.0</td>\n      <td>1.0</td>\n      <td>1.0</td>\n      <td>1.0</td>\n      <td>1.0</td>\n      <td>1.0</td>\n      <td>7</td>\n    </tr>\n    <tr>\n      <th>GEMSEC</th>\n      <td>NaN</td>\n      <td>3.0</td>\n      <td>4.0</td>\n      <td>NaN</td>\n      <td>3.0</td>\n      <td>NaN</td>\n      <td>3.0</td>\n      <td>2.5</td>\n      <td>0</td>\n    </tr>\n    <tr>\n      <th>ANGEL</th>\n      <td>NaN</td>\n      <td>2.0</td>\n      <td>3.0</td>\n      <td>NaN</td>\n      <td>2.0</td>\n      <td>NaN</td>\n      <td>2.0</td>\n      <td>2.5</td>\n      <td>0</td>\n    </tr>\n  </tbody>\n</table>\n</div>"
     },
     "execution_count": 71,
     "metadata": {},
     "output_type": "execute_result"
    }
   ],
   "source": [
    "static_results_df = aggregate_metrics_by_type(static_dataset_results_dfs)\n",
    "static_results_df.to_csv(str(baseline_results_dir.joinpath('static_results.csv')), index=True)\n",
    "static_results_df"
   ],
   "metadata": {
    "collapsed": false,
    "pycharm": {
     "name": "#%%\n"
    }
   }
  },
  {
   "cell_type": "code",
   "execution_count": 72,
   "outputs": [
    {
     "data": {
      "text/plain": "                   DBLP-HCN:split_5  enron-mail-20150507:split_10  \\\nbaseline                                                            \nGreeneDCD-louvain               1.0                           2.0   \nLouvain-Dynamic                 2.5                           1.0   \nDynamo                          2.5                           3.0   \nGreeneDCD-MOSES                 NaN                           NaN   \nESPRA                           NaN                           NaN   \nARCHANGEL                       NaN                           NaN   \n\n                   enron-mail-20150507:split_10_small  \\\nbaseline                                                \nGreeneDCD-louvain                                 3.0   \nLouvain-Dynamic                                   2.0   \nDynamo                                            1.0   \nGreeneDCD-MOSES                                   NaN   \nESPRA                                             NaN   \nARCHANGEL                                         NaN   \n\n                   enron-mail-20150507:split_20  enron-mail-20150507:split_5  \\\nbaseline                                                                       \nGreeneDCD-louvain                           2.5                          1.0   \nLouvain-Dynamic                             1.0                          2.0   \nDynamo                                      2.5                          3.0   \nGreeneDCD-MOSES                             NaN                          NaN   \nESPRA                                       NaN                          NaN   \nARCHANGEL                                   NaN                          NaN   \n\n                   house-of-representatives-congress-116:split_10  \\\nbaseline                                                            \nGreeneDCD-louvain                                             3.5   \nLouvain-Dynamic                                               1.0   \nDynamo                                                        3.5   \nGreeneDCD-MOSES                                               NaN   \nESPRA                                                         3.5   \nARCHANGEL                                                     3.5   \n\n                   house-of-representatives-congress-116:split_10_small  \\\nbaseline                                                                  \nGreeneDCD-louvain                                                2.0      \nLouvain-Dynamic                                                  1.0      \nDynamo                                                           5.0      \nGreeneDCD-MOSES                                                  5.0      \nESPRA                                                            5.0      \nARCHANGEL                                                        3.0      \n\n                   house-of-representatives-congress-116:split_5  \\\nbaseline                                                           \nGreeneDCD-louvain                                            5.0   \nLouvain-Dynamic                                              1.0   \nDynamo                                                       NaN   \nGreeneDCD-MOSES                                              2.0   \nESPRA                                                        3.5   \nARCHANGEL                                                    3.5   \n\n                   imdb-5000-movie-dataset:split_5  \\\nbaseline                                             \nGreeneDCD-louvain                              1.0   \nLouvain-Dynamic                                3.0   \nDynamo                                         2.0   \nGreeneDCD-MOSES                                NaN   \nESPRA                                          NaN   \nARCHANGEL                                      NaN   \n\n                   social-distancing-student:split_5  star-wars:split_5  \\\nbaseline                                                                  \nGreeneDCD-louvain                                1.0                3.5   \nLouvain-Dynamic                                  3.0                3.5   \nDynamo                                           2.0                6.0   \nGreeneDCD-MOSES                                  NaN                3.5   \nESPRA                                            NaN                3.5   \nARCHANGEL                                        NaN                1.0   \n\n                   star-wars:split_7  sx-mathoverflow:split_10  \\\nbaseline                                                         \nGreeneDCD-louvain                5.5                       1.0   \nLouvain-Dynamic                  2.0                       2.5   \nDynamo                           5.5                       NaN   \nGreeneDCD-MOSES                  3.5                       4.0   \nESPRA                            3.5                       NaN   \nARCHANGEL                        1.0                       2.5   \n\n                   sx-mathoverflow:split_6  sx-superuser:split_10  \\\nbaseline                                                            \nGreeneDCD-louvain                      1.5                    1.0   \nLouvain-Dynamic                        1.5                    3.0   \nDynamo                                 NaN                    NaN   \nGreeneDCD-MOSES                        4.0                    2.0   \nESPRA                                  NaN                    NaN   \nARCHANGEL                              3.0                    NaN   \n\n                   sx-superuser:split_6  DBLP-V1:split_5_small  total  \nbaseline                                                               \nGreeneDCD-louvain                   1.0                    NaN      7  \nLouvain-Dynamic                     4.5                    1.0      6  \nDynamo                              2.5                    2.0      1  \nGreeneDCD-MOSES                     4.5                    3.0      0  \nESPRA                               NaN                    NaN      0  \nARCHANGEL                           2.5                    NaN      2  ",
      "text/html": "<div>\n<style scoped>\n    .dataframe tbody tr th:only-of-type {\n        vertical-align: middle;\n    }\n\n    .dataframe tbody tr th {\n        vertical-align: top;\n    }\n\n    .dataframe thead th {\n        text-align: right;\n    }\n</style>\n<table border=\"1\" class=\"dataframe\">\n  <thead>\n    <tr style=\"text-align: right;\">\n      <th></th>\n      <th>DBLP-HCN:split_5</th>\n      <th>enron-mail-20150507:split_10</th>\n      <th>enron-mail-20150507:split_10_small</th>\n      <th>enron-mail-20150507:split_20</th>\n      <th>enron-mail-20150507:split_5</th>\n      <th>house-of-representatives-congress-116:split_10</th>\n      <th>house-of-representatives-congress-116:split_10_small</th>\n      <th>house-of-representatives-congress-116:split_5</th>\n      <th>imdb-5000-movie-dataset:split_5</th>\n      <th>social-distancing-student:split_5</th>\n      <th>star-wars:split_5</th>\n      <th>star-wars:split_7</th>\n      <th>sx-mathoverflow:split_10</th>\n      <th>sx-mathoverflow:split_6</th>\n      <th>sx-superuser:split_10</th>\n      <th>sx-superuser:split_6</th>\n      <th>DBLP-V1:split_5_small</th>\n      <th>total</th>\n    </tr>\n    <tr>\n      <th>baseline</th>\n      <th></th>\n      <th></th>\n      <th></th>\n      <th></th>\n      <th></th>\n      <th></th>\n      <th></th>\n      <th></th>\n      <th></th>\n      <th></th>\n      <th></th>\n      <th></th>\n      <th></th>\n      <th></th>\n      <th></th>\n      <th></th>\n      <th></th>\n      <th></th>\n    </tr>\n  </thead>\n  <tbody>\n    <tr>\n      <th>GreeneDCD-louvain</th>\n      <td>1.0</td>\n      <td>2.0</td>\n      <td>3.0</td>\n      <td>2.5</td>\n      <td>1.0</td>\n      <td>3.5</td>\n      <td>2.0</td>\n      <td>5.0</td>\n      <td>1.0</td>\n      <td>1.0</td>\n      <td>3.5</td>\n      <td>5.5</td>\n      <td>1.0</td>\n      <td>1.5</td>\n      <td>1.0</td>\n      <td>1.0</td>\n      <td>NaN</td>\n      <td>7</td>\n    </tr>\n    <tr>\n      <th>Louvain-Dynamic</th>\n      <td>2.5</td>\n      <td>1.0</td>\n      <td>2.0</td>\n      <td>1.0</td>\n      <td>2.0</td>\n      <td>1.0</td>\n      <td>1.0</td>\n      <td>1.0</td>\n      <td>3.0</td>\n      <td>3.0</td>\n      <td>3.5</td>\n      <td>2.0</td>\n      <td>2.5</td>\n      <td>1.5</td>\n      <td>3.0</td>\n      <td>4.5</td>\n      <td>1.0</td>\n      <td>6</td>\n    </tr>\n    <tr>\n      <th>Dynamo</th>\n      <td>2.5</td>\n      <td>3.0</td>\n      <td>1.0</td>\n      <td>2.5</td>\n      <td>3.0</td>\n      <td>3.5</td>\n      <td>5.0</td>\n      <td>NaN</td>\n      <td>2.0</td>\n      <td>2.0</td>\n      <td>6.0</td>\n      <td>5.5</td>\n      <td>NaN</td>\n      <td>NaN</td>\n      <td>NaN</td>\n      <td>2.5</td>\n      <td>2.0</td>\n      <td>1</td>\n    </tr>\n    <tr>\n      <th>GreeneDCD-MOSES</th>\n      <td>NaN</td>\n      <td>NaN</td>\n      <td>NaN</td>\n      <td>NaN</td>\n      <td>NaN</td>\n      <td>NaN</td>\n      <td>5.0</td>\n      <td>2.0</td>\n      <td>NaN</td>\n      <td>NaN</td>\n      <td>3.5</td>\n      <td>3.5</td>\n      <td>4.0</td>\n      <td>4.0</td>\n      <td>2.0</td>\n      <td>4.5</td>\n      <td>3.0</td>\n      <td>0</td>\n    </tr>\n    <tr>\n      <th>ESPRA</th>\n      <td>NaN</td>\n      <td>NaN</td>\n      <td>NaN</td>\n      <td>NaN</td>\n      <td>NaN</td>\n      <td>3.5</td>\n      <td>5.0</td>\n      <td>3.5</td>\n      <td>NaN</td>\n      <td>NaN</td>\n      <td>3.5</td>\n      <td>3.5</td>\n      <td>NaN</td>\n      <td>NaN</td>\n      <td>NaN</td>\n      <td>NaN</td>\n      <td>NaN</td>\n      <td>0</td>\n    </tr>\n    <tr>\n      <th>ARCHANGEL</th>\n      <td>NaN</td>\n      <td>NaN</td>\n      <td>NaN</td>\n      <td>NaN</td>\n      <td>NaN</td>\n      <td>3.5</td>\n      <td>3.0</td>\n      <td>3.5</td>\n      <td>NaN</td>\n      <td>NaN</td>\n      <td>1.0</td>\n      <td>1.0</td>\n      <td>2.5</td>\n      <td>3.0</td>\n      <td>NaN</td>\n      <td>2.5</td>\n      <td>NaN</td>\n      <td>2</td>\n    </tr>\n  </tbody>\n</table>\n</div>"
     },
     "execution_count": 72,
     "metadata": {},
     "output_type": "execute_result"
    }
   ],
   "source": [
    "dynamic_results_df = aggregate_metrics_by_type(dynamic_dataset_results_dfs)\n",
    "dynamic_results_df.to_csv(str(baseline_results_dir.joinpath('dynamic_results.csv')), index=True)\n",
    "dynamic_results_df"
   ],
   "metadata": {
    "collapsed": false,
    "pycharm": {
     "name": "#%%\n"
    }
   }
  },
  {
   "cell_type": "code",
   "execution_count": null,
   "outputs": [],
   "source": [],
   "metadata": {
    "collapsed": false,
    "pycharm": {
     "name": "#%%\n"
    }
   }
  }
 ],
 "metadata": {
  "kernelspec": {
   "display_name": "Python 3",
   "language": "python",
   "name": "python3"
  },
  "language_info": {
   "codemirror_mode": {
    "name": "ipython",
    "version": 2
   },
   "file_extension": ".py",
   "mimetype": "text/x-python",
   "name": "python",
   "nbconvert_exporter": "python",
   "pygments_lexer": "ipython2",
   "version": "2.7.6"
  }
 },
 "nbformat": 4,
 "nbformat_minor": 0
}