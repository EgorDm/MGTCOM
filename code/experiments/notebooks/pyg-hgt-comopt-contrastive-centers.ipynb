{
 "cells": [
  {
   "cell_type": "code",
   "execution_count": 1,
   "outputs": [
    {
     "name": "stdout",
     "output_type": "stream",
     "text": [
      "[2022-02-12 21:44:31,192][simple_parsing.helpers.serialization.serializable][DEBUG] Registering a new Serializable subclass: <class 'simple_parsing.helpers.serialization.serializable.Serializable'>\n",
      "[2022-02-12 21:44:31,192][simple_parsing.helpers.serialization.serializable][DEBUG] parents: [<class 'simple_parsing.helpers.serialization.serializable.SerializableMixin'>]\n",
      "[2022-02-12 21:44:31,193][simple_parsing.helpers.serialization.serializable][DEBUG] Registering a new Serializable subclass: <class 'simple_parsing.helpers.serialization.serializable.FrozenSerializable'>\n",
      "[2022-02-12 21:44:31,194][simple_parsing.helpers.serialization.serializable][DEBUG] parents: [<class 'simple_parsing.helpers.serialization.serializable.SerializableMixin'>]\n",
      "[2022-02-12 21:44:31,195][simple_parsing.helpers.serialization.serializable][DEBUG] Registering a new Serializable subclass: <class 'simple_parsing.helpers.serialization.serializable.SimpleSerializable'>\n",
      "[2022-02-12 21:44:31,200][simple_parsing.helpers.serialization.serializable][DEBUG] Registering a new Serializable subclass: <class 'simple_parsing.helpers.serialization.yaml_serialization.YamlSerializable'>\n",
      "[2022-02-12 21:44:31,201][simple_parsing.helpers.serialization.serializable][DEBUG] parents: [<class 'simple_parsing.helpers.serialization.serializable.Serializable'>, <class 'simple_parsing.helpers.serialization.serializable.SerializableMixin'>]\n",
      "[2022-02-12 21:44:31,202][simple_parsing.helpers.serialization.serializable][DEBUG] Parent class <class 'simple_parsing.helpers.serialization.serializable.Serializable'> has decode_into_subclasses = False\n",
      "[2022-02-12 21:44:31,209][simple_parsing.helpers.serialization.serializable][DEBUG] Registering a new Serializable subclass: <class 'simple_parsing.helpers.hparams.hyperparameters.BoundInfo'>\n",
      "[2022-02-12 21:44:31,210][simple_parsing.helpers.serialization.serializable][DEBUG] parents: [<class 'simple_parsing.helpers.serialization.serializable.Serializable'>, <class 'simple_parsing.helpers.serialization.serializable.SerializableMixin'>]\n",
      "[2022-02-12 21:44:31,210][simple_parsing.helpers.serialization.serializable][DEBUG] Parent class <class 'simple_parsing.helpers.serialization.serializable.Serializable'> has decode_into_subclasses = False\n",
      "[2022-02-12 21:44:31,212][simple_parsing.helpers.serialization.serializable][DEBUG] Registering a new Serializable subclass: <class 'simple_parsing.helpers.hparams.hyperparameters.HyperParameters'>\n",
      "[2022-02-12 21:44:31,222][simple_parsing.helpers.serialization.serializable][DEBUG] Registering a new Serializable subclass: <class 'shared.schema.dataset.DatasetVersion'>\n",
      "[2022-02-12 21:44:31,223][simple_parsing.helpers.serialization.serializable][DEBUG] parents: [<class 'simple_parsing.helpers.serialization.serializable.Serializable'>, <class 'simple_parsing.helpers.serialization.serializable.SerializableMixin'>]\n",
      "[2022-02-12 21:44:31,223][simple_parsing.helpers.serialization.serializable][DEBUG] Parent class <class 'simple_parsing.helpers.serialization.serializable.Serializable'> has decode_into_subclasses = False\n",
      "[2022-02-12 21:44:31,227][simple_parsing.helpers.serialization.serializable][DEBUG] Registering a new Serializable subclass: <class 'shared.schema.dataset.DatasetSchema'>\n",
      "[2022-02-12 21:44:31,228][simple_parsing.helpers.serialization.serializable][DEBUG] parents: [<class 'shared.schema.dataset.DatasetPath'>, <class 'simple_parsing.helpers.serialization.serializable.Serializable'>, <class 'simple_parsing.helpers.serialization.serializable.SerializableMixin'>]\n",
      "[2022-02-12 21:44:31,228][simple_parsing.helpers.serialization.serializable][DEBUG] Parent class <class 'simple_parsing.helpers.serialization.serializable.Serializable'> has decode_into_subclasses = False\n",
      "[2022-02-12 21:44:31,253][simple_parsing.helpers.serialization.serializable][DEBUG] Registering a new Serializable subclass: <class 'shared.schema.graph.DType'>\n",
      "[2022-02-12 21:44:31,254][simple_parsing.helpers.serialization.serializable][DEBUG] parents: [<class 'simple_parsing.helpers.serialization.serializable.Serializable'>, <class 'simple_parsing.helpers.serialization.serializable.SerializableMixin'>]\n",
      "[2022-02-12 21:44:31,255][simple_parsing.helpers.serialization.serializable][DEBUG] Parent class <class 'simple_parsing.helpers.serialization.serializable.Serializable'> has decode_into_subclasses = False\n",
      "[2022-02-12 21:44:31,256][simple_parsing.helpers.serialization.serializable][DEBUG] Registering a new Serializable subclass: <class 'shared.schema.graph.GraphProperty'>\n",
      "[2022-02-12 21:44:31,258][simple_parsing.helpers.serialization.serializable][DEBUG] parents: [<class 'simple_parsing.helpers.serialization.serializable.Serializable'>, <class 'simple_parsing.helpers.serialization.serializable.SerializableMixin'>]\n",
      "[2022-02-12 21:44:31,258][simple_parsing.helpers.serialization.serializable][DEBUG] Parent class <class 'simple_parsing.helpers.serialization.serializable.Serializable'> has decode_into_subclasses = False\n",
      "[2022-02-12 21:44:31,260][simple_parsing.helpers.serialization.serializable][DEBUG] Registering a new Serializable subclass: <class 'shared.schema.graph.DynamicConfig'>\n",
      "[2022-02-12 21:44:31,261][simple_parsing.helpers.serialization.serializable][DEBUG] parents: [<class 'simple_parsing.helpers.serialization.serializable.Serializable'>, <class 'simple_parsing.helpers.serialization.serializable.SerializableMixin'>]\n",
      "[2022-02-12 21:44:31,261][simple_parsing.helpers.serialization.serializable][DEBUG] Parent class <class 'simple_parsing.helpers.serialization.serializable.Serializable'> has decode_into_subclasses = False\n",
      "[2022-02-12 21:44:31,262][simple_parsing.helpers.serialization.serializable][DEBUG] Registering a new Serializable subclass: <class 'shared.schema.graph.EntitySchema'>\n",
      "[2022-02-12 21:44:31,263][simple_parsing.helpers.serialization.serializable][DEBUG] parents: [<class 'simple_parsing.helpers.serialization.serializable.Serializable'>, <class 'simple_parsing.helpers.serialization.serializable.SerializableMixin'>]\n",
      "[2022-02-12 21:44:31,263][simple_parsing.helpers.serialization.serializable][DEBUG] Parent class <class 'simple_parsing.helpers.serialization.serializable.Serializable'> has decode_into_subclasses = False\n",
      "[2022-02-12 21:44:31,264][simple_parsing.helpers.serialization.serializable][DEBUG] Registering a new Serializable subclass: <class 'shared.schema.graph.NodeSchema'>\n",
      "[2022-02-12 21:44:31,265][simple_parsing.helpers.serialization.serializable][DEBUG] parents: [<class 'shared.schema.graph.EntitySchema'>, <class 'simple_parsing.helpers.serialization.serializable.Serializable'>, <class 'simple_parsing.helpers.serialization.serializable.SerializableMixin'>]\n",
      "[2022-02-12 21:44:31,265][simple_parsing.helpers.serialization.serializable][DEBUG] Parent class <class 'shared.schema.graph.EntitySchema'> has decode_into_subclasses = False\n",
      "[2022-02-12 21:44:31,267][simple_parsing.helpers.serialization.serializable][DEBUG] Registering a new Serializable subclass: <class 'shared.schema.graph.EdgeSchema'>\n",
      "[2022-02-12 21:44:31,267][simple_parsing.helpers.serialization.serializable][DEBUG] parents: [<class 'shared.schema.graph.EntitySchema'>, <class 'simple_parsing.helpers.serialization.serializable.Serializable'>, <class 'simple_parsing.helpers.serialization.serializable.SerializableMixin'>]\n",
      "[2022-02-12 21:44:31,267][simple_parsing.helpers.serialization.serializable][DEBUG] Parent class <class 'shared.schema.graph.EntitySchema'> has decode_into_subclasses = False\n",
      "[2022-02-12 21:44:31,269][simple_parsing.helpers.serialization.serializable][DEBUG] Registering a new Serializable subclass: <class 'shared.schema.graph.GraphSchema'>\n",
      "[2022-02-12 21:44:31,269][simple_parsing.helpers.serialization.serializable][DEBUG] parents: [<class 'simple_parsing.helpers.serialization.serializable.Serializable'>, <class 'simple_parsing.helpers.serialization.serializable.SerializableMixin'>]\n",
      "[2022-02-12 21:44:31,269][simple_parsing.helpers.serialization.serializable][DEBUG] Parent class <class 'simple_parsing.helpers.serialization.serializable.Serializable'> has decode_into_subclasses = False\n",
      "[2022-02-12 21:44:31,273][simple_parsing.helpers.serialization.serializable][DEBUG] Registering a new Serializable subclass: <class 'benchmarks.config.TunedParameterValue'>\n",
      "[2022-02-12 21:44:31,273][simple_parsing.helpers.serialization.serializable][DEBUG] parents: [<class 'simple_parsing.helpers.serialization.serializable.Serializable'>, <class 'simple_parsing.helpers.serialization.serializable.SerializableMixin'>]\n",
      "[2022-02-12 21:44:31,274][simple_parsing.helpers.serialization.serializable][DEBUG] Parent class <class 'simple_parsing.helpers.serialization.serializable.Serializable'> has decode_into_subclasses = False\n",
      "[2022-02-12 21:44:31,275][simple_parsing.helpers.serialization.serializable][DEBUG] Registering a new Serializable subclass: <class 'benchmarks.config.ParameterConfig'>\n",
      "[2022-02-12 21:44:31,276][simple_parsing.helpers.serialization.serializable][DEBUG] parents: [<class 'dict'>, <class 'simple_parsing.helpers.serialization.serializable.Serializable'>, <class 'simple_parsing.helpers.serialization.serializable.SerializableMixin'>]\n",
      "[2022-02-12 21:44:31,276][simple_parsing.helpers.serialization.serializable][DEBUG] Parent class <class 'simple_parsing.helpers.serialization.serializable.Serializable'> has decode_into_subclasses = False\n",
      "[2022-02-12 21:44:31,277][simple_parsing.helpers.serialization.serializable][DEBUG] Registering a new Serializable subclass: <class 'benchmarks.config.ExecutionConfig'>\n",
      "[2022-02-12 21:44:31,277][simple_parsing.helpers.serialization.serializable][DEBUG] parents: [<class 'simple_parsing.helpers.serialization.serializable.Serializable'>, <class 'simple_parsing.helpers.serialization.serializable.SerializableMixin'>]\n",
      "[2022-02-12 21:44:31,277][simple_parsing.helpers.serialization.serializable][DEBUG] Parent class <class 'simple_parsing.helpers.serialization.serializable.Serializable'> has decode_into_subclasses = False\n",
      "[2022-02-12 21:44:31,278][simple_parsing.helpers.serialization.serializable][DEBUG] Registering a new Serializable subclass: <class 'benchmarks.config.DatasetRunConfig'>\n",
      "[2022-02-12 21:44:31,279][simple_parsing.helpers.serialization.serializable][DEBUG] parents: [<class 'simple_parsing.helpers.serialization.serializable.Serializable'>, <class 'simple_parsing.helpers.serialization.serializable.SerializableMixin'>]\n",
      "[2022-02-12 21:44:31,279][simple_parsing.helpers.serialization.serializable][DEBUG] Parent class <class 'simple_parsing.helpers.serialization.serializable.Serializable'> has decode_into_subclasses = False\n",
      "[2022-02-12 21:44:31,280][simple_parsing.helpers.serialization.serializable][DEBUG] Registering a new Serializable subclass: <class 'benchmarks.config.BenchmarkConfig'>\n",
      "[2022-02-12 21:44:31,282][simple_parsing.helpers.serialization.serializable][DEBUG] parents: [<class 'simple_parsing.helpers.serialization.serializable.Serializable'>, <class 'simple_parsing.helpers.serialization.serializable.SerializableMixin'>]\n",
      "[2022-02-12 21:44:31,282][simple_parsing.helpers.serialization.serializable][DEBUG] Parent class <class 'simple_parsing.helpers.serialization.serializable.Serializable'> has decode_into_subclasses = False\n"
     ]
    }
   ],
   "source": [
    "from typing import Optional, Dict, Tuple, Any\n",
    "\n",
    "import torch\n",
    "import torch.nn.functional as F\n",
    "from torch_geometric.typing import Metadata\n",
    "from torch_geometric.nn import HGTConv, Linear\n",
    "import torchmetrics\n",
    "import pytorch_lightning as pl\n",
    "import math\n",
    "\n",
    "from shared.constants import BENCHMARKS_RESULTS\n",
    "from shared.graph import DataGraph\n",
    "from benchmarks.evaluation import get_metric_list\n",
    "from shared.schema import GraphSchema, DatasetSchema\n",
    "from shared.graph import CommunityAssignment\n",
    "import pandas as pd\n",
    "from datasets.scripts import export_to_visualization\n",
    "\n",
    "import ml\n",
    "from ml.data.datasets import StarWars"
   ],
   "metadata": {
    "collapsed": false,
    "pycharm": {
     "name": "#%%\n"
    }
   }
  },
  {
   "cell_type": "code",
   "execution_count": 2,
   "outputs": [
    {
     "name": "stdout",
     "output_type": "stream",
     "text": [
      "[2022-02-12 21:44:32,822][simple_parsing.helpers.serialization.serializable][DEBUG] from_dict for <class 'shared.schema.dataset.DatasetSchema'>, drop extra fields: True\n",
      "[2022-02-12 21:44:32,823][simple_parsing.helpers.serialization.decoding][DEBUG] name = name, field_type = <class 'str'>\n",
      "[2022-02-12 21:44:32,824][simple_parsing.helpers.serialization.decoding][DEBUG] name = database, field_type = <class 'str'>\n",
      "[2022-02-12 21:44:32,824][simple_parsing.helpers.serialization.decoding][DEBUG] name = description, field_type = <class 'str'>\n",
      "[2022-02-12 21:44:32,825][simple_parsing.helpers.serialization.decoding][DEBUG] name = versions, field_type = typing.Dict[str, shared.schema.dataset.DatasetVersion]\n",
      "[2022-02-12 21:44:32,826][simple_parsing.helpers.serialization.decoding][DEBUG] Decoding a Dict field: typing.Dict[str, shared.schema.dataset.DatasetVersion]\n",
      "[2022-02-12 21:44:32,827][simple_parsing.helpers.serialization.serializable][DEBUG] from_dict for <class 'shared.schema.dataset.DatasetVersion'>, drop extra fields: True\n",
      "[2022-02-12 21:44:32,829][simple_parsing.helpers.serialization.decoding][DEBUG] name = type, field_type = <enum 'DatasetVersionType'>\n",
      "[2022-02-12 21:44:32,830][simple_parsing.helpers.serialization.decoding][DEBUG] name = parameters, field_type = typing.Dict[str, typing.Any]\n",
      "[2022-02-12 21:44:32,831][simple_parsing.helpers.serialization.decoding][DEBUG] Decoding a Dict field: typing.Dict[str, typing.Any]\n",
      "[2022-02-12 21:44:32,832][simple_parsing.helpers.serialization.decoding][DEBUG] Decoding an Any type: typing.Any\n",
      "[2022-02-12 21:44:32,833][simple_parsing.helpers.serialization.serializable][DEBUG] from_dict for <class 'shared.schema.dataset.DatasetVersion'>, drop extra fields: True\n",
      "[2022-02-12 21:44:32,833][simple_parsing.helpers.serialization.decoding][DEBUG] name = type, field_type = <enum 'DatasetVersionType'>\n",
      "[2022-02-12 21:44:32,834][simple_parsing.helpers.serialization.decoding][DEBUG] name = parameters, field_type = typing.Dict[str, typing.Any]\n",
      "[2022-02-12 21:44:32,835][simple_parsing.helpers.serialization.serializable][DEBUG] from_dict for <class 'shared.schema.dataset.DatasetVersion'>, drop extra fields: True\n",
      "[2022-02-12 21:44:32,835][simple_parsing.helpers.serialization.decoding][DEBUG] name = type, field_type = <enum 'DatasetVersionType'>\n",
      "[2022-02-12 21:44:32,836][simple_parsing.helpers.serialization.decoding][DEBUG] name = parameters, field_type = typing.Dict[str, typing.Any]\n",
      "[2022-02-12 21:44:32,837][simple_parsing.helpers.serialization.decoding][DEBUG] name = tags, field_type = typing.List[str]\n",
      "[2022-02-12 21:44:32,837][simple_parsing.helpers.serialization.decoding][DEBUG] Decoding a List field: typing.List[str]\n",
      "[2022-02-12 21:44:32,876][simple_parsing.helpers.serialization.serializable][DEBUG] from_dict for <class 'shared.schema.graph.GraphSchema'>, drop extra fields: True\n",
      "[2022-02-12 21:44:32,876][simple_parsing.helpers.serialization.decoding][DEBUG] name = nodes, field_type = typing.Dict[str, shared.schema.graph.NodeSchema]\n",
      "[2022-02-12 21:44:32,877][simple_parsing.helpers.serialization.decoding][DEBUG] Decoding a Dict field: typing.Dict[str, shared.schema.graph.NodeSchema]\n",
      "[2022-02-12 21:44:32,878][simple_parsing.helpers.serialization.serializable][DEBUG] from_dict for <class 'shared.schema.graph.NodeSchema'>, drop extra fields: True\n",
      "[2022-02-12 21:44:32,878][simple_parsing.helpers.serialization.decoding][DEBUG] name = label, field_type = <class 'str'>\n",
      "[2022-02-12 21:44:32,879][simple_parsing.helpers.serialization.decoding][DEBUG] name = properties, field_type = typing.Dict[str, shared.schema.graph.GraphProperty]\n",
      "[2022-02-12 21:44:32,879][simple_parsing.helpers.serialization.decoding][DEBUG] Decoding a Dict field: typing.Dict[str, shared.schema.graph.GraphProperty]\n",
      "[2022-02-12 21:44:32,880][simple_parsing.helpers.serialization.serializable][DEBUG] from_dict for <class 'shared.schema.graph.GraphProperty'>, drop extra fields: True\n",
      "[2022-02-12 21:44:32,880][simple_parsing.helpers.serialization.decoding][DEBUG] name = dtype, field_type = <class 'shared.schema.graph.DType'>\n",
      "[2022-02-12 21:44:32,882][simple_parsing.helpers.serialization.serializable][DEBUG] from_dict for <class 'shared.schema.graph.GraphProperty'>, drop extra fields: True\n",
      "[2022-02-12 21:44:32,882][simple_parsing.helpers.serialization.decoding][DEBUG] name = dtype, field_type = <class 'shared.schema.graph.DType'>\n",
      "[2022-02-12 21:44:32,883][simple_parsing.helpers.serialization.serializable][DEBUG] from_dict for <class 'shared.schema.graph.GraphProperty'>, drop extra fields: True\n",
      "[2022-02-12 21:44:32,884][simple_parsing.helpers.serialization.decoding][DEBUG] name = dtype, field_type = <class 'shared.schema.graph.DType'>\n",
      "[2022-02-12 21:44:32,885][simple_parsing.helpers.serialization.serializable][DEBUG] from_dict for <class 'shared.schema.graph.GraphProperty'>, drop extra fields: True\n",
      "[2022-02-12 21:44:32,886][simple_parsing.helpers.serialization.decoding][DEBUG] name = dtype, field_type = <class 'shared.schema.graph.DType'>\n",
      "[2022-02-12 21:44:32,887][simple_parsing.helpers.serialization.serializable][DEBUG] from_dict for <class 'shared.schema.graph.GraphProperty'>, drop extra fields: True\n",
      "[2022-02-12 21:44:32,888][simple_parsing.helpers.serialization.decoding][DEBUG] name = dtype, field_type = <class 'shared.schema.graph.DType'>\n",
      "[2022-02-12 21:44:32,889][simple_parsing.helpers.serialization.serializable][DEBUG] from_dict for <class 'shared.schema.graph.GraphProperty'>, drop extra fields: True\n",
      "[2022-02-12 21:44:32,890][simple_parsing.helpers.serialization.decoding][DEBUG] name = dtype, field_type = <class 'shared.schema.graph.DType'>\n",
      "[2022-02-12 21:44:32,890][simple_parsing.helpers.serialization.serializable][DEBUG] from_dict for <class 'shared.schema.graph.GraphProperty'>, drop extra fields: True\n",
      "[2022-02-12 21:44:32,892][simple_parsing.helpers.serialization.decoding][DEBUG] name = dtype, field_type = <class 'shared.schema.graph.DType'>\n",
      "[2022-02-12 21:44:32,892][simple_parsing.helpers.serialization.serializable][DEBUG] from_dict for <class 'shared.schema.graph.GraphProperty'>, drop extra fields: True\n",
      "[2022-02-12 21:44:32,894][simple_parsing.helpers.serialization.decoding][DEBUG] name = dtype, field_type = <class 'shared.schema.graph.DType'>\n",
      "[2022-02-12 21:44:32,895][simple_parsing.helpers.serialization.serializable][DEBUG] from_dict for <class 'shared.schema.graph.GraphProperty'>, drop extra fields: True\n",
      "[2022-02-12 21:44:32,896][simple_parsing.helpers.serialization.decoding][DEBUG] name = dtype, field_type = <class 'shared.schema.graph.DType'>\n",
      "[2022-02-12 21:44:32,897][simple_parsing.helpers.serialization.serializable][DEBUG] from_dict for <class 'shared.schema.graph.GraphProperty'>, drop extra fields: True\n",
      "[2022-02-12 21:44:32,898][simple_parsing.helpers.serialization.decoding][DEBUG] name = dtype, field_type = <class 'shared.schema.graph.DType'>\n",
      "[2022-02-12 21:44:32,899][simple_parsing.helpers.serialization.serializable][DEBUG] from_dict for <class 'shared.schema.graph.GraphProperty'>, drop extra fields: True\n",
      "[2022-02-12 21:44:32,900][simple_parsing.helpers.serialization.decoding][DEBUG] name = dtype, field_type = <class 'shared.schema.graph.DType'>\n",
      "[2022-02-12 21:44:32,901][simple_parsing.helpers.serialization.serializable][DEBUG] from_dict for <class 'shared.schema.graph.GraphProperty'>, drop extra fields: True\n",
      "[2022-02-12 21:44:32,901][simple_parsing.helpers.serialization.decoding][DEBUG] name = dtype, field_type = <class 'shared.schema.graph.DType'>\n",
      "[2022-02-12 21:44:32,904][simple_parsing.helpers.serialization.serializable][DEBUG] from_dict for <class 'shared.schema.graph.GraphProperty'>, drop extra fields: True\n",
      "[2022-02-12 21:44:32,904][simple_parsing.helpers.serialization.decoding][DEBUG] name = dtype, field_type = <class 'shared.schema.graph.DType'>\n",
      "[2022-02-12 21:44:32,904][simple_parsing.helpers.serialization.serializable][DEBUG] from_dict for <class 'shared.schema.graph.GraphProperty'>, drop extra fields: True\n",
      "[2022-02-12 21:44:32,905][simple_parsing.helpers.serialization.decoding][DEBUG] name = dtype, field_type = <class 'shared.schema.graph.DType'>\n",
      "[2022-02-12 21:44:32,905][simple_parsing.helpers.serialization.serializable][DEBUG] from_dict for <class 'shared.schema.graph.GraphProperty'>, drop extra fields: True\n",
      "[2022-02-12 21:44:32,906][simple_parsing.helpers.serialization.decoding][DEBUG] name = dtype, field_type = <class 'shared.schema.graph.DType'>\n",
      "[2022-02-12 21:44:32,906][simple_parsing.helpers.serialization.serializable][DEBUG] from_dict for <class 'shared.schema.graph.GraphProperty'>, drop extra fields: True\n",
      "[2022-02-12 21:44:32,906][simple_parsing.helpers.serialization.decoding][DEBUG] name = dtype, field_type = <class 'shared.schema.graph.DType'>\n",
      "[2022-02-12 21:44:32,907][simple_parsing.helpers.serialization.serializable][DEBUG] from_dict for <class 'shared.schema.graph.GraphProperty'>, drop extra fields: True\n",
      "[2022-02-12 21:44:32,907][simple_parsing.helpers.serialization.decoding][DEBUG] name = dtype, field_type = <class 'shared.schema.graph.DType'>\n",
      "[2022-02-12 21:44:32,908][simple_parsing.helpers.serialization.serializable][DEBUG] from_dict for <class 'shared.schema.graph.GraphProperty'>, drop extra fields: True\n",
      "[2022-02-12 21:44:32,909][simple_parsing.helpers.serialization.decoding][DEBUG] name = dtype, field_type = <class 'shared.schema.graph.DType'>\n",
      "[2022-02-12 21:44:32,909][simple_parsing.helpers.serialization.serializable][DEBUG] from_dict for <class 'shared.schema.graph.GraphProperty'>, drop extra fields: True\n",
      "[2022-02-12 21:44:32,910][simple_parsing.helpers.serialization.decoding][DEBUG] name = dtype, field_type = <class 'shared.schema.graph.DType'>\n",
      "[2022-02-12 21:44:32,911][simple_parsing.helpers.serialization.serializable][DEBUG] from_dict for <class 'shared.schema.graph.GraphProperty'>, drop extra fields: True\n",
      "[2022-02-12 21:44:32,912][simple_parsing.helpers.serialization.decoding][DEBUG] name = dtype, field_type = <class 'shared.schema.graph.DType'>\n",
      "[2022-02-12 21:44:32,912][simple_parsing.helpers.serialization.serializable][DEBUG] from_dict for <class 'shared.schema.graph.GraphProperty'>, drop extra fields: True\n",
      "[2022-02-12 21:44:32,913][simple_parsing.helpers.serialization.decoding][DEBUG] name = dtype, field_type = <class 'shared.schema.graph.DType'>\n",
      "[2022-02-12 21:44:32,913][simple_parsing.helpers.serialization.serializable][DEBUG] from_dict for <class 'shared.schema.graph.GraphProperty'>, drop extra fields: True\n",
      "[2022-02-12 21:44:32,914][simple_parsing.helpers.serialization.decoding][DEBUG] name = dtype, field_type = <class 'shared.schema.graph.DType'>\n",
      "[2022-02-12 21:44:32,914][simple_parsing.helpers.serialization.serializable][DEBUG] from_dict for <class 'shared.schema.graph.GraphProperty'>, drop extra fields: True\n",
      "[2022-02-12 21:44:32,915][simple_parsing.helpers.serialization.decoding][DEBUG] name = dtype, field_type = <class 'shared.schema.graph.DType'>\n",
      "[2022-02-12 21:44:32,915][simple_parsing.helpers.serialization.serializable][DEBUG] from_dict for <class 'shared.schema.graph.GraphProperty'>, drop extra fields: True\n",
      "[2022-02-12 21:44:32,915][simple_parsing.helpers.serialization.decoding][DEBUG] name = dtype, field_type = <class 'shared.schema.graph.DType'>\n",
      "[2022-02-12 21:44:32,916][simple_parsing.helpers.serialization.serializable][DEBUG] from_dict for <class 'shared.schema.graph.GraphProperty'>, drop extra fields: True\n",
      "[2022-02-12 21:44:32,917][simple_parsing.helpers.serialization.decoding][DEBUG] name = dtype, field_type = <class 'shared.schema.graph.DType'>\n",
      "[2022-02-12 21:44:32,918][simple_parsing.helpers.serialization.serializable][DEBUG] from_dict for <class 'shared.schema.graph.GraphProperty'>, drop extra fields: True\n",
      "[2022-02-12 21:44:32,926][simple_parsing.helpers.serialization.decoding][DEBUG] name = dtype, field_type = <class 'shared.schema.graph.DType'>\n",
      "[2022-02-12 21:44:32,927][simple_parsing.helpers.serialization.serializable][DEBUG] from_dict for <class 'shared.schema.graph.GraphProperty'>, drop extra fields: True\n",
      "[2022-02-12 21:44:32,928][simple_parsing.helpers.serialization.decoding][DEBUG] name = dtype, field_type = <class 'shared.schema.graph.DType'>\n",
      "[2022-02-12 21:44:32,928][simple_parsing.helpers.serialization.serializable][DEBUG] from_dict for <class 'shared.schema.graph.GraphProperty'>, drop extra fields: True\n",
      "[2022-02-12 21:44:32,929][simple_parsing.helpers.serialization.decoding][DEBUG] name = dtype, field_type = <class 'shared.schema.graph.DType'>\n",
      "[2022-02-12 21:44:32,930][simple_parsing.helpers.serialization.serializable][DEBUG] from_dict for <class 'shared.schema.graph.GraphProperty'>, drop extra fields: True\n",
      "[2022-02-12 21:44:32,931][simple_parsing.helpers.serialization.decoding][DEBUG] name = dtype, field_type = <class 'shared.schema.graph.DType'>\n",
      "[2022-02-12 21:44:32,932][simple_parsing.helpers.serialization.serializable][DEBUG] from_dict for <class 'shared.schema.graph.GraphProperty'>, drop extra fields: True\n",
      "[2022-02-12 21:44:32,932][simple_parsing.helpers.serialization.decoding][DEBUG] name = dtype, field_type = <class 'shared.schema.graph.DType'>\n",
      "[2022-02-12 21:44:32,933][simple_parsing.helpers.serialization.serializable][DEBUG] from_dict for <class 'shared.schema.graph.GraphProperty'>, drop extra fields: True\n",
      "[2022-02-12 21:44:32,934][simple_parsing.helpers.serialization.decoding][DEBUG] name = dtype, field_type = <class 'shared.schema.graph.DType'>\n",
      "[2022-02-12 21:44:32,935][simple_parsing.helpers.serialization.serializable][DEBUG] from_dict for <class 'shared.schema.graph.GraphProperty'>, drop extra fields: True\n",
      "[2022-02-12 21:44:32,936][simple_parsing.helpers.serialization.decoding][DEBUG] name = dtype, field_type = <class 'shared.schema.graph.DType'>\n",
      "[2022-02-12 21:44:32,937][simple_parsing.helpers.serialization.serializable][DEBUG] from_dict for <class 'shared.schema.graph.GraphProperty'>, drop extra fields: True\n",
      "[2022-02-12 21:44:32,942][simple_parsing.helpers.serialization.decoding][DEBUG] name = dtype, field_type = <class 'shared.schema.graph.DType'>\n",
      "[2022-02-12 21:44:32,943][simple_parsing.helpers.serialization.serializable][DEBUG] from_dict for <class 'shared.schema.graph.GraphProperty'>, drop extra fields: True\n",
      "[2022-02-12 21:44:32,943][simple_parsing.helpers.serialization.decoding][DEBUG] name = dtype, field_type = <class 'shared.schema.graph.DType'>\n",
      "[2022-02-12 21:44:32,944][simple_parsing.helpers.serialization.serializable][DEBUG] from_dict for <class 'shared.schema.graph.GraphProperty'>, drop extra fields: True\n",
      "[2022-02-12 21:44:32,945][simple_parsing.helpers.serialization.decoding][DEBUG] name = dtype, field_type = <class 'shared.schema.graph.DType'>\n",
      "[2022-02-12 21:44:32,946][simple_parsing.helpers.serialization.serializable][DEBUG] from_dict for <class 'shared.schema.graph.GraphProperty'>, drop extra fields: True\n",
      "[2022-02-12 21:44:32,946][simple_parsing.helpers.serialization.decoding][DEBUG] name = dtype, field_type = <class 'shared.schema.graph.DType'>\n",
      "[2022-02-12 21:44:32,947][simple_parsing.helpers.serialization.serializable][DEBUG] from_dict for <class 'shared.schema.graph.GraphProperty'>, drop extra fields: True\n",
      "[2022-02-12 21:44:32,948][simple_parsing.helpers.serialization.decoding][DEBUG] name = dtype, field_type = <class 'shared.schema.graph.DType'>\n",
      "[2022-02-12 21:44:32,950][simple_parsing.helpers.serialization.serializable][DEBUG] from_dict for <class 'shared.schema.graph.GraphProperty'>, drop extra fields: True\n",
      "[2022-02-12 21:44:32,951][simple_parsing.helpers.serialization.decoding][DEBUG] name = dtype, field_type = <class 'shared.schema.graph.DType'>\n",
      "[2022-02-12 21:44:32,952][simple_parsing.helpers.serialization.serializable][DEBUG] from_dict for <class 'shared.schema.graph.GraphProperty'>, drop extra fields: True\n",
      "[2022-02-12 21:44:32,953][simple_parsing.helpers.serialization.decoding][DEBUG] name = dtype, field_type = <class 'shared.schema.graph.DType'>\n",
      "[2022-02-12 21:44:32,954][simple_parsing.helpers.serialization.serializable][DEBUG] from_dict for <class 'shared.schema.graph.GraphProperty'>, drop extra fields: True\n",
      "[2022-02-12 21:44:32,957][simple_parsing.helpers.serialization.decoding][DEBUG] name = dtype, field_type = <class 'shared.schema.graph.DType'>\n",
      "[2022-02-12 21:44:32,958][simple_parsing.helpers.serialization.serializable][DEBUG] from_dict for <class 'shared.schema.graph.GraphProperty'>, drop extra fields: True\n",
      "[2022-02-12 21:44:32,959][simple_parsing.helpers.serialization.decoding][DEBUG] name = dtype, field_type = <class 'shared.schema.graph.DType'>\n",
      "[2022-02-12 21:44:32,960][simple_parsing.helpers.serialization.serializable][DEBUG] from_dict for <class 'shared.schema.graph.GraphProperty'>, drop extra fields: True\n",
      "[2022-02-12 21:44:32,961][simple_parsing.helpers.serialization.decoding][DEBUG] name = dtype, field_type = <class 'shared.schema.graph.DType'>\n",
      "[2022-02-12 21:44:32,963][simple_parsing.helpers.serialization.serializable][DEBUG] from_dict for <class 'shared.schema.graph.GraphProperty'>, drop extra fields: True\n",
      "[2022-02-12 21:44:32,964][simple_parsing.helpers.serialization.decoding][DEBUG] name = dtype, field_type = <class 'shared.schema.graph.DType'>\n",
      "[2022-02-12 21:44:32,964][simple_parsing.helpers.serialization.serializable][DEBUG] from_dict for <class 'shared.schema.graph.GraphProperty'>, drop extra fields: True\n",
      "[2022-02-12 21:44:32,965][simple_parsing.helpers.serialization.decoding][DEBUG] name = dtype, field_type = <class 'shared.schema.graph.DType'>\n",
      "[2022-02-12 21:44:32,965][simple_parsing.helpers.serialization.serializable][DEBUG] from_dict for <class 'shared.schema.graph.GraphProperty'>, drop extra fields: True\n",
      "[2022-02-12 21:44:32,966][simple_parsing.helpers.serialization.decoding][DEBUG] name = dtype, field_type = <class 'shared.schema.graph.DType'>\n",
      "[2022-02-12 21:44:32,967][simple_parsing.helpers.serialization.serializable][DEBUG] from_dict for <class 'shared.schema.graph.GraphProperty'>, drop extra fields: True\n",
      "[2022-02-12 21:44:32,968][simple_parsing.helpers.serialization.decoding][DEBUG] name = dtype, field_type = <class 'shared.schema.graph.DType'>\n",
      "[2022-02-12 21:44:32,969][simple_parsing.helpers.serialization.serializable][DEBUG] from_dict for <class 'shared.schema.graph.GraphProperty'>, drop extra fields: True\n",
      "[2022-02-12 21:44:32,969][simple_parsing.helpers.serialization.decoding][DEBUG] name = dtype, field_type = <class 'shared.schema.graph.DType'>\n",
      "[2022-02-12 21:44:32,970][simple_parsing.helpers.serialization.serializable][DEBUG] from_dict for <class 'shared.schema.graph.GraphProperty'>, drop extra fields: True\n",
      "[2022-02-12 21:44:32,971][simple_parsing.helpers.serialization.decoding][DEBUG] name = dtype, field_type = <class 'shared.schema.graph.DType'>\n",
      "[2022-02-12 21:44:32,972][simple_parsing.helpers.serialization.serializable][DEBUG] from_dict for <class 'shared.schema.graph.GraphProperty'>, drop extra fields: True\n",
      "[2022-02-12 21:44:32,972][simple_parsing.helpers.serialization.decoding][DEBUG] name = dtype, field_type = <class 'shared.schema.graph.DType'>\n",
      "[2022-02-12 21:44:32,973][simple_parsing.helpers.serialization.serializable][DEBUG] from_dict for <class 'shared.schema.graph.GraphProperty'>, drop extra fields: True\n",
      "[2022-02-12 21:44:32,974][simple_parsing.helpers.serialization.decoding][DEBUG] name = dtype, field_type = <class 'shared.schema.graph.DType'>\n",
      "[2022-02-12 21:44:32,974][simple_parsing.helpers.serialization.serializable][DEBUG] from_dict for <class 'shared.schema.graph.GraphProperty'>, drop extra fields: True\n",
      "[2022-02-12 21:44:32,975][simple_parsing.helpers.serialization.decoding][DEBUG] name = dtype, field_type = <class 'shared.schema.graph.DType'>\n",
      "[2022-02-12 21:44:32,976][simple_parsing.helpers.serialization.serializable][DEBUG] from_dict for <class 'shared.schema.graph.GraphProperty'>, drop extra fields: True\n",
      "[2022-02-12 21:44:32,976][simple_parsing.helpers.serialization.decoding][DEBUG] name = dtype, field_type = <class 'shared.schema.graph.DType'>\n",
      "[2022-02-12 21:44:32,977][simple_parsing.helpers.serialization.decoding][DEBUG] name = edges, field_type = typing.Dict[str, shared.schema.graph.EdgeSchema]\n",
      "[2022-02-12 21:44:32,978][simple_parsing.helpers.serialization.decoding][DEBUG] Decoding a Dict field: typing.Dict[str, shared.schema.graph.EdgeSchema]\n",
      "[2022-02-12 21:44:32,984][simple_parsing.helpers.serialization.serializable][DEBUG] from_dict for <class 'shared.schema.graph.EdgeSchema'>, drop extra fields: True\n",
      "[2022-02-12 21:44:32,985][simple_parsing.helpers.serialization.decoding][DEBUG] name = properties, field_type = typing.Dict[str, shared.schema.graph.GraphProperty]\n",
      "[2022-02-12 21:44:32,985][simple_parsing.helpers.serialization.serializable][DEBUG] from_dict for <class 'shared.schema.graph.GraphProperty'>, drop extra fields: True\n",
      "[2022-02-12 21:44:32,987][simple_parsing.helpers.serialization.decoding][DEBUG] name = dtype, field_type = <class 'shared.schema.graph.DType'>\n",
      "[2022-02-12 21:44:32,988][simple_parsing.helpers.serialization.serializable][DEBUG] from_dict for <class 'shared.schema.graph.GraphProperty'>, drop extra fields: True\n",
      "[2022-02-12 21:44:32,988][simple_parsing.helpers.serialization.decoding][DEBUG] name = dtype, field_type = <class 'shared.schema.graph.DType'>\n",
      "[2022-02-12 21:44:32,989][simple_parsing.helpers.serialization.serializable][DEBUG] from_dict for <class 'shared.schema.graph.GraphProperty'>, drop extra fields: True\n",
      "[2022-02-12 21:44:32,990][simple_parsing.helpers.serialization.decoding][DEBUG] name = dtype, field_type = <class 'shared.schema.graph.DType'>\n",
      "[2022-02-12 21:44:32,990][simple_parsing.helpers.serialization.serializable][DEBUG] from_dict for <class 'shared.schema.graph.GraphProperty'>, drop extra fields: True\n",
      "[2022-02-12 21:44:32,991][simple_parsing.helpers.serialization.decoding][DEBUG] name = dtype, field_type = <class 'shared.schema.graph.DType'>\n",
      "[2022-02-12 21:44:32,993][simple_parsing.helpers.serialization.decoding][DEBUG] name = dynamic, field_type = typing.Optional[shared.schema.graph.DynamicConfig]\n",
      "[2022-02-12 21:44:32,994][simple_parsing.helpers.serialization.decoding][DEBUG] Decoding a Union field: typing.Optional[shared.schema.graph.DynamicConfig]\n",
      "[2022-02-12 21:44:32,995][simple_parsing.helpers.serialization.serializable][DEBUG] from_dict for <class 'shared.schema.graph.DynamicConfig'>, drop extra fields: True\n",
      "[2022-02-12 21:44:32,996][simple_parsing.helpers.serialization.decoding][DEBUG] name = timestamp, field_type = <class 'str'>\n",
      "[2022-02-12 21:44:32,996][simple_parsing.helpers.serialization.decoding][DEBUG] name = interaction, field_type = <class 'bool'>\n",
      "[2022-02-12 21:44:32,996][simple_parsing.helpers.serialization.decoding][DEBUG] name = source_type, field_type = <class 'str'>\n",
      "[2022-02-12 21:44:32,997][simple_parsing.helpers.serialization.decoding][DEBUG] name = target_type, field_type = <class 'str'>\n",
      "[2022-02-12 21:44:32,997][simple_parsing.helpers.serialization.decoding][DEBUG] name = directed, field_type = <class 'bool'>\n",
      "[2022-02-12 21:44:32,998][simple_parsing.helpers.serialization.serializable][DEBUG] from_dict for <class 'shared.schema.graph.EdgeSchema'>, drop extra fields: True\n",
      "[2022-02-12 21:44:32,998][simple_parsing.helpers.serialization.decoding][DEBUG] name = properties, field_type = typing.Dict[str, shared.schema.graph.GraphProperty]\n",
      "[2022-02-12 21:44:32,999][simple_parsing.helpers.serialization.serializable][DEBUG] from_dict for <class 'shared.schema.graph.GraphProperty'>, drop extra fields: True\n",
      "[2022-02-12 21:44:32,999][simple_parsing.helpers.serialization.decoding][DEBUG] name = dtype, field_type = <class 'shared.schema.graph.DType'>\n",
      "[2022-02-12 21:44:33,001][simple_parsing.helpers.serialization.serializable][DEBUG] from_dict for <class 'shared.schema.graph.GraphProperty'>, drop extra fields: True\n",
      "[2022-02-12 21:44:33,001][simple_parsing.helpers.serialization.decoding][DEBUG] name = dtype, field_type = <class 'shared.schema.graph.DType'>\n",
      "[2022-02-12 21:44:33,002][simple_parsing.helpers.serialization.serializable][DEBUG] from_dict for <class 'shared.schema.graph.GraphProperty'>, drop extra fields: True\n",
      "[2022-02-12 21:44:33,002][simple_parsing.helpers.serialization.decoding][DEBUG] name = dtype, field_type = <class 'shared.schema.graph.DType'>\n",
      "[2022-02-12 21:44:33,003][simple_parsing.helpers.serialization.serializable][DEBUG] from_dict for <class 'shared.schema.graph.GraphProperty'>, drop extra fields: True\n",
      "[2022-02-12 21:44:33,003][simple_parsing.helpers.serialization.decoding][DEBUG] name = dtype, field_type = <class 'shared.schema.graph.DType'>\n",
      "[2022-02-12 21:44:33,004][simple_parsing.helpers.serialization.decoding][DEBUG] name = dynamic, field_type = typing.Optional[shared.schema.graph.DynamicConfig]\n",
      "[2022-02-12 21:44:33,004][simple_parsing.helpers.serialization.serializable][DEBUG] from_dict for <class 'shared.schema.graph.DynamicConfig'>, drop extra fields: True\n",
      "[2022-02-12 21:44:33,004][simple_parsing.helpers.serialization.decoding][DEBUG] name = timestamp, field_type = <class 'str'>\n",
      "[2022-02-12 21:44:33,005][simple_parsing.helpers.serialization.decoding][DEBUG] name = interaction, field_type = <class 'bool'>\n",
      "[2022-02-12 21:44:33,005][simple_parsing.helpers.serialization.decoding][DEBUG] name = source_type, field_type = <class 'str'>\n",
      "[2022-02-12 21:44:33,005][simple_parsing.helpers.serialization.decoding][DEBUG] name = target_type, field_type = <class 'str'>\n",
      "[2022-02-12 21:44:33,006][simple_parsing.helpers.serialization.decoding][DEBUG] name = directed, field_type = <class 'bool'>\n"
     ]
    },
    {
     "data": {
      "text/plain": "HeteroData(\n  \u001B[1mCharacter\u001B[0m={ x=[113, 32] },\n  \u001B[1m(Character, INTERACTIONS, Character)\u001B[0m={\n    edge_attr=[958, 0],\n    edge_index=[2, 958],\n    timestamp=[958]\n  },\n  \u001B[1m(Character, MENTIONS, Character)\u001B[0m={\n    edge_attr=[1120, 0],\n    edge_index=[2, 1120],\n    timestamp=[1120]\n  }\n)"
     },
     "execution_count": 2,
     "metadata": {},
     "output_type": "execute_result"
    }
   ],
   "source": [
    "dataset = StarWars()\n",
    "data = dataset[0]\n",
    "data"
   ],
   "metadata": {
    "collapsed": false,
    "pycharm": {
     "name": "#%%\n"
    }
   }
  },
  {
   "cell_type": "code",
   "execution_count": 3,
   "outputs": [],
   "source": [
    "data_module = ml.EdgeLoaderDataModule(data, batch_size=16, num_samples=[4] * 2, num_workers=0, node_type='Character',\n",
    "                                      neg_sample_ratio=1)"
   ],
   "metadata": {
    "collapsed": false,
    "pycharm": {
     "name": "#%%\n"
    }
   }
  },
  {
   "cell_type": "code",
   "execution_count": 4,
   "outputs": [],
   "source": [
    "class HGTModule(torch.nn.Module):\n",
    "    def __init__(\n",
    "            self,\n",
    "            node_type,\n",
    "            metadata: Metadata,\n",
    "            hidden_channels=64,\n",
    "            num_heads=2,\n",
    "            num_layers=1\n",
    "    ):\n",
    "        super().__init__()\n",
    "        self.node_type = node_type\n",
    "        self.lin_dict = torch.nn.ModuleDict()\n",
    "        for node_type in metadata[0]:\n",
    "            self.lin_dict[node_type] = Linear(-1, hidden_channels)\n",
    "\n",
    "        self.convs = torch.nn.ModuleList()\n",
    "        for _ in range(num_layers):\n",
    "            conv = HGTConv(hidden_channels, hidden_channels, metadata, num_heads, group='sum')\n",
    "            self.convs.append(conv)\n",
    "\n",
    "    def forward(self, x_dict, edge_index_dict):\n",
    "        for node_type, x in x_dict.items():\n",
    "            x_dict[node_type] = self.lin_dict[node_type](x).relu_()\n",
    "\n",
    "        for conv in self.convs:\n",
    "            x_dict = conv(x_dict, edge_index_dict)\n",
    "\n",
    "        return x_dict[self.node_type]\n",
    "\n",
    "\n",
    "class ClusteringModule(torch.nn.Module):\n",
    "    def __init__(\n",
    "            self, rep_dim: int, n_clusters: int,\n",
    "            cluster_centers: Optional[torch.Tensor] = None\n",
    "    ):\n",
    "        super().__init__()\n",
    "        self.n_clusters = n_clusters\n",
    "        self.rep_dim = rep_dim\n",
    "\n",
    "        if cluster_centers is None:\n",
    "            initial_cluster_centers = torch.zeros(\n",
    "                self.n_clusters, self.rep_dim, dtype=torch.float\n",
    "            )\n",
    "            torch.nn.init.xavier_uniform_(initial_cluster_centers)\n",
    "        else:\n",
    "            assert cluster_centers.shape == (self.n_clusters, self.rep_dim)\n",
    "            initial_cluster_centers = cluster_centers\n",
    "        self.cluster_centers = torch.nn.Parameter(initial_cluster_centers)\n",
    "        self.cos_sim = torch.nn.CosineSimilarity(dim=2)\n",
    "        self.activation = torch.nn.Softmax(dim=1)\n",
    "\n",
    "    def forward(self, batch: torch.Tensor):\n",
    "        sim = self.cos_sim(batch.unsqueeze(1), self.cluster_centers.unsqueeze(0))\n",
    "        return self.activation(sim)\n",
    "\n",
    "    def forward_assign(self, batch: torch.Tensor):\n",
    "        q = self(batch)\n",
    "        return q.argmax(dim=1)\n",
    "\n",
    "\n",
    "class LinkPredictionLoss(torch.nn.Module):\n",
    "    def __init__(self):\n",
    "        super().__init__()\n",
    "        self.ce_loss = torch.nn.CrossEntropyLoss()\n",
    "\n",
    "    def forward(self, pred: torch.Tensor, label: torch.Tensor):\n",
    "        return self.ce_loss(pred, label)\n",
    "\n",
    "\n",
    "class ClusteringLoss(torch.nn.Module):\n",
    "    def __init__(self):\n",
    "        super().__init__()\n",
    "        self.ce_loss = torch.nn.CrossEntropyLoss()\n",
    "        self.cos_sim = torch.nn.CosineSimilarity(dim=1)\n",
    "\n",
    "    def forward(self, q_l: torch.Tensor, q_r: torch.Tensor, label: torch.Tensor):\n",
    "        p = torch.sum(q_l, dim=0) + torch.sum(q_r, dim=0)\n",
    "        p /= p.sum()\n",
    "        ne = math.log(p.size(0)) + (p * torch.log(p)).sum()\n",
    "\n",
    "        sim = (self.cos_sim(q_l, q_r) + 1) / 2\n",
    "        pred = torch.stack([1 - sim, sim], dim=1)\n",
    "        loss = self.ce_loss(pred, label)\n",
    "\n",
    "        return loss, ne\n",
    "\n",
    "\n",
    "class Net(ml.BaseModule):\n",
    "    def __init__(\n",
    "            self,\n",
    "            embedding_module: HGTModule,\n",
    "            clustering_module: ClusteringModule,\n",
    "    ):\n",
    "        super().__init__()\n",
    "        self.embedding_module = embedding_module\n",
    "        self.clustering_module = clustering_module\n",
    "        self.cos_sim = torch.nn.CosineSimilarity(dim=1)\n",
    "        self.lin = torch.nn.Linear(1, 2)\n",
    "\n",
    "        self.link_prediction_loss = LinkPredictionLoss()\n",
    "        self.clustering_loss = ClusteringLoss()\n",
    "\n",
    "        self.is_pretraining = True\n",
    "\n",
    "    def configure_metrics(self) -> Dict[str, Tuple[torchmetrics.Metric, bool]]:\n",
    "        return {\n",
    "            'loss': (torchmetrics.MeanMetric(), True),\n",
    "            'hp_loss': (torchmetrics.MeanMetric(), True),\n",
    "            'cc_loss': (torchmetrics.MeanMetric(), True),\n",
    "            'accuracy': (torchmetrics.Accuracy(), True),\n",
    "            'ne': (torchmetrics.MeanMetric(), True),\n",
    "        }\n",
    "\n",
    "    def _step(self, batch: torch.Tensor):\n",
    "        batch_l, batch_r, label = batch\n",
    "        batch_size = batch_l[self.embedding_module.node_type].batch_size\n",
    "\n",
    "        emb_l = self.embedding_module(batch_l.x_dict, batch_l.edge_index_dict)[:batch_size]\n",
    "        emb_r = self.embedding_module(batch_r.x_dict, batch_r.edge_index_dict)[:batch_size]\n",
    "        sim = self.cos_sim(emb_l, emb_r)\n",
    "        out = self.lin(torch.unsqueeze(sim, 1))\n",
    "        hp_loss = self.link_prediction_loss(out, label)\n",
    "\n",
    "        out_dict = {}\n",
    "        if self.is_pretraining:\n",
    "            loss = hp_loss\n",
    "        else:\n",
    "            q_l = self.clustering_module(emb_l)\n",
    "            q_r = self.clustering_module(emb_r)\n",
    "            cc_loss, ne = self.clustering_loss(q_l, q_r, label)\n",
    "            loss = hp_loss + 2 * cc_loss + ne\n",
    "            out_dict['ne'] = ne.detach()\n",
    "            out_dict['cc_loss'] = cc_loss.detach()\n",
    "\n",
    "        pred = out.argmax(dim=-1).detach()\n",
    "        return {\n",
    "            'loss': loss,\n",
    "            'hp_loss': hp_loss.detach(),\n",
    "            'accuracy': (pred, label),\n",
    "            **out_dict\n",
    "        }\n",
    "\n",
    "    def forward(self, batch):\n",
    "        batch_size = batch[self.embedding_module.node_type].batch_size\n",
    "        emb = self.embedding_module(batch.x_dict, batch.edge_index_dict)[:batch_size]\n",
    "        q = self.clustering_module(emb)\n",
    "        return emb, q\n",
    "\n",
    "    def training_step(self, batch):\n",
    "        return self._step(batch)\n",
    "\n",
    "    def validation_step(self, batch, batch_idx):\n",
    "        return self._step(batch)\n",
    "\n",
    "    def configure_optimizers(self):\n",
    "        optimizer = torch.optim.Adam(self.parameters(), lr=1e-3)\n",
    "        return optimizer"
   ],
   "metadata": {
    "collapsed": false,
    "pycharm": {
     "name": "#%%\n"
    }
   }
  },
  {
   "cell_type": "code",
   "execution_count": 5,
   "outputs": [],
   "source": [
    "embedding_module = HGTModule(node_type='Character', metadata=data.metadata(), hidden_channels=32, num_heads=2,\n",
    "                             num_layers=2)\n",
    "clustering_module = ClusteringModule(rep_dim=32, n_clusters=5)\n",
    "model = Net(embedding_module, clustering_module)"
   ],
   "metadata": {
    "collapsed": false,
    "pycharm": {
     "name": "#%%\n"
    }
   }
  },
  {
   "cell_type": "code",
   "execution_count": 14,
   "outputs": [
    {
     "name": "stdout",
     "output_type": "stream",
     "text": [
      "[2022-02-12 22:05:08,200][py.warnings][WARNING] /data/pella/projects/University/Thesis/Thesis/code/env/lib/python3.9/site-packages/pytorch_lightning/core/datamodule.py:469: LightningDeprecationWarning: DataModule.setup has already been called, so it will not be called again. In v1.6 this behavior will change to always call DataModule.setup.\n",
      "  rank_zero_deprecation(\n",
      "\n"
     ]
    },
    {
     "data": {
      "text/plain": "Validation sanity check: 0it [00:00, ?it/s]",
      "application/vnd.jupyter.widget-view+json": {
       "version_major": 2,
       "version_minor": 0,
       "model_id": "38a7d98e247e480585c3c84d4e737114"
      }
     },
     "metadata": {},
     "output_type": "display_data"
    },
    {
     "name": "stdout",
     "output_type": "stream",
     "text": [
      "[2022-02-12 22:05:08,279][py.warnings][WARNING] /data/pella/projects/University/Thesis/Thesis/code/env/lib/python3.9/site-packages/pytorch_lightning/trainer/data_loading.py:132: UserWarning: The dataloader, val_dataloader 0, does not have many workers which may be a bottleneck. Consider increasing the value of the `num_workers` argument` (try 16 which is the number of cpus on this machine) in the `DataLoader` init to improve performance.\n",
      "  rank_zero_warn(\n",
      "\n",
      "[2022-02-12 22:05:08,325][py.warnings][WARNING] /data/pella/projects/University/Thesis/Thesis/code/env/lib/python3.9/site-packages/torchmetrics/utilities/prints.py:36: UserWarning: The ``compute`` method of metric MeanMetric was called before the ``update`` method which may lead to errors, as metric states have not yet been updated.\n",
      "  warnings.warn(*args, **kwargs)\n",
      "\n",
      "[2022-02-12 22:05:08,338][py.warnings][WARNING] /data/pella/projects/University/Thesis/Thesis/code/env/lib/python3.9/site-packages/pytorch_lightning/trainer/data_loading.py:132: UserWarning: The dataloader, train_dataloader, does not have many workers which may be a bottleneck. Consider increasing the value of the `num_workers` argument` (try 16 which is the number of cpus on this machine) in the `DataLoader` init to improve performance.\n",
      "  rank_zero_warn(\n",
      "\n"
     ]
    },
    {
     "data": {
      "text/plain": "Training: 0it [00:00, ?it/s]",
      "application/vnd.jupyter.widget-view+json": {
       "version_major": 2,
       "version_minor": 0,
       "model_id": "e67687a63c9c47e29ac3acfb141cf668"
      }
     },
     "metadata": {},
     "output_type": "display_data"
    },
    {
     "name": "stdout",
     "output_type": "stream",
     "text": [
      "[2022-02-12 22:05:08,387][py.warnings][WARNING] /data/pella/projects/University/Thesis/Thesis/code/env/lib/python3.9/site-packages/pytorch_lightning/loops/optimization/closure.py:35: LightningDeprecationWarning: One of the returned values {'hp_loss', 'accuracy'} has a `grad_fn`. We will detach it automatically but this behaviour will change in v1.6. Please detach it manually: `return {'loss': ..., 'something': something.detach()}`\n",
      "  rank_zero_deprecation(\n",
      "\n"
     ]
    },
    {
     "data": {
      "text/plain": "Validating: 0it [00:00, ?it/s]",
      "application/vnd.jupyter.widget-view+json": {
       "version_major": 2,
       "version_minor": 0,
       "model_id": "dcedef9f6cef4fe2a63db13bf7271c3b"
      }
     },
     "metadata": {},
     "output_type": "display_data"
    },
    {
     "data": {
      "text/plain": "Validating: 0it [00:00, ?it/s]",
      "application/vnd.jupyter.widget-view+json": {
       "version_major": 2,
       "version_minor": 0,
       "model_id": "5f7eefd77f724f9184a8d320ac1d9d89"
      }
     },
     "metadata": {},
     "output_type": "display_data"
    },
    {
     "data": {
      "text/plain": "Validating: 0it [00:00, ?it/s]",
      "application/vnd.jupyter.widget-view+json": {
       "version_major": 2,
       "version_minor": 0,
       "model_id": "d569f8bf4c164c99aa9c9d15c1d7a50e"
      }
     },
     "metadata": {},
     "output_type": "display_data"
    },
    {
     "data": {
      "text/plain": "Validating: 0it [00:00, ?it/s]",
      "application/vnd.jupyter.widget-view+json": {
       "version_major": 2,
       "version_minor": 0,
       "model_id": "1732994a2dc145dcb7df335fc7d64b9a"
      }
     },
     "metadata": {},
     "output_type": "display_data"
    },
    {
     "data": {
      "text/plain": "Validating: 0it [00:00, ?it/s]",
      "application/vnd.jupyter.widget-view+json": {
       "version_major": 2,
       "version_minor": 0,
       "model_id": "654134663a984d9b9eb10d99194dba38"
      }
     },
     "metadata": {},
     "output_type": "display_data"
    },
    {
     "data": {
      "text/plain": "Validating: 0it [00:00, ?it/s]",
      "application/vnd.jupyter.widget-view+json": {
       "version_major": 2,
       "version_minor": 0,
       "model_id": "60989ebb18ea4713a9d6cdd1e2660032"
      }
     },
     "metadata": {},
     "output_type": "display_data"
    },
    {
     "data": {
      "text/plain": "Validating: 0it [00:00, ?it/s]",
      "application/vnd.jupyter.widget-view+json": {
       "version_major": 2,
       "version_minor": 0,
       "model_id": "27e558111b094e3b8282b780846e3ee8"
      }
     },
     "metadata": {},
     "output_type": "display_data"
    },
    {
     "data": {
      "text/plain": "Validating: 0it [00:00, ?it/s]",
      "application/vnd.jupyter.widget-view+json": {
       "version_major": 2,
       "version_minor": 0,
       "model_id": "0a72ee15b7114b6b9e93d499764e04e7"
      }
     },
     "metadata": {},
     "output_type": "display_data"
    },
    {
     "data": {
      "text/plain": "Validating: 0it [00:00, ?it/s]",
      "application/vnd.jupyter.widget-view+json": {
       "version_major": 2,
       "version_minor": 0,
       "model_id": "e8474d82968f4029b9200cb7e6b4496b"
      }
     },
     "metadata": {},
     "output_type": "display_data"
    },
    {
     "data": {
      "text/plain": "Validating: 0it [00:00, ?it/s]",
      "application/vnd.jupyter.widget-view+json": {
       "version_major": 2,
       "version_minor": 0,
       "model_id": "4539efc21a51450f82770dff93cbff53"
      }
     },
     "metadata": {},
     "output_type": "display_data"
    },
    {
     "name": "stdout",
     "output_type": "stream",
     "text": [
      "[2022-02-12 22:06:42,011][py.warnings][WARNING] /data/pella/projects/University/Thesis/Thesis/code/env/lib/python3.9/site-packages/pytorch_lightning/core/datamodule.py:469: LightningDeprecationWarning: DataModule.teardown has already been called, so it will not be called again. In v1.6 this behavior will change to always call DataModule.teardown.\n",
      "  rank_zero_deprecation(\n",
      "\n"
     ]
    },
    {
     "data": {
      "text/plain": "Validation sanity check: 0it [00:00, ?it/s]",
      "application/vnd.jupyter.widget-view+json": {
       "version_major": 2,
       "version_minor": 0,
       "model_id": "0c1ae49e61644e6c8a4a8fb22cff0d6a"
      }
     },
     "metadata": {},
     "output_type": "display_data"
    },
    {
     "data": {
      "text/plain": "Training: 0it [00:00, ?it/s]",
      "application/vnd.jupyter.widget-view+json": {
       "version_major": 2,
       "version_minor": 0,
       "model_id": "af945923c04b41fe92e6ef87b1aac2e4"
      }
     },
     "metadata": {},
     "output_type": "display_data"
    },
    {
     "name": "stdout",
     "output_type": "stream",
     "text": [
      "[2022-02-12 22:06:42,142][py.warnings][WARNING] /data/pella/projects/University/Thesis/Thesis/code/env/lib/python3.9/site-packages/pytorch_lightning/loops/optimization/closure.py:35: LightningDeprecationWarning: One of the returned values {'hp_loss', 'ne', 'cc_loss', 'accuracy'} has a `grad_fn`. We will detach it automatically but this behaviour will change in v1.6. Please detach it manually: `return {'loss': ..., 'something': something.detach()}`\n",
      "  rank_zero_deprecation(\n",
      "\n"
     ]
    },
    {
     "data": {
      "text/plain": "Validating: 0it [00:00, ?it/s]",
      "application/vnd.jupyter.widget-view+json": {
       "version_major": 2,
       "version_minor": 0,
       "model_id": "45371715e72b4daaa7cef3df141469b0"
      }
     },
     "metadata": {},
     "output_type": "display_data"
    },
    {
     "data": {
      "text/plain": "Validating: 0it [00:00, ?it/s]",
      "application/vnd.jupyter.widget-view+json": {
       "version_major": 2,
       "version_minor": 0,
       "model_id": "bf53211bd88a4e5690c3eff512d2a33b"
      }
     },
     "metadata": {},
     "output_type": "display_data"
    },
    {
     "data": {
      "text/plain": "Validating: 0it [00:00, ?it/s]",
      "application/vnd.jupyter.widget-view+json": {
       "version_major": 2,
       "version_minor": 0,
       "model_id": "0672dc27b0d648018279d681c9d1e033"
      }
     },
     "metadata": {},
     "output_type": "display_data"
    },
    {
     "data": {
      "text/plain": "Validating: 0it [00:00, ?it/s]",
      "application/vnd.jupyter.widget-view+json": {
       "version_major": 2,
       "version_minor": 0,
       "model_id": "03f7cad96bf946329e5f43f56b30cab8"
      }
     },
     "metadata": {},
     "output_type": "display_data"
    },
    {
     "data": {
      "text/plain": "Validating: 0it [00:00, ?it/s]",
      "application/vnd.jupyter.widget-view+json": {
       "version_major": 2,
       "version_minor": 0,
       "model_id": "a9b8278ef535457b9cf02dd6361905e8"
      }
     },
     "metadata": {},
     "output_type": "display_data"
    },
    {
     "data": {
      "text/plain": "Validating: 0it [00:00, ?it/s]",
      "application/vnd.jupyter.widget-view+json": {
       "version_major": 2,
       "version_minor": 0,
       "model_id": "fadfb062e86c41caba796e706cc8495d"
      }
     },
     "metadata": {},
     "output_type": "display_data"
    }
   ],
   "source": [
    "model.is_pretraining = True\n",
    "trainer = pl.Trainer(\n",
    "    gpus=1,\n",
    "    callbacks=[\n",
    "        pl.callbacks.EarlyStopping(monitor=\"val/loss\", min_delta=0.00, patience=5, verbose=True, mode=\"min\")\n",
    "    ],\n",
    "    max_epochs=20,\n",
    "    enable_model_summary=True,\n",
    "    # logger=wandb_logger\n",
    ")\n",
    "trainer.fit(model, data_module)\n",
    "\n",
    "model.is_pretraining = False\n",
    "trainer = pl.Trainer(\n",
    "    gpus=1,\n",
    "    callbacks=[\n",
    "        pl.callbacks.EarlyStopping(monitor=\"val/loss\", min_delta=0.00, patience=5, verbose=True, mode=\"min\")\n",
    "    ],\n",
    "    max_epochs=20,\n",
    "    enable_model_summary=True,\n",
    "    # logger=wandb_logger\n",
    ")\n",
    "trainer.fit(model, data_module)"
   ],
   "metadata": {
    "collapsed": false,
    "pycharm": {
     "name": "#%%\n"
    }
   }
  },
  {
   "cell_type": "code",
   "execution_count": 15,
   "outputs": [],
   "source": [
    "save_path = BENCHMARKS_RESULTS.joinpath('analysis', 'pyg-hgt-comopt-contrastive')\n",
    "save_path.mkdir(parents=True, exist_ok=True)"
   ],
   "metadata": {
    "collapsed": false,
    "pycharm": {
     "name": "#%%\n"
    }
   }
  },
  {
   "cell_type": "code",
   "execution_count": 16,
   "outputs": [
    {
     "name": "stdout",
     "output_type": "stream",
     "text": [
      "[2022-02-12 22:07:47,813][py.warnings][WARNING] /data/pella/projects/University/Thesis/Thesis/code/env/lib/python3.9/site-packages/pytorch_lightning/trainer/data_loading.py:132: UserWarning: The dataloader, predict_dataloader 0, does not have many workers which may be a bottleneck. Consider increasing the value of the `num_workers` argument` (try 16 which is the number of cpus on this machine) in the `DataLoader` init to improve performance.\n",
      "  rank_zero_warn(\n",
      "\n"
     ]
    },
    {
     "data": {
      "text/plain": "Predicting: 182it [00:00, ?it/s]",
      "application/vnd.jupyter.widget-view+json": {
       "version_major": 2,
       "version_minor": 0,
       "model_id": "88acc99c2d7643009e121828e0d524d5"
      }
     },
     "metadata": {},
     "output_type": "display_data"
    }
   ],
   "source": [
    "predictions = trainer.predict(model, data_module)\n",
    "embeddings, assignments = map(lambda x: torch.cat(x, dim=0).detach().cpu(), zip(*predictions))\n",
    "assignments = torch.argmax(assignments, dim=1)"
   ],
   "metadata": {
    "collapsed": false,
    "pycharm": {
     "name": "#%%\n"
    }
   }
  },
  {
   "cell_type": "code",
   "execution_count": 17,
   "outputs": [],
   "source": [
    "labeling = pd.Series(assignments.squeeze(), index=dataset.node_mapping(), name=\"cid\")\n",
    "labeling.index.name = \"nid\"\n",
    "comlist = CommunityAssignment(labeling)\n",
    "comlist.save_comlist(save_path.joinpath('schema.comlist'))"
   ],
   "metadata": {
    "collapsed": false,
    "pycharm": {
     "name": "#%%\n"
    }
   }
  },
  {
   "cell_type": "code",
   "execution_count": 18,
   "outputs": [
    {
     "name": "stdout",
     "output_type": "stream",
     "text": [
      "[2022-02-12 22:07:47,911][simple_parsing.helpers.serialization.serializable][DEBUG] from_dict for <class 'shared.schema.dataset.DatasetSchema'>, drop extra fields: True\n",
      "[2022-02-12 22:07:47,912][simple_parsing.helpers.serialization.decoding][DEBUG] name = name, field_type = <class 'str'>\n",
      "[2022-02-12 22:07:47,913][simple_parsing.helpers.serialization.decoding][DEBUG] name = database, field_type = <class 'str'>\n",
      "[2022-02-12 22:07:47,913][simple_parsing.helpers.serialization.decoding][DEBUG] name = description, field_type = <class 'str'>\n",
      "[2022-02-12 22:07:47,914][simple_parsing.helpers.serialization.decoding][DEBUG] name = versions, field_type = typing.Dict[str, shared.schema.dataset.DatasetVersion]\n",
      "[2022-02-12 22:07:47,914][simple_parsing.helpers.serialization.serializable][DEBUG] from_dict for <class 'shared.schema.dataset.DatasetVersion'>, drop extra fields: True\n",
      "[2022-02-12 22:07:47,915][simple_parsing.helpers.serialization.decoding][DEBUG] name = type, field_type = <enum 'DatasetVersionType'>\n",
      "[2022-02-12 22:07:47,915][simple_parsing.helpers.serialization.decoding][DEBUG] name = parameters, field_type = typing.Dict[str, typing.Any]\n",
      "[2022-02-12 22:07:47,915][simple_parsing.helpers.serialization.serializable][DEBUG] from_dict for <class 'shared.schema.dataset.DatasetVersion'>, drop extra fields: True\n",
      "[2022-02-12 22:07:47,916][simple_parsing.helpers.serialization.decoding][DEBUG] name = type, field_type = <enum 'DatasetVersionType'>\n",
      "[2022-02-12 22:07:47,916][simple_parsing.helpers.serialization.decoding][DEBUG] name = parameters, field_type = typing.Dict[str, typing.Any]\n",
      "[2022-02-12 22:07:47,917][simple_parsing.helpers.serialization.serializable][DEBUG] from_dict for <class 'shared.schema.dataset.DatasetVersion'>, drop extra fields: True\n",
      "[2022-02-12 22:07:47,917][simple_parsing.helpers.serialization.decoding][DEBUG] name = type, field_type = <enum 'DatasetVersionType'>\n",
      "[2022-02-12 22:07:47,918][simple_parsing.helpers.serialization.decoding][DEBUG] name = parameters, field_type = typing.Dict[str, typing.Any]\n",
      "[2022-02-12 22:07:47,918][simple_parsing.helpers.serialization.decoding][DEBUG] name = tags, field_type = typing.List[str]\n",
      "[2022-02-12 22:07:47,920][export_to_visualization.py][INFO] Processing /data/pella/projects/University/Thesis/Thesis/code/storage/datasets/processed/star-wars/schema.yaml\n",
      "[2022-02-12 22:07:47,935][simple_parsing.helpers.serialization.serializable][DEBUG] from_dict for <class 'shared.schema.graph.GraphSchema'>, drop extra fields: True\n",
      "[2022-02-12 22:07:47,936][simple_parsing.helpers.serialization.decoding][DEBUG] name = nodes, field_type = typing.Dict[str, shared.schema.graph.NodeSchema]\n",
      "[2022-02-12 22:07:47,938][simple_parsing.helpers.serialization.serializable][DEBUG] from_dict for <class 'shared.schema.graph.NodeSchema'>, drop extra fields: True\n",
      "[2022-02-12 22:07:47,938][simple_parsing.helpers.serialization.decoding][DEBUG] name = label, field_type = <class 'str'>\n",
      "[2022-02-12 22:07:47,939][simple_parsing.helpers.serialization.decoding][DEBUG] name = properties, field_type = typing.Dict[str, shared.schema.graph.GraphProperty]\n",
      "[2022-02-12 22:07:47,939][simple_parsing.helpers.serialization.serializable][DEBUG] from_dict for <class 'shared.schema.graph.GraphProperty'>, drop extra fields: True\n",
      "[2022-02-12 22:07:47,940][simple_parsing.helpers.serialization.decoding][DEBUG] name = dtype, field_type = <class 'shared.schema.graph.DType'>\n",
      "[2022-02-12 22:07:47,940][simple_parsing.helpers.serialization.serializable][DEBUG] from_dict for <class 'shared.schema.graph.GraphProperty'>, drop extra fields: True\n",
      "[2022-02-12 22:07:47,940][simple_parsing.helpers.serialization.decoding][DEBUG] name = dtype, field_type = <class 'shared.schema.graph.DType'>\n",
      "[2022-02-12 22:07:47,941][simple_parsing.helpers.serialization.serializable][DEBUG] from_dict for <class 'shared.schema.graph.GraphProperty'>, drop extra fields: True\n",
      "[2022-02-12 22:07:47,941][simple_parsing.helpers.serialization.decoding][DEBUG] name = dtype, field_type = <class 'shared.schema.graph.DType'>\n",
      "[2022-02-12 22:07:47,942][simple_parsing.helpers.serialization.serializable][DEBUG] from_dict for <class 'shared.schema.graph.GraphProperty'>, drop extra fields: True\n",
      "[2022-02-12 22:07:47,943][simple_parsing.helpers.serialization.decoding][DEBUG] name = dtype, field_type = <class 'shared.schema.graph.DType'>\n",
      "[2022-02-12 22:07:47,943][simple_parsing.helpers.serialization.serializable][DEBUG] from_dict for <class 'shared.schema.graph.GraphProperty'>, drop extra fields: True\n",
      "[2022-02-12 22:07:47,943][simple_parsing.helpers.serialization.decoding][DEBUG] name = dtype, field_type = <class 'shared.schema.graph.DType'>\n",
      "[2022-02-12 22:07:47,944][simple_parsing.helpers.serialization.serializable][DEBUG] from_dict for <class 'shared.schema.graph.GraphProperty'>, drop extra fields: True\n",
      "[2022-02-12 22:07:47,944][simple_parsing.helpers.serialization.decoding][DEBUG] name = dtype, field_type = <class 'shared.schema.graph.DType'>\n",
      "[2022-02-12 22:07:47,945][simple_parsing.helpers.serialization.serializable][DEBUG] from_dict for <class 'shared.schema.graph.GraphProperty'>, drop extra fields: True\n",
      "[2022-02-12 22:07:47,946][simple_parsing.helpers.serialization.decoding][DEBUG] name = dtype, field_type = <class 'shared.schema.graph.DType'>\n",
      "[2022-02-12 22:07:47,947][simple_parsing.helpers.serialization.serializable][DEBUG] from_dict for <class 'shared.schema.graph.GraphProperty'>, drop extra fields: True\n",
      "[2022-02-12 22:07:47,948][simple_parsing.helpers.serialization.decoding][DEBUG] name = dtype, field_type = <class 'shared.schema.graph.DType'>\n",
      "[2022-02-12 22:07:47,948][simple_parsing.helpers.serialization.serializable][DEBUG] from_dict for <class 'shared.schema.graph.GraphProperty'>, drop extra fields: True\n",
      "[2022-02-12 22:07:47,949][simple_parsing.helpers.serialization.decoding][DEBUG] name = dtype, field_type = <class 'shared.schema.graph.DType'>\n",
      "[2022-02-12 22:07:47,950][simple_parsing.helpers.serialization.serializable][DEBUG] from_dict for <class 'shared.schema.graph.GraphProperty'>, drop extra fields: True\n",
      "[2022-02-12 22:07:47,951][simple_parsing.helpers.serialization.decoding][DEBUG] name = dtype, field_type = <class 'shared.schema.graph.DType'>\n",
      "[2022-02-12 22:07:47,951][simple_parsing.helpers.serialization.serializable][DEBUG] from_dict for <class 'shared.schema.graph.GraphProperty'>, drop extra fields: True\n",
      "[2022-02-12 22:07:47,952][simple_parsing.helpers.serialization.decoding][DEBUG] name = dtype, field_type = <class 'shared.schema.graph.DType'>\n",
      "[2022-02-12 22:07:47,953][simple_parsing.helpers.serialization.serializable][DEBUG] from_dict for <class 'shared.schema.graph.GraphProperty'>, drop extra fields: True\n",
      "[2022-02-12 22:07:47,954][simple_parsing.helpers.serialization.decoding][DEBUG] name = dtype, field_type = <class 'shared.schema.graph.DType'>\n",
      "[2022-02-12 22:07:47,955][simple_parsing.helpers.serialization.serializable][DEBUG] from_dict for <class 'shared.schema.graph.GraphProperty'>, drop extra fields: True\n",
      "[2022-02-12 22:07:47,956][simple_parsing.helpers.serialization.decoding][DEBUG] name = dtype, field_type = <class 'shared.schema.graph.DType'>\n",
      "[2022-02-12 22:07:47,956][simple_parsing.helpers.serialization.serializable][DEBUG] from_dict for <class 'shared.schema.graph.GraphProperty'>, drop extra fields: True\n",
      "[2022-02-12 22:07:47,957][simple_parsing.helpers.serialization.decoding][DEBUG] name = dtype, field_type = <class 'shared.schema.graph.DType'>\n",
      "[2022-02-12 22:07:47,958][simple_parsing.helpers.serialization.serializable][DEBUG] from_dict for <class 'shared.schema.graph.GraphProperty'>, drop extra fields: True\n",
      "[2022-02-12 22:07:47,958][simple_parsing.helpers.serialization.decoding][DEBUG] name = dtype, field_type = <class 'shared.schema.graph.DType'>\n",
      "[2022-02-12 22:07:47,959][simple_parsing.helpers.serialization.serializable][DEBUG] from_dict for <class 'shared.schema.graph.GraphProperty'>, drop extra fields: True\n",
      "[2022-02-12 22:07:47,959][simple_parsing.helpers.serialization.decoding][DEBUG] name = dtype, field_type = <class 'shared.schema.graph.DType'>\n",
      "[2022-02-12 22:07:47,960][simple_parsing.helpers.serialization.serializable][DEBUG] from_dict for <class 'shared.schema.graph.GraphProperty'>, drop extra fields: True\n",
      "[2022-02-12 22:07:47,961][simple_parsing.helpers.serialization.decoding][DEBUG] name = dtype, field_type = <class 'shared.schema.graph.DType'>\n",
      "[2022-02-12 22:07:47,961][simple_parsing.helpers.serialization.serializable][DEBUG] from_dict for <class 'shared.schema.graph.GraphProperty'>, drop extra fields: True\n",
      "[2022-02-12 22:07:47,962][simple_parsing.helpers.serialization.decoding][DEBUG] name = dtype, field_type = <class 'shared.schema.graph.DType'>\n",
      "[2022-02-12 22:07:47,963][simple_parsing.helpers.serialization.serializable][DEBUG] from_dict for <class 'shared.schema.graph.GraphProperty'>, drop extra fields: True\n",
      "[2022-02-12 22:07:47,964][simple_parsing.helpers.serialization.decoding][DEBUG] name = dtype, field_type = <class 'shared.schema.graph.DType'>\n",
      "[2022-02-12 22:07:47,965][simple_parsing.helpers.serialization.serializable][DEBUG] from_dict for <class 'shared.schema.graph.GraphProperty'>, drop extra fields: True\n",
      "[2022-02-12 22:07:47,965][simple_parsing.helpers.serialization.decoding][DEBUG] name = dtype, field_type = <class 'shared.schema.graph.DType'>\n",
      "[2022-02-12 22:07:47,966][simple_parsing.helpers.serialization.serializable][DEBUG] from_dict for <class 'shared.schema.graph.GraphProperty'>, drop extra fields: True\n",
      "[2022-02-12 22:07:47,967][simple_parsing.helpers.serialization.decoding][DEBUG] name = dtype, field_type = <class 'shared.schema.graph.DType'>\n",
      "[2022-02-12 22:07:47,967][simple_parsing.helpers.serialization.serializable][DEBUG] from_dict for <class 'shared.schema.graph.GraphProperty'>, drop extra fields: True\n",
      "[2022-02-12 22:07:47,968][simple_parsing.helpers.serialization.decoding][DEBUG] name = dtype, field_type = <class 'shared.schema.graph.DType'>\n",
      "[2022-02-12 22:07:47,969][simple_parsing.helpers.serialization.serializable][DEBUG] from_dict for <class 'shared.schema.graph.GraphProperty'>, drop extra fields: True\n",
      "[2022-02-12 22:07:47,969][simple_parsing.helpers.serialization.decoding][DEBUG] name = dtype, field_type = <class 'shared.schema.graph.DType'>\n",
      "[2022-02-12 22:07:47,970][simple_parsing.helpers.serialization.serializable][DEBUG] from_dict for <class 'shared.schema.graph.GraphProperty'>, drop extra fields: True\n",
      "[2022-02-12 22:07:47,971][simple_parsing.helpers.serialization.decoding][DEBUG] name = dtype, field_type = <class 'shared.schema.graph.DType'>\n",
      "[2022-02-12 22:07:47,971][simple_parsing.helpers.serialization.serializable][DEBUG] from_dict for <class 'shared.schema.graph.GraphProperty'>, drop extra fields: True\n",
      "[2022-02-12 22:07:47,972][simple_parsing.helpers.serialization.decoding][DEBUG] name = dtype, field_type = <class 'shared.schema.graph.DType'>\n",
      "[2022-02-12 22:07:47,973][simple_parsing.helpers.serialization.serializable][DEBUG] from_dict for <class 'shared.schema.graph.GraphProperty'>, drop extra fields: True\n",
      "[2022-02-12 22:07:47,974][simple_parsing.helpers.serialization.decoding][DEBUG] name = dtype, field_type = <class 'shared.schema.graph.DType'>\n",
      "[2022-02-12 22:07:47,974][simple_parsing.helpers.serialization.serializable][DEBUG] from_dict for <class 'shared.schema.graph.GraphProperty'>, drop extra fields: True\n",
      "[2022-02-12 22:07:47,975][simple_parsing.helpers.serialization.decoding][DEBUG] name = dtype, field_type = <class 'shared.schema.graph.DType'>\n",
      "[2022-02-12 22:07:47,976][simple_parsing.helpers.serialization.serializable][DEBUG] from_dict for <class 'shared.schema.graph.GraphProperty'>, drop extra fields: True\n",
      "[2022-02-12 22:07:47,976][simple_parsing.helpers.serialization.decoding][DEBUG] name = dtype, field_type = <class 'shared.schema.graph.DType'>\n",
      "[2022-02-12 22:07:47,977][simple_parsing.helpers.serialization.serializable][DEBUG] from_dict for <class 'shared.schema.graph.GraphProperty'>, drop extra fields: True\n",
      "[2022-02-12 22:07:47,978][simple_parsing.helpers.serialization.decoding][DEBUG] name = dtype, field_type = <class 'shared.schema.graph.DType'>\n",
      "[2022-02-12 22:07:47,979][simple_parsing.helpers.serialization.serializable][DEBUG] from_dict for <class 'shared.schema.graph.GraphProperty'>, drop extra fields: True\n",
      "[2022-02-12 22:07:47,979][simple_parsing.helpers.serialization.decoding][DEBUG] name = dtype, field_type = <class 'shared.schema.graph.DType'>\n",
      "[2022-02-12 22:07:47,980][simple_parsing.helpers.serialization.serializable][DEBUG] from_dict for <class 'shared.schema.graph.GraphProperty'>, drop extra fields: True\n",
      "[2022-02-12 22:07:47,981][simple_parsing.helpers.serialization.decoding][DEBUG] name = dtype, field_type = <class 'shared.schema.graph.DType'>\n",
      "[2022-02-12 22:07:47,982][simple_parsing.helpers.serialization.serializable][DEBUG] from_dict for <class 'shared.schema.graph.GraphProperty'>, drop extra fields: True\n",
      "[2022-02-12 22:07:47,982][simple_parsing.helpers.serialization.decoding][DEBUG] name = dtype, field_type = <class 'shared.schema.graph.DType'>\n",
      "[2022-02-12 22:07:47,983][simple_parsing.helpers.serialization.serializable][DEBUG] from_dict for <class 'shared.schema.graph.GraphProperty'>, drop extra fields: True\n",
      "[2022-02-12 22:07:47,984][simple_parsing.helpers.serialization.decoding][DEBUG] name = dtype, field_type = <class 'shared.schema.graph.DType'>\n",
      "[2022-02-12 22:07:47,985][simple_parsing.helpers.serialization.serializable][DEBUG] from_dict for <class 'shared.schema.graph.GraphProperty'>, drop extra fields: True\n",
      "[2022-02-12 22:07:47,985][simple_parsing.helpers.serialization.decoding][DEBUG] name = dtype, field_type = <class 'shared.schema.graph.DType'>\n",
      "[2022-02-12 22:07:47,986][simple_parsing.helpers.serialization.serializable][DEBUG] from_dict for <class 'shared.schema.graph.GraphProperty'>, drop extra fields: True\n",
      "[2022-02-12 22:07:47,987][simple_parsing.helpers.serialization.decoding][DEBUG] name = dtype, field_type = <class 'shared.schema.graph.DType'>\n",
      "[2022-02-12 22:07:47,988][simple_parsing.helpers.serialization.serializable][DEBUG] from_dict for <class 'shared.schema.graph.GraphProperty'>, drop extra fields: True\n",
      "[2022-02-12 22:07:47,989][simple_parsing.helpers.serialization.decoding][DEBUG] name = dtype, field_type = <class 'shared.schema.graph.DType'>\n",
      "[2022-02-12 22:07:47,989][simple_parsing.helpers.serialization.serializable][DEBUG] from_dict for <class 'shared.schema.graph.GraphProperty'>, drop extra fields: True\n",
      "[2022-02-12 22:07:47,990][simple_parsing.helpers.serialization.decoding][DEBUG] name = dtype, field_type = <class 'shared.schema.graph.DType'>\n",
      "[2022-02-12 22:07:47,991][simple_parsing.helpers.serialization.serializable][DEBUG] from_dict for <class 'shared.schema.graph.GraphProperty'>, drop extra fields: True\n",
      "[2022-02-12 22:07:47,992][simple_parsing.helpers.serialization.decoding][DEBUG] name = dtype, field_type = <class 'shared.schema.graph.DType'>\n",
      "[2022-02-12 22:07:47,992][simple_parsing.helpers.serialization.serializable][DEBUG] from_dict for <class 'shared.schema.graph.GraphProperty'>, drop extra fields: True\n",
      "[2022-02-12 22:07:47,993][simple_parsing.helpers.serialization.decoding][DEBUG] name = dtype, field_type = <class 'shared.schema.graph.DType'>\n",
      "[2022-02-12 22:07:47,994][simple_parsing.helpers.serialization.serializable][DEBUG] from_dict for <class 'shared.schema.graph.GraphProperty'>, drop extra fields: True\n",
      "[2022-02-12 22:07:47,995][simple_parsing.helpers.serialization.decoding][DEBUG] name = dtype, field_type = <class 'shared.schema.graph.DType'>\n",
      "[2022-02-12 22:07:47,995][simple_parsing.helpers.serialization.serializable][DEBUG] from_dict for <class 'shared.schema.graph.GraphProperty'>, drop extra fields: True\n",
      "[2022-02-12 22:07:48,002][simple_parsing.helpers.serialization.decoding][DEBUG] name = dtype, field_type = <class 'shared.schema.graph.DType'>\n",
      "[2022-02-12 22:07:48,002][simple_parsing.helpers.serialization.serializable][DEBUG] from_dict for <class 'shared.schema.graph.GraphProperty'>, drop extra fields: True\n",
      "[2022-02-12 22:07:48,003][simple_parsing.helpers.serialization.decoding][DEBUG] name = dtype, field_type = <class 'shared.schema.graph.DType'>\n",
      "[2022-02-12 22:07:48,004][simple_parsing.helpers.serialization.serializable][DEBUG] from_dict for <class 'shared.schema.graph.GraphProperty'>, drop extra fields: True\n",
      "[2022-02-12 22:07:48,004][simple_parsing.helpers.serialization.decoding][DEBUG] name = dtype, field_type = <class 'shared.schema.graph.DType'>\n",
      "[2022-02-12 22:07:48,005][simple_parsing.helpers.serialization.serializable][DEBUG] from_dict for <class 'shared.schema.graph.GraphProperty'>, drop extra fields: True\n",
      "[2022-02-12 22:07:48,005][simple_parsing.helpers.serialization.decoding][DEBUG] name = dtype, field_type = <class 'shared.schema.graph.DType'>\n",
      "[2022-02-12 22:07:48,006][simple_parsing.helpers.serialization.serializable][DEBUG] from_dict for <class 'shared.schema.graph.GraphProperty'>, drop extra fields: True\n",
      "[2022-02-12 22:07:48,006][simple_parsing.helpers.serialization.decoding][DEBUG] name = dtype, field_type = <class 'shared.schema.graph.DType'>\n",
      "[2022-02-12 22:07:48,007][simple_parsing.helpers.serialization.serializable][DEBUG] from_dict for <class 'shared.schema.graph.GraphProperty'>, drop extra fields: True\n",
      "[2022-02-12 22:07:48,007][simple_parsing.helpers.serialization.decoding][DEBUG] name = dtype, field_type = <class 'shared.schema.graph.DType'>\n",
      "[2022-02-12 22:07:48,008][simple_parsing.helpers.serialization.serializable][DEBUG] from_dict for <class 'shared.schema.graph.GraphProperty'>, drop extra fields: True\n",
      "[2022-02-12 22:07:48,009][simple_parsing.helpers.serialization.decoding][DEBUG] name = dtype, field_type = <class 'shared.schema.graph.DType'>\n",
      "[2022-02-12 22:07:48,009][simple_parsing.helpers.serialization.serializable][DEBUG] from_dict for <class 'shared.schema.graph.GraphProperty'>, drop extra fields: True\n",
      "[2022-02-12 22:07:48,010][simple_parsing.helpers.serialization.decoding][DEBUG] name = dtype, field_type = <class 'shared.schema.graph.DType'>\n",
      "[2022-02-12 22:07:48,010][simple_parsing.helpers.serialization.serializable][DEBUG] from_dict for <class 'shared.schema.graph.GraphProperty'>, drop extra fields: True\n",
      "[2022-02-12 22:07:48,011][simple_parsing.helpers.serialization.decoding][DEBUG] name = dtype, field_type = <class 'shared.schema.graph.DType'>\n",
      "[2022-02-12 22:07:48,014][simple_parsing.helpers.serialization.serializable][DEBUG] from_dict for <class 'shared.schema.graph.GraphProperty'>, drop extra fields: True\n",
      "[2022-02-12 22:07:48,015][simple_parsing.helpers.serialization.decoding][DEBUG] name = dtype, field_type = <class 'shared.schema.graph.DType'>\n",
      "[2022-02-12 22:07:48,016][simple_parsing.helpers.serialization.serializable][DEBUG] from_dict for <class 'shared.schema.graph.GraphProperty'>, drop extra fields: True\n",
      "[2022-02-12 22:07:48,017][simple_parsing.helpers.serialization.decoding][DEBUG] name = dtype, field_type = <class 'shared.schema.graph.DType'>\n",
      "[2022-02-12 22:07:48,017][simple_parsing.helpers.serialization.serializable][DEBUG] from_dict for <class 'shared.schema.graph.GraphProperty'>, drop extra fields: True\n",
      "[2022-02-12 22:07:48,018][simple_parsing.helpers.serialization.decoding][DEBUG] name = dtype, field_type = <class 'shared.schema.graph.DType'>\n",
      "[2022-02-12 22:07:48,020][simple_parsing.helpers.serialization.decoding][DEBUG] name = edges, field_type = typing.Dict[str, shared.schema.graph.EdgeSchema]\n",
      "[2022-02-12 22:07:48,020][simple_parsing.helpers.serialization.serializable][DEBUG] from_dict for <class 'shared.schema.graph.EdgeSchema'>, drop extra fields: True\n",
      "[2022-02-12 22:07:48,021][simple_parsing.helpers.serialization.decoding][DEBUG] name = properties, field_type = typing.Dict[str, shared.schema.graph.GraphProperty]\n",
      "[2022-02-12 22:07:48,023][simple_parsing.helpers.serialization.serializable][DEBUG] from_dict for <class 'shared.schema.graph.GraphProperty'>, drop extra fields: True\n",
      "[2022-02-12 22:07:48,024][simple_parsing.helpers.serialization.decoding][DEBUG] name = dtype, field_type = <class 'shared.schema.graph.DType'>\n",
      "[2022-02-12 22:07:48,025][simple_parsing.helpers.serialization.serializable][DEBUG] from_dict for <class 'shared.schema.graph.GraphProperty'>, drop extra fields: True\n",
      "[2022-02-12 22:07:48,026][simple_parsing.helpers.serialization.decoding][DEBUG] name = dtype, field_type = <class 'shared.schema.graph.DType'>\n",
      "[2022-02-12 22:07:48,027][simple_parsing.helpers.serialization.serializable][DEBUG] from_dict for <class 'shared.schema.graph.GraphProperty'>, drop extra fields: True\n",
      "[2022-02-12 22:07:48,028][simple_parsing.helpers.serialization.decoding][DEBUG] name = dtype, field_type = <class 'shared.schema.graph.DType'>\n",
      "[2022-02-12 22:07:48,029][simple_parsing.helpers.serialization.serializable][DEBUG] from_dict for <class 'shared.schema.graph.GraphProperty'>, drop extra fields: True\n",
      "[2022-02-12 22:07:48,030][simple_parsing.helpers.serialization.decoding][DEBUG] name = dtype, field_type = <class 'shared.schema.graph.DType'>\n",
      "[2022-02-12 22:07:48,031][simple_parsing.helpers.serialization.decoding][DEBUG] name = dynamic, field_type = typing.Optional[shared.schema.graph.DynamicConfig]\n",
      "[2022-02-12 22:07:48,031][simple_parsing.helpers.serialization.serializable][DEBUG] from_dict for <class 'shared.schema.graph.DynamicConfig'>, drop extra fields: True\n",
      "[2022-02-12 22:07:48,032][simple_parsing.helpers.serialization.decoding][DEBUG] name = timestamp, field_type = <class 'str'>\n",
      "[2022-02-12 22:07:48,033][simple_parsing.helpers.serialization.decoding][DEBUG] name = interaction, field_type = <class 'bool'>\n",
      "[2022-02-12 22:07:48,034][simple_parsing.helpers.serialization.decoding][DEBUG] name = source_type, field_type = <class 'str'>\n",
      "[2022-02-12 22:07:48,035][simple_parsing.helpers.serialization.decoding][DEBUG] name = target_type, field_type = <class 'str'>\n",
      "[2022-02-12 22:07:48,035][simple_parsing.helpers.serialization.decoding][DEBUG] name = directed, field_type = <class 'bool'>\n",
      "[2022-02-12 22:07:48,036][simple_parsing.helpers.serialization.serializable][DEBUG] from_dict for <class 'shared.schema.graph.EdgeSchema'>, drop extra fields: True\n",
      "[2022-02-12 22:07:48,037][simple_parsing.helpers.serialization.decoding][DEBUG] name = properties, field_type = typing.Dict[str, shared.schema.graph.GraphProperty]\n",
      "[2022-02-12 22:07:48,041][simple_parsing.helpers.serialization.serializable][DEBUG] from_dict for <class 'shared.schema.graph.GraphProperty'>, drop extra fields: True\n",
      "[2022-02-12 22:07:48,041][simple_parsing.helpers.serialization.decoding][DEBUG] name = dtype, field_type = <class 'shared.schema.graph.DType'>\n",
      "[2022-02-12 22:07:48,042][simple_parsing.helpers.serialization.serializable][DEBUG] from_dict for <class 'shared.schema.graph.GraphProperty'>, drop extra fields: True\n",
      "[2022-02-12 22:07:48,043][simple_parsing.helpers.serialization.decoding][DEBUG] name = dtype, field_type = <class 'shared.schema.graph.DType'>\n",
      "[2022-02-12 22:07:48,044][simple_parsing.helpers.serialization.serializable][DEBUG] from_dict for <class 'shared.schema.graph.GraphProperty'>, drop extra fields: True\n",
      "[2022-02-12 22:07:48,045][simple_parsing.helpers.serialization.decoding][DEBUG] name = dtype, field_type = <class 'shared.schema.graph.DType'>\n",
      "[2022-02-12 22:07:48,046][simple_parsing.helpers.serialization.serializable][DEBUG] from_dict for <class 'shared.schema.graph.GraphProperty'>, drop extra fields: True\n",
      "[2022-02-12 22:07:48,047][simple_parsing.helpers.serialization.decoding][DEBUG] name = dtype, field_type = <class 'shared.schema.graph.DType'>\n",
      "[2022-02-12 22:07:48,047][simple_parsing.helpers.serialization.decoding][DEBUG] name = dynamic, field_type = typing.Optional[shared.schema.graph.DynamicConfig]\n",
      "[2022-02-12 22:07:48,048][simple_parsing.helpers.serialization.serializable][DEBUG] from_dict for <class 'shared.schema.graph.DynamicConfig'>, drop extra fields: True\n",
      "[2022-02-12 22:07:48,049][simple_parsing.helpers.serialization.decoding][DEBUG] name = timestamp, field_type = <class 'str'>\n",
      "[2022-02-12 22:07:48,050][simple_parsing.helpers.serialization.decoding][DEBUG] name = interaction, field_type = <class 'bool'>\n",
      "[2022-02-12 22:07:48,051][simple_parsing.helpers.serialization.decoding][DEBUG] name = source_type, field_type = <class 'str'>\n",
      "[2022-02-12 22:07:48,051][simple_parsing.helpers.serialization.decoding][DEBUG] name = target_type, field_type = <class 'str'>\n",
      "[2022-02-12 22:07:48,052][simple_parsing.helpers.serialization.decoding][DEBUG] name = directed, field_type = <class 'bool'>\n",
      "[2022-02-12 22:07:48,142][export_to_visualization.py][INFO] Adding prediction /data/pella/projects/University/Thesis/Thesis/code/storage/results/analysis/pyg-hgt-comopt-contrastive/schema.comlist as prediction_0\n",
      "[2022-02-12 22:07:48,146][export_to_visualization.py][INFO] Writing /data/pella/projects/University/Thesis/Thesis/code/storage/datasets/export/star-wars/versions/base/schema.graphml\n"
     ]
    }
   ],
   "source": [
    "export_to_visualization.run(\n",
    "    export_to_visualization.Args(\n",
    "        dataset='star-wars',\n",
    "        version='base',\n",
    "        run_paths=[str(save_path)]\n",
    "    )\n",
    ")"
   ],
   "metadata": {
    "collapsed": false,
    "pycharm": {
     "name": "#%%\n"
    }
   }
  },
  {
   "cell_type": "code",
   "execution_count": 19,
   "outputs": [
    {
     "name": "stdout",
     "output_type": "stream",
     "text": [
      "[2022-02-12 22:07:48,163][simple_parsing.helpers.serialization.serializable][DEBUG] from_dict for <class 'shared.schema.dataset.DatasetSchema'>, drop extra fields: True\n",
      "[2022-02-12 22:07:48,164][simple_parsing.helpers.serialization.decoding][DEBUG] name = name, field_type = <class 'str'>\n",
      "[2022-02-12 22:07:48,164][simple_parsing.helpers.serialization.decoding][DEBUG] name = database, field_type = <class 'str'>\n",
      "[2022-02-12 22:07:48,164][simple_parsing.helpers.serialization.decoding][DEBUG] name = description, field_type = <class 'str'>\n",
      "[2022-02-12 22:07:48,165][simple_parsing.helpers.serialization.decoding][DEBUG] name = versions, field_type = typing.Dict[str, shared.schema.dataset.DatasetVersion]\n",
      "[2022-02-12 22:07:48,165][simple_parsing.helpers.serialization.serializable][DEBUG] from_dict for <class 'shared.schema.dataset.DatasetVersion'>, drop extra fields: True\n",
      "[2022-02-12 22:07:48,166][simple_parsing.helpers.serialization.decoding][DEBUG] name = type, field_type = <enum 'DatasetVersionType'>\n",
      "[2022-02-12 22:07:48,166][simple_parsing.helpers.serialization.decoding][DEBUG] name = parameters, field_type = typing.Dict[str, typing.Any]\n",
      "[2022-02-12 22:07:48,166][simple_parsing.helpers.serialization.serializable][DEBUG] from_dict for <class 'shared.schema.dataset.DatasetVersion'>, drop extra fields: True\n",
      "[2022-02-12 22:07:48,167][simple_parsing.helpers.serialization.decoding][DEBUG] name = type, field_type = <enum 'DatasetVersionType'>\n",
      "[2022-02-12 22:07:48,167][simple_parsing.helpers.serialization.decoding][DEBUG] name = parameters, field_type = typing.Dict[str, typing.Any]\n",
      "[2022-02-12 22:07:48,167][simple_parsing.helpers.serialization.serializable][DEBUG] from_dict for <class 'shared.schema.dataset.DatasetVersion'>, drop extra fields: True\n",
      "[2022-02-12 22:07:48,168][simple_parsing.helpers.serialization.decoding][DEBUG] name = type, field_type = <enum 'DatasetVersionType'>\n",
      "[2022-02-12 22:07:48,168][simple_parsing.helpers.serialization.decoding][DEBUG] name = parameters, field_type = typing.Dict[str, typing.Any]\n",
      "[2022-02-12 22:07:48,168][simple_parsing.helpers.serialization.decoding][DEBUG] name = tags, field_type = typing.List[str]\n",
      "[2022-02-12 22:07:48,185][simple_parsing.helpers.serialization.serializable][DEBUG] from_dict for <class 'shared.schema.graph.GraphSchema'>, drop extra fields: True\n",
      "[2022-02-12 22:07:48,186][simple_parsing.helpers.serialization.decoding][DEBUG] name = nodes, field_type = typing.Dict[str, shared.schema.graph.NodeSchema]\n",
      "[2022-02-12 22:07:48,186][simple_parsing.helpers.serialization.serializable][DEBUG] from_dict for <class 'shared.schema.graph.NodeSchema'>, drop extra fields: True\n",
      "[2022-02-12 22:07:48,187][simple_parsing.helpers.serialization.decoding][DEBUG] name = label, field_type = <class 'str'>\n",
      "[2022-02-12 22:07:48,187][simple_parsing.helpers.serialization.decoding][DEBUG] name = properties, field_type = typing.Dict[str, shared.schema.graph.GraphProperty]\n",
      "[2022-02-12 22:07:48,187][simple_parsing.helpers.serialization.serializable][DEBUG] from_dict for <class 'shared.schema.graph.GraphProperty'>, drop extra fields: True\n",
      "[2022-02-12 22:07:48,188][simple_parsing.helpers.serialization.decoding][DEBUG] name = dtype, field_type = <class 'shared.schema.graph.DType'>\n",
      "[2022-02-12 22:07:48,188][simple_parsing.helpers.serialization.serializable][DEBUG] from_dict for <class 'shared.schema.graph.GraphProperty'>, drop extra fields: True\n",
      "[2022-02-12 22:07:48,188][simple_parsing.helpers.serialization.decoding][DEBUG] name = dtype, field_type = <class 'shared.schema.graph.DType'>\n",
      "[2022-02-12 22:07:48,189][simple_parsing.helpers.serialization.serializable][DEBUG] from_dict for <class 'shared.schema.graph.GraphProperty'>, drop extra fields: True\n",
      "[2022-02-12 22:07:48,189][simple_parsing.helpers.serialization.decoding][DEBUG] name = dtype, field_type = <class 'shared.schema.graph.DType'>\n",
      "[2022-02-12 22:07:48,189][simple_parsing.helpers.serialization.serializable][DEBUG] from_dict for <class 'shared.schema.graph.GraphProperty'>, drop extra fields: True\n",
      "[2022-02-12 22:07:48,190][simple_parsing.helpers.serialization.decoding][DEBUG] name = dtype, field_type = <class 'shared.schema.graph.DType'>\n",
      "[2022-02-12 22:07:48,190][simple_parsing.helpers.serialization.serializable][DEBUG] from_dict for <class 'shared.schema.graph.GraphProperty'>, drop extra fields: True\n",
      "[2022-02-12 22:07:48,190][simple_parsing.helpers.serialization.decoding][DEBUG] name = dtype, field_type = <class 'shared.schema.graph.DType'>\n",
      "[2022-02-12 22:07:48,191][simple_parsing.helpers.serialization.serializable][DEBUG] from_dict for <class 'shared.schema.graph.GraphProperty'>, drop extra fields: True\n",
      "[2022-02-12 22:07:48,191][simple_parsing.helpers.serialization.decoding][DEBUG] name = dtype, field_type = <class 'shared.schema.graph.DType'>\n",
      "[2022-02-12 22:07:48,191][simple_parsing.helpers.serialization.serializable][DEBUG] from_dict for <class 'shared.schema.graph.GraphProperty'>, drop extra fields: True\n",
      "[2022-02-12 22:07:48,192][simple_parsing.helpers.serialization.decoding][DEBUG] name = dtype, field_type = <class 'shared.schema.graph.DType'>\n",
      "[2022-02-12 22:07:48,192][simple_parsing.helpers.serialization.serializable][DEBUG] from_dict for <class 'shared.schema.graph.GraphProperty'>, drop extra fields: True\n",
      "[2022-02-12 22:07:48,192][simple_parsing.helpers.serialization.decoding][DEBUG] name = dtype, field_type = <class 'shared.schema.graph.DType'>\n",
      "[2022-02-12 22:07:48,193][simple_parsing.helpers.serialization.serializable][DEBUG] from_dict for <class 'shared.schema.graph.GraphProperty'>, drop extra fields: True\n",
      "[2022-02-12 22:07:48,193][simple_parsing.helpers.serialization.decoding][DEBUG] name = dtype, field_type = <class 'shared.schema.graph.DType'>\n",
      "[2022-02-12 22:07:48,193][simple_parsing.helpers.serialization.serializable][DEBUG] from_dict for <class 'shared.schema.graph.GraphProperty'>, drop extra fields: True\n",
      "[2022-02-12 22:07:48,194][simple_parsing.helpers.serialization.decoding][DEBUG] name = dtype, field_type = <class 'shared.schema.graph.DType'>\n",
      "[2022-02-12 22:07:48,194][simple_parsing.helpers.serialization.serializable][DEBUG] from_dict for <class 'shared.schema.graph.GraphProperty'>, drop extra fields: True\n",
      "[2022-02-12 22:07:48,195][simple_parsing.helpers.serialization.decoding][DEBUG] name = dtype, field_type = <class 'shared.schema.graph.DType'>\n",
      "[2022-02-12 22:07:48,197][simple_parsing.helpers.serialization.serializable][DEBUG] from_dict for <class 'shared.schema.graph.GraphProperty'>, drop extra fields: True\n",
      "[2022-02-12 22:07:48,198][simple_parsing.helpers.serialization.decoding][DEBUG] name = dtype, field_type = <class 'shared.schema.graph.DType'>\n",
      "[2022-02-12 22:07:48,199][simple_parsing.helpers.serialization.serializable][DEBUG] from_dict for <class 'shared.schema.graph.GraphProperty'>, drop extra fields: True\n",
      "[2022-02-12 22:07:48,199][simple_parsing.helpers.serialization.decoding][DEBUG] name = dtype, field_type = <class 'shared.schema.graph.DType'>\n",
      "[2022-02-12 22:07:48,200][simple_parsing.helpers.serialization.serializable][DEBUG] from_dict for <class 'shared.schema.graph.GraphProperty'>, drop extra fields: True\n",
      "[2022-02-12 22:07:48,200][simple_parsing.helpers.serialization.decoding][DEBUG] name = dtype, field_type = <class 'shared.schema.graph.DType'>\n",
      "[2022-02-12 22:07:48,201][simple_parsing.helpers.serialization.serializable][DEBUG] from_dict for <class 'shared.schema.graph.GraphProperty'>, drop extra fields: True\n",
      "[2022-02-12 22:07:48,202][simple_parsing.helpers.serialization.decoding][DEBUG] name = dtype, field_type = <class 'shared.schema.graph.DType'>\n",
      "[2022-02-12 22:07:48,202][simple_parsing.helpers.serialization.serializable][DEBUG] from_dict for <class 'shared.schema.graph.GraphProperty'>, drop extra fields: True\n",
      "[2022-02-12 22:07:48,203][simple_parsing.helpers.serialization.decoding][DEBUG] name = dtype, field_type = <class 'shared.schema.graph.DType'>\n",
      "[2022-02-12 22:07:48,204][simple_parsing.helpers.serialization.serializable][DEBUG] from_dict for <class 'shared.schema.graph.GraphProperty'>, drop extra fields: True\n",
      "[2022-02-12 22:07:48,205][simple_parsing.helpers.serialization.decoding][DEBUG] name = dtype, field_type = <class 'shared.schema.graph.DType'>\n",
      "[2022-02-12 22:07:48,205][simple_parsing.helpers.serialization.serializable][DEBUG] from_dict for <class 'shared.schema.graph.GraphProperty'>, drop extra fields: True\n",
      "[2022-02-12 22:07:48,206][simple_parsing.helpers.serialization.decoding][DEBUG] name = dtype, field_type = <class 'shared.schema.graph.DType'>\n",
      "[2022-02-12 22:07:48,206][simple_parsing.helpers.serialization.serializable][DEBUG] from_dict for <class 'shared.schema.graph.GraphProperty'>, drop extra fields: True\n",
      "[2022-02-12 22:07:48,207][simple_parsing.helpers.serialization.decoding][DEBUG] name = dtype, field_type = <class 'shared.schema.graph.DType'>\n",
      "[2022-02-12 22:07:48,207][simple_parsing.helpers.serialization.serializable][DEBUG] from_dict for <class 'shared.schema.graph.GraphProperty'>, drop extra fields: True\n",
      "[2022-02-12 22:07:48,208][simple_parsing.helpers.serialization.decoding][DEBUG] name = dtype, field_type = <class 'shared.schema.graph.DType'>\n",
      "[2022-02-12 22:07:48,209][simple_parsing.helpers.serialization.serializable][DEBUG] from_dict for <class 'shared.schema.graph.GraphProperty'>, drop extra fields: True\n",
      "[2022-02-12 22:07:48,209][simple_parsing.helpers.serialization.decoding][DEBUG] name = dtype, field_type = <class 'shared.schema.graph.DType'>\n",
      "[2022-02-12 22:07:48,210][simple_parsing.helpers.serialization.serializable][DEBUG] from_dict for <class 'shared.schema.graph.GraphProperty'>, drop extra fields: True\n",
      "[2022-02-12 22:07:48,211][simple_parsing.helpers.serialization.decoding][DEBUG] name = dtype, field_type = <class 'shared.schema.graph.DType'>\n",
      "[2022-02-12 22:07:48,212][simple_parsing.helpers.serialization.serializable][DEBUG] from_dict for <class 'shared.schema.graph.GraphProperty'>, drop extra fields: True\n",
      "[2022-02-12 22:07:48,212][simple_parsing.helpers.serialization.decoding][DEBUG] name = dtype, field_type = <class 'shared.schema.graph.DType'>\n",
      "[2022-02-12 22:07:48,213][simple_parsing.helpers.serialization.serializable][DEBUG] from_dict for <class 'shared.schema.graph.GraphProperty'>, drop extra fields: True\n",
      "[2022-02-12 22:07:48,213][simple_parsing.helpers.serialization.decoding][DEBUG] name = dtype, field_type = <class 'shared.schema.graph.DType'>\n",
      "[2022-02-12 22:07:48,214][simple_parsing.helpers.serialization.serializable][DEBUG] from_dict for <class 'shared.schema.graph.GraphProperty'>, drop extra fields: True\n",
      "[2022-02-12 22:07:48,215][simple_parsing.helpers.serialization.decoding][DEBUG] name = dtype, field_type = <class 'shared.schema.graph.DType'>\n",
      "[2022-02-12 22:07:48,215][simple_parsing.helpers.serialization.serializable][DEBUG] from_dict for <class 'shared.schema.graph.GraphProperty'>, drop extra fields: True\n",
      "[2022-02-12 22:07:48,216][simple_parsing.helpers.serialization.decoding][DEBUG] name = dtype, field_type = <class 'shared.schema.graph.DType'>\n",
      "[2022-02-12 22:07:48,217][simple_parsing.helpers.serialization.serializable][DEBUG] from_dict for <class 'shared.schema.graph.GraphProperty'>, drop extra fields: True\n",
      "[2022-02-12 22:07:48,217][simple_parsing.helpers.serialization.decoding][DEBUG] name = dtype, field_type = <class 'shared.schema.graph.DType'>\n",
      "[2022-02-12 22:07:48,218][simple_parsing.helpers.serialization.serializable][DEBUG] from_dict for <class 'shared.schema.graph.GraphProperty'>, drop extra fields: True\n",
      "[2022-02-12 22:07:48,218][simple_parsing.helpers.serialization.decoding][DEBUG] name = dtype, field_type = <class 'shared.schema.graph.DType'>\n",
      "[2022-02-12 22:07:48,219][simple_parsing.helpers.serialization.serializable][DEBUG] from_dict for <class 'shared.schema.graph.GraphProperty'>, drop extra fields: True\n",
      "[2022-02-12 22:07:48,219][simple_parsing.helpers.serialization.decoding][DEBUG] name = dtype, field_type = <class 'shared.schema.graph.DType'>\n",
      "[2022-02-12 22:07:48,220][simple_parsing.helpers.serialization.serializable][DEBUG] from_dict for <class 'shared.schema.graph.GraphProperty'>, drop extra fields: True\n",
      "[2022-02-12 22:07:48,221][simple_parsing.helpers.serialization.decoding][DEBUG] name = dtype, field_type = <class 'shared.schema.graph.DType'>\n",
      "[2022-02-12 22:07:48,222][simple_parsing.helpers.serialization.serializable][DEBUG] from_dict for <class 'shared.schema.graph.GraphProperty'>, drop extra fields: True\n",
      "[2022-02-12 22:07:48,222][simple_parsing.helpers.serialization.decoding][DEBUG] name = dtype, field_type = <class 'shared.schema.graph.DType'>\n",
      "[2022-02-12 22:07:48,223][simple_parsing.helpers.serialization.serializable][DEBUG] from_dict for <class 'shared.schema.graph.GraphProperty'>, drop extra fields: True\n",
      "[2022-02-12 22:07:48,223][simple_parsing.helpers.serialization.decoding][DEBUG] name = dtype, field_type = <class 'shared.schema.graph.DType'>\n",
      "[2022-02-12 22:07:48,224][simple_parsing.helpers.serialization.serializable][DEBUG] from_dict for <class 'shared.schema.graph.GraphProperty'>, drop extra fields: True\n",
      "[2022-02-12 22:07:48,225][simple_parsing.helpers.serialization.decoding][DEBUG] name = dtype, field_type = <class 'shared.schema.graph.DType'>\n",
      "[2022-02-12 22:07:48,225][simple_parsing.helpers.serialization.serializable][DEBUG] from_dict for <class 'shared.schema.graph.GraphProperty'>, drop extra fields: True\n",
      "[2022-02-12 22:07:48,226][simple_parsing.helpers.serialization.decoding][DEBUG] name = dtype, field_type = <class 'shared.schema.graph.DType'>\n",
      "[2022-02-12 22:07:48,227][simple_parsing.helpers.serialization.serializable][DEBUG] from_dict for <class 'shared.schema.graph.GraphProperty'>, drop extra fields: True\n",
      "[2022-02-12 22:07:48,228][simple_parsing.helpers.serialization.decoding][DEBUG] name = dtype, field_type = <class 'shared.schema.graph.DType'>\n",
      "[2022-02-12 22:07:48,229][simple_parsing.helpers.serialization.serializable][DEBUG] from_dict for <class 'shared.schema.graph.GraphProperty'>, drop extra fields: True\n",
      "[2022-02-12 22:07:48,230][simple_parsing.helpers.serialization.decoding][DEBUG] name = dtype, field_type = <class 'shared.schema.graph.DType'>\n",
      "[2022-02-12 22:07:48,231][simple_parsing.helpers.serialization.serializable][DEBUG] from_dict for <class 'shared.schema.graph.GraphProperty'>, drop extra fields: True\n",
      "[2022-02-12 22:07:48,233][simple_parsing.helpers.serialization.decoding][DEBUG] name = dtype, field_type = <class 'shared.schema.graph.DType'>\n",
      "[2022-02-12 22:07:48,233][simple_parsing.helpers.serialization.serializable][DEBUG] from_dict for <class 'shared.schema.graph.GraphProperty'>, drop extra fields: True\n",
      "[2022-02-12 22:07:48,234][simple_parsing.helpers.serialization.decoding][DEBUG] name = dtype, field_type = <class 'shared.schema.graph.DType'>\n",
      "[2022-02-12 22:07:48,235][simple_parsing.helpers.serialization.serializable][DEBUG] from_dict for <class 'shared.schema.graph.GraphProperty'>, drop extra fields: True\n",
      "[2022-02-12 22:07:48,236][simple_parsing.helpers.serialization.decoding][DEBUG] name = dtype, field_type = <class 'shared.schema.graph.DType'>\n",
      "[2022-02-12 22:07:48,237][simple_parsing.helpers.serialization.serializable][DEBUG] from_dict for <class 'shared.schema.graph.GraphProperty'>, drop extra fields: True\n",
      "[2022-02-12 22:07:48,238][simple_parsing.helpers.serialization.decoding][DEBUG] name = dtype, field_type = <class 'shared.schema.graph.DType'>\n",
      "[2022-02-12 22:07:48,238][simple_parsing.helpers.serialization.serializable][DEBUG] from_dict for <class 'shared.schema.graph.GraphProperty'>, drop extra fields: True\n",
      "[2022-02-12 22:07:48,239][simple_parsing.helpers.serialization.decoding][DEBUG] name = dtype, field_type = <class 'shared.schema.graph.DType'>\n",
      "[2022-02-12 22:07:48,240][simple_parsing.helpers.serialization.serializable][DEBUG] from_dict for <class 'shared.schema.graph.GraphProperty'>, drop extra fields: True\n",
      "[2022-02-12 22:07:48,241][simple_parsing.helpers.serialization.decoding][DEBUG] name = dtype, field_type = <class 'shared.schema.graph.DType'>\n",
      "[2022-02-12 22:07:48,242][simple_parsing.helpers.serialization.serializable][DEBUG] from_dict for <class 'shared.schema.graph.GraphProperty'>, drop extra fields: True\n",
      "[2022-02-12 22:07:48,243][simple_parsing.helpers.serialization.decoding][DEBUG] name = dtype, field_type = <class 'shared.schema.graph.DType'>\n",
      "[2022-02-12 22:07:48,243][simple_parsing.helpers.serialization.serializable][DEBUG] from_dict for <class 'shared.schema.graph.GraphProperty'>, drop extra fields: True\n",
      "[2022-02-12 22:07:48,244][simple_parsing.helpers.serialization.decoding][DEBUG] name = dtype, field_type = <class 'shared.schema.graph.DType'>\n",
      "[2022-02-12 22:07:48,245][simple_parsing.helpers.serialization.serializable][DEBUG] from_dict for <class 'shared.schema.graph.GraphProperty'>, drop extra fields: True\n",
      "[2022-02-12 22:07:48,246][simple_parsing.helpers.serialization.decoding][DEBUG] name = dtype, field_type = <class 'shared.schema.graph.DType'>\n",
      "[2022-02-12 22:07:48,247][simple_parsing.helpers.serialization.serializable][DEBUG] from_dict for <class 'shared.schema.graph.GraphProperty'>, drop extra fields: True\n",
      "[2022-02-12 22:07:48,248][simple_parsing.helpers.serialization.decoding][DEBUG] name = dtype, field_type = <class 'shared.schema.graph.DType'>\n",
      "[2022-02-12 22:07:48,249][simple_parsing.helpers.serialization.serializable][DEBUG] from_dict for <class 'shared.schema.graph.GraphProperty'>, drop extra fields: True\n",
      "[2022-02-12 22:07:48,250][simple_parsing.helpers.serialization.decoding][DEBUG] name = dtype, field_type = <class 'shared.schema.graph.DType'>\n",
      "[2022-02-12 22:07:48,250][simple_parsing.helpers.serialization.serializable][DEBUG] from_dict for <class 'shared.schema.graph.GraphProperty'>, drop extra fields: True\n",
      "[2022-02-12 22:07:48,251][simple_parsing.helpers.serialization.decoding][DEBUG] name = dtype, field_type = <class 'shared.schema.graph.DType'>\n",
      "[2022-02-12 22:07:48,252][simple_parsing.helpers.serialization.serializable][DEBUG] from_dict for <class 'shared.schema.graph.GraphProperty'>, drop extra fields: True\n",
      "[2022-02-12 22:07:48,253][simple_parsing.helpers.serialization.decoding][DEBUG] name = dtype, field_type = <class 'shared.schema.graph.DType'>\n",
      "[2022-02-12 22:07:48,254][simple_parsing.helpers.serialization.serializable][DEBUG] from_dict for <class 'shared.schema.graph.GraphProperty'>, drop extra fields: True\n",
      "[2022-02-12 22:07:48,255][simple_parsing.helpers.serialization.decoding][DEBUG] name = dtype, field_type = <class 'shared.schema.graph.DType'>\n",
      "[2022-02-12 22:07:48,256][simple_parsing.helpers.serialization.serializable][DEBUG] from_dict for <class 'shared.schema.graph.GraphProperty'>, drop extra fields: True\n",
      "[2022-02-12 22:07:48,256][simple_parsing.helpers.serialization.decoding][DEBUG] name = dtype, field_type = <class 'shared.schema.graph.DType'>\n",
      "[2022-02-12 22:07:48,257][simple_parsing.helpers.serialization.serializable][DEBUG] from_dict for <class 'shared.schema.graph.GraphProperty'>, drop extra fields: True\n",
      "[2022-02-12 22:07:48,258][simple_parsing.helpers.serialization.decoding][DEBUG] name = dtype, field_type = <class 'shared.schema.graph.DType'>\n",
      "[2022-02-12 22:07:48,259][simple_parsing.helpers.serialization.decoding][DEBUG] name = edges, field_type = typing.Dict[str, shared.schema.graph.EdgeSchema]\n",
      "[2022-02-12 22:07:48,260][simple_parsing.helpers.serialization.serializable][DEBUG] from_dict for <class 'shared.schema.graph.EdgeSchema'>, drop extra fields: True\n",
      "[2022-02-12 22:07:48,261][simple_parsing.helpers.serialization.decoding][DEBUG] name = properties, field_type = typing.Dict[str, shared.schema.graph.GraphProperty]\n",
      "[2022-02-12 22:07:48,262][simple_parsing.helpers.serialization.serializable][DEBUG] from_dict for <class 'shared.schema.graph.GraphProperty'>, drop extra fields: True\n",
      "[2022-02-12 22:07:48,263][simple_parsing.helpers.serialization.decoding][DEBUG] name = dtype, field_type = <class 'shared.schema.graph.DType'>\n",
      "[2022-02-12 22:07:48,263][simple_parsing.helpers.serialization.serializable][DEBUG] from_dict for <class 'shared.schema.graph.GraphProperty'>, drop extra fields: True\n",
      "[2022-02-12 22:07:48,264][simple_parsing.helpers.serialization.decoding][DEBUG] name = dtype, field_type = <class 'shared.schema.graph.DType'>\n",
      "[2022-02-12 22:07:48,265][simple_parsing.helpers.serialization.serializable][DEBUG] from_dict for <class 'shared.schema.graph.GraphProperty'>, drop extra fields: True\n",
      "[2022-02-12 22:07:48,266][simple_parsing.helpers.serialization.decoding][DEBUG] name = dtype, field_type = <class 'shared.schema.graph.DType'>\n",
      "[2022-02-12 22:07:48,267][simple_parsing.helpers.serialization.serializable][DEBUG] from_dict for <class 'shared.schema.graph.GraphProperty'>, drop extra fields: True\n",
      "[2022-02-12 22:07:48,267][simple_parsing.helpers.serialization.decoding][DEBUG] name = dtype, field_type = <class 'shared.schema.graph.DType'>\n",
      "[2022-02-12 22:07:48,268][simple_parsing.helpers.serialization.decoding][DEBUG] name = dynamic, field_type = typing.Optional[shared.schema.graph.DynamicConfig]\n",
      "[2022-02-12 22:07:48,269][simple_parsing.helpers.serialization.serializable][DEBUG] from_dict for <class 'shared.schema.graph.DynamicConfig'>, drop extra fields: True\n",
      "[2022-02-12 22:07:48,270][simple_parsing.helpers.serialization.decoding][DEBUG] name = timestamp, field_type = <class 'str'>\n",
      "[2022-02-12 22:07:48,271][simple_parsing.helpers.serialization.decoding][DEBUG] name = interaction, field_type = <class 'bool'>\n",
      "[2022-02-12 22:07:48,272][simple_parsing.helpers.serialization.decoding][DEBUG] name = source_type, field_type = <class 'str'>\n",
      "[2022-02-12 22:07:48,272][simple_parsing.helpers.serialization.decoding][DEBUG] name = target_type, field_type = <class 'str'>\n",
      "[2022-02-12 22:07:48,273][simple_parsing.helpers.serialization.decoding][DEBUG] name = directed, field_type = <class 'bool'>\n",
      "[2022-02-12 22:07:48,274][simple_parsing.helpers.serialization.serializable][DEBUG] from_dict for <class 'shared.schema.graph.EdgeSchema'>, drop extra fields: True\n",
      "[2022-02-12 22:07:48,275][simple_parsing.helpers.serialization.decoding][DEBUG] name = properties, field_type = typing.Dict[str, shared.schema.graph.GraphProperty]\n",
      "[2022-02-12 22:07:48,276][simple_parsing.helpers.serialization.serializable][DEBUG] from_dict for <class 'shared.schema.graph.GraphProperty'>, drop extra fields: True\n",
      "[2022-02-12 22:07:48,276][simple_parsing.helpers.serialization.decoding][DEBUG] name = dtype, field_type = <class 'shared.schema.graph.DType'>\n",
      "[2022-02-12 22:07:48,277][simple_parsing.helpers.serialization.serializable][DEBUG] from_dict for <class 'shared.schema.graph.GraphProperty'>, drop extra fields: True\n",
      "[2022-02-12 22:07:48,278][simple_parsing.helpers.serialization.decoding][DEBUG] name = dtype, field_type = <class 'shared.schema.graph.DType'>\n",
      "[2022-02-12 22:07:48,279][simple_parsing.helpers.serialization.serializable][DEBUG] from_dict for <class 'shared.schema.graph.GraphProperty'>, drop extra fields: True\n",
      "[2022-02-12 22:07:48,280][simple_parsing.helpers.serialization.decoding][DEBUG] name = dtype, field_type = <class 'shared.schema.graph.DType'>\n",
      "[2022-02-12 22:07:48,280][simple_parsing.helpers.serialization.serializable][DEBUG] from_dict for <class 'shared.schema.graph.GraphProperty'>, drop extra fields: True\n",
      "[2022-02-12 22:07:48,281][simple_parsing.helpers.serialization.decoding][DEBUG] name = dtype, field_type = <class 'shared.schema.graph.DType'>\n",
      "[2022-02-12 22:07:48,282][simple_parsing.helpers.serialization.decoding][DEBUG] name = dynamic, field_type = typing.Optional[shared.schema.graph.DynamicConfig]\n",
      "[2022-02-12 22:07:48,283][simple_parsing.helpers.serialization.serializable][DEBUG] from_dict for <class 'shared.schema.graph.DynamicConfig'>, drop extra fields: True\n",
      "[2022-02-12 22:07:48,284][simple_parsing.helpers.serialization.decoding][DEBUG] name = timestamp, field_type = <class 'str'>\n",
      "[2022-02-12 22:07:48,285][simple_parsing.helpers.serialization.decoding][DEBUG] name = interaction, field_type = <class 'bool'>\n",
      "[2022-02-12 22:07:48,285][simple_parsing.helpers.serialization.decoding][DEBUG] name = source_type, field_type = <class 'str'>\n",
      "[2022-02-12 22:07:48,286][simple_parsing.helpers.serialization.decoding][DEBUG] name = target_type, field_type = <class 'str'>\n",
      "[2022-02-12 22:07:48,287][simple_parsing.helpers.serialization.decoding][DEBUG] name = directed, field_type = <class 'bool'>\n"
     ]
    }
   ],
   "source": [
    "# Calculate Evaluation Metrics\n",
    "DATASET = DatasetSchema.load_schema('star-wars')\n",
    "schema = GraphSchema.from_dataset(DATASET)\n",
    "G = DataGraph.from_schema(schema)"
   ],
   "metadata": {
    "collapsed": false,
    "pycharm": {
     "name": "#%%\n"
    }
   }
  },
  {
   "cell_type": "code",
   "execution_count": 20,
   "outputs": [
    {
     "name": "stdout",
     "output_type": "stream",
     "text": [
      "                  metric      value\n",
      "0        community_count        NaN\n",
      "1            conductance   0.738159\n",
      "2              expansion  10.340175\n",
      "3  internal_edge_density   0.232095\n",
      "4                avg_odf  21.203910\n",
      "5     modularity_overlap  -0.085939\n",
      "6        link_modularity   0.014757\n",
      "7           z_modularity  -0.116547\n",
      "8             modularity  -0.152850\n"
     ]
    }
   ],
   "source": [
    "metrics = get_metric_list(ground_truth=False, overlapping=False)\n",
    "\n",
    "results = pd.DataFrame([\n",
    "    {\n",
    "        'metric': metric_cls.metric_name(),\n",
    "        'value': metric_cls.calculate(G, comlist)\n",
    "    }\n",
    "    for metric_cls in metrics]\n",
    ")\n",
    "print(results)"
   ],
   "metadata": {
    "collapsed": false,
    "pycharm": {
     "name": "#%%\n"
    }
   }
  },
  {
   "cell_type": "code",
   "execution_count": null,
   "outputs": [],
   "source": [],
   "metadata": {
    "collapsed": false,
    "pycharm": {
     "name": "#%%\n"
    }
   }
  }
 ],
 "metadata": {
  "kernelspec": {
   "display_name": "Python 3",
   "language": "python",
   "name": "python3"
  },
  "language_info": {
   "codemirror_mode": {
    "name": "ipython",
    "version": 2
   },
   "file_extension": ".py",
   "mimetype": "text/x-python",
   "name": "python",
   "nbconvert_exporter": "python",
   "pygments_lexer": "ipython2",
   "version": "2.7.6"
  }
 },
 "nbformat": 4,
 "nbformat_minor": 0
}