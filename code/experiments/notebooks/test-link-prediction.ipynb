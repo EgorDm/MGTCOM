{
 "cells": [
  {
   "cell_type": "code",
   "execution_count": 1,
   "outputs": [],
   "source": [
    "# %load_ext autoreload\n",
    "# %autoreload 2"
   ],
   "metadata": {
    "collapsed": false,
    "pycharm": {
     "name": "#%%\n"
    }
   }
  },
  {
   "cell_type": "code",
   "execution_count": 31,
   "outputs": [],
   "source": [
    "import pandas as pd\n",
    "\n",
    "from stellargraph import StellarGraph\n",
    "from stellargraph.data import UnsupervisedSampler, EdgeSplitter, BiasedRandomWalk\n",
    "from stellargraph.mapper import HinSAGELinkGenerator\n",
    "from stellargraph.layer import HinSAGE, link_classification"
   ],
   "metadata": {
    "collapsed": false,
    "pycharm": {
     "name": "#%%\n"
    }
   }
  },
  {
   "cell_type": "markdown",
   "source": [
    "# Load the data"
   ],
   "metadata": {
    "collapsed": false,
    "pycharm": {
     "name": "#%% md\n"
    }
   }
  },
  {
   "cell_type": "code",
   "execution_count": 3,
   "outputs": [],
   "source": [
    "from shared.schema import DatasetSchema, GraphSchema\n",
    "from shared.graph.loading import pd_from_entity_schema\n"
   ],
   "metadata": {
    "collapsed": false,
    "pycharm": {
     "name": "#%%\n"
    }
   }
  },
  {
   "cell_type": "code",
   "execution_count": 4,
   "outputs": [],
   "source": [
    "DATASET = DatasetSchema.load_schema('star-wars')\n",
    "schema = GraphSchema.from_dataset(DATASET)"
   ],
   "metadata": {
    "collapsed": false,
    "pycharm": {
     "name": "#%%\n"
    }
   }
  },
  {
   "cell_type": "code",
   "execution_count": 5,
   "outputs": [],
   "source": [
    "explicit_label = False\n",
    "explicit_timestamp = True\n",
    "unix_timestamp = True\n",
    "prefix_id = None\n",
    "include_properties = lambda cs: [c for c in cs if c.startswith('feat_')]\n",
    "\n",
    "nodes_dfs = {\n",
    "    label: pd_from_entity_schema(\n",
    "        entity_schema,\n",
    "        explicit_label=explicit_label,\n",
    "        explicit_timestamp=explicit_timestamp,\n",
    "        include_properties=include_properties,\n",
    "        unix_timestamp=unix_timestamp,\n",
    "        prefix_id=prefix_id,\n",
    "    ).set_index('id').drop(columns=['type'])\n",
    "    for label, entity_schema in schema.nodes.items()\n",
    "}\n",
    "\n",
    "edges_dfs = {\n",
    "    label: pd_from_entity_schema(\n",
    "        entity_schema,\n",
    "        explicit_label=explicit_label,\n",
    "        explicit_timestamp=explicit_timestamp,\n",
    "        include_properties=include_properties,\n",
    "        unix_timestamp=unix_timestamp,\n",
    "        prefix_id=prefix_id,\n",
    "    ).reset_index().drop(columns=['type']).drop_duplicates(subset=['src', 'dst', 'timestamp'])\n",
    "    for label, entity_schema in schema.edges.items()\n",
    "}\n",
    "\n",
    "cursor = 0\n",
    "for df in edges_dfs.values():\n",
    "    df.index += cursor\n",
    "    cursor += len(df)"
   ],
   "metadata": {
    "collapsed": false,
    "pycharm": {
     "name": "#%%\n"
    }
   }
  },
  {
   "cell_type": "code",
   "execution_count": 6,
   "outputs": [
    {
     "name": "stdout",
     "output_type": "stream",
     "text": [
      "StellarGraph: Undirected multigraph\n",
      " Nodes: 113, Edges: 2078\n",
      "\n",
      " Node types:\n",
      "  Character: [113]\n",
      "    Features: float32 vector, length 32\n",
      "    Edge types: Character-INTERACTIONS->Character, Character-MENTIONS->Character\n",
      "\n",
      " Edge types:\n",
      "    Character-MENTIONS->Character: [1120]\n",
      "        Weights: all 1 (default)\n",
      "        Features: float32 vector, length 2\n",
      "    Character-INTERACTIONS->Character: [958]\n",
      "        Weights: all 1 (default)\n",
      "        Features: float32 vector, length 2\n"
     ]
    }
   ],
   "source": [
    "graph = StellarGraph(\n",
    "    nodes=nodes_dfs,\n",
    "    edges=edges_dfs,\n",
    "    source_column='src',\n",
    "    target_column='dst',\n",
    ")\n",
    "print(graph.info())"
   ],
   "metadata": {
    "collapsed": false,
    "pycharm": {
     "name": "#%%\n"
    }
   }
  },
  {
   "cell_type": "markdown",
   "source": [
    "# Split dataset"
   ],
   "metadata": {
    "collapsed": false,
    "pycharm": {
     "name": "#%% md\n"
    }
   }
  },
  {
   "cell_type": "code",
   "execution_count": 26,
   "outputs": [],
   "source": [
    "from sklearn.model_selection import train_test_split"
   ],
   "metadata": {
    "collapsed": false,
    "pycharm": {
     "name": "#%%\n"
    }
   }
  },
  {
   "cell_type": "code",
   "execution_count": 27,
   "outputs": [
    {
     "name": "stdout",
     "output_type": "stream",
     "text": [
      "** Sampled 103 positive and 103 negative edges. **\n",
      "StellarGraph: Undirected multigraph\n",
      " Nodes: 113, Edges: 1975\n",
      "\n",
      " Node types:\n",
      "  Character: [113]\n",
      "    Features: float32 vector, length 32\n",
      "    Edge types: Character-INTERACTIONS->Character, Character-MENTIONS->Character\n",
      "\n",
      " Edge types:\n",
      "    Character-MENTIONS->Character: [1069]\n",
      "        Weights: all 1 (default)\n",
      "        Features: none\n",
      "    Character-INTERACTIONS->Character: [906]\n",
      "        Weights: all 1 (default)\n",
      "        Features: none\n"
     ]
    }
   ],
   "source": [
    "edge_splitter_test = EdgeSplitter(graph)\n",
    "graph_sub_test, examples_test, labels_test = edge_splitter_test.train_test_split(\n",
    "    p=0.05, method=\"global\"\n",
    ")\n",
    "\n",
    "print(graph_sub_test.info())"
   ],
   "metadata": {
    "collapsed": false,
    "pycharm": {
     "name": "#%%\n"
    }
   }
  },
  {
   "cell_type": "code",
   "execution_count": 28,
   "outputs": [
    {
     "name": "stdout",
     "output_type": "stream",
     "text": [
      "** Sampled 197 positive and 197 negative edges. **\n",
      "StellarGraph: Undirected multigraph\n",
      " Nodes: 113, Edges: 1778\n",
      "\n",
      " Node types:\n",
      "  Character: [113]\n",
      "    Features: float32 vector, length 32\n",
      "    Edge types: Character-INTERACTIONS->Character, Character-MENTIONS->Character\n",
      "\n",
      " Edge types:\n",
      "    Character-MENTIONS->Character: [962]\n",
      "        Weights: all 1 (default)\n",
      "        Features: none\n",
      "    Character-INTERACTIONS->Character: [816]\n",
      "        Weights: all 1 (default)\n",
      "        Features: none\n"
     ]
    }
   ],
   "source": [
    "train_size = 0.75\n",
    "val_size = 0.25\n",
    "\n",
    "edge_splitter_train = EdgeSplitter(graph_sub_test)\n",
    "graph_train, examples, labels = edge_splitter_train.train_test_split(\n",
    "    p=0.1, method=\"global\"\n",
    ")\n",
    "\n",
    "(\n",
    "    examples_train,\n",
    "    examples_val,\n",
    "    labels_train,\n",
    "    labels_val,\n",
    ") = train_test_split(examples, labels, train_size=train_size, test_size=val_size)\n",
    "\n",
    "print(graph_train.info())"
   ],
   "metadata": {
    "collapsed": false,
    "pycharm": {
     "name": "#%%\n"
    }
   }
  },
  {
   "cell_type": "code",
   "execution_count": 29,
   "outputs": [
    {
     "data": {
      "text/plain": "                Number of Examples  Hidden from Picked from  \\\nSplit                                                         \nTraining Set                   295  Train Graph  Test Graph   \nValidation Set                  99  Train Graph  Test Graph   \nTest set                       206   Test Graph  Full Graph   \n\n                                         Use  \nSplit                                         \nTraining Set       Train the Link Classifier  \nValidation Set  Validate the Link Classifier  \nTest set            Evaluate Link Classifier  ",
      "text/html": "<div>\n<style scoped>\n    .dataframe tbody tr th:only-of-type {\n        vertical-align: middle;\n    }\n\n    .dataframe tbody tr th {\n        vertical-align: top;\n    }\n\n    .dataframe thead th {\n        text-align: right;\n    }\n</style>\n<table border=\"1\" class=\"dataframe\">\n  <thead>\n    <tr style=\"text-align: right;\">\n      <th></th>\n      <th>Number of Examples</th>\n      <th>Hidden from</th>\n      <th>Picked from</th>\n      <th>Use</th>\n    </tr>\n    <tr>\n      <th>Split</th>\n      <th></th>\n      <th></th>\n      <th></th>\n      <th></th>\n    </tr>\n  </thead>\n  <tbody>\n    <tr>\n      <th>Training Set</th>\n      <td>295</td>\n      <td>Train Graph</td>\n      <td>Test Graph</td>\n      <td>Train the Link Classifier</td>\n    </tr>\n    <tr>\n      <th>Validation Set</th>\n      <td>99</td>\n      <td>Train Graph</td>\n      <td>Test Graph</td>\n      <td>Validate the Link Classifier</td>\n    </tr>\n    <tr>\n      <th>Test set</th>\n      <td>206</td>\n      <td>Test Graph</td>\n      <td>Full Graph</td>\n      <td>Evaluate Link Classifier</td>\n    </tr>\n  </tbody>\n</table>\n</div>"
     },
     "execution_count": 29,
     "metadata": {},
     "output_type": "execute_result"
    }
   ],
   "source": [
    "pd.DataFrame(\n",
    "    [\n",
    "        (\n",
    "            \"Training Set\",\n",
    "            len(examples_train),\n",
    "            \"Train Graph\",\n",
    "            \"Test Graph\",\n",
    "            \"Train the Link Classifier\",\n",
    "        ),\n",
    "        (\n",
    "            \"Validation Set\",\n",
    "            len(examples_val),\n",
    "            \"Train Graph\",\n",
    "            \"Test Graph\",\n",
    "            \"Validate the Link Classifier\",\n",
    "        ),\n",
    "        (\n",
    "            \"Test set\",\n",
    "            len(examples_test),\n",
    "            \"Test Graph\",\n",
    "            \"Full Graph\",\n",
    "            \"Evaluate Link Classifier\",\n",
    "        ),\n",
    "    ],\n",
    "    columns=(\"Split\", \"Number of Examples\", \"Hidden from\", \"Picked from\", \"Use\"),\n",
    ").set_index(\"Split\")\n"
   ],
   "metadata": {
    "collapsed": false,
    "pycharm": {
     "name": "#%%\n"
    }
   }
  },
  {
   "cell_type": "markdown",
   "source": [
    "# Train HinSage"
   ],
   "metadata": {
    "collapsed": false,
    "pycharm": {
     "name": "#%% md\n"
    }
   }
  },
  {
   "cell_type": "code",
   "execution_count": 38,
   "outputs": [],
   "source": [
    "from tensorflow import keras"
   ],
   "metadata": {
    "collapsed": false,
    "pycharm": {
     "name": "#%%\n"
    }
   }
  },
  {
   "cell_type": "code",
   "execution_count": 73,
   "outputs": [],
   "source": [
    "batch_size = 30\n",
    "epochs = 30\n",
    "dimensions = [128, 128]\n",
    "num_samples = [10, 5]\n",
    "walk_length = 5\n",
    "walk_number = 1"
   ],
   "metadata": {
    "collapsed": false,
    "pycharm": {
     "name": "#%%\n"
    }
   }
  },
  {
   "cell_type": "code",
   "execution_count": 74,
   "outputs": [],
   "source": [
    "unsupervised_samples = UnsupervisedSampler(\n",
    "    graph_train, nodes=list(graph_train.nodes()),\n",
    "    walker=BiasedRandomWalk(graph_train, n=walk_number, length=walk_length, p=1, q=1)\n",
    ")\n",
    "\n",
    "generator = HinSAGELinkGenerator(\n",
    "    graph_train, batch_size, num_samples, head_node_types=[\"Character\", \"Character\"]\n",
    ")"
   ],
   "metadata": {
    "collapsed": false,
    "pycharm": {
     "name": "#%%\n"
    }
   }
  },
  {
   "cell_type": "code",
   "execution_count": 75,
   "outputs": [
    {
     "name": "stdout",
     "output_type": "stream",
     "text": [
      "link_classification: using 'ip' method to combine node embeddings into edge embeddings\n"
     ]
    }
   ],
   "source": [
    "hinsage_layer_sizes = [32, 32]\n",
    "assert len(hinsage_layer_sizes) == len(num_samples)\n",
    "\n",
    "hinsage = HinSAGE(\n",
    "    layer_sizes=hinsage_layer_sizes, generator=generator, bias=True, dropout=0.0\n",
    ")\n",
    "\n",
    "x_inp, x_out = hinsage.in_out_tensors()\n",
    "prediction = link_classification(\n",
    "    output_dim=1, output_act=\"sigmoid\", edge_embedding_method=\"ip\"\n",
    ")(x_out)"
   ],
   "metadata": {
    "collapsed": false,
    "pycharm": {
     "name": "#%%\n"
    }
   }
  },
  {
   "cell_type": "code",
   "execution_count": 76,
   "outputs": [],
   "source": [
    "model = keras.Model(inputs=x_inp, outputs=prediction)\n",
    "model.compile(\n",
    "    optimizer=keras.optimizers.Adam(learning_rate=1e-4),\n",
    "    loss=keras.losses.binary_crossentropy,\n",
    "    metrics=[keras.metrics.binary_accuracy],\n",
    ")"
   ],
   "metadata": {
    "collapsed": false,
    "pycharm": {
     "name": "#%%\n"
    }
   }
  },
  {
   "cell_type": "code",
   "execution_count": 77,
   "outputs": [
    {
     "name": "stdout",
     "output_type": "stream",
     "text": [
      "Model: \"model_6\"\n",
      "__________________________________________________________________________________________________\n",
      "Layer (type)                    Output Shape         Param #     Connected to                     \n",
      "==================================================================================================\n",
      "input_59 (InputLayer)           [(None, 10, 32)]     0                                            \n",
      "__________________________________________________________________________________________________\n",
      "input_60 (InputLayer)           [(None, 10, 32)]     0                                            \n",
      "__________________________________________________________________________________________________\n",
      "input_63 (InputLayer)           [(None, 50, 32)]     0                                            \n",
      "__________________________________________________________________________________________________\n",
      "input_64 (InputLayer)           [(None, 50, 32)]     0                                            \n",
      "__________________________________________________________________________________________________\n",
      "input_65 (InputLayer)           [(None, 50, 32)]     0                                            \n",
      "__________________________________________________________________________________________________\n",
      "input_66 (InputLayer)           [(None, 50, 32)]     0                                            \n",
      "__________________________________________________________________________________________________\n",
      "input_61 (InputLayer)           [(None, 10, 32)]     0                                            \n",
      "__________________________________________________________________________________________________\n",
      "input_62 (InputLayer)           [(None, 10, 32)]     0                                            \n",
      "__________________________________________________________________________________________________\n",
      "input_67 (InputLayer)           [(None, 50, 32)]     0                                            \n",
      "__________________________________________________________________________________________________\n",
      "input_68 (InputLayer)           [(None, 50, 32)]     0                                            \n",
      "__________________________________________________________________________________________________\n",
      "input_69 (InputLayer)           [(None, 50, 32)]     0                                            \n",
      "__________________________________________________________________________________________________\n",
      "input_70 (InputLayer)           [(None, 50, 32)]     0                                            \n",
      "__________________________________________________________________________________________________\n",
      "input_57 (InputLayer)           [(None, 1, 32)]      0                                            \n",
      "__________________________________________________________________________________________________\n",
      "reshape_76 (Reshape)            (None, 1, 10, 32)    0           input_59[0][0]                   \n",
      "__________________________________________________________________________________________________\n",
      "reshape_77 (Reshape)            (None, 1, 10, 32)    0           input_60[0][0]                   \n",
      "__________________________________________________________________________________________________\n",
      "reshape_80 (Reshape)            (None, 10, 5, 32)    0           input_63[0][0]                   \n",
      "__________________________________________________________________________________________________\n",
      "reshape_81 (Reshape)            (None, 10, 5, 32)    0           input_64[0][0]                   \n",
      "__________________________________________________________________________________________________\n",
      "reshape_82 (Reshape)            (None, 10, 5, 32)    0           input_65[0][0]                   \n",
      "__________________________________________________________________________________________________\n",
      "reshape_83 (Reshape)            (None, 10, 5, 32)    0           input_66[0][0]                   \n",
      "__________________________________________________________________________________________________\n",
      "input_58 (InputLayer)           [(None, 1, 32)]      0                                            \n",
      "__________________________________________________________________________________________________\n",
      "reshape_78 (Reshape)            (None, 1, 10, 32)    0           input_61[0][0]                   \n",
      "__________________________________________________________________________________________________\n",
      "reshape_79 (Reshape)            (None, 1, 10, 32)    0           input_62[0][0]                   \n",
      "__________________________________________________________________________________________________\n",
      "reshape_84 (Reshape)            (None, 10, 5, 32)    0           input_67[0][0]                   \n",
      "__________________________________________________________________________________________________\n",
      "reshape_85 (Reshape)            (None, 10, 5, 32)    0           input_68[0][0]                   \n",
      "__________________________________________________________________________________________________\n",
      "reshape_86 (Reshape)            (None, 10, 5, 32)    0           input_69[0][0]                   \n",
      "__________________________________________________________________________________________________\n",
      "reshape_87 (Reshape)            (None, 10, 5, 32)    0           input_70[0][0]                   \n",
      "__________________________________________________________________________________________________\n",
      "dropout_98 (Dropout)            (None, 1, 32)        0           input_57[0][0]                   \n",
      "__________________________________________________________________________________________________\n",
      "dropout_96 (Dropout)            (None, 1, 10, 32)    0           reshape_76[0][0]                 \n",
      "__________________________________________________________________________________________________\n",
      "dropout_97 (Dropout)            (None, 1, 10, 32)    0           reshape_77[0][0]                 \n",
      "__________________________________________________________________________________________________\n",
      "dropout_104 (Dropout)           (None, 10, 32)       0           input_59[0][0]                   \n",
      "__________________________________________________________________________________________________\n",
      "dropout_102 (Dropout)           (None, 10, 5, 32)    0           reshape_80[0][0]                 \n",
      "__________________________________________________________________________________________________\n",
      "dropout_103 (Dropout)           (None, 10, 5, 32)    0           reshape_81[0][0]                 \n",
      "__________________________________________________________________________________________________\n",
      "dropout_107 (Dropout)           (None, 10, 32)       0           input_60[0][0]                   \n",
      "__________________________________________________________________________________________________\n",
      "dropout_105 (Dropout)           (None, 10, 5, 32)    0           reshape_82[0][0]                 \n",
      "__________________________________________________________________________________________________\n",
      "dropout_106 (Dropout)           (None, 10, 5, 32)    0           reshape_83[0][0]                 \n",
      "__________________________________________________________________________________________________\n",
      "dropout_101 (Dropout)           (None, 1, 32)        0           input_58[0][0]                   \n",
      "__________________________________________________________________________________________________\n",
      "dropout_99 (Dropout)            (None, 1, 10, 32)    0           reshape_78[0][0]                 \n",
      "__________________________________________________________________________________________________\n",
      "dropout_100 (Dropout)           (None, 1, 10, 32)    0           reshape_79[0][0]                 \n",
      "__________________________________________________________________________________________________\n",
      "dropout_110 (Dropout)           (None, 10, 32)       0           input_61[0][0]                   \n",
      "__________________________________________________________________________________________________\n",
      "dropout_108 (Dropout)           (None, 10, 5, 32)    0           reshape_84[0][0]                 \n",
      "__________________________________________________________________________________________________\n",
      "dropout_109 (Dropout)           (None, 10, 5, 32)    0           reshape_85[0][0]                 \n",
      "__________________________________________________________________________________________________\n",
      "dropout_113 (Dropout)           (None, 10, 32)       0           input_62[0][0]                   \n",
      "__________________________________________________________________________________________________\n",
      "dropout_111 (Dropout)           (None, 10, 5, 32)    0           reshape_86[0][0]                 \n",
      "__________________________________________________________________________________________________\n",
      "dropout_112 (Dropout)           (None, 10, 5, 32)    0           reshape_87[0][0]                 \n",
      "__________________________________________________________________________________________________\n",
      "mean_hin_aggregator_8 (MeanHinA multiple             1568        dropout_98[0][0]                 \n",
      "                                                                 dropout_96[0][0]                 \n",
      "                                                                 dropout_97[0][0]                 \n",
      "                                                                 dropout_101[0][0]                \n",
      "                                                                 dropout_99[0][0]                 \n",
      "                                                                 dropout_100[0][0]                \n",
      "                                                                 dropout_104[0][0]                \n",
      "                                                                 dropout_102[0][0]                \n",
      "                                                                 dropout_103[0][0]                \n",
      "                                                                 dropout_107[0][0]                \n",
      "                                                                 dropout_105[0][0]                \n",
      "                                                                 dropout_106[0][0]                \n",
      "                                                                 dropout_110[0][0]                \n",
      "                                                                 dropout_108[0][0]                \n",
      "                                                                 dropout_109[0][0]                \n",
      "                                                                 dropout_113[0][0]                \n",
      "                                                                 dropout_111[0][0]                \n",
      "                                                                 dropout_112[0][0]                \n",
      "__________________________________________________________________________________________________\n",
      "reshape_88 (Reshape)            (None, 1, 10, 32)    0           mean_hin_aggregator_8[2][0]      \n",
      "__________________________________________________________________________________________________\n",
      "reshape_89 (Reshape)            (None, 1, 10, 32)    0           mean_hin_aggregator_8[3][0]      \n",
      "__________________________________________________________________________________________________\n",
      "reshape_90 (Reshape)            (None, 1, 10, 32)    0           mean_hin_aggregator_8[4][0]      \n",
      "__________________________________________________________________________________________________\n",
      "reshape_91 (Reshape)            (None, 1, 10, 32)    0           mean_hin_aggregator_8[5][0]      \n",
      "__________________________________________________________________________________________________\n",
      "dropout_116 (Dropout)           (None, 1, 32)        0           mean_hin_aggregator_8[0][0]      \n",
      "__________________________________________________________________________________________________\n",
      "dropout_114 (Dropout)           (None, 1, 10, 32)    0           reshape_88[0][0]                 \n",
      "__________________________________________________________________________________________________\n",
      "dropout_115 (Dropout)           (None, 1, 10, 32)    0           reshape_89[0][0]                 \n",
      "__________________________________________________________________________________________________\n",
      "dropout_119 (Dropout)           (None, 1, 32)        0           mean_hin_aggregator_8[1][0]      \n",
      "__________________________________________________________________________________________________\n",
      "dropout_117 (Dropout)           (None, 1, 10, 32)    0           reshape_90[0][0]                 \n",
      "__________________________________________________________________________________________________\n",
      "dropout_118 (Dropout)           (None, 1, 10, 32)    0           reshape_91[0][0]                 \n",
      "__________________________________________________________________________________________________\n",
      "mean_hin_aggregator_9 (MeanHinA (None, 1, 32)        1568        dropout_116[0][0]                \n",
      "                                                                 dropout_114[0][0]                \n",
      "                                                                 dropout_115[0][0]                \n",
      "                                                                 dropout_119[0][0]                \n",
      "                                                                 dropout_117[0][0]                \n",
      "                                                                 dropout_118[0][0]                \n",
      "__________________________________________________________________________________________________\n",
      "reshape_92 (Reshape)            (None, 32)           0           mean_hin_aggregator_9[0][0]      \n",
      "__________________________________________________________________________________________________\n",
      "reshape_93 (Reshape)            (None, 32)           0           mean_hin_aggregator_9[1][0]      \n",
      "__________________________________________________________________________________________________\n",
      "lambda_4 (Lambda)               (None, 32)           0           reshape_92[0][0]                 \n",
      "                                                                 reshape_93[0][0]                 \n",
      "__________________________________________________________________________________________________\n",
      "link_embedding_4 (LinkEmbedding (None, 1)            0           lambda_4[0][0]                   \n",
      "                                                                 lambda_4[1][0]                   \n",
      "__________________________________________________________________________________________________\n",
      "activation_4 (Activation)       (None, 1)            0           link_embedding_4[0][0]           \n",
      "__________________________________________________________________________________________________\n",
      "reshape_94 (Reshape)            (None, 1)            0           activation_4[0][0]               \n",
      "==================================================================================================\n",
      "Total params: 3,136\n",
      "Trainable params: 3,136\n",
      "Non-trainable params: 0\n",
      "__________________________________________________________________________________________________\n"
     ]
    }
   ],
   "source": [
    "model.summary()"
   ],
   "metadata": {
    "collapsed": false,
    "pycharm": {
     "name": "#%%\n"
    }
   }
  },
  {
   "cell_type": "code",
   "execution_count": 78,
   "outputs": [
    {
     "name": "stdout",
     "output_type": "stream",
     "text": [
      "Epoch 1/30\n",
      "31/31 - 5s - loss: 0.7228 - binary_accuracy: 0.4989 - val_loss: 0.6845 - val_binary_accuracy: 0.5152\n",
      "Epoch 2/30\n",
      "31/31 - 2s - loss: 0.7245 - binary_accuracy: 0.5011 - val_loss: 0.6885 - val_binary_accuracy: 0.4848\n",
      "Epoch 3/30\n",
      "31/31 - 2s - loss: 0.7166 - binary_accuracy: 0.5022 - val_loss: 0.6777 - val_binary_accuracy: 0.5051\n",
      "Epoch 4/30\n",
      "31/31 - 2s - loss: 0.7134 - binary_accuracy: 0.5033 - val_loss: 0.6775 - val_binary_accuracy: 0.4949\n",
      "Epoch 5/30\n",
      "31/31 - 2s - loss: 0.7024 - binary_accuracy: 0.5100 - val_loss: 0.6622 - val_binary_accuracy: 0.5051\n",
      "Epoch 6/30\n",
      "31/31 - 2s - loss: 0.7050 - binary_accuracy: 0.5155 - val_loss: 0.6585 - val_binary_accuracy: 0.5455\n",
      "Epoch 7/30\n",
      "31/31 - 2s - loss: 0.6924 - binary_accuracy: 0.5144 - val_loss: 0.6526 - val_binary_accuracy: 0.5758\n",
      "Epoch 8/30\n",
      "31/31 - 2s - loss: 0.6887 - binary_accuracy: 0.5155 - val_loss: 0.6487 - val_binary_accuracy: 0.5758\n",
      "Epoch 9/30\n",
      "31/31 - 2s - loss: 0.6917 - binary_accuracy: 0.5055 - val_loss: 0.6444 - val_binary_accuracy: 0.6263\n",
      "Epoch 10/30\n",
      "31/31 - 2s - loss: 0.6864 - binary_accuracy: 0.5465 - val_loss: 0.6364 - val_binary_accuracy: 0.6566\n",
      "Epoch 11/30\n",
      "31/31 - 2s - loss: 0.6862 - binary_accuracy: 0.5476 - val_loss: 0.6382 - val_binary_accuracy: 0.6768\n",
      "Epoch 12/30\n",
      "31/31 - 2s - loss: 0.6925 - binary_accuracy: 0.5288 - val_loss: 0.6384 - val_binary_accuracy: 0.6061\n",
      "Epoch 13/30\n",
      "31/31 - 2s - loss: 0.6849 - binary_accuracy: 0.5454 - val_loss: 0.6391 - val_binary_accuracy: 0.6364\n",
      "Epoch 14/30\n",
      "31/31 - 2s - loss: 0.6765 - binary_accuracy: 0.5708 - val_loss: 0.6386 - val_binary_accuracy: 0.6263\n",
      "Epoch 15/30\n",
      "31/31 - 2s - loss: 0.6766 - binary_accuracy: 0.5520 - val_loss: 0.6336 - val_binary_accuracy: 0.6263\n",
      "Epoch 16/30\n",
      "31/31 - 2s - loss: 0.6864 - binary_accuracy: 0.5332 - val_loss: 0.6303 - val_binary_accuracy: 0.6566\n",
      "Epoch 17/30\n",
      "31/31 - 2s - loss: 0.6707 - binary_accuracy: 0.5874 - val_loss: 0.6266 - val_binary_accuracy: 0.6768\n",
      "Epoch 18/30\n",
      "31/31 - 2s - loss: 0.6720 - binary_accuracy: 0.5741 - val_loss: 0.6314 - val_binary_accuracy: 0.6667\n",
      "Epoch 19/30\n",
      "31/31 - 2s - loss: 0.6808 - binary_accuracy: 0.5653 - val_loss: 0.6213 - val_binary_accuracy: 0.7071\n",
      "Epoch 20/30\n",
      "31/31 - 2s - loss: 0.6844 - binary_accuracy: 0.5520 - val_loss: 0.6254 - val_binary_accuracy: 0.6667\n",
      "Epoch 21/30\n",
      "31/31 - 2s - loss: 0.6717 - binary_accuracy: 0.5830 - val_loss: 0.6185 - val_binary_accuracy: 0.6869\n",
      "Epoch 22/30\n",
      "31/31 - 2s - loss: 0.6724 - binary_accuracy: 0.5785 - val_loss: 0.6189 - val_binary_accuracy: 0.6970\n",
      "Epoch 23/30\n",
      "31/31 - 2s - loss: 0.6612 - binary_accuracy: 0.5929 - val_loss: 0.6254 - val_binary_accuracy: 0.6970\n",
      "Epoch 24/30\n",
      "31/31 - 2s - loss: 0.6756 - binary_accuracy: 0.5708 - val_loss: 0.6242 - val_binary_accuracy: 0.7273\n",
      "Epoch 25/30\n",
      "31/31 - 2s - loss: 0.6606 - binary_accuracy: 0.5996 - val_loss: 0.6240 - val_binary_accuracy: 0.6970\n",
      "Epoch 26/30\n",
      "31/31 - 2s - loss: 0.6683 - binary_accuracy: 0.5852 - val_loss: 0.6161 - val_binary_accuracy: 0.7071\n",
      "Epoch 27/30\n",
      "31/31 - 2s - loss: 0.6721 - binary_accuracy: 0.5763 - val_loss: 0.6165 - val_binary_accuracy: 0.7172\n",
      "Epoch 28/30\n",
      "31/31 - 2s - loss: 0.6661 - binary_accuracy: 0.6040 - val_loss: 0.6144 - val_binary_accuracy: 0.7677\n",
      "Epoch 29/30\n",
      "31/31 - 2s - loss: 0.6549 - binary_accuracy: 0.6162 - val_loss: 0.6155 - val_binary_accuracy: 0.7172\n",
      "Epoch 30/30\n",
      "31/31 - 2s - loss: 0.6668 - binary_accuracy: 0.6095 - val_loss: 0.6111 - val_binary_accuracy: 0.7475\n"
     ]
    },
    {
     "data": {
      "text/plain": "<keras.callbacks.History at 0x7f5c89562b80>"
     },
     "execution_count": 78,
     "metadata": {},
     "output_type": "execute_result"
    }
   ],
   "source": [
    "model.fit(\n",
    "    generator.flow(unsupervised_samples),\n",
    "    validation_data=generator.flow(examples_val, labels_val),\n",
    "    epochs=epochs,\n",
    "    verbose=2,\n",
    "    use_multiprocessing=False,\n",
    "    workers=4,\n",
    "    shuffle=True,\n",
    ")"
   ],
   "metadata": {
    "collapsed": false,
    "pycharm": {
     "name": "#%%\n"
    }
   }
  },
  {
   "cell_type": "code",
   "execution_count": null,
   "outputs": [],
   "source": [],
   "metadata": {
    "collapsed": false,
    "pycharm": {
     "name": "#%%\n"
    }
   }
  }
 ],
 "metadata": {
  "kernelspec": {
   "display_name": "Python 3",
   "language": "python",
   "name": "python3"
  },
  "language_info": {
   "codemirror_mode": {
    "name": "ipython",
    "version": 2
   },
   "file_extension": ".py",
   "mimetype": "text/x-python",
   "name": "python",
   "nbconvert_exporter": "python",
   "pygments_lexer": "ipython2",
   "version": "2.7.6"
  }
 },
 "nbformat": 4,
 "nbformat_minor": 0
}