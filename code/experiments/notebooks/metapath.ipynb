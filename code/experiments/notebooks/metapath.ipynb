{
 "cells": [
  {
   "cell_type": "code",
   "execution_count": 7,
   "metadata": {
    "collapsed": true
   },
   "outputs": [],
   "source": [
    "import os.path as osp\n",
    "import numpy as np\n",
    "import torch\n",
    "from torch_geometric.datasets import AMiner\n",
    "from torch_geometric.nn import MetaPath2Vec"
   ]
  },
  {
   "cell_type": "code",
   "execution_count": 8,
   "outputs": [],
   "source": [
    "# load the dataset\n",
    "path = osp.join('..', 'data', 'AMiner')\n",
    "dataset = AMiner(path)\n",
    "data = dataset[0]"
   ],
   "metadata": {
    "collapsed": false,
    "pycharm": {
     "name": "#%%\n"
    }
   }
  },
  {
   "cell_type": "code",
   "execution_count": 9,
   "outputs": [
    {
     "name": "stdout",
     "output_type": "stream",
     "text": [
      "HeteroData(\n",
      "  \u001B[1mauthor\u001B[0m={\n",
      "    y=[246678],\n",
      "    y_index=[246678],\n",
      "    num_nodes=1693531\n",
      "  },\n",
      "  \u001B[1mvenue\u001B[0m={\n",
      "    y=[134],\n",
      "    y_index=[134],\n",
      "    num_nodes=3883\n",
      "  },\n",
      "  \u001B[1mpaper\u001B[0m={ num_nodes=3194405 },\n",
      "  \u001B[1m(paper, written_by, author)\u001B[0m={ edge_index=[2, 9323605] },\n",
      "  \u001B[1m(author, writes, paper)\u001B[0m={ edge_index=[2, 9323605] },\n",
      "  \u001B[1m(paper, published_in, venue)\u001B[0m={ edge_index=[2, 3194405] },\n",
      "  \u001B[1m(venue, publishes, paper)\u001B[0m={ edge_index=[2, 3194405] }\n",
      ")\n"
     ]
    }
   ],
   "source": [
    "print(data)"
   ],
   "metadata": {
    "collapsed": false,
    "pycharm": {
     "name": "#%%\n"
    }
   }
  },
  {
   "cell_type": "code",
   "execution_count": 4,
   "outputs": [
    {
     "name": "stdout",
     "output_type": "stream",
     "text": [
      "<class 'dict'>\n",
      "tensor([[      0,       1,       2,  ..., 3194404, 3194404, 3194404],\n",
      "        [      0,       1,       2,  ...,    4393,   21681,  317436]])\n"
     ]
    }
   ],
   "source": [
    "print(type(data.edge_index_dict))\n",
    "print(data.edge_index_dict[('paper', 'written_by', 'author')])"
   ],
   "metadata": {
    "collapsed": false,
    "pycharm": {
     "name": "#%%\n"
    }
   }
  },
  {
   "cell_type": "code",
   "execution_count": 6,
   "outputs": [
    {
     "data": {
      "text/plain": "torch.Size([2, 9323605])"
     },
     "execution_count": 6,
     "metadata": {},
     "output_type": "execute_result"
    }
   ],
   "source": [
    "data.edge_index_dict[('paper', 'written_by', 'author')].shape"
   ],
   "metadata": {
    "collapsed": false,
    "pycharm": {
     "name": "#%%\n"
    }
   }
  },
  {
   "cell_type": "code",
   "execution_count": 5,
   "outputs": [
    {
     "name": "stdout",
     "output_type": "stream",
     "text": [
      "<class 'dict'>\n",
      "{'author': 1693531, 'venue': 3883, 'paper': 3194405}\n"
     ]
    }
   ],
   "source": [
    "print(type(data.num_nodes_dict))\n",
    "print(data.num_nodes_dict)"
   ],
   "metadata": {
    "collapsed": false,
    "pycharm": {
     "name": "#%%\n"
    }
   }
  },
  {
   "cell_type": "code",
   "execution_count": 6,
   "outputs": [
    {
     "name": "stdout",
     "output_type": "stream",
     "text": [
      "<class 'dict'>\n",
      "tensor([0, 0, 0, 0, 0, 0, 0, 0, 0, 0, 0, 0, 0, 0, 0, 0, 0, 0, 0, 1, 1, 1, 1, 1,\n",
      "        1, 1, 1, 1, 1, 1, 1, 1, 1, 1, 1, 1, 1, 1, 2, 2, 2, 2, 2, 2, 2, 2, 2, 2,\n",
      "        2, 2, 2, 2, 2, 2, 2, 2, 3, 3, 3, 3, 3, 3, 3, 3, 3, 3, 3, 3, 3, 3, 3, 3,\n",
      "        3, 3, 4, 4, 4, 4, 4, 4, 4, 4, 4, 4, 4, 4, 4, 4, 4, 4, 4, 5, 5, 5, 5, 5,\n",
      "        5, 5, 5, 5, 5, 5, 5, 5, 5, 5, 6, 6, 6, 6, 6, 6, 6, 6, 6, 6, 6, 6, 6, 7,\n",
      "        7, 7, 7, 7, 7, 7, 7, 7, 7, 7, 7, 7, 7, 7])\n"
     ]
    }
   ],
   "source": [
    "print(type(data.y_dict))\n",
    "print(data.y_dict[\"venue\"])\n"
   ],
   "metadata": {
    "collapsed": false,
    "pycharm": {
     "name": "#%%\n"
    }
   }
  },
  {
   "cell_type": "code",
   "execution_count": 7,
   "outputs": [
    {
     "name": "stdout",
     "output_type": "stream",
     "text": [
      "<class 'dict'>\n",
      "tensor([1741, 2245,  111,  837, 2588, 2116, 2696, 3648, 3784,  313, 3414,  598,\n",
      "        2995, 2716, 1423,  783, 1902, 3132, 1753, 2748, 2660, 3182,  775, 3339,\n",
      "        1601, 3589,  156, 1145,  692, 3048,  925, 1587,  820, 1374, 3719,  819,\n",
      "         492, 3830, 2777, 3001, 3693,  517, 1808, 2353, 3499, 1763, 2372, 1030,\n",
      "         721, 2680, 3355, 1217, 3400, 1271, 1970, 1127,  407,  353, 1471, 1095,\n",
      "         477, 3701,   65, 1009, 1899, 1442, 2073, 3143, 2466,  289, 1996, 1070,\n",
      "        3871, 3695,  281, 3633,   50, 2642, 1925, 1285, 2587, 3814, 3582, 1873,\n",
      "        1339, 3450,  271, 2966,  453, 2638, 1354, 3211,  391, 1588, 3875, 2216,\n",
      "        2146, 3765, 2486,  661, 3367,  426,  750, 2158,  519,  230, 1677,  839,\n",
      "        2945, 1313, 1037, 2879, 2225, 3523, 1247,  448,  227, 3385,  529, 2849,\n",
      "        1584, 1229,  373, 2235, 1819, 1764, 3155, 2852, 2789, 3474, 1571, 2088,\n",
      "         208,  462])\n"
     ]
    }
   ],
   "source": [
    "print(type(data.y_index_dict))\n",
    "print(data.y_index_dict[\"venue\"])"
   ],
   "metadata": {
    "collapsed": false,
    "pycharm": {
     "name": "#%%\n"
    }
   }
  },
  {
   "cell_type": "code",
   "execution_count": 8,
   "outputs": [],
   "source": [
    "device = 'cuda' if torch.cuda.is_available() else 'cpu'"
   ],
   "metadata": {
    "collapsed": false,
    "pycharm": {
     "name": "#%%\n"
    }
   }
  },
  {
   "cell_type": "code",
   "execution_count": 9,
   "outputs": [],
   "source": [
    "\n",
    "metapath = [\n",
    "    ('author', 'writes', 'paper'),\n",
    "    ('paper', 'published_in', 'venue'),\n",
    "    ('venue', 'publishes', 'paper'),\n",
    "    ('paper', 'written_by', 'author'),\n",
    "]\n",
    "\n",
    "\n",
    "model = MetaPath2Vec(\n",
    "    data.edge_index_dict,\n",
    "                     embedding_dim=32,\n",
    "                     metapath=metapath,\n",
    "                     walk_length=5,\n",
    "                     context_size=3,\n",
    "                     walks_per_node=3,\n",
    "                     num_negative_samples=1,\n",
    "                     sparse=True\n",
    "                    ).to(device)"
   ],
   "metadata": {
    "collapsed": false,
    "pycharm": {
     "name": "#%%\n"
    }
   }
  },
  {
   "cell_type": "code",
   "execution_count": 10,
   "outputs": [],
   "source": [
    "# use the loader to build a loader\n",
    "loader = model.loader(batch_size=64, shuffle=True, num_workers=3)"
   ],
   "metadata": {
    "collapsed": false,
    "pycharm": {
     "name": "#%%\n"
    }
   }
  },
  {
   "cell_type": "code",
   "execution_count": 11,
   "outputs": [
    {
     "name": "stdout",
     "output_type": "stream",
     "text": [
      "0 torch.Size([768, 3]) torch.Size([768, 3])\n",
      "1 torch.Size([768, 3]) torch.Size([768, 3])\n",
      "2 torch.Size([768, 3]) torch.Size([768, 3])\n",
      "3 torch.Size([768, 3]) torch.Size([768, 3])\n",
      "4 torch.Size([768, 3]) torch.Size([768, 3])\n",
      "5 torch.Size([768, 3]) torch.Size([768, 3])\n",
      "6 torch.Size([768, 3]) torch.Size([768, 3])\n",
      "7 torch.Size([768, 3]) torch.Size([768, 3])\n",
      "8 torch.Size([768, 3]) torch.Size([768, 3])\n",
      "9 torch.Size([768, 3]) torch.Size([768, 3])\n"
     ]
    }
   ],
   "source": [
    "for idx, (pos_rw, neg_rw) in enumerate(loader):\n",
    "    if idx == 10: break\n",
    "    print(idx, pos_rw.shape, neg_rw.shape)"
   ],
   "metadata": {
    "collapsed": false,
    "pycharm": {
     "name": "#%%\n"
    }
   }
  },
  {
   "cell_type": "code",
   "execution_count": 12,
   "outputs": [],
   "source": [
    "# Inizialize optimizer\n",
    "optimizer = torch.optim.SparseAdam(list(model.parameters()), lr=0.01)"
   ],
   "metadata": {
    "collapsed": false,
    "pycharm": {
     "name": "#%%\n"
    }
   }
  },
  {
   "cell_type": "code",
   "execution_count": 14,
   "outputs": [
    {
     "name": "stdout",
     "output_type": "stream",
     "text": [
      "Epoch: 1, Step: 00500/26462, Loss: 3.6145\n",
      "Epoch: 1, Step: 01000/26462, Loss: 3.3771\n",
      "Epoch: 1, Step: 01000/26462, Acc: 0.2792\n",
      "Epoch: 1, Step: 01500/26462, Loss: 3.2212\n",
      "Epoch: 1, Step: 02000/26462, Loss: 3.1220\n",
      "Epoch: 1, Step: 02000/26462, Acc: 0.2785\n",
      "Epoch: 1, Step: 02500/26462, Loss: 3.0549\n",
      "Epoch: 1, Step: 03000/26462, Loss: 3.0186\n",
      "Epoch: 1, Step: 03000/26462, Acc: 0.2790\n",
      "Epoch: 1, Step: 03500/26462, Loss: 2.9998\n",
      "Epoch: 1, Step: 04000/26462, Loss: 2.9734\n",
      "Epoch: 1, Step: 04000/26462, Acc: 0.2787\n",
      "Epoch: 1, Step: 04500/26462, Loss: 2.9631\n",
      "Epoch: 1, Step: 05000/26462, Loss: 2.9510\n",
      "Epoch: 1, Step: 05000/26462, Acc: 0.2788\n",
      "Epoch: 1, Step: 05500/26462, Loss: 2.9447\n",
      "Epoch: 1, Step: 06000/26462, Loss: 2.9255\n",
      "Epoch: 1, Step: 06000/26462, Acc: 0.2786\n",
      "Epoch: 1, Step: 06500/26462, Loss: 2.9268\n",
      "Epoch: 1, Step: 07000/26462, Loss: 2.9194\n",
      "Epoch: 1, Step: 07000/26462, Acc: 0.2789\n",
      "Epoch: 1, Step: 07500/26462, Loss: 2.9076\n",
      "Epoch: 1, Step: 08000/26462, Loss: 2.8999\n",
      "Epoch: 1, Step: 08000/26462, Acc: 0.2788\n",
      "Epoch: 1, Step: 08500/26462, Loss: 2.8904\n",
      "Epoch: 1, Step: 09000/26462, Loss: 2.8782\n",
      "Epoch: 1, Step: 09000/26462, Acc: 0.2789\n",
      "Epoch: 1, Step: 09500/26462, Loss: 2.8724\n",
      "Epoch: 1, Step: 10000/26462, Loss: 2.8682\n",
      "Epoch: 1, Step: 10000/26462, Acc: 0.2785\n",
      "Epoch: 1, Step: 10500/26462, Loss: 2.8568\n",
      "Epoch: 1, Step: 11000/26462, Loss: 2.8468\n",
      "Epoch: 1, Step: 11000/26462, Acc: 0.2788\n",
      "Epoch: 1, Step: 11500/26462, Loss: 2.8456\n",
      "Epoch: 1, Step: 12000/26462, Loss: 2.8300\n",
      "Epoch: 1, Step: 12000/26462, Acc: 0.2791\n",
      "Epoch: 1, Step: 12500/26462, Loss: 2.8205\n",
      "Epoch: 1, Step: 13000/26462, Loss: 2.8166\n",
      "Epoch: 1, Step: 13000/26462, Acc: 0.2790\n",
      "Epoch: 1, Step: 13500/26462, Loss: 2.8132\n",
      "Epoch: 1, Step: 14000/26462, Loss: 2.7942\n",
      "Epoch: 1, Step: 14000/26462, Acc: 0.2781\n",
      "Epoch: 1, Step: 14500/26462, Loss: 2.7895\n",
      "Epoch: 1, Step: 15000/26462, Loss: 2.7748\n",
      "Epoch: 1, Step: 15000/26462, Acc: 0.2785\n",
      "Epoch: 1, Step: 15500/26462, Loss: 2.7710\n",
      "Epoch: 1, Step: 16000/26462, Loss: 2.7638\n",
      "Epoch: 1, Step: 16000/26462, Acc: 0.2791\n",
      "Epoch: 1, Step: 16500/26462, Loss: 2.7602\n",
      "Epoch: 1, Step: 17000/26462, Loss: 2.7488\n",
      "Epoch: 1, Step: 17000/26462, Acc: 0.2782\n",
      "Epoch: 1, Step: 17500/26462, Loss: 2.7444\n",
      "Epoch: 1, Step: 18000/26462, Loss: 2.7430\n",
      "Epoch: 1, Step: 18000/26462, Acc: 0.2792\n",
      "Epoch: 1, Step: 18500/26462, Loss: 2.7241\n",
      "Epoch: 1, Step: 19000/26462, Loss: 2.7140\n",
      "Epoch: 1, Step: 19000/26462, Acc: 0.2789\n",
      "Epoch: 1, Step: 19500/26462, Loss: 2.7040\n",
      "Epoch: 1, Step: 20000/26462, Loss: 2.7049\n",
      "Epoch: 1, Step: 20000/26462, Acc: 0.2790\n",
      "Epoch: 1, Step: 20500/26462, Loss: 2.6948\n",
      "Epoch: 1, Step: 21000/26462, Loss: 2.6838\n",
      "Epoch: 1, Step: 21000/26462, Acc: 0.2788\n",
      "Epoch: 1, Step: 21500/26462, Loss: 2.6791\n",
      "Epoch: 1, Step: 22000/26462, Loss: 2.6672\n",
      "Epoch: 1, Step: 22000/26462, Acc: 0.2787\n",
      "Epoch: 1, Step: 22500/26462, Loss: 2.6715\n",
      "Epoch: 1, Step: 23000/26462, Loss: 2.6607\n",
      "Epoch: 1, Step: 23000/26462, Acc: 0.2784\n",
      "Epoch: 1, Step: 23500/26462, Loss: 2.6593\n",
      "Epoch: 1, Step: 24000/26462, Loss: 2.6422\n",
      "Epoch: 1, Step: 24000/26462, Acc: 0.2789\n",
      "Epoch: 1, Step: 24500/26462, Loss: 2.6330\n",
      "Epoch: 1, Step: 25000/26462, Loss: 2.6272\n",
      "Epoch: 1, Step: 25000/26462, Acc: 0.2788\n",
      "Epoch: 1, Step: 25500/26462, Loss: 2.6176\n",
      "Epoch: 1, Step: 26000/26462, Loss: 2.6167\n",
      "Epoch: 1, Step: 26000/26462, Acc: 0.2788\n",
      "Epoch: 1, Accuracy: 0.2790\n"
     ]
    }
   ],
   "source": [
    "def train(epoch, log_steps=500, eval_steps=1000):\n",
    "    model.train()\n",
    "\n",
    "    total_loss = 0\n",
    "    for i, (pos_rw, neg_rw) in enumerate(loader):\n",
    "        optimizer.zero_grad()\n",
    "        loss = model.loss(pos_rw.to(device), neg_rw.to(device))\n",
    "        loss.backward()\n",
    "        optimizer.step()\n",
    "\n",
    "        total_loss += loss.item()\n",
    "        if (i + 1) % log_steps == 0:\n",
    "            print((f'Epoch: {epoch}, Step: {i + 1:05d}/{len(loader)}, '\n",
    "                   f'Loss: {total_loss / log_steps:.4f}'))\n",
    "            total_loss = 0\n",
    "\n",
    "        if (i + 1) % eval_steps == 0:\n",
    "            acc = test()\n",
    "            print((f'Epoch: {epoch}, Step: {i + 1:05d}/{len(loader)}, '\n",
    "                   f'Acc: {acc:.4f}'))\n",
    "\n",
    "@torch.no_grad()\n",
    "def test(train_ratio=0.1):\n",
    "    model.eval()\n",
    "\n",
    "    batch = data.y_index_dict['author'].to(device)\n",
    "    z = model('author', batch=batch)\n",
    "    y = data.y_dict['author']\n",
    "\n",
    "    perm = torch.randperm(z.size(0))\n",
    "    train_perm = perm[:int(z.size(0) * train_ratio)]\n",
    "    test_perm = perm[int(z.size(0) * train_ratio):]\n",
    "\n",
    "    return model.test(z[train_perm], y[train_perm], z[test_perm],\n",
    "                      y[test_perm], max_iter=150)\n",
    "\n",
    "for epoch in range(1, 2):\n",
    "    train(epoch)\n",
    "    acc = test()\n",
    "    print(f'Epoch: {epoch}, Accuracy: {acc:.4f}')\n"
   ],
   "metadata": {
    "collapsed": false,
    "pycharm": {
     "name": "#%%\n"
    }
   }
  },
  {
   "cell_type": "code",
   "execution_count": null,
   "outputs": [],
   "source": [],
   "metadata": {
    "collapsed": false,
    "pycharm": {
     "name": "#%%\n"
    }
   }
  }
 ],
 "metadata": {
  "kernelspec": {
   "display_name": "Python 3",
   "language": "python",
   "name": "python3"
  },
  "language_info": {
   "codemirror_mode": {
    "name": "ipython",
    "version": 2
   },
   "file_extension": ".py",
   "mimetype": "text/x-python",
   "name": "python",
   "nbconvert_exporter": "python",
   "pygments_lexer": "ipython2",
   "version": "2.7.6"
  }
 },
 "nbformat": 4,
 "nbformat_minor": 0
}