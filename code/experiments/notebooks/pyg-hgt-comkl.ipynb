{
 "cells": [
  {
   "cell_type": "code",
   "execution_count": 1,
   "metadata": {
    "collapsed": true
   },
   "outputs": [
    {
     "name": "stdout",
     "output_type": "stream",
     "text": [
      "[2022-02-11 17:30:44,533][simple_parsing.helpers.serialization.serializable][DEBUG] Registering a new Serializable subclass: <class 'simple_parsing.helpers.serialization.serializable.Serializable'>\n",
      "[2022-02-11 17:30:44,534][simple_parsing.helpers.serialization.serializable][DEBUG] parents: [<class 'simple_parsing.helpers.serialization.serializable.SerializableMixin'>]\n",
      "[2022-02-11 17:30:44,535][simple_parsing.helpers.serialization.serializable][DEBUG] Registering a new Serializable subclass: <class 'simple_parsing.helpers.serialization.serializable.FrozenSerializable'>\n",
      "[2022-02-11 17:30:44,535][simple_parsing.helpers.serialization.serializable][DEBUG] parents: [<class 'simple_parsing.helpers.serialization.serializable.SerializableMixin'>]\n",
      "[2022-02-11 17:30:44,536][simple_parsing.helpers.serialization.serializable][DEBUG] Registering a new Serializable subclass: <class 'simple_parsing.helpers.serialization.serializable.SimpleSerializable'>\n",
      "[2022-02-11 17:30:44,538][simple_parsing.helpers.serialization.serializable][DEBUG] Registering a new Serializable subclass: <class 'simple_parsing.helpers.serialization.yaml_serialization.YamlSerializable'>\n",
      "[2022-02-11 17:30:44,538][simple_parsing.helpers.serialization.serializable][DEBUG] parents: [<class 'simple_parsing.helpers.serialization.serializable.Serializable'>, <class 'simple_parsing.helpers.serialization.serializable.SerializableMixin'>]\n",
      "[2022-02-11 17:30:44,539][simple_parsing.helpers.serialization.serializable][DEBUG] Parent class <class 'simple_parsing.helpers.serialization.serializable.Serializable'> has decode_into_subclasses = False\n",
      "[2022-02-11 17:30:44,545][simple_parsing.helpers.serialization.serializable][DEBUG] Registering a new Serializable subclass: <class 'simple_parsing.helpers.hparams.hyperparameters.BoundInfo'>\n",
      "[2022-02-11 17:30:44,545][simple_parsing.helpers.serialization.serializable][DEBUG] parents: [<class 'simple_parsing.helpers.serialization.serializable.Serializable'>, <class 'simple_parsing.helpers.serialization.serializable.SerializableMixin'>]\n",
      "[2022-02-11 17:30:44,546][simple_parsing.helpers.serialization.serializable][DEBUG] Parent class <class 'simple_parsing.helpers.serialization.serializable.Serializable'> has decode_into_subclasses = False\n",
      "[2022-02-11 17:30:44,547][simple_parsing.helpers.serialization.serializable][DEBUG] Registering a new Serializable subclass: <class 'simple_parsing.helpers.hparams.hyperparameters.HyperParameters'>\n",
      "[2022-02-11 17:30:44,554][simple_parsing.helpers.serialization.serializable][DEBUG] Registering a new Serializable subclass: <class 'shared.schema.dataset.DatasetVersion'>\n",
      "[2022-02-11 17:30:44,555][simple_parsing.helpers.serialization.serializable][DEBUG] parents: [<class 'simple_parsing.helpers.serialization.serializable.Serializable'>, <class 'simple_parsing.helpers.serialization.serializable.SerializableMixin'>]\n",
      "[2022-02-11 17:30:44,555][simple_parsing.helpers.serialization.serializable][DEBUG] Parent class <class 'simple_parsing.helpers.serialization.serializable.Serializable'> has decode_into_subclasses = False\n",
      "[2022-02-11 17:30:44,557][simple_parsing.helpers.serialization.serializable][DEBUG] Registering a new Serializable subclass: <class 'shared.schema.dataset.DatasetSchema'>\n",
      "[2022-02-11 17:30:44,557][simple_parsing.helpers.serialization.serializable][DEBUG] parents: [<class 'shared.schema.dataset.DatasetPath'>, <class 'simple_parsing.helpers.serialization.serializable.Serializable'>, <class 'simple_parsing.helpers.serialization.serializable.SerializableMixin'>]\n",
      "[2022-02-11 17:30:44,557][simple_parsing.helpers.serialization.serializable][DEBUG] Parent class <class 'simple_parsing.helpers.serialization.serializable.Serializable'> has decode_into_subclasses = False\n",
      "[2022-02-11 17:30:44,580][simple_parsing.helpers.serialization.serializable][DEBUG] Registering a new Serializable subclass: <class 'shared.schema.graph.DType'>\n",
      "[2022-02-11 17:30:44,581][simple_parsing.helpers.serialization.serializable][DEBUG] parents: [<class 'simple_parsing.helpers.serialization.serializable.Serializable'>, <class 'simple_parsing.helpers.serialization.serializable.SerializableMixin'>]\n",
      "[2022-02-11 17:30:44,582][simple_parsing.helpers.serialization.serializable][DEBUG] Parent class <class 'simple_parsing.helpers.serialization.serializable.Serializable'> has decode_into_subclasses = False\n",
      "[2022-02-11 17:30:44,583][simple_parsing.helpers.serialization.serializable][DEBUG] Registering a new Serializable subclass: <class 'shared.schema.graph.GraphProperty'>\n",
      "[2022-02-11 17:30:44,584][simple_parsing.helpers.serialization.serializable][DEBUG] parents: [<class 'simple_parsing.helpers.serialization.serializable.Serializable'>, <class 'simple_parsing.helpers.serialization.serializable.SerializableMixin'>]\n",
      "[2022-02-11 17:30:44,584][simple_parsing.helpers.serialization.serializable][DEBUG] Parent class <class 'simple_parsing.helpers.serialization.serializable.Serializable'> has decode_into_subclasses = False\n",
      "[2022-02-11 17:30:44,585][simple_parsing.helpers.serialization.serializable][DEBUG] Registering a new Serializable subclass: <class 'shared.schema.graph.DynamicConfig'>\n",
      "[2022-02-11 17:30:44,585][simple_parsing.helpers.serialization.serializable][DEBUG] parents: [<class 'simple_parsing.helpers.serialization.serializable.Serializable'>, <class 'simple_parsing.helpers.serialization.serializable.SerializableMixin'>]\n",
      "[2022-02-11 17:30:44,586][simple_parsing.helpers.serialization.serializable][DEBUG] Parent class <class 'simple_parsing.helpers.serialization.serializable.Serializable'> has decode_into_subclasses = False\n",
      "[2022-02-11 17:30:44,586][simple_parsing.helpers.serialization.serializable][DEBUG] Registering a new Serializable subclass: <class 'shared.schema.graph.EntitySchema'>\n",
      "[2022-02-11 17:30:44,587][simple_parsing.helpers.serialization.serializable][DEBUG] parents: [<class 'simple_parsing.helpers.serialization.serializable.Serializable'>, <class 'simple_parsing.helpers.serialization.serializable.SerializableMixin'>]\n",
      "[2022-02-11 17:30:44,587][simple_parsing.helpers.serialization.serializable][DEBUG] Parent class <class 'simple_parsing.helpers.serialization.serializable.Serializable'> has decode_into_subclasses = False\n",
      "[2022-02-11 17:30:44,589][simple_parsing.helpers.serialization.serializable][DEBUG] Registering a new Serializable subclass: <class 'shared.schema.graph.NodeSchema'>\n",
      "[2022-02-11 17:30:44,589][simple_parsing.helpers.serialization.serializable][DEBUG] parents: [<class 'shared.schema.graph.EntitySchema'>, <class 'simple_parsing.helpers.serialization.serializable.Serializable'>, <class 'simple_parsing.helpers.serialization.serializable.SerializableMixin'>]\n",
      "[2022-02-11 17:30:44,590][simple_parsing.helpers.serialization.serializable][DEBUG] Parent class <class 'shared.schema.graph.EntitySchema'> has decode_into_subclasses = False\n",
      "[2022-02-11 17:30:44,591][simple_parsing.helpers.serialization.serializable][DEBUG] Registering a new Serializable subclass: <class 'shared.schema.graph.EdgeSchema'>\n",
      "[2022-02-11 17:30:44,591][simple_parsing.helpers.serialization.serializable][DEBUG] parents: [<class 'shared.schema.graph.EntitySchema'>, <class 'simple_parsing.helpers.serialization.serializable.Serializable'>, <class 'simple_parsing.helpers.serialization.serializable.SerializableMixin'>]\n",
      "[2022-02-11 17:30:44,591][simple_parsing.helpers.serialization.serializable][DEBUG] Parent class <class 'shared.schema.graph.EntitySchema'> has decode_into_subclasses = False\n",
      "[2022-02-11 17:30:44,592][simple_parsing.helpers.serialization.serializable][DEBUG] Registering a new Serializable subclass: <class 'shared.schema.graph.GraphSchema'>\n",
      "[2022-02-11 17:30:44,593][simple_parsing.helpers.serialization.serializable][DEBUG] parents: [<class 'simple_parsing.helpers.serialization.serializable.Serializable'>, <class 'simple_parsing.helpers.serialization.serializable.SerializableMixin'>]\n",
      "[2022-02-11 17:30:44,593][simple_parsing.helpers.serialization.serializable][DEBUG] Parent class <class 'simple_parsing.helpers.serialization.serializable.Serializable'> has decode_into_subclasses = False\n",
      "[2022-02-11 17:30:44,600][simple_parsing.helpers.serialization.serializable][DEBUG] from_dict for <class 'shared.schema.dataset.DatasetSchema'>, drop extra fields: True\n",
      "[2022-02-11 17:30:44,600][simple_parsing.helpers.serialization.decoding][DEBUG] name = name, field_type = <class 'str'>\n",
      "[2022-02-11 17:30:44,601][simple_parsing.helpers.serialization.decoding][DEBUG] name = database, field_type = <class 'str'>\n",
      "[2022-02-11 17:30:44,601][simple_parsing.helpers.serialization.decoding][DEBUG] name = description, field_type = <class 'str'>\n",
      "[2022-02-11 17:30:44,602][simple_parsing.helpers.serialization.decoding][DEBUG] name = versions, field_type = typing.Dict[str, shared.schema.dataset.DatasetVersion]\n",
      "[2022-02-11 17:30:44,603][simple_parsing.helpers.serialization.decoding][DEBUG] Decoding a Dict field: typing.Dict[str, shared.schema.dataset.DatasetVersion]\n",
      "[2022-02-11 17:30:44,603][simple_parsing.helpers.serialization.serializable][DEBUG] from_dict for <class 'shared.schema.dataset.DatasetVersion'>, drop extra fields: True\n",
      "[2022-02-11 17:30:44,604][simple_parsing.helpers.serialization.decoding][DEBUG] name = type, field_type = <enum 'DatasetVersionType'>\n",
      "[2022-02-11 17:30:44,605][simple_parsing.helpers.serialization.decoding][DEBUG] name = parameters, field_type = typing.Dict[str, typing.Any]\n",
      "[2022-02-11 17:30:44,606][simple_parsing.helpers.serialization.decoding][DEBUG] Decoding a Dict field: typing.Dict[str, typing.Any]\n",
      "[2022-02-11 17:30:44,607][simple_parsing.helpers.serialization.decoding][DEBUG] Decoding an Any type: typing.Any\n",
      "[2022-02-11 17:30:44,607][simple_parsing.helpers.serialization.serializable][DEBUG] from_dict for <class 'shared.schema.dataset.DatasetVersion'>, drop extra fields: True\n",
      "[2022-02-11 17:30:44,608][simple_parsing.helpers.serialization.decoding][DEBUG] name = type, field_type = <enum 'DatasetVersionType'>\n",
      "[2022-02-11 17:30:44,609][simple_parsing.helpers.serialization.decoding][DEBUG] name = parameters, field_type = typing.Dict[str, typing.Any]\n",
      "[2022-02-11 17:30:44,609][simple_parsing.helpers.serialization.serializable][DEBUG] from_dict for <class 'shared.schema.dataset.DatasetVersion'>, drop extra fields: True\n",
      "[2022-02-11 17:30:44,610][simple_parsing.helpers.serialization.decoding][DEBUG] name = type, field_type = <enum 'DatasetVersionType'>\n",
      "[2022-02-11 17:30:44,611][simple_parsing.helpers.serialization.decoding][DEBUG] name = parameters, field_type = typing.Dict[str, typing.Any]\n",
      "[2022-02-11 17:30:44,611][simple_parsing.helpers.serialization.decoding][DEBUG] name = tags, field_type = typing.List[str]\n",
      "[2022-02-11 17:30:44,612][simple_parsing.helpers.serialization.decoding][DEBUG] Decoding a List field: typing.List[str]\n",
      "[2022-02-11 17:30:44,633][simple_parsing.helpers.serialization.serializable][DEBUG] from_dict for <class 'shared.schema.graph.GraphSchema'>, drop extra fields: True\n",
      "[2022-02-11 17:30:44,633][simple_parsing.helpers.serialization.decoding][DEBUG] name = nodes, field_type = typing.Dict[str, shared.schema.graph.NodeSchema]\n",
      "[2022-02-11 17:30:44,634][simple_parsing.helpers.serialization.decoding][DEBUG] Decoding a Dict field: typing.Dict[str, shared.schema.graph.NodeSchema]\n",
      "[2022-02-11 17:30:44,635][simple_parsing.helpers.serialization.serializable][DEBUG] from_dict for <class 'shared.schema.graph.NodeSchema'>, drop extra fields: True\n",
      "[2022-02-11 17:30:44,635][simple_parsing.helpers.serialization.decoding][DEBUG] name = label, field_type = <class 'str'>\n",
      "[2022-02-11 17:30:44,636][simple_parsing.helpers.serialization.decoding][DEBUG] name = properties, field_type = typing.Dict[str, shared.schema.graph.GraphProperty]\n",
      "[2022-02-11 17:30:44,637][simple_parsing.helpers.serialization.decoding][DEBUG] Decoding a Dict field: typing.Dict[str, shared.schema.graph.GraphProperty]\n",
      "[2022-02-11 17:30:44,637][simple_parsing.helpers.serialization.serializable][DEBUG] from_dict for <class 'shared.schema.graph.GraphProperty'>, drop extra fields: True\n",
      "[2022-02-11 17:30:44,638][simple_parsing.helpers.serialization.decoding][DEBUG] name = dtype, field_type = <class 'shared.schema.graph.DType'>\n",
      "[2022-02-11 17:30:44,639][simple_parsing.helpers.serialization.serializable][DEBUG] from_dict for <class 'shared.schema.graph.GraphProperty'>, drop extra fields: True\n",
      "[2022-02-11 17:30:44,639][simple_parsing.helpers.serialization.decoding][DEBUG] name = dtype, field_type = <class 'shared.schema.graph.DType'>\n",
      "[2022-02-11 17:30:44,643][simple_parsing.helpers.serialization.serializable][DEBUG] from_dict for <class 'shared.schema.graph.GraphProperty'>, drop extra fields: True\n",
      "[2022-02-11 17:30:44,644][simple_parsing.helpers.serialization.decoding][DEBUG] name = dtype, field_type = <class 'shared.schema.graph.DType'>\n",
      "[2022-02-11 17:30:44,645][simple_parsing.helpers.serialization.serializable][DEBUG] from_dict for <class 'shared.schema.graph.GraphProperty'>, drop extra fields: True\n",
      "[2022-02-11 17:30:44,646][simple_parsing.helpers.serialization.decoding][DEBUG] name = dtype, field_type = <class 'shared.schema.graph.DType'>\n",
      "[2022-02-11 17:30:44,647][simple_parsing.helpers.serialization.serializable][DEBUG] from_dict for <class 'shared.schema.graph.GraphProperty'>, drop extra fields: True\n",
      "[2022-02-11 17:30:44,648][simple_parsing.helpers.serialization.decoding][DEBUG] name = dtype, field_type = <class 'shared.schema.graph.DType'>\n",
      "[2022-02-11 17:30:44,649][simple_parsing.helpers.serialization.serializable][DEBUG] from_dict for <class 'shared.schema.graph.GraphProperty'>, drop extra fields: True\n",
      "[2022-02-11 17:30:44,649][simple_parsing.helpers.serialization.decoding][DEBUG] name = dtype, field_type = <class 'shared.schema.graph.DType'>\n",
      "[2022-02-11 17:30:44,650][simple_parsing.helpers.serialization.serializable][DEBUG] from_dict for <class 'shared.schema.graph.GraphProperty'>, drop extra fields: True\n",
      "[2022-02-11 17:30:44,651][simple_parsing.helpers.serialization.decoding][DEBUG] name = dtype, field_type = <class 'shared.schema.graph.DType'>\n",
      "[2022-02-11 17:30:44,651][simple_parsing.helpers.serialization.serializable][DEBUG] from_dict for <class 'shared.schema.graph.GraphProperty'>, drop extra fields: True\n",
      "[2022-02-11 17:30:44,652][simple_parsing.helpers.serialization.decoding][DEBUG] name = dtype, field_type = <class 'shared.schema.graph.DType'>\n",
      "[2022-02-11 17:30:44,653][simple_parsing.helpers.serialization.serializable][DEBUG] from_dict for <class 'shared.schema.graph.GraphProperty'>, drop extra fields: True\n",
      "[2022-02-11 17:30:44,654][simple_parsing.helpers.serialization.decoding][DEBUG] name = dtype, field_type = <class 'shared.schema.graph.DType'>\n",
      "[2022-02-11 17:30:44,655][simple_parsing.helpers.serialization.serializable][DEBUG] from_dict for <class 'shared.schema.graph.GraphProperty'>, drop extra fields: True\n",
      "[2022-02-11 17:30:44,658][simple_parsing.helpers.serialization.decoding][DEBUG] name = dtype, field_type = <class 'shared.schema.graph.DType'>\n",
      "[2022-02-11 17:30:44,659][simple_parsing.helpers.serialization.serializable][DEBUG] from_dict for <class 'shared.schema.graph.GraphProperty'>, drop extra fields: True\n",
      "[2022-02-11 17:30:44,660][simple_parsing.helpers.serialization.decoding][DEBUG] name = dtype, field_type = <class 'shared.schema.graph.DType'>\n",
      "[2022-02-11 17:30:44,661][simple_parsing.helpers.serialization.serializable][DEBUG] from_dict for <class 'shared.schema.graph.GraphProperty'>, drop extra fields: True\n",
      "[2022-02-11 17:30:44,662][simple_parsing.helpers.serialization.decoding][DEBUG] name = dtype, field_type = <class 'shared.schema.graph.DType'>\n",
      "[2022-02-11 17:30:44,662][simple_parsing.helpers.serialization.serializable][DEBUG] from_dict for <class 'shared.schema.graph.GraphProperty'>, drop extra fields: True\n",
      "[2022-02-11 17:30:44,663][simple_parsing.helpers.serialization.decoding][DEBUG] name = dtype, field_type = <class 'shared.schema.graph.DType'>\n",
      "[2022-02-11 17:30:44,664][simple_parsing.helpers.serialization.serializable][DEBUG] from_dict for <class 'shared.schema.graph.GraphProperty'>, drop extra fields: True\n",
      "[2022-02-11 17:30:44,665][simple_parsing.helpers.serialization.decoding][DEBUG] name = dtype, field_type = <class 'shared.schema.graph.DType'>\n",
      "[2022-02-11 17:30:44,665][simple_parsing.helpers.serialization.serializable][DEBUG] from_dict for <class 'shared.schema.graph.GraphProperty'>, drop extra fields: True\n",
      "[2022-02-11 17:30:44,666][simple_parsing.helpers.serialization.decoding][DEBUG] name = dtype, field_type = <class 'shared.schema.graph.DType'>\n",
      "[2022-02-11 17:30:44,667][simple_parsing.helpers.serialization.serializable][DEBUG] from_dict for <class 'shared.schema.graph.GraphProperty'>, drop extra fields: True\n",
      "[2022-02-11 17:30:44,667][simple_parsing.helpers.serialization.decoding][DEBUG] name = dtype, field_type = <class 'shared.schema.graph.DType'>\n",
      "[2022-02-11 17:30:44,668][simple_parsing.helpers.serialization.serializable][DEBUG] from_dict for <class 'shared.schema.graph.GraphProperty'>, drop extra fields: True\n",
      "[2022-02-11 17:30:44,669][simple_parsing.helpers.serialization.decoding][DEBUG] name = dtype, field_type = <class 'shared.schema.graph.DType'>\n",
      "[2022-02-11 17:30:44,669][simple_parsing.helpers.serialization.serializable][DEBUG] from_dict for <class 'shared.schema.graph.GraphProperty'>, drop extra fields: True\n",
      "[2022-02-11 17:30:44,670][simple_parsing.helpers.serialization.decoding][DEBUG] name = dtype, field_type = <class 'shared.schema.graph.DType'>\n",
      "[2022-02-11 17:30:44,671][simple_parsing.helpers.serialization.serializable][DEBUG] from_dict for <class 'shared.schema.graph.GraphProperty'>, drop extra fields: True\n",
      "[2022-02-11 17:30:44,671][simple_parsing.helpers.serialization.decoding][DEBUG] name = dtype, field_type = <class 'shared.schema.graph.DType'>\n",
      "[2022-02-11 17:30:44,672][simple_parsing.helpers.serialization.serializable][DEBUG] from_dict for <class 'shared.schema.graph.GraphProperty'>, drop extra fields: True\n",
      "[2022-02-11 17:30:44,673][simple_parsing.helpers.serialization.decoding][DEBUG] name = dtype, field_type = <class 'shared.schema.graph.DType'>\n",
      "[2022-02-11 17:30:44,674][simple_parsing.helpers.serialization.serializable][DEBUG] from_dict for <class 'shared.schema.graph.GraphProperty'>, drop extra fields: True\n",
      "[2022-02-11 17:30:44,675][simple_parsing.helpers.serialization.decoding][DEBUG] name = dtype, field_type = <class 'shared.schema.graph.DType'>\n",
      "[2022-02-11 17:30:44,676][simple_parsing.helpers.serialization.serializable][DEBUG] from_dict for <class 'shared.schema.graph.GraphProperty'>, drop extra fields: True\n",
      "[2022-02-11 17:30:44,677][simple_parsing.helpers.serialization.decoding][DEBUG] name = dtype, field_type = <class 'shared.schema.graph.DType'>\n",
      "[2022-02-11 17:30:44,677][simple_parsing.helpers.serialization.serializable][DEBUG] from_dict for <class 'shared.schema.graph.GraphProperty'>, drop extra fields: True\n",
      "[2022-02-11 17:30:44,678][simple_parsing.helpers.serialization.decoding][DEBUG] name = dtype, field_type = <class 'shared.schema.graph.DType'>\n",
      "[2022-02-11 17:30:44,679][simple_parsing.helpers.serialization.serializable][DEBUG] from_dict for <class 'shared.schema.graph.GraphProperty'>, drop extra fields: True\n",
      "[2022-02-11 17:30:44,680][simple_parsing.helpers.serialization.decoding][DEBUG] name = dtype, field_type = <class 'shared.schema.graph.DType'>\n",
      "[2022-02-11 17:30:44,686][simple_parsing.helpers.serialization.serializable][DEBUG] from_dict for <class 'shared.schema.graph.GraphProperty'>, drop extra fields: True\n",
      "[2022-02-11 17:30:44,687][simple_parsing.helpers.serialization.decoding][DEBUG] name = dtype, field_type = <class 'shared.schema.graph.DType'>\n",
      "[2022-02-11 17:30:44,688][simple_parsing.helpers.serialization.serializable][DEBUG] from_dict for <class 'shared.schema.graph.GraphProperty'>, drop extra fields: True\n",
      "[2022-02-11 17:30:44,689][simple_parsing.helpers.serialization.decoding][DEBUG] name = dtype, field_type = <class 'shared.schema.graph.DType'>\n",
      "[2022-02-11 17:30:44,689][simple_parsing.helpers.serialization.serializable][DEBUG] from_dict for <class 'shared.schema.graph.GraphProperty'>, drop extra fields: True\n",
      "[2022-02-11 17:30:44,690][simple_parsing.helpers.serialization.decoding][DEBUG] name = dtype, field_type = <class 'shared.schema.graph.DType'>\n",
      "[2022-02-11 17:30:44,691][simple_parsing.helpers.serialization.serializable][DEBUG] from_dict for <class 'shared.schema.graph.GraphProperty'>, drop extra fields: True\n",
      "[2022-02-11 17:30:44,692][simple_parsing.helpers.serialization.decoding][DEBUG] name = dtype, field_type = <class 'shared.schema.graph.DType'>\n",
      "[2022-02-11 17:30:44,693][simple_parsing.helpers.serialization.serializable][DEBUG] from_dict for <class 'shared.schema.graph.GraphProperty'>, drop extra fields: True\n",
      "[2022-02-11 17:30:44,694][simple_parsing.helpers.serialization.decoding][DEBUG] name = dtype, field_type = <class 'shared.schema.graph.DType'>\n",
      "[2022-02-11 17:30:44,695][simple_parsing.helpers.serialization.serializable][DEBUG] from_dict for <class 'shared.schema.graph.GraphProperty'>, drop extra fields: True\n",
      "[2022-02-11 17:30:44,696][simple_parsing.helpers.serialization.decoding][DEBUG] name = dtype, field_type = <class 'shared.schema.graph.DType'>\n",
      "[2022-02-11 17:30:44,697][simple_parsing.helpers.serialization.serializable][DEBUG] from_dict for <class 'shared.schema.graph.GraphProperty'>, drop extra fields: True\n",
      "[2022-02-11 17:30:44,697][simple_parsing.helpers.serialization.decoding][DEBUG] name = dtype, field_type = <class 'shared.schema.graph.DType'>\n",
      "[2022-02-11 17:30:44,698][simple_parsing.helpers.serialization.serializable][DEBUG] from_dict for <class 'shared.schema.graph.GraphProperty'>, drop extra fields: True\n",
      "[2022-02-11 17:30:44,699][simple_parsing.helpers.serialization.decoding][DEBUG] name = dtype, field_type = <class 'shared.schema.graph.DType'>\n",
      "[2022-02-11 17:30:44,700][simple_parsing.helpers.serialization.serializable][DEBUG] from_dict for <class 'shared.schema.graph.GraphProperty'>, drop extra fields: True\n",
      "[2022-02-11 17:30:44,701][simple_parsing.helpers.serialization.decoding][DEBUG] name = dtype, field_type = <class 'shared.schema.graph.DType'>\n",
      "[2022-02-11 17:30:44,701][simple_parsing.helpers.serialization.serializable][DEBUG] from_dict for <class 'shared.schema.graph.GraphProperty'>, drop extra fields: True\n",
      "[2022-02-11 17:30:44,702][simple_parsing.helpers.serialization.decoding][DEBUG] name = dtype, field_type = <class 'shared.schema.graph.DType'>\n",
      "[2022-02-11 17:30:44,703][simple_parsing.helpers.serialization.serializable][DEBUG] from_dict for <class 'shared.schema.graph.GraphProperty'>, drop extra fields: True\n",
      "[2022-02-11 17:30:44,704][simple_parsing.helpers.serialization.decoding][DEBUG] name = dtype, field_type = <class 'shared.schema.graph.DType'>\n",
      "[2022-02-11 17:30:44,705][simple_parsing.helpers.serialization.serializable][DEBUG] from_dict for <class 'shared.schema.graph.GraphProperty'>, drop extra fields: True\n",
      "[2022-02-11 17:30:44,705][simple_parsing.helpers.serialization.decoding][DEBUG] name = dtype, field_type = <class 'shared.schema.graph.DType'>\n",
      "[2022-02-11 17:30:44,706][simple_parsing.helpers.serialization.serializable][DEBUG] from_dict for <class 'shared.schema.graph.GraphProperty'>, drop extra fields: True\n",
      "[2022-02-11 17:30:44,707][simple_parsing.helpers.serialization.decoding][DEBUG] name = dtype, field_type = <class 'shared.schema.graph.DType'>\n",
      "[2022-02-11 17:30:44,709][simple_parsing.helpers.serialization.serializable][DEBUG] from_dict for <class 'shared.schema.graph.GraphProperty'>, drop extra fields: True\n",
      "[2022-02-11 17:30:44,710][simple_parsing.helpers.serialization.decoding][DEBUG] name = dtype, field_type = <class 'shared.schema.graph.DType'>\n",
      "[2022-02-11 17:30:44,710][simple_parsing.helpers.serialization.serializable][DEBUG] from_dict for <class 'shared.schema.graph.GraphProperty'>, drop extra fields: True\n",
      "[2022-02-11 17:30:44,711][simple_parsing.helpers.serialization.decoding][DEBUG] name = dtype, field_type = <class 'shared.schema.graph.DType'>\n",
      "[2022-02-11 17:30:44,712][simple_parsing.helpers.serialization.serializable][DEBUG] from_dict for <class 'shared.schema.graph.GraphProperty'>, drop extra fields: True\n",
      "[2022-02-11 17:30:44,713][simple_parsing.helpers.serialization.decoding][DEBUG] name = dtype, field_type = <class 'shared.schema.graph.DType'>\n",
      "[2022-02-11 17:30:44,714][simple_parsing.helpers.serialization.serializable][DEBUG] from_dict for <class 'shared.schema.graph.GraphProperty'>, drop extra fields: True\n",
      "[2022-02-11 17:30:44,714][simple_parsing.helpers.serialization.decoding][DEBUG] name = dtype, field_type = <class 'shared.schema.graph.DType'>\n",
      "[2022-02-11 17:30:44,715][simple_parsing.helpers.serialization.serializable][DEBUG] from_dict for <class 'shared.schema.graph.GraphProperty'>, drop extra fields: True\n",
      "[2022-02-11 17:30:44,716][simple_parsing.helpers.serialization.decoding][DEBUG] name = dtype, field_type = <class 'shared.schema.graph.DType'>\n",
      "[2022-02-11 17:30:44,717][simple_parsing.helpers.serialization.serializable][DEBUG] from_dict for <class 'shared.schema.graph.GraphProperty'>, drop extra fields: True\n",
      "[2022-02-11 17:30:44,718][simple_parsing.helpers.serialization.decoding][DEBUG] name = dtype, field_type = <class 'shared.schema.graph.DType'>\n",
      "[2022-02-11 17:30:44,718][simple_parsing.helpers.serialization.serializable][DEBUG] from_dict for <class 'shared.schema.graph.GraphProperty'>, drop extra fields: True\n",
      "[2022-02-11 17:30:44,719][simple_parsing.helpers.serialization.decoding][DEBUG] name = dtype, field_type = <class 'shared.schema.graph.DType'>\n",
      "[2022-02-11 17:30:44,720][simple_parsing.helpers.serialization.serializable][DEBUG] from_dict for <class 'shared.schema.graph.GraphProperty'>, drop extra fields: True\n",
      "[2022-02-11 17:30:44,721][simple_parsing.helpers.serialization.decoding][DEBUG] name = dtype, field_type = <class 'shared.schema.graph.DType'>\n",
      "[2022-02-11 17:30:44,721][simple_parsing.helpers.serialization.serializable][DEBUG] from_dict for <class 'shared.schema.graph.GraphProperty'>, drop extra fields: True\n",
      "[2022-02-11 17:30:44,723][simple_parsing.helpers.serialization.decoding][DEBUG] name = dtype, field_type = <class 'shared.schema.graph.DType'>\n",
      "[2022-02-11 17:30:44,723][simple_parsing.helpers.serialization.serializable][DEBUG] from_dict for <class 'shared.schema.graph.GraphProperty'>, drop extra fields: True\n",
      "[2022-02-11 17:30:44,724][simple_parsing.helpers.serialization.decoding][DEBUG] name = dtype, field_type = <class 'shared.schema.graph.DType'>\n",
      "[2022-02-11 17:30:44,725][simple_parsing.helpers.serialization.serializable][DEBUG] from_dict for <class 'shared.schema.graph.GraphProperty'>, drop extra fields: True\n",
      "[2022-02-11 17:30:44,726][simple_parsing.helpers.serialization.decoding][DEBUG] name = dtype, field_type = <class 'shared.schema.graph.DType'>\n",
      "[2022-02-11 17:30:44,727][simple_parsing.helpers.serialization.serializable][DEBUG] from_dict for <class 'shared.schema.graph.GraphProperty'>, drop extra fields: True\n",
      "[2022-02-11 17:30:44,728][simple_parsing.helpers.serialization.decoding][DEBUG] name = dtype, field_type = <class 'shared.schema.graph.DType'>\n",
      "[2022-02-11 17:30:44,729][simple_parsing.helpers.serialization.serializable][DEBUG] from_dict for <class 'shared.schema.graph.GraphProperty'>, drop extra fields: True\n",
      "[2022-02-11 17:30:44,730][simple_parsing.helpers.serialization.decoding][DEBUG] name = dtype, field_type = <class 'shared.schema.graph.DType'>\n",
      "[2022-02-11 17:30:44,730][simple_parsing.helpers.serialization.serializable][DEBUG] from_dict for <class 'shared.schema.graph.GraphProperty'>, drop extra fields: True\n",
      "[2022-02-11 17:30:44,731][simple_parsing.helpers.serialization.decoding][DEBUG] name = dtype, field_type = <class 'shared.schema.graph.DType'>\n",
      "[2022-02-11 17:30:44,732][simple_parsing.helpers.serialization.serializable][DEBUG] from_dict for <class 'shared.schema.graph.GraphProperty'>, drop extra fields: True\n",
      "[2022-02-11 17:30:44,732][simple_parsing.helpers.serialization.decoding][DEBUG] name = dtype, field_type = <class 'shared.schema.graph.DType'>\n",
      "[2022-02-11 17:30:44,733][simple_parsing.helpers.serialization.decoding][DEBUG] name = edges, field_type = typing.Dict[str, shared.schema.graph.EdgeSchema]\n",
      "[2022-02-11 17:30:44,734][simple_parsing.helpers.serialization.decoding][DEBUG] Decoding a Dict field: typing.Dict[str, shared.schema.graph.EdgeSchema]\n",
      "[2022-02-11 17:30:44,734][simple_parsing.helpers.serialization.serializable][DEBUG] from_dict for <class 'shared.schema.graph.EdgeSchema'>, drop extra fields: True\n",
      "[2022-02-11 17:30:44,735][simple_parsing.helpers.serialization.decoding][DEBUG] name = properties, field_type = typing.Dict[str, shared.schema.graph.GraphProperty]\n",
      "[2022-02-11 17:30:44,736][simple_parsing.helpers.serialization.serializable][DEBUG] from_dict for <class 'shared.schema.graph.GraphProperty'>, drop extra fields: True\n",
      "[2022-02-11 17:30:44,736][simple_parsing.helpers.serialization.decoding][DEBUG] name = dtype, field_type = <class 'shared.schema.graph.DType'>\n",
      "[2022-02-11 17:30:44,737][simple_parsing.helpers.serialization.serializable][DEBUG] from_dict for <class 'shared.schema.graph.GraphProperty'>, drop extra fields: True\n",
      "[2022-02-11 17:30:44,737][simple_parsing.helpers.serialization.decoding][DEBUG] name = dtype, field_type = <class 'shared.schema.graph.DType'>\n",
      "[2022-02-11 17:30:44,738][simple_parsing.helpers.serialization.serializable][DEBUG] from_dict for <class 'shared.schema.graph.GraphProperty'>, drop extra fields: True\n",
      "[2022-02-11 17:30:44,739][simple_parsing.helpers.serialization.decoding][DEBUG] name = dtype, field_type = <class 'shared.schema.graph.DType'>\n",
      "[2022-02-11 17:30:44,739][simple_parsing.helpers.serialization.serializable][DEBUG] from_dict for <class 'shared.schema.graph.GraphProperty'>, drop extra fields: True\n",
      "[2022-02-11 17:30:44,740][simple_parsing.helpers.serialization.decoding][DEBUG] name = dtype, field_type = <class 'shared.schema.graph.DType'>\n",
      "[2022-02-11 17:30:44,741][simple_parsing.helpers.serialization.decoding][DEBUG] name = dynamic, field_type = typing.Optional[shared.schema.graph.DynamicConfig]\n",
      "[2022-02-11 17:30:44,742][simple_parsing.helpers.serialization.decoding][DEBUG] Decoding a Union field: typing.Optional[shared.schema.graph.DynamicConfig]\n",
      "[2022-02-11 17:30:44,743][simple_parsing.helpers.serialization.serializable][DEBUG] from_dict for <class 'shared.schema.graph.DynamicConfig'>, drop extra fields: True\n",
      "[2022-02-11 17:30:44,743][simple_parsing.helpers.serialization.decoding][DEBUG] name = timestamp, field_type = <class 'str'>\n",
      "[2022-02-11 17:30:44,744][simple_parsing.helpers.serialization.decoding][DEBUG] name = interaction, field_type = <class 'bool'>\n",
      "[2022-02-11 17:30:44,744][simple_parsing.helpers.serialization.decoding][DEBUG] name = source_type, field_type = <class 'str'>\n",
      "[2022-02-11 17:30:44,745][simple_parsing.helpers.serialization.decoding][DEBUG] name = target_type, field_type = <class 'str'>\n",
      "[2022-02-11 17:30:44,753][simple_parsing.helpers.serialization.decoding][DEBUG] name = directed, field_type = <class 'bool'>\n",
      "[2022-02-11 17:30:44,753][simple_parsing.helpers.serialization.serializable][DEBUG] from_dict for <class 'shared.schema.graph.EdgeSchema'>, drop extra fields: True\n",
      "[2022-02-11 17:30:44,754][simple_parsing.helpers.serialization.decoding][DEBUG] name = properties, field_type = typing.Dict[str, shared.schema.graph.GraphProperty]\n",
      "[2022-02-11 17:30:44,757][simple_parsing.helpers.serialization.serializable][DEBUG] from_dict for <class 'shared.schema.graph.GraphProperty'>, drop extra fields: True\n",
      "[2022-02-11 17:30:44,758][simple_parsing.helpers.serialization.decoding][DEBUG] name = dtype, field_type = <class 'shared.schema.graph.DType'>\n",
      "[2022-02-11 17:30:44,759][simple_parsing.helpers.serialization.serializable][DEBUG] from_dict for <class 'shared.schema.graph.GraphProperty'>, drop extra fields: True\n",
      "[2022-02-11 17:30:44,760][simple_parsing.helpers.serialization.decoding][DEBUG] name = dtype, field_type = <class 'shared.schema.graph.DType'>\n",
      "[2022-02-11 17:30:44,760][simple_parsing.helpers.serialization.serializable][DEBUG] from_dict for <class 'shared.schema.graph.GraphProperty'>, drop extra fields: True\n",
      "[2022-02-11 17:30:44,761][simple_parsing.helpers.serialization.decoding][DEBUG] name = dtype, field_type = <class 'shared.schema.graph.DType'>\n",
      "[2022-02-11 17:30:44,762][simple_parsing.helpers.serialization.serializable][DEBUG] from_dict for <class 'shared.schema.graph.GraphProperty'>, drop extra fields: True\n",
      "[2022-02-11 17:30:44,762][simple_parsing.helpers.serialization.decoding][DEBUG] name = dtype, field_type = <class 'shared.schema.graph.DType'>\n",
      "[2022-02-11 17:30:44,763][simple_parsing.helpers.serialization.decoding][DEBUG] name = dynamic, field_type = typing.Optional[shared.schema.graph.DynamicConfig]\n",
      "[2022-02-11 17:30:44,763][simple_parsing.helpers.serialization.serializable][DEBUG] from_dict for <class 'shared.schema.graph.DynamicConfig'>, drop extra fields: True\n",
      "[2022-02-11 17:30:44,764][simple_parsing.helpers.serialization.decoding][DEBUG] name = timestamp, field_type = <class 'str'>\n",
      "[2022-02-11 17:30:44,764][simple_parsing.helpers.serialization.decoding][DEBUG] name = interaction, field_type = <class 'bool'>\n",
      "[2022-02-11 17:30:44,765][simple_parsing.helpers.serialization.decoding][DEBUG] name = source_type, field_type = <class 'str'>\n",
      "[2022-02-11 17:30:44,766][simple_parsing.helpers.serialization.decoding][DEBUG] name = target_type, field_type = <class 'str'>\n",
      "[2022-02-11 17:30:44,766][simple_parsing.helpers.serialization.decoding][DEBUG] name = directed, field_type = <class 'bool'>\n"
     ]
    },
    {
     "data": {
      "text/plain": "HeteroData(\n  \u001B[1mCharacter\u001B[0m={ x=[113, 32] },\n  \u001B[1m(Character, INTERACTIONS, Character)\u001B[0m={\n    edge_attr=[958, 0],\n    edge_index=[2, 958],\n    timestamp=[958]\n  },\n  \u001B[1m(Character, MENTIONS, Character)\u001B[0m={\n    edge_attr=[1120, 0],\n    edge_index=[2, 1120],\n    timestamp=[1120]\n  }\n)"
     },
     "execution_count": 1,
     "metadata": {},
     "output_type": "execute_result"
    }
   ],
   "source": [
    "from ml.data.datasets import StarWars\n",
    "\n",
    "dataset = StarWars()\n",
    "data = dataset[0]\n",
    "data"
   ]
  },
  {
   "cell_type": "code",
   "execution_count": 2,
   "outputs": [],
   "source": [
    "from ml.data import EdgeLoaderDataModule\n",
    "\n",
    "data_module = EdgeLoaderDataModule(data, batch_size=16, num_samples=[4] * 2, num_workers=4, node_type='Character')"
   ],
   "metadata": {
    "collapsed": false,
    "pycharm": {
     "name": "#%%\n"
    }
   }
  },
  {
   "cell_type": "code",
   "execution_count": 3,
   "outputs": [],
   "source": [
    "from typing import Optional, Dict, Tuple, Any\n",
    "\n",
    "import torch\n",
    "import torch.nn.functional as F\n",
    "from torch_geometric.typing import Metadata\n",
    "from torch_geometric.nn import HGTConv, Linear\n",
    "import torchmetrics\n",
    "import pytorch_lightning as pl\n",
    "\n",
    "import ml"
   ],
   "metadata": {
    "collapsed": false,
    "pycharm": {
     "name": "#%%\n"
    }
   }
  },
  {
   "cell_type": "code",
   "execution_count": 4,
   "outputs": [],
   "source": [
    "class HGTModule(torch.nn.Module):\n",
    "    def __init__(\n",
    "            self,\n",
    "            node_type,\n",
    "            metadata: Metadata,\n",
    "            hidden_channels=64,\n",
    "            num_heads=2,\n",
    "            num_layers=1\n",
    "    ):\n",
    "        super().__init__()\n",
    "        self.node_type = node_type\n",
    "        self.lin_dict = torch.nn.ModuleDict()\n",
    "        for node_type in metadata[0]:\n",
    "            self.lin_dict[node_type] = Linear(-1, hidden_channels)\n",
    "\n",
    "        self.convs = torch.nn.ModuleList()\n",
    "        for _ in range(num_layers):\n",
    "            conv = HGTConv(hidden_channels, hidden_channels, metadata, num_heads, group='sum')\n",
    "            self.convs.append(conv)\n",
    "\n",
    "    def forward(self, x_dict, edge_index_dict):\n",
    "        for node_type, x in x_dict.items():\n",
    "            x_dict[node_type] = self.lin_dict[node_type](x).relu_()\n",
    "\n",
    "        for conv in self.convs:\n",
    "            x_dict = conv(x_dict, edge_index_dict)\n",
    "\n",
    "        return x_dict[self.node_type]\n",
    "\n",
    "class ClusterAssignment(torch.nn.Module):\n",
    "    def __init__(self, cluster_number, embedding_dimension, alpha, cluster_centers=None):\n",
    "        super(ClusterAssignment, self).__init__()\n",
    "        self.embedding_dimension = embedding_dimension\n",
    "        self.cluster_number = cluster_number\n",
    "        self.alpha = alpha\n",
    "        if cluster_centers is None:\n",
    "            initial_cluster_centers = torch.zeros(self.cluster_number, self.embedding_dimension, dtype=torch.float)\n",
    "            torch.nn.init.xavier_uniform_(initial_cluster_centers)\n",
    "        else:\n",
    "            initial_cluster_centers = cluster_centers\n",
    "        self.cluster_centers = torch.nn.Parameter(initial_cluster_centers)\n",
    "\n",
    "    def forward(self, inputs):\n",
    "        norm_squared = torch.sum((inputs.unsqueeze(1) - self.cluster_centers) ** 2, 2)\n",
    "        numerator = 1.0 / (1.0 + (norm_squared / self.alpha))\n",
    "        power = float(self.alpha + 1) / 2\n",
    "        numerator = numerator ** power\n",
    "        return numerator / torch.sum(numerator, dim=1, keepdim=True)"
   ],
   "metadata": {
    "collapsed": false,
    "pycharm": {
     "name": "#%%\n"
    }
   }
  },
  {
   "cell_type": "code",
   "execution_count": 5,
   "outputs": [],
   "source": [
    "class PretrainNet(ml.BaseModule):\n",
    "    def __init__(\n",
    "            self,\n",
    "            embedding_module: HGTModule,\n",
    "    ):\n",
    "        super().__init__()\n",
    "        self.embedding_module = embedding_module\n",
    "\n",
    "        self.cos_sim = torch.nn.CosineSimilarity(dim=1)\n",
    "        self.lin = torch.nn.Linear(1, 2)\n",
    "        self.ce_loss = torch.nn.CrossEntropyLoss()\n",
    "\n",
    "    def configure_metrics(self) -> Dict[str, Tuple[torchmetrics.Metric, bool]]:\n",
    "        return {\n",
    "            'loss': (torchmetrics.MeanMetric(), True),\n",
    "            'hp_loss': (torchmetrics.MeanMetric(), True),\n",
    "            'accuracy': (torchmetrics.Accuracy(), True),\n",
    "            'entropy': (ml.LabelEntropyMetric(2), True),\n",
    "        }\n",
    "\n",
    "    def _step(self, batch: torch.Tensor):\n",
    "        batch_l, batch_r, label = batch\n",
    "        batch_size = batch_l[self.embedding_module.node_type].batch_size\n",
    "\n",
    "        emb_l = self.embedding_module(batch_l.x_dict, batch_l.edge_index_dict)[:batch_size]\n",
    "        emb_r = self.embedding_module(batch_r.x_dict, batch_r.edge_index_dict)[:batch_size]\n",
    "\n",
    "        # Compute homophily based loss.\n",
    "        sim = self.cos_sim(emb_l, emb_r)\n",
    "        out = self.lin(torch.unsqueeze(sim, 1))\n",
    "        hp_loss = self.ce_loss(out, label)\n",
    "\n",
    "        loss = hp_loss\n",
    "\n",
    "        pred = out.argmax(dim=-1)\n",
    "        return {\n",
    "            'loss': loss,\n",
    "            'hp_loss': loss,\n",
    "            'accuracy': (pred, label),\n",
    "            'entropy': pred\n",
    "        }\n",
    "\n",
    "    def forward(self, batch):\n",
    "        batch_size = batch[self.embedding_module.node_type].batch_size\n",
    "        emb = self.embedding_module(batch.x_dict, batch.edge_index_dict)[:batch_size]\n",
    "        return emb\n",
    "\n",
    "    def training_step(self, batch):\n",
    "        return self._step(batch)\n",
    "\n",
    "    def validation_step(self, batch, batch_idx):\n",
    "        return self._step(batch)\n",
    "\n",
    "    def configure_optimizers(self):\n",
    "        optimizer = torch.optim.Adam(self.parameters(), lr=1e-3)\n",
    "        return optimizer"
   ],
   "metadata": {
    "collapsed": false,
    "pycharm": {
     "name": "#%%\n"
    }
   }
  },
  {
   "cell_type": "code",
   "execution_count": 6,
   "outputs": [],
   "source": [
    "embedding_module = HGTModule(node_type='Character', metadata=data.metadata(), hidden_channels=64, num_heads=2, num_layers=1)\n",
    "pretrain_model = PretrainNet(embedding_module)"
   ],
   "metadata": {
    "collapsed": false,
    "pycharm": {
     "name": "#%%\n"
    }
   }
  },
  {
   "cell_type": "code",
   "execution_count": 8,
   "outputs": [
    {
     "name": "stdout",
     "output_type": "stream",
     "text": [
      "[2022-02-11 17:30:53,541][py.warnings][WARNING] /data/pella/projects/University/Thesis/Thesis/code/env/lib/python3.9/site-packages/pytorch_lightning/core/datamodule.py:469: LightningDeprecationWarning: DataModule.setup has already been called, so it will not be called again. In v1.6 this behavior will change to always call DataModule.setup.\n",
      "  rank_zero_deprecation(\n",
      "\n"
     ]
    },
    {
     "data": {
      "text/plain": "Validation sanity check: 0it [00:00, ?it/s]",
      "application/vnd.jupyter.widget-view+json": {
       "version_major": 2,
       "version_minor": 0,
       "model_id": "57654629bb0f45b4aadd0e2919690701"
      }
     },
     "metadata": {},
     "output_type": "display_data"
    },
    {
     "data": {
      "text/plain": "Training: 0it [00:00, ?it/s]",
      "application/vnd.jupyter.widget-view+json": {
       "version_major": 2,
       "version_minor": 0,
       "model_id": "28ccc57574ce45f1b9992a9e73f5bbbe"
      }
     },
     "metadata": {},
     "output_type": "display_data"
    },
    {
     "data": {
      "text/plain": "Validating: 0it [00:00, ?it/s]",
      "application/vnd.jupyter.widget-view+json": {
       "version_major": 2,
       "version_minor": 0,
       "model_id": "2cc57b78f15f4e009afbb11a948a4013"
      }
     },
     "metadata": {},
     "output_type": "display_data"
    },
    {
     "data": {
      "text/plain": "Validating: 0it [00:00, ?it/s]",
      "application/vnd.jupyter.widget-view+json": {
       "version_major": 2,
       "version_minor": 0,
       "model_id": "7112d9a3d6c144cdb0188ac32e34ec72"
      }
     },
     "metadata": {},
     "output_type": "display_data"
    },
    {
     "data": {
      "text/plain": "Validating: 0it [00:00, ?it/s]",
      "application/vnd.jupyter.widget-view+json": {
       "version_major": 2,
       "version_minor": 0,
       "model_id": "ba011fcdf34e49d0b0d991ea4a969fe9"
      }
     },
     "metadata": {},
     "output_type": "display_data"
    },
    {
     "data": {
      "text/plain": "Validating: 0it [00:00, ?it/s]",
      "application/vnd.jupyter.widget-view+json": {
       "version_major": 2,
       "version_minor": 0,
       "model_id": "6a83d517546b49828bb1a2a9a8ad3cc5"
      }
     },
     "metadata": {},
     "output_type": "display_data"
    },
    {
     "data": {
      "text/plain": "Validating: 0it [00:00, ?it/s]",
      "application/vnd.jupyter.widget-view+json": {
       "version_major": 2,
       "version_minor": 0,
       "model_id": "f132781e532549ff94065ce7dd531ea1"
      }
     },
     "metadata": {},
     "output_type": "display_data"
    },
    {
     "data": {
      "text/plain": "Validating: 0it [00:00, ?it/s]",
      "application/vnd.jupyter.widget-view+json": {
       "version_major": 2,
       "version_minor": 0,
       "model_id": "cf08286a7daa4d48b4face078533fbbc"
      }
     },
     "metadata": {},
     "output_type": "display_data"
    },
    {
     "data": {
      "text/plain": "Validating: 0it [00:00, ?it/s]",
      "application/vnd.jupyter.widget-view+json": {
       "version_major": 2,
       "version_minor": 0,
       "model_id": "e4ed02340fc1461299f1831afb3d6eeb"
      }
     },
     "metadata": {},
     "output_type": "display_data"
    },
    {
     "data": {
      "text/plain": "Validating: 0it [00:00, ?it/s]",
      "application/vnd.jupyter.widget-view+json": {
       "version_major": 2,
       "version_minor": 0,
       "model_id": "2047bfcd26664103b1f7f6c3b7cf02db"
      }
     },
     "metadata": {},
     "output_type": "display_data"
    },
    {
     "data": {
      "text/plain": "Validating: 0it [00:00, ?it/s]",
      "application/vnd.jupyter.widget-view+json": {
       "version_major": 2,
       "version_minor": 0,
       "model_id": "ccaf9bacc9704bd8992c3cb23b67ef74"
      }
     },
     "metadata": {},
     "output_type": "display_data"
    },
    {
     "data": {
      "text/plain": "Validating: 0it [00:00, ?it/s]",
      "application/vnd.jupyter.widget-view+json": {
       "version_major": 2,
       "version_minor": 0,
       "model_id": "15de473835d648169c5c752a97e723eb"
      }
     },
     "metadata": {},
     "output_type": "display_data"
    },
    {
     "data": {
      "text/plain": "Validating: 0it [00:00, ?it/s]",
      "application/vnd.jupyter.widget-view+json": {
       "version_major": 2,
       "version_minor": 0,
       "model_id": "40a053d74fdf4c38a40b03bf7732ca78"
      }
     },
     "metadata": {},
     "output_type": "display_data"
    },
    {
     "data": {
      "text/plain": "Validating: 0it [00:00, ?it/s]",
      "application/vnd.jupyter.widget-view+json": {
       "version_major": 2,
       "version_minor": 0,
       "model_id": "3da7151db30341e19460b48f09815fd8"
      }
     },
     "metadata": {},
     "output_type": "display_data"
    },
    {
     "data": {
      "text/plain": "Validating: 0it [00:00, ?it/s]",
      "application/vnd.jupyter.widget-view+json": {
       "version_major": 2,
       "version_minor": 0,
       "model_id": "a403c688bba34615be05572b83815572"
      }
     },
     "metadata": {},
     "output_type": "display_data"
    },
    {
     "data": {
      "text/plain": "Validating: 0it [00:00, ?it/s]",
      "application/vnd.jupyter.widget-view+json": {
       "version_major": 2,
       "version_minor": 0,
       "model_id": "9b2f3832154b4f7ab9020ff7298fa96a"
      }
     },
     "metadata": {},
     "output_type": "display_data"
    },
    {
     "data": {
      "text/plain": "Validating: 0it [00:00, ?it/s]",
      "application/vnd.jupyter.widget-view+json": {
       "version_major": 2,
       "version_minor": 0,
       "model_id": "af688b8bc88846129358cf08040fd1a3"
      }
     },
     "metadata": {},
     "output_type": "display_data"
    },
    {
     "data": {
      "text/plain": "Validating: 0it [00:00, ?it/s]",
      "application/vnd.jupyter.widget-view+json": {
       "version_major": 2,
       "version_minor": 0,
       "model_id": "f13b056e87414bcba8a7fb1002ed5874"
      }
     },
     "metadata": {},
     "output_type": "display_data"
    },
    {
     "data": {
      "text/plain": "Validating: 0it [00:00, ?it/s]",
      "application/vnd.jupyter.widget-view+json": {
       "version_major": 2,
       "version_minor": 0,
       "model_id": "a139cc62499b48329aca5dca3edcc279"
      }
     },
     "metadata": {},
     "output_type": "display_data"
    },
    {
     "data": {
      "text/plain": "Validating: 0it [00:00, ?it/s]",
      "application/vnd.jupyter.widget-view+json": {
       "version_major": 2,
       "version_minor": 0,
       "model_id": "65ecc4dac4ff4376abd9131f9ae5f441"
      }
     },
     "metadata": {},
     "output_type": "display_data"
    },
    {
     "data": {
      "text/plain": "Validating: 0it [00:00, ?it/s]",
      "application/vnd.jupyter.widget-view+json": {
       "version_major": 2,
       "version_minor": 0,
       "model_id": "16bfc4df24504f5cba4ef67f0dcc30d5"
      }
     },
     "metadata": {},
     "output_type": "display_data"
    },
    {
     "name": "stderr",
     "output_type": "stream",
     "text": [
      "Exception ignored in: <function _MultiProcessingDataLoaderIter.__del__ at 0x7f4f574134c0>\n",
      "Traceback (most recent call last):\n",
      "  File \"/data/pella/projects/University/Thesis/Thesis/code/env/lib/python3.9/site-packages/torch/utils/data/dataloader.py\", line 1328, in __del__\n",
      "    self._shutdown_workers()\n",
      "  File \"/data/pella/projects/University/Thesis/Thesis/code/env/lib/python3.9/site-packages/torch/utils/data/dataloader.py\", line 1320, in _shutdown_workers\n",
      "    if w.is_alive():\n",
      "  File \"/data/pella/projects/University/Thesis/Thesis/code/env/lib/python3.9/multiprocessing/process.py\", line 160, in is_alive\n",
      "    assert self._parent_pid == os.getpid(), 'can only test a child process'\n",
      "AssertionError: can only test a child process\n",
      "Exception ignored in: <function _MultiProcessingDataLoaderIter.__del__ at 0x7f4f574134c0>\n",
      "Traceback (most recent call last):\n",
      "  File \"/data/pella/projects/University/Thesis/Thesis/code/env/lib/python3.9/site-packages/torch/utils/data/dataloader.py\", line 1328, in __del__\n",
      "    self._shutdown_workers()\n",
      "  File \"/data/pella/projects/University/Thesis/Thesis/code/env/lib/python3.9/site-packages/torch/utils/data/dataloader.py\", line 1320, in _shutdown_workers\n",
      "    if w.is_alive():\n",
      "  File \"/data/pella/projects/University/Thesis/Thesis/code/env/lib/python3.9/multiprocessing/process.py\", line 160, in is_alive\n",
      "    assert self._parent_pid == os.getpid(), 'can only test a child process'\n",
      "AssertionError: can only test a child process\n",
      "Exception ignored in: <function _MultiProcessingDataLoaderIter.__del__ at 0x7f4f574134c0>\n",
      "Traceback (most recent call last):\n",
      "  File \"/data/pella/projects/University/Thesis/Thesis/code/env/lib/python3.9/site-packages/torch/utils/data/dataloader.py\", line 1328, in __del__\n",
      "    self._shutdown_workers()\n",
      "  File \"/data/pella/projects/University/Thesis/Thesis/code/env/lib/python3.9/site-packages/torch/utils/data/dataloader.py\", line 1320, in _shutdown_workers\n",
      "    if w.is_alive():\n",
      "  File \"/data/pella/projects/University/Thesis/Thesis/code/env/lib/python3.9/multiprocessing/process.py\", line 160, in is_alive\n",
      "    assert self._parent_pid == os.getpid(), 'can only test a child process'\n",
      "AssertionError: can only test a child process\n",
      "Exception ignored in: <function _MultiProcessingDataLoaderIter.__del__ at 0x7f4f574134c0>\n",
      "Traceback (most recent call last):\n",
      "  File \"/data/pella/projects/University/Thesis/Thesis/code/env/lib/python3.9/site-packages/torch/utils/data/dataloader.py\", line 1328, in __del__\n",
      "    self._shutdown_workers()\n",
      "  File \"/data/pella/projects/University/Thesis/Thesis/code/env/lib/python3.9/site-packages/torch/utils/data/dataloader.py\", line 1320, in _shutdown_workers\n",
      "    if w.is_alive():\n",
      "  File \"/data/pella/projects/University/Thesis/Thesis/code/env/lib/python3.9/multiprocessing/process.py\", line 160, in is_alive\n",
      "    assert self._parent_pid == os.getpid(), 'can only test a child process'\n",
      "AssertionError: can only test a child process\n",
      "Exception ignored in: <function _MultiProcessingDataLoaderIter.__del__ at 0x7f4f574134c0>\n",
      "Traceback (most recent call last):\n",
      "  File \"/data/pella/projects/University/Thesis/Thesis/code/env/lib/python3.9/site-packages/torch/utils/data/dataloader.py\", line 1328, in __del__\n",
      "    self._shutdown_workers()\n",
      "  File \"/data/pella/projects/University/Thesis/Thesis/code/env/lib/python3.9/site-packages/torch/utils/data/dataloader.py\", line 1320, in _shutdown_workers\n",
      "    if w.is_alive():\n",
      "  File \"/data/pella/projects/University/Thesis/Thesis/code/env/lib/python3.9/multiprocessing/process.py\", line 160, in is_alive\n",
      "    assert self._parent_pid == os.getpid(), 'can only test a child process'\n",
      "AssertionError: can only test a child process\n",
      "Exception ignored in: <function _MultiProcessingDataLoaderIter.__del__ at 0x7f4f574134c0>\n",
      "Traceback (most recent call last):\n",
      "  File \"/data/pella/projects/University/Thesis/Thesis/code/env/lib/python3.9/site-packages/torch/utils/data/dataloader.py\", line 1328, in __del__\n",
      "    self._shutdown_workers()\n",
      "  File \"/data/pella/projects/University/Thesis/Thesis/code/env/lib/python3.9/site-packages/torch/utils/data/dataloader.py\", line 1320, in _shutdown_workers\n",
      "    if w.is_alive():\n",
      "  File \"/data/pella/projects/University/Thesis/Thesis/code/env/lib/python3.9/multiprocessing/process.py\", line 160, in is_alive\n",
      "    assert self._parent_pid == os.getpid(), 'can only test a child process'\n",
      "AssertionError: can only test a child process\n"
     ]
    },
    {
     "data": {
      "text/plain": "Validating: 0it [00:00, ?it/s]",
      "application/vnd.jupyter.widget-view+json": {
       "version_major": 2,
       "version_minor": 0,
       "model_id": "5a25613678a2467db70d368525a5a6fe"
      }
     },
     "metadata": {},
     "output_type": "display_data"
    }
   ],
   "source": [
    "trainer = pl.Trainer(\n",
    "    # gpus=1,\n",
    "    callbacks=[\n",
    "        pl.callbacks.EarlyStopping(monitor=\"val/loss\", min_delta=0.00, patience=5, verbose=True, mode=\"min\")\n",
    "    ],\n",
    "    max_epochs=20,\n",
    "    enable_model_summary=True,\n",
    "    # logger=wandb_logger\n",
    ")\n",
    "trainer.fit(pretrain_model, data_module)"
   ],
   "metadata": {
    "collapsed": false,
    "pycharm": {
     "name": "#%%\n"
    }
   }
  },
  {
   "cell_type": "code",
   "execution_count": 18,
   "outputs": [
    {
     "data": {
      "text/plain": "Predicting: 135it [00:00, ?it/s]",
      "application/vnd.jupyter.widget-view+json": {
       "version_major": 2,
       "version_minor": 0,
       "model_id": "7673be2feacd4d7a89fedc1aebec6e85"
      }
     },
     "metadata": {},
     "output_type": "display_data"
    },
    {
     "name": "stdout",
     "output_type": "stream",
     "text": [
      "[2022-02-11 17:36:36,248][py.warnings][WARNING] /data/pella/projects/University/Thesis/Thesis/code/env/lib/python3.9/site-packages/pytorch_lightning/core/datamodule.py:469: LightningDeprecationWarning: DataModule.teardown has already been called, so it will not be called again. In v1.6 this behavior will change to always call DataModule.teardown.\n",
      "  rank_zero_deprecation(\n",
      "\n"
     ]
    },
    {
     "name": "stderr",
     "output_type": "stream",
     "text": [
      "Traceback (most recent call last):\n",
      "  File \"/data/pella/projects/University/Thesis/Thesis/code/env/lib/python3.9/multiprocessing/queues.py\", line 251, in _feed\n",
      "    send_bytes(obj)\n",
      "  File \"/data/pella/projects/University/Thesis/Thesis/code/env/lib/python3.9/multiprocessing/connection.py\", line 205, in send_bytes\n",
      "    self._send_bytes(m[offset:offset + size])\n",
      "Traceback (most recent call last):\n",
      "  File \"/data/pella/projects/University/Thesis/Thesis/code/env/lib/python3.9/multiprocessing/queues.py\", line 251, in _feed\n",
      "    send_bytes(obj)\n",
      "  File \"/data/pella/projects/University/Thesis/Thesis/code/env/lib/python3.9/multiprocessing/connection.py\", line 205, in send_bytes\n",
      "    self._send_bytes(m[offset:offset + size])\n",
      "  File \"/data/pella/projects/University/Thesis/Thesis/code/env/lib/python3.9/multiprocessing/connection.py\", line 416, in _send_bytes\n",
      "    self._send(header + buf)\n",
      "  File \"/data/pella/projects/University/Thesis/Thesis/code/env/lib/python3.9/multiprocessing/connection.py\", line 373, in _send\n",
      "    n = write(self._handle, buf)\n",
      "Traceback (most recent call last):\n",
      "  File \"/data/pella/projects/University/Thesis/Thesis/code/env/lib/python3.9/multiprocessing/queues.py\", line 251, in _feed\n",
      "    send_bytes(obj)\n",
      "  File \"/data/pella/projects/University/Thesis/Thesis/code/env/lib/python3.9/multiprocessing/connection.py\", line 205, in send_bytes\n",
      "    self._send_bytes(m[offset:offset + size])\n",
      "  File \"/data/pella/projects/University/Thesis/Thesis/code/env/lib/python3.9/multiprocessing/connection.py\", line 416, in _send_bytes\n",
      "    self._send(header + buf)\n",
      "  File \"/data/pella/projects/University/Thesis/Thesis/code/env/lib/python3.9/multiprocessing/connection.py\", line 373, in _send\n",
      "    n = write(self._handle, buf)\n",
      "BrokenPipeError: [Errno 32] Broken pipe\n",
      "  File \"/data/pella/projects/University/Thesis/Thesis/code/env/lib/python3.9/multiprocessing/connection.py\", line 416, in _send_bytes\n",
      "    self._send(header + buf)\n",
      "  File \"/data/pella/projects/University/Thesis/Thesis/code/env/lib/python3.9/multiprocessing/connection.py\", line 373, in _send\n",
      "    n = write(self._handle, buf)\n",
      "BrokenPipeError: [Errno 32] Broken pipe\n",
      "BrokenPipeError: [Errno 32] Broken pipe\n",
      "Traceback (most recent call last):\n",
      "  File \"/data/pella/projects/University/Thesis/Thesis/code/env/lib/python3.9/multiprocessing/queues.py\", line 251, in _feed\n",
      "    send_bytes(obj)\n",
      "  File \"/data/pella/projects/University/Thesis/Thesis/code/env/lib/python3.9/multiprocessing/connection.py\", line 205, in send_bytes\n",
      "    self._send_bytes(m[offset:offset + size])\n",
      "  File \"/data/pella/projects/University/Thesis/Thesis/code/env/lib/python3.9/multiprocessing/connection.py\", line 416, in _send_bytes\n",
      "    self._send(header + buf)\n",
      "  File \"/data/pella/projects/University/Thesis/Thesis/code/env/lib/python3.9/multiprocessing/connection.py\", line 373, in _send\n",
      "    n = write(self._handle, buf)\n",
      "BrokenPipeError: [Errno 32] Broken pipe\n",
      "Traceback (most recent call last):\n",
      "  File \"/data/pella/projects/University/Thesis/Thesis/code/env/lib/python3.9/multiprocessing/queues.py\", line 251, in _feed\n",
      "    send_bytes(obj)\n",
      "  File \"/data/pella/projects/University/Thesis/Thesis/code/env/lib/python3.9/multiprocessing/connection.py\", line 205, in send_bytes\n",
      "    self._send_bytes(m[offset:offset + size])\n",
      "  File \"/data/pella/projects/University/Thesis/Thesis/code/env/lib/python3.9/multiprocessing/connection.py\", line 416, in _send_bytes\n",
      "    self._send(header + buf)\n",
      "  File \"/data/pella/projects/University/Thesis/Thesis/code/env/lib/python3.9/multiprocessing/connection.py\", line 373, in _send\n",
      "    n = write(self._handle, buf)\n",
      "BrokenPipeError: [Errno 32] Broken pipe\n",
      "Traceback (most recent call last):\n",
      "  File \"/data/pella/projects/University/Thesis/Thesis/code/env/lib/python3.9/multiprocessing/queues.py\", line 251, in _feed\n",
      "    send_bytes(obj)\n",
      "  File \"/data/pella/projects/University/Thesis/Thesis/code/env/lib/python3.9/multiprocessing/connection.py\", line 205, in send_bytes\n",
      "    self._send_bytes(m[offset:offset + size])\n",
      "  File \"/data/pella/projects/University/Thesis/Thesis/code/env/lib/python3.9/multiprocessing/connection.py\", line 416, in _send_bytes\n",
      "    self._send(header + buf)\n",
      "  File \"/data/pella/projects/University/Thesis/Thesis/code/env/lib/python3.9/multiprocessing/connection.py\", line 373, in _send\n",
      "    n = write(self._handle, buf)\n",
      "BrokenPipeError: [Errno 32] Broken pipe\n",
      "Traceback (most recent call last):\n",
      "  File \"/data/pella/projects/University/Thesis/Thesis/code/env/lib/python3.9/multiprocessing/queues.py\", line 251, in _feed\n",
      "    send_bytes(obj)\n",
      "  File \"/data/pella/projects/University/Thesis/Thesis/code/env/lib/python3.9/multiprocessing/connection.py\", line 205, in send_bytes\n",
      "    self._send_bytes(m[offset:offset + size])\n",
      "  File \"/data/pella/projects/University/Thesis/Thesis/code/env/lib/python3.9/multiprocessing/connection.py\", line 416, in _send_bytes\n",
      "    self._send(header + buf)\n",
      "  File \"/data/pella/projects/University/Thesis/Thesis/code/env/lib/python3.9/multiprocessing/connection.py\", line 373, in _send\n",
      "    n = write(self._handle, buf)\n",
      "BrokenPipeError: [Errno 32] Broken pipe\n",
      "Traceback (most recent call last):\n",
      "  File \"/data/pella/projects/University/Thesis/Thesis/code/env/lib/python3.9/multiprocessing/queues.py\", line 251, in _feed\n",
      "    send_bytes(obj)\n",
      "  File \"/data/pella/projects/University/Thesis/Thesis/code/env/lib/python3.9/multiprocessing/connection.py\", line 205, in send_bytes\n",
      "    self._send_bytes(m[offset:offset + size])\n",
      "  File \"/data/pella/projects/University/Thesis/Thesis/code/env/lib/python3.9/multiprocessing/connection.py\", line 416, in _send_bytes\n",
      "    self._send(header + buf)\n",
      "  File \"/data/pella/projects/University/Thesis/Thesis/code/env/lib/python3.9/multiprocessing/connection.py\", line 373, in _send\n",
      "    n = write(self._handle, buf)\n",
      "BrokenPipeError: [Errno 32] Broken pipe\n"
     ]
    }
   ],
   "source": [
    "predictions = trainer.predict(pretrain_model, data_module)\n",
    "embeddings = torch.cat(predictions, dim=0).cpu()"
   ],
   "metadata": {
    "collapsed": false,
    "pycharm": {
     "name": "#%%\n"
    }
   }
  },
  {
   "cell_type": "code",
   "execution_count": 26,
   "outputs": [
    {
     "name": "stdout",
     "output_type": "stream",
     "text": [
      "\n",
      "Clustering 113 points in 64D to 5 clusters, redo 5 times, 20 iterations\n",
      "  Preprocessing in 0.00 s\n",
      "Outer iteration 0 / 5\n",
      "  Iteration 19 (0.01 s, search 0.00 s): objective=109.558 imbalance=1.171 nsplit=0       \r\n",
      "Objective improved: keep new clusters\n",
      "Outer iteration 1 / 5\n",
      "  Iteration 19 (0.01 s, search 0.01 s): objective=109.854 imbalance=1.115 nsplit=0       \r\n",
      "Outer iteration 2 / 5\n",
      "  Iteration 19 (0.01 s, search 0.01 s): objective=109.588 imbalance=1.140 nsplit=0       \r\n",
      "Outer iteration 3 / 5\n",
      "  Iteration 19 (0.01 s, search 0.01 s): objective=116.466 imbalance=1.116 nsplit=0       \r\n",
      "Outer iteration 4 / 5\n",
      "  Iteration 19 (0.02 s, search 0.01 s): objective=109.558 imbalance=1.171 nsplit=0       \r"
     ]
    },
    {
     "name": "stderr",
     "output_type": "stream",
     "text": [
      "WARNING clustering 113 points to 5 centroids: please provide at least 195 training points\n"
     ]
    }
   ],
   "source": [
    "import faiss\n",
    "\n",
    "kmeans = faiss.Kmeans(embeddings.shape[1], k=5, niter=20, verbose=True, nredo=5)\n",
    "kmeans.train(embeddings.numpy())\n",
    "centroids = kmeans.centroids"
   ],
   "metadata": {
    "collapsed": false,
    "pycharm": {
     "name": "#%%\n"
    }
   }
  },
  {
   "cell_type": "code",
   "execution_count": 27,
   "outputs": [],
   "source": [
    "class TrainNet(ml.BaseModule):\n",
    "    def __init__(\n",
    "            self,\n",
    "            embedding_module: HGTModule,\n",
    "            clustering_module: ClusterAssignment,\n",
    "            gamma: float = 0.001\n",
    "    ):\n",
    "        super().__init__()\n",
    "        self.gamma = gamma\n",
    "\n",
    "        self.embedding_module = embedding_module\n",
    "        self.cos_sim = torch.nn.CosineSimilarity(dim=1)\n",
    "        self.lin = torch.nn.Linear(1, 2)\n",
    "        self.ce_loss = torch.nn.CrossEntropyLoss()\n",
    "\n",
    "        self.clustering_module = clustering_module\n",
    "        self.kl_loss = torch.nn.KLDivLoss(size_average=False)\n",
    "\n",
    "    def configure_metrics(self) -> Dict[str, Tuple[torchmetrics.Metric, bool]]:\n",
    "        return {\n",
    "            'loss': (torchmetrics.MeanMetric(), True),\n",
    "            'hp_loss': (torchmetrics.MeanMetric(), True),\n",
    "            'ca_loss': (torchmetrics.MeanMetric(), True),\n",
    "            'accuracy': (torchmetrics.Accuracy(), True),\n",
    "            'entropy': (ml.LabelEntropyMetric(5), True),\n",
    "        }\n",
    "\n",
    "    def _step(self, batch: torch.Tensor):\n",
    "        batch_l, batch_r, label = batch\n",
    "        batch_size = batch_l[self.embedding_module.node_type].batch_size\n",
    "\n",
    "        emb_l = self.embedding_module(batch_l.x_dict, batch_l.edge_index_dict)[:batch_size]\n",
    "        emb_r = self.embedding_module(batch_r.x_dict, batch_r.edge_index_dict)[:batch_size]\n",
    "\n",
    "        # Compute homophily based loss.\n",
    "        sim = self.cos_sim(emb_l, emb_r)\n",
    "        out = self.lin(torch.unsqueeze(sim, 1))\n",
    "        hp_loss = self.ce_loss(out, label)\n",
    "\n",
    "        # Compute clustering loss\n",
    "        emb = torch.cat([emb_l, emb_r], dim=0)\n",
    "        q = self.clustering_module(emb)\n",
    "        p = torch.nn.functional.one_hot(\n",
    "            torch.argmax(q.detach(), dim=1), self.clustering_module.cluster_number\n",
    "        ).to(dtype=torch.float)\n",
    "        ca_loss = self.kl_loss(torch.log(q), p)\n",
    "\n",
    "        loss = hp_loss + self.gamma * ca_loss\n",
    "\n",
    "        pred = out.argmax(dim=-1).detach()\n",
    "        assignments = q.argmax(dim=-1).detach()\n",
    "        return {\n",
    "            'loss': loss,\n",
    "            'hp_loss': hp_loss.detach(),\n",
    "            'ca_loss': ca_loss.detach(),\n",
    "            'accuracy': (pred, label),\n",
    "            'entropy': assignments\n",
    "        }\n",
    "\n",
    "    def forward(self, batch):\n",
    "        batch_size = batch[self.embedding_module.node_type].batch_size\n",
    "        emb = self.embedding_module(batch.x_dict, batch.edge_index_dict)[:batch_size]\n",
    "        return emb\n",
    "\n",
    "    def training_step(self, batch):\n",
    "        return self._step(batch)\n",
    "\n",
    "    def validation_step(self, batch, batch_idx):\n",
    "        return self._step(batch)\n",
    "\n",
    "    def configure_optimizers(self):\n",
    "        optimizer = torch.optim.Adam(self.parameters(), lr=1e-3)\n",
    "        return optimizer"
   ],
   "metadata": {
    "collapsed": false,
    "pycharm": {
     "name": "#%%\n"
    }
   }
  },
  {
   "cell_type": "code",
   "execution_count": 28,
   "outputs": [
    {
     "name": "stdout",
     "output_type": "stream",
     "text": [
      "[2022-02-11 17:40:10,372][py.warnings][WARNING] /data/pella/projects/University/Thesis/Thesis/code/env/lib/python3.9/site-packages/torch/nn/_reduction.py:42: UserWarning: size_average and reduce args will be deprecated, please use reduction='sum' instead.\n",
      "  warnings.warn(warning.format(ret))\n",
      "\n"
     ]
    }
   ],
   "source": [
    "clustering_module = ClusterAssignment(5, 64, alpha=1, cluster_centers=torch.tensor(centroids))\n",
    "main_model = TrainNet(embedding_module, clustering_module)"
   ],
   "metadata": {
    "collapsed": false,
    "pycharm": {
     "name": "#%%\n"
    }
   }
  },
  {
   "cell_type": "code",
   "execution_count": 29,
   "outputs": [
    {
     "name": "stdout",
     "output_type": "stream",
     "text": [
      "[2022-02-11 17:40:18,799][py.warnings][WARNING] /data/pella/projects/University/Thesis/Thesis/code/env/lib/python3.9/site-packages/pytorch_lightning/trainer/trainer.py:1584: UserWarning: GPU available but not used. Set the gpus flag in your trainer `Trainer(gpus=1)` or script `--gpus=1`.\n",
      "  rank_zero_warn(\n",
      "\n",
      "[2022-02-11 17:40:18,804][py.warnings][WARNING] /data/pella/projects/University/Thesis/Thesis/code/env/lib/python3.9/site-packages/pytorch_lightning/core/datamodule.py:469: LightningDeprecationWarning: DataModule.setup has already been called, so it will not be called again. In v1.6 this behavior will change to always call DataModule.setup.\n",
      "  rank_zero_deprecation(\n",
      "\n"
     ]
    },
    {
     "data": {
      "text/plain": "Validation sanity check: 0it [00:00, ?it/s]",
      "application/vnd.jupyter.widget-view+json": {
       "version_major": 2,
       "version_minor": 0,
       "model_id": "6eef4567515d42a780cf4fc2936ddc98"
      }
     },
     "metadata": {},
     "output_type": "display_data"
    },
    {
     "data": {
      "text/plain": "Training: 0it [00:00, ?it/s]",
      "application/vnd.jupyter.widget-view+json": {
       "version_major": 2,
       "version_minor": 0,
       "model_id": "0bf3c8da7d2146cc8232847218f5771c"
      }
     },
     "metadata": {},
     "output_type": "display_data"
    },
    {
     "data": {
      "text/plain": "Validating: 0it [00:00, ?it/s]",
      "application/vnd.jupyter.widget-view+json": {
       "version_major": 2,
       "version_minor": 0,
       "model_id": "7f21879aee8c4f2ea6735fc6d51176ad"
      }
     },
     "metadata": {},
     "output_type": "display_data"
    },
    {
     "data": {
      "text/plain": "Validating: 0it [00:00, ?it/s]",
      "application/vnd.jupyter.widget-view+json": {
       "version_major": 2,
       "version_minor": 0,
       "model_id": "3b0ef990a78344709a5df1cb8d98805b"
      }
     },
     "metadata": {},
     "output_type": "display_data"
    },
    {
     "data": {
      "text/plain": "Validating: 0it [00:00, ?it/s]",
      "application/vnd.jupyter.widget-view+json": {
       "version_major": 2,
       "version_minor": 0,
       "model_id": "4882656c678246df9ebd59ca1f0d6709"
      }
     },
     "metadata": {},
     "output_type": "display_data"
    },
    {
     "data": {
      "text/plain": "Validating: 0it [00:00, ?it/s]",
      "application/vnd.jupyter.widget-view+json": {
       "version_major": 2,
       "version_minor": 0,
       "model_id": "04a3f2e4ae60486191f2c8595cd0b737"
      }
     },
     "metadata": {},
     "output_type": "display_data"
    },
    {
     "data": {
      "text/plain": "Validating: 0it [00:00, ?it/s]",
      "application/vnd.jupyter.widget-view+json": {
       "version_major": 2,
       "version_minor": 0,
       "model_id": "c1349a1e555c4cc497d2f82a32f383d1"
      }
     },
     "metadata": {},
     "output_type": "display_data"
    },
    {
     "data": {
      "text/plain": "Validating: 0it [00:00, ?it/s]",
      "application/vnd.jupyter.widget-view+json": {
       "version_major": 2,
       "version_minor": 0,
       "model_id": "d176ea8f32c74d8a86313d783719b6ce"
      }
     },
     "metadata": {},
     "output_type": "display_data"
    },
    {
     "data": {
      "text/plain": "Validating: 0it [00:00, ?it/s]",
      "application/vnd.jupyter.widget-view+json": {
       "version_major": 2,
       "version_minor": 0,
       "model_id": "954beebae8ba48fca731d6d5028ca477"
      }
     },
     "metadata": {},
     "output_type": "display_data"
    },
    {
     "data": {
      "text/plain": "Validating: 0it [00:00, ?it/s]",
      "application/vnd.jupyter.widget-view+json": {
       "version_major": 2,
       "version_minor": 0,
       "model_id": "516aafc722db4f5ea478ac17301136b8"
      }
     },
     "metadata": {},
     "output_type": "display_data"
    },
    {
     "data": {
      "text/plain": "Validating: 0it [00:00, ?it/s]",
      "application/vnd.jupyter.widget-view+json": {
       "version_major": 2,
       "version_minor": 0,
       "model_id": "8140e4a5ea5d4bd4adc8804fc2c39a11"
      }
     },
     "metadata": {},
     "output_type": "display_data"
    },
    {
     "data": {
      "text/plain": "Validating: 0it [00:00, ?it/s]",
      "application/vnd.jupyter.widget-view+json": {
       "version_major": 2,
       "version_minor": 0,
       "model_id": "f803e8c3bb72417d9a0d2a96dce6a753"
      }
     },
     "metadata": {},
     "output_type": "display_data"
    },
    {
     "name": "stdout",
     "output_type": "stream",
     "text": [
      "[2022-02-11 17:41:10,455][py.warnings][WARNING] /data/pella/projects/University/Thesis/Thesis/code/env/lib/python3.9/site-packages/pytorch_lightning/core/datamodule.py:469: LightningDeprecationWarning: DataModule.teardown has already been called, so it will not be called again. In v1.6 this behavior will change to always call DataModule.teardown.\n",
      "  rank_zero_deprecation(\n",
      "\n"
     ]
    }
   ],
   "source": [
    "trainer = pl.Trainer(\n",
    "    # gpus=1,\n",
    "    callbacks=[\n",
    "        pl.callbacks.EarlyStopping(monitor=\"val/loss\", min_delta=0.00, patience=5, verbose=True, mode=\"min\")\n",
    "    ],\n",
    "    max_epochs=10,\n",
    "    enable_model_summary=True,\n",
    "    # logger=wandb_logger\n",
    ")\n",
    "trainer.fit(main_model, data_module)"
   ],
   "metadata": {
    "collapsed": false,
    "pycharm": {
     "name": "#%%\n"
    }
   }
  },
  {
   "cell_type": "code",
   "execution_count": 34,
   "outputs": [],
   "source": [
    "from shared.constants import BENCHMARKS_RESULTS\n",
    "\n",
    "save_path = BENCHMARKS_RESULTS.joinpath('analysis', 'pyg-hgt-comoptkl')\n",
    "save_path.mkdir(parents=True, exist_ok=True)"
   ],
   "metadata": {
    "collapsed": false,
    "pycharm": {
     "name": "#%%\n"
    }
   }
  },
  {
   "cell_type": "code",
   "execution_count": 30,
   "outputs": [
    {
     "data": {
      "text/plain": "Predicting: 182it [00:00, ?it/s]",
      "application/vnd.jupyter.widget-view+json": {
       "version_major": 2,
       "version_minor": 0,
       "model_id": "1689b3323fd549049d9970351682d636"
      }
     },
     "metadata": {},
     "output_type": "display_data"
    }
   ],
   "source": [
    "predictions = trainer.predict(main_model, data_module)\n",
    "embeddings = torch.cat(predictions, dim=0).cpu()"
   ],
   "metadata": {
    "collapsed": false,
    "pycharm": {
     "name": "#%%\n"
    }
   }
  },
  {
   "cell_type": "code",
   "execution_count": 31,
   "outputs": [],
   "source": [
    "assignments = clustering_module(embeddings).detach().cpu().argmax(dim=-1).to(dtype=torch.long)"
   ],
   "metadata": {
    "collapsed": false,
    "pycharm": {
     "name": "#%%\n"
    }
   }
  },
  {
   "cell_type": "code",
   "execution_count": 32,
   "outputs": [],
   "source": [
    "from shared.graph import CommunityAssignment\n",
    "import pandas as pd\n",
    "\n",
    "labeling = pd.Series(assignments.squeeze(), index=dataset.node_mapping(), name=\"cid\")\n",
    "labeling.index.name = \"nid\"\n",
    "comlist = CommunityAssignment(labeling)"
   ],
   "metadata": {
    "collapsed": false,
    "pycharm": {
     "name": "#%%\n"
    }
   }
  },
  {
   "cell_type": "code",
   "execution_count": 35,
   "outputs": [],
   "source": [
    "comlist.save_comlist(save_path.joinpath('schema.comlist'))"
   ],
   "metadata": {
    "collapsed": false,
    "pycharm": {
     "name": "#%%\n"
    }
   }
  },
  {
   "cell_type": "code",
   "execution_count": null,
   "outputs": [
    {
     "name": "stdout",
     "output_type": "stream",
     "text": [
      "[2022-02-11 17:42:36,103][simple_parsing.helpers.serialization.serializable][DEBUG] from_dict for <class 'shared.schema.dataset.DatasetSchema'>, drop extra fields: True\n",
      "[2022-02-11 17:42:36,104][simple_parsing.helpers.serialization.decoding][DEBUG] name = name, field_type = <class 'str'>\n",
      "[2022-02-11 17:42:36,104][simple_parsing.helpers.serialization.decoding][DEBUG] name = database, field_type = <class 'str'>\n",
      "[2022-02-11 17:42:36,105][simple_parsing.helpers.serialization.decoding][DEBUG] name = description, field_type = <class 'str'>\n",
      "[2022-02-11 17:42:36,105][simple_parsing.helpers.serialization.decoding][DEBUG] name = versions, field_type = typing.Dict[str, shared.schema.dataset.DatasetVersion]\n",
      "[2022-02-11 17:42:36,106][simple_parsing.helpers.serialization.serializable][DEBUG] from_dict for <class 'shared.schema.dataset.DatasetVersion'>, drop extra fields: True\n",
      "[2022-02-11 17:42:36,107][simple_parsing.helpers.serialization.decoding][DEBUG] name = type, field_type = <enum 'DatasetVersionType'>\n",
      "[2022-02-11 17:42:36,107][simple_parsing.helpers.serialization.decoding][DEBUG] name = parameters, field_type = typing.Dict[str, typing.Any]\n",
      "[2022-02-11 17:42:36,108][simple_parsing.helpers.serialization.serializable][DEBUG] from_dict for <class 'shared.schema.dataset.DatasetVersion'>, drop extra fields: True\n",
      "[2022-02-11 17:42:36,108][simple_parsing.helpers.serialization.decoding][DEBUG] name = type, field_type = <enum 'DatasetVersionType'>\n",
      "[2022-02-11 17:42:36,109][simple_parsing.helpers.serialization.decoding][DEBUG] name = parameters, field_type = typing.Dict[str, typing.Any]\n",
      "[2022-02-11 17:42:36,110][simple_parsing.helpers.serialization.serializable][DEBUG] from_dict for <class 'shared.schema.dataset.DatasetVersion'>, drop extra fields: True\n",
      "[2022-02-11 17:42:36,110][simple_parsing.helpers.serialization.decoding][DEBUG] name = type, field_type = <enum 'DatasetVersionType'>\n",
      "[2022-02-11 17:42:36,111][simple_parsing.helpers.serialization.decoding][DEBUG] name = parameters, field_type = typing.Dict[str, typing.Any]\n",
      "[2022-02-11 17:42:36,112][simple_parsing.helpers.serialization.decoding][DEBUG] name = tags, field_type = typing.List[str]\n",
      "[2022-02-11 17:42:36,116][export_to_visualization.py][INFO] Processing /data/pella/projects/University/Thesis/Thesis/code/storage/datasets/processed/star-wars/schema.yaml\n",
      "[2022-02-11 17:42:36,132][simple_parsing.helpers.serialization.serializable][DEBUG] from_dict for <class 'shared.schema.graph.GraphSchema'>, drop extra fields: True\n",
      "[2022-02-11 17:42:36,133][simple_parsing.helpers.serialization.decoding][DEBUG] name = nodes, field_type = typing.Dict[str, shared.schema.graph.NodeSchema]\n",
      "[2022-02-11 17:42:36,134][simple_parsing.helpers.serialization.serializable][DEBUG] from_dict for <class 'shared.schema.graph.NodeSchema'>, drop extra fields: True\n",
      "[2022-02-11 17:42:36,134][simple_parsing.helpers.serialization.decoding][DEBUG] name = label, field_type = <class 'str'>\n",
      "[2022-02-11 17:42:36,135][simple_parsing.helpers.serialization.decoding][DEBUG] name = properties, field_type = typing.Dict[str, shared.schema.graph.GraphProperty]\n",
      "[2022-02-11 17:42:36,136][simple_parsing.helpers.serialization.serializable][DEBUG] from_dict for <class 'shared.schema.graph.GraphProperty'>, drop extra fields: True\n",
      "[2022-02-11 17:42:36,136][simple_parsing.helpers.serialization.decoding][DEBUG] name = dtype, field_type = <class 'shared.schema.graph.DType'>\n",
      "[2022-02-11 17:42:36,137][simple_parsing.helpers.serialization.serializable][DEBUG] from_dict for <class 'shared.schema.graph.GraphProperty'>, drop extra fields: True\n",
      "[2022-02-11 17:42:36,137][simple_parsing.helpers.serialization.decoding][DEBUG] name = dtype, field_type = <class 'shared.schema.graph.DType'>\n",
      "[2022-02-11 17:42:36,138][simple_parsing.helpers.serialization.serializable][DEBUG] from_dict for <class 'shared.schema.graph.GraphProperty'>, drop extra fields: True\n",
      "[2022-02-11 17:42:36,139][simple_parsing.helpers.serialization.decoding][DEBUG] name = dtype, field_type = <class 'shared.schema.graph.DType'>\n",
      "[2022-02-11 17:42:36,139][simple_parsing.helpers.serialization.serializable][DEBUG] from_dict for <class 'shared.schema.graph.GraphProperty'>, drop extra fields: True\n",
      "[2022-02-11 17:42:36,140][simple_parsing.helpers.serialization.decoding][DEBUG] name = dtype, field_type = <class 'shared.schema.graph.DType'>\n",
      "[2022-02-11 17:42:36,140][simple_parsing.helpers.serialization.serializable][DEBUG] from_dict for <class 'shared.schema.graph.GraphProperty'>, drop extra fields: True\n",
      "[2022-02-11 17:42:36,141][simple_parsing.helpers.serialization.decoding][DEBUG] name = dtype, field_type = <class 'shared.schema.graph.DType'>\n",
      "[2022-02-11 17:42:36,142][simple_parsing.helpers.serialization.serializable][DEBUG] from_dict for <class 'shared.schema.graph.GraphProperty'>, drop extra fields: True\n",
      "[2022-02-11 17:42:36,142][simple_parsing.helpers.serialization.decoding][DEBUG] name = dtype, field_type = <class 'shared.schema.graph.DType'>\n",
      "[2022-02-11 17:42:36,143][simple_parsing.helpers.serialization.serializable][DEBUG] from_dict for <class 'shared.schema.graph.GraphProperty'>, drop extra fields: True\n",
      "[2022-02-11 17:42:36,144][simple_parsing.helpers.serialization.decoding][DEBUG] name = dtype, field_type = <class 'shared.schema.graph.DType'>\n",
      "[2022-02-11 17:42:36,145][simple_parsing.helpers.serialization.serializable][DEBUG] from_dict for <class 'shared.schema.graph.GraphProperty'>, drop extra fields: True\n",
      "[2022-02-11 17:42:36,145][simple_parsing.helpers.serialization.decoding][DEBUG] name = dtype, field_type = <class 'shared.schema.graph.DType'>\n",
      "[2022-02-11 17:42:36,146][simple_parsing.helpers.serialization.serializable][DEBUG] from_dict for <class 'shared.schema.graph.GraphProperty'>, drop extra fields: True\n",
      "[2022-02-11 17:42:36,147][simple_parsing.helpers.serialization.decoding][DEBUG] name = dtype, field_type = <class 'shared.schema.graph.DType'>\n",
      "[2022-02-11 17:42:36,147][simple_parsing.helpers.serialization.serializable][DEBUG] from_dict for <class 'shared.schema.graph.GraphProperty'>, drop extra fields: True\n",
      "[2022-02-11 17:42:36,148][simple_parsing.helpers.serialization.decoding][DEBUG] name = dtype, field_type = <class 'shared.schema.graph.DType'>\n",
      "[2022-02-11 17:42:36,148][simple_parsing.helpers.serialization.serializable][DEBUG] from_dict for <class 'shared.schema.graph.GraphProperty'>, drop extra fields: True\n",
      "[2022-02-11 17:42:36,148][simple_parsing.helpers.serialization.decoding][DEBUG] name = dtype, field_type = <class 'shared.schema.graph.DType'>\n",
      "[2022-02-11 17:42:36,148][simple_parsing.helpers.serialization.serializable][DEBUG] from_dict for <class 'shared.schema.graph.GraphProperty'>, drop extra fields: True\n",
      "[2022-02-11 17:42:36,149][simple_parsing.helpers.serialization.decoding][DEBUG] name = dtype, field_type = <class 'shared.schema.graph.DType'>\n",
      "[2022-02-11 17:42:36,152][simple_parsing.helpers.serialization.serializable][DEBUG] from_dict for <class 'shared.schema.graph.GraphProperty'>, drop extra fields: True\n",
      "[2022-02-11 17:42:36,152][simple_parsing.helpers.serialization.decoding][DEBUG] name = dtype, field_type = <class 'shared.schema.graph.DType'>\n",
      "[2022-02-11 17:42:36,153][simple_parsing.helpers.serialization.serializable][DEBUG] from_dict for <class 'shared.schema.graph.GraphProperty'>, drop extra fields: True\n",
      "[2022-02-11 17:42:36,153][simple_parsing.helpers.serialization.decoding][DEBUG] name = dtype, field_type = <class 'shared.schema.graph.DType'>\n",
      "[2022-02-11 17:42:36,154][simple_parsing.helpers.serialization.serializable][DEBUG] from_dict for <class 'shared.schema.graph.GraphProperty'>, drop extra fields: True\n",
      "[2022-02-11 17:42:36,154][simple_parsing.helpers.serialization.decoding][DEBUG] name = dtype, field_type = <class 'shared.schema.graph.DType'>\n",
      "[2022-02-11 17:42:36,155][simple_parsing.helpers.serialization.serializable][DEBUG] from_dict for <class 'shared.schema.graph.GraphProperty'>, drop extra fields: True\n",
      "[2022-02-11 17:42:36,156][simple_parsing.helpers.serialization.decoding][DEBUG] name = dtype, field_type = <class 'shared.schema.graph.DType'>\n",
      "[2022-02-11 17:42:36,156][simple_parsing.helpers.serialization.serializable][DEBUG] from_dict for <class 'shared.schema.graph.GraphProperty'>, drop extra fields: True\n",
      "[2022-02-11 17:42:36,157][simple_parsing.helpers.serialization.decoding][DEBUG] name = dtype, field_type = <class 'shared.schema.graph.DType'>\n",
      "[2022-02-11 17:42:36,157][simple_parsing.helpers.serialization.serializable][DEBUG] from_dict for <class 'shared.schema.graph.GraphProperty'>, drop extra fields: True\n",
      "[2022-02-11 17:42:36,157][simple_parsing.helpers.serialization.decoding][DEBUG] name = dtype, field_type = <class 'shared.schema.graph.DType'>\n",
      "[2022-02-11 17:42:36,158][simple_parsing.helpers.serialization.serializable][DEBUG] from_dict for <class 'shared.schema.graph.GraphProperty'>, drop extra fields: True\n",
      "[2022-02-11 17:42:36,158][simple_parsing.helpers.serialization.decoding][DEBUG] name = dtype, field_type = <class 'shared.schema.graph.DType'>\n",
      "[2022-02-11 17:42:36,159][simple_parsing.helpers.serialization.serializable][DEBUG] from_dict for <class 'shared.schema.graph.GraphProperty'>, drop extra fields: True\n",
      "[2022-02-11 17:42:36,160][simple_parsing.helpers.serialization.decoding][DEBUG] name = dtype, field_type = <class 'shared.schema.graph.DType'>\n",
      "[2022-02-11 17:42:36,160][simple_parsing.helpers.serialization.serializable][DEBUG] from_dict for <class 'shared.schema.graph.GraphProperty'>, drop extra fields: True\n",
      "[2022-02-11 17:42:36,160][simple_parsing.helpers.serialization.decoding][DEBUG] name = dtype, field_type = <class 'shared.schema.graph.DType'>\n",
      "[2022-02-11 17:42:36,161][simple_parsing.helpers.serialization.serializable][DEBUG] from_dict for <class 'shared.schema.graph.GraphProperty'>, drop extra fields: True\n",
      "[2022-02-11 17:42:36,161][simple_parsing.helpers.serialization.decoding][DEBUG] name = dtype, field_type = <class 'shared.schema.graph.DType'>\n",
      "[2022-02-11 17:42:36,162][simple_parsing.helpers.serialization.serializable][DEBUG] from_dict for <class 'shared.schema.graph.GraphProperty'>, drop extra fields: True\n",
      "[2022-02-11 17:42:36,163][simple_parsing.helpers.serialization.decoding][DEBUG] name = dtype, field_type = <class 'shared.schema.graph.DType'>\n",
      "[2022-02-11 17:42:36,164][simple_parsing.helpers.serialization.serializable][DEBUG] from_dict for <class 'shared.schema.graph.GraphProperty'>, drop extra fields: True\n",
      "[2022-02-11 17:42:36,165][simple_parsing.helpers.serialization.decoding][DEBUG] name = dtype, field_type = <class 'shared.schema.graph.DType'>\n",
      "[2022-02-11 17:42:36,165][simple_parsing.helpers.serialization.serializable][DEBUG] from_dict for <class 'shared.schema.graph.GraphProperty'>, drop extra fields: True\n",
      "[2022-02-11 17:42:36,166][simple_parsing.helpers.serialization.decoding][DEBUG] name = dtype, field_type = <class 'shared.schema.graph.DType'>\n",
      "[2022-02-11 17:42:36,167][simple_parsing.helpers.serialization.serializable][DEBUG] from_dict for <class 'shared.schema.graph.GraphProperty'>, drop extra fields: True\n",
      "[2022-02-11 17:42:36,167][simple_parsing.helpers.serialization.decoding][DEBUG] name = dtype, field_type = <class 'shared.schema.graph.DType'>\n",
      "[2022-02-11 17:42:36,168][simple_parsing.helpers.serialization.serializable][DEBUG] from_dict for <class 'shared.schema.graph.GraphProperty'>, drop extra fields: True\n",
      "[2022-02-11 17:42:36,169][simple_parsing.helpers.serialization.decoding][DEBUG] name = dtype, field_type = <class 'shared.schema.graph.DType'>\n",
      "[2022-02-11 17:42:36,169][simple_parsing.helpers.serialization.serializable][DEBUG] from_dict for <class 'shared.schema.graph.GraphProperty'>, drop extra fields: True\n",
      "[2022-02-11 17:42:36,170][simple_parsing.helpers.serialization.decoding][DEBUG] name = dtype, field_type = <class 'shared.schema.graph.DType'>\n",
      "[2022-02-11 17:42:36,171][simple_parsing.helpers.serialization.serializable][DEBUG] from_dict for <class 'shared.schema.graph.GraphProperty'>, drop extra fields: True\n",
      "[2022-02-11 17:42:36,171][simple_parsing.helpers.serialization.decoding][DEBUG] name = dtype, field_type = <class 'shared.schema.graph.DType'>\n",
      "[2022-02-11 17:42:36,172][simple_parsing.helpers.serialization.serializable][DEBUG] from_dict for <class 'shared.schema.graph.GraphProperty'>, drop extra fields: True\n",
      "[2022-02-11 17:42:36,173][simple_parsing.helpers.serialization.decoding][DEBUG] name = dtype, field_type = <class 'shared.schema.graph.DType'>\n",
      "[2022-02-11 17:42:36,173][simple_parsing.helpers.serialization.serializable][DEBUG] from_dict for <class 'shared.schema.graph.GraphProperty'>, drop extra fields: True\n",
      "[2022-02-11 17:42:36,174][simple_parsing.helpers.serialization.decoding][DEBUG] name = dtype, field_type = <class 'shared.schema.graph.DType'>\n",
      "[2022-02-11 17:42:36,175][simple_parsing.helpers.serialization.serializable][DEBUG] from_dict for <class 'shared.schema.graph.GraphProperty'>, drop extra fields: True\n",
      "[2022-02-11 17:42:36,175][simple_parsing.helpers.serialization.decoding][DEBUG] name = dtype, field_type = <class 'shared.schema.graph.DType'>\n",
      "[2022-02-11 17:42:36,176][simple_parsing.helpers.serialization.serializable][DEBUG] from_dict for <class 'shared.schema.graph.GraphProperty'>, drop extra fields: True\n",
      "[2022-02-11 17:42:36,177][simple_parsing.helpers.serialization.decoding][DEBUG] name = dtype, field_type = <class 'shared.schema.graph.DType'>\n",
      "[2022-02-11 17:42:36,181][simple_parsing.helpers.serialization.serializable][DEBUG] from_dict for <class 'shared.schema.graph.GraphProperty'>, drop extra fields: True\n",
      "[2022-02-11 17:42:36,182][simple_parsing.helpers.serialization.decoding][DEBUG] name = dtype, field_type = <class 'shared.schema.graph.DType'>\n",
      "[2022-02-11 17:42:36,183][simple_parsing.helpers.serialization.serializable][DEBUG] from_dict for <class 'shared.schema.graph.GraphProperty'>, drop extra fields: True\n",
      "[2022-02-11 17:42:36,184][simple_parsing.helpers.serialization.decoding][DEBUG] name = dtype, field_type = <class 'shared.schema.graph.DType'>\n",
      "[2022-02-11 17:42:36,185][simple_parsing.helpers.serialization.serializable][DEBUG] from_dict for <class 'shared.schema.graph.GraphProperty'>, drop extra fields: True\n",
      "[2022-02-11 17:42:36,186][simple_parsing.helpers.serialization.decoding][DEBUG] name = dtype, field_type = <class 'shared.schema.graph.DType'>\n",
      "[2022-02-11 17:42:36,187][simple_parsing.helpers.serialization.serializable][DEBUG] from_dict for <class 'shared.schema.graph.GraphProperty'>, drop extra fields: True\n",
      "[2022-02-11 17:42:36,188][simple_parsing.helpers.serialization.decoding][DEBUG] name = dtype, field_type = <class 'shared.schema.graph.DType'>\n",
      "[2022-02-11 17:42:36,188][simple_parsing.helpers.serialization.serializable][DEBUG] from_dict for <class 'shared.schema.graph.GraphProperty'>, drop extra fields: True\n",
      "[2022-02-11 17:42:36,189][simple_parsing.helpers.serialization.decoding][DEBUG] name = dtype, field_type = <class 'shared.schema.graph.DType'>\n",
      "[2022-02-11 17:42:36,190][simple_parsing.helpers.serialization.serializable][DEBUG] from_dict for <class 'shared.schema.graph.GraphProperty'>, drop extra fields: True\n",
      "[2022-02-11 17:42:36,191][simple_parsing.helpers.serialization.decoding][DEBUG] name = dtype, field_type = <class 'shared.schema.graph.DType'>\n",
      "[2022-02-11 17:42:36,192][simple_parsing.helpers.serialization.serializable][DEBUG] from_dict for <class 'shared.schema.graph.GraphProperty'>, drop extra fields: True\n",
      "[2022-02-11 17:42:36,192][simple_parsing.helpers.serialization.decoding][DEBUG] name = dtype, field_type = <class 'shared.schema.graph.DType'>\n",
      "[2022-02-11 17:42:36,193][simple_parsing.helpers.serialization.serializable][DEBUG] from_dict for <class 'shared.schema.graph.GraphProperty'>, drop extra fields: True\n",
      "[2022-02-11 17:42:36,194][simple_parsing.helpers.serialization.decoding][DEBUG] name = dtype, field_type = <class 'shared.schema.graph.DType'>\n",
      "[2022-02-11 17:42:36,195][simple_parsing.helpers.serialization.serializable][DEBUG] from_dict for <class 'shared.schema.graph.GraphProperty'>, drop extra fields: True\n",
      "[2022-02-11 17:42:36,196][simple_parsing.helpers.serialization.decoding][DEBUG] name = dtype, field_type = <class 'shared.schema.graph.DType'>\n",
      "[2022-02-11 17:42:36,197][simple_parsing.helpers.serialization.serializable][DEBUG] from_dict for <class 'shared.schema.graph.GraphProperty'>, drop extra fields: True\n",
      "[2022-02-11 17:42:36,198][simple_parsing.helpers.serialization.decoding][DEBUG] name = dtype, field_type = <class 'shared.schema.graph.DType'>\n",
      "[2022-02-11 17:42:36,198][simple_parsing.helpers.serialization.serializable][DEBUG] from_dict for <class 'shared.schema.graph.GraphProperty'>, drop extra fields: True\n",
      "[2022-02-11 17:42:36,199][simple_parsing.helpers.serialization.decoding][DEBUG] name = dtype, field_type = <class 'shared.schema.graph.DType'>\n",
      "[2022-02-11 17:42:36,200][simple_parsing.helpers.serialization.serializable][DEBUG] from_dict for <class 'shared.schema.graph.GraphProperty'>, drop extra fields: True\n",
      "[2022-02-11 17:42:36,201][simple_parsing.helpers.serialization.decoding][DEBUG] name = dtype, field_type = <class 'shared.schema.graph.DType'>\n",
      "[2022-02-11 17:42:36,201][simple_parsing.helpers.serialization.serializable][DEBUG] from_dict for <class 'shared.schema.graph.GraphProperty'>, drop extra fields: True\n",
      "[2022-02-11 17:42:36,202][simple_parsing.helpers.serialization.decoding][DEBUG] name = dtype, field_type = <class 'shared.schema.graph.DType'>\n",
      "[2022-02-11 17:42:36,203][simple_parsing.helpers.serialization.serializable][DEBUG] from_dict for <class 'shared.schema.graph.GraphProperty'>, drop extra fields: True\n",
      "[2022-02-11 17:42:36,203][simple_parsing.helpers.serialization.decoding][DEBUG] name = dtype, field_type = <class 'shared.schema.graph.DType'>\n",
      "[2022-02-11 17:42:36,204][simple_parsing.helpers.serialization.serializable][DEBUG] from_dict for <class 'shared.schema.graph.GraphProperty'>, drop extra fields: True\n",
      "[2022-02-11 17:42:36,204][simple_parsing.helpers.serialization.decoding][DEBUG] name = dtype, field_type = <class 'shared.schema.graph.DType'>\n",
      "[2022-02-11 17:42:36,205][simple_parsing.helpers.serialization.serializable][DEBUG] from_dict for <class 'shared.schema.graph.GraphProperty'>, drop extra fields: True\n",
      "[2022-02-11 17:42:36,206][simple_parsing.helpers.serialization.decoding][DEBUG] name = dtype, field_type = <class 'shared.schema.graph.DType'>\n",
      "[2022-02-11 17:42:36,206][simple_parsing.helpers.serialization.serializable][DEBUG] from_dict for <class 'shared.schema.graph.GraphProperty'>, drop extra fields: True\n",
      "[2022-02-11 17:42:36,207][simple_parsing.helpers.serialization.decoding][DEBUG] name = dtype, field_type = <class 'shared.schema.graph.DType'>\n",
      "[2022-02-11 17:42:36,208][simple_parsing.helpers.serialization.serializable][DEBUG] from_dict for <class 'shared.schema.graph.GraphProperty'>, drop extra fields: True\n",
      "[2022-02-11 17:42:36,210][simple_parsing.helpers.serialization.decoding][DEBUG] name = dtype, field_type = <class 'shared.schema.graph.DType'>\n",
      "[2022-02-11 17:42:36,211][simple_parsing.helpers.serialization.serializable][DEBUG] from_dict for <class 'shared.schema.graph.GraphProperty'>, drop extra fields: True\n",
      "[2022-02-11 17:42:36,212][simple_parsing.helpers.serialization.decoding][DEBUG] name = dtype, field_type = <class 'shared.schema.graph.DType'>\n",
      "[2022-02-11 17:42:36,213][simple_parsing.helpers.serialization.decoding][DEBUG] name = edges, field_type = typing.Dict[str, shared.schema.graph.EdgeSchema]\n",
      "[2022-02-11 17:42:36,214][simple_parsing.helpers.serialization.serializable][DEBUG] from_dict for <class 'shared.schema.graph.EdgeSchema'>, drop extra fields: True\n",
      "[2022-02-11 17:42:36,215][simple_parsing.helpers.serialization.decoding][DEBUG] name = properties, field_type = typing.Dict[str, shared.schema.graph.GraphProperty]\n",
      "[2022-02-11 17:42:36,215][simple_parsing.helpers.serialization.serializable][DEBUG] from_dict for <class 'shared.schema.graph.GraphProperty'>, drop extra fields: True\n",
      "[2022-02-11 17:42:36,216][simple_parsing.helpers.serialization.decoding][DEBUG] name = dtype, field_type = <class 'shared.schema.graph.DType'>\n",
      "[2022-02-11 17:42:36,217][simple_parsing.helpers.serialization.serializable][DEBUG] from_dict for <class 'shared.schema.graph.GraphProperty'>, drop extra fields: True\n",
      "[2022-02-11 17:42:36,217][simple_parsing.helpers.serialization.decoding][DEBUG] name = dtype, field_type = <class 'shared.schema.graph.DType'>\n",
      "[2022-02-11 17:42:36,218][simple_parsing.helpers.serialization.serializable][DEBUG] from_dict for <class 'shared.schema.graph.GraphProperty'>, drop extra fields: True\n",
      "[2022-02-11 17:42:36,219][simple_parsing.helpers.serialization.decoding][DEBUG] name = dtype, field_type = <class 'shared.schema.graph.DType'>\n",
      "[2022-02-11 17:42:36,219][simple_parsing.helpers.serialization.serializable][DEBUG] from_dict for <class 'shared.schema.graph.GraphProperty'>, drop extra fields: True\n",
      "[2022-02-11 17:42:36,220][simple_parsing.helpers.serialization.decoding][DEBUG] name = dtype, field_type = <class 'shared.schema.graph.DType'>\n",
      "[2022-02-11 17:42:36,221][simple_parsing.helpers.serialization.decoding][DEBUG] name = dynamic, field_type = typing.Optional[shared.schema.graph.DynamicConfig]\n",
      "[2022-02-11 17:42:36,222][simple_parsing.helpers.serialization.serializable][DEBUG] from_dict for <class 'shared.schema.graph.DynamicConfig'>, drop extra fields: True\n",
      "[2022-02-11 17:42:36,222][simple_parsing.helpers.serialization.decoding][DEBUG] name = timestamp, field_type = <class 'str'>\n",
      "[2022-02-11 17:42:36,223][simple_parsing.helpers.serialization.decoding][DEBUG] name = interaction, field_type = <class 'bool'>\n",
      "[2022-02-11 17:42:36,224][simple_parsing.helpers.serialization.decoding][DEBUG] name = source_type, field_type = <class 'str'>\n",
      "[2022-02-11 17:42:36,224][simple_parsing.helpers.serialization.decoding][DEBUG] name = target_type, field_type = <class 'str'>\n",
      "[2022-02-11 17:42:36,225][simple_parsing.helpers.serialization.decoding][DEBUG] name = directed, field_type = <class 'bool'>\n",
      "[2022-02-11 17:42:36,226][simple_parsing.helpers.serialization.serializable][DEBUG] from_dict for <class 'shared.schema.graph.EdgeSchema'>, drop extra fields: True\n",
      "[2022-02-11 17:42:36,227][simple_parsing.helpers.serialization.decoding][DEBUG] name = properties, field_type = typing.Dict[str, shared.schema.graph.GraphProperty]\n",
      "[2022-02-11 17:42:36,228][simple_parsing.helpers.serialization.serializable][DEBUG] from_dict for <class 'shared.schema.graph.GraphProperty'>, drop extra fields: True\n",
      "[2022-02-11 17:42:36,228][simple_parsing.helpers.serialization.decoding][DEBUG] name = dtype, field_type = <class 'shared.schema.graph.DType'>\n",
      "[2022-02-11 17:42:36,229][simple_parsing.helpers.serialization.serializable][DEBUG] from_dict for <class 'shared.schema.graph.GraphProperty'>, drop extra fields: True\n",
      "[2022-02-11 17:42:36,230][simple_parsing.helpers.serialization.decoding][DEBUG] name = dtype, field_type = <class 'shared.schema.graph.DType'>\n",
      "[2022-02-11 17:42:36,230][simple_parsing.helpers.serialization.serializable][DEBUG] from_dict for <class 'shared.schema.graph.GraphProperty'>, drop extra fields: True\n",
      "[2022-02-11 17:42:36,231][simple_parsing.helpers.serialization.decoding][DEBUG] name = dtype, field_type = <class 'shared.schema.graph.DType'>\n",
      "[2022-02-11 17:42:36,232][simple_parsing.helpers.serialization.serializable][DEBUG] from_dict for <class 'shared.schema.graph.GraphProperty'>, drop extra fields: True\n",
      "[2022-02-11 17:42:36,242][simple_parsing.helpers.serialization.decoding][DEBUG] name = dtype, field_type = <class 'shared.schema.graph.DType'>\n",
      "[2022-02-11 17:42:36,242][simple_parsing.helpers.serialization.decoding][DEBUG] name = dynamic, field_type = typing.Optional[shared.schema.graph.DynamicConfig]\n",
      "[2022-02-11 17:42:36,242][simple_parsing.helpers.serialization.serializable][DEBUG] from_dict for <class 'shared.schema.graph.DynamicConfig'>, drop extra fields: True\n",
      "[2022-02-11 17:42:36,245][simple_parsing.helpers.serialization.decoding][DEBUG] name = timestamp, field_type = <class 'str'>\n",
      "[2022-02-11 17:42:36,245][simple_parsing.helpers.serialization.decoding][DEBUG] name = interaction, field_type = <class 'bool'>\n",
      "[2022-02-11 17:42:36,246][simple_parsing.helpers.serialization.decoding][DEBUG] name = source_type, field_type = <class 'str'>\n",
      "[2022-02-11 17:42:36,246][simple_parsing.helpers.serialization.decoding][DEBUG] name = target_type, field_type = <class 'str'>\n",
      "[2022-02-11 17:42:36,246][simple_parsing.helpers.serialization.decoding][DEBUG] name = directed, field_type = <class 'bool'>\n",
      "[2022-02-11 17:42:36,326][export_to_visualization.py][INFO] Adding prediction /data/pella/projects/University/Thesis/Thesis/code/storage/results/analysis/pyg-hgt-comopt/schema.comlist as prediction_0\n",
      "[2022-02-11 17:42:36,331][export_to_visualization.py][INFO] Writing /data/pella/projects/University/Thesis/Thesis/code/storage/datasets/export/star-wars/versions/base/schema.graphml\n"
     ]
    }
   ],
   "source": [
    "from datasets.scripts import export_to_visualization\n",
    "\n",
    "export_to_visualization.run(\n",
    "    export_to_visualization.Args(\n",
    "        dataset='star-wars',\n",
    "        version='base',\n",
    "        run_paths=[str(save_path)]\n",
    "    )\n",
    ")"
   ],
   "metadata": {
    "collapsed": false,
    "pycharm": {
     "name": "#%%\n",
     "is_executing": true
    }
   }
  },
  {
   "cell_type": "markdown",
   "source": [
    "# Calculate Evaluation Metrics"
   ],
   "metadata": {
    "collapsed": false,
    "pycharm": {
     "name": "#%% md\n"
    }
   }
  },
  {
   "cell_type": "code",
   "execution_count": 36,
   "outputs": [
    {
     "name": "stdout",
     "output_type": "stream",
     "text": [
      "ERROR! Session/line number was not unique in database. History logging moved to new session 151\n",
      "[2022-02-11 17:42:56,828][simple_parsing.helpers.serialization.serializable][DEBUG] Registering a new Serializable subclass: <class 'benchmarks.config.TunedParameterValue'>\n",
      "[2022-02-11 17:42:56,829][simple_parsing.helpers.serialization.serializable][DEBUG] parents: [<class 'simple_parsing.helpers.serialization.serializable.Serializable'>, <class 'simple_parsing.helpers.serialization.serializable.SerializableMixin'>]\n",
      "[2022-02-11 17:42:56,830][simple_parsing.helpers.serialization.serializable][DEBUG] Parent class <class 'simple_parsing.helpers.serialization.serializable.Serializable'> has decode_into_subclasses = False\n",
      "[2022-02-11 17:42:56,832][simple_parsing.helpers.serialization.serializable][DEBUG] Registering a new Serializable subclass: <class 'benchmarks.config.ParameterConfig'>\n",
      "[2022-02-11 17:42:56,833][simple_parsing.helpers.serialization.serializable][DEBUG] parents: [<class 'dict'>, <class 'simple_parsing.helpers.serialization.serializable.Serializable'>, <class 'simple_parsing.helpers.serialization.serializable.SerializableMixin'>]\n",
      "[2022-02-11 17:42:56,834][simple_parsing.helpers.serialization.serializable][DEBUG] Parent class <class 'simple_parsing.helpers.serialization.serializable.Serializable'> has decode_into_subclasses = False\n",
      "[2022-02-11 17:42:56,834][simple_parsing.helpers.serialization.serializable][DEBUG] Registering a new Serializable subclass: <class 'benchmarks.config.ExecutionConfig'>\n",
      "[2022-02-11 17:42:56,835][simple_parsing.helpers.serialization.serializable][DEBUG] parents: [<class 'simple_parsing.helpers.serialization.serializable.Serializable'>, <class 'simple_parsing.helpers.serialization.serializable.SerializableMixin'>]\n",
      "[2022-02-11 17:42:56,836][simple_parsing.helpers.serialization.serializable][DEBUG] Parent class <class 'simple_parsing.helpers.serialization.serializable.Serializable'> has decode_into_subclasses = False\n",
      "[2022-02-11 17:42:56,837][simple_parsing.helpers.serialization.serializable][DEBUG] Registering a new Serializable subclass: <class 'benchmarks.config.DatasetRunConfig'>\n",
      "[2022-02-11 17:42:56,838][simple_parsing.helpers.serialization.serializable][DEBUG] parents: [<class 'simple_parsing.helpers.serialization.serializable.Serializable'>, <class 'simple_parsing.helpers.serialization.serializable.SerializableMixin'>]\n",
      "[2022-02-11 17:42:56,839][simple_parsing.helpers.serialization.serializable][DEBUG] Parent class <class 'simple_parsing.helpers.serialization.serializable.Serializable'> has decode_into_subclasses = False\n",
      "[2022-02-11 17:42:56,840][simple_parsing.helpers.serialization.serializable][DEBUG] Registering a new Serializable subclass: <class 'benchmarks.config.BenchmarkConfig'>\n",
      "[2022-02-11 17:42:56,841][simple_parsing.helpers.serialization.serializable][DEBUG] parents: [<class 'simple_parsing.helpers.serialization.serializable.Serializable'>, <class 'simple_parsing.helpers.serialization.serializable.SerializableMixin'>]\n",
      "[2022-02-11 17:42:56,842][simple_parsing.helpers.serialization.serializable][DEBUG] Parent class <class 'simple_parsing.helpers.serialization.serializable.Serializable'> has decode_into_subclasses = False\n"
     ]
    }
   ],
   "source": [
    "from shared.graph import DataGraph\n",
    "from benchmarks.evaluation import get_metric_list"
   ],
   "metadata": {
    "collapsed": false,
    "pycharm": {
     "name": "#%%\n"
    }
   }
  },
  {
   "cell_type": "code",
   "execution_count": 37,
   "outputs": [
    {
     "name": "stdout",
     "output_type": "stream",
     "text": [
      "[2022-02-11 17:43:01,663][simple_parsing.helpers.serialization.serializable][DEBUG] from_dict for <class 'shared.schema.dataset.DatasetSchema'>, drop extra fields: True\n",
      "[2022-02-11 17:43:01,664][simple_parsing.helpers.serialization.decoding][DEBUG] name = name, field_type = <class 'str'>\n",
      "[2022-02-11 17:43:01,665][simple_parsing.helpers.serialization.decoding][DEBUG] name = database, field_type = <class 'str'>\n",
      "[2022-02-11 17:43:01,665][simple_parsing.helpers.serialization.decoding][DEBUG] name = description, field_type = <class 'str'>\n",
      "[2022-02-11 17:43:01,666][simple_parsing.helpers.serialization.decoding][DEBUG] name = versions, field_type = typing.Dict[str, shared.schema.dataset.DatasetVersion]\n",
      "[2022-02-11 17:43:01,667][simple_parsing.helpers.serialization.serializable][DEBUG] from_dict for <class 'shared.schema.dataset.DatasetVersion'>, drop extra fields: True\n",
      "[2022-02-11 17:43:01,668][simple_parsing.helpers.serialization.decoding][DEBUG] name = type, field_type = <enum 'DatasetVersionType'>\n",
      "[2022-02-11 17:43:01,668][simple_parsing.helpers.serialization.decoding][DEBUG] name = parameters, field_type = typing.Dict[str, typing.Any]\n",
      "[2022-02-11 17:43:01,669][simple_parsing.helpers.serialization.serializable][DEBUG] from_dict for <class 'shared.schema.dataset.DatasetVersion'>, drop extra fields: True\n",
      "[2022-02-11 17:43:01,670][simple_parsing.helpers.serialization.decoding][DEBUG] name = type, field_type = <enum 'DatasetVersionType'>\n",
      "[2022-02-11 17:43:01,670][simple_parsing.helpers.serialization.decoding][DEBUG] name = parameters, field_type = typing.Dict[str, typing.Any]\n",
      "[2022-02-11 17:43:01,671][simple_parsing.helpers.serialization.serializable][DEBUG] from_dict for <class 'shared.schema.dataset.DatasetVersion'>, drop extra fields: True\n",
      "[2022-02-11 17:43:01,672][simple_parsing.helpers.serialization.decoding][DEBUG] name = type, field_type = <enum 'DatasetVersionType'>\n",
      "[2022-02-11 17:43:01,672][simple_parsing.helpers.serialization.decoding][DEBUG] name = parameters, field_type = typing.Dict[str, typing.Any]\n",
      "[2022-02-11 17:43:01,673][simple_parsing.helpers.serialization.decoding][DEBUG] name = tags, field_type = typing.List[str]\n",
      "[2022-02-11 17:43:01,689][simple_parsing.helpers.serialization.serializable][DEBUG] from_dict for <class 'shared.schema.graph.GraphSchema'>, drop extra fields: True\n",
      "[2022-02-11 17:43:01,690][simple_parsing.helpers.serialization.decoding][DEBUG] name = nodes, field_type = typing.Dict[str, shared.schema.graph.NodeSchema]\n",
      "[2022-02-11 17:43:01,690][simple_parsing.helpers.serialization.serializable][DEBUG] from_dict for <class 'shared.schema.graph.NodeSchema'>, drop extra fields: True\n",
      "[2022-02-11 17:43:01,690][simple_parsing.helpers.serialization.decoding][DEBUG] name = label, field_type = <class 'str'>\n",
      "[2022-02-11 17:43:01,691][simple_parsing.helpers.serialization.decoding][DEBUG] name = properties, field_type = typing.Dict[str, shared.schema.graph.GraphProperty]\n",
      "[2022-02-11 17:43:01,691][simple_parsing.helpers.serialization.serializable][DEBUG] from_dict for <class 'shared.schema.graph.GraphProperty'>, drop extra fields: True\n",
      "[2022-02-11 17:43:01,691][simple_parsing.helpers.serialization.decoding][DEBUG] name = dtype, field_type = <class 'shared.schema.graph.DType'>\n",
      "[2022-02-11 17:43:01,692][simple_parsing.helpers.serialization.serializable][DEBUG] from_dict for <class 'shared.schema.graph.GraphProperty'>, drop extra fields: True\n",
      "[2022-02-11 17:43:01,692][simple_parsing.helpers.serialization.decoding][DEBUG] name = dtype, field_type = <class 'shared.schema.graph.DType'>\n",
      "[2022-02-11 17:43:01,692][simple_parsing.helpers.serialization.serializable][DEBUG] from_dict for <class 'shared.schema.graph.GraphProperty'>, drop extra fields: True\n",
      "[2022-02-11 17:43:01,693][simple_parsing.helpers.serialization.decoding][DEBUG] name = dtype, field_type = <class 'shared.schema.graph.DType'>\n",
      "[2022-02-11 17:43:01,693][simple_parsing.helpers.serialization.serializable][DEBUG] from_dict for <class 'shared.schema.graph.GraphProperty'>, drop extra fields: True\n",
      "[2022-02-11 17:43:01,693][simple_parsing.helpers.serialization.decoding][DEBUG] name = dtype, field_type = <class 'shared.schema.graph.DType'>\n",
      "[2022-02-11 17:43:01,694][simple_parsing.helpers.serialization.serializable][DEBUG] from_dict for <class 'shared.schema.graph.GraphProperty'>, drop extra fields: True\n",
      "[2022-02-11 17:43:01,694][simple_parsing.helpers.serialization.decoding][DEBUG] name = dtype, field_type = <class 'shared.schema.graph.DType'>\n",
      "[2022-02-11 17:43:01,695][simple_parsing.helpers.serialization.serializable][DEBUG] from_dict for <class 'shared.schema.graph.GraphProperty'>, drop extra fields: True\n",
      "[2022-02-11 17:43:01,695][simple_parsing.helpers.serialization.decoding][DEBUG] name = dtype, field_type = <class 'shared.schema.graph.DType'>\n",
      "[2022-02-11 17:43:01,696][simple_parsing.helpers.serialization.serializable][DEBUG] from_dict for <class 'shared.schema.graph.GraphProperty'>, drop extra fields: True\n",
      "[2022-02-11 17:43:01,696][simple_parsing.helpers.serialization.decoding][DEBUG] name = dtype, field_type = <class 'shared.schema.graph.DType'>\n",
      "[2022-02-11 17:43:01,696][simple_parsing.helpers.serialization.serializable][DEBUG] from_dict for <class 'shared.schema.graph.GraphProperty'>, drop extra fields: True\n",
      "[2022-02-11 17:43:01,697][simple_parsing.helpers.serialization.decoding][DEBUG] name = dtype, field_type = <class 'shared.schema.graph.DType'>\n",
      "[2022-02-11 17:43:01,697][simple_parsing.helpers.serialization.serializable][DEBUG] from_dict for <class 'shared.schema.graph.GraphProperty'>, drop extra fields: True\n",
      "[2022-02-11 17:43:01,698][simple_parsing.helpers.serialization.decoding][DEBUG] name = dtype, field_type = <class 'shared.schema.graph.DType'>\n",
      "[2022-02-11 17:43:01,698][simple_parsing.helpers.serialization.serializable][DEBUG] from_dict for <class 'shared.schema.graph.GraphProperty'>, drop extra fields: True\n",
      "[2022-02-11 17:43:01,700][simple_parsing.helpers.serialization.decoding][DEBUG] name = dtype, field_type = <class 'shared.schema.graph.DType'>\n",
      "[2022-02-11 17:43:01,701][simple_parsing.helpers.serialization.serializable][DEBUG] from_dict for <class 'shared.schema.graph.GraphProperty'>, drop extra fields: True\n",
      "[2022-02-11 17:43:01,701][simple_parsing.helpers.serialization.decoding][DEBUG] name = dtype, field_type = <class 'shared.schema.graph.DType'>\n",
      "[2022-02-11 17:43:01,702][simple_parsing.helpers.serialization.serializable][DEBUG] from_dict for <class 'shared.schema.graph.GraphProperty'>, drop extra fields: True\n",
      "[2022-02-11 17:43:01,702][simple_parsing.helpers.serialization.decoding][DEBUG] name = dtype, field_type = <class 'shared.schema.graph.DType'>\n",
      "[2022-02-11 17:43:01,702][simple_parsing.helpers.serialization.serializable][DEBUG] from_dict for <class 'shared.schema.graph.GraphProperty'>, drop extra fields: True\n",
      "[2022-02-11 17:43:01,703][simple_parsing.helpers.serialization.decoding][DEBUG] name = dtype, field_type = <class 'shared.schema.graph.DType'>\n",
      "[2022-02-11 17:43:01,704][simple_parsing.helpers.serialization.serializable][DEBUG] from_dict for <class 'shared.schema.graph.GraphProperty'>, drop extra fields: True\n",
      "[2022-02-11 17:43:01,704][simple_parsing.helpers.serialization.decoding][DEBUG] name = dtype, field_type = <class 'shared.schema.graph.DType'>\n",
      "[2022-02-11 17:43:01,704][simple_parsing.helpers.serialization.serializable][DEBUG] from_dict for <class 'shared.schema.graph.GraphProperty'>, drop extra fields: True\n",
      "[2022-02-11 17:43:01,705][simple_parsing.helpers.serialization.decoding][DEBUG] name = dtype, field_type = <class 'shared.schema.graph.DType'>\n",
      "[2022-02-11 17:43:01,706][simple_parsing.helpers.serialization.serializable][DEBUG] from_dict for <class 'shared.schema.graph.GraphProperty'>, drop extra fields: True\n",
      "[2022-02-11 17:43:01,706][simple_parsing.helpers.serialization.decoding][DEBUG] name = dtype, field_type = <class 'shared.schema.graph.DType'>\n",
      "[2022-02-11 17:43:01,707][simple_parsing.helpers.serialization.serializable][DEBUG] from_dict for <class 'shared.schema.graph.GraphProperty'>, drop extra fields: True\n",
      "[2022-02-11 17:43:01,707][simple_parsing.helpers.serialization.decoding][DEBUG] name = dtype, field_type = <class 'shared.schema.graph.DType'>\n",
      "[2022-02-11 17:43:01,707][simple_parsing.helpers.serialization.serializable][DEBUG] from_dict for <class 'shared.schema.graph.GraphProperty'>, drop extra fields: True\n",
      "[2022-02-11 17:43:01,708][simple_parsing.helpers.serialization.decoding][DEBUG] name = dtype, field_type = <class 'shared.schema.graph.DType'>\n",
      "[2022-02-11 17:43:01,708][simple_parsing.helpers.serialization.serializable][DEBUG] from_dict for <class 'shared.schema.graph.GraphProperty'>, drop extra fields: True\n",
      "[2022-02-11 17:43:01,709][simple_parsing.helpers.serialization.decoding][DEBUG] name = dtype, field_type = <class 'shared.schema.graph.DType'>\n",
      "[2022-02-11 17:43:01,709][simple_parsing.helpers.serialization.serializable][DEBUG] from_dict for <class 'shared.schema.graph.GraphProperty'>, drop extra fields: True\n",
      "[2022-02-11 17:43:01,710][simple_parsing.helpers.serialization.decoding][DEBUG] name = dtype, field_type = <class 'shared.schema.graph.DType'>\n",
      "[2022-02-11 17:43:01,710][simple_parsing.helpers.serialization.serializable][DEBUG] from_dict for <class 'shared.schema.graph.GraphProperty'>, drop extra fields: True\n",
      "[2022-02-11 17:43:01,711][simple_parsing.helpers.serialization.decoding][DEBUG] name = dtype, field_type = <class 'shared.schema.graph.DType'>\n",
      "[2022-02-11 17:43:01,711][simple_parsing.helpers.serialization.serializable][DEBUG] from_dict for <class 'shared.schema.graph.GraphProperty'>, drop extra fields: True\n",
      "[2022-02-11 17:43:01,712][simple_parsing.helpers.serialization.decoding][DEBUG] name = dtype, field_type = <class 'shared.schema.graph.DType'>\n",
      "[2022-02-11 17:43:01,712][simple_parsing.helpers.serialization.serializable][DEBUG] from_dict for <class 'shared.schema.graph.GraphProperty'>, drop extra fields: True\n",
      "[2022-02-11 17:43:01,713][simple_parsing.helpers.serialization.decoding][DEBUG] name = dtype, field_type = <class 'shared.schema.graph.DType'>\n",
      "[2022-02-11 17:43:01,713][simple_parsing.helpers.serialization.serializable][DEBUG] from_dict for <class 'shared.schema.graph.GraphProperty'>, drop extra fields: True\n",
      "[2022-02-11 17:43:01,714][simple_parsing.helpers.serialization.decoding][DEBUG] name = dtype, field_type = <class 'shared.schema.graph.DType'>\n",
      "[2022-02-11 17:43:01,714][simple_parsing.helpers.serialization.serializable][DEBUG] from_dict for <class 'shared.schema.graph.GraphProperty'>, drop extra fields: True\n",
      "[2022-02-11 17:43:01,715][simple_parsing.helpers.serialization.decoding][DEBUG] name = dtype, field_type = <class 'shared.schema.graph.DType'>\n",
      "[2022-02-11 17:43:01,715][simple_parsing.helpers.serialization.serializable][DEBUG] from_dict for <class 'shared.schema.graph.GraphProperty'>, drop extra fields: True\n",
      "[2022-02-11 17:43:01,716][simple_parsing.helpers.serialization.decoding][DEBUG] name = dtype, field_type = <class 'shared.schema.graph.DType'>\n",
      "[2022-02-11 17:43:01,716][simple_parsing.helpers.serialization.serializable][DEBUG] from_dict for <class 'shared.schema.graph.GraphProperty'>, drop extra fields: True\n",
      "[2022-02-11 17:43:01,717][simple_parsing.helpers.serialization.decoding][DEBUG] name = dtype, field_type = <class 'shared.schema.graph.DType'>\n",
      "[2022-02-11 17:43:01,717][simple_parsing.helpers.serialization.serializable][DEBUG] from_dict for <class 'shared.schema.graph.GraphProperty'>, drop extra fields: True\n",
      "[2022-02-11 17:43:01,717][simple_parsing.helpers.serialization.decoding][DEBUG] name = dtype, field_type = <class 'shared.schema.graph.DType'>\n",
      "[2022-02-11 17:43:01,718][simple_parsing.helpers.serialization.serializable][DEBUG] from_dict for <class 'shared.schema.graph.GraphProperty'>, drop extra fields: True\n",
      "[2022-02-11 17:43:01,718][simple_parsing.helpers.serialization.decoding][DEBUG] name = dtype, field_type = <class 'shared.schema.graph.DType'>\n",
      "[2022-02-11 17:43:01,719][simple_parsing.helpers.serialization.serializable][DEBUG] from_dict for <class 'shared.schema.graph.GraphProperty'>, drop extra fields: True\n",
      "[2022-02-11 17:43:01,719][simple_parsing.helpers.serialization.decoding][DEBUG] name = dtype, field_type = <class 'shared.schema.graph.DType'>\n",
      "[2022-02-11 17:43:01,720][simple_parsing.helpers.serialization.serializable][DEBUG] from_dict for <class 'shared.schema.graph.GraphProperty'>, drop extra fields: True\n",
      "[2022-02-11 17:43:01,721][simple_parsing.helpers.serialization.decoding][DEBUG] name = dtype, field_type = <class 'shared.schema.graph.DType'>\n",
      "[2022-02-11 17:43:01,721][simple_parsing.helpers.serialization.serializable][DEBUG] from_dict for <class 'shared.schema.graph.GraphProperty'>, drop extra fields: True\n",
      "[2022-02-11 17:43:01,722][simple_parsing.helpers.serialization.decoding][DEBUG] name = dtype, field_type = <class 'shared.schema.graph.DType'>\n",
      "[2022-02-11 17:43:01,722][simple_parsing.helpers.serialization.serializable][DEBUG] from_dict for <class 'shared.schema.graph.GraphProperty'>, drop extra fields: True\n",
      "[2022-02-11 17:43:01,723][simple_parsing.helpers.serialization.decoding][DEBUG] name = dtype, field_type = <class 'shared.schema.graph.DType'>\n",
      "[2022-02-11 17:43:01,723][simple_parsing.helpers.serialization.serializable][DEBUG] from_dict for <class 'shared.schema.graph.GraphProperty'>, drop extra fields: True\n",
      "[2022-02-11 17:43:01,724][simple_parsing.helpers.serialization.decoding][DEBUG] name = dtype, field_type = <class 'shared.schema.graph.DType'>\n",
      "[2022-02-11 17:43:01,724][simple_parsing.helpers.serialization.serializable][DEBUG] from_dict for <class 'shared.schema.graph.GraphProperty'>, drop extra fields: True\n",
      "[2022-02-11 17:43:01,724][simple_parsing.helpers.serialization.decoding][DEBUG] name = dtype, field_type = <class 'shared.schema.graph.DType'>\n",
      "[2022-02-11 17:43:01,725][simple_parsing.helpers.serialization.serializable][DEBUG] from_dict for <class 'shared.schema.graph.GraphProperty'>, drop extra fields: True\n",
      "[2022-02-11 17:43:01,726][simple_parsing.helpers.serialization.decoding][DEBUG] name = dtype, field_type = <class 'shared.schema.graph.DType'>\n",
      "[2022-02-11 17:43:01,726][simple_parsing.helpers.serialization.serializable][DEBUG] from_dict for <class 'shared.schema.graph.GraphProperty'>, drop extra fields: True\n",
      "[2022-02-11 17:43:01,727][simple_parsing.helpers.serialization.decoding][DEBUG] name = dtype, field_type = <class 'shared.schema.graph.DType'>\n",
      "[2022-02-11 17:43:01,727][simple_parsing.helpers.serialization.serializable][DEBUG] from_dict for <class 'shared.schema.graph.GraphProperty'>, drop extra fields: True\n",
      "[2022-02-11 17:43:01,727][simple_parsing.helpers.serialization.decoding][DEBUG] name = dtype, field_type = <class 'shared.schema.graph.DType'>\n",
      "[2022-02-11 17:43:01,728][simple_parsing.helpers.serialization.serializable][DEBUG] from_dict for <class 'shared.schema.graph.GraphProperty'>, drop extra fields: True\n",
      "[2022-02-11 17:43:01,728][simple_parsing.helpers.serialization.decoding][DEBUG] name = dtype, field_type = <class 'shared.schema.graph.DType'>\n",
      "[2022-02-11 17:43:01,728][simple_parsing.helpers.serialization.serializable][DEBUG] from_dict for <class 'shared.schema.graph.GraphProperty'>, drop extra fields: True\n",
      "[2022-02-11 17:43:01,729][simple_parsing.helpers.serialization.decoding][DEBUG] name = dtype, field_type = <class 'shared.schema.graph.DType'>\n",
      "[2022-02-11 17:43:01,729][simple_parsing.helpers.serialization.serializable][DEBUG] from_dict for <class 'shared.schema.graph.GraphProperty'>, drop extra fields: True\n",
      "[2022-02-11 17:43:01,730][simple_parsing.helpers.serialization.decoding][DEBUG] name = dtype, field_type = <class 'shared.schema.graph.DType'>\n",
      "[2022-02-11 17:43:01,730][simple_parsing.helpers.serialization.serializable][DEBUG] from_dict for <class 'shared.schema.graph.GraphProperty'>, drop extra fields: True\n",
      "[2022-02-11 17:43:01,730][simple_parsing.helpers.serialization.decoding][DEBUG] name = dtype, field_type = <class 'shared.schema.graph.DType'>\n",
      "[2022-02-11 17:43:01,731][simple_parsing.helpers.serialization.serializable][DEBUG] from_dict for <class 'shared.schema.graph.GraphProperty'>, drop extra fields: True\n",
      "[2022-02-11 17:43:01,731][simple_parsing.helpers.serialization.decoding][DEBUG] name = dtype, field_type = <class 'shared.schema.graph.DType'>\n",
      "[2022-02-11 17:43:01,732][simple_parsing.helpers.serialization.serializable][DEBUG] from_dict for <class 'shared.schema.graph.GraphProperty'>, drop extra fields: True\n",
      "[2022-02-11 17:43:01,732][simple_parsing.helpers.serialization.decoding][DEBUG] name = dtype, field_type = <class 'shared.schema.graph.DType'>\n",
      "[2022-02-11 17:43:01,732][simple_parsing.helpers.serialization.serializable][DEBUG] from_dict for <class 'shared.schema.graph.GraphProperty'>, drop extra fields: True\n",
      "[2022-02-11 17:43:01,733][simple_parsing.helpers.serialization.decoding][DEBUG] name = dtype, field_type = <class 'shared.schema.graph.DType'>\n",
      "[2022-02-11 17:43:01,733][simple_parsing.helpers.serialization.serializable][DEBUG] from_dict for <class 'shared.schema.graph.GraphProperty'>, drop extra fields: True\n",
      "[2022-02-11 17:43:01,734][simple_parsing.helpers.serialization.decoding][DEBUG] name = dtype, field_type = <class 'shared.schema.graph.DType'>\n",
      "[2022-02-11 17:43:01,734][simple_parsing.helpers.serialization.serializable][DEBUG] from_dict for <class 'shared.schema.graph.GraphProperty'>, drop extra fields: True\n",
      "[2022-02-11 17:43:01,735][simple_parsing.helpers.serialization.decoding][DEBUG] name = dtype, field_type = <class 'shared.schema.graph.DType'>\n",
      "[2022-02-11 17:43:01,735][simple_parsing.helpers.serialization.serializable][DEBUG] from_dict for <class 'shared.schema.graph.GraphProperty'>, drop extra fields: True\n",
      "[2022-02-11 17:43:01,735][simple_parsing.helpers.serialization.decoding][DEBUG] name = dtype, field_type = <class 'shared.schema.graph.DType'>\n",
      "[2022-02-11 17:43:01,736][simple_parsing.helpers.serialization.serializable][DEBUG] from_dict for <class 'shared.schema.graph.GraphProperty'>, drop extra fields: True\n",
      "[2022-02-11 17:43:01,736][simple_parsing.helpers.serialization.decoding][DEBUG] name = dtype, field_type = <class 'shared.schema.graph.DType'>\n",
      "[2022-02-11 17:43:01,737][simple_parsing.helpers.serialization.serializable][DEBUG] from_dict for <class 'shared.schema.graph.GraphProperty'>, drop extra fields: True\n",
      "[2022-02-11 17:43:01,737][simple_parsing.helpers.serialization.decoding][DEBUG] name = dtype, field_type = <class 'shared.schema.graph.DType'>\n",
      "[2022-02-11 17:43:01,737][simple_parsing.helpers.serialization.serializable][DEBUG] from_dict for <class 'shared.schema.graph.GraphProperty'>, drop extra fields: True\n",
      "[2022-02-11 17:43:01,739][simple_parsing.helpers.serialization.decoding][DEBUG] name = dtype, field_type = <class 'shared.schema.graph.DType'>\n",
      "[2022-02-11 17:43:01,744][simple_parsing.helpers.serialization.serializable][DEBUG] from_dict for <class 'shared.schema.graph.GraphProperty'>, drop extra fields: True\n",
      "[2022-02-11 17:43:01,745][simple_parsing.helpers.serialization.decoding][DEBUG] name = dtype, field_type = <class 'shared.schema.graph.DType'>\n",
      "[2022-02-11 17:43:01,745][simple_parsing.helpers.serialization.decoding][DEBUG] name = edges, field_type = typing.Dict[str, shared.schema.graph.EdgeSchema]\n",
      "[2022-02-11 17:43:01,746][simple_parsing.helpers.serialization.serializable][DEBUG] from_dict for <class 'shared.schema.graph.EdgeSchema'>, drop extra fields: True\n",
      "[2022-02-11 17:43:01,746][simple_parsing.helpers.serialization.decoding][DEBUG] name = properties, field_type = typing.Dict[str, shared.schema.graph.GraphProperty]\n",
      "[2022-02-11 17:43:01,747][simple_parsing.helpers.serialization.serializable][DEBUG] from_dict for <class 'shared.schema.graph.GraphProperty'>, drop extra fields: True\n",
      "[2022-02-11 17:43:01,747][simple_parsing.helpers.serialization.decoding][DEBUG] name = dtype, field_type = <class 'shared.schema.graph.DType'>\n",
      "[2022-02-11 17:43:01,748][simple_parsing.helpers.serialization.serializable][DEBUG] from_dict for <class 'shared.schema.graph.GraphProperty'>, drop extra fields: True\n",
      "[2022-02-11 17:43:01,748][simple_parsing.helpers.serialization.decoding][DEBUG] name = dtype, field_type = <class 'shared.schema.graph.DType'>\n",
      "[2022-02-11 17:43:01,749][simple_parsing.helpers.serialization.serializable][DEBUG] from_dict for <class 'shared.schema.graph.GraphProperty'>, drop extra fields: True\n",
      "[2022-02-11 17:43:01,749][simple_parsing.helpers.serialization.decoding][DEBUG] name = dtype, field_type = <class 'shared.schema.graph.DType'>\n",
      "[2022-02-11 17:43:01,750][simple_parsing.helpers.serialization.serializable][DEBUG] from_dict for <class 'shared.schema.graph.GraphProperty'>, drop extra fields: True\n",
      "[2022-02-11 17:43:01,750][simple_parsing.helpers.serialization.decoding][DEBUG] name = dtype, field_type = <class 'shared.schema.graph.DType'>\n",
      "[2022-02-11 17:43:01,751][simple_parsing.helpers.serialization.decoding][DEBUG] name = dynamic, field_type = typing.Optional[shared.schema.graph.DynamicConfig]\n",
      "[2022-02-11 17:43:01,751][simple_parsing.helpers.serialization.serializable][DEBUG] from_dict for <class 'shared.schema.graph.DynamicConfig'>, drop extra fields: True\n",
      "[2022-02-11 17:43:01,752][simple_parsing.helpers.serialization.decoding][DEBUG] name = timestamp, field_type = <class 'str'>\n",
      "[2022-02-11 17:43:01,752][simple_parsing.helpers.serialization.decoding][DEBUG] name = interaction, field_type = <class 'bool'>\n",
      "[2022-02-11 17:43:01,753][simple_parsing.helpers.serialization.decoding][DEBUG] name = source_type, field_type = <class 'str'>\n",
      "[2022-02-11 17:43:01,753][simple_parsing.helpers.serialization.decoding][DEBUG] name = target_type, field_type = <class 'str'>\n",
      "[2022-02-11 17:43:01,754][simple_parsing.helpers.serialization.decoding][DEBUG] name = directed, field_type = <class 'bool'>\n",
      "[2022-02-11 17:43:01,754][simple_parsing.helpers.serialization.serializable][DEBUG] from_dict for <class 'shared.schema.graph.EdgeSchema'>, drop extra fields: True\n",
      "[2022-02-11 17:43:01,757][simple_parsing.helpers.serialization.decoding][DEBUG] name = properties, field_type = typing.Dict[str, shared.schema.graph.GraphProperty]\n",
      "[2022-02-11 17:43:01,758][simple_parsing.helpers.serialization.serializable][DEBUG] from_dict for <class 'shared.schema.graph.GraphProperty'>, drop extra fields: True\n",
      "[2022-02-11 17:43:01,758][simple_parsing.helpers.serialization.decoding][DEBUG] name = dtype, field_type = <class 'shared.schema.graph.DType'>\n",
      "[2022-02-11 17:43:01,759][simple_parsing.helpers.serialization.serializable][DEBUG] from_dict for <class 'shared.schema.graph.GraphProperty'>, drop extra fields: True\n",
      "[2022-02-11 17:43:01,760][simple_parsing.helpers.serialization.decoding][DEBUG] name = dtype, field_type = <class 'shared.schema.graph.DType'>\n",
      "[2022-02-11 17:43:01,760][simple_parsing.helpers.serialization.serializable][DEBUG] from_dict for <class 'shared.schema.graph.GraphProperty'>, drop extra fields: True\n",
      "[2022-02-11 17:43:01,761][simple_parsing.helpers.serialization.decoding][DEBUG] name = dtype, field_type = <class 'shared.schema.graph.DType'>\n",
      "[2022-02-11 17:43:01,761][simple_parsing.helpers.serialization.serializable][DEBUG] from_dict for <class 'shared.schema.graph.GraphProperty'>, drop extra fields: True\n",
      "[2022-02-11 17:43:01,762][simple_parsing.helpers.serialization.decoding][DEBUG] name = dtype, field_type = <class 'shared.schema.graph.DType'>\n",
      "[2022-02-11 17:43:01,763][simple_parsing.helpers.serialization.decoding][DEBUG] name = dynamic, field_type = typing.Optional[shared.schema.graph.DynamicConfig]\n",
      "[2022-02-11 17:43:01,764][simple_parsing.helpers.serialization.serializable][DEBUG] from_dict for <class 'shared.schema.graph.DynamicConfig'>, drop extra fields: True\n",
      "[2022-02-11 17:43:01,764][simple_parsing.helpers.serialization.decoding][DEBUG] name = timestamp, field_type = <class 'str'>\n",
      "[2022-02-11 17:43:01,765][simple_parsing.helpers.serialization.decoding][DEBUG] name = interaction, field_type = <class 'bool'>\n",
      "[2022-02-11 17:43:01,765][simple_parsing.helpers.serialization.decoding][DEBUG] name = source_type, field_type = <class 'str'>\n",
      "[2022-02-11 17:43:01,766][simple_parsing.helpers.serialization.decoding][DEBUG] name = target_type, field_type = <class 'str'>\n",
      "[2022-02-11 17:43:01,766][simple_parsing.helpers.serialization.decoding][DEBUG] name = directed, field_type = <class 'bool'>\n"
     ]
    }
   ],
   "source": [
    "from shared.schema import GraphSchema, DatasetSchema\n",
    "\n",
    "DATASET = DatasetSchema.load_schema('star-wars')\n",
    "schema = GraphSchema.from_dataset(DATASET)\n",
    "G = DataGraph.from_schema(schema)"
   ],
   "metadata": {
    "collapsed": false,
    "pycharm": {
     "name": "#%%\n"
    }
   }
  },
  {
   "cell_type": "code",
   "execution_count": 38,
   "outputs": [
    {
     "data": {
      "text/plain": "                  metric     value\n0        community_count       NaN\n1            conductance  0.425956\n2              expansion  3.232474\n3  internal_edge_density  0.361209\n4                avg_odf  6.562917\n5     modularity_overlap  0.021889\n6        link_modularity  0.050799\n7           z_modularity  0.506997\n8             modularity -0.099927",
      "text/html": "<div>\n<style scoped>\n    .dataframe tbody tr th:only-of-type {\n        vertical-align: middle;\n    }\n\n    .dataframe tbody tr th {\n        vertical-align: top;\n    }\n\n    .dataframe thead th {\n        text-align: right;\n    }\n</style>\n<table border=\"1\" class=\"dataframe\">\n  <thead>\n    <tr style=\"text-align: right;\">\n      <th></th>\n      <th>metric</th>\n      <th>value</th>\n    </tr>\n  </thead>\n  <tbody>\n    <tr>\n      <th>0</th>\n      <td>community_count</td>\n      <td>NaN</td>\n    </tr>\n    <tr>\n      <th>1</th>\n      <td>conductance</td>\n      <td>0.425956</td>\n    </tr>\n    <tr>\n      <th>2</th>\n      <td>expansion</td>\n      <td>3.232474</td>\n    </tr>\n    <tr>\n      <th>3</th>\n      <td>internal_edge_density</td>\n      <td>0.361209</td>\n    </tr>\n    <tr>\n      <th>4</th>\n      <td>avg_odf</td>\n      <td>6.562917</td>\n    </tr>\n    <tr>\n      <th>5</th>\n      <td>modularity_overlap</td>\n      <td>0.021889</td>\n    </tr>\n    <tr>\n      <th>6</th>\n      <td>link_modularity</td>\n      <td>0.050799</td>\n    </tr>\n    <tr>\n      <th>7</th>\n      <td>z_modularity</td>\n      <td>0.506997</td>\n    </tr>\n    <tr>\n      <th>8</th>\n      <td>modularity</td>\n      <td>-0.099927</td>\n    </tr>\n  </tbody>\n</table>\n</div>"
     },
     "execution_count": 38,
     "metadata": {},
     "output_type": "execute_result"
    }
   ],
   "source": [
    "metrics = get_metric_list(ground_truth=False, overlapping=False)\n",
    "\n",
    "results = pd.DataFrame([\n",
    "    {\n",
    "        'metric': metric_cls.metric_name(),\n",
    "        'value': metric_cls.calculate(G, comlist)\n",
    "    }\n",
    "    for metric_cls in metrics]\n",
    ")\n",
    "results"
   ],
   "metadata": {
    "collapsed": false,
    "pycharm": {
     "name": "#%%\n"
    }
   }
  },
  {
   "cell_type": "code",
   "execution_count": null,
   "outputs": [],
   "source": [],
   "metadata": {
    "collapsed": false,
    "pycharm": {
     "name": "#%%\n"
    }
   }
  }
 ],
 "metadata": {
  "kernelspec": {
   "display_name": "Python 3",
   "language": "python",
   "name": "python3"
  },
  "language_info": {
   "codemirror_mode": {
    "name": "ipython",
    "version": 2
   },
   "file_extension": ".py",
   "mimetype": "text/x-python",
   "name": "python",
   "nbconvert_exporter": "python",
   "pygments_lexer": "ipython2",
   "version": "2.7.6"
  }
 },
 "nbformat": 4,
 "nbformat_minor": 0
}