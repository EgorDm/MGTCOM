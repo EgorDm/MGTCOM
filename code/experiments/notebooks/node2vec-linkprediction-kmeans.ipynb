{
 "cells": [
  {
   "cell_type": "code",
   "execution_count": 1,
   "outputs": [],
   "source": [
    "# %load_ext autoreload\n",
    "# %autoreload 2"
   ],
   "metadata": {
    "collapsed": false,
    "pycharm": {
     "name": "#%%\n"
    }
   }
  },
  {
   "cell_type": "code",
   "execution_count": 2,
   "outputs": [],
   "source": [
    "import pandas as pd"
   ],
   "metadata": {
    "collapsed": false,
    "pycharm": {
     "name": "#%%\n"
    }
   }
  },
  {
   "cell_type": "code",
   "execution_count": 3,
   "outputs": [
    {
     "name": "stderr",
     "output_type": "stream",
     "text": [
      "2022-02-05 13:15:55.703212: I tensorflow/stream_executor/cuda/cuda_gpu_executor.cc:937] successful NUMA node read from SysFS had negative value (-1), but there must be at least one NUMA node, so returning NUMA node zero\n",
      "2022-02-05 13:15:55.711580: I tensorflow/stream_executor/cuda/cuda_gpu_executor.cc:937] successful NUMA node read from SysFS had negative value (-1), but there must be at least one NUMA node, so returning NUMA node zero\n",
      "2022-02-05 13:15:55.711808: I tensorflow/stream_executor/cuda/cuda_gpu_executor.cc:937] successful NUMA node read from SysFS had negative value (-1), but there must be at least one NUMA node, so returning NUMA node zero\n",
      "2022-02-05 13:15:55.712436: I tensorflow/core/platform/cpu_feature_guard.cc:142] This TensorFlow binary is optimized with oneAPI Deep Neural Network Library (oneDNN) to use the following CPU instructions in performance-critical operations:  SSE4.1 SSE4.2 AVX AVX2 FMA\n",
      "To enable them in other operations, rebuild TensorFlow with the appropriate compiler flags.\n",
      "2022-02-05 13:15:55.713415: I tensorflow/stream_executor/cuda/cuda_gpu_executor.cc:937] successful NUMA node read from SysFS had negative value (-1), but there must be at least one NUMA node, so returning NUMA node zero\n",
      "2022-02-05 13:15:55.713606: I tensorflow/stream_executor/cuda/cuda_gpu_executor.cc:937] successful NUMA node read from SysFS had negative value (-1), but there must be at least one NUMA node, so returning NUMA node zero\n",
      "2022-02-05 13:15:55.713770: I tensorflow/stream_executor/cuda/cuda_gpu_executor.cc:937] successful NUMA node read from SysFS had negative value (-1), but there must be at least one NUMA node, so returning NUMA node zero\n",
      "2022-02-05 13:15:56.186780: I tensorflow/stream_executor/cuda/cuda_gpu_executor.cc:937] successful NUMA node read from SysFS had negative value (-1), but there must be at least one NUMA node, so returning NUMA node zero\n",
      "2022-02-05 13:15:56.186984: I tensorflow/stream_executor/cuda/cuda_gpu_executor.cc:937] successful NUMA node read from SysFS had negative value (-1), but there must be at least one NUMA node, so returning NUMA node zero\n",
      "2022-02-05 13:15:56.187155: I tensorflow/stream_executor/cuda/cuda_gpu_executor.cc:937] successful NUMA node read from SysFS had negative value (-1), but there must be at least one NUMA node, so returning NUMA node zero\n",
      "2022-02-05 13:15:56.187276: I tensorflow/core/common_runtime/gpu/gpu_device.cc:1510] Created device /job:localhost/replica:0/task:0/device:GPU:0 with 5446 MB memory:  -> device: 0, name: NVIDIA GeForce RTX 3060 Ti, pci bus id: 0000:09:00.0, compute capability: 8.6\n"
     ]
    }
   ],
   "source": [
    "from stellargraph import StellarGraph\n",
    "from stellargraph.data import UnsupervisedSampler, EdgeSplitter, BiasedRandomWalk"
   ],
   "metadata": {
    "collapsed": false,
    "pycharm": {
     "name": "#%%\n"
    }
   }
  },
  {
   "cell_type": "markdown",
   "source": [
    "# Load the data"
   ],
   "metadata": {
    "collapsed": false,
    "pycharm": {
     "name": "#%% md\n"
    }
   }
  },
  {
   "cell_type": "code",
   "execution_count": 4,
   "outputs": [],
   "source": [
    "from shared.schema import DatasetSchema, GraphSchema\n",
    "from shared.graph.loading import pd_from_entity_schema\n"
   ],
   "metadata": {
    "collapsed": false,
    "pycharm": {
     "name": "#%%\n"
    }
   }
  },
  {
   "cell_type": "code",
   "execution_count": 5,
   "outputs": [],
   "source": [
    "DATASET = DatasetSchema.load_schema('star-wars')\n",
    "schema = GraphSchema.from_dataset(DATASET)"
   ],
   "metadata": {
    "collapsed": false,
    "pycharm": {
     "name": "#%%\n"
    }
   }
  },
  {
   "cell_type": "code",
   "execution_count": 6,
   "outputs": [],
   "source": [
    "explicit_label = False\n",
    "explicit_timestamp = True\n",
    "unix_timestamp = True\n",
    "prefix_id = None\n",
    "include_properties = lambda cs: [c for c in cs if c.startswith('feat_') or c == 'name']\n",
    "\n",
    "nodes_dfs = {\n",
    "    label: pd_from_entity_schema(\n",
    "        entity_schema,\n",
    "        explicit_label=explicit_label,\n",
    "        explicit_timestamp=explicit_timestamp,\n",
    "        include_properties=include_properties,\n",
    "        unix_timestamp=unix_timestamp,\n",
    "        prefix_id=prefix_id,\n",
    "    ).set_index('id').drop(columns=['type']).sort_index()\n",
    "    for label, entity_schema in schema.nodes.items()\n",
    "}\n",
    "\n",
    "edges_dfs = {\n",
    "    label: pd_from_entity_schema(\n",
    "        entity_schema,\n",
    "        explicit_label=explicit_label,\n",
    "        explicit_timestamp=explicit_timestamp,\n",
    "        include_properties=include_properties,\n",
    "        unix_timestamp=unix_timestamp,\n",
    "        prefix_id=prefix_id,\n",
    "    ).reset_index().drop(columns=['type']).drop_duplicates(subset=['src', 'dst', 'timestamp'])\n",
    "    for label, entity_schema in schema.edges.items()\n",
    "}\n",
    "\n",
    "cursor = 0\n",
    "for df in edges_dfs.values():\n",
    "    df.index += cursor\n",
    "    cursor += len(df)"
   ],
   "metadata": {
    "collapsed": false,
    "pycharm": {
     "name": "#%%\n"
    }
   }
  },
  {
   "cell_type": "code",
   "execution_count": 7,
   "outputs": [
    {
     "name": "stdout",
     "output_type": "stream",
     "text": [
      "StellarGraph: Undirected multigraph\n",
      " Nodes: 113, Edges: 2078\n",
      "\n",
      " Node types:\n",
      "  Character: [113]\n",
      "    Features: float32 vector, length 32\n",
      "    Edge types: Character-INTERACTIONS->Character, Character-MENTIONS->Character\n",
      "\n",
      " Edge types:\n",
      "    Character-MENTIONS->Character: [1120]\n",
      "        Weights: all 1 (default)\n",
      "        Features: float32 vector, length 2\n",
      "    Character-INTERACTIONS->Character: [958]\n",
      "        Weights: all 1 (default)\n",
      "        Features: float32 vector, length 2\n"
     ]
    }
   ],
   "source": [
    "graph = StellarGraph(\n",
    "    nodes={k: df.drop(columns=['name_']) for k, df in nodes_dfs.items()},\n",
    "    edges=edges_dfs,\n",
    "    source_column='src',\n",
    "    target_column='dst',\n",
    ")\n",
    "print(graph.info())"
   ],
   "metadata": {
    "collapsed": false,
    "pycharm": {
     "name": "#%%\n"
    }
   }
  },
  {
   "cell_type": "markdown",
   "source": [
    "# Split dataset"
   ],
   "metadata": {
    "collapsed": false,
    "pycharm": {
     "name": "#%% md\n"
    }
   }
  },
  {
   "cell_type": "code",
   "execution_count": 8,
   "outputs": [],
   "source": [
    "from sklearn.model_selection import train_test_split"
   ],
   "metadata": {
    "collapsed": false,
    "pycharm": {
     "name": "#%%\n"
    }
   }
  },
  {
   "cell_type": "code",
   "execution_count": 9,
   "outputs": [
    {
     "name": "stdout",
     "output_type": "stream",
     "text": [
      "** Sampled 103 positive and 103 negative edges. **\n",
      "StellarGraph: Undirected multigraph\n",
      " Nodes: 113, Edges: 1975\n",
      "\n",
      " Node types:\n",
      "  Character: [113]\n",
      "    Features: float32 vector, length 32\n",
      "    Edge types: Character-INTERACTIONS->Character, Character-MENTIONS->Character\n",
      "\n",
      " Edge types:\n",
      "    Character-MENTIONS->Character: [1066]\n",
      "        Weights: all 1 (default)\n",
      "        Features: none\n",
      "    Character-INTERACTIONS->Character: [909]\n",
      "        Weights: all 1 (default)\n",
      "        Features: none\n"
     ]
    }
   ],
   "source": [
    "edge_splitter_test = EdgeSplitter(graph)\n",
    "graph_sub_test, examples_test, labels_test = edge_splitter_test.train_test_split(\n",
    "    p=0.05, method=\"global\"\n",
    ")\n",
    "\n",
    "print(graph_sub_test.info())"
   ],
   "metadata": {
    "collapsed": false,
    "pycharm": {
     "name": "#%%\n"
    }
   }
  },
  {
   "cell_type": "code",
   "execution_count": 10,
   "outputs": [
    {
     "name": "stdout",
     "output_type": "stream",
     "text": [
      "** Sampled 197 positive and 197 negative edges. **\n",
      "StellarGraph: Undirected multigraph\n",
      " Nodes: 113, Edges: 1778\n",
      "\n",
      " Node types:\n",
      "  Character: [113]\n",
      "    Features: float32 vector, length 32\n",
      "    Edge types: Character-INTERACTIONS->Character, Character-MENTIONS->Character\n",
      "\n",
      " Edge types:\n",
      "    Character-MENTIONS->Character: [954]\n",
      "        Weights: all 1 (default)\n",
      "        Features: none\n",
      "    Character-INTERACTIONS->Character: [824]\n",
      "        Weights: all 1 (default)\n",
      "        Features: none\n"
     ]
    }
   ],
   "source": [
    "train_size = 0.75\n",
    "val_size = 0.25\n",
    "\n",
    "edge_splitter_train = EdgeSplitter(graph_sub_test)\n",
    "graph_train, examples, labels = edge_splitter_train.train_test_split(\n",
    "    p=0.1, method=\"global\"\n",
    ")\n",
    "\n",
    "(\n",
    "    examples_train,\n",
    "    examples_val,\n",
    "    labels_train,\n",
    "    labels_val,\n",
    ") = train_test_split(examples, labels, train_size=train_size, test_size=val_size)\n",
    "\n",
    "print(graph_train.info())"
   ],
   "metadata": {
    "collapsed": false,
    "pycharm": {
     "name": "#%%\n"
    }
   }
  },
  {
   "cell_type": "code",
   "execution_count": 11,
   "outputs": [
    {
     "data": {
      "text/plain": "                Number of Examples  Hidden from Picked from  \\\nSplit                                                         \nTraining Set                   295  Train Graph  Test Graph   \nValidation Set                  99  Train Graph  Test Graph   \nTest set                       206   Test Graph  Full Graph   \n\n                                         Use  \nSplit                                         \nTraining Set       Train the Link Classifier  \nValidation Set  Validate the Link Classifier  \nTest set            Evaluate Link Classifier  ",
      "text/html": "<div>\n<style scoped>\n    .dataframe tbody tr th:only-of-type {\n        vertical-align: middle;\n    }\n\n    .dataframe tbody tr th {\n        vertical-align: top;\n    }\n\n    .dataframe thead th {\n        text-align: right;\n    }\n</style>\n<table border=\"1\" class=\"dataframe\">\n  <thead>\n    <tr style=\"text-align: right;\">\n      <th></th>\n      <th>Number of Examples</th>\n      <th>Hidden from</th>\n      <th>Picked from</th>\n      <th>Use</th>\n    </tr>\n    <tr>\n      <th>Split</th>\n      <th></th>\n      <th></th>\n      <th></th>\n      <th></th>\n    </tr>\n  </thead>\n  <tbody>\n    <tr>\n      <th>Training Set</th>\n      <td>295</td>\n      <td>Train Graph</td>\n      <td>Test Graph</td>\n      <td>Train the Link Classifier</td>\n    </tr>\n    <tr>\n      <th>Validation Set</th>\n      <td>99</td>\n      <td>Train Graph</td>\n      <td>Test Graph</td>\n      <td>Validate the Link Classifier</td>\n    </tr>\n    <tr>\n      <th>Test set</th>\n      <td>206</td>\n      <td>Test Graph</td>\n      <td>Full Graph</td>\n      <td>Evaluate Link Classifier</td>\n    </tr>\n  </tbody>\n</table>\n</div>"
     },
     "execution_count": 11,
     "metadata": {},
     "output_type": "execute_result"
    }
   ],
   "source": [
    "pd.DataFrame(\n",
    "    [\n",
    "        (\n",
    "            \"Training Set\",\n",
    "            len(examples_train),\n",
    "            \"Train Graph\",\n",
    "            \"Test Graph\",\n",
    "            \"Train the Link Classifier\",\n",
    "        ),\n",
    "        (\n",
    "            \"Validation Set\",\n",
    "            len(examples_val),\n",
    "            \"Train Graph\",\n",
    "            \"Test Graph\",\n",
    "            \"Validate the Link Classifier\",\n",
    "        ),\n",
    "        (\n",
    "            \"Test set\",\n",
    "            len(examples_test),\n",
    "            \"Test Graph\",\n",
    "            \"Full Graph\",\n",
    "            \"Evaluate Link Classifier\",\n",
    "        ),\n",
    "    ],\n",
    "    columns=(\"Split\", \"Number of Examples\", \"Hidden from\", \"Picked from\", \"Use\"),\n",
    ").set_index(\"Split\")\n"
   ],
   "metadata": {
    "collapsed": false,
    "pycharm": {
     "name": "#%%\n"
    }
   }
  },
  {
   "cell_type": "markdown",
   "source": [
    "# Train Attri2Vec"
   ],
   "metadata": {
    "collapsed": false,
    "pycharm": {
     "name": "#%% md\n"
    }
   }
  },
  {
   "cell_type": "code",
   "execution_count": 12,
   "outputs": [],
   "source": [
    "from tensorflow import keras\n",
    "\n",
    "from stellargraph.mapper import Attri2VecLinkGenerator\n",
    "from stellargraph.layer import Attri2Vec, link_classification"
   ],
   "metadata": {
    "collapsed": false,
    "pycharm": {
     "name": "#%%\n"
    }
   }
  },
  {
   "cell_type": "code",
   "execution_count": 13,
   "outputs": [],
   "source": [
    "batch_size = 30\n",
    "epochs = 100\n",
    "walk_length = 5\n",
    "walk_number = 2"
   ],
   "metadata": {
    "collapsed": false,
    "pycharm": {
     "name": "#%%\n"
    }
   }
  },
  {
   "cell_type": "code",
   "execution_count": 14,
   "outputs": [],
   "source": [
    "unsupervised_samples = UnsupervisedSampler(\n",
    "    graph_train, nodes=list(graph_train.nodes()), length=walk_length, number_of_walks=walk_number\n",
    ")\n",
    "\n",
    "generator = Attri2VecLinkGenerator(graph_train, batch_size)"
   ],
   "metadata": {
    "collapsed": false,
    "pycharm": {
     "name": "#%%\n"
    }
   }
  },
  {
   "cell_type": "code",
   "execution_count": 15,
   "outputs": [
    {
     "name": "stdout",
     "output_type": "stream",
     "text": [
      "link_classification: using 'ip' method to combine node embeddings into edge embeddings\n"
     ]
    }
   ],
   "source": [
    "layer_sizes = [128]\n",
    "\n",
    "hinsage = Attri2Vec(\n",
    "    layer_sizes=layer_sizes, generator=generator, bias=False, normalize=None\n",
    ")\n",
    "\n",
    "x_inp, x_out = hinsage.in_out_tensors()\n",
    "prediction = link_classification(\n",
    "    output_dim=1, output_act=\"sigmoid\", edge_embedding_method=\"ip\"\n",
    ")(x_out)"
   ],
   "metadata": {
    "collapsed": false,
    "pycharm": {
     "name": "#%%\n"
    }
   }
  },
  {
   "cell_type": "code",
   "execution_count": 16,
   "outputs": [],
   "source": [
    "model = keras.Model(inputs=x_inp, outputs=prediction)\n",
    "model.compile(\n",
    "    optimizer=keras.optimizers.Adam(learning_rate=1e-3),\n",
    "    loss=keras.losses.binary_crossentropy,\n",
    "    metrics=[keras.metrics.binary_accuracy],\n",
    ")"
   ],
   "metadata": {
    "collapsed": false,
    "pycharm": {
     "name": "#%%\n"
    }
   }
  },
  {
   "cell_type": "code",
   "execution_count": 17,
   "outputs": [
    {
     "name": "stdout",
     "output_type": "stream",
     "text": [
      "Model: \"model\"\n",
      "__________________________________________________________________________________________________\n",
      "Layer (type)                    Output Shape         Param #     Connected to                     \n",
      "==================================================================================================\n",
      "input_1 (InputLayer)            [(None, 32)]         0                                            \n",
      "__________________________________________________________________________________________________\n",
      "input_2 (InputLayer)            [(None, 1)]          0                                            \n",
      "__________________________________________________________________________________________________\n",
      "dense (Dense)                   (None, 128)          4096        input_1[0][0]                    \n",
      "__________________________________________________________________________________________________\n",
      "output_embedding (Embedding)    (None, 1, 128)       14464       input_2[0][0]                    \n",
      "__________________________________________________________________________________________________\n",
      "lambda (Lambda)                 (None, 128)          0           dense[0][0]                      \n",
      "__________________________________________________________________________________________________\n",
      "reshape (Reshape)               (None, 128)          0           output_embedding[0][0]           \n",
      "__________________________________________________________________________________________________\n",
      "link_embedding (LinkEmbedding)  (None, 1)            0           lambda[0][0]                     \n",
      "                                                                 reshape[0][0]                    \n",
      "__________________________________________________________________________________________________\n",
      "activation (Activation)         (None, 1)            0           link_embedding[0][0]             \n",
      "__________________________________________________________________________________________________\n",
      "reshape_1 (Reshape)             (None, 1)            0           activation[0][0]                 \n",
      "==================================================================================================\n",
      "Total params: 18,560\n",
      "Trainable params: 18,560\n",
      "Non-trainable params: 0\n",
      "__________________________________________________________________________________________________\n"
     ]
    }
   ],
   "source": [
    "model.summary()"
   ],
   "metadata": {
    "collapsed": false,
    "pycharm": {
     "name": "#%%\n"
    }
   }
  },
  {
   "cell_type": "code",
   "execution_count": 18,
   "outputs": [
    {
     "name": "stdout",
     "output_type": "stream",
     "text": [
      "Epoch 1/100\n"
     ]
    },
    {
     "name": "stderr",
     "output_type": "stream",
     "text": [
      "2022-02-05 13:15:57.263821: I tensorflow/compiler/mlir/mlir_graph_optimization_pass.cc:185] None of the MLIR Optimization Passes are enabled (registered 2)\n",
      "2022-02-05 13:15:58.354226: I tensorflow/stream_executor/cuda/cuda_blas.cc:1760] TensorFloat-32 will be used for the matrix multiplication. This will only be logged once.\n"
     ]
    },
    {
     "name": "stdout",
     "output_type": "stream",
     "text": [
      "61/61 - 2s - loss: 0.7017 - binary_accuracy: 0.4967 - val_loss: 0.6727 - val_binary_accuracy: 0.5859\n",
      "Epoch 2/100\n",
      "61/61 - 0s - loss: 0.6940 - binary_accuracy: 0.5448 - val_loss: 0.6687 - val_binary_accuracy: 0.5859\n",
      "Epoch 3/100\n",
      "61/61 - 0s - loss: 0.6884 - binary_accuracy: 0.5675 - val_loss: 0.6726 - val_binary_accuracy: 0.6263\n",
      "Epoch 4/100\n",
      "61/61 - 0s - loss: 0.6963 - binary_accuracy: 0.5509 - val_loss: 0.6665 - val_binary_accuracy: 0.6364\n",
      "Epoch 5/100\n",
      "61/61 - 0s - loss: 0.7007 - binary_accuracy: 0.5459 - val_loss: 0.6668 - val_binary_accuracy: 0.5960\n",
      "Epoch 6/100\n",
      "61/61 - 0s - loss: 0.7029 - binary_accuracy: 0.5183 - val_loss: 0.6862 - val_binary_accuracy: 0.5657\n",
      "Epoch 7/100\n",
      "61/61 - 0s - loss: 0.6919 - binary_accuracy: 0.5465 - val_loss: 0.6788 - val_binary_accuracy: 0.5758\n",
      "Epoch 8/100\n",
      "61/61 - 0s - loss: 0.6907 - binary_accuracy: 0.5332 - val_loss: 0.6717 - val_binary_accuracy: 0.6263\n",
      "Epoch 9/100\n",
      "61/61 - 0s - loss: 0.6896 - binary_accuracy: 0.5492 - val_loss: 0.6900 - val_binary_accuracy: 0.5556\n",
      "Epoch 10/100\n",
      "61/61 - 0s - loss: 0.6911 - binary_accuracy: 0.5470 - val_loss: 0.6882 - val_binary_accuracy: 0.5556\n",
      "Epoch 11/100\n",
      "61/61 - 0s - loss: 0.6951 - binary_accuracy: 0.5409 - val_loss: 0.6904 - val_binary_accuracy: 0.5455\n",
      "Epoch 12/100\n",
      "61/61 - 0s - loss: 0.6906 - binary_accuracy: 0.5371 - val_loss: 0.7176 - val_binary_accuracy: 0.4949\n",
      "Epoch 13/100\n",
      "61/61 - 0s - loss: 0.6855 - binary_accuracy: 0.5420 - val_loss: 0.6831 - val_binary_accuracy: 0.5657\n",
      "Epoch 14/100\n",
      "61/61 - 0s - loss: 0.6893 - binary_accuracy: 0.5542 - val_loss: 0.6706 - val_binary_accuracy: 0.5859\n"
     ]
    },
    {
     "data": {
      "text/plain": "<keras.callbacks.History at 0x7f87c84deac0>"
     },
     "execution_count": 18,
     "metadata": {},
     "output_type": "execute_result"
    }
   ],
   "source": [
    "model.fit(\n",
    "    generator.flow(unsupervised_samples),\n",
    "    validation_data=generator.flow(examples_val, labels_val),\n",
    "    epochs=epochs,\n",
    "    verbose=2,\n",
    "    use_multiprocessing=False,\n",
    "    workers=4,\n",
    "    shuffle=True,\n",
    "    callbacks=[\n",
    "        keras.callbacks.EarlyStopping(\n",
    "            monitor=\"val_loss\", patience=10, restore_best_weights=True\n",
    "        )\n",
    "    ],\n",
    ")"
   ],
   "metadata": {
    "collapsed": false,
    "pycharm": {
     "name": "#%%\n"
    }
   }
  },
  {
   "cell_type": "markdown",
   "source": [
    "# Extract and cluster the embeddings"
   ],
   "metadata": {
    "collapsed": false,
    "pycharm": {
     "name": "#%% md\n"
    }
   }
  },
  {
   "cell_type": "code",
   "execution_count": 19,
   "outputs": [],
   "source": [
    "embedding_model = keras.Model(inputs=x_inp, outputs=x_out)"
   ],
   "metadata": {
    "collapsed": false,
    "pycharm": {
     "name": "#%%\n"
    }
   }
  },
  {
   "cell_type": "code",
   "execution_count": 20,
   "outputs": [],
   "source": [
    "graph_node_list = graph.nodes()\n",
    "\n",
    "node_embeddings = embedding_model.predict(\n",
    "    generator.flow(list(zip(graph_node_list, graph_node_list)))\n",
    ")\n",
    "node_embeddings = node_embeddings[0]"
   ],
   "metadata": {
    "collapsed": false,
    "pycharm": {
     "name": "#%%\n"
    }
   }
  },
  {
   "cell_type": "code",
   "execution_count": 21,
   "outputs": [],
   "source": [
    "from sklearn.cluster import KMeans\n",
    "\n",
    "kmeans = KMeans(n_clusters=5, random_state=0).fit(node_embeddings)"
   ],
   "metadata": {
    "collapsed": false,
    "pycharm": {
     "name": "#%%\n"
    }
   }
  },
  {
   "cell_type": "code",
   "execution_count": 22,
   "outputs": [],
   "source": [
    "from shared.constants import BENCHMARKS_RESULTS\n",
    "\n",
    "save_path = BENCHMARKS_RESULTS.joinpath('analysis', 'node2vec-linkprediction-kmeans')\n",
    "save_path.mkdir(parents=True, exist_ok=True)"
   ],
   "metadata": {
    "collapsed": false,
    "pycharm": {
     "name": "#%%\n"
    }
   }
  },
  {
   "cell_type": "code",
   "execution_count": 23,
   "outputs": [],
   "source": [
    "from shared.graph import CommunityAssignment\n",
    "\n",
    "labeling = pd.Series(kmeans.labels_, index=graph_node_list, name=\"cid\")\n",
    "comlist = CommunityAssignment(labeling)"
   ],
   "metadata": {
    "collapsed": false,
    "pycharm": {
     "name": "#%%\n"
    }
   }
  },
  {
   "cell_type": "code",
   "execution_count": 24,
   "outputs": [],
   "source": [
    "comlist.save_comlist(save_path.joinpath('schema.comlist'))"
   ],
   "metadata": {
    "collapsed": false,
    "pycharm": {
     "name": "#%%\n"
    }
   }
  },
  {
   "cell_type": "code",
   "execution_count": null,
   "outputs": [
    {
     "name": "stdout",
     "output_type": "stream",
     "text": [
      "[2022-02-05 13:16:46,688][export_to_visualization.py][INFO] Processing /data/pella/projects/University/Thesis/Thesis/code/storage/datasets/processed/star-wars/schema.yaml\n",
      "ERROR! Session/line number was not unique in database. History logging moved to new session 48\n",
      "[2022-02-05 13:16:46,760][export_to_visualization.py][INFO] Adding prediction /data/pella/projects/University/Thesis/Thesis/code/storage/results/analysis/node2vec-linkprediction-kmeans/schema.comlist as prediction_0\n",
      "[2022-02-05 13:16:46,765][export_to_visualization.py][INFO] Writing /data/pella/projects/University/Thesis/Thesis/code/storage/datasets/export/star-wars/versions/base/schema.graphml\n"
     ]
    }
   ],
   "source": [
    "from datasets.scripts import export_to_visualization\n",
    "\n",
    "export_to_visualization.run(\n",
    "    export_to_visualization.Args(\n",
    "        dataset='star-wars',\n",
    "        version='base',\n",
    "        run_paths=[str(save_path)]\n",
    "    )\n",
    ")"
   ],
   "metadata": {
    "collapsed": false,
    "pycharm": {
     "name": "#%%\n",
     "is_executing": true
    }
   }
  },
  {
   "cell_type": "code",
   "execution_count": 24,
   "outputs": [],
   "source": [],
   "metadata": {
    "collapsed": false,
    "pycharm": {
     "name": "#%%\n"
    }
   }
  }
 ],
 "metadata": {
  "kernelspec": {
   "display_name": "Python 3",
   "language": "python",
   "name": "python3"
  },
  "language_info": {
   "codemirror_mode": {
    "name": "ipython",
    "version": 2
   },
   "file_extension": ".py",
   "mimetype": "text/x-python",
   "name": "python",
   "nbconvert_exporter": "python",
   "pygments_lexer": "ipython2",
   "version": "2.7.6"
  }
 },
 "nbformat": 4,
 "nbformat_minor": 0
}