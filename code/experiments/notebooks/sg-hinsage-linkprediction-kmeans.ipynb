{
 "cells": [
  {
   "cell_type": "code",
   "execution_count": 1,
   "outputs": [],
   "source": [
    "# %load_ext autoreload\n",
    "# %autoreload 2"
   ],
   "metadata": {
    "collapsed": false,
    "pycharm": {
     "name": "#%%\n"
    }
   }
  },
  {
   "cell_type": "code",
   "execution_count": 2,
   "outputs": [
    {
     "name": "stderr",
     "output_type": "stream",
     "text": [
      "2022-02-05 13:43:12.583036: I tensorflow/stream_executor/cuda/cuda_gpu_executor.cc:937] successful NUMA node read from SysFS had negative value (-1), but there must be at least one NUMA node, so returning NUMA node zero\n",
      "2022-02-05 13:43:12.593160: I tensorflow/stream_executor/cuda/cuda_gpu_executor.cc:937] successful NUMA node read from SysFS had negative value (-1), but there must be at least one NUMA node, so returning NUMA node zero\n",
      "2022-02-05 13:43:12.593383: I tensorflow/stream_executor/cuda/cuda_gpu_executor.cc:937] successful NUMA node read from SysFS had negative value (-1), but there must be at least one NUMA node, so returning NUMA node zero\n",
      "2022-02-05 13:43:12.594293: I tensorflow/core/platform/cpu_feature_guard.cc:142] This TensorFlow binary is optimized with oneAPI Deep Neural Network Library (oneDNN) to use the following CPU instructions in performance-critical operations:  SSE4.1 SSE4.2 AVX AVX2 FMA\n",
      "To enable them in other operations, rebuild TensorFlow with the appropriate compiler flags.\n",
      "2022-02-05 13:43:12.595206: I tensorflow/stream_executor/cuda/cuda_gpu_executor.cc:937] successful NUMA node read from SysFS had negative value (-1), but there must be at least one NUMA node, so returning NUMA node zero\n",
      "2022-02-05 13:43:12.595392: I tensorflow/stream_executor/cuda/cuda_gpu_executor.cc:937] successful NUMA node read from SysFS had negative value (-1), but there must be at least one NUMA node, so returning NUMA node zero\n",
      "2022-02-05 13:43:12.595554: I tensorflow/stream_executor/cuda/cuda_gpu_executor.cc:937] successful NUMA node read from SysFS had negative value (-1), but there must be at least one NUMA node, so returning NUMA node zero\n",
      "2022-02-05 13:43:13.096102: I tensorflow/stream_executor/cuda/cuda_gpu_executor.cc:937] successful NUMA node read from SysFS had negative value (-1), but there must be at least one NUMA node, so returning NUMA node zero\n",
      "2022-02-05 13:43:13.096321: I tensorflow/stream_executor/cuda/cuda_gpu_executor.cc:937] successful NUMA node read from SysFS had negative value (-1), but there must be at least one NUMA node, so returning NUMA node zero\n",
      "2022-02-05 13:43:13.096491: I tensorflow/stream_executor/cuda/cuda_gpu_executor.cc:937] successful NUMA node read from SysFS had negative value (-1), but there must be at least one NUMA node, so returning NUMA node zero\n",
      "2022-02-05 13:43:13.096610: I tensorflow/core/common_runtime/gpu/gpu_device.cc:1510] Created device /job:localhost/replica:0/task:0/device:GPU:0 with 5518 MB memory:  -> device: 0, name: NVIDIA GeForce RTX 3060 Ti, pci bus id: 0000:09:00.0, compute capability: 8.6\n"
     ]
    }
   ],
   "source": [
    "import pandas as pd\n",
    "\n",
    "from stellargraph import StellarGraph\n",
    "from stellargraph.data import UnsupervisedSampler, EdgeSplitter, BiasedRandomWalk\n",
    "from stellargraph.mapper import HinSAGELinkGenerator\n",
    "from stellargraph.layer import HinSAGE, link_classification"
   ],
   "metadata": {
    "collapsed": false,
    "pycharm": {
     "name": "#%%\n"
    }
   }
  },
  {
   "cell_type": "markdown",
   "source": [
    "# Load the data"
   ],
   "metadata": {
    "collapsed": false,
    "pycharm": {
     "name": "#%% md\n"
    }
   }
  },
  {
   "cell_type": "code",
   "execution_count": 3,
   "outputs": [],
   "source": [
    "from shared.schema import DatasetSchema, GraphSchema\n",
    "from shared.graph.loading import pd_from_entity_schema\n"
   ],
   "metadata": {
    "collapsed": false,
    "pycharm": {
     "name": "#%%\n"
    }
   }
  },
  {
   "cell_type": "code",
   "execution_count": 4,
   "outputs": [],
   "source": [
    "DATASET = DatasetSchema.load_schema('star-wars')\n",
    "schema = GraphSchema.from_dataset(DATASET)"
   ],
   "metadata": {
    "collapsed": false,
    "pycharm": {
     "name": "#%%\n"
    }
   }
  },
  {
   "cell_type": "code",
   "execution_count": 5,
   "outputs": [],
   "source": [
    "explicit_label = False\n",
    "explicit_timestamp = True\n",
    "unix_timestamp = True\n",
    "prefix_id = None\n",
    "include_properties = lambda cs: [c for c in cs if c.startswith('feat_') or c == 'name']\n",
    "\n",
    "nodes_dfs = {\n",
    "    label: pd_from_entity_schema(\n",
    "        entity_schema,\n",
    "        explicit_label=explicit_label,\n",
    "        explicit_timestamp=explicit_timestamp,\n",
    "        include_properties=include_properties,\n",
    "        unix_timestamp=unix_timestamp,\n",
    "        prefix_id=prefix_id,\n",
    "    ).set_index('id').drop(columns=['type']).sort_index()\n",
    "    for label, entity_schema in schema.nodes.items()\n",
    "}\n",
    "\n",
    "edges_dfs = {\n",
    "    label: pd_from_entity_schema(\n",
    "        entity_schema,\n",
    "        explicit_label=explicit_label,\n",
    "        explicit_timestamp=explicit_timestamp,\n",
    "        include_properties=include_properties,\n",
    "        unix_timestamp=unix_timestamp,\n",
    "        prefix_id=prefix_id,\n",
    "    ).reset_index().drop(columns=['type']).drop_duplicates(subset=['src', 'dst', 'timestamp'])\n",
    "    for label, entity_schema in schema.edges.items()\n",
    "}\n",
    "\n",
    "cursor = 0\n",
    "for df in edges_dfs.values():\n",
    "    df.index += cursor\n",
    "    cursor += len(df)"
   ],
   "metadata": {
    "collapsed": false,
    "pycharm": {
     "name": "#%%\n"
    }
   }
  },
  {
   "cell_type": "code",
   "execution_count": 6,
   "outputs": [
    {
     "name": "stdout",
     "output_type": "stream",
     "text": [
      "StellarGraph: Undirected multigraph\n",
      " Nodes: 113, Edges: 2078\n",
      "\n",
      " Node types:\n",
      "  Character: [113]\n",
      "    Features: float32 vector, length 32\n",
      "    Edge types: Character-INTERACTIONS->Character, Character-MENTIONS->Character\n",
      "\n",
      " Edge types:\n",
      "    Character-MENTIONS->Character: [1120]\n",
      "        Weights: all 1 (default)\n",
      "        Features: float32 vector, length 2\n",
      "    Character-INTERACTIONS->Character: [958]\n",
      "        Weights: all 1 (default)\n",
      "        Features: float32 vector, length 2\n"
     ]
    }
   ],
   "source": [
    "graph = StellarGraph(\n",
    "    nodes={k: df.drop(columns=['name_']) for k, df in nodes_dfs.items()},\n",
    "    edges=edges_dfs,\n",
    "    source_column='src',\n",
    "    target_column='dst',\n",
    ")\n",
    "print(graph.info())"
   ],
   "metadata": {
    "collapsed": false,
    "pycharm": {
     "name": "#%%\n"
    }
   }
  },
  {
   "cell_type": "markdown",
   "source": [
    "# Split dataset"
   ],
   "metadata": {
    "collapsed": false,
    "pycharm": {
     "name": "#%% md\n"
    }
   }
  },
  {
   "cell_type": "code",
   "execution_count": 7,
   "outputs": [],
   "source": [
    "from sklearn.model_selection import train_test_split"
   ],
   "metadata": {
    "collapsed": false,
    "pycharm": {
     "name": "#%%\n"
    }
   }
  },
  {
   "cell_type": "code",
   "execution_count": 8,
   "outputs": [
    {
     "name": "stdout",
     "output_type": "stream",
     "text": [
      "** Sampled 103 positive and 103 negative edges. **\n",
      "StellarGraph: Undirected multigraph\n",
      " Nodes: 113, Edges: 1975\n",
      "\n",
      " Node types:\n",
      "  Character: [113]\n",
      "    Features: float32 vector, length 32\n",
      "    Edge types: Character-INTERACTIONS->Character, Character-MENTIONS->Character\n",
      "\n",
      " Edge types:\n",
      "    Character-MENTIONS->Character: [1067]\n",
      "        Weights: all 1 (default)\n",
      "        Features: none\n",
      "    Character-INTERACTIONS->Character: [908]\n",
      "        Weights: all 1 (default)\n",
      "        Features: none\n"
     ]
    }
   ],
   "source": [
    "edge_splitter_test = EdgeSplitter(graph)\n",
    "graph_sub_test, examples_test, labels_test = edge_splitter_test.train_test_split(\n",
    "    p=0.05, method=\"global\"\n",
    ")\n",
    "\n",
    "print(graph_sub_test.info())"
   ],
   "metadata": {
    "collapsed": false,
    "pycharm": {
     "name": "#%%\n"
    }
   }
  },
  {
   "cell_type": "code",
   "execution_count": 9,
   "outputs": [
    {
     "name": "stdout",
     "output_type": "stream",
     "text": [
      "** Sampled 197 positive and 197 negative edges. **\n",
      "StellarGraph: Undirected multigraph\n",
      " Nodes: 113, Edges: 1778\n",
      "\n",
      " Node types:\n",
      "  Character: [113]\n",
      "    Features: float32 vector, length 32\n",
      "    Edge types: Character-INTERACTIONS->Character, Character-MENTIONS->Character\n",
      "\n",
      " Edge types:\n",
      "    Character-MENTIONS->Character: [959]\n",
      "        Weights: all 1 (default)\n",
      "        Features: none\n",
      "    Character-INTERACTIONS->Character: [819]\n",
      "        Weights: all 1 (default)\n",
      "        Features: none\n"
     ]
    }
   ],
   "source": [
    "train_size = 0.75\n",
    "val_size = 0.25\n",
    "\n",
    "edge_splitter_train = EdgeSplitter(graph_sub_test)\n",
    "graph_train, examples, labels = edge_splitter_train.train_test_split(\n",
    "    p=0.1, method=\"global\"\n",
    ")\n",
    "\n",
    "(\n",
    "    examples_train,\n",
    "    examples_val,\n",
    "    labels_train,\n",
    "    labels_val,\n",
    ") = train_test_split(examples, labels, train_size=train_size, test_size=val_size)\n",
    "\n",
    "print(graph_train.info())"
   ],
   "metadata": {
    "collapsed": false,
    "pycharm": {
     "name": "#%%\n"
    }
   }
  },
  {
   "cell_type": "code",
   "execution_count": 10,
   "outputs": [
    {
     "data": {
      "text/plain": "                Number of Examples  Hidden from Picked from  \\\nSplit                                                         \nTraining Set                   295  Train Graph  Test Graph   \nValidation Set                  99  Train Graph  Test Graph   \nTest set                       206   Test Graph  Full Graph   \n\n                                         Use  \nSplit                                         \nTraining Set       Train the Link Classifier  \nValidation Set  Validate the Link Classifier  \nTest set            Evaluate Link Classifier  ",
      "text/html": "<div>\n<style scoped>\n    .dataframe tbody tr th:only-of-type {\n        vertical-align: middle;\n    }\n\n    .dataframe tbody tr th {\n        vertical-align: top;\n    }\n\n    .dataframe thead th {\n        text-align: right;\n    }\n</style>\n<table border=\"1\" class=\"dataframe\">\n  <thead>\n    <tr style=\"text-align: right;\">\n      <th></th>\n      <th>Number of Examples</th>\n      <th>Hidden from</th>\n      <th>Picked from</th>\n      <th>Use</th>\n    </tr>\n    <tr>\n      <th>Split</th>\n      <th></th>\n      <th></th>\n      <th></th>\n      <th></th>\n    </tr>\n  </thead>\n  <tbody>\n    <tr>\n      <th>Training Set</th>\n      <td>295</td>\n      <td>Train Graph</td>\n      <td>Test Graph</td>\n      <td>Train the Link Classifier</td>\n    </tr>\n    <tr>\n      <th>Validation Set</th>\n      <td>99</td>\n      <td>Train Graph</td>\n      <td>Test Graph</td>\n      <td>Validate the Link Classifier</td>\n    </tr>\n    <tr>\n      <th>Test set</th>\n      <td>206</td>\n      <td>Test Graph</td>\n      <td>Full Graph</td>\n      <td>Evaluate Link Classifier</td>\n    </tr>\n  </tbody>\n</table>\n</div>"
     },
     "execution_count": 10,
     "metadata": {},
     "output_type": "execute_result"
    }
   ],
   "source": [
    "pd.DataFrame(\n",
    "    [\n",
    "        (\n",
    "            \"Training Set\",\n",
    "            len(examples_train),\n",
    "            \"Train Graph\",\n",
    "            \"Test Graph\",\n",
    "            \"Train the Link Classifier\",\n",
    "        ),\n",
    "        (\n",
    "            \"Validation Set\",\n",
    "            len(examples_val),\n",
    "            \"Train Graph\",\n",
    "            \"Test Graph\",\n",
    "            \"Validate the Link Classifier\",\n",
    "        ),\n",
    "        (\n",
    "            \"Test set\",\n",
    "            len(examples_test),\n",
    "            \"Test Graph\",\n",
    "            \"Full Graph\",\n",
    "            \"Evaluate Link Classifier\",\n",
    "        ),\n",
    "    ],\n",
    "    columns=(\"Split\", \"Number of Examples\", \"Hidden from\", \"Picked from\", \"Use\"),\n",
    ").set_index(\"Split\")\n"
   ],
   "metadata": {
    "collapsed": false,
    "pycharm": {
     "name": "#%%\n"
    }
   }
  },
  {
   "cell_type": "markdown",
   "source": [
    "# Train HinSage"
   ],
   "metadata": {
    "collapsed": false,
    "pycharm": {
     "name": "#%% md\n"
    }
   }
  },
  {
   "cell_type": "code",
   "execution_count": 11,
   "outputs": [],
   "source": [
    "from tensorflow import keras"
   ],
   "metadata": {
    "collapsed": false,
    "pycharm": {
     "name": "#%%\n"
    }
   }
  },
  {
   "cell_type": "code",
   "execution_count": 12,
   "outputs": [],
   "source": [
    "batch_size = 30\n",
    "epochs = 60\n",
    "dimensions = [128, 128]\n",
    "num_samples = [10, 5]\n",
    "walk_length = 5\n",
    "walk_number = 1"
   ],
   "metadata": {
    "collapsed": false,
    "pycharm": {
     "name": "#%%\n"
    }
   }
  },
  {
   "cell_type": "code",
   "execution_count": 13,
   "outputs": [],
   "source": [
    "unsupervised_samples = UnsupervisedSampler(\n",
    "    graph_train, nodes=list(graph_train.nodes()),\n",
    "    walker=BiasedRandomWalk(graph_train, n=walk_number, length=walk_length, p=1, q=1)\n",
    ")\n",
    "\n",
    "generator = HinSAGELinkGenerator(\n",
    "    graph_train, batch_size, num_samples, head_node_types=[\"Character\", \"Character\"]\n",
    ")"
   ],
   "metadata": {
    "collapsed": false,
    "pycharm": {
     "name": "#%%\n"
    }
   }
  },
  {
   "cell_type": "code",
   "execution_count": 14,
   "outputs": [
    {
     "name": "stdout",
     "output_type": "stream",
     "text": [
      "link_classification: using 'ip' method to combine node embeddings into edge embeddings\n"
     ]
    }
   ],
   "source": [
    "hinsage_layer_sizes = [32, 32]\n",
    "assert len(hinsage_layer_sizes) == len(num_samples)\n",
    "\n",
    "hinsage = HinSAGE(\n",
    "    layer_sizes=hinsage_layer_sizes, generator=generator, bias=True, dropout=0.0\n",
    ")\n",
    "\n",
    "x_inp, x_out = hinsage.in_out_tensors()\n",
    "prediction = link_classification(\n",
    "    output_dim=1, output_act=\"sigmoid\", edge_embedding_method=\"ip\"\n",
    ")(x_out)"
   ],
   "metadata": {
    "collapsed": false,
    "pycharm": {
     "name": "#%%\n"
    }
   }
  },
  {
   "cell_type": "code",
   "execution_count": 15,
   "outputs": [],
   "source": [
    "model = keras.Model(inputs=x_inp, outputs=prediction)\n",
    "model.compile(\n",
    "    optimizer=keras.optimizers.Adam(learning_rate=1e-4),\n",
    "    loss=keras.losses.binary_crossentropy,\n",
    "    metrics=[keras.metrics.binary_accuracy],\n",
    ")"
   ],
   "metadata": {
    "collapsed": false,
    "pycharm": {
     "name": "#%%\n"
    }
   }
  },
  {
   "cell_type": "code",
   "execution_count": 16,
   "outputs": [
    {
     "name": "stdout",
     "output_type": "stream",
     "text": [
      "Model: \"model\"\n",
      "__________________________________________________________________________________________________\n",
      "Layer (type)                    Output Shape         Param #     Connected to                     \n",
      "==================================================================================================\n",
      "input_3 (InputLayer)            [(None, 10, 32)]     0                                            \n",
      "__________________________________________________________________________________________________\n",
      "input_4 (InputLayer)            [(None, 10, 32)]     0                                            \n",
      "__________________________________________________________________________________________________\n",
      "input_7 (InputLayer)            [(None, 50, 32)]     0                                            \n",
      "__________________________________________________________________________________________________\n",
      "input_8 (InputLayer)            [(None, 50, 32)]     0                                            \n",
      "__________________________________________________________________________________________________\n",
      "input_9 (InputLayer)            [(None, 50, 32)]     0                                            \n",
      "__________________________________________________________________________________________________\n",
      "input_10 (InputLayer)           [(None, 50, 32)]     0                                            \n",
      "__________________________________________________________________________________________________\n",
      "input_5 (InputLayer)            [(None, 10, 32)]     0                                            \n",
      "__________________________________________________________________________________________________\n",
      "input_6 (InputLayer)            [(None, 10, 32)]     0                                            \n",
      "__________________________________________________________________________________________________\n",
      "input_11 (InputLayer)           [(None, 50, 32)]     0                                            \n",
      "__________________________________________________________________________________________________\n",
      "input_12 (InputLayer)           [(None, 50, 32)]     0                                            \n",
      "__________________________________________________________________________________________________\n",
      "input_13 (InputLayer)           [(None, 50, 32)]     0                                            \n",
      "__________________________________________________________________________________________________\n",
      "input_14 (InputLayer)           [(None, 50, 32)]     0                                            \n",
      "__________________________________________________________________________________________________\n",
      "input_1 (InputLayer)            [(None, 1, 32)]      0                                            \n",
      "__________________________________________________________________________________________________\n",
      "reshape (Reshape)               (None, 1, 10, 32)    0           input_3[0][0]                    \n",
      "__________________________________________________________________________________________________\n",
      "reshape_1 (Reshape)             (None, 1, 10, 32)    0           input_4[0][0]                    \n",
      "__________________________________________________________________________________________________\n",
      "reshape_4 (Reshape)             (None, 10, 5, 32)    0           input_7[0][0]                    \n",
      "__________________________________________________________________________________________________\n",
      "reshape_5 (Reshape)             (None, 10, 5, 32)    0           input_8[0][0]                    \n",
      "__________________________________________________________________________________________________\n",
      "reshape_6 (Reshape)             (None, 10, 5, 32)    0           input_9[0][0]                    \n",
      "__________________________________________________________________________________________________\n",
      "reshape_7 (Reshape)             (None, 10, 5, 32)    0           input_10[0][0]                   \n",
      "__________________________________________________________________________________________________\n",
      "input_2 (InputLayer)            [(None, 1, 32)]      0                                            \n",
      "__________________________________________________________________________________________________\n",
      "reshape_2 (Reshape)             (None, 1, 10, 32)    0           input_5[0][0]                    \n",
      "__________________________________________________________________________________________________\n",
      "reshape_3 (Reshape)             (None, 1, 10, 32)    0           input_6[0][0]                    \n",
      "__________________________________________________________________________________________________\n",
      "reshape_8 (Reshape)             (None, 10, 5, 32)    0           input_11[0][0]                   \n",
      "__________________________________________________________________________________________________\n",
      "reshape_9 (Reshape)             (None, 10, 5, 32)    0           input_12[0][0]                   \n",
      "__________________________________________________________________________________________________\n",
      "reshape_10 (Reshape)            (None, 10, 5, 32)    0           input_13[0][0]                   \n",
      "__________________________________________________________________________________________________\n",
      "reshape_11 (Reshape)            (None, 10, 5, 32)    0           input_14[0][0]                   \n",
      "__________________________________________________________________________________________________\n",
      "dropout_2 (Dropout)             (None, 1, 32)        0           input_1[0][0]                    \n",
      "__________________________________________________________________________________________________\n",
      "dropout (Dropout)               (None, 1, 10, 32)    0           reshape[0][0]                    \n",
      "__________________________________________________________________________________________________\n",
      "dropout_1 (Dropout)             (None, 1, 10, 32)    0           reshape_1[0][0]                  \n",
      "__________________________________________________________________________________________________\n",
      "dropout_8 (Dropout)             (None, 10, 32)       0           input_3[0][0]                    \n",
      "__________________________________________________________________________________________________\n",
      "dropout_6 (Dropout)             (None, 10, 5, 32)    0           reshape_4[0][0]                  \n",
      "__________________________________________________________________________________________________\n",
      "dropout_7 (Dropout)             (None, 10, 5, 32)    0           reshape_5[0][0]                  \n",
      "__________________________________________________________________________________________________\n",
      "dropout_11 (Dropout)            (None, 10, 32)       0           input_4[0][0]                    \n",
      "__________________________________________________________________________________________________\n",
      "dropout_9 (Dropout)             (None, 10, 5, 32)    0           reshape_6[0][0]                  \n",
      "__________________________________________________________________________________________________\n",
      "dropout_10 (Dropout)            (None, 10, 5, 32)    0           reshape_7[0][0]                  \n",
      "__________________________________________________________________________________________________\n",
      "dropout_5 (Dropout)             (None, 1, 32)        0           input_2[0][0]                    \n",
      "__________________________________________________________________________________________________\n",
      "dropout_3 (Dropout)             (None, 1, 10, 32)    0           reshape_2[0][0]                  \n",
      "__________________________________________________________________________________________________\n",
      "dropout_4 (Dropout)             (None, 1, 10, 32)    0           reshape_3[0][0]                  \n",
      "__________________________________________________________________________________________________\n",
      "dropout_14 (Dropout)            (None, 10, 32)       0           input_5[0][0]                    \n",
      "__________________________________________________________________________________________________\n",
      "dropout_12 (Dropout)            (None, 10, 5, 32)    0           reshape_8[0][0]                  \n",
      "__________________________________________________________________________________________________\n",
      "dropout_13 (Dropout)            (None, 10, 5, 32)    0           reshape_9[0][0]                  \n",
      "__________________________________________________________________________________________________\n",
      "dropout_17 (Dropout)            (None, 10, 32)       0           input_6[0][0]                    \n",
      "__________________________________________________________________________________________________\n",
      "dropout_15 (Dropout)            (None, 10, 5, 32)    0           reshape_10[0][0]                 \n",
      "__________________________________________________________________________________________________\n",
      "dropout_16 (Dropout)            (None, 10, 5, 32)    0           reshape_11[0][0]                 \n",
      "__________________________________________________________________________________________________\n",
      "mean_hin_aggregator (MeanHinAgg multiple             1568        dropout_2[0][0]                  \n",
      "                                                                 dropout[0][0]                    \n",
      "                                                                 dropout_1[0][0]                  \n",
      "                                                                 dropout_5[0][0]                  \n",
      "                                                                 dropout_3[0][0]                  \n",
      "                                                                 dropout_4[0][0]                  \n",
      "                                                                 dropout_8[0][0]                  \n",
      "                                                                 dropout_6[0][0]                  \n",
      "                                                                 dropout_7[0][0]                  \n",
      "                                                                 dropout_11[0][0]                 \n",
      "                                                                 dropout_9[0][0]                  \n",
      "                                                                 dropout_10[0][0]                 \n",
      "                                                                 dropout_14[0][0]                 \n",
      "                                                                 dropout_12[0][0]                 \n",
      "                                                                 dropout_13[0][0]                 \n",
      "                                                                 dropout_17[0][0]                 \n",
      "                                                                 dropout_15[0][0]                 \n",
      "                                                                 dropout_16[0][0]                 \n",
      "__________________________________________________________________________________________________\n",
      "reshape_12 (Reshape)            (None, 1, 10, 32)    0           mean_hin_aggregator[2][0]        \n",
      "__________________________________________________________________________________________________\n",
      "reshape_13 (Reshape)            (None, 1, 10, 32)    0           mean_hin_aggregator[3][0]        \n",
      "__________________________________________________________________________________________________\n",
      "reshape_14 (Reshape)            (None, 1, 10, 32)    0           mean_hin_aggregator[4][0]        \n",
      "__________________________________________________________________________________________________\n",
      "reshape_15 (Reshape)            (None, 1, 10, 32)    0           mean_hin_aggregator[5][0]        \n",
      "__________________________________________________________________________________________________\n",
      "dropout_20 (Dropout)            (None, 1, 32)        0           mean_hin_aggregator[0][0]        \n",
      "__________________________________________________________________________________________________\n",
      "dropout_18 (Dropout)            (None, 1, 10, 32)    0           reshape_12[0][0]                 \n",
      "__________________________________________________________________________________________________\n",
      "dropout_19 (Dropout)            (None, 1, 10, 32)    0           reshape_13[0][0]                 \n",
      "__________________________________________________________________________________________________\n",
      "dropout_23 (Dropout)            (None, 1, 32)        0           mean_hin_aggregator[1][0]        \n",
      "__________________________________________________________________________________________________\n",
      "dropout_21 (Dropout)            (None, 1, 10, 32)    0           reshape_14[0][0]                 \n",
      "__________________________________________________________________________________________________\n",
      "dropout_22 (Dropout)            (None, 1, 10, 32)    0           reshape_15[0][0]                 \n",
      "__________________________________________________________________________________________________\n",
      "mean_hin_aggregator_1 (MeanHinA (None, 1, 32)        1568        dropout_20[0][0]                 \n",
      "                                                                 dropout_18[0][0]                 \n",
      "                                                                 dropout_19[0][0]                 \n",
      "                                                                 dropout_23[0][0]                 \n",
      "                                                                 dropout_21[0][0]                 \n",
      "                                                                 dropout_22[0][0]                 \n",
      "__________________________________________________________________________________________________\n",
      "reshape_16 (Reshape)            (None, 32)           0           mean_hin_aggregator_1[0][0]      \n",
      "__________________________________________________________________________________________________\n",
      "reshape_17 (Reshape)            (None, 32)           0           mean_hin_aggregator_1[1][0]      \n",
      "__________________________________________________________________________________________________\n",
      "lambda (Lambda)                 (None, 32)           0           reshape_16[0][0]                 \n",
      "                                                                 reshape_17[0][0]                 \n",
      "__________________________________________________________________________________________________\n",
      "link_embedding (LinkEmbedding)  (None, 1)            0           lambda[0][0]                     \n",
      "                                                                 lambda[1][0]                     \n",
      "__________________________________________________________________________________________________\n",
      "activation (Activation)         (None, 1)            0           link_embedding[0][0]             \n",
      "__________________________________________________________________________________________________\n",
      "reshape_18 (Reshape)            (None, 1)            0           activation[0][0]                 \n",
      "==================================================================================================\n",
      "Total params: 3,136\n",
      "Trainable params: 3,136\n",
      "Non-trainable params: 0\n",
      "__________________________________________________________________________________________________\n"
     ]
    }
   ],
   "source": [
    "model.summary()"
   ],
   "metadata": {
    "collapsed": false,
    "pycharm": {
     "name": "#%%\n"
    }
   }
  },
  {
   "cell_type": "code",
   "execution_count": 17,
   "outputs": [
    {
     "name": "stderr",
     "output_type": "stream",
     "text": [
      "2022-02-05 13:43:14.763673: I tensorflow/compiler/mlir/mlir_graph_optimization_pass.cc:185] None of the MLIR Optimization Passes are enabled (registered 2)\n"
     ]
    },
    {
     "name": "stdout",
     "output_type": "stream",
     "text": [
      "Epoch 1/60\n"
     ]
    },
    {
     "name": "stderr",
     "output_type": "stream",
     "text": [
      "2022-02-05 13:43:17.861946: I tensorflow/stream_executor/cuda/cuda_blas.cc:1760] TensorFloat-32 will be used for the matrix multiplication. This will only be logged once.\n"
     ]
    },
    {
     "name": "stdout",
     "output_type": "stream",
     "text": [
      "31/31 - 6s - loss: 0.7255 - binary_accuracy: 0.4989 - val_loss: 0.7218 - val_binary_accuracy: 0.5152\n",
      "Epoch 2/60\n",
      "31/31 - 2s - loss: 0.7198 - binary_accuracy: 0.4923 - val_loss: 0.7246 - val_binary_accuracy: 0.5051\n",
      "Epoch 3/60\n",
      "31/31 - 2s - loss: 0.7091 - binary_accuracy: 0.5066 - val_loss: 0.7167 - val_binary_accuracy: 0.5051\n",
      "Epoch 4/60\n",
      "31/31 - 2s - loss: 0.7030 - binary_accuracy: 0.5122 - val_loss: 0.7113 - val_binary_accuracy: 0.5051\n",
      "Epoch 5/60\n",
      "31/31 - 2s - loss: 0.6980 - binary_accuracy: 0.5277 - val_loss: 0.7115 - val_binary_accuracy: 0.5253\n",
      "Epoch 6/60\n",
      "31/31 - 2s - loss: 0.6967 - binary_accuracy: 0.5321 - val_loss: 0.7042 - val_binary_accuracy: 0.5859\n",
      "Epoch 7/60\n",
      "31/31 - 2s - loss: 0.6872 - binary_accuracy: 0.5498 - val_loss: 0.7078 - val_binary_accuracy: 0.5455\n",
      "Epoch 8/60\n",
      "31/31 - 2s - loss: 0.6983 - binary_accuracy: 0.5332 - val_loss: 0.7069 - val_binary_accuracy: 0.5051\n",
      "Epoch 9/60\n",
      "31/31 - 2s - loss: 0.6979 - binary_accuracy: 0.5354 - val_loss: 0.7050 - val_binary_accuracy: 0.5253\n",
      "Epoch 10/60\n",
      "31/31 - 2s - loss: 0.6873 - binary_accuracy: 0.5365 - val_loss: 0.7023 - val_binary_accuracy: 0.5758\n",
      "Epoch 11/60\n",
      "31/31 - 2s - loss: 0.6849 - binary_accuracy: 0.5498 - val_loss: 0.7041 - val_binary_accuracy: 0.5657\n",
      "Epoch 12/60\n",
      "31/31 - 2s - loss: 0.6942 - binary_accuracy: 0.5431 - val_loss: 0.6859 - val_binary_accuracy: 0.5859\n",
      "Epoch 13/60\n",
      "31/31 - 2s - loss: 0.6900 - binary_accuracy: 0.5155 - val_loss: 0.6898 - val_binary_accuracy: 0.5960\n",
      "Epoch 14/60\n",
      "31/31 - 2s - loss: 0.6796 - binary_accuracy: 0.5774 - val_loss: 0.6924 - val_binary_accuracy: 0.5455\n",
      "Epoch 15/60\n",
      "31/31 - 2s - loss: 0.6834 - binary_accuracy: 0.5476 - val_loss: 0.6847 - val_binary_accuracy: 0.5758\n",
      "Epoch 16/60\n",
      "31/31 - 2s - loss: 0.6826 - binary_accuracy: 0.5498 - val_loss: 0.6891 - val_binary_accuracy: 0.5253\n",
      "Epoch 17/60\n",
      "31/31 - 2s - loss: 0.6702 - binary_accuracy: 0.5907 - val_loss: 0.6895 - val_binary_accuracy: 0.5354\n",
      "Epoch 18/60\n",
      "31/31 - 2s - loss: 0.6746 - binary_accuracy: 0.5642 - val_loss: 0.6841 - val_binary_accuracy: 0.5152\n",
      "Epoch 19/60\n",
      "31/31 - 2s - loss: 0.6771 - binary_accuracy: 0.5564 - val_loss: 0.6878 - val_binary_accuracy: 0.5051\n",
      "Epoch 20/60\n",
      "31/31 - 2s - loss: 0.6690 - binary_accuracy: 0.5885 - val_loss: 0.6806 - val_binary_accuracy: 0.5556\n",
      "Epoch 21/60\n",
      "31/31 - 2s - loss: 0.6694 - binary_accuracy: 0.5863 - val_loss: 0.6854 - val_binary_accuracy: 0.5556\n",
      "Epoch 22/60\n",
      "31/31 - 2s - loss: 0.6755 - binary_accuracy: 0.5597 - val_loss: 0.6819 - val_binary_accuracy: 0.5657\n",
      "Epoch 23/60\n",
      "31/31 - 2s - loss: 0.6569 - binary_accuracy: 0.6117 - val_loss: 0.6773 - val_binary_accuracy: 0.5758\n",
      "Epoch 24/60\n",
      "31/31 - 2s - loss: 0.6634 - binary_accuracy: 0.6029 - val_loss: 0.6770 - val_binary_accuracy: 0.5556\n",
      "Epoch 25/60\n",
      "31/31 - 2s - loss: 0.6732 - binary_accuracy: 0.5929 - val_loss: 0.6718 - val_binary_accuracy: 0.5657\n",
      "Epoch 26/60\n",
      "31/31 - 2s - loss: 0.6766 - binary_accuracy: 0.5619 - val_loss: 0.6679 - val_binary_accuracy: 0.5556\n",
      "Epoch 27/60\n",
      "31/31 - 2s - loss: 0.6712 - binary_accuracy: 0.5730 - val_loss: 0.6697 - val_binary_accuracy: 0.5859\n",
      "Epoch 28/60\n",
      "31/31 - 2s - loss: 0.6617 - binary_accuracy: 0.5796 - val_loss: 0.6693 - val_binary_accuracy: 0.5657\n",
      "Epoch 29/60\n",
      "31/31 - 2s - loss: 0.6731 - binary_accuracy: 0.5852 - val_loss: 0.6610 - val_binary_accuracy: 0.5960\n",
      "Epoch 30/60\n",
      "31/31 - 2s - loss: 0.6646 - binary_accuracy: 0.5896 - val_loss: 0.6646 - val_binary_accuracy: 0.5758\n",
      "Epoch 31/60\n",
      "31/31 - 2s - loss: 0.6608 - binary_accuracy: 0.6106 - val_loss: 0.6615 - val_binary_accuracy: 0.5960\n",
      "Epoch 32/60\n",
      "31/31 - 2s - loss: 0.6637 - binary_accuracy: 0.6128 - val_loss: 0.6592 - val_binary_accuracy: 0.5960\n",
      "Epoch 33/60\n",
      "31/31 - 2s - loss: 0.6650 - binary_accuracy: 0.5962 - val_loss: 0.6582 - val_binary_accuracy: 0.5960\n",
      "Epoch 34/60\n",
      "31/31 - 2s - loss: 0.6716 - binary_accuracy: 0.5951 - val_loss: 0.6538 - val_binary_accuracy: 0.6061\n",
      "Epoch 35/60\n",
      "31/31 - 2s - loss: 0.6562 - binary_accuracy: 0.6084 - val_loss: 0.6592 - val_binary_accuracy: 0.6263\n",
      "Epoch 36/60\n",
      "31/31 - 2s - loss: 0.6718 - binary_accuracy: 0.5852 - val_loss: 0.6513 - val_binary_accuracy: 0.6263\n",
      "Epoch 37/60\n",
      "31/31 - 2s - loss: 0.6617 - binary_accuracy: 0.5962 - val_loss: 0.6505 - val_binary_accuracy: 0.6162\n",
      "Epoch 38/60\n",
      "31/31 - 2s - loss: 0.6619 - binary_accuracy: 0.6007 - val_loss: 0.6486 - val_binary_accuracy: 0.6364\n",
      "Epoch 39/60\n",
      "31/31 - 2s - loss: 0.6680 - binary_accuracy: 0.5863 - val_loss: 0.6545 - val_binary_accuracy: 0.6364\n",
      "Epoch 40/60\n",
      "31/31 - 2s - loss: 0.6597 - binary_accuracy: 0.6095 - val_loss: 0.6419 - val_binary_accuracy: 0.6768\n",
      "Epoch 41/60\n",
      "31/31 - 2s - loss: 0.6704 - binary_accuracy: 0.5985 - val_loss: 0.6539 - val_binary_accuracy: 0.6263\n",
      "Epoch 42/60\n",
      "31/31 - 2s - loss: 0.6606 - binary_accuracy: 0.6029 - val_loss: 0.6456 - val_binary_accuracy: 0.6061\n",
      "Epoch 43/60\n",
      "31/31 - 2s - loss: 0.6560 - binary_accuracy: 0.6272 - val_loss: 0.6509 - val_binary_accuracy: 0.6061\n",
      "Epoch 44/60\n",
      "31/31 - 2s - loss: 0.6616 - binary_accuracy: 0.6018 - val_loss: 0.6387 - val_binary_accuracy: 0.6566\n",
      "Epoch 45/60\n",
      "31/31 - 2s - loss: 0.6535 - binary_accuracy: 0.6350 - val_loss: 0.6456 - val_binary_accuracy: 0.6465\n",
      "Epoch 46/60\n",
      "31/31 - 2s - loss: 0.6503 - binary_accuracy: 0.6217 - val_loss: 0.6421 - val_binary_accuracy: 0.6566\n",
      "Epoch 47/60\n",
      "31/31 - 2s - loss: 0.6462 - binary_accuracy: 0.6460 - val_loss: 0.6436 - val_binary_accuracy: 0.6263\n",
      "Epoch 48/60\n",
      "31/31 - 2s - loss: 0.6665 - binary_accuracy: 0.5951 - val_loss: 0.6370 - val_binary_accuracy: 0.6364\n",
      "Epoch 49/60\n",
      "31/31 - 2s - loss: 0.6426 - binary_accuracy: 0.6482 - val_loss: 0.6417 - val_binary_accuracy: 0.6162\n",
      "Epoch 50/60\n",
      "31/31 - 2s - loss: 0.6491 - binary_accuracy: 0.6261 - val_loss: 0.6390 - val_binary_accuracy: 0.6465\n",
      "Epoch 51/60\n",
      "31/31 - 2s - loss: 0.6565 - binary_accuracy: 0.6062 - val_loss: 0.6342 - val_binary_accuracy: 0.6465\n",
      "Epoch 52/60\n",
      "31/31 - 2s - loss: 0.6460 - binary_accuracy: 0.6294 - val_loss: 0.6423 - val_binary_accuracy: 0.6465\n",
      "Epoch 53/60\n",
      "31/31 - 2s - loss: 0.6461 - binary_accuracy: 0.6361 - val_loss: 0.6332 - val_binary_accuracy: 0.6566\n",
      "Epoch 54/60\n",
      "31/31 - 2s - loss: 0.6524 - binary_accuracy: 0.6261 - val_loss: 0.6372 - val_binary_accuracy: 0.6869\n",
      "Epoch 55/60\n",
      "31/31 - 2s - loss: 0.6465 - binary_accuracy: 0.6383 - val_loss: 0.6377 - val_binary_accuracy: 0.6465\n",
      "Epoch 56/60\n",
      "31/31 - 2s - loss: 0.6503 - binary_accuracy: 0.6272 - val_loss: 0.6365 - val_binary_accuracy: 0.6566\n",
      "Epoch 57/60\n",
      "31/31 - 2s - loss: 0.6570 - binary_accuracy: 0.6206 - val_loss: 0.6327 - val_binary_accuracy: 0.6970\n",
      "Epoch 58/60\n",
      "31/31 - 2s - loss: 0.6525 - binary_accuracy: 0.6294 - val_loss: 0.6295 - val_binary_accuracy: 0.6970\n",
      "Epoch 59/60\n",
      "31/31 - 2s - loss: 0.6538 - binary_accuracy: 0.5973 - val_loss: 0.6368 - val_binary_accuracy: 0.6465\n",
      "Epoch 60/60\n",
      "31/31 - 2s - loss: 0.6447 - binary_accuracy: 0.6350 - val_loss: 0.6373 - val_binary_accuracy: 0.6364\n"
     ]
    },
    {
     "data": {
      "text/plain": "<keras.callbacks.History at 0x7f7a18440d30>"
     },
     "execution_count": 17,
     "metadata": {},
     "output_type": "execute_result"
    }
   ],
   "source": [
    "model.fit(\n",
    "    generator.flow(unsupervised_samples),\n",
    "    validation_data=generator.flow(examples_val, labels_val),\n",
    "    epochs=epochs,\n",
    "    verbose=2,\n",
    "    use_multiprocessing=False,\n",
    "    workers=4,\n",
    "    shuffle=True,\n",
    "    callbacks=[\n",
    "        keras.callbacks.EarlyStopping(\n",
    "            monitor=\"val_loss\", patience=10, restore_best_weights=True\n",
    "        )\n",
    "    ],\n",
    ")"
   ],
   "metadata": {
    "collapsed": false,
    "pycharm": {
     "name": "#%%\n"
    }
   }
  },
  {
   "cell_type": "markdown",
   "source": [
    "# Extract and cluster the embeddings"
   ],
   "metadata": {
    "collapsed": false,
    "pycharm": {
     "name": "#%% md\n"
    }
   }
  },
  {
   "cell_type": "code",
   "execution_count": 18,
   "outputs": [],
   "source": [
    "embedding_model = keras.Model(inputs=x_inp, outputs=x_out)"
   ],
   "metadata": {
    "collapsed": false,
    "pycharm": {
     "name": "#%%\n"
    }
   }
  },
  {
   "cell_type": "code",
   "execution_count": 19,
   "outputs": [],
   "source": [
    "graph_node_list = graph.nodes()\n",
    "\n",
    "node_embeddings = embedding_model.predict(\n",
    "    generator.flow(list(zip(graph_node_list, graph_node_list)))\n",
    ")\n",
    "node_embeddings = node_embeddings[0]"
   ],
   "metadata": {
    "collapsed": false,
    "pycharm": {
     "name": "#%%\n"
    }
   }
  },
  {
   "cell_type": "code",
   "execution_count": 20,
   "outputs": [],
   "source": [
    "from sklearn.cluster import KMeans\n",
    "\n",
    "kmeans = KMeans(n_clusters=5, random_state=0).fit(node_embeddings)"
   ],
   "metadata": {
    "collapsed": false,
    "pycharm": {
     "name": "#%%\n"
    }
   }
  },
  {
   "cell_type": "code",
   "execution_count": 21,
   "outputs": [],
   "source": [
    "from shared.constants import BENCHMARKS_RESULTS\n",
    "\n",
    "save_path = BENCHMARKS_RESULTS.joinpath('analysis', 'hinsage-linkprediction-kmeans')\n",
    "save_path.mkdir(parents=True, exist_ok=True)"
   ],
   "metadata": {
    "collapsed": false,
    "pycharm": {
     "name": "#%%\n"
    }
   }
  },
  {
   "cell_type": "code",
   "execution_count": 32,
   "outputs": [],
   "source": [
    "from shared.graph import CommunityAssignment\n",
    "\n",
    "labeling = pd.Series(kmeans.labels_, index=graph_node_list, name=\"cid\")\n",
    "labeling.index.name = 'nid'\n",
    "comlist = CommunityAssignment(labeling)"
   ],
   "metadata": {
    "collapsed": false,
    "pycharm": {
     "name": "#%%\n"
    }
   }
  },
  {
   "cell_type": "code",
   "execution_count": 33,
   "outputs": [],
   "source": [
    "comlist.save_comlist(save_path.joinpath('schema.comlist'))"
   ],
   "metadata": {
    "collapsed": false,
    "pycharm": {
     "name": "#%%\n"
    }
   }
  },
  {
   "cell_type": "code",
   "execution_count": null,
   "outputs": [
    {
     "name": "stdout",
     "output_type": "stream",
     "text": [
      "[2022-02-05 13:47:46,308][export_to_visualization.py][INFO] Processing /data/pella/projects/University/Thesis/Thesis/code/storage/datasets/processed/star-wars/schema.yaml\n",
      "[2022-02-05 13:47:46,372][export_to_visualization.py][INFO] Adding prediction /data/pella/projects/University/Thesis/Thesis/code/storage/results/analysis/hinsage-linkprediction-kmeans/schema.comlist as prediction_0\n",
      "[2022-02-05 13:47:46,376][export_to_visualization.py][INFO] Writing /data/pella/projects/University/Thesis/Thesis/code/storage/datasets/export/star-wars/versions/base/schema.graphml\n"
     ]
    }
   ],
   "source": [
    "from datasets.scripts import export_to_visualization\n",
    "\n",
    "export_to_visualization.run(\n",
    "    export_to_visualization.Args(\n",
    "        dataset='star-wars',\n",
    "        version='base',\n",
    "        run_paths=[str(save_path)]\n",
    "    )\n",
    ")"
   ],
   "metadata": {
    "collapsed": false,
    "pycharm": {
     "name": "#%%\n",
     "is_executing": true
    }
   }
  },
  {
   "cell_type": "markdown",
   "source": [
    "# Calculate Evaluation Metrics"
   ],
   "metadata": {
    "collapsed": false,
    "pycharm": {
     "name": "#%% md\n"
    }
   }
  },
  {
   "cell_type": "code",
   "execution_count": 38,
   "outputs": [
    {
     "name": "stdout",
     "output_type": "stream",
     "text": [
      "[2022-02-05 13:57:37,740][git.cmd][DEBUG] Popen(['git', 'version'], cwd=/data/pella/projects/University/Thesis/Thesis/code/experiments/notebooks, universal_newlines=False, shell=None, istream=None)\n",
      "[2022-02-05 13:57:37,816][git.cmd][DEBUG] Popen(['git', 'version'], cwd=/data/pella/projects/University/Thesis/Thesis/code/experiments/notebooks, universal_newlines=False, shell=None, istream=None)\n"
     ]
    }
   ],
   "source": [
    "from shared.graph import DataGraph\n",
    "from benchmarks.evaluation import get_metric_list"
   ],
   "metadata": {
    "collapsed": false,
    "pycharm": {
     "name": "#%%\n"
    }
   }
  },
  {
   "cell_type": "code",
   "execution_count": 35,
   "outputs": [],
   "source": [
    "G = DataGraph.from_schema(schema)"
   ],
   "metadata": {
    "collapsed": false,
    "pycharm": {
     "name": "#%%\n"
    }
   }
  },
  {
   "cell_type": "code",
   "execution_count": 40,
   "outputs": [],
   "source": [
    "metrics = get_metric_list(ground_truth=False, overlapping=False)\n",
    "\n",
    "results = pd.DataFrame([\n",
    "    {\n",
    "        'metric': metric_cls.metric_name(),\n",
    "        'value': metric_cls.calculate(G, comlist)\n",
    "    }\n",
    "    for metric_cls in metrics]\n",
    ")\n",
    "results"
   ],
   "metadata": {
    "collapsed": false,
    "pycharm": {
     "name": "#%%\n"
    }
   }
  },
  {
   "cell_type": "code",
   "execution_count": null,
   "outputs": [],
   "source": [],
   "metadata": {
    "collapsed": false,
    "pycharm": {
     "name": "#%%\n"
    }
   }
  }
 ],
 "metadata": {
  "kernelspec": {
   "display_name": "Python 3",
   "language": "python",
   "name": "python3"
  },
  "language_info": {
   "codemirror_mode": {
    "name": "ipython",
    "version": 2
   },
   "file_extension": ".py",
   "mimetype": "text/x-python",
   "name": "python",
   "nbconvert_exporter": "python",
   "pygments_lexer": "ipython2",
   "version": "2.7.6"
  }
 },
 "nbformat": 4,
 "nbformat_minor": 0
}