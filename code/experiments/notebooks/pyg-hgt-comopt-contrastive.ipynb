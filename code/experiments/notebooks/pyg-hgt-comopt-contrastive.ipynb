{
 "cells": [
  {
   "cell_type": "code",
   "execution_count": 1,
   "metadata": {
    "collapsed": true
   },
   "outputs": [
    {
     "name": "stdout",
     "output_type": "stream",
     "text": [
      "[2022-02-12 13:51:37,934][simple_parsing.helpers.serialization.serializable][DEBUG] Registering a new Serializable subclass: <class 'simple_parsing.helpers.serialization.serializable.Serializable'>\n",
      "[2022-02-12 13:51:37,935][simple_parsing.helpers.serialization.serializable][DEBUG] parents: [<class 'simple_parsing.helpers.serialization.serializable.SerializableMixin'>]\n",
      "[2022-02-12 13:51:37,936][simple_parsing.helpers.serialization.serializable][DEBUG] Registering a new Serializable subclass: <class 'simple_parsing.helpers.serialization.serializable.FrozenSerializable'>\n",
      "[2022-02-12 13:51:37,937][simple_parsing.helpers.serialization.serializable][DEBUG] parents: [<class 'simple_parsing.helpers.serialization.serializable.SerializableMixin'>]\n",
      "[2022-02-12 13:51:37,938][simple_parsing.helpers.serialization.serializable][DEBUG] Registering a new Serializable subclass: <class 'simple_parsing.helpers.serialization.serializable.SimpleSerializable'>\n",
      "[2022-02-12 13:51:37,941][simple_parsing.helpers.serialization.serializable][DEBUG] Registering a new Serializable subclass: <class 'simple_parsing.helpers.serialization.yaml_serialization.YamlSerializable'>\n",
      "[2022-02-12 13:51:37,941][simple_parsing.helpers.serialization.serializable][DEBUG] parents: [<class 'simple_parsing.helpers.serialization.serializable.Serializable'>, <class 'simple_parsing.helpers.serialization.serializable.SerializableMixin'>]\n",
      "[2022-02-12 13:51:37,942][simple_parsing.helpers.serialization.serializable][DEBUG] Parent class <class 'simple_parsing.helpers.serialization.serializable.Serializable'> has decode_into_subclasses = False\n",
      "[2022-02-12 13:51:37,947][simple_parsing.helpers.serialization.serializable][DEBUG] Registering a new Serializable subclass: <class 'simple_parsing.helpers.hparams.hyperparameters.BoundInfo'>\n",
      "[2022-02-12 13:51:37,948][simple_parsing.helpers.serialization.serializable][DEBUG] parents: [<class 'simple_parsing.helpers.serialization.serializable.Serializable'>, <class 'simple_parsing.helpers.serialization.serializable.SerializableMixin'>]\n",
      "[2022-02-12 13:51:37,949][simple_parsing.helpers.serialization.serializable][DEBUG] Parent class <class 'simple_parsing.helpers.serialization.serializable.Serializable'> has decode_into_subclasses = False\n",
      "[2022-02-12 13:51:37,950][simple_parsing.helpers.serialization.serializable][DEBUG] Registering a new Serializable subclass: <class 'simple_parsing.helpers.hparams.hyperparameters.HyperParameters'>\n",
      "[2022-02-12 13:51:37,958][simple_parsing.helpers.serialization.serializable][DEBUG] Registering a new Serializable subclass: <class 'shared.schema.dataset.DatasetVersion'>\n",
      "[2022-02-12 13:51:37,959][simple_parsing.helpers.serialization.serializable][DEBUG] parents: [<class 'simple_parsing.helpers.serialization.serializable.Serializable'>, <class 'simple_parsing.helpers.serialization.serializable.SerializableMixin'>]\n",
      "[2022-02-12 13:51:37,960][simple_parsing.helpers.serialization.serializable][DEBUG] Parent class <class 'simple_parsing.helpers.serialization.serializable.Serializable'> has decode_into_subclasses = False\n",
      "[2022-02-12 13:51:37,961][simple_parsing.helpers.serialization.serializable][DEBUG] Registering a new Serializable subclass: <class 'shared.schema.dataset.DatasetSchema'>\n",
      "[2022-02-12 13:51:37,962][simple_parsing.helpers.serialization.serializable][DEBUG] parents: [<class 'shared.schema.dataset.DatasetPath'>, <class 'simple_parsing.helpers.serialization.serializable.Serializable'>, <class 'simple_parsing.helpers.serialization.serializable.SerializableMixin'>]\n",
      "[2022-02-12 13:51:37,963][simple_parsing.helpers.serialization.serializable][DEBUG] Parent class <class 'simple_parsing.helpers.serialization.serializable.Serializable'> has decode_into_subclasses = False\n",
      "[2022-02-12 13:51:37,985][simple_parsing.helpers.serialization.serializable][DEBUG] Registering a new Serializable subclass: <class 'shared.schema.graph.DType'>\n",
      "[2022-02-12 13:51:37,986][simple_parsing.helpers.serialization.serializable][DEBUG] parents: [<class 'simple_parsing.helpers.serialization.serializable.Serializable'>, <class 'simple_parsing.helpers.serialization.serializable.SerializableMixin'>]\n",
      "[2022-02-12 13:51:37,987][simple_parsing.helpers.serialization.serializable][DEBUG] Parent class <class 'simple_parsing.helpers.serialization.serializable.Serializable'> has decode_into_subclasses = False\n",
      "[2022-02-12 13:51:37,988][simple_parsing.helpers.serialization.serializable][DEBUG] Registering a new Serializable subclass: <class 'shared.schema.graph.GraphProperty'>\n",
      "[2022-02-12 13:51:37,988][simple_parsing.helpers.serialization.serializable][DEBUG] parents: [<class 'simple_parsing.helpers.serialization.serializable.Serializable'>, <class 'simple_parsing.helpers.serialization.serializable.SerializableMixin'>]\n",
      "[2022-02-12 13:51:37,989][simple_parsing.helpers.serialization.serializable][DEBUG] Parent class <class 'simple_parsing.helpers.serialization.serializable.Serializable'> has decode_into_subclasses = False\n",
      "[2022-02-12 13:51:37,990][simple_parsing.helpers.serialization.serializable][DEBUG] Registering a new Serializable subclass: <class 'shared.schema.graph.DynamicConfig'>\n",
      "[2022-02-12 13:51:37,991][simple_parsing.helpers.serialization.serializable][DEBUG] parents: [<class 'simple_parsing.helpers.serialization.serializable.Serializable'>, <class 'simple_parsing.helpers.serialization.serializable.SerializableMixin'>]\n",
      "[2022-02-12 13:51:37,991][simple_parsing.helpers.serialization.serializable][DEBUG] Parent class <class 'simple_parsing.helpers.serialization.serializable.Serializable'> has decode_into_subclasses = False\n",
      "[2022-02-12 13:51:37,993][simple_parsing.helpers.serialization.serializable][DEBUG] Registering a new Serializable subclass: <class 'shared.schema.graph.EntitySchema'>\n",
      "[2022-02-12 13:51:37,993][simple_parsing.helpers.serialization.serializable][DEBUG] parents: [<class 'simple_parsing.helpers.serialization.serializable.Serializable'>, <class 'simple_parsing.helpers.serialization.serializable.SerializableMixin'>]\n",
      "[2022-02-12 13:51:37,994][simple_parsing.helpers.serialization.serializable][DEBUG] Parent class <class 'simple_parsing.helpers.serialization.serializable.Serializable'> has decode_into_subclasses = False\n",
      "[2022-02-12 13:51:37,996][simple_parsing.helpers.serialization.serializable][DEBUG] Registering a new Serializable subclass: <class 'shared.schema.graph.NodeSchema'>\n",
      "[2022-02-12 13:51:37,997][simple_parsing.helpers.serialization.serializable][DEBUG] parents: [<class 'shared.schema.graph.EntitySchema'>, <class 'simple_parsing.helpers.serialization.serializable.Serializable'>, <class 'simple_parsing.helpers.serialization.serializable.SerializableMixin'>]\n",
      "[2022-02-12 13:51:37,997][simple_parsing.helpers.serialization.serializable][DEBUG] Parent class <class 'shared.schema.graph.EntitySchema'> has decode_into_subclasses = False\n",
      "[2022-02-12 13:51:37,999][simple_parsing.helpers.serialization.serializable][DEBUG] Registering a new Serializable subclass: <class 'shared.schema.graph.EdgeSchema'>\n",
      "[2022-02-12 13:51:37,999][simple_parsing.helpers.serialization.serializable][DEBUG] parents: [<class 'shared.schema.graph.EntitySchema'>, <class 'simple_parsing.helpers.serialization.serializable.Serializable'>, <class 'simple_parsing.helpers.serialization.serializable.SerializableMixin'>]\n",
      "[2022-02-12 13:51:38,000][simple_parsing.helpers.serialization.serializable][DEBUG] Parent class <class 'shared.schema.graph.EntitySchema'> has decode_into_subclasses = False\n",
      "[2022-02-12 13:51:38,002][simple_parsing.helpers.serialization.serializable][DEBUG] Registering a new Serializable subclass: <class 'shared.schema.graph.GraphSchema'>\n",
      "[2022-02-12 13:51:38,002][simple_parsing.helpers.serialization.serializable][DEBUG] parents: [<class 'simple_parsing.helpers.serialization.serializable.Serializable'>, <class 'simple_parsing.helpers.serialization.serializable.SerializableMixin'>]\n",
      "[2022-02-12 13:51:38,003][simple_parsing.helpers.serialization.serializable][DEBUG] Parent class <class 'simple_parsing.helpers.serialization.serializable.Serializable'> has decode_into_subclasses = False\n",
      "[2022-02-12 13:51:38,013][simple_parsing.helpers.serialization.serializable][DEBUG] from_dict for <class 'shared.schema.dataset.DatasetSchema'>, drop extra fields: True\n",
      "[2022-02-12 13:51:38,014][simple_parsing.helpers.serialization.decoding][DEBUG] name = name, field_type = <class 'str'>\n",
      "[2022-02-12 13:51:38,015][simple_parsing.helpers.serialization.decoding][DEBUG] name = database, field_type = <class 'str'>\n",
      "[2022-02-12 13:51:38,016][simple_parsing.helpers.serialization.decoding][DEBUG] name = description, field_type = <class 'str'>\n",
      "[2022-02-12 13:51:38,016][simple_parsing.helpers.serialization.decoding][DEBUG] name = versions, field_type = typing.Dict[str, shared.schema.dataset.DatasetVersion]\n",
      "[2022-02-12 13:51:38,018][simple_parsing.helpers.serialization.decoding][DEBUG] Decoding a Dict field: typing.Dict[str, shared.schema.dataset.DatasetVersion]\n",
      "[2022-02-12 13:51:38,019][simple_parsing.helpers.serialization.serializable][DEBUG] from_dict for <class 'shared.schema.dataset.DatasetVersion'>, drop extra fields: True\n",
      "[2022-02-12 13:51:38,019][simple_parsing.helpers.serialization.decoding][DEBUG] name = type, field_type = <enum 'DatasetVersionType'>\n",
      "[2022-02-12 13:51:38,020][simple_parsing.helpers.serialization.decoding][DEBUG] name = parameters, field_type = typing.Dict[str, typing.Any]\n",
      "[2022-02-12 13:51:38,020][simple_parsing.helpers.serialization.decoding][DEBUG] Decoding a Dict field: typing.Dict[str, typing.Any]\n",
      "[2022-02-12 13:51:38,021][simple_parsing.helpers.serialization.decoding][DEBUG] Decoding an Any type: typing.Any\n",
      "[2022-02-12 13:51:38,021][simple_parsing.helpers.serialization.serializable][DEBUG] from_dict for <class 'shared.schema.dataset.DatasetVersion'>, drop extra fields: True\n",
      "[2022-02-12 13:51:38,022][simple_parsing.helpers.serialization.decoding][DEBUG] name = type, field_type = <enum 'DatasetVersionType'>\n",
      "[2022-02-12 13:51:38,023][simple_parsing.helpers.serialization.decoding][DEBUG] name = parameters, field_type = typing.Dict[str, typing.Any]\n",
      "[2022-02-12 13:51:38,023][simple_parsing.helpers.serialization.serializable][DEBUG] from_dict for <class 'shared.schema.dataset.DatasetVersion'>, drop extra fields: True\n",
      "[2022-02-12 13:51:38,024][simple_parsing.helpers.serialization.decoding][DEBUG] name = type, field_type = <enum 'DatasetVersionType'>\n",
      "[2022-02-12 13:51:38,025][simple_parsing.helpers.serialization.decoding][DEBUG] name = parameters, field_type = typing.Dict[str, typing.Any]\n",
      "[2022-02-12 13:51:38,027][simple_parsing.helpers.serialization.decoding][DEBUG] name = tags, field_type = typing.List[str]\n",
      "[2022-02-12 13:51:38,028][simple_parsing.helpers.serialization.decoding][DEBUG] Decoding a List field: typing.List[str]\n",
      "[2022-02-12 13:51:38,064][simple_parsing.helpers.serialization.serializable][DEBUG] from_dict for <class 'shared.schema.graph.GraphSchema'>, drop extra fields: True\n",
      "[2022-02-12 13:51:38,065][simple_parsing.helpers.serialization.decoding][DEBUG] name = nodes, field_type = typing.Dict[str, shared.schema.graph.NodeSchema]\n",
      "[2022-02-12 13:51:38,066][simple_parsing.helpers.serialization.decoding][DEBUG] Decoding a Dict field: typing.Dict[str, shared.schema.graph.NodeSchema]\n",
      "[2022-02-12 13:51:38,067][simple_parsing.helpers.serialization.serializable][DEBUG] from_dict for <class 'shared.schema.graph.NodeSchema'>, drop extra fields: True\n",
      "[2022-02-12 13:51:38,067][simple_parsing.helpers.serialization.decoding][DEBUG] name = label, field_type = <class 'str'>\n",
      "[2022-02-12 13:51:38,067][simple_parsing.helpers.serialization.decoding][DEBUG] name = properties, field_type = typing.Dict[str, shared.schema.graph.GraphProperty]\n",
      "[2022-02-12 13:51:38,068][simple_parsing.helpers.serialization.decoding][DEBUG] Decoding a Dict field: typing.Dict[str, shared.schema.graph.GraphProperty]\n",
      "[2022-02-12 13:51:38,068][simple_parsing.helpers.serialization.serializable][DEBUG] from_dict for <class 'shared.schema.graph.GraphProperty'>, drop extra fields: True\n",
      "[2022-02-12 13:51:38,069][simple_parsing.helpers.serialization.decoding][DEBUG] name = dtype, field_type = <class 'shared.schema.graph.DType'>\n",
      "[2022-02-12 13:51:38,069][simple_parsing.helpers.serialization.serializable][DEBUG] from_dict for <class 'shared.schema.graph.GraphProperty'>, drop extra fields: True\n",
      "[2022-02-12 13:51:38,069][simple_parsing.helpers.serialization.decoding][DEBUG] name = dtype, field_type = <class 'shared.schema.graph.DType'>\n",
      "[2022-02-12 13:51:38,070][simple_parsing.helpers.serialization.serializable][DEBUG] from_dict for <class 'shared.schema.graph.GraphProperty'>, drop extra fields: True\n",
      "[2022-02-12 13:51:38,070][simple_parsing.helpers.serialization.decoding][DEBUG] name = dtype, field_type = <class 'shared.schema.graph.DType'>\n",
      "[2022-02-12 13:51:38,071][simple_parsing.helpers.serialization.serializable][DEBUG] from_dict for <class 'shared.schema.graph.GraphProperty'>, drop extra fields: True\n",
      "[2022-02-12 13:51:38,071][simple_parsing.helpers.serialization.decoding][DEBUG] name = dtype, field_type = <class 'shared.schema.graph.DType'>\n",
      "[2022-02-12 13:51:38,071][simple_parsing.helpers.serialization.serializable][DEBUG] from_dict for <class 'shared.schema.graph.GraphProperty'>, drop extra fields: True\n",
      "[2022-02-12 13:51:38,072][simple_parsing.helpers.serialization.decoding][DEBUG] name = dtype, field_type = <class 'shared.schema.graph.DType'>\n",
      "[2022-02-12 13:51:38,073][simple_parsing.helpers.serialization.serializable][DEBUG] from_dict for <class 'shared.schema.graph.GraphProperty'>, drop extra fields: True\n",
      "[2022-02-12 13:51:38,073][simple_parsing.helpers.serialization.decoding][DEBUG] name = dtype, field_type = <class 'shared.schema.graph.DType'>\n",
      "[2022-02-12 13:51:38,074][simple_parsing.helpers.serialization.serializable][DEBUG] from_dict for <class 'shared.schema.graph.GraphProperty'>, drop extra fields: True\n",
      "[2022-02-12 13:51:38,075][simple_parsing.helpers.serialization.decoding][DEBUG] name = dtype, field_type = <class 'shared.schema.graph.DType'>\n",
      "[2022-02-12 13:51:38,075][simple_parsing.helpers.serialization.serializable][DEBUG] from_dict for <class 'shared.schema.graph.GraphProperty'>, drop extra fields: True\n",
      "[2022-02-12 13:51:38,076][simple_parsing.helpers.serialization.decoding][DEBUG] name = dtype, field_type = <class 'shared.schema.graph.DType'>\n",
      "[2022-02-12 13:51:38,076][simple_parsing.helpers.serialization.serializable][DEBUG] from_dict for <class 'shared.schema.graph.GraphProperty'>, drop extra fields: True\n",
      "[2022-02-12 13:51:38,077][simple_parsing.helpers.serialization.decoding][DEBUG] name = dtype, field_type = <class 'shared.schema.graph.DType'>\n",
      "[2022-02-12 13:51:38,077][simple_parsing.helpers.serialization.serializable][DEBUG] from_dict for <class 'shared.schema.graph.GraphProperty'>, drop extra fields: True\n",
      "[2022-02-12 13:51:38,078][simple_parsing.helpers.serialization.decoding][DEBUG] name = dtype, field_type = <class 'shared.schema.graph.DType'>\n",
      "[2022-02-12 13:51:38,079][simple_parsing.helpers.serialization.serializable][DEBUG] from_dict for <class 'shared.schema.graph.GraphProperty'>, drop extra fields: True\n",
      "[2022-02-12 13:51:38,079][simple_parsing.helpers.serialization.decoding][DEBUG] name = dtype, field_type = <class 'shared.schema.graph.DType'>\n",
      "[2022-02-12 13:51:38,080][simple_parsing.helpers.serialization.serializable][DEBUG] from_dict for <class 'shared.schema.graph.GraphProperty'>, drop extra fields: True\n",
      "[2022-02-12 13:51:38,080][simple_parsing.helpers.serialization.decoding][DEBUG] name = dtype, field_type = <class 'shared.schema.graph.DType'>\n",
      "[2022-02-12 13:51:38,081][simple_parsing.helpers.serialization.serializable][DEBUG] from_dict for <class 'shared.schema.graph.GraphProperty'>, drop extra fields: True\n",
      "[2022-02-12 13:51:38,081][simple_parsing.helpers.serialization.decoding][DEBUG] name = dtype, field_type = <class 'shared.schema.graph.DType'>\n",
      "[2022-02-12 13:51:38,082][simple_parsing.helpers.serialization.serializable][DEBUG] from_dict for <class 'shared.schema.graph.GraphProperty'>, drop extra fields: True\n",
      "[2022-02-12 13:51:38,083][simple_parsing.helpers.serialization.decoding][DEBUG] name = dtype, field_type = <class 'shared.schema.graph.DType'>\n",
      "[2022-02-12 13:51:38,083][simple_parsing.helpers.serialization.serializable][DEBUG] from_dict for <class 'shared.schema.graph.GraphProperty'>, drop extra fields: True\n",
      "[2022-02-12 13:51:38,084][simple_parsing.helpers.serialization.decoding][DEBUG] name = dtype, field_type = <class 'shared.schema.graph.DType'>\n",
      "[2022-02-12 13:51:38,085][simple_parsing.helpers.serialization.serializable][DEBUG] from_dict for <class 'shared.schema.graph.GraphProperty'>, drop extra fields: True\n",
      "[2022-02-12 13:51:38,085][simple_parsing.helpers.serialization.decoding][DEBUG] name = dtype, field_type = <class 'shared.schema.graph.DType'>\n",
      "[2022-02-12 13:51:38,086][simple_parsing.helpers.serialization.serializable][DEBUG] from_dict for <class 'shared.schema.graph.GraphProperty'>, drop extra fields: True\n",
      "[2022-02-12 13:51:38,087][simple_parsing.helpers.serialization.decoding][DEBUG] name = dtype, field_type = <class 'shared.schema.graph.DType'>\n",
      "[2022-02-12 13:51:38,087][simple_parsing.helpers.serialization.serializable][DEBUG] from_dict for <class 'shared.schema.graph.GraphProperty'>, drop extra fields: True\n",
      "[2022-02-12 13:51:38,088][simple_parsing.helpers.serialization.decoding][DEBUG] name = dtype, field_type = <class 'shared.schema.graph.DType'>\n",
      "[2022-02-12 13:51:38,089][simple_parsing.helpers.serialization.serializable][DEBUG] from_dict for <class 'shared.schema.graph.GraphProperty'>, drop extra fields: True\n",
      "[2022-02-12 13:51:38,089][simple_parsing.helpers.serialization.decoding][DEBUG] name = dtype, field_type = <class 'shared.schema.graph.DType'>\n",
      "[2022-02-12 13:51:38,090][simple_parsing.helpers.serialization.serializable][DEBUG] from_dict for <class 'shared.schema.graph.GraphProperty'>, drop extra fields: True\n",
      "[2022-02-12 13:51:38,091][simple_parsing.helpers.serialization.decoding][DEBUG] name = dtype, field_type = <class 'shared.schema.graph.DType'>\n",
      "[2022-02-12 13:51:38,092][simple_parsing.helpers.serialization.serializable][DEBUG] from_dict for <class 'shared.schema.graph.GraphProperty'>, drop extra fields: True\n",
      "[2022-02-12 13:51:38,092][simple_parsing.helpers.serialization.decoding][DEBUG] name = dtype, field_type = <class 'shared.schema.graph.DType'>\n",
      "[2022-02-12 13:51:38,093][simple_parsing.helpers.serialization.serializable][DEBUG] from_dict for <class 'shared.schema.graph.GraphProperty'>, drop extra fields: True\n",
      "[2022-02-12 13:51:38,094][simple_parsing.helpers.serialization.decoding][DEBUG] name = dtype, field_type = <class 'shared.schema.graph.DType'>\n",
      "[2022-02-12 13:51:38,094][simple_parsing.helpers.serialization.serializable][DEBUG] from_dict for <class 'shared.schema.graph.GraphProperty'>, drop extra fields: True\n",
      "[2022-02-12 13:51:38,095][simple_parsing.helpers.serialization.decoding][DEBUG] name = dtype, field_type = <class 'shared.schema.graph.DType'>\n",
      "[2022-02-12 13:51:38,096][simple_parsing.helpers.serialization.serializable][DEBUG] from_dict for <class 'shared.schema.graph.GraphProperty'>, drop extra fields: True\n",
      "[2022-02-12 13:51:38,097][simple_parsing.helpers.serialization.decoding][DEBUG] name = dtype, field_type = <class 'shared.schema.graph.DType'>\n",
      "[2022-02-12 13:51:38,097][simple_parsing.helpers.serialization.serializable][DEBUG] from_dict for <class 'shared.schema.graph.GraphProperty'>, drop extra fields: True\n",
      "[2022-02-12 13:51:38,098][simple_parsing.helpers.serialization.decoding][DEBUG] name = dtype, field_type = <class 'shared.schema.graph.DType'>\n",
      "[2022-02-12 13:51:38,099][simple_parsing.helpers.serialization.serializable][DEBUG] from_dict for <class 'shared.schema.graph.GraphProperty'>, drop extra fields: True\n",
      "[2022-02-12 13:51:38,099][simple_parsing.helpers.serialization.decoding][DEBUG] name = dtype, field_type = <class 'shared.schema.graph.DType'>\n",
      "[2022-02-12 13:51:38,100][simple_parsing.helpers.serialization.serializable][DEBUG] from_dict for <class 'shared.schema.graph.GraphProperty'>, drop extra fields: True\n",
      "[2022-02-12 13:51:38,101][simple_parsing.helpers.serialization.decoding][DEBUG] name = dtype, field_type = <class 'shared.schema.graph.DType'>\n",
      "[2022-02-12 13:51:38,102][simple_parsing.helpers.serialization.serializable][DEBUG] from_dict for <class 'shared.schema.graph.GraphProperty'>, drop extra fields: True\n",
      "[2022-02-12 13:51:38,102][simple_parsing.helpers.serialization.decoding][DEBUG] name = dtype, field_type = <class 'shared.schema.graph.DType'>\n",
      "[2022-02-12 13:51:38,103][simple_parsing.helpers.serialization.serializable][DEBUG] from_dict for <class 'shared.schema.graph.GraphProperty'>, drop extra fields: True\n",
      "[2022-02-12 13:51:38,104][simple_parsing.helpers.serialization.decoding][DEBUG] name = dtype, field_type = <class 'shared.schema.graph.DType'>\n",
      "[2022-02-12 13:51:38,104][simple_parsing.helpers.serialization.serializable][DEBUG] from_dict for <class 'shared.schema.graph.GraphProperty'>, drop extra fields: True\n",
      "[2022-02-12 13:51:38,105][simple_parsing.helpers.serialization.decoding][DEBUG] name = dtype, field_type = <class 'shared.schema.graph.DType'>\n",
      "[2022-02-12 13:51:38,106][simple_parsing.helpers.serialization.serializable][DEBUG] from_dict for <class 'shared.schema.graph.GraphProperty'>, drop extra fields: True\n",
      "[2022-02-12 13:51:38,106][simple_parsing.helpers.serialization.decoding][DEBUG] name = dtype, field_type = <class 'shared.schema.graph.DType'>\n",
      "[2022-02-12 13:51:38,107][simple_parsing.helpers.serialization.serializable][DEBUG] from_dict for <class 'shared.schema.graph.GraphProperty'>, drop extra fields: True\n",
      "[2022-02-12 13:51:38,108][simple_parsing.helpers.serialization.decoding][DEBUG] name = dtype, field_type = <class 'shared.schema.graph.DType'>\n",
      "[2022-02-12 13:51:38,109][simple_parsing.helpers.serialization.serializable][DEBUG] from_dict for <class 'shared.schema.graph.GraphProperty'>, drop extra fields: True\n",
      "[2022-02-12 13:51:38,110][simple_parsing.helpers.serialization.decoding][DEBUG] name = dtype, field_type = <class 'shared.schema.graph.DType'>\n",
      "[2022-02-12 13:51:38,110][simple_parsing.helpers.serialization.serializable][DEBUG] from_dict for <class 'shared.schema.graph.GraphProperty'>, drop extra fields: True\n",
      "[2022-02-12 13:51:38,115][simple_parsing.helpers.serialization.decoding][DEBUG] name = dtype, field_type = <class 'shared.schema.graph.DType'>\n",
      "[2022-02-12 13:51:38,116][simple_parsing.helpers.serialization.serializable][DEBUG] from_dict for <class 'shared.schema.graph.GraphProperty'>, drop extra fields: True\n",
      "[2022-02-12 13:51:38,117][simple_parsing.helpers.serialization.decoding][DEBUG] name = dtype, field_type = <class 'shared.schema.graph.DType'>\n",
      "[2022-02-12 13:51:38,118][simple_parsing.helpers.serialization.serializable][DEBUG] from_dict for <class 'shared.schema.graph.GraphProperty'>, drop extra fields: True\n",
      "[2022-02-12 13:51:38,119][simple_parsing.helpers.serialization.decoding][DEBUG] name = dtype, field_type = <class 'shared.schema.graph.DType'>\n",
      "[2022-02-12 13:51:38,120][simple_parsing.helpers.serialization.serializable][DEBUG] from_dict for <class 'shared.schema.graph.GraphProperty'>, drop extra fields: True\n",
      "[2022-02-12 13:51:38,121][simple_parsing.helpers.serialization.decoding][DEBUG] name = dtype, field_type = <class 'shared.schema.graph.DType'>\n",
      "[2022-02-12 13:51:38,122][simple_parsing.helpers.serialization.serializable][DEBUG] from_dict for <class 'shared.schema.graph.GraphProperty'>, drop extra fields: True\n",
      "[2022-02-12 13:51:38,123][simple_parsing.helpers.serialization.decoding][DEBUG] name = dtype, field_type = <class 'shared.schema.graph.DType'>\n",
      "[2022-02-12 13:51:38,124][simple_parsing.helpers.serialization.serializable][DEBUG] from_dict for <class 'shared.schema.graph.GraphProperty'>, drop extra fields: True\n",
      "[2022-02-12 13:51:38,125][simple_parsing.helpers.serialization.decoding][DEBUG] name = dtype, field_type = <class 'shared.schema.graph.DType'>\n",
      "[2022-02-12 13:51:38,126][simple_parsing.helpers.serialization.serializable][DEBUG] from_dict for <class 'shared.schema.graph.GraphProperty'>, drop extra fields: True\n",
      "[2022-02-12 13:51:38,126][simple_parsing.helpers.serialization.decoding][DEBUG] name = dtype, field_type = <class 'shared.schema.graph.DType'>\n",
      "[2022-02-12 13:51:38,127][simple_parsing.helpers.serialization.serializable][DEBUG] from_dict for <class 'shared.schema.graph.GraphProperty'>, drop extra fields: True\n",
      "[2022-02-12 13:51:38,128][simple_parsing.helpers.serialization.decoding][DEBUG] name = dtype, field_type = <class 'shared.schema.graph.DType'>\n",
      "[2022-02-12 13:51:38,129][simple_parsing.helpers.serialization.serializable][DEBUG] from_dict for <class 'shared.schema.graph.GraphProperty'>, drop extra fields: True\n",
      "[2022-02-12 13:51:38,129][simple_parsing.helpers.serialization.decoding][DEBUG] name = dtype, field_type = <class 'shared.schema.graph.DType'>\n",
      "[2022-02-12 13:51:38,130][simple_parsing.helpers.serialization.serializable][DEBUG] from_dict for <class 'shared.schema.graph.GraphProperty'>, drop extra fields: True\n",
      "[2022-02-12 13:51:38,131][simple_parsing.helpers.serialization.decoding][DEBUG] name = dtype, field_type = <class 'shared.schema.graph.DType'>\n",
      "[2022-02-12 13:51:38,131][simple_parsing.helpers.serialization.serializable][DEBUG] from_dict for <class 'shared.schema.graph.GraphProperty'>, drop extra fields: True\n",
      "[2022-02-12 13:51:38,132][simple_parsing.helpers.serialization.decoding][DEBUG] name = dtype, field_type = <class 'shared.schema.graph.DType'>\n",
      "[2022-02-12 13:51:38,133][simple_parsing.helpers.serialization.serializable][DEBUG] from_dict for <class 'shared.schema.graph.GraphProperty'>, drop extra fields: True\n",
      "[2022-02-12 13:51:38,134][simple_parsing.helpers.serialization.decoding][DEBUG] name = dtype, field_type = <class 'shared.schema.graph.DType'>\n",
      "[2022-02-12 13:51:38,135][simple_parsing.helpers.serialization.serializable][DEBUG] from_dict for <class 'shared.schema.graph.GraphProperty'>, drop extra fields: True\n",
      "[2022-02-12 13:51:38,135][simple_parsing.helpers.serialization.decoding][DEBUG] name = dtype, field_type = <class 'shared.schema.graph.DType'>\n",
      "[2022-02-12 13:51:38,136][simple_parsing.helpers.serialization.serializable][DEBUG] from_dict for <class 'shared.schema.graph.GraphProperty'>, drop extra fields: True\n",
      "[2022-02-12 13:51:38,139][simple_parsing.helpers.serialization.decoding][DEBUG] name = dtype, field_type = <class 'shared.schema.graph.DType'>\n",
      "[2022-02-12 13:51:38,140][simple_parsing.helpers.serialization.serializable][DEBUG] from_dict for <class 'shared.schema.graph.GraphProperty'>, drop extra fields: True\n",
      "[2022-02-12 13:51:38,141][simple_parsing.helpers.serialization.decoding][DEBUG] name = dtype, field_type = <class 'shared.schema.graph.DType'>\n",
      "[2022-02-12 13:51:38,141][simple_parsing.helpers.serialization.serializable][DEBUG] from_dict for <class 'shared.schema.graph.GraphProperty'>, drop extra fields: True\n",
      "[2022-02-12 13:51:38,142][simple_parsing.helpers.serialization.decoding][DEBUG] name = dtype, field_type = <class 'shared.schema.graph.DType'>\n",
      "[2022-02-12 13:51:38,143][simple_parsing.helpers.serialization.serializable][DEBUG] from_dict for <class 'shared.schema.graph.GraphProperty'>, drop extra fields: True\n",
      "[2022-02-12 13:51:38,144][simple_parsing.helpers.serialization.decoding][DEBUG] name = dtype, field_type = <class 'shared.schema.graph.DType'>\n",
      "[2022-02-12 13:51:38,145][simple_parsing.helpers.serialization.serializable][DEBUG] from_dict for <class 'shared.schema.graph.GraphProperty'>, drop extra fields: True\n",
      "[2022-02-12 13:51:38,146][simple_parsing.helpers.serialization.decoding][DEBUG] name = dtype, field_type = <class 'shared.schema.graph.DType'>\n",
      "[2022-02-12 13:51:38,151][simple_parsing.helpers.serialization.serializable][DEBUG] from_dict for <class 'shared.schema.graph.GraphProperty'>, drop extra fields: True\n",
      "[2022-02-12 13:51:38,154][simple_parsing.helpers.serialization.decoding][DEBUG] name = dtype, field_type = <class 'shared.schema.graph.DType'>\n",
      "[2022-02-12 13:51:38,155][simple_parsing.helpers.serialization.decoding][DEBUG] name = edges, field_type = typing.Dict[str, shared.schema.graph.EdgeSchema]\n",
      "[2022-02-12 13:51:38,155][simple_parsing.helpers.serialization.decoding][DEBUG] Decoding a Dict field: typing.Dict[str, shared.schema.graph.EdgeSchema]\n",
      "[2022-02-12 13:51:38,156][simple_parsing.helpers.serialization.serializable][DEBUG] from_dict for <class 'shared.schema.graph.EdgeSchema'>, drop extra fields: True\n",
      "[2022-02-12 13:51:38,156][simple_parsing.helpers.serialization.decoding][DEBUG] name = properties, field_type = typing.Dict[str, shared.schema.graph.GraphProperty]\n",
      "[2022-02-12 13:51:38,157][simple_parsing.helpers.serialization.serializable][DEBUG] from_dict for <class 'shared.schema.graph.GraphProperty'>, drop extra fields: True\n",
      "[2022-02-12 13:51:38,157][simple_parsing.helpers.serialization.decoding][DEBUG] name = dtype, field_type = <class 'shared.schema.graph.DType'>\n",
      "[2022-02-12 13:51:38,157][simple_parsing.helpers.serialization.serializable][DEBUG] from_dict for <class 'shared.schema.graph.GraphProperty'>, drop extra fields: True\n",
      "[2022-02-12 13:51:38,157][simple_parsing.helpers.serialization.decoding][DEBUG] name = dtype, field_type = <class 'shared.schema.graph.DType'>\n",
      "[2022-02-12 13:51:38,158][simple_parsing.helpers.serialization.serializable][DEBUG] from_dict for <class 'shared.schema.graph.GraphProperty'>, drop extra fields: True\n",
      "[2022-02-12 13:51:38,158][simple_parsing.helpers.serialization.decoding][DEBUG] name = dtype, field_type = <class 'shared.schema.graph.DType'>\n",
      "[2022-02-12 13:51:38,158][simple_parsing.helpers.serialization.serializable][DEBUG] from_dict for <class 'shared.schema.graph.GraphProperty'>, drop extra fields: True\n",
      "[2022-02-12 13:51:38,159][simple_parsing.helpers.serialization.decoding][DEBUG] name = dtype, field_type = <class 'shared.schema.graph.DType'>\n",
      "[2022-02-12 13:51:38,159][simple_parsing.helpers.serialization.decoding][DEBUG] name = dynamic, field_type = typing.Optional[shared.schema.graph.DynamicConfig]\n",
      "[2022-02-12 13:51:38,159][simple_parsing.helpers.serialization.decoding][DEBUG] Decoding a Union field: typing.Optional[shared.schema.graph.DynamicConfig]\n",
      "[2022-02-12 13:51:38,160][simple_parsing.helpers.serialization.serializable][DEBUG] from_dict for <class 'shared.schema.graph.DynamicConfig'>, drop extra fields: True\n",
      "[2022-02-12 13:51:38,160][simple_parsing.helpers.serialization.decoding][DEBUG] name = timestamp, field_type = <class 'str'>\n",
      "[2022-02-12 13:51:38,160][simple_parsing.helpers.serialization.decoding][DEBUG] name = interaction, field_type = <class 'bool'>\n",
      "[2022-02-12 13:51:38,161][simple_parsing.helpers.serialization.decoding][DEBUG] name = source_type, field_type = <class 'str'>\n",
      "[2022-02-12 13:51:38,161][simple_parsing.helpers.serialization.decoding][DEBUG] name = target_type, field_type = <class 'str'>\n",
      "[2022-02-12 13:51:38,162][simple_parsing.helpers.serialization.decoding][DEBUG] name = directed, field_type = <class 'bool'>\n",
      "[2022-02-12 13:51:38,162][simple_parsing.helpers.serialization.serializable][DEBUG] from_dict for <class 'shared.schema.graph.EdgeSchema'>, drop extra fields: True\n",
      "[2022-02-12 13:51:38,162][simple_parsing.helpers.serialization.decoding][DEBUG] name = properties, field_type = typing.Dict[str, shared.schema.graph.GraphProperty]\n",
      "[2022-02-12 13:51:38,163][simple_parsing.helpers.serialization.serializable][DEBUG] from_dict for <class 'shared.schema.graph.GraphProperty'>, drop extra fields: True\n",
      "[2022-02-12 13:51:38,163][simple_parsing.helpers.serialization.decoding][DEBUG] name = dtype, field_type = <class 'shared.schema.graph.DType'>\n",
      "[2022-02-12 13:51:38,164][simple_parsing.helpers.serialization.serializable][DEBUG] from_dict for <class 'shared.schema.graph.GraphProperty'>, drop extra fields: True\n",
      "[2022-02-12 13:51:38,168][simple_parsing.helpers.serialization.decoding][DEBUG] name = dtype, field_type = <class 'shared.schema.graph.DType'>\n",
      "[2022-02-12 13:51:38,172][simple_parsing.helpers.serialization.serializable][DEBUG] from_dict for <class 'shared.schema.graph.GraphProperty'>, drop extra fields: True\n",
      "[2022-02-12 13:51:38,173][simple_parsing.helpers.serialization.decoding][DEBUG] name = dtype, field_type = <class 'shared.schema.graph.DType'>\n",
      "[2022-02-12 13:51:38,173][simple_parsing.helpers.serialization.serializable][DEBUG] from_dict for <class 'shared.schema.graph.GraphProperty'>, drop extra fields: True\n",
      "[2022-02-12 13:51:38,173][simple_parsing.helpers.serialization.decoding][DEBUG] name = dtype, field_type = <class 'shared.schema.graph.DType'>\n",
      "[2022-02-12 13:51:38,174][simple_parsing.helpers.serialization.decoding][DEBUG] name = dynamic, field_type = typing.Optional[shared.schema.graph.DynamicConfig]\n",
      "[2022-02-12 13:51:38,174][simple_parsing.helpers.serialization.serializable][DEBUG] from_dict for <class 'shared.schema.graph.DynamicConfig'>, drop extra fields: True\n",
      "[2022-02-12 13:51:38,175][simple_parsing.helpers.serialization.decoding][DEBUG] name = timestamp, field_type = <class 'str'>\n",
      "[2022-02-12 13:51:38,175][simple_parsing.helpers.serialization.decoding][DEBUG] name = interaction, field_type = <class 'bool'>\n",
      "[2022-02-12 13:51:38,175][simple_parsing.helpers.serialization.decoding][DEBUG] name = source_type, field_type = <class 'str'>\n",
      "[2022-02-12 13:51:38,176][simple_parsing.helpers.serialization.decoding][DEBUG] name = target_type, field_type = <class 'str'>\n",
      "[2022-02-12 13:51:38,176][simple_parsing.helpers.serialization.decoding][DEBUG] name = directed, field_type = <class 'bool'>\n"
     ]
    },
    {
     "data": {
      "text/plain": "HeteroData(\n  \u001B[1mCharacter\u001B[0m={ x=[113, 32] },\n  \u001B[1m(Character, INTERACTIONS, Character)\u001B[0m={\n    edge_attr=[958, 0],\n    edge_index=[2, 958],\n    timestamp=[958]\n  },\n  \u001B[1m(Character, MENTIONS, Character)\u001B[0m={\n    edge_attr=[1120, 0],\n    edge_index=[2, 1120],\n    timestamp=[1120]\n  }\n)"
     },
     "execution_count": 1,
     "metadata": {},
     "output_type": "execute_result"
    }
   ],
   "source": [
    "from ml.data.datasets import StarWars\n",
    "\n",
    "dataset = StarWars()\n",
    "data = dataset[0]\n",
    "data"
   ]
  },
  {
   "cell_type": "code",
   "execution_count": 28,
   "outputs": [],
   "source": [
    "from ml.data import EdgeLoaderDataModule\n",
    "\n",
    "data_module = EdgeLoaderDataModule(data, batch_size=16, num_samples=[4] * 2, num_workers=4, node_type='Character')"
   ],
   "metadata": {
    "collapsed": false,
    "pycharm": {
     "name": "#%%\n"
    }
   }
  },
  {
   "cell_type": "code",
   "execution_count": 29,
   "outputs": [],
   "source": [
    "from typing import Optional, Dict, Tuple, Any\n",
    "\n",
    "import torch\n",
    "import torch.nn.functional as F\n",
    "from torch_geometric.typing import Metadata\n",
    "from torch_geometric.nn import HGTConv, Linear\n",
    "import torchmetrics\n",
    "import pytorch_lightning as pl\n",
    "import math\n",
    "\n",
    "import ml"
   ],
   "metadata": {
    "collapsed": false,
    "pycharm": {
     "name": "#%%\n"
    }
   }
  },
  {
   "cell_type": "code",
   "execution_count": 30,
   "outputs": [],
   "source": [
    "class HGTModule(torch.nn.Module):\n",
    "    def __init__(\n",
    "            self,\n",
    "            node_type,\n",
    "            metadata: Metadata,\n",
    "            hidden_channels=64,\n",
    "            num_heads=2,\n",
    "            num_layers=1\n",
    "    ):\n",
    "        super().__init__()\n",
    "        self.node_type = node_type\n",
    "        self.lin_dict = torch.nn.ModuleDict()\n",
    "        for node_type in metadata[0]:\n",
    "            self.lin_dict[node_type] = Linear(-1, hidden_channels)\n",
    "\n",
    "        self.convs = torch.nn.ModuleList()\n",
    "        for _ in range(num_layers):\n",
    "            conv = HGTConv(hidden_channels, hidden_channels, metadata, num_heads, group='sum')\n",
    "            self.convs.append(conv)\n",
    "\n",
    "    def forward(self, x_dict, edge_index_dict):\n",
    "        for node_type, x in x_dict.items():\n",
    "            x_dict[node_type] = self.lin_dict[node_type](x).relu_()\n",
    "\n",
    "        for conv in self.convs:\n",
    "            x_dict = conv(x_dict, edge_index_dict)\n",
    "\n",
    "        return x_dict[self.node_type]\n",
    "\n",
    "class ClusteringModule(torch.nn.Module):\n",
    "    def __init__(self, rep_dim, n_clusters):\n",
    "        super().__init__()\n",
    "        self.lin = torch.nn.Linear(rep_dim, n_clusters)\n",
    "        self.activation = torch.nn.Softmax(dim=1)\n",
    "\n",
    "    def forward(self, batch: torch.Tensor):\n",
    "        return self.activation(self.lin(batch))\n",
    "\n",
    "    def forward_assign(self, batch: torch.Tensor):\n",
    "        q = self(batch)\n",
    "        return q.argmax(dim=1)\n",
    "\n",
    "class LinkPredictionLoss(torch.nn.Module):\n",
    "    def __init__(self):\n",
    "        super().__init__()\n",
    "        self.ce_loss = torch.nn.CrossEntropyLoss()\n",
    "\n",
    "    def forward(self, pred: torch.Tensor, label: torch.Tensor):\n",
    "        return self.ce_loss(pred, label)\n",
    "\n",
    "class ClusteringLoss(torch.nn.Module):\n",
    "    def __init__(self):\n",
    "        super().__init__()\n",
    "        self.cos_sim = torch.nn.CosineSimilarity(dim=1)\n",
    "        self.ce_loss = torch.nn.CrossEntropyLoss()\n",
    "\n",
    "    def forward(self, q_l: torch.Tensor, q_r: torch.Tensor, label: torch.Tensor):\n",
    "        p = torch.sum(q_l, dim=0) + torch.sum(q_r, dim=0)\n",
    "        p /= p.sum()\n",
    "        ne = math.log(p.size(0)) + (p * torch.log(p)).sum()\n",
    "\n",
    "        sim = (self.cos_sim(q_l, q_r) + 1) / 2\n",
    "        pred = torch.stack([1 - sim, sim], dim=1)\n",
    "        loss = self.ce_loss(pred, label)\n",
    "\n",
    "        return loss, ne"
   ],
   "metadata": {
    "collapsed": false,
    "pycharm": {
     "name": "#%%\n"
    }
   }
  },
  {
   "cell_type": "code",
   "execution_count": 50,
   "outputs": [],
   "source": [
    "class Net(ml.BaseModule):\n",
    "    def __init__(\n",
    "            self,\n",
    "            embedding_module: HGTModule,\n",
    "            clustering_module: ClusteringModule,\n",
    "    ):\n",
    "        super().__init__()\n",
    "        self.embedding_module = embedding_module\n",
    "        self.clustering_module = clustering_module\n",
    "        self.cos_sim = torch.nn.CosineSimilarity(dim=1)\n",
    "        self.lin = torch.nn.Linear(1, 2)\n",
    "\n",
    "        self.link_prediction_loss = LinkPredictionLoss()\n",
    "        self.clustering_loss = ClusteringLoss()\n",
    "\n",
    "    def configure_metrics(self) -> Dict[str, Tuple[torchmetrics.Metric, bool]]:\n",
    "        return {\n",
    "            'loss': (torchmetrics.MeanMetric(), True),\n",
    "            'hp_loss': (torchmetrics.MeanMetric(), True),\n",
    "            'cc_loss': (torchmetrics.MeanMetric(), True),\n",
    "            'accuracy': (torchmetrics.Accuracy(), True),\n",
    "            'ne': (torchmetrics.MeanMetric(), True),\n",
    "        }\n",
    "\n",
    "    def _step(self, batch: torch.Tensor):\n",
    "        batch_l, batch_r, label = batch\n",
    "        batch_size = batch_l[self.embedding_module.node_type].batch_size\n",
    "\n",
    "        emb_l = self.embedding_module(batch_l.x_dict, batch_l.edge_index_dict)[:batch_size]\n",
    "        emb_r = self.embedding_module(batch_r.x_dict, batch_r.edge_index_dict)[:batch_size]\n",
    "        sim = self.cos_sim(emb_l, emb_r)\n",
    "        out = self.lin(torch.unsqueeze(sim, 1))\n",
    "        hp_loss = self.link_prediction_loss(out, label)\n",
    "\n",
    "        q_l = self.clustering_module(emb_l)\n",
    "        q_r = self.clustering_module(emb_r)\n",
    "        cc_loss, ne = self.clustering_loss(q_l, q_r, label)\n",
    "\n",
    "        loss = hp_loss + cc_loss + ne * 0.1\n",
    "\n",
    "        pred = out.argmax(dim=-1)\n",
    "        return {\n",
    "            'loss': loss,\n",
    "            'hp_loss': hp_loss,\n",
    "            'cc_loss': cc_loss,\n",
    "            'accuracy': (pred, label),\n",
    "            'ne': ne,\n",
    "        }\n",
    "\n",
    "    def forward(self, batch):\n",
    "        batch_size = batch[self.embedding_module.node_type].batch_size\n",
    "        emb = self.embedding_module(batch.x_dict, batch.edge_index_dict)[:batch_size]\n",
    "        q = self.clustering_module(emb)\n",
    "        return emb, q\n",
    "\n",
    "    def training_step(self, batch):\n",
    "        return self._step(batch)\n",
    "\n",
    "    def validation_step(self, batch, batch_idx):\n",
    "        return self._step(batch)\n",
    "\n",
    "    def configure_optimizers(self):\n",
    "        optimizer = torch.optim.Adam(self.parameters(), lr=1e-3)\n",
    "        return optimizer"
   ],
   "metadata": {
    "collapsed": false,
    "pycharm": {
     "name": "#%%\n"
    }
   }
  },
  {
   "cell_type": "code",
   "execution_count": 51,
   "outputs": [],
   "source": [
    "embedding_module = HGTModule(node_type='Character', metadata=data.metadata(), hidden_channels=32, num_heads=2, num_layers=2)\n",
    "clustering_module = ClusteringModule(rep_dim=32, n_clusters=5)"
   ],
   "metadata": {
    "collapsed": false,
    "pycharm": {
     "name": "#%%\n"
    }
   }
  },
  {
   "cell_type": "code",
   "execution_count": 52,
   "outputs": [],
   "source": [
    "model = Net(embedding_module, clustering_module)"
   ],
   "metadata": {
    "collapsed": false,
    "pycharm": {
     "name": "#%%\n"
    }
   }
  },
  {
   "cell_type": "code",
   "execution_count": 53,
   "outputs": [
    {
     "name": "stdout",
     "output_type": "stream",
     "text": [
      "[2022-02-12 14:58:27,145][py.warnings][WARNING] /data/pella/projects/University/Thesis/Thesis/code/env/lib/python3.9/site-packages/pytorch_lightning/trainer/trainer.py:1584: UserWarning: GPU available but not used. Set the gpus flag in your trainer `Trainer(gpus=1)` or script `--gpus=1`.\n",
      "  rank_zero_warn(\n",
      "\n",
      "[2022-02-12 14:58:27,148][py.warnings][WARNING] /data/pella/projects/University/Thesis/Thesis/code/env/lib/python3.9/site-packages/pytorch_lightning/core/datamodule.py:469: LightningDeprecationWarning: DataModule.setup has already been called, so it will not be called again. In v1.6 this behavior will change to always call DataModule.setup.\n",
      "  rank_zero_deprecation(\n",
      "\n"
     ]
    },
    {
     "data": {
      "text/plain": "Validation sanity check: 0it [00:00, ?it/s]",
      "application/vnd.jupyter.widget-view+json": {
       "version_major": 2,
       "version_minor": 0,
       "model_id": "dbd0012eb0f44ea08c91b4c26dc755ec"
      }
     },
     "metadata": {},
     "output_type": "display_data"
    },
    {
     "data": {
      "text/plain": "Training: 0it [00:00, ?it/s]",
      "application/vnd.jupyter.widget-view+json": {
       "version_major": 2,
       "version_minor": 0,
       "model_id": "05e7fac9c4a045b494f853346938e226"
      }
     },
     "metadata": {},
     "output_type": "display_data"
    },
    {
     "name": "stdout",
     "output_type": "stream",
     "text": [
      "[2022-02-12 14:58:27,471][py.warnings][WARNING] /data/pella/projects/University/Thesis/Thesis/code/env/lib/python3.9/site-packages/pytorch_lightning/loops/optimization/closure.py:35: LightningDeprecationWarning: One of the returned values {'cc_loss', 'ne', 'hp_loss', 'accuracy'} has a `grad_fn`. We will detach it automatically but this behaviour will change in v1.6. Please detach it manually: `return {'loss': ..., 'something': something.detach()}`\n",
      "  rank_zero_deprecation(\n",
      "\n"
     ]
    },
    {
     "data": {
      "text/plain": "Validating: 0it [00:00, ?it/s]",
      "application/vnd.jupyter.widget-view+json": {
       "version_major": 2,
       "version_minor": 0,
       "model_id": "f4987387e70d48ccbde4166b1cfcd797"
      }
     },
     "metadata": {},
     "output_type": "display_data"
    },
    {
     "data": {
      "text/plain": "Validating: 0it [00:00, ?it/s]",
      "application/vnd.jupyter.widget-view+json": {
       "version_major": 2,
       "version_minor": 0,
       "model_id": "fbca29a037ba46aa8e550c9ea51fb43b"
      }
     },
     "metadata": {},
     "output_type": "display_data"
    },
    {
     "data": {
      "text/plain": "Validating: 0it [00:00, ?it/s]",
      "application/vnd.jupyter.widget-view+json": {
       "version_major": 2,
       "version_minor": 0,
       "model_id": "f1c4190ced5b4c1e99eb55b1471d8f11"
      }
     },
     "metadata": {},
     "output_type": "display_data"
    },
    {
     "data": {
      "text/plain": "Validating: 0it [00:00, ?it/s]",
      "application/vnd.jupyter.widget-view+json": {
       "version_major": 2,
       "version_minor": 0,
       "model_id": "fc50474baa17452bbcae6f2fb09d3355"
      }
     },
     "metadata": {},
     "output_type": "display_data"
    },
    {
     "data": {
      "text/plain": "Validating: 0it [00:00, ?it/s]",
      "application/vnd.jupyter.widget-view+json": {
       "version_major": 2,
       "version_minor": 0,
       "model_id": "c84975ac294b4a44ba54aeab79daf44c"
      }
     },
     "metadata": {},
     "output_type": "display_data"
    },
    {
     "data": {
      "text/plain": "Validating: 0it [00:00, ?it/s]",
      "application/vnd.jupyter.widget-view+json": {
       "version_major": 2,
       "version_minor": 0,
       "model_id": "9672a13f8e0549e5bec3c1f5fd890014"
      }
     },
     "metadata": {},
     "output_type": "display_data"
    },
    {
     "data": {
      "text/plain": "Validating: 0it [00:00, ?it/s]",
      "application/vnd.jupyter.widget-view+json": {
       "version_major": 2,
       "version_minor": 0,
       "model_id": "b4ac0bf463ac488595c955d3327ad28a"
      }
     },
     "metadata": {},
     "output_type": "display_data"
    },
    {
     "data": {
      "text/plain": "Validating: 0it [00:00, ?it/s]",
      "application/vnd.jupyter.widget-view+json": {
       "version_major": 2,
       "version_minor": 0,
       "model_id": "cc31aa4550db462e8287ab4b80eb76b1"
      }
     },
     "metadata": {},
     "output_type": "display_data"
    },
    {
     "data": {
      "text/plain": "Validating: 0it [00:00, ?it/s]",
      "application/vnd.jupyter.widget-view+json": {
       "version_major": 2,
       "version_minor": 0,
       "model_id": "215827c61d1642bb8659a97ff3cf8d09"
      }
     },
     "metadata": {},
     "output_type": "display_data"
    },
    {
     "data": {
      "text/plain": "Validating: 0it [00:00, ?it/s]",
      "application/vnd.jupyter.widget-view+json": {
       "version_major": 2,
       "version_minor": 0,
       "model_id": "2eff192af461444c96c77be3779c8a7f"
      }
     },
     "metadata": {},
     "output_type": "display_data"
    },
    {
     "data": {
      "text/plain": "Validating: 0it [00:00, ?it/s]",
      "application/vnd.jupyter.widget-view+json": {
       "version_major": 2,
       "version_minor": 0,
       "model_id": "6e0be4ebc20944c2a87d3aa37b58713a"
      }
     },
     "metadata": {},
     "output_type": "display_data"
    },
    {
     "data": {
      "text/plain": "Validating: 0it [00:00, ?it/s]",
      "application/vnd.jupyter.widget-view+json": {
       "version_major": 2,
       "version_minor": 0,
       "model_id": "28e6d3c401b74805819ae85e1c23b30c"
      }
     },
     "metadata": {},
     "output_type": "display_data"
    },
    {
     "data": {
      "text/plain": "Validating: 0it [00:00, ?it/s]",
      "application/vnd.jupyter.widget-view+json": {
       "version_major": 2,
       "version_minor": 0,
       "model_id": "8340e22cff174b829765aa4683f2485e"
      }
     },
     "metadata": {},
     "output_type": "display_data"
    },
    {
     "data": {
      "text/plain": "Validating: 0it [00:00, ?it/s]",
      "application/vnd.jupyter.widget-view+json": {
       "version_major": 2,
       "version_minor": 0,
       "model_id": "baff3f7727364153be2731fcdcdbd4a2"
      }
     },
     "metadata": {},
     "output_type": "display_data"
    },
    {
     "data": {
      "text/plain": "Validating: 0it [00:00, ?it/s]",
      "application/vnd.jupyter.widget-view+json": {
       "version_major": 2,
       "version_minor": 0,
       "model_id": "02bb099398e449e0abec8bed5d51025a"
      }
     },
     "metadata": {},
     "output_type": "display_data"
    },
    {
     "data": {
      "text/plain": "Validating: 0it [00:00, ?it/s]",
      "application/vnd.jupyter.widget-view+json": {
       "version_major": 2,
       "version_minor": 0,
       "model_id": "7ad7887a686a4e54bf001caafc8d0258"
      }
     },
     "metadata": {},
     "output_type": "display_data"
    },
    {
     "data": {
      "text/plain": "Validating: 0it [00:00, ?it/s]",
      "application/vnd.jupyter.widget-view+json": {
       "version_major": 2,
       "version_minor": 0,
       "model_id": "ef4f968b65914e09ad07480eca6cc66d"
      }
     },
     "metadata": {},
     "output_type": "display_data"
    },
    {
     "data": {
      "text/plain": "Validating: 0it [00:00, ?it/s]",
      "application/vnd.jupyter.widget-view+json": {
       "version_major": 2,
       "version_minor": 0,
       "model_id": "45e563d5b8de4e2e91413bb915883292"
      }
     },
     "metadata": {},
     "output_type": "display_data"
    },
    {
     "data": {
      "text/plain": "Validating: 0it [00:00, ?it/s]",
      "application/vnd.jupyter.widget-view+json": {
       "version_major": 2,
       "version_minor": 0,
       "model_id": "62a3ea3545664b4cb719b16495a3f205"
      }
     },
     "metadata": {},
     "output_type": "display_data"
    },
    {
     "data": {
      "text/plain": "Validating: 0it [00:00, ?it/s]",
      "application/vnd.jupyter.widget-view+json": {
       "version_major": 2,
       "version_minor": 0,
       "model_id": "28ac0de937544b6396c78d268c61e454"
      }
     },
     "metadata": {},
     "output_type": "display_data"
    },
    {
     "data": {
      "text/plain": "Validating: 0it [00:00, ?it/s]",
      "application/vnd.jupyter.widget-view+json": {
       "version_major": 2,
       "version_minor": 0,
       "model_id": "495cebfb0a0b4dce8c41c7f661b756c6"
      }
     },
     "metadata": {},
     "output_type": "display_data"
    },
    {
     "data": {
      "text/plain": "Validating: 0it [00:00, ?it/s]",
      "application/vnd.jupyter.widget-view+json": {
       "version_major": 2,
       "version_minor": 0,
       "model_id": "4acb20db99d545d98c7764ab47c2caa2"
      }
     },
     "metadata": {},
     "output_type": "display_data"
    },
    {
     "data": {
      "text/plain": "Validating: 0it [00:00, ?it/s]",
      "application/vnd.jupyter.widget-view+json": {
       "version_major": 2,
       "version_minor": 0,
       "model_id": "a112b0b2865f4495b33a40cd4dc01e6f"
      }
     },
     "metadata": {},
     "output_type": "display_data"
    },
    {
     "data": {
      "text/plain": "Validating: 0it [00:00, ?it/s]",
      "application/vnd.jupyter.widget-view+json": {
       "version_major": 2,
       "version_minor": 0,
       "model_id": "5859ee1e9cb94746bf3ecdabac6c5e8c"
      }
     },
     "metadata": {},
     "output_type": "display_data"
    },
    {
     "data": {
      "text/plain": "Validating: 0it [00:00, ?it/s]",
      "application/vnd.jupyter.widget-view+json": {
       "version_major": 2,
       "version_minor": 0,
       "model_id": "ca3af58976424c3eb860463e75aec775"
      }
     },
     "metadata": {},
     "output_type": "display_data"
    },
    {
     "data": {
      "text/plain": "Validating: 0it [00:00, ?it/s]",
      "application/vnd.jupyter.widget-view+json": {
       "version_major": 2,
       "version_minor": 0,
       "model_id": "4ed0bd1c5fd44fc0af49492e0e33eb3e"
      }
     },
     "metadata": {},
     "output_type": "display_data"
    },
    {
     "data": {
      "text/plain": "Validating: 0it [00:00, ?it/s]",
      "application/vnd.jupyter.widget-view+json": {
       "version_major": 2,
       "version_minor": 0,
       "model_id": "cfa86c35a52746ae9f590a7ed355ca3d"
      }
     },
     "metadata": {},
     "output_type": "display_data"
    },
    {
     "data": {
      "text/plain": "Validating: 0it [00:00, ?it/s]",
      "application/vnd.jupyter.widget-view+json": {
       "version_major": 2,
       "version_minor": 0,
       "model_id": "fc585ce9ae654e03b8481d68fdea8a90"
      }
     },
     "metadata": {},
     "output_type": "display_data"
    },
    {
     "data": {
      "text/plain": "Validating: 0it [00:00, ?it/s]",
      "application/vnd.jupyter.widget-view+json": {
       "version_major": 2,
       "version_minor": 0,
       "model_id": "a34775f27a42434c88fb9ec5d24024fe"
      }
     },
     "metadata": {},
     "output_type": "display_data"
    },
    {
     "data": {
      "text/plain": "Validating: 0it [00:00, ?it/s]",
      "application/vnd.jupyter.widget-view+json": {
       "version_major": 2,
       "version_minor": 0,
       "model_id": "96a57a9b7c234ac4931ef78d79a50c7f"
      }
     },
     "metadata": {},
     "output_type": "display_data"
    },
    {
     "data": {
      "text/plain": "Validating: 0it [00:00, ?it/s]",
      "application/vnd.jupyter.widget-view+json": {
       "version_major": 2,
       "version_minor": 0,
       "model_id": "6507dd3e142d4210a17a344eaff2c403"
      }
     },
     "metadata": {},
     "output_type": "display_data"
    },
    {
     "data": {
      "text/plain": "Validating: 0it [00:00, ?it/s]",
      "application/vnd.jupyter.widget-view+json": {
       "version_major": 2,
       "version_minor": 0,
       "model_id": "1b9f6fefdf1244109e84474378b15334"
      }
     },
     "metadata": {},
     "output_type": "display_data"
    },
    {
     "data": {
      "text/plain": "Validating: 0it [00:00, ?it/s]",
      "application/vnd.jupyter.widget-view+json": {
       "version_major": 2,
       "version_minor": 0,
       "model_id": "b34e41da4655492fb257c81fd9cc08ff"
      }
     },
     "metadata": {},
     "output_type": "display_data"
    },
    {
     "data": {
      "text/plain": "Validating: 0it [00:00, ?it/s]",
      "application/vnd.jupyter.widget-view+json": {
       "version_major": 2,
       "version_minor": 0,
       "model_id": "75b6190ddeee42209fa3d7589eab6653"
      }
     },
     "metadata": {},
     "output_type": "display_data"
    },
    {
     "data": {
      "text/plain": "Validating: 0it [00:00, ?it/s]",
      "application/vnd.jupyter.widget-view+json": {
       "version_major": 2,
       "version_minor": 0,
       "model_id": "1243649a6a5a4d9497e002fb57d3d811"
      }
     },
     "metadata": {},
     "output_type": "display_data"
    },
    {
     "data": {
      "text/plain": "Validating: 0it [00:00, ?it/s]",
      "application/vnd.jupyter.widget-view+json": {
       "version_major": 2,
       "version_minor": 0,
       "model_id": "9ba26967bcd643989bcf884cd429936c"
      }
     },
     "metadata": {},
     "output_type": "display_data"
    },
    {
     "data": {
      "text/plain": "Validating: 0it [00:00, ?it/s]",
      "application/vnd.jupyter.widget-view+json": {
       "version_major": 2,
       "version_minor": 0,
       "model_id": "ba1fd8a05d0042faacf7b56590cdcb05"
      }
     },
     "metadata": {},
     "output_type": "display_data"
    },
    {
     "data": {
      "text/plain": "Validating: 0it [00:00, ?it/s]",
      "application/vnd.jupyter.widget-view+json": {
       "version_major": 2,
       "version_minor": 0,
       "model_id": "1b80f02b54a04ddbbc653322533381db"
      }
     },
     "metadata": {},
     "output_type": "display_data"
    },
    {
     "data": {
      "text/plain": "Validating: 0it [00:00, ?it/s]",
      "application/vnd.jupyter.widget-view+json": {
       "version_major": 2,
       "version_minor": 0,
       "model_id": "8a80232a7bfe46f99a47e69408460d0a"
      }
     },
     "metadata": {},
     "output_type": "display_data"
    },
    {
     "data": {
      "text/plain": "Validating: 0it [00:00, ?it/s]",
      "application/vnd.jupyter.widget-view+json": {
       "version_major": 2,
       "version_minor": 0,
       "model_id": "4eab64ac81f64209a574bae3c12192c3"
      }
     },
     "metadata": {},
     "output_type": "display_data"
    },
    {
     "data": {
      "text/plain": "Validating: 0it [00:00, ?it/s]",
      "application/vnd.jupyter.widget-view+json": {
       "version_major": 2,
       "version_minor": 0,
       "model_id": "0ca3de6f4c0b40d486889ff1aa4d9bd6"
      }
     },
     "metadata": {},
     "output_type": "display_data"
    },
    {
     "data": {
      "text/plain": "Validating: 0it [00:00, ?it/s]",
      "application/vnd.jupyter.widget-view+json": {
       "version_major": 2,
       "version_minor": 0,
       "model_id": "5e343243e9a7458fbc80d9c27e5b91b1"
      }
     },
     "metadata": {},
     "output_type": "display_data"
    },
    {
     "data": {
      "text/plain": "Validating: 0it [00:00, ?it/s]",
      "application/vnd.jupyter.widget-view+json": {
       "version_major": 2,
       "version_minor": 0,
       "model_id": "c6012271329a4342bd6f686f0d25cfd4"
      }
     },
     "metadata": {},
     "output_type": "display_data"
    },
    {
     "data": {
      "text/plain": "Validating: 0it [00:00, ?it/s]",
      "application/vnd.jupyter.widget-view+json": {
       "version_major": 2,
       "version_minor": 0,
       "model_id": "69756acf43834ab8afb11b1ceeff7d24"
      }
     },
     "metadata": {},
     "output_type": "display_data"
    },
    {
     "data": {
      "text/plain": "Validating: 0it [00:00, ?it/s]",
      "application/vnd.jupyter.widget-view+json": {
       "version_major": 2,
       "version_minor": 0,
       "model_id": "beacd085f3f740e481ffca74b5e7f677"
      }
     },
     "metadata": {},
     "output_type": "display_data"
    },
    {
     "data": {
      "text/plain": "Validating: 0it [00:00, ?it/s]",
      "application/vnd.jupyter.widget-view+json": {
       "version_major": 2,
       "version_minor": 0,
       "model_id": "41e6b825a24e43a790dd04bfc60338e8"
      }
     },
     "metadata": {},
     "output_type": "display_data"
    },
    {
     "data": {
      "text/plain": "Validating: 0it [00:00, ?it/s]",
      "application/vnd.jupyter.widget-view+json": {
       "version_major": 2,
       "version_minor": 0,
       "model_id": "0de00bbe90fb42f6bab2ed36f13b0225"
      }
     },
     "metadata": {},
     "output_type": "display_data"
    },
    {
     "data": {
      "text/plain": "Validating: 0it [00:00, ?it/s]",
      "application/vnd.jupyter.widget-view+json": {
       "version_major": 2,
       "version_minor": 0,
       "model_id": "e5dcc0a75f9f450ba6cf83f1cd296be2"
      }
     },
     "metadata": {},
     "output_type": "display_data"
    },
    {
     "data": {
      "text/plain": "Validating: 0it [00:00, ?it/s]",
      "application/vnd.jupyter.widget-view+json": {
       "version_major": 2,
       "version_minor": 0,
       "model_id": "479ef37b6106402095bb921308ef0f0c"
      }
     },
     "metadata": {},
     "output_type": "display_data"
    },
    {
     "data": {
      "text/plain": "Validating: 0it [00:00, ?it/s]",
      "application/vnd.jupyter.widget-view+json": {
       "version_major": 2,
       "version_minor": 0,
       "model_id": "a3a68bab7dbf48b5a20b5e117abd5ab8"
      }
     },
     "metadata": {},
     "output_type": "display_data"
    },
    {
     "name": "stdout",
     "output_type": "stream",
     "text": [
      "[2022-02-12 15:04:05,868][py.warnings][WARNING] /data/pella/projects/University/Thesis/Thesis/code/env/lib/python3.9/site-packages/pytorch_lightning/core/datamodule.py:469: LightningDeprecationWarning: DataModule.teardown has already been called, so it will not be called again. In v1.6 this behavior will change to always call DataModule.teardown.\n",
      "  rank_zero_deprecation(\n",
      "\n"
     ]
    }
   ],
   "source": [
    "trainer = pl.Trainer(\n",
    "    # gpus=1,\n",
    "    callbacks=[\n",
    "        pl.callbacks.EarlyStopping(monitor=\"val/loss\", min_delta=0.00, patience=5, verbose=True, mode=\"min\")\n",
    "    ],\n",
    "    max_epochs=50,\n",
    "    enable_model_summary=True,\n",
    "    # logger=wandb_logger\n",
    ")\n",
    "trainer.fit(model, data_module)"
   ],
   "metadata": {
    "collapsed": false,
    "pycharm": {
     "name": "#%%\n"
    }
   }
  },
  {
   "cell_type": "code",
   "execution_count": 54,
   "outputs": [],
   "source": [
    "from shared.constants import BENCHMARKS_RESULTS\n",
    "\n",
    "save_path = BENCHMARKS_RESULTS.joinpath('analysis', 'pyg-hgt-comopt-contrastive')\n",
    "save_path.mkdir(parents=True, exist_ok=True)"
   ],
   "metadata": {
    "collapsed": false,
    "pycharm": {
     "name": "#%%\n"
    }
   }
  },
  {
   "cell_type": "code",
   "execution_count": 55,
   "outputs": [
    {
     "data": {
      "text/plain": "Predicting: 182it [00:00, ?it/s]",
      "application/vnd.jupyter.widget-view+json": {
       "version_major": 2,
       "version_minor": 0,
       "model_id": "73c21d57612f4cd7bc2aa06d9d1310bd"
      }
     },
     "metadata": {},
     "output_type": "display_data"
    }
   ],
   "source": [
    "predictions = trainer.predict(model, data_module)\n",
    "embeddings, assignments = map(lambda x: torch.cat(x, dim=0).detach().cpu(), zip(*predictions))\n",
    "assignments = torch.argmax(assignments, dim=1)"
   ],
   "metadata": {
    "collapsed": false,
    "pycharm": {
     "name": "#%%\n"
    }
   }
  },
  {
   "cell_type": "code",
   "execution_count": 56,
   "outputs": [],
   "source": [
    "from shared.graph import CommunityAssignment\n",
    "import pandas as pd\n",
    "\n",
    "labeling = pd.Series(assignments.squeeze(), index=dataset.node_mapping(), name=\"cid\")\n",
    "labeling.index.name = \"nid\"\n",
    "comlist = CommunityAssignment(labeling)"
   ],
   "metadata": {
    "collapsed": false,
    "pycharm": {
     "name": "#%%\n"
    }
   }
  },
  {
   "cell_type": "code",
   "execution_count": 57,
   "outputs": [],
   "source": [
    "comlist.save_comlist(save_path.joinpath('schema.comlist'))"
   ],
   "metadata": {
    "collapsed": false,
    "pycharm": {
     "name": "#%%\n"
    }
   }
  },
  {
   "cell_type": "code",
   "execution_count": null,
   "outputs": [
    {
     "name": "stdout",
     "output_type": "stream",
     "text": [
      "[2022-02-12 15:04:06,132][simple_parsing.helpers.serialization.serializable][DEBUG] from_dict for <class 'shared.schema.dataset.DatasetSchema'>, drop extra fields: True\n",
      "[2022-02-12 15:04:06,132][simple_parsing.helpers.serialization.decoding][DEBUG] name = name, field_type = <class 'str'>\n",
      "[2022-02-12 15:04:06,133][simple_parsing.helpers.serialization.decoding][DEBUG] name = database, field_type = <class 'str'>\n",
      "[2022-02-12 15:04:06,134][simple_parsing.helpers.serialization.decoding][DEBUG] name = description, field_type = <class 'str'>\n",
      "[2022-02-12 15:04:06,134][simple_parsing.helpers.serialization.decoding][DEBUG] name = versions, field_type = typing.Dict[str, shared.schema.dataset.DatasetVersion]\n",
      "[2022-02-12 15:04:06,135][simple_parsing.helpers.serialization.serializable][DEBUG] from_dict for <class 'shared.schema.dataset.DatasetVersion'>, drop extra fields: True\n",
      "[2022-02-12 15:04:06,136][simple_parsing.helpers.serialization.decoding][DEBUG] name = type, field_type = <enum 'DatasetVersionType'>\n",
      "[2022-02-12 15:04:06,136][simple_parsing.helpers.serialization.decoding][DEBUG] name = parameters, field_type = typing.Dict[str, typing.Any]\n",
      "[2022-02-12 15:04:06,137][simple_parsing.helpers.serialization.serializable][DEBUG] from_dict for <class 'shared.schema.dataset.DatasetVersion'>, drop extra fields: True\n",
      "[2022-02-12 15:04:06,138][simple_parsing.helpers.serialization.decoding][DEBUG] name = type, field_type = <enum 'DatasetVersionType'>\n",
      "[2022-02-12 15:04:06,139][simple_parsing.helpers.serialization.decoding][DEBUG] name = parameters, field_type = typing.Dict[str, typing.Any]\n",
      "[2022-02-12 15:04:06,139][simple_parsing.helpers.serialization.serializable][DEBUG] from_dict for <class 'shared.schema.dataset.DatasetVersion'>, drop extra fields: True\n",
      "[2022-02-12 15:04:06,140][simple_parsing.helpers.serialization.decoding][DEBUG] name = type, field_type = <enum 'DatasetVersionType'>\n",
      "[2022-02-12 15:04:06,141][simple_parsing.helpers.serialization.decoding][DEBUG] name = parameters, field_type = typing.Dict[str, typing.Any]\n",
      "[2022-02-12 15:04:06,142][simple_parsing.helpers.serialization.decoding][DEBUG] name = tags, field_type = typing.List[str]\n",
      "[2022-02-12 15:04:06,143][export_to_visualization.py][INFO] Processing /data/pella/projects/University/Thesis/Thesis/code/storage/datasets/processed/star-wars/schema.yaml\n",
      "[2022-02-12 15:04:06,184][simple_parsing.helpers.serialization.serializable][DEBUG] from_dict for <class 'shared.schema.graph.GraphSchema'>, drop extra fields: True\n",
      "[2022-02-12 15:04:06,185][simple_parsing.helpers.serialization.decoding][DEBUG] name = nodes, field_type = typing.Dict[str, shared.schema.graph.NodeSchema]\n",
      "[2022-02-12 15:04:06,186][simple_parsing.helpers.serialization.serializable][DEBUG] from_dict for <class 'shared.schema.graph.NodeSchema'>, drop extra fields: True\n",
      "[2022-02-12 15:04:06,186][simple_parsing.helpers.serialization.decoding][DEBUG] name = label, field_type = <class 'str'>\n",
      "[2022-02-12 15:04:06,187][simple_parsing.helpers.serialization.decoding][DEBUG] name = properties, field_type = typing.Dict[str, shared.schema.graph.GraphProperty]\n",
      "[2022-02-12 15:04:06,188][simple_parsing.helpers.serialization.serializable][DEBUG] from_dict for <class 'shared.schema.graph.GraphProperty'>, drop extra fields: True\n",
      "[2022-02-12 15:04:06,189][simple_parsing.helpers.serialization.decoding][DEBUG] name = dtype, field_type = <class 'shared.schema.graph.DType'>\n",
      "[2022-02-12 15:04:06,189][simple_parsing.helpers.serialization.serializable][DEBUG] from_dict for <class 'shared.schema.graph.GraphProperty'>, drop extra fields: True\n",
      "[2022-02-12 15:04:06,192][simple_parsing.helpers.serialization.decoding][DEBUG] name = dtype, field_type = <class 'shared.schema.graph.DType'>\n",
      "[2022-02-12 15:04:06,193][simple_parsing.helpers.serialization.serializable][DEBUG] from_dict for <class 'shared.schema.graph.GraphProperty'>, drop extra fields: True\n",
      "[2022-02-12 15:04:06,194][simple_parsing.helpers.serialization.decoding][DEBUG] name = dtype, field_type = <class 'shared.schema.graph.DType'>\n",
      "[2022-02-12 15:04:06,195][simple_parsing.helpers.serialization.serializable][DEBUG] from_dict for <class 'shared.schema.graph.GraphProperty'>, drop extra fields: True\n",
      "[2022-02-12 15:04:06,195][simple_parsing.helpers.serialization.decoding][DEBUG] name = dtype, field_type = <class 'shared.schema.graph.DType'>\n",
      "[2022-02-12 15:04:06,196][simple_parsing.helpers.serialization.serializable][DEBUG] from_dict for <class 'shared.schema.graph.GraphProperty'>, drop extra fields: True\n",
      "[2022-02-12 15:04:06,197][simple_parsing.helpers.serialization.decoding][DEBUG] name = dtype, field_type = <class 'shared.schema.graph.DType'>\n",
      "[2022-02-12 15:04:06,197][simple_parsing.helpers.serialization.serializable][DEBUG] from_dict for <class 'shared.schema.graph.GraphProperty'>, drop extra fields: True\n",
      "[2022-02-12 15:04:06,198][simple_parsing.helpers.serialization.decoding][DEBUG] name = dtype, field_type = <class 'shared.schema.graph.DType'>\n",
      "[2022-02-12 15:04:06,198][simple_parsing.helpers.serialization.serializable][DEBUG] from_dict for <class 'shared.schema.graph.GraphProperty'>, drop extra fields: True\n",
      "[2022-02-12 15:04:06,199][simple_parsing.helpers.serialization.decoding][DEBUG] name = dtype, field_type = <class 'shared.schema.graph.DType'>\n",
      "[2022-02-12 15:04:06,200][simple_parsing.helpers.serialization.serializable][DEBUG] from_dict for <class 'shared.schema.graph.GraphProperty'>, drop extra fields: True\n",
      "[2022-02-12 15:04:06,200][simple_parsing.helpers.serialization.decoding][DEBUG] name = dtype, field_type = <class 'shared.schema.graph.DType'>\n",
      "[2022-02-12 15:04:06,201][simple_parsing.helpers.serialization.serializable][DEBUG] from_dict for <class 'shared.schema.graph.GraphProperty'>, drop extra fields: True\n",
      "[2022-02-12 15:04:06,202][simple_parsing.helpers.serialization.decoding][DEBUG] name = dtype, field_type = <class 'shared.schema.graph.DType'>\n",
      "[2022-02-12 15:04:06,202][simple_parsing.helpers.serialization.serializable][DEBUG] from_dict for <class 'shared.schema.graph.GraphProperty'>, drop extra fields: True\n",
      "[2022-02-12 15:04:06,203][simple_parsing.helpers.serialization.decoding][DEBUG] name = dtype, field_type = <class 'shared.schema.graph.DType'>\n",
      "[2022-02-12 15:04:06,204][simple_parsing.helpers.serialization.serializable][DEBUG] from_dict for <class 'shared.schema.graph.GraphProperty'>, drop extra fields: True\n",
      "[2022-02-12 15:04:06,204][simple_parsing.helpers.serialization.decoding][DEBUG] name = dtype, field_type = <class 'shared.schema.graph.DType'>\n",
      "[2022-02-12 15:04:06,205][simple_parsing.helpers.serialization.serializable][DEBUG] from_dict for <class 'shared.schema.graph.GraphProperty'>, drop extra fields: True\n",
      "[2022-02-12 15:04:06,206][simple_parsing.helpers.serialization.decoding][DEBUG] name = dtype, field_type = <class 'shared.schema.graph.DType'>\n",
      "[2022-02-12 15:04:06,207][simple_parsing.helpers.serialization.serializable][DEBUG] from_dict for <class 'shared.schema.graph.GraphProperty'>, drop extra fields: True\n",
      "[2022-02-12 15:04:06,207][simple_parsing.helpers.serialization.decoding][DEBUG] name = dtype, field_type = <class 'shared.schema.graph.DType'>\n",
      "[2022-02-12 15:04:06,208][simple_parsing.helpers.serialization.serializable][DEBUG] from_dict for <class 'shared.schema.graph.GraphProperty'>, drop extra fields: True\n",
      "[2022-02-12 15:04:06,214][simple_parsing.helpers.serialization.decoding][DEBUG] name = dtype, field_type = <class 'shared.schema.graph.DType'>\n",
      "[2022-02-12 15:04:06,214][simple_parsing.helpers.serialization.serializable][DEBUG] from_dict for <class 'shared.schema.graph.GraphProperty'>, drop extra fields: True\n",
      "[2022-02-12 15:04:06,215][simple_parsing.helpers.serialization.decoding][DEBUG] name = dtype, field_type = <class 'shared.schema.graph.DType'>\n",
      "[2022-02-12 15:04:06,216][simple_parsing.helpers.serialization.serializable][DEBUG] from_dict for <class 'shared.schema.graph.GraphProperty'>, drop extra fields: True\n",
      "[2022-02-12 15:04:06,216][simple_parsing.helpers.serialization.decoding][DEBUG] name = dtype, field_type = <class 'shared.schema.graph.DType'>\n",
      "[2022-02-12 15:04:06,217][simple_parsing.helpers.serialization.serializable][DEBUG] from_dict for <class 'shared.schema.graph.GraphProperty'>, drop extra fields: True\n",
      "[2022-02-12 15:04:06,218][simple_parsing.helpers.serialization.decoding][DEBUG] name = dtype, field_type = <class 'shared.schema.graph.DType'>\n",
      "[2022-02-12 15:04:06,219][simple_parsing.helpers.serialization.serializable][DEBUG] from_dict for <class 'shared.schema.graph.GraphProperty'>, drop extra fields: True\n",
      "[2022-02-12 15:04:06,219][simple_parsing.helpers.serialization.decoding][DEBUG] name = dtype, field_type = <class 'shared.schema.graph.DType'>\n",
      "[2022-02-12 15:04:06,220][simple_parsing.helpers.serialization.serializable][DEBUG] from_dict for <class 'shared.schema.graph.GraphProperty'>, drop extra fields: True\n",
      "[2022-02-12 15:04:06,221][simple_parsing.helpers.serialization.decoding][DEBUG] name = dtype, field_type = <class 'shared.schema.graph.DType'>\n",
      "[2022-02-12 15:04:06,222][simple_parsing.helpers.serialization.serializable][DEBUG] from_dict for <class 'shared.schema.graph.GraphProperty'>, drop extra fields: True\n",
      "[2022-02-12 15:04:06,222][simple_parsing.helpers.serialization.decoding][DEBUG] name = dtype, field_type = <class 'shared.schema.graph.DType'>\n",
      "[2022-02-12 15:04:06,223][simple_parsing.helpers.serialization.serializable][DEBUG] from_dict for <class 'shared.schema.graph.GraphProperty'>, drop extra fields: True\n",
      "[2022-02-12 15:04:06,223][simple_parsing.helpers.serialization.decoding][DEBUG] name = dtype, field_type = <class 'shared.schema.graph.DType'>\n",
      "[2022-02-12 15:04:06,224][simple_parsing.helpers.serialization.serializable][DEBUG] from_dict for <class 'shared.schema.graph.GraphProperty'>, drop extra fields: True\n",
      "[2022-02-12 15:04:06,225][simple_parsing.helpers.serialization.decoding][DEBUG] name = dtype, field_type = <class 'shared.schema.graph.DType'>\n",
      "[2022-02-12 15:04:06,229][simple_parsing.helpers.serialization.serializable][DEBUG] from_dict for <class 'shared.schema.graph.GraphProperty'>, drop extra fields: True\n",
      "[2022-02-12 15:04:06,229][simple_parsing.helpers.serialization.decoding][DEBUG] name = dtype, field_type = <class 'shared.schema.graph.DType'>\n",
      "[2022-02-12 15:04:06,230][simple_parsing.helpers.serialization.serializable][DEBUG] from_dict for <class 'shared.schema.graph.GraphProperty'>, drop extra fields: True\n",
      "[2022-02-12 15:04:06,230][simple_parsing.helpers.serialization.decoding][DEBUG] name = dtype, field_type = <class 'shared.schema.graph.DType'>\n",
      "[2022-02-12 15:04:06,231][simple_parsing.helpers.serialization.serializable][DEBUG] from_dict for <class 'shared.schema.graph.GraphProperty'>, drop extra fields: True\n",
      "[2022-02-12 15:04:06,231][simple_parsing.helpers.serialization.decoding][DEBUG] name = dtype, field_type = <class 'shared.schema.graph.DType'>\n",
      "[2022-02-12 15:04:06,232][simple_parsing.helpers.serialization.serializable][DEBUG] from_dict for <class 'shared.schema.graph.GraphProperty'>, drop extra fields: True\n",
      "[2022-02-12 15:04:06,232][simple_parsing.helpers.serialization.decoding][DEBUG] name = dtype, field_type = <class 'shared.schema.graph.DType'>\n",
      "[2022-02-12 15:04:06,232][simple_parsing.helpers.serialization.serializable][DEBUG] from_dict for <class 'shared.schema.graph.GraphProperty'>, drop extra fields: True\n",
      "[2022-02-12 15:04:06,233][simple_parsing.helpers.serialization.decoding][DEBUG] name = dtype, field_type = <class 'shared.schema.graph.DType'>\n",
      "[2022-02-12 15:04:06,233][simple_parsing.helpers.serialization.serializable][DEBUG] from_dict for <class 'shared.schema.graph.GraphProperty'>, drop extra fields: True\n",
      "[2022-02-12 15:04:06,233][simple_parsing.helpers.serialization.decoding][DEBUG] name = dtype, field_type = <class 'shared.schema.graph.DType'>\n",
      "[2022-02-12 15:04:06,234][simple_parsing.helpers.serialization.serializable][DEBUG] from_dict for <class 'shared.schema.graph.GraphProperty'>, drop extra fields: True\n",
      "[2022-02-12 15:04:06,234][simple_parsing.helpers.serialization.decoding][DEBUG] name = dtype, field_type = <class 'shared.schema.graph.DType'>\n",
      "[2022-02-12 15:04:06,235][simple_parsing.helpers.serialization.serializable][DEBUG] from_dict for <class 'shared.schema.graph.GraphProperty'>, drop extra fields: True\n",
      "[2022-02-12 15:04:06,235][simple_parsing.helpers.serialization.decoding][DEBUG] name = dtype, field_type = <class 'shared.schema.graph.DType'>\n",
      "[2022-02-12 15:04:06,236][simple_parsing.helpers.serialization.serializable][DEBUG] from_dict for <class 'shared.schema.graph.GraphProperty'>, drop extra fields: True\n",
      "[2022-02-12 15:04:06,236][simple_parsing.helpers.serialization.decoding][DEBUG] name = dtype, field_type = <class 'shared.schema.graph.DType'>\n",
      "[2022-02-12 15:04:06,237][simple_parsing.helpers.serialization.serializable][DEBUG] from_dict for <class 'shared.schema.graph.GraphProperty'>, drop extra fields: True\n",
      "[2022-02-12 15:04:06,237][simple_parsing.helpers.serialization.decoding][DEBUG] name = dtype, field_type = <class 'shared.schema.graph.DType'>\n",
      "[2022-02-12 15:04:06,237][simple_parsing.helpers.serialization.serializable][DEBUG] from_dict for <class 'shared.schema.graph.GraphProperty'>, drop extra fields: True\n",
      "[2022-02-12 15:04:06,238][simple_parsing.helpers.serialization.decoding][DEBUG] name = dtype, field_type = <class 'shared.schema.graph.DType'>\n",
      "[2022-02-12 15:04:06,238][simple_parsing.helpers.serialization.serializable][DEBUG] from_dict for <class 'shared.schema.graph.GraphProperty'>, drop extra fields: True\n",
      "[2022-02-12 15:04:06,241][simple_parsing.helpers.serialization.decoding][DEBUG] name = dtype, field_type = <class 'shared.schema.graph.DType'>\n",
      "[2022-02-12 15:04:06,242][simple_parsing.helpers.serialization.serializable][DEBUG] from_dict for <class 'shared.schema.graph.GraphProperty'>, drop extra fields: True\n",
      "[2022-02-12 15:04:06,243][simple_parsing.helpers.serialization.decoding][DEBUG] name = dtype, field_type = <class 'shared.schema.graph.DType'>\n",
      "[2022-02-12 15:04:06,243][simple_parsing.helpers.serialization.serializable][DEBUG] from_dict for <class 'shared.schema.graph.GraphProperty'>, drop extra fields: True\n",
      "[2022-02-12 15:04:06,244][simple_parsing.helpers.serialization.decoding][DEBUG] name = dtype, field_type = <class 'shared.schema.graph.DType'>\n",
      "[2022-02-12 15:04:06,244][simple_parsing.helpers.serialization.serializable][DEBUG] from_dict for <class 'shared.schema.graph.GraphProperty'>, drop extra fields: True\n",
      "[2022-02-12 15:04:06,245][simple_parsing.helpers.serialization.decoding][DEBUG] name = dtype, field_type = <class 'shared.schema.graph.DType'>\n",
      "[2022-02-12 15:04:06,245][simple_parsing.helpers.serialization.serializable][DEBUG] from_dict for <class 'shared.schema.graph.GraphProperty'>, drop extra fields: True\n",
      "[2022-02-12 15:04:06,246][simple_parsing.helpers.serialization.decoding][DEBUG] name = dtype, field_type = <class 'shared.schema.graph.DType'>\n",
      "[2022-02-12 15:04:06,246][simple_parsing.helpers.serialization.serializable][DEBUG] from_dict for <class 'shared.schema.graph.GraphProperty'>, drop extra fields: True\n",
      "[2022-02-12 15:04:06,246][simple_parsing.helpers.serialization.decoding][DEBUG] name = dtype, field_type = <class 'shared.schema.graph.DType'>\n",
      "[2022-02-12 15:04:06,247][simple_parsing.helpers.serialization.serializable][DEBUG] from_dict for <class 'shared.schema.graph.GraphProperty'>, drop extra fields: True\n",
      "[2022-02-12 15:04:06,247][simple_parsing.helpers.serialization.decoding][DEBUG] name = dtype, field_type = <class 'shared.schema.graph.DType'>\n",
      "[2022-02-12 15:04:06,248][simple_parsing.helpers.serialization.serializable][DEBUG] from_dict for <class 'shared.schema.graph.GraphProperty'>, drop extra fields: True\n",
      "[2022-02-12 15:04:06,248][simple_parsing.helpers.serialization.decoding][DEBUG] name = dtype, field_type = <class 'shared.schema.graph.DType'>\n",
      "[2022-02-12 15:04:06,249][simple_parsing.helpers.serialization.serializable][DEBUG] from_dict for <class 'shared.schema.graph.GraphProperty'>, drop extra fields: True\n",
      "[2022-02-12 15:04:06,249][simple_parsing.helpers.serialization.decoding][DEBUG] name = dtype, field_type = <class 'shared.schema.graph.DType'>\n",
      "[2022-02-12 15:04:06,250][simple_parsing.helpers.serialization.serializable][DEBUG] from_dict for <class 'shared.schema.graph.GraphProperty'>, drop extra fields: True\n",
      "[2022-02-12 15:04:06,250][simple_parsing.helpers.serialization.decoding][DEBUG] name = dtype, field_type = <class 'shared.schema.graph.DType'>\n",
      "[2022-02-12 15:04:06,250][simple_parsing.helpers.serialization.serializable][DEBUG] from_dict for <class 'shared.schema.graph.GraphProperty'>, drop extra fields: True\n",
      "[2022-02-12 15:04:06,251][simple_parsing.helpers.serialization.decoding][DEBUG] name = dtype, field_type = <class 'shared.schema.graph.DType'>\n",
      "[2022-02-12 15:04:06,251][simple_parsing.helpers.serialization.serializable][DEBUG] from_dict for <class 'shared.schema.graph.GraphProperty'>, drop extra fields: True\n",
      "[2022-02-12 15:04:06,252][simple_parsing.helpers.serialization.decoding][DEBUG] name = dtype, field_type = <class 'shared.schema.graph.DType'>\n",
      "[2022-02-12 15:04:06,252][simple_parsing.helpers.serialization.serializable][DEBUG] from_dict for <class 'shared.schema.graph.GraphProperty'>, drop extra fields: True\n",
      "[2022-02-12 15:04:06,252][simple_parsing.helpers.serialization.decoding][DEBUG] name = dtype, field_type = <class 'shared.schema.graph.DType'>\n",
      "[2022-02-12 15:04:06,253][simple_parsing.helpers.serialization.serializable][DEBUG] from_dict for <class 'shared.schema.graph.GraphProperty'>, drop extra fields: True\n",
      "[2022-02-12 15:04:06,253][simple_parsing.helpers.serialization.decoding][DEBUG] name = dtype, field_type = <class 'shared.schema.graph.DType'>\n",
      "[2022-02-12 15:04:06,254][simple_parsing.helpers.serialization.serializable][DEBUG] from_dict for <class 'shared.schema.graph.GraphProperty'>, drop extra fields: True\n",
      "[2022-02-12 15:04:06,254][simple_parsing.helpers.serialization.decoding][DEBUG] name = dtype, field_type = <class 'shared.schema.graph.DType'>\n",
      "[2022-02-12 15:04:06,254][simple_parsing.helpers.serialization.serializable][DEBUG] from_dict for <class 'shared.schema.graph.GraphProperty'>, drop extra fields: True\n",
      "[2022-02-12 15:04:06,255][simple_parsing.helpers.serialization.decoding][DEBUG] name = dtype, field_type = <class 'shared.schema.graph.DType'>\n",
      "[2022-02-12 15:04:06,255][simple_parsing.helpers.serialization.serializable][DEBUG] from_dict for <class 'shared.schema.graph.GraphProperty'>, drop extra fields: True\n",
      "[2022-02-12 15:04:06,255][simple_parsing.helpers.serialization.decoding][DEBUG] name = dtype, field_type = <class 'shared.schema.graph.DType'>\n",
      "[2022-02-12 15:04:06,256][simple_parsing.helpers.serialization.serializable][DEBUG] from_dict for <class 'shared.schema.graph.GraphProperty'>, drop extra fields: True\n",
      "[2022-02-12 15:04:06,256][simple_parsing.helpers.serialization.decoding][DEBUG] name = dtype, field_type = <class 'shared.schema.graph.DType'>\n",
      "[2022-02-12 15:04:06,257][simple_parsing.helpers.serialization.serializable][DEBUG] from_dict for <class 'shared.schema.graph.GraphProperty'>, drop extra fields: True\n",
      "[2022-02-12 15:04:06,257][simple_parsing.helpers.serialization.decoding][DEBUG] name = dtype, field_type = <class 'shared.schema.graph.DType'>\n",
      "[2022-02-12 15:04:06,257][simple_parsing.helpers.serialization.decoding][DEBUG] name = edges, field_type = typing.Dict[str, shared.schema.graph.EdgeSchema]\n",
      "[2022-02-12 15:04:06,258][simple_parsing.helpers.serialization.serializable][DEBUG] from_dict for <class 'shared.schema.graph.EdgeSchema'>, drop extra fields: True\n",
      "[2022-02-12 15:04:06,258][simple_parsing.helpers.serialization.decoding][DEBUG] name = properties, field_type = typing.Dict[str, shared.schema.graph.GraphProperty]\n",
      "[2022-02-12 15:04:06,259][simple_parsing.helpers.serialization.serializable][DEBUG] from_dict for <class 'shared.schema.graph.GraphProperty'>, drop extra fields: True\n",
      "[2022-02-12 15:04:06,263][simple_parsing.helpers.serialization.decoding][DEBUG] name = dtype, field_type = <class 'shared.schema.graph.DType'>\n",
      "[2022-02-12 15:04:06,264][simple_parsing.helpers.serialization.serializable][DEBUG] from_dict for <class 'shared.schema.graph.GraphProperty'>, drop extra fields: True\n",
      "[2022-02-12 15:04:06,265][simple_parsing.helpers.serialization.decoding][DEBUG] name = dtype, field_type = <class 'shared.schema.graph.DType'>\n",
      "[2022-02-12 15:04:06,267][simple_parsing.helpers.serialization.serializable][DEBUG] from_dict for <class 'shared.schema.graph.GraphProperty'>, drop extra fields: True\n",
      "[2022-02-12 15:04:06,268][simple_parsing.helpers.serialization.decoding][DEBUG] name = dtype, field_type = <class 'shared.schema.graph.DType'>\n",
      "[2022-02-12 15:04:06,269][simple_parsing.helpers.serialization.serializable][DEBUG] from_dict for <class 'shared.schema.graph.GraphProperty'>, drop extra fields: True\n",
      "[2022-02-12 15:04:06,269][simple_parsing.helpers.serialization.decoding][DEBUG] name = dtype, field_type = <class 'shared.schema.graph.DType'>\n",
      "[2022-02-12 15:04:06,270][simple_parsing.helpers.serialization.decoding][DEBUG] name = dynamic, field_type = typing.Optional[shared.schema.graph.DynamicConfig]\n",
      "[2022-02-12 15:04:06,271][simple_parsing.helpers.serialization.serializable][DEBUG] from_dict for <class 'shared.schema.graph.DynamicConfig'>, drop extra fields: True\n",
      "[2022-02-12 15:04:06,271][simple_parsing.helpers.serialization.decoding][DEBUG] name = timestamp, field_type = <class 'str'>\n",
      "[2022-02-12 15:04:06,272][simple_parsing.helpers.serialization.decoding][DEBUG] name = interaction, field_type = <class 'bool'>\n",
      "[2022-02-12 15:04:06,273][simple_parsing.helpers.serialization.decoding][DEBUG] name = source_type, field_type = <class 'str'>\n",
      "[2022-02-12 15:04:06,273][simple_parsing.helpers.serialization.decoding][DEBUG] name = target_type, field_type = <class 'str'>\n",
      "[2022-02-12 15:04:06,274][simple_parsing.helpers.serialization.decoding][DEBUG] name = directed, field_type = <class 'bool'>\n",
      "[2022-02-12 15:04:06,275][simple_parsing.helpers.serialization.serializable][DEBUG] from_dict for <class 'shared.schema.graph.EdgeSchema'>, drop extra fields: True\n",
      "[2022-02-12 15:04:06,275][simple_parsing.helpers.serialization.decoding][DEBUG] name = properties, field_type = typing.Dict[str, shared.schema.graph.GraphProperty]\n",
      "[2022-02-12 15:04:06,276][simple_parsing.helpers.serialization.serializable][DEBUG] from_dict for <class 'shared.schema.graph.GraphProperty'>, drop extra fields: True\n",
      "[2022-02-12 15:04:06,277][simple_parsing.helpers.serialization.decoding][DEBUG] name = dtype, field_type = <class 'shared.schema.graph.DType'>\n",
      "[2022-02-12 15:04:06,278][simple_parsing.helpers.serialization.serializable][DEBUG] from_dict for <class 'shared.schema.graph.GraphProperty'>, drop extra fields: True\n",
      "[2022-02-12 15:04:06,278][simple_parsing.helpers.serialization.decoding][DEBUG] name = dtype, field_type = <class 'shared.schema.graph.DType'>\n",
      "[2022-02-12 15:04:06,279][simple_parsing.helpers.serialization.serializable][DEBUG] from_dict for <class 'shared.schema.graph.GraphProperty'>, drop extra fields: True\n",
      "[2022-02-12 15:04:06,280][simple_parsing.helpers.serialization.decoding][DEBUG] name = dtype, field_type = <class 'shared.schema.graph.DType'>\n",
      "[2022-02-12 15:04:06,281][simple_parsing.helpers.serialization.serializable][DEBUG] from_dict for <class 'shared.schema.graph.GraphProperty'>, drop extra fields: True\n",
      "[2022-02-12 15:04:06,281][simple_parsing.helpers.serialization.decoding][DEBUG] name = dtype, field_type = <class 'shared.schema.graph.DType'>\n",
      "[2022-02-12 15:04:06,282][simple_parsing.helpers.serialization.decoding][DEBUG] name = dynamic, field_type = typing.Optional[shared.schema.graph.DynamicConfig]\n",
      "[2022-02-12 15:04:06,283][simple_parsing.helpers.serialization.serializable][DEBUG] from_dict for <class 'shared.schema.graph.DynamicConfig'>, drop extra fields: True\n",
      "[2022-02-12 15:04:06,283][simple_parsing.helpers.serialization.decoding][DEBUG] name = timestamp, field_type = <class 'str'>\n",
      "[2022-02-12 15:04:06,284][simple_parsing.helpers.serialization.decoding][DEBUG] name = interaction, field_type = <class 'bool'>\n",
      "[2022-02-12 15:04:06,285][simple_parsing.helpers.serialization.decoding][DEBUG] name = source_type, field_type = <class 'str'>\n",
      "[2022-02-12 15:04:06,286][simple_parsing.helpers.serialization.decoding][DEBUG] name = target_type, field_type = <class 'str'>\n",
      "[2022-02-12 15:04:06,287][simple_parsing.helpers.serialization.decoding][DEBUG] name = directed, field_type = <class 'bool'>\n",
      "[2022-02-12 15:04:06,373][export_to_visualization.py][INFO] Adding prediction /data/pella/projects/University/Thesis/Thesis/code/storage/results/analysis/pyg-hgt-comopt-contrastive/schema.comlist as prediction_0\n",
      "[2022-02-12 15:04:06,377][export_to_visualization.py][INFO] Writing /data/pella/projects/University/Thesis/Thesis/code/storage/datasets/export/star-wars/versions/base/schema.graphml\n"
     ]
    }
   ],
   "source": [
    "from datasets.scripts import export_to_visualization\n",
    "\n",
    "export_to_visualization.run(\n",
    "    export_to_visualization.Args(\n",
    "        dataset='star-wars',\n",
    "        version='base',\n",
    "        run_paths=[str(save_path)]\n",
    "    )\n",
    ")"
   ],
   "metadata": {
    "collapsed": false,
    "pycharm": {
     "name": "#%%\n",
     "is_executing": true
    }
   }
  },
  {
   "cell_type": "markdown",
   "source": [
    "# Calculate Evaluation Metrics"
   ],
   "metadata": {
    "collapsed": false,
    "pycharm": {
     "name": "#%% md\n"
    }
   }
  },
  {
   "cell_type": "code",
   "execution_count": 58,
   "outputs": [],
   "source": [
    "from shared.graph import DataGraph\n",
    "from benchmarks.evaluation import get_metric_list"
   ],
   "metadata": {
    "collapsed": false,
    "pycharm": {
     "name": "#%%\n"
    }
   }
  },
  {
   "cell_type": "code",
   "execution_count": 59,
   "outputs": [
    {
     "name": "stdout",
     "output_type": "stream",
     "text": [
      "ERROR! Session/line number was not unique in database. History logging moved to new session 164\n",
      "[2022-02-12 15:04:06,768][simple_parsing.helpers.serialization.serializable][DEBUG] from_dict for <class 'shared.schema.dataset.DatasetSchema'>, drop extra fields: True\n",
      "[2022-02-12 15:04:06,769][simple_parsing.helpers.serialization.decoding][DEBUG] name = name, field_type = <class 'str'>\n",
      "[2022-02-12 15:04:06,770][simple_parsing.helpers.serialization.decoding][DEBUG] name = database, field_type = <class 'str'>\n",
      "[2022-02-12 15:04:06,770][simple_parsing.helpers.serialization.decoding][DEBUG] name = description, field_type = <class 'str'>\n",
      "[2022-02-12 15:04:06,771][simple_parsing.helpers.serialization.decoding][DEBUG] name = versions, field_type = typing.Dict[str, shared.schema.dataset.DatasetVersion]\n",
      "[2022-02-12 15:04:06,772][simple_parsing.helpers.serialization.serializable][DEBUG] from_dict for <class 'shared.schema.dataset.DatasetVersion'>, drop extra fields: True\n",
      "[2022-02-12 15:04:06,772][simple_parsing.helpers.serialization.decoding][DEBUG] name = type, field_type = <enum 'DatasetVersionType'>\n",
      "[2022-02-12 15:04:06,773][simple_parsing.helpers.serialization.decoding][DEBUG] name = parameters, field_type = typing.Dict[str, typing.Any]\n",
      "[2022-02-12 15:04:06,774][simple_parsing.helpers.serialization.serializable][DEBUG] from_dict for <class 'shared.schema.dataset.DatasetVersion'>, drop extra fields: True\n",
      "[2022-02-12 15:04:06,776][simple_parsing.helpers.serialization.decoding][DEBUG] name = type, field_type = <enum 'DatasetVersionType'>\n",
      "[2022-02-12 15:04:06,777][simple_parsing.helpers.serialization.decoding][DEBUG] name = parameters, field_type = typing.Dict[str, typing.Any]\n",
      "[2022-02-12 15:04:06,777][simple_parsing.helpers.serialization.serializable][DEBUG] from_dict for <class 'shared.schema.dataset.DatasetVersion'>, drop extra fields: True\n",
      "[2022-02-12 15:04:06,778][simple_parsing.helpers.serialization.decoding][DEBUG] name = type, field_type = <enum 'DatasetVersionType'>\n",
      "[2022-02-12 15:04:06,778][simple_parsing.helpers.serialization.decoding][DEBUG] name = parameters, field_type = typing.Dict[str, typing.Any]\n",
      "[2022-02-12 15:04:06,779][simple_parsing.helpers.serialization.decoding][DEBUG] name = tags, field_type = typing.List[str]\n",
      "[2022-02-12 15:04:06,796][simple_parsing.helpers.serialization.serializable][DEBUG] from_dict for <class 'shared.schema.graph.GraphSchema'>, drop extra fields: True\n",
      "[2022-02-12 15:04:06,797][simple_parsing.helpers.serialization.decoding][DEBUG] name = nodes, field_type = typing.Dict[str, shared.schema.graph.NodeSchema]\n",
      "[2022-02-12 15:04:06,798][simple_parsing.helpers.serialization.serializable][DEBUG] from_dict for <class 'shared.schema.graph.NodeSchema'>, drop extra fields: True\n",
      "[2022-02-12 15:04:06,798][simple_parsing.helpers.serialization.decoding][DEBUG] name = label, field_type = <class 'str'>\n",
      "[2022-02-12 15:04:06,799][simple_parsing.helpers.serialization.decoding][DEBUG] name = properties, field_type = typing.Dict[str, shared.schema.graph.GraphProperty]\n",
      "[2022-02-12 15:04:06,800][simple_parsing.helpers.serialization.serializable][DEBUG] from_dict for <class 'shared.schema.graph.GraphProperty'>, drop extra fields: True\n",
      "[2022-02-12 15:04:06,800][simple_parsing.helpers.serialization.decoding][DEBUG] name = dtype, field_type = <class 'shared.schema.graph.DType'>\n",
      "[2022-02-12 15:04:06,801][simple_parsing.helpers.serialization.serializable][DEBUG] from_dict for <class 'shared.schema.graph.GraphProperty'>, drop extra fields: True\n",
      "[2022-02-12 15:04:06,801][simple_parsing.helpers.serialization.decoding][DEBUG] name = dtype, field_type = <class 'shared.schema.graph.DType'>\n",
      "[2022-02-12 15:04:06,802][simple_parsing.helpers.serialization.serializable][DEBUG] from_dict for <class 'shared.schema.graph.GraphProperty'>, drop extra fields: True\n",
      "[2022-02-12 15:04:06,802][simple_parsing.helpers.serialization.decoding][DEBUG] name = dtype, field_type = <class 'shared.schema.graph.DType'>\n",
      "[2022-02-12 15:04:06,803][simple_parsing.helpers.serialization.serializable][DEBUG] from_dict for <class 'shared.schema.graph.GraphProperty'>, drop extra fields: True\n",
      "[2022-02-12 15:04:06,804][simple_parsing.helpers.serialization.decoding][DEBUG] name = dtype, field_type = <class 'shared.schema.graph.DType'>\n",
      "[2022-02-12 15:04:06,804][simple_parsing.helpers.serialization.serializable][DEBUG] from_dict for <class 'shared.schema.graph.GraphProperty'>, drop extra fields: True\n",
      "[2022-02-12 15:04:06,805][simple_parsing.helpers.serialization.decoding][DEBUG] name = dtype, field_type = <class 'shared.schema.graph.DType'>\n",
      "[2022-02-12 15:04:06,805][simple_parsing.helpers.serialization.serializable][DEBUG] from_dict for <class 'shared.schema.graph.GraphProperty'>, drop extra fields: True\n",
      "[2022-02-12 15:04:06,806][simple_parsing.helpers.serialization.decoding][DEBUG] name = dtype, field_type = <class 'shared.schema.graph.DType'>\n",
      "[2022-02-12 15:04:06,806][simple_parsing.helpers.serialization.serializable][DEBUG] from_dict for <class 'shared.schema.graph.GraphProperty'>, drop extra fields: True\n",
      "[2022-02-12 15:04:06,807][simple_parsing.helpers.serialization.decoding][DEBUG] name = dtype, field_type = <class 'shared.schema.graph.DType'>\n",
      "[2022-02-12 15:04:06,808][simple_parsing.helpers.serialization.serializable][DEBUG] from_dict for <class 'shared.schema.graph.GraphProperty'>, drop extra fields: True\n",
      "[2022-02-12 15:04:06,808][simple_parsing.helpers.serialization.decoding][DEBUG] name = dtype, field_type = <class 'shared.schema.graph.DType'>\n",
      "[2022-02-12 15:04:06,809][simple_parsing.helpers.serialization.serializable][DEBUG] from_dict for <class 'shared.schema.graph.GraphProperty'>, drop extra fields: True\n",
      "[2022-02-12 15:04:06,809][simple_parsing.helpers.serialization.decoding][DEBUG] name = dtype, field_type = <class 'shared.schema.graph.DType'>\n",
      "[2022-02-12 15:04:06,810][simple_parsing.helpers.serialization.serializable][DEBUG] from_dict for <class 'shared.schema.graph.GraphProperty'>, drop extra fields: True\n",
      "[2022-02-12 15:04:06,811][simple_parsing.helpers.serialization.decoding][DEBUG] name = dtype, field_type = <class 'shared.schema.graph.DType'>\n",
      "[2022-02-12 15:04:06,812][simple_parsing.helpers.serialization.serializable][DEBUG] from_dict for <class 'shared.schema.graph.GraphProperty'>, drop extra fields: True\n",
      "[2022-02-12 15:04:06,813][simple_parsing.helpers.serialization.decoding][DEBUG] name = dtype, field_type = <class 'shared.schema.graph.DType'>\n",
      "[2022-02-12 15:04:06,813][simple_parsing.helpers.serialization.serializable][DEBUG] from_dict for <class 'shared.schema.graph.GraphProperty'>, drop extra fields: True\n",
      "[2022-02-12 15:04:06,814][simple_parsing.helpers.serialization.decoding][DEBUG] name = dtype, field_type = <class 'shared.schema.graph.DType'>\n",
      "[2022-02-12 15:04:06,814][simple_parsing.helpers.serialization.serializable][DEBUG] from_dict for <class 'shared.schema.graph.GraphProperty'>, drop extra fields: True\n",
      "[2022-02-12 15:04:06,815][simple_parsing.helpers.serialization.decoding][DEBUG] name = dtype, field_type = <class 'shared.schema.graph.DType'>\n",
      "[2022-02-12 15:04:06,821][simple_parsing.helpers.serialization.serializable][DEBUG] from_dict for <class 'shared.schema.graph.GraphProperty'>, drop extra fields: True\n",
      "[2022-02-12 15:04:06,822][simple_parsing.helpers.serialization.decoding][DEBUG] name = dtype, field_type = <class 'shared.schema.graph.DType'>\n",
      "[2022-02-12 15:04:06,823][simple_parsing.helpers.serialization.serializable][DEBUG] from_dict for <class 'shared.schema.graph.GraphProperty'>, drop extra fields: True\n",
      "[2022-02-12 15:04:06,823][simple_parsing.helpers.serialization.decoding][DEBUG] name = dtype, field_type = <class 'shared.schema.graph.DType'>\n",
      "[2022-02-12 15:04:06,824][simple_parsing.helpers.serialization.serializable][DEBUG] from_dict for <class 'shared.schema.graph.GraphProperty'>, drop extra fields: True\n",
      "[2022-02-12 15:04:06,825][simple_parsing.helpers.serialization.decoding][DEBUG] name = dtype, field_type = <class 'shared.schema.graph.DType'>\n",
      "[2022-02-12 15:04:06,827][simple_parsing.helpers.serialization.serializable][DEBUG] from_dict for <class 'shared.schema.graph.GraphProperty'>, drop extra fields: True\n",
      "[2022-02-12 15:04:06,829][simple_parsing.helpers.serialization.decoding][DEBUG] name = dtype, field_type = <class 'shared.schema.graph.DType'>\n",
      "[2022-02-12 15:04:06,829][simple_parsing.helpers.serialization.serializable][DEBUG] from_dict for <class 'shared.schema.graph.GraphProperty'>, drop extra fields: True\n",
      "[2022-02-12 15:04:06,830][simple_parsing.helpers.serialization.decoding][DEBUG] name = dtype, field_type = <class 'shared.schema.graph.DType'>\n",
      "[2022-02-12 15:04:06,831][simple_parsing.helpers.serialization.serializable][DEBUG] from_dict for <class 'shared.schema.graph.GraphProperty'>, drop extra fields: True\n",
      "[2022-02-12 15:04:06,832][simple_parsing.helpers.serialization.decoding][DEBUG] name = dtype, field_type = <class 'shared.schema.graph.DType'>\n",
      "[2022-02-12 15:04:06,833][simple_parsing.helpers.serialization.serializable][DEBUG] from_dict for <class 'shared.schema.graph.GraphProperty'>, drop extra fields: True\n",
      "[2022-02-12 15:04:06,834][simple_parsing.helpers.serialization.decoding][DEBUG] name = dtype, field_type = <class 'shared.schema.graph.DType'>\n",
      "[2022-02-12 15:04:06,834][simple_parsing.helpers.serialization.serializable][DEBUG] from_dict for <class 'shared.schema.graph.GraphProperty'>, drop extra fields: True\n",
      "[2022-02-12 15:04:06,835][simple_parsing.helpers.serialization.decoding][DEBUG] name = dtype, field_type = <class 'shared.schema.graph.DType'>\n",
      "[2022-02-12 15:04:06,836][simple_parsing.helpers.serialization.serializable][DEBUG] from_dict for <class 'shared.schema.graph.GraphProperty'>, drop extra fields: True\n",
      "[2022-02-12 15:04:06,837][simple_parsing.helpers.serialization.decoding][DEBUG] name = dtype, field_type = <class 'shared.schema.graph.DType'>\n",
      "[2022-02-12 15:04:06,838][simple_parsing.helpers.serialization.serializable][DEBUG] from_dict for <class 'shared.schema.graph.GraphProperty'>, drop extra fields: True\n",
      "[2022-02-12 15:04:06,838][simple_parsing.helpers.serialization.decoding][DEBUG] name = dtype, field_type = <class 'shared.schema.graph.DType'>\n",
      "[2022-02-12 15:04:06,839][simple_parsing.helpers.serialization.serializable][DEBUG] from_dict for <class 'shared.schema.graph.GraphProperty'>, drop extra fields: True\n",
      "[2022-02-12 15:04:06,840][simple_parsing.helpers.serialization.decoding][DEBUG] name = dtype, field_type = <class 'shared.schema.graph.DType'>\n",
      "[2022-02-12 15:04:06,840][simple_parsing.helpers.serialization.serializable][DEBUG] from_dict for <class 'shared.schema.graph.GraphProperty'>, drop extra fields: True\n",
      "[2022-02-12 15:04:06,841][simple_parsing.helpers.serialization.decoding][DEBUG] name = dtype, field_type = <class 'shared.schema.graph.DType'>\n",
      "[2022-02-12 15:04:06,842][simple_parsing.helpers.serialization.serializable][DEBUG] from_dict for <class 'shared.schema.graph.GraphProperty'>, drop extra fields: True\n",
      "[2022-02-12 15:04:06,843][simple_parsing.helpers.serialization.decoding][DEBUG] name = dtype, field_type = <class 'shared.schema.graph.DType'>\n",
      "[2022-02-12 15:04:06,844][simple_parsing.helpers.serialization.serializable][DEBUG] from_dict for <class 'shared.schema.graph.GraphProperty'>, drop extra fields: True\n",
      "[2022-02-12 15:04:06,844][simple_parsing.helpers.serialization.decoding][DEBUG] name = dtype, field_type = <class 'shared.schema.graph.DType'>\n",
      "[2022-02-12 15:04:06,845][simple_parsing.helpers.serialization.serializable][DEBUG] from_dict for <class 'shared.schema.graph.GraphProperty'>, drop extra fields: True\n",
      "[2022-02-12 15:04:06,846][simple_parsing.helpers.serialization.decoding][DEBUG] name = dtype, field_type = <class 'shared.schema.graph.DType'>\n",
      "[2022-02-12 15:04:06,846][simple_parsing.helpers.serialization.serializable][DEBUG] from_dict for <class 'shared.schema.graph.GraphProperty'>, drop extra fields: True\n",
      "[2022-02-12 15:04:06,847][simple_parsing.helpers.serialization.decoding][DEBUG] name = dtype, field_type = <class 'shared.schema.graph.DType'>\n",
      "[2022-02-12 15:04:06,848][simple_parsing.helpers.serialization.serializable][DEBUG] from_dict for <class 'shared.schema.graph.GraphProperty'>, drop extra fields: True\n",
      "[2022-02-12 15:04:06,848][simple_parsing.helpers.serialization.decoding][DEBUG] name = dtype, field_type = <class 'shared.schema.graph.DType'>\n",
      "[2022-02-12 15:04:06,849][simple_parsing.helpers.serialization.serializable][DEBUG] from_dict for <class 'shared.schema.graph.GraphProperty'>, drop extra fields: True\n",
      "[2022-02-12 15:04:06,850][simple_parsing.helpers.serialization.decoding][DEBUG] name = dtype, field_type = <class 'shared.schema.graph.DType'>\n",
      "[2022-02-12 15:04:06,850][simple_parsing.helpers.serialization.serializable][DEBUG] from_dict for <class 'shared.schema.graph.GraphProperty'>, drop extra fields: True\n",
      "[2022-02-12 15:04:06,851][simple_parsing.helpers.serialization.decoding][DEBUG] name = dtype, field_type = <class 'shared.schema.graph.DType'>\n",
      "[2022-02-12 15:04:06,851][simple_parsing.helpers.serialization.serializable][DEBUG] from_dict for <class 'shared.schema.graph.GraphProperty'>, drop extra fields: True\n",
      "[2022-02-12 15:04:06,852][simple_parsing.helpers.serialization.decoding][DEBUG] name = dtype, field_type = <class 'shared.schema.graph.DType'>\n",
      "[2022-02-12 15:04:06,853][simple_parsing.helpers.serialization.serializable][DEBUG] from_dict for <class 'shared.schema.graph.GraphProperty'>, drop extra fields: True\n",
      "[2022-02-12 15:04:06,853][simple_parsing.helpers.serialization.decoding][DEBUG] name = dtype, field_type = <class 'shared.schema.graph.DType'>\n",
      "[2022-02-12 15:04:06,854][simple_parsing.helpers.serialization.serializable][DEBUG] from_dict for <class 'shared.schema.graph.GraphProperty'>, drop extra fields: True\n",
      "[2022-02-12 15:04:06,855][simple_parsing.helpers.serialization.decoding][DEBUG] name = dtype, field_type = <class 'shared.schema.graph.DType'>\n",
      "[2022-02-12 15:04:06,855][simple_parsing.helpers.serialization.serializable][DEBUG] from_dict for <class 'shared.schema.graph.GraphProperty'>, drop extra fields: True\n",
      "[2022-02-12 15:04:06,856][simple_parsing.helpers.serialization.decoding][DEBUG] name = dtype, field_type = <class 'shared.schema.graph.DType'>\n",
      "[2022-02-12 15:04:06,857][simple_parsing.helpers.serialization.serializable][DEBUG] from_dict for <class 'shared.schema.graph.GraphProperty'>, drop extra fields: True\n",
      "[2022-02-12 15:04:06,857][simple_parsing.helpers.serialization.decoding][DEBUG] name = dtype, field_type = <class 'shared.schema.graph.DType'>\n",
      "[2022-02-12 15:04:06,858][simple_parsing.helpers.serialization.serializable][DEBUG] from_dict for <class 'shared.schema.graph.GraphProperty'>, drop extra fields: True\n",
      "[2022-02-12 15:04:06,861][simple_parsing.helpers.serialization.decoding][DEBUG] name = dtype, field_type = <class 'shared.schema.graph.DType'>\n",
      "[2022-02-12 15:04:06,863][simple_parsing.helpers.serialization.serializable][DEBUG] from_dict for <class 'shared.schema.graph.GraphProperty'>, drop extra fields: True\n",
      "[2022-02-12 15:04:06,870][simple_parsing.helpers.serialization.decoding][DEBUG] name = dtype, field_type = <class 'shared.schema.graph.DType'>\n",
      "[2022-02-12 15:04:06,870][simple_parsing.helpers.serialization.serializable][DEBUG] from_dict for <class 'shared.schema.graph.GraphProperty'>, drop extra fields: True\n",
      "[2022-02-12 15:04:06,871][simple_parsing.helpers.serialization.decoding][DEBUG] name = dtype, field_type = <class 'shared.schema.graph.DType'>\n",
      "[2022-02-12 15:04:06,872][simple_parsing.helpers.serialization.serializable][DEBUG] from_dict for <class 'shared.schema.graph.GraphProperty'>, drop extra fields: True\n",
      "[2022-02-12 15:04:06,872][simple_parsing.helpers.serialization.decoding][DEBUG] name = dtype, field_type = <class 'shared.schema.graph.DType'>\n",
      "[2022-02-12 15:04:06,873][simple_parsing.helpers.serialization.serializable][DEBUG] from_dict for <class 'shared.schema.graph.GraphProperty'>, drop extra fields: True\n",
      "[2022-02-12 15:04:06,873][simple_parsing.helpers.serialization.decoding][DEBUG] name = dtype, field_type = <class 'shared.schema.graph.DType'>\n",
      "[2022-02-12 15:04:06,873][simple_parsing.helpers.serialization.serializable][DEBUG] from_dict for <class 'shared.schema.graph.GraphProperty'>, drop extra fields: True\n",
      "[2022-02-12 15:04:06,874][simple_parsing.helpers.serialization.decoding][DEBUG] name = dtype, field_type = <class 'shared.schema.graph.DType'>\n",
      "[2022-02-12 15:04:06,874][simple_parsing.helpers.serialization.serializable][DEBUG] from_dict for <class 'shared.schema.graph.GraphProperty'>, drop extra fields: True\n",
      "[2022-02-12 15:04:06,875][simple_parsing.helpers.serialization.decoding][DEBUG] name = dtype, field_type = <class 'shared.schema.graph.DType'>\n",
      "[2022-02-12 15:04:06,875][simple_parsing.helpers.serialization.serializable][DEBUG] from_dict for <class 'shared.schema.graph.GraphProperty'>, drop extra fields: True\n",
      "[2022-02-12 15:04:06,875][simple_parsing.helpers.serialization.decoding][DEBUG] name = dtype, field_type = <class 'shared.schema.graph.DType'>\n",
      "[2022-02-12 15:04:06,876][simple_parsing.helpers.serialization.serializable][DEBUG] from_dict for <class 'shared.schema.graph.GraphProperty'>, drop extra fields: True\n",
      "[2022-02-12 15:04:06,876][simple_parsing.helpers.serialization.decoding][DEBUG] name = dtype, field_type = <class 'shared.schema.graph.DType'>\n",
      "[2022-02-12 15:04:06,876][simple_parsing.helpers.serialization.serializable][DEBUG] from_dict for <class 'shared.schema.graph.GraphProperty'>, drop extra fields: True\n",
      "[2022-02-12 15:04:06,877][simple_parsing.helpers.serialization.decoding][DEBUG] name = dtype, field_type = <class 'shared.schema.graph.DType'>\n",
      "[2022-02-12 15:04:06,879][simple_parsing.helpers.serialization.serializable][DEBUG] from_dict for <class 'shared.schema.graph.GraphProperty'>, drop extra fields: True\n",
      "[2022-02-12 15:04:06,880][simple_parsing.helpers.serialization.decoding][DEBUG] name = dtype, field_type = <class 'shared.schema.graph.DType'>\n",
      "[2022-02-12 15:04:06,880][simple_parsing.helpers.serialization.serializable][DEBUG] from_dict for <class 'shared.schema.graph.GraphProperty'>, drop extra fields: True\n",
      "[2022-02-12 15:04:06,880][simple_parsing.helpers.serialization.decoding][DEBUG] name = dtype, field_type = <class 'shared.schema.graph.DType'>\n",
      "[2022-02-12 15:04:06,881][simple_parsing.helpers.serialization.serializable][DEBUG] from_dict for <class 'shared.schema.graph.GraphProperty'>, drop extra fields: True\n",
      "[2022-02-12 15:04:06,881][simple_parsing.helpers.serialization.decoding][DEBUG] name = dtype, field_type = <class 'shared.schema.graph.DType'>\n",
      "[2022-02-12 15:04:06,881][simple_parsing.helpers.serialization.serializable][DEBUG] from_dict for <class 'shared.schema.graph.GraphProperty'>, drop extra fields: True\n",
      "[2022-02-12 15:04:06,882][simple_parsing.helpers.serialization.decoding][DEBUG] name = dtype, field_type = <class 'shared.schema.graph.DType'>\n",
      "[2022-02-12 15:04:06,882][simple_parsing.helpers.serialization.serializable][DEBUG] from_dict for <class 'shared.schema.graph.GraphProperty'>, drop extra fields: True\n",
      "[2022-02-12 15:04:06,882][simple_parsing.helpers.serialization.decoding][DEBUG] name = dtype, field_type = <class 'shared.schema.graph.DType'>\n",
      "[2022-02-12 15:04:06,883][simple_parsing.helpers.serialization.decoding][DEBUG] name = edges, field_type = typing.Dict[str, shared.schema.graph.EdgeSchema]\n",
      "[2022-02-12 15:04:06,883][simple_parsing.helpers.serialization.serializable][DEBUG] from_dict for <class 'shared.schema.graph.EdgeSchema'>, drop extra fields: True\n",
      "[2022-02-12 15:04:06,883][simple_parsing.helpers.serialization.decoding][DEBUG] name = properties, field_type = typing.Dict[str, shared.schema.graph.GraphProperty]\n",
      "[2022-02-12 15:04:06,884][simple_parsing.helpers.serialization.serializable][DEBUG] from_dict for <class 'shared.schema.graph.GraphProperty'>, drop extra fields: True\n",
      "[2022-02-12 15:04:06,884][simple_parsing.helpers.serialization.decoding][DEBUG] name = dtype, field_type = <class 'shared.schema.graph.DType'>\n",
      "[2022-02-12 15:04:06,885][simple_parsing.helpers.serialization.serializable][DEBUG] from_dict for <class 'shared.schema.graph.GraphProperty'>, drop extra fields: True\n",
      "[2022-02-12 15:04:06,886][simple_parsing.helpers.serialization.decoding][DEBUG] name = dtype, field_type = <class 'shared.schema.graph.DType'>\n",
      "[2022-02-12 15:04:06,886][simple_parsing.helpers.serialization.serializable][DEBUG] from_dict for <class 'shared.schema.graph.GraphProperty'>, drop extra fields: True\n",
      "[2022-02-12 15:04:06,887][simple_parsing.helpers.serialization.decoding][DEBUG] name = dtype, field_type = <class 'shared.schema.graph.DType'>\n",
      "[2022-02-12 15:04:06,887][simple_parsing.helpers.serialization.serializable][DEBUG] from_dict for <class 'shared.schema.graph.GraphProperty'>, drop extra fields: True\n",
      "[2022-02-12 15:04:06,888][simple_parsing.helpers.serialization.decoding][DEBUG] name = dtype, field_type = <class 'shared.schema.graph.DType'>\n",
      "[2022-02-12 15:04:06,888][simple_parsing.helpers.serialization.decoding][DEBUG] name = dynamic, field_type = typing.Optional[shared.schema.graph.DynamicConfig]\n",
      "[2022-02-12 15:04:06,889][simple_parsing.helpers.serialization.serializable][DEBUG] from_dict for <class 'shared.schema.graph.DynamicConfig'>, drop extra fields: True\n",
      "[2022-02-12 15:04:06,889][simple_parsing.helpers.serialization.decoding][DEBUG] name = timestamp, field_type = <class 'str'>\n",
      "[2022-02-12 15:04:06,890][simple_parsing.helpers.serialization.decoding][DEBUG] name = interaction, field_type = <class 'bool'>\n",
      "[2022-02-12 15:04:06,890][simple_parsing.helpers.serialization.decoding][DEBUG] name = source_type, field_type = <class 'str'>\n",
      "[2022-02-12 15:04:06,891][simple_parsing.helpers.serialization.decoding][DEBUG] name = target_type, field_type = <class 'str'>\n",
      "[2022-02-12 15:04:06,891][simple_parsing.helpers.serialization.decoding][DEBUG] name = directed, field_type = <class 'bool'>\n",
      "[2022-02-12 15:04:06,894][simple_parsing.helpers.serialization.serializable][DEBUG] from_dict for <class 'shared.schema.graph.EdgeSchema'>, drop extra fields: True\n",
      "[2022-02-12 15:04:06,895][simple_parsing.helpers.serialization.decoding][DEBUG] name = properties, field_type = typing.Dict[str, shared.schema.graph.GraphProperty]\n",
      "[2022-02-12 15:04:06,895][simple_parsing.helpers.serialization.serializable][DEBUG] from_dict for <class 'shared.schema.graph.GraphProperty'>, drop extra fields: True\n",
      "[2022-02-12 15:04:06,895][simple_parsing.helpers.serialization.decoding][DEBUG] name = dtype, field_type = <class 'shared.schema.graph.DType'>\n",
      "[2022-02-12 15:04:06,896][simple_parsing.helpers.serialization.serializable][DEBUG] from_dict for <class 'shared.schema.graph.GraphProperty'>, drop extra fields: True\n",
      "[2022-02-12 15:04:06,896][simple_parsing.helpers.serialization.decoding][DEBUG] name = dtype, field_type = <class 'shared.schema.graph.DType'>\n",
      "[2022-02-12 15:04:06,896][simple_parsing.helpers.serialization.serializable][DEBUG] from_dict for <class 'shared.schema.graph.GraphProperty'>, drop extra fields: True\n",
      "[2022-02-12 15:04:06,897][simple_parsing.helpers.serialization.decoding][DEBUG] name = dtype, field_type = <class 'shared.schema.graph.DType'>\n",
      "[2022-02-12 15:04:06,897][simple_parsing.helpers.serialization.serializable][DEBUG] from_dict for <class 'shared.schema.graph.GraphProperty'>, drop extra fields: True\n",
      "[2022-02-12 15:04:06,897][simple_parsing.helpers.serialization.decoding][DEBUG] name = dtype, field_type = <class 'shared.schema.graph.DType'>\n",
      "[2022-02-12 15:04:06,898][simple_parsing.helpers.serialization.decoding][DEBUG] name = dynamic, field_type = typing.Optional[shared.schema.graph.DynamicConfig]\n",
      "[2022-02-12 15:04:06,898][simple_parsing.helpers.serialization.serializable][DEBUG] from_dict for <class 'shared.schema.graph.DynamicConfig'>, drop extra fields: True\n",
      "[2022-02-12 15:04:06,899][simple_parsing.helpers.serialization.decoding][DEBUG] name = timestamp, field_type = <class 'str'>\n",
      "[2022-02-12 15:04:06,899][simple_parsing.helpers.serialization.decoding][DEBUG] name = interaction, field_type = <class 'bool'>\n",
      "[2022-02-12 15:04:06,899][simple_parsing.helpers.serialization.decoding][DEBUG] name = source_type, field_type = <class 'str'>\n",
      "[2022-02-12 15:04:06,901][simple_parsing.helpers.serialization.decoding][DEBUG] name = target_type, field_type = <class 'str'>\n",
      "[2022-02-12 15:04:06,901][simple_parsing.helpers.serialization.decoding][DEBUG] name = directed, field_type = <class 'bool'>\n"
     ]
    }
   ],
   "source": [
    "from shared.schema import GraphSchema, DatasetSchema\n",
    "\n",
    "DATASET = DatasetSchema.load_schema('star-wars')\n",
    "schema = GraphSchema.from_dataset(DATASET)\n",
    "G = DataGraph.from_schema(schema)"
   ],
   "metadata": {
    "collapsed": false,
    "pycharm": {
     "name": "#%%\n"
    }
   }
  },
  {
   "cell_type": "code",
   "execution_count": 60,
   "outputs": [
    {
     "data": {
      "text/plain": "                  metric     value\n0        community_count       NaN\n1            conductance  0.467894\n2              expansion  4.787290\n3  internal_edge_density  0.331168\n4                avg_odf  9.706644\n5     modularity_overlap  0.028058\n6        link_modularity  0.038189\n7           z_modularity  0.396090\n8             modularity -0.076791",
      "text/html": "<div>\n<style scoped>\n    .dataframe tbody tr th:only-of-type {\n        vertical-align: middle;\n    }\n\n    .dataframe tbody tr th {\n        vertical-align: top;\n    }\n\n    .dataframe thead th {\n        text-align: right;\n    }\n</style>\n<table border=\"1\" class=\"dataframe\">\n  <thead>\n    <tr style=\"text-align: right;\">\n      <th></th>\n      <th>metric</th>\n      <th>value</th>\n    </tr>\n  </thead>\n  <tbody>\n    <tr>\n      <th>0</th>\n      <td>community_count</td>\n      <td>NaN</td>\n    </tr>\n    <tr>\n      <th>1</th>\n      <td>conductance</td>\n      <td>0.467894</td>\n    </tr>\n    <tr>\n      <th>2</th>\n      <td>expansion</td>\n      <td>4.787290</td>\n    </tr>\n    <tr>\n      <th>3</th>\n      <td>internal_edge_density</td>\n      <td>0.331168</td>\n    </tr>\n    <tr>\n      <th>4</th>\n      <td>avg_odf</td>\n      <td>9.706644</td>\n    </tr>\n    <tr>\n      <th>5</th>\n      <td>modularity_overlap</td>\n      <td>0.028058</td>\n    </tr>\n    <tr>\n      <th>6</th>\n      <td>link_modularity</td>\n      <td>0.038189</td>\n    </tr>\n    <tr>\n      <th>7</th>\n      <td>z_modularity</td>\n      <td>0.396090</td>\n    </tr>\n    <tr>\n      <th>8</th>\n      <td>modularity</td>\n      <td>-0.076791</td>\n    </tr>\n  </tbody>\n</table>\n</div>"
     },
     "execution_count": 60,
     "metadata": {},
     "output_type": "execute_result"
    }
   ],
   "source": [
    "metrics = get_metric_list(ground_truth=False, overlapping=False)\n",
    "\n",
    "results = pd.DataFrame([\n",
    "    {\n",
    "        'metric': metric_cls.metric_name(),\n",
    "        'value': metric_cls.calculate(G, comlist)\n",
    "    }\n",
    "    for metric_cls in metrics]\n",
    ")\n",
    "results"
   ],
   "metadata": {
    "collapsed": false,
    "pycharm": {
     "name": "#%%\n"
    }
   }
  },
  {
   "cell_type": "code",
   "execution_count": 49,
   "outputs": [],
   "source": [],
   "metadata": {
    "collapsed": false,
    "pycharm": {
     "name": "#%%\n"
    }
   }
  },
  {
   "cell_type": "code",
   "execution_count": null,
   "outputs": [],
   "source": [],
   "metadata": {
    "collapsed": false,
    "pycharm": {
     "name": "#%%\n"
    }
   }
  }
 ],
 "metadata": {
  "kernelspec": {
   "display_name": "Python 3",
   "language": "python",
   "name": "python3"
  },
  "language_info": {
   "codemirror_mode": {
    "name": "ipython",
    "version": 2
   },
   "file_extension": ".py",
   "mimetype": "text/x-python",
   "name": "python",
   "nbconvert_exporter": "python",
   "pygments_lexer": "ipython2",
   "version": "2.7.6"
  }
 },
 "nbformat": 4,
 "nbformat_minor": 0
}