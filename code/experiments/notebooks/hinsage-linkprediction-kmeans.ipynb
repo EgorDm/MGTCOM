{
 "cells": [
  {
   "cell_type": "code",
   "execution_count": 1,
   "outputs": [],
   "source": [
    "# %load_ext autoreload\n",
    "# %autoreload 2"
   ],
   "metadata": {
    "collapsed": false,
    "pycharm": {
     "name": "#%%\n"
    }
   }
  },
  {
   "cell_type": "code",
   "execution_count": 31,
   "outputs": [],
   "source": [
    "import pandas as pd\n",
    "\n",
    "from stellargraph import StellarGraph\n",
    "from stellargraph.data import UnsupervisedSampler, EdgeSplitter, BiasedRandomWalk\n",
    "from stellargraph.mapper import HinSAGELinkGenerator\n",
    "from stellargraph.layer import HinSAGE, link_classification"
   ],
   "metadata": {
    "collapsed": false,
    "pycharm": {
     "name": "#%%\n"
    }
   }
  },
  {
   "cell_type": "markdown",
   "source": [
    "# Load the data"
   ],
   "metadata": {
    "collapsed": false,
    "pycharm": {
     "name": "#%% md\n"
    }
   }
  },
  {
   "cell_type": "code",
   "execution_count": 3,
   "outputs": [],
   "source": [
    "from shared.schema import DatasetSchema, GraphSchema\n",
    "from shared.graph.loading import pd_from_entity_schema\n"
   ],
   "metadata": {
    "collapsed": false,
    "pycharm": {
     "name": "#%%\n"
    }
   }
  },
  {
   "cell_type": "code",
   "execution_count": 4,
   "outputs": [],
   "source": [
    "DATASET = DatasetSchema.load_schema('star-wars')\n",
    "schema = GraphSchema.from_dataset(DATASET)"
   ],
   "metadata": {
    "collapsed": false,
    "pycharm": {
     "name": "#%%\n"
    }
   }
  },
  {
   "cell_type": "code",
   "execution_count": 110,
   "outputs": [],
   "source": [
    "explicit_label = False\n",
    "explicit_timestamp = True\n",
    "unix_timestamp = True\n",
    "prefix_id = None\n",
    "include_properties = lambda cs: [c for c in cs if c.startswith('feat_') or c == 'name']\n",
    "\n",
    "nodes_dfs = {\n",
    "    label: pd_from_entity_schema(\n",
    "        entity_schema,\n",
    "        explicit_label=explicit_label,\n",
    "        explicit_timestamp=explicit_timestamp,\n",
    "        include_properties=include_properties,\n",
    "        unix_timestamp=unix_timestamp,\n",
    "        prefix_id=prefix_id,\n",
    "    ).set_index('id').drop(columns=['type']).sort_index()\n",
    "    for label, entity_schema in schema.nodes.items()\n",
    "}\n",
    "\n",
    "edges_dfs = {\n",
    "    label: pd_from_entity_schema(\n",
    "        entity_schema,\n",
    "        explicit_label=explicit_label,\n",
    "        explicit_timestamp=explicit_timestamp,\n",
    "        include_properties=include_properties,\n",
    "        unix_timestamp=unix_timestamp,\n",
    "        prefix_id=prefix_id,\n",
    "    ).reset_index().drop(columns=['type']).drop_duplicates(subset=['src', 'dst', 'timestamp'])\n",
    "    for label, entity_schema in schema.edges.items()\n",
    "}\n",
    "\n",
    "cursor = 0\n",
    "for df in edges_dfs.values():\n",
    "    df.index += cursor\n",
    "    cursor += len(df)"
   ],
   "metadata": {
    "collapsed": false,
    "pycharm": {
     "name": "#%%\n"
    }
   }
  },
  {
   "cell_type": "code",
   "execution_count": 112,
   "outputs": [
    {
     "name": "stdout",
     "output_type": "stream",
     "text": [
      "StellarGraph: Undirected multigraph\n",
      " Nodes: 113, Edges: 2078\n",
      "\n",
      " Node types:\n",
      "  Character: [113]\n",
      "    Features: float32 vector, length 32\n",
      "    Edge types: Character-INTERACTIONS->Character, Character-MENTIONS->Character\n",
      "\n",
      " Edge types:\n",
      "    Character-MENTIONS->Character: [1120]\n",
      "        Weights: all 1 (default)\n",
      "        Features: float32 vector, length 2\n",
      "    Character-INTERACTIONS->Character: [958]\n",
      "        Weights: all 1 (default)\n",
      "        Features: float32 vector, length 2\n"
     ]
    }
   ],
   "source": [
    "graph = StellarGraph(\n",
    "    nodes={k: df.drop(columns=['name']) for k, df in nodes_dfs.items()},\n",
    "    edges=edges_dfs,\n",
    "    source_column='src',\n",
    "    target_column='dst',\n",
    ")\n",
    "print(graph.info())"
   ],
   "metadata": {
    "collapsed": false,
    "pycharm": {
     "name": "#%%\n"
    }
   }
  },
  {
   "cell_type": "markdown",
   "source": [
    "# Split dataset"
   ],
   "metadata": {
    "collapsed": false,
    "pycharm": {
     "name": "#%% md\n"
    }
   }
  },
  {
   "cell_type": "code",
   "execution_count": 113,
   "outputs": [],
   "source": [
    "from sklearn.model_selection import train_test_split"
   ],
   "metadata": {
    "collapsed": false,
    "pycharm": {
     "name": "#%%\n"
    }
   }
  },
  {
   "cell_type": "code",
   "execution_count": 114,
   "outputs": [
    {
     "name": "stdout",
     "output_type": "stream",
     "text": [
      "** Sampled 103 positive and 103 negative edges. **\n",
      "StellarGraph: Undirected multigraph\n",
      " Nodes: 113, Edges: 1975\n",
      "\n",
      " Node types:\n",
      "  Character: [113]\n",
      "    Features: float32 vector, length 32\n",
      "    Edge types: Character-INTERACTIONS->Character, Character-MENTIONS->Character\n",
      "\n",
      " Edge types:\n",
      "    Character-MENTIONS->Character: [1069]\n",
      "        Weights: all 1 (default)\n",
      "        Features: none\n",
      "    Character-INTERACTIONS->Character: [906]\n",
      "        Weights: all 1 (default)\n",
      "        Features: none\n"
     ]
    }
   ],
   "source": [
    "edge_splitter_test = EdgeSplitter(graph)\n",
    "graph_sub_test, examples_test, labels_test = edge_splitter_test.train_test_split(\n",
    "    p=0.05, method=\"global\"\n",
    ")\n",
    "\n",
    "print(graph_sub_test.info())"
   ],
   "metadata": {
    "collapsed": false,
    "pycharm": {
     "name": "#%%\n"
    }
   }
  },
  {
   "cell_type": "code",
   "execution_count": 115,
   "outputs": [
    {
     "name": "stdout",
     "output_type": "stream",
     "text": [
      "** Sampled 197 positive and 197 negative edges. **\n",
      "StellarGraph: Undirected multigraph\n",
      " Nodes: 113, Edges: 1778\n",
      "\n",
      " Node types:\n",
      "  Character: [113]\n",
      "    Features: float32 vector, length 32\n",
      "    Edge types: Character-INTERACTIONS->Character, Character-MENTIONS->Character\n",
      "\n",
      " Edge types:\n",
      "    Character-MENTIONS->Character: [964]\n",
      "        Weights: all 1 (default)\n",
      "        Features: none\n",
      "    Character-INTERACTIONS->Character: [814]\n",
      "        Weights: all 1 (default)\n",
      "        Features: none\n"
     ]
    }
   ],
   "source": [
    "train_size = 0.75\n",
    "val_size = 0.25\n",
    "\n",
    "edge_splitter_train = EdgeSplitter(graph_sub_test)\n",
    "graph_train, examples, labels = edge_splitter_train.train_test_split(\n",
    "    p=0.1, method=\"global\"\n",
    ")\n",
    "\n",
    "(\n",
    "    examples_train,\n",
    "    examples_val,\n",
    "    labels_train,\n",
    "    labels_val,\n",
    ") = train_test_split(examples, labels, train_size=train_size, test_size=val_size)\n",
    "\n",
    "print(graph_train.info())"
   ],
   "metadata": {
    "collapsed": false,
    "pycharm": {
     "name": "#%%\n"
    }
   }
  },
  {
   "cell_type": "code",
   "execution_count": 116,
   "outputs": [
    {
     "data": {
      "text/plain": "                Number of Examples  Hidden from Picked from  \\\nSplit                                                         \nTraining Set                   295  Train Graph  Test Graph   \nValidation Set                  99  Train Graph  Test Graph   \nTest set                       206   Test Graph  Full Graph   \n\n                                         Use  \nSplit                                         \nTraining Set       Train the Link Classifier  \nValidation Set  Validate the Link Classifier  \nTest set            Evaluate Link Classifier  ",
      "text/html": "<div>\n<style scoped>\n    .dataframe tbody tr th:only-of-type {\n        vertical-align: middle;\n    }\n\n    .dataframe tbody tr th {\n        vertical-align: top;\n    }\n\n    .dataframe thead th {\n        text-align: right;\n    }\n</style>\n<table border=\"1\" class=\"dataframe\">\n  <thead>\n    <tr style=\"text-align: right;\">\n      <th></th>\n      <th>Number of Examples</th>\n      <th>Hidden from</th>\n      <th>Picked from</th>\n      <th>Use</th>\n    </tr>\n    <tr>\n      <th>Split</th>\n      <th></th>\n      <th></th>\n      <th></th>\n      <th></th>\n    </tr>\n  </thead>\n  <tbody>\n    <tr>\n      <th>Training Set</th>\n      <td>295</td>\n      <td>Train Graph</td>\n      <td>Test Graph</td>\n      <td>Train the Link Classifier</td>\n    </tr>\n    <tr>\n      <th>Validation Set</th>\n      <td>99</td>\n      <td>Train Graph</td>\n      <td>Test Graph</td>\n      <td>Validate the Link Classifier</td>\n    </tr>\n    <tr>\n      <th>Test set</th>\n      <td>206</td>\n      <td>Test Graph</td>\n      <td>Full Graph</td>\n      <td>Evaluate Link Classifier</td>\n    </tr>\n  </tbody>\n</table>\n</div>"
     },
     "execution_count": 116,
     "metadata": {},
     "output_type": "execute_result"
    }
   ],
   "source": [
    "pd.DataFrame(\n",
    "    [\n",
    "        (\n",
    "            \"Training Set\",\n",
    "            len(examples_train),\n",
    "            \"Train Graph\",\n",
    "            \"Test Graph\",\n",
    "            \"Train the Link Classifier\",\n",
    "        ),\n",
    "        (\n",
    "            \"Validation Set\",\n",
    "            len(examples_val),\n",
    "            \"Train Graph\",\n",
    "            \"Test Graph\",\n",
    "            \"Validate the Link Classifier\",\n",
    "        ),\n",
    "        (\n",
    "            \"Test set\",\n",
    "            len(examples_test),\n",
    "            \"Test Graph\",\n",
    "            \"Full Graph\",\n",
    "            \"Evaluate Link Classifier\",\n",
    "        ),\n",
    "    ],\n",
    "    columns=(\"Split\", \"Number of Examples\", \"Hidden from\", \"Picked from\", \"Use\"),\n",
    ").set_index(\"Split\")\n"
   ],
   "metadata": {
    "collapsed": false,
    "pycharm": {
     "name": "#%%\n"
    }
   }
  },
  {
   "cell_type": "markdown",
   "source": [
    "# Train HinSage"
   ],
   "metadata": {
    "collapsed": false,
    "pycharm": {
     "name": "#%% md\n"
    }
   }
  },
  {
   "cell_type": "code",
   "execution_count": 117,
   "outputs": [],
   "source": [
    "from tensorflow import keras"
   ],
   "metadata": {
    "collapsed": false,
    "pycharm": {
     "name": "#%%\n"
    }
   }
  },
  {
   "cell_type": "code",
   "execution_count": 124,
   "outputs": [],
   "source": [
    "batch_size = 30\n",
    "epochs = 60\n",
    "dimensions = [128, 128]\n",
    "num_samples = [10, 5]\n",
    "walk_length = 5\n",
    "walk_number = 1"
   ],
   "metadata": {
    "collapsed": false,
    "pycharm": {
     "name": "#%%\n"
    }
   }
  },
  {
   "cell_type": "code",
   "execution_count": 125,
   "outputs": [],
   "source": [
    "unsupervised_samples = UnsupervisedSampler(\n",
    "    graph_train, nodes=list(graph_train.nodes()),\n",
    "    walker=BiasedRandomWalk(graph_train, n=walk_number, length=walk_length, p=1, q=1)\n",
    ")\n",
    "\n",
    "generator = HinSAGELinkGenerator(\n",
    "    graph_train, batch_size, num_samples, head_node_types=[\"Character\", \"Character\"]\n",
    ")"
   ],
   "metadata": {
    "collapsed": false,
    "pycharm": {
     "name": "#%%\n"
    }
   }
  },
  {
   "cell_type": "code",
   "execution_count": 126,
   "outputs": [
    {
     "name": "stdout",
     "output_type": "stream",
     "text": [
      "link_classification: using 'ip' method to combine node embeddings into edge embeddings\n"
     ]
    }
   ],
   "source": [
    "hinsage_layer_sizes = [32, 32]\n",
    "assert len(hinsage_layer_sizes) == len(num_samples)\n",
    "\n",
    "hinsage = HinSAGE(\n",
    "    layer_sizes=hinsage_layer_sizes, generator=generator, bias=True, dropout=0.0\n",
    ")\n",
    "\n",
    "x_inp, x_out = hinsage.in_out_tensors()\n",
    "prediction = link_classification(\n",
    "    output_dim=1, output_act=\"sigmoid\", edge_embedding_method=\"ip\"\n",
    ")(x_out)"
   ],
   "metadata": {
    "collapsed": false,
    "pycharm": {
     "name": "#%%\n"
    }
   }
  },
  {
   "cell_type": "code",
   "execution_count": 127,
   "outputs": [],
   "source": [
    "model = keras.Model(inputs=x_inp, outputs=prediction)\n",
    "model.compile(\n",
    "    optimizer=keras.optimizers.Adam(learning_rate=1e-4),\n",
    "    loss=keras.losses.binary_crossentropy,\n",
    "    metrics=[keras.metrics.binary_accuracy],\n",
    ")"
   ],
   "metadata": {
    "collapsed": false,
    "pycharm": {
     "name": "#%%\n"
    }
   }
  },
  {
   "cell_type": "code",
   "execution_count": 128,
   "outputs": [
    {
     "name": "stdout",
     "output_type": "stream",
     "text": [
      "Model: \"model_13\"\n",
      "__________________________________________________________________________________________________\n",
      "Layer (type)                    Output Shape         Param #     Connected to                     \n",
      "==================================================================================================\n",
      "input_101 (InputLayer)          [(None, 10, 32)]     0                                            \n",
      "__________________________________________________________________________________________________\n",
      "input_102 (InputLayer)          [(None, 10, 32)]     0                                            \n",
      "__________________________________________________________________________________________________\n",
      "input_105 (InputLayer)          [(None, 50, 32)]     0                                            \n",
      "__________________________________________________________________________________________________\n",
      "input_106 (InputLayer)          [(None, 50, 32)]     0                                            \n",
      "__________________________________________________________________________________________________\n",
      "input_107 (InputLayer)          [(None, 50, 32)]     0                                            \n",
      "__________________________________________________________________________________________________\n",
      "input_108 (InputLayer)          [(None, 50, 32)]     0                                            \n",
      "__________________________________________________________________________________________________\n",
      "input_103 (InputLayer)          [(None, 10, 32)]     0                                            \n",
      "__________________________________________________________________________________________________\n",
      "input_104 (InputLayer)          [(None, 10, 32)]     0                                            \n",
      "__________________________________________________________________________________________________\n",
      "input_109 (InputLayer)          [(None, 50, 32)]     0                                            \n",
      "__________________________________________________________________________________________________\n",
      "input_110 (InputLayer)          [(None, 50, 32)]     0                                            \n",
      "__________________________________________________________________________________________________\n",
      "input_111 (InputLayer)          [(None, 50, 32)]     0                                            \n",
      "__________________________________________________________________________________________________\n",
      "input_112 (InputLayer)          [(None, 50, 32)]     0                                            \n",
      "__________________________________________________________________________________________________\n",
      "input_99 (InputLayer)           [(None, 1, 32)]      0                                            \n",
      "__________________________________________________________________________________________________\n",
      "reshape_133 (Reshape)           (None, 1, 10, 32)    0           input_101[0][0]                  \n",
      "__________________________________________________________________________________________________\n",
      "reshape_134 (Reshape)           (None, 1, 10, 32)    0           input_102[0][0]                  \n",
      "__________________________________________________________________________________________________\n",
      "reshape_137 (Reshape)           (None, 10, 5, 32)    0           input_105[0][0]                  \n",
      "__________________________________________________________________________________________________\n",
      "reshape_138 (Reshape)           (None, 10, 5, 32)    0           input_106[0][0]                  \n",
      "__________________________________________________________________________________________________\n",
      "reshape_139 (Reshape)           (None, 10, 5, 32)    0           input_107[0][0]                  \n",
      "__________________________________________________________________________________________________\n",
      "reshape_140 (Reshape)           (None, 10, 5, 32)    0           input_108[0][0]                  \n",
      "__________________________________________________________________________________________________\n",
      "input_100 (InputLayer)          [(None, 1, 32)]      0                                            \n",
      "__________________________________________________________________________________________________\n",
      "reshape_135 (Reshape)           (None, 1, 10, 32)    0           input_103[0][0]                  \n",
      "__________________________________________________________________________________________________\n",
      "reshape_136 (Reshape)           (None, 1, 10, 32)    0           input_104[0][0]                  \n",
      "__________________________________________________________________________________________________\n",
      "reshape_141 (Reshape)           (None, 10, 5, 32)    0           input_109[0][0]                  \n",
      "__________________________________________________________________________________________________\n",
      "reshape_142 (Reshape)           (None, 10, 5, 32)    0           input_110[0][0]                  \n",
      "__________________________________________________________________________________________________\n",
      "reshape_143 (Reshape)           (None, 10, 5, 32)    0           input_111[0][0]                  \n",
      "__________________________________________________________________________________________________\n",
      "reshape_144 (Reshape)           (None, 10, 5, 32)    0           input_112[0][0]                  \n",
      "__________________________________________________________________________________________________\n",
      "dropout_170 (Dropout)           (None, 1, 32)        0           input_99[0][0]                   \n",
      "__________________________________________________________________________________________________\n",
      "dropout_168 (Dropout)           (None, 1, 10, 32)    0           reshape_133[0][0]                \n",
      "__________________________________________________________________________________________________\n",
      "dropout_169 (Dropout)           (None, 1, 10, 32)    0           reshape_134[0][0]                \n",
      "__________________________________________________________________________________________________\n",
      "dropout_176 (Dropout)           (None, 10, 32)       0           input_101[0][0]                  \n",
      "__________________________________________________________________________________________________\n",
      "dropout_174 (Dropout)           (None, 10, 5, 32)    0           reshape_137[0][0]                \n",
      "__________________________________________________________________________________________________\n",
      "dropout_175 (Dropout)           (None, 10, 5, 32)    0           reshape_138[0][0]                \n",
      "__________________________________________________________________________________________________\n",
      "dropout_179 (Dropout)           (None, 10, 32)       0           input_102[0][0]                  \n",
      "__________________________________________________________________________________________________\n",
      "dropout_177 (Dropout)           (None, 10, 5, 32)    0           reshape_139[0][0]                \n",
      "__________________________________________________________________________________________________\n",
      "dropout_178 (Dropout)           (None, 10, 5, 32)    0           reshape_140[0][0]                \n",
      "__________________________________________________________________________________________________\n",
      "dropout_173 (Dropout)           (None, 1, 32)        0           input_100[0][0]                  \n",
      "__________________________________________________________________________________________________\n",
      "dropout_171 (Dropout)           (None, 1, 10, 32)    0           reshape_135[0][0]                \n",
      "__________________________________________________________________________________________________\n",
      "dropout_172 (Dropout)           (None, 1, 10, 32)    0           reshape_136[0][0]                \n",
      "__________________________________________________________________________________________________\n",
      "dropout_182 (Dropout)           (None, 10, 32)       0           input_103[0][0]                  \n",
      "__________________________________________________________________________________________________\n",
      "dropout_180 (Dropout)           (None, 10, 5, 32)    0           reshape_141[0][0]                \n",
      "__________________________________________________________________________________________________\n",
      "dropout_181 (Dropout)           (None, 10, 5, 32)    0           reshape_142[0][0]                \n",
      "__________________________________________________________________________________________________\n",
      "dropout_185 (Dropout)           (None, 10, 32)       0           input_104[0][0]                  \n",
      "__________________________________________________________________________________________________\n",
      "dropout_183 (Dropout)           (None, 10, 5, 32)    0           reshape_143[0][0]                \n",
      "__________________________________________________________________________________________________\n",
      "dropout_184 (Dropout)           (None, 10, 5, 32)    0           reshape_144[0][0]                \n",
      "__________________________________________________________________________________________________\n",
      "mean_hin_aggregator_14 (MeanHin multiple             1568        dropout_170[0][0]                \n",
      "                                                                 dropout_168[0][0]                \n",
      "                                                                 dropout_169[0][0]                \n",
      "                                                                 dropout_173[0][0]                \n",
      "                                                                 dropout_171[0][0]                \n",
      "                                                                 dropout_172[0][0]                \n",
      "                                                                 dropout_176[0][0]                \n",
      "                                                                 dropout_174[0][0]                \n",
      "                                                                 dropout_175[0][0]                \n",
      "                                                                 dropout_179[0][0]                \n",
      "                                                                 dropout_177[0][0]                \n",
      "                                                                 dropout_178[0][0]                \n",
      "                                                                 dropout_182[0][0]                \n",
      "                                                                 dropout_180[0][0]                \n",
      "                                                                 dropout_181[0][0]                \n",
      "                                                                 dropout_185[0][0]                \n",
      "                                                                 dropout_183[0][0]                \n",
      "                                                                 dropout_184[0][0]                \n",
      "__________________________________________________________________________________________________\n",
      "reshape_145 (Reshape)           (None, 1, 10, 32)    0           mean_hin_aggregator_14[2][0]     \n",
      "__________________________________________________________________________________________________\n",
      "reshape_146 (Reshape)           (None, 1, 10, 32)    0           mean_hin_aggregator_14[3][0]     \n",
      "__________________________________________________________________________________________________\n",
      "reshape_147 (Reshape)           (None, 1, 10, 32)    0           mean_hin_aggregator_14[4][0]     \n",
      "__________________________________________________________________________________________________\n",
      "reshape_148 (Reshape)           (None, 1, 10, 32)    0           mean_hin_aggregator_14[5][0]     \n",
      "__________________________________________________________________________________________________\n",
      "dropout_188 (Dropout)           (None, 1, 32)        0           mean_hin_aggregator_14[0][0]     \n",
      "__________________________________________________________________________________________________\n",
      "dropout_186 (Dropout)           (None, 1, 10, 32)    0           reshape_145[0][0]                \n",
      "__________________________________________________________________________________________________\n",
      "dropout_187 (Dropout)           (None, 1, 10, 32)    0           reshape_146[0][0]                \n",
      "__________________________________________________________________________________________________\n",
      "dropout_191 (Dropout)           (None, 1, 32)        0           mean_hin_aggregator_14[1][0]     \n",
      "__________________________________________________________________________________________________\n",
      "dropout_189 (Dropout)           (None, 1, 10, 32)    0           reshape_147[0][0]                \n",
      "__________________________________________________________________________________________________\n",
      "dropout_190 (Dropout)           (None, 1, 10, 32)    0           reshape_148[0][0]                \n",
      "__________________________________________________________________________________________________\n",
      "mean_hin_aggregator_15 (MeanHin (None, 1, 32)        1568        dropout_188[0][0]                \n",
      "                                                                 dropout_186[0][0]                \n",
      "                                                                 dropout_187[0][0]                \n",
      "                                                                 dropout_191[0][0]                \n",
      "                                                                 dropout_189[0][0]                \n",
      "                                                                 dropout_190[0][0]                \n",
      "__________________________________________________________________________________________________\n",
      "reshape_149 (Reshape)           (None, 32)           0           mean_hin_aggregator_15[0][0]     \n",
      "__________________________________________________________________________________________________\n",
      "reshape_150 (Reshape)           (None, 32)           0           mean_hin_aggregator_15[1][0]     \n",
      "__________________________________________________________________________________________________\n",
      "lambda_7 (Lambda)               (None, 32)           0           reshape_149[0][0]                \n",
      "                                                                 reshape_150[0][0]                \n",
      "__________________________________________________________________________________________________\n",
      "link_embedding_7 (LinkEmbedding (None, 1)            0           lambda_7[0][0]                   \n",
      "                                                                 lambda_7[1][0]                   \n",
      "__________________________________________________________________________________________________\n",
      "activation_7 (Activation)       (None, 1)            0           link_embedding_7[0][0]           \n",
      "__________________________________________________________________________________________________\n",
      "reshape_151 (Reshape)           (None, 1)            0           activation_7[0][0]               \n",
      "==================================================================================================\n",
      "Total params: 3,136\n",
      "Trainable params: 3,136\n",
      "Non-trainable params: 0\n",
      "__________________________________________________________________________________________________\n"
     ]
    }
   ],
   "source": [
    "model.summary()"
   ],
   "metadata": {
    "collapsed": false,
    "pycharm": {
     "name": "#%%\n"
    }
   }
  },
  {
   "cell_type": "code",
   "execution_count": 129,
   "outputs": [
    {
     "name": "stdout",
     "output_type": "stream",
     "text": [
      "Epoch 1/60\n",
      "31/31 - 5s - loss: 0.7388 - binary_accuracy: 0.4945 - val_loss: 0.7798 - val_binary_accuracy: 0.4242\n",
      "Epoch 2/60\n",
      "31/31 - 2s - loss: 0.7429 - binary_accuracy: 0.4978 - val_loss: 0.7719 - val_binary_accuracy: 0.4242\n",
      "Epoch 3/60\n",
      "31/31 - 2s - loss: 0.7348 - binary_accuracy: 0.5000 - val_loss: 0.7568 - val_binary_accuracy: 0.4141\n",
      "Epoch 4/60\n",
      "31/31 - 2s - loss: 0.7206 - binary_accuracy: 0.5077 - val_loss: 0.7479 - val_binary_accuracy: 0.4141\n",
      "Epoch 5/60\n",
      "31/31 - 2s - loss: 0.7188 - binary_accuracy: 0.5022 - val_loss: 0.7412 - val_binary_accuracy: 0.4545\n",
      "Epoch 6/60\n",
      "31/31 - 2s - loss: 0.7062 - binary_accuracy: 0.5144 - val_loss: 0.7385 - val_binary_accuracy: 0.4141\n",
      "Epoch 7/60\n",
      "31/31 - 2s - loss: 0.7046 - binary_accuracy: 0.5310 - val_loss: 0.7215 - val_binary_accuracy: 0.4646\n",
      "Epoch 8/60\n",
      "31/31 - 2s - loss: 0.6994 - binary_accuracy: 0.5332 - val_loss: 0.7120 - val_binary_accuracy: 0.4646\n",
      "Epoch 9/60\n",
      "31/31 - 2s - loss: 0.6986 - binary_accuracy: 0.5144 - val_loss: 0.7241 - val_binary_accuracy: 0.4545\n",
      "Epoch 10/60\n",
      "31/31 - 2s - loss: 0.6945 - binary_accuracy: 0.5199 - val_loss: 0.7123 - val_binary_accuracy: 0.4444\n",
      "Epoch 11/60\n",
      "31/31 - 2s - loss: 0.6933 - binary_accuracy: 0.5398 - val_loss: 0.7082 - val_binary_accuracy: 0.5253\n",
      "Epoch 12/60\n",
      "31/31 - 2s - loss: 0.6870 - binary_accuracy: 0.5420 - val_loss: 0.6998 - val_binary_accuracy: 0.4848\n",
      "Epoch 13/60\n",
      "31/31 - 2s - loss: 0.6860 - binary_accuracy: 0.5476 - val_loss: 0.7014 - val_binary_accuracy: 0.4646\n",
      "Epoch 14/60\n",
      "31/31 - 2s - loss: 0.6944 - binary_accuracy: 0.5509 - val_loss: 0.6975 - val_binary_accuracy: 0.5152\n",
      "Epoch 15/60\n",
      "31/31 - 2s - loss: 0.6763 - binary_accuracy: 0.5697 - val_loss: 0.7048 - val_binary_accuracy: 0.5253\n",
      "Epoch 16/60\n",
      "31/31 - 2s - loss: 0.6841 - binary_accuracy: 0.5564 - val_loss: 0.6972 - val_binary_accuracy: 0.4949\n",
      "Epoch 17/60\n",
      "31/31 - 2s - loss: 0.6772 - binary_accuracy: 0.5642 - val_loss: 0.6835 - val_binary_accuracy: 0.5859\n",
      "Epoch 18/60\n",
      "31/31 - 2s - loss: 0.6878 - binary_accuracy: 0.5476 - val_loss: 0.6849 - val_binary_accuracy: 0.5657\n",
      "Epoch 19/60\n",
      "31/31 - 2s - loss: 0.6754 - binary_accuracy: 0.5719 - val_loss: 0.6839 - val_binary_accuracy: 0.5556\n",
      "Epoch 20/60\n",
      "31/31 - 2s - loss: 0.6739 - binary_accuracy: 0.5885 - val_loss: 0.6859 - val_binary_accuracy: 0.5253\n",
      "Epoch 21/60\n",
      "31/31 - 2s - loss: 0.6770 - binary_accuracy: 0.5619 - val_loss: 0.6832 - val_binary_accuracy: 0.5657\n",
      "Epoch 22/60\n",
      "31/31 - 2s - loss: 0.6723 - binary_accuracy: 0.5874 - val_loss: 0.6831 - val_binary_accuracy: 0.5455\n",
      "Epoch 23/60\n",
      "31/31 - 2s - loss: 0.6641 - binary_accuracy: 0.5996 - val_loss: 0.6853 - val_binary_accuracy: 0.5556\n",
      "Epoch 24/60\n",
      "31/31 - 1s - loss: 0.6769 - binary_accuracy: 0.5841 - val_loss: 0.6633 - val_binary_accuracy: 0.6061\n",
      "Epoch 25/60\n",
      "31/31 - 2s - loss: 0.6652 - binary_accuracy: 0.5996 - val_loss: 0.6761 - val_binary_accuracy: 0.5657\n",
      "Epoch 26/60\n",
      "31/31 - 2s - loss: 0.6617 - binary_accuracy: 0.6029 - val_loss: 0.6597 - val_binary_accuracy: 0.5859\n",
      "Epoch 27/60\n",
      "31/31 - 1s - loss: 0.6572 - binary_accuracy: 0.6327 - val_loss: 0.6703 - val_binary_accuracy: 0.5758\n",
      "Epoch 28/60\n",
      "31/31 - 2s - loss: 0.6721 - binary_accuracy: 0.5719 - val_loss: 0.6738 - val_binary_accuracy: 0.5253\n",
      "Epoch 29/60\n",
      "31/31 - 2s - loss: 0.6654 - binary_accuracy: 0.5996 - val_loss: 0.6632 - val_binary_accuracy: 0.6162\n",
      "Epoch 30/60\n",
      "31/31 - 2s - loss: 0.6657 - binary_accuracy: 0.5996 - val_loss: 0.6669 - val_binary_accuracy: 0.5859\n",
      "Epoch 31/60\n",
      "31/31 - 2s - loss: 0.6513 - binary_accuracy: 0.6405 - val_loss: 0.6639 - val_binary_accuracy: 0.6061\n",
      "Epoch 32/60\n",
      "31/31 - 2s - loss: 0.6655 - binary_accuracy: 0.6095 - val_loss: 0.6608 - val_binary_accuracy: 0.5960\n",
      "Epoch 33/60\n",
      "31/31 - 2s - loss: 0.6721 - binary_accuracy: 0.5907 - val_loss: 0.6573 - val_binary_accuracy: 0.6263\n",
      "Epoch 34/60\n",
      "31/31 - 2s - loss: 0.6537 - binary_accuracy: 0.6217 - val_loss: 0.6652 - val_binary_accuracy: 0.5657\n",
      "Epoch 35/60\n",
      "31/31 - 2s - loss: 0.6679 - binary_accuracy: 0.6007 - val_loss: 0.6472 - val_binary_accuracy: 0.6263\n",
      "Epoch 36/60\n",
      "31/31 - 2s - loss: 0.6636 - binary_accuracy: 0.6018 - val_loss: 0.6574 - val_binary_accuracy: 0.6061\n",
      "Epoch 37/60\n",
      "31/31 - 2s - loss: 0.6622 - binary_accuracy: 0.6095 - val_loss: 0.6484 - val_binary_accuracy: 0.6061\n",
      "Epoch 38/60\n",
      "31/31 - 2s - loss: 0.6539 - binary_accuracy: 0.6184 - val_loss: 0.6510 - val_binary_accuracy: 0.6263\n",
      "Epoch 39/60\n",
      "31/31 - 2s - loss: 0.6584 - binary_accuracy: 0.6261 - val_loss: 0.6555 - val_binary_accuracy: 0.6667\n",
      "Epoch 40/60\n",
      "31/31 - 2s - loss: 0.6604 - binary_accuracy: 0.5985 - val_loss: 0.6569 - val_binary_accuracy: 0.6263\n",
      "Epoch 41/60\n",
      "31/31 - 2s - loss: 0.6659 - binary_accuracy: 0.6018 - val_loss: 0.6572 - val_binary_accuracy: 0.5960\n",
      "Epoch 42/60\n",
      "31/31 - 2s - loss: 0.6668 - binary_accuracy: 0.5929 - val_loss: 0.6604 - val_binary_accuracy: 0.6162\n",
      "Epoch 43/60\n",
      "31/31 - 1s - loss: 0.6661 - binary_accuracy: 0.6073 - val_loss: 0.6537 - val_binary_accuracy: 0.6061\n",
      "Epoch 44/60\n",
      "31/31 - 2s - loss: 0.6533 - binary_accuracy: 0.6327 - val_loss: 0.6564 - val_binary_accuracy: 0.6162\n",
      "Epoch 45/60\n",
      "31/31 - 2s - loss: 0.6587 - binary_accuracy: 0.6117 - val_loss: 0.6604 - val_binary_accuracy: 0.5960\n"
     ]
    },
    {
     "data": {
      "text/plain": "<keras.callbacks.History at 0x7f5c2c381640>"
     },
     "execution_count": 129,
     "metadata": {},
     "output_type": "execute_result"
    }
   ],
   "source": [
    "model.fit(\n",
    "    generator.flow(unsupervised_samples),\n",
    "    validation_data=generator.flow(examples_val, labels_val),\n",
    "    epochs=epochs,\n",
    "    verbose=2,\n",
    "    use_multiprocessing=False,\n",
    "    workers=4,\n",
    "    shuffle=True,\n",
    "    callbacks=[\n",
    "        keras.callbacks.EarlyStopping(\n",
    "            monitor=\"val_loss\", patience=10, restore_best_weights=True\n",
    "        )\n",
    "    ],\n",
    ")"
   ],
   "metadata": {
    "collapsed": false,
    "pycharm": {
     "name": "#%%\n"
    }
   }
  },
  {
   "cell_type": "markdown",
   "source": [
    "# Extract and cluster the embeddings"
   ],
   "metadata": {
    "collapsed": false,
    "pycharm": {
     "name": "#%% md\n"
    }
   }
  },
  {
   "cell_type": "code",
   "execution_count": 130,
   "outputs": [],
   "source": [
    "embedding_model = keras.Model(inputs=x_inp, outputs=x_out)"
   ],
   "metadata": {
    "collapsed": false,
    "pycharm": {
     "name": "#%%\n"
    }
   }
  },
  {
   "cell_type": "code",
   "execution_count": 131,
   "outputs": [],
   "source": [
    "graph_node_list = graph.nodes()\n",
    "\n",
    "node_embeddings = embedding_model.predict(\n",
    "    generator.flow(list(zip(graph_node_list, graph_node_list)))\n",
    ")\n",
    "node_embeddings = node_embeddings[0]"
   ],
   "metadata": {
    "collapsed": false,
    "pycharm": {
     "name": "#%%\n"
    }
   }
  },
  {
   "cell_type": "code",
   "execution_count": 132,
   "outputs": [],
   "source": [
    "from sklearn.cluster import KMeans\n",
    "\n",
    "kmeans = KMeans(n_clusters=5, random_state=0).fit(node_embeddings)"
   ],
   "metadata": {
    "collapsed": false,
    "pycharm": {
     "name": "#%%\n"
    }
   }
  },
  {
   "cell_type": "code",
   "execution_count": 133,
   "outputs": [],
   "source": [
    "from shared.constants import BENCHMARKS_RESULTS\n",
    "\n",
    "save_path = BENCHMARKS_RESULTS.joinpath('analysis', 'hinsage-linkprediction-kmeans')\n",
    "save_path.mkdir(parents=True, exist_ok=True)"
   ],
   "metadata": {
    "collapsed": false,
    "pycharm": {
     "name": "#%%\n"
    }
   }
  },
  {
   "cell_type": "code",
   "execution_count": 134,
   "outputs": [],
   "source": [
    "from shared.graph import CommunityAssignment\n",
    "\n",
    "labeling = pd.Series(kmeans.labels_, index=graph_node_list, name=\"cid\")\n",
    "comlist = CommunityAssignment(labeling)"
   ],
   "metadata": {
    "collapsed": false,
    "pycharm": {
     "name": "#%%\n"
    }
   }
  },
  {
   "cell_type": "code",
   "execution_count": 135,
   "outputs": [],
   "source": [
    "comlist.save_comlist(save_path.joinpath('schema.comlist'))"
   ],
   "metadata": {
    "collapsed": false,
    "pycharm": {
     "name": "#%%\n"
    }
   }
  },
  {
   "cell_type": "code",
   "execution_count": null,
   "outputs": [],
   "source": [
    "from datasets.scripts import export_to_visualization\n",
    "\n",
    "export_to_visualization.run(\n",
    "    export_to_visualization.Args(\n",
    "        dataset='star-wars',\n",
    "        version='base',\n",
    "        run_paths=[str(save_path)]\n",
    "    )\n",
    ")"
   ],
   "metadata": {
    "collapsed": false,
    "pycharm": {
     "name": "#%%\n"
    }
   }
  }
 ],
 "metadata": {
  "kernelspec": {
   "display_name": "Python 3",
   "language": "python",
   "name": "python3"
  },
  "language_info": {
   "codemirror_mode": {
    "name": "ipython",
    "version": 2
   },
   "file_extension": ".py",
   "mimetype": "text/x-python",
   "name": "python",
   "nbconvert_exporter": "python",
   "pygments_lexer": "ipython2",
   "version": "2.7.6"
  }
 },
 "nbformat": 4,
 "nbformat_minor": 0
}