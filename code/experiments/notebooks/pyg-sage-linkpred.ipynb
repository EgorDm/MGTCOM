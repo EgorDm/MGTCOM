{
 "cells": [
  {
   "cell_type": "code",
   "execution_count": 50,
   "metadata": {
    "collapsed": true
   },
   "outputs": [
    {
     "name": "stdout",
     "output_type": "stream",
     "text": [
      "The autoreload extension is already loaded. To reload it, use:\n",
      "  %reload_ext autoreload\n"
     ]
    }
   ],
   "source": [
    "%load_ext autoreload\n",
    "%autoreload 2"
   ]
  },
  {
   "cell_type": "code",
   "execution_count": 51,
   "outputs": [],
   "source": [
    "import pytorch_lightning as pl\n",
    "from torch_geometric.transforms import ToUndirected\n",
    "import torch\n",
    "import ml\n",
    "import experiments"
   ],
   "metadata": {
    "collapsed": false,
    "pycharm": {
     "name": "#%%\n"
    }
   }
  },
  {
   "cell_type": "code",
   "execution_count": 52,
   "outputs": [
    {
     "name": "stdout",
     "output_type": "stream",
     "text": [
      "[2022-02-14 11:58:32,925][simple_parsing.helpers.serialization.serializable][DEBUG] from_dict for <class 'shared.schema.dataset.DatasetSchema'>, drop extra fields: True\n",
      "[2022-02-14 11:58:32,926][simple_parsing.helpers.serialization.decoding][DEBUG] name = name, field_type = <class 'str'>\n",
      "[2022-02-14 11:58:32,926][simple_parsing.helpers.serialization.decoding][DEBUG] name = database, field_type = <class 'str'>\n",
      "[2022-02-14 11:58:32,926][simple_parsing.helpers.serialization.decoding][DEBUG] name = description, field_type = <class 'str'>\n",
      "[2022-02-14 11:58:32,927][simple_parsing.helpers.serialization.decoding][DEBUG] name = versions, field_type = typing.Dict[str, shared.schema.dataset.DatasetVersion]\n",
      "[2022-02-14 11:58:32,927][simple_parsing.helpers.serialization.serializable][DEBUG] from_dict for <class 'shared.schema.dataset.DatasetVersion'>, drop extra fields: True\n",
      "[2022-02-14 11:58:32,928][simple_parsing.helpers.serialization.decoding][DEBUG] name = type, field_type = <enum 'DatasetVersionType'>\n",
      "[2022-02-14 11:58:32,928][simple_parsing.helpers.serialization.decoding][DEBUG] name = parameters, field_type = typing.Dict[str, typing.Any]\n",
      "[2022-02-14 11:58:32,929][simple_parsing.helpers.serialization.serializable][DEBUG] from_dict for <class 'shared.schema.dataset.DatasetVersion'>, drop extra fields: True\n",
      "[2022-02-14 11:58:32,929][simple_parsing.helpers.serialization.decoding][DEBUG] name = type, field_type = <enum 'DatasetVersionType'>\n",
      "[2022-02-14 11:58:32,930][simple_parsing.helpers.serialization.decoding][DEBUG] name = parameters, field_type = typing.Dict[str, typing.Any]\n",
      "[2022-02-14 11:58:32,930][simple_parsing.helpers.serialization.serializable][DEBUG] from_dict for <class 'shared.schema.dataset.DatasetVersion'>, drop extra fields: True\n",
      "[2022-02-14 11:58:32,931][simple_parsing.helpers.serialization.decoding][DEBUG] name = type, field_type = <enum 'DatasetVersionType'>\n",
      "[2022-02-14 11:58:32,932][simple_parsing.helpers.serialization.decoding][DEBUG] name = parameters, field_type = typing.Dict[str, typing.Any]\n",
      "[2022-02-14 11:58:32,932][simple_parsing.helpers.serialization.decoding][DEBUG] name = tags, field_type = typing.List[str]\n",
      "[2022-02-14 11:58:32,951][simple_parsing.helpers.serialization.serializable][DEBUG] from_dict for <class 'shared.schema.graph.GraphSchema'>, drop extra fields: True\n",
      "[2022-02-14 11:58:32,952][simple_parsing.helpers.serialization.decoding][DEBUG] name = nodes, field_type = typing.Dict[str, shared.schema.graph.NodeSchema]\n",
      "[2022-02-14 11:58:32,952][simple_parsing.helpers.serialization.serializable][DEBUG] from_dict for <class 'shared.schema.graph.NodeSchema'>, drop extra fields: True\n",
      "[2022-02-14 11:58:32,952][simple_parsing.helpers.serialization.decoding][DEBUG] name = label, field_type = <class 'str'>\n",
      "[2022-02-14 11:58:32,953][simple_parsing.helpers.serialization.decoding][DEBUG] name = properties, field_type = typing.Dict[str, shared.schema.graph.GraphProperty]\n",
      "[2022-02-14 11:58:32,953][simple_parsing.helpers.serialization.serializable][DEBUG] from_dict for <class 'shared.schema.graph.GraphProperty'>, drop extra fields: True\n",
      "[2022-02-14 11:58:32,954][simple_parsing.helpers.serialization.decoding][DEBUG] name = dtype, field_type = <class 'shared.schema.graph.DType'>\n",
      "[2022-02-14 11:58:32,954][simple_parsing.helpers.serialization.serializable][DEBUG] from_dict for <class 'shared.schema.graph.GraphProperty'>, drop extra fields: True\n",
      "[2022-02-14 11:58:32,955][simple_parsing.helpers.serialization.decoding][DEBUG] name = dtype, field_type = <class 'shared.schema.graph.DType'>\n",
      "[2022-02-14 11:58:32,955][simple_parsing.helpers.serialization.serializable][DEBUG] from_dict for <class 'shared.schema.graph.GraphProperty'>, drop extra fields: True\n",
      "[2022-02-14 11:58:32,955][simple_parsing.helpers.serialization.decoding][DEBUG] name = dtype, field_type = <class 'shared.schema.graph.DType'>\n",
      "[2022-02-14 11:58:32,956][simple_parsing.helpers.serialization.serializable][DEBUG] from_dict for <class 'shared.schema.graph.GraphProperty'>, drop extra fields: True\n",
      "[2022-02-14 11:58:32,958][simple_parsing.helpers.serialization.decoding][DEBUG] name = dtype, field_type = <class 'shared.schema.graph.DType'>\n",
      "[2022-02-14 11:58:32,958][simple_parsing.helpers.serialization.serializable][DEBUG] from_dict for <class 'shared.schema.graph.GraphProperty'>, drop extra fields: True\n",
      "[2022-02-14 11:58:32,959][simple_parsing.helpers.serialization.decoding][DEBUG] name = dtype, field_type = <class 'shared.schema.graph.DType'>\n",
      "[2022-02-14 11:58:32,960][simple_parsing.helpers.serialization.serializable][DEBUG] from_dict for <class 'shared.schema.graph.GraphProperty'>, drop extra fields: True\n",
      "[2022-02-14 11:58:32,960][simple_parsing.helpers.serialization.decoding][DEBUG] name = dtype, field_type = <class 'shared.schema.graph.DType'>\n",
      "[2022-02-14 11:58:32,961][simple_parsing.helpers.serialization.serializable][DEBUG] from_dict for <class 'shared.schema.graph.GraphProperty'>, drop extra fields: True\n",
      "[2022-02-14 11:58:32,961][simple_parsing.helpers.serialization.decoding][DEBUG] name = dtype, field_type = <class 'shared.schema.graph.DType'>\n",
      "[2022-02-14 11:58:32,962][simple_parsing.helpers.serialization.serializable][DEBUG] from_dict for <class 'shared.schema.graph.GraphProperty'>, drop extra fields: True\n",
      "[2022-02-14 11:58:32,962][simple_parsing.helpers.serialization.decoding][DEBUG] name = dtype, field_type = <class 'shared.schema.graph.DType'>\n",
      "[2022-02-14 11:58:32,962][simple_parsing.helpers.serialization.serializable][DEBUG] from_dict for <class 'shared.schema.graph.GraphProperty'>, drop extra fields: True\n",
      "[2022-02-14 11:58:32,963][simple_parsing.helpers.serialization.decoding][DEBUG] name = dtype, field_type = <class 'shared.schema.graph.DType'>\n",
      "[2022-02-14 11:58:32,963][simple_parsing.helpers.serialization.serializable][DEBUG] from_dict for <class 'shared.schema.graph.GraphProperty'>, drop extra fields: True\n",
      "[2022-02-14 11:58:32,964][simple_parsing.helpers.serialization.decoding][DEBUG] name = dtype, field_type = <class 'shared.schema.graph.DType'>\n",
      "[2022-02-14 11:58:32,964][simple_parsing.helpers.serialization.serializable][DEBUG] from_dict for <class 'shared.schema.graph.GraphProperty'>, drop extra fields: True\n",
      "[2022-02-14 11:58:32,965][simple_parsing.helpers.serialization.decoding][DEBUG] name = dtype, field_type = <class 'shared.schema.graph.DType'>\n",
      "[2022-02-14 11:58:32,965][simple_parsing.helpers.serialization.serializable][DEBUG] from_dict for <class 'shared.schema.graph.GraphProperty'>, drop extra fields: True\n",
      "[2022-02-14 11:58:32,966][simple_parsing.helpers.serialization.decoding][DEBUG] name = dtype, field_type = <class 'shared.schema.graph.DType'>\n",
      "[2022-02-14 11:58:32,967][simple_parsing.helpers.serialization.serializable][DEBUG] from_dict for <class 'shared.schema.graph.GraphProperty'>, drop extra fields: True\n",
      "[2022-02-14 11:58:32,967][simple_parsing.helpers.serialization.decoding][DEBUG] name = dtype, field_type = <class 'shared.schema.graph.DType'>\n",
      "[2022-02-14 11:58:32,968][simple_parsing.helpers.serialization.serializable][DEBUG] from_dict for <class 'shared.schema.graph.GraphProperty'>, drop extra fields: True\n",
      "[2022-02-14 11:58:32,968][simple_parsing.helpers.serialization.decoding][DEBUG] name = dtype, field_type = <class 'shared.schema.graph.DType'>\n",
      "[2022-02-14 11:58:32,971][simple_parsing.helpers.serialization.serializable][DEBUG] from_dict for <class 'shared.schema.graph.GraphProperty'>, drop extra fields: True\n",
      "[2022-02-14 11:58:32,971][simple_parsing.helpers.serialization.decoding][DEBUG] name = dtype, field_type = <class 'shared.schema.graph.DType'>\n",
      "[2022-02-14 11:58:32,972][simple_parsing.helpers.serialization.serializable][DEBUG] from_dict for <class 'shared.schema.graph.GraphProperty'>, drop extra fields: True\n",
      "[2022-02-14 11:58:32,972][simple_parsing.helpers.serialization.decoding][DEBUG] name = dtype, field_type = <class 'shared.schema.graph.DType'>\n",
      "[2022-02-14 11:58:32,973][simple_parsing.helpers.serialization.serializable][DEBUG] from_dict for <class 'shared.schema.graph.GraphProperty'>, drop extra fields: True\n",
      "[2022-02-14 11:58:32,973][simple_parsing.helpers.serialization.decoding][DEBUG] name = dtype, field_type = <class 'shared.schema.graph.DType'>\n",
      "[2022-02-14 11:58:32,974][simple_parsing.helpers.serialization.serializable][DEBUG] from_dict for <class 'shared.schema.graph.GraphProperty'>, drop extra fields: True\n",
      "[2022-02-14 11:58:32,974][simple_parsing.helpers.serialization.decoding][DEBUG] name = dtype, field_type = <class 'shared.schema.graph.DType'>\n",
      "[2022-02-14 11:58:32,975][simple_parsing.helpers.serialization.serializable][DEBUG] from_dict for <class 'shared.schema.graph.GraphProperty'>, drop extra fields: True\n",
      "[2022-02-14 11:58:32,976][simple_parsing.helpers.serialization.decoding][DEBUG] name = dtype, field_type = <class 'shared.schema.graph.DType'>\n",
      "[2022-02-14 11:58:32,976][simple_parsing.helpers.serialization.serializable][DEBUG] from_dict for <class 'shared.schema.graph.GraphProperty'>, drop extra fields: True\n",
      "[2022-02-14 11:58:32,977][simple_parsing.helpers.serialization.decoding][DEBUG] name = dtype, field_type = <class 'shared.schema.graph.DType'>\n",
      "[2022-02-14 11:58:32,977][simple_parsing.helpers.serialization.serializable][DEBUG] from_dict for <class 'shared.schema.graph.GraphProperty'>, drop extra fields: True\n",
      "[2022-02-14 11:58:32,978][simple_parsing.helpers.serialization.decoding][DEBUG] name = dtype, field_type = <class 'shared.schema.graph.DType'>\n",
      "[2022-02-14 11:58:32,978][simple_parsing.helpers.serialization.serializable][DEBUG] from_dict for <class 'shared.schema.graph.GraphProperty'>, drop extra fields: True\n",
      "[2022-02-14 11:58:32,979][simple_parsing.helpers.serialization.decoding][DEBUG] name = dtype, field_type = <class 'shared.schema.graph.DType'>\n",
      "[2022-02-14 11:58:32,979][simple_parsing.helpers.serialization.serializable][DEBUG] from_dict for <class 'shared.schema.graph.GraphProperty'>, drop extra fields: True\n",
      "[2022-02-14 11:58:32,980][simple_parsing.helpers.serialization.decoding][DEBUG] name = dtype, field_type = <class 'shared.schema.graph.DType'>\n",
      "[2022-02-14 11:58:32,980][simple_parsing.helpers.serialization.serializable][DEBUG] from_dict for <class 'shared.schema.graph.GraphProperty'>, drop extra fields: True\n",
      "[2022-02-14 11:58:32,981][simple_parsing.helpers.serialization.decoding][DEBUG] name = dtype, field_type = <class 'shared.schema.graph.DType'>\n",
      "[2022-02-14 11:58:32,981][simple_parsing.helpers.serialization.serializable][DEBUG] from_dict for <class 'shared.schema.graph.GraphProperty'>, drop extra fields: True\n",
      "[2022-02-14 11:58:32,982][simple_parsing.helpers.serialization.decoding][DEBUG] name = dtype, field_type = <class 'shared.schema.graph.DType'>\n",
      "[2022-02-14 11:58:32,984][simple_parsing.helpers.serialization.serializable][DEBUG] from_dict for <class 'shared.schema.graph.GraphProperty'>, drop extra fields: True\n",
      "[2022-02-14 11:58:32,985][simple_parsing.helpers.serialization.decoding][DEBUG] name = dtype, field_type = <class 'shared.schema.graph.DType'>\n",
      "[2022-02-14 11:58:32,985][simple_parsing.helpers.serialization.serializable][DEBUG] from_dict for <class 'shared.schema.graph.GraphProperty'>, drop extra fields: True\n",
      "[2022-02-14 11:58:32,986][simple_parsing.helpers.serialization.decoding][DEBUG] name = dtype, field_type = <class 'shared.schema.graph.DType'>\n",
      "[2022-02-14 11:58:32,987][simple_parsing.helpers.serialization.serializable][DEBUG] from_dict for <class 'shared.schema.graph.GraphProperty'>, drop extra fields: True\n",
      "[2022-02-14 11:58:32,987][simple_parsing.helpers.serialization.decoding][DEBUG] name = dtype, field_type = <class 'shared.schema.graph.DType'>\n",
      "[2022-02-14 11:58:32,988][simple_parsing.helpers.serialization.serializable][DEBUG] from_dict for <class 'shared.schema.graph.GraphProperty'>, drop extra fields: True\n",
      "[2022-02-14 11:58:32,988][simple_parsing.helpers.serialization.decoding][DEBUG] name = dtype, field_type = <class 'shared.schema.graph.DType'>\n",
      "[2022-02-14 11:58:32,989][simple_parsing.helpers.serialization.serializable][DEBUG] from_dict for <class 'shared.schema.graph.GraphProperty'>, drop extra fields: True\n",
      "[2022-02-14 11:58:32,989][simple_parsing.helpers.serialization.decoding][DEBUG] name = dtype, field_type = <class 'shared.schema.graph.DType'>\n",
      "[2022-02-14 11:58:32,990][simple_parsing.helpers.serialization.serializable][DEBUG] from_dict for <class 'shared.schema.graph.GraphProperty'>, drop extra fields: True\n",
      "[2022-02-14 11:58:32,990][simple_parsing.helpers.serialization.decoding][DEBUG] name = dtype, field_type = <class 'shared.schema.graph.DType'>\n",
      "[2022-02-14 11:58:32,991][simple_parsing.helpers.serialization.serializable][DEBUG] from_dict for <class 'shared.schema.graph.GraphProperty'>, drop extra fields: True\n",
      "[2022-02-14 11:58:32,991][simple_parsing.helpers.serialization.decoding][DEBUG] name = dtype, field_type = <class 'shared.schema.graph.DType'>\n",
      "[2022-02-14 11:58:32,992][simple_parsing.helpers.serialization.serializable][DEBUG] from_dict for <class 'shared.schema.graph.GraphProperty'>, drop extra fields: True\n",
      "[2022-02-14 11:58:32,992][simple_parsing.helpers.serialization.decoding][DEBUG] name = dtype, field_type = <class 'shared.schema.graph.DType'>\n",
      "[2022-02-14 11:58:32,992][simple_parsing.helpers.serialization.serializable][DEBUG] from_dict for <class 'shared.schema.graph.GraphProperty'>, drop extra fields: True\n",
      "[2022-02-14 11:58:32,993][simple_parsing.helpers.serialization.decoding][DEBUG] name = dtype, field_type = <class 'shared.schema.graph.DType'>\n",
      "[2022-02-14 11:58:32,993][simple_parsing.helpers.serialization.serializable][DEBUG] from_dict for <class 'shared.schema.graph.GraphProperty'>, drop extra fields: True\n",
      "[2022-02-14 11:58:32,994][simple_parsing.helpers.serialization.decoding][DEBUG] name = dtype, field_type = <class 'shared.schema.graph.DType'>\n",
      "[2022-02-14 11:58:32,997][simple_parsing.helpers.serialization.serializable][DEBUG] from_dict for <class 'shared.schema.graph.GraphProperty'>, drop extra fields: True\n",
      "[2022-02-14 11:58:32,998][simple_parsing.helpers.serialization.decoding][DEBUG] name = dtype, field_type = <class 'shared.schema.graph.DType'>\n",
      "[2022-02-14 11:58:32,998][simple_parsing.helpers.serialization.serializable][DEBUG] from_dict for <class 'shared.schema.graph.GraphProperty'>, drop extra fields: True\n",
      "[2022-02-14 11:58:32,999][simple_parsing.helpers.serialization.decoding][DEBUG] name = dtype, field_type = <class 'shared.schema.graph.DType'>\n",
      "[2022-02-14 11:58:32,999][simple_parsing.helpers.serialization.serializable][DEBUG] from_dict for <class 'shared.schema.graph.GraphProperty'>, drop extra fields: True\n",
      "[2022-02-14 11:58:33,000][simple_parsing.helpers.serialization.decoding][DEBUG] name = dtype, field_type = <class 'shared.schema.graph.DType'>\n",
      "[2022-02-14 11:58:33,002][simple_parsing.helpers.serialization.serializable][DEBUG] from_dict for <class 'shared.schema.graph.GraphProperty'>, drop extra fields: True\n",
      "[2022-02-14 11:58:33,002][simple_parsing.helpers.serialization.decoding][DEBUG] name = dtype, field_type = <class 'shared.schema.graph.DType'>\n",
      "[2022-02-14 11:58:33,003][simple_parsing.helpers.serialization.serializable][DEBUG] from_dict for <class 'shared.schema.graph.GraphProperty'>, drop extra fields: True\n",
      "[2022-02-14 11:58:33,004][simple_parsing.helpers.serialization.decoding][DEBUG] name = dtype, field_type = <class 'shared.schema.graph.DType'>\n",
      "[2022-02-14 11:58:33,004][simple_parsing.helpers.serialization.serializable][DEBUG] from_dict for <class 'shared.schema.graph.GraphProperty'>, drop extra fields: True\n",
      "[2022-02-14 11:58:33,005][simple_parsing.helpers.serialization.decoding][DEBUG] name = dtype, field_type = <class 'shared.schema.graph.DType'>\n",
      "[2022-02-14 11:58:33,005][simple_parsing.helpers.serialization.serializable][DEBUG] from_dict for <class 'shared.schema.graph.GraphProperty'>, drop extra fields: True\n",
      "[2022-02-14 11:58:33,006][simple_parsing.helpers.serialization.decoding][DEBUG] name = dtype, field_type = <class 'shared.schema.graph.DType'>\n",
      "[2022-02-14 11:58:33,006][simple_parsing.helpers.serialization.serializable][DEBUG] from_dict for <class 'shared.schema.graph.GraphProperty'>, drop extra fields: True\n",
      "[2022-02-14 11:58:33,007][simple_parsing.helpers.serialization.decoding][DEBUG] name = dtype, field_type = <class 'shared.schema.graph.DType'>\n",
      "[2022-02-14 11:58:33,008][simple_parsing.helpers.serialization.serializable][DEBUG] from_dict for <class 'shared.schema.graph.GraphProperty'>, drop extra fields: True\n",
      "[2022-02-14 11:58:33,008][simple_parsing.helpers.serialization.decoding][DEBUG] name = dtype, field_type = <class 'shared.schema.graph.DType'>\n",
      "[2022-02-14 11:58:33,009][simple_parsing.helpers.serialization.serializable][DEBUG] from_dict for <class 'shared.schema.graph.GraphProperty'>, drop extra fields: True\n",
      "[2022-02-14 11:58:33,011][simple_parsing.helpers.serialization.decoding][DEBUG] name = dtype, field_type = <class 'shared.schema.graph.DType'>\n",
      "[2022-02-14 11:58:33,012][simple_parsing.helpers.serialization.serializable][DEBUG] from_dict for <class 'shared.schema.graph.GraphProperty'>, drop extra fields: True\n",
      "[2022-02-14 11:58:33,012][simple_parsing.helpers.serialization.decoding][DEBUG] name = dtype, field_type = <class 'shared.schema.graph.DType'>\n",
      "[2022-02-14 11:58:33,012][simple_parsing.helpers.serialization.serializable][DEBUG] from_dict for <class 'shared.schema.graph.GraphProperty'>, drop extra fields: True\n",
      "[2022-02-14 11:58:33,013][simple_parsing.helpers.serialization.decoding][DEBUG] name = dtype, field_type = <class 'shared.schema.graph.DType'>\n",
      "[2022-02-14 11:58:33,013][simple_parsing.helpers.serialization.serializable][DEBUG] from_dict for <class 'shared.schema.graph.GraphProperty'>, drop extra fields: True\n",
      "[2022-02-14 11:58:33,014][simple_parsing.helpers.serialization.decoding][DEBUG] name = dtype, field_type = <class 'shared.schema.graph.DType'>\n",
      "[2022-02-14 11:58:33,014][simple_parsing.helpers.serialization.serializable][DEBUG] from_dict for <class 'shared.schema.graph.GraphProperty'>, drop extra fields: True\n",
      "[2022-02-14 11:58:33,015][simple_parsing.helpers.serialization.decoding][DEBUG] name = dtype, field_type = <class 'shared.schema.graph.DType'>\n",
      "[2022-02-14 11:58:33,016][simple_parsing.helpers.serialization.serializable][DEBUG] from_dict for <class 'shared.schema.graph.GraphProperty'>, drop extra fields: True\n",
      "[2022-02-14 11:58:33,017][simple_parsing.helpers.serialization.decoding][DEBUG] name = dtype, field_type = <class 'shared.schema.graph.DType'>\n",
      "[2022-02-14 11:58:33,018][simple_parsing.helpers.serialization.serializable][DEBUG] from_dict for <class 'shared.schema.graph.GraphProperty'>, drop extra fields: True\n",
      "[2022-02-14 11:58:33,018][simple_parsing.helpers.serialization.decoding][DEBUG] name = dtype, field_type = <class 'shared.schema.graph.DType'>\n",
      "[2022-02-14 11:58:33,019][simple_parsing.helpers.serialization.serializable][DEBUG] from_dict for <class 'shared.schema.graph.GraphProperty'>, drop extra fields: True\n",
      "[2022-02-14 11:58:33,019][simple_parsing.helpers.serialization.decoding][DEBUG] name = dtype, field_type = <class 'shared.schema.graph.DType'>\n",
      "[2022-02-14 11:58:33,019][simple_parsing.helpers.serialization.decoding][DEBUG] name = edges, field_type = typing.Dict[str, shared.schema.graph.EdgeSchema]\n",
      "[2022-02-14 11:58:33,020][simple_parsing.helpers.serialization.serializable][DEBUG] from_dict for <class 'shared.schema.graph.EdgeSchema'>, drop extra fields: True\n",
      "[2022-02-14 11:58:33,020][simple_parsing.helpers.serialization.decoding][DEBUG] name = properties, field_type = typing.Dict[str, shared.schema.graph.GraphProperty]\n",
      "[2022-02-14 11:58:33,020][simple_parsing.helpers.serialization.serializable][DEBUG] from_dict for <class 'shared.schema.graph.GraphProperty'>, drop extra fields: True\n",
      "[2022-02-14 11:58:33,021][simple_parsing.helpers.serialization.decoding][DEBUG] name = dtype, field_type = <class 'shared.schema.graph.DType'>\n",
      "[2022-02-14 11:58:33,021][simple_parsing.helpers.serialization.serializable][DEBUG] from_dict for <class 'shared.schema.graph.GraphProperty'>, drop extra fields: True\n",
      "[2022-02-14 11:58:33,021][simple_parsing.helpers.serialization.decoding][DEBUG] name = dtype, field_type = <class 'shared.schema.graph.DType'>\n",
      "[2022-02-14 11:58:33,022][simple_parsing.helpers.serialization.serializable][DEBUG] from_dict for <class 'shared.schema.graph.GraphProperty'>, drop extra fields: True\n",
      "[2022-02-14 11:58:33,022][simple_parsing.helpers.serialization.decoding][DEBUG] name = dtype, field_type = <class 'shared.schema.graph.DType'>\n",
      "[2022-02-14 11:58:33,022][simple_parsing.helpers.serialization.serializable][DEBUG] from_dict for <class 'shared.schema.graph.GraphProperty'>, drop extra fields: True\n",
      "[2022-02-14 11:58:33,023][simple_parsing.helpers.serialization.decoding][DEBUG] name = dtype, field_type = <class 'shared.schema.graph.DType'>\n",
      "[2022-02-14 11:58:33,023][simple_parsing.helpers.serialization.decoding][DEBUG] name = dynamic, field_type = typing.Optional[shared.schema.graph.DynamicConfig]\n",
      "[2022-02-14 11:58:33,023][simple_parsing.helpers.serialization.serializable][DEBUG] from_dict for <class 'shared.schema.graph.DynamicConfig'>, drop extra fields: True\n",
      "[2022-02-14 11:58:33,024][simple_parsing.helpers.serialization.decoding][DEBUG] name = timestamp, field_type = <class 'str'>\n",
      "[2022-02-14 11:58:33,024][simple_parsing.helpers.serialization.decoding][DEBUG] name = interaction, field_type = <class 'bool'>\n",
      "[2022-02-14 11:58:33,024][simple_parsing.helpers.serialization.decoding][DEBUG] name = source_type, field_type = <class 'str'>\n",
      "[2022-02-14 11:58:33,025][simple_parsing.helpers.serialization.decoding][DEBUG] name = target_type, field_type = <class 'str'>\n",
      "[2022-02-14 11:58:33,025][simple_parsing.helpers.serialization.decoding][DEBUG] name = directed, field_type = <class 'bool'>\n",
      "[2022-02-14 11:58:33,025][simple_parsing.helpers.serialization.serializable][DEBUG] from_dict for <class 'shared.schema.graph.EdgeSchema'>, drop extra fields: True\n",
      "[2022-02-14 11:58:33,026][simple_parsing.helpers.serialization.decoding][DEBUG] name = properties, field_type = typing.Dict[str, shared.schema.graph.GraphProperty]\n",
      "[2022-02-14 11:58:33,026][simple_parsing.helpers.serialization.serializable][DEBUG] from_dict for <class 'shared.schema.graph.GraphProperty'>, drop extra fields: True\n",
      "[2022-02-14 11:58:33,026][simple_parsing.helpers.serialization.decoding][DEBUG] name = dtype, field_type = <class 'shared.schema.graph.DType'>\n",
      "[2022-02-14 11:58:33,027][simple_parsing.helpers.serialization.serializable][DEBUG] from_dict for <class 'shared.schema.graph.GraphProperty'>, drop extra fields: True\n",
      "[2022-02-14 11:58:33,027][simple_parsing.helpers.serialization.decoding][DEBUG] name = dtype, field_type = <class 'shared.schema.graph.DType'>\n",
      "[2022-02-14 11:58:33,027][simple_parsing.helpers.serialization.serializable][DEBUG] from_dict for <class 'shared.schema.graph.GraphProperty'>, drop extra fields: True\n",
      "[2022-02-14 11:58:33,028][simple_parsing.helpers.serialization.decoding][DEBUG] name = dtype, field_type = <class 'shared.schema.graph.DType'>\n",
      "[2022-02-14 11:58:33,028][simple_parsing.helpers.serialization.serializable][DEBUG] from_dict for <class 'shared.schema.graph.GraphProperty'>, drop extra fields: True\n",
      "[2022-02-14 11:58:33,028][simple_parsing.helpers.serialization.decoding][DEBUG] name = dtype, field_type = <class 'shared.schema.graph.DType'>\n",
      "[2022-02-14 11:58:33,029][simple_parsing.helpers.serialization.decoding][DEBUG] name = dynamic, field_type = typing.Optional[shared.schema.graph.DynamicConfig]\n",
      "[2022-02-14 11:58:33,029][simple_parsing.helpers.serialization.serializable][DEBUG] from_dict for <class 'shared.schema.graph.DynamicConfig'>, drop extra fields: True\n",
      "[2022-02-14 11:58:33,029][simple_parsing.helpers.serialization.decoding][DEBUG] name = timestamp, field_type = <class 'str'>\n",
      "[2022-02-14 11:58:33,030][simple_parsing.helpers.serialization.decoding][DEBUG] name = interaction, field_type = <class 'bool'>\n",
      "[2022-02-14 11:58:33,030][simple_parsing.helpers.serialization.decoding][DEBUG] name = source_type, field_type = <class 'str'>\n",
      "[2022-02-14 11:58:33,030][simple_parsing.helpers.serialization.decoding][DEBUG] name = target_type, field_type = <class 'str'>\n",
      "[2022-02-14 11:58:33,031][simple_parsing.helpers.serialization.decoding][DEBUG] name = directed, field_type = <class 'bool'>\n"
     ]
    },
    {
     "data": {
      "text/plain": "HeteroData(\n  \u001B[1mCharacter\u001B[0m={ x=[113, 32] },\n  \u001B[1m(Character, INTERACTIONS, Character)\u001B[0m={\n    edge_attr=[817, 0],\n    edge_index=[2, 817],\n    timestamp=[817]\n  }\n)"
     },
     "execution_count": 52,
     "metadata": {},
     "output_type": "execute_result"
    }
   ],
   "source": [
    "dataset = ml.StarWarsHomogenous()\n",
    "data = dataset[0]\n",
    "data"
   ],
   "metadata": {
    "collapsed": false,
    "pycharm": {
     "name": "#%%\n"
    }
   }
  },
  {
   "cell_type": "code",
   "execution_count": 53,
   "outputs": [],
   "source": [
    "node_type = 'Character'\n",
    "repr_dim = 32\n",
    "transform = ToUndirected()\n",
    "data_module = ml.EdgeLoaderDataModule(\n",
    "    data,\n",
    "    batch_size=16, num_samples=[4] * 2,\n",
    "    num_workers=0, node_type=node_type, neg_sample_ratio=1,\n",
    "    transform=transform\n",
    ")"
   ],
   "metadata": {
    "collapsed": false,
    "pycharm": {
     "name": "#%%\n"
    }
   }
  },
  {
   "cell_type": "code",
   "execution_count": 54,
   "outputs": [],
   "source": [
    "embedding_module = experiments.GraphSAGEModule(node_type, data.metadata(), repr_dim, n_layers=2)"
   ],
   "metadata": {
    "collapsed": false,
    "pycharm": {
     "name": "#%%\n"
    }
   }
  },
  {
   "cell_type": "code",
   "execution_count": 55,
   "outputs": [],
   "source": [
    "model = experiments.LinkPredictionModule(embedding_module, dist='cosine')"
   ],
   "metadata": {
    "collapsed": false,
    "pycharm": {
     "name": "#%%\n"
    }
   }
  },
  {
   "cell_type": "code",
   "execution_count": 56,
   "outputs": [
    {
     "data": {
      "text/plain": "Validation sanity check: 0it [00:00, ?it/s]",
      "application/vnd.jupyter.widget-view+json": {
       "version_major": 2,
       "version_minor": 0,
       "model_id": "08e841d761534412b662fd79f46fad24"
      }
     },
     "metadata": {},
     "output_type": "display_data"
    },
    {
     "name": "stdout",
     "output_type": "stream",
     "text": [
      "[2022-02-14 11:58:33,333][py.warnings][WARNING] /data/pella/projects/University/Thesis/Thesis/code/env/lib/python3.9/site-packages/pytorch_lightning/trainer/data_loading.py:132: UserWarning: The dataloader, val_dataloader 0, does not have many workers which may be a bottleneck. Consider increasing the value of the `num_workers` argument` (try 16 which is the number of cpus on this machine) in the `DataLoader` init to improve performance.\n",
      "  rank_zero_warn(\n",
      "\n",
      "[2022-02-14 11:58:33,360][py.warnings][WARNING] /data/pella/projects/University/Thesis/Thesis/code/env/lib/python3.9/site-packages/pytorch_lightning/trainer/data_loading.py:132: UserWarning: The dataloader, train_dataloader, does not have many workers which may be a bottleneck. Consider increasing the value of the `num_workers` argument` (try 16 which is the number of cpus on this machine) in the `DataLoader` init to improve performance.\n",
      "  rank_zero_warn(\n",
      "\n"
     ]
    },
    {
     "data": {
      "text/plain": "Training: 0it [00:00, ?it/s]",
      "application/vnd.jupyter.widget-view+json": {
       "version_major": 2,
       "version_minor": 0,
       "model_id": "18456286d51144089b72e42b61eddac2"
      }
     },
     "metadata": {},
     "output_type": "display_data"
    },
    {
     "data": {
      "text/plain": "Validating: 0it [00:00, ?it/s]",
      "application/vnd.jupyter.widget-view+json": {
       "version_major": 2,
       "version_minor": 0,
       "model_id": "c7d27d95512d4af29e642b4171ba677f"
      }
     },
     "metadata": {},
     "output_type": "display_data"
    },
    {
     "data": {
      "text/plain": "Validating: 0it [00:00, ?it/s]",
      "application/vnd.jupyter.widget-view+json": {
       "version_major": 2,
       "version_minor": 0,
       "model_id": "32fbdb4cf570474c81a8bc4b268f67da"
      }
     },
     "metadata": {},
     "output_type": "display_data"
    },
    {
     "data": {
      "text/plain": "Validating: 0it [00:00, ?it/s]",
      "application/vnd.jupyter.widget-view+json": {
       "version_major": 2,
       "version_minor": 0,
       "model_id": "560038218ad54118af97a076d9404157"
      }
     },
     "metadata": {},
     "output_type": "display_data"
    },
    {
     "data": {
      "text/plain": "Validating: 0it [00:00, ?it/s]",
      "application/vnd.jupyter.widget-view+json": {
       "version_major": 2,
       "version_minor": 0,
       "model_id": "65246685bd69428a95b2790485d7c1f0"
      }
     },
     "metadata": {},
     "output_type": "display_data"
    },
    {
     "data": {
      "text/plain": "Validating: 0it [00:00, ?it/s]",
      "application/vnd.jupyter.widget-view+json": {
       "version_major": 2,
       "version_minor": 0,
       "model_id": "b795590646144d8d8680bb2c4ecf7443"
      }
     },
     "metadata": {},
     "output_type": "display_data"
    },
    {
     "data": {
      "text/plain": "Validating: 0it [00:00, ?it/s]",
      "application/vnd.jupyter.widget-view+json": {
       "version_major": 2,
       "version_minor": 0,
       "model_id": "b163a85a1a4f402aa62f1d8acb8d38eb"
      }
     },
     "metadata": {},
     "output_type": "display_data"
    },
    {
     "data": {
      "text/plain": "Validating: 0it [00:00, ?it/s]",
      "application/vnd.jupyter.widget-view+json": {
       "version_major": 2,
       "version_minor": 0,
       "model_id": "aaa2df32985047bd83de41dae20f0aad"
      }
     },
     "metadata": {},
     "output_type": "display_data"
    },
    {
     "data": {
      "text/plain": "Validating: 0it [00:00, ?it/s]",
      "application/vnd.jupyter.widget-view+json": {
       "version_major": 2,
       "version_minor": 0,
       "model_id": "01fc868acc7e4cbf88a6784f02cfb70c"
      }
     },
     "metadata": {},
     "output_type": "display_data"
    },
    {
     "data": {
      "text/plain": "Validating: 0it [00:00, ?it/s]",
      "application/vnd.jupyter.widget-view+json": {
       "version_major": 2,
       "version_minor": 0,
       "model_id": "e5c78ea17aa24726bda85868353d5b84"
      }
     },
     "metadata": {},
     "output_type": "display_data"
    },
    {
     "data": {
      "text/plain": "Validating: 0it [00:00, ?it/s]",
      "application/vnd.jupyter.widget-view+json": {
       "version_major": 2,
       "version_minor": 0,
       "model_id": "ae3f8a0b4b604e44b11c03b8ed844952"
      }
     },
     "metadata": {},
     "output_type": "display_data"
    },
    {
     "data": {
      "text/plain": "Validating: 0it [00:00, ?it/s]",
      "application/vnd.jupyter.widget-view+json": {
       "version_major": 2,
       "version_minor": 0,
       "model_id": "5033abd22e194a798869c75571417a3a"
      }
     },
     "metadata": {},
     "output_type": "display_data"
    },
    {
     "data": {
      "text/plain": "Validating: 0it [00:00, ?it/s]",
      "application/vnd.jupyter.widget-view+json": {
       "version_major": 2,
       "version_minor": 0,
       "model_id": "61516be2cd334143a8a13cba966bcd4c"
      }
     },
     "metadata": {},
     "output_type": "display_data"
    },
    {
     "data": {
      "text/plain": "Validating: 0it [00:00, ?it/s]",
      "application/vnd.jupyter.widget-view+json": {
       "version_major": 2,
       "version_minor": 0,
       "model_id": "2954fd216d1647ae93f7855f7765e7fb"
      }
     },
     "metadata": {},
     "output_type": "display_data"
    },
    {
     "data": {
      "text/plain": "Validating: 0it [00:00, ?it/s]",
      "application/vnd.jupyter.widget-view+json": {
       "version_major": 2,
       "version_minor": 0,
       "model_id": "0bbaeba5a9f3428ea6527d90cef8aeaa"
      }
     },
     "metadata": {},
     "output_type": "display_data"
    },
    {
     "data": {
      "text/plain": "Validating: 0it [00:00, ?it/s]",
      "application/vnd.jupyter.widget-view+json": {
       "version_major": 2,
       "version_minor": 0,
       "model_id": "43cf777eecee49ed852a88104814195e"
      }
     },
     "metadata": {},
     "output_type": "display_data"
    },
    {
     "data": {
      "text/plain": "Validating: 0it [00:00, ?it/s]",
      "application/vnd.jupyter.widget-view+json": {
       "version_major": 2,
       "version_minor": 0,
       "model_id": "f6d5a69899f1443aa7b2a56cf9d2eacd"
      }
     },
     "metadata": {},
     "output_type": "display_data"
    },
    {
     "data": {
      "text/plain": "Validating: 0it [00:00, ?it/s]",
      "application/vnd.jupyter.widget-view+json": {
       "version_major": 2,
       "version_minor": 0,
       "model_id": "bc4b6995dae74ec5bbe9fbee527f2ed6"
      }
     },
     "metadata": {},
     "output_type": "display_data"
    },
    {
     "data": {
      "text/plain": "Validating: 0it [00:00, ?it/s]",
      "application/vnd.jupyter.widget-view+json": {
       "version_major": 2,
       "version_minor": 0,
       "model_id": "d8c7b6d36d354821bd2b7fd0c0a77da7"
      }
     },
     "metadata": {},
     "output_type": "display_data"
    },
    {
     "data": {
      "text/plain": "Validating: 0it [00:00, ?it/s]",
      "application/vnd.jupyter.widget-view+json": {
       "version_major": 2,
       "version_minor": 0,
       "model_id": "c01bd49ce6fe43588ec18038f397604d"
      }
     },
     "metadata": {},
     "output_type": "display_data"
    },
    {
     "data": {
      "text/plain": "Validating: 0it [00:00, ?it/s]",
      "application/vnd.jupyter.widget-view+json": {
       "version_major": 2,
       "version_minor": 0,
       "model_id": "173901ba025d4c8688b0c5c152298205"
      }
     },
     "metadata": {},
     "output_type": "display_data"
    }
   ],
   "source": [
    "trainer = pl.Trainer(\n",
    "    gpus=1,\n",
    "    callbacks=[\n",
    "        pl.callbacks.ModelSummary(),\n",
    "        pl.callbacks.LearningRateMonitor(),\n",
    "        pl.callbacks.EarlyStopping(monitor=\"val/loss\", min_delta=0.00, patience=8, verbose=True, mode=\"min\")\n",
    "    ],\n",
    "    max_epochs=20,\n",
    "    enable_model_summary=True,\n",
    "    # logger=wandb_logger\n",
    ")\n",
    "trainer.fit(model, data_module)"
   ],
   "metadata": {
    "collapsed": false,
    "pycharm": {
     "name": "#%%\n"
    }
   }
  },
  {
   "cell_type": "code",
   "execution_count": 57,
   "outputs": [
    {
     "name": "stdout",
     "output_type": "stream",
     "text": [
      "[2022-02-14 11:59:19,855][py.warnings][WARNING] /data/pella/projects/University/Thesis/Thesis/code/env/lib/python3.9/site-packages/pytorch_lightning/trainer/data_loading.py:132: UserWarning: The dataloader, predict_dataloader 0, does not have many workers which may be a bottleneck. Consider increasing the value of the `num_workers` argument` (try 16 which is the number of cpus on this machine) in the `DataLoader` init to improve performance.\n",
      "  rank_zero_warn(\n",
      "\n"
     ]
    },
    {
     "data": {
      "text/plain": "Predicting: 143it [00:00, ?it/s]",
      "application/vnd.jupyter.widget-view+json": {
       "version_major": 2,
       "version_minor": 0,
       "model_id": "5594441acf644a55a370271a624ec660"
      }
     },
     "metadata": {},
     "output_type": "display_data"
    }
   ],
   "source": [
    "predictions = trainer.predict(embedding_module, data_module)\n",
    "embeddings = torch.cat(predictions, dim=0).detach().cpu().numpy()"
   ],
   "metadata": {
    "collapsed": false,
    "pycharm": {
     "name": "#%%\n"
    }
   }
  },
  {
   "cell_type": "code",
   "execution_count": 58,
   "outputs": [],
   "source": [
    "from shared.constants import BENCHMARKS_RESULTS\n",
    "\n",
    "save_path = BENCHMARKS_RESULTS.joinpath('analysis', 'pyg-sage-linkpred')\n",
    "save_path.mkdir(parents=True, exist_ok=True)"
   ],
   "metadata": {
    "collapsed": false,
    "pycharm": {
     "name": "#%%\n"
    }
   }
  },
  {
   "cell_type": "code",
   "execution_count": 59,
   "outputs": [],
   "source": [
    "import faiss\n",
    "import pandas as pd"
   ],
   "metadata": {
    "collapsed": false,
    "pycharm": {
     "name": "#%%\n"
    }
   }
  },
  {
   "cell_type": "code",
   "execution_count": 60,
   "outputs": [
    {
     "name": "stdout",
     "output_type": "stream",
     "text": [
      "Clustering 113 points in 32D to 5 clusters, redo 5 times, 20 iterations\n",
      "  Preprocessing in 0.00 s\n",
      "Outer iteration 0 / 5\n",
      "  Iteration 19 (0.00 s, search 0.00 s): objective=77.2936 imbalance=1.315 nsplit=0       \r\n",
      "Objective improved: keep new clusters\n",
      "Outer iteration 1 / 5\n",
      "  Iteration 19 (0.01 s, search 0.00 s): objective=74.1182 imbalance=1.029 nsplit=0       \r\n",
      "Objective improved: keep new clusters\n",
      "Outer iteration 2 / 5\n",
      "  Iteration 19 (0.01 s, search 0.01 s): objective=77.2176 imbalance=1.185 nsplit=0       \r\n",
      "Outer iteration 3 / 5\n",
      "  Iteration 19 (0.01 s, search 0.01 s): objective=73.0556 imbalance=1.228 nsplit=0       \r\n",
      "Objective improved: keep new clusters\n",
      "Outer iteration 4 / 5\n",
      "  Iteration 19 (0.01 s, search 0.01 s): objective=74.8482 imbalance=1.369 nsplit=0       \r"
     ]
    },
    {
     "name": "stderr",
     "output_type": "stream",
     "text": [
      "WARNING clustering 113 points to 5 centroids: please provide at least 195 training points\n"
     ]
    }
   ],
   "source": [
    "k = 5\n",
    "kmeans = faiss.Kmeans(embeddings.shape[1], k, niter=20, verbose=True, nredo=5)\n",
    "kmeans.train(embeddings)\n",
    "D, I = kmeans.index.search(embeddings, 1)"
   ],
   "metadata": {
    "collapsed": false,
    "pycharm": {
     "name": "#%%\n"
    }
   }
  },
  {
   "cell_type": "code",
   "execution_count": 61,
   "outputs": [
    {
     "name": "stdout",
     "output_type": "stream",
     "text": [
      "\n"
     ]
    }
   ],
   "source": [
    "from shared.graph import CommunityAssignment\n",
    "\n",
    "labeling = pd.Series(I.squeeze(), index=dataset.node_mapping(), name=\"cid\")\n",
    "labeling.index.name = \"nid\"\n",
    "comlist = CommunityAssignment(labeling)"
   ],
   "metadata": {
    "collapsed": false,
    "pycharm": {
     "name": "#%%\n"
    }
   }
  },
  {
   "cell_type": "code",
   "execution_count": 62,
   "outputs": [],
   "source": [
    "comlist.save_comlist(save_path.joinpath('schema.comlist'))"
   ],
   "metadata": {
    "collapsed": false,
    "pycharm": {
     "name": "#%%\n"
    }
   }
  },
  {
   "cell_type": "code",
   "execution_count": 63,
   "outputs": [
    {
     "name": "stdout",
     "output_type": "stream",
     "text": [
      "[2022-02-14 11:59:20,108][simple_parsing.helpers.serialization.serializable][DEBUG] from_dict for <class 'shared.schema.dataset.DatasetSchema'>, drop extra fields: True\n",
      "[2022-02-14 11:59:20,109][simple_parsing.helpers.serialization.decoding][DEBUG] name = name, field_type = <class 'str'>\n",
      "[2022-02-14 11:59:20,109][simple_parsing.helpers.serialization.decoding][DEBUG] name = database, field_type = <class 'str'>\n",
      "[2022-02-14 11:59:20,110][simple_parsing.helpers.serialization.decoding][DEBUG] name = description, field_type = <class 'str'>\n",
      "[2022-02-14 11:59:20,110][simple_parsing.helpers.serialization.decoding][DEBUG] name = versions, field_type = typing.Dict[str, shared.schema.dataset.DatasetVersion]\n",
      "[2022-02-14 11:59:20,110][simple_parsing.helpers.serialization.serializable][DEBUG] from_dict for <class 'shared.schema.dataset.DatasetVersion'>, drop extra fields: True\n",
      "[2022-02-14 11:59:20,111][simple_parsing.helpers.serialization.decoding][DEBUG] name = type, field_type = <enum 'DatasetVersionType'>\n",
      "[2022-02-14 11:59:20,111][simple_parsing.helpers.serialization.decoding][DEBUG] name = parameters, field_type = typing.Dict[str, typing.Any]\n",
      "[2022-02-14 11:59:20,111][simple_parsing.helpers.serialization.serializable][DEBUG] from_dict for <class 'shared.schema.dataset.DatasetVersion'>, drop extra fields: True\n",
      "[2022-02-14 11:59:20,112][simple_parsing.helpers.serialization.decoding][DEBUG] name = type, field_type = <enum 'DatasetVersionType'>\n",
      "[2022-02-14 11:59:20,112][simple_parsing.helpers.serialization.decoding][DEBUG] name = parameters, field_type = typing.Dict[str, typing.Any]\n",
      "[2022-02-14 11:59:20,112][simple_parsing.helpers.serialization.serializable][DEBUG] from_dict for <class 'shared.schema.dataset.DatasetVersion'>, drop extra fields: True\n",
      "[2022-02-14 11:59:20,113][simple_parsing.helpers.serialization.decoding][DEBUG] name = type, field_type = <enum 'DatasetVersionType'>\n",
      "[2022-02-14 11:59:20,113][simple_parsing.helpers.serialization.decoding][DEBUG] name = parameters, field_type = typing.Dict[str, typing.Any]\n",
      "[2022-02-14 11:59:20,113][simple_parsing.helpers.serialization.decoding][DEBUG] name = tags, field_type = typing.List[str]\n",
      "[2022-02-14 11:59:20,116][export_to_visualization.py][INFO] Processing /data/pella/projects/University/Thesis/Thesis/code/storage/datasets/processed/star-wars/schema.yaml\n",
      "[2022-02-14 11:59:20,134][simple_parsing.helpers.serialization.serializable][DEBUG] from_dict for <class 'shared.schema.graph.GraphSchema'>, drop extra fields: True\n",
      "[2022-02-14 11:59:20,135][simple_parsing.helpers.serialization.decoding][DEBUG] name = nodes, field_type = typing.Dict[str, shared.schema.graph.NodeSchema]\n",
      "[2022-02-14 11:59:20,136][simple_parsing.helpers.serialization.serializable][DEBUG] from_dict for <class 'shared.schema.graph.NodeSchema'>, drop extra fields: True\n",
      "[2022-02-14 11:59:20,136][simple_parsing.helpers.serialization.decoding][DEBUG] name = label, field_type = <class 'str'>\n",
      "[2022-02-14 11:59:20,136][simple_parsing.helpers.serialization.decoding][DEBUG] name = properties, field_type = typing.Dict[str, shared.schema.graph.GraphProperty]\n",
      "[2022-02-14 11:59:20,137][simple_parsing.helpers.serialization.serializable][DEBUG] from_dict for <class 'shared.schema.graph.GraphProperty'>, drop extra fields: True\n",
      "[2022-02-14 11:59:20,137][simple_parsing.helpers.serialization.decoding][DEBUG] name = dtype, field_type = <class 'shared.schema.graph.DType'>\n",
      "[2022-02-14 11:59:20,137][simple_parsing.helpers.serialization.serializable][DEBUG] from_dict for <class 'shared.schema.graph.GraphProperty'>, drop extra fields: True\n",
      "[2022-02-14 11:59:20,138][simple_parsing.helpers.serialization.decoding][DEBUG] name = dtype, field_type = <class 'shared.schema.graph.DType'>\n",
      "[2022-02-14 11:59:20,138][simple_parsing.helpers.serialization.serializable][DEBUG] from_dict for <class 'shared.schema.graph.GraphProperty'>, drop extra fields: True\n",
      "[2022-02-14 11:59:20,138][simple_parsing.helpers.serialization.decoding][DEBUG] name = dtype, field_type = <class 'shared.schema.graph.DType'>\n",
      "[2022-02-14 11:59:20,139][simple_parsing.helpers.serialization.serializable][DEBUG] from_dict for <class 'shared.schema.graph.GraphProperty'>, drop extra fields: True\n",
      "[2022-02-14 11:59:20,139][simple_parsing.helpers.serialization.decoding][DEBUG] name = dtype, field_type = <class 'shared.schema.graph.DType'>\n",
      "[2022-02-14 11:59:20,139][simple_parsing.helpers.serialization.serializable][DEBUG] from_dict for <class 'shared.schema.graph.GraphProperty'>, drop extra fields: True\n",
      "[2022-02-14 11:59:20,140][simple_parsing.helpers.serialization.decoding][DEBUG] name = dtype, field_type = <class 'shared.schema.graph.DType'>\n",
      "[2022-02-14 11:59:20,140][simple_parsing.helpers.serialization.serializable][DEBUG] from_dict for <class 'shared.schema.graph.GraphProperty'>, drop extra fields: True\n",
      "[2022-02-14 11:59:20,140][simple_parsing.helpers.serialization.decoding][DEBUG] name = dtype, field_type = <class 'shared.schema.graph.DType'>\n",
      "[2022-02-14 11:59:20,141][simple_parsing.helpers.serialization.serializable][DEBUG] from_dict for <class 'shared.schema.graph.GraphProperty'>, drop extra fields: True\n",
      "[2022-02-14 11:59:20,141][simple_parsing.helpers.serialization.decoding][DEBUG] name = dtype, field_type = <class 'shared.schema.graph.DType'>\n",
      "[2022-02-14 11:59:20,141][simple_parsing.helpers.serialization.serializable][DEBUG] from_dict for <class 'shared.schema.graph.GraphProperty'>, drop extra fields: True\n",
      "[2022-02-14 11:59:20,142][simple_parsing.helpers.serialization.decoding][DEBUG] name = dtype, field_type = <class 'shared.schema.graph.DType'>\n",
      "[2022-02-14 11:59:20,142][simple_parsing.helpers.serialization.serializable][DEBUG] from_dict for <class 'shared.schema.graph.GraphProperty'>, drop extra fields: True\n",
      "[2022-02-14 11:59:20,142][simple_parsing.helpers.serialization.decoding][DEBUG] name = dtype, field_type = <class 'shared.schema.graph.DType'>\n",
      "[2022-02-14 11:59:20,143][simple_parsing.helpers.serialization.serializable][DEBUG] from_dict for <class 'shared.schema.graph.GraphProperty'>, drop extra fields: True\n",
      "[2022-02-14 11:59:20,143][simple_parsing.helpers.serialization.decoding][DEBUG] name = dtype, field_type = <class 'shared.schema.graph.DType'>\n",
      "[2022-02-14 11:59:20,143][simple_parsing.helpers.serialization.serializable][DEBUG] from_dict for <class 'shared.schema.graph.GraphProperty'>, drop extra fields: True\n",
      "[2022-02-14 11:59:20,144][simple_parsing.helpers.serialization.decoding][DEBUG] name = dtype, field_type = <class 'shared.schema.graph.DType'>\n",
      "[2022-02-14 11:59:20,144][simple_parsing.helpers.serialization.serializable][DEBUG] from_dict for <class 'shared.schema.graph.GraphProperty'>, drop extra fields: True\n",
      "[2022-02-14 11:59:20,144][simple_parsing.helpers.serialization.decoding][DEBUG] name = dtype, field_type = <class 'shared.schema.graph.DType'>\n",
      "[2022-02-14 11:59:20,145][simple_parsing.helpers.serialization.serializable][DEBUG] from_dict for <class 'shared.schema.graph.GraphProperty'>, drop extra fields: True\n",
      "[2022-02-14 11:59:20,145][simple_parsing.helpers.serialization.decoding][DEBUG] name = dtype, field_type = <class 'shared.schema.graph.DType'>\n",
      "[2022-02-14 11:59:20,146][simple_parsing.helpers.serialization.serializable][DEBUG] from_dict for <class 'shared.schema.graph.GraphProperty'>, drop extra fields: True\n",
      "[2022-02-14 11:59:20,146][simple_parsing.helpers.serialization.decoding][DEBUG] name = dtype, field_type = <class 'shared.schema.graph.DType'>\n",
      "[2022-02-14 11:59:20,146][simple_parsing.helpers.serialization.serializable][DEBUG] from_dict for <class 'shared.schema.graph.GraphProperty'>, drop extra fields: True\n",
      "[2022-02-14 11:59:20,147][simple_parsing.helpers.serialization.decoding][DEBUG] name = dtype, field_type = <class 'shared.schema.graph.DType'>\n",
      "[2022-02-14 11:59:20,147][simple_parsing.helpers.serialization.serializable][DEBUG] from_dict for <class 'shared.schema.graph.GraphProperty'>, drop extra fields: True\n",
      "[2022-02-14 11:59:20,147][simple_parsing.helpers.serialization.decoding][DEBUG] name = dtype, field_type = <class 'shared.schema.graph.DType'>\n",
      "[2022-02-14 11:59:20,148][simple_parsing.helpers.serialization.serializable][DEBUG] from_dict for <class 'shared.schema.graph.GraphProperty'>, drop extra fields: True\n",
      "[2022-02-14 11:59:20,148][simple_parsing.helpers.serialization.decoding][DEBUG] name = dtype, field_type = <class 'shared.schema.graph.DType'>\n",
      "[2022-02-14 11:59:20,148][simple_parsing.helpers.serialization.serializable][DEBUG] from_dict for <class 'shared.schema.graph.GraphProperty'>, drop extra fields: True\n",
      "[2022-02-14 11:59:20,149][simple_parsing.helpers.serialization.decoding][DEBUG] name = dtype, field_type = <class 'shared.schema.graph.DType'>\n",
      "[2022-02-14 11:59:20,149][simple_parsing.helpers.serialization.serializable][DEBUG] from_dict for <class 'shared.schema.graph.GraphProperty'>, drop extra fields: True\n",
      "[2022-02-14 11:59:20,149][simple_parsing.helpers.serialization.decoding][DEBUG] name = dtype, field_type = <class 'shared.schema.graph.DType'>\n",
      "[2022-02-14 11:59:20,150][simple_parsing.helpers.serialization.serializable][DEBUG] from_dict for <class 'shared.schema.graph.GraphProperty'>, drop extra fields: True\n",
      "[2022-02-14 11:59:20,150][simple_parsing.helpers.serialization.decoding][DEBUG] name = dtype, field_type = <class 'shared.schema.graph.DType'>\n",
      "[2022-02-14 11:59:20,150][simple_parsing.helpers.serialization.serializable][DEBUG] from_dict for <class 'shared.schema.graph.GraphProperty'>, drop extra fields: True\n",
      "[2022-02-14 11:59:20,151][simple_parsing.helpers.serialization.decoding][DEBUG] name = dtype, field_type = <class 'shared.schema.graph.DType'>\n",
      "[2022-02-14 11:59:20,151][simple_parsing.helpers.serialization.serializable][DEBUG] from_dict for <class 'shared.schema.graph.GraphProperty'>, drop extra fields: True\n",
      "[2022-02-14 11:59:20,151][simple_parsing.helpers.serialization.decoding][DEBUG] name = dtype, field_type = <class 'shared.schema.graph.DType'>\n",
      "[2022-02-14 11:59:20,152][simple_parsing.helpers.serialization.serializable][DEBUG] from_dict for <class 'shared.schema.graph.GraphProperty'>, drop extra fields: True\n",
      "[2022-02-14 11:59:20,152][simple_parsing.helpers.serialization.decoding][DEBUG] name = dtype, field_type = <class 'shared.schema.graph.DType'>\n",
      "[2022-02-14 11:59:20,152][simple_parsing.helpers.serialization.serializable][DEBUG] from_dict for <class 'shared.schema.graph.GraphProperty'>, drop extra fields: True\n",
      "[2022-02-14 11:59:20,153][simple_parsing.helpers.serialization.decoding][DEBUG] name = dtype, field_type = <class 'shared.schema.graph.DType'>\n",
      "[2022-02-14 11:59:20,153][simple_parsing.helpers.serialization.serializable][DEBUG] from_dict for <class 'shared.schema.graph.GraphProperty'>, drop extra fields: True\n",
      "[2022-02-14 11:59:20,153][simple_parsing.helpers.serialization.decoding][DEBUG] name = dtype, field_type = <class 'shared.schema.graph.DType'>\n",
      "[2022-02-14 11:59:20,154][simple_parsing.helpers.serialization.serializable][DEBUG] from_dict for <class 'shared.schema.graph.GraphProperty'>, drop extra fields: True\n",
      "[2022-02-14 11:59:20,154][simple_parsing.helpers.serialization.decoding][DEBUG] name = dtype, field_type = <class 'shared.schema.graph.DType'>\n",
      "[2022-02-14 11:59:20,154][simple_parsing.helpers.serialization.serializable][DEBUG] from_dict for <class 'shared.schema.graph.GraphProperty'>, drop extra fields: True\n",
      "[2022-02-14 11:59:20,155][simple_parsing.helpers.serialization.decoding][DEBUG] name = dtype, field_type = <class 'shared.schema.graph.DType'>\n",
      "[2022-02-14 11:59:20,155][simple_parsing.helpers.serialization.serializable][DEBUG] from_dict for <class 'shared.schema.graph.GraphProperty'>, drop extra fields: True\n",
      "[2022-02-14 11:59:20,155][simple_parsing.helpers.serialization.decoding][DEBUG] name = dtype, field_type = <class 'shared.schema.graph.DType'>\n",
      "[2022-02-14 11:59:20,156][simple_parsing.helpers.serialization.serializable][DEBUG] from_dict for <class 'shared.schema.graph.GraphProperty'>, drop extra fields: True\n",
      "[2022-02-14 11:59:20,162][simple_parsing.helpers.serialization.decoding][DEBUG] name = dtype, field_type = <class 'shared.schema.graph.DType'>\n",
      "[2022-02-14 11:59:20,162][simple_parsing.helpers.serialization.serializable][DEBUG] from_dict for <class 'shared.schema.graph.GraphProperty'>, drop extra fields: True\n",
      "[2022-02-14 11:59:20,163][simple_parsing.helpers.serialization.decoding][DEBUG] name = dtype, field_type = <class 'shared.schema.graph.DType'>\n",
      "[2022-02-14 11:59:20,163][simple_parsing.helpers.serialization.serializable][DEBUG] from_dict for <class 'shared.schema.graph.GraphProperty'>, drop extra fields: True\n",
      "[2022-02-14 11:59:20,163][simple_parsing.helpers.serialization.decoding][DEBUG] name = dtype, field_type = <class 'shared.schema.graph.DType'>\n",
      "[2022-02-14 11:59:20,164][simple_parsing.helpers.serialization.serializable][DEBUG] from_dict for <class 'shared.schema.graph.GraphProperty'>, drop extra fields: True\n",
      "[2022-02-14 11:59:20,164][simple_parsing.helpers.serialization.decoding][DEBUG] name = dtype, field_type = <class 'shared.schema.graph.DType'>\n",
      "[2022-02-14 11:59:20,165][simple_parsing.helpers.serialization.serializable][DEBUG] from_dict for <class 'shared.schema.graph.GraphProperty'>, drop extra fields: True\n",
      "[2022-02-14 11:59:20,165][simple_parsing.helpers.serialization.decoding][DEBUG] name = dtype, field_type = <class 'shared.schema.graph.DType'>\n",
      "[2022-02-14 11:59:20,166][simple_parsing.helpers.serialization.serializable][DEBUG] from_dict for <class 'shared.schema.graph.GraphProperty'>, drop extra fields: True\n",
      "[2022-02-14 11:59:20,166][simple_parsing.helpers.serialization.decoding][DEBUG] name = dtype, field_type = <class 'shared.schema.graph.DType'>\n",
      "[2022-02-14 11:59:20,168][simple_parsing.helpers.serialization.serializable][DEBUG] from_dict for <class 'shared.schema.graph.GraphProperty'>, drop extra fields: True\n",
      "[2022-02-14 11:59:20,168][simple_parsing.helpers.serialization.decoding][DEBUG] name = dtype, field_type = <class 'shared.schema.graph.DType'>\n",
      "[2022-02-14 11:59:20,169][simple_parsing.helpers.serialization.serializable][DEBUG] from_dict for <class 'shared.schema.graph.GraphProperty'>, drop extra fields: True\n",
      "[2022-02-14 11:59:20,169][simple_parsing.helpers.serialization.decoding][DEBUG] name = dtype, field_type = <class 'shared.schema.graph.DType'>\n",
      "[2022-02-14 11:59:20,170][simple_parsing.helpers.serialization.serializable][DEBUG] from_dict for <class 'shared.schema.graph.GraphProperty'>, drop extra fields: True\n",
      "[2022-02-14 11:59:20,170][simple_parsing.helpers.serialization.decoding][DEBUG] name = dtype, field_type = <class 'shared.schema.graph.DType'>\n",
      "[2022-02-14 11:59:20,171][simple_parsing.helpers.serialization.serializable][DEBUG] from_dict for <class 'shared.schema.graph.GraphProperty'>, drop extra fields: True\n",
      "[2022-02-14 11:59:20,172][simple_parsing.helpers.serialization.decoding][DEBUG] name = dtype, field_type = <class 'shared.schema.graph.DType'>\n",
      "[2022-02-14 11:59:20,173][simple_parsing.helpers.serialization.serializable][DEBUG] from_dict for <class 'shared.schema.graph.GraphProperty'>, drop extra fields: True\n",
      "[2022-02-14 11:59:20,173][simple_parsing.helpers.serialization.decoding][DEBUG] name = dtype, field_type = <class 'shared.schema.graph.DType'>\n",
      "[2022-02-14 11:59:20,173][simple_parsing.helpers.serialization.serializable][DEBUG] from_dict for <class 'shared.schema.graph.GraphProperty'>, drop extra fields: True\n",
      "[2022-02-14 11:59:20,174][simple_parsing.helpers.serialization.decoding][DEBUG] name = dtype, field_type = <class 'shared.schema.graph.DType'>\n",
      "[2022-02-14 11:59:20,175][simple_parsing.helpers.serialization.serializable][DEBUG] from_dict for <class 'shared.schema.graph.GraphProperty'>, drop extra fields: True\n",
      "[2022-02-14 11:59:20,175][simple_parsing.helpers.serialization.decoding][DEBUG] name = dtype, field_type = <class 'shared.schema.graph.DType'>\n",
      "[2022-02-14 11:59:20,176][simple_parsing.helpers.serialization.serializable][DEBUG] from_dict for <class 'shared.schema.graph.GraphProperty'>, drop extra fields: True\n",
      "[2022-02-14 11:59:20,176][simple_parsing.helpers.serialization.decoding][DEBUG] name = dtype, field_type = <class 'shared.schema.graph.DType'>\n",
      "[2022-02-14 11:59:20,178][simple_parsing.helpers.serialization.serializable][DEBUG] from_dict for <class 'shared.schema.graph.GraphProperty'>, drop extra fields: True\n",
      "[2022-02-14 11:59:20,178][simple_parsing.helpers.serialization.decoding][DEBUG] name = dtype, field_type = <class 'shared.schema.graph.DType'>\n",
      "[2022-02-14 11:59:20,178][simple_parsing.helpers.serialization.serializable][DEBUG] from_dict for <class 'shared.schema.graph.GraphProperty'>, drop extra fields: True\n",
      "[2022-02-14 11:59:20,179][simple_parsing.helpers.serialization.decoding][DEBUG] name = dtype, field_type = <class 'shared.schema.graph.DType'>\n",
      "[2022-02-14 11:59:20,180][simple_parsing.helpers.serialization.serializable][DEBUG] from_dict for <class 'shared.schema.graph.GraphProperty'>, drop extra fields: True\n",
      "[2022-02-14 11:59:20,180][simple_parsing.helpers.serialization.decoding][DEBUG] name = dtype, field_type = <class 'shared.schema.graph.DType'>\n",
      "[2022-02-14 11:59:20,181][simple_parsing.helpers.serialization.serializable][DEBUG] from_dict for <class 'shared.schema.graph.GraphProperty'>, drop extra fields: True\n",
      "[2022-02-14 11:59:20,182][simple_parsing.helpers.serialization.decoding][DEBUG] name = dtype, field_type = <class 'shared.schema.graph.DType'>\n",
      "[2022-02-14 11:59:20,183][simple_parsing.helpers.serialization.serializable][DEBUG] from_dict for <class 'shared.schema.graph.GraphProperty'>, drop extra fields: True\n",
      "[2022-02-14 11:59:20,184][simple_parsing.helpers.serialization.decoding][DEBUG] name = dtype, field_type = <class 'shared.schema.graph.DType'>\n",
      "[2022-02-14 11:59:20,184][simple_parsing.helpers.serialization.serializable][DEBUG] from_dict for <class 'shared.schema.graph.GraphProperty'>, drop extra fields: True\n",
      "[2022-02-14 11:59:20,185][simple_parsing.helpers.serialization.decoding][DEBUG] name = dtype, field_type = <class 'shared.schema.graph.DType'>\n",
      "[2022-02-14 11:59:20,186][simple_parsing.helpers.serialization.serializable][DEBUG] from_dict for <class 'shared.schema.graph.GraphProperty'>, drop extra fields: True\n",
      "[2022-02-14 11:59:20,187][simple_parsing.helpers.serialization.decoding][DEBUG] name = dtype, field_type = <class 'shared.schema.graph.DType'>\n",
      "[2022-02-14 11:59:20,188][simple_parsing.helpers.serialization.serializable][DEBUG] from_dict for <class 'shared.schema.graph.GraphProperty'>, drop extra fields: True\n",
      "[2022-02-14 11:59:20,188][simple_parsing.helpers.serialization.decoding][DEBUG] name = dtype, field_type = <class 'shared.schema.graph.DType'>\n",
      "[2022-02-14 11:59:20,189][simple_parsing.helpers.serialization.serializable][DEBUG] from_dict for <class 'shared.schema.graph.GraphProperty'>, drop extra fields: True\n",
      "[2022-02-14 11:59:20,190][simple_parsing.helpers.serialization.decoding][DEBUG] name = dtype, field_type = <class 'shared.schema.graph.DType'>\n",
      "[2022-02-14 11:59:20,191][simple_parsing.helpers.serialization.serializable][DEBUG] from_dict for <class 'shared.schema.graph.GraphProperty'>, drop extra fields: True\n",
      "[2022-02-14 11:59:20,193][simple_parsing.helpers.serialization.decoding][DEBUG] name = dtype, field_type = <class 'shared.schema.graph.DType'>\n",
      "[2022-02-14 11:59:20,194][simple_parsing.helpers.serialization.decoding][DEBUG] name = edges, field_type = typing.Dict[str, shared.schema.graph.EdgeSchema]\n",
      "[2022-02-14 11:59:20,194][simple_parsing.helpers.serialization.serializable][DEBUG] from_dict for <class 'shared.schema.graph.EdgeSchema'>, drop extra fields: True\n",
      "[2022-02-14 11:59:20,195][simple_parsing.helpers.serialization.decoding][DEBUG] name = properties, field_type = typing.Dict[str, shared.schema.graph.GraphProperty]\n",
      "[2022-02-14 11:59:20,195][simple_parsing.helpers.serialization.serializable][DEBUG] from_dict for <class 'shared.schema.graph.GraphProperty'>, drop extra fields: True\n",
      "[2022-02-14 11:59:20,196][simple_parsing.helpers.serialization.decoding][DEBUG] name = dtype, field_type = <class 'shared.schema.graph.DType'>\n",
      "[2022-02-14 11:59:20,197][simple_parsing.helpers.serialization.serializable][DEBUG] from_dict for <class 'shared.schema.graph.GraphProperty'>, drop extra fields: True\n",
      "[2022-02-14 11:59:20,197][simple_parsing.helpers.serialization.decoding][DEBUG] name = dtype, field_type = <class 'shared.schema.graph.DType'>\n",
      "[2022-02-14 11:59:20,198][simple_parsing.helpers.serialization.serializable][DEBUG] from_dict for <class 'shared.schema.graph.GraphProperty'>, drop extra fields: True\n",
      "[2022-02-14 11:59:20,198][simple_parsing.helpers.serialization.decoding][DEBUG] name = dtype, field_type = <class 'shared.schema.graph.DType'>\n",
      "[2022-02-14 11:59:20,198][simple_parsing.helpers.serialization.serializable][DEBUG] from_dict for <class 'shared.schema.graph.GraphProperty'>, drop extra fields: True\n",
      "[2022-02-14 11:59:20,199][simple_parsing.helpers.serialization.decoding][DEBUG] name = dtype, field_type = <class 'shared.schema.graph.DType'>\n",
      "[2022-02-14 11:59:20,199][simple_parsing.helpers.serialization.decoding][DEBUG] name = dynamic, field_type = typing.Optional[shared.schema.graph.DynamicConfig]\n",
      "[2022-02-14 11:59:20,200][simple_parsing.helpers.serialization.serializable][DEBUG] from_dict for <class 'shared.schema.graph.DynamicConfig'>, drop extra fields: True\n",
      "[2022-02-14 11:59:20,200][simple_parsing.helpers.serialization.decoding][DEBUG] name = timestamp, field_type = <class 'str'>\n",
      "[2022-02-14 11:59:20,201][simple_parsing.helpers.serialization.decoding][DEBUG] name = interaction, field_type = <class 'bool'>\n",
      "[2022-02-14 11:59:20,202][simple_parsing.helpers.serialization.decoding][DEBUG] name = source_type, field_type = <class 'str'>\n",
      "[2022-02-14 11:59:20,202][simple_parsing.helpers.serialization.decoding][DEBUG] name = target_type, field_type = <class 'str'>\n",
      "[2022-02-14 11:59:20,203][simple_parsing.helpers.serialization.decoding][DEBUG] name = directed, field_type = <class 'bool'>\n",
      "[2022-02-14 11:59:20,203][simple_parsing.helpers.serialization.serializable][DEBUG] from_dict for <class 'shared.schema.graph.EdgeSchema'>, drop extra fields: True\n",
      "[2022-02-14 11:59:20,204][simple_parsing.helpers.serialization.decoding][DEBUG] name = properties, field_type = typing.Dict[str, shared.schema.graph.GraphProperty]\n",
      "[2022-02-14 11:59:20,204][simple_parsing.helpers.serialization.serializable][DEBUG] from_dict for <class 'shared.schema.graph.GraphProperty'>, drop extra fields: True\n",
      "[2022-02-14 11:59:20,205][simple_parsing.helpers.serialization.decoding][DEBUG] name = dtype, field_type = <class 'shared.schema.graph.DType'>\n",
      "[2022-02-14 11:59:20,205][simple_parsing.helpers.serialization.serializable][DEBUG] from_dict for <class 'shared.schema.graph.GraphProperty'>, drop extra fields: True\n",
      "[2022-02-14 11:59:20,205][simple_parsing.helpers.serialization.decoding][DEBUG] name = dtype, field_type = <class 'shared.schema.graph.DType'>\n",
      "[2022-02-14 11:59:20,206][simple_parsing.helpers.serialization.serializable][DEBUG] from_dict for <class 'shared.schema.graph.GraphProperty'>, drop extra fields: True\n",
      "[2022-02-14 11:59:20,206][simple_parsing.helpers.serialization.decoding][DEBUG] name = dtype, field_type = <class 'shared.schema.graph.DType'>\n",
      "[2022-02-14 11:59:20,207][simple_parsing.helpers.serialization.serializable][DEBUG] from_dict for <class 'shared.schema.graph.GraphProperty'>, drop extra fields: True\n",
      "[2022-02-14 11:59:20,207][simple_parsing.helpers.serialization.decoding][DEBUG] name = dtype, field_type = <class 'shared.schema.graph.DType'>\n",
      "[2022-02-14 11:59:20,207][simple_parsing.helpers.serialization.decoding][DEBUG] name = dynamic, field_type = typing.Optional[shared.schema.graph.DynamicConfig]\n",
      "[2022-02-14 11:59:20,208][simple_parsing.helpers.serialization.serializable][DEBUG] from_dict for <class 'shared.schema.graph.DynamicConfig'>, drop extra fields: True\n",
      "[2022-02-14 11:59:20,208][simple_parsing.helpers.serialization.decoding][DEBUG] name = timestamp, field_type = <class 'str'>\n",
      "[2022-02-14 11:59:20,209][simple_parsing.helpers.serialization.decoding][DEBUG] name = interaction, field_type = <class 'bool'>\n",
      "[2022-02-14 11:59:20,209][simple_parsing.helpers.serialization.decoding][DEBUG] name = source_type, field_type = <class 'str'>\n",
      "[2022-02-14 11:59:20,210][simple_parsing.helpers.serialization.decoding][DEBUG] name = target_type, field_type = <class 'str'>\n",
      "[2022-02-14 11:59:20,210][simple_parsing.helpers.serialization.decoding][DEBUG] name = directed, field_type = <class 'bool'>\n",
      "[2022-02-14 11:59:20,278][export_to_visualization.py][INFO] Adding prediction /data/pella/projects/University/Thesis/Thesis/code/storage/results/analysis/pyg-sage-linkpred/schema.comlist as prediction_0\n",
      "[2022-02-14 11:59:20,282][export_to_visualization.py][INFO] Writing /data/pella/projects/University/Thesis/Thesis/code/storage/datasets/export/star-wars/versions/base/schema.graphml\n"
     ]
    }
   ],
   "source": [
    "from datasets.scripts import export_to_visualization\n",
    "\n",
    "export_to_visualization.run(\n",
    "    export_to_visualization.Args(\n",
    "        dataset='star-wars',\n",
    "        version='base',\n",
    "        run_paths=[str(save_path)]\n",
    "    )\n",
    ")"
   ],
   "metadata": {
    "collapsed": false,
    "pycharm": {
     "name": "#%%\n"
    }
   }
  },
  {
   "cell_type": "code",
   "execution_count": 64,
   "outputs": [],
   "source": [
    "from shared.graph import DataGraph\n",
    "from benchmarks.evaluation import get_metric_list"
   ],
   "metadata": {
    "collapsed": false,
    "pycharm": {
     "name": "#%%\n"
    }
   }
  },
  {
   "cell_type": "code",
   "execution_count": 65,
   "outputs": [
    {
     "name": "stdout",
     "output_type": "stream",
     "text": [
      "[2022-02-14 11:59:20,363][simple_parsing.helpers.serialization.serializable][DEBUG] from_dict for <class 'shared.schema.dataset.DatasetSchema'>, drop extra fields: True\n",
      "[2022-02-14 11:59:20,363][simple_parsing.helpers.serialization.decoding][DEBUG] name = name, field_type = <class 'str'>\n",
      "[2022-02-14 11:59:20,364][simple_parsing.helpers.serialization.decoding][DEBUG] name = database, field_type = <class 'str'>\n",
      "[2022-02-14 11:59:20,364][simple_parsing.helpers.serialization.decoding][DEBUG] name = description, field_type = <class 'str'>\n",
      "[2022-02-14 11:59:20,365][simple_parsing.helpers.serialization.decoding][DEBUG] name = versions, field_type = typing.Dict[str, shared.schema.dataset.DatasetVersion]\n",
      "[2022-02-14 11:59:20,365][simple_parsing.helpers.serialization.serializable][DEBUG] from_dict for <class 'shared.schema.dataset.DatasetVersion'>, drop extra fields: True\n",
      "[2022-02-14 11:59:20,366][simple_parsing.helpers.serialization.decoding][DEBUG] name = type, field_type = <enum 'DatasetVersionType'>\n",
      "[2022-02-14 11:59:20,366][simple_parsing.helpers.serialization.decoding][DEBUG] name = parameters, field_type = typing.Dict[str, typing.Any]\n",
      "[2022-02-14 11:59:20,366][simple_parsing.helpers.serialization.serializable][DEBUG] from_dict for <class 'shared.schema.dataset.DatasetVersion'>, drop extra fields: True\n",
      "[2022-02-14 11:59:20,367][simple_parsing.helpers.serialization.decoding][DEBUG] name = type, field_type = <enum 'DatasetVersionType'>\n",
      "[2022-02-14 11:59:20,367][simple_parsing.helpers.serialization.decoding][DEBUG] name = parameters, field_type = typing.Dict[str, typing.Any]\n",
      "[2022-02-14 11:59:20,367][simple_parsing.helpers.serialization.serializable][DEBUG] from_dict for <class 'shared.schema.dataset.DatasetVersion'>, drop extra fields: True\n",
      "[2022-02-14 11:59:20,368][simple_parsing.helpers.serialization.decoding][DEBUG] name = type, field_type = <enum 'DatasetVersionType'>\n",
      "[2022-02-14 11:59:20,368][simple_parsing.helpers.serialization.decoding][DEBUG] name = parameters, field_type = typing.Dict[str, typing.Any]\n",
      "[2022-02-14 11:59:20,368][simple_parsing.helpers.serialization.decoding][DEBUG] name = tags, field_type = typing.List[str]\n",
      "[2022-02-14 11:59:20,384][simple_parsing.helpers.serialization.serializable][DEBUG] from_dict for <class 'shared.schema.graph.GraphSchema'>, drop extra fields: True\n",
      "[2022-02-14 11:59:20,385][simple_parsing.helpers.serialization.decoding][DEBUG] name = nodes, field_type = typing.Dict[str, shared.schema.graph.NodeSchema]\n",
      "[2022-02-14 11:59:20,385][simple_parsing.helpers.serialization.serializable][DEBUG] from_dict for <class 'shared.schema.graph.NodeSchema'>, drop extra fields: True\n",
      "[2022-02-14 11:59:20,386][simple_parsing.helpers.serialization.decoding][DEBUG] name = label, field_type = <class 'str'>\n",
      "[2022-02-14 11:59:20,386][simple_parsing.helpers.serialization.decoding][DEBUG] name = properties, field_type = typing.Dict[str, shared.schema.graph.GraphProperty]\n",
      "[2022-02-14 11:59:20,386][simple_parsing.helpers.serialization.serializable][DEBUG] from_dict for <class 'shared.schema.graph.GraphProperty'>, drop extra fields: True\n",
      "[2022-02-14 11:59:20,387][simple_parsing.helpers.serialization.decoding][DEBUG] name = dtype, field_type = <class 'shared.schema.graph.DType'>\n",
      "[2022-02-14 11:59:20,387][simple_parsing.helpers.serialization.serializable][DEBUG] from_dict for <class 'shared.schema.graph.GraphProperty'>, drop extra fields: True\n",
      "[2022-02-14 11:59:20,387][simple_parsing.helpers.serialization.decoding][DEBUG] name = dtype, field_type = <class 'shared.schema.graph.DType'>\n",
      "[2022-02-14 11:59:20,388][simple_parsing.helpers.serialization.serializable][DEBUG] from_dict for <class 'shared.schema.graph.GraphProperty'>, drop extra fields: True\n",
      "[2022-02-14 11:59:20,388][simple_parsing.helpers.serialization.decoding][DEBUG] name = dtype, field_type = <class 'shared.schema.graph.DType'>\n",
      "[2022-02-14 11:59:20,388][simple_parsing.helpers.serialization.serializable][DEBUG] from_dict for <class 'shared.schema.graph.GraphProperty'>, drop extra fields: True\n",
      "[2022-02-14 11:59:20,389][simple_parsing.helpers.serialization.decoding][DEBUG] name = dtype, field_type = <class 'shared.schema.graph.DType'>\n",
      "[2022-02-14 11:59:20,389][simple_parsing.helpers.serialization.serializable][DEBUG] from_dict for <class 'shared.schema.graph.GraphProperty'>, drop extra fields: True\n",
      "[2022-02-14 11:59:20,389][simple_parsing.helpers.serialization.decoding][DEBUG] name = dtype, field_type = <class 'shared.schema.graph.DType'>\n",
      "[2022-02-14 11:59:20,390][simple_parsing.helpers.serialization.serializable][DEBUG] from_dict for <class 'shared.schema.graph.GraphProperty'>, drop extra fields: True\n",
      "[2022-02-14 11:59:20,390][simple_parsing.helpers.serialization.decoding][DEBUG] name = dtype, field_type = <class 'shared.schema.graph.DType'>\n",
      "[2022-02-14 11:59:20,390][simple_parsing.helpers.serialization.serializable][DEBUG] from_dict for <class 'shared.schema.graph.GraphProperty'>, drop extra fields: True\n",
      "[2022-02-14 11:59:20,391][simple_parsing.helpers.serialization.decoding][DEBUG] name = dtype, field_type = <class 'shared.schema.graph.DType'>\n",
      "[2022-02-14 11:59:20,391][simple_parsing.helpers.serialization.serializable][DEBUG] from_dict for <class 'shared.schema.graph.GraphProperty'>, drop extra fields: True\n",
      "[2022-02-14 11:59:20,391][simple_parsing.helpers.serialization.decoding][DEBUG] name = dtype, field_type = <class 'shared.schema.graph.DType'>\n",
      "[2022-02-14 11:59:20,392][simple_parsing.helpers.serialization.serializable][DEBUG] from_dict for <class 'shared.schema.graph.GraphProperty'>, drop extra fields: True\n",
      "[2022-02-14 11:59:20,392][simple_parsing.helpers.serialization.decoding][DEBUG] name = dtype, field_type = <class 'shared.schema.graph.DType'>\n",
      "[2022-02-14 11:59:20,392][simple_parsing.helpers.serialization.serializable][DEBUG] from_dict for <class 'shared.schema.graph.GraphProperty'>, drop extra fields: True\n",
      "[2022-02-14 11:59:20,393][simple_parsing.helpers.serialization.decoding][DEBUG] name = dtype, field_type = <class 'shared.schema.graph.DType'>\n",
      "[2022-02-14 11:59:20,393][simple_parsing.helpers.serialization.serializable][DEBUG] from_dict for <class 'shared.schema.graph.GraphProperty'>, drop extra fields: True\n",
      "[2022-02-14 11:59:20,393][simple_parsing.helpers.serialization.decoding][DEBUG] name = dtype, field_type = <class 'shared.schema.graph.DType'>\n",
      "[2022-02-14 11:59:20,394][simple_parsing.helpers.serialization.serializable][DEBUG] from_dict for <class 'shared.schema.graph.GraphProperty'>, drop extra fields: True\n",
      "[2022-02-14 11:59:20,394][simple_parsing.helpers.serialization.decoding][DEBUG] name = dtype, field_type = <class 'shared.schema.graph.DType'>\n",
      "[2022-02-14 11:59:20,394][simple_parsing.helpers.serialization.serializable][DEBUG] from_dict for <class 'shared.schema.graph.GraphProperty'>, drop extra fields: True\n",
      "[2022-02-14 11:59:20,395][simple_parsing.helpers.serialization.decoding][DEBUG] name = dtype, field_type = <class 'shared.schema.graph.DType'>\n",
      "[2022-02-14 11:59:20,395][simple_parsing.helpers.serialization.serializable][DEBUG] from_dict for <class 'shared.schema.graph.GraphProperty'>, drop extra fields: True\n",
      "[2022-02-14 11:59:20,399][simple_parsing.helpers.serialization.decoding][DEBUG] name = dtype, field_type = <class 'shared.schema.graph.DType'>\n",
      "[2022-02-14 11:59:20,399][simple_parsing.helpers.serialization.serializable][DEBUG] from_dict for <class 'shared.schema.graph.GraphProperty'>, drop extra fields: True\n",
      "[2022-02-14 11:59:20,399][simple_parsing.helpers.serialization.decoding][DEBUG] name = dtype, field_type = <class 'shared.schema.graph.DType'>\n",
      "[2022-02-14 11:59:20,400][simple_parsing.helpers.serialization.serializable][DEBUG] from_dict for <class 'shared.schema.graph.GraphProperty'>, drop extra fields: True\n",
      "[2022-02-14 11:59:20,400][simple_parsing.helpers.serialization.decoding][DEBUG] name = dtype, field_type = <class 'shared.schema.graph.DType'>\n",
      "[2022-02-14 11:59:20,400][simple_parsing.helpers.serialization.serializable][DEBUG] from_dict for <class 'shared.schema.graph.GraphProperty'>, drop extra fields: True\n",
      "[2022-02-14 11:59:20,401][simple_parsing.helpers.serialization.decoding][DEBUG] name = dtype, field_type = <class 'shared.schema.graph.DType'>\n",
      "[2022-02-14 11:59:20,401][simple_parsing.helpers.serialization.serializable][DEBUG] from_dict for <class 'shared.schema.graph.GraphProperty'>, drop extra fields: True\n",
      "[2022-02-14 11:59:20,401][simple_parsing.helpers.serialization.decoding][DEBUG] name = dtype, field_type = <class 'shared.schema.graph.DType'>\n",
      "[2022-02-14 11:59:20,402][simple_parsing.helpers.serialization.serializable][DEBUG] from_dict for <class 'shared.schema.graph.GraphProperty'>, drop extra fields: True\n",
      "[2022-02-14 11:59:20,402][simple_parsing.helpers.serialization.decoding][DEBUG] name = dtype, field_type = <class 'shared.schema.graph.DType'>\n",
      "[2022-02-14 11:59:20,402][simple_parsing.helpers.serialization.serializable][DEBUG] from_dict for <class 'shared.schema.graph.GraphProperty'>, drop extra fields: True\n",
      "[2022-02-14 11:59:20,402][simple_parsing.helpers.serialization.decoding][DEBUG] name = dtype, field_type = <class 'shared.schema.graph.DType'>\n",
      "[2022-02-14 11:59:20,403][simple_parsing.helpers.serialization.serializable][DEBUG] from_dict for <class 'shared.schema.graph.GraphProperty'>, drop extra fields: True\n",
      "[2022-02-14 11:59:20,403][simple_parsing.helpers.serialization.decoding][DEBUG] name = dtype, field_type = <class 'shared.schema.graph.DType'>\n",
      "[2022-02-14 11:59:20,403][simple_parsing.helpers.serialization.serializable][DEBUG] from_dict for <class 'shared.schema.graph.GraphProperty'>, drop extra fields: True\n",
      "[2022-02-14 11:59:20,404][simple_parsing.helpers.serialization.decoding][DEBUG] name = dtype, field_type = <class 'shared.schema.graph.DType'>\n",
      "[2022-02-14 11:59:20,405][simple_parsing.helpers.serialization.serializable][DEBUG] from_dict for <class 'shared.schema.graph.GraphProperty'>, drop extra fields: True\n",
      "[2022-02-14 11:59:20,406][simple_parsing.helpers.serialization.decoding][DEBUG] name = dtype, field_type = <class 'shared.schema.graph.DType'>\n",
      "[2022-02-14 11:59:20,407][simple_parsing.helpers.serialization.serializable][DEBUG] from_dict for <class 'shared.schema.graph.GraphProperty'>, drop extra fields: True\n",
      "[2022-02-14 11:59:20,408][simple_parsing.helpers.serialization.decoding][DEBUG] name = dtype, field_type = <class 'shared.schema.graph.DType'>\n",
      "[2022-02-14 11:59:20,409][simple_parsing.helpers.serialization.serializable][DEBUG] from_dict for <class 'shared.schema.graph.GraphProperty'>, drop extra fields: True\n",
      "[2022-02-14 11:59:20,410][simple_parsing.helpers.serialization.decoding][DEBUG] name = dtype, field_type = <class 'shared.schema.graph.DType'>\n",
      "[2022-02-14 11:59:20,411][simple_parsing.helpers.serialization.serializable][DEBUG] from_dict for <class 'shared.schema.graph.GraphProperty'>, drop extra fields: True\n",
      "[2022-02-14 11:59:20,412][simple_parsing.helpers.serialization.decoding][DEBUG] name = dtype, field_type = <class 'shared.schema.graph.DType'>\n",
      "[2022-02-14 11:59:20,412][simple_parsing.helpers.serialization.serializable][DEBUG] from_dict for <class 'shared.schema.graph.GraphProperty'>, drop extra fields: True\n",
      "[2022-02-14 11:59:20,413][simple_parsing.helpers.serialization.decoding][DEBUG] name = dtype, field_type = <class 'shared.schema.graph.DType'>\n",
      "[2022-02-14 11:59:20,414][simple_parsing.helpers.serialization.serializable][DEBUG] from_dict for <class 'shared.schema.graph.GraphProperty'>, drop extra fields: True\n",
      "[2022-02-14 11:59:20,415][simple_parsing.helpers.serialization.decoding][DEBUG] name = dtype, field_type = <class 'shared.schema.graph.DType'>\n",
      "[2022-02-14 11:59:20,416][simple_parsing.helpers.serialization.serializable][DEBUG] from_dict for <class 'shared.schema.graph.GraphProperty'>, drop extra fields: True\n",
      "[2022-02-14 11:59:20,417][simple_parsing.helpers.serialization.decoding][DEBUG] name = dtype, field_type = <class 'shared.schema.graph.DType'>\n",
      "[2022-02-14 11:59:20,417][simple_parsing.helpers.serialization.serializable][DEBUG] from_dict for <class 'shared.schema.graph.GraphProperty'>, drop extra fields: True\n",
      "[2022-02-14 11:59:20,418][simple_parsing.helpers.serialization.decoding][DEBUG] name = dtype, field_type = <class 'shared.schema.graph.DType'>\n",
      "[2022-02-14 11:59:20,419][simple_parsing.helpers.serialization.serializable][DEBUG] from_dict for <class 'shared.schema.graph.GraphProperty'>, drop extra fields: True\n",
      "[2022-02-14 11:59:20,420][simple_parsing.helpers.serialization.decoding][DEBUG] name = dtype, field_type = <class 'shared.schema.graph.DType'>\n",
      "[2022-02-14 11:59:20,421][simple_parsing.helpers.serialization.serializable][DEBUG] from_dict for <class 'shared.schema.graph.GraphProperty'>, drop extra fields: True\n",
      "[2022-02-14 11:59:20,421][simple_parsing.helpers.serialization.decoding][DEBUG] name = dtype, field_type = <class 'shared.schema.graph.DType'>\n",
      "[2022-02-14 11:59:20,422][simple_parsing.helpers.serialization.serializable][DEBUG] from_dict for <class 'shared.schema.graph.GraphProperty'>, drop extra fields: True\n",
      "[2022-02-14 11:59:20,423][simple_parsing.helpers.serialization.decoding][DEBUG] name = dtype, field_type = <class 'shared.schema.graph.DType'>\n",
      "[2022-02-14 11:59:20,424][simple_parsing.helpers.serialization.serializable][DEBUG] from_dict for <class 'shared.schema.graph.GraphProperty'>, drop extra fields: True\n",
      "[2022-02-14 11:59:20,425][simple_parsing.helpers.serialization.decoding][DEBUG] name = dtype, field_type = <class 'shared.schema.graph.DType'>\n",
      "[2022-02-14 11:59:20,426][simple_parsing.helpers.serialization.serializable][DEBUG] from_dict for <class 'shared.schema.graph.GraphProperty'>, drop extra fields: True\n",
      "[2022-02-14 11:59:20,426][simple_parsing.helpers.serialization.decoding][DEBUG] name = dtype, field_type = <class 'shared.schema.graph.DType'>\n",
      "[2022-02-14 11:59:20,427][simple_parsing.helpers.serialization.serializable][DEBUG] from_dict for <class 'shared.schema.graph.GraphProperty'>, drop extra fields: True\n",
      "[2022-02-14 11:59:20,428][simple_parsing.helpers.serialization.decoding][DEBUG] name = dtype, field_type = <class 'shared.schema.graph.DType'>\n",
      "[2022-02-14 11:59:20,429][simple_parsing.helpers.serialization.serializable][DEBUG] from_dict for <class 'shared.schema.graph.GraphProperty'>, drop extra fields: True\n",
      "[2022-02-14 11:59:20,429][simple_parsing.helpers.serialization.decoding][DEBUG] name = dtype, field_type = <class 'shared.schema.graph.DType'>\n",
      "[2022-02-14 11:59:20,430][simple_parsing.helpers.serialization.serializable][DEBUG] from_dict for <class 'shared.schema.graph.GraphProperty'>, drop extra fields: True\n",
      "[2022-02-14 11:59:20,431][simple_parsing.helpers.serialization.decoding][DEBUG] name = dtype, field_type = <class 'shared.schema.graph.DType'>\n",
      "[2022-02-14 11:59:20,432][simple_parsing.helpers.serialization.serializable][DEBUG] from_dict for <class 'shared.schema.graph.GraphProperty'>, drop extra fields: True\n",
      "[2022-02-14 11:59:20,433][simple_parsing.helpers.serialization.decoding][DEBUG] name = dtype, field_type = <class 'shared.schema.graph.DType'>\n",
      "[2022-02-14 11:59:20,434][simple_parsing.helpers.serialization.serializable][DEBUG] from_dict for <class 'shared.schema.graph.GraphProperty'>, drop extra fields: True\n",
      "[2022-02-14 11:59:20,434][simple_parsing.helpers.serialization.decoding][DEBUG] name = dtype, field_type = <class 'shared.schema.graph.DType'>\n",
      "[2022-02-14 11:59:20,435][simple_parsing.helpers.serialization.serializable][DEBUG] from_dict for <class 'shared.schema.graph.GraphProperty'>, drop extra fields: True\n",
      "[2022-02-14 11:59:20,436][simple_parsing.helpers.serialization.decoding][DEBUG] name = dtype, field_type = <class 'shared.schema.graph.DType'>\n",
      "[2022-02-14 11:59:20,437][simple_parsing.helpers.serialization.serializable][DEBUG] from_dict for <class 'shared.schema.graph.GraphProperty'>, drop extra fields: True\n",
      "[2022-02-14 11:59:20,437][simple_parsing.helpers.serialization.decoding][DEBUG] name = dtype, field_type = <class 'shared.schema.graph.DType'>\n",
      "[2022-02-14 11:59:20,438][simple_parsing.helpers.serialization.serializable][DEBUG] from_dict for <class 'shared.schema.graph.GraphProperty'>, drop extra fields: True\n",
      "[2022-02-14 11:59:20,438][simple_parsing.helpers.serialization.decoding][DEBUG] name = dtype, field_type = <class 'shared.schema.graph.DType'>\n",
      "[2022-02-14 11:59:20,439][simple_parsing.helpers.serialization.serializable][DEBUG] from_dict for <class 'shared.schema.graph.GraphProperty'>, drop extra fields: True\n",
      "[2022-02-14 11:59:20,439][simple_parsing.helpers.serialization.decoding][DEBUG] name = dtype, field_type = <class 'shared.schema.graph.DType'>\n",
      "[2022-02-14 11:59:20,440][simple_parsing.helpers.serialization.serializable][DEBUG] from_dict for <class 'shared.schema.graph.GraphProperty'>, drop extra fields: True\n",
      "[2022-02-14 11:59:20,441][simple_parsing.helpers.serialization.decoding][DEBUG] name = dtype, field_type = <class 'shared.schema.graph.DType'>\n",
      "[2022-02-14 11:59:20,441][simple_parsing.helpers.serialization.serializable][DEBUG] from_dict for <class 'shared.schema.graph.GraphProperty'>, drop extra fields: True\n",
      "[2022-02-14 11:59:20,442][simple_parsing.helpers.serialization.decoding][DEBUG] name = dtype, field_type = <class 'shared.schema.graph.DType'>\n",
      "[2022-02-14 11:59:20,442][simple_parsing.helpers.serialization.serializable][DEBUG] from_dict for <class 'shared.schema.graph.GraphProperty'>, drop extra fields: True\n",
      "[2022-02-14 11:59:20,443][simple_parsing.helpers.serialization.decoding][DEBUG] name = dtype, field_type = <class 'shared.schema.graph.DType'>\n",
      "[2022-02-14 11:59:20,443][simple_parsing.helpers.serialization.serializable][DEBUG] from_dict for <class 'shared.schema.graph.GraphProperty'>, drop extra fields: True\n",
      "[2022-02-14 11:59:20,444][simple_parsing.helpers.serialization.decoding][DEBUG] name = dtype, field_type = <class 'shared.schema.graph.DType'>\n",
      "[2022-02-14 11:59:20,445][simple_parsing.helpers.serialization.serializable][DEBUG] from_dict for <class 'shared.schema.graph.GraphProperty'>, drop extra fields: True\n",
      "[2022-02-14 11:59:20,445][simple_parsing.helpers.serialization.decoding][DEBUG] name = dtype, field_type = <class 'shared.schema.graph.DType'>\n",
      "[2022-02-14 11:59:20,446][simple_parsing.helpers.serialization.serializable][DEBUG] from_dict for <class 'shared.schema.graph.GraphProperty'>, drop extra fields: True\n",
      "[2022-02-14 11:59:20,446][simple_parsing.helpers.serialization.decoding][DEBUG] name = dtype, field_type = <class 'shared.schema.graph.DType'>\n",
      "[2022-02-14 11:59:20,447][simple_parsing.helpers.serialization.serializable][DEBUG] from_dict for <class 'shared.schema.graph.GraphProperty'>, drop extra fields: True\n",
      "[2022-02-14 11:59:20,448][simple_parsing.helpers.serialization.decoding][DEBUG] name = dtype, field_type = <class 'shared.schema.graph.DType'>\n",
      "[2022-02-14 11:59:20,449][simple_parsing.helpers.serialization.serializable][DEBUG] from_dict for <class 'shared.schema.graph.GraphProperty'>, drop extra fields: True\n",
      "[2022-02-14 11:59:20,449][simple_parsing.helpers.serialization.decoding][DEBUG] name = dtype, field_type = <class 'shared.schema.graph.DType'>\n",
      "[2022-02-14 11:59:20,450][simple_parsing.helpers.serialization.decoding][DEBUG] name = edges, field_type = typing.Dict[str, shared.schema.graph.EdgeSchema]\n",
      "[2022-02-14 11:59:20,451][simple_parsing.helpers.serialization.serializable][DEBUG] from_dict for <class 'shared.schema.graph.EdgeSchema'>, drop extra fields: True\n",
      "[2022-02-14 11:59:20,451][simple_parsing.helpers.serialization.decoding][DEBUG] name = properties, field_type = typing.Dict[str, shared.schema.graph.GraphProperty]\n",
      "[2022-02-14 11:59:20,452][simple_parsing.helpers.serialization.serializable][DEBUG] from_dict for <class 'shared.schema.graph.GraphProperty'>, drop extra fields: True\n",
      "[2022-02-14 11:59:20,453][simple_parsing.helpers.serialization.decoding][DEBUG] name = dtype, field_type = <class 'shared.schema.graph.DType'>\n",
      "[2022-02-14 11:59:20,454][simple_parsing.helpers.serialization.serializable][DEBUG] from_dict for <class 'shared.schema.graph.GraphProperty'>, drop extra fields: True\n",
      "[2022-02-14 11:59:20,454][simple_parsing.helpers.serialization.decoding][DEBUG] name = dtype, field_type = <class 'shared.schema.graph.DType'>\n",
      "[2022-02-14 11:59:20,455][simple_parsing.helpers.serialization.serializable][DEBUG] from_dict for <class 'shared.schema.graph.GraphProperty'>, drop extra fields: True\n",
      "[2022-02-14 11:59:20,456][simple_parsing.helpers.serialization.decoding][DEBUG] name = dtype, field_type = <class 'shared.schema.graph.DType'>\n",
      "[2022-02-14 11:59:20,456][simple_parsing.helpers.serialization.serializable][DEBUG] from_dict for <class 'shared.schema.graph.GraphProperty'>, drop extra fields: True\n",
      "[2022-02-14 11:59:20,457][simple_parsing.helpers.serialization.decoding][DEBUG] name = dtype, field_type = <class 'shared.schema.graph.DType'>\n",
      "[2022-02-14 11:59:20,458][simple_parsing.helpers.serialization.decoding][DEBUG] name = dynamic, field_type = typing.Optional[shared.schema.graph.DynamicConfig]\n",
      "[2022-02-14 11:59:20,459][simple_parsing.helpers.serialization.serializable][DEBUG] from_dict for <class 'shared.schema.graph.DynamicConfig'>, drop extra fields: True\n",
      "[2022-02-14 11:59:20,459][simple_parsing.helpers.serialization.decoding][DEBUG] name = timestamp, field_type = <class 'str'>\n",
      "[2022-02-14 11:59:20,460][simple_parsing.helpers.serialization.decoding][DEBUG] name = interaction, field_type = <class 'bool'>\n",
      "[2022-02-14 11:59:20,461][simple_parsing.helpers.serialization.decoding][DEBUG] name = source_type, field_type = <class 'str'>\n",
      "[2022-02-14 11:59:20,461][simple_parsing.helpers.serialization.decoding][DEBUG] name = target_type, field_type = <class 'str'>\n",
      "[2022-02-14 11:59:20,462][simple_parsing.helpers.serialization.decoding][DEBUG] name = directed, field_type = <class 'bool'>\n",
      "[2022-02-14 11:59:20,463][simple_parsing.helpers.serialization.serializable][DEBUG] from_dict for <class 'shared.schema.graph.EdgeSchema'>, drop extra fields: True\n",
      "[2022-02-14 11:59:20,463][simple_parsing.helpers.serialization.decoding][DEBUG] name = properties, field_type = typing.Dict[str, shared.schema.graph.GraphProperty]\n",
      "[2022-02-14 11:59:20,464][simple_parsing.helpers.serialization.serializable][DEBUG] from_dict for <class 'shared.schema.graph.GraphProperty'>, drop extra fields: True\n",
      "[2022-02-14 11:59:20,465][simple_parsing.helpers.serialization.decoding][DEBUG] name = dtype, field_type = <class 'shared.schema.graph.DType'>\n",
      "[2022-02-14 11:59:20,466][simple_parsing.helpers.serialization.serializable][DEBUG] from_dict for <class 'shared.schema.graph.GraphProperty'>, drop extra fields: True\n",
      "[2022-02-14 11:59:20,467][simple_parsing.helpers.serialization.decoding][DEBUG] name = dtype, field_type = <class 'shared.schema.graph.DType'>\n",
      "[2022-02-14 11:59:20,467][simple_parsing.helpers.serialization.serializable][DEBUG] from_dict for <class 'shared.schema.graph.GraphProperty'>, drop extra fields: True\n",
      "[2022-02-14 11:59:20,468][simple_parsing.helpers.serialization.decoding][DEBUG] name = dtype, field_type = <class 'shared.schema.graph.DType'>\n",
      "[2022-02-14 11:59:20,469][simple_parsing.helpers.serialization.serializable][DEBUG] from_dict for <class 'shared.schema.graph.GraphProperty'>, drop extra fields: True\n",
      "[2022-02-14 11:59:20,470][simple_parsing.helpers.serialization.decoding][DEBUG] name = dtype, field_type = <class 'shared.schema.graph.DType'>\n",
      "[2022-02-14 11:59:20,470][simple_parsing.helpers.serialization.decoding][DEBUG] name = dynamic, field_type = typing.Optional[shared.schema.graph.DynamicConfig]\n",
      "[2022-02-14 11:59:20,471][simple_parsing.helpers.serialization.serializable][DEBUG] from_dict for <class 'shared.schema.graph.DynamicConfig'>, drop extra fields: True\n",
      "[2022-02-14 11:59:20,472][simple_parsing.helpers.serialization.decoding][DEBUG] name = timestamp, field_type = <class 'str'>\n",
      "[2022-02-14 11:59:20,473][simple_parsing.helpers.serialization.decoding][DEBUG] name = interaction, field_type = <class 'bool'>\n",
      "[2022-02-14 11:59:20,474][simple_parsing.helpers.serialization.decoding][DEBUG] name = source_type, field_type = <class 'str'>\n",
      "[2022-02-14 11:59:20,474][simple_parsing.helpers.serialization.decoding][DEBUG] name = target_type, field_type = <class 'str'>\n",
      "[2022-02-14 11:59:20,475][simple_parsing.helpers.serialization.decoding][DEBUG] name = directed, field_type = <class 'bool'>\n"
     ]
    }
   ],
   "source": [
    "from shared.schema import GraphSchema, DatasetSchema\n",
    "\n",
    "DATASET = DatasetSchema.load_schema('star-wars')\n",
    "schema = GraphSchema.from_dataset(DATASET)\n",
    "G = DataGraph.from_schema(schema)\n",
    "G.to_undirected()"
   ],
   "metadata": {
    "collapsed": false,
    "pycharm": {
     "name": "#%%\n"
    }
   }
  },
  {
   "cell_type": "code",
   "execution_count": 66,
   "outputs": [
    {
     "data": {
      "text/plain": "                  metric     value\n0        community_count       NaN\n1            conductance  0.667751\n2              expansion  8.484557\n3  internal_edge_density  0.207884\n4                avg_odf  8.484557\n5     modularity_overlap -0.042180\n6        link_modularity  0.061725\n7           z_modularity  0.271507\n8             modularity  0.124710",
      "text/html": "<div>\n<style scoped>\n    .dataframe tbody tr th:only-of-type {\n        vertical-align: middle;\n    }\n\n    .dataframe tbody tr th {\n        vertical-align: top;\n    }\n\n    .dataframe thead th {\n        text-align: right;\n    }\n</style>\n<table border=\"1\" class=\"dataframe\">\n  <thead>\n    <tr style=\"text-align: right;\">\n      <th></th>\n      <th>metric</th>\n      <th>value</th>\n    </tr>\n  </thead>\n  <tbody>\n    <tr>\n      <th>0</th>\n      <td>community_count</td>\n      <td>NaN</td>\n    </tr>\n    <tr>\n      <th>1</th>\n      <td>conductance</td>\n      <td>0.667751</td>\n    </tr>\n    <tr>\n      <th>2</th>\n      <td>expansion</td>\n      <td>8.484557</td>\n    </tr>\n    <tr>\n      <th>3</th>\n      <td>internal_edge_density</td>\n      <td>0.207884</td>\n    </tr>\n    <tr>\n      <th>4</th>\n      <td>avg_odf</td>\n      <td>8.484557</td>\n    </tr>\n    <tr>\n      <th>5</th>\n      <td>modularity_overlap</td>\n      <td>-0.042180</td>\n    </tr>\n    <tr>\n      <th>6</th>\n      <td>link_modularity</td>\n      <td>0.061725</td>\n    </tr>\n    <tr>\n      <th>7</th>\n      <td>z_modularity</td>\n      <td>0.271507</td>\n    </tr>\n    <tr>\n      <th>8</th>\n      <td>modularity</td>\n      <td>0.124710</td>\n    </tr>\n  </tbody>\n</table>\n</div>"
     },
     "execution_count": 66,
     "metadata": {},
     "output_type": "execute_result"
    }
   ],
   "source": [
    "metrics = get_metric_list(ground_truth=False, overlapping=False)\n",
    "\n",
    "results = pd.DataFrame([\n",
    "    {\n",
    "        'metric': metric_cls.metric_name(),\n",
    "        'value': metric_cls.calculate(G, comlist)\n",
    "    }\n",
    "    for metric_cls in metrics]\n",
    ")\n",
    "results"
   ],
   "metadata": {
    "collapsed": false,
    "pycharm": {
     "name": "#%%\n"
    }
   }
  },
  {
   "cell_type": "code",
   "execution_count": 66,
   "outputs": [],
   "source": [],
   "metadata": {
    "collapsed": false,
    "pycharm": {
     "name": "#%%\n"
    }
   }
  }
 ],
 "metadata": {
  "kernelspec": {
   "display_name": "Python 3",
   "language": "python",
   "name": "python3"
  },
  "language_info": {
   "codemirror_mode": {
    "name": "ipython",
    "version": 2
   },
   "file_extension": ".py",
   "mimetype": "text/x-python",
   "name": "python",
   "nbconvert_exporter": "python",
   "pygments_lexer": "ipython2",
   "version": "2.7.6"
  }
 },
 "nbformat": 4,
 "nbformat_minor": 0
}