{
 "cells": [
  {
   "cell_type": "code",
   "execution_count": 1,
   "outputs": [],
   "source": [
    "%load_ext autoreload\n",
    "%autoreload 2"
   ],
   "metadata": {
    "collapsed": false,
    "pycharm": {
     "name": "#%%\n"
    }
   }
  },
  {
   "cell_type": "code",
   "execution_count": 2,
   "metadata": {},
   "outputs": [],
   "source": [
    "import pyspark.sql.functions as F\n",
    "import pyspark.sql.types as T\n",
    "from pyspark.sql import SparkSession"
   ]
  },
  {
   "cell_type": "code",
   "execution_count": 3,
   "outputs": [],
   "source": [
    "from shared.paths import DatasetPath\n",
    "\n",
    "DS = DatasetPath('social-distancing-student')"
   ],
   "metadata": {
    "collapsed": false,
    "pycharm": {
     "name": "#%%\n"
    }
   }
  },
  {
   "cell_type": "code",
   "execution_count": 4,
   "metadata": {
    "pycharm": {
     "name": "#%%\n"
    }
   },
   "outputs": [
    {
     "name": "stderr",
     "output_type": "stream",
     "text": [
      "WARNING: An illegal reflective access operation has occurred\n",
      "WARNING: Illegal reflective access by org.apache.spark.unsafe.Platform (file:/data/pella/projects/University/Thesis/Thesis/source/env/lib/python3.9/site-packages/pyspark/jars/spark-unsafe_2.12-3.2.0.jar) to constructor java.nio.DirectByteBuffer(long,int)\n",
      "WARNING: Please consider reporting this to the maintainers of org.apache.spark.unsafe.Platform\n",
      "WARNING: Use --illegal-access=warn to enable warnings of further illegal reflective access operations\n",
      "WARNING: All illegal access operations will be denied in a future release\n",
      "Using Spark's default log4j profile: org/apache/spark/log4j-defaults.properties\n",
      "Setting default log level to \"WARN\".\n",
      "To adjust logging level use sc.setLogLevel(newLevel). For SparkR, use setLogLevel(newLevel).\n",
      "22/04/06 00:50:35 WARN NativeCodeLoader: Unable to load native-hadoop library for your platform... using builtin-java classes where applicable\n"
     ]
    }
   ],
   "source": [
    "spark = (SparkSession.builder\n",
    "         .appName(str(DS))\n",
    "         .config('spark.sql.legacy.timeParserPolicy', 'LEGACY')\n",
    "         .config(\"spark.executor.memory\", \"8g\")\n",
    "         .config(\"spark.driver.memory\", \"8g\")\n",
    "         .config(\"spark.memory.offHeap.enabled\", True)\n",
    "         .config(\"spark.memory.offHeap.size\", \"16g\")\n",
    "         .getOrCreate())"
   ]
  },
  {
   "cell_type": "code",
   "execution_count": 5,
   "metadata": {
    "pycharm": {
     "name": "#%%\n"
    }
   },
   "outputs": [
    {
     "name": "stderr",
     "output_type": "stream",
     "text": [
      "                                                                                \r"
     ]
    },
    {
     "data": {
      "text/plain": "[Row(created_at=1601496062, entities=Row(hashtags=[], media=None, symbols=[], urls=[Row(display_url='twitter.com/i/web/status/1…', expanded_url='https://twitter.com/i/web/status/1311425852169744385', indices=[117, 140], url='https://t.co/EA6OO7cWR5')], user_mentions=[Row(id=2493701, id_str='2493701', indices=[0, 5], name='NU.nl', screen_name='NUnl')]), full_text='@NUnl Waarom niet de dove mens het mondkapje op en degene die spreekt geen monkapje. Als één van twee het maar op heeft en wel afstand houden. ik ben SH en heb erg last van mensen die te snel praten en te zacht. Wat doe ik hier aan. Gewoon maar vragen denk ik?', id_str='1311425852169744385', in_reply_to_status_id_str='1311352289928581120', in_reply_to_user_id_str='2493701', label_social_distancing='SUPPORTS', probabilities_social_distancing=Row(SUPPORTS=0.9821312427520752, IRRELEVANT=0.014853371307253838, REJECTS=0.003045313758775592), quoted_status_id_str='', sentiment=-0.6, text='@NUnl Waarom niet de dove mens het mondkapje op en degene die spreekt geen monkapje. Als één van twee het maar op h… https://t.co/EA6OO7cWR5', user=Row(followers_count=153, id_str='206319409', name='Mariët Grasso', screen_name='filakimou', verified=False))]"
     },
     "execution_count": 5,
     "metadata": {},
     "output_type": "execute_result"
    }
   ],
   "source": [
    "DATE_FORMAT = \"EEE MMM dd HH:mm:ss '+0000' yyyy\"\n",
    "probs_schema = T.StructType([\n",
    "    T.StructField('SUPPORTS', T.FloatType(), False),\n",
    "    T.StructField('IRRELEVANT', T.FloatType(), False),\n",
    "    T.StructField('REJECTS', T.FloatType(), False),\n",
    "])\n",
    "\n",
    "df = (\n",
    "    spark.read.format('org.apache.spark.sql.json')\n",
    "        .load(DS.raw_str('social-distancing-student.json'))\n",
    "        .withColumn('created_at', F.unix_timestamp(F.to_timestamp(F.col('created_at'), 'EEE MMM dd HH:mm:ss \\'+0000\\' yyyy')))\n",
    "        .withColumn('probabilities_social_distancing', F.from_json('probabilities_social_distancing', probs_schema))\n",
    ").cache()\n",
    "df.head(1)"
   ]
  },
  {
   "cell_type": "code",
   "execution_count": 6,
   "outputs": [
    {
     "name": "stderr",
     "output_type": "stream",
     "text": [
      "                                                                                \r"
     ]
    },
    {
     "data": {
      "text/plain": "[Row(name='DLRP-Magic.com', screen_name='DLRP_Magic', id='100002919'),\n Row(name='Russel⁷ ✜ +×', screen_name='HoldOnSoobin', id='1000331230565617666'),\n Row(name='abkuijer❌❌❌', screen_name='abkuijer', id='10003862'),\n Row(name='Koen', screen_name='koen0612', id='1000414316238172163'),\n Row(name='Wouter van Embden', screen_name='EmbdenWouter', id='1000464536082747393')]"
     },
     "execution_count": 6,
     "metadata": {},
     "output_type": "execute_result"
    }
   ],
   "source": [
    "users_tweet_df = df.select(\n",
    "    'user.name', 'user.screen_name', 'user.id_str'\n",
    ")\n",
    "user_mentions_df = (\n",
    "    df.select(F.explode('entities.user_mentions').alias('user'))\n",
    "        .select(\n",
    "        'user.name',\n",
    "        'user.screen_name',\n",
    "        'user.id_str'\n",
    "    )\n",
    ")\n",
    "df_nodes_users_tmp = (\n",
    "    users_tweet_df\n",
    "        .union(user_mentions_df)\n",
    "        .select(\n",
    "            'name',\n",
    "            'screen_name',\n",
    "            F.col('id_str').alias('id'),\n",
    "        )\n",
    "        .dropDuplicates(['id'])\n",
    ")\n",
    "df_nodes_users_tmp.head(5)"
   ],
   "metadata": {
    "collapsed": false,
    "pycharm": {
     "name": "#%%\n"
    }
   }
  },
  {
   "cell_type": "code",
   "execution_count": 7,
   "outputs": [
    {
     "data": {
      "text/plain": "[Row(id='040fungi', name='040fungi'),\n Row(id='11stedenMcDrive', name='11stedenMcDrive'),\n Row(id='140ktober', name='140ktober'),\n Row(id='150km', name='150km'),\n Row(id='1dagniet', name='1dagniet')]"
     },
     "execution_count": 7,
     "metadata": {},
     "output_type": "execute_result"
    }
   ],
   "source": [
    "df_nodes_hashtags_tmp = (\n",
    "    df\n",
    "        .select(F.explode('entities.hashtags').alias('hashtag'))\n",
    "        .select(\n",
    "        F.col('hashtag.text').alias('id'),\n",
    "        F.col('hashtag.text').alias('name')\n",
    "    )\n",
    "        .dropDuplicates(['id'])\n",
    ")\n",
    "df_nodes_hashtags_tmp.head(5)"
   ],
   "metadata": {
    "collapsed": false,
    "pycharm": {
     "name": "#%%\n"
    }
   }
  },
  {
   "cell_type": "code",
   "execution_count": 8,
   "outputs": [
    {
     "data": {
      "text/plain": "[Row(id='1311425852169744385', name='@NUnl Waarom niet de dove mens het mondkapje op en degene die spreekt geen monkapje. Als één van twee het maar op h… https://t.co/EA6OO7cWR5', label_social_distancing='SUPPORTS', feat_supports=0.9821312427520752, feat_irrelevant=0.014853371307253838, feat_rejects=0.003045313758775592, feat_sentiment=-0.6, timestamp_from=1601496062),\n Row(id='1311426330488180736', name='hoe meer werklozen er komen. Hoe meer bedrijven kapot gaan, en zo kan ik nog uren doorgaan. \\n\\nBuiten dit om, ik sna… https://t.co/8LGwaSPock', label_social_distancing='SUPPORTS', feat_supports=0.9024366736412048, feat_irrelevant=8.047425944823772e-05, feat_rejects=0.09751284122467041, feat_sentiment=-0.6, timestamp_from=1601496176),\n Row(id='1311426383906844672', name='RT @Rijksoverheid: Dringend advies: draag vanaf vandaag een niet-medisch mondkapje in publieke binnenruimtes zoals winkels, musea en benzin…', label_social_distancing='SUPPORTS', feat_supports=1.0000100135803223, feat_irrelevant=1.0000003385357559e-05, feat_rejects=1.0000012480304576e-05, feat_sentiment=-0.6, timestamp_from=1601496189),\n Row(id='1311426584893624322', name='RT @natassavass: George Soros in de bocht! Pompt even nog een keer 1,5M in de race voor een nieuwe OvJ in Los Angeles. Uiteraard voor een D…', label_social_distancing='SUPPORTS', feat_supports=0.997979462146759, feat_irrelevant=0.002040408318862319, feat_rejects=1.0134393960470334e-05, feat_sentiment=-0.6, timestamp_from=1601496237),\n Row(id='1311426630020202498', name='RT @Zuidplas: Dringend advies: draag vanaf vandaag een niet-medisch mondkapje in publieke binnenruimtes zoals winkels, musea en benzinestat…', label_social_distancing='SUPPORTS', feat_supports=1.0000100135803223, feat_irrelevant=1.0000003385357559e-05, feat_rejects=1.0000012480304576e-05, feat_sentiment=-0.6, timestamp_from=1601496248)]"
     },
     "execution_count": 8,
     "metadata": {},
     "output_type": "execute_result"
    }
   ],
   "source": [
    "df_nodes_tweets = df.select(\n",
    "    F.col('id_str').alias('id'),\n",
    "    F.col('text').alias('name'),\n",
    "    'label_social_distancing',\n",
    "    F.col('probabilities_social_distancing.SUPPORTS').alias('feat_supports'),\n",
    "    F.col('probabilities_social_distancing.IRRELEVANT').alias('feat_irrelevant'),\n",
    "    F.col('probabilities_social_distancing.REJECTS').alias('feat_rejects'),\n",
    "    F.col('sentiment').alias('feat_sentiment'),\n",
    "    F.col('created_at').alias('timestamp_from')\n",
    ").cache()\n",
    "df_nodes_tweets.head(5)"
   ],
   "metadata": {
    "collapsed": false,
    "pycharm": {
     "name": "#%%\n"
    }
   }
  },
  {
   "cell_type": "markdown",
   "source": [
    "# Edge Extraction"
   ],
   "metadata": {
    "collapsed": false,
    "pycharm": {
     "name": "#%% md\n"
    }
   }
  },
  {
   "cell_type": "code",
   "execution_count": 9,
   "outputs": [],
   "source": [
    "df_node_ids = (\n",
    "    df_nodes_users_tmp.select('id')\n",
    "        .union(df_nodes_hashtags_tmp.select('id'))\n",
    "        .union(df_nodes_tweets.select('id'))\n",
    "        .dropDuplicates(['id'])\n",
    ").cache()\n",
    "\n",
    "\n",
    "def filter_node_ids(df):\n",
    "    return df.join(\n",
    "        df_node_ids,\n",
    "        F.col('src') == F.col('id'),\n",
    "        'inner'\n",
    "    ).drop(\n",
    "        'id'\n",
    "    ).join(\n",
    "        df_node_ids,\n",
    "        F.col('dst') == F.col('id'),\n",
    "        'inner'\n",
    "    ).drop('id')"
   ],
   "metadata": {
    "collapsed": false,
    "pycharm": {
     "name": "#%%\n"
    }
   }
  },
  {
   "cell_type": "code",
   "execution_count": 10,
   "metadata": {
    "pycharm": {
     "name": "#%%\n"
    }
   },
   "outputs": [
    {
     "name": "stderr",
     "output_type": "stream",
     "text": [
      "                                                                                \r"
     ]
    },
    {
     "data": {
      "text/plain": "[Row(src='3826781607', dst='1311442489140826113', timestamp=1601500029),\n Row(src='1241825347357872129', dst='1311471885868244992', timestamp=1601507038),\n Row(src='1276939958255849472', dst='1311520686066860034', timestamp=1601518673),\n Row(src='1189609040348889089', dst='1311532547059388416', timestamp=1601521500),\n Row(src='979305110', dst='1311565260529307648', timestamp=1601529300)]"
     },
     "execution_count": 10,
     "metadata": {},
     "output_type": "execute_result"
    }
   ],
   "source": [
    "df_edges_tweeted = filter_node_ids(df.select(\n",
    "    F.col('user.id_str').alias('src'),\n",
    "    F.col('id_str').alias('dst'),\n",
    "    F.col('created_at').alias('timestamp')\n",
    ").filter(\n",
    "    F.col('src').isNotNull() &\n",
    "    F.col('dst').isNotNull()\n",
    ").filter(\n",
    "    \"dst != '' AND src != ''\"\n",
    ").distinct())\n",
    "\n",
    "df_edges_tweeted.head(5)\n",
    "# write_relations(tweeted_ref_df, \"TWEETED\", \":Twitter:User.id_str:user_id\", \":Twitter:Tweet.id_str:tweet_id\")"
   ]
  },
  {
   "cell_type": "code",
   "execution_count": 11,
   "metadata": {
    "pycharm": {
     "name": "#%%\n"
    }
   },
   "outputs": [
    {
     "data": {
      "text/plain": "[Row(src='1311562753329573888', dst='18373140', timestamp=1601528702),\n Row(src='1311607963124150274', dst='3103641', timestamp=1601539481),\n Row(src='1311622804429852672', dst='50771270', timestamp=1601543020),\n Row(src='1311652285987074057', dst='169491437', timestamp=1601550048),\n Row(src='1311886507079327744', dst='466779187', timestamp=1601605891)]"
     },
     "execution_count": 11,
     "metadata": {},
     "output_type": "execute_result"
    }
   ],
   "source": [
    "df_edges_reply_to_user = filter_node_ids(df.select(\n",
    "    F.col('id_str').alias('src'),\n",
    "    F.col('in_reply_to_user_id_str').alias('dst'),\n",
    "    F.col('created_at').alias('timestamp'),\n",
    ").filter(\n",
    "    F.col('src').isNotNull() &\n",
    "    F.col('dst').isNotNull()\n",
    ").filter(\"dst != '' AND src != ''\").distinct())\n",
    "\n",
    "df_edges_reply_to_user.head(5)\n",
    "# write_relations(reply_ref_df, \"REPLY_TO\", \":Twitter:Tweet.id_str:tweet_id\", \":Twitter:User.id_str:user_id\")"
   ]
  },
  {
   "cell_type": "code",
   "execution_count": 12,
   "outputs": [
    {
     "data": {
      "text/plain": "[Row(src='1311672846712811522', dst='1311650850654355462', timestamp=1601554951),\n Row(src='1311644863012769792', dst='1311635271650340870', timestamp=1601548279),\n Row(src='1311956349698351105', dst='1311951954172575744', timestamp=1601622543),\n Row(src='1311826032094334976', dst='1311726735638114306', timestamp=1601591473),\n Row(src='1311763002002153472', dst='1311755749975089167', timestamp=1601576445)]"
     },
     "execution_count": 12,
     "metadata": {},
     "output_type": "execute_result"
    }
   ],
   "source": [
    "df_edges_quote_tweet = filter_node_ids(df.select(\n",
    "    F.col('id_str').alias('src'),\n",
    "    F.col('quoted_status_id_str').alias('dst'),\n",
    "    F.col('created_at').alias('timestamp'),\n",
    ").filter(\n",
    "    F.col('src').isNotNull() &\n",
    "    F.col('dst').isNotNull()\n",
    ").filter(\"dst != '' AND src != ''\").distinct())\n",
    "\n",
    "df_edges_quote_tweet.head(5)\n",
    "# write_relations(quote_tweet_df, \"QUOTED\", \":Twitter:Tweet.id_str:tweet_id\", \":Twitter:Tweet.id_str:quoted_tweet_id\")"
   ],
   "metadata": {
    "collapsed": false,
    "pycharm": {
     "name": "#%%\n"
    }
   }
  },
  {
   "cell_type": "code",
   "execution_count": 13,
   "metadata": {
    "pycharm": {
     "name": "#%%\n"
    }
   },
   "outputs": [
    {
     "data": {
      "text/plain": "[Row(src='1311473035531169792', dst='187437575', timestamp=1601507312),\n Row(src='1311562753329573888', dst='18373140', timestamp=1601528702),\n Row(src='1311574363926335491', dst='101723649', timestamp=1601531470),\n Row(src='1311601203093090304', dst='171084541', timestamp=1601537869),\n Row(src='1311607568800927744', dst='15581273', timestamp=1601539387)]"
     },
     "execution_count": 13,
     "metadata": {},
     "output_type": "execute_result"
    }
   ],
   "source": [
    "df_edges_mentioned_user = filter_node_ids(df.select(\n",
    "    F.col('id_str').alias('src'),\n",
    "    F.explode('entities.user_mentions.id_str').alias('dst'),\n",
    "    F.col('created_at').alias('timestamp'),\n",
    ").filter(\n",
    "    F.col('src').isNotNull() &\n",
    "    F.col('dst').isNotNull()\n",
    ").filter(\"dst != '' AND src != ''\").distinct())\n",
    "\n",
    "df_edges_mentioned_user.head(5)\n",
    "# write_relations(mention_user_ref_df, \"MENTIONED\", \":Twitter:Tweet.id_str:tweet_id\", \":Twitter:User.id_str:user_id\")"
   ]
  },
  {
   "cell_type": "code",
   "execution_count": 14,
   "outputs": [
    {
     "data": {
      "text/plain": "[Row(src='1311672126659756033', dst='1311589634108002304', timestamp=1601554779),\n Row(src='1311676116520837120', dst='1311662390761586688', timestamp=1601555730),\n Row(src='1311771982661328896', dst='1311627253466501120', timestamp=1601578586),\n Row(src='1311565846666514432', dst='1311515283455180800', timestamp=1601529440),\n Row(src='1311762698007465986', dst='1311733426979049474', timestamp=1601576373)]"
     },
     "execution_count": 14,
     "metadata": {},
     "output_type": "execute_result"
    }
   ],
   "source": [
    "df_edges_reply_to_tweet = filter_node_ids(df.select(\n",
    "    F.col('id_str').alias('src'),\n",
    "    F.col('in_reply_to_status_id_str').alias('dst'),\n",
    "    F.col('created_at').alias('timestamp'),\n",
    ").filter(\n",
    "    F.col('src').isNotNull() &\n",
    "    F.col('dst').isNotNull()\n",
    ").filter(\"dst != '' AND src != ''\").distinct())\n",
    "\n",
    "df_edges_reply_to_tweet.head(5)\n",
    "# write_relations(reply_tweet_df, \"REPLY_TO\", \":Twitter:Tweet.id_str:tweet_id\", \":Twitter:Tweet.id_str:original_tweet_id\")"
   ],
   "metadata": {
    "collapsed": false,
    "pycharm": {
     "name": "#%%\n"
    }
   }
  },
  {
   "cell_type": "code",
   "execution_count": 15,
   "metadata": {
    "pycharm": {
     "name": "#%%\n"
    }
   },
   "outputs": [
    {
     "data": {
      "text/plain": "[Row(src='1311434772665847809', dst='schimmel', timestamp=1601498189),\n Row(src='1311579492163506177', dst='mondkapjes', timestamp=1601532693),\n Row(src='1311586415541735425', dst='winkels', timestamp=1601534344),\n Row(src='1311939874392616960', dst='corona', timestamp=1601618615),\n Row(src='1311434956934176768', dst='anderhalvemeter', timestamp=1601498233)]"
     },
     "execution_count": 15,
     "metadata": {},
     "output_type": "execute_result"
    }
   ],
   "source": [
    "df_edges_mentioned_hashtag = filter_node_ids(df.select(\n",
    "    F.col('id_str').alias('src'),\n",
    "    F.explode('entities.hashtags.text').alias('dst'),\n",
    "    F.col('created_at').alias('timestamp'),\n",
    ").filter(\n",
    "    F.col('src').isNotNull() &\n",
    "    F.col('dst').isNotNull()\n",
    ").filter(\"dst != '' AND src != ''\").distinct())\n",
    "\n",
    "df_edges_mentioned_hashtag.head(5)\n",
    "# write_relations(hashtag_mention_df, \"MENTIONED\", \":Twitter:Tweet.id_str:tweet_id\", \":Twitter:Hashtag.id_str:hashtag_id\")"
   ]
  },
  {
   "cell_type": "code",
   "execution_count": 16,
   "metadata": {
    "pycharm": {
     "name": "#%%\n"
    }
   },
   "outputs": [
    {
     "name": "stderr",
     "output_type": "stream",
     "text": [
      "                                                                                \r"
     ]
    },
    {
     "data": {
      "text/plain": "[Row(user_id='56377143', follower_id='2687493770'),\n Row(user_id='56377143', follower_id='1443138398928183298'),\n Row(user_id='56377143', follower_id='480680728'),\n Row(user_id='56377143', follower_id='801927938304315392'),\n Row(user_id='56377143', follower_id='279492619')]"
     },
     "execution_count": 16,
     "metadata": {},
     "output_type": "execute_result"
    }
   ],
   "source": [
    "df_user_ids = df_nodes_users_tmp.select('id')\n",
    "\n",
    "df_followers = (\n",
    "    spark.read.text(DS.raw_str('followers'), wholetext=False, pathGlobFilter='*.txt')\n",
    "        .select(\n",
    "        F.regexp_extract(F.input_file_name(), r'([0-9]+)%20([A-z0-9%]+).txt$', 1).alias('user_id'),\n",
    "        F.col('value').alias('follower_id'),\n",
    "    )\n",
    ").cache()\n",
    "\n",
    "df_followers.head(5)"
   ]
  },
  {
   "cell_type": "code",
   "execution_count": 17,
   "outputs": [
    {
     "name": "stderr",
     "output_type": "stream",
     "text": [
      "                                                                                \r"
     ]
    },
    {
     "data": {
      "text/plain": "[Row(src='1034004099950362625', dst='56377143'),\n Row(src='714542887040630784', dst='56377143'),\n Row(src='400296650', dst='56377143'),\n Row(src='2576050703', dst='56377143'),\n Row(src='138394987', dst='56377143')]"
     },
     "execution_count": 17,
     "metadata": {},
     "output_type": "execute_result"
    }
   ],
   "source": [
    "df_edges_follows = filter_node_ids(df_followers.join(\n",
    "    df_user_ids.alias('a'), F.col('follower_id') == F.col('a.id'), 'inner'\n",
    ").join(\n",
    "    df_user_ids.alias('b'), F.col('user_id') == F.col('b.id'), 'inner'\n",
    ").select(\n",
    "    F.col('follower_id').alias('src'),\n",
    "    F.col('user_id').alias('dst')\n",
    ").filter(\n",
    "    F.col('src').isNotNull() &\n",
    "    F.col('dst').isNotNull()\n",
    ").filter(\"dst != '' AND src != ''\").distinct())\n",
    "\n",
    "df_edges_follows.head(5)\n",
    "# write_relations(df_followers, \"FOLLOWS\", \":Twitter:User.id_str:follower_id\", \":Twitter:User.id_str:user_id\")"
   ],
   "metadata": {
    "collapsed": false,
    "pycharm": {
     "name": "#%%\n"
    }
   }
  },
  {
   "cell_type": "markdown",
   "source": [
    "# Feature Engineering"
   ],
   "metadata": {
    "collapsed": false
   }
  },
  {
   "cell_type": "code",
   "execution_count": 18,
   "outputs": [
    {
     "name": "stderr",
     "output_type": "stream",
     "text": [
      "[nltk_data] Downloading package stopwords to /home/egordm/nltk_data...\n",
      "[nltk_data]   Package stopwords is already up-to-date!\n",
      "                                                                                \r"
     ]
    },
    {
     "data": {
      "text/plain": "[Row(id='1311425852169744385', keywords=['nunl', 'waarom', 'dov', 'men', 'mondkapj', 'deg', 'spreekt', 'monkapj', 'twee', 'httpstcoeaoocwr']),\n Row(id='1311426330488180736', keywords=['werkloz', 'kom', 'bedrijv', 'kapot', 'gan', 'uren', 'doorgan', 'buit', 'sna', 'httpstcolgwaspock']),\n Row(id='1311426383906844672', keywords=['rijksover', 'dringend', 'advies', 'drag', 'vanaf', 'vandag', 'nietmedisch', 'mondkapj', 'publiek', 'binnenruimtes', 'zoal', 'winkel', 'musea', 'benzin']),\n Row(id='1311426584893624322', keywords=['natassavas', 'georg', 'soros', 'bocht', 'pompt', 'even', 'ker', 'rac', 'nieuw', 'ovj', 'los', 'angeles', 'uiteraard']),\n Row(id='1311426630020202498', keywords=['zuidplas', 'dringend', 'advies', 'drag', 'vanaf', 'vandag', 'nietmedisch', 'mondkapj', 'publiek', 'binnenruimtes', 'zoal', 'winkel', 'musea', 'benzinestat']),\n Row(id='1311426978390716417', keywords=['vrgroning', 'dringend', 'advies', 'drag', 'vanaf', 'vandag', 'nietmedisch', 'mondkapj', 'publiek', 'binnenruimtes', 'zoal', 'winkel', 'musea', 'benzines']),\n Row(id='1311427296105029633', keywords=['dissel', 'thuis', 'blijv', 'klacht', 'afstand', 'houd', 'blijft', 'belangrijker', 'mondkapj', 'httpstcohqnpbpfpq']),\n Row(id='1311427312328609797', keywords=['mkeuleman', 'larsnos', 'denk', 'sted', 'minimal', 'verschil', 'mak', 'wet', 'zeker', 'vakantie', 'duitsland', 'httpstcoywljzahgk']),\n Row(id='1311428045161590786', keywords=['minvw', 'dringend', 'advies', 'drag', 'vanaf', 'vandag', 'nietmedisch', 'mondkapj', 'publiek', 'binnenruimtes', 'zoal', 'winkel', 'musea', 'benzinestatio']),\n Row(id='1311428230235271168', keywords=['minvw', 'dringend', 'advies', 'drag', 'vanaf', 'vandag', 'nietmedisch', 'mondkapj', 'publiek', 'binnenruimtes', 'zoal', 'winkel', 'musea', 'benzinestatio'])]"
     },
     "execution_count": 18,
     "metadata": {},
     "output_type": "execute_result"
    }
   ],
   "source": [
    "from pyspark.ml.feature import Tokenizer, StopWordsRemover\n",
    "from nltk.stem.snowball import SnowballStemmer\n",
    "import nltk\n",
    "\n",
    "nltk.download('stopwords')\n",
    "\n",
    "df_kw_clean = df_nodes_tweets.select('id', (F.lower(F.regexp_replace('name', \"[^a-zA-Z\\\\s]\", \"\")).alias('text')))\n",
    "\n",
    "tokenizer = Tokenizer(inputCol='text', outputCol='words_token')\n",
    "df_kw_tokens = tokenizer.transform(df_kw_clean).select('id', 'words_token')\n",
    "\n",
    "stopwordList = nltk.corpus.stopwords.words('dutch')\n",
    "remover = StopWordsRemover(inputCol='words_token', outputCol='words_clean', stopWords=stopwordList)\n",
    "df_kw_nostopw = remover.transform(df_kw_tokens).select('id', 'words_clean')\n",
    "\n",
    "# Stem text\n",
    "stemmer = SnowballStemmer(language='dutch')\n",
    "stemmer_udf = F.udf(lambda tokens: [stemmer.stem(token) for token in tokens], T.ArrayType(T.StringType()))\n",
    "df_kw_stemmed = df_kw_nostopw.withColumn(\"words_stemmed\", stemmer_udf(\"words_clean\")).select('id', 'words_stemmed')\n",
    "\n",
    "filter_length_udf = F.udf(lambda row: [x for x in row if len(x) >= 3], T.ArrayType(T.StringType()))\n",
    "df_kw_doc = df_kw_stemmed.select('id', F.array_distinct(filter_length_udf(F.col('words_stemmed'))).alias('keywords'))\n",
    "\n",
    "df_kw_doc.head(10)"
   ],
   "metadata": {
    "collapsed": false,
    "pycharm": {
     "name": "#%%\n"
    }
   }
  },
  {
   "cell_type": "code",
   "execution_count": 19,
   "outputs": [
    {
     "name": "stderr",
     "output_type": "stream",
     "text": [
      "[Stage 66:===================================>                    (10 + 6) / 16]\r"
     ]
    },
    {
     "name": "stdout",
     "output_type": "stream",
     "text": [
      "+----------+-----+\n",
      "|   keyword|count|\n",
      "+----------+-----+\n",
      "|   afstand|17514|\n",
      "|     meter|12283|\n",
      "|      houd|12134|\n",
      "|  mondkapj| 5150|\n",
      "|      mens| 4960|\n",
      "|      drag| 3710|\n",
      "| anderhalv| 3465|\n",
      "|       wel| 3335|\n",
      "|      hand| 3198|\n",
      "|mondkapjes| 2970|\n",
      "+----------+-----+\n",
      "only showing top 10 rows\n",
      "\n"
     ]
    },
    {
     "name": "stderr",
     "output_type": "stream",
     "text": [
      "                                                                                \r"
     ]
    }
   ],
   "source": [
    "df_kw = df_kw_doc\\\n",
    "    .select(F.explode('keywords').alias('keyword'))\\\n",
    "    .groupBy('keyword')\\\n",
    "    .count()\\\n",
    "    .orderBy('count', ascending=False)\n",
    "\n",
    "df_kw.show(10)"
   ],
   "metadata": {
    "collapsed": false,
    "pycharm": {
     "name": "#%%\n"
    }
   }
  },
  {
   "cell_type": "code",
   "execution_count": 20,
   "outputs": [
    {
     "name": "stderr",
     "output_type": "stream",
     "text": [
      "[Stage 69:=================>                                      (5 + 11) / 16]\r"
     ]
    },
    {
     "name": "stdout",
     "output_type": "stream",
     "text": [
      "{'minpres', 'denk', 'allen', 'horeca', 'publiek', 'iederen', 'tuss', 'houdt', 'onz', 'wij', 'echt', 'winkel', 'waarom', 'afstand', 'zoal', 'mens', 'hou', 'schol', 'gewon', 'wer', 'vanaf', 'mag', 'drag', 'mondmasker', 'vandag', 'moet', 'advies', 'stuk', 'buit', 'gan', 'lat', 'houd', 'all', 'blijf', 'mondkapjes', 'binn', 'volgen', 'verspreid', 'wel', 'covid', 'nos', 'kom', 'zorg', 'masker', 'meter', 'maatregel', 'hand', 'mondkapj', 'goed', 'mogelijk', 'even', 'elkar', 'thuis', 'wet', 'mee', 'mak', 'zie', 'ander', 'zit', 'wass', 'blijv', 'dringend', 'rivm', 'grot', 'sted', 'regel', 'wek', 'werk', 'binnenruimtes', 'lockdown', 'musea', 'test', 'jij', 'besmet', 'net', 'gat', 'corona', 'hel', 'anderhalv', 'war'}\n"
     ]
    },
    {
     "name": "stderr",
     "output_type": "stream",
     "text": [
      "                                                                                \r"
     ]
    }
   ],
   "source": [
    "k = 80\n",
    "top_keywords = {x.keyword for x in df_kw.limit(k).select('keyword').collect()}\n",
    "print(top_keywords)"
   ],
   "metadata": {
    "collapsed": false,
    "pycharm": {
     "name": "#%%\n"
    }
   }
  },
  {
   "cell_type": "code",
   "execution_count": 21,
   "outputs": [
    {
     "data": {
      "text/plain": "[Row(id='1311425852169744385', keyword='waarom'),\n Row(id='1311425852169744385', keyword='mondkapj'),\n Row(id='1311426330488180736', keyword='kom'),\n Row(id='1311426330488180736', keyword='gan'),\n Row(id='1311426330488180736', keyword='buit')]"
     },
     "execution_count": 21,
     "metadata": {},
     "output_type": "execute_result"
    }
   ],
   "source": [
    "filter_freq_udf = F.udf(lambda row: [kw for kw in row if kw in top_keywords], T.ArrayType(T.StringType()))\n",
    "df_freq_kw_doc = df_kw_doc.select('id', F.explode(filter_freq_udf(F.col('keywords'))).alias('keyword')).cache()\n",
    "df_freq_kw_doc.head(5)"
   ],
   "metadata": {
    "collapsed": false,
    "pycharm": {
     "name": "#%%\n"
    }
   }
  },
  {
   "cell_type": "code",
   "execution_count": 22,
   "outputs": [
    {
     "name": "stderr",
     "output_type": "stream",
     "text": [
      "22/04/06 00:52:16 WARN package: Truncated the string representation of a plan since it was too large. This behavior can be adjusted by setting 'spark.sql.debug.maxToStringFields'.\n",
      "                                                                                \r"
     ]
    },
    {
     "data": {
      "text/plain": "[Row(hashtag_id='040fungi', feat_minpres=False, feat_denk=False, feat_allen=False, feat_horeca=False, feat_publiek=False, feat_iederen=False, feat_tuss=False, feat_houdt=False, feat_onz=False, feat_wij=False, feat_echt=False, feat_winkel=False, feat_waarom=False, feat_afstand=False, feat_zoal=False, feat_mens=False, feat_hou=False, feat_schol=False, feat_gewon=False, feat_wer=False, feat_vanaf=False, feat_mag=False, feat_drag=False, feat_mondmasker=False, feat_vandag=False, feat_moet=True, feat_advies=False, feat_stuk=False, feat_buit=False, feat_gan=False, feat_lat=False, feat_houd=False, feat_all=False, feat_blijf=False, feat_mondkapjes=False, feat_binn=False, feat_volgen=False, feat_verspreid=False, feat_wel=False, feat_covid=False, feat_nos=False, feat_kom=False, feat_zorg=False, feat_masker=False, feat_meter=True, feat_maatregel=False, feat_hand=False, feat_mondkapj=False, feat_goed=False, feat_mogelijk=False, feat_even=False, feat_elkar=False, feat_thuis=False, feat_wet=False, feat_mee=False, feat_mak=False, feat_zie=False, feat_ander=False, feat_zit=False, feat_wass=False, feat_blijv=False, feat_dringend=False, feat_rivm=False, feat_grot=False, feat_sted=False, feat_regel=False, feat_wek=False, feat_werk=False, feat_binnenruimtes=False, feat_lockdown=False, feat_musea=False, feat_test=False, feat_jij=False, feat_besmet=False, feat_net=False, feat_gat=False, feat_corona=False, feat_hel=False, feat_anderhalv=False, feat_war=False),\n Row(hashtag_id='11stedenMcDrive', feat_minpres=False, feat_denk=False, feat_allen=False, feat_horeca=False, feat_publiek=False, feat_iederen=False, feat_tuss=False, feat_houdt=False, feat_onz=False, feat_wij=False, feat_echt=False, feat_winkel=False, feat_waarom=False, feat_afstand=True, feat_zoal=False, feat_mens=False, feat_hou=False, feat_schol=False, feat_gewon=False, feat_wer=False, feat_vanaf=False, feat_mag=False, feat_drag=False, feat_mondmasker=False, feat_vandag=False, feat_moet=False, feat_advies=False, feat_stuk=False, feat_buit=False, feat_gan=False, feat_lat=False, feat_houd=True, feat_all=False, feat_blijf=False, feat_mondkapjes=False, feat_binn=False, feat_volgen=False, feat_verspreid=False, feat_wel=False, feat_covid=False, feat_nos=False, feat_kom=False, feat_zorg=False, feat_masker=False, feat_meter=False, feat_maatregel=False, feat_hand=False, feat_mondkapj=False, feat_goed=False, feat_mogelijk=True, feat_even=False, feat_elkar=False, feat_thuis=False, feat_wet=False, feat_mee=False, feat_mak=False, feat_zie=False, feat_ander=False, feat_zit=False, feat_wass=False, feat_blijv=False, feat_dringend=False, feat_rivm=False, feat_grot=False, feat_sted=False, feat_regel=False, feat_wek=False, feat_werk=False, feat_binnenruimtes=False, feat_lockdown=False, feat_musea=False, feat_test=False, feat_jij=False, feat_besmet=False, feat_net=False, feat_gat=False, feat_corona=False, feat_hel=False, feat_anderhalv=False, feat_war=False),\n Row(hashtag_id='140ktober', feat_minpres=False, feat_denk=False, feat_allen=False, feat_horeca=False, feat_publiek=False, feat_iederen=False, feat_tuss=False, feat_houdt=False, feat_onz=False, feat_wij=False, feat_echt=False, feat_winkel=False, feat_waarom=False, feat_afstand=False, feat_zoal=False, feat_mens=False, feat_hou=False, feat_schol=False, feat_gewon=False, feat_wer=False, feat_vanaf=False, feat_mag=False, feat_drag=False, feat_mondmasker=False, feat_vandag=False, feat_moet=False, feat_advies=False, feat_stuk=False, feat_buit=False, feat_gan=False, feat_lat=False, feat_houd=False, feat_all=False, feat_blijf=False, feat_mondkapjes=False, feat_binn=False, feat_volgen=False, feat_verspreid=False, feat_wel=False, feat_covid=False, feat_nos=False, feat_kom=False, feat_zorg=False, feat_masker=False, feat_meter=False, feat_maatregel=False, feat_hand=False, feat_mondkapj=False, feat_goed=False, feat_mogelijk=False, feat_even=False, feat_elkar=False, feat_thuis=False, feat_wet=False, feat_mee=False, feat_mak=False, feat_zie=False, feat_ander=False, feat_zit=False, feat_wass=False, feat_blijv=False, feat_dringend=False, feat_rivm=False, feat_grot=False, feat_sted=False, feat_regel=False, feat_wek=False, feat_werk=False, feat_binnenruimtes=False, feat_lockdown=False, feat_musea=False, feat_test=False, feat_jij=False, feat_besmet=True, feat_net=False, feat_gat=False, feat_corona=False, feat_hel=False, feat_anderhalv=False, feat_war=False),\n Row(hashtag_id='150km', feat_minpres=False, feat_denk=False, feat_allen=False, feat_horeca=False, feat_publiek=False, feat_iederen=False, feat_tuss=False, feat_houdt=False, feat_onz=False, feat_wij=False, feat_echt=False, feat_winkel=False, feat_waarom=False, feat_afstand=False, feat_zoal=False, feat_mens=False, feat_hou=False, feat_schol=False, feat_gewon=False, feat_wer=False, feat_vanaf=False, feat_mag=False, feat_drag=False, feat_mondmasker=False, feat_vandag=False, feat_moet=False, feat_advies=False, feat_stuk=False, feat_buit=False, feat_gan=False, feat_lat=False, feat_houd=False, feat_all=False, feat_blijf=False, feat_mondkapjes=False, feat_binn=False, feat_volgen=False, feat_verspreid=False, feat_wel=False, feat_covid=False, feat_nos=False, feat_kom=False, feat_zorg=False, feat_masker=False, feat_meter=False, feat_maatregel=False, feat_hand=False, feat_mondkapj=False, feat_goed=True, feat_mogelijk=False, feat_even=False, feat_elkar=False, feat_thuis=False, feat_wet=False, feat_mee=False, feat_mak=False, feat_zie=False, feat_ander=False, feat_zit=False, feat_wass=False, feat_blijv=False, feat_dringend=False, feat_rivm=False, feat_grot=False, feat_sted=False, feat_regel=False, feat_wek=False, feat_werk=False, feat_binnenruimtes=False, feat_lockdown=False, feat_musea=False, feat_test=False, feat_jij=False, feat_besmet=False, feat_net=False, feat_gat=False, feat_corona=False, feat_hel=False, feat_anderhalv=False, feat_war=False),\n Row(hashtag_id='1dagniet', feat_minpres=False, feat_denk=False, feat_allen=False, feat_horeca=False, feat_publiek=False, feat_iederen=False, feat_tuss=False, feat_houdt=False, feat_onz=False, feat_wij=False, feat_echt=False, feat_winkel=False, feat_waarom=False, feat_afstand=True, feat_zoal=False, feat_mens=False, feat_hou=True, feat_schol=False, feat_gewon=False, feat_wer=False, feat_vanaf=False, feat_mag=False, feat_drag=False, feat_mondmasker=False, feat_vandag=False, feat_moet=False, feat_advies=False, feat_stuk=False, feat_buit=False, feat_gan=False, feat_lat=False, feat_houd=False, feat_all=False, feat_blijf=False, feat_mondkapjes=False, feat_binn=False, feat_volgen=False, feat_verspreid=False, feat_wel=False, feat_covid=False, feat_nos=False, feat_kom=False, feat_zorg=False, feat_masker=False, feat_meter=False, feat_maatregel=False, feat_hand=False, feat_mondkapj=False, feat_goed=False, feat_mogelijk=False, feat_even=False, feat_elkar=False, feat_thuis=True, feat_wet=False, feat_mee=False, feat_mak=False, feat_zie=False, feat_ander=False, feat_zit=False, feat_wass=False, feat_blijv=False, feat_dringend=False, feat_rivm=False, feat_grot=False, feat_sted=False, feat_regel=False, feat_wek=False, feat_werk=False, feat_binnenruimtes=False, feat_lockdown=False, feat_musea=False, feat_test=False, feat_jij=False, feat_besmet=False, feat_net=False, feat_gat=False, feat_corona=False, feat_hel=False, feat_anderhalv=False, feat_war=False)]"
     },
     "execution_count": 22,
     "metadata": {},
     "output_type": "execute_result"
    }
   ],
   "source": [
    "df_hashtag_feats = df_edges_mentioned_hashtag.select('src', 'dst')\\\n",
    "    .join(df_freq_kw_doc.alias('a'), F.col('src') == F.col('a.id'), 'inner')\\\n",
    "    .groupby('dst')\\\n",
    "    .agg(F.collect_list('keyword').alias('keywords'))\\\n",
    "    .select([F.col('dst').alias('hashtag_id')] + [\n",
    "        F.array_contains('keywords', F.lit(k)).alias('feat_' + str(k))\n",
    "        for k in top_keywords\n",
    "    ])\n",
    "df_hashtag_feats.head(5)"
   ],
   "metadata": {
    "collapsed": false,
    "pycharm": {
     "name": "#%%\n"
    }
   }
  },
  {
   "cell_type": "code",
   "execution_count": 23,
   "outputs": [
    {
     "name": "stderr",
     "output_type": "stream",
     "text": [
      "                                                                                \r"
     ]
    },
    {
     "data": {
      "text/plain": "[Row(id='Triviant', name='Triviant', hashtag_id='Triviant', feat_minpres=False, feat_denk=False, feat_allen=False, feat_horeca=False, feat_publiek=False, feat_iederen=False, feat_tuss=False, feat_houdt=False, feat_onz=False, feat_wij=False, feat_echt=False, feat_winkel=False, feat_waarom=False, feat_afstand=False, feat_zoal=False, feat_mens=False, feat_hou=False, feat_schol=False, feat_gewon=False, feat_wer=False, feat_vanaf=False, feat_mag=False, feat_drag=False, feat_mondmasker=False, feat_vandag=False, feat_moet=False, feat_advies=False, feat_stuk=False, feat_buit=False, feat_gan=False, feat_lat=False, feat_houd=False, feat_all=False, feat_blijf=False, feat_mondkapjes=False, feat_binn=False, feat_volgen=False, feat_verspreid=False, feat_wel=False, feat_covid=False, feat_nos=False, feat_kom=False, feat_zorg=False, feat_masker=False, feat_meter=True, feat_maatregel=False, feat_hand=False, feat_mondkapj=False, feat_goed=False, feat_mogelijk=False, feat_even=False, feat_elkar=False, feat_thuis=False, feat_wet=False, feat_mee=False, feat_mak=False, feat_zie=False, feat_ander=False, feat_zit=False, feat_wass=False, feat_blijv=False, feat_dringend=False, feat_rivm=False, feat_grot=False, feat_sted=False, feat_regel=False, feat_wek=False, feat_werk=False, feat_binnenruimtes=False, feat_lockdown=False, feat_musea=False, feat_test=False, feat_jij=False, feat_besmet=False, feat_net=False, feat_gat=False, feat_corona=False, feat_hel=False, feat_anderhalv=False, feat_war=False),\n Row(id='Twente', name='Twente', hashtag_id='Twente', feat_minpres=False, feat_denk=False, feat_allen=False, feat_horeca=False, feat_publiek=False, feat_iederen=False, feat_tuss=False, feat_houdt=False, feat_onz=False, feat_wij=False, feat_echt=False, feat_winkel=False, feat_waarom=False, feat_afstand=False, feat_zoal=False, feat_mens=False, feat_hou=False, feat_schol=False, feat_gewon=False, feat_wer=False, feat_vanaf=False, feat_mag=False, feat_drag=False, feat_mondmasker=False, feat_vandag=False, feat_moet=False, feat_advies=False, feat_stuk=False, feat_buit=False, feat_gan=False, feat_lat=False, feat_houd=False, feat_all=False, feat_blijf=False, feat_mondkapjes=False, feat_binn=False, feat_volgen=False, feat_verspreid=False, feat_wel=False, feat_covid=False, feat_nos=False, feat_kom=False, feat_zorg=False, feat_masker=False, feat_meter=False, feat_maatregel=False, feat_hand=False, feat_mondkapj=False, feat_goed=True, feat_mogelijk=False, feat_even=False, feat_elkar=False, feat_thuis=False, feat_wet=False, feat_mee=False, feat_mak=False, feat_zie=False, feat_ander=False, feat_zit=False, feat_wass=False, feat_blijv=False, feat_dringend=False, feat_rivm=False, feat_grot=False, feat_sted=False, feat_regel=False, feat_wek=False, feat_werk=False, feat_binnenruimtes=False, feat_lockdown=False, feat_musea=False, feat_test=False, feat_jij=False, feat_besmet=True, feat_net=False, feat_gat=False, feat_corona=True, feat_hel=False, feat_anderhalv=False, feat_war=False),\n Row(id='creativity', name='creativity', hashtag_id='creativity', feat_minpres=False, feat_denk=False, feat_allen=False, feat_horeca=False, feat_publiek=False, feat_iederen=False, feat_tuss=False, feat_houdt=False, feat_onz=False, feat_wij=False, feat_echt=False, feat_winkel=False, feat_waarom=False, feat_afstand=False, feat_zoal=False, feat_mens=False, feat_hou=False, feat_schol=False, feat_gewon=False, feat_wer=False, feat_vanaf=False, feat_mag=False, feat_drag=False, feat_mondmasker=False, feat_vandag=False, feat_moet=False, feat_advies=False, feat_stuk=False, feat_buit=False, feat_gan=False, feat_lat=False, feat_houd=False, feat_all=False, feat_blijf=False, feat_mondkapjes=False, feat_binn=False, feat_volgen=False, feat_verspreid=False, feat_wel=False, feat_covid=False, feat_nos=False, feat_kom=False, feat_zorg=False, feat_masker=False, feat_meter=False, feat_maatregel=False, feat_hand=False, feat_mondkapj=False, feat_goed=False, feat_mogelijk=True, feat_even=False, feat_elkar=False, feat_thuis=False, feat_wet=False, feat_mee=False, feat_mak=False, feat_zie=False, feat_ander=False, feat_zit=False, feat_wass=False, feat_blijv=False, feat_dringend=False, feat_rivm=False, feat_grot=False, feat_sted=False, feat_regel=False, feat_wek=False, feat_werk=False, feat_binnenruimtes=False, feat_lockdown=False, feat_musea=False, feat_test=False, feat_jij=False, feat_besmet=False, feat_net=False, feat_gat=False, feat_corona=False, feat_hel=False, feat_anderhalv=False, feat_war=False),\n Row(id='herfstvakantie', name='herfstvakantie', hashtag_id='herfstvakantie', feat_minpres=False, feat_denk=False, feat_allen=False, feat_horeca=False, feat_publiek=False, feat_iederen=True, feat_tuss=False, feat_houdt=False, feat_onz=False, feat_wij=False, feat_echt=False, feat_winkel=False, feat_waarom=False, feat_afstand=False, feat_zoal=False, feat_mens=False, feat_hou=False, feat_schol=True, feat_gewon=False, feat_wer=True, feat_vanaf=False, feat_mag=False, feat_drag=False, feat_mondmasker=False, feat_vandag=True, feat_moet=False, feat_advies=False, feat_stuk=False, feat_buit=False, feat_gan=False, feat_lat=False, feat_houd=False, feat_all=False, feat_blijf=False, feat_mondkapjes=False, feat_binn=False, feat_volgen=True, feat_verspreid=False, feat_wel=False, feat_covid=False, feat_nos=False, feat_kom=False, feat_zorg=True, feat_masker=False, feat_meter=True, feat_maatregel=False, feat_hand=False, feat_mondkapj=True, feat_goed=False, feat_mogelijk=False, feat_even=True, feat_elkar=False, feat_thuis=False, feat_wet=False, feat_mee=False, feat_mak=False, feat_zie=False, feat_ander=False, feat_zit=False, feat_wass=False, feat_blijv=False, feat_dringend=False, feat_rivm=False, feat_grot=False, feat_sted=False, feat_regel=False, feat_wek=False, feat_werk=False, feat_binnenruimtes=False, feat_lockdown=True, feat_musea=False, feat_test=False, feat_jij=False, feat_besmet=False, feat_net=False, feat_gat=False, feat_corona=True, feat_hel=False, feat_anderhalv=False, feat_war=False),\n Row(id='input', name='input', hashtag_id='input', feat_minpres=True, feat_denk=False, feat_allen=False, feat_horeca=False, feat_publiek=False, feat_iederen=False, feat_tuss=False, feat_houdt=False, feat_onz=False, feat_wij=False, feat_echt=False, feat_winkel=False, feat_waarom=False, feat_afstand=False, feat_zoal=False, feat_mens=False, feat_hou=False, feat_schol=False, feat_gewon=False, feat_wer=False, feat_vanaf=False, feat_mag=False, feat_drag=False, feat_mondmasker=False, feat_vandag=False, feat_moet=False, feat_advies=False, feat_stuk=False, feat_buit=False, feat_gan=False, feat_lat=False, feat_houd=False, feat_all=False, feat_blijf=False, feat_mondkapjes=False, feat_binn=False, feat_volgen=False, feat_verspreid=False, feat_wel=False, feat_covid=False, feat_nos=False, feat_kom=False, feat_zorg=False, feat_masker=False, feat_meter=False, feat_maatregel=True, feat_hand=False, feat_mondkapj=False, feat_goed=False, feat_mogelijk=False, feat_even=False, feat_elkar=False, feat_thuis=False, feat_wet=False, feat_mee=False, feat_mak=False, feat_zie=False, feat_ander=False, feat_zit=False, feat_wass=False, feat_blijv=False, feat_dringend=False, feat_rivm=True, feat_grot=False, feat_sted=False, feat_regel=False, feat_wek=False, feat_werk=False, feat_binnenruimtes=False, feat_lockdown=False, feat_musea=False, feat_test=False, feat_jij=False, feat_besmet=False, feat_net=False, feat_gat=False, feat_corona=True, feat_hel=False, feat_anderhalv=False, feat_war=False)]"
     },
     "execution_count": 23,
     "metadata": {},
     "output_type": "execute_result"
    }
   ],
   "source": [
    "df_nodes_hashtags = df_nodes_hashtags_tmp\\\n",
    "    .join(df_hashtag_feats, F.col('id') == F.col('hashtag_id'), 'left').cache()\n",
    "df_nodes_hashtags.head(5)"
   ],
   "metadata": {
    "collapsed": false,
    "pycharm": {
     "name": "#%%\n"
    }
   }
  },
  {
   "cell_type": "code",
   "execution_count": 24,
   "outputs": [
    {
     "data": {
      "text/plain": "[Row(user_id='100002919', feat_minpres=False, feat_denk=False, feat_allen=True, feat_horeca=True, feat_publiek=False, feat_iederen=False, feat_tuss=True, feat_houdt=True, feat_onz=False, feat_wij=False, feat_echt=False, feat_winkel=False, feat_waarom=False, feat_afstand=False, feat_zoal=False, feat_mens=True, feat_hou=False, feat_schol=False, feat_gewon=False, feat_wer=False, feat_vanaf=False, feat_mag=False, feat_drag=False, feat_mondmasker=False, feat_vandag=False, feat_moet=False, feat_advies=False, feat_stuk=False, feat_buit=False, feat_gan=False, feat_lat=False, feat_houd=False, feat_all=False, feat_blijf=False, feat_mondkapjes=False, feat_binn=False, feat_volgen=False, feat_verspreid=False, feat_wel=False, feat_covid=False, feat_nos=False, feat_kom=False, feat_zorg=False, feat_masker=False, feat_meter=True, feat_maatregel=False, feat_hand=False, feat_mondkapj=False, feat_goed=False, feat_mogelijk=False, feat_even=False, feat_elkar=False, feat_thuis=False, feat_wet=False, feat_mee=False, feat_mak=False, feat_zie=False, feat_ander=False, feat_zit=False, feat_wass=False, feat_blijv=False, feat_dringend=False, feat_rivm=False, feat_grot=False, feat_sted=False, feat_regel=False, feat_wek=False, feat_werk=False, feat_binnenruimtes=False, feat_lockdown=False, feat_musea=False, feat_test=False, feat_jij=False, feat_besmet=False, feat_net=False, feat_gat=True, feat_corona=False, feat_hel=False, feat_anderhalv=False, feat_war=True),\n Row(user_id='10003862', feat_minpres=False, feat_denk=False, feat_allen=False, feat_horeca=False, feat_publiek=False, feat_iederen=False, feat_tuss=False, feat_houdt=False, feat_onz=False, feat_wij=True, feat_echt=False, feat_winkel=False, feat_waarom=False, feat_afstand=False, feat_zoal=False, feat_mens=False, feat_hou=False, feat_schol=False, feat_gewon=False, feat_wer=False, feat_vanaf=False, feat_mag=False, feat_drag=False, feat_mondmasker=False, feat_vandag=False, feat_moet=False, feat_advies=False, feat_stuk=False, feat_buit=False, feat_gan=False, feat_lat=False, feat_houd=False, feat_all=False, feat_blijf=False, feat_mondkapjes=False, feat_binn=False, feat_volgen=False, feat_verspreid=False, feat_wel=False, feat_covid=False, feat_nos=False, feat_kom=False, feat_zorg=False, feat_masker=False, feat_meter=True, feat_maatregel=False, feat_hand=False, feat_mondkapj=False, feat_goed=False, feat_mogelijk=False, feat_even=False, feat_elkar=False, feat_thuis=False, feat_wet=False, feat_mee=False, feat_mak=False, feat_zie=False, feat_ander=False, feat_zit=True, feat_wass=False, feat_blijv=False, feat_dringend=False, feat_rivm=False, feat_grot=True, feat_sted=False, feat_regel=False, feat_wek=False, feat_werk=False, feat_binnenruimtes=False, feat_lockdown=False, feat_musea=False, feat_test=False, feat_jij=False, feat_besmet=False, feat_net=False, feat_gat=False, feat_corona=False, feat_hel=False, feat_anderhalv=False, feat_war=False),\n Row(user_id='1000414316238172163', feat_minpres=False, feat_denk=True, feat_allen=False, feat_horeca=False, feat_publiek=False, feat_iederen=False, feat_tuss=False, feat_houdt=False, feat_onz=False, feat_wij=False, feat_echt=False, feat_winkel=False, feat_waarom=False, feat_afstand=False, feat_zoal=False, feat_mens=True, feat_hou=False, feat_schol=False, feat_gewon=False, feat_wer=False, feat_vanaf=False, feat_mag=False, feat_drag=False, feat_mondmasker=False, feat_vandag=False, feat_moet=False, feat_advies=False, feat_stuk=False, feat_buit=False, feat_gan=False, feat_lat=False, feat_houd=True, feat_all=False, feat_blijf=False, feat_mondkapjes=False, feat_binn=False, feat_volgen=False, feat_verspreid=False, feat_wel=True, feat_covid=False, feat_nos=False, feat_kom=False, feat_zorg=False, feat_masker=False, feat_meter=True, feat_maatregel=False, feat_hand=False, feat_mondkapj=False, feat_goed=False, feat_mogelijk=False, feat_even=False, feat_elkar=False, feat_thuis=False, feat_wet=False, feat_mee=False, feat_mak=False, feat_zie=False, feat_ander=False, feat_zit=False, feat_wass=False, feat_blijv=False, feat_dringend=False, feat_rivm=False, feat_grot=False, feat_sted=False, feat_regel=False, feat_wek=False, feat_werk=False, feat_binnenruimtes=False, feat_lockdown=False, feat_musea=False, feat_test=False, feat_jij=False, feat_besmet=False, feat_net=False, feat_gat=False, feat_corona=False, feat_hel=False, feat_anderhalv=False, feat_war=False),\n Row(user_id='1000464536082747393', feat_minpres=False, feat_denk=False, feat_allen=False, feat_horeca=False, feat_publiek=False, feat_iederen=False, feat_tuss=False, feat_houdt=False, feat_onz=False, feat_wij=False, feat_echt=True, feat_winkel=False, feat_waarom=True, feat_afstand=True, feat_zoal=False, feat_mens=False, feat_hou=False, feat_schol=False, feat_gewon=False, feat_wer=False, feat_vanaf=False, feat_mag=False, feat_drag=False, feat_mondmasker=False, feat_vandag=False, feat_moet=False, feat_advies=False, feat_stuk=False, feat_buit=False, feat_gan=False, feat_lat=False, feat_houd=True, feat_all=False, feat_blijf=False, feat_mondkapjes=False, feat_binn=False, feat_volgen=False, feat_verspreid=False, feat_wel=False, feat_covid=False, feat_nos=False, feat_kom=False, feat_zorg=False, feat_masker=False, feat_meter=False, feat_maatregel=False, feat_hand=False, feat_mondkapj=False, feat_goed=False, feat_mogelijk=False, feat_even=False, feat_elkar=False, feat_thuis=False, feat_wet=False, feat_mee=False, feat_mak=False, feat_zie=False, feat_ander=False, feat_zit=False, feat_wass=False, feat_blijv=False, feat_dringend=False, feat_rivm=False, feat_grot=False, feat_sted=False, feat_regel=False, feat_wek=False, feat_werk=False, feat_binnenruimtes=False, feat_lockdown=False, feat_musea=False, feat_test=False, feat_jij=False, feat_besmet=False, feat_net=False, feat_gat=False, feat_corona=False, feat_hel=False, feat_anderhalv=False, feat_war=False),\n Row(user_id='1000657366310969344', feat_minpres=False, feat_denk=False, feat_allen=False, feat_horeca=False, feat_publiek=False, feat_iederen=False, feat_tuss=False, feat_houdt=False, feat_onz=False, feat_wij=False, feat_echt=False, feat_winkel=False, feat_waarom=False, feat_afstand=True, feat_zoal=False, feat_mens=False, feat_hou=False, feat_schol=False, feat_gewon=False, feat_wer=False, feat_vanaf=False, feat_mag=False, feat_drag=False, feat_mondmasker=False, feat_vandag=False, feat_moet=False, feat_advies=False, feat_stuk=False, feat_buit=False, feat_gan=False, feat_lat=False, feat_houd=True, feat_all=False, feat_blijf=False, feat_mondkapjes=False, feat_binn=False, feat_volgen=False, feat_verspreid=False, feat_wel=False, feat_covid=False, feat_nos=False, feat_kom=False, feat_zorg=False, feat_masker=False, feat_meter=False, feat_maatregel=False, feat_hand=False, feat_mondkapj=False, feat_goed=False, feat_mogelijk=False, feat_even=False, feat_elkar=False, feat_thuis=False, feat_wet=False, feat_mee=False, feat_mak=False, feat_zie=False, feat_ander=False, feat_zit=False, feat_wass=False, feat_blijv=False, feat_dringend=False, feat_rivm=False, feat_grot=False, feat_sted=False, feat_regel=False, feat_wek=False, feat_werk=False, feat_binnenruimtes=False, feat_lockdown=False, feat_musea=False, feat_test=False, feat_jij=False, feat_besmet=False, feat_net=False, feat_gat=False, feat_corona=False, feat_hel=False, feat_anderhalv=False, feat_war=False)]"
     },
     "execution_count": 24,
     "metadata": {},
     "output_type": "execute_result"
    }
   ],
   "source": [
    "df_user_feats = df_edges_tweeted.select('src', 'dst')\\\n",
    "    .join(df_freq_kw_doc.alias('a'), F.col('dst') == F.col('a.id'), 'inner')\\\n",
    "    .groupby('src')\\\n",
    "    .agg(F.collect_list('keyword').alias('keywords'))\\\n",
    "    .select([F.col('src').alias('user_id')] + [\n",
    "        F.array_contains('keywords', F.lit(k)).alias('feat_' + str(k))\n",
    "        for k in top_keywords\n",
    "    ])\n",
    "df_user_feats.head(5)"
   ],
   "metadata": {
    "collapsed": false,
    "pycharm": {
     "name": "#%%\n"
    }
   }
  },
  {
   "cell_type": "code",
   "execution_count": 25,
   "outputs": [
    {
     "name": "stderr",
     "output_type": "stream",
     "text": [
      "                                                                                \r"
     ]
    },
    {
     "data": {
      "text/plain": "[Row(name='☾fey⁷ JIMIN DAAY', screen_name='cherrykissjoon', id='1001361715907514368', user_id=None, feat_minpres=None, feat_denk=None, feat_allen=None, feat_horeca=None, feat_publiek=None, feat_iederen=None, feat_tuss=None, feat_houdt=None, feat_onz=None, feat_wij=None, feat_echt=None, feat_winkel=None, feat_waarom=None, feat_afstand=None, feat_zoal=None, feat_mens=None, feat_hou=None, feat_schol=None, feat_gewon=None, feat_wer=None, feat_vanaf=None, feat_mag=None, feat_drag=None, feat_mondmasker=None, feat_vandag=None, feat_moet=None, feat_advies=None, feat_stuk=None, feat_buit=None, feat_gan=None, feat_lat=None, feat_houd=None, feat_all=None, feat_blijf=None, feat_mondkapjes=None, feat_binn=None, feat_volgen=None, feat_verspreid=None, feat_wel=None, feat_covid=None, feat_nos=None, feat_kom=None, feat_zorg=None, feat_masker=None, feat_meter=None, feat_maatregel=None, feat_hand=None, feat_mondkapj=None, feat_goed=None, feat_mogelijk=None, feat_even=None, feat_elkar=None, feat_thuis=None, feat_wet=None, feat_mee=None, feat_mak=None, feat_zie=None, feat_ander=None, feat_zit=None, feat_wass=None, feat_blijv=None, feat_dringend=None, feat_rivm=None, feat_grot=None, feat_sted=None, feat_regel=None, feat_wek=None, feat_werk=None, feat_binnenruimtes=None, feat_lockdown=None, feat_musea=None, feat_test=None, feat_jij=None, feat_besmet=None, feat_net=None, feat_gat=None, feat_corona=None, feat_hel=None, feat_anderhalv=None, feat_war=None),\n Row(name='Jarno ▪︎ Merom', screen_name='RommeJarno', id='1006144373984251904', user_id='1006144373984251904', feat_minpres=False, feat_denk=False, feat_allen=False, feat_horeca=True, feat_publiek=False, feat_iederen=False, feat_tuss=False, feat_houdt=False, feat_onz=False, feat_wij=False, feat_echt=False, feat_winkel=False, feat_waarom=False, feat_afstand=True, feat_zoal=False, feat_mens=True, feat_hou=False, feat_schol=False, feat_gewon=False, feat_wer=False, feat_vanaf=False, feat_mag=False, feat_drag=False, feat_mondmasker=False, feat_vandag=False, feat_moet=False, feat_advies=False, feat_stuk=False, feat_buit=False, feat_gan=False, feat_lat=False, feat_houd=True, feat_all=False, feat_blijf=False, feat_mondkapjes=False, feat_binn=False, feat_volgen=False, feat_verspreid=False, feat_wel=False, feat_covid=False, feat_nos=False, feat_kom=False, feat_zorg=False, feat_masker=False, feat_meter=False, feat_maatregel=False, feat_hand=False, feat_mondkapj=False, feat_goed=False, feat_mogelijk=False, feat_even=False, feat_elkar=False, feat_thuis=False, feat_wet=False, feat_mee=False, feat_mak=False, feat_zie=True, feat_ander=False, feat_zit=False, feat_wass=False, feat_blijv=False, feat_dringend=False, feat_rivm=False, feat_grot=False, feat_sted=False, feat_regel=False, feat_wek=False, feat_werk=False, feat_binnenruimtes=False, feat_lockdown=False, feat_musea=False, feat_test=False, feat_jij=False, feat_besmet=False, feat_net=False, feat_gat=False, feat_corona=False, feat_hel=False, feat_anderhalv=False, feat_war=False),\n Row(name='Jeroen Pepers 🇪🇺', screen_name='JeroenPepers', id='101008330', user_id='101008330', feat_minpres=False, feat_denk=False, feat_allen=False, feat_horeca=False, feat_publiek=False, feat_iederen=False, feat_tuss=False, feat_houdt=False, feat_onz=False, feat_wij=True, feat_echt=False, feat_winkel=False, feat_waarom=False, feat_afstand=False, feat_zoal=False, feat_mens=False, feat_hou=False, feat_schol=False, feat_gewon=False, feat_wer=False, feat_vanaf=False, feat_mag=False, feat_drag=False, feat_mondmasker=False, feat_vandag=False, feat_moet=False, feat_advies=False, feat_stuk=False, feat_buit=False, feat_gan=False, feat_lat=False, feat_houd=False, feat_all=False, feat_blijf=False, feat_mondkapjes=False, feat_binn=False, feat_volgen=False, feat_verspreid=False, feat_wel=False, feat_covid=False, feat_nos=False, feat_kom=False, feat_zorg=False, feat_masker=False, feat_meter=False, feat_maatregel=False, feat_hand=False, feat_mondkapj=False, feat_goed=False, feat_mogelijk=False, feat_even=False, feat_elkar=False, feat_thuis=False, feat_wet=False, feat_mee=False, feat_mak=False, feat_zie=False, feat_ander=False, feat_zit=False, feat_wass=False, feat_blijv=False, feat_dringend=False, feat_rivm=False, feat_grot=False, feat_sted=False, feat_regel=False, feat_wek=False, feat_werk=False, feat_binnenruimtes=False, feat_lockdown=False, feat_musea=False, feat_test=False, feat_jij=False, feat_besmet=False, feat_net=False, feat_gat=False, feat_corona=False, feat_hel=False, feat_anderhalv=False, feat_war=False),\n Row(name='Test1', screen_name='Test137352311', id='1012078301299531777', user_id='1012078301299531777', feat_minpres=False, feat_denk=False, feat_allen=False, feat_horeca=False, feat_publiek=False, feat_iederen=False, feat_tuss=False, feat_houdt=False, feat_onz=False, feat_wij=False, feat_echt=False, feat_winkel=False, feat_waarom=True, feat_afstand=True, feat_zoal=False, feat_mens=False, feat_hou=False, feat_schol=False, feat_gewon=False, feat_wer=False, feat_vanaf=False, feat_mag=False, feat_drag=False, feat_mondmasker=False, feat_vandag=False, feat_moet=False, feat_advies=False, feat_stuk=False, feat_buit=False, feat_gan=False, feat_lat=False, feat_houd=True, feat_all=False, feat_blijf=False, feat_mondkapjes=False, feat_binn=False, feat_volgen=False, feat_verspreid=False, feat_wel=False, feat_covid=False, feat_nos=False, feat_kom=False, feat_zorg=False, feat_masker=False, feat_meter=False, feat_maatregel=False, feat_hand=False, feat_mondkapj=False, feat_goed=False, feat_mogelijk=False, feat_even=False, feat_elkar=False, feat_thuis=False, feat_wet=False, feat_mee=False, feat_mak=False, feat_zie=False, feat_ander=False, feat_zit=False, feat_wass=False, feat_blijv=False, feat_dringend=False, feat_rivm=False, feat_grot=True, feat_sted=False, feat_regel=False, feat_wek=False, feat_werk=False, feat_binnenruimtes=False, feat_lockdown=False, feat_musea=False, feat_test=False, feat_jij=False, feat_besmet=False, feat_net=False, feat_gat=False, feat_corona=False, feat_hel=False, feat_anderhalv=False, feat_war=False),\n Row(name='A complicated mess 🙃', screen_name='TheJakNene', id='1030617542', user_id='1030617542', feat_minpres=False, feat_denk=False, feat_allen=False, feat_horeca=False, feat_publiek=False, feat_iederen=False, feat_tuss=False, feat_houdt=False, feat_onz=False, feat_wij=False, feat_echt=False, feat_winkel=True, feat_waarom=False, feat_afstand=False, feat_zoal=False, feat_mens=False, feat_hou=False, feat_schol=False, feat_gewon=False, feat_wer=False, feat_vanaf=False, feat_mag=False, feat_drag=False, feat_mondmasker=False, feat_vandag=False, feat_moet=False, feat_advies=False, feat_stuk=False, feat_buit=False, feat_gan=False, feat_lat=False, feat_houd=False, feat_all=False, feat_blijf=False, feat_mondkapjes=False, feat_binn=False, feat_volgen=False, feat_verspreid=False, feat_wel=True, feat_covid=False, feat_nos=False, feat_kom=False, feat_zorg=False, feat_masker=True, feat_meter=False, feat_maatregel=False, feat_hand=False, feat_mondkapj=False, feat_goed=False, feat_mogelijk=False, feat_even=False, feat_elkar=False, feat_thuis=False, feat_wet=False, feat_mee=False, feat_mak=False, feat_zie=False, feat_ander=False, feat_zit=False, feat_wass=False, feat_blijv=False, feat_dringend=False, feat_rivm=False, feat_grot=False, feat_sted=False, feat_regel=False, feat_wek=False, feat_werk=False, feat_binnenruimtes=False, feat_lockdown=False, feat_musea=False, feat_test=False, feat_jij=False, feat_besmet=False, feat_net=True, feat_gat=False, feat_corona=False, feat_hel=False, feat_anderhalv=False, feat_war=False)]"
     },
     "execution_count": 25,
     "metadata": {},
     "output_type": "execute_result"
    }
   ],
   "source": [
    "df_nodes_users = df_nodes_users_tmp\\\n",
    "    .join(df_user_feats, F.col('id') == F.col('user_id'), 'left').cache()\n",
    "df_nodes_users.head(5)"
   ],
   "metadata": {
    "collapsed": false,
    "pycharm": {
     "name": "#%%\n"
    }
   }
  },
  {
   "cell_type": "markdown",
   "source": [
    "# Renumbering the nodes"
   ],
   "metadata": {
    "collapsed": false,
    "pycharm": {
     "name": "#%% md\n"
    }
   }
  },
  {
   "cell_type": "code",
   "execution_count": 26,
   "outputs": [
    {
     "name": "stderr",
     "output_type": "stream",
     "text": [
      "                                                                                \r"
     ]
    },
    {
     "name": "stdout",
     "output_type": "stream",
     "text": [
      "+--------------------+--------------+-------------------+-------------------+------------+---------+----------+-----------+------------+------------+---------+----------+--------+--------+---------+-----------+-----------+------------+---------+---------+--------+----------+----------+--------+----------+--------+---------+---------------+-----------+---------+-----------+---------+---------+--------+--------+---------+--------+----------+---------------+---------+-----------+--------------+--------+----------+--------+--------+---------+-----------+----------+--------------+---------+-------------+---------+-------------+---------+----------+----------+--------+--------+--------+--------+----------+--------+---------+----------+-------------+---------+---------+---------+----------+--------+---------+------------------+-------------+----------+---------+--------+-----------+--------+--------+-----------+--------+--------------+--------+---+\n",
      "|                name|   screen_name|                tid|            user_id|feat_minpres|feat_denk|feat_allen|feat_horeca|feat_publiek|feat_iederen|feat_tuss|feat_houdt|feat_onz|feat_wij|feat_echt|feat_winkel|feat_waarom|feat_afstand|feat_zoal|feat_mens|feat_hou|feat_schol|feat_gewon|feat_wer|feat_vanaf|feat_mag|feat_drag|feat_mondmasker|feat_vandag|feat_moet|feat_advies|feat_stuk|feat_buit|feat_gan|feat_lat|feat_houd|feat_all|feat_blijf|feat_mondkapjes|feat_binn|feat_volgen|feat_verspreid|feat_wel|feat_covid|feat_nos|feat_kom|feat_zorg|feat_masker|feat_meter|feat_maatregel|feat_hand|feat_mondkapj|feat_goed|feat_mogelijk|feat_even|feat_elkar|feat_thuis|feat_wet|feat_mee|feat_mak|feat_zie|feat_ander|feat_zit|feat_wass|feat_blijv|feat_dringend|feat_rivm|feat_grot|feat_sted|feat_regel|feat_wek|feat_werk|feat_binnenruimtes|feat_lockdown|feat_musea|feat_test|feat_jij|feat_besmet|feat_net|feat_gat|feat_corona|feat_hel|feat_anderhalv|feat_war| id|\n",
      "+--------------------+--------------+-------------------+-------------------+------------+---------+----------+-----------+------------+------------+---------+----------+--------+--------+---------+-----------+-----------+------------+---------+---------+--------+----------+----------+--------+----------+--------+---------+---------------+-----------+---------+-----------+---------+---------+--------+--------+---------+--------+----------+---------------+---------+-----------+--------------+--------+----------+--------+--------+---------+-----------+----------+--------------+---------+-------------+---------+-------------+---------+----------+----------+--------+--------+--------+--------+----------+--------+---------+----------+-------------+---------+---------+---------+----------+--------+---------+------------------+-------------+----------+---------+--------+-----------+--------+--------+-----------+--------+--------------+--------+---+\n",
      "|    ☾fey⁷ JIMIN DAAY|cherrykissjoon|1001361715907514368|               null|        null|     null|      null|       null|        null|        null|     null|      null|    null|    null|     null|       null|       null|        null|     null|     null|    null|      null|      null|    null|      null|    null|     null|           null|       null|     null|       null|     null|     null|    null|    null|     null|    null|      null|           null|     null|       null|          null|    null|      null|    null|    null|     null|       null|      null|          null|     null|         null|     null|         null|     null|      null|      null|    null|    null|    null|    null|      null|    null|     null|      null|         null|     null|     null|     null|      null|    null|     null|              null|         null|      null|     null|    null|       null|    null|    null|       null|    null|          null|    null|  0|\n",
      "|      Jarno ▪︎ Merom|    RommeJarno|1006144373984251904|1006144373984251904|       false|    false|     false|       true|       false|       false|    false|     false|   false|   false|    false|      false|      false|        true|    false|     true|   false|     false|     false|   false|     false|   false|    false|          false|      false|    false|      false|    false|    false|   false|   false|     true|   false|     false|          false|    false|      false|         false|   false|     false|   false|   false|    false|      false|     false|         false|    false|        false|    false|        false|    false|     false|     false|   false|   false|   false|    true|     false|   false|    false|     false|        false|    false|    false|    false|     false|   false|    false|             false|        false|     false|    false|   false|      false|   false|   false|      false|   false|         false|   false|  1|\n",
      "|  Jeroen Pepers 🇪🇺|  JeroenPepers|          101008330|          101008330|       false|    false|     false|      false|       false|       false|    false|     false|   false|    true|    false|      false|      false|       false|    false|    false|   false|     false|     false|   false|     false|   false|    false|          false|      false|    false|      false|    false|    false|   false|   false|    false|   false|     false|          false|    false|      false|         false|   false|     false|   false|   false|    false|      false|     false|         false|    false|        false|    false|        false|    false|     false|     false|   false|   false|   false|   false|     false|   false|    false|     false|        false|    false|    false|    false|     false|   false|    false|             false|        false|     false|    false|   false|      false|   false|   false|      false|   false|         false|   false|  2|\n",
      "|               Test1| Test137352311|1012078301299531777|1012078301299531777|       false|    false|     false|      false|       false|       false|    false|     false|   false|   false|    false|      false|       true|        true|    false|    false|   false|     false|     false|   false|     false|   false|    false|          false|      false|    false|      false|    false|    false|   false|   false|     true|   false|     false|          false|    false|      false|         false|   false|     false|   false|   false|    false|      false|     false|         false|    false|        false|    false|        false|    false|     false|     false|   false|   false|   false|   false|     false|   false|    false|     false|        false|    false|     true|    false|     false|   false|    false|             false|        false|     false|    false|   false|      false|   false|   false|      false|   false|         false|   false|  3|\n",
      "|A complicated mes...|    TheJakNene|         1030617542|         1030617542|       false|    false|     false|      false|       false|       false|    false|     false|   false|   false|    false|       true|      false|       false|    false|    false|   false|     false|     false|   false|     false|   false|    false|          false|      false|    false|      false|    false|    false|   false|   false|    false|   false|     false|          false|    false|      false|         false|    true|     false|   false|   false|    false|       true|     false|         false|    false|        false|    false|        false|    false|     false|     false|   false|   false|   false|   false|     false|   false|    false|     false|        false|    false|    false|    false|     false|   false|    false|             false|        false|     false|    false|   false|      false|    true|   false|      false|   false|         false|   false|  4|\n",
      "+--------------------+--------------+-------------------+-------------------+------------+---------+----------+-----------+------------+------------+---------+----------+--------+--------+---------+-----------+-----------+------------+---------+---------+--------+----------+----------+--------+----------+--------+---------+---------------+-----------+---------+-----------+---------+---------+--------+--------+---------+--------+----------+---------------+---------+-----------+--------------+--------+----------+--------+--------+---------+-----------+----------+--------------+---------+-------------+---------+-------------+---------+----------+----------+--------+--------+--------+--------+----------+--------+---------+----------+-------------+---------+---------+---------+----------+--------+---------+------------------+-------------+----------+---------+--------+-----------+--------+--------+-----------+--------+--------------+--------+---+\n",
      "only showing top 5 rows\n",
      "\n"
     ]
    },
    {
     "name": "stderr",
     "output_type": "stream",
     "text": [
      "                                                                                \r"
     ]
    },
    {
     "name": "stdout",
     "output_type": "stream",
     "text": [
      "+--------------+--------------+--------------+------------+---------+----------+-----------+------------+------------+---------+----------+--------+--------+---------+-----------+-----------+------------+---------+---------+--------+----------+----------+--------+----------+--------+---------+---------------+-----------+---------+-----------+---------+---------+--------+--------+---------+--------+----------+---------------+---------+-----------+--------------+--------+----------+--------+--------+---------+-----------+----------+--------------+---------+-------------+---------+-------------+---------+----------+----------+--------+--------+--------+--------+----------+--------+---------+----------+-------------+---------+---------+---------+----------+--------+---------+------------------+-------------+----------+---------+--------+-----------+--------+--------+-----------+--------+--------------+--------+---+\n",
      "|           tid|          name|    hashtag_id|feat_minpres|feat_denk|feat_allen|feat_horeca|feat_publiek|feat_iederen|feat_tuss|feat_houdt|feat_onz|feat_wij|feat_echt|feat_winkel|feat_waarom|feat_afstand|feat_zoal|feat_mens|feat_hou|feat_schol|feat_gewon|feat_wer|feat_vanaf|feat_mag|feat_drag|feat_mondmasker|feat_vandag|feat_moet|feat_advies|feat_stuk|feat_buit|feat_gan|feat_lat|feat_houd|feat_all|feat_blijf|feat_mondkapjes|feat_binn|feat_volgen|feat_verspreid|feat_wel|feat_covid|feat_nos|feat_kom|feat_zorg|feat_masker|feat_meter|feat_maatregel|feat_hand|feat_mondkapj|feat_goed|feat_mogelijk|feat_even|feat_elkar|feat_thuis|feat_wet|feat_mee|feat_mak|feat_zie|feat_ander|feat_zit|feat_wass|feat_blijv|feat_dringend|feat_rivm|feat_grot|feat_sted|feat_regel|feat_wek|feat_werk|feat_binnenruimtes|feat_lockdown|feat_musea|feat_test|feat_jij|feat_besmet|feat_net|feat_gat|feat_corona|feat_hel|feat_anderhalv|feat_war| id|\n",
      "+--------------+--------------+--------------+------------+---------+----------+-----------+------------+------------+---------+----------+--------+--------+---------+-----------+-----------+------------+---------+---------+--------+----------+----------+--------+----------+--------+---------+---------------+-----------+---------+-----------+---------+---------+--------+--------+---------+--------+----------+---------------+---------+-----------+--------------+--------+----------+--------+--------+---------+-----------+----------+--------------+---------+-------------+---------+-------------+---------+----------+----------+--------+--------+--------+--------+----------+--------+---------+----------+-------------+---------+---------+---------+----------+--------+---------+------------------+-------------+----------+---------+--------+-----------+--------+--------+-----------+--------+--------------+--------+---+\n",
      "|      Triviant|      Triviant|      Triviant|       false|    false|     false|      false|       false|       false|    false|     false|   false|   false|    false|      false|      false|       false|    false|    false|   false|     false|     false|   false|     false|   false|    false|          false|      false|    false|      false|    false|    false|   false|   false|    false|   false|     false|          false|    false|      false|         false|   false|     false|   false|   false|    false|      false|      true|         false|    false|        false|    false|        false|    false|     false|     false|   false|   false|   false|   false|     false|   false|    false|     false|        false|    false|    false|    false|     false|   false|    false|             false|        false|     false|    false|   false|      false|   false|   false|      false|   false|         false|   false|  0|\n",
      "|        Twente|        Twente|        Twente|       false|    false|     false|      false|       false|       false|    false|     false|   false|   false|    false|      false|      false|       false|    false|    false|   false|     false|     false|   false|     false|   false|    false|          false|      false|    false|      false|    false|    false|   false|   false|    false|   false|     false|          false|    false|      false|         false|   false|     false|   false|   false|    false|      false|     false|         false|    false|        false|     true|        false|    false|     false|     false|   false|   false|   false|   false|     false|   false|    false|     false|        false|    false|    false|    false|     false|   false|    false|             false|        false|     false|    false|   false|       true|   false|   false|       true|   false|         false|   false|  1|\n",
      "|    creativity|    creativity|    creativity|       false|    false|     false|      false|       false|       false|    false|     false|   false|   false|    false|      false|      false|       false|    false|    false|   false|     false|     false|   false|     false|   false|    false|          false|      false|    false|      false|    false|    false|   false|   false|    false|   false|     false|          false|    false|      false|         false|   false|     false|   false|   false|    false|      false|     false|         false|    false|        false|    false|         true|    false|     false|     false|   false|   false|   false|   false|     false|   false|    false|     false|        false|    false|    false|    false|     false|   false|    false|             false|        false|     false|    false|   false|      false|   false|   false|      false|   false|         false|   false|  2|\n",
      "|herfstvakantie|herfstvakantie|herfstvakantie|       false|    false|     false|      false|       false|        true|    false|     false|   false|   false|    false|      false|      false|       false|    false|    false|   false|      true|     false|    true|     false|   false|    false|          false|       true|    false|      false|    false|    false|   false|   false|    false|   false|     false|          false|    false|       true|         false|   false|     false|   false|   false|     true|      false|      true|         false|    false|         true|    false|        false|     true|     false|     false|   false|   false|   false|   false|     false|   false|    false|     false|        false|    false|    false|    false|     false|   false|    false|             false|         true|     false|    false|   false|      false|   false|   false|       true|   false|         false|   false|  3|\n",
      "|         input|         input|         input|        true|    false|     false|      false|       false|       false|    false|     false|   false|   false|    false|      false|      false|       false|    false|    false|   false|     false|     false|   false|     false|   false|    false|          false|      false|    false|      false|    false|    false|   false|   false|    false|   false|     false|          false|    false|      false|         false|   false|     false|   false|   false|    false|      false|     false|          true|    false|        false|    false|        false|    false|     false|     false|   false|   false|   false|   false|     false|   false|    false|     false|        false|     true|    false|    false|     false|   false|    false|             false|        false|     false|    false|   false|      false|   false|   false|       true|   false|         false|   false|  4|\n",
      "+--------------+--------------+--------------+------------+---------+----------+-----------+------------+------------+---------+----------+--------+--------+---------+-----------+-----------+------------+---------+---------+--------+----------+----------+--------+----------+--------+---------+---------------+-----------+---------+-----------+---------+---------+--------+--------+---------+--------+----------+---------------+---------+-----------+--------------+--------+----------+--------+--------+---------+-----------+----------+--------------+---------+-------------+---------+-------------+---------+----------+----------+--------+--------+--------+--------+----------+--------+---------+----------+-------------+---------+---------+---------+----------+--------+---------+------------------+-------------+----------+---------+--------+-----------+--------+--------+-----------+--------+--------------+--------+---+\n",
      "only showing top 5 rows\n",
      "\n",
      "+-------------------+--------------------+-----------------------+-------------+---------------+-------------+--------------+--------------+---+\n",
      "|                tid|                name|label_social_distancing|feat_supports|feat_irrelevant| feat_rejects|feat_sentiment|timestamp_from| id|\n",
      "+-------------------+--------------------+-----------------------+-------------+---------------+-------------+--------------+--------------+---+\n",
      "|1311425852169744385|@NUnl Waarom niet...|               SUPPORTS|   0.98213124|    0.014853371| 0.0030453138|          -0.6|    1601496062|  0|\n",
      "|1311426330488180736|hoe meer werkloze...|               SUPPORTS|    0.9024367|    8.047426E-5|   0.09751284|          -0.6|    1601496176|  1|\n",
      "|1311426383906844672|RT @Rijksoverheid...|               SUPPORTS|      1.00001|   1.0000003E-5|1.00000125E-5|          -0.6|    1601496189|  2|\n",
      "|1311426584893624322|RT @natassavass: ...|               SUPPORTS|   0.99797946|   0.0020404083| 1.0134394E-5|          -0.6|    1601496237|  3|\n",
      "|1311426630020202498|RT @Zuidplas: Dri...|               SUPPORTS|      1.00001|   1.0000003E-5|1.00000125E-5|          -0.6|    1601496248|  4|\n",
      "+-------------------+--------------------+-----------------------+-------------+---------------+-------------+--------------+--------------+---+\n",
      "only showing top 5 rows\n",
      "\n"
     ]
    }
   ],
   "source": [
    "df_nodes_users_new = (\n",
    "    df_nodes_users\n",
    "        .withColumnRenamed('id', 'tid')\n",
    "        .coalesce(1)\n",
    "        .withColumn('id', F.monotonically_increasing_id())\n",
    ").cache()\n",
    "df_nodes_users_new.show(5)\n",
    "\n",
    "df_nodes_hashtags_new = (\n",
    "    df_nodes_hashtags\n",
    "        .withColumnRenamed('id', 'tid')\n",
    "        .coalesce(1)\n",
    "        .withColumn('id', F.monotonically_increasing_id())\n",
    ").cache()\n",
    "df_nodes_hashtags_new.show(5)\n",
    "\n",
    "df_nodes_tweets_new = (\n",
    "    df_nodes_tweets\n",
    "        .withColumnRenamed('id', 'tid')\n",
    "        .coalesce(1)\n",
    "        .withColumn('id', F.monotonically_increasing_id())\n",
    ").cache()\n",
    "df_nodes_tweets_new.show(5)"
   ],
   "metadata": {
    "collapsed": false,
    "pycharm": {
     "name": "#%%\n"
    }
   }
  },
  {
   "cell_type": "code",
   "execution_count": 27,
   "outputs": [],
   "source": [
    "def renumber_edge(df, a, b):\n",
    "    return (\n",
    "        df.alias('main')\n",
    "            .join(a.alias('a'), F.col('src') == F.col('a.tid'), 'inner')\n",
    "            .join(b.alias('b'), F.col('dst') == F.col('b.tid'), 'inner')\n",
    "            .select('main.*', 'a.id', 'b.id')\n",
    "            .withColumn('src', F.col('a.id'))\n",
    "            .withColumn('dst', F.col('b.id'))\n",
    "            .drop('id')\n",
    "    )"
   ],
   "metadata": {
    "collapsed": false,
    "pycharm": {
     "name": "#%%\n"
    }
   }
  },
  {
   "cell_type": "code",
   "execution_count": 35,
   "outputs": [
    {
     "name": "stdout",
     "output_type": "stream",
     "text": [
      "+-----+---+----------+\n",
      "|  src|dst| timestamp|\n",
      "+-----+---+----------+\n",
      "|18200| 64|1601500029|\n",
      "| 2409| 84|1601507038|\n",
      "| 5329|119|1601518673|\n",
      "|11245|152|1601521500|\n",
      "|17186|418|1601529300|\n",
      "+-----+---+----------+\n",
      "only showing top 5 rows\n",
      "\n",
      "+----+-----+----------+\n",
      "| src|  dst| timestamp|\n",
      "+----+-----+----------+\n",
      "| 386|25510|1601528702|\n",
      "| 886|26814|1601539481|\n",
      "|1027|15879|1601543020|\n",
      "|1309|25140|1601550048|\n",
      "|2845|30732|1601605891|\n",
      "+----+-----+----------+\n",
      "only showing top 5 rows\n",
      "\n",
      "+----+----+----------+\n",
      "| src| dst| timestamp|\n",
      "+----+----+----------+\n",
      "|1506| 687|1601554779|\n",
      "|1557|1421|1601555730|\n",
      "|2547|1073|1601578586|\n",
      "| 423| 112|1601529440|\n",
      "|2474|2245|1601576373|\n",
      "+----+----+----------+\n",
      "only showing top 5 rows\n",
      "\n",
      "+----+----+----------+\n",
      "| src| dst| timestamp|\n",
      "+----+----+----------+\n",
      "|1519|1295|1601554951|\n",
      "|1237|1146|1601548279|\n",
      "|3420|3386|1601622543|\n",
      "|2792|2176|1601591473|\n",
      "|2475|2422|1601576445|\n",
      "+----+----+----------+\n",
      "only showing top 5 rows\n",
      "\n",
      "+---+-----+----------+\n",
      "|src|  dst| timestamp|\n",
      "+---+-----+----------+\n",
      "| 86|32259|1601507312|\n",
      "|386|25510|1601528702|\n",
      "|525|19815|1601531470|\n",
      "|816|33608|1601537869|\n",
      "|884|20977|1601539387|\n",
      "+---+-----+----------+\n",
      "only showing top 5 rows\n",
      "\n",
      "+----+----+----------+\n",
      "| src| dst| timestamp|\n",
      "+----+----+----------+\n",
      "|  42|2021|1601498189|\n",
      "| 583|1948|1601532693|\n",
      "| 655|1354|1601534344|\n",
      "|3285|1065|1601618615|\n",
      "|  45|1010|1601498233|\n",
      "+----+----+----------+\n",
      "only showing top 5 rows\n",
      "\n"
     ]
    },
    {
     "name": "stderr",
     "output_type": "stream",
     "text": [
      "[Stage 472:================================================>   (721 + 17) / 777]\r"
     ]
    },
    {
     "name": "stdout",
     "output_type": "stream",
     "text": [
      "+-----+-----+\n",
      "|  src|  dst|\n",
      "+-----+-----+\n",
      "|18084|25046|\n",
      "| 7517|25046|\n",
      "| 3696|25046|\n",
      "| 3838|25046|\n",
      "|21308|25046|\n",
      "+-----+-----+\n",
      "only showing top 5 rows\n",
      "\n"
     ]
    },
    {
     "name": "stderr",
     "output_type": "stream",
     "text": [
      "                                                                                \r"
     ]
    }
   ],
   "source": [
    "df_edges_tweeted_new = renumber_edge(df_edges_tweeted, df_nodes_users_new, df_nodes_tweets_new)\n",
    "df_edges_tweeted_new.show(5)\n",
    "df_edges_reply_to_user_new = renumber_edge(df_edges_reply_to_user, df_nodes_tweets_new, df_nodes_users_new)\n",
    "df_edges_reply_to_user_new.show(5)\n",
    "df_edges_reply_to_tweet_new = renumber_edge(df_edges_reply_to_tweet, df_nodes_tweets_new, df_nodes_tweets_new)\n",
    "df_edges_reply_to_tweet_new.show(5)\n",
    "df_edges_quote_tweet_new = renumber_edge(df_edges_quote_tweet, df_nodes_tweets_new, df_nodes_tweets_new)\n",
    "df_edges_quote_tweet_new.show(5)\n",
    "df_edges_mentioned_user_new = renumber_edge(df_edges_mentioned_user, df_nodes_tweets_new, df_nodes_users_new)\n",
    "df_edges_mentioned_user_new.show(5)\n",
    "df_edges_mentioned_hashtag_new = renumber_edge(df_edges_mentioned_hashtag, df_nodes_tweets_new, df_nodes_hashtags_new)\n",
    "df_edges_mentioned_hashtag_new.show(5)\n",
    "df_edges_follows_new = renumber_edge(df_edges_follows, df_nodes_users_new, df_nodes_users_new)\n",
    "df_edges_follows_new.show(5)"
   ],
   "metadata": {
    "collapsed": false,
    "pycharm": {
     "name": "#%%\n"
    }
   }
  },
  {
   "cell_type": "markdown",
   "source": [
    "# Saving The Data"
   ],
   "metadata": {
    "collapsed": false,
    "pycharm": {
     "name": "#%% md\n"
    }
   }
  },
  {
   "cell_type": "code",
   "execution_count": 36,
   "metadata": {
    "pycharm": {
     "name": "#%%\n"
    }
   },
   "outputs": [],
   "source": [
    "df_nodes_users_new.write.parquet(DS.processed_str('node__User'), mode='overwrite')\n",
    "df_nodes_hashtags_new.write.parquet(DS.processed_str('node__Hashtag'), mode='overwrite')\n",
    "df_nodes_tweets_new.write.parquet(DS.processed_str('node__Tweet'), mode='overwrite')"
   ]
  },
  {
   "cell_type": "code",
   "execution_count": 37,
   "outputs": [
    {
     "name": "stderr",
     "output_type": "stream",
     "text": [
      "                                                                                \r"
     ]
    }
   ],
   "source": [
    "df_edges_tweeted_new.write.parquet(DS.processed_str('edge__User_TWEETED_Tweet'), mode='overwrite')\n",
    "df_edges_reply_to_user_new.write.parquet(DS.processed_str('edge__Tweet_REPLIESTO_User'), mode='overwrite')\n",
    "df_edges_reply_to_tweet_new.write.parquet(DS.processed_str('edge__Tweet_REPLIESTO_Tweet'), mode='overwrite')\n",
    "df_edges_quote_tweet_new.write.parquet(DS.processed_str('edge__Tweet_QUOTES_Tweet'), mode='overwrite')\n",
    "df_edges_mentioned_user_new.write.parquet(DS.processed_str('edge__Tweet_MENTIONS_User'), mode='overwrite')\n",
    "df_edges_mentioned_hashtag_new.write.parquet(DS.processed_str('edge__Tweet_MENTIONS_Hashtag'), mode='overwrite')\n",
    "df_edges_follows_new.write.parquet(DS.processed_str('edge__User_FOLLOWS_User'), mode='overwrite')"
   ],
   "metadata": {
    "collapsed": false,
    "pycharm": {
     "name": "#%%\n"
    }
   }
  },
  {
   "cell_type": "code",
   "execution_count": null,
   "outputs": [],
   "source": [],
   "metadata": {
    "collapsed": false,
    "pycharm": {
     "name": "#%%\n"
    }
   }
  }
 ],
 "metadata": {
  "kernelspec": {
   "display_name": "Python 3 (ipykernel)",
   "language": "python",
   "name": "python3"
  },
  "language_info": {
   "codemirror_mode": {
    "name": "ipython",
    "version": 3
   },
   "file_extension": ".py",
   "mimetype": "text/x-python",
   "name": "python",
   "nbconvert_exporter": "python",
   "pygments_lexer": "ipython3",
   "version": "3.9.7"
  }
 },
 "nbformat": 4,
 "nbformat_minor": 1
}