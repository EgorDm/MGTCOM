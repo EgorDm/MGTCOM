{
 "cells": [
  {
   "cell_type": "code",
   "execution_count": 216,
   "metadata": {
    "collapsed": true
   },
   "outputs": [
    {
     "name": "stdout",
     "output_type": "stream",
     "text": [
      "The autoreload extension is already loaded. To reload it, use:\n",
      "  %reload_ext autoreload\n"
     ]
    }
   ],
   "source": [
    "%load_ext autoreload\n",
    "%autoreload 2"
   ]
  },
  {
   "cell_type": "code",
   "execution_count": 217,
   "outputs": [],
   "source": [
    "import pyspark.sql.functions as F\n",
    "import pyspark.sql.types as T\n",
    "from pyspark.sql.window import Window as W\n",
    "from pyspark.sql import SparkSession\n",
    "from pyspark.ml.feature import Tokenizer, StopWordsRemover\n",
    "from nltk.stem.snowball import SnowballStemmer"
   ],
   "metadata": {
    "collapsed": false,
    "pycharm": {
     "name": "#%%\n"
    }
   }
  },
  {
   "cell_type": "code",
   "execution_count": 218,
   "outputs": [],
   "source": [
    "from shared.paths import DatasetPath\n",
    "\n",
    "DS = DatasetPath('DBLP-HCN')"
   ],
   "metadata": {
    "collapsed": false,
    "pycharm": {
     "name": "#%%\n"
    }
   }
  },
  {
   "cell_type": "code",
   "execution_count": 219,
   "outputs": [],
   "source": [
    "spark = (SparkSession.builder\n",
    "         .appName(f'{DS}')\n",
    "         .config('spark.sql.legacy.timeParserPolicy', 'LEGACY')\n",
    "         .config(\"spark.executor.memory\", \"8g\")\n",
    "         .config(\"spark.driver.memory\", \"8g\")\n",
    "         .config(\"spark.memory.offHeap.enabled\", True)\n",
    "         .config(\"spark.memory.offHeap.size\", \"16g\")\n",
    "         .getOrCreate())"
   ],
   "metadata": {
    "collapsed": false,
    "pycharm": {
     "name": "#%%\n"
    }
   }
  },
  {
   "cell_type": "code",
   "execution_count": 220,
   "outputs": [
    {
     "data": {
      "text/plain": "[Row(id='104', title='SWORD: workload-aware data placement and replica selection for cloud data management systems.', venue='vldb', year=2014, authors=['K. Ashwin Kumar', 'Abdul Quamar'], abstract='Cloud computing is increasingly being seen as a way to reduce infrastructure costs and add elasticity, and is being used by a wide range of organizations. Cloud data management systems today need to serve a range of different workloads, from analytical read-heavy workloads to transactional (OLTP) workloads. For both the service providers and the users, it is critical to minimize the consumption of resources like CPU, memory, communication bandwidth, and energy, without compromising on service-level agreements if any. In this article, we develop a workload-aware data placement and replication approach, called SWORD, for minimizing resource consumption in such an environment. Specifically, we monitor and model the expected workload as a hypergraph and develop partitioning techniques that minimize the average query span, i.e., the average number of machines involved in the execution of a query or a transaction. We empirically justify the use of query span as the metric to optimize, for both analytical and transactional workloads, and develop a series of replication and data placement algorithms by drawing connections to several well-studied graph theoretic concepts. We introduce a suite of novel techniques to achieve high scalability by reducing the overhead of partitioning and query routing. To deal with workload changes, we propose an incremental repartitioning technique that modifies data placement in small steps without resorting to complete repartitioning. We propose the use of fine-grained quorums defined at the level of groups of data items to control the cost of distributed updates, improve throughput, and adapt to different workloads. We empirically illustrate the benefits of our approach through a comprehensive experimental evaluation for two classes of workloads. For analytical read-only workloads, we show that our techniques result in significant reduction in total resource consumption. For OLTP workloads, we show that our approach improves transaction latencies and overall throughput by minimizing the number of distributed transactions.'),\n Row(id='106', title='A survey of large-scale analytical query processing in MapReduce.', venue='vldb', year=2014, authors=['Christos Doulkeridis', 'Kjetil N&oslash'], abstract='Enterprises today acquire vast volumes of data from different sources and leverage this information by means of data analysis to support effective decision-making and provide new functionality and services. The key requirement of data analytics is scalability, simply due to the immense volume of data that need to be extracted, processed, and analyzed in a timely fashion. Arguably the most popular framework for contemporary large-scale data analytics is MapReduce, mainly due to its salient features that include scalability, fault-tolerance, ease of programming, and flexibility. However, despite its merits, MapReduce has evident performance limitations in miscellaneous analytical tasks, and this has given rise to a significant body of research that aim at improving its efficiency, while maintaining its desirable properties. This survey aims to review the state of the art in improving the performance of parallel query processing using MapReduce. A set of the most significant weaknesses and limitations of MapReduce is discussed at a high level, along with solving techniques. A taxonomy is presented for categorizing existing research on MapReduce improvements according to the specific problem they target. Based on the proposed taxonomy, a classification of existing research is provided focusing on the optimization objective. Concluding, we outline interesting directions for future parallel data processing systems.'),\n Row(id='107', title='Taking the Big Picture: representative skylines based on significance and diversity.', venue='vldb', year=2014, authors=['Matteo Magnani', 'Ira Assent'], abstract='The skyline is a popular operator to extract records from a database when a record scoring function is not available. However, the result of a skyline query can be very large. The problem addressed in this paper is the automatic selection of a small number \\\\((k)\\\\) of representative skyline records. Existing approaches have only focused on partial aspects of this problem. Some try to identify sets of diverse records giving an overall approximation of the skyline. These techniques, however, are sensitive to the scaling of attributes or to the insertion of non-skyline records into the database. Others exploit some knowledge of the record scoring function to identify the most significant record, but not sets of records representative of the whole skyline. In this paper, we introduce a novel approach taking both the significance of all the records and their diversity into account, adapting to available knowledge of the scoring function, but also working under complete ignorance. We show the intractability of the problem and present approximate algorithms. We experimentally show that our approach is efficient, scalable and that it improves existing works in terms of the significance and diversity of the results.'),\n Row(id='108', title='Calibrating trajectory data for spatio-temporal similarity analysis.', venue='vldb', year=2015, authors=['Han Su', 'Kai Zheng'], abstract='Due to the prevalence of GPS-enabled devices and wireless communications technologies, spatial trajectories that describe the movement history of moving objects are being generated and accumulated at an unprecedented pace. Trajectory data in a database are intrinsically heterogeneous, as they represent discrete approximations of original continuous paths derived using different sampling strategies and different sampling rates. Such heterogeneity can have a negative impact on the effectiveness of trajectory similarity measures, which are the basis of many crucial trajectory processing tasks. In this paper, we pioneer a systematic approach to trajectory calibration that is a process to transform a heterogeneous trajectory dataset to one with (almost) unified sampling strategies. Specifically, we propose an anchor-based calibration system that aligns trajectories to a set of anchor points, which are fixed locations independent of trajectory data. After examining four different types of anchor points for the purpose of building a stable reference system, we propose a spatial-only geometry-based calibration approach that considers the spatial relationship between anchor points and trajectories. Then a more advanced spatial-only model-based calibration method is presented, which exploits the power of machine learning techniques to train inference models from historical trajectory data to improve calibration effectiveness. Afterward, since trajectory has temporal information, we extend these two spatial-only trajectory calibration algorithms to incorporate the temporal information, which can infer a proper time stamp to each anchor point of a calibrated trajectory. At last, we provide a solution to reduce cost, i.e., the number of trajectories that is necessary to be re-calibrated, of the updating of the reference system. Finally, we conduct extensive experiments using real trajectory datasets to demonstrate the effectiveness and efficiency of the proposed calibration system.'),\n Row(id='111', title='Windowed pq-grams for approximate joins of data-centric XML.', venue='vldb', year=2012, authors=['Nikolaus Augsten', 'Michael H. B&ouml'], abstract='In data integration applications, a join matches elements that are common to two data sources. Since elements are represented slightly different in each source, an approximate join must be used to do the matching. For XML data, most existing approximate join strategies are based on some ordered tree matching technique, such as the tree edit distance. In data-centric XML, however, the sibling order is irrelevant, and two elements should match even if their subelement order varies. Thus, approximate joins for data-centric XML must leverage unordered tree matching techniques. This is computationally hard since the algorithms cannot rely on a predefined sibling order. In this paper, we give a solution for approximate joins based on unordered tree matching. The core of our solution are windowed pq-grams which are small subtrees of a specific shape. We develop an efficient technique to generate windowed pq-grams in a three-step process: sort the tree, extend the sorted tree with dummy nodes, and decompose the extended tree into windowed pq-grams. The windowed pq-grams distance between two trees is the number of pq-grams that are in one tree decomposition only. We show that our distance is a pseudo-metric and empirically demonstrate that it effectively approximates the unordered tree edit distance. The approximate join using windowed pq-grams can be efficiently implemented as an equality join on strings, which avoids the costly computation of the distance between every pair of input trees. Experiments with synthetic and real world data confirm the analytic results and show the effectiveness and efficiency of our technique.'),\n Row(id='112', title='Sorting networks on FPGAs.', venue='vldb', year=2012, authors=['Ren&eacute', 'M&uuml'], abstract='Computer architectures are quickly changing toward heterogeneous many-core systems. Such a trend opens up interesting opportunities but also raises immense challenges since the efficient use of heterogeneous many-core systems is not a trivial problem. Software-configurable microprocessors and FPGAs add further diversity but also increase complexity. In this paper, we explore the use of sorting networks on field-programmable gate arrays (FPGAs). FPGAs are very versatile in terms of how they can be used and can also be added as additional processing units in standard CPU sockets. Our results indicate that efficient usage of FPGAs involves non-trivial aspects such as having the right computation model (a sorting network in this case); a careful implementation that balances all the design constraints in an FPGA; and the proper integration strategy to link the FPGA to the rest of the system. Once these issues are properly addressed, our experiments show that FPGAs exhibit performance figures competitive with those of modern general-purpose CPUs while offering significant advantages in terms of power consumption and parallel stream evaluation.'),\n Row(id='115', title='Query reverse engineering.', venue='vldb', year=2014, authors=['Quoc Trung Tran', 'Chee Yong Chan'], abstract=\"In this paper, we introduce a new problem termed query reverse engineering (QRE). Given a database \\\\(D\\\\) and a result table \\\\(T\\\\)—the output of some known or unknown query \\\\(Q\\\\) on \\\\(D\\\\)—the goal of QRE is to reverse-engineer a query \\\\(Q'\\\\) such that the output of query \\\\(Q'\\\\) on database \\\\(D\\\\) (denoted by \\\\(Q'(D)\\\\)) is equal to \\\\(T\\\\) (i.e., \\\\(Q(D)\\\\)). The QRE problem has useful applications in database usability, data analysis, and data security. In this work, we propose a data-driven approach, TALOS for Tree-based classifier with At Least One Semantics, that is based on a novel dynamic data classification formulation and extend the approach to efficiently support the three key dimensions of the QRE problem: whether the input query is known/unknown, supporting different query fragments, and supporting multiple database versions.\"),\n Row(id='116', title='Outsourcing shortest distance computing with privacy protection.', venue='vldb', year=2013, authors=['Jun Gao', 'Jeffrey Xu Yu'], abstract='With the advent of cloud computing, it becomes desirable to outsource graphs into cloud servers to efficiently perform complex operations without compromising their sensitive information. In this paper, we take the shortest distance computation as a case to investigate the technique issues in outsourcing graph operations. We first propose a parameter-free, edge-based 2-HOP delegation security model (shorten as 2-HOP delegation model), which can greatly reduce the chances of the structural pattern attack and the graph reconstruction attack. We then transform the original graph into a link graph \\\\(G_l\\\\) kept locally and a set of outsourced graphs \\\\(\\\\mathcal G _o\\\\). Our objectives include (i) ensuring each outsourced graph meeting the requirement of 2-HOP delegation model, (ii) making shortest distance queries be answered using \\\\(G_l\\\\) and \\\\(\\\\mathcal G _o\\\\), (iii) minimizing the space cost of \\\\(G_l\\\\). We devise a greedy method to produce \\\\(G_l\\\\) and \\\\(\\\\mathcal G _o\\\\), which can exactly answer shortest distance queries. We also develop an efficient transformation method to support approximate shortest distance answering under a given average additive error bound. The experimental results illustrate the effectiveness and efficiency of our method.'),\n Row(id='118', title='High efficiency and quality: large graphs matching.', venue='vldb', year=2013, authors=['Yuanyuan Zhu', 'Lu Qin'], abstract='Graph matching plays an essential role in many real applications. In this paper, we study how to match two large graphs by maximizing the number of matched edges, which is known as maximum common subgraph matching and is NP-hard. To find exact matching, it cannot a graph with more than 30 nodes. To find an approximate matching, the quality can be very poor. We propose a novel two-step approach that can efficiently match two large graphs over thousands of nodes with high matching quality. In the first step, we propose an anchor-selection/expansion approach to compute a good initial matching. In the second step, we propose a new approach to refine the initial matching. We give the optimality of our refinement and discuss how to randomly refine the matching with different combinations. We further show how to extend our solution to handle labeled graphs. We conducted extensive testing using real and synthetic datasets and report our findings in this paper.'),\n Row(id='120', title='Efficient processing of $$k$$ k -hop reachability queries.', venue='vldb', year=2014, authors=['James Cheng', 'Zechao Shang'], abstract='We study the problem of answering k-hop reachability queries in a directed graph, i.e., whether there exists a directed path of length \\\\(k\\\\), from a source query vertex to a target query vertex in the input graph. The problem of \\\\(k\\\\)-hop reachability is a general problem of the classic reachability (where \\\\(k=\\\\infty \\\\)). Existing indexes for processing classic reachability queries, as well as for processing shortest path distance queries, are not applicable or not efficient for processing \\\\(k\\\\)-hop reachability queries. We propose an efficient index for processing \\\\(k\\\\)-hop reachability queries. Our experimental results on a wide range of real datasets show that our method is efficient and scalable in terms of both index construction and query processing.')]"
     },
     "execution_count": 220,
     "metadata": {},
     "output_type": "execute_result"
    }
   ],
   "source": [
    "schema = T.StructType([\n",
    "    T.StructField('id', T.StringType(), True),\n",
    "    T.StructField('title', T.StringType(), True),\n",
    "    T.StructField('venue', T.StringType(), True),\n",
    "    T.StructField('year', T.IntegerType(), True),\n",
    "    T.StructField('authors', T.StringType(), True),\n",
    "    T.StructField('abstract', T.StringType(), True),\n",
    "])\n",
    "\n",
    "df = (\n",
    "    spark.read.csv(DS.raw_str('author.txt'), schema=schema, sep='\\t\\t\\t')\n",
    "        .withColumn('authors', F.transform(F.split(F.col('authors'), ';'), F.trim))\n",
    ")\n",
    "\n",
    "df.head(10)"
   ],
   "metadata": {
    "collapsed": false,
    "pycharm": {
     "name": "#%%\n"
    }
   }
  },
  {
   "cell_type": "markdown",
   "source": [
    "## Data Extraction"
   ],
   "metadata": {
    "collapsed": false,
    "pycharm": {
     "name": "#%% md\n"
    }
   }
  },
  {
   "cell_type": "code",
   "execution_count": 221,
   "outputs": [
    {
     "name": "stdout",
     "output_type": "stream",
     "text": [
      "5162\n"
     ]
    },
    {
     "data": {
      "text/plain": "[Row(name='&Aacute', id=0),\n Row(name='&Agrave', id=1),\n Row(name='&Eacute', id=2),\n Row(name='&atilde', id=3),\n Row(name='&ntilde', id=4)]"
     },
     "execution_count": 221,
     "metadata": {},
     "output_type": "execute_result"
    }
   ],
   "source": [
    "df_raw_nodes_authors = (\n",
    "    df.select(\n",
    "        F.explode(F.col('authors')).alias('name'),\n",
    "    )\n",
    "        .distinct()\n",
    "        .sort('name')\n",
    "        .coalesce(1)\n",
    "        .withColumn('id', F.monotonically_increasing_id())\n",
    ")\n",
    "print(df_raw_nodes_authors.count())\n",
    "df_raw_nodes_authors.head(5)"
   ],
   "metadata": {
    "collapsed": false,
    "pycharm": {
     "name": "#%%\n"
    }
   }
  },
  {
   "cell_type": "code",
   "execution_count": 222,
   "outputs": [
    {
     "name": "stdout",
     "output_type": "stream",
     "text": [
      "14\n"
     ]
    },
    {
     "data": {
      "text/plain": "[Row(name='aaai', id=0),\n Row(name='cvpr', id=1),\n Row(name='dasfaa', id=2),\n Row(name='ecir', id=3),\n Row(name='icde', id=4)]"
     },
     "execution_count": 222,
     "metadata": {},
     "output_type": "execute_result"
    }
   ],
   "source": [
    "df_raw_nodes_venues = (\n",
    "    df.select(\n",
    "        F.col('venue').alias('name'),\n",
    "    )\n",
    "        .filter(\"name != ''\")\n",
    "        .distinct()\n",
    "        .sort('name')\n",
    "        .coalesce(1)\n",
    "        .withColumn('id', F.monotonically_increasing_id())\n",
    ")\n",
    "print(df_raw_nodes_venues.count())\n",
    "df_raw_nodes_venues.head(5)"
   ],
   "metadata": {
    "collapsed": false,
    "pycharm": {
     "name": "#%%\n"
    }
   }
  },
  {
   "cell_type": "code",
   "execution_count": 223,
   "outputs": [
    {
     "name": "stdout",
     "output_type": "stream",
     "text": [
      "+----+-----+\n",
      "|year|count|\n",
      "+----+-----+\n",
      "|2012|  844|\n",
      "|2013| 1370|\n",
      "|2014| 1336|\n",
      "|2015| 1562|\n",
      "|2016|  404|\n",
      "+----+-----+\n",
      "\n"
     ]
    }
   ],
   "source": [
    "df.groupby('year').count().orderBy('year').show()"
   ],
   "metadata": {
    "collapsed": false,
    "pycharm": {
     "name": "#%%\n"
    }
   }
  },
  {
   "cell_type": "code",
   "execution_count": 224,
   "outputs": [
    {
     "name": "stdout",
     "output_type": "stream",
     "text": [
      "5511\n"
     ]
    },
    {
     "data": {
      "text/plain": "[Row(pub_id='10002', name='Distributed Submodular Maximization: Identifying Representative Elements in Massive Data.', authors=['Baharan Mirzasoleiman', 'Amin Karbasi'], venue='nips', year=2013, abstract='Many large-scale machine learning problems (such as clustering, non-parametric learning, kernel machines, etc.) require selecting, out of a massive data set, a manageable, representative subset. Such problems can often be reduced to maximizing a submodular set function subject to cardinality constraints. Classical approaches require centralized access to the full data set; but for truly large-scale problems, rendering the data centrally is often impractical. In this paper, we consider the problem of submodular function maximization in a distributed fashion. We develop a simple, two-stage protocol GreeDI, that is easily implemented using MapReduce style computations. We theoretically analyze our approach, and show, that under certain natural conditions, performance close to the (impractical) centralized approach can be achieved. In our extensive experiments, we demonstrate the effectiveness of our approach on several applications, including sparse Gaussian process inference on tens of millions of examples using Hadoop.', timestamp_from=2013, id=0),\n Row(pub_id='10004', name='EDML for Learning Parameters in Directed and Undirected Graphical Models.', authors=['Khaled S. Refaat', 'Arthur Choi'], venue='nips', year=2013, abstract='EDML is a recently proposed algorithm for learning parameters in Bayesian networks. It was originally derived in terms of approximate inference on a meta-network, which underlies the Bayesian approach to parameter estimation. While this initial derivation helped discover EDML in the first place and provided a concrete context for identifying some of its properties (e.g., in contrast to EM), the formal setting was somewhat tedious in the number of concepts it drew on. In this paper, we propose a greatly simplified perspective on EDML, which casts it as a general approach to continuous optimization. The new perspective has several advantages. First, it makes immediate some results that were non-trivial to prove initially. Second, it facilitates the design of EDML algorithms for new graphical models, leading to a new algorithm for learning parameters in Markov networks. We derive this algorithm in this paper, and show, empirically, that it can sometimes learn better estimates from complete data, several times faster than commonly used optimization methods, such as conjugate gradient and L-BFGS.', timestamp_from=2013, id=1),\n Row(pub_id='10009', name='Bayesian inference for low rank spatiotemporal neural receptive fields.', authors=['Mijung Park', 'Jonathan W. Pillow'], venue='nips', year=2013, abstract='The receptive field (RF) of a sensory neuron describes how the neuron integrates sensory stimuli over time and space. In typical experiments with naturalistic or flickering spatiotemporal stimuli, RFs are very high-dimensional, due to the large number of coefficients needed to specify an integration profile across time and space. Estimating these coefficients from small amounts of data poses a variety of challenging statistical and computational problems. Here we address these challenges by developing Bayesian reduced rank regression methods for RF estimation. This corresponds to modeling the RF as a sum of several space-time separable (i.e., rank-1) filters, which proves accurate even for neurons with strongly oriented space-time RFs. This approach substantially reduces the number of parameters needed to specify the RF, from 1K-100K down to mere 100s in the examples we consider, and confers substantial benefits in statistical power and computational efficiency. In particular, we introduce a novel prior over low-rank RFs using the restriction of a matrix normal prior to the manifold of low-rank matrices. We then use a localized\\'\\' prior over row and column covariances to obtain sparse, smooth, localized estimates of the spatial and temporal RF components. We develop two methods for inference in the resulting hierarchical model: (1) a fully Bayesian method using blocked-Gibbs sampling; and (2) a fast, approximate method that employs alternating coordinate ascent of the conditional marginal likelihood. We develop these methods under Gaussian and Poisson noise models, and show that low-rank estimates substantially outperform full rank estimates in accuracy and speed using neural data from retina and V1.\"', timestamp_from=2013, id=2),\n Row(pub_id='1001', name='On crowdsensed data acquisition using multi-dimensional point processes.', authors=['Saket Sathe', 'Timos K. Sellis'], venue='icde', year=2015, abstract='Crowdsensing applications are increasing at a tremendous rate. In crowdsensing, mobile sensors (humans, vehicle-mounted sensors, etc.) generate streams of information that is used for inferring high-level phenomena of interest (e.g., traffic jams, air pollution). Unlike traditional sensor network data, crowdsensed data has a highly skewed spatio-temporal distribution caused largely due to the mobility of sensors [1]. Thus, designing systems that can mitigate this effect by acquiring crowdsensed at a fixed spatio-temporal rate are needed. In this paper we propose using multi-dimensional point processes (MDPPs), a mathematical modeling tool that can be effectively used for performing this data acquisition task.', timestamp_from=2015, id=3),\n Row(pub_id='10011', name='Fast and Memory Optimal Low-Rank Matrix Approximation.', authors=['Se-Young Yun', 'Marc Lelarge'], venue='nips', year=2015, abstract='In this paper, we revisit the problem of constructing a near-optimal rank $k$ approximation of a matrix $M\\\\in [0,1]^{m\\\\times n}$ under the streaming data model where the columns of $M$ are revealed sequentially. We present SLA (Streaming Low-rank Approximation), an algorithm that is asymptotically accurate, when $k s_{k+1} (M) = o(\\\\sqrt{mn})$ where $s_{k+1}(M)$ is the $(k+1)$-th largest singular value of $M$. This means that its average mean-square error converges to 0 as $m$ and $n$ grow large (i.e., $\\\\|\\\\hat{M}^{(k)}-M^{(k)} \\\\|_F^2 = o(mn)$ with high probability, where $\\\\hat{M}^{(k)}$ and $M^{(k)}$ denote the output of SLA and the optimal rank $k$ approximation of $M$, respectively). Our algorithm makes one pass on the data if the columns of $M$ are revealed in a random order, and two passes if the columns of $M$ arrive in an arbitrary order. To reduce its memory footprint and complexity, SLA uses random sparsification, and samples each entry of $M$ with a small probability $\\\\delta$. In turn, SLA is memory optimal as its required memory space scales as $k(m+n)$, the dimension of its output. Furthermore, SLA is computationally efficient as it runs in $O(\\\\delta kmn)$ time (a constant number of operations is made for each observed entry of $M$), which can be as small as $O(k\\\\log(m)^4 n)$ for an appropriate choice of $\\\\delta$ and if $n\\\\ge m$.', timestamp_from=2015, id=4)]"
     },
     "execution_count": 224,
     "metadata": {},
     "output_type": "execute_result"
    }
   ],
   "source": [
    "df_raw_nodes_papers = (\n",
    "    df.filter('year > 1900').select(\n",
    "        F.col('id').alias('pub_id'),\n",
    "        F.col('title').alias('name'),\n",
    "        'authors',\n",
    "        'venue',\n",
    "        'year',\n",
    "        'abstract',\n",
    "        F.col('year').alias('timestamp_from')\n",
    "    )\n",
    "        .distinct()\n",
    "        .sort('pub_id')\n",
    "        .coalesce(1)\n",
    "        .withColumn('id', F.monotonically_increasing_id())\n",
    ")\n",
    "print(df_raw_nodes_papers.count())\n",
    "df_raw_nodes_papers.head(5)"
   ],
   "metadata": {
    "collapsed": false,
    "pycharm": {
     "name": "#%%\n"
    }
   }
  },
  {
   "cell_type": "code",
   "execution_count": 225,
   "outputs": [],
   "source": [
    "df_node_ids = (\n",
    "    df_raw_nodes_authors.select('id')\n",
    "        .union(df_raw_nodes_venues.select('id'))\n",
    "        .union(df_raw_nodes_papers.select('id'))\n",
    "        .distinct()\n",
    ")\n",
    "\n",
    "\n",
    "def filter_node_ids(df, src_col='id', dst_col='id'):\n",
    "    return df.join(\n",
    "        df_node_ids,\n",
    "        F.col('src') == F.col(src_col),\n",
    "        'inner'\n",
    "    ).drop(\n",
    "        'id'\n",
    "    ).join(\n",
    "        df_node_ids,\n",
    "        F.col('dst') == F.col(dst_col),\n",
    "        'inner'\n",
    "    ).drop('id')"
   ],
   "metadata": {
    "collapsed": false,
    "pycharm": {
     "name": "#%%\n"
    }
   }
  },
  {
   "cell_type": "code",
   "execution_count": 226,
   "outputs": [
    {
     "name": "stdout",
     "output_type": "stream",
     "text": [
      "11022\n"
     ]
    },
    {
     "data": {
      "text/plain": "[Row(src=2826, dst=3457, timestamp_from=2015),\n Row(src=3211, dst=5262, timestamp_from=2013),\n Row(src=3615, dst=5456, timestamp_from=2014),\n Row(src=2367, dst=1548, timestamp_from=2012),\n Row(src=2835, dst=3562, timestamp_from=2013)]"
     },
     "execution_count": 226,
     "metadata": {},
     "output_type": "execute_result"
    }
   ],
   "source": [
    "df_edges_authored = (\n",
    "    df.select(\n",
    "        F.explode(F.col('authors')).alias('author_name'),\n",
    "        F.col('id').alias('dst_pub_id'),\n",
    "        F.col('year').alias('timestamp_from'),\n",
    "    )\n",
    "    .join(\n",
    "        df_raw_nodes_authors.select('id', 'name'),\n",
    "        F.col('author_name') == F.col('name'),\n",
    "        'inner'\n",
    "    )\n",
    "    .withColumnRenamed('id', 'src')\n",
    "    .join(\n",
    "        df_raw_nodes_papers.select('id', 'pub_id'),\n",
    "        F.col('dst_pub_id') == F.col('pub_id'),\n",
    "        'inner'\n",
    "    )\n",
    "    .withColumnRenamed('id', 'dst')\n",
    "    .select(\n",
    "            F.col('src'),\n",
    "            F.col('dst'),\n",
    "            F.col('timestamp_from'),\n",
    "    )\n",
    "    .distinct()\n",
    ")\n",
    "print(df_edges_authored.count())\n",
    "df_edges_authored.head(5)"
   ],
   "metadata": {
    "collapsed": false,
    "pycharm": {
     "name": "#%%\n"
    }
   }
  },
  {
   "cell_type": "code",
   "execution_count": 227,
   "outputs": [
    {
     "name": "stdout",
     "output_type": "stream",
     "text": [
      "5511\n"
     ]
    },
    {
     "data": {
      "text/plain": "[Row(src=0, dst=8, timestamp_from=2013),\n Row(src=1, dst=8, timestamp_from=2013),\n Row(src=2, dst=8, timestamp_from=2013),\n Row(src=3, dst=4, timestamp_from=2015),\n Row(src=4, dst=8, timestamp_from=2015)]"
     },
     "execution_count": 227,
     "metadata": {},
     "output_type": "execute_result"
    }
   ],
   "source": [
    "df_edges_published_in = (\n",
    "    df.select(\n",
    "        F.col('id').alias('src_pub_id'),\n",
    "        F.col('venue').alias('dst_venue'),\n",
    "        F.col('year').alias('timestamp_from'),\n",
    "    )\n",
    "        .join(\n",
    "            df_raw_nodes_papers.select('id', 'pub_id'),\n",
    "            F.col('src_pub_id') == F.col('pub_id'),\n",
    "            'inner'\n",
    "        )\n",
    "        .withColumnRenamed('id', 'src')\n",
    "        .join(\n",
    "            df_raw_nodes_venues.select('id', 'name'),\n",
    "            F.col('dst_venue') == F.col('name'),\n",
    "            'inner'\n",
    "        )\n",
    "        .withColumnRenamed('id', 'dst')\n",
    "        .select(\n",
    "            F.col('src'),\n",
    "            F.col('dst'),\n",
    "            F.col('timestamp_from'),\n",
    "        )\n",
    "        .distinct()\n",
    ")\n",
    "print(df_edges_published_in.count())\n",
    "df_edges_published_in.head(5)"
   ],
   "metadata": {
    "collapsed": false,
    "pycharm": {
     "name": "#%%\n"
    }
   }
  },
  {
   "cell_type": "markdown",
   "source": [
    "# Ground truth communities\n",
    "Using same methodology as in:\n",
    "\n",
    "J. Yang and J. Leskovec, “Defining and evaluating network communities based on ground-truth,” in Proceedings of the ACM SIGKDD Workshop on Mining Data Semantics, New York, NY, USA, Aug. 2012, pp. 1–8. doi: 10.1145/2350190.2350193.\n"
   ],
   "metadata": {
    "collapsed": false,
    "pycharm": {
     "name": "#%% md\n"
    }
   }
  },
  {
   "cell_type": "code",
   "execution_count": 228,
   "outputs": [
    {
     "name": "stdout",
     "output_type": "stream",
     "text": [
      "[Row(venue='vldb', count=94), Row(venue='icde', count=299), Row(venue='pkdd', count=240), Row(venue='icdm', count=474), Row(venue='aaai', count=1041), Row(venue='nips', count=689), Row(venue='sdm', count=192), Row(venue='icml', count=462), Row(venue='dasfaa', count=189), Row(venue='www', count=64), Row(venue='pakdd', count=210), Row(venue='cvpr', count=898), Row(venue='ijcai', count=461), Row(venue='ecir', count=198)]\n",
      "[]\n"
     ]
    }
   ],
   "source": [
    "print(df_raw_nodes_papers.groupby('venue').count().head(100))\n",
    "print(df_raw_nodes_papers.filter(F.col('venue').isNull()).head(5))"
   ],
   "metadata": {
    "collapsed": false,
    "pycharm": {
     "name": "#%%\n"
    }
   }
  },
  {
   "cell_type": "code",
   "execution_count": 229,
   "outputs": [
    {
     "data": {
      "text/plain": "[Row(id=0, cids=[0]),\n Row(id=1, cids=[1]),\n Row(id=2, cids=[2]),\n Row(id=3, cids=[3]),\n Row(id=4, cids=[4])]"
     },
     "execution_count": 229,
     "metadata": {},
     "output_type": "execute_result"
    }
   ],
   "source": [
    "df_comm_nodes_venues = (\n",
    "    df_raw_nodes_venues.select(\n",
    "        F.col('id'),\n",
    "        F.array(F.col('id')).alias('cids')\n",
    "    )\n",
    ")\n",
    "df_comm_nodes_venues.head(5)"
   ],
   "metadata": {
    "collapsed": false,
    "pycharm": {
     "name": "#%%\n"
    }
   }
  },
  {
   "cell_type": "code",
   "execution_count": 230,
   "outputs": [
    {
     "data": {
      "text/plain": "[Row(id=0, cids=[8]),\n Row(id=1, cids=[8]),\n Row(id=2, cids=[8]),\n Row(id=3, cids=[4]),\n Row(id=4, cids=[8])]"
     },
     "execution_count": 230,
     "metadata": {},
     "output_type": "execute_result"
    }
   ],
   "source": [
    "df_comm_nodes_papers = (\n",
    "    df_edges_published_in.select(\n",
    "        F.col('src').alias('id'),\n",
    "        'dst'\n",
    "    ).groupby('id').agg(\n",
    "        F.array_distinct(F.collect_list(F.col('dst'))).alias('cids')\n",
    "    )\n",
    ")\n",
    "df_comm_nodes_papers.head(5)"
   ],
   "metadata": {
    "collapsed": false,
    "pycharm": {
     "name": "#%%\n"
    }
   }
  },
  {
   "cell_type": "code",
   "execution_count": 231,
   "outputs": [
    {
     "data": {
      "text/plain": "[Row(id=0, cids=[1, 7]),\n Row(id=1, cids=[8]),\n Row(id=2, cids=[0, 7, 1, 3]),\n Row(id=3, cids=[7]),\n Row(id=4, cids=[0])]"
     },
     "execution_count": 231,
     "metadata": {},
     "output_type": "execute_result"
    }
   ],
   "source": [
    "df_comm_nodes_authors = (\n",
    "    df_edges_authored.select(\n",
    "        F.col('src').alias('id'),\n",
    "        F.col('dst').alias('paper_id')\n",
    "    ).join(\n",
    "        df_edges_published_in.alias('paper_rel'),\n",
    "        F.col('paper_id') == F.col('paper_rel.src'),\n",
    "        'left'\n",
    "    ).groupby('id').agg(\n",
    "        F.array_distinct(F.collect_list(F.col('paper_rel.dst'))).alias('cids')\n",
    "    )\n",
    ")\n",
    "df_comm_nodes_authors.head(5)"
   ],
   "metadata": {
    "collapsed": false,
    "pycharm": {
     "name": "#%%\n"
    }
   }
  },
  {
   "cell_type": "markdown",
   "source": [
    "## Feature Engineering (keyword extraction)"
   ],
   "metadata": {
    "collapsed": false,
    "pycharm": {
     "name": "#%% md\n"
    }
   }
  },
  {
   "cell_type": "code",
   "execution_count": 232,
   "outputs": [
    {
     "name": "stderr",
     "output_type": "stream",
     "text": [
      "                                                                                \r"
     ]
    },
    {
     "data": {
      "text/plain": "[Row(id='104', keywords=['sword', 'workloadawar', 'data', 'placement', 'replica', 'select', 'cloud', 'data', 'manag', 'system']),\n Row(id='106', keywords=['survey', 'largescal', 'analyt', 'queri', 'process', 'mapreduc']),\n Row(id='107', keywords=['take', 'big', 'pictur', 'repres', 'skylin', 'base', 'signific', 'divers']),\n Row(id='108', keywords=['calibr', 'trajectori', 'data', 'spatiotempor', 'similar', 'analysi']),\n Row(id='111', keywords=['window', 'pqgram', 'approxim', 'join', 'datacentr', 'xml']),\n Row(id='112', keywords=['sort', 'network', 'fpgas']),\n Row(id='115', keywords=['queri', 'revers', 'engin']),\n Row(id='116', keywords=['outsourc', 'shortest', 'distanc', 'comput', 'privaci', 'protect']),\n Row(id='118', keywords=['high', 'effici', 'qualiti', 'larg', 'graph', 'match']),\n Row(id='120', keywords=['effici', 'process', 'hop', 'reachabl', 'queri'])]"
     },
     "execution_count": 232,
     "metadata": {},
     "output_type": "execute_result"
    }
   ],
   "source": [
    "df_kw_clean = df.select('id', (F.lower(F.regexp_replace('title', \"[^a-zA-Z\\\\s]\", \"\")).alias('text')))\n",
    "\n",
    "tokenizer = Tokenizer(inputCol='text', outputCol='words_token')\n",
    "df_kw_tokens = tokenizer.transform(df_kw_clean).select('id', 'words_token')\n",
    "\n",
    "remover = StopWordsRemover(inputCol='words_token', outputCol='words_clean')\n",
    "df_kw_nostopw = remover.transform(df_kw_tokens).select('id', 'words_clean')\n",
    "\n",
    "# Stem text\n",
    "stemmer = SnowballStemmer(language='english')\n",
    "stemmer_udf = F.udf(lambda tokens: [stemmer.stem(token) for token in tokens], T.ArrayType(T.StringType()))\n",
    "df_kw_stemmed = df_kw_nostopw.withColumn(\"words_stemmed\", stemmer_udf(\"words_clean\")).select('id', 'words_stemmed')\n",
    "\n",
    "filter_length_udf = F.udf(lambda row: [x for x in row if len(x) >= 3], T.ArrayType(T.StringType()))\n",
    "df_kw_doc = df_kw_stemmed.select('id', filter_length_udf(F.col('words_stemmed')).alias('keywords'))\n",
    "\n",
    "df_kw_doc.head(10)"
   ],
   "metadata": {
    "collapsed": false,
    "pycharm": {
     "name": "#%%\n"
    }
   }
  },
  {
   "cell_type": "code",
   "execution_count": 233,
   "outputs": [
    {
     "name": "stderr",
     "output_type": "stream",
     "text": [
      "[Stage 4170:>                                                       (0 + 2) / 2]\r"
     ]
    },
    {
     "name": "stdout",
     "output_type": "stream",
     "text": [
      "+-------+-----+\n",
      "|keyword|count|\n",
      "+-------+-----+\n",
      "|  learn|  901|\n",
      "|  model|  579|\n",
      "|   data|  408|\n",
      "|network|  368|\n",
      "|    use|  356|\n",
      "| detect|  287|\n",
      "|   imag|  247|\n",
      "|  optim|  241|\n",
      "|    via|  241|\n",
      "| social|  237|\n",
      "+-------+-----+\n",
      "only showing top 10 rows\n",
      "\n"
     ]
    },
    {
     "name": "stderr",
     "output_type": "stream",
     "text": [
      "                                                                                \r"
     ]
    }
   ],
   "source": [
    "df_kw = df_kw_doc\\\n",
    "    .select(F.explode('keywords').alias('keyword'))\\\n",
    "    .groupBy('keyword')\\\n",
    "    .count()\\\n",
    "    .orderBy('count', ascending=False)\n",
    "\n",
    "df_kw.show(10)"
   ],
   "metadata": {
    "collapsed": false,
    "pycharm": {
     "name": "#%%\n"
    }
   }
  },
  {
   "cell_type": "code",
   "execution_count": 234,
   "outputs": [
    {
     "name": "stdout",
     "output_type": "stream",
     "text": [
      "['learn', 'model', 'data', 'network', 'use', 'detect', 'imag', 'optim', 'via', 'social', 'graph', 'effici', 'cluster', 'classif', 'predict', 'search', 'base', 'analysi', 'queri', 'algorithm', 'featur', 'approach', 'estim', 'structur', 'mine', 'spars', 'onlin', 'inform', 'object', 'select', 'process', 'recommend', 'multipl', 'infer', 'system', 'deep', 'represent', 'robust', 'pattern', 'recognit', 'fast', 'local', 'activ', 'adapt', 'bayesian', 'rank', 'applic', 'dynam', 'kernel', 'distribut', 'factor', 'label', 'topic', 'probabilist', 'matrix', 'framework', 'match', 'approxim', 'method', 'semant', 'stream', 'general', 'user', 'visual', 'retriev', 'neural', 'video', 'segment', 'stochast', 'plan', 'linear', 'time', 'sampl', 'regular', 'comput', 'problem', 'scalabl', 'relat', 'hierarch', 'regress']\n"
     ]
    }
   ],
   "source": [
    "k = 80\n",
    "top_keywords = [x.keyword for x in df_kw.limit(k).select('keyword').collect()]\n",
    "print(top_keywords)"
   ],
   "metadata": {
    "collapsed": false,
    "pycharm": {
     "name": "#%%\n"
    }
   }
  },
  {
   "cell_type": "code",
   "execution_count": 235,
   "outputs": [
    {
     "data": {
      "text/plain": "[Row(author_id=0, keywords=['cluster', 'order', 'sequenc', 'base', 'typic', 'index', 'find', 'clinic', 'pathway', 'candid']),\n Row(author_id=1, keywords=['valu', 'ignor', 'number', 'player']),\n Row(author_id=2, keywords=['price', 'war', 'continu', 'competit', 'multiitem', 'onlin', 'multitask', 'learn', 'via', 'spars', 'dictionari', 'optim', 'queri', 'inconsist', 'descript', 'logic', 'knowledg', 'base', 'prefer', 'repair', 'semant']),\n Row(author_id=3, keywords=['dcbtree', 'spaceeffici', 'delta', 'code', 'cach', 'conscious', 'btree']),\n Row(author_id=4, keywords=['autonom', 'agent', 'futur', 'energi', 'market', 'power', 'trade', 'competit'])]"
     },
     "execution_count": 235,
     "metadata": {},
     "output_type": "execute_result"
    }
   ],
   "source": [
    "df_node_author_keywords = (\n",
    "    df_edges_authored.select(\n",
    "        F.col('src').alias('author_id'),\n",
    "        F.col('dst').alias('paper_id'),\n",
    "    ).join(\n",
    "        df_kw_doc,\n",
    "        F.col('paper_id') == F.col('id'),\n",
    "        'left'\n",
    "    ).groupby('author_id').agg(\n",
    "        F.collect_list('keywords').alias('keywords')\n",
    "    ).withColumn('keywords', F.array_distinct(F.flatten('keywords')))\n",
    ")\n",
    "df_node_author_keywords.head(5)"
   ],
   "metadata": {
    "collapsed": false,
    "pycharm": {
     "name": "#%%\n"
    }
   }
  },
  {
   "cell_type": "code",
   "execution_count": 236,
   "outputs": [
    {
     "data": {
      "text/plain": "[Row(author_id=0, feat_learn=False, feat_model=False, feat_data=False, feat_network=False, feat_use=False, feat_detect=False, feat_imag=False, feat_optim=False, feat_via=False, feat_social=False, feat_graph=False, feat_effici=False, feat_cluster=True, feat_classif=False, feat_predict=False, feat_search=False, feat_base=True, feat_analysi=False, feat_queri=False, feat_algorithm=False, feat_featur=False, feat_approach=False, feat_estim=False, feat_structur=False, feat_mine=False, feat_spars=False, feat_onlin=False, feat_inform=False, feat_object=False, feat_select=False, feat_process=False, feat_recommend=False, feat_multipl=False, feat_infer=False, feat_system=False, feat_deep=False, feat_represent=False, feat_robust=False, feat_pattern=False, feat_recognit=False, feat_fast=False, feat_local=False, feat_activ=False, feat_adapt=False, feat_bayesian=False, feat_rank=False, feat_applic=False, feat_dynam=False, feat_kernel=False, feat_distribut=False, feat_factor=False, feat_label=False, feat_topic=False, feat_probabilist=False, feat_matrix=False, feat_framework=False, feat_match=False, feat_approxim=False, feat_method=False, feat_semant=False, feat_stream=False, feat_general=False, feat_user=False, feat_visual=False, feat_retriev=False, feat_neural=False, feat_video=False, feat_segment=False, feat_stochast=False, feat_plan=False, feat_linear=False, feat_time=False, feat_sampl=False, feat_regular=False, feat_comput=False, feat_problem=False, feat_scalabl=False, feat_relat=False, feat_hierarch=False, feat_regress=False),\n Row(author_id=1, feat_learn=False, feat_model=False, feat_data=False, feat_network=False, feat_use=False, feat_detect=False, feat_imag=False, feat_optim=False, feat_via=False, feat_social=False, feat_graph=False, feat_effici=False, feat_cluster=False, feat_classif=False, feat_predict=False, feat_search=False, feat_base=False, feat_analysi=False, feat_queri=False, feat_algorithm=False, feat_featur=False, feat_approach=False, feat_estim=False, feat_structur=False, feat_mine=False, feat_spars=False, feat_onlin=False, feat_inform=False, feat_object=False, feat_select=False, feat_process=False, feat_recommend=False, feat_multipl=False, feat_infer=False, feat_system=False, feat_deep=False, feat_represent=False, feat_robust=False, feat_pattern=False, feat_recognit=False, feat_fast=False, feat_local=False, feat_activ=False, feat_adapt=False, feat_bayesian=False, feat_rank=False, feat_applic=False, feat_dynam=False, feat_kernel=False, feat_distribut=False, feat_factor=False, feat_label=False, feat_topic=False, feat_probabilist=False, feat_matrix=False, feat_framework=False, feat_match=False, feat_approxim=False, feat_method=False, feat_semant=False, feat_stream=False, feat_general=False, feat_user=False, feat_visual=False, feat_retriev=False, feat_neural=False, feat_video=False, feat_segment=False, feat_stochast=False, feat_plan=False, feat_linear=False, feat_time=False, feat_sampl=False, feat_regular=False, feat_comput=False, feat_problem=False, feat_scalabl=False, feat_relat=False, feat_hierarch=False, feat_regress=False),\n Row(author_id=2, feat_learn=True, feat_model=False, feat_data=False, feat_network=False, feat_use=False, feat_detect=False, feat_imag=False, feat_optim=True, feat_via=True, feat_social=False, feat_graph=False, feat_effici=False, feat_cluster=False, feat_classif=False, feat_predict=False, feat_search=False, feat_base=True, feat_analysi=False, feat_queri=True, feat_algorithm=False, feat_featur=False, feat_approach=False, feat_estim=False, feat_structur=False, feat_mine=False, feat_spars=True, feat_onlin=True, feat_inform=False, feat_object=False, feat_select=False, feat_process=False, feat_recommend=False, feat_multipl=False, feat_infer=False, feat_system=False, feat_deep=False, feat_represent=False, feat_robust=False, feat_pattern=False, feat_recognit=False, feat_fast=False, feat_local=False, feat_activ=False, feat_adapt=False, feat_bayesian=False, feat_rank=False, feat_applic=False, feat_dynam=False, feat_kernel=False, feat_distribut=False, feat_factor=False, feat_label=False, feat_topic=False, feat_probabilist=False, feat_matrix=False, feat_framework=False, feat_match=False, feat_approxim=False, feat_method=False, feat_semant=True, feat_stream=False, feat_general=False, feat_user=False, feat_visual=False, feat_retriev=False, feat_neural=False, feat_video=False, feat_segment=False, feat_stochast=False, feat_plan=False, feat_linear=False, feat_time=False, feat_sampl=False, feat_regular=False, feat_comput=False, feat_problem=False, feat_scalabl=False, feat_relat=False, feat_hierarch=False, feat_regress=False),\n Row(author_id=3, feat_learn=False, feat_model=False, feat_data=False, feat_network=False, feat_use=False, feat_detect=False, feat_imag=False, feat_optim=False, feat_via=False, feat_social=False, feat_graph=False, feat_effici=False, feat_cluster=False, feat_classif=False, feat_predict=False, feat_search=False, feat_base=False, feat_analysi=False, feat_queri=False, feat_algorithm=False, feat_featur=False, feat_approach=False, feat_estim=False, feat_structur=False, feat_mine=False, feat_spars=False, feat_onlin=False, feat_inform=False, feat_object=False, feat_select=False, feat_process=False, feat_recommend=False, feat_multipl=False, feat_infer=False, feat_system=False, feat_deep=False, feat_represent=False, feat_robust=False, feat_pattern=False, feat_recognit=False, feat_fast=False, feat_local=False, feat_activ=False, feat_adapt=False, feat_bayesian=False, feat_rank=False, feat_applic=False, feat_dynam=False, feat_kernel=False, feat_distribut=False, feat_factor=False, feat_label=False, feat_topic=False, feat_probabilist=False, feat_matrix=False, feat_framework=False, feat_match=False, feat_approxim=False, feat_method=False, feat_semant=False, feat_stream=False, feat_general=False, feat_user=False, feat_visual=False, feat_retriev=False, feat_neural=False, feat_video=False, feat_segment=False, feat_stochast=False, feat_plan=False, feat_linear=False, feat_time=False, feat_sampl=False, feat_regular=False, feat_comput=False, feat_problem=False, feat_scalabl=False, feat_relat=False, feat_hierarch=False, feat_regress=False),\n Row(author_id=4, feat_learn=False, feat_model=False, feat_data=False, feat_network=False, feat_use=False, feat_detect=False, feat_imag=False, feat_optim=False, feat_via=False, feat_social=False, feat_graph=False, feat_effici=False, feat_cluster=False, feat_classif=False, feat_predict=False, feat_search=False, feat_base=False, feat_analysi=False, feat_queri=False, feat_algorithm=False, feat_featur=False, feat_approach=False, feat_estim=False, feat_structur=False, feat_mine=False, feat_spars=False, feat_onlin=False, feat_inform=False, feat_object=False, feat_select=False, feat_process=False, feat_recommend=False, feat_multipl=False, feat_infer=False, feat_system=False, feat_deep=False, feat_represent=False, feat_robust=False, feat_pattern=False, feat_recognit=False, feat_fast=False, feat_local=False, feat_activ=False, feat_adapt=False, feat_bayesian=False, feat_rank=False, feat_applic=False, feat_dynam=False, feat_kernel=False, feat_distribut=False, feat_factor=False, feat_label=False, feat_topic=False, feat_probabilist=False, feat_matrix=False, feat_framework=False, feat_match=False, feat_approxim=False, feat_method=False, feat_semant=False, feat_stream=False, feat_general=False, feat_user=False, feat_visual=False, feat_retriev=False, feat_neural=False, feat_video=False, feat_segment=False, feat_stochast=False, feat_plan=False, feat_linear=False, feat_time=False, feat_sampl=False, feat_regular=False, feat_comput=False, feat_problem=False, feat_scalabl=False, feat_relat=False, feat_hierarch=False, feat_regress=False)]"
     },
     "execution_count": 236,
     "metadata": {},
     "output_type": "execute_result"
    }
   ],
   "source": [
    "df_node_author_feats = (\n",
    "    df_node_author_keywords.select(['author_id'] + [\n",
    "        F.array_contains('keywords', F.lit(k)).alias('feat_' + str(k))\n",
    "        for k in top_keywords\n",
    "    ])\n",
    ")\n",
    "df_node_author_feats.head(5)"
   ],
   "metadata": {
    "collapsed": false,
    "pycharm": {
     "name": "#%%\n"
    }
   }
  },
  {
   "cell_type": "code",
   "execution_count": 237,
   "outputs": [
    {
     "data": {
      "text/plain": "[Row(name='&Aacute', id=0, feat_learn=False, feat_model=False, feat_data=False, feat_network=False, feat_use=False, feat_detect=False, feat_imag=False, feat_optim=False, feat_via=False, feat_social=False, feat_graph=False, feat_effici=False, feat_cluster=True, feat_classif=False, feat_predict=False, feat_search=False, feat_base=True, feat_analysi=False, feat_queri=False, feat_algorithm=False, feat_featur=False, feat_approach=False, feat_estim=False, feat_structur=False, feat_mine=False, feat_spars=False, feat_onlin=False, feat_inform=False, feat_object=False, feat_select=False, feat_process=False, feat_recommend=False, feat_multipl=False, feat_infer=False, feat_system=False, feat_deep=False, feat_represent=False, feat_robust=False, feat_pattern=False, feat_recognit=False, feat_fast=False, feat_local=False, feat_activ=False, feat_adapt=False, feat_bayesian=False, feat_rank=False, feat_applic=False, feat_dynam=False, feat_kernel=False, feat_distribut=False, feat_factor=False, feat_label=False, feat_topic=False, feat_probabilist=False, feat_matrix=False, feat_framework=False, feat_match=False, feat_approxim=False, feat_method=False, feat_semant=False, feat_stream=False, feat_general=False, feat_user=False, feat_visual=False, feat_retriev=False, feat_neural=False, feat_video=False, feat_segment=False, feat_stochast=False, feat_plan=False, feat_linear=False, feat_time=False, feat_sampl=False, feat_regular=False, feat_comput=False, feat_problem=False, feat_scalabl=False, feat_relat=False, feat_hierarch=False, feat_regress=False, cids=[1, 7]),\n Row(name='&Agrave', id=1, feat_learn=False, feat_model=False, feat_data=False, feat_network=False, feat_use=False, feat_detect=False, feat_imag=False, feat_optim=False, feat_via=False, feat_social=False, feat_graph=False, feat_effici=False, feat_cluster=False, feat_classif=False, feat_predict=False, feat_search=False, feat_base=False, feat_analysi=False, feat_queri=False, feat_algorithm=False, feat_featur=False, feat_approach=False, feat_estim=False, feat_structur=False, feat_mine=False, feat_spars=False, feat_onlin=False, feat_inform=False, feat_object=False, feat_select=False, feat_process=False, feat_recommend=False, feat_multipl=False, feat_infer=False, feat_system=False, feat_deep=False, feat_represent=False, feat_robust=False, feat_pattern=False, feat_recognit=False, feat_fast=False, feat_local=False, feat_activ=False, feat_adapt=False, feat_bayesian=False, feat_rank=False, feat_applic=False, feat_dynam=False, feat_kernel=False, feat_distribut=False, feat_factor=False, feat_label=False, feat_topic=False, feat_probabilist=False, feat_matrix=False, feat_framework=False, feat_match=False, feat_approxim=False, feat_method=False, feat_semant=False, feat_stream=False, feat_general=False, feat_user=False, feat_visual=False, feat_retriev=False, feat_neural=False, feat_video=False, feat_segment=False, feat_stochast=False, feat_plan=False, feat_linear=False, feat_time=False, feat_sampl=False, feat_regular=False, feat_comput=False, feat_problem=False, feat_scalabl=False, feat_relat=False, feat_hierarch=False, feat_regress=False, cids=[8]),\n Row(name='&Eacute', id=2, feat_learn=True, feat_model=False, feat_data=False, feat_network=False, feat_use=False, feat_detect=False, feat_imag=False, feat_optim=True, feat_via=True, feat_social=False, feat_graph=False, feat_effici=False, feat_cluster=False, feat_classif=False, feat_predict=False, feat_search=False, feat_base=True, feat_analysi=False, feat_queri=True, feat_algorithm=False, feat_featur=False, feat_approach=False, feat_estim=False, feat_structur=False, feat_mine=False, feat_spars=True, feat_onlin=True, feat_inform=False, feat_object=False, feat_select=False, feat_process=False, feat_recommend=False, feat_multipl=False, feat_infer=False, feat_system=False, feat_deep=False, feat_represent=False, feat_robust=False, feat_pattern=False, feat_recognit=False, feat_fast=False, feat_local=False, feat_activ=False, feat_adapt=False, feat_bayesian=False, feat_rank=False, feat_applic=False, feat_dynam=False, feat_kernel=False, feat_distribut=False, feat_factor=False, feat_label=False, feat_topic=False, feat_probabilist=False, feat_matrix=False, feat_framework=False, feat_match=False, feat_approxim=False, feat_method=False, feat_semant=True, feat_stream=False, feat_general=False, feat_user=False, feat_visual=False, feat_retriev=False, feat_neural=False, feat_video=False, feat_segment=False, feat_stochast=False, feat_plan=False, feat_linear=False, feat_time=False, feat_sampl=False, feat_regular=False, feat_comput=False, feat_problem=False, feat_scalabl=False, feat_relat=False, feat_hierarch=False, feat_regress=False, cids=[0, 7, 1, 3]),\n Row(name='&atilde', id=3, feat_learn=False, feat_model=False, feat_data=False, feat_network=False, feat_use=False, feat_detect=False, feat_imag=False, feat_optim=False, feat_via=False, feat_social=False, feat_graph=False, feat_effici=False, feat_cluster=False, feat_classif=False, feat_predict=False, feat_search=False, feat_base=False, feat_analysi=False, feat_queri=False, feat_algorithm=False, feat_featur=False, feat_approach=False, feat_estim=False, feat_structur=False, feat_mine=False, feat_spars=False, feat_onlin=False, feat_inform=False, feat_object=False, feat_select=False, feat_process=False, feat_recommend=False, feat_multipl=False, feat_infer=False, feat_system=False, feat_deep=False, feat_represent=False, feat_robust=False, feat_pattern=False, feat_recognit=False, feat_fast=False, feat_local=False, feat_activ=False, feat_adapt=False, feat_bayesian=False, feat_rank=False, feat_applic=False, feat_dynam=False, feat_kernel=False, feat_distribut=False, feat_factor=False, feat_label=False, feat_topic=False, feat_probabilist=False, feat_matrix=False, feat_framework=False, feat_match=False, feat_approxim=False, feat_method=False, feat_semant=False, feat_stream=False, feat_general=False, feat_user=False, feat_visual=False, feat_retriev=False, feat_neural=False, feat_video=False, feat_segment=False, feat_stochast=False, feat_plan=False, feat_linear=False, feat_time=False, feat_sampl=False, feat_regular=False, feat_comput=False, feat_problem=False, feat_scalabl=False, feat_relat=False, feat_hierarch=False, feat_regress=False, cids=[7]),\n Row(name='&ntilde', id=4, feat_learn=False, feat_model=False, feat_data=False, feat_network=False, feat_use=False, feat_detect=False, feat_imag=False, feat_optim=False, feat_via=False, feat_social=False, feat_graph=False, feat_effici=False, feat_cluster=False, feat_classif=False, feat_predict=False, feat_search=False, feat_base=False, feat_analysi=False, feat_queri=False, feat_algorithm=False, feat_featur=False, feat_approach=False, feat_estim=False, feat_structur=False, feat_mine=False, feat_spars=False, feat_onlin=False, feat_inform=False, feat_object=False, feat_select=False, feat_process=False, feat_recommend=False, feat_multipl=False, feat_infer=False, feat_system=False, feat_deep=False, feat_represent=False, feat_robust=False, feat_pattern=False, feat_recognit=False, feat_fast=False, feat_local=False, feat_activ=False, feat_adapt=False, feat_bayesian=False, feat_rank=False, feat_applic=False, feat_dynam=False, feat_kernel=False, feat_distribut=False, feat_factor=False, feat_label=False, feat_topic=False, feat_probabilist=False, feat_matrix=False, feat_framework=False, feat_match=False, feat_approxim=False, feat_method=False, feat_semant=False, feat_stream=False, feat_general=False, feat_user=False, feat_visual=False, feat_retriev=False, feat_neural=False, feat_video=False, feat_segment=False, feat_stochast=False, feat_plan=False, feat_linear=False, feat_time=False, feat_sampl=False, feat_regular=False, feat_comput=False, feat_problem=False, feat_scalabl=False, feat_relat=False, feat_hierarch=False, feat_regress=False, cids=[0])]"
     },
     "execution_count": 237,
     "metadata": {},
     "output_type": "execute_result"
    }
   ],
   "source": [
    "df_nodes_authors = (\n",
    "    df_raw_nodes_authors.alias('main')\n",
    "        .join(df_node_author_feats, F.col('main.id') == F.col('author_id'), 'left')\n",
    "        .join(df_comm_nodes_authors.withColumnRenamed('id', 'comm__id'), F.col('main.id') == F.col('comm__id'), 'left')\n",
    "        .drop('comm__id')\n",
    "        .drop('author_id')\n",
    "        .sort('main.id')\n",
    ")\n",
    "\n",
    "df_nodes_authors.head(5)"
   ],
   "metadata": {
    "collapsed": false,
    "pycharm": {
     "name": "#%%\n"
    }
   }
  },
  {
   "cell_type": "code",
   "execution_count": 238,
   "outputs": [
    {
     "data": {
      "text/plain": "[Row(venue_id=8, keywords=['sword', 'workloadawar', 'data', 'placement', 'replica', 'select', 'cloud', 'manag', 'system', 'survey', 'largescal', 'analyt', 'queri', 'process', 'mapreduc', 'take', 'big', 'pictur', 'repres', 'skylin', 'base', 'signific', 'divers', 'calibr', 'trajectori', 'spatiotempor', 'similar', 'analysi', 'window', 'pqgram', 'approxim', 'join', 'datacentr', 'xml', 'sort', 'network', 'fpgas', 'revers', 'engin', 'outsourc', 'shortest', 'distanc', 'comput', 'privaci', 'protect', 'high', 'effici', 'qualiti', 'larg', 'graph', 'match', 'hop', 'reachabl', 'hybrid', 'entiti', 'cluster', 'use', 'crowd', 'topk', 'web', 'applic', 'acm', 'scalabl', 'parallel', 'extract', 'frequent', 'pattern', 'long', 'sequenc', 'extrem', 'movingobject', 'updat', 'workload', 'main', 'memori', 'scope', 'databas', 'meet', 'snapshot', 'continu', 'nearest', 'neighbor', 'haloop', 'approach', 'iter', 'andes', 'evalu', 'nottwig', 'relat', 'increment', 'resolut', 'rule', 'conformityawar', 'influenc', 'maxim', 'onlin', 'social', 'uncertainti', 'schema', 'person', 'spatial', 'sparql', 'distribut', 'rdf', 'elimin', 'unscal', 'communic', 'transact', 'joint', 'multipl', 'dataset', 'schedul', 'pagerank', 'utilitybas', 'hub', 'optim', 'algorithm', 'intersect', 'move', 'object', 'conceptu', 'transform', 'event', 'detect', 'twitter', 'media', 'stream', 'avoid', 'class', 'warfar', 'differenti', 'servic', 'matrix', 'mechan', 'linear', 'count', 'writeahead', 'log', 'multicor', 'multisocket', 'hardwar', 'solv', 'sparsiti', 'problem', 'destin', 'predict', 'exact', 'flexibl', 'aggreg', 'search', 'hardtocompress', 'bitvector', 'mapmerg', 'correl', 'independ', 'map', 'sourc', 'discoveri', 'dynam', 'ensembl', 'type', 'infer', 'check', 'execut', 'trace', 'toward', 'zerooverhead', 'static', 'adapt', 'index', 'hadoop', 'kpath', 'cover', 'measur', 'structur', 'semistructur', 'informationtheoret', 'evolv', 'isol', 'condit', 'heavi', 'hitter', 'interest', 'order', 'depend', 'diversifi', 'cliqu', 'gbase', 'platform', 'profil', 'languagebas', 'invers', 'semant', 'closur', 'properti', 'instancelevel', 'worstcas', 'bound', 'rtree', 'sketch', 'slidingwindow', 'sampl', 'repair', 'function', 'violat', 'consist', 'anomali', 'multiti', 'architectur', 'automat', 'prevent', 'subsequ', 'video', 'kclosest', 'pair', 'general', 'metric', 'space', 'compress', 'mine', 'fast', 'domain', 'ontolog', 'knowledg', 'ami', 'multidimension', 'subspac', 'grow', 'tripl', 'tree', 'xmlrdf', 'model', 'annot', 'document', 'reason', 'effect', 'answer', 'keyword', 'recommend', 'physic', 'design', 'uvdiagram', 'voronoi', 'diagram', 'uncertain', 'idlist', 'weight', 'constraint', 'techniqu', 'mappingequival', 'oidequival', 'singlefunct', 'objectcr', 'conjunct', 'claro', 'cloudia', 'deploy', 'advisor', 'public', 'quantifi', 'eventu', 'pbs', 'costeffect', 'storag', 'provis', 'dbmss', 'framework', 'resolv', 'mismatch', 'bitwis', 'dimension', 'coclust', 'unifi', 'dictionarybas', 'euclidean', 'oxpath', 'languag', 'autom', 'crawl', 'deep', 'topic', 'format', 'develop', 'coregroup', 'novel', 'twobox', 'paradigm', 'disambigu', 'noisi', 'nonmalici', 'user', 'dbir', 'integr', 'tightcoupl', 'odysseus', 'dbms', 'navig', 'inform', 'likemind', 'communiti', 'bring', 'familiar', 'togeth', 'widget', 'identif', 'highlevel', 'access', 'tag', 'explor', 'capabl', 'feedback', 'learn', 'rank', 'youtub', 'suggest', 'hidden', 'multiverifi', 'method', 'fact', 'statement', 'verif', 'activ', 'label', 'multimedia', 'find', 'seed', 'bootstrap', 'focus', 'crawler', 'busi', 'repositori', 'current', 'issu', 'entropybas', 'wrapper', 'generat', 'weblog', 'tweet', 'opinion', 'retriev', 'domin', 'environ', 'neighborhood', 'random', 'link', 'quick', 'neardupl', 'cut', 'signatur', 'mindist', 'locat', 'facil', 'replac', 'represent', 'flickr', 'gindex', 'generic', 'scheme', 'spatialkeyword', 'configur', 'bitmap', 'materi', 'view', 'rout', 'plan', 'smallest', 'kcompact', 'set', 'sophist', 'bank', 'fraud', 'imbalanc', 'evolut', 'microblog', 'awar', 'baromet', 'real', 'world', 'exploit', 'circl', 'broad', 'influenti', 'spreader', 'rfid', 'sensor', 'secur', 'exactmatch', 'assist', 'word', 'modif', 'transit', 'node', 'sign', 'subgraph', 'connect', 'facet', 'interact', 'improv', 'perform', 'pipelin', 'skip', 'comparison', 'documentwis', 'partit', 'foundat', 'small', 'elearn', 'contextawar', 'trust', 'enhanc', 'provid', 'guidelin', 'lesson', 'time', 'seri', 'segment', 'error', 'guarante', 'preserv', 'scientif', 'likelihoodbas', 'discuss', 'thread', 'abnorm', 'period', 'medic', 'contrast', 'sequenti', 'taxpay', 'behavior', 'graphbas', 'implicit', 'outlier', 'content', 'advertis', 'rasim', 'rankawar', 'separ', 'massiv', 'disk', 'resid', 'evolutionari', 'taxonomi', 'construct', 'overlap', 'polyrel', 'geospati', 'cognit', 'locationbas', 'site', 'wordemoticon', 'mutual', 'reinforc', 'build', 'sentiment', 'lexicon', 'collect', 'asymmetr', 'structurepreserv', 'slice', 'reviv', 'regionsbas', 'prune', 'distinguish', 'reshar', 'recreat', 'diffus', 'classif', 'unlabel', 'common', 'subexpress', 'trendspedia', 'internet', 'observatori', 'analyz', 'visual', 'clean', 'benchmark', 'travers', 'oper', 'live', 'enabl', 'support', 'dataspac', 'shahe', 'mapreducebas', 'satellit', 'short', 'text', 'understand', 'lexicalsemant', 'character', 'shop', 'case', 'studi', 'smart', 'tool', 'reconcil', 'achiev', 'account', 'glog', 'level', 'decis', 'sumproductmax', 'featurecost', 'sensit', 'submodular', 'classifi', 'crossdomain', 'neural', 'sketchbas', 'shape', 'stochast', 'factor', 'precipit', 'great', 'lake', 'region', 'axiomat', 'runoff', 'vote', 'selfpac', 'fortun', 'teller', 'career', 'path', 'discrimin', 'multitask', 'featur', 'marketbas', 'coordin', 'resourc', 'multivari', 'multiview', 'oracl', 'blind', 'spot', 'combin', 'heterogen', 'geograph', 'delaytoler', 'convex', 'adaptivegradi', 'supervis', 'parametr', 'infect', 'hawk', 'drosophila', 'gene', 'express', 'via', 'multiinst', 'biolog', 'relev', 'negoti', 'grid', 'agent', 'partial', 'observ', 'spammer', 'intent', 'semisupervis', 'categori', 'number', 'complex', 'pomdp', 'emerg', 'concept', 'alon', 'pairwis', 'relationship', 'zeroshot', 'recognit', 'bayesian', 'affect', 'control', 'theori', 'self', 'nonlinear', 'longterm', 'signal', 'bender', 'decomposit', 'prescript', 'evacu', 'dictionari', 'spars', 'harm', 'pretend', 'honest', 'decentr', 'multiag', 'partiallyobserv', 'robust', 'spectral', 'bipartit', 'group', 'stabl', 'brain', 'smri', 'wordnet', 'tractabl', 'practic', 'abox', 'abduct', 'inconsist', 'descript', 'logic', 'xpath', 'proxim', 'reweight', 'split', 'nonconvex', 'chines', 'overt', 'pronoun', 'bilingu', 'shift', 'briberi', 'committe', 'elect', 'ridg', 'speedup', 'determinant', 'point', 'symbol', 'epistem', 'strategi', 'multidomain', 'scale', 'episod', 'increas', 'nogood', 'restartbas', 'reputationawar', 'doubl', 'auction', 'emot', 'probabilist', 'sens', 'identifi', 'atrisk', 'student', 'open', 'cours', 'eye', 'movement', 'read', 'credibl', 'strateg', 'fair', 'divis', 'conquer', 'adversari', 'game', 'close', 'form', 'solut', 'lowrank', 'regress', 'predicateargu', 'gradient', 'auc', 'theoret', 'reexpand', 'bestfirst', 'offlin', 'estim', 'exercis', 'mental', 'health', 'margin', 'multilabel', 'complet', 'variant', 'fault', 'environment', 'uncharacteris', 'simul', 'human', 'mobil', 'follow', 'disast', 'transfer', 'alternatingtim', 'tempor', 'incomplet', 'synchron', 'perfect', 'recal', 'filter', 'spearphish', 'attack', 'revis', 'contract', 'program', 'acquir', 'compar', 'commonsens', 'strong', 'nash', 'equilibrium', 'two', 'fuse', 'volunteer', 'tendenc', 'hiv', 'spread', 'homeless', 'popul', 'psinet', 'captur', 'rdfs', 'extern', 'modular', 'team', 'evid', 'english', 'premier', 'leagu', 'landscap', 'paramet', 'ilp', 'compos', 'orient', 'profess', 'context', 'lab', 'classroom', 'beyond', 'extend', 'gamebas', 'research', 'teach', 'audienc', 'action', 'mdps', 'anytim', 'versus', 'uct', 'trade', 'indivis', 'good', 'indiffer', 'quantize', 'imag', 'pac', 'markov', 'nestedhierarch', 'dirichlet', 'satur', 'pathconstrain', 'mdp', 'determinist', 'modelcheck', 'share', 'ride', 'friend', 'coalit', 'rideshar', 'sumproduct', 'valu', 'ignor', 'player', 'local', 'satisfi', 'highconfid', 'offpolici', 'compact', 'reduct', 'mergeandshrink', 'heurist', 'score', 'multiscal', 'decisionmak', 'custom', 'new', 'kind', 'leverag', 'foci', 'seek', 'lass', 'simpl', 'assign', 'laplacian', 'smooth', 'treewidth', 'guid', 'soft', 'latent', 'global', 'globalloc', 'grammar', 'induct', 'combinatori', 'averagereward', 'dcop', 'burst', 'cascad', 'robot', 'task', 'logicbas', 'prior', 'chang', 'strategybas', 'warm', 'start', 'regret', 'minim', 'unsupervis', 'align', 'natur', 'instruct', 'step', 'size', 'train']),\n Row(venue_id=4, keywords=['nscale', 'neighborhoodcentr', 'largescal', 'graph', 'analyt', 'cloud', 'maximum', 'errorbound', 'piecewis', 'linear', 'represent', 'onlin', 'stream', 'approxim', 'toward', 'certain', 'fix', 'edit', 'rule', 'master', 'data', 'differenti', 'privat', 'histogram', 'public', 'decor', 'enabl', 'annot', 'manag', 'mapreduc', 'task', 'assign', 'optim', 'knowledgeintens', 'crowdsourc', 'find', 'topiki', 'relev', 'group', 'spatial', 'web', 'object', 'rdf', 'survey', 'audit', 'databas', 'retent', 'polici', 'cross', 'lingual', 'opinion', 'holder', 'extract', 'base', 'multikernel', 'svms', 'transfer', 'learn', 'kcorebas', 'attack', 'internet', 'malici', 'degreebas', 'index', 'match', 'trajectori', 'inconsist', 'sampl', 'rate', 'effici', 'accur', 'queri', 'evalu', 'uncertain', 'via', 'recurs', 'stratifi', 'increment', 'cluster', 'evolut', 'track', 'high', 'dynam', 'network', 'bottleneckawar', 'arrang', 'eventbas', 'social', 'secur', 'similar', 'comput', 'encrypt', 'meaning', 'keyword', 'search', 'relat', 'larg', 'complex', 'schema', 'bwtree', 'btree', 'new', 'hardwar', 'platform', 'wareh', 'multidimension', 'analysi', 'atyp', 'event', 'cyberphys', 'lsii', 'structur', 'exact', 'realtim', 'microblog', 'haten', 'billionscal', 'tensor', 'decomposit', 'rank', 'item', 'featur', 'mine', 'useritem', 'interact', 'giceberg', 'iceberg', 'diversifi', 'gaussian', 'process', 'latent', 'variabl', 'model', 'video', 'repair', 'refin', 'subgam', 'imperfect', 'inform', 'game', 'lineartim', 'distribut', 'kernel', 'embed', 'scalabl', 'sequenti', 'spectral', 'activ', 'manifold', 'gershgorin', 'circl', 'guid', 'select', 'uncorrel', 'lasso', 'multilevel', 'multitask', 'achiev', 'stabl', 'fair', 'profit', 'alloc', 'minimum', 'subsidi', 'collabor', 'logist', 'stochast', 'human', 'cognit', 'bias', 'automat', 'topic', 'discoveri', 'multiobject', 'rsvm', 'randomis', 'nonlinear', 'approach', 'anomali', 'detect', 'blind', 'greedi', 'random', 'algorithm', 'use', 'ordin', 'market', 'paramet', 'aggreg', 'demand', 'contextsensit', 'twitter', 'sentiment', 'classif', 'neural', 'closedform', 'gibb', 'graphic', 'algebra', 'constraint', 'investig', 'conting', 'awar', 'atari', 'taxonomi', 'abnorm', 'imag', 'suit', 'supervis', 'queue', 'method', 'handl', 'delay', 'heurist', 'prior', 'bandit', 'infer', 'user', 'properti', 'text', 'publish', 'media', 'writeright', 'academ', 'write', 'assist', 'system', 'bag', 'design', 'suboptim', 'finegrain', 'photovolta', 'output', 'predict', 'bayesian', 'ensembl', 'diagnos', 'chang', 'ontolog', 'reason', 'acquir', 'commonsens', 'knowledg', 'reduc', 'relift', 'bootstrap', 'lift', 'likelihood', 'maxim', 'map', 'deep', 'reinforc', 'doubl', 'qlearn', 'strong', 'bound', 'consist', 'applic', 'abstract', 'view', 'modular', 'incent', 'subject', 'belief', 'liber', 'safeti', 'answer', 'set', 'program', 'extern', 'sourc', 'probabilist', 'robust', 'spars', 'nois', 'multivari', 'condit', 'outlier', 'clinic', 'smart', 'bregman', 'bbookx', 'build', 'open', 'book', 'person', 'face', 'behind', 'makeup', 'crossmod', 'pair', 'prefer', 'soml', 'metric', 'retriev', 'sequenceform', 'evolutionari', 'realize', 'equival', 'agent', 'form', 'logit', 'simplifi', 'lattic', 'protein', 'good', 'timeconsist', 'problem', 'combin', 'cpnet', 'power', 'ltl', 'finit', 'trace', 'insensit', 'infinit', 'width', 'nondeterminist', 'conform', 'plan', 'margin', 'denois', 'link', 'multilabel', 'smile', 'shuffl', 'multipleinst', 'coreclust', 'degeneraci', 'framework', 'rockit', 'exploit', 'parallel', 'symmetri', 'statist', 'improv', 'topicenrich', 'multiprototyp', 'word', 'empir', 'auction', 'quibid', 'penni', 'blockmodel', 'autonom', 'electr', 'trade', 'timeofus', 'tariff', 'competit', 'agentbas', 'studi', 'acquisit', 'languag', 'logic', 'construct', 'multiinst', 'class', 'assess', 'bird', 'biodivers', 'timelin', 'tempor', 'uncertainti', 'contract', 'revis', 'dllite', 'tbox', 'strateg', 'advic', 'provis', 'repeat', 'humanag', 'tailor', 'local', 'partial', 'maxsat', 'intract', 'multirobot', 'path', 'crosslanguag', 'categor', 'correspond', 'span', 'understand', 'question', 'support', 'transport', 'causal', 'effect', 'complet', 'result', 'asymmetr', 'multiorgan', 'exchang', 'whole', 'greater', 'sum', 'part', 'joint', 'entiti', 'expans', 'attribut', 'spite', 'bidder', 'multiag', 'develop', 'made', 'easi', 'adapt', 'multipl', 'instanc', 'reduct', 'techniqu', 'graphbas', 'convex', 'project', 'code', 'relish', 'reliabl', 'label', 'smooth', 'hypothesi', 'timecrit', 'influenc', 'timedelay', 'diffus', 'prego', 'action', 'beliefbas', 'robot', 'continu', 'domain', 'omniprop', 'seamless', 'node', 'arbitrari', 'correl', 'compress', 'distil', 'neuron', 'explor', 'mixedin', 'situat', 'instruct', 'landscap', 'conserv', 'synthet', 'realworld', 'dataset', 'topk', 'shortestpath', 'distanc', 'prune', 'landmark', 'block', 'coordin', 'descent', 'saddl', 'point', 'pacoptim', 'concurr', 'state', 'mdps', 'updat', 'nucleolus', 'cover', 'cliqu', 'perform', 'machin', 'procedur', 'crossclass', 'extensiveform', 'solv', 'reus', 'scale', 'verif', 'translat', 'free', 'incompat', 'strategyproof', 'choic', 'captur', 'semant', 'recommend', 'tag', 'cruis', 'batterypow', 'vehicl', 'get', 'strand', 'multinomi', 'dimens', 'deploy', 'paw', 'combat', 'poach', 'gametheoret', 'patrol', 'area', 'terrain', 'demonstr', 'graphwithoutcut', 'ideal', 'segment', 'recov', 'general', 'play', 'incompleteinform', 'chines', 'novel', 'cooper', 'solut', 'concept', 'stabil', 'multicomposit', 'pattern', 'crime', 'seri', 'finder', 'interest', 'photo', 'collect', 'contrast', 'estim', 'hard', 'nonparametr', 'behavior', 'laplacianbas', 'hub', 'unifi', 'variat', 'hierarch', 'graphcoupl', 'hmm', 'influenza', 'infect', 'choos', 'seller', 'emarketplac', 'pomdp', 'integr', 'codebook', 'intellig', 'urban', 'emerg', 'disast', 'nest', 'mont', 'carlo', 'twoplay', 'sketch', 'recognit', 'nameethn', 'ethnicitysensit', 'name', 'subselect', 'quantize', 'unsupervis', 'univers', 'leverag', 'preemptiv', 'strategi', 'overcom', 'forget', 'goal', 'experiment', 'mss', 'comss', 'partit', 'lowrank', 'structuredspars', 'streamlin', 'combinatori', 'storag', 'charg', 'share', 'singl', 'team', 'decis']),\n Row(venue_id=12, keywords=['emerg', 'event', 'detect', 'social', 'network', 'locat', 'sensit', 'advertis', 'click', 'predict', 'use', 'multipl', 'criteria', 'mathemat', 'program', 'holist', 'data', 'clean', 'put', 'violat', 'context', 'susi', 'search', 'servic', 'inform', 'extract', 'reduc', 'uncertainti', 'lowsamplingr', 'trajectori', 'generic', 'databas', 'benchmark', 'cloud', 'placement', 'via', 'subgraph', 'match', 'complex', 'pattern', 'structur', 'xseq', 'approach', 'tutori', 'stream', 'mine', 'applic', 'coldstart', 'expert', 'find', 'communiti', 'question', 'answer', 'graph', 'regular', 'machin', 'learn', 'metagenom', 'spot', 'fake', 'review', 'collect', 'positiveunlabel', 'semanticbas', 'recommend', 'across', 'heterogen', 'domain', 'cluster', 'incomplet', 'dataset', 'kernel', 'snoc', 'node', 'classif', 'hdminer', 'effici', 'high', 'dimension', 'frequent', 'close', 'dens', 'model', 'adopt', 'stage', 'diffus', 'innov', 'crossdomain', 'tag', 'matrix', 'transfer', 'heal', 'truncat', 'bias', 'selfweight', 'framework', 'dual', 'averag', 'infer', 'root', 'caus', 'road', 'traffic', 'anomali', 'geosoci', 'graphbas', 'etm', 'entiti', 'topic', 'document', 'associ', 'mli', 'api', 'distribut', 'discoveri', 'system', 'highvalu', 'home', 'toward', 'collus', 'fraud', 'onlin', 'classifi', 'without', 'discrimin', 'analysi', 'crime', 'suspect', 'enhanc', 'binari', 'multilevel', 'approxim', 'spectral', 'collabor', 'multidomain', 'sentiment', 'adapt', 'ensembl', 'test', 'instanc', 'freedom', 'activ', 'recognit', 'dictionarybas', 'spars', 'represent', 'rfid', 'sens', 'multisourc', 'trustworthi', 'featur', 'select', 'integr', 'relev', 'redund', 'optim', 'group', 'fuse', 'lasso', 'compon', 'identifi', 'groupspecif', 'dna', 'copi', 'number', 'variat', 'leverag', 'supervis', 'label', 'depend', 'propag', 'multilabel', 'progress', 'transit', 'dynam', 'autonom', 'control', 'coclusterd', 'coclust', 'sequenti', 'updat', 'discret', 'numer', 'attribut', 'decis', 'tree', 'big', 'nonlinear', 'causal', 'trace', 'method', 'algorithm', 'constrain', 'nonneg', 'factor']),\n Row(venue_id=11, keywords=['dbtouch', 'action', 'databas', 'kernel', 'touchbas', 'data', 'explor', 'effici', 'topk', 'keyword', 'search', 'graph', 'polynomi', 'delay', 'smas', 'smart', 'meter', 'analyt', 'system', 'adapt', 'radix', 'tree', 'art', 'index', 'mainmemori', 'profil', 'mine', 'rdf', 'prolod', 'fast', 'estim', 'result', 'accuraci', 'big', 'earl', 'toward', 'preferenceawar', 'relat', 'datadriven', 'crowdsourc', 'manag', 'applic', 'coupl', 'cluster', 'ensembl', 'incorpor', 'relationship', 'base', 'object', 'dynam', 'physiolog', 'partit', 'sharednoth', 'process', 'notifi', 'rang', 'subscript', 'map', 'clean', 'stop', 'underutil', 'love', 'multicor', 'diversifi', 'cliqu', 'differenti', 'privat', 'histogram', 'public', 'similar', 'encrypt', 'parametr', 'plan', 'cach', 'use', 'densitybas', 'acceler', 'queri', 'brain', 'simul', 'interact', 'spatial', 'learn', 'rank', 'distant', 'supervis', 'exploit', 'noisi', 'redund', 'entiti', 'affin', 'statist', 'measur', 'timeseri', 'high', 'perform', 'tempor', 'modern', 'hardwar', 'real', 'time', 'person', 'social', 'network', 'controvol', 'framework', 'control', 'schema', 'evolut', 'nosql', 'develop', 'grow', 'charg', 'station', 'electr', 'vehicl', 'trajectori', 'monitor', 'pair', 'slide', 'window', 'massjoin', 'mapreducebas', 'method', 'scalabl', 'string', 'join', 'guarante', 'authent', 'integr', 'untrust', 'server', 'automat', 'design', 'coclust', 'tabl', 'wast', 'coprocess', 'generat', 'read', 'order', 'document', 'collect', 'finegrain', 'controversi', 'detect', 'wikipedia', 'privaci', 'riski', 'futur', 'scientif', 'probabilist', 'edg', 'decay', 'parameterfre', 'determin', 'distanc', 'threshold', 'metric', 'constraint', 'synthet', 'evalu', 'interv', 'revers', 'nearest', 'neighbor', 'uncertain', 'markov', 'correl', 'safest', 'path', 'via', 'safe', 'zone', 'decomposit', 'pagrol', 'parallel', 'olap', 'largescal', 'attribut', 'build', 'larg', 'xml', 'store', 'amazon', 'cloud', 'discoveri', 'gather', 'pattern', 'svdbase', 'multimod', 'event', 'configur', 'hardwarebas', 'stream', 'architectur', 'onlin', 'programmableblock', 'curracurrong', 'algorithm', 'mapreduc', 'ontologybas', 'subgraph', 'visual', 'support', 'enjoy', 'frdm', 'play', 'schemaflex', 'rdbms', 'head', 'modifi', 'short', 'text', 'ask', 'right', 'question', 'crowd', 'sourc', 'extract', 'structur', 'web', 'domain', 'knowledg', 'relev', 'matter', 'capit', 'less', 'match', 'publishsubscrib', 'score', 'approach', 'practic', 'locat', 'break', 'mismatch', 'trap', 'slca', 'elca', 'comput', 'set', 'intersect', 'infer', 'currenc', 'consist', 'conflict', 'resolut', 'motif', 'gpu', 'unifi', 'model', 'stabl', 'topic', 'media', 'icoda', 'exploratori', 'complet', 'analysi', 'octopus', 'execut', 'mesh', 'dataset', 'hope', 'iter', 'oltp', 'workload', 'stratif', 'driven', 'placement', 'complex', 'distribut', 'applicationmanag', 'replic', 'virtual', 'environ', 'dbms', 'storag', 'multiconstrain', 'contextu', 'travel', 'petra', 'rome', 'case', 'keyvalu', 'hierarch', 'egocentr', 'census', 'find', 'interest', 'condit', 'heavi', 'hitter', 'demonstr', 'taghre', 'analyz', 'geotag', 'microblog', 'transact', 'across', 'heterogen', 'payasyougo', 'reconcili', 'predict', 'road', 'multiway', 'discount', 'hit', 'spatiotempor', 'term', 'schemaless']),\n Row(venue_id=2, keywords=['make', 'pattern', 'queri', 'bound', 'big', 'graph', 'scalabl', 'serializ', 'snapshot', 'isol', 'multicor', 'system', 'pie', 'approxim', 'interleav', 'event', 'match', 'sequenc', 'warp', 'workloadawar', 'replic', 'partit', 'rdf', 'discrimin', 'featur', 'identifi', 'interpret', 'outlier', 'effect', 'data', 'densiti', 'estim', 'ringbas', 'network', 'enumer', 'subgraph', 'instanc', 'use', 'mapreduc', 'text', 'cluster', 'side', 'inform', 'graphbas', 'tripl', 'store', 'exploit', 'group', 'recommend', 'function', 'flexibl', 'prefer', 'materi', 'view', 'eventu', 'consist', 'record', 'era', 'spatial', 'pop', 'passengerori', 'partner', 'memoryeffici', 'algorithm', 'physic', 'independ', 'stream', 'merg', 'effici', 'distanceawar', 'evalu', 'indoor', 'move', 'object', 'hierarch', 'innetwork', 'attribut', 'compress', 'via', 'import', 'sampl', 'evolv', 'architectur', 'sql', 'server', 'modern', 'hardwar', 'trend', 'person', 'user', 'valu', 'model', 'applic', 'appearanceorderbas', 'schema', 'composit', 'contextawar', 'multirol', 'affili', 'general', 'profil', 'challeng', 'dataset', 'search', 'studi', 'space', 'reclam', 'flashbas', 'appendon', 'storag', 'manag', 'sparql', 'automat', 'correl', 'uncertain', 'cach', 'result', 'probabilist', 'approach', 'identif', 'social', 'media', 'rss', 'feed', 'tof', 'throughput', 'orient', 'framework', 'process', 'environ', 'context', 'sensit', 'tag', 'expans', 'infer', 'passeng', 'assign', 'transport', 'integr', 'opinion', 'leader', 'dynam', 'label', 'propag', 'kconsist', 'influenc', 'aggreg', 'heterogen', 'maxim', 'weight', 'cascad', 'assist', 'restaur', 'interestingnessdriven', 'diffus', 'summar', 'inhomogen', 'parsimoni', 'markov', 'crossdomain', 'analog', 'hyperparamet', 'prune', 'new', 'compon', 'sequenti', 'modelbas', 'optim', 'combin', 'subject', 'probabl', 'train', 'logic', 'nonneg', 'matrix', 'factor', 'blockwis', 'updat', 'ageingbas', 'multinomi', 'naiv', 'bay', 'classifi', 'pitfal', 'benchmark', 'classif', 'avoid', 'plan', 'discret', 'continu', 'decis', 'program', 'learn', 'detect', 'crime', 'semisupervis', 'unsupervis', 'atlas', 'extens', 'rocchio', 'method', 'multimod', 'categor', 'document', 'generat', 'bayesian', 'item', 'rate', 'trust', 'relationship', 'toward', 'devicelevel', 'energi', 'consumpt', 'real', 'time', 'track', 'rank', 'base', 'fuzzi', 'order', 'relat', 'neighborhood', 'metric', 'hypothesi', 'test', 'machin'])]"
     },
     "execution_count": 238,
     "metadata": {},
     "output_type": "execute_result"
    }
   ],
   "source": [
    "df_node_venue_keywords = (\n",
    "    df_edges_published_in.select(\n",
    "        F.col('src').alias('paper_id'),\n",
    "        F.col('dst').alias('venue_id'),\n",
    "    ).join(\n",
    "        df_kw_doc,\n",
    "        F.col('paper_id') == F.col('id'),\n",
    "        'left'\n",
    "    ).groupby('venue_id').agg(\n",
    "        F.collect_list('keywords').alias('keywords')\n",
    "    ).withColumn('keywords', F.array_distinct(F.flatten('keywords')))\n",
    ")\n",
    "df_node_venue_keywords.head(5)"
   ],
   "metadata": {
    "collapsed": false,
    "pycharm": {
     "name": "#%%\n"
    }
   }
  },
  {
   "cell_type": "code",
   "execution_count": 239,
   "outputs": [
    {
     "data": {
      "text/plain": "[Row(venue_id=8, feat_learn=True, feat_model=True, feat_data=True, feat_network=True, feat_use=True, feat_detect=True, feat_imag=True, feat_optim=True, feat_via=True, feat_social=True, feat_graph=True, feat_effici=True, feat_cluster=True, feat_classif=True, feat_predict=True, feat_search=True, feat_base=True, feat_analysi=True, feat_queri=True, feat_algorithm=True, feat_featur=True, feat_approach=True, feat_estim=True, feat_structur=True, feat_mine=True, feat_spars=True, feat_onlin=True, feat_inform=True, feat_object=True, feat_select=True, feat_process=True, feat_recommend=True, feat_multipl=True, feat_infer=True, feat_system=True, feat_deep=True, feat_represent=True, feat_robust=True, feat_pattern=True, feat_recognit=True, feat_fast=True, feat_local=True, feat_activ=True, feat_adapt=True, feat_bayesian=True, feat_rank=True, feat_applic=True, feat_dynam=True, feat_kernel=False, feat_distribut=True, feat_factor=True, feat_label=True, feat_topic=True, feat_probabilist=True, feat_matrix=True, feat_framework=True, feat_match=True, feat_approxim=True, feat_method=True, feat_semant=True, feat_stream=True, feat_general=True, feat_user=True, feat_visual=True, feat_retriev=True, feat_neural=True, feat_video=True, feat_segment=True, feat_stochast=True, feat_plan=True, feat_linear=True, feat_time=True, feat_sampl=True, feat_regular=False, feat_comput=True, feat_problem=True, feat_scalabl=True, feat_relat=True, feat_hierarch=False, feat_regress=True),\n Row(venue_id=4, feat_learn=True, feat_model=True, feat_data=True, feat_network=True, feat_use=True, feat_detect=True, feat_imag=True, feat_optim=True, feat_via=True, feat_social=True, feat_graph=True, feat_effici=True, feat_cluster=True, feat_classif=True, feat_predict=True, feat_search=True, feat_base=True, feat_analysi=True, feat_queri=True, feat_algorithm=True, feat_featur=True, feat_approach=True, feat_estim=True, feat_structur=True, feat_mine=True, feat_spars=True, feat_onlin=True, feat_inform=True, feat_object=True, feat_select=True, feat_process=True, feat_recommend=True, feat_multipl=True, feat_infer=True, feat_system=True, feat_deep=True, feat_represent=True, feat_robust=True, feat_pattern=True, feat_recognit=True, feat_fast=False, feat_local=True, feat_activ=True, feat_adapt=True, feat_bayesian=True, feat_rank=True, feat_applic=True, feat_dynam=True, feat_kernel=True, feat_distribut=True, feat_factor=False, feat_label=True, feat_topic=True, feat_probabilist=True, feat_matrix=False, feat_framework=True, feat_match=True, feat_approxim=True, feat_method=True, feat_semant=True, feat_stream=True, feat_general=True, feat_user=True, feat_visual=False, feat_retriev=True, feat_neural=True, feat_video=True, feat_segment=True, feat_stochast=True, feat_plan=True, feat_linear=True, feat_time=False, feat_sampl=True, feat_regular=False, feat_comput=True, feat_problem=True, feat_scalabl=True, feat_relat=True, feat_hierarch=True, feat_regress=False),\n Row(venue_id=12, feat_learn=True, feat_model=True, feat_data=True, feat_network=True, feat_use=True, feat_detect=True, feat_imag=False, feat_optim=True, feat_via=True, feat_social=True, feat_graph=True, feat_effici=True, feat_cluster=True, feat_classif=True, feat_predict=True, feat_search=True, feat_base=False, feat_analysi=True, feat_queri=False, feat_algorithm=True, feat_featur=True, feat_approach=True, feat_estim=False, feat_structur=True, feat_mine=True, feat_spars=True, feat_onlin=True, feat_inform=True, feat_object=False, feat_select=True, feat_process=False, feat_recommend=True, feat_multipl=True, feat_infer=True, feat_system=True, feat_deep=False, feat_represent=True, feat_robust=False, feat_pattern=True, feat_recognit=True, feat_fast=False, feat_local=False, feat_activ=True, feat_adapt=True, feat_bayesian=False, feat_rank=False, feat_applic=True, feat_dynam=True, feat_kernel=True, feat_distribut=True, feat_factor=True, feat_label=True, feat_topic=True, feat_probabilist=False, feat_matrix=True, feat_framework=True, feat_match=True, feat_approxim=True, feat_method=True, feat_semant=False, feat_stream=True, feat_general=False, feat_user=False, feat_visual=False, feat_retriev=False, feat_neural=False, feat_video=False, feat_segment=False, feat_stochast=False, feat_plan=False, feat_linear=False, feat_time=False, feat_sampl=False, feat_regular=True, feat_comput=False, feat_problem=False, feat_scalabl=False, feat_relat=False, feat_hierarch=False, feat_regress=False),\n Row(venue_id=11, feat_learn=True, feat_model=True, feat_data=True, feat_network=True, feat_use=True, feat_detect=True, feat_imag=False, feat_optim=False, feat_via=True, feat_social=True, feat_graph=True, feat_effici=True, feat_cluster=True, feat_classif=False, feat_predict=True, feat_search=True, feat_base=True, feat_analysi=True, feat_queri=True, feat_algorithm=True, feat_featur=False, feat_approach=True, feat_estim=True, feat_structur=True, feat_mine=True, feat_spars=False, feat_onlin=True, feat_inform=False, feat_object=True, feat_select=False, feat_process=True, feat_recommend=False, feat_multipl=False, feat_infer=True, feat_system=True, feat_deep=False, feat_represent=False, feat_robust=False, feat_pattern=True, feat_recognit=False, feat_fast=True, feat_local=False, feat_activ=False, feat_adapt=True, feat_bayesian=False, feat_rank=True, feat_applic=True, feat_dynam=True, feat_kernel=True, feat_distribut=True, feat_factor=False, feat_label=False, feat_topic=True, feat_probabilist=True, feat_matrix=False, feat_framework=True, feat_match=True, feat_approxim=False, feat_method=True, feat_semant=False, feat_stream=True, feat_general=False, feat_user=False, feat_visual=True, feat_retriev=False, feat_neural=False, feat_video=False, feat_segment=False, feat_stochast=False, feat_plan=True, feat_linear=False, feat_time=True, feat_sampl=False, feat_regular=False, feat_comput=True, feat_problem=False, feat_scalabl=True, feat_relat=True, feat_hierarch=True, feat_regress=False),\n Row(venue_id=2, feat_learn=True, feat_model=True, feat_data=True, feat_network=True, feat_use=True, feat_detect=True, feat_imag=False, feat_optim=True, feat_via=True, feat_social=True, feat_graph=True, feat_effici=True, feat_cluster=True, feat_classif=True, feat_predict=False, feat_search=True, feat_base=True, feat_analysi=False, feat_queri=True, feat_algorithm=True, feat_featur=True, feat_approach=True, feat_estim=True, feat_structur=False, feat_mine=False, feat_spars=False, feat_onlin=False, feat_inform=True, feat_object=True, feat_select=False, feat_process=True, feat_recommend=True, feat_multipl=False, feat_infer=True, feat_system=True, feat_deep=False, feat_represent=False, feat_robust=False, feat_pattern=True, feat_recognit=False, feat_fast=False, feat_local=False, feat_activ=False, feat_adapt=False, feat_bayesian=True, feat_rank=True, feat_applic=True, feat_dynam=True, feat_kernel=False, feat_distribut=False, feat_factor=True, feat_label=True, feat_topic=False, feat_probabilist=True, feat_matrix=True, feat_framework=True, feat_match=True, feat_approxim=True, feat_method=True, feat_semant=False, feat_stream=True, feat_general=True, feat_user=True, feat_visual=False, feat_retriev=False, feat_neural=False, feat_video=False, feat_segment=False, feat_stochast=False, feat_plan=True, feat_linear=False, feat_time=True, feat_sampl=True, feat_regular=False, feat_comput=False, feat_problem=False, feat_scalabl=True, feat_relat=True, feat_hierarch=True, feat_regress=False)]"
     },
     "execution_count": 239,
     "metadata": {},
     "output_type": "execute_result"
    }
   ],
   "source": [
    "df_node_venue_feats = (\n",
    "    df_node_venue_keywords.select(['venue_id'] + [\n",
    "        F.array_contains('keywords', F.lit(k)).alias('feat_' + str(k))\n",
    "        for k in top_keywords\n",
    "    ])\n",
    ")\n",
    "df_node_venue_feats.head(5)"
   ],
   "metadata": {
    "collapsed": false,
    "pycharm": {
     "name": "#%%\n"
    }
   }
  },
  {
   "cell_type": "code",
   "execution_count": 240,
   "outputs": [
    {
     "data": {
      "text/plain": "[Row(name='aaai', id=0, feat_learn=True, feat_model=True, feat_data=True, feat_network=True, feat_use=True, feat_detect=True, feat_imag=True, feat_optim=True, feat_via=True, feat_social=True, feat_graph=True, feat_effici=True, feat_cluster=True, feat_classif=True, feat_predict=True, feat_search=True, feat_base=True, feat_analysi=True, feat_queri=True, feat_algorithm=True, feat_featur=True, feat_approach=True, feat_estim=True, feat_structur=True, feat_mine=True, feat_spars=True, feat_onlin=True, feat_inform=True, feat_object=True, feat_select=True, feat_process=True, feat_recommend=True, feat_multipl=True, feat_infer=True, feat_system=True, feat_deep=True, feat_represent=True, feat_robust=True, feat_pattern=True, feat_recognit=True, feat_fast=True, feat_local=True, feat_activ=True, feat_adapt=True, feat_bayesian=True, feat_rank=True, feat_applic=True, feat_dynam=True, feat_kernel=True, feat_distribut=True, feat_factor=True, feat_label=True, feat_topic=True, feat_probabilist=True, feat_matrix=True, feat_framework=True, feat_match=True, feat_approxim=True, feat_method=True, feat_semant=True, feat_stream=True, feat_general=True, feat_user=True, feat_visual=True, feat_retriev=True, feat_neural=True, feat_video=True, feat_segment=True, feat_stochast=True, feat_plan=True, feat_linear=True, feat_time=True, feat_sampl=True, feat_regular=True, feat_comput=True, feat_problem=True, feat_scalabl=True, feat_relat=True, feat_hierarch=True, feat_regress=True, cids=[0]),\n Row(name='cvpr', id=1, feat_learn=True, feat_model=True, feat_data=True, feat_network=True, feat_use=True, feat_detect=True, feat_imag=True, feat_optim=True, feat_via=True, feat_social=True, feat_graph=True, feat_effici=True, feat_cluster=True, feat_classif=True, feat_predict=True, feat_search=True, feat_base=True, feat_analysi=True, feat_queri=True, feat_algorithm=True, feat_featur=True, feat_approach=True, feat_estim=True, feat_structur=True, feat_mine=True, feat_spars=True, feat_onlin=True, feat_inform=True, feat_object=True, feat_select=True, feat_process=True, feat_recommend=True, feat_multipl=True, feat_infer=True, feat_system=True, feat_deep=True, feat_represent=True, feat_robust=True, feat_pattern=True, feat_recognit=True, feat_fast=True, feat_local=True, feat_activ=True, feat_adapt=True, feat_bayesian=True, feat_rank=True, feat_applic=True, feat_dynam=True, feat_kernel=True, feat_distribut=True, feat_factor=True, feat_label=True, feat_topic=True, feat_probabilist=True, feat_matrix=True, feat_framework=True, feat_match=True, feat_approxim=True, feat_method=True, feat_semant=True, feat_stream=True, feat_general=True, feat_user=True, feat_visual=True, feat_retriev=True, feat_neural=True, feat_video=False, feat_segment=True, feat_stochast=True, feat_plan=True, feat_linear=True, feat_time=True, feat_sampl=True, feat_regular=True, feat_comput=True, feat_problem=True, feat_scalabl=True, feat_relat=True, feat_hierarch=True, feat_regress=True, cids=[1]),\n Row(name='dasfaa', id=2, feat_learn=True, feat_model=True, feat_data=True, feat_network=True, feat_use=True, feat_detect=True, feat_imag=False, feat_optim=True, feat_via=True, feat_social=True, feat_graph=True, feat_effici=True, feat_cluster=True, feat_classif=True, feat_predict=False, feat_search=True, feat_base=True, feat_analysi=False, feat_queri=True, feat_algorithm=True, feat_featur=True, feat_approach=True, feat_estim=True, feat_structur=False, feat_mine=False, feat_spars=False, feat_onlin=False, feat_inform=True, feat_object=True, feat_select=False, feat_process=True, feat_recommend=True, feat_multipl=False, feat_infer=True, feat_system=True, feat_deep=False, feat_represent=False, feat_robust=False, feat_pattern=True, feat_recognit=False, feat_fast=False, feat_local=False, feat_activ=False, feat_adapt=False, feat_bayesian=True, feat_rank=True, feat_applic=True, feat_dynam=True, feat_kernel=False, feat_distribut=False, feat_factor=True, feat_label=True, feat_topic=False, feat_probabilist=True, feat_matrix=True, feat_framework=True, feat_match=True, feat_approxim=True, feat_method=True, feat_semant=False, feat_stream=True, feat_general=True, feat_user=True, feat_visual=False, feat_retriev=False, feat_neural=False, feat_video=False, feat_segment=False, feat_stochast=False, feat_plan=True, feat_linear=False, feat_time=True, feat_sampl=True, feat_regular=False, feat_comput=False, feat_problem=False, feat_scalabl=True, feat_relat=True, feat_hierarch=True, feat_regress=False, cids=[2]),\n Row(name='ecir', id=3, feat_learn=False, feat_model=False, feat_data=False, feat_network=False, feat_use=False, feat_detect=False, feat_imag=False, feat_optim=False, feat_via=False, feat_social=False, feat_graph=False, feat_effici=False, feat_cluster=False, feat_classif=False, feat_predict=False, feat_search=False, feat_base=False, feat_analysi=False, feat_queri=False, feat_algorithm=False, feat_featur=False, feat_approach=False, feat_estim=False, feat_structur=False, feat_mine=False, feat_spars=False, feat_onlin=False, feat_inform=False, feat_object=False, feat_select=False, feat_process=False, feat_recommend=False, feat_multipl=False, feat_infer=False, feat_system=False, feat_deep=False, feat_represent=False, feat_robust=False, feat_pattern=False, feat_recognit=False, feat_fast=False, feat_local=False, feat_activ=False, feat_adapt=False, feat_bayesian=False, feat_rank=False, feat_applic=False, feat_dynam=False, feat_kernel=False, feat_distribut=False, feat_factor=False, feat_label=False, feat_topic=False, feat_probabilist=False, feat_matrix=False, feat_framework=False, feat_match=False, feat_approxim=False, feat_method=False, feat_semant=False, feat_stream=False, feat_general=False, feat_user=False, feat_visual=False, feat_retriev=False, feat_neural=False, feat_video=False, feat_segment=False, feat_stochast=False, feat_plan=False, feat_linear=False, feat_time=False, feat_sampl=False, feat_regular=False, feat_comput=False, feat_problem=False, feat_scalabl=False, feat_relat=False, feat_hierarch=False, feat_regress=False, cids=[3]),\n Row(name='icde', id=4, feat_learn=True, feat_model=True, feat_data=True, feat_network=True, feat_use=True, feat_detect=True, feat_imag=True, feat_optim=True, feat_via=True, feat_social=True, feat_graph=True, feat_effici=True, feat_cluster=True, feat_classif=True, feat_predict=True, feat_search=True, feat_base=True, feat_analysi=True, feat_queri=True, feat_algorithm=True, feat_featur=True, feat_approach=True, feat_estim=True, feat_structur=True, feat_mine=True, feat_spars=True, feat_onlin=True, feat_inform=True, feat_object=True, feat_select=True, feat_process=True, feat_recommend=True, feat_multipl=True, feat_infer=True, feat_system=True, feat_deep=True, feat_represent=True, feat_robust=True, feat_pattern=True, feat_recognit=True, feat_fast=False, feat_local=True, feat_activ=True, feat_adapt=True, feat_bayesian=True, feat_rank=True, feat_applic=True, feat_dynam=True, feat_kernel=True, feat_distribut=True, feat_factor=False, feat_label=True, feat_topic=True, feat_probabilist=True, feat_matrix=False, feat_framework=True, feat_match=True, feat_approxim=True, feat_method=True, feat_semant=True, feat_stream=True, feat_general=True, feat_user=True, feat_visual=False, feat_retriev=True, feat_neural=True, feat_video=True, feat_segment=True, feat_stochast=True, feat_plan=True, feat_linear=True, feat_time=False, feat_sampl=True, feat_regular=False, feat_comput=True, feat_problem=True, feat_scalabl=True, feat_relat=True, feat_hierarch=True, feat_regress=False, cids=[4])]"
     },
     "execution_count": 240,
     "metadata": {},
     "output_type": "execute_result"
    }
   ],
   "source": [
    "df_nodes_venues = (\n",
    "    df_raw_nodes_venues\n",
    "        .join(df_node_venue_feats, F.col('id') == F.col('venue_id'), 'left')\n",
    "        .join(df_comm_nodes_venues.withColumnRenamed('id', 'comm__id'), F.col('id') == F.col('comm__id'), 'left')\n",
    "        .drop('venue_id', 'comm__id')\n",
    "        .sort('id')\n",
    ")\n",
    "\n",
    "df_nodes_venues.head(5)"
   ],
   "metadata": {
    "collapsed": false,
    "pycharm": {
     "name": "#%%\n"
    }
   }
  },
  {
   "cell_type": "code",
   "execution_count": 241,
   "outputs": [
    {
     "name": "stdout",
     "output_type": "stream",
     "text": [
      "+--------------------+--------------------+-----+----+--------------------+--------------+---+----+\n",
      "|                name|             authors|venue|year|            abstract|timestamp_from| id|cids|\n",
      "+--------------------+--------------------+-----+----+--------------------+--------------+---+----+\n",
      "|Distributed Submo...|[Baharan Mirzasol...| nips|2013|Many large-scale ...|          2013|  0| [8]|\n",
      "|EDML for Learning...|[Khaled S. Refaat...| nips|2013|EDML is a recentl...|          2013|  1| [8]|\n",
      "|Bayesian inferenc...|[Mijung Park, Jon...| nips|2013|The receptive fie...|          2013|  2| [8]|\n",
      "|On crowdsensed da...|[Saket Sathe, Tim...| icde|2015|Crowdsensing appl...|          2015|  3| [4]|\n",
      "|Fast and Memory O...|[Se-Young Yun, Ma...| nips|2015|In this paper, we...|          2015|  4| [8]|\n",
      "+--------------------+--------------------+-----+----+--------------------+--------------+---+----+\n",
      "only showing top 5 rows\n",
      "\n"
     ]
    }
   ],
   "source": [
    "df_nodes_papers = (\n",
    "    df_raw_nodes_papers\n",
    "        .join(df_comm_nodes_papers.withColumnRenamed('id', 'comm__id'), F.col('id') == F.col('comm__id'), 'left')\n",
    "        .drop('comm__id', 'pub_id')\n",
    "        .sort('id')\n",
    ")\n",
    "df_nodes_papers.show(5)"
   ],
   "metadata": {
    "collapsed": false,
    "pycharm": {
     "name": "#%%\n"
    }
   }
  },
  {
   "cell_type": "markdown",
   "source": [
    "## Save data"
   ],
   "metadata": {
    "collapsed": false,
    "pycharm": {
     "name": "#%% md\n"
    }
   }
  },
  {
   "cell_type": "code",
   "execution_count": 242,
   "outputs": [],
   "source": [
    "df_nodes_authors.write.parquet(DS.processed_str('node__Author'), mode='overwrite')\n",
    "df_nodes_venues.write.parquet(DS.processed_str('node__Venue'), mode='overwrite')\n",
    "df_nodes_papers.write.parquet(DS.processed_str('node__Paper'), mode='overwrite')\n",
    "\n",
    "df_edges_authored.write.parquet(DS.processed_str('edge__Author_AUTHORED_Paper'), mode='overwrite')\n",
    "df_edges_published_in.write.parquet(DS.processed_str('edge__Paper_PUBLISHEDIN_Venue'), mode='overwrite')"
   ],
   "metadata": {
    "collapsed": false,
    "pycharm": {
     "name": "#%%\n"
    }
   }
  },
  {
   "cell_type": "code",
   "execution_count": 242,
   "outputs": [],
   "source": [],
   "metadata": {
    "collapsed": false,
    "pycharm": {
     "name": "#%%\n"
    }
   }
  }
 ],
 "metadata": {
  "kernelspec": {
   "display_name": "Python 3",
   "language": "python",
   "name": "python3"
  },
  "language_info": {
   "codemirror_mode": {
    "name": "ipython",
    "version": 2
   },
   "file_extension": ".py",
   "mimetype": "text/x-python",
   "name": "python",
   "nbconvert_exporter": "python",
   "pygments_lexer": "ipython2",
   "version": "2.7.6"
  }
 },
 "nbformat": 4,
 "nbformat_minor": 0
}